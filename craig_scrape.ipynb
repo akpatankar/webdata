{
 "metadata": {
  "name": ""
 },
 "nbformat": 3,
 "nbformat_minor": 0,
 "worksheets": [
  {
   "cells": [
    {
     "cell_type": "code",
     "collapsed": false,
     "input": [
      "import pandas as pd\n",
      "import numpy as np\n",
      "import pymongo\n",
      "from bs4 import BeautifulSoup\n",
      "import requests as r\n",
      "import re\n",
      "import pdb"
     ],
     "language": "python",
     "metadata": {},
     "outputs": [],
     "prompt_number": 11
    },
    {
     "cell_type": "code",
     "collapsed": false,
     "input": [
      "start_page = \"http://sfbay.craigslist.org/search/eby/apa?nh=54&sale_date=-\"\n",
      "#craig = r.get(start_page)\n",
      "next_page = \"http://sfbay.craigslist.org/search/eby/apa?s=100&nh=54&\"\n",
      "num_posts = [\"100\",\"200\",\"300\",\"400\"]\n",
      "all_pages = []\n",
      "all_pages.append(start_page)\n",
      "for post in num_posts:\n",
      "    next_u = next_page.replace(\"100\", post)\n",
      "    all_pages.append(next_u)"
     ],
     "language": "python",
     "metadata": {},
     "outputs": [],
     "prompt_number": 2
    },
    {
     "cell_type": "code",
     "collapsed": false,
     "input": [
      "all_pages"
     ],
     "language": "python",
     "metadata": {},
     "outputs": [
      {
       "metadata": {},
       "output_type": "pyout",
       "prompt_number": 3,
       "text": [
        "['http://sfbay.craigslist.org/search/eby/apa?nh=54&sale_date=-',\n",
        " 'http://sfbay.craigslist.org/search/eby/apa?s=100&nh=54&',\n",
        " 'http://sfbay.craigslist.org/search/eby/apa?s=200&nh=54&',\n",
        " 'http://sfbay.craigslist.org/search/eby/apa?s=300&nh=54&',\n",
        " 'http://sfbay.craigslist.org/search/eby/apa?s=400&nh=54&']"
       ]
      }
     ],
     "prompt_number": 3
    },
    {
     "cell_type": "code",
     "collapsed": false,
     "input": [
      "urls = []\n",
      "\n",
      "for page in all_pages:\n",
      "    craig = r.get(page)\n",
      "    craig.json\n",
      "    craig.content\n",
      "    soup = BeautifulSoup(craig.content)\n",
      "    for i in soup.find_all('a'):\n",
      "        print i\n",
      "        suburl = i.get('href').encode('utf-8')\n",
      "        urls.append(suburl)"
     ],
     "language": "python",
     "metadata": {},
     "outputs": [
      {
       "output_type": "stream",
       "stream": "stdout",
       "text": [
        "<a href=\"/\">SF bay area</a>\n",
        "<a href=\"/search/hhh\">housing</a>\n",
        "<a href=\"/search/apa\">apts/housing for rent</a>\n",
        "<a href=\"https://post.craigslist.org/c/sfo?lang=en\">post</a>\n",
        "<a href=\"https://accounts.craigslist.org/login/home\">account</a>\n",
        "<a class=\"favlink\" href=\"#\"><span class=\"n\">0</span> favorites</a>\n",
        "<a class=\"saveme\" href=\"https://accounts.craigslist.org/login?rt=L&amp;rp=%2Fsavesearch%2Falert%3FURL%3Dhttp%253A%252F%252Fsfbay%252Ecraigslist%252Eorg%252Fsearch%252Feby%252Fapa%253Fnh%253D54%2526sale%255Fdate%253D%252D\" title=\"save this search with email alerts\">alert</a>\n",
        "<a class=\"saveme\" href=\"https://accounts.craigslist.org/login?rt=L&amp;rp=%2Fsavesearch%2Fsave%3FURL%3Dhttp%253A%252F%252Fsfbay%252Ecraigslist%252Eorg%252Fsearch%252Feby%252Fapa%253Fnh%253D54%2526sale%255Fdate%253D%252D\" title=\"save this search\">save</a>\n",
        "<a class=\"category\" href=\"/search/eby/apa?nh=54&amp;sale_date=-\">apts/housing for rent</a>\n",
        "<a class=\"category\" href=\"/search/eby/rea?nh=54&amp;sale_date=-\">real estate for sale</a>\n",
        "<a class=\"category\" href=\"/search/eby/roo?nh=54&amp;sale_date=-\">rooms &amp; shares</a>\n",
        "<a class=\"category\" href=\"/search/eby/off?nh=54&amp;sale_date=-\">office &amp; commercial</a>\n",
        "<a class=\"category\" href=\"/search/eby/sha?nh=54&amp;sale_date=-\">room/share wanted</a>\n",
        "<a class=\"category\" href=\"/search/eby/hou?nh=54&amp;sale_date=-\">apts wanted</a>\n",
        "<a class=\"category\" href=\"/search/eby/prk?nh=54&amp;sale_date=-\">parking &amp; storage</a>\n",
        "<a class=\"category\" href=\"/search/eby/sub?nh=54&amp;sale_date=-\">sublets &amp; temporary</a>\n",
        "<a class=\"category\" href=\"/search/eby/rew?nh=54&amp;sale_date=-\">real estate wanted</a>\n",
        "<a class=\"category\" href=\"/search/eby/sbw?nh=54&amp;sale_date=-\">sublet/temp wanted</a>\n",
        "<a class=\"category\" href=\"/search/eby/swp?nh=54&amp;sale_date=-\">housing swap</a>\n",
        "<a class=\"category\" href=\"/search/eby/vac?nh=54&amp;sale_date=-\">vacation rentals</a>\n",
        "<a class=\"mode button\" data-view=\"list\" href=\"#list\" id=\"listview\" title=\"show results in a list\">list</a>\n",
        "<a class=\"mode button\" data-view=\"pic\" href=\"#pic\" id=\"picview\" title=\"show results in a list with thumbnail pictures\">thumb</a>\n",
        "<a class=\"mode button\" data-view=\"grid\" href=\"#grid\" id=\"gridview\" title=\"show results side-by-side with larger pictures\">gallery</a>\n",
        "<a class=\"mode button\" data-view=\"map\" href=\"#map\" id=\"mapview\" title=\"show results on a map\">map</a>\n",
        "<a class=\"button\" href=\"/search/eby/apa?sort=priceasc&amp;nh=54&amp;sale_date=-\" title=\"sort by price, lowest to highest\"><span class=\"pricesort\"><span class=\"pricesort\">$</span>$</span>$</a>\n",
        "<a class=\"button\" href=\"/search/eby/apa?sort=pricedsc&amp;nh=54&amp;sale_date=-\" title=\"sort by price, highest to lowest\">$<span class=\"pricesort\">$<span class=\"pricesort\">$</span></span></a>\n",
        "<a class=\"button next\" href=\"/search/eby/apa?s=100&amp;nh=54&amp;sale_date=-\" title=\"next page\"> next &gt; </a>\n",
        "<a class=\"i\" href=\"/eby/apa/4702884799.html\"></a>\n",
        "<a class=\"hdrlnk\" data-id=\"4702884799\" href=\"/eby/apa/4702884799.html\">2 Bd/2 Bath 5 min from fremont bart 8 month lease</a>\n",
        "<a class=\"i\" data-id=\"0:00b0b_jz5LEUSpH2s\" href=\"/eby/apa/4702856265.html\"></a>\n",
        "<a class=\"hdrlnk\" data-id=\"4702856265\" href=\"/eby/apa/4702856265.html\">A Unique Two Bedroom Layout! Very Open and Inviting!</a>\n",
        "<a class=\"i\" data-id=\"0:00I0I_q1cebQKNNO\" href=\"/eby/apa/4702853356.html\"></a>\n",
        "<a class=\"hdrlnk\" data-id=\"4702853356\" href=\"/eby/apa/4702853356.html\">A Must See! Fantastic Location! Beautiful One Bedroom Apt Home!</a>\n",
        "<a class=\"i\" data-id=\"0:00808_7G5m559BfNp\" href=\"/eby/apa/4702797605.html\"></a>\n",
        "<a class=\"hdrlnk\" data-id=\"4702797605\" href=\"/eby/apa/4702797605.html\">$1695/2BD - NEWLY REMODLED TWO BED TWONHOUSE </a>\n",
        "<a class=\"i\" data-id=\"0:00o0o_hc4DjhXrhan\" href=\"/eby/apa/4702739495.html\"></a>\n",
        "<a class=\"hdrlnk\" data-id=\"4702739495\" href=\"/eby/apa/4702739495.html\">Condo for rent near Fremont Bart</a>\n",
        "<a class=\"i\" data-id=\"0:00H0H_jKvIW33syH4\" href=\"/eby/apa/4702720069.html\"></a>\n",
        "<a class=\"hdrlnk\" data-id=\"4702720069\" href=\"/eby/apa/4702720069.html\">Perfect Apartment Home At The Perfect Affordable Price!</a>\n",
        "<a class=\"i\" data-id=\"0:00H0H_8GazhqnQFD8\" href=\"/eby/apa/4702709437.html\"></a>\n",
        "<a class=\"hdrlnk\" data-id=\"4702709437\" href=\"/eby/apa/4702709437.html\">Looking for quick access to BART and Shopping? Look no further!</a>\n",
        "<a class=\"i\" data-id=\"0:00L0L_HBqK7F6SRY\" href=\"/eby/apa/4702676259.html\"></a>\n",
        "<a class=\"hdrlnk\" data-id=\"4702676259\" href=\"/eby/apa/4702676259.html\">DESIGNER INTERIORS, SPACIOUS FLOOR PLANS AND AMAZING AMENITIES</a>\n",
        "<a class=\"i\" data-id=\"0:01212_ctbXaiN0E4i\" href=\"/eby/apa/4702646606.html\"></a>\n",
        "<a class=\"hdrlnk\" data-id=\"4702646606\" href=\"/eby/apa/4702646606.html\">Bright and open homes for you! Pet friendly!</a>\n",
        "<a class=\"i\" data-id=\"0:00r0r_6LQXQB4gYIk\" href=\"/eby/apa/4702686053.html\"></a>\n",
        "<a class=\"hdrlnk\" data-id=\"4702686053\" href=\"/eby/apa/4702686053.html\">BEAUTIFUL 1 BEDROOM AT QUIET NEIGHBORHOOD IN FREMONT! </a>\n",
        "<a class=\"i\" data-id=\"0:00404_5U4zNmRWo9B\" href=\"/eby/apa/4702678204.html\"></a>\n",
        "<a class=\"hdrlnk\" data-id=\"4702678204\" href=\"/eby/apa/4702678204.html\">~Hot summer days! Come home and jump in the pool~</a>\n",
        "<a class=\"i\" data-id=\"0:00505_3hZFcJL3BV1\" href=\"/eby/apa/4702677473.html\"></a>\n",
        "<a class=\"hdrlnk\" data-id=\"4702677473\" href=\"/eby/apa/4702677473.html\">ENJOY EXCLUSIVE RESIDENTS BENEFITS WHEN YOU LIVE AT SKYLARK!</a>\n",
        "<a class=\"i\" data-id=\"0:00L0L_gySDJAIIVtE\" href=\"/eby/apa/4702676456.html\"></a>\n",
        "<a class=\"hdrlnk\" data-id=\"4702676456\" href=\"/eby/apa/4702676456.html\">Fabulous apartment, walking distance to Lake Elizabeth</a>\n",
        "<a class=\"i\" data-id=\"0:00505_g3Hh3TgNe8Z\" href=\"/eby/apa/4702660987.html\"></a>\n",
        "<a class=\"hdrlnk\" data-id=\"4702660987\" href=\"/eby/apa/4702660987.html\">\u2666COME AND SEE WHAT YOU HAVE BEEN MISSING\u2666</a>\n",
        "<a class=\"i\" data-id=\"0:00x0x_e8foZYof15H\" href=\"/eby/apa/4702653922.html\"></a>\n",
        "<a class=\"hdrlnk\" data-id=\"4702653922\" href=\"/eby/apa/4702653922.html\">Enormous 2BD/2BA Just Steps Away From BART... Welcome Home</a>\n",
        "<a class=\"i\" data-id=\"0:00F0F_mYbBBvnFJc\" href=\"/eby/apa/4702626461.html\"></a>\n",
        "<a class=\"hdrlnk\" data-id=\"4702626461\" href=\"/eby/apa/4702626461.html\">Corner Apt w/ Vaulted Ceiling &amp; Skylight Bench, Laundry Inside &amp; More!</a>\n",
        "<a class=\"i\" data-id=\"0:00A0A_3dhBlhzITd\" href=\"/eby/apa/4702631745.html\"></a>\n",
        "<a class=\"hdrlnk\" data-id=\"4702631745\" href=\"/eby/apa/4702631745.html\">Waterstone@Fremont 735 1br</a>\n",
        "<a class=\"i\" data-id=\"0:00s0s_azYRDa4bKmb\" href=\"/eby/apa/4702628305.html\"></a>\n",
        "<a class=\"hdrlnk\" data-id=\"4702628305\" href=\"/eby/apa/4702628305.html\">A Great Place To Call Home..Waterstone@Fremont</a>\n",
        "<a class=\"i\" data-id=\"0:00R0R_d4qiDdJ8YcQ\" href=\"/eby/apa/4702635277.html\"></a>\n",
        "<a class=\"hdrlnk\" data-id=\"4702635277\" href=\"/eby/apa/4702635277.html\">Remodeled home for rent</a>\n",
        "<a class=\"i\" data-id=\"0:00B0B_ke7ZyOKPRtp\" href=\"/eby/apa/4702616279.html\"></a>\n",
        "<a class=\"hdrlnk\" data-id=\"4702616279\" href=\"/eby/apa/4702616279.html\">Save Gas Save Money... Walk to BART!</a>\n",
        "<a class=\"i\" href=\"/eby/apa/4696994845.html\"></a>\n",
        "<a class=\"hdrlnk\" data-id=\"4696994845\" href=\"/eby/apa/4696994845.html\">Rent/Sell: 4BD/2.5BR month to month Weibel Elementary School, Vineyard</a>\n",
        "<a class=\"i\" data-id=\"0:00z0z_4RRGiVJOn5L\" href=\"/eby/apa/4702598745.html\"></a>\n",
        "<a class=\"hdrlnk\" data-id=\"4702598745\" href=\"/eby/apa/4702598745.html\">\u263aFEEL THE WARMTH HERE AT RANCHO LUNA/SOL</a>\n",
        "<a class=\"i\" data-id=\"0:00m0m_6A6kBgJ7LnF\" href=\"/eby/apa/4702596426.html\"></a>\n",
        "<a class=\"hdrlnk\" data-id=\"4702596426\" href=\"/eby/apa/4702596426.html\">Adorable 1 Bedroom Available Immediately! Priced to Compete!</a>\n",
        "<a class=\"i\" data-id=\"0:00U0U_i3Vt6khvuRV\" href=\"/eby/apa/4702589618.html\"></a>\n",
        "<a class=\"hdrlnk\" data-id=\"4702589618\" href=\"/eby/apa/4702589618.html\">Central Air/Central Heat in this amazing one berdroom available soon!</a>\n",
        "<a class=\"i\" data-id=\"0:00707_5yO2sdvqADQ\" href=\"/eby/apa/4702589746.html\"></a>\n",
        "<a class=\"hdrlnk\" data-id=\"4702589746\" href=\"/eby/apa/4702589746.html\">GREAT 2 BEDROOM APARTMENT AVAILABLE SOON NEAR UC BART!</a>\n",
        "<a class=\"i\" data-id=\"0:00N0N_kpjyetNT7d\" href=\"/eby/apa/4702557589.html\"></a>\n",
        "<a class=\"hdrlnk\" data-id=\"4702557589\" href=\"/eby/apa/4702557589.html\">STYLISH INTERIORS IN A GREAT NEIGHBORHOOD!</a>\n",
        "<a class=\"i\" data-id=\"0:00K0K_f6eABAkF28F\" href=\"/eby/apa/4702517466.html\"></a>\n",
        "<a class=\"hdrlnk\" data-id=\"4702517466\" href=\"/eby/apa/4702517466.html\">View of the Creek, Gym &amp; Pools, Close to BART, Avail NOW!</a>\n",
        "<a class=\"i\" data-id=\"0:00707_9raZfXNTSUX\" href=\"/eby/apa/4702520495.html\"></a>\n",
        "<a class=\"hdrlnk\" data-id=\"4702520495\" href=\"/eby/apa/4702520495.html\">4 Bed 3.5 Bath Single Family House in Fremont Mission San Jose</a>\n",
        "<a class=\"i\" data-id=\"0:01414_iWtqVBaWgBC\" href=\"/eby/apa/4692849596.html\"></a>\n",
        "<a class=\"hdrlnk\" data-id=\"4692849596\" href=\"/eby/apa/4692849596.html\">FREE COMCAST CABLE w/ HBO</a>\n",
        "<a class=\"i\" data-id=\"0:00H0H_cPH9TARg0W0\" href=\"/eby/apa/4702476656.html\"></a>\n",
        "<a class=\"hdrlnk\" data-id=\"4702476656\" href=\"/eby/apa/4702476656.html\">Spacious, open, amazing floor plans! </a>\n",
        "<a class=\"i\" data-id=\"0:01212_6b4awnNx7hX\" href=\"/eby/apa/4702461758.html\"></a>\n",
        "<a class=\"hdrlnk\" data-id=\"4702461758\" href=\"/eby/apa/4702461758.html\">\u2666\u263aBRAND NEW EVERYTHING!\u2666\u263a</a>\n",
        "<a class=\"i\" data-id=\"0:00x0x_e8foZYof15H\" href=\"/eby/apa/4702455603.html\"></a>\n",
        "<a class=\"hdrlnk\" data-id=\"4702455603\" href=\"/eby/apa/4702455603.html\">Your New Home Awaits You In This Amazingly Spacious 2BD/2BA</a>\n",
        "<a class=\"i\" data-id=\"0:00B0B_3qYrlZYX79X\" href=\"/eby/apa/4702424488.html\"></a>\n",
        "<a class=\"hdrlnk\" data-id=\"4702424488\" href=\"/eby/apa/4702424488.html\">Awesome 2 bed/1 Bath! The Place To Live!</a>\n",
        "<a class=\"i\" data-id=\"0:00W0W_2BGlNG57C1D\" href=\"/eby/apa/4702435447.html\"></a>\n",
        "<a class=\"hdrlnk\" data-id=\"4702435447\" href=\"/eby/apa/4702435447.html\">3 Bd, 2 Bth single family home</a>\n",
        "<a class=\"i\" data-id=\"0:00W0W_2BGlNG57C1D\" href=\"/eby/apa/4691776058.html\"></a>\n",
        "<a class=\"hdrlnk\" data-id=\"4691776058\" href=\"/eby/apa/4691776058.html\">3 Bd, 2 Bth single family home</a>\n",
        "<a class=\"i\" data-id=\"0:00i0i_gCsIOWy3RD8\" href=\"/eby/apa/4675852525.html\"></a>\n",
        "<a class=\"hdrlnk\" data-id=\"4675852525\" href=\"/eby/apa/4675852525.html\">Newly Built 4 Bed/3.5 Bath Single Home in Fremont Irvington</a>\n",
        "<a class=\"i\" data-id=\"0:00202_abh9Wp7pBJh\" href=\"/eby/apa/4702433357.html\"></a>\n",
        "<a class=\"hdrlnk\" data-id=\"4702433357\" href=\"/eby/apa/4702433357.html\">Fremont Mission District 4BD 1750 sqft | Mission SJ HS District</a>\n",
        "<a class=\"i\" data-id=\"0:00W0W_3BjvJMcb4zu\" href=\"/eby/apa/4702405323.html\"></a>\n",
        "<a class=\"hdrlnk\" data-id=\"4702405323\" href=\"/eby/apa/4702405323.html\">Lots of windows and 2 private balconies! Move in Ready!</a>\n",
        "<a class=\"i\" data-id=\"0:00I0I_67AKdyT04mh\" href=\"/eby/apa/4702402899.html\"></a>\n",
        "<a class=\"hdrlnk\" data-id=\"4702402899\" href=\"/eby/apa/4702402899.html\">\u25d8CLOSE AND CONVENIENT FOR YOUR LIFESTYLE\u25d8</a>\n",
        "<a class=\"i\" data-id=\"0:00O0O_aRethEr83Lb\" href=\"/eby/apa/4702401701.html\"></a>\n",
        "<a class=\"hdrlnk\" data-id=\"4702401701\" href=\"/eby/apa/4702401701.html\">Enriched Lifestyle, Heated Pool, Sauna, Pets Welcome</a>\n",
        "<a class=\"i\" data-id=\"0:00505_6297xq4c4kY\" href=\"/eby/apa/4702337301.html\"></a>\n",
        "<a class=\"hdrlnk\" data-id=\"4702337301\" href=\"/eby/apa/4702337301.html\">PARK-LIKE LANDSCAPING, POOL, SPA, FITNESS CENTER </a>\n",
        "<a class=\"i\" data-id=\"0:01313_h0nkGFv1wIh\" href=\"/eby/apa/4702316336.html\"></a>\n",
        "<a class=\"hdrlnk\" data-id=\"4702316336\" href=\"/eby/apa/4702316336.html\">\u2666A CATCH! COME TOUR TODAY \u2666</a>\n",
        "<a class=\"i\" data-id=\"0:00404_9TmUthvxMyY\" href=\"/eby/apa/4702219270.html\"></a>\n",
        "<a class=\"hdrlnk\" data-id=\"4702219270\" href=\"/eby/apa/4702219270.html\">Enjoy the hot weather with a Sparking POOL!</a>\n",
        "<a class=\"i\" data-id=\"0:00x0x_d56IuCnzBIA\" href=\"/eby/apa/4694923813.html\"></a>\n",
        "<a class=\"hdrlnk\" data-id=\"4694923813\" href=\"/eby/apa/4694923813.html\">Perfect Shape Single Family Home In North Fremont</a>\n",
        "<a class=\"i\" data-id=\"0:00x0x_e8foZYof15H\" href=\"/eby/apa/4702284425.html\"></a>\n",
        "<a class=\"hdrlnk\" data-id=\"4702284425\" href=\"/eby/apa/4702284425.html\">Newly Renovated 2BD/2BA Unit-Walk To BART &amp; Amenities - 2 Weeks Free </a>\n",
        "<a class=\"i\" data-id=\"0:00f0f_2C17sC2Iblw\" href=\"/eby/apa/4702273387.html\"></a>\n",
        "<a class=\"hdrlnk\" data-id=\"4702273387\" href=\"/eby/apa/4702273387.html\">Energy-saving Kitchens with Built-in Microwaves</a>\n",
        "<a class=\"i\" data-id=\"0:00N0N_kpjyetNT7d\" href=\"/eby/apa/4702280447.html\"></a>\n",
        "<a class=\"hdrlnk\" data-id=\"4702280447\" href=\"/eby/apa/4702280447.html\">GORGEOUS,TOP FLOOR APARTMENT,VISIT AMBER COURT TODAY! </a>\n",
        "<a class=\"i\" data-id=\"0:00Q0Q_lA9Mh5UqpX3\" href=\"/eby/apa/4693357033.html\"></a>\n",
        "<a class=\"hdrlnk\" data-id=\"4693357033\" href=\"/eby/apa/4693357033.html\">2 Bedroom 1 Bath - Newly Renovated</a>\n",
        "<a class=\"i\" data-id=\"0:00D0D_99I6p03WUwN\" href=\"/eby/apa/4697859201.html\"></a>\n",
        "<a class=\"hdrlnk\" data-id=\"4697859201\" href=\"/eby/apa/4697859201.html\">Lovely Mission Area Home!</a>\n",
        "<a class=\"i\" data-id=\"0:00808_gjkOAgTZxot\" href=\"/eby/apa/4702149421.html\"></a>\n",
        "<a class=\"hdrlnk\" data-id=\"4702149421\" href=\"/eby/apa/4702149421.html\">Move in this week! Large two bedroom with parking!</a>\n",
        "<a class=\"i\" data-id=\"0:00606_eQ06Uy8iHuD\" href=\"/eby/apa/4702241013.html\"></a>\n",
        "<a class=\"hdrlnk\" data-id=\"4702241013\" href=\"/eby/apa/4702241013.html\">Commuting? Amazing apartment home near Fremont Bart!</a>\n",
        "<a class=\"i\" data-id=\"0:00m0m_bZfpVrQ21sQ\" href=\"/eby/apa/4702225142.html\"></a>\n",
        "<a class=\"hdrlnk\" data-id=\"4702225142\" href=\"/eby/apa/4702225142.html\">\u25ba \u25ba\u25baOPEN HOUSE in Newark - Elegant Single Family Home</a>\n",
        "<a class=\"i\" data-id=\"0:01717_97gVXpfAoB5\" href=\"/eby/apa/4702185767.html\"></a>\n",
        "<a class=\"hdrlnk\" data-id=\"4702185767\" href=\"/eby/apa/4702185767.html\">Great Fremont Warm Spring Upgraded Home! SPECIAL $$$$$</a>\n",
        "<a class=\"i\" data-id=\"0:00b0b_eVsQlMbEEnB\" href=\"/eby/apa/4702214023.html\"></a>\n",
        "<a class=\"hdrlnk\" data-id=\"4702214023\" href=\"/eby/apa/4702214023.html\">Ardenwood SFH for rent- available soon</a>\n",
        "<a class=\"i\" data-id=\"0:00X0X_agBrulL8G8B\" href=\"/eby/apa/4685873529.html\"></a>\n",
        "<a class=\"hdrlnk\" data-id=\"4685873529\" href=\"/eby/apa/4685873529.html\">Great Fremont Location! </a>\n",
        "<a class=\"i\" data-id=\"0:00h0h_9r9dKvr6HmO\" href=\"/eby/apa/4698234369.html\"></a>\n",
        "<a class=\"hdrlnk\" data-id=\"4698234369\" href=\"/eby/apa/4698234369.html\">Great Fremont Location-Lower unit</a>\n",
        "<a class=\"i\" data-id=\"0:01212_hWSSbJZ69m6\" href=\"/eby/apa/4702165930.html\"></a>\n",
        "<a class=\"hdrlnk\" data-id=\"4702165930\" href=\"/eby/apa/4702165930.html\">Feel At Paradise!</a>\n",
        "<a class=\"i\" data-id=\"0:00505_g3Hh3TgNe8Z\" href=\"/eby/apa/4702152620.html\"></a>\n",
        "<a class=\"hdrlnk\" data-id=\"4702152620\" href=\"/eby/apa/4702152620.html\">\u2665LOOKING FOR PEACE AND QUIET\u2665 COME AND TOUR TODAY\u2665</a>\n",
        "<a class=\"i\" data-id=\"0:00S0S_i1zCcl6Rs6W\" href=\"/eby/apa/4702146980.html\"></a>\n",
        "<a class=\"hdrlnk\" data-id=\"4702146980\" href=\"/eby/apa/4702146980.html\">Welcome To Your New Home!</a>\n",
        "<a class=\"i\" data-id=\"0:00Q0Q_c88e8aBwDWy\" href=\"/eby/apa/4702174777.html\"></a>\n",
        "<a class=\"hdrlnk\" data-id=\"4702174777\" href=\"/eby/apa/4702174777.html\">Amazing top floor unit with high ceilings and great sunlight!</a>\n",
        "<a class=\"i\" data-id=\"0:00a0a_f0C3pednWPm\" href=\"/eby/apa/4702082659.html\"></a>\n",
        "<a class=\"hdrlnk\" data-id=\"4702082659\" href=\"/eby/apa/4702082659.html\">LARGE Two Bed W/ Two Car Garage, Available Now!!</a>\n",
        "<a class=\"i\" data-id=\"0:00d0d_cD18ERPCPAV\" href=\"/eby/apa/4702152537.html\"></a>\n",
        "<a class=\"hdrlnk\" data-id=\"4702152537\" href=\"/eby/apa/4702152537.html\">\u263bBART RIDERS DREAM/CLOSE TO SHOPPING\u263b</a>\n",
        "<a class=\"i\" data-id=\"0:00M0M_kWikfKsXK0G\" href=\"/eby/apa/4702131715.html\"></a>\n",
        "<a class=\"hdrlnk\" data-id=\"4702131715\" href=\"/eby/apa/4702131715.html\">Beautiful 2 bedrooms available </a>\n",
        "<a class=\"i\" data-id=\"0:00v0v_bPArceVPvEB\" href=\"/eby/apa/4702093114.html\"></a>\n",
        "<a class=\"hdrlnk\" data-id=\"4702093114\" href=\"/eby/apa/4702093114.html\">Spacious 2 Bed 1 Bath in Downtown Fremont</a>\n",
        "<a class=\"i\" data-id=\"0:00X0X_jwflpX6jy6L\" href=\"/eby/apa/4702093795.html\"></a>\n",
        "<a class=\"hdrlnk\" data-id=\"4702093795\" href=\"/eby/apa/4702093795.html\">1B-1B Near EVERYTHING!! Bart, freeway, restaurants, etc</a>\n",
        "<a class=\"i\" data-id=\"0:00Y0Y_hKiyih83eDc\" href=\"/eby/apa/4667279757.html\"></a>\n",
        "<a class=\"hdrlnk\" data-id=\"4667279757\" href=\"/eby/apa/4667279757.html\">Stunning Semi-Custom Home in Fremont 4 Bedrm + Bonus Rm 3 Baths</a>\n",
        "<a class=\"i\" data-id=\"0:00B0B_3MyaIbPQ2P5\" href=\"/eby/apa/4702063038.html\"></a>\n",
        "<a class=\"hdrlnk\" data-id=\"4702063038\" href=\"/eby/apa/4702063038.html\">Great Community The Place To Live! Huge 3 Bed, 3 Bath</a>\n",
        "<a class=\"i\" data-id=\"0:00g0g_gvK50eeDjIH\" href=\"/eby/apa/4702053096.html\"></a>\n",
        "<a class=\"hdrlnk\" data-id=\"4702053096\" href=\"/eby/apa/4702053096.html\">Ground Floor 1X1 Available 10/14... Reserve Today!!!</a>\n",
        "<a class=\"i\" data-id=\"0:00M0M_k5JckvZPb31\" href=\"/eby/apa/4702020462.html\"></a>\n",
        "<a class=\"hdrlnk\" data-id=\"4702020462\" href=\"/eby/apa/4702020462.html\">AMAZING AMENITIES IN PARK-LIKE COMMUNITY</a>\n",
        "<a class=\"i\" data-id=\"0:00l0l_2wa6cbSot0Y\" href=\"/eby/apa/4701987167.html\"></a>\n",
        "<a class=\"hdrlnk\" data-id=\"4701987167\" href=\"/eby/apa/4701987167.html\">31127 Alvarado Niles Road, Union City, Avail.11/15 Ext.66</a>\n",
        "<a class=\"i\" data-id=\"0:00Y0Y_1WJlPRdgNOE\" href=\"/eby/apa/4701986690.html\"></a>\n",
        "<a class=\"hdrlnk\" data-id=\"4701986690\" href=\"/eby/apa/4701986690.html\">Living at its best! Come see your new home today!</a>\n",
        "<a class=\"i\" data-id=\"0:00y0y_abnwO8SRJ8O\" href=\"/eby/apa/4701983497.html\"></a>\n",
        "<a class=\"hdrlnk\" data-id=\"4701983497\" href=\"/eby/apa/4701983497.html\">35 Calle Amigo Drive, Fremont, Avail. 10/11 Ext. 45</a>\n",
        "<a class=\"i\" data-id=\"0:00c0c_3EG6Wf9Wbf6\" href=\"/eby/apa/4701881935.html\"></a>\n",
        "<a class=\"hdrlnk\" data-id=\"4701881935\" href=\"/eby/apa/4701881935.html\">Dog Friendly, Newly upgrade One Bedroom</a>\n",
        "<a class=\"i\" data-id=\"0:00H0H_jZUJHlWEAD5\" href=\"/eby/apa/4701966278.html\"></a>\n",
        "<a class=\"hdrlnk\" data-id=\"4701966278\" href=\"/eby/apa/4701966278.html\">708 Chavel Court, Fremont, Avail.10/25 Ext.43</a>\n",
        "<a class=\"i\" data-id=\"0:00R0R_VBEuojEggQ\" href=\"/eby/apa/4701965908.html\"></a>\n",
        "<a class=\"hdrlnk\" data-id=\"4701965908\" href=\"/eby/apa/4701965908.html\">COME BY TODAY! Available for October 13Th  Move- In! </a>\n",
        "<a class=\"i\" data-id=\"0:00P0P_6QbixFi5hY7\" href=\"/eby/apa/4701964401.html\"></a>\n",
        "<a class=\"hdrlnk\" data-id=\"4701964401\" href=\"/eby/apa/4701964401.html\">RESORT LIVING IN A SERENE PARK SETTING </a>\n",
        "<a class=\"i\" data-id=\"0:00m0m_kBNPeAyPYmp\" href=\"/eby/apa/4701921984.html\"></a>\n",
        "<a class=\"hdrlnk\" data-id=\"4701921984\" href=\"/eby/apa/4701921984.html\">1Br/1Ba Suite with Separate Private Entrance</a>\n",
        "<a class=\"i\" data-id=\"0:00909_ivGmca1KYyK\" href=\"/eby/apa/4701884368.html\"></a>\n",
        "<a class=\"hdrlnk\" data-id=\"4701884368\" href=\"/eby/apa/4701884368.html\">15 Min Walk to BART from the Presidio Apartments</a>\n",
        "<a class=\"i\" data-id=\"0:00L0L_draW8rVwhKK\" href=\"/eby/apa/4691387359.html\"></a>\n",
        "<a class=\"hdrlnk\" data-id=\"4691387359\" href=\"/eby/apa/4691387359.html\">Beautiful Niles Community! Move-In October 16th  Upstairs !</a>\n",
        "<a class=\"i\" data-id=\"0:00y0y_bBBUXzrcdor\" href=\"/eby/apa/4687019251.html\"></a>\n",
        "<a class=\"hdrlnk\" data-id=\"4687019251\" href=\"/eby/apa/4687019251.html\">Two Bedroom, One Bath Downstair Available for October 10Th Move in !</a>\n",
        "<a class=\"i\" data-id=\"0:00y0y_hzEiErVcdtp\" href=\"/eby/apa/4701879878.html\"></a>\n",
        "<a class=\"hdrlnk\" data-id=\"4701879878\" href=\"/eby/apa/4701879878.html\">Ground Floor Apartment Near BART..LAST ONE AVAIL!!</a>\n",
        "<a class=\"i\" data-id=\"0:00S0S_2KQBhQJ0FbQ\" href=\"/eby/apa/4701899854.html\"></a>\n",
        "<a class=\"hdrlnk\" data-id=\"4701899854\" href=\"/eby/apa/4701899854.html\">Single-Family Home In Nice Neighborhood</a>\n",
        "<a class=\"i\" data-id=\"0:01515_5MNZyVhru24\" href=\"/eby/apa/4701897838.html\"></a>\n",
        "<a class=\"hdrlnk\" data-id=\"4701897838\" href=\"/eby/apa/4701897838.html\">Cottage Style, Stylish Features, Washer Dryer in Unit, Walk to BART</a>\n",
        "<a class=\"i\" data-id=\"0:00606_47ftQ34vJcC\" href=\"/eby/apa/4672754018.html\"></a>\n",
        "<a class=\"hdrlnk\" data-id=\"4672754018\" href=\"/eby/apa/4672754018.html\">1 Bd, 1 Ba Unit, Mission Fremont  INCLUDING ALL UTIL</a>\n",
        "<a class=\"i\" data-id=\"0:00202_czTJkI92lpS\" href=\"/eby/apa/4696402608.html\"></a>\n",
        "<a class=\"hdrlnk\" data-id=\"4696402608\" href=\"/eby/apa/4696402608.html\">$2200 1100sqft - 3BR/2BA HOUSE in UNION CITY</a>\n",
        "<a class=\"i\" data-id=\"0:00F0F_mYbBBvnFJc\" href=\"/eby/apa/4701845570.html\"></a>\n",
        "<a class=\"hdrlnk\" data-id=\"4701845570\" href=\"/eby/apa/4701845570.html\">Laundry Inside, Pool, Gym, Extra Storage, Walk In Closet, Avail Oct 16</a>\n",
        "<a class=\"i\" data-id=\"0:00O0O_68uyfyj4mp2\" href=\"/eby/apa/4701856859.html\"></a>\n",
        "<a class=\"hdrlnk\" data-id=\"4701856859\" href=\"/eby/apa/4701856859.html\">FIVE-STAR LIVING &amp; EASY ACCESS TO EVERYWHERE!</a>\n",
        "<a class=\"i\" data-id=\"0:00f0f_9ZtnVZHcLC0\" href=\"/eby/apa/4701823102.html\"></a>\n",
        "<a class=\"hdrlnk\" data-id=\"4701823102\" href=\"/eby/apa/4701823102.html\">Beautiful mountain view apartment walking distance to BART!!</a>\n",
        "<a class=\"i\" data-id=\"0:01111_cYKyC0pJbkj\" href=\"/eby/apa/4701764173.html\"></a>\n",
        "<a class=\"hdrlnk\" data-id=\"4701764173\" href=\"/eby/apa/4701764173.html\">\u2660GREAT PRICE, LOCATION, AND QUIET\u2660</a>\n",
        "<a class=\"i\" data-id=\"0:00I0I_8qzDYir5NeF\" href=\"/eby/apa/4701801520.html\"></a>\n",
        "<a class=\"hdrlnk\" data-id=\"4701801520\" href=\"/eby/apa/4701801520.html\">Gorgeous apartment home!</a>\n",
        "<a class=\"i\" data-id=\"0:00M0M_fC3NhDjl9xs\" href=\"/eby/apa/4701722996.html\"></a>\n",
        "<a class=\"hdrlnk\" data-id=\"4701722996\" href=\"/eby/apa/4701722996.html\">3Bd,2Bath in Union City $2500/month</a>\n",
        "<a class=\"i\" data-id=\"0:01717_97gVXpfAoB5\" href=\"/eby/apa/4701635034.html\"></a>\n",
        "<a class=\"hdrlnk\" data-id=\"4701635034\" href=\"/eby/apa/4701635034.html\">Large and Beautiful 3 Beds Single Family House in Fremont!!!</a>\n",
        "<a class=\"i\" data-id=\"0:00w0w_4gFy7Plbgb2\" href=\"/eby/apa/4694484659.html\"></a>\n",
        "<a class=\"hdrlnk\" data-id=\"4694484659\" href=\"/eby/apa/4694484659.html\">Fremont 3Bed-2Bath house for rent-UTILITIES INCLUDED</a>\n",
        "<a class=\"i\" data-id=\"0:01414_fXIgMqWdEeh\" href=\"/eby/apa/4698610157.html\"></a>\n",
        "<a class=\"hdrlnk\" data-id=\"4698610157\" href=\"/eby/apa/4698610157.html\">3 bedroom + bonus rooms single home near Fremont central park and BART</a>\n",
        "<a class=\"i\" data-id=\"0:00m0m_2YpmdIQOCyz\" href=\"/eby/apa/4701499272.html\"></a>\n",
        "<a class=\"hdrlnk\" data-id=\"4701499272\" href=\"/eby/apa/4701499272.html\">4 bedroom,2 Bath</a>\n",
        "<a class=\"i\" data-id=\"0:00707_dwVdr1KeeFy\" href=\"/eby/apa/4701373811.html\"></a>\n",
        "<a class=\"hdrlnk\" data-id=\"4701373811\" href=\"/eby/apa/4701373811.html\">Executive 4 bed 2 bath updated house in Chadbourne attendance area</a>\n",
        "<a class=\"i\" data-id=\"0:00w0w_bf8nr3Kg7HX\" href=\"/eby/apa/4701346705.html\"></a>\n",
        "<a class=\"hdrlnk\" data-id=\"4701346705\" href=\"/eby/apa/4701346705.html\">Remodeled Creative Space w/ Shower Kitchen Storage &amp; Parking</a>\n",
        "<a class=\"i\" data-id=\"0:00V0V_5IJaqlR0dDy\" href=\"/eby/apa/4688394503.html\"></a>\n",
        "<a class=\"hdrlnk\" data-id=\"4688394503\" href=\"/eby/apa/4688394503.html\">Bright, Clean Townhouse for Rent</a>\n",
        "<a class=\"i\" href=\"/eby/apa/4701332446.html\"></a>\n",
        "<a class=\"hdrlnk\" data-id=\"4701332446\" href=\"/eby/apa/4701332446.html\">Stunning Single Family Home near Fremont BART</a>\n",
        "<a class=\"i\" data-id=\"0:00w0w_6W0XoPJDbDX\" href=\"/eby/apa/4701295277.html\"></a>\n",
        "<a class=\"hdrlnk\" data-id=\"4701295277\" href=\"/eby/apa/4701295277.html\">Updated single family home for rent</a>\n",
        "<a class=\"button next\" href=\"/search/eby/apa?s=100&amp;nh=54&amp;sale_date=-\" title=\"next page\"> next &gt; </a>\n",
        "<a class=\"backtotop button\" href=\"#pagecontainer\">^ back to top</a>\n",
        "<a class=\"l\" href=\"http://sfbay.craigslist.org/search/eby/apa?nh=54&amp;sale_date=-&amp;format=rss\">RSS</a>\n",
        "<a href=\"http://www.craigslist.org/about/rss\">(?)</a>\n",
        "<a href=\"//www.craigslist.org/about/help/\">help</a>\n",
        "<a href=\"//www.craigslist.org/about/scams\">safety</a>\n",
        "<a href=\"//www.craigslist.org/about/privacy.policy\">privacy</a>\n",
        "<a href=\"https://forums.craigslist.org/?forumID=8\">feedback</a>\n",
        "<a href=\"//www.craigslist.org/about/craigslist_is_hiring\">cl jobs</a>\n",
        "<a href=\"//www.craigslist.org/about/terms.of.use\">terms</a>\n",
        "<a href=\"//www.craigslist.org/about/\">about</a>\n",
        "<a href=\"#\">mobile</a>\n",
        "<a href=\"#\">desktop</a>\n",
        "<a href=\"/\">SF bay area</a>"
       ]
      },
      {
       "output_type": "stream",
       "stream": "stdout",
       "text": [
        "\n",
        "<a href=\"/search/hhh\">housing</a>\n",
        "<a href=\"/search/apa\">apts/housing for rent</a>\n",
        "<a href=\"https://post.craigslist.org/c/sfo?lang=en\">post</a>\n",
        "<a href=\"https://accounts.craigslist.org/login/home\">account</a>\n",
        "<a class=\"favlink\" href=\"#\"><span class=\"n\">0</span> favorites</a>\n",
        "<a class=\"saveme\" href=\"https://accounts.craigslist.org/login?rt=L&amp;rp=%2Fsavesearch%2Falert%3FURL%3Dhttp%253A%252F%252Fsfbay%252Ecraigslist%252Eorg%252Fsearch%252Feby%252Fapa%253Fnh%253D54\" title=\"save this search with email alerts\">alert</a>\n",
        "<a class=\"saveme\" href=\"https://accounts.craigslist.org/login?rt=L&amp;rp=%2Fsavesearch%2Fsave%3FURL%3Dhttp%253A%252F%252Fsfbay%252Ecraigslist%252Eorg%252Fsearch%252Feby%252Fapa%253Fnh%253D54\" title=\"save this search\">save</a>\n",
        "<a class=\"category\" href=\"/search/eby/apa?nh=54\">apts/housing for rent</a>\n",
        "<a class=\"category\" href=\"/search/eby/rea?nh=54\">real estate for sale</a>\n",
        "<a class=\"category\" href=\"/search/eby/roo?nh=54\">rooms &amp; shares</a>\n",
        "<a class=\"category\" href=\"/search/eby/off?nh=54\">office &amp; commercial</a>\n",
        "<a class=\"category\" href=\"/search/eby/sha?nh=54\">room/share wanted</a>\n",
        "<a class=\"category\" href=\"/search/eby/hou?nh=54\">apts wanted</a>\n",
        "<a class=\"category\" href=\"/search/eby/prk?nh=54\">parking &amp; storage</a>\n",
        "<a class=\"category\" href=\"/search/eby/sub?nh=54\">sublets &amp; temporary</a>\n",
        "<a class=\"category\" href=\"/search/eby/rew?nh=54\">real estate wanted</a>\n",
        "<a class=\"category\" href=\"/search/eby/sbw?nh=54\">sublet/temp wanted</a>\n",
        "<a class=\"category\" href=\"/search/eby/swp?nh=54\">housing swap</a>\n",
        "<a class=\"category\" href=\"/search/eby/vac?nh=54\">vacation rentals</a>\n",
        "<a class=\"mode button\" data-view=\"list\" href=\"#list\" id=\"listview\" title=\"show results in a list\">list</a>\n",
        "<a class=\"mode button\" data-view=\"pic\" href=\"#pic\" id=\"picview\" title=\"show results in a list with thumbnail pictures\">thumb</a>\n",
        "<a class=\"mode button\" data-view=\"grid\" href=\"#grid\" id=\"gridview\" title=\"show results side-by-side with larger pictures\">gallery</a>\n",
        "<a class=\"mode button\" data-view=\"map\" href=\"#map\" id=\"mapview\" title=\"show results on a map\">map</a>\n",
        "<a class=\"button\" href=\"/search/eby/apa?sort=priceasc&amp;nh=54\" title=\"sort by price, lowest to highest\"><span class=\"pricesort\"><span class=\"pricesort\">$</span>$</span>$</a>\n",
        "<a class=\"button\" href=\"/search/eby/apa?sort=pricedsc&amp;nh=54\" title=\"sort by price, highest to lowest\">$<span class=\"pricesort\">$<span class=\"pricesort\">$</span></span></a>\n",
        "<a class=\"button first\" href=\"/search/eby/apa?nh=54\" title=\"first page\">&lt;&lt;</a>\n",
        "<a class=\"button prev\" href=\"/search/eby/apa?nh=54\" title=\"previous page\">&lt; prev</a>\n",
        "<a class=\"button next\" href=\"/search/eby/apa?s=200&amp;nh=54\" title=\"next page\"> next &gt; </a>\n",
        "<a class=\"i\" href=\"/eby/apa/4690381673.html\"></a>\n",
        "<a class=\"hdrlnk\" data-id=\"4690381673\" href=\"/eby/apa/4690381673.html\">Fremont Parkmont  Townhse</a>\n",
        "<a class=\"i\" data-id=\"0:00N0N_1D2GZGQdMvD\" href=\"/eby/apa/4701296329.html\"></a>\n",
        "<a class=\"hdrlnk\" data-id=\"4701296329\" href=\"/eby/apa/4701296329.html\">\u25ba \u25ba\u25ba Heaven in Newark - Single Family Home</a>\n",
        "<a class=\"i\" data-id=\"0:00000_2AhLtnoqQS6\" href=\"/eby/apa/4695456118.html\"></a>\n",
        "<a class=\"hdrlnk\" data-id=\"4695456118\" href=\"/eby/apa/4695456118.html\">Beautiful Fremont 3 bedroom house for rent</a>\n",
        "<a class=\"i\" data-id=\"0:00M0M_eL29SRcezMc\" href=\"/eby/apa/4697038172.html\"></a>\n",
        "<a class=\"hdrlnk\" data-id=\"4697038172\" href=\"/eby/apa/4697038172.html\">Completely remodeled and spacious 2 bed /1 bath apartment - great loc!</a>\n",
        "<a class=\"i\" data-id=\"0:00P0P_uLtPzplcIz\" href=\"/eby/apa/4701271986.html\"></a>\n",
        "<a class=\"hdrlnk\" data-id=\"4701271986\" href=\"/eby/apa/4701271986.html\">Fully renovated apartment! 1 bed / 1 bath in a gated community</a>\n",
        "<a class=\"i\" data-id=\"0:00P0P_uLtPzplcIz\" href=\"/eby/apa/4692790556.html\"></a>\n",
        "<a class=\"hdrlnk\" data-id=\"4692790556\" href=\"/eby/apa/4692790556.html\">Completely renovated apartment! 2 bed/1 bath in a gated community</a>\n",
        "<a class=\"i\" data-id=\"0:00K0K_iM1P3vTGX08\" href=\"/eby/apa/4690573649.html\"></a>\n",
        "<a class=\"hdrlnk\" data-id=\"4690573649\" href=\"/eby/apa/4690573649.html\">Newer condo! Beautiful complex, gated!</a>\n",
        "<a class=\"i\" data-id=\"0:00707_4QIfAuxbXE6\" href=\"/eby/apa/4694308303.html\"></a>\n",
        "<a class=\"hdrlnk\" data-id=\"4694308303\" href=\"/eby/apa/4694308303.html\">Single House with view in a quiet and safe neighborhood</a>\n",
        "<a class=\"i\" data-id=\"0:01313_7TAAB74z0hR\" href=\"/eby/apa/4697330752.html\"></a>\n",
        "<a class=\"hdrlnk\" data-id=\"4697330752\" href=\"/eby/apa/4697330752.html\">Great Location, Walk to BART</a>\n",
        "<a class=\"i\" data-id=\"0:00k0k_eXEmsq5u6ZT\" href=\"/eby/apa/4701134936.html\"></a>\n",
        "<a class=\"hdrlnk\" data-id=\"4701134936\" href=\"/eby/apa/4701134936.html\">Glenmoor House For Rent </a>\n",
        "<a class=\"i\" data-id=\"0:01717_dAf8n3O6poI\" href=\"/eby/apa/4694978856.html\"></a>\n",
        "<a class=\"hdrlnk\" data-id=\"4694978856\" href=\"/eby/apa/4694978856.html\">INCREDIBLE 2BED/1BATH AVAILABLE!!!</a>\n",
        "<a class=\"i\" data-id=\"0:00X0X_7w6wY9GVvXu\" href=\"/eby/apa/4693298062.html\"></a>\n",
        "<a class=\"hdrlnk\" data-id=\"4693298062\" href=\"/eby/apa/4693298062.html\">OPEN HOUSE, READY NOW, Warm Springs, 3 Bed 1.5 Bath UPGRADED home </a>\n",
        "<a class=\"i\" href=\"/eby/apa/4701076814.html\"></a>\n",
        "<a class=\"hdrlnk\" data-id=\"4701076814\" href=\"/eby/apa/4701076814.html\">3 bedrooms for rent in Fremont CA 94536</a>\n",
        "<a class=\"i\" data-id=\"0:00i0i_jbFfqEcFQSm\" href=\"/eby/apa/4701050878.html\"></a>\n",
        "<a class=\"hdrlnk\" data-id=\"4701050878\" href=\"/eby/apa/4701050878.html\">Home is always a stunning, tranquil retreat at Heritage Village</a>\n",
        "<a class=\"i\" data-id=\"0:00c0c_9ZMug97Ukbw\" href=\"/eby/apa/4701050008.html\"></a>\n",
        "<a class=\"hdrlnk\" data-id=\"4701050008\" href=\"/eby/apa/4701050008.html\">The Best Community in Fremont!</a>\n",
        "<a class=\"i\" data-id=\"0:01717_4FJkWeISNmH\" href=\"/eby/apa/4701021491.html\"></a>\n",
        "<a class=\"hdrlnk\" data-id=\"4701021491\" href=\"/eby/apa/4701021491.html\">\u263aWE HAVE GOT EVERYTHING YOU NEED FOR COMFORT\u263a!</a>\n",
        "<a class=\"i\" data-id=\"0:00909_18wdzQF4gr7\" href=\"/eby/apa/4701011409.html\"></a>\n",
        "<a class=\"hdrlnk\" data-id=\"4701011409\" href=\"/eby/apa/4701011409.html\">1 Bedroom/1 Bath Apartment Available Mid-November!!!</a>\n",
        "<a class=\"i\" data-id=\"0:00909_18wdzQF4gr7\" href=\"/eby/apa/4701023723.html\"></a>\n",
        "<a class=\"hdrlnk\" data-id=\"4701023723\" href=\"/eby/apa/4701023723.html\">Spacious 2bd/1.5ba including w/d &amp; 2 car garage - AVAILABLE DECEMBER 1</a>\n",
        "<a class=\"i\" data-id=\"0:00z0z_4RRGiVJOn5L\" href=\"/eby/apa/4701001268.html\"></a>\n",
        "<a class=\"hdrlnk\" data-id=\"4701001268\" href=\"/eby/apa/4701001268.html\">\u2665HOME IS WHERE THE HEART IS\u2665WASHER/DYER IN UNIT\u2660</a>\n",
        "<a class=\"i\" data-id=\"0:00n0n_6WSYRh8c1Af\" href=\"/eby/apa/4701002015.html\"></a>\n",
        "<a class=\"hdrlnk\" data-id=\"4701002015\" href=\"/eby/apa/4701002015.html\">OPEN FLOOR PLAN WITH A PRIVATE PATIO &amp; GYM </a>\n",
        "<a class=\"i\" data-id=\"0:01616_aIUOo6rlsjt\" href=\"/eby/apa/4700993491.html\"></a>\n",
        "<a class=\"hdrlnk\" data-id=\"4700993491\" href=\"/eby/apa/4700993491.html\">A Great Junior 1br Unit To Call home @waterstone Fremont</a>\n",
        "<a class=\"i\" data-id=\"0:00j0j_f0JWHmDouwU\" href=\"/eby/apa/4697066710.html\"></a>\n",
        "<a class=\"hdrlnk\" data-id=\"4697066710\" href=\"/eby/apa/4697066710.html\">2bed/2bath Single Family Irvington, Fremont Home For Rent</a>\n",
        "<a class=\"i\" data-id=\"0:00v0v_4AcZe5ptCGz\" href=\"/eby/apa/4700986117.html\"></a>\n",
        "<a class=\"hdrlnk\" data-id=\"4700986117\" href=\"/eby/apa/4700986117.html\">Comfort and Convenience Right At Your Finger Tip..Waterstone@Fremont</a>\n",
        "<a class=\"i\" href=\"/eby/apa/4695412849.html\"></a>\n",
        "<a class=\"hdrlnk\" data-id=\"4695412849\" href=\"/eby/apa/4695412849.html\">Take over 1 Bedroom apartment lease</a>\n",
        "<a class=\"i\" data-id=\"0:00909_8KOZ61jULjT\" href=\"/eby/apa/4700965705.html\"></a>\n",
        "<a class=\"hdrlnk\" data-id=\"4700965705\" href=\"/eby/apa/4700965705.html\">Beautiful 1 bedroom call now to make an appointment!!!</a>\n",
        "<a class=\"i\" data-id=\"0:00w0w_3snpcqX2MJy\" href=\"/eby/apa/4695475060.html\"></a>\n",
        "<a class=\"hdrlnk\" data-id=\"4695475060\" href=\"/eby/apa/4695475060.html\">luxuary 4bed 2 bath union city $,2,999 first month </a>\n",
        "<a class=\"i\" data-id=\"0:01414_fXIgMqWdEeh\" href=\"/eby/apa/4700950421.html\"></a>\n",
        "<a class=\"hdrlnk\" data-id=\"4700950421\" href=\"/eby/apa/4700950421.html\">3 bedroom+bonus rooms near Fremont central park</a>\n",
        "<a class=\"i\" data-id=\"0:00x0x_7XePGSnBgLa\" href=\"/eby/apa/4700931313.html\"></a>\n",
        "<a class=\"hdrlnk\" data-id=\"4700931313\" href=\"/eby/apa/4700931313.html\">Waterstone@Fremont 735 1br</a>\n",
        "<a class=\"i\" data-id=\"0:00z0z_g5SjdnxsFcf\" href=\"/eby/apa/4700925093.html\"></a>\n",
        "<a class=\"hdrlnk\" data-id=\"4700925093\" href=\"/eby/apa/4700925093.html\">A Great Place To Call Home..Waterstone@Fremont</a>\n",
        "<a class=\"i\" data-id=\"0:00l0l_QxpinAUqDg\" href=\"/eby/apa/4694948876.html\"></a>\n",
        "<a class=\"hdrlnk\" data-id=\"4694948876\" href=\"/eby/apa/4694948876.html\">Modern 2/2  condo in Warm Springs</a>\n",
        "<a class=\"i\" data-id=\"0:00l0l_l53CVMTm7VD\" href=\"/eby/apa/4700901774.html\"></a>\n",
        "<a class=\"hdrlnk\" data-id=\"4700901774\" href=\"/eby/apa/4700901774.html\">Beautiful 5 bedroom 3 bath house $3,600.00 with lots of upgrades</a>\n",
        "<a class=\"i\" data-id=\"0:01111_7iqbYe08be5\" href=\"/eby/apa/4700879255.html\"></a>\n",
        "<a class=\"hdrlnk\" data-id=\"4700879255\" href=\"/eby/apa/4700879255.html\">\u0095\u263bTHIS BEAUTIFUL UPGRADED APT HOME HAS ALL THE COMFORTS\u263b\u0095\u0095</a>\n",
        "<a class=\"i\" href=\"/eby/apa/4700862743.html\"></a>\n",
        "<a class=\"hdrlnk\" data-id=\"4700862743\" href=\"/eby/apa/4700862743.html\">Warm Springs Fremont Condo Rental...</a>\n",
        "<a class=\"i\" data-id=\"0:00l0l_ce288t6Zryx\" href=\"/eby/apa/4700801259.html\"></a>\n",
        "<a class=\"hdrlnk\" data-id=\"4700801259\" href=\"/eby/apa/4700801259.html\">\u2665\u263aWE WANT YOU TO JOIN THE FAMILY\u263a\u2665</a>\n",
        "<a class=\"i\" data-id=\"0:00c0c_5i0Zr20ZFZH\" href=\"/eby/apa/4691167236.html\"></a>\n",
        "<a class=\"hdrlnk\" data-id=\"4691167236\" href=\"/eby/apa/4691167236.html\">Beautiful and spacious 1 bedrooms available </a>\n",
        "<a class=\"i\" data-id=\"0:00O0O_aRethEr83Lb\" href=\"/eby/apa/4700814288.html\"></a>\n",
        "<a class=\"hdrlnk\" data-id=\"4700814288\" href=\"/eby/apa/4700814288.html\">Schedule a Tour, Community Clubhouse, Near Shops and Dining</a>\n",
        "<a class=\"i\" data-id=\"0:00W0W_8O60PpTkq6j\" href=\"/eby/apa/4680923646.html\"></a>\n",
        "<a class=\"hdrlnk\" data-id=\"4680923646\" href=\"/eby/apa/4680923646.html\">Mission Hills Executive Home  * OPEN HOUSE 10/5 3-4 PM</a>\n",
        "<a class=\"i\" data-id=\"0:00v0v_68QHSOfEaI0\" href=\"/eby/apa/4700790696.html\"></a>\n",
        "<a class=\"hdrlnk\" data-id=\"4700790696\" href=\"/eby/apa/4700790696.html\">$1000 Master Bedroom For Rent in a 3br - 3BR/2.5BA home near BART</a>\n",
        "<a class=\"i\" href=\"/eby/apa/4700736285.html\"></a>\n",
        "<a class=\"hdrlnk\" data-id=\"4700736285\" href=\"/eby/apa/4700736285.html\">Medallion Has Comfort &amp; Convenience...</a>\n",
        "<a class=\"i\" data-id=\"0:00S0S_br7KjEDCPHQ\" href=\"/eby/apa/4700775920.html\"></a>\n",
        "<a class=\"hdrlnk\" data-id=\"4700775920\" href=\"/eby/apa/4700775920.html\">Home in Weibel elementary school area</a>\n",
        "<a class=\"i\" data-id=\"0:01414_4SpX7dxY3vo\" href=\"/eby/apa/4700740260.html\"></a>\n",
        "<a class=\"hdrlnk\" data-id=\"4700740260\" href=\"/eby/apa/4700740260.html\">\ufffd\ufffdHEALTHY LIFESTYLE! CLOSE TO HIKING TRAILS! UPGRADED </a>\n",
        "<a class=\"i\" data-id=\"0:01414_4SpX7dxY3vo\" href=\"/eby/apa/4700601238.html\"></a>\n",
        "<a class=\"hdrlnk\" data-id=\"4700601238\" href=\"/eby/apa/4700601238.html\">\u2660\u2665QUIET, COMFORT, &amp; CONVENIENCE! YOU DESERVE THE BEST!\u2660</a>\n",
        "<a class=\"i\" data-id=\"0:00I0I_67AKdyT04mh\" href=\"/eby/apa/4700585952.html\"></a>\n",
        "<a class=\"hdrlnk\" data-id=\"4700585952\" href=\"/eby/apa/4700585952.html\">\u263b\u2665THE MOST LIKED PLACE TO LIVE ON FACEBOOK\u263b\u2665</a>\n",
        "<a class=\"i\" data-id=\"0:00E0E_8x7barJQifd\" href=\"/eby/apa/4700580141.html\"></a>\n",
        "<a class=\"hdrlnk\" data-id=\"4700580141\" href=\"/eby/apa/4700580141.html\">Beautiful 1 bedroom call now to make an appointment!!!</a>\n",
        "<a class=\"i\" data-id=\"0:00Q0Q_6ysc2RHiVKH\" href=\"/eby/apa/4700520666.html\"></a>\n",
        "<a class=\"hdrlnk\" data-id=\"4700520666\" href=\"/eby/apa/4700520666.html\">\u263bBART RIDERS DREAM/CLOSE TO SHOPPING\u263b</a>\n",
        "<a class=\"i\" data-id=\"0:00e0e_aPGiHU6NB7A\" href=\"/eby/apa/4700481471.html\"></a>\n",
        "<a class=\"hdrlnk\" data-id=\"4700481471\" href=\"/eby/apa/4700481471.html\">2br/2ba Beautifully Updated Newark Condo </a>\n",
        "<a class=\"i\" href=\"/eby/apa/4695137759.html\"></a>\n",
        "<a class=\"hdrlnk\" data-id=\"4695137759\" href=\"/eby/apa/4695137759.html\">??? Stunning Semi-Custom Home ???</a>\n",
        "<a class=\"i\" data-id=\"0:00O0O_3cjq6smNxRQ\" href=\"/eby/apa/4700474353.html\"></a>\n",
        "<a class=\"hdrlnk\" data-id=\"4700474353\" href=\"/eby/apa/4700474353.html\">Cottage Style Home, Near Public Parks, Parkmont Schools</a>\n",
        "<a class=\"i\" href=\"/eby/apa/4700474310.html\"></a>\n",
        "<a class=\"hdrlnk\" data-id=\"4700474310\" href=\"/eby/apa/4700474310.html\">3 bedroom 2 bath for rent in Fremont  $2500/per month </a>\n",
        "<a class=\"i\" data-id=\"0:00f0f_heunjTutDYD\" href=\"/eby/apa/4700454463.html\"></a>\n",
        "<a class=\"hdrlnk\" data-id=\"4700454463\" href=\"/eby/apa/4700454463.html\">Fremont Mission San Jose Townhome 2BR/1.5Bath</a>\n",
        "<a class=\"i\" data-id=\"0:00R0R_k5TpdIidzro\" href=\"/eby/apa/4700364472.html\"></a>\n",
        "<a class=\"hdrlnk\" data-id=\"4700364472\" href=\"/eby/apa/4700364472.html\">Comfort, Style and a GREAT Value at The Presidio!</a>\n",
        "<a class=\"i\" data-id=\"0:00K0K_9goXO02982y\" href=\"/eby/apa/4700430540.html\"></a>\n",
        "<a class=\"hdrlnk\" data-id=\"4700430540\" href=\"/eby/apa/4700430540.html\">Open House Sunday 10/5, 2-4pm - Beautiful California Blossom Home</a>\n",
        "<a class=\"i\" data-id=\"0:00R0R_k5TpdIidzro\" href=\"/eby/apa/4700370408.html\"></a>\n",
        "<a class=\"hdrlnk\" data-id=\"4700370408\" href=\"/eby/apa/4700370408.html\">Come See What You've Been Missing at The Presidio!</a>\n",
        "<a class=\"i\" data-id=\"0:00L0L_HBqK7F6SRY\" href=\"/eby/apa/4700387700.html\"></a>\n",
        "<a class=\"hdrlnk\" data-id=\"4700387700\" href=\"/eby/apa/4700387700.html\">DESIGNER INTERIORS, SPACIOUS FLOOR PLANS AND AMAZING AMENITIES</a>\n",
        "<a class=\"i\" data-id=\"0:00f0f_enp6dLZdnBc\" href=\"/eby/apa/4693605784.html\"></a>\n",
        "<a class=\"hdrlnk\" data-id=\"4693605784\" href=\"/eby/apa/4693605784.html\">3 Bedroom with possible 4th bedroom, 2.5 Bath, 2 car garage, 2 Story</a>\n",
        "<a class=\"i\" data-id=\"0:00v0v_fQeql2k3V3k\" href=\"/eby/apa/4700241702.html\"></a>\n",
        "<a class=\"hdrlnk\" data-id=\"4700241702\" href=\"/eby/apa/4700241702.html\">Come home to green lawns at Pathfinder Village!</a>\n",
        "<a class=\"i\" href=\"/eby/apa/4700235796.html\"></a>\n",
        "<a class=\"hdrlnk\" data-id=\"4700235796\" href=\"/eby/apa/4700235796.html\">No trick! Lease given apartment number get $500 bonus</a>\n",
        "<a class=\"i\" data-id=\"0:00n0n_iAowFcm9uOE\" href=\"/eby/apa/4660891351.html\"></a>\n",
        "<a class=\"hdrlnk\" data-id=\"4660891351\" href=\"/eby/apa/4660891351.html\">Open House Sat 10/4 &amp; Sun 10/5 - Single Family House</a>\n",
        "<a class=\"i\" href=\"/eby/apa/4700013075.html\"></a>\n",
        "<a class=\"hdrlnk\" data-id=\"4700013075\" href=\"/eby/apa/4700013075.html\">3 Bed 2 Bath Single Family Home in Fremont</a>\n",
        "<a class=\"i\" data-id=\"0:00o0o_kiFd1TmuuG3\" href=\"/eby/apa/4699975964.html\"></a>\n",
        "<a class=\"hdrlnk\" data-id=\"4699975964\" href=\"/eby/apa/4699975964.html\">Beautiful Home for Rent in Union City</a>\n",
        "<a class=\"i\" data-id=\"0:00303_61YJEbmf6g2\" href=\"/eby/apa/4699907688.html\"></a>\n",
        "<a class=\"hdrlnk\" data-id=\"4699907688\" href=\"/eby/apa/4699907688.html\">One Bedroom , Move in Ready,</a>\n",
        "<a class=\"i\" data-id=\"0:00000_eiSJYLeUGZj\" href=\"/eby/apa/4699810558.html\"></a>\n",
        "<a class=\"hdrlnk\" data-id=\"4699810558\" href=\"/eby/apa/4699810558.html\">*Carriage House* Gated Community in a Quiet and Friendly Neighborhood!</a>\n",
        "<a class=\"i\" data-id=\"0:00O0O_lo0Oz7fCUVh\" href=\"/eby/apa/4699832711.html\"></a>\n",
        "<a class=\"hdrlnk\" data-id=\"4699832711\" href=\"/eby/apa/4699832711.html\">3BR/2.5 bath home for rent in Union City ($2895)</a>\n",
        "<a class=\"i\" data-id=\"0:00000_eiSJYLeUGZj\" href=\"/eby/apa/4699808740.html\"></a>\n",
        "<a class=\"hdrlnk\" data-id=\"4699808740\" href=\"/eby/apa/4699808740.html\">*Carriage House* Gated Community in a Quiet and Friendly Neighborhood!</a>\n",
        "<a class=\"i\" href=\"/eby/apa/4699789642.html\"></a>\n",
        "<a class=\"hdrlnk\" data-id=\"4699789642\" href=\"/eby/apa/4699789642.html\">SFH in Mission District for rent available 11/5</a>\n",
        "<a class=\"i\" data-id=\"0:00909_8KOZ61jULjT\" href=\"/eby/apa/4699784858.html\"></a>\n",
        "<a class=\"hdrlnk\" data-id=\"4699784858\" href=\"/eby/apa/4699784858.html\">Beautiful 1 bedroom in Fremont! Call now to make an appointment!!!</a>\n",
        "<a class=\"i\" href=\"/eby/apa/4699774459.html\"></a>\n",
        "<a class=\"hdrlnk\" data-id=\"4699774459\" href=\"/eby/apa/4699774459.html\">2bd/2bth town home for rent - $1900</a>\n",
        "<a class=\"i\" data-id=\"0:00N0N_1D2GZGQdMvD\" href=\"/eby/apa/4699768690.html\"></a>\n",
        "<a class=\"hdrlnk\" data-id=\"4699768690\" href=\"/eby/apa/4699768690.html\">OPEN HOUSE - Single Family Home </a>\n",
        "<a class=\"i\" data-id=\"0:01313_g2vTc0ELWic\" href=\"/eby/apa/4699745962.html\"></a>\n",
        "<a class=\"hdrlnk\" data-id=\"4699745962\" href=\"/eby/apa/4699745962.html\">Peace of Mind Washer/Dryer in Unit Fall In Love With Our Community</a>\n",
        "<a class=\"i\" data-id=\"0:00x0x_9RKBqurZJgP\" href=\"/eby/apa/4691907641.html\"></a>\n",
        "<a class=\"hdrlnk\" data-id=\"4691907641\" href=\"/eby/apa/4691907641.html\">Mission San Jose Fremont Home for Rent</a>\n",
        "<a class=\"i\" data-id=\"0:00N0N_kpjyetNT7d\" href=\"/eby/apa/4699747325.html\"></a>\n",
        "<a class=\"hdrlnk\" data-id=\"4699747325\" href=\"/eby/apa/4699747325.html\">~LUSH GARDENS, POOL, SPA, FITNESS CENTER AND BRIGHT 2 BEDROOM~</a>\n",
        "<a class=\"i\" data-id=\"0:00D0D_jEs3oanwGyj\" href=\"/eby/apa/4699743897.html\"></a>\n",
        "<a class=\"hdrlnk\" data-id=\"4699743897\" href=\"/eby/apa/4699743897.html\">RESORT STYLE LIVING IN A PRIME FREMONT LOCATION</a>\n",
        "<a class=\"i\" data-id=\"0:00K0K_fRPqhMcntQC\" href=\"/eby/apa/4699722256.html\"></a>\n",
        "<a class=\"hdrlnk\" data-id=\"4699722256\" href=\"/eby/apa/4699722256.html\">\u0095\u0095\u0095LIVE CLOSE TO THE CITY\u2665\u0095\u0095</a>\n",
        "<a class=\"i\" data-id=\"0:00H0H_gBcbekwOCgE\" href=\"/eby/apa/4699732071.html\"></a>\n",
        "<a class=\"hdrlnk\" data-id=\"4699732071\" href=\"/eby/apa/4699732071.html\">Luxry Apt: Paragon Apt 1B1B for $2000 with laundry inside the unit</a>\n",
        "<a class=\"i\" data-id=\"0:00303_3qOrVl2gGYY\" href=\"/eby/apa/4699686771.html\"></a>\n",
        "<a class=\"hdrlnk\" data-id=\"4699686771\" href=\"/eby/apa/4699686771.html\">One-Bedroom Cottage with Fireplace &amp; Patio</a>\n",
        "<a class=\"i\" data-id=\"0:00P0P_6QbixFi5hY7\" href=\"/eby/apa/4699672333.html\"></a>\n",
        "<a class=\"hdrlnk\" data-id=\"4699672333\" href=\"/eby/apa/4699672333.html\">LUSH GARDENS, POOL, SPA, FITNESS CENTER, AND BRIGHT ONE BD </a>\n",
        "<a class=\"i\" data-id=\"0:00u0u_fCjObI2d4p4\" href=\"/eby/apa/4699647359.html\"></a>\n",
        "<a class=\"hdrlnk\" data-id=\"4699647359\" href=\"/eby/apa/4699647359.html\">Visit Your New Home, Night Patrol, Fitness Ctr, Easy Freeway Access</a>\n",
        "<a class=\"i\" data-id=\"0:00202_8MFVbksUe2D\" href=\"/eby/apa/4699593268.html\"></a>\n",
        "<a class=\"hdrlnk\" data-id=\"4699593268\" href=\"/eby/apa/4699593268.html\">Stunning Two Bedroom Apartment Home Available, TODAY!!</a>\n",
        "<a class=\"i\" data-id=\"0:00M0M_a4Tf4RlIdM3\" href=\"/eby/apa/4699571954.html\"></a>\n",
        "<a class=\"hdrlnk\" data-id=\"4699571954\" href=\"/eby/apa/4699571954.html\">Warm Springs Condo</a>\n",
        "<a class=\"i\" data-id=\"0:00S0S_i5RLVK07E4J\" href=\"/eby/apa/4699579886.html\"></a>\n",
        "<a class=\"hdrlnk\" data-id=\"4699579886\" href=\"/eby/apa/4699579886.html\">3 bed 2 .5 bath townhome remodeled in Fremont</a>\n",
        "<a class=\"i\" data-id=\"0:00Y0Y_hodaTH0UStw\" href=\"/eby/apa/4699579026.html\"></a>\n",
        "<a class=\"hdrlnk\" data-id=\"4699579026\" href=\"/eby/apa/4699579026.html\">Town house for rent in Fremont for $2150</a>\n",
        "<a class=\"i\" data-id=\"0:00S0S_i5RLVK07E4J\" href=\"/eby/apa/4699576897.html\"></a>\n",
        "<a class=\"hdrlnk\" data-id=\"4699576897\" href=\"/eby/apa/4699576897.html\">3 bed 2 .5 bath townhome remodeled in Fremont</a>\n",
        "<a class=\"i\" data-id=\"0:00202_f2yFXjohypR\" href=\"/eby/apa/4699556413.html\"></a>\n",
        "<a class=\"hdrlnk\" data-id=\"4699556413\" href=\"/eby/apa/4699556413.html\">Do You Love Where You Live? Our Resident's Do!</a>\n",
        "<a class=\"i\" data-id=\"0:00r0r_270NAEqiUfU\" href=\"/eby/apa/4699560228.html\"></a>\n",
        "<a class=\"hdrlnk\" data-id=\"4699560228\" href=\"/eby/apa/4699560228.html\">Now Available, Responsive Maintenance, Spacious Floorplan</a>\n",
        "<a class=\"i\" data-id=\"0:00J0J_3lu4ezZgPMj\" href=\"/eby/apa/4699539825.html\"></a>\n",
        "<a class=\"hdrlnk\" data-id=\"4699539825\" href=\"/eby/apa/4699539825.html\">Spacious Apartment Home Available.</a>\n",
        "<a class=\"i\" data-id=\"0:00N0N_kpjyetNT7d\" href=\"/eby/apa/4699507872.html\"></a>\n",
        "<a class=\"hdrlnk\" data-id=\"4699507872\" href=\"/eby/apa/4699507872.html\">GROUND FLOOR DESIRABLE LOCATION, NEAR SHOPPING,RESTAURANTS AND FWY 880</a>\n",
        "<a class=\"i\" data-id=\"0:00g0g_6TLYtaIppEf\" href=\"/eby/apa/4699500787.html\"></a>\n",
        "<a class=\"hdrlnk\" data-id=\"4699500787\" href=\"/eby/apa/4699500787.html\">DESIGNER-INSPIRED FLOOR PLANS WITH LUSH GARDEN VIEW</a>\n",
        "<a class=\"i\" data-id=\"0:00w0w_7SDZS1N08r2\" href=\"/eby/apa/4699476877.html\"></a>\n",
        "<a class=\"hdrlnk\" data-id=\"4699476877\" href=\"/eby/apa/4699476877.html\">Mission San Jose 2 Beds,2 Baths,Car port, Townhouse</a>\n",
        "<a class=\"i\" data-id=\"0:01111_4qQFzmb2Ekb\" href=\"/eby/apa/4699468607.html\"></a>\n",
        "<a class=\"hdrlnk\" data-id=\"4699468607\" href=\"/eby/apa/4699468607.html\">Alderwood Park Apartments, Is Waiting For You!</a>\n",
        "<a class=\"i\" data-id=\"0:00505_10pkAtxS3rj\" href=\"/eby/apa/4699415772.html\"></a>\n",
        "<a class=\"hdrlnk\" data-id=\"4699415772\" href=\"/eby/apa/4699415772.html\">Short Commute on BART to Downtown SF</a>\n",
        "<a class=\"i\" href=\"/eby/apa/4699408368.html\"></a>\n",
        "<a class=\"hdrlnk\" data-id=\"4699408368\" href=\"/eby/apa/4699408368.html\">Parkmont Area - 4 Bed / 2 Bath Single-level, Single-family </a>\n",
        "<a class=\"i\" data-id=\"0:00000_a0NanWUBAeZ\" href=\"/eby/apa/4688449232.html\"></a>\n",
        "<a class=\"hdrlnk\" data-id=\"4688449232\" href=\"/eby/apa/4688449232.html\">Apartment w/ washer &amp; dryer in unit. Fitness center also!</a>\n",
        "<a class=\"i\" data-id=\"0:00000_eiSJYLeUGZj\" href=\"/eby/apa/4699326653.html\"></a>\n",
        "<a class=\"hdrlnk\" data-id=\"4699326653\" href=\"/eby/apa/4699326653.html\">*Carriage House* Gated Community in a Quiet and Friendly Neighborhood!</a>\n",
        "<a class=\"i\" data-id=\"0:00a0a_1CwapfZFE27\" href=\"/eby/apa/4699364106.html\"></a>\n",
        "<a class=\"hdrlnk\" data-id=\"4699364106\" href=\"/eby/apa/4699364106.html\">2BR in Ardenwood/Forest Park</a>\n",
        "<a class=\"i\" data-id=\"0:00N0N_kpjyetNT7d\" href=\"/eby/apa/4699350676.html\"></a>\n",
        "<a class=\"hdrlnk\" data-id=\"4699350676\" href=\"/eby/apa/4699350676.html\">~LUSH GARDENS, POOL, SPA, FITNESS CENTER AND BRIGHT 2 BEDROOM~</a>\n",
        "<a class=\"i\" data-id=\"0:00U0U_bf8BbFDP3oM\" href=\"/eby/apa/4699317288.html\"></a>\n",
        "<a class=\"hdrlnk\" data-id=\"4699317288\" href=\"/eby/apa/4699317288.html\">Are You Ready To Move..Waterstone@Fremont</a>\n",
        "<a class=\"i\" data-id=\"0:00000_eiSJYLeUGZj\" href=\"/eby/apa/4699323906.html\"></a>\n",
        "<a class=\"hdrlnk\" data-id=\"4699323906\" href=\"/eby/apa/4699323906.html\">*Carriage House* Gated Community in a Quiet and Friendly Neighborhood!</a>\n",
        "<a class=\"i\" data-id=\"0:00q0q_jqd4dVzMJHr\" href=\"/eby/apa/4699295212.html\"></a>\n",
        "<a class=\"hdrlnk\" data-id=\"4699295212\" href=\"/eby/apa/4699295212.html\">Just What You Were Looking For...Waterstone@Fremont 735 1br</a>\n",
        "<a class=\"i\" href=\"/eby/apa/4699283144.html\"></a>\n",
        "<a class=\"hdrlnk\" data-id=\"4699283144\" href=\"/eby/apa/4699283144.html\">Love..Love..Your New Home!</a>\n",
        "<a class=\"i\" data-id=\"0:00K0K_dvgG0HJSxyv\" href=\"/eby/apa/4699254762.html\"></a>\n",
        "<a class=\"hdrlnk\" data-id=\"4699254762\" href=\"/eby/apa/4699254762.html\">Medallion Is A Great Place To Call Home..</a>\n",
        "<a class=\"button first\" href=\"/search/eby/apa?nh=54\" title=\"first page\">&lt;&lt;</a>\n",
        "<a class=\"button prev\" href=\"/search/eby/apa?nh=54\" title=\"previous page\">&lt; prev</a>\n",
        "<a class=\"button next\" href=\"/search/eby/apa?s=200&amp;nh=54\" title=\"next page\"> next &gt; </a>\n",
        "<a class=\"backtotop button\" href=\"#pagecontainer\">^ back to top</a>\n",
        "<a class=\"l\" href=\"http://sfbay.craigslist.org/search/eby/apa?nh=54&amp;s=100&amp;format=rss\">RSS</a>\n",
        "<a href=\"http://www.craigslist.org/about/rss\">(?)</a>\n",
        "<a href=\"//www.craigslist.org/about/help/\">help</a>\n",
        "<a href=\"//www.craigslist.org/about/scams\">safety</a>\n",
        "<a href=\"//www.craigslist.org/about/privacy.policy\">privacy</a>\n",
        "<a href=\"https://forums.craigslist.org/?forumID=8\">feedback</a>\n",
        "<a href=\"//www.craigslist.org/about/craigslist_is_hiring\">cl jobs</a>\n",
        "<a href=\"//www.craigslist.org/about/terms.of.use\">terms</a>\n",
        "<a href=\"//www.craigslist.org/about/\">about</a>\n",
        "<a href=\"#\">mobile</a>\n",
        "<a href=\"#\">desktop</a>\n",
        "<a href=\"/\">SF bay area</a>"
       ]
      },
      {
       "output_type": "stream",
       "stream": "stdout",
       "text": [
        "\n",
        "<a href=\"/search/hhh\">housing</a>\n",
        "<a href=\"/search/apa\">apts/housing for rent</a>\n",
        "<a href=\"https://post.craigslist.org/c/sfo?lang=en\">post</a>\n",
        "<a href=\"https://accounts.craigslist.org/login/home\">account</a>\n",
        "<a class=\"favlink\" href=\"#\"><span class=\"n\">0</span> favorites</a>\n",
        "<a class=\"saveme\" href=\"https://accounts.craigslist.org/login?rt=L&amp;rp=%2Fsavesearch%2Falert%3FURL%3Dhttp%253A%252F%252Fsfbay%252Ecraigslist%252Eorg%252Fsearch%252Feby%252Fapa%253Fnh%253D54\" title=\"save this search with email alerts\">alert</a>\n",
        "<a class=\"saveme\" href=\"https://accounts.craigslist.org/login?rt=L&amp;rp=%2Fsavesearch%2Fsave%3FURL%3Dhttp%253A%252F%252Fsfbay%252Ecraigslist%252Eorg%252Fsearch%252Feby%252Fapa%253Fnh%253D54\" title=\"save this search\">save</a>\n",
        "<a class=\"category\" href=\"/search/eby/apa?nh=54\">apts/housing for rent</a>\n",
        "<a class=\"category\" href=\"/search/eby/rea?nh=54\">real estate for sale</a>\n",
        "<a class=\"category\" href=\"/search/eby/roo?nh=54\">rooms &amp; shares</a>\n",
        "<a class=\"category\" href=\"/search/eby/off?nh=54\">office &amp; commercial</a>\n",
        "<a class=\"category\" href=\"/search/eby/sha?nh=54\">room/share wanted</a>\n",
        "<a class=\"category\" href=\"/search/eby/hou?nh=54\">apts wanted</a>\n",
        "<a class=\"category\" href=\"/search/eby/prk?nh=54\">parking &amp; storage</a>\n",
        "<a class=\"category\" href=\"/search/eby/sub?nh=54\">sublets &amp; temporary</a>\n",
        "<a class=\"category\" href=\"/search/eby/rew?nh=54\">real estate wanted</a>\n",
        "<a class=\"category\" href=\"/search/eby/sbw?nh=54\">sublet/temp wanted</a>\n",
        "<a class=\"category\" href=\"/search/eby/swp?nh=54\">housing swap</a>\n",
        "<a class=\"category\" href=\"/search/eby/vac?nh=54\">vacation rentals</a>\n",
        "<a class=\"mode button\" data-view=\"list\" href=\"#list\" id=\"listview\" title=\"show results in a list\">list</a>\n",
        "<a class=\"mode button\" data-view=\"pic\" href=\"#pic\" id=\"picview\" title=\"show results in a list with thumbnail pictures\">thumb</a>\n",
        "<a class=\"mode button\" data-view=\"grid\" href=\"#grid\" id=\"gridview\" title=\"show results side-by-side with larger pictures\">gallery</a>\n",
        "<a class=\"mode button\" data-view=\"map\" href=\"#map\" id=\"mapview\" title=\"show results on a map\">map</a>\n",
        "<a class=\"button\" href=\"/search/eby/apa?sort=priceasc&amp;nh=54\" title=\"sort by price, lowest to highest\"><span class=\"pricesort\"><span class=\"pricesort\">$</span>$</span>$</a>\n",
        "<a class=\"button\" href=\"/search/eby/apa?sort=pricedsc&amp;nh=54\" title=\"sort by price, highest to lowest\">$<span class=\"pricesort\">$<span class=\"pricesort\">$</span></span></a>\n",
        "<a class=\"button first\" href=\"/search/eby/apa?nh=54\" title=\"first page\">&lt;&lt;</a>\n",
        "<a class=\"button prev\" href=\"/search/eby/apa?s=100&amp;nh=54\" title=\"previous page\">&lt; prev</a>\n",
        "<a class=\"button next\" href=\"/search/eby/apa?s=300&amp;nh=54\" title=\"next page\"> next &gt; </a>\n",
        "<a class=\"i\" data-id=\"0:00a0a_ki6ZgXlAqB\" href=\"/eby/apa/4699277316.html\"></a>\n",
        "<a class=\"hdrlnk\" data-id=\"4699277316\" href=\"/eby/apa/4699277316.html\">Alderwood Is A Pet Friendly Community, So Bring Your Pes With You!</a>\n",
        "<a class=\"i\" data-id=\"0:00505_fNUElT3Mj8F\" href=\"/eby/apa/4699268017.html\"></a>\n",
        "<a class=\"hdrlnk\" data-id=\"4699268017\" href=\"/eby/apa/4699268017.html\">Call Alderwood Today, To View This 3rd Floor Apartment!</a>\n",
        "<a class=\"i\" data-id=\"0:00A0A_6tN78StRf2t\" href=\"/eby/apa/4699292027.html\"></a>\n",
        "<a class=\"hdrlnk\" data-id=\"4699292027\" href=\"/eby/apa/4699292027.html\">Beautiful house, close to Dumbarton Bridge(Facebook), shopping center </a>\n",
        "<a class=\"i\" data-id=\"0:00A0A_6tN78StRf2t\" href=\"/eby/apa/4690236057.html\"></a>\n",
        "<a class=\"hdrlnk\" data-id=\"4690236057\" href=\"/eby/apa/4690236057.html\">Beautiful house, close to Dumbarton Bridge(Facebook), shopping center </a>\n",
        "<a class=\"i\" data-id=\"0:00F0F_lKupFk02Ssb\" href=\"/eby/apa/4699270559.html\"></a>\n",
        "<a class=\"hdrlnk\" data-id=\"4699270559\" href=\"/eby/apa/4699270559.html\">***COME BY TODAY AND LET US SHOW YOU YOUR NEXT NEW HOME***</a>\n",
        "<a class=\"i\" data-id=\"0:00K0K_eaOrypuLTwE\" href=\"/eby/apa/4699198007.html\"></a>\n",
        "<a class=\"hdrlnk\" data-id=\"4699198007\" href=\"/eby/apa/4699198007.html\">In-home laundry and tons of storage in huge, gorgeous floor plan</a>\n",
        "<a class=\"i\" data-id=\"0:00S0S_i5RLVK07E4J\" href=\"/eby/apa/4677306808.html\"></a>\n",
        "<a class=\"hdrlnk\" data-id=\"4677306808\" href=\"/eby/apa/4677306808.html\">3 bed 2 .5 bath townhome remodeled in Fremont </a>\n",
        "<a class=\"i\" href=\"/eby/apa/4693711902.html\"></a>\n",
        "<a class=\"hdrlnk\" data-id=\"4693711902\" href=\"/eby/apa/4693711902.html\">2 Bed/2 Bath 5minutes from fremont bart 8 month lease</a>\n",
        "<a class=\"i\" data-id=\"0:00606_2W5Ex2a17qc\" href=\"/eby/apa/4699196955.html\"></a>\n",
        "<a class=\"hdrlnk\" data-id=\"4699196955\" href=\"/eby/apa/4699196955.html\">Comfort and Convenience Right At Your Finger Tip..Waterstone@Fremont</a>\n",
        "<a class=\"i\" data-id=\"0:01717_4FJkWeISNmH\" href=\"/eby/apa/4699175331.html\"></a>\n",
        "<a class=\"hdrlnk\" data-id=\"4699175331\" href=\"/eby/apa/4699175331.html\">\u2666COME AND SEE WHAT YOU HAVE BEEN MISSING\u2666</a>\n",
        "<a class=\"i\" data-id=\"0:00909_8KOZ61jULjT\" href=\"/eby/apa/4699194073.html\"></a>\n",
        "<a class=\"hdrlnk\" data-id=\"4699194073\" href=\"/eby/apa/4699194073.html\">Beautiful 1 bedroom call now to make an appointment!!!</a>\n",
        "<a class=\"i\" data-id=\"0:00505_6297xq4c4kY\" href=\"/eby/apa/4699159394.html\"></a>\n",
        "<a class=\"hdrlnk\" data-id=\"4699159394\" href=\"/eby/apa/4699159394.html\">PARK-LIKE LANDSCAPING, ENJOY THE QUIET, SCENIC SURROUNDINGS</a>\n",
        "<a class=\"i\" data-id=\"0:00R0R_k5TpdIidzro\" href=\"/eby/apa/4699049342.html\"></a>\n",
        "<a class=\"hdrlnk\" data-id=\"4699049342\" href=\"/eby/apa/4699049342.html\">The Presidio Apartments ... Escape the Ordinary!</a>\n",
        "<a class=\"i\" data-id=\"0:00L0L_draW8rVwhKK\" href=\"/eby/apa/4699145623.html\"></a>\n",
        "<a class=\"hdrlnk\" data-id=\"4699145623\" href=\"/eby/apa/4699145623.html\">Beautiful Niles Community! Move-In October 18th!</a>\n",
        "<a class=\"i\" data-id=\"0:00R0R_k5TpdIidzro\" href=\"/eby/apa/4699043300.html\"></a>\n",
        "<a class=\"hdrlnk\" data-id=\"4699043300\" href=\"/eby/apa/4699043300.html\">Where Location, Quality and Value are Everything! The Presidio</a>\n",
        "<a class=\"i\" data-id=\"0:00000_eiSJYLeUGZj\" href=\"/eby/apa/4699105132.html\"></a>\n",
        "<a class=\"hdrlnk\" data-id=\"4699105132\" href=\"/eby/apa/4699105132.html\">*Carriage House* Gated Community in a Quiet and Friendly Neighborhood!</a>\n",
        "<a class=\"i\" data-id=\"0:00808_8mp8buYui5I\" href=\"/eby/apa/4699084020.html\"></a>\n",
        "<a class=\"hdrlnk\" data-id=\"4699084020\" href=\"/eby/apa/4699084020.html\">We Have Your Next Home Here at Parkside </a>\n",
        "<a class=\"i\" data-id=\"0:00000_eiSJYLeUGZj\" href=\"/eby/apa/4699098784.html\"></a>\n",
        "<a class=\"hdrlnk\" data-id=\"4699098784\" href=\"/eby/apa/4699098784.html\">*Carriage House* Gated Community in a Quiet and Friendly Neighborhood!</a>\n",
        "<a class=\"i\" data-id=\"0:00v0v_kIDpjWuX5YS\" href=\"/eby/apa/4699100651.html\"></a>\n",
        "<a class=\"hdrlnk\" data-id=\"4699100651\" href=\"/eby/apa/4699100651.html\">Here now and gone by morning. You should hurry!</a>\n",
        "<a class=\"i\" data-id=\"0:00r0r_3w5YvYTXhOO\" href=\"/eby/apa/4691078260.html\"></a>\n",
        "<a class=\"hdrlnk\" data-id=\"4691078260\" href=\"/eby/apa/4691078260.html\">Beautiful 3Bdrm Townhouse in Fremont Irvington District</a>\n",
        "<a class=\"i\" data-id=\"0:00q0q_fxuaBz2ghVl\" href=\"/eby/apa/4695043060.html\"></a>\n",
        "<a class=\"hdrlnk\" data-id=\"4695043060\" href=\"/eby/apa/4695043060.html\">One Bedroom , Move in Ready, Six month Leasing</a>\n",
        "<a class=\"i\" data-id=\"0:00D0D_9Sn2UQRVPXX\" href=\"/eby/apa/4699089858.html\"></a>\n",
        "<a class=\"hdrlnk\" data-id=\"4699089858\" href=\"/eby/apa/4699089858.html\">Why not sign today?</a>\n",
        "<a class=\"i\" data-id=\"0:00I0I_67AKdyT04mh\" href=\"/eby/apa/4699055248.html\"></a>\n",
        "<a class=\"hdrlnk\" data-id=\"4699055248\" href=\"/eby/apa/4699055248.html\">\u0095\u263bTHIS BEAUTIFUL UPGRADED APT HOME HAS ALL THE COMFORTS\u263b\u0095\u0095</a>\n",
        "<a class=\"i\" data-id=\"0:00v0v_fQeql2k3V3k\" href=\"/eby/apa/4699014214.html\"></a>\n",
        "<a class=\"hdrlnk\" data-id=\"4699014214\" href=\"/eby/apa/4699014214.html\">Fully-equipped fitness center on-site!</a>\n",
        "<a class=\"i\" data-id=\"0:00U0U_vkc6EHxIMf\" href=\"/eby/apa/4698965108.html\"></a>\n",
        "<a class=\"hdrlnk\" data-id=\"4698965108\" href=\"/eby/apa/4698965108.html\">rent negotiable:Beautiful 3 bed 2 bath condo in warm springs</a>\n",
        "<a class=\"i\" href=\"/eby/apa/4698939899.html\"></a>\n",
        "<a class=\"hdrlnk\" data-id=\"4698939899\" href=\"/eby/apa/4698939899.html\">Nice quiet 3Bed-2Bath</a>\n",
        "<a class=\"i\" data-id=\"0:00a0a_7Eoklv0y4kD\" href=\"/eby/apa/4698928647.html\"></a>\n",
        "<a class=\"hdrlnk\" data-id=\"4698928647\" href=\"/eby/apa/4698928647.html\">Two Bedrooms and Two Baths for Rent</a>\n",
        "<a class=\"i\" data-id=\"0:00w0w_3snpcqX2MJy\" href=\"/eby/apa/4698874935.html\"></a>\n",
        "<a class=\"hdrlnk\" data-id=\"4698874935\" href=\"/eby/apa/4698874935.html\">luxuary 4bed 2 bath union city $,2,999 first month</a>\n",
        "<a class=\"i\" data-id=\"0:00B0B_3HCXPXa20PH\" href=\"/eby/apa/4698634686.html\"></a>\n",
        "<a class=\"hdrlnk\" data-id=\"4698634686\" href=\"/eby/apa/4698634686.html\">4BED/3BA NEWER UNION CITY HOME.  OPEN HOUSE SATURDAY &amp; SUNDAY</a>\n",
        "<a class=\"i\" data-id=\"0:00R0R_cV4SIukuo8k\" href=\"/eby/apa/4698630835.html\"></a>\n",
        "<a class=\"hdrlnk\" data-id=\"4698630835\" href=\"/eby/apa/4698630835.html\">mission Hills Fremont</a>\n",
        "<a class=\"i\" data-id=\"0:00r0r_8kJ17LssFzS\" href=\"/eby/apa/4689816984.html\"></a>\n",
        "<a class=\"hdrlnk\" data-id=\"4689816984\" href=\"/eby/apa/4689816984.html\">2 bed 1 bath </a>\n",
        "<a class=\"i\" data-id=\"0:00V0V_JhxX0cw31c\" href=\"/eby/apa/4698595395.html\"></a>\n",
        "<a class=\"hdrlnk\" data-id=\"4698595395\" href=\"/eby/apa/4698595395.html\">Newark Single Family Home for Rent $3400 ( 3315 sq.ft )</a>\n",
        "<a class=\"i\" data-id=\"0:00y0y_7F8HaP2NpXN\" href=\"/eby/apa/4690310869.html\"></a>\n",
        "<a class=\"hdrlnk\" data-id=\"4690310869\" href=\"/eby/apa/4690310869.html\">Mission San Jose School, spacious and bright 3br/2ba house</a>\n",
        "<a class=\"i\" data-id=\"0:00m0m_fgKUaqUDuJ9\" href=\"/eby/apa/4678583672.html\"></a>\n",
        "<a class=\"hdrlnk\" data-id=\"4678583672\" href=\"/eby/apa/4678583672.html\">GREAT UNION CITY LOCATION GRANITE,FIREPLACE,HARDWOOD,W/D,STAINLESS</a>\n",
        "<a class=\"i\" data-id=\"0:00n0n_dT6KfSXv838\" href=\"/eby/apa/4698363723.html\"></a>\n",
        "<a class=\"hdrlnk\" data-id=\"4698363723\" href=\"/eby/apa/4698363723.html\">Ground Floor Unit... Come See It Now!!!</a>\n",
        "<a class=\"i\" data-id=\"0:00M0M_k5JckvZPb31\" href=\"/eby/apa/4698398616.html\"></a>\n",
        "<a class=\"hdrlnk\" data-id=\"4698398616\" href=\"/eby/apa/4698398616.html\">AMAZING AMENITIES IN PARK-LIKE COMMUNITY</a>\n",
        "<a class=\"i\" data-id=\"0:00w0w_bjqUehjLfIx\" href=\"/eby/apa/4698368576.html\"></a>\n",
        "<a class=\"hdrlnk\" data-id=\"4698368576\" href=\"/eby/apa/4698368576.html\">GREAT location + BEAUTIFUL Condo</a>\n",
        "<a class=\"i\" data-id=\"0:00f0f_kVV74JwMjtl\" href=\"/eby/apa/4698252081.html\"></a>\n",
        "<a class=\"hdrlnk\" data-id=\"4698252081\" href=\"/eby/apa/4698252081.html\">Overlooking a lovely garden and swimming pool! Live at Avalon!</a>\n",
        "<a class=\"i\" data-id=\"0:00M0M_e8cWUwEfbt5\" href=\"/eby/apa/4698247113.html\"></a>\n",
        "<a class=\"hdrlnk\" data-id=\"4698247113\" href=\"/eby/apa/4698247113.html\">Best Kept Secret! Great Price On This Wonderful Two Bedroom! Spacious!</a>\n",
        "<a class=\"i\" data-id=\"0:00K0K_9goXO02982y\" href=\"/eby/apa/4698306085.html\"></a>\n",
        "<a class=\"hdrlnk\" data-id=\"4698306085\" href=\"/eby/apa/4698306085.html\">Open House Sun 10/5, 2-4pm - Beautiful California Blossom Home</a>\n",
        "<a class=\"i\" data-id=\"0:00o0o_acOMrANTf9k\" href=\"/eby/apa/4687412961.html\"></a>\n",
        "<a class=\"hdrlnk\" data-id=\"4687412961\" href=\"/eby/apa/4687412961.html\">Amazing Location**2 BD, 2.5 BA Townhouse, 2-Car Garage w/Backyard</a>\n",
        "<a class=\"i\" data-id=\"0:00b0b_39rkjNT9YdA\" href=\"/eby/apa/4698239220.html\"></a>\n",
        "<a class=\"hdrlnk\" data-id=\"4698239220\" href=\"/eby/apa/4698239220.html\">Conveniently located, Central Fremont House: 2/2, garage, BART </a>\n",
        "<a class=\"i\" data-id=\"0:00N0N_kpjyetNT7d\" href=\"/eby/apa/4698239973.html\"></a>\n",
        "<a class=\"hdrlnk\" data-id=\"4698239973\" href=\"/eby/apa/4698239973.html\">A CHEERFUL, SUNNY PLACE READY FOR YOU TO CALL HOME! </a>\n",
        "<a class=\"i\" data-id=\"0:00A0A_4ZSTO2PPxXp\" href=\"/eby/apa/4698226049.html\"></a>\n",
        "<a class=\"hdrlnk\" data-id=\"4698226049\" href=\"/eby/apa/4698226049.html\">\u0095\u263bTHIS BEAUTIFUL UPGRADED APT HOME HAS ALL THE COMFORTS\u263b\u0095\u0095</a>\n",
        "<a class=\"i\" data-id=\"0:00D0D_f4luMZGnKBh\" href=\"/eby/apa/4698214527.html\"></a>\n",
        "<a class=\"hdrlnk\" data-id=\"4698214527\" href=\"/eby/apa/4698214527.html\">Appealing Amenities, Covered Parking, Air Conditioning, Ceiling Fan</a>\n",
        "<a class=\"i\" data-id=\"0:00v0v_bSM1pYytCIH\" href=\"/eby/apa/4698190930.html\"></a>\n",
        "<a class=\"hdrlnk\" data-id=\"4698190930\" href=\"/eby/apa/4698190930.html\">OPEN FLOOR PLAN WITH A PRIVATE PATIO &amp; GYM</a>\n",
        "<a class=\"i\" data-id=\"0:00a0a_8UQlMYMXZWW\" href=\"/eby/apa/4698128103.html\"></a>\n",
        "<a class=\"hdrlnk\" data-id=\"4698128103\" href=\"/eby/apa/4698128103.html\">2 bedroom w/ garage &amp; utilities included.. in a great neighborhood!!</a>\n",
        "<a class=\"i\" data-id=\"0:00404_ghvarNJtjGy\" href=\"/eby/apa/4698129248.html\"></a>\n",
        "<a class=\"hdrlnk\" data-id=\"4698129248\" href=\"/eby/apa/4698129248.html\">2 bed 1 bath w/ washer &amp; dryer PLUS private garage!! </a>\n",
        "<a class=\"i\" data-id=\"0:00909_1s1jt7Smo9O\" href=\"/eby/apa/4698127385.html\"></a>\n",
        "<a class=\"hdrlnk\" data-id=\"4698127385\" href=\"/eby/apa/4698127385.html\">1 bed w/ Den, Water &amp; trash included, PLUS washer &amp; dryer!!</a>\n",
        "<a class=\"i\" data-id=\"0:00T0T_20Hxxk9bAoA\" href=\"/eby/apa/4698143233.html\"></a>\n",
        "<a class=\"hdrlnk\" data-id=\"4698143233\" href=\"/eby/apa/4698143233.html\">Mission SAN JOSE AREA/SCHOOLS</a>\n",
        "<a class=\"i\" data-id=\"0:00s0s_aWEr7Xw5op\" href=\"/eby/apa/4690203597.html\"></a>\n",
        "<a class=\"hdrlnk\" data-id=\"4690203597\" href=\"/eby/apa/4690203597.html\">Beautiful and newly remodeled home - Excellent Parkmont Elem School</a>\n",
        "<a class=\"i\" data-id=\"0:00f0f_6PYrga6GUr2\" href=\"/eby/apa/4698118072.html\"></a>\n",
        "<a class=\"hdrlnk\" data-id=\"4698118072\" href=\"/eby/apa/4698118072.html\">\u25d8\u2665EVERYONE IS WELCOME HOME HERE AT RANCHO LUNA/SOL \u25d8\u2665</a>\n",
        "<a class=\"i\" data-id=\"0:00000_1jCsL7wD5Di\" href=\"/eby/apa/4680586921.html\"></a>\n",
        "<a class=\"hdrlnk\" data-id=\"4680586921\" href=\"/eby/apa/4680586921.html\">Beautiful Glenmoor Area Home!</a>\n",
        "<a class=\"i\" data-id=\"0:00Q0Q_iMiad7souSB\" href=\"/eby/apa/4698070183.html\"></a>\n",
        "<a class=\"hdrlnk\" data-id=\"4698070183\" href=\"/eby/apa/4698070183.html\">Upgraded And Available Now!!</a>\n",
        "<a class=\"i\" data-id=\"0:00909_1s1jt7Smo9O\" href=\"/eby/apa/4698037498.html\"></a>\n",
        "<a class=\"hdrlnk\" data-id=\"4698037498\" href=\"/eby/apa/4698037498.html\">1 bedroom w/ Den in Ardenwood neighborhood.. Pets welcomed \u263a\u263b\u263a</a>\n",
        "<a class=\"i\" data-id=\"0:00000_eiSJYLeUGZj\" href=\"/eby/apa/4698074682.html\"></a>\n",
        "<a class=\"hdrlnk\" data-id=\"4698074682\" href=\"/eby/apa/4698074682.html\">*Carriage House* Gated Community in a Quiet and Friendly Neighborhood!</a>\n",
        "<a class=\"i\" data-id=\"0:01515_9sAFrjvR6lg\" href=\"/eby/apa/4698075793.html\"></a>\n",
        "<a class=\"hdrlnk\" data-id=\"4698075793\" href=\"/eby/apa/4698075793.html\">MISSION SAN JOSE    FREMONT</a>\n",
        "<a class=\"i\" data-id=\"0:00707_kT474JuwnSH\" href=\"/eby/apa/4698043537.html\"></a>\n",
        "<a class=\"hdrlnk\" data-id=\"4698043537\" href=\"/eby/apa/4698043537.html\">Walking distance to Forest Park School, come see this great floorplan!</a>\n",
        "<a class=\"i\" data-id=\"0:00000_eiSJYLeUGZj\" href=\"/eby/apa/4698070464.html\"></a>\n",
        "<a class=\"hdrlnk\" data-id=\"4698070464\" href=\"/eby/apa/4698070464.html\">*Carriage House* Gated Community in a Quiet and Friendly Neighborhood!</a>\n",
        "<a class=\"i\" data-id=\"0:00P0P_6SY6xLYZMY8\" href=\"/eby/apa/4698067143.html\"></a>\n",
        "<a class=\"hdrlnk\" data-id=\"4698067143\" href=\"/eby/apa/4698067143.html\">Ardenwood townhome w/ attached garage + washer &amp; dryer!! </a>\n",
        "<a class=\"i\" data-id=\"0:00101_f0AiyGhMMth\" href=\"/eby/apa/4698073411.html\"></a>\n",
        "<a class=\"hdrlnk\" data-id=\"4698073411\" href=\"/eby/apa/4698073411.html\">Find Your New Home At Briarwood!</a>\n",
        "<a class=\"i\" data-id=\"0:00p0p_1qs7JzSqbXF\" href=\"/eby/apa/4698059621.html\"></a>\n",
        "<a class=\"hdrlnk\" data-id=\"4698059621\" href=\"/eby/apa/4698059621.html\">Right In The Heart Of Fremont!</a>\n",
        "<a class=\"i\" data-id=\"0:01717_4FJkWeISNmH\" href=\"/eby/apa/4698059282.html\"></a>\n",
        "<a class=\"hdrlnk\" data-id=\"4698059282\" href=\"/eby/apa/4698059282.html\">\u25d8CLOSE AND CONVENIENT FOR YOUR LIFESTYLE\u25d8</a>\n",
        "<a class=\"i\" data-id=\"0:00a0a_8UQlMYMXZWW\" href=\"/eby/apa/4698040171.html\"></a>\n",
        "<a class=\"hdrlnk\" data-id=\"4698040171\" href=\"/eby/apa/4698040171.html\">2 bedroom w/ garage &amp; utilities included.. in a great neighborhood!!</a>\n",
        "<a class=\"i\" data-id=\"0:00F0F_3umjXFYXwRO\" href=\"/eby/apa/4698044778.html\"></a>\n",
        "<a class=\"hdrlnk\" data-id=\"4698044778\" href=\"/eby/apa/4698044778.html\">2 bedroom w/ attached garage in nice Ardenwood neighborhood</a>\n",
        "<a class=\"i\" data-id=\"0:00M0M_fxvrBwLJG14\" href=\"/eby/apa/4698042573.html\"></a>\n",
        "<a class=\"hdrlnk\" data-id=\"4698042573\" href=\"/eby/apa/4698042573.html\">Pets welcome at Ardenwood Forest.. 2 bedrooms available!!</a>\n",
        "<a class=\"i\" data-id=\"0:00F0F_bgkkyoZTZuV\" href=\"/eby/apa/4697989492.html\"></a>\n",
        "<a class=\"hdrlnk\" data-id=\"4697989492\" href=\"/eby/apa/4697989492.html\">2BD/2.5BA TOWNHOME WITH STORAGE, WOOD PLANK FLOORING, AND PATIO</a>\n",
        "<a class=\"i\" data-id=\"0:00Q0Q_aIxtlUB5CMh\" href=\"/eby/apa/4698017808.html\"></a>\n",
        "<a class=\"hdrlnk\" data-id=\"4698017808\" href=\"/eby/apa/4698017808.html\">Charming, and Spacious 4 BR/2.5 BA Single Family House in Fremont</a>\n",
        "<a class=\"i\" data-id=\"0:00Y0Y_iv5R7nG1doU\" href=\"/eby/apa/4697962937.html\"></a>\n",
        "<a class=\"hdrlnk\" data-id=\"4697962937\" href=\"/eby/apa/4697962937.html\">Up-Stairs Corner Unit  Large Walk-In Closet...</a>\n",
        "<a class=\"i\" data-id=\"0:00H0H_dJibKEV1YRD\" href=\"/eby/apa/4697992048.html\"></a>\n",
        "<a class=\"hdrlnk\" data-id=\"4697992048\" href=\"/eby/apa/4697992048.html\">$3200 / 4BR-3BA - 2030ft\ufffd - Bright Ardenwood SFH Open House 2-4pm10/5 </a>\n",
        "<a class=\"i\" href=\"/eby/apa/4697982824.html\"></a>\n",
        "<a class=\"hdrlnk\" data-id=\"4697982824\" href=\"/eby/apa/4697982824.html\">Creek side  home for rent</a>\n",
        "<a class=\"i\" data-id=\"0:00N0N_kpjyetNT7d\" href=\"/eby/apa/4697918601.html\"></a>\n",
        "<a class=\"hdrlnk\" data-id=\"4697918601\" href=\"/eby/apa/4697918601.html\">YOUR PERFECT APARMENT HOME IN A BEAUTIFUL PARK SETTING, RESORT STYLE </a>\n",
        "<a class=\"i\" data-id=\"0:00Y0Y_9oJQJNLvhud\" href=\"/eby/apa/4697919602.html\"></a>\n",
        "<a class=\"hdrlnk\" data-id=\"4697919602\" href=\"/eby/apa/4697919602.html\">Beautiful 5 bedroom 3 bath house $3,600.00 in a quiet neighborhood</a>\n",
        "<a class=\"i\" data-id=\"0:00a0a_CxXAZ09Z46\" href=\"/eby/apa/4697880731.html\"></a>\n",
        "<a class=\"hdrlnk\" data-id=\"4697880731\" href=\"/eby/apa/4697880731.html\">Move-in Special! October Rent is Free!</a>\n",
        "<a class=\"i\" href=\"/eby/apa/4697909692.html\"></a>\n",
        "<a class=\"hdrlnk\" data-id=\"4697909692\" href=\"/eby/apa/4697909692.html\">Great Location for Commuting Large Townhouse in Gated community</a>\n",
        "<a class=\"i\" data-id=\"0:00I0I_jnUyXEFbXDf\" href=\"/eby/apa/4697851518.html\"></a>\n",
        "<a class=\"hdrlnk\" data-id=\"4697851518\" href=\"/eby/apa/4697851518.html\">Stunning 3X2 Apartment with W/D Set in Fremont!</a>\n",
        "<a class=\"i\" data-id=\"0:00T0T_l6SFov9DEZ0\" href=\"/eby/apa/4694607625.html\"></a>\n",
        "<a class=\"hdrlnk\" data-id=\"4694607625\" href=\"/eby/apa/4694607625.html\">Beautiful Home in the Cabrillo Area of Fremont!</a>\n",
        "<a class=\"i\" data-id=\"0:00M0M_e8cWUwEfbt5\" href=\"/eby/apa/4697861697.html\"></a>\n",
        "<a class=\"hdrlnk\" data-id=\"4697861697\" href=\"/eby/apa/4697861697.html\">Two Bedroom! Featuring Granite Countertops! Washer &amp; Dryer!</a>\n",
        "<a class=\"i\" data-id=\"0:00c0c_eU6NVya4DG3\" href=\"/eby/apa/4697823337.html\"></a>\n",
        "<a class=\"hdrlnk\" data-id=\"4697823337\" href=\"/eby/apa/4697823337.html\">Beautiful Furnished 5BD/4Bath in Fremont </a>\n",
        "<a class=\"i\" data-id=\"0:00n0n_6wqgwfkjPUW\" href=\"/eby/apa/4697815706.html\"></a>\n",
        "<a class=\"hdrlnk\" data-id=\"4697815706\" href=\"/eby/apa/4697815706.html\">DON'T LET THIS ONE GET AWAY! SUNNY, QUIET, SPACIOUS &amp; BEAUTIFUL HOME!</a>\n",
        "<a class=\"i\" data-id=\"0:00P0P_gnhVlhyC4yb\" href=\"/eby/apa/4697804566.html\"></a>\n",
        "<a class=\"hdrlnk\" data-id=\"4697804566\" href=\"/eby/apa/4697804566.html\">RESORT LIVING IN A SERENE PARK SETTING </a>\n",
        "<a class=\"i\" data-id=\"0:00S0S_cFBcw8X4Ktq\" href=\"/eby/apa/4697822736.html\"></a>\n",
        "<a class=\"hdrlnk\" data-id=\"4697822736\" href=\"/eby/apa/4697822736.html\">\u2666COME AND SEE WHAT YOU HAVE BEEN MISSING\u2666</a>\n",
        "<a class=\"i\" data-id=\"0:00j0j_kyYoArM7pOd\" href=\"/eby/apa/4697820876.html\"></a>\n",
        "<a class=\"hdrlnk\" data-id=\"4697820876\" href=\"/eby/apa/4697820876.html\">Fully furnished trailer home, all util pd</a>\n",
        "<a class=\"i\" data-id=\"0:00N0N_a1izzqGSeUJ\" href=\"/eby/apa/4697814849.html\"></a>\n",
        "<a class=\"hdrlnk\" data-id=\"4697814849\" href=\"/eby/apa/4697814849.html\">Fully furnished trailer home</a>\n",
        "<a class=\"i\" data-id=\"0:01515_6ZKcUaotSJM\" href=\"/eby/apa/4667100523.html\"></a>\n",
        "<a class=\"hdrlnk\" data-id=\"4667100523\" href=\"/eby/apa/4667100523.html\">4 beds/2 baths near Stevenson /Sundale/880 walking distance to schools</a>\n",
        "<a class=\"i\" data-id=\"0:00909_8KOZ61jULjT\" href=\"/eby/apa/4697744467.html\"></a>\n",
        "<a class=\"hdrlnk\" data-id=\"4697744467\" href=\"/eby/apa/4697744467.html\">Beautiful 1 bedroom with brand new carpet &amp; lino!</a>\n",
        "<a class=\"i\" data-id=\"0:00v0v_bPArceVPvEB\" href=\"/eby/apa/4697743511.html\"></a>\n",
        "<a class=\"hdrlnk\" data-id=\"4697743511\" href=\"/eby/apa/4697743511.html\">Spacious Studi Apartment in Downtown Fremont</a>\n",
        "<a class=\"i\" data-id=\"0:00d0d_eFu9fJn8RzZ\" href=\"/eby/apa/4697740080.html\"></a>\n",
        "<a class=\"hdrlnk\" data-id=\"4697740080\" href=\"/eby/apa/4697740080.html\">Townhouse Style Condo / 3 Bedroom 3 Bath -Open House 10/4/14</a>\n",
        "<a class=\"i\" data-id=\"0:00S0S_ejfVchAqhve\" href=\"/eby/apa/4697678398.html\"></a>\n",
        "<a class=\"hdrlnk\" data-id=\"4697678398\" href=\"/eby/apa/4697678398.html\">Available Immediately!!!</a>\n",
        "<a class=\"i\" data-id=\"0:00R0R_c8fJhxvCZIo\" href=\"/eby/apa/4697659704.html\"></a>\n",
        "<a class=\"hdrlnk\" data-id=\"4697659704\" href=\"/eby/apa/4697659704.html\">Nice Fremont house open Sunday 12:00-12:30</a>\n",
        "<a class=\"i\" data-id=\"0:00N0N_kpjyetNT7d\" href=\"/eby/apa/4697600833.html\"></a>\n",
        "<a class=\"hdrlnk\" data-id=\"4697600833\" href=\"/eby/apa/4697600833.html\">GROUND FLOOR DESIRABLE LOCATION, NEAR SHOPPING,RESTAURANTS AND FWY 880</a>\n",
        "<a class=\"i\" href=\"/eby/apa/4697579201.html\"></a>\n",
        "<a class=\"hdrlnk\" data-id=\"4697579201\" href=\"/eby/apa/4697579201.html\"> Beautiful 2BR/2BA Condo- Near BART</a>\n",
        "<a class=\"i\" data-id=\"0:00w0w_4gFy7Plbgb2\" href=\"/eby/apa/4693029747.html\"></a>\n",
        "<a class=\"hdrlnk\" data-id=\"4693029747\" href=\"/eby/apa/4693029747.html\">Fremont 3Bed-2Bath house for rent ALL UTILITIES INCLUDED</a>\n",
        "<a class=\"i\" data-id=\"0:00j0j_9QeMHvlLMze\" href=\"/eby/apa/4693728424.html\"></a>\n",
        "<a class=\"hdrlnk\" data-id=\"4693728424\" href=\"/eby/apa/4693728424.html\">$2200 1100sqft - 3BR/2BA HOUSE in UNION CITY</a>\n",
        "<a class=\"i\" data-id=\"0:00R0R_k5TpdIidzro\" href=\"/eby/apa/4697526374.html\"></a>\n",
        "<a class=\"hdrlnk\" data-id=\"4697526374\" href=\"/eby/apa/4697526374.html\">The Presidio Apartments ... Like No Place Else!</a>\n",
        "<a class=\"i\" data-id=\"0:00D0D_9Sn2UQRVPXX\" href=\"/eby/apa/4697552903.html\"></a>\n",
        "<a class=\"hdrlnk\" data-id=\"4697552903\" href=\"/eby/apa/4697552903.html\">Furnished Apartment home Ready for Move In!</a>\n",
        "<a class=\"i\" data-id=\"0:00R0R_k5TpdIidzro\" href=\"/eby/apa/4697519632.html\"></a>\n",
        "<a class=\"hdrlnk\" data-id=\"4697519632\" href=\"/eby/apa/4697519632.html\">Come Home and Relax at The Presidio.</a>\n",
        "<a class=\"i\" data-id=\"0:00v0v_kIDpjWuX5YS\" href=\"/eby/apa/4697529549.html\"></a>\n",
        "<a class=\"hdrlnk\" data-id=\"4697529549\" href=\"/eby/apa/4697529549.html\">Just the place you need.</a>\n",
        "<a class=\"i\" data-id=\"0:00D0D_9Sn2UQRVPXX\" href=\"/eby/apa/4697522305.html\"></a>\n",
        "<a class=\"hdrlnk\" data-id=\"4697522305\" href=\"/eby/apa/4697522305.html\">Here now and gone by morning. You should hurry!</a>\n",
        "<a class=\"i\" data-id=\"0:01313_6gU49lyb5fg\" href=\"/eby/apa/4697507681.html\"></a>\n",
        "<a class=\"hdrlnk\" data-id=\"4697507681\" href=\"/eby/apa/4697507681.html\">4-6 months short term rental in Fremont Mission SJ House 4 br 3 bath </a>\n",
        "<a class=\"button first\" href=\"/search/eby/apa?nh=54\" title=\"first page\">&lt;&lt;</a>\n",
        "<a class=\"button prev\" href=\"/search/eby/apa?s=100&amp;nh=54\" title=\"previous page\">&lt; prev</a>\n",
        "<a class=\"button next\" href=\"/search/eby/apa?s=300&amp;nh=54\" title=\"next page\"> next &gt; </a>\n",
        "<a class=\"backtotop button\" href=\"#pagecontainer\">^ back to top</a>\n",
        "<a class=\"l\" href=\"http://sfbay.craigslist.org/search/eby/apa?nh=54&amp;s=200&amp;format=rss\">RSS</a>\n",
        "<a href=\"http://www.craigslist.org/about/rss\">(?)</a>\n",
        "<a href=\"//www.craigslist.org/about/help/\">help</a>\n",
        "<a href=\"//www.craigslist.org/about/scams\">safety</a>\n",
        "<a href=\"//www.craigslist.org/about/privacy.policy\">privacy</a>\n",
        "<a href=\"https://forums.craigslist.org/?forumID=8\">feedback</a>\n",
        "<a href=\"//www.craigslist.org/about/craigslist_is_hiring\">cl jobs</a>\n",
        "<a href=\"//www.craigslist.org/about/terms.of.use\">terms</a>\n",
        "<a href=\"//www.craigslist.org/about/\">about</a>\n",
        "<a href=\"#\">mobile</a>\n",
        "<a href=\"#\">desktop</a>\n",
        "<a href=\"/\">SF bay area</a>"
       ]
      },
      {
       "output_type": "stream",
       "stream": "stdout",
       "text": [
        "\n",
        "<a href=\"/search/hhh\">housing</a>\n",
        "<a href=\"/search/apa\">apts/housing for rent</a>\n",
        "<a href=\"https://post.craigslist.org/c/sfo?lang=en\">post</a>\n",
        "<a href=\"https://accounts.craigslist.org/login/home\">account</a>\n",
        "<a class=\"favlink\" href=\"#\"><span class=\"n\">0</span> favorites</a>\n",
        "<a class=\"saveme\" href=\"https://accounts.craigslist.org/login?rt=L&amp;rp=%2Fsavesearch%2Falert%3FURL%3Dhttp%253A%252F%252Fsfbay%252Ecraigslist%252Eorg%252Fsearch%252Feby%252Fapa%253Fnh%253D54\" title=\"save this search with email alerts\">alert</a>\n",
        "<a class=\"saveme\" href=\"https://accounts.craigslist.org/login?rt=L&amp;rp=%2Fsavesearch%2Fsave%3FURL%3Dhttp%253A%252F%252Fsfbay%252Ecraigslist%252Eorg%252Fsearch%252Feby%252Fapa%253Fnh%253D54\" title=\"save this search\">save</a>\n",
        "<a class=\"category\" href=\"/search/eby/apa?nh=54\">apts/housing for rent</a>\n",
        "<a class=\"category\" href=\"/search/eby/rea?nh=54\">real estate for sale</a>\n",
        "<a class=\"category\" href=\"/search/eby/roo?nh=54\">rooms &amp; shares</a>\n",
        "<a class=\"category\" href=\"/search/eby/off?nh=54\">office &amp; commercial</a>\n",
        "<a class=\"category\" href=\"/search/eby/sha?nh=54\">room/share wanted</a>\n",
        "<a class=\"category\" href=\"/search/eby/hou?nh=54\">apts wanted</a>\n",
        "<a class=\"category\" href=\"/search/eby/prk?nh=54\">parking &amp; storage</a>\n",
        "<a class=\"category\" href=\"/search/eby/sub?nh=54\">sublets &amp; temporary</a>\n",
        "<a class=\"category\" href=\"/search/eby/rew?nh=54\">real estate wanted</a>\n",
        "<a class=\"category\" href=\"/search/eby/sbw?nh=54\">sublet/temp wanted</a>\n",
        "<a class=\"category\" href=\"/search/eby/swp?nh=54\">housing swap</a>\n",
        "<a class=\"category\" href=\"/search/eby/vac?nh=54\">vacation rentals</a>\n",
        "<a class=\"mode button\" data-view=\"list\" href=\"#list\" id=\"listview\" title=\"show results in a list\">list</a>\n",
        "<a class=\"mode button\" data-view=\"pic\" href=\"#pic\" id=\"picview\" title=\"show results in a list with thumbnail pictures\">thumb</a>\n",
        "<a class=\"mode button\" data-view=\"grid\" href=\"#grid\" id=\"gridview\" title=\"show results side-by-side with larger pictures\">gallery</a>\n",
        "<a class=\"mode button\" data-view=\"map\" href=\"#map\" id=\"mapview\" title=\"show results on a map\">map</a>\n",
        "<a class=\"button\" href=\"/search/eby/apa?sort=priceasc&amp;nh=54\" title=\"sort by price, lowest to highest\"><span class=\"pricesort\"><span class=\"pricesort\">$</span>$</span>$</a>\n",
        "<a class=\"button\" href=\"/search/eby/apa?sort=pricedsc&amp;nh=54\" title=\"sort by price, highest to lowest\">$<span class=\"pricesort\">$<span class=\"pricesort\">$</span></span></a>\n",
        "<a class=\"button first\" href=\"/search/eby/apa?nh=54\" title=\"first page\">&lt;&lt;</a>\n",
        "<a class=\"button prev\" href=\"/search/eby/apa?s=200&amp;nh=54\" title=\"previous page\">&lt; prev</a>\n",
        "<a class=\"button next\" href=\"/search/eby/apa?s=400&amp;nh=54\" title=\"next page\"> next &gt; </a>\n",
        "<a class=\"i\" href=\"/eby/apa/4697356836.html\"></a>\n",
        "<a class=\"hdrlnk\" data-id=\"4697356836\" href=\"/eby/apa/4697356836.html\">  house for rent</a>\n",
        "<a class=\"i\" data-id=\"0:01717_9VgQPnrktev\" href=\"/eby/apa/4697439879.html\"></a>\n",
        "<a class=\"hdrlnk\" data-id=\"4697439879\" href=\"/eby/apa/4697439879.html\">VICTORIA GARDENS SENIOR COMMUNITY FOR ACTIVE ADULTS 55 &amp; OLDER</a>\n",
        "<a class=\"i\" data-id=\"0:01717_dAf8n3O6poI\" href=\"/eby/apa/4697397493.html\"></a>\n",
        "<a class=\"hdrlnk\" data-id=\"4697397493\" href=\"/eby/apa/4697397493.html\">AMAZING 2BED/1BATH AVAILABLE!!</a>\n",
        "<a class=\"i\" data-id=\"0:00000_eumamw4QmrD\" href=\"/eby/apa/4697182989.html\"></a>\n",
        "<a class=\"hdrlnk\" data-id=\"4697182989\" href=\"/eby/apa/4697182989.html\">Remodeled townhome in Union City 3BR, 1280 ft2</a>\n",
        "<a class=\"i\" href=\"/eby/apa/4697054204.html\"></a>\n",
        "<a class=\"hdrlnk\" data-id=\"4697054204\" href=\"/eby/apa/4697054204.html\">Spacious 4beds/3.5baths House in Ardenwood</a>\n",
        "<a class=\"i\" data-id=\"0:00P0P_66goakhD6WF\" href=\"/eby/apa/4652800577.html\"></a>\n",
        "<a class=\"hdrlnk\" data-id=\"4652800577\" href=\"/eby/apa/4652800577.html\">Spacious house with hot tub - OPEN HOUSE</a>\n",
        "<a class=\"i\" data-id=\"0:00303_fKORlvzBYYz\" href=\"/eby/apa/4653433703.html\"></a>\n",
        "<a class=\"hdrlnk\" data-id=\"4653433703\" href=\"/eby/apa/4653433703.html\">OPEN HOUSE - Gorgeous Single Family House</a>\n",
        "<a class=\"i\" data-id=\"0:00b0b_a09ZWaOnYNN\" href=\"/eby/apa/4697045921.html\"></a>\n",
        "<a class=\"hdrlnk\" data-id=\"4697045921\" href=\"/eby/apa/4697045921.html\">\u96c5\u623f\u51fa\u79df</a>\n",
        "<a class=\"i\" data-id=\"0:00808_enMmIM0CQqa\" href=\"/eby/apa/4697037923.html\"></a>\n",
        "<a class=\"hdrlnk\" data-id=\"4697037923\" href=\"/eby/apa/4697037923.html\">*Irvington High School area 3bedroom 2 bath SFH*Open House 10/4 2- 4pm</a>\n",
        "<a class=\"i\" data-id=\"0:00o0o_770j4yJ5LPO\" href=\"/eby/apa/4696985708.html\"></a>\n",
        "<a class=\"hdrlnk\" data-id=\"4696985708\" href=\"/eby/apa/4696985708.html\">Gorgeous Mission Fremont Home ... Will not Last!!!</a>\n",
        "<a class=\"i\" data-id=\"0:00y0y_iI4mZXlPPK7\" href=\"/eby/apa/4696943761.html\"></a>\n",
        "<a class=\"hdrlnk\" data-id=\"4696943761\" href=\"/eby/apa/4696943761.html\">NEWLY REMODLED TWO BED TWONHOUSE</a>\n",
        "<a class=\"i\" data-id=\"0:00N0N_2hPSao0gAcM\" href=\"/eby/apa/4696846506.html\"></a>\n",
        "<a class=\"hdrlnk\" data-id=\"4696846506\" href=\"/eby/apa/4696846506.html\">\u25d8\u2665EVERYONE IS WELCOME HOME HERE AT RANCHO LUNA/SOL \u25d8\u2665</a>\n",
        "<a class=\"i\" data-id=\"0:00S0S_cRcczfVvB6A\" href=\"/eby/apa/4696853159.html\"></a>\n",
        "<a class=\"hdrlnk\" data-id=\"4696853159\" href=\"/eby/apa/4696853159.html\">\u2666\u263aBRAND NEW EVERYTHING!\u2666\u263a</a>\n",
        "<a class=\"i\" href=\"/eby/apa/4690244813.html\"></a>\n",
        "<a class=\"hdrlnk\" data-id=\"4690244813\" href=\"/eby/apa/4690244813.html\">Large Tri-Level Townhouse in Liberty Commons</a>\n",
        "<a class=\"i\" data-id=\"0:00P0P_gnhVlhyC4yb\" href=\"/eby/apa/4696776737.html\"></a>\n",
        "<a class=\"hdrlnk\" data-id=\"4696776737\" href=\"/eby/apa/4696776737.html\">PARK-LIKE LANDSCAPING, POOL, SPA, FITNESS CENTER</a>\n",
        "<a class=\"i\" data-id=\"0:00202_7HsCbkTon54\" href=\"/eby/apa/4696746593.html\"></a>\n",
        "<a class=\"hdrlnk\" data-id=\"4696746593\" href=\"/eby/apa/4696746593.html\">Fremont single house one room for rent</a>\n",
        "<a class=\"i\" data-id=\"0:00r0r_270NAEqiUfU\" href=\"/eby/apa/4696647796.html\"></a>\n",
        "<a class=\"hdrlnk\" data-id=\"4696647796\" href=\"/eby/apa/4696647796.html\">Luxurious Homes, Walk to BART, Washer Dryer in Unit</a>\n",
        "<a class=\"i\" data-id=\"0:00c0c_bvTncySuv5d\" href=\"/eby/apa/4696600813.html\"></a>\n",
        "<a class=\"hdrlnk\" data-id=\"4696600813\" href=\"/eby/apa/4696600813.html\">SPACIOUS, Townhome Apartments</a>\n",
        "<a class=\"i\" data-id=\"0:00F0F_5ISj4XsX6wq\" href=\"/eby/apa/4696567064.html\"></a>\n",
        "<a class=\"hdrlnk\" data-id=\"4696567064\" href=\"/eby/apa/4696567064.html\">Beautiful Community! Spacious Two Bedroom! Washer &amp; Dryer! Hurry!</a>\n",
        "<a class=\"i\" data-id=\"0:01515_esYXx8MIdtQ\" href=\"/eby/apa/4696542688.html\"></a>\n",
        "<a class=\"hdrlnk\" data-id=\"4696542688\" href=\"/eby/apa/4696542688.html\">2 BR Town Homes Available In October</a>\n",
        "<a class=\"i\" data-id=\"0:00l0l_lfOPMEXD3Co\" href=\"/eby/apa/4696546445.html\"></a>\n",
        "<a class=\"hdrlnk\" data-id=\"4696546445\" href=\"/eby/apa/4696546445.html\">AMAZING AMENITIES IN PARK-LIKE COMMUNITY</a>\n",
        "<a class=\"i\" data-id=\"0:00U0U_dT2Vy99SgOz\" href=\"/eby/apa/4696513705.html\"></a>\n",
        "<a class=\"hdrlnk\" data-id=\"4696513705\" href=\"/eby/apa/4696513705.html\">\u0095\u263bTHIS BEAUTIFUL UPGRADED APT HOME HAS ALL THE COMFORTS\u263b\u0095\u0095</a>\n",
        "<a class=\"i\" data-id=\"0:01212_6b4awnNx7hX\" href=\"/eby/apa/4696512110.html\"></a>\n",
        "<a class=\"hdrlnk\" data-id=\"4696512110\" href=\"/eby/apa/4696512110.html\">\u2665LOOKING FOR PEACE AND QUIET\u2665 COME AND TOUR TODAY\u2665</a>\n",
        "<a class=\"i\" data-id=\"0:00y0y_eb40QM5LdtX\" href=\"/eby/apa/4653066735.html\"></a>\n",
        "<a class=\"hdrlnk\" data-id=\"4653066735\" href=\"/eby/apa/4653066735.html\"> Walk to Weibel school</a>\n",
        "<a class=\"i\" data-id=\"0:00v0v_34SZnUC6tx\" href=\"/eby/apa/4696451679.html\"></a>\n",
        "<a class=\"hdrlnk\" data-id=\"4696451679\" href=\"/eby/apa/4696451679.html\">Spacious 1 Bed 1 Bath Upgraded Upstairs Apartment with Granite!</a>\n",
        "<a class=\"i\" data-id=\"0:00F0F_lKupFk02Ssb\" href=\"/eby/apa/4696428196.html\"></a>\n",
        "<a class=\"hdrlnk\" data-id=\"4696428196\" href=\"/eby/apa/4696428196.html\">***COME BY TODAY AND LET US SHOW YOU YOUR NEXT NEW HOME***</a>\n",
        "<a class=\"i\" data-id=\"0:00S0S_i5RLVK07E4J\" href=\"/eby/apa/4696417639.html\"></a>\n",
        "<a class=\"hdrlnk\" data-id=\"4696417639\" href=\"/eby/apa/4696417639.html\">Great 3 bed 2.5 bath townhome remodeled in Fremont </a>\n",
        "<a class=\"i\" data-id=\"0:00m0m_dT6ZcwnkNMz\" href=\"/eby/apa/4691326055.html\"></a>\n",
        "<a class=\"hdrlnk\" data-id=\"4691326055\" href=\"/eby/apa/4691326055.html\">3 br 2.5ba Townhouse -  Garage Pool Dishwasher</a>\n",
        "<a class=\"i\" href=\"/eby/apa/4696350812.html\"></a>\n",
        "<a class=\"hdrlnk\" data-id=\"4696350812\" href=\"/eby/apa/4696350812.html\">Available Immediately!!!</a>\n",
        "<a class=\"i\" data-id=\"0:00L0L_l0lBNSVbqBc\" href=\"/eby/apa/4696299251.html\"></a>\n",
        "<a class=\"hdrlnk\" data-id=\"4696299251\" href=\"/eby/apa/4696299251.html\">Come Lease Today!! They Are Going Fast....</a>\n",
        "<a class=\"i\" data-id=\"0:00U0U_jYZYr306Qx0\" href=\"/eby/apa/4696285664.html\"></a>\n",
        "<a class=\"hdrlnk\" data-id=\"4696285664\" href=\"/eby/apa/4696285664.html\">Up to $2,200 Off First Months Rent-3BD/2BA with Quartz Countertops</a>\n",
        "<a class=\"i\" data-id=\"0:00S0S_i5RLVK07E4J\" href=\"/eby/apa/4655920426.html\"></a>\n",
        "<a class=\"hdrlnk\" data-id=\"4655920426\" href=\"/eby/apa/4655920426.html\">Great 3 bed 2.5 bath townhouse remodeled in Fremont </a>\n",
        "<a class=\"i\" data-id=\"0:00S0S_i5RLVK07E4J\" href=\"/eby/apa/4696287452.html\"></a>\n",
        "<a class=\"hdrlnk\" data-id=\"4696287452\" href=\"/eby/apa/4696287452.html\">Great 3 bed 2.5 bath townhome remodeled in Fremont </a>\n",
        "<a class=\"i\" data-id=\"0:00n0n_6wqgwfkjPUW\" href=\"/eby/apa/4696271618.html\"></a>\n",
        "<a class=\"hdrlnk\" data-id=\"4696271618\" href=\"/eby/apa/4696271618.html\">ELEGANTLY DESIGNED 2 BEDROOMS IN A BEAUTIFULLY LANDSCAPED COMMUNITY</a>\n",
        "<a class=\"i\" data-id=\"0:01515_b0MRAomIJw7\" href=\"/eby/apa/4685720486.html\"></a>\n",
        "<a class=\"hdrlnk\" data-id=\"4685720486\" href=\"/eby/apa/4685720486.html\">3BR/2.5BA Home For Rent in Fremont (Ardenwood)</a>\n",
        "<a class=\"i\" data-id=\"0:00M0M_e8cWUwEfbt5\" href=\"/eby/apa/4696269834.html\"></a>\n",
        "<a class=\"hdrlnk\" data-id=\"4696269834\" href=\"/eby/apa/4696269834.html\">A Unique Two Bedroom Layout! Very Open and Inviting!</a>\n",
        "<a class=\"i\" data-id=\"0:00D0D_9Sn2UQRVPXX\" href=\"/eby/apa/4696204380.html\"></a>\n",
        "<a class=\"hdrlnk\" data-id=\"4696204380\" href=\"/eby/apa/4696204380.html\">No tricks all treats at eaves.</a>\n",
        "<a class=\"i\" data-id=\"0:00E0E_8x7barJQifd\" href=\"/eby/apa/4688340129.html\"></a>\n",
        "<a class=\"hdrlnk\" data-id=\"4688340129\" href=\"/eby/apa/4688340129.html\">Beautiful 1 bedroom call now to make an appointment!!!</a>\n",
        "<a class=\"i\" data-id=\"0:00v0v_kIDpjWuX5YS\" href=\"/eby/apa/4696196290.html\"></a>\n",
        "<a class=\"hdrlnk\" data-id=\"4696196290\" href=\"/eby/apa/4696196290.html\">Ready to Rent!</a>\n",
        "<a class=\"i\" data-id=\"0:00e0e_2ZwRIjTZwRe\" href=\"/eby/apa/4696081234.html\"></a>\n",
        "<a class=\"hdrlnk\" data-id=\"4696081234\" href=\"/eby/apa/4696081234.html\">3BD/2BA Apartment with Quartz Countertops</a>\n",
        "<a class=\"i\" href=\"/eby/apa/4696111269.html\"></a>\n",
        "<a class=\"hdrlnk\" data-id=\"4696111269\" href=\"/eby/apa/4696111269.html\">Extra Large 2 bed 2 bath</a>\n",
        "<a class=\"i\" data-id=\"0:00F0F_lOTzSYegA8c\" href=\"/eby/apa/4696114688.html\"></a>\n",
        "<a class=\"hdrlnk\" data-id=\"4696114688\" href=\"/eby/apa/4696114688.html\">Large 2 bedroom 2 bath in downtown Fremont ready for move in 11/22/14</a>\n",
        "<a class=\"i\" data-id=\"0:00a0a_6zItfxxdIky\" href=\"/eby/apa/4696127458.html\"></a>\n",
        "<a class=\"hdrlnk\" data-id=\"4696127458\" href=\"/eby/apa/4696127458.html\">Come See What You've Been Missing at The Presidio!</a>\n",
        "<a class=\"i\" data-id=\"0:00a0a_6zItfxxdIky\" href=\"/eby/apa/4696102185.html\"></a>\n",
        "<a class=\"hdrlnk\" data-id=\"4696102185\" href=\"/eby/apa/4696102185.html\">Comfort, Style and a GREAT Value at The Presidio!</a>\n",
        "<a class=\"i\" data-id=\"0:00C0C_jgptLf0r4ko\" href=\"/eby/apa/4696132042.html\"></a>\n",
        "<a class=\"hdrlnk\" data-id=\"4696132042\" href=\"/eby/apa/4696132042.html\">Extra Large  Two Bed Two Bath</a>\n",
        "<a class=\"i\" data-id=\"0:00e0e_fB7TvHAQqHa\" href=\"/eby/apa/4689663908.html\"></a>\n",
        "<a class=\"hdrlnk\" data-id=\"4689663908\" href=\"/eby/apa/4689663908.html\">Nice Single Family Home in Newark</a>\n",
        "<a class=\"i\" data-id=\"0:00r0r_fs2SriFO899\" href=\"/eby/apa/4696055650.html\"></a>\n",
        "<a class=\"hdrlnk\" data-id=\"4696055650\" href=\"/eby/apa/4696055650.html\">Look And Lease This Apartment, N239!</a>\n",
        "<a class=\"i\" data-id=\"0:00202_2CPV2g5tan3\" href=\"/eby/apa/4696031458.html\"></a>\n",
        "<a class=\"hdrlnk\" data-id=\"4696031458\" href=\"/eby/apa/4696031458.html\">M225 Is A Fabulous Location Within Our Community!</a>\n",
        "<a class=\"i\" href=\"/eby/apa/4696036874.html\"></a>\n",
        "<a class=\"hdrlnk\" data-id=\"4696036874\" href=\"/eby/apa/4696036874.html\">Beautiful 2 bedroom with View</a>\n",
        "<a class=\"i\" data-id=\"0:00M0M_k5JckvZPb31\" href=\"/eby/apa/4696024780.html\"></a>\n",
        "<a class=\"hdrlnk\" data-id=\"4696024780\" href=\"/eby/apa/4696024780.html\">RESORT STYLE LIVING IN PRIME FREMONT LOCATION</a>\n",
        "<a class=\"i\" data-id=\"0:00S0S_b08prhSyN2R\" href=\"/eby/apa/4695955216.html\"></a>\n",
        "<a class=\"hdrlnk\" data-id=\"4695955216\" href=\"/eby/apa/4695955216.html\">Ground floor  SPACIOUS 1 bedroom  W/FULL size W/D- AVAIL Oct. 23 $1964</a>\n",
        "<a class=\"i\" href=\"/eby/apa/4685187841.html\"></a>\n",
        "<a class=\"hdrlnk\" data-id=\"4685187841\" href=\"/eby/apa/4685187841.html\">4274 Stevenson Blvd</a>\n",
        "<a class=\"i\" data-id=\"0:00c0c_1UFvwe9t7Ai\" href=\"/eby/apa/4686174141.html\"></a>\n",
        "<a class=\"hdrlnk\" data-id=\"4686174141\" href=\"/eby/apa/4686174141.html\">$2750 / 4br - 1647ft\ufffd - 4 Bed single family home available in Parkmont</a>\n",
        "<a class=\"i\" data-id=\"0:01313_aucp2ILmrwA\" href=\"/eby/apa/4695466033.html\"></a>\n",
        "<a class=\"hdrlnk\" data-id=\"4695466033\" href=\"/eby/apa/4695466033.html\">WALK  TO UNION  CITY  BART  NO NEED TO  DRIVE  . NICE  AND  COZY  HOME</a>\n",
        "<a class=\"i\" data-id=\"0:00k0k_4k6zwQrBg2v\" href=\"/eby/apa/4695438880.html\"></a>\n",
        "<a class=\"hdrlnk\" data-id=\"4695438880\" href=\"/eby/apa/4695438880.html\">5 beds, 3 baths For Rent in Newark! $3,700/mo.</a>\n",
        "<a class=\"i\" data-id=\"0:01313_aucp2ILmrwA\" href=\"/eby/apa/4695456342.html\"></a>\n",
        "<a class=\"hdrlnk\" data-id=\"4695456342\" href=\"/eby/apa/4695456342.html\">WALK  TO UNION  CITY  BART  NO NEED TO  DRIVE  . NICE  AND  COZY  HOME</a>\n",
        "<a class=\"i\" href=\"/eby/apa/4695432530.html\"></a>\n",
        "<a class=\"hdrlnk\" data-id=\"4695432530\" href=\"/eby/apa/4695432530.html\">Executive Living Ranch Style Single Family</a>\n",
        "<a class=\"i\" data-id=\"0:00404_k1SBazFiiij\" href=\"/eby/apa/4695402313.html\"></a>\n",
        "<a class=\"hdrlnk\" data-id=\"4695402313\" href=\"/eby/apa/4695402313.html\">Beautiful Home located  in a Park Like Community </a>\n",
        "<a class=\"i\" data-id=\"0:00G0G_cjrYnv1XsO6\" href=\"/eby/apa/4666053775.html\"></a>\n",
        "<a class=\"hdrlnk\" data-id=\"4666053775\" href=\"/eby/apa/4666053775.html\">Townhome In Prime Community Off Dixon Landing Rd</a>\n",
        "<a class=\"i\" data-id=\"0:01313_h0nkGFv1wIh\" href=\"/eby/apa/4683946265.html\"></a>\n",
        "<a class=\"hdrlnk\" data-id=\"4683946265\" href=\"/eby/apa/4683946265.html\">\u25d8\u2665EVERYONE IS WELCOME HOME HERE AT RANCHO LUNA/SOL \u25d8\u2665</a>\n",
        "<a class=\"i\" data-id=\"0:00101_6yTVAeWFTs6\" href=\"/eby/apa/4685828195.html\"></a>\n",
        "<a class=\"hdrlnk\" data-id=\"4685828195\" href=\"/eby/apa/4685828195.html\">\u263b\u2665THE MOST LIKED PLACE TO LIVE ON FACEBOOK\u263b\u2665</a>\n",
        "<a class=\"i\" data-id=\"0:00000_izURCwhstSU\" href=\"/eby/apa/4688730281.html\"></a>\n",
        "<a class=\"hdrlnk\" data-id=\"4688730281\" href=\"/eby/apa/4688730281.html\">\u263bBART RIDERS DREAM/CLOSE TO SHOPPING\u263b</a>\n",
        "<a class=\"i\" data-id=\"0:00w0w_gnzYTyGSnDP\" href=\"/eby/apa/4695267333.html\"></a>\n",
        "<a class=\"hdrlnk\" data-id=\"4695267333\" href=\"/eby/apa/4695267333.html\">Remodeled Mission San Jose (mission sanjose) Fremont Home for Rent</a>\n",
        "<a class=\"i\" data-id=\"0:00404_84zKrApHUyd\" href=\"/eby/apa/4695230242.html\"></a>\n",
        "<a class=\"hdrlnk\" data-id=\"4695230242\" href=\"/eby/apa/4695230242.html\">Mission Weibel Home </a>\n",
        "<a class=\"i\" data-id=\"0:00000_f7aUwhke6FD\" href=\"/eby/apa/4695178872.html\"></a>\n",
        "<a class=\"hdrlnk\" data-id=\"4695178872\" href=\"/eby/apa/4695178872.html\">$2100/2br - 1000ft\u00b2 - 2BR/2BA Private Corner Unit</a>\n",
        "<a class=\"i\" data-id=\"0:00D0D_1zpOKcsDIoh\" href=\"/eby/apa/4695171436.html\"></a>\n",
        "<a class=\"hdrlnk\" data-id=\"4695171436\" href=\"/eby/apa/4695171436.html\">Stunning 3X2 Apartment with W/D Set in Fremont!</a>\n",
        "<a class=\"i\" data-id=\"0:00u0u_i6piZxEJK2c\" href=\"/eby/apa/4695202863.html\"></a>\n",
        "<a class=\"hdrlnk\" data-id=\"4695202863\" href=\"/eby/apa/4695202863.html\">Quiet 3br/2ba home in quiet Fremont</a>\n",
        "<a class=\"i\" data-id=\"0:00n0n_6WSYRh8c1Af\" href=\"/eby/apa/4695163614.html\"></a>\n",
        "<a class=\"hdrlnk\" data-id=\"4695163614\" href=\"/eby/apa/4695163614.html\">OPEN FLOOR PLAN WITH PRIVATE PATIO &amp; GYM</a>\n",
        "<a class=\"i\" href=\"/eby/apa/4695161369.html\"></a>\n",
        "<a class=\"hdrlnk\" data-id=\"4695161369\" href=\"/eby/apa/4695161369.html\">1 BHK available in fremont</a>\n",
        "<a class=\"i\" data-id=\"0:00N0N_iQukiRNxnZs\" href=\"/eby/apa/4695095838.html\"></a>\n",
        "<a class=\"hdrlnk\" data-id=\"4695095838\" href=\"/eby/apa/4695095838.html\">*SPECIAL* Your new home is waiting for you! - SPACIOUS 1 BR APARTMENT </a>\n",
        "<a class=\"i\" data-id=\"0:00J0J_i8aesv6YIXH\" href=\"/eby/apa/4695062742.html\"></a>\n",
        "<a class=\"hdrlnk\" data-id=\"4695062742\" href=\"/eby/apa/4695062742.html\">Beautiful Condo in Fremont Warm Springs</a>\n",
        "<a class=\"i\" href=\"/eby/apa/4695059960.html\"></a>\n",
        "<a class=\"hdrlnk\" data-id=\"4695059960\" href=\"/eby/apa/4695059960.html\">2 Bedroom single family house</a>\n",
        "<a class=\"i\" data-id=\"0:00E0E_8x7barJQifd\" href=\"/eby/apa/4695050482.html\"></a>\n",
        "<a class=\"hdrlnk\" data-id=\"4695050482\" href=\"/eby/apa/4695050482.html\">1 BEDROOM APARTMENT IN A QUIET NEIGHBORHOOD IN FREMONT!</a>\n",
        "<a class=\"i\" href=\"/eby/apa/4695051636.html\"></a>\n",
        "<a class=\"hdrlnk\" data-id=\"4695051636\" href=\"/eby/apa/4695051636.html\">Condo for rent</a>\n",
        "<a class=\"i\" href=\"/eby/apa/4695040722.html\"></a>\n",
        "<a class=\"hdrlnk\" data-id=\"4695040722\" href=\"/eby/apa/4695040722.html\">WELCOME HOME! NEW GRANITE COUNTER TOPS! GAS RANGE! A/C</a>\n",
        "<a class=\"i\" data-id=\"0:00s0s_iESIyModjru\" href=\"/eby/apa/4695031707.html\"></a>\n",
        "<a class=\"hdrlnk\" data-id=\"4695031707\" href=\"/eby/apa/4695031707.html\"> Parkway Towers in Fremont - 3rd floor</a>\n",
        "<a class=\"i\" href=\"/eby/apa/4694984710.html\"></a>\n",
        "<a class=\"hdrlnk\" data-id=\"4694984710\" href=\"/eby/apa/4694984710.html\">Fantastic Location...Great Two Bedroom Apartment</a>\n",
        "<a class=\"i\" data-id=\"0:00505_6297xq4c4kY\" href=\"/eby/apa/4694990674.html\"></a>\n",
        "<a class=\"hdrlnk\" data-id=\"4694990674\" href=\"/eby/apa/4694990674.html\">RESORT LIVING IN A SERENE PARK SETTING</a>\n",
        "<a class=\"i\" href=\"/eby/apa/4694944588.html\"></a>\n",
        "<a class=\"hdrlnk\" data-id=\"4694944588\" href=\"/eby/apa/4694944588.html\">*Carriage House* Gated Community in a Quiet and Friendly Neighborhood!</a>\n",
        "<a class=\"i\" href=\"/eby/apa/4694967181.html\"></a>\n",
        "<a class=\"hdrlnk\" data-id=\"4694967181\" href=\"/eby/apa/4694967181.html\">Welcome Home to Medallion Apartments..</a>\n",
        "<a class=\"i\" data-id=\"0:00D0D_c5sIX71krZa\" href=\"/eby/apa/4694973672.html\"></a>\n",
        "<a class=\"hdrlnk\" data-id=\"4694973672\" href=\"/eby/apa/4694973672.html\">Now Available, Near Public Parks, Parkmont Schools</a>\n",
        "<a class=\"i\" data-id=\"0:00A0A_6tN78StRf2t\" href=\"/eby/apa/4694966766.html\"></a>\n",
        "<a class=\"hdrlnk\" data-id=\"4694966766\" href=\"/eby/apa/4694966766.html\">Beautiful house, close to Dumbarton Bridge(Facebook), shopping center </a>\n",
        "<a class=\"i\" data-id=\"0:00000_eiSJYLeUGZj\" href=\"/eby/apa/4694941989.html\"></a>\n",
        "<a class=\"hdrlnk\" data-id=\"4694941989\" href=\"/eby/apa/4694941989.html\">*Carriage House* Gated Community in a Quiet and Friendly Neighborhood!</a>\n",
        "<a class=\"i\" data-id=\"0:00C0C_ekJJ9LU3p9J\" href=\"/eby/apa/4684119955.html\"></a>\n",
        "<a class=\"hdrlnk\" data-id=\"4684119955\" href=\"/eby/apa/4684119955.html\">Fremont Brookvale house</a>\n",
        "<a class=\"i\" href=\"/eby/apa/4694863886.html\"></a>\n",
        "<a class=\"hdrlnk\" data-id=\"4694863886\" href=\"/eby/apa/4694863886.html\">Great upgraded house in pristine condition for rent</a>\n",
        "<a class=\"i\" data-id=\"0:00S0S_i5RLVK07E4J\" href=\"/eby/apa/4675937071.html\"></a>\n",
        "<a class=\"hdrlnk\" data-id=\"4675937071\" href=\"/eby/apa/4675937071.html\">3 bed 2 .5 bath townhome remodeled in Fremont </a>\n",
        "<a class=\"i\" data-id=\"0:00B0B_dqlBuzggTzJ\" href=\"/eby/apa/4694704332.html\"></a>\n",
        "<a class=\"hdrlnk\" data-id=\"4694704332\" href=\"/eby/apa/4694704332.html\">Fully Furnished Studio - $2193.00/Month</a>\n",
        "<a class=\"i\" data-id=\"0:00g0g_6TLYtaIppEf\" href=\"/eby/apa/4694675787.html\"></a>\n",
        "<a class=\"hdrlnk\" data-id=\"4694675787\" href=\"/eby/apa/4694675787.html\">PARK-LIKE SETTING IN PRIME LOCATION, DESIGNER 2 BR</a>\n",
        "<a class=\"i\" data-id=\"0:00C0C_eg7RgGXNvXM\" href=\"/eby/apa/4694684724.html\"></a>\n",
        "<a class=\"hdrlnk\" data-id=\"4694684724\" href=\"/eby/apa/4694684724.html\">Fremont Mission San Jose House for Rent</a>\n",
        "<a class=\"i\" href=\"/eby/apa/4694604897.html\"></a>\n",
        "<a class=\"hdrlnk\" data-id=\"4694604897\" href=\"/eby/apa/4694604897.html\">2bd/2ba Ground floor apartment for rent</a>\n",
        "<a class=\"i\" data-id=\"0:00T0T_20Hxxk9bAoA\" href=\"/eby/apa/4694618437.html\"></a>\n",
        "<a class=\"hdrlnk\" data-id=\"4694618437\" href=\"/eby/apa/4694618437.html\">$3500 4BR 2.5 BA,2100 sq/ft single family home</a>\n",
        "<a class=\"i\" href=\"/eby/apa/4683812582.html\"></a>\n",
        "<a class=\"hdrlnk\" data-id=\"4683812582\" href=\"/eby/apa/4683812582.html\">MISSION SAN JOSE ANTELOPE HILLS TOWNHOUSE</a>\n",
        "<a class=\"i\" data-id=\"0:00L0L_HBqK7F6SRY\" href=\"/eby/apa/4694550041.html\"></a>\n",
        "<a class=\"hdrlnk\" data-id=\"4694550041\" href=\"/eby/apa/4694550041.html\">AMAZING AMENITIES IN PARK-LIKE COMMUNITY</a>\n",
        "<a class=\"i\" data-id=\"0:00n0n_flaHu7zdNd7\" href=\"/eby/apa/4694511135.html\"></a>\n",
        "<a class=\"hdrlnk\" data-id=\"4694511135\" href=\"/eby/apa/4694511135.html\">Studio suites only $2295.00</a>\n",
        "<a class=\"i\" data-id=\"0:00N0N_4x1HRC4gZBU\" href=\"/eby/apa/4694507997.html\"></a>\n",
        "<a class=\"hdrlnk\" data-id=\"4694507997\" href=\"/eby/apa/4694507997.html\">Apartment for $2320.00in Fremont</a>\n",
        "<a class=\"i\" data-id=\"0:00O0O_aRethEr83Lb\" href=\"/eby/apa/4694501540.html\"></a>\n",
        "<a class=\"hdrlnk\" data-id=\"4694501540\" href=\"/eby/apa/4694501540.html\">Call for Details, Easy Freeway Access, Night Patrol, Fitness Ctr</a>\n",
        "<a class=\"i\" data-id=\"0:01616_8Qz4VMjadGl\" href=\"/eby/apa/4694481931.html\"></a>\n",
        "<a class=\"hdrlnk\" data-id=\"4694481931\" href=\"/eby/apa/4694481931.html\">Spacious 3bed/2.5bath Home in Fremont North Gate neighborhood</a>\n",
        "<a class=\"i\" data-id=\"0:00v0v_kIDpjWuX5YS\" href=\"/eby/apa/4694460207.html\"></a>\n",
        "<a class=\"hdrlnk\" data-id=\"4694460207\" href=\"/eby/apa/4694460207.html\">Furnished apartment ready for immediate move in!</a>\n",
        "<a class=\"i\" data-id=\"0:01313_yDuEHkiTRh\" href=\"/eby/apa/4694441034.html\"></a>\n",
        "<a class=\"hdrlnk\" data-id=\"4694441034\" href=\"/eby/apa/4694441034.html\">Whats better than a ground floor apartment central to everything!</a>\n",
        "<a class=\"i\" data-id=\"0:00S0S_i5RLVK07E4J\" href=\"/eby/apa/4674182670.html\"></a>\n",
        "<a class=\"hdrlnk\" data-id=\"4674182670\" href=\"/eby/apa/4674182670.html\">3 bed 2 .5 bath townhome remodeled in Fremont </a>\n",
        "<a class=\"button first\" href=\"/search/eby/apa?nh=54\" title=\"first page\">&lt;&lt;</a>\n",
        "<a class=\"button prev\" href=\"/search/eby/apa?s=200&amp;nh=54\" title=\"previous page\">&lt; prev</a>\n",
        "<a class=\"button next\" href=\"/search/eby/apa?s=400&amp;nh=54\" title=\"next page\"> next &gt; </a>\n",
        "<a class=\"backtotop button\" href=\"#pagecontainer\">^ back to top</a>\n",
        "<a class=\"l\" href=\"http://sfbay.craigslist.org/search/eby/apa?nh=54&amp;s=300&amp;format=rss\">RSS</a>\n",
        "<a href=\"http://www.craigslist.org/about/rss\">(?)</a>\n",
        "<a href=\"//www.craigslist.org/about/help/\">help</a>\n",
        "<a href=\"//www.craigslist.org/about/scams\">safety</a>\n",
        "<a href=\"//www.craigslist.org/about/privacy.policy\">privacy</a>\n",
        "<a href=\"https://forums.craigslist.org/?forumID=8\">feedback</a>\n",
        "<a href=\"//www.craigslist.org/about/craigslist_is_hiring\">cl jobs</a>\n",
        "<a href=\"//www.craigslist.org/about/terms.of.use\">terms</a>\n",
        "<a href=\"//www.craigslist.org/about/\">about</a>\n",
        "<a href=\"#\">mobile</a>\n",
        "<a href=\"#\">desktop</a>\n",
        "<a href=\"/\">SF bay area</a>"
       ]
      },
      {
       "output_type": "stream",
       "stream": "stdout",
       "text": [
        "\n",
        "<a href=\"/search/hhh\">housing</a>\n",
        "<a href=\"/search/apa\">apts/housing for rent</a>\n",
        "<a href=\"https://post.craigslist.org/c/sfo?lang=en\">post</a>\n",
        "<a href=\"https://accounts.craigslist.org/login/home\">account</a>\n",
        "<a class=\"favlink\" href=\"#\"><span class=\"n\">0</span> favorites</a>\n",
        "<a class=\"saveme\" href=\"https://accounts.craigslist.org/login?rt=L&amp;rp=%2Fsavesearch%2Falert%3FURL%3Dhttp%253A%252F%252Fsfbay%252Ecraigslist%252Eorg%252Fsearch%252Feby%252Fapa%253Fnh%253D54\" title=\"save this search with email alerts\">alert</a>\n",
        "<a class=\"saveme\" href=\"https://accounts.craigslist.org/login?rt=L&amp;rp=%2Fsavesearch%2Fsave%3FURL%3Dhttp%253A%252F%252Fsfbay%252Ecraigslist%252Eorg%252Fsearch%252Feby%252Fapa%253Fnh%253D54\" title=\"save this search\">save</a>\n",
        "<a class=\"category\" href=\"/search/eby/apa?nh=54\">apts/housing for rent</a>\n",
        "<a class=\"category\" href=\"/search/eby/rea?nh=54\">real estate for sale</a>\n",
        "<a class=\"category\" href=\"/search/eby/roo?nh=54\">rooms &amp; shares</a>\n",
        "<a class=\"category\" href=\"/search/eby/off?nh=54\">office &amp; commercial</a>\n",
        "<a class=\"category\" href=\"/search/eby/sha?nh=54\">room/share wanted</a>\n",
        "<a class=\"category\" href=\"/search/eby/hou?nh=54\">apts wanted</a>\n",
        "<a class=\"category\" href=\"/search/eby/prk?nh=54\">parking &amp; storage</a>\n",
        "<a class=\"category\" href=\"/search/eby/sub?nh=54\">sublets &amp; temporary</a>\n",
        "<a class=\"category\" href=\"/search/eby/rew?nh=54\">real estate wanted</a>\n",
        "<a class=\"category\" href=\"/search/eby/sbw?nh=54\">sublet/temp wanted</a>\n",
        "<a class=\"category\" href=\"/search/eby/swp?nh=54\">housing swap</a>\n",
        "<a class=\"category\" href=\"/search/eby/vac?nh=54\">vacation rentals</a>\n",
        "<a class=\"mode button\" data-view=\"list\" href=\"#list\" id=\"listview\" title=\"show results in a list\">list</a>\n",
        "<a class=\"mode button\" data-view=\"pic\" href=\"#pic\" id=\"picview\" title=\"show results in a list with thumbnail pictures\">thumb</a>\n",
        "<a class=\"mode button\" data-view=\"grid\" href=\"#grid\" id=\"gridview\" title=\"show results side-by-side with larger pictures\">gallery</a>\n",
        "<a class=\"mode button\" data-view=\"map\" href=\"#map\" id=\"mapview\" title=\"show results on a map\">map</a>\n",
        "<a class=\"button\" href=\"/search/eby/apa?sort=priceasc&amp;nh=54\" title=\"sort by price, lowest to highest\"><span class=\"pricesort\"><span class=\"pricesort\">$</span>$</span>$</a>\n",
        "<a class=\"button\" href=\"/search/eby/apa?sort=pricedsc&amp;nh=54\" title=\"sort by price, highest to lowest\">$<span class=\"pricesort\">$<span class=\"pricesort\">$</span></span></a>\n",
        "<a class=\"button first\" href=\"/search/eby/apa?nh=54\" title=\"first page\">&lt;&lt;</a>\n",
        "<a class=\"button prev\" href=\"/search/eby/apa?s=300&amp;nh=54\" title=\"previous page\">&lt; prev</a>\n",
        "<a class=\"button next\" href=\"/search/eby/apa?s=500&amp;nh=54\" title=\"next page\"> next &gt; </a>\n",
        "<a class=\"i\" data-id=\"0:00N0N_4x1HRC4gZBU\" href=\"/eby/apa/4685170717.html\"></a>\n",
        "<a class=\"hdrlnk\" data-id=\"4685170717\" href=\"/eby/apa/4685170717.html\">Apartment for $2320.00in Fremont</a>\n",
        "<a class=\"i\" data-id=\"0:00D0D_9Sn2UQRVPXX\" href=\"/eby/apa/4694433077.html\"></a>\n",
        "<a class=\"hdrlnk\" data-id=\"4694433077\" href=\"/eby/apa/4694433077.html\">No Fooling Around! Fantastic Prices!</a>\n",
        "<a class=\"i\" data-id=\"0:00e0e_1PUnQWRSHTs\" href=\"/eby/apa/4694367806.html\"></a>\n",
        "<a class=\"hdrlnk\" data-id=\"4694367806\" href=\"/eby/apa/4694367806.html\">3 BRs, 2 BAs SFH in Fremont (94539) for Rent</a>\n",
        "<a class=\"i\" data-id=\"0:00A0A_6tN78StRf2t\" href=\"/eby/apa/4694248251.html\"></a>\n",
        "<a class=\"hdrlnk\" data-id=\"4694248251\" href=\"/eby/apa/4694248251.html\">Beautiful house, close to Dumbarton Bridge(Facebook), shopping center </a>\n",
        "<a class=\"i\" data-id=\"0:00Q0Q_8UtLUWbFr77\" href=\"/eby/apa/4694112090.html\"></a>\n",
        "<a class=\"hdrlnk\" data-id=\"4694112090\" href=\"/eby/apa/4694112090.html\">MISSION San Jose, Available NOW</a>\n",
        "<a class=\"i\" data-id=\"0:01616_lFNN1JB42pF\" href=\"/eby/apa/4693796322.html\"></a>\n",
        "<a class=\"hdrlnk\" data-id=\"4693796322\" href=\"/eby/apa/4693796322.html\">Great apartment close to Shopping&amp;hwy.</a>\n",
        "<a class=\"i\" href=\"/eby/apa/4675954307.html\"></a>\n",
        "<a class=\"hdrlnk\" data-id=\"4675954307\" href=\"/eby/apa/4675954307.html\">4 Bedroom home in Newark...Coming Soon</a>\n",
        "<a class=\"i\" data-id=\"0:01717_4FJkWeISNmH\" href=\"/eby/apa/4688755035.html\"></a>\n",
        "<a class=\"hdrlnk\" data-id=\"4688755035\" href=\"/eby/apa/4688755035.html\">\u25d8\u2665EVERYONE IS WELCOME HOME HERE AT RANCHO LUNA/SOL \u25d8\u2665</a>\n",
        "<a class=\"i\" data-id=\"0:00z0z_4RRGiVJOn5L\" href=\"/eby/apa/4685592773.html\"></a>\n",
        "<a class=\"hdrlnk\" data-id=\"4685592773\" href=\"/eby/apa/4685592773.html\">\u2666A CATCH! COME TOUR TODAY \u2666</a>\n",
        "<a class=\"i\" data-id=\"0:00z0z_4RRGiVJOn5L\" href=\"/eby/apa/4685839507.html\"></a>\n",
        "<a class=\"hdrlnk\" data-id=\"4685839507\" href=\"/eby/apa/4685839507.html\">\u2665COMMUNITY A FEELING OF FELLOWSHIP WITH OTHERS JOIN OURS\u2665 </a>\n",
        "<a class=\"i\" data-id=\"0:01414_goSCWg4obuT\" href=\"/eby/apa/4687432255.html\"></a>\n",
        "<a class=\"hdrlnk\" data-id=\"4687432255\" href=\"/eby/apa/4687432255.html\">\u2660GREAT PRICE, LOCATION, AND QUIET\u2660</a>\n",
        "<a class=\"i\" data-id=\"0:00C0C_6iGdAr2rlP7\" href=\"/eby/apa/4688984085.html\"></a>\n",
        "<a class=\"hdrlnk\" data-id=\"4688984085\" href=\"/eby/apa/4688984085.html\">\u263b\u2665THE MOST LIKED PLACE TO LIVE ON FACEBOOK\u263b\u2665</a>\n",
        "<a class=\"i\" data-id=\"0:01313_4h82v2wKalL\" href=\"/eby/apa/4688986688.html\"></a>\n",
        "<a class=\"hdrlnk\" data-id=\"4688986688\" href=\"/eby/apa/4688986688.html\">\u2665HOME IS WHERE THE HEART IS\u2665RANHO LUNA/SOL APT HOMES NOW LEASINGb</a>\n",
        "<a class=\"i\" data-id=\"0:01313_h0nkGFv1wIh\" href=\"/eby/apa/4687233849.html\"></a>\n",
        "<a class=\"hdrlnk\" data-id=\"4687233849\" href=\"/eby/apa/4687233849.html\">\u263bBART RIDERS DREAM/CLOSE TO SHOPPING\u263b</a>\n",
        "<a class=\"i\" data-id=\"0:00f0f_5LzGHFbaRqn\" href=\"/eby/apa/4693563087.html\"></a>\n",
        "<a class=\"hdrlnk\" data-id=\"4693563087\" href=\"/eby/apa/4693563087.html\">Looking for quick access to BART and Shopping? Look no further!</a>\n",
        "<a class=\"i\" data-id=\"0:00P0P_6QbixFi5hY7\" href=\"/eby/apa/4693559737.html\"></a>\n",
        "<a class=\"hdrlnk\" data-id=\"4693559737\" href=\"/eby/apa/4693559737.html\">RESORT STYLE LIVING IN A PRIME FREMONT LOCATION</a>\n",
        "<a class=\"i\" data-id=\"0:00A0A_3dhBlhzITd\" href=\"/eby/apa/4693550640.html\"></a>\n",
        "<a class=\"hdrlnk\" data-id=\"4693550640\" href=\"/eby/apa/4693550640.html\">Waterstone@Fremont 735 1br</a>\n",
        "<a class=\"i\" data-id=\"0:00H0H_cThPCPK3ngk\" href=\"/eby/apa/4693531407.html\"></a>\n",
        "<a class=\"hdrlnk\" data-id=\"4693531407\" href=\"/eby/apa/4693531407.html\">ALL THE SPACE YOU NEED AND THE MODERN STYLE YOU WANT! </a>\n",
        "<a class=\"i\" data-id=\"0:00I0I_hjqzJij68W5\" href=\"/eby/apa/4693504950.html\"></a>\n",
        "<a class=\"hdrlnk\" data-id=\"4693504950\" href=\"/eby/apa/4693504950.html\">Beautiful 4 Bedroom 2.5 Bath in Mission - San Jose District</a>\n",
        "<a class=\"i\" data-id=\"0:00S0S_i5RLVK07E4J\" href=\"/eby/apa/4654133045.html\"></a>\n",
        "<a class=\"hdrlnk\" data-id=\"4654133045\" href=\"/eby/apa/4654133045.html\">3 bed 2 .5 bath townhome remodeled in Fremont </a>\n",
        "<a class=\"i\" data-id=\"0:00S0S_i5RLVK07E4J\" href=\"/eby/apa/4653902770.html\"></a>\n",
        "<a class=\"hdrlnk\" data-id=\"4653902770\" href=\"/eby/apa/4653902770.html\">3 bed 2 .5 bath townhome remodeled in Fremont </a>\n",
        "<a class=\"i\" data-id=\"0:00m0m_qQgLUOQBV0\" href=\"/eby/apa/4693361624.html\"></a>\n",
        "<a class=\"hdrlnk\" data-id=\"4693361624\" href=\"/eby/apa/4693361624.html\">AMAZING AMENITIES IN SUN-FILLED, PARK-LIKE COMMUNITY </a>\n",
        "<a class=\"i\" href=\"/eby/apa/4693291562.html\"></a>\n",
        "<a class=\"hdrlnk\" data-id=\"4693291562\" href=\"/eby/apa/4693291562.html\">Bridgeport Apartments Is Your New Home!</a>\n",
        "<a class=\"i\" data-id=\"0:00H0H_jKvIW33syH4\" href=\"/eby/apa/4693288027.html\"></a>\n",
        "<a class=\"hdrlnk\" data-id=\"4693288027\" href=\"/eby/apa/4693288027.html\">Great Location! Great Price! </a>\n",
        "<a class=\"i\" href=\"/eby/apa/4693304438.html\"></a>\n",
        "<a class=\"hdrlnk\" data-id=\"4693304438\" href=\"/eby/apa/4693304438.html\">We Want You As A Resident, Call Bridgeport!</a>\n",
        "<a class=\"i\" data-id=\"0:00D0D_f4luMZGnKBh\" href=\"/eby/apa/4693323088.html\"></a>\n",
        "<a class=\"hdrlnk\" data-id=\"4693323088\" href=\"/eby/apa/4693323088.html\">Outstanding Location, Responsive Maintenance, Spacious Floorplan</a>\n",
        "<a class=\"i\" data-id=\"0:00707_5TDanoAoqlz\" href=\"/eby/apa/4693315276.html\"></a>\n",
        "<a class=\"hdrlnk\" data-id=\"4693315276\" href=\"/eby/apa/4693315276.html\">Luxury apartment community w/the comfort &amp; convenience of city life!</a>\n",
        "<a class=\"i\" href=\"/eby/apa/4693288286.html\"></a>\n",
        "<a class=\"hdrlnk\" data-id=\"4693288286\" href=\"/eby/apa/4693288286.html\">Love Your Home, Here At Bridgeport!</a>\n",
        "<a class=\"i\" href=\"/eby/apa/4693298016.html\"></a>\n",
        "<a class=\"hdrlnk\" data-id=\"4693298016\" href=\"/eby/apa/4693298016.html\">Call Bridgeport Apartments I Can Assit You!</a>\n",
        "<a class=\"i\" data-id=\"0:00202_gJ7Yb8P7Nsp\" href=\"/eby/apa/4693292220.html\"></a>\n",
        "<a class=\"hdrlnk\" data-id=\"4693292220\" href=\"/eby/apa/4693292220.html\">Great Location! Close to BART! Come and see our Lovely Community!</a>\n",
        "<a class=\"i\" href=\"/eby/apa/4693281825.html\"></a>\n",
        "<a class=\"hdrlnk\" data-id=\"4693281825\" href=\"/eby/apa/4693281825.html\">Houselike Two Bedroom Quality Duplex Glenmore Fremont</a>\n",
        "<a class=\"i\" data-id=\"0:00f0f_gPPhrI4lIZp\" href=\"/eby/apa/4693265327.html\"></a>\n",
        "<a class=\"hdrlnk\" data-id=\"4693265327\" href=\"/eby/apa/4693265327.html\">(SORRY, HAS BEEN RENTED) CONDO, HIGH CEILING , FOR RENT BY OWNER</a>\n",
        "<a class=\"i\" data-id=\"0:00f0f_fyrKZTic9qV\" href=\"/eby/apa/4693221975.html\"></a>\n",
        "<a class=\"hdrlnk\" data-id=\"4693221975\" href=\"/eby/apa/4693221975.html\">UNWIND AFTER ALONG DAY IN YOUR STYLISH  AND  SERENE ENVIRONTMENT!</a>\n",
        "<a class=\"i\" data-id=\"0:00g0g_bY1SfSmI0SF\" href=\"/eby/apa/4693028266.html\"></a>\n",
        "<a class=\"hdrlnk\" data-id=\"4693028266\" href=\"/eby/apa/4693028266.html\">3BD/2BA Apartment with Quartz Countertops</a>\n",
        "<a class=\"i\" data-id=\"0:00s0s_91Z369PJPhZ\" href=\"/eby/apa/4693151835.html\"></a>\n",
        "<a class=\"hdrlnk\" data-id=\"4693151835\" href=\"/eby/apa/4693151835.html\">Stunning Apartment Home in Fremont, near everything you want.</a>\n",
        "<a class=\"i\" data-id=\"0:00n0n_6WSYRh8c1Af\" href=\"/eby/apa/4693102619.html\"></a>\n",
        "<a class=\"hdrlnk\" data-id=\"4693102619\" href=\"/eby/apa/4693102619.html\">DESIGNER INTERIORS, SPACIOUS FLOOR PLANS AND AMAZING AMENITIES</a>\n",
        "<a class=\"i\" data-id=\"0:00D0D_9Sn2UQRVPXX\" href=\"/eby/apa/4693074114.html\"></a>\n",
        "<a class=\"hdrlnk\" data-id=\"4693074114\" href=\"/eby/apa/4693074114.html\">Ready to Rent!</a>\n",
        "<a class=\"i\" data-id=\"0:00v0v_kIDpjWuX5YS\" href=\"/eby/apa/4693084879.html\"></a>\n",
        "<a class=\"hdrlnk\" data-id=\"4693084879\" href=\"/eby/apa/4693084879.html\">Why not sign today?</a>\n",
        "<a class=\"i\" data-id=\"0:00E0E_8x7barJQifd\" href=\"/eby/apa/4693091288.html\"></a>\n",
        "<a class=\"hdrlnk\" data-id=\"4693091288\" href=\"/eby/apa/4693091288.html\">1 BEDROOM APARTMENT! QUIET NEIGHBORHOOD IN FREMONT </a>\n",
        "<a class=\"i\" data-id=\"0:00F0F_bgkkyoZTZuV\" href=\"/eby/apa/4693001451.html\"></a>\n",
        "<a class=\"hdrlnk\" data-id=\"4693001451\" href=\"/eby/apa/4693001451.html\">2BD/2.5BA TOWNHOME WITH STORAGE, WOOD PLANK FLOORING, AND PATIO</a>\n",
        "<a class=\"i\" href=\"/eby/apa/4692997233.html\"></a>\n",
        "<a class=\"hdrlnk\" data-id=\"4692997233\" href=\"/eby/apa/4692997233.html\">*Carriage House* Gated Community in a Quiet and Friendly Neighborhood!</a>\n",
        "<a class=\"i\" data-id=\"0:00n0n_6wqgwfkjPUW\" href=\"/eby/apa/4693048373.html\"></a>\n",
        "<a class=\"hdrlnk\" data-id=\"4693048373\" href=\"/eby/apa/4693048373.html\">SERENE COMMUNITY, MINUTES FROM THE CITY, MILES FROM THE STRESS</a>\n",
        "<a class=\"i\" data-id=\"0:00P0P_fwMXqBJwoiz\" href=\"/eby/apa/4693030690.html\"></a>\n",
        "<a class=\"hdrlnk\" data-id=\"4693030690\" href=\"/eby/apa/4693030690.html\">Studio For Rent</a>\n",
        "<a class=\"i\" data-id=\"0:00000_eiSJYLeUGZj\" href=\"/eby/apa/4692992643.html\"></a>\n",
        "<a class=\"hdrlnk\" data-id=\"4692992643\" href=\"/eby/apa/4692992643.html\">*Carriage House* Gated Community in a Quiet and Friendly Neighborhood!</a>\n",
        "<a class=\"i\" href=\"/eby/apa/4692886961.html\"></a>\n",
        "<a class=\"hdrlnk\" data-id=\"4692886961\" href=\"/eby/apa/4692886961.html\">~*~A Home To Adore, ~*~ Move In Ready 10/25/14</a>\n",
        "<a class=\"i\" data-id=\"0:00000_eiSJYLeUGZj\" href=\"/eby/apa/4692872249.html\"></a>\n",
        "<a class=\"hdrlnk\" data-id=\"4692872249\" href=\"/eby/apa/4692872249.html\">*Carriage House* Gated Community in a Quiet and Friendly Neighborhood!</a>\n",
        "<a class=\"i\" data-id=\"0:00D0D_6NtksPFEHfV\" href=\"/eby/apa/4692891600.html\"></a>\n",
        "<a class=\"hdrlnk\" data-id=\"4692891600\" href=\"/eby/apa/4692891600.html\">Commuting? Amazing apartment home near Fremont Bart!</a>\n",
        "<a class=\"i\" data-id=\"0:00n0n_6WSYRh8c1Af\" href=\"/eby/apa/4692869649.html\"></a>\n",
        "<a class=\"hdrlnk\" data-id=\"4692869649\" href=\"/eby/apa/4692869649.html\">PARK-LIKE LANDSCAPING, POOL, SPA, FITNESS CENTER </a>\n",
        "<a class=\"i\" data-id=\"0:01111_8UD3nfqWvzZ\" href=\"/eby/apa/4692869004.html\"></a>\n",
        "<a class=\"hdrlnk\" data-id=\"4692869004\" href=\"/eby/apa/4692869004.html\">\"Spacious 1st Floor\" ADA Apartment w/hardwood floors / Available NOW!</a>\n",
        "<a class=\"i\" data-id=\"0:00D0D_eLwP175WZ9o\" href=\"/eby/apa/4692852822.html\"></a>\n",
        "<a class=\"hdrlnk\" data-id=\"4692852822\" href=\"/eby/apa/4692852822.html\">Enriched Lifestyle, Heated Pool, Sauna, Pets Welcome</a>\n",
        "<a class=\"i\" data-id=\"0:00U0U_9gW9mFugqcs\" href=\"/eby/apa/4692813575.html\"></a>\n",
        "<a class=\"hdrlnk\" data-id=\"4692813575\" href=\"/eby/apa/4692813575.html\">A Great Junior 1br Unit To Call home @waterstone Fremont</a>\n",
        "<a class=\"i\" data-id=\"0:00Z0Z_6gTFWFQNJdi\" href=\"/eby/apa/4692789536.html\"></a>\n",
        "<a class=\"hdrlnk\" data-id=\"4692789536\" href=\"/eby/apa/4692789536.html\">Charming apartment homes w/spacious and open kitchen layout!</a>\n",
        "<a class=\"i\" data-id=\"0:00000_eiSJYLeUGZj\" href=\"/eby/apa/4692712322.html\"></a>\n",
        "<a class=\"hdrlnk\" data-id=\"4692712322\" href=\"/eby/apa/4692712322.html\">*Carriage House* Gated Community in a Quiet and Friendly Neighborhood!</a>\n",
        "<a class=\"i\" data-id=\"0:00n0n_aSdrw1ro3Hl\" href=\"/eby/apa/4692629301.html\"></a>\n",
        "<a class=\"hdrlnk\" data-id=\"4692629301\" href=\"/eby/apa/4692629301.html\">Nice, Clean &amp; Spacious Single Family House in Newark!</a>\n",
        "<a class=\"i\" href=\"/eby/apa/4692275984.html\"></a>\n",
        "<a class=\"hdrlnk\" data-id=\"4692275984\" href=\"/eby/apa/4692275984.html\">3 bed+2 bath house in Ardenwood</a>\n",
        "<a class=\"i\" href=\"/eby/apa/4692229614.html\"></a>\n",
        "<a class=\"hdrlnk\" data-id=\"4692229614\" href=\"/eby/apa/4692229614.html\">Single Family House for Rent in Mission San Jose</a>\n",
        "<a class=\"i\" data-id=\"0:00707_9raZfXNTSUX\" href=\"/eby/apa/4692197118.html\"></a>\n",
        "<a class=\"hdrlnk\" data-id=\"4692197118\" href=\"/eby/apa/4692197118.html\">4 Bed 3.5 Bath Single Family House in Fremont Mission San Jose</a>\n",
        "<a class=\"i\" data-id=\"0:00M0M_e8cWUwEfbt5\" href=\"/eby/apa/4691917876.html\"></a>\n",
        "<a class=\"hdrlnk\" data-id=\"4691917876\" href=\"/eby/apa/4691917876.html\">Love The Outdoors? Live Trailside In this Inviting One Bedroom  </a>\n",
        "<a class=\"i\" data-id=\"0:01313_h0nkGFv1wIh\" href=\"/eby/apa/4691948922.html\"></a>\n",
        "<a class=\"hdrlnk\" data-id=\"4691948922\" href=\"/eby/apa/4691948922.html\">\u2665LOOKING FOR PEACE AND QUIET\u2665 COME AND TOUR TODAY\u2665</a>\n",
        "<a class=\"i\" href=\"/eby/apa/4691917663.html\"></a>\n",
        "<a class=\"hdrlnk\" data-id=\"4691917663\" href=\"/eby/apa/4691917663.html\">Are You Ready To Move....Waterstone Fremont</a>\n",
        "<a class=\"i\" data-id=\"0:00L0L_9zHihvGyGIB\" href=\"/eby/apa/4691918718.html\"></a>\n",
        "<a class=\"hdrlnk\" data-id=\"4691918718\" href=\"/eby/apa/4691918718.html\">Great Deal On Spacious 2 Bedroom!</a>\n",
        "<a class=\"i\" href=\"/eby/apa/4691914193.html\"></a>\n",
        "<a class=\"hdrlnk\" data-id=\"4691914193\" href=\"/eby/apa/4691914193.html\">Are You Ready To Move..Waterstone@Fremont</a>\n",
        "<a class=\"i\" href=\"/eby/apa/4691907542.html\"></a>\n",
        "<a class=\"hdrlnk\" data-id=\"4691907542\" href=\"/eby/apa/4691907542.html\">A Great Place To Call Home..Waterstone@Fremont</a>\n",
        "<a class=\"i\" href=\"/eby/apa/4691911248.html\"></a>\n",
        "<a class=\"hdrlnk\" data-id=\"4691911248\" href=\"/eby/apa/4691911248.html\">Comfort and Convenience Right At Your Finger Tip..Waterstone@Fremont</a>\n",
        "<a class=\"i\" data-id=\"0:00404_a2ggEMRLZ94\" href=\"/eby/apa/4691830118.html\"></a>\n",
        "<a class=\"hdrlnk\" data-id=\"4691830118\" href=\"/eby/apa/4691830118.html\">Gorgeous One Bedroom One Bathroom Apartment Homes</a>\n",
        "<a class=\"i\" data-id=\"0:00000_izURCwhstSU\" href=\"/eby/apa/4691898387.html\"></a>\n",
        "<a class=\"hdrlnk\" data-id=\"4691898387\" href=\"/eby/apa/4691898387.html\">\u2660GREAT PRICE, LOCATION, AND QUIET\u2660</a>\n",
        "<a class=\"i\" data-id=\"0:00L0L_HBqK7F6SRY\" href=\"/eby/apa/4691884957.html\"></a>\n",
        "<a class=\"hdrlnk\" data-id=\"4691884957\" href=\"/eby/apa/4691884957.html\">LUSH GARDENS, POOL, SPA, FITNESS CENTER AND BRIGHT ONE BR</a>\n",
        "<a class=\"i\" data-id=\"0:00y0y_jd2FAl3rNgh\" href=\"/eby/apa/4691882456.html\"></a>\n",
        "<a class=\"hdrlnk\" data-id=\"4691882456\" href=\"/eby/apa/4691882456.html\">\u25d8\u2665EVERYONE IS WELCOME HOME HERE AT RANCHO LUNA/SOL \u25d8\u2665</a>\n",
        "<a class=\"i\" data-id=\"0:00M0M_e8cWUwEfbt5\" href=\"/eby/apa/4691877485.html\"></a>\n",
        "<a class=\"hdrlnk\" data-id=\"4691877485\" href=\"/eby/apa/4691877485.html\">Best Kept Secret! Great Price On This Wonderful Two Bedroom! Spacious!</a>\n",
        "<a class=\"i\" data-id=\"0:00F0F_5ISj4XsX6wq\" href=\"/eby/apa/4691876737.html\"></a>\n",
        "<a class=\"hdrlnk\" data-id=\"4691876737\" href=\"/eby/apa/4691876737.html\">Only Available One Bedroom Call Today!</a>\n",
        "<a class=\"i\" data-id=\"0:00X0X_cVEDNQYMykH\" href=\"/eby/apa/4691875204.html\"></a>\n",
        "<a class=\"hdrlnk\" data-id=\"4691875204\" href=\"/eby/apa/4691875204.html\">\u2660GREAT PRICE, LOCATION, AND QUIET\u2660</a>\n",
        "<a class=\"i\" data-id=\"0:00L0L_l0lBNSVbqBc\" href=\"/eby/apa/4691796880.html\"></a>\n",
        "<a class=\"hdrlnk\" data-id=\"4691796880\" href=\"/eby/apa/4691796880.html\">Stop Looking!!! Medallion Is Get Place To Call Home...</a>\n",
        "<a class=\"i\" data-id=\"0:00H0H_cThPCPK3ngk\" href=\"/eby/apa/4691670189.html\"></a>\n",
        "<a class=\"hdrlnk\" data-id=\"4691670189\" href=\"/eby/apa/4691670189.html\">EXCEPTIONAL TWO BEDROOM WITH LUSH LANDSCAPE VIEWS, CRYSTAL POOL</a>\n",
        "<a class=\"i\" href=\"/eby/apa/4691449655.html\"></a>\n",
        "<a class=\"hdrlnk\" data-id=\"4691449655\" href=\"/eby/apa/4691449655.html\">Large Apartment</a>\n",
        "<a class=\"i\" data-id=\"0:00D0D_eLwP175WZ9o\" href=\"/eby/apa/4691659619.html\"></a>\n",
        "<a class=\"hdrlnk\" data-id=\"4691659619\" href=\"/eby/apa/4691659619.html\">Enriched Lifestyle, Heated Pool, Sauna, Pets Welcome</a>\n",
        "<a class=\"i\" data-id=\"0:00505_6297xq4c4kY\" href=\"/eby/apa/4691566780.html\"></a>\n",
        "<a class=\"hdrlnk\" data-id=\"4691566780\" href=\"/eby/apa/4691566780.html\">PRIVATE END UNIT, LARGE STORAGE, YOUR NEW HOME IS HERE!</a>\n",
        "<a class=\"i\" data-id=\"0:00f0f_5LzGHFbaRqn\" href=\"/eby/apa/4691531243.html\"></a>\n",
        "<a class=\"hdrlnk\" data-id=\"4691531243\" href=\"/eby/apa/4691531243.html\">Living at its best! Come see your new home today!</a>\n",
        "<a class=\"i\" data-id=\"0:01515_jD0r7yNX0hv\" href=\"/eby/apa/4680326103.html\"></a>\n",
        "<a class=\"hdrlnk\" data-id=\"4680326103\" href=\"/eby/apa/4680326103.html\">Quiet Ground Floor End-Unit 1 Bdrm. Condo</a>\n",
        "<a class=\"i\" data-id=\"0:00F0F_lKupFk02Ssb\" href=\"/eby/apa/4691490137.html\"></a>\n",
        "<a class=\"hdrlnk\" data-id=\"4691490137\" href=\"/eby/apa/4691490137.html\">***COME BY TODAY AND LET US SHOW YOU YOUR NEXT NEW HOME***</a>\n",
        "<a class=\"i\" data-id=\"0:00S0S_jP2MPuYPlyg\" href=\"/eby/apa/4691428009.html\"></a>\n",
        "<a class=\"hdrlnk\" data-id=\"4691428009\" href=\"/eby/apa/4691428009.html\">GORGEOUS Single House 5BR3BA in Newark Lake Area </a>\n",
        "<a class=\"i\" data-id=\"0:00h0h_i6brX0bPkgL\" href=\"/eby/apa/4680760994.html\"></a>\n",
        "<a class=\"hdrlnk\" data-id=\"4680760994\" href=\"/eby/apa/4680760994.html\">Completely Updated Fremont Home Near 880 FWYs, Pacific Commons </a>\n",
        "<a class=\"i\" data-id=\"0:00E0E_1Rc8aYGibuA\" href=\"/eby/apa/4691238768.html\"></a>\n",
        "<a class=\"hdrlnk\" data-id=\"4691238768\" href=\"/eby/apa/4691238768.html\">Newly Renovated 4bd / 3ba / 2260 sq ft house in Union City / Pioneer</a>\n",
        "<a class=\"i\" data-id=\"0:00O0O_68uyfyj4mp2\" href=\"/eby/apa/4691325796.html\"></a>\n",
        "<a class=\"hdrlnk\" data-id=\"4691325796\" href=\"/eby/apa/4691325796.html\">FIVE-STAR LIVING &amp; EASY ACCESS TO EVERYWHERE!</a>\n",
        "<a class=\"i\" data-id=\"0:01111_hZ1LEuFf2ma\" href=\"/eby/apa/4691307320.html\"></a>\n",
        "<a class=\"hdrlnk\" data-id=\"4691307320\" href=\"/eby/apa/4691307320.html\">\u2665LOOKING FOR PEACE AND QUIET\u2665 COME AND TOUR TODAY\u2665</a>\n",
        "<a class=\"i\" data-id=\"0:00D0D_6NtksPFEHfV\" href=\"/eby/apa/4691298642.html\"></a>\n",
        "<a class=\"hdrlnk\" data-id=\"4691298642\" href=\"/eby/apa/4691298642.html\">Fabulous apartment, walking distance to Lake Elizabeth</a>\n",
        "<a class=\"i\" data-id=\"0:01111_cYKyC0pJbkj\" href=\"/eby/apa/4691292406.html\"></a>\n",
        "<a class=\"hdrlnk\" data-id=\"4691292406\" href=\"/eby/apa/4691292406.html\">\u263bBART RIDERS DREAM/CLOSE TO SHOPPING\u263b</a>\n",
        "<a class=\"i\" data-id=\"0:00606_af3M9C6bZFq\" href=\"/eby/apa/4691196016.html\"></a>\n",
        "<a class=\"hdrlnk\" data-id=\"4691196016\" href=\"/eby/apa/4691196016.html\">A Must See! Come Tour Today...</a>\n",
        "<a class=\"i\" data-id=\"0:00R0R_k5TpdIidzro\" href=\"/eby/apa/4691108930.html\"></a>\n",
        "<a class=\"hdrlnk\" data-id=\"4691108930\" href=\"/eby/apa/4691108930.html\">The Presidio Apartments ... Escape the Ordinary!</a>\n",
        "<a class=\"i\" href=\"/eby/apa/4691192057.html\"></a>\n",
        "<a class=\"hdrlnk\" data-id=\"4691192057\" href=\"/eby/apa/4691192057.html\">Available Immediately!!!</a>\n",
        "<a class=\"i\" data-id=\"0:00b0b_aXt3V20avm5\" href=\"/eby/apa/4691195543.html\"></a>\n",
        "<a class=\"hdrlnk\" data-id=\"4691195543\" href=\"/eby/apa/4691195543.html\">Upgraded 4 Bedroom 2 Bath Home in Irvington Area of Fremont</a>\n",
        "<a class=\"i\" data-id=\"0:00s0s_aPc7VPfwmOh\" href=\"/eby/apa/4691175292.html\"></a>\n",
        "<a class=\"hdrlnk\" data-id=\"4691175292\" href=\"/eby/apa/4691175292.html\">Private 1st Floor Corner Apartment - $300 Sign-Up BONUS</a>\n",
        "<a class=\"i\" data-id=\"0:00S0S_ejfVchAqhve\" href=\"/eby/apa/4691186029.html\"></a>\n",
        "<a class=\"hdrlnk\" data-id=\"4691186029\" href=\"/eby/apa/4691186029.html\">Available Immediately!!!</a>\n",
        "<a class=\"i\" data-id=\"0:00R0R_k5TpdIidzro\" href=\"/eby/apa/4691100120.html\"></a>\n",
        "<a class=\"hdrlnk\" data-id=\"4691100120\" href=\"/eby/apa/4691100120.html\">Comfort, Style and a GREAT Value at The Presidio!</a>\n",
        "<a class=\"i\" data-id=\"0:00l0l_a2bJzMezoij\" href=\"/eby/apa/4691171148.html\"></a>\n",
        "<a class=\"hdrlnk\" data-id=\"4691171148\" href=\"/eby/apa/4691171148.html\">Charming apartment homes w/spacious and open kitchen layout!</a>\n",
        "<a class=\"i\" data-id=\"0:00r0r_cRmTK1WTiso\" href=\"/eby/apa/4691112001.html\"></a>\n",
        "<a class=\"hdrlnk\" data-id=\"4691112001\" href=\"/eby/apa/4691112001.html\">Two Bedrooms, One of a Kind</a>\n",
        "<a class=\"i\" data-id=\"0:00O0O_3cjq6smNxRQ\" href=\"/eby/apa/4691155658.html\"></a>\n",
        "<a class=\"hdrlnk\" data-id=\"4691155658\" href=\"/eby/apa/4691155658.html\">Stylish Features, Washer Dryer in Unit, Walk to BART</a>\n",
        "<a class=\"i\" data-id=\"0:00f0f_aSKGnHMV1Mz\" href=\"/eby/apa/4691131473.html\"></a>\n",
        "<a class=\"hdrlnk\" data-id=\"4691131473\" href=\"/eby/apa/4691131473.html\">2bed/1bath Condo in Union City near BART station</a>\n",
        "<a class=\"i\" data-id=\"0:00j0j_j7TWmd4uzgc\" href=\"/eby/apa/4686804365.html\"></a>\n",
        "<a class=\"hdrlnk\" data-id=\"4686804365\" href=\"/eby/apa/4686804365.html\">Call Us Home</a>\n",
        "<a class=\"i\" data-id=\"0:00P0P_6QbixFi5hY7\" href=\"/eby/apa/4691102784.html\"></a>\n",
        "<a class=\"hdrlnk\" data-id=\"4691102784\" href=\"/eby/apa/4691102784.html\">PARK-LIKE LANDSCAPING, POOL, SPA, FITNESS CENTER </a>\n",
        "<a class=\"i\" data-id=\"0:00c0c_koWS9wUyQZk\" href=\"/eby/apa/4669811122.html\"></a>\n",
        "<a class=\"hdrlnk\" data-id=\"4669811122\" href=\"/eby/apa/4669811122.html\">6235 Joaquin Murieta Avenue</a>\n",
        "<a class=\"button first\" href=\"/search/eby/apa?nh=54\" title=\"first page\">&lt;&lt;</a>\n",
        "<a class=\"button prev\" href=\"/search/eby/apa?s=300&amp;nh=54\" title=\"previous page\">&lt; prev</a>\n",
        "<a class=\"button next\" href=\"/search/eby/apa?s=500&amp;nh=54\" title=\"next page\"> next &gt; </a>\n",
        "<a class=\"backtotop button\" href=\"#pagecontainer\">^ back to top</a>\n",
        "<a class=\"l\" href=\"http://sfbay.craigslist.org/search/eby/apa?nh=54&amp;s=400&amp;format=rss\">RSS</a>\n",
        "<a href=\"http://www.craigslist.org/about/rss\">(?)</a>\n",
        "<a href=\"//www.craigslist.org/about/help/\">help</a>\n",
        "<a href=\"//www.craigslist.org/about/scams\">safety</a>\n",
        "<a href=\"//www.craigslist.org/about/privacy.policy\">privacy</a>\n",
        "<a href=\"https://forums.craigslist.org/?forumID=8\">feedback</a>\n",
        "<a href=\"//www.craigslist.org/about/craigslist_is_hiring\">cl jobs</a>\n",
        "<a href=\"//www.craigslist.org/about/terms.of.use\">terms</a>\n",
        "<a href=\"//www.craigslist.org/about/\">about</a>\n",
        "<a href=\"#\">mobile</a>\n",
        "<a href=\"#\">desktop</a>\n"
       ]
      }
     ],
     "prompt_number": 4
    },
    {
     "cell_type": "code",
     "collapsed": false,
     "input": [
      "print urls"
     ],
     "language": "python",
     "metadata": {},
     "outputs": [
      {
       "output_type": "stream",
       "stream": "stdout",
       "text": [
        "['/', '/search/hhh', '/search/apa', 'https://post.craigslist.org/c/sfo?lang=en', 'https://accounts.craigslist.org/login/home', '#', 'https://accounts.craigslist.org/login?rt=L&rp=%2Fsavesearch%2Falert%3FURL%3Dhttp%253A%252F%252Fsfbay%252Ecraigslist%252Eorg%252Fsearch%252Feby%252Fapa%253Fnh%253D54%2526sale%255Fdate%253D%252D', 'https://accounts.craigslist.org/login?rt=L&rp=%2Fsavesearch%2Fsave%3FURL%3Dhttp%253A%252F%252Fsfbay%252Ecraigslist%252Eorg%252Fsearch%252Feby%252Fapa%253Fnh%253D54%2526sale%255Fdate%253D%252D', '/search/eby/apa?nh=54&sale_date=-', '/search/eby/rea?nh=54&sale_date=-', '/search/eby/roo?nh=54&sale_date=-', '/search/eby/off?nh=54&sale_date=-', '/search/eby/sha?nh=54&sale_date=-', '/search/eby/hou?nh=54&sale_date=-', '/search/eby/prk?nh=54&sale_date=-', '/search/eby/sub?nh=54&sale_date=-', '/search/eby/rew?nh=54&sale_date=-', '/search/eby/sbw?nh=54&sale_date=-', '/search/eby/swp?nh=54&sale_date=-', '/search/eby/vac?nh=54&sale_date=-', '#list', '#pic', '#grid', '#map', '/search/eby/apa?sort=priceasc&nh=54&sale_date=-', '/search/eby/apa?sort=pricedsc&nh=54&sale_date=-', '/search/eby/apa?s=100&nh=54&sale_date=-', '/eby/apa/4702884799.html', '/eby/apa/4702884799.html', '/eby/apa/4702856265.html', '/eby/apa/4702856265.html', '/eby/apa/4702853356.html', '/eby/apa/4702853356.html', '/eby/apa/4702797605.html', '/eby/apa/4702797605.html', '/eby/apa/4702739495.html', '/eby/apa/4702739495.html', '/eby/apa/4702720069.html', '/eby/apa/4702720069.html', '/eby/apa/4702709437.html', '/eby/apa/4702709437.html', '/eby/apa/4702676259.html', '/eby/apa/4702676259.html', '/eby/apa/4702646606.html', '/eby/apa/4702646606.html', '/eby/apa/4702686053.html', '/eby/apa/4702686053.html', '/eby/apa/4702678204.html', '/eby/apa/4702678204.html', '/eby/apa/4702677473.html', '/eby/apa/4702677473.html', '/eby/apa/4702676456.html', '/eby/apa/4702676456.html', '/eby/apa/4702660987.html', '/eby/apa/4702660987.html', '/eby/apa/4702653922.html', '/eby/apa/4702653922.html', '/eby/apa/4702626461.html', '/eby/apa/4702626461.html', '/eby/apa/4702631745.html', '/eby/apa/4702631745.html', '/eby/apa/4702628305.html', '/eby/apa/4702628305.html', '/eby/apa/4702635277.html', '/eby/apa/4702635277.html', '/eby/apa/4702616279.html', '/eby/apa/4702616279.html', '/eby/apa/4696994845.html', '/eby/apa/4696994845.html', '/eby/apa/4702598745.html', '/eby/apa/4702598745.html', '/eby/apa/4702596426.html', '/eby/apa/4702596426.html', '/eby/apa/4702589618.html', '/eby/apa/4702589618.html', '/eby/apa/4702589746.html', '/eby/apa/4702589746.html', '/eby/apa/4702557589.html', '/eby/apa/4702557589.html', '/eby/apa/4702517466.html', '/eby/apa/4702517466.html', '/eby/apa/4702520495.html', '/eby/apa/4702520495.html', '/eby/apa/4692849596.html', '/eby/apa/4692849596.html', '/eby/apa/4702476656.html', '/eby/apa/4702476656.html', '/eby/apa/4702461758.html', '/eby/apa/4702461758.html', '/eby/apa/4702455603.html', '/eby/apa/4702455603.html', '/eby/apa/4702424488.html', '/eby/apa/4702424488.html', '/eby/apa/4702435447.html', '/eby/apa/4702435447.html', '/eby/apa/4691776058.html', '/eby/apa/4691776058.html', '/eby/apa/4675852525.html', '/eby/apa/4675852525.html', '/eby/apa/4702433357.html', '/eby/apa/4702433357.html', '/eby/apa/4702405323.html', '/eby/apa/4702405323.html', '/eby/apa/4702402899.html', '/eby/apa/4702402899.html', '/eby/apa/4702401701.html', '/eby/apa/4702401701.html', '/eby/apa/4702337301.html', '/eby/apa/4702337301.html', '/eby/apa/4702316336.html', '/eby/apa/4702316336.html', '/eby/apa/4702219270.html', '/eby/apa/4702219270.html', '/eby/apa/4694923813.html', '/eby/apa/4694923813.html', '/eby/apa/4702284425.html', '/eby/apa/4702284425.html', '/eby/apa/4702273387.html', '/eby/apa/4702273387.html', '/eby/apa/4702280447.html', '/eby/apa/4702280447.html', '/eby/apa/4693357033.html', '/eby/apa/4693357033.html', '/eby/apa/4697859201.html', '/eby/apa/4697859201.html', '/eby/apa/4702149421.html', '/eby/apa/4702149421.html', '/eby/apa/4702241013.html', '/eby/apa/4702241013.html', '/eby/apa/4702225142.html', '/eby/apa/4702225142.html', '/eby/apa/4702185767.html', '/eby/apa/4702185767.html', '/eby/apa/4702214023.html', '/eby/apa/4702214023.html', '/eby/apa/4685873529.html', '/eby/apa/4685873529.html', '/eby/apa/4698234369.html', '/eby/apa/4698234369.html', '/eby/apa/4702165930.html', '/eby/apa/4702165930.html', '/eby/apa/4702152620.html', '/eby/apa/4702152620.html', '/eby/apa/4702146980.html', '/eby/apa/4702146980.html', '/eby/apa/4702174777.html', '/eby/apa/4702174777.html', '/eby/apa/4702082659.html', '/eby/apa/4702082659.html', '/eby/apa/4702152537.html', '/eby/apa/4702152537.html', '/eby/apa/4702131715.html', '/eby/apa/4702131715.html', '/eby/apa/4702093114.html', '/eby/apa/4702093114.html', '/eby/apa/4702093795.html', '/eby/apa/4702093795.html', '/eby/apa/4667279757.html', '/eby/apa/4667279757.html', '/eby/apa/4702063038.html', '/eby/apa/4702063038.html', '/eby/apa/4702053096.html', '/eby/apa/4702053096.html', '/eby/apa/4702020462.html', '/eby/apa/4702020462.html', '/eby/apa/4701987167.html', '/eby/apa/4701987167.html', '/eby/apa/4701986690.html', '/eby/apa/4701986690.html', '/eby/apa/4701983497.html', '/eby/apa/4701983497.html', '/eby/apa/4701881935.html', '/eby/apa/4701881935.html', '/eby/apa/4701966278.html', '/eby/apa/4701966278.html', '/eby/apa/4701965908.html', '/eby/apa/4701965908.html', '/eby/apa/4701964401.html', '/eby/apa/4701964401.html', '/eby/apa/4701921984.html', '/eby/apa/4701921984.html', '/eby/apa/4701884368.html', '/eby/apa/4701884368.html', '/eby/apa/4691387359.html', '/eby/apa/4691387359.html', '/eby/apa/4687019251.html', '/eby/apa/4687019251.html', '/eby/apa/4701879878.html', '/eby/apa/4701879878.html', '/eby/apa/4701899854.html', '/eby/apa/4701899854.html', '/eby/apa/4701897838.html', '/eby/apa/4701897838.html', '/eby/apa/4672754018.html', '/eby/apa/4672754018.html', '/eby/apa/4696402608.html', '/eby/apa/4696402608.html', '/eby/apa/4701845570.html', '/eby/apa/4701845570.html', '/eby/apa/4701856859.html', '/eby/apa/4701856859.html', '/eby/apa/4701823102.html', '/eby/apa/4701823102.html', '/eby/apa/4701764173.html', '/eby/apa/4701764173.html', '/eby/apa/4701801520.html', '/eby/apa/4701801520.html', '/eby/apa/4701722996.html', '/eby/apa/4701722996.html', '/eby/apa/4701635034.html', '/eby/apa/4701635034.html', '/eby/apa/4694484659.html', '/eby/apa/4694484659.html', '/eby/apa/4698610157.html', '/eby/apa/4698610157.html', '/eby/apa/4701499272.html', '/eby/apa/4701499272.html', '/eby/apa/4701373811.html', '/eby/apa/4701373811.html', '/eby/apa/4701346705.html', '/eby/apa/4701346705.html', '/eby/apa/4688394503.html', '/eby/apa/4688394503.html', '/eby/apa/4701332446.html', '/eby/apa/4701332446.html', '/eby/apa/4701295277.html', '/eby/apa/4701295277.html', '/search/eby/apa?s=100&nh=54&sale_date=-', '#pagecontainer', 'http://sfbay.craigslist.org/search/eby/apa?nh=54&sale_date=-&format=rss', 'http://www.craigslist.org/about/rss', '//www.craigslist.org/about/help/', '//www.craigslist.org/about/scams', '//www.craigslist.org/about/privacy.policy', 'https://forums.craigslist.org/?forumID=8', '//www.craigslist.org/about/craigslist_is_hiring', '//www.craigslist.org/about/terms.of.use', '//www.craigslist.org/about/', '#', '#', '/', '/search/hhh', '/search/apa', 'https://post.craigslist.org/c/sfo?lang=en', 'https://accounts.craigslist.org/login/home', '#', 'https://accounts.craigslist.org/login?rt=L&rp=%2Fsavesearch%2Falert%3FURL%3Dhttp%253A%252F%252Fsfbay%252Ecraigslist%252Eorg%252Fsearch%252Feby%252Fapa%253Fnh%253D54', 'https://accounts.craigslist.org/login?rt=L&rp=%2Fsavesearch%2Fsave%3FURL%3Dhttp%253A%252F%252Fsfbay%252Ecraigslist%252Eorg%252Fsearch%252Feby%252Fapa%253Fnh%253D54', '/search/eby/apa?nh=54', '/search/eby/rea?nh=54', '/search/eby/roo?nh=54', '/search/eby/off?nh=54', '/search/eby/sha?nh=54', '/search/eby/hou?nh=54', '/search/eby/prk?nh=54', '/search/eby/sub?nh=54', '/search/eby/rew?nh=54', '/search/eby/sbw?nh=54', '/search/eby/swp?nh=54', '/search/eby/vac?nh=54', '#list', '#pic', '#grid', '#map', '/search/eby/apa?sort=priceasc&nh=54', '/search/eby/apa?sort=pricedsc&nh=54', '/search/eby/apa?nh=54', '/search/eby/apa?nh=54', '/search/eby/apa?s=200&nh=54', '/eby/apa/4690381673.html', '/eby/apa/4690381673.html', '/eby/apa/4701296329.html', '/eby/apa/4701296329.html', '/eby/apa/4695456118.html', '/eby/apa/4695456118.html', '/eby/apa/4697038172.html', '/eby/apa/4697038172.html', '/eby/apa/4701271986.html', '/eby/apa/4701271986.html', '/eby/apa/4692790556.html', '/eby/apa/4692790556.html', '/eby/apa/4690573649.html', '/eby/apa/4690573649.html', '/eby/apa/4694308303.html', '/eby/apa/4694308303.html', '/eby/apa/4697330752.html', '/eby/apa/4697330752.html', '/eby/apa/4701134936.html', '/eby/apa/4701134936.html', '/eby/apa/4694978856.html', '/eby/apa/4694978856.html', '/eby/apa/4693298062.html', '/eby/apa/4693298062.html', '/eby/apa/4701076814.html', '/eby/apa/4701076814.html', '/eby/apa/4701050878.html', '/eby/apa/4701050878.html', '/eby/apa/4701050008.html', '/eby/apa/4701050008.html', '/eby/apa/4701021491.html', '/eby/apa/4701021491.html', '/eby/apa/4701011409.html', '/eby/apa/4701011409.html', '/eby/apa/4701023723.html', '/eby/apa/4701023723.html', '/eby/apa/4701001268.html', '/eby/apa/4701001268.html', '/eby/apa/4701002015.html', '/eby/apa/4701002015.html', '/eby/apa/4700993491.html', '/eby/apa/4700993491.html', '/eby/apa/4697066710.html', '/eby/apa/4697066710.html', '/eby/apa/4700986117.html', '/eby/apa/4700986117.html', '/eby/apa/4695412849.html', '/eby/apa/4695412849.html', '/eby/apa/4700965705.html', '/eby/apa/4700965705.html', '/eby/apa/4695475060.html', '/eby/apa/4695475060.html', '/eby/apa/4700950421.html', '/eby/apa/4700950421.html', '/eby/apa/4700931313.html', '/eby/apa/4700931313.html', '/eby/apa/4700925093.html', '/eby/apa/4700925093.html', '/eby/apa/4694948876.html', '/eby/apa/4694948876.html', '/eby/apa/4700901774.html', '/eby/apa/4700901774.html', '/eby/apa/4700879255.html', '/eby/apa/4700879255.html', '/eby/apa/4700862743.html', '/eby/apa/4700862743.html', '/eby/apa/4700801259.html', '/eby/apa/4700801259.html', '/eby/apa/4691167236.html', '/eby/apa/4691167236.html', '/eby/apa/4700814288.html', '/eby/apa/4700814288.html', '/eby/apa/4680923646.html', '/eby/apa/4680923646.html', '/eby/apa/4700790696.html', '/eby/apa/4700790696.html', '/eby/apa/4700736285.html', '/eby/apa/4700736285.html', '/eby/apa/4700775920.html', '/eby/apa/4700775920.html', '/eby/apa/4700740260.html', '/eby/apa/4700740260.html', '/eby/apa/4700601238.html', '/eby/apa/4700601238.html', '/eby/apa/4700585952.html', '/eby/apa/4700585952.html', '/eby/apa/4700580141.html', '/eby/apa/4700580141.html', '/eby/apa/4700520666.html', '/eby/apa/4700520666.html', '/eby/apa/4700481471.html', '/eby/apa/4700481471.html', '/eby/apa/4695137759.html', '/eby/apa/4695137759.html', '/eby/apa/4700474353.html', '/eby/apa/4700474353.html', '/eby/apa/4700474310.html', '/eby/apa/4700474310.html', '/eby/apa/4700454463.html', '/eby/apa/4700454463.html', '/eby/apa/4700364472.html', '/eby/apa/4700364472.html', '/eby/apa/4700430540.html', '/eby/apa/4700430540.html', '/eby/apa/4700370408.html', '/eby/apa/4700370408.html', '/eby/apa/4700387700.html', '/eby/apa/4700387700.html', '/eby/apa/4693605784.html', '/eby/apa/4693605784.html', '/eby/apa/4700241702.html', '/eby/apa/4700241702.html', '/eby/apa/4700235796.html', '/eby/apa/4700235796.html', '/eby/apa/4660891351.html', '/eby/apa/4660891351.html', '/eby/apa/4700013075.html', '/eby/apa/4700013075.html', '/eby/apa/4699975964.html', '/eby/apa/4699975964.html', '/eby/apa/4699907688.html', '/eby/apa/4699907688.html', '/eby/apa/4699810558.html', '/eby/apa/4699810558.html', '/eby/apa/4699832711.html', '/eby/apa/4699832711.html', '/eby/apa/4699808740.html', '/eby/apa/4699808740.html', '/eby/apa/4699789642.html', '/eby/apa/4699789642.html', '/eby/apa/4699784858.html', '/eby/apa/4699784858.html', '/eby/apa/4699774459.html', '/eby/apa/4699774459.html', '/eby/apa/4699768690.html', '/eby/apa/4699768690.html', '/eby/apa/4699745962.html', '/eby/apa/4699745962.html', '/eby/apa/4691907641.html', '/eby/apa/4691907641.html', '/eby/apa/4699747325.html', '/eby/apa/4699747325.html', '/eby/apa/4699743897.html', '/eby/apa/4699743897.html', '/eby/apa/4699722256.html', '/eby/apa/4699722256.html', '/eby/apa/4699732071.html', '/eby/apa/4699732071.html', '/eby/apa/4699686771.html', '/eby/apa/4699686771.html', '/eby/apa/4699672333.html', '/eby/apa/4699672333.html', '/eby/apa/4699647359.html', '/eby/apa/4699647359.html', '/eby/apa/4699593268.html', '/eby/apa/4699593268.html', '/eby/apa/4699571954.html', '/eby/apa/4699571954.html', '/eby/apa/4699579886.html', '/eby/apa/4699579886.html', '/eby/apa/4699579026.html', '/eby/apa/4699579026.html', '/eby/apa/4699576897.html', '/eby/apa/4699576897.html', '/eby/apa/4699556413.html', '/eby/apa/4699556413.html', '/eby/apa/4699560228.html', '/eby/apa/4699560228.html', '/eby/apa/4699539825.html', '/eby/apa/4699539825.html', '/eby/apa/4699507872.html', '/eby/apa/4699507872.html', '/eby/apa/4699500787.html', '/eby/apa/4699500787.html', '/eby/apa/4699476877.html', '/eby/apa/4699476877.html', '/eby/apa/4699468607.html', '/eby/apa/4699468607.html', '/eby/apa/4699415772.html', '/eby/apa/4699415772.html', '/eby/apa/4699408368.html', '/eby/apa/4699408368.html', '/eby/apa/4688449232.html', '/eby/apa/4688449232.html', '/eby/apa/4699326653.html', '/eby/apa/4699326653.html', '/eby/apa/4699364106.html', '/eby/apa/4699364106.html', '/eby/apa/4699350676.html', '/eby/apa/4699350676.html', '/eby/apa/4699317288.html', '/eby/apa/4699317288.html', '/eby/apa/4699323906.html', '/eby/apa/4699323906.html', '/eby/apa/4699295212.html', '/eby/apa/4699295212.html', '/eby/apa/4699283144.html', '/eby/apa/4699283144.html', '/eby/apa/4699254762.html', '/eby/apa/4699254762.html', '/search/eby/apa?nh=54', '/search/eby/apa?nh=54', '/search/eby/apa?s=200&nh=54', '#pagecontainer', 'http://sfbay.craigslist.org/search/eby/apa?nh=54&s=100&format=rss', 'http://www.craigslist.org/about/rss', '//www.craigslist.org/about/help/', '//www.craigslist.org/about/scams', '//www.craigslist.org/about/privacy.policy', 'https://forums.craigslist.org/?forumID=8', '//www.craigslist.org/about/craigslist_is_hiring', '//www.craigslist.org/about/terms.of.use', '//www.craigslist.org/about/', '#', '#', '/', '/search/hhh', '/search/apa', 'https://post.craigslist.org/c/sfo?lang=en', 'https://accounts.craigslist.org/login/home', '#', 'https://accounts.craigslist.org/login?rt=L&rp=%2Fsavesearch%2Falert%3FURL%3Dhttp%253A%252F%252Fsfbay%252Ecraigslist%252Eorg%252Fsearch%252Feby%252Fapa%253Fnh%253D54', 'https://accounts.craigslist.org/login?rt=L&rp=%2Fsavesearch%2Fsave%3FURL%3Dhttp%253A%252F%252Fsfbay%252Ecraigslist%252Eorg%252Fsearch%252Feby%252Fapa%253Fnh%253D54', '/search/eby/apa?nh=54', '/search/eby/rea?nh=54', '/search/eby/roo?nh=54', '/search/eby/off?nh=54', '/search/eby/sha?nh=54', '/search/eby/hou?nh=54', '/search/eby/prk?nh=54', '/search/eby/sub?nh=54', '/search/eby/rew?nh=54', '/search/eby/sbw?nh=54', '/search/eby/swp?nh=54', '/search/eby/vac?nh=54', '#list', '#pic', '#grid', '#map', '/search/eby/apa?sort=priceasc&nh=54', '/search/eby/apa?sort=pricedsc&nh=54', '/search/eby/apa?nh=54', '/search/eby/apa?s=100&nh=54', '/search/eby/apa?s=300&nh=54', '/eby/apa/4699277316.html', '/eby/apa/4699277316.html', '/eby/apa/4699268017.html', '/eby/apa/4699268017.html', '/eby/apa/4699292027.html', '/eby/apa/4699292027.html', '/eby/apa/4690236057.html', '/eby/apa/4690236057.html', '/eby/apa/4699270559.html', '/eby/apa/4699270559.html', '/eby/apa/4699198007.html', '/eby/apa/4699198007.html', '/eby/apa/4677306808.html', '/eby/apa/4677306808.html', '/eby/apa/4693711902.html', '/eby/apa/4693711902.html', '/eby/apa/4699196955.html', '/eby/apa/4699196955.html', '/eby/apa/4699175331.html', '/eby/apa/4699175331.html', '/eby/apa/4699194073.html', '/eby/apa/4699194073.html', '/eby/apa/4699159394.html', '/eby/apa/4699159394.html', '/eby/apa/4699049342.html', '/eby/apa/4699049342.html', '/eby/apa/4699145623.html', '/eby/apa/4699145623.html', '/eby/apa/4699043300.html', '/eby/apa/4699043300.html', '/eby/apa/4699105132.html', '/eby/apa/4699105132.html', '/eby/apa/4699084020.html', '/eby/apa/4699084020.html', '/eby/apa/4699098784.html', '/eby/apa/4699098784.html', '/eby/apa/4699100651.html', '/eby/apa/4699100651.html', '/eby/apa/4691078260.html', '/eby/apa/4691078260.html', '/eby/apa/4695043060.html', '/eby/apa/4695043060.html', '/eby/apa/4699089858.html', '/eby/apa/4699089858.html', '/eby/apa/4699055248.html', '/eby/apa/4699055248.html', '/eby/apa/4699014214.html', '/eby/apa/4699014214.html', '/eby/apa/4698965108.html', '/eby/apa/4698965108.html', '/eby/apa/4698939899.html', '/eby/apa/4698939899.html', '/eby/apa/4698928647.html', '/eby/apa/4698928647.html', '/eby/apa/4698874935.html', '/eby/apa/4698874935.html', '/eby/apa/4698634686.html', '/eby/apa/4698634686.html', '/eby/apa/4698630835.html', '/eby/apa/4698630835.html', '/eby/apa/4689816984.html', '/eby/apa/4689816984.html', '/eby/apa/4698595395.html', '/eby/apa/4698595395.html', '/eby/apa/4690310869.html', '/eby/apa/4690310869.html', '/eby/apa/4678583672.html', '/eby/apa/4678583672.html', '/eby/apa/4698363723.html', '/eby/apa/4698363723.html', '/eby/apa/4698398616.html', '/eby/apa/4698398616.html', '/eby/apa/4698368576.html', '/eby/apa/4698368576.html', '/eby/apa/4698252081.html', '/eby/apa/4698252081.html', '/eby/apa/4698247113.html', '/eby/apa/4698247113.html', '/eby/apa/4698306085.html', '/eby/apa/4698306085.html', '/eby/apa/4687412961.html', '/eby/apa/4687412961.html', '/eby/apa/4698239220.html', '/eby/apa/4698239220.html', '/eby/apa/4698239973.html', '/eby/apa/4698239973.html', '/eby/apa/4698226049.html', '/eby/apa/4698226049.html', '/eby/apa/4698214527.html', '/eby/apa/4698214527.html', '/eby/apa/4698190930.html', '/eby/apa/4698190930.html', '/eby/apa/4698128103.html', '/eby/apa/4698128103.html', '/eby/apa/4698129248.html', '/eby/apa/4698129248.html', '/eby/apa/4698127385.html', '/eby/apa/4698127385.html', '/eby/apa/4698143233.html', '/eby/apa/4698143233.html', '/eby/apa/4690203597.html', '/eby/apa/4690203597.html', '/eby/apa/4698118072.html', '/eby/apa/4698118072.html', '/eby/apa/4680586921.html', '/eby/apa/4680586921.html', '/eby/apa/4698070183.html', '/eby/apa/4698070183.html', '/eby/apa/4698037498.html', '/eby/apa/4698037498.html', '/eby/apa/4698074682.html', '/eby/apa/4698074682.html', '/eby/apa/4698075793.html', '/eby/apa/4698075793.html', '/eby/apa/4698043537.html', '/eby/apa/4698043537.html', '/eby/apa/4698070464.html', '/eby/apa/4698070464.html', '/eby/apa/4698067143.html', '/eby/apa/4698067143.html', '/eby/apa/4698073411.html', '/eby/apa/4698073411.html', '/eby/apa/4698059621.html', '/eby/apa/4698059621.html', '/eby/apa/4698059282.html', '/eby/apa/4698059282.html', '/eby/apa/4698040171.html', '/eby/apa/4698040171.html', '/eby/apa/4698044778.html', '/eby/apa/4698044778.html', '/eby/apa/4698042573.html', '/eby/apa/4698042573.html', '/eby/apa/4697989492.html', '/eby/apa/4697989492.html', '/eby/apa/4698017808.html', '/eby/apa/4698017808.html', '/eby/apa/4697962937.html', '/eby/apa/4697962937.html', '/eby/apa/4697992048.html', '/eby/apa/4697992048.html', '/eby/apa/4697982824.html', '/eby/apa/4697982824.html', '/eby/apa/4697918601.html', '/eby/apa/4697918601.html', '/eby/apa/4697919602.html', '/eby/apa/4697919602.html', '/eby/apa/4697880731.html', '/eby/apa/4697880731.html', '/eby/apa/4697909692.html', '/eby/apa/4697909692.html', '/eby/apa/4697851518.html', '/eby/apa/4697851518.html', '/eby/apa/4694607625.html', '/eby/apa/4694607625.html', '/eby/apa/4697861697.html', '/eby/apa/4697861697.html', '/eby/apa/4697823337.html', '/eby/apa/4697823337.html', '/eby/apa/4697815706.html', '/eby/apa/4697815706.html', '/eby/apa/4697804566.html', '/eby/apa/4697804566.html', '/eby/apa/4697822736.html', '/eby/apa/4697822736.html', '/eby/apa/4697820876.html', '/eby/apa/4697820876.html', '/eby/apa/4697814849.html', '/eby/apa/4697814849.html', '/eby/apa/4667100523.html', '/eby/apa/4667100523.html', '/eby/apa/4697744467.html', '/eby/apa/4697744467.html', '/eby/apa/4697743511.html', '/eby/apa/4697743511.html', '/eby/apa/4697740080.html', '/eby/apa/4697740080.html', '/eby/apa/4697678398.html', '/eby/apa/4697678398.html', '/eby/apa/4697659704.html', '/eby/apa/4697659704.html', '/eby/apa/4697600833.html', '/eby/apa/4697600833.html', '/eby/apa/4697579201.html', '/eby/apa/4697579201.html', '/eby/apa/4693029747.html', '/eby/apa/4693029747.html', '/eby/apa/4693728424.html', '/eby/apa/4693728424.html', '/eby/apa/4697526374.html', '/eby/apa/4697526374.html', '/eby/apa/4697552903.html', '/eby/apa/4697552903.html', '/eby/apa/4697519632.html', '/eby/apa/4697519632.html', '/eby/apa/4697529549.html', '/eby/apa/4697529549.html', '/eby/apa/4697522305.html', '/eby/apa/4697522305.html', '/eby/apa/4697507681.html', '/eby/apa/4697507681.html', '/search/eby/apa?nh=54', '/search/eby/apa?s=100&nh=54', '/search/eby/apa?s=300&nh=54', '#pagecontainer', 'http://sfbay.craigslist.org/search/eby/apa?nh=54&s=200&format=rss', 'http://www.craigslist.org/about/rss', '//www.craigslist.org/about/help/', '//www.craigslist.org/about/scams', '//www.craigslist.org/about/privacy.policy', 'https://forums.craigslist.org/?forumID=8', '//www.craigslist.org/about/craigslist_is_hiring', '//www.craigslist.org/about/terms.of.use', '//www.craigslist.org/about/', '#', '#', '/', '/search/hhh', '/search/apa', 'https://post.craigslist.org/c/sfo?lang=en', 'https://accounts.craigslist.org/login/home', '#', 'https://accounts.craigslist.org/login?rt=L&rp=%2Fsavesearch%2Falert%3FURL%3Dhttp%253A%252F%252Fsfbay%252Ecraigslist%252Eorg%252Fsearch%252Feby%252Fapa%253Fnh%253D54', 'https://accounts.craigslist.org/login?rt=L&rp=%2Fsavesearch%2Fsave%3FURL%3Dhttp%253A%252F%252Fsfbay%252Ecraigslist%252Eorg%252Fsearch%252Feby%252Fapa%253Fnh%253D54', '/search/eby/apa?nh=54', '/search/eby/rea?nh=54', '/search/eby/roo?nh=54', '/search/eby/off?nh=54', '/search/eby/sha?nh=54', '/search/eby/hou?nh=54', '/search/eby/prk?nh=54', '/search/eby/sub?nh=54', '/search/eby/rew?nh=54', '/search/eby/sbw?nh=54', '/search/eby/swp?nh=54', '/search/eby/vac?nh=54', '#list', '#pic', '#grid', '#map', '/search/eby/apa?sort=priceasc&nh=54', '/search/eby/apa?sort=pricedsc&nh=54', '/search/eby/apa?nh=54', '/search/eby/apa?s=200&nh=54', '/search/eby/apa?s=400&nh=54', '/eby/apa/4697356836.html', '/eby/apa/4697356836.html', '/eby/apa/4697439879.html', '/eby/apa/4697439879.html', '/eby/apa/4697397493.html', '/eby/apa/4697397493.html', '/eby/apa/4697182989.html', '/eby/apa/4697182989.html', '/eby/apa/4697054204.html', '/eby/apa/4697054204.html', '/eby/apa/4652800577.html', '/eby/apa/4652800577.html', '/eby/apa/4653433703.html', '/eby/apa/4653433703.html', '/eby/apa/4697045921.html', '/eby/apa/4697045921.html', '/eby/apa/4697037923.html', '/eby/apa/4697037923.html', '/eby/apa/4696985708.html', '/eby/apa/4696985708.html', '/eby/apa/4696943761.html', '/eby/apa/4696943761.html', '/eby/apa/4696846506.html', '/eby/apa/4696846506.html', '/eby/apa/4696853159.html', '/eby/apa/4696853159.html', '/eby/apa/4690244813.html', '/eby/apa/4690244813.html', '/eby/apa/4696776737.html', '/eby/apa/4696776737.html', '/eby/apa/4696746593.html', '/eby/apa/4696746593.html', '/eby/apa/4696647796.html', '/eby/apa/4696647796.html', '/eby/apa/4696600813.html', '/eby/apa/4696600813.html', '/eby/apa/4696567064.html', '/eby/apa/4696567064.html', '/eby/apa/4696542688.html', '/eby/apa/4696542688.html', '/eby/apa/4696546445.html', '/eby/apa/4696546445.html', '/eby/apa/4696513705.html', '/eby/apa/4696513705.html', '/eby/apa/4696512110.html', '/eby/apa/4696512110.html', '/eby/apa/4653066735.html', '/eby/apa/4653066735.html', '/eby/apa/4696451679.html', '/eby/apa/4696451679.html', '/eby/apa/4696428196.html', '/eby/apa/4696428196.html', '/eby/apa/4696417639.html', '/eby/apa/4696417639.html', '/eby/apa/4691326055.html', '/eby/apa/4691326055.html', '/eby/apa/4696350812.html', '/eby/apa/4696350812.html', '/eby/apa/4696299251.html', '/eby/apa/4696299251.html', '/eby/apa/4696285664.html', '/eby/apa/4696285664.html', '/eby/apa/4655920426.html', '/eby/apa/4655920426.html', '/eby/apa/4696287452.html', '/eby/apa/4696287452.html', '/eby/apa/4696271618.html', '/eby/apa/4696271618.html', '/eby/apa/4685720486.html', '/eby/apa/4685720486.html', '/eby/apa/4696269834.html', '/eby/apa/4696269834.html', '/eby/apa/4696204380.html', '/eby/apa/4696204380.html', '/eby/apa/4688340129.html', '/eby/apa/4688340129.html', '/eby/apa/4696196290.html', '/eby/apa/4696196290.html', '/eby/apa/4696081234.html', '/eby/apa/4696081234.html', '/eby/apa/4696111269.html', '/eby/apa/4696111269.html', '/eby/apa/4696114688.html', '/eby/apa/4696114688.html', '/eby/apa/4696127458.html', '/eby/apa/4696127458.html', '/eby/apa/4696102185.html', '/eby/apa/4696102185.html', '/eby/apa/4696132042.html', '/eby/apa/4696132042.html', '/eby/apa/4689663908.html', '/eby/apa/4689663908.html', '/eby/apa/4696055650.html', '/eby/apa/4696055650.html', '/eby/apa/4696031458.html', '/eby/apa/4696031458.html', '/eby/apa/4696036874.html', '/eby/apa/4696036874.html', '/eby/apa/4696024780.html', '/eby/apa/4696024780.html', '/eby/apa/4695955216.html', '/eby/apa/4695955216.html', '/eby/apa/4685187841.html', '/eby/apa/4685187841.html', '/eby/apa/4686174141.html', '/eby/apa/4686174141.html', '/eby/apa/4695466033.html', '/eby/apa/4695466033.html', '/eby/apa/4695438880.html', '/eby/apa/4695438880.html', '/eby/apa/4695456342.html', '/eby/apa/4695456342.html', '/eby/apa/4695432530.html', '/eby/apa/4695432530.html', '/eby/apa/4695402313.html', '/eby/apa/4695402313.html', '/eby/apa/4666053775.html', '/eby/apa/4666053775.html', '/eby/apa/4683946265.html', '/eby/apa/4683946265.html', '/eby/apa/4685828195.html', '/eby/apa/4685828195.html', '/eby/apa/4688730281.html', '/eby/apa/4688730281.html', '/eby/apa/4695267333.html', '/eby/apa/4695267333.html', '/eby/apa/4695230242.html', '/eby/apa/4695230242.html', '/eby/apa/4695178872.html', '/eby/apa/4695178872.html', '/eby/apa/4695171436.html', '/eby/apa/4695171436.html', '/eby/apa/4695202863.html', '/eby/apa/4695202863.html', '/eby/apa/4695163614.html', '/eby/apa/4695163614.html', '/eby/apa/4695161369.html', '/eby/apa/4695161369.html', '/eby/apa/4695095838.html', '/eby/apa/4695095838.html', '/eby/apa/4695062742.html', '/eby/apa/4695062742.html', '/eby/apa/4695059960.html', '/eby/apa/4695059960.html', '/eby/apa/4695050482.html', '/eby/apa/4695050482.html', '/eby/apa/4695051636.html', '/eby/apa/4695051636.html', '/eby/apa/4695040722.html', '/eby/apa/4695040722.html', '/eby/apa/4695031707.html', '/eby/apa/4695031707.html', '/eby/apa/4694984710.html', '/eby/apa/4694984710.html', '/eby/apa/4694990674.html', '/eby/apa/4694990674.html', '/eby/apa/4694944588.html', '/eby/apa/4694944588.html', '/eby/apa/4694967181.html', '/eby/apa/4694967181.html', '/eby/apa/4694973672.html', '/eby/apa/4694973672.html', '/eby/apa/4694966766.html', '/eby/apa/4694966766.html', '/eby/apa/4694941989.html', '/eby/apa/4694941989.html', '/eby/apa/4684119955.html', '/eby/apa/4684119955.html', '/eby/apa/4694863886.html', '/eby/apa/4694863886.html', '/eby/apa/4675937071.html', '/eby/apa/4675937071.html', '/eby/apa/4694704332.html', '/eby/apa/4694704332.html', '/eby/apa/4694675787.html', '/eby/apa/4694675787.html', '/eby/apa/4694684724.html', '/eby/apa/4694684724.html', '/eby/apa/4694604897.html', '/eby/apa/4694604897.html', '/eby/apa/4694618437.html', '/eby/apa/4694618437.html', '/eby/apa/4683812582.html', '/eby/apa/4683812582.html', '/eby/apa/4694550041.html', '/eby/apa/4694550041.html', '/eby/apa/4694511135.html', '/eby/apa/4694511135.html', '/eby/apa/4694507997.html', '/eby/apa/4694507997.html', '/eby/apa/4694501540.html', '/eby/apa/4694501540.html', '/eby/apa/4694481931.html', '/eby/apa/4694481931.html', '/eby/apa/4694460207.html', '/eby/apa/4694460207.html', '/eby/apa/4694441034.html', '/eby/apa/4694441034.html', '/eby/apa/4674182670.html', '/eby/apa/4674182670.html', '/search/eby/apa?nh=54', '/search/eby/apa?s=200&nh=54', '/search/eby/apa?s=400&nh=54', '#pagecontainer', 'http://sfbay.craigslist.org/search/eby/apa?nh=54&s=300&format=rss', 'http://www.craigslist.org/about/rss', '//www.craigslist.org/about/help/', '//www.craigslist.org/about/scams', '//www.craigslist.org/about/privacy.policy', 'https://forums.craigslist.org/?forumID=8', '//www.craigslist.org/about/craigslist_is_hiring', '//www.craigslist.org/about/terms.of.use', '//www.craigslist.org/about/', '#', '#', '/', '/search/hhh', '/search/apa', 'https://post.craigslist.org/c/sfo?lang=en', 'https://accounts.craigslist.org/login/home', '#', 'https://accounts.craigslist.org/login?rt=L&rp=%2Fsavesearch%2Falert%3FURL%3Dhttp%253A%252F%252Fsfbay%252Ecraigslist%252Eorg%252Fsearch%252Feby%252Fapa%253Fnh%253D54', 'https://accounts.craigslist.org/login?rt=L&rp=%2Fsavesearch%2Fsave%3FURL%3Dhttp%253A%252F%252Fsfbay%252Ecraigslist%252Eorg%252Fsearch%252Feby%252Fapa%253Fnh%253D54', '/search/eby/apa?nh=54', '/search/eby/rea?nh=54', '/search/eby/roo?nh=54', '/search/eby/off?nh=54', '/search/eby/sha?nh=54', '/search/eby/hou?nh=54', '/search/eby/prk?nh=54', '/search/eby/sub?nh=54', '/search/eby/rew?nh=54', '/search/eby/sbw?nh=54', '/search/eby/swp?nh=54', '/search/eby/vac?nh=54', '#list', '#pic', '#grid', '#map', '/search/eby/apa?sort=priceasc&nh=54', '/search/eby/apa?sort=pricedsc&nh=54', '/search/eby/apa?nh=54', '/search/eby/apa?s=300&nh=54', '/search/eby/apa?s=500&nh=54', '/eby/apa/4685170717.html', '/eby/apa/4685170717.html', '/eby/apa/4694433077.html', '/eby/apa/4694433077.html', '/eby/apa/4694367806.html', '/eby/apa/4694367806.html', '/eby/apa/4694248251.html', '/eby/apa/4694248251.html', '/eby/apa/4694112090.html', '/eby/apa/4694112090.html', '/eby/apa/4693796322.html', '/eby/apa/4693796322.html', '/eby/apa/4675954307.html', '/eby/apa/4675954307.html', '/eby/apa/4688755035.html', '/eby/apa/4688755035.html', '/eby/apa/4685592773.html', '/eby/apa/4685592773.html', '/eby/apa/4685839507.html', '/eby/apa/4685839507.html', '/eby/apa/4687432255.html', '/eby/apa/4687432255.html', '/eby/apa/4688984085.html', '/eby/apa/4688984085.html', '/eby/apa/4688986688.html', '/eby/apa/4688986688.html', '/eby/apa/4687233849.html', '/eby/apa/4687233849.html', '/eby/apa/4693563087.html', '/eby/apa/4693563087.html', '/eby/apa/4693559737.html', '/eby/apa/4693559737.html', '/eby/apa/4693550640.html', '/eby/apa/4693550640.html', '/eby/apa/4693531407.html', '/eby/apa/4693531407.html', '/eby/apa/4693504950.html', '/eby/apa/4693504950.html', '/eby/apa/4654133045.html', '/eby/apa/4654133045.html', '/eby/apa/4653902770.html', '/eby/apa/4653902770.html', '/eby/apa/4693361624.html', '/eby/apa/4693361624.html', '/eby/apa/4693291562.html', '/eby/apa/4693291562.html', '/eby/apa/4693288027.html', '/eby/apa/4693288027.html', '/eby/apa/4693304438.html', '/eby/apa/4693304438.html', '/eby/apa/4693323088.html', '/eby/apa/4693323088.html', '/eby/apa/4693315276.html', '/eby/apa/4693315276.html', '/eby/apa/4693288286.html', '/eby/apa/4693288286.html', '/eby/apa/4693298016.html', '/eby/apa/4693298016.html', '/eby/apa/4693292220.html', '/eby/apa/4693292220.html', '/eby/apa/4693281825.html', '/eby/apa/4693281825.html', '/eby/apa/4693265327.html', '/eby/apa/4693265327.html', '/eby/apa/4693221975.html', '/eby/apa/4693221975.html', '/eby/apa/4693028266.html', '/eby/apa/4693028266.html', '/eby/apa/4693151835.html', '/eby/apa/4693151835.html', '/eby/apa/4693102619.html', '/eby/apa/4693102619.html', '/eby/apa/4693074114.html', '/eby/apa/4693074114.html', '/eby/apa/4693084879.html', '/eby/apa/4693084879.html', '/eby/apa/4693091288.html', '/eby/apa/4693091288.html', '/eby/apa/4693001451.html', '/eby/apa/4693001451.html', '/eby/apa/4692997233.html', '/eby/apa/4692997233.html', '/eby/apa/4693048373.html', '/eby/apa/4693048373.html', '/eby/apa/4693030690.html', '/eby/apa/4693030690.html', '/eby/apa/4692992643.html', '/eby/apa/4692992643.html', '/eby/apa/4692886961.html', '/eby/apa/4692886961.html', '/eby/apa/4692872249.html', '/eby/apa/4692872249.html', '/eby/apa/4692891600.html', '/eby/apa/4692891600.html', '/eby/apa/4692869649.html', '/eby/apa/4692869649.html', '/eby/apa/4692869004.html', '/eby/apa/4692869004.html', '/eby/apa/4692852822.html', '/eby/apa/4692852822.html', '/eby/apa/4692813575.html', '/eby/apa/4692813575.html', '/eby/apa/4692789536.html', '/eby/apa/4692789536.html', '/eby/apa/4692712322.html', '/eby/apa/4692712322.html', '/eby/apa/4692629301.html', '/eby/apa/4692629301.html', '/eby/apa/4692275984.html', '/eby/apa/4692275984.html', '/eby/apa/4692229614.html', '/eby/apa/4692229614.html', '/eby/apa/4692197118.html', '/eby/apa/4692197118.html', '/eby/apa/4691917876.html', '/eby/apa/4691917876.html', '/eby/apa/4691948922.html', '/eby/apa/4691948922.html', '/eby/apa/4691917663.html', '/eby/apa/4691917663.html', '/eby/apa/4691918718.html', '/eby/apa/4691918718.html', '/eby/apa/4691914193.html', '/eby/apa/4691914193.html', '/eby/apa/4691907542.html', '/eby/apa/4691907542.html', '/eby/apa/4691911248.html', '/eby/apa/4691911248.html', '/eby/apa/4691830118.html', '/eby/apa/4691830118.html', '/eby/apa/4691898387.html', '/eby/apa/4691898387.html', '/eby/apa/4691884957.html', '/eby/apa/4691884957.html', '/eby/apa/4691882456.html', '/eby/apa/4691882456.html', '/eby/apa/4691877485.html', '/eby/apa/4691877485.html', '/eby/apa/4691876737.html', '/eby/apa/4691876737.html', '/eby/apa/4691875204.html', '/eby/apa/4691875204.html', '/eby/apa/4691796880.html', '/eby/apa/4691796880.html', '/eby/apa/4691670189.html', '/eby/apa/4691670189.html', '/eby/apa/4691449655.html', '/eby/apa/4691449655.html', '/eby/apa/4691659619.html', '/eby/apa/4691659619.html', '/eby/apa/4691566780.html', '/eby/apa/4691566780.html', '/eby/apa/4691531243.html', '/eby/apa/4691531243.html', '/eby/apa/4680326103.html', '/eby/apa/4680326103.html', '/eby/apa/4691490137.html', '/eby/apa/4691490137.html', '/eby/apa/4691428009.html', '/eby/apa/4691428009.html', '/eby/apa/4680760994.html', '/eby/apa/4680760994.html', '/eby/apa/4691238768.html', '/eby/apa/4691238768.html', '/eby/apa/4691325796.html', '/eby/apa/4691325796.html', '/eby/apa/4691307320.html', '/eby/apa/4691307320.html', '/eby/apa/4691298642.html', '/eby/apa/4691298642.html', '/eby/apa/4691292406.html', '/eby/apa/4691292406.html', '/eby/apa/4691196016.html', '/eby/apa/4691196016.html', '/eby/apa/4691108930.html', '/eby/apa/4691108930.html', '/eby/apa/4691192057.html', '/eby/apa/4691192057.html', '/eby/apa/4691195543.html', '/eby/apa/4691195543.html', '/eby/apa/4691175292.html', '/eby/apa/4691175292.html', '/eby/apa/4691186029.html', '/eby/apa/4691186029.html', '/eby/apa/4691100120.html', '/eby/apa/4691100120.html', '/eby/apa/4691171148.html', '/eby/apa/4691171148.html', '/eby/apa/4691112001.html', '/eby/apa/4691112001.html', '/eby/apa/4691155658.html', '/eby/apa/4691155658.html', '/eby/apa/4691131473.html', '/eby/apa/4691131473.html', '/eby/apa/4686804365.html', '/eby/apa/4686804365.html', '/eby/apa/4691102784.html', '/eby/apa/4691102784.html', '/eby/apa/4669811122.html', '/eby/apa/4669811122.html', '/search/eby/apa?nh=54', '/search/eby/apa?s=300&nh=54', '/search/eby/apa?s=500&nh=54', '#pagecontainer', 'http://sfbay.craigslist.org/search/eby/apa?nh=54&s=400&format=rss', 'http://www.craigslist.org/about/rss', '//www.craigslist.org/about/help/', '//www.craigslist.org/about/scams', '//www.craigslist.org/about/privacy.policy', 'https://forums.craigslist.org/?forumID=8', '//www.craigslist.org/about/craigslist_is_hiring', '//www.craigslist.org/about/terms.of.use', '//www.craigslist.org/about/', '#', '#']\n"
       ]
      }
     ],
     "prompt_number": 5
    },
    {
     "cell_type": "code",
     "collapsed": false,
     "input": [
      "final_urls = set()\n",
      "for i in urls:\n",
      "    if (re.search( '.html',i)):\n",
      "        final_urls.add(i)\n",
      "\n",
      "final_urls\n",
      "len(final_urls)"
     ],
     "language": "python",
     "metadata": {},
     "outputs": [
      {
       "metadata": {},
       "output_type": "pyout",
       "prompt_number": 6,
       "text": [
        "500"
       ]
      }
     ],
     "prompt_number": 6
    },
    {
     "cell_type": "code",
     "collapsed": false,
     "input": [
      "final_content = []\n",
      "#invalid_posts = ['expired','deleted']\n",
      "all_content = {}\n",
      "\n",
      "for list_url in final_urls:\n",
      "    id = re.split('/',list_url)[3]\n",
      "    id_n = id.split('.')\n",
      "    url_id = id_n[0]\n",
      "    print url_id\n",
      "    list_url = \"http://sfbay.craigslist.org\" + list_url\n",
      "    listing = r.get(list_url)\n",
      "    listing.content\n",
      "    soup = BeautifulSoup(listing.content)\n",
      "    for header in soup.find_all('h2'):\n",
      "        data = header.get_text()\n",
      "        #pdb.set_trace()\n",
      "        data = data.strip()\n",
      "        if data.startswith(\"$\"):\n",
      "            all_content[url_id] = data\n",
      "            final_content.append(data)\n",
      "    "
     ],
     "language": "python",
     "metadata": {},
     "outputs": [
      {
       "output_type": "stream",
       "stream": "stdout",
       "text": [
        "4698037498\n",
        "4666053775"
       ]
      },
      {
       "output_type": "stream",
       "stream": "stdout",
       "text": [
        "\n",
        "4691917876"
       ]
      },
      {
       "output_type": "stream",
       "stream": "stdout",
       "text": [
        "\n",
        "4701964401"
       ]
      },
      {
       "output_type": "stream",
       "stream": "stdout",
       "text": [
        "\n",
        "4700925093"
       ]
      },
      {
       "output_type": "stream",
       "stream": "stdout",
       "text": [
        "\n",
        "4702884799"
       ]
      },
      {
       "output_type": "stream",
       "stream": "stdout",
       "text": [
        "\n",
        "4699196955"
       ]
      },
      {
       "output_type": "stream",
       "stream": "stdout",
       "text": [
        "\n",
        "4702020462"
       ]
      },
      {
       "output_type": "stream",
       "stream": "stdout",
       "text": [
        "\n",
        "4702219270"
       ]
      },
      {
       "output_type": "stream",
       "stream": "stdout",
       "text": [
        "\n",
        "4699832711"
       ]
      },
      {
       "output_type": "stream",
       "stream": "stdout",
       "text": [
        "\n",
        "4697507681"
       ]
      },
      {
       "output_type": "stream",
       "stream": "stdout",
       "text": [
        "\n",
        "4691175292"
       ]
      },
      {
       "output_type": "stream",
       "stream": "stdout",
       "text": [
        "\n",
        "4693315276"
       ]
      },
      {
       "output_type": "stream",
       "stream": "stdout",
       "text": [
        "\n",
        "4701499272"
       ]
      },
      {
       "output_type": "stream",
       "stream": "stdout",
       "text": [
        "\n",
        "4699743897"
       ]
      },
      {
       "output_type": "stream",
       "stream": "stdout",
       "text": [
        "\n",
        "4698247113"
       ]
      },
      {
       "output_type": "stream",
       "stream": "stdout",
       "text": [
        "\n",
        "4699789642"
       ]
      },
      {
       "output_type": "stream",
       "stream": "stdout",
       "text": [
        "\n",
        "4700430540"
       ]
      },
      {
       "output_type": "stream",
       "stream": "stdout",
       "text": [
        "\n",
        "4701801520"
       ]
      },
      {
       "output_type": "stream",
       "stream": "stdout",
       "text": [
        "\n",
        "4697038172"
       ]
      },
      {
       "output_type": "stream",
       "stream": "stdout",
       "text": [
        "\n",
        "4699084020"
       ]
      },
      {
       "output_type": "stream",
       "stream": "stdout",
       "text": [
        "\n",
        "4695432530"
       ]
      },
      {
       "output_type": "stream",
       "stream": "stdout",
       "text": [
        "\n",
        "4699539825"
       ]
      },
      {
       "output_type": "stream",
       "stream": "stdout",
       "text": [
        "\n",
        "4702557589"
       ]
      },
      {
       "output_type": "stream",
       "stream": "stdout",
       "text": [
        "\n",
        "4684119955"
       ]
      },
      {
       "output_type": "stream",
       "stream": "stdout",
       "text": [
        "\n",
        "4693029747"
       ]
      },
      {
       "output_type": "stream",
       "stream": "stdout",
       "text": [
        "\n",
        "4695466033"
       ]
      },
      {
       "output_type": "stream",
       "stream": "stdout",
       "text": [
        "\n",
        "4702433357"
       ]
      },
      {
       "output_type": "stream",
       "stream": "stdout",
       "text": [
        "\n",
        "4693728424"
       ]
      },
      {
       "output_type": "stream",
       "stream": "stdout",
       "text": [
        "\n",
        "4702316336"
       ]
      },
      {
       "output_type": "stream",
       "stream": "stdout",
       "text": [
        "\n",
        "4693504950"
       ]
      },
      {
       "output_type": "stream",
       "stream": "stdout",
       "text": [
        "\n",
        "4692197118"
       ]
      },
      {
       "output_type": "stream",
       "stream": "stdout",
       "text": [
        "\n",
        "4692789536"
       ]
      },
      {
       "output_type": "stream",
       "stream": "stdout",
       "text": [
        "\n",
        "4701764173"
       ]
      },
      {
       "output_type": "stream",
       "stream": "stdout",
       "text": [
        "\n",
        "4691292406"
       ]
      },
      {
       "output_type": "stream",
       "stream": "stdout",
       "text": [
        "\n",
        "4702678204"
       ]
      },
      {
       "output_type": "stream",
       "stream": "stdout",
       "text": [
        "\n",
        "4694978856"
       ]
      },
      {
       "output_type": "stream",
       "stream": "stdout",
       "text": [
        "\n",
        "4699576897"
       ]
      },
      {
       "output_type": "stream",
       "stream": "stdout",
       "text": [
        "\n",
        "4691776058"
       ]
      },
      {
       "output_type": "stream",
       "stream": "stdout",
       "text": [
        "\n",
        "4697822736"
       ]
      },
      {
       "output_type": "stream",
       "stream": "stdout",
       "text": [
        "\n",
        "4699556413"
       ]
      },
      {
       "output_type": "stream",
       "stream": "stdout",
       "text": [
        "\n",
        "4700775920"
       ]
      },
      {
       "output_type": "stream",
       "stream": "stdout",
       "text": [
        "\n",
        "4697182989"
       ]
      },
      {
       "output_type": "stream",
       "stream": "stdout",
       "text": [
        "\n",
        "4695230242"
       ]
      },
      {
       "output_type": "stream",
       "stream": "stdout",
       "text": [
        "\n",
        "4695456342"
       ]
      },
      {
       "output_type": "stream",
       "stream": "stdout",
       "text": [
        "\n",
        "4691112001"
       ]
      },
      {
       "output_type": "stream",
       "stream": "stdout",
       "text": [
        "\n",
        "4699175331"
       ]
      },
      {
       "output_type": "stream",
       "stream": "stdout",
       "text": [
        "\n",
        "4696299251"
       ]
      },
      {
       "output_type": "stream",
       "stream": "stdout",
       "text": [
        "\n",
        "4696846506"
       ]
      },
      {
       "output_type": "stream",
       "stream": "stdout",
       "text": [
        "\n",
        "4687019251"
       ]
      },
      {
       "output_type": "stream",
       "stream": "stdout",
       "text": [
        "\n",
        "4699745962"
       ]
      },
      {
       "output_type": "stream",
       "stream": "stdout",
       "text": [
        "\n",
        "4698634686"
       ]
      },
      {
       "output_type": "stream",
       "stream": "stdout",
       "text": [
        "\n",
        "4696513705"
       ]
      },
      {
       "output_type": "stream",
       "stream": "stdout",
       "text": [
        "\n",
        "4699672333"
       ]
      },
      {
       "output_type": "stream",
       "stream": "stdout",
       "text": [
        "\n",
        "4693796322"
       ]
      },
      {
       "output_type": "stream",
       "stream": "stdout",
       "text": [
        "\n",
        "4696546445"
       ]
      },
      {
       "output_type": "stream",
       "stream": "stdout",
       "text": [
        "\n",
        "4702709437"
       ]
      },
      {
       "output_type": "stream",
       "stream": "stdout",
       "text": [
        "\n",
        "4701879878"
       ]
      },
      {
       "output_type": "stream",
       "stream": "stdout",
       "text": [
        "\n",
        "4701921984"
       ]
      },
      {
       "output_type": "stream",
       "stream": "stdout",
       "text": [
        "\n",
        "4697066710"
       ]
      },
      {
       "output_type": "stream",
       "stream": "stdout",
       "text": [
        "\n",
        "4699350676"
       ]
      },
      {
       "output_type": "stream",
       "stream": "stdout",
       "text": [
        "\n",
        "4691078260"
       ]
      },
      {
       "output_type": "stream",
       "stream": "stdout",
       "text": [
        "\n",
        "4685839507"
       ]
      },
      {
       "output_type": "stream",
       "stream": "stdout",
       "text": [
        "\n",
        "4695051636"
       ]
      },
      {
       "output_type": "stream",
       "stream": "stdout",
       "text": [
        "\n",
        "4691490137"
       ]
      },
      {
       "output_type": "stream",
       "stream": "stdout",
       "text": [
        "\n",
        "4699579886"
       ]
      },
      {
       "output_type": "stream",
       "stream": "stdout",
       "text": [
        "\n",
        "4696055650"
       ]
      },
      {
       "output_type": "stream",
       "stream": "stdout",
       "text": [
        "\n",
        "4696036874"
       ]
      },
      {
       "output_type": "stream",
       "stream": "stdout",
       "text": [
        "\n",
        "4699295212"
       ]
      },
      {
       "output_type": "stream",
       "stream": "stdout",
       "text": [
        "\n",
        "4697356836"
       ]
      },
      {
       "output_type": "stream",
       "stream": "stdout",
       "text": [
        "\n",
        "4702677473"
       ]
      },
      {
       "output_type": "stream",
       "stream": "stdout",
       "text": [
        "\n",
        "4691298642"
       ]
      },
      {
       "output_type": "stream",
       "stream": "stdout",
       "text": [
        "\n",
        "4701011409"
       ]
      },
      {
       "output_type": "stream",
       "stream": "stdout",
       "text": [
        "\n",
        "4692790556"
       ]
      },
      {
       "output_type": "stream",
       "stream": "stdout",
       "text": [
        "\n",
        "4698252081"
       ]
      },
      {
       "output_type": "stream",
       "stream": "stdout",
       "text": [
        "\n",
        "4697579201"
       ]
      },
      {
       "output_type": "stream",
       "stream": "stdout",
       "text": [
        "\n",
        "4693221975"
       ]
      },
      {
       "output_type": "stream",
       "stream": "stdout",
       "text": [
        "\n",
        "4701965908"
       ]
      },
      {
       "output_type": "stream",
       "stream": "stdout",
       "text": [
        "\n",
        "4688984085"
       ]
      },
      {
       "output_type": "stream",
       "stream": "stdout",
       "text": [
        "\n",
        "4699159394"
       ]
      },
      {
       "output_type": "stream",
       "stream": "stdout",
       "text": [
        "\n",
        "4680326103"
       ]
      },
      {
       "output_type": "stream",
       "stream": "stdout",
       "text": [
        "\n",
        "4694984710"
       ]
      },
      {
       "output_type": "stream",
       "stream": "stdout",
       "text": [
        "\n",
        "4699317288"
       ]
      },
      {
       "output_type": "stream",
       "stream": "stdout",
       "text": [
        "\n",
        "4694501540"
       ]
      },
      {
       "output_type": "stream",
       "stream": "stdout",
       "text": [
        "\n",
        "4693074114"
       ]
      },
      {
       "output_type": "stream",
       "stream": "stdout",
       "text": [
        "\n",
        "4695412849"
       ]
      },
      {
       "output_type": "stream",
       "stream": "stdout",
       "text": [
        "\n",
        "4699747325"
       ]
      },
      {
       "output_type": "stream",
       "stream": "stdout",
       "text": [
        "\n",
        "4692891600"
       ]
      },
      {
       "output_type": "stream",
       "stream": "stdout",
       "text": [
        "\n",
        "4702589618"
       ]
      },
      {
       "output_type": "stream",
       "stream": "stdout",
       "text": [
        "\n",
        "4696204380"
       ]
      },
      {
       "output_type": "stream",
       "stream": "stdout",
       "text": [
        "\n",
        "4695402313"
       ]
      },
      {
       "output_type": "stream",
       "stream": "stdout",
       "text": [
        "\n",
        "4696647796"
       ]
      },
      {
       "output_type": "stream",
       "stream": "stdout",
       "text": [
        "\n",
        "4702739495"
       ]
      },
      {
       "output_type": "stream",
       "stream": "stdout",
       "text": [
        "\n",
        "4698143233"
       ]
      },
      {
       "output_type": "stream",
       "stream": "stdout",
       "text": [
        "\n",
        "4692869649"
       ]
      },
      {
       "output_type": "stream",
       "stream": "stdout",
       "text": [
        "\n",
        "4689816984"
       ]
      },
      {
       "output_type": "stream",
       "stream": "stdout",
       "text": [
        "\n",
        "4698127385"
       ]
      },
      {
       "output_type": "stream",
       "stream": "stdout",
       "text": [
        "\n",
        "4700520666"
       ]
      },
      {
       "output_type": "stream",
       "stream": "stdout",
       "text": [
        "\n",
        "4702720069"
       ]
      },
      {
       "output_type": "stream",
       "stream": "stdout",
       "text": [
        "\n",
        "4698118072"
       ]
      },
      {
       "output_type": "stream",
       "stream": "stdout",
       "text": [
        "\n",
        "4697397493"
       ]
      },
      {
       "output_type": "stream",
       "stream": "stdout",
       "text": [
        "\n",
        "4697823337"
       ]
      },
      {
       "output_type": "stream",
       "stream": "stdout",
       "text": [
        "\n",
        "4692229614"
       ]
      },
      {
       "output_type": "stream",
       "stream": "stdout",
       "text": [
        "\n",
        "4691195543"
       ]
      },
      {
       "output_type": "stream",
       "stream": "stdout",
       "text": [
        "\n",
        "4697743511"
       ]
      },
      {
       "output_type": "stream",
       "stream": "stdout",
       "text": [
        "\n",
        "4702653922"
       ]
      },
      {
       "output_type": "stream",
       "stream": "stdout",
       "text": [
        "\n",
        "4694441034"
       ]
      },
      {
       "output_type": "stream",
       "stream": "stdout",
       "text": [
        "\n",
        "4691948922"
       ]
      },
      {
       "output_type": "stream",
       "stream": "stdout",
       "text": [
        "\n",
        "4690573649"
       ]
      },
      {
       "output_type": "stream",
       "stream": "stdout",
       "text": [
        "\n",
        "4652800577"
       ]
      },
      {
       "output_type": "stream",
       "stream": "stdout",
       "text": [
        "\n",
        "4698075793"
       ]
      },
      {
       "output_type": "stream",
       "stream": "stdout",
       "text": [
        "\n",
        "4680760994"
       ]
      },
      {
       "output_type": "stream",
       "stream": "stdout",
       "text": [
        "\n",
        "4697522305"
       ]
      },
      {
       "output_type": "stream",
       "stream": "stdout",
       "text": [
        "\n",
        "4698630835"
       ]
      },
      {
       "output_type": "stream",
       "stream": "stdout",
       "text": [
        "\n",
        "4697526374"
       ]
      },
      {
       "output_type": "stream",
       "stream": "stdout",
       "text": [
        "\n",
        "4702174777"
       ]
      },
      {
       "output_type": "stream",
       "stream": "stdout",
       "text": [
        "\n",
        "4693361624"
       ]
      },
      {
       "output_type": "stream",
       "stream": "stdout",
       "text": [
        "\n",
        "4692852822"
       ]
      },
      {
       "output_type": "stream",
       "stream": "stdout",
       "text": [
        "\n",
        "4698067143"
       ]
      },
      {
       "output_type": "stream",
       "stream": "stdout",
       "text": [
        "\n",
        "4695161369"
       ]
      },
      {
       "output_type": "stream",
       "stream": "stdout",
       "text": [
        "\n",
        "4701332446"
       ]
      },
      {
       "output_type": "stream",
       "stream": "stdout",
       "text": [
        "\n",
        "4691907542"
       ]
      },
      {
       "output_type": "stream",
       "stream": "stdout",
       "text": [
        "\n",
        "4698965108"
       ]
      },
      {
       "output_type": "stream",
       "stream": "stdout",
       "text": [
        "\n",
        "4691911248"
       ]
      },
      {
       "output_type": "stream",
       "stream": "stdout",
       "text": [
        "\n",
        "4695050482"
       ]
      },
      {
       "output_type": "stream",
       "stream": "stdout",
       "text": [
        "\n",
        "4700601238"
       ]
      },
      {
       "output_type": "stream",
       "stream": "stdout",
       "text": [
        "\n",
        "4702165930"
       ]
      },
      {
       "output_type": "stream",
       "stream": "stdout",
       "text": [
        "\n",
        "4700862743"
       ]
      },
      {
       "output_type": "stream",
       "stream": "stdout",
       "text": [
        "\n",
        "4702152620"
       ]
      },
      {
       "output_type": "stream",
       "stream": "stdout",
       "text": [
        "\n",
        "4690244813"
       ]
      },
      {
       "output_type": "stream",
       "stream": "stdout",
       "text": [
        "\n",
        "4699098784"
       ]
      },
      {
       "output_type": "stream",
       "stream": "stdout",
       "text": [
        "\n",
        "4699593268"
       ]
      },
      {
       "output_type": "stream",
       "stream": "stdout",
       "text": [
        "\n",
        "4699476877"
       ]
      },
      {
       "output_type": "stream",
       "stream": "stdout",
       "text": [
        "\n",
        "4699364106"
       ]
      },
      {
       "output_type": "stream",
       "stream": "stdout",
       "text": [
        "\n",
        "4698043537"
       ]
      },
      {
       "output_type": "stream",
       "stream": "stdout",
       "text": [
        "\n",
        "4696285664"
       ]
      },
      {
       "output_type": "stream",
       "stream": "stdout",
       "text": [
        "\n",
        "4698928647"
       ]
      },
      {
       "output_type": "stream",
       "stream": "stdout",
       "text": [
        "\n",
        "4697740080"
       ]
      },
      {
       "output_type": "stream",
       "stream": "stdout",
       "text": [
        "\n",
        "4700950421"
       ]
      },
      {
       "output_type": "stream",
       "stream": "stdout",
       "text": [
        "\n",
        "4702241013"
       ]
      },
      {
       "output_type": "stream",
       "stream": "stdout",
       "text": [
        "\n",
        "4693048373"
       ]
      },
      {
       "output_type": "stream",
       "stream": "stdout",
       "text": [
        "\n",
        "4698190930"
       ]
      },
      {
       "output_type": "stream",
       "stream": "stdout",
       "text": [
        "\n",
        "4702686053"
       ]
      },
      {
       "output_type": "stream",
       "stream": "stdout",
       "text": [
        "\n",
        "4687412961"
       ]
      },
      {
       "output_type": "stream",
       "stream": "stdout",
       "text": [
        "\n",
        "4702152537"
       ]
      },
      {
       "output_type": "stream",
       "stream": "stdout",
       "text": [
        "\n",
        "4691387359"
       ]
      },
      {
       "output_type": "stream",
       "stream": "stdout",
       "text": [
        "\n",
        "4693028266"
       ]
      },
      {
       "output_type": "stream",
       "stream": "stdout",
       "text": [
        "\n",
        "4695163614"
       ]
      },
      {
       "output_type": "stream",
       "stream": "stdout",
       "text": [
        "\n",
        "4694507997"
       ]
      },
      {
       "output_type": "stream",
       "stream": "stdout",
       "text": [
        "\n",
        "4698070464"
       ]
      },
      {
       "output_type": "stream",
       "stream": "stdout",
       "text": [
        "\n",
        "4700879255"
       ]
      },
      {
       "output_type": "stream",
       "stream": "stdout",
       "text": [
        "\n",
        "4699975964"
       ]
      },
      {
       "output_type": "stream",
       "stream": "stdout",
       "text": [
        "\n",
        "4702676456"
       ]
      },
      {
       "output_type": "stream",
       "stream": "stdout",
       "text": [
        "\n",
        "4695955216"
       ]
      },
      {
       "output_type": "stream",
       "stream": "stdout",
       "text": [
        "\n",
        "4702596426"
       ]
      },
      {
       "output_type": "stream",
       "stream": "stdout",
       "text": [
        "\n",
        "4693102619"
       ]
      },
      {
       "output_type": "stream",
       "stream": "stdout",
       "text": [
        "\n",
        "4700740260"
       ]
      },
      {
       "output_type": "stream",
       "stream": "stdout",
       "text": [
        "\n",
        "4699810558"
       ]
      },
      {
       "output_type": "stream",
       "stream": "stdout",
       "text": [
        "\n",
        "4660891351"
       ]
      },
      {
       "output_type": "stream",
       "stream": "stdout",
       "text": [
        "\n",
        "4688394503"
       ]
      },
      {
       "output_type": "stream",
       "stream": "stdout",
       "text": [
        "\n",
        "4700986117"
       ]
      },
      {
       "output_type": "stream",
       "stream": "stdout",
       "text": [
        "\n",
        "4692992643"
       ]
      },
      {
       "output_type": "stream",
       "stream": "stdout",
       "text": [
        "\n",
        "4675852525"
       ]
      },
      {
       "output_type": "stream",
       "stream": "stdout",
       "text": [
        "\n",
        "4696081234"
       ]
      },
      {
       "output_type": "stream",
       "stream": "stdout",
       "text": [
        "\n",
        "4697909692"
       ]
      },
      {
       "output_type": "stream",
       "stream": "stdout",
       "text": [
        "\n",
        "4699014214"
       ]
      },
      {
       "output_type": "stream",
       "stream": "stdout",
       "text": [
        "\n",
        "4695059960"
       ]
      },
      {
       "output_type": "stream",
       "stream": "stdout",
       "text": [
        "\n",
        "4696127458"
       ]
      },
      {
       "output_type": "stream",
       "stream": "stdout",
       "text": [
        "\n",
        "4697880731"
       ]
      },
      {
       "output_type": "stream",
       "stream": "stdout",
       "text": [
        "\n",
        "4698874935"
       ]
      },
      {
       "output_type": "stream",
       "stream": "stdout",
       "text": [
        "\n",
        "4701983497"
       ]
      },
      {
       "output_type": "stream",
       "stream": "stdout",
       "text": [
        "\n",
        "4697859201"
       ]
      },
      {
       "output_type": "stream",
       "stream": "stdout",
       "text": [
        "\n",
        "4699049342"
       ]
      },
      {
       "output_type": "stream",
       "stream": "stdout",
       "text": [
        "\n",
        "4691917663"
       ]
      },
      {
       "output_type": "stream",
       "stream": "stdout",
       "text": [
        "\n",
        "4697439879"
       ]
      },
      {
       "output_type": "stream",
       "stream": "stdout",
       "text": [
        "\n",
        "4697919602"
       ]
      },
      {
       "output_type": "stream",
       "stream": "stdout",
       "text": [
        "\n",
        "4694863886"
       ]
      },
      {
       "output_type": "stream",
       "stream": "stdout",
       "text": [
        "\n",
        "4701271986"
       ]
      },
      {
       "output_type": "stream",
       "stream": "stdout",
       "text": [
        "\n",
        "4694944588"
       ]
      },
      {
       "output_type": "stream",
       "stream": "stdout",
       "text": [
        "\n",
        "4698040171"
       ]
      },
      {
       "output_type": "stream",
       "stream": "stdout",
       "text": [
        "\n",
        "4698239220"
       ]
      },
      {
       "output_type": "stream",
       "stream": "stdout",
       "text": [
        "\n",
        "4698226049"
       ]
      },
      {
       "output_type": "stream",
       "stream": "stdout",
       "text": [
        "\n",
        "4701134936"
       ]
      },
      {
       "output_type": "stream",
       "stream": "stdout",
       "text": [
        "\n",
        "4702405323"
       ]
      },
      {
       "output_type": "stream",
       "stream": "stdout",
       "text": [
        "\n",
        "4691875204"
       ]
      },
      {
       "output_type": "stream",
       "stream": "stdout",
       "text": [
        "\n",
        "4702626461"
       ]
      },
      {
       "output_type": "stream",
       "stream": "stdout",
       "text": [
        "\n",
        "4700387700"
       ]
      },
      {
       "output_type": "stream",
       "stream": "stdout",
       "text": [
        "\n",
        "4669811122"
       ]
      },
      {
       "output_type": "stream",
       "stream": "stdout",
       "text": [
        "\n",
        "4685720486"
       ]
      },
      {
       "output_type": "stream",
       "stream": "stdout",
       "text": [
        "\n",
        "4697982824"
       ]
      },
      {
       "output_type": "stream",
       "stream": "stdout",
       "text": [
        "\n",
        "4702589746"
       ]
      },
      {
       "output_type": "stream",
       "stream": "stdout",
       "text": [
        "\n",
        "4697820876"
       ]
      },
      {
       "output_type": "stream",
       "stream": "stdout",
       "text": [
        "\n",
        "4693531407"
       ]
      },
      {
       "output_type": "stream",
       "stream": "stdout",
       "text": [
        "\n",
        "4694484659"
       ]
      },
      {
       "output_type": "stream",
       "stream": "stdout",
       "text": [
        "\n",
        "4700481471"
       ]
      },
      {
       "output_type": "stream",
       "stream": "stdout",
       "text": [
        "\n",
        "4702435447"
       ]
      },
      {
       "output_type": "stream",
       "stream": "stdout",
       "text": [
        "\n",
        "4694990674"
       ]
      },
      {
       "output_type": "stream",
       "stream": "stdout",
       "text": [
        "\n",
        "4698368576"
       ]
      },
      {
       "output_type": "stream",
       "stream": "stdout",
       "text": [
        "\n",
        "4701050878"
       ]
      },
      {
       "output_type": "stream",
       "stream": "stdout",
       "text": [
        "\n",
        "4701346705"
       ]
      },
      {
       "output_type": "stream",
       "stream": "stdout",
       "text": [
        "\n",
        "4701076814"
       ]
      },
      {
       "output_type": "stream",
       "stream": "stdout",
       "text": [
        "\n",
        "4691876737"
       ]
      },
      {
       "output_type": "stream",
       "stream": "stdout",
       "text": [
        "\n",
        "4696114688"
       ]
      },
      {
       "output_type": "stream",
       "stream": "stdout",
       "text": [
        "\n",
        "4685592773"
       ]
      },
      {
       "output_type": "stream",
       "stream": "stdout",
       "text": [
        "\n",
        "4692629301"
       ]
      },
      {
       "output_type": "stream",
       "stream": "stdout",
       "text": [
        "\n",
        "4702149421"
       ]
      },
      {
       "output_type": "stream",
       "stream": "stdout",
       "text": [
        "\n",
        "4693563087"
       ]
      },
      {
       "output_type": "stream",
       "stream": "stdout",
       "text": [
        "\n",
        "4692869004"
       ]
      },
      {
       "output_type": "stream",
       "stream": "stdout",
       "text": [
        "\n",
        "4699784858"
       ]
      },
      {
       "output_type": "stream",
       "stream": "stdout",
       "text": [
        "\n",
        "4701001268"
       ]
      },
      {
       "output_type": "stream",
       "stream": "stdout",
       "text": [
        "\n",
        "4675954307"
       ]
      },
      {
       "output_type": "stream",
       "stream": "stdout",
       "text": [
        "\n",
        "4697992048"
       ]
      },
      {
       "output_type": "stream",
       "stream": "stdout",
       "text": [
        "\n",
        "4697330752"
       ]
      },
      {
       "output_type": "stream",
       "stream": "stdout",
       "text": [
        "\n",
        "4695040722"
       ]
      },
      {
       "output_type": "stream",
       "stream": "stdout",
       "text": [
        "\n",
        "4699268017"
       ]
      },
      {
       "output_type": "stream",
       "stream": "stdout",
       "text": [
        "\n",
        "4701023723"
       ]
      },
      {
       "output_type": "stream",
       "stream": "stdout",
       "text": [
        "\n",
        "4691830118"
       ]
      },
      {
       "output_type": "stream",
       "stream": "stdout",
       "text": [
        "\n",
        "4700474310"
       ]
      },
      {
       "output_type": "stream",
       "stream": "stdout",
       "text": [
        "\n",
        "4700235796"
       ]
      },
      {
       "output_type": "stream",
       "stream": "stdout",
       "text": [
        "\n",
        "4702284425"
       ]
      },
      {
       "output_type": "stream",
       "stream": "stdout",
       "text": [
        "\n",
        "4700931313"
       ]
      },
      {
       "output_type": "stream",
       "stream": "stdout",
       "text": [
        "\n",
        "4691108930"
       ]
      },
      {
       "output_type": "stream",
       "stream": "stdout",
       "text": [
        "\n",
        "4699579026"
       ]
      },
      {
       "output_type": "stream",
       "stream": "stdout",
       "text": [
        "\n",
        "4694550041"
       ]
      },
      {
       "output_type": "stream",
       "stream": "stdout",
       "text": [
        "\n",
        "4693151835"
       ]
      },
      {
       "output_type": "stream",
       "stream": "stdout",
       "text": [
        "\n",
        "4699408368"
       ]
      },
      {
       "output_type": "stream",
       "stream": "stdout",
       "text": [
        "\n",
        "4700814288"
       ]
      },
      {
       "output_type": "stream",
       "stream": "stdout",
       "text": [
        "\n",
        "4696994845"
       ]
      },
      {
       "output_type": "stream",
       "stream": "stdout",
       "text": [
        "\n",
        "4700364472"
       ]
      },
      {
       "output_type": "stream",
       "stream": "stdout",
       "text": [
        "\n",
        "4696746593"
       ]
      },
      {
       "output_type": "stream",
       "stream": "stdout",
       "text": [
        "\n",
        "4691877485"
       ]
      },
      {
       "output_type": "stream",
       "stream": "stdout",
       "text": [
        "\n",
        "4699283144"
       ]
      },
      {
       "output_type": "stream",
       "stream": "stdout",
       "text": [
        "\n",
        "4699732071"
       ]
      },
      {
       "output_type": "stream",
       "stream": "stdout",
       "text": [
        "\n",
        "4694618437"
       ]
      },
      {
       "output_type": "stream",
       "stream": "stdout",
       "text": [
        "\n",
        "4672754018"
       ]
      },
      {
       "output_type": "stream",
       "stream": "stdout",
       "text": [
        "\n",
        "4655920426"
       ]
      },
      {
       "output_type": "stream",
       "stream": "stdout",
       "text": [
        "\n",
        "4697600833"
       ]
      },
      {
       "output_type": "stream",
       "stream": "stdout",
       "text": [
        "\n",
        "4702520495"
       ]
      },
      {
       "output_type": "stream",
       "stream": "stdout",
       "text": [
        "\n",
        "4691325796"
       ]
      },
      {
       "output_type": "stream",
       "stream": "stdout",
       "text": [
        "\n",
        "4700736285"
       ]
      },
      {
       "output_type": "stream",
       "stream": "stdout",
       "text": [
        "\n",
        "4675937071"
       ]
      },
      {
       "output_type": "stream",
       "stream": "stdout",
       "text": [
        "\n",
        "4688340129"
       ]
      },
      {
       "output_type": "stream",
       "stream": "stdout",
       "text": [
        "\n",
        "4691918718"
       ]
      },
      {
       "output_type": "stream",
       "stream": "stdout",
       "text": [
        "\n",
        "4701373811"
       ]
      },
      {
       "output_type": "stream",
       "stream": "stdout",
       "text": [
        "\n",
        "4686804365"
       ]
      },
      {
       "output_type": "stream",
       "stream": "stdout",
       "text": [
        "\n",
        "4700901774"
       ]
      },
      {
       "output_type": "stream",
       "stream": "stdout",
       "text": [
        "\n",
        "4701635034"
       ]
      },
      {
       "output_type": "stream",
       "stream": "stdout",
       "text": [
        "\n",
        "4696853159"
       ]
      },
      {
       "output_type": "stream",
       "stream": "stdout",
       "text": [
        "\n",
        "4700965705"
       ]
      },
      {
       "output_type": "stream",
       "stream": "stdout",
       "text": [
        "\n",
        "4699808740"
       ]
      },
      {
       "output_type": "stream",
       "stream": "stdout",
       "text": [
        "\n",
        "4700474353"
       ]
      },
      {
       "output_type": "stream",
       "stream": "stdout",
       "text": [
        "\n",
        "4696512110"
       ]
      },
      {
       "output_type": "stream",
       "stream": "stdout",
       "text": [
        "\n",
        "4677306808"
       ]
      },
      {
       "output_type": "stream",
       "stream": "stdout",
       "text": [
        "\n",
        "4694604897"
       ]
      },
      {
       "output_type": "stream",
       "stream": "stdout",
       "text": [
        "\n",
        "4690381673"
       ]
      },
      {
       "output_type": "stream",
       "stream": "stdout",
       "text": [
        "\n",
        "4693292220"
       ]
      },
      {
       "output_type": "stream",
       "stream": "stdout",
       "text": [
        "\n",
        "4696567064"
       ]
      },
      {
       "output_type": "stream",
       "stream": "stdout",
       "text": [
        "\n",
        "4699055248"
       ]
      },
      {
       "output_type": "stream",
       "stream": "stdout",
       "text": [
        "\n",
        "4702856265"
       ]
      },
      {
       "output_type": "stream",
       "stream": "stdout",
       "text": [
        "\n",
        "4699768690"
       ]
      },
      {
       "output_type": "stream",
       "stream": "stdout",
       "text": [
        "\n",
        "4696102185"
       ]
      },
      {
       "output_type": "stream",
       "stream": "stdout",
       "text": [
        "\n",
        "4695178872"
       ]
      },
      {
       "output_type": "stream",
       "stream": "stdout",
       "text": [
        "\n",
        "4702402899"
       ]
      },
      {
       "output_type": "stream",
       "stream": "stdout",
       "text": [
        "\n",
        "4691659619"
       ]
      },
      {
       "output_type": "stream",
       "stream": "stdout",
       "text": [
        "\n",
        "4667279757"
       ]
      },
      {
       "output_type": "stream",
       "stream": "stdout",
       "text": [
        "\n",
        "4696776737"
       ]
      },
      {
       "output_type": "stream",
       "stream": "stdout",
       "text": [
        "\n",
        "4702853356"
       ]
      },
      {
       "output_type": "stream",
       "stream": "stdout",
       "text": [
        "\n",
        "4699571954"
       ]
      },
      {
       "output_type": "stream",
       "stream": "stdout",
       "text": [
        "\n",
        "4702635277"
       ]
      },
      {
       "output_type": "stream",
       "stream": "stdout",
       "text": [
        "\n",
        "4698128103"
       ]
      },
      {
       "output_type": "stream",
       "stream": "stdout",
       "text": [
        "\n",
        "4696269834"
       ]
      },
      {
       "output_type": "stream",
       "stream": "stdout",
       "text": [
        "\n",
        "4686174141"
       ]
      },
      {
       "output_type": "stream",
       "stream": "stdout",
       "text": [
        "\n",
        "4695267333"
       ]
      },
      {
       "output_type": "stream",
       "stream": "stdout",
       "text": [
        "\n",
        "4699415772"
       ]
      },
      {
       "output_type": "stream",
       "stream": "stdout",
       "text": [
        "\n",
        "4700241702"
       ]
      },
      {
       "output_type": "stream",
       "stream": "stdout",
       "text": [
        "\n",
        "4690203597"
       ]
      },
      {
       "output_type": "stream",
       "stream": "stdout",
       "text": [
        "\n",
        "4698214527"
       ]
      },
      {
       "output_type": "stream",
       "stream": "stdout",
       "text": [
        "\n",
        "4699270559"
       ]
      },
      {
       "output_type": "stream",
       "stream": "stdout",
       "text": [
        "\n",
        "4691884957"
       ]
      },
      {
       "output_type": "stream",
       "stream": "stdout",
       "text": [
        "\n",
        "4692997233"
       ]
      },
      {
       "output_type": "stream",
       "stream": "stdout",
       "text": [
        "\n",
        "4697678398"
       ]
      },
      {
       "output_type": "stream",
       "stream": "stdout",
       "text": [
        "\n",
        "4691898387"
       ]
      },
      {
       "output_type": "stream",
       "stream": "stdout",
       "text": [
        "\n",
        "4693550640"
       ]
      },
      {
       "output_type": "stream",
       "stream": "stdout",
       "text": [
        "\n",
        "4701881935"
       ]
      },
      {
       "output_type": "stream",
       "stream": "stdout",
       "text": [
        "\n",
        "4674182670"
       ]
      },
      {
       "output_type": "stream",
       "stream": "stdout",
       "text": [
        "\n",
        "4685187841"
       ]
      },
      {
       "output_type": "stream",
       "stream": "stdout",
       "text": [
        "\n",
        "4702131715"
       ]
      },
      {
       "output_type": "stream",
       "stream": "stdout",
       "text": [
        "\n",
        "4699277316"
       ]
      },
      {
       "output_type": "stream",
       "stream": "stdout",
       "text": [
        "\n",
        "4695031707"
       ]
      },
      {
       "output_type": "stream",
       "stream": "stdout",
       "text": [
        "\n",
        "4693288027"
       ]
      },
      {
       "output_type": "stream",
       "stream": "stdout",
       "text": [
        "\n",
        "4698073411"
       ]
      },
      {
       "output_type": "stream",
       "stream": "stdout",
       "text": [
        "\n",
        "4701002015"
       ]
      },
      {
       "output_type": "stream",
       "stream": "stdout",
       "text": [
        "\n",
        "4694433077"
       ]
      },
      {
       "output_type": "stream",
       "stream": "stdout",
       "text": [
        "\n",
        "4700370408"
       ]
      },
      {
       "output_type": "stream",
       "stream": "stdout",
       "text": [
        "\n",
        "4699254762"
       ]
      },
      {
       "output_type": "stream",
       "stream": "stdout",
       "text": [
        "\n",
        "4696271618"
       ]
      },
      {
       "output_type": "stream",
       "stream": "stdout",
       "text": [
        "\n",
        "4702273387"
       ]
      },
      {
       "output_type": "stream",
       "stream": "stdout",
       "text": [
        "\n",
        "4685828195"
       ]
      },
      {
       "output_type": "stream",
       "stream": "stdout",
       "text": [
        "\n",
        "4690310869"
       ]
      },
      {
       "output_type": "stream",
       "stream": "stdout",
       "text": [
        "\n",
        "4694923813"
       ]
      },
      {
       "output_type": "stream",
       "stream": "stdout",
       "text": [
        "\n",
        "4693323088"
       ]
      },
      {
       "output_type": "stream",
       "stream": "stdout",
       "text": [
        "\n",
        "4691307320"
       ]
      },
      {
       "output_type": "stream",
       "stream": "stdout",
       "text": [
        "\n",
        "4691238768"
       ]
      },
      {
       "output_type": "stream",
       "stream": "stdout",
       "text": [
        "\n",
        "4695438880"
       ]
      },
      {
       "output_type": "stream",
       "stream": "stdout",
       "text": [
        "\n",
        "4702628305"
       ]
      },
      {
       "output_type": "stream",
       "stream": "stdout",
       "text": [
        "\n",
        "4702517466"
       ]
      },
      {
       "output_type": "stream",
       "stream": "stdout",
       "text": [
        "\n",
        "4702646606"
       ]
      },
      {
       "output_type": "stream",
       "stream": "stdout",
       "text": [
        "\n",
        "4654133045"
       ]
      },
      {
       "output_type": "stream",
       "stream": "stdout",
       "text": [
        "\n",
        "4691796880"
       ]
      },
      {
       "output_type": "stream",
       "stream": "stdout",
       "text": [
        "\n",
        "4667100523"
       ]
      },
      {
       "output_type": "stream",
       "stream": "stdout",
       "text": [
        "\n",
        "4694248251"
       ]
      },
      {
       "output_type": "stream",
       "stream": "stdout",
       "text": [
        "\n",
        "4697851518"
       ]
      },
      {
       "output_type": "stream",
       "stream": "stdout",
       "text": [
        "\n",
        "4692849596"
       ]
      },
      {
       "output_type": "stream",
       "stream": "stdout",
       "text": [
        "\n",
        "4696985708"
       ]
      },
      {
       "output_type": "stream",
       "stream": "stdout",
       "text": [
        "\n",
        "4699198007"
       ]
      },
      {
       "output_type": "stream",
       "stream": "stdout",
       "text": [
        "\n",
        "4680586921"
       ]
      },
      {
       "output_type": "stream",
       "stream": "stdout",
       "text": [
        "\n",
        "4698042573"
       ]
      },
      {
       "output_type": "stream",
       "stream": "stdout",
       "text": [
        "\n",
        "4699686771"
       ]
      },
      {
       "output_type": "stream",
       "stream": "stdout",
       "text": [
        "\n",
        "4691171148"
       ]
      },
      {
       "output_type": "stream",
       "stream": "stdout",
       "text": [
        "\n",
        "4696943761"
       ]
      },
      {
       "output_type": "stream",
       "stream": "stdout",
       "text": [
        "\n",
        "4695137759"
       ]
      },
      {
       "output_type": "stream",
       "stream": "stdout",
       "text": [
        "\n",
        "4701897838"
       ]
      },
      {
       "output_type": "stream",
       "stream": "stdout",
       "text": [
        "\n",
        "4692275984"
       ]
      },
      {
       "output_type": "stream",
       "stream": "stdout",
       "text": [
        "\n",
        "4696196290"
       ]
      },
      {
       "output_type": "stream",
       "stream": "stdout",
       "text": [
        "\n",
        "4683812582"
       ]
      },
      {
       "output_type": "stream",
       "stream": "stdout",
       "text": [
        "\n",
        "4697529549"
       ]
      },
      {
       "output_type": "stream",
       "stream": "stdout",
       "text": [
        "\n",
        "4696111269"
       ]
      },
      {
       "output_type": "stream",
       "stream": "stdout",
       "text": [
        "\n",
        "4688755035"
       ]
      },
      {
       "output_type": "stream",
       "stream": "stdout",
       "text": [
        "\n",
        "4698939899"
       ]
      },
      {
       "output_type": "stream",
       "stream": "stdout",
       "text": [
        "\n",
        "4693711902"
       ]
      },
      {
       "output_type": "stream",
       "stream": "stdout",
       "text": [
        "\n",
        "4699468607"
       ]
      },
      {
       "output_type": "stream",
       "stream": "stdout",
       "text": [
        "\n",
        "4697045921"
       ]
      },
      {
       "output_type": "stream",
       "stream": "stdout",
       "text": [
        "\n",
        "4694367806"
       ]
      },
      {
       "output_type": "stream",
       "stream": "stdout",
       "text": [
        "\n",
        "4697744467"
       ]
      },
      {
       "output_type": "stream",
       "stream": "stdout",
       "text": [
        "\n",
        "4702461758"
       ]
      },
      {
       "output_type": "stream",
       "stream": "stdout",
       "text": [
        "\n",
        "4697037923"
       ]
      },
      {
       "output_type": "stream",
       "stream": "stdout",
       "text": [
        "\n",
        "4699100651"
       ]
      },
      {
       "output_type": "stream",
       "stream": "stdout",
       "text": [
        "\n",
        "4702616279"
       ]
      },
      {
       "output_type": "stream",
       "stream": "stdout",
       "text": [
        "\n",
        "4700790696"
       ]
      },
      {
       "output_type": "stream",
       "stream": "stdout",
       "text": [
        "\n",
        "4696402608"
       ]
      },
      {
       "output_type": "stream",
       "stream": "stdout",
       "text": [
        "\n",
        "4697815706"
       ]
      },
      {
       "output_type": "stream",
       "stream": "stdout",
       "text": [
        "\n",
        "4702424488"
       ]
      },
      {
       "output_type": "stream",
       "stream": "stdout",
       "text": [
        "\n",
        "4693304438"
       ]
      },
      {
       "output_type": "stream",
       "stream": "stdout",
       "text": [
        "\n",
        "4701021491"
       ]
      },
      {
       "output_type": "stream",
       "stream": "stdout",
       "text": [
        "\n",
        "4678583672"
       ]
      },
      {
       "output_type": "stream",
       "stream": "stdout",
       "text": [
        "\n",
        "4698017808"
       ]
      },
      {
       "output_type": "stream",
       "stream": "stdout",
       "text": [
        "\n",
        "4653902770"
       ]
      },
      {
       "output_type": "stream",
       "stream": "stdout",
       "text": [
        "\n",
        "4701856859"
       ]
      },
      {
       "output_type": "stream",
       "stream": "stdout",
       "text": [
        "\n",
        "4697861697"
       ]
      },
      {
       "output_type": "stream",
       "stream": "stdout",
       "text": [
        "\n",
        "4693298062"
       ]
      },
      {
       "output_type": "stream",
       "stream": "stdout",
       "text": [
        "\n",
        "4688449232"
       ]
      },
      {
       "output_type": "stream",
       "stream": "stdout",
       "text": [
        "\n",
        "4701722996"
       ]
      },
      {
       "output_type": "stream",
       "stream": "stdout",
       "text": [
        "\n",
        "4698610157"
       ]
      },
      {
       "output_type": "stream",
       "stream": "stdout",
       "text": [
        "\n",
        "4691670189"
       ]
      },
      {
       "output_type": "stream",
       "stream": "stdout",
       "text": [
        "\n",
        "4702476656"
       ]
      },
      {
       "output_type": "stream",
       "stream": "stdout",
       "text": [
        "\n",
        "4694607625"
       ]
      },
      {
       "output_type": "stream",
       "stream": "stdout",
       "text": [
        "\n",
        "4700993491"
       ]
      },
      {
       "output_type": "stream",
       "stream": "stdout",
       "text": [
        "\n",
        "4685170717"
       ]
      },
      {
       "output_type": "stream",
       "stream": "stdout",
       "text": [
        "\n",
        "4698306085"
       ]
      },
      {
       "output_type": "stream",
       "stream": "stdout",
       "text": [
        "\n",
        "4653433703"
       ]
      },
      {
       "output_type": "stream",
       "stream": "stdout",
       "text": [
        "\n",
        "4698074682"
       ]
      },
      {
       "output_type": "stream",
       "stream": "stdout",
       "text": [
        "\n",
        "4696542688"
       ]
      },
      {
       "output_type": "stream",
       "stream": "stdout",
       "text": [
        "\n",
        "4695062742"
       ]
      },
      {
       "output_type": "stream",
       "stream": "stdout",
       "text": [
        "\n",
        "4687432255"
       ]
      },
      {
       "output_type": "stream",
       "stream": "stdout",
       "text": [
        "\n",
        "4699145623"
       ]
      },
      {
       "output_type": "stream",
       "stream": "stdout",
       "text": [
        "\n",
        "4697659704"
       ]
      },
      {
       "output_type": "stream",
       "stream": "stdout",
       "text": [
        "\n",
        "4683946265"
       ]
      },
      {
       "output_type": "stream",
       "stream": "stdout",
       "text": [
        "\n",
        "4700580141"
       ]
      },
      {
       "output_type": "stream",
       "stream": "stdout",
       "text": [
        "\n",
        "4695202863"
       ]
      },
      {
       "output_type": "stream",
       "stream": "stdout",
       "text": [
        "\n",
        "4694481931"
       ]
      },
      {
       "output_type": "stream",
       "stream": "stdout",
       "text": [
        "\n",
        "4698129248"
       ]
      },
      {
       "output_type": "stream",
       "stream": "stdout",
       "text": [
        "\n",
        "4696132042"
       ]
      },
      {
       "output_type": "stream",
       "stream": "stdout",
       "text": [
        "\n",
        "4701823102"
       ]
      },
      {
       "output_type": "stream",
       "stream": "stdout",
       "text": [
        "\n",
        "4702082659"
       ]
      },
      {
       "output_type": "stream",
       "stream": "stdout",
       "text": [
        "\n",
        "4702225142"
       ]
      },
      {
       "output_type": "stream",
       "stream": "stdout",
       "text": [
        "\n",
        "4697054204"
       ]
      },
      {
       "output_type": "stream",
       "stream": "stdout",
       "text": [
        "\n",
        "4653066735"
       ]
      },
      {
       "output_type": "stream",
       "stream": "stdout",
       "text": [
        "\n",
        "4692886961"
       ]
      },
      {
       "output_type": "stream",
       "stream": "stdout",
       "text": [
        "\n",
        "4702063038"
       ]
      },
      {
       "output_type": "stream",
       "stream": "stdout",
       "text": [
        "\n",
        "4692872249"
       ]
      },
      {
       "output_type": "stream",
       "stream": "stdout",
       "text": [
        "\n",
        "4702631745"
       ]
      },
      {
       "output_type": "stream",
       "stream": "stdout",
       "text": [
        "\n",
        "4699500787"
       ]
      },
      {
       "output_type": "stream",
       "stream": "stdout",
       "text": [
        "\n",
        "4691102784"
       ]
      },
      {
       "output_type": "stream",
       "stream": "stdout",
       "text": [
        "\n",
        "4694684724"
       ]
      },
      {
       "output_type": "stream",
       "stream": "stdout",
       "text": [
        "\n",
        "4699507872"
       ]
      },
      {
       "output_type": "stream",
       "stream": "stdout",
       "text": [
        "\n",
        "4696350812"
       ]
      },
      {
       "output_type": "stream",
       "stream": "stdout",
       "text": [
        "\n",
        "4694511135"
       ]
      },
      {
       "output_type": "stream",
       "stream": "stdout",
       "text": [
        "\n",
        "4689663908"
       ]
      },
      {
       "output_type": "stream",
       "stream": "stdout",
       "text": [
        "\n",
        "4693030690"
       ]
      },
      {
       "output_type": "stream",
       "stream": "stdout",
       "text": [
        "\n",
        "4702093114"
       ]
      },
      {
       "output_type": "stream",
       "stream": "stdout",
       "text": [
        "\n",
        "4693559737"
       ]
      },
      {
       "output_type": "stream",
       "stream": "stdout",
       "text": [
        "\n",
        "4697918601"
       ]
      },
      {
       "output_type": "stream",
       "stream": "stdout",
       "text": [
        "\n",
        "4697519632"
       ]
      },
      {
       "output_type": "stream",
       "stream": "stdout",
       "text": [
        "\n",
        "4691882456"
       ]
      },
      {
       "output_type": "stream",
       "stream": "stdout",
       "text": [
        "\n",
        "4699722256"
       ]
      },
      {
       "output_type": "stream",
       "stream": "stdout",
       "text": [
        "\n",
        "4702660987"
       ]
      },
      {
       "output_type": "stream",
       "stream": "stdout",
       "text": [
        "\n",
        "4701987167"
       ]
      },
      {
       "output_type": "stream",
       "stream": "stdout",
       "text": [
        "\n",
        "4692712322"
       ]
      },
      {
       "output_type": "stream",
       "stream": "stdout",
       "text": [
        "\n",
        "4694941989"
       ]
      },
      {
       "output_type": "stream",
       "stream": "stdout",
       "text": [
        "\n",
        "4698239973"
       ]
      },
      {
       "output_type": "stream",
       "stream": "stdout",
       "text": [
        "\n",
        "4688730281"
       ]
      },
      {
       "output_type": "stream",
       "stream": "stdout",
       "text": [
        "\n",
        "4699105132"
       ]
      },
      {
       "output_type": "stream",
       "stream": "stdout",
       "text": [
        "\n",
        "4687233849"
       ]
      },
      {
       "output_type": "stream",
       "stream": "stdout",
       "text": [
        "\n",
        "4698070183"
       ]
      },
      {
       "output_type": "stream",
       "stream": "stdout",
       "text": [
        "\n",
        "4691907641"
       ]
      },
      {
       "output_type": "stream",
       "stream": "stdout",
       "text": [
        "\n",
        "4696287452"
       ]
      },
      {
       "output_type": "stream",
       "stream": "stdout",
       "text": [
        "\n",
        "4691326055"
       ]
      },
      {
       "output_type": "stream",
       "stream": "stdout",
       "text": [
        "\n",
        "4701845570"
       ]
      },
      {
       "output_type": "stream",
       "stream": "stdout",
       "text": [
        "\n",
        "4701296329"
       ]
      },
      {
       "output_type": "stream",
       "stream": "stdout",
       "text": [
        "\n",
        "4695171436"
       ]
      },
      {
       "output_type": "stream",
       "stream": "stdout",
       "text": [
        "\n",
        "4700454463"
       ]
      },
      {
       "output_type": "stream",
       "stream": "stdout",
       "text": [
        "\n",
        "4701966278"
       ]
      },
      {
       "output_type": "stream",
       "stream": "stdout",
       "text": [
        "\n",
        "4690236057"
       ]
      },
      {
       "output_type": "stream",
       "stream": "stdout",
       "text": [
        "\n",
        "4701884368"
       ]
      },
      {
       "output_type": "stream",
       "stream": "stdout",
       "text": [
        "\n",
        "4695043060"
       ]
      },
      {
       "output_type": "stream",
       "stream": "stdout",
       "text": [
        "\n",
        "4694308303"
       ]
      },
      {
       "output_type": "stream",
       "stream": "stdout",
       "text": [
        "\n",
        "4701295277"
       ]
      },
      {
       "output_type": "stream",
       "stream": "stdout",
       "text": [
        "\n",
        "4691192057"
       ]
      },
      {
       "output_type": "stream",
       "stream": "stdout",
       "text": [
        "\n",
        "4701050008"
       ]
      },
      {
       "output_type": "stream",
       "stream": "stdout",
       "text": [
        "\n",
        "4693001451"
       ]
      },
      {
       "output_type": "stream",
       "stream": "stdout",
       "text": [
        "\n",
        "4699043300"
       ]
      },
      {
       "output_type": "stream",
       "stream": "stdout",
       "text": [
        "\n",
        "4694112090"
       ]
      },
      {
       "output_type": "stream",
       "stream": "stdout",
       "text": [
        "\n",
        "4700585952"
       ]
      },
      {
       "output_type": "stream",
       "stream": "stdout",
       "text": [
        "\n",
        "4685873529"
       ]
      },
      {
       "output_type": "stream",
       "stream": "stdout",
       "text": [
        "\n",
        "4693091288"
       ]
      },
      {
       "output_type": "stream",
       "stream": "stdout",
       "text": [
        "\n",
        "4698363723"
       ]
      },
      {
       "output_type": "stream",
       "stream": "stdout",
       "text": [
        "\n",
        "4702797605"
       ]
      },
      {
       "output_type": "stream",
       "stream": "stdout",
       "text": [
        "\n",
        "4691167236"
       ]
      },
      {
       "output_type": "stream",
       "stream": "stdout",
       "text": [
        "\n",
        "4702146980"
       ]
      },
      {
       "output_type": "stream",
       "stream": "stdout",
       "text": [
        "\n",
        "4695095838"
       ]
      },
      {
       "output_type": "stream",
       "stream": "stdout",
       "text": [
        "\n",
        "4691196016"
       ]
      },
      {
       "output_type": "stream",
       "stream": "stdout",
       "text": [
        "\n",
        "4700013075"
       ]
      },
      {
       "output_type": "stream",
       "stream": "stdout",
       "text": [
        "\n",
        "4680923646"
       ]
      },
      {
       "output_type": "stream",
       "stream": "stdout",
       "text": [
        "\n",
        "4694948876"
       ]
      },
      {
       "output_type": "stream",
       "stream": "stdout",
       "text": [
        "\n",
        "4702455603"
       ]
      },
      {
       "output_type": "stream",
       "stream": "stdout",
       "text": [
        "\n",
        "4694460207"
       ]
      },
      {
       "output_type": "stream",
       "stream": "stdout",
       "text": [
        "\n",
        "4701986690"
       ]
      },
      {
       "output_type": "stream",
       "stream": "stdout",
       "text": [
        "\n",
        "4699089858"
       ]
      },
      {
       "output_type": "stream",
       "stream": "stdout",
       "text": [
        "\n",
        "4699194073"
       ]
      },
      {
       "output_type": "stream",
       "stream": "stdout",
       "text": [
        "\n",
        "4698595395"
       ]
      },
      {
       "output_type": "stream",
       "stream": "stdout",
       "text": [
        "\n",
        "4699774459"
       ]
      },
      {
       "output_type": "stream",
       "stream": "stdout",
       "text": [
        "\n",
        "4699292027"
       ]
      },
      {
       "output_type": "stream",
       "stream": "stdout",
       "text": [
        "\n",
        "4694967181"
       ]
      },
      {
       "output_type": "stream",
       "stream": "stdout",
       "text": [
        "\n",
        "4700801259"
       ]
      },
      {
       "output_type": "stream",
       "stream": "stdout",
       "text": [
        "\n",
        "4691449655"
       ]
      },
      {
       "output_type": "stream",
       "stream": "stdout",
       "text": [
        "\n",
        "4693357033"
       ]
      },
      {
       "output_type": "stream",
       "stream": "stdout",
       "text": [
        "\n",
        "4698398616"
       ]
      },
      {
       "output_type": "stream",
       "stream": "stdout",
       "text": [
        "\n",
        "4702337301"
       ]
      },
      {
       "output_type": "stream",
       "stream": "stdout",
       "text": [
        "\n",
        "4696428196"
       ]
      },
      {
       "output_type": "stream",
       "stream": "stdout",
       "text": [
        "\n",
        "4694675787"
       ]
      },
      {
       "output_type": "stream",
       "stream": "stdout",
       "text": [
        "\n",
        "4694973672"
       ]
      },
      {
       "output_type": "stream",
       "stream": "stdout",
       "text": [
        "\n",
        "4697804566"
       ]
      },
      {
       "output_type": "stream",
       "stream": "stdout",
       "text": [
        "\n",
        "4695456118"
       ]
      },
      {
       "output_type": "stream",
       "stream": "stdout",
       "text": [
        "\n",
        "4697814849"
       ]
      },
      {
       "output_type": "stream",
       "stream": "stdout",
       "text": [
        "\n",
        "4702214023"
       ]
      },
      {
       "output_type": "stream",
       "stream": "stdout",
       "text": [
        "\n",
        "4698059621"
       ]
      },
      {
       "output_type": "stream",
       "stream": "stdout",
       "text": [
        "\n",
        "4702053096"
       ]
      },
      {
       "output_type": "stream",
       "stream": "stdout",
       "text": [
        "\n",
        "4696451679"
       ]
      },
      {
       "output_type": "stream",
       "stream": "stdout",
       "text": [
        "\n",
        "4699647359"
       ]
      },
      {
       "output_type": "stream",
       "stream": "stdout",
       "text": [
        "\n",
        "4696031458"
       ]
      },
      {
       "output_type": "stream",
       "stream": "stdout",
       "text": [
        "\n",
        "4691186029"
       ]
      },
      {
       "output_type": "stream",
       "stream": "stdout",
       "text": [
        "\n",
        "4697989492"
       ]
      },
      {
       "output_type": "stream",
       "stream": "stdout",
       "text": [
        "\n",
        "4693265327"
       ]
      },
      {
       "output_type": "stream",
       "stream": "stdout",
       "text": [
        "\n",
        "4702598745"
       ]
      },
      {
       "output_type": "stream",
       "stream": "stdout",
       "text": [
        "\n",
        "4694704332"
       ]
      },
      {
       "output_type": "stream",
       "stream": "stdout",
       "text": [
        "\n",
        "4688986688"
       ]
      },
      {
       "output_type": "stream",
       "stream": "stdout",
       "text": [
        "\n",
        "4693605784"
       ]
      },
      {
       "output_type": "stream",
       "stream": "stdout",
       "text": [
        "\n",
        "4693084879"
       ]
      },
      {
       "output_type": "stream",
       "stream": "stdout",
       "text": [
        "\n",
        "4697962937"
       ]
      },
      {
       "output_type": "stream",
       "stream": "stdout",
       "text": [
        "\n",
        "4696417639"
       ]
      },
      {
       "output_type": "stream",
       "stream": "stdout",
       "text": [
        "\n",
        "4702093795"
       ]
      },
      {
       "output_type": "stream",
       "stream": "stdout",
       "text": [
        "\n",
        "4699323906"
       ]
      },
      {
       "output_type": "stream",
       "stream": "stdout",
       "text": [
        "\n",
        "4696600813"
       ]
      },
      {
       "output_type": "stream",
       "stream": "stdout",
       "text": [
        "\n",
        "4701899854"
       ]
      },
      {
       "output_type": "stream",
       "stream": "stdout",
       "text": [
        "\n",
        "4695475060"
       ]
      },
      {
       "output_type": "stream",
       "stream": "stdout",
       "text": [
        "\n",
        "4697552903"
       ]
      },
      {
       "output_type": "stream",
       "stream": "stdout",
       "text": [
        "\n",
        "4699326653"
       ]
      },
      {
       "output_type": "stream",
       "stream": "stdout",
       "text": [
        "\n",
        "4691155658"
       ]
      },
      {
       "output_type": "stream",
       "stream": "stdout",
       "text": [
        "\n",
        "4702401701"
       ]
      },
      {
       "output_type": "stream",
       "stream": "stdout",
       "text": [
        "\n",
        "4691131473"
       ]
      },
      {
       "output_type": "stream",
       "stream": "stdout",
       "text": [
        "\n",
        "4696024780"
       ]
      },
      {
       "output_type": "stream",
       "stream": "stdout",
       "text": [
        "\n",
        "4699560228"
       ]
      },
      {
       "output_type": "stream",
       "stream": "stdout",
       "text": [
        "\n",
        "4698234369"
       ]
      },
      {
       "output_type": "stream",
       "stream": "stdout",
       "text": [
        "\n",
        "4702676259"
       ]
      },
      {
       "output_type": "stream",
       "stream": "stdout",
       "text": [
        "\n",
        "4691914193"
       ]
      },
      {
       "output_type": "stream",
       "stream": "stdout",
       "text": [
        "\n",
        "4694966766"
       ]
      },
      {
       "output_type": "stream",
       "stream": "stdout",
       "text": [
        "\n",
        "4693288286"
       ]
      },
      {
       "output_type": "stream",
       "stream": "stdout",
       "text": [
        "\n",
        "4699907688"
       ]
      },
      {
       "output_type": "stream",
       "stream": "stdout",
       "text": [
        "\n",
        "4702185767"
       ]
      },
      {
       "output_type": "stream",
       "stream": "stdout",
       "text": [
        "\n",
        "4698044778"
       ]
      },
      {
       "output_type": "stream",
       "stream": "stdout",
       "text": [
        "\n",
        "4691531243"
       ]
      },
      {
       "output_type": "stream",
       "stream": "stdout",
       "text": [
        "\n",
        "4693291562"
       ]
      },
      {
       "output_type": "stream",
       "stream": "stdout",
       "text": [
        "\n",
        "4702280447"
       ]
      },
      {
       "output_type": "stream",
       "stream": "stdout",
       "text": [
        "\n",
        "4691566780"
       ]
      },
      {
       "output_type": "stream",
       "stream": "stdout",
       "text": [
        "\n",
        "4698059282"
       ]
      },
      {
       "output_type": "stream",
       "stream": "stdout",
       "text": [
        "\n",
        "4693281825"
       ]
      },
      {
       "output_type": "stream",
       "stream": "stdout",
       "text": [
        "\n",
        "4691100120"
       ]
      },
      {
       "output_type": "stream",
       "stream": "stdout",
       "text": [
        "\n",
        "4692813575"
       ]
      },
      {
       "output_type": "stream",
       "stream": "stdout",
       "text": [
        "\n",
        "4693298016"
       ]
      },
      {
       "output_type": "stream",
       "stream": "stdout",
       "text": [
        "\n",
        "4691428009"
       ]
      },
      {
       "output_type": "stream",
       "stream": "stdout",
       "text": [
        "\n"
       ]
      }
     ],
     "prompt_number": 23
    },
    {
     "cell_type": "code",
     "collapsed": false,
     "input": [
      "final_content"
     ],
     "language": "python",
     "metadata": {},
     "outputs": [
      {
       "metadata": {},
       "output_type": "pyout",
       "prompt_number": 8,
       "text": [
        "[u'$2185 / 2br - 768ft\\xb2 - 1 bedroom w/ Den in Ardenwood neighborhood.. Pets welcomed \\u263a\\u263b\\u263a (fremont / union city / newark)',\n",
        " u'$2850 / 3br - 1400ft\\xb2 - Townhome In Prime Community Off Dixon Landing Rd (fremont / union city / newark)',\n",
        " u'$1901 / 1br - 650ft\\xb2 - Love The Outdoors? Live Trailside In this Inviting One Bedroom   (fremont / union city / newark)',\n",
        " u'$1775 / 1br - RESORT LIVING IN A SERENE PARK SETTING  (fremont / union city / newark)',\n",
        " u'$2429 / 2br - 1040ft\\xb2 - A Great Place To Call Home..Waterstone@Fremont (fremont / union city / newark)',\n",
        " u'$2350 / 2br - 1050ft\\xb2 - 2 Bd/2 Bath 5 min from fremont bart 8 month lease (fremont / union city / newark)',\n",
        " u'$2095 / 2br - 980ft\\xb2 - Comfort and Convenience Right At Your Finger Tip..Waterstone@Fremont (fremont / union city / newark)',\n",
        " u'$1760 / 1br - AMAZING AMENITIES IN PARK-LIKE COMMUNITY (fremont / union city / newark)',\n",
        " u'$2682 / 2br - 958ft\\xb2 - Enjoy the hot weather with a Sparking POOL! (fremont / union city / newark)',\n",
        " u'$2895 / 3br - 1877ft\\xb2 - 3BR/2.5 bath home for rent in Union City ($2895) (fremont / union city / newark)',\n",
        " u'$2950 / 4br - 1800ft\\xb2 - 4-6 months short term rental in Fremont Mission SJ House 4 br 3 bath  (fremont / union city / newark)',\n",
        " u'$1895 / 1br - 815ft\\xb2 - Private 1st Floor Corner Apartment - $300 Sign-Up BONUS (fremont / union city / newark)',\n",
        " u'$2673 / 1br - 1184ft\\xb2 - Luxury apartment community w/the comfort & convenience of city life! (fremont / union city / newark)',\n",
        " u'$2500 / 4br - 1820ft\\xb2 - 4 bedroom,2 Bath (fremont / union city / newark)',\n",
        " u'$1775 / 1br - RESORT STYLE LIVING IN A PRIME FREMONT LOCATION (fremont / union city / newark)',\n",
        " u'$2250 / 2br - 850ft\\xb2 - Best Kept Secret! Great Price On This Wonderful Two Bedroom! Spacious! (fremont / union city / newark)',\n",
        " u'$2500 / 3br - SFH in Mission District for rent available 11/5 (fremont / union city / newark)',\n",
        " u'$2900 / 3br - 1422ft\\xb2 - Open House Sunday 10/5, 2-4pm - Beautiful California Blossom Home (fremont / union city / newark)',\n",
        " u'$2270 / 1br - 925ft\\xb2 - Gorgeous apartment home! (fremont / union city / newark)',\n",
        " u'$1625 / 2br - 750ft\\xb2 - Completely remodeled and spacious 2 bed /1 bath apartment - great loc! (fremont / union city / newark)',\n",
        " u'$1492 / 410ft\\xb2 - We Have Your Next Home Here at Parkside  (fremont / union city / newark)',\n",
        " u'$3900 / 4br - 2000ft\\xb2 - Executive Living Ranch Style Single Family (fremont / union city / newark)',\n",
        " u'$2460 / 2br - 901ft\\xb2 - Spacious Apartment Home Available. (fremont / union city / newark)',\n",
        " u'$2299 / 2br - STYLISH INTERIORS IN A GREAT NEIGHBORHOOD! (fremont / union city / newark)',\n",
        " u'$2500 / 3br - 1576ft\\xb2 - Fremont Brookvale house (fremont / union city / newark)',\n",
        " u'$2600 / 3br - Fremont 3Bed-2Bath house for rent ALL UTILITIES INCLUDED (fremont / union city / newark)',\n",
        " u'$1800 / 2br - 950ft\\xb2 - WALK  TO UNION  CITY  BART  NO NEED TO  DRIVE  . NICE  AND  COZY  HOME (fremont / union city / newark)',\n",
        " u'$3350 / 4br - 1750ft\\xb2 - Fremont Mission District 4BD 1750 sqft | Mission SJ HS District (fremont / union city / newark)',\n",
        " u'$2200 / 3br - 1100ft\\xb2 - $2200 1100sqft - 3BR/2BA HOUSE in UNION CITY (fremont / union city / newark)',\n",
        " u'$1895 / 1br - 527ft\\xb2 - \\u2666A CATCH! COME TOUR TODAY \\u2666 (fremont / union city / newark)',\n",
        " u'$3550 / 4br - 2095ft\\xb2 - Beautiful 4 Bedroom 2.5 Bath in Mission - San Jose District (fremont / union city / newark)',\n",
        " u'$3500 / 4br - 2200ft\\xb2 - 4 Bed 3.5 Bath Single Family House in Fremont Mission San Jose (fremont / union city / newark)',\n",
        " u'$2680 / 2br - 1147ft\\xb2 - Charming apartment homes w/spacious and open kitchen layout! (fremont / union city / newark)',\n",
        " u'$2295 / 2br - 980ft\\xb2 - \\u2660GREAT PRICE, LOCATION, AND QUIET\\u2660 (fremont / union city / newark)',\n",
        " u'$1795 / 1br - 527ft\\xb2 - \\u263bBART RIDERS DREAM/CLOSE TO SHOPPING\\u263b (fremont / union city / newark)',\n",
        " u'$2482 / 2br - 1065ft\\xb2 - ~Hot summer days! Come home and jump in the pool~ (fremont / union city / newark)',\n",
        " u'$1650 / 2br - 750ft\\xb2 - INCREDIBLE 2BED/1BATH AVAILABLE!!! (fremont / union city / newark)',\n",
        " u'$2900 / 3br - 1472ft\\xb2 - 3 bed 2 .5 bath townhome remodeled in Fremont (fremont / union city / newark)',\n",
        " u'$2600 / 3br - 1442ft\\xb2 - 3 Bd, 2 Bth single family home (fremont / union city / newark)',\n",
        " u'$2295 / 2br - 980ft\\xb2 - \\u2666COME AND SEE WHAT YOU HAVE BEEN MISSING\\u2666 (fremont / union city / newark)',\n",
        " u\"$2298 / 2br - 850ft\\xb2 - Do You Love Where You Live? Our Resident's Do! (fremont / union city / newark)\",\n",
        " u'$2988 / 4br - 1617ft\\xb2 - Home in Weibel elementary school area (fremont / union city / newark)',\n",
        " u'$2050 / 3br - 1280ft\\xb2 - Remodeled townhome in Union City 3BR, 1280 ft2 (fremont / union city / newark)',\n",
        " u'$4200 / 4br - 2726ft\\xb2 - Mission Weibel Home  (fremont / union city / newark)',\n",
        " u'$1800 / 2br - 950ft\\xb2 - WALK  TO UNION  CITY  BART  NO NEED TO  DRIVE  . NICE  AND  COZY  HOME (fremont / union city / newark)',\n",
        " u'$1845 / 2br - 840ft\\xb2 - Two Bedrooms, One of a Kind (fremont / union city / newark)',\n",
        " u'$2295 / 2br - 1004ft\\xb2 - \\u2666COME AND SEE WHAT YOU HAVE BEEN MISSING\\u2666 (fremont / union city / newark)',\n",
        " u'$1630 / 1br - 660ft\\xb2 - Come Lease Today!! They Are Going Fast.... (fremont / union city / newark)',\n",
        " u'$1795 / 1br - 527ft\\xb2 - \\u25d8\\u2665EVERYONE IS WELCOME HOME HERE AT RANCHO LUNA/SOL \\u25d8\\u2665 (fremont / union city / newark)',\n",
        " u'$1925 / 2br - 840ft\\xb2 - Two Bedroom, One Bath Downstair Available for October 10Th Move in ! (fremont / union city / newark)',\n",
        " u'$2665 / 2br - 901ft\\xb2 - Peace of Mind Washer/Dryer in Unit Fall In Love With Our Community (fremont / union city / newark)',\n",
        " u'$3200 / 4br - 2100ft\\xb2 - 4BED/3BA NEWER UNION CITY HOME.  OPEN HOUSE SATURDAY & SUNDAY (fremont / union city / newark)',\n",
        " u'$2295 / 2br - 1004ft\\xb2 - \\u2022\\u263bTHIS BEAUTIFUL UPGRADED APT HOME HAS ALL THE COMFORTS\\u263b\\u2022\\u2022 (fremont / union city / newark)',\n",
        " u'$1775 / 1br - LUSH GARDENS, POOL, SPA, FITNESS CENTER, AND BRIGHT ONE BD  (fremont / union city / newark)',\n",
        " u'$1400 / 1br - 640ft\\xb2 - Great apartment close to Shopping&hwy. (fremont / union city / newark)',\n",
        " u'$1760 / 1br - AMAZING AMENITIES IN PARK-LIKE COMMUNITY (fremont / union city / newark)',\n",
        " u'$2734 / 2br - 982ft\\xb2 - Looking for quick access to BART and Shopping? Look no further! (fremont / union city / newark)',\n",
        " u'$2120 / 1br - 734ft\\xb2 - Ground Floor Apartment Near BART..LAST ONE AVAIL!! (fremont / union city / newark)',\n",
        " u'$1295 / 1br - 400ft\\xb2 - 1Br/1Ba Suite with Separate Private Entrance (fremont / union city / newark)',\n",
        " u'$2250 / 2br - 1000ft\\xb2 - 2bed/2bath Single Family Irvington, Fremont Home For Rent (fremont / union city / newark)',\n",
        " u'$2299 / 2br - ~LUSH GARDENS, POOL, SPA, FITNESS CENTER AND BRIGHT 2 BEDROOM~ (fremont / union city / newark)',\n",
        " u'$2980 / 3br - 1425ft\\xb2 - Beautiful 3Bdrm Townhouse in Fremont Irvington District (fremont / union city / newark)',\n",
        " u'$1795 / 1br - 527ft\\xb2 - \\u2665COMMUNITY A FEELING OF FELLOWSHIP WITH OTHERS JOIN OURS\\u2665  (fremont / union city / newark)',\n",
        " u'$1900 / 2br - Condo for rent (fremont / union city / newark)',\n",
        " u'$2299 / 2br - ***COME BY TODAY AND LET US SHOW YOU YOUR NEXT NEW HOME*** (fremont / union city / newark)',\n",
        " u'$2900 / 3br - 1472ft\\xb2 - 3 bed 2 .5 bath townhome remodeled in Fremont (fremont / union city / newark)',\n",
        " u'$2112 / 2br - 800ft\\xb2 - Look And Lease This Apartment, N239! (fremont / union city / newark)',\n",
        " u'$1825 / 2br - 800ft\\xb2 - Beautiful 2 bedroom with View (fremont / union city / newark)',\n",
        " u'$1869 / 1br - 735ft\\xb2 - Just What You Were Looking For...Waterstone@Fremont 735 1br (fremont / union city / newark)',\n",
        " u'$2700 / 4br - 1610ft\\xb2 -   house for rent (fremont / union city / newark)',\n",
        " u'$1817 / 1br - 716ft\\xb2 - ENJOY EXCLUSIVE RESIDENTS BENEFITS WHEN YOU LIVE AT SKYLARK! (fremont / union city / newark)',\n",
        " u'$2728 / 2br - 1184ft\\xb2 - Fabulous apartment, walking distance to Lake Elizabeth (fremont / union city / newark)',\n",
        " u'$1765 / 1br - 760ft\\xb2 - 1 Bedroom/1 Bath Apartment Available Mid-November!!! (fremont / union city / newark)',\n",
        " u'$1750 / 2br - 800ft\\xb2 - Completely renovated apartment! 2 bed/1 bath in a gated community (fremont / union city / newark)',\n",
        " u'$2550 / 2br - 1146ft\\xb2 - Overlooking a lovely garden and swimming pool! Live at Avalon! (fremont / union city / newark)',\n",
        " u'$2250 / 2br - 1053ft\\xb2 -  Beautiful 2BR/2BA Condo- Near BART (fremont / union city / newark)',\n",
        " u'$2259 / 2br - UNWIND AFTER ALONG DAY IN YOUR STYLISH  AND  SERENE ENVIRONTMENT! (fremont / union city / newark)',\n",
        " u'$1725 / 1br - 710ft\\xb2 - COME BY TODAY! Available for October 13Th  Move- In!  (fremont / union city / newark)',\n",
        " u'$2295 / 2br - 1004ft\\xb2 - \\u263b\\u2665THE MOST LIKED PLACE TO LIVE ON FACEBOOK\\u263b\\u2665 (fremont / union city / newark)',\n",
        " u'$1760 / 1br - PARK-LIKE LANDSCAPING, ENJOY THE QUIET, SCENIC SURROUNDINGS (fremont / union city / newark)',\n",
        " u'$1675 / 1br - 610ft\\xb2 - Quiet Ground Floor End-Unit 1 Bdrm. Condo (fremont / union city / newark)',\n",
        " u'$2049 / 2br - 750ft\\xb2 - Fantastic Location...Great Two Bedroom Apartment (fremont / union city / newark)',\n",
        " u'$1853 / 1br - 760ft\\xb2 - Are You Ready To Move..Waterstone@Fremont (fremont / union city / newark)',\n",
        " u'$1800 / 1br - 565ft\\xb2 - Call for Details, Easy Freeway Access, Night Patrol, Fitness Ctr (fremont / union city / newark)',\n",
        " u'$1680 / 1br - 650ft\\xb2 - Ready to Rent! (fremont / union city / newark)',\n",
        " u'$1800 / 1br - 829ft\\xb2 - Take over 1 Bedroom apartment lease (fremont / union city / newark)',\n",
        " u'$2299 / 2br - ~LUSH GARDENS, POOL, SPA, FITNESS CENTER AND BRIGHT 2 BEDROOM~ (fremont / union city / newark)',\n",
        " u'$2520 / 2br - 982ft\\xb2 - Commuting? Amazing apartment home near Fremont Bart! (fremont / union city / newark)',\n",
        " u'$2048 / 1br - 829ft\\xb2 - Central Air/Central Heat in this amazing one berdroom available soon! (fremont / union city / newark)',\n",
        " u'$2080 / 2br - 830ft\\xb2 - No tricks all treats at eaves. (fremont / union city / newark)',\n",
        " u'$2700 / 3br - 1600ft\\xb2 - Beautiful Home located  in a Park Like Community  (fremont / union city / newark)',\n",
        " u'$1825 / 1br - 565ft\\xb2 - Luxurious Homes, Walk to BART, Washer Dryer in Unit (fremont / union city / newark)',\n",
        " u'$1850 / 2br - 789ft\\xb2 - Condo for rent near Fremont Bart (fremont / union city / newark)',\n",
        " u'$3200 / 4br - 2100ft\\xb2 - Mission SAN JOSE AREA/SCHOOLS (fremont / union city / newark)',\n",
        " u'$1760 / 1br - PARK-LIKE LANDSCAPING, POOL, SPA, FITNESS CENTER  (fremont / union city / newark)',\n",
        " u'$2095 / 2br - 850ft\\xb2 - 2 bed 1 bath  (fremont / union city / newark)',\n",
        " u'$2185 / 2br - 768ft\\xb2 - 1 bed w/ Den, Water & trash included, PLUS washer & dryer!! (fremont / union city / newark)',\n",
        " u'$2,185/mo',\n",
        " u'$1795 / 1br - 527ft\\xb2 - \\u263bBART RIDERS DREAM/CLOSE TO SHOPPING\\u263b (fremont / union city / newark)',\n",
        " u'$1539 / 650ft\\xb2 - Perfect Apartment Home At The Perfect Affordable Price! (fremont / union city / newark)',\n",
        " u'$1795 / 1br - 527ft\\xb2 - \\u25d8\\u2665EVERYONE IS WELCOME HOME HERE AT RANCHO LUNA/SOL \\u25d8\\u2665 (fremont / union city / newark)',\n",
        " u'$1650 / 2br - 750ft\\xb2 - AMAZING 2BED/1BATH AVAILABLE!! (fremont / union city / newark)',\n",
        " u'$4700 / 5br - 3200ft\\xb2 - Beautiful Furnished 5BD/4Bath in Fremont  (fremont / union city / newark)',\n",
        " u'$3350 / 4br - 1750ft\\xb2 - Single Family House for Rent in Mission San Jose (fremont / union city / newark)',\n",
        " u'$3,350/mo',\n",
        " u'$2800 / 4br - 1620ft\\xb2 - Upgraded 4 Bedroom 2 Bath Home in Irvington Area of Fremont (fremont / union city / newark)',\n",
        " u'$1595 / 545ft\\xb2 - Spacious Studi Apartment in Downtown Fremont (fremont / union city / newark)',\n",
        " u'$2729 / 2br - 1203ft\\xb2 - Enormous 2BD/2BA Just Steps Away From BART... Welcome Home (fremont / union city / newark)',\n",
        " u'$2110 / 2br - 830ft\\xb2 - Whats better than a ground floor apartment central to everything! (fremont / union city / newark)',\n",
        " u'$2295 / 2br - 1004ft\\xb2 - \\u2665LOOKING FOR PEACE AND QUIET\\u2665 COME AND TOUR TODAY\\u2665 (fremont / union city / newark)',\n",
        " u'$2150 / 2br - 1081ft\\xb2 - Newer condo! Beautiful complex, gated! (fremont / union city / newark)',\n",
        " u'$3100 / 3br - 1500ft\\xb2 - Spacious house with hot tub - OPEN HOUSE (fremont / union city / newark)',\n",
        " u'$2300 / 3br - 1390ft\\xb2 - MISSION SAN JOSE    FREMONT (fremont / union city / newark)',\n",
        " u'$2695 / 3br - 1451ft\\xb2 - Completely Updated Fremont Home Near 880 FWYs, Pacific Commons  (fremont / union city / newark)',\n",
        " u'$1695 / 1br - 650ft\\xb2 - Here now and gone by morning. You should hurry! (fremont / union city / newark)',\n",
        " u'$1650 / 2br - mission Hills Fremont (fremont / union city / newark)',\n",
        " u'$2545 / 2br - 1106ft\\xb2 - The Presidio Apartments ... Like No Place Else! (fremont / union city / newark)',\n",
        " u'$1952 / 1br - 725ft\\xb2 - Amazing top floor unit with high ceilings and great sunlight! (fremont / union city / newark)',\n",
        " u'$2299 / 2br - AMAZING AMENITIES IN SUN-FILLED, PARK-LIKE COMMUNITY  (fremont / union city / newark)',\n",
        " u'$1775 / 1br - 565ft\\xb2 - Enriched Lifestyle, Heated Pool, Sauna, Pets Welcome (fremont / union city / newark)',\n",
        " u'$2515 / 2br - 961ft\\xb2 - Ardenwood townhome w/ attached garage + washer & dryer!!  (fremont / union city / newark)',\n",
        " u'$2,515/mo',\n",
        " u'$1575 1 BHK available in fremont (fremont / union city / newark)',\n",
        " u'$3099 / 3br - 1500ft\\xb2 - Stunning Single Family Home near Fremont BART (fremont / union city / newark)',\n",
        " u'$2419 / 2br - 1040ft\\xb2 - A Great Place To Call Home..Waterstone@Fremont (fremont / union city / newark)',\n",
        " u'$2700 / 3br - 1204ft\\xb2 - rent negotiable:Beautiful 3 bed 2 bath condo in warm springs (fremont / union city / newark)',\n",
        " u'$2036 / 2br - 980ft\\xb2 - Comfort and Convenience Right At Your Finger Tip..Waterstone@Fremont (fremont / union city / newark)',\n",
        " u'$1895 / 1br - 650ft\\xb2 - 1 BEDROOM APARTMENT IN A QUIET NEIGHBORHOOD IN FREMONT! (fremont / union city / newark)',\n",
        " u'$2295 / 2br - 980ft\\xb2 - \\u2660\\u2665QUIET, COMFORT, & CONVENIENCE! YOU DESERVE THE BEST!\\u2660 (fremont / union city / newark)',\n",
        " u'$2200 / 1br - 738ft\\xb2 - Feel At Paradise! (fremont / union city / newark)',\n",
        " u'$2000 / 2br - 897ft\\xb2 - Warm Springs Fremont Condo Rental... (fremont / union city / newark)',\n",
        " u'$2295 / 2br - 1004ft\\xb2 - \\u2665LOOKING FOR PEACE AND QUIET\\u2665 COME AND TOUR TODAY\\u2665 (fremont / union city / newark)',\n",
        " u'$2975 / 3br - 1965ft\\xb2 - Large Tri-Level Townhouse in Liberty Commons (fremont / union city / newark)',\n",
        " u'$2300 / 2br - 890ft\\xb2 - *Carriage House* Gated Community in a Quiet and Friendly Neighborhood! (fremont / union city / newark)',\n",
        " u'$2436 / 2br - 800ft\\xb2 - Stunning Two Bedroom Apartment Home Available, TODAY!! (fremont / union city / newark)',\n",
        " u'$2600 / 2br - 1100ft\\xb2 - Mission San Jose 2 Beds,2 Baths,Car port, Townhouse (fremont / union city / newark)',\n",
        " u'$2195 / 2br - 2BR in Ardenwood/Forest Park (fremont / union city / newark)',\n",
        " u'$2185 / 2br - 768ft\\xb2 - Walking distance to Forest Park School, come see this great floorplan! (fremont / union city / newark)',\n",
        " u'$2878 / 1350ft\\xb2 - Up to $2,200 Off First Months Rent-3BD/2BA with Quartz Countertops (fremont / union city / newark)',\n",
        " u'$2000 / 2br - 1000ft\\xb2 - Two Bedrooms and Two Baths for Rent (fremont / union city / newark)',\n",
        " u'$2350 / 3br - 1408ft\\xb2 - Townhouse Style Condo / 3 Bedroom 3 Bath -Open House 10/4/14 (fremont / union city / newark)',\n",
        " u'$2500 / 3br - 1000ft\\xb2 - 3 bedroom+bonus rooms near Fremont central park (fremont / union city / newark)',\n",
        " u'$2344 / 1br - 1050ft\\xb2 - Commuting? Amazing apartment home near Fremont Bart! (fremont / union city / newark)',\n",
        " u'$2099 / 2br - SERENE COMMUNITY, MINUTES FROM THE CITY, MILES FROM THE STRESS (fremont / union city / newark)',\n",
        " u'$1780 / 1br - OPEN FLOOR PLAN WITH A PRIVATE PATIO & GYM (fremont / union city / newark)',\n",
        " u'$1895 / 1br - 650ft\\xb2 - BEAUTIFUL 1 BEDROOM AT QUIET NEIGHBORHOOD IN FREMONT!  (fremont / union city / newark)',\n",
        " u'$2400 / 2br - 1254ft\\xb2 - Amazing Location**2 BD, 2.5 BA Townhouse, 2-Car Garage w/Backyard (fremont / union city / newark)',\n",
        " u'$1795 / 1br - 527ft\\xb2 - \\u263bBART RIDERS DREAM/CLOSE TO SHOPPING\\u263b (fremont / union city / newark)',\n",
        " u'$1625 / 1br - 630ft\\xb2 - Beautiful Niles Community! Move-In October 16th  Upstairs ! (fremont / union city / newark)',\n",
        " u'$2761 / 3br - 1320ft\\xb2 - 3BD/2BA Apartment with Quartz Countertops (fremont / union city / newark)',\n",
        " u'$1760 / 1br - OPEN FLOOR PLAN WITH PRIVATE PATIO & GYM (fremont / union city / newark)',\n",
        " u'$2320 / 1br - Apartment for $2320.00in Fremont (fremont / union city / newark)',\n",
        " u'$2300 / 2br - 890ft\\xb2 - *Carriage House* Gated Community in a Quiet and Friendly Neighborhood! (fremont / union city / newark)',\n",
        " u'$1895 / 1br - 527ft\\xb2 - \\u2022\\u263bTHIS BEAUTIFUL UPGRADED APT HOME HAS ALL THE COMFORTS\\u263b\\u2022\\u2022 (fremont / union city / newark)',\n",
        " u'$2500 / 3br - 1400ft\\xb2 - Beautiful Home for Rent in Union City (fremont / union city / newark)',\n",
        " u'$2749 / 2br - 1184ft\\xb2 - Fabulous apartment, walking distance to Lake Elizabeth (fremont / union city / newark)',\n",
        " u'$1964 / 1br - 640ft\\xb2 - Ground floor  SPACIOUS 1 bedroom  W/FULL size W/D- AVAIL Oct. 23 $1964 (fremont / union city / newark)',\n",
        " u'$2057 / 1br - 747ft\\xb2 - Adorable 1 Bedroom Available Immediately! Priced to Compete! (fremont / union city / newark)',\n",
        " u'$1760 / 1br - DESIGNER INTERIORS, SPACIOUS FLOOR PLANS AND AMAZING AMENITIES (fremont / union city / newark)',\n",
        " u'$1795 / 1br - 527ft\\xb2 - \\u2022\\u2022HEALTHY LIFESTYLE! CLOSE TO HIKING TRAILS! UPGRADED  (fremont / union city / newark)',\n",
        " u'$1900 / 1br - 737ft\\xb2 - *Carriage House* Gated Community in a Quiet and Friendly Neighborhood! (fremont / union city / newark)',\n",
        " u'$3100 / 3br - 1500ft\\xb2 - Open House Sat 10/4 & Sun 10/5 - Single Family House (fremont / union city / newark)',\n",
        " u'$3,100/mo',\n",
        " u'$2995 / 3br - 1800ft\\xb2 - Bright, Clean Townhouse for Rent (fremont / union city / newark)',\n",
        " u'$2181 / 2br - 980ft\\xb2 - Comfort and Convenience Right At Your Finger Tip..Waterstone@Fremont (fremont / union city / newark)',\n",
        " u'$2300 / 2br - 890ft\\xb2 - *Carriage House* Gated Community in a Quiet and Friendly Neighborhood! (fremont / union city / newark)',\n",
        " u'$3500 / 4br - 2094ft\\xb2 - Newly Built 4 Bed/3.5 Bath Single Home in Fremont Irvington (fremont / union city / newark)',\n",
        " u'$2813 / 3br - 1320ft\\xb2 - 3BD/2BA Apartment with Quartz Countertops (fremont / union city / newark)',\n",
        " u'$2975 / 3br - 1965ft\\xb2 - Great Location for Commuting Large Townhouse in Gated community (fremont / union city / newark)',\n",
        " u'$2392 / 2br - 900ft\\xb2 - Fully-equipped fitness center on-site! (fremont / union city / newark)',\n",
        " u'$2200 2 Bedroom single family house (fremont / union city / newark)',\n",
        " u\"$2095 / 1br - 734ft\\xb2 - Come See What You've Been Missing at The Presidio! (fremont / union city / newark)\",\n",
        " u'$2700 / 3br - 1014ft\\xb2 - Move-in Special! October Rent is Free! (fremont / union city / newark)',\n",
        " u'$2,700/mo',\n",
        " u'$2999 / 4br - 1922ft\\xb2 - luxuary 4bed 2 bath union city $,2,999 first month (fremont / union city / newark)',\n",
        " u'$2700 / 4br - 1564ft\\xb2 - 35 Calle Amigo Drive, Fremont, Avail. 10/11 Ext. 45 (fremont / union city / newark)',\n",
        " u'$3300 / 3br - 1912ft\\xb2 - Lovely Mission Area Home! (fremont / union city / newark)',\n",
        " u'$3,300/mo',\n",
        " u'$2095 / 1br - 734ft\\xb2 - The Presidio Apartments ... Escape the Ordinary! (fremont / union city / newark)',\n",
        " u'$1875 / 1br - 735ft\\xb2 - Are You Ready To Move....Waterstone Fremont (fremont / union city / newark)',\n",
        " u'$1410 / 1br - 580ft\\xb2 - VICTORIA GARDENS SENIOR COMMUNITY FOR ACTIVE ADULTS 55 & OLDER (fremont / union city / newark)',\n",
        " u'$3600 / 5br - 2000ft\\xb2 - Beautiful 5 bedroom 3 bath house $3,600.00 in a quiet neighborhood (fremont / union city / newark)',\n",
        " u'$2600 / 3br - 1400ft\\xb2 - Great upgraded house in pristine condition for rent (fremont / union city / newark)',\n",
        " u'$1600 / 1br - 700ft\\xb2 - Fully renovated apartment! 1 bed / 1 bath in a gated community (fremont / union city / newark)',\n",
        " u'$1900 / 1br - 737ft\\xb2 - *Carriage House* Gated Community in a Quiet and Friendly Neighborhood! (fremont / union city / newark)',\n",
        " u'$2315 / 2br - 862ft\\xb2 - 2 bedroom w/ garage & utilities included.. in a great neighborhood!! (fremont / union city / newark)',\n",
        " u'$2,315/mo',\n",
        " u'$2450 / 2br - 1325ft\\xb2 - Conveniently located, Central Fremont House: 2/2, garage, BART  (fremont / union city / newark)',\n",
        " u'$1795 / 1br - 527ft\\xb2 - \\u2022\\u263bTHIS BEAUTIFUL UPGRADED APT HOME HAS ALL THE COMFORTS\\u263b\\u2022\\u2022 (fremont / union city / newark)',\n",
        " u'$2900 / 3br - 1390ft\\xb2 - Glenmoor House For Rent  (fremont / union city / newark)',\n",
        " u'$2450 / 2br - 1056ft\\xb2 - Lots of windows and 2 private balconies! Move in Ready! (fremont / union city / newark)',\n",
        " u'$1795 / 1br - 527ft\\xb2 - \\u2660GREAT PRICE, LOCATION, AND QUIET\\u2660 (fremont / union city / newark)',\n",
        " u'$2079 / 1br - 720ft\\xb2 - Corner Apt w/ Vaulted Ceiling & Skylight Bench, Laundry Inside & More! (fremont / union city / newark)',\n",
        " u'$1775 / 1br - DESIGNER INTERIORS, SPACIOUS FLOOR PLANS AND AMAZING AMENITIES (fremont / union city / newark)',\n",
        " u'$2500 / 3br - 1375ft\\xb2 - 6235 Joaquin Murieta Avenue (fremont / union city / newark)',\n",
        " u'$2,500/mo',\n",
        " u'$2935 / 3br - 1607ft\\xb2 - 3BR/2.5BA Home For Rent in Fremont (Ardenwood) (fremont / union city / newark)',\n",
        " u'$2,935/mo',\n",
        " u'$2400 / 3br - 1200ft\\xb2 - Creek side  home for rent (fremont / union city / newark)',\n",
        " u'$2260 / 2br - 913ft\\xb2 - GREAT 2 BEDROOM APARTMENT AVAILABLE SOON NEAR UC BART! (fremont / union city / newark)',\n",
        " u'$1000 / 1br - 300ft\\xb2 - Fully furnished trailer home, all util pd (fremont / union city / newark)',\n",
        " u'$2299 / 2br - ALL THE SPACE YOU NEED AND THE MODERN STYLE YOU WANT!  (fremont / union city / newark)',\n",
        " u'$2600 / 3br - Fremont 3Bed-2Bath house for rent-UTILITIES INCLUDED (fremont / union city / newark)',\n",
        " u'$2350 / 2br - 900ft\\xb2 - 2br/2ba Beautifully Updated Newark Condo  (fremont / union city / newark)',\n",
        " u'$2600 / 3br - 1442ft\\xb2 - 3 Bd, 2 Bth single family home (fremont / union city / newark)',\n",
        " u'$1760 / 1br - RESORT LIVING IN A SERENE PARK SETTING (fremont / union city / newark)',\n",
        " u'$2595 / 3br - 1170ft\\xb2 - GREAT location + BEAUTIFUL Condo (fremont / union city / newark)',\n",
        " u'$2394 / 2br - 985ft\\xb2 - Home is always a stunning, tranquil retreat at Heritage Village (fremont / union city / newark)',\n",
        " u'$1990 / 1500ft\\xb2 - Remodeled Creative Space w/ Shower Kitchen Storage & Parking (fremont / union city / newark)',\n",
        " u'$2350 / 3br - 1370ft\\xb2 - 3 bedrooms for rent in Fremont CA 94536 (fremont / union city / newark)',\n",
        " u'$1850 / 1br - 650ft\\xb2 - Only Available One Bedroom Call Today! (fremont / union city / newark)',\n",
        " u'$2145 / 2br - 1018ft\\xb2 - Large 2 bedroom 2 bath in downtown Fremont ready for move in 11/22/14 (fremont / union city / newark)',\n",
        " u'$1795 / 1br - 527ft\\xb2 - \\u2666A CATCH! COME TOUR TODAY \\u2666 (fremont / union city / newark)',\n",
        " u'$3300 / 3br - 2047ft\\xb2 - Nice, Clean & Spacious Single Family House in Newark! (fremont / union city / newark)',\n",
        " u'$2620 / 2br - 1331ft\\xb2 - Move in this week! Large two bedroom with parking! (fremont / union city / newark)',\n",
        " u'$2069 / 1br - 723ft\\xb2 - Looking for quick access to BART and Shopping? Look no further! (fremont / union city / newark)',\n",
        " u'$1895 / 1br - 704ft\\xb2 - \"Spacious 1st Floor\" ADA Apartment w/hardwood floors / Available NOW! (fremont / union city / newark)',\n",
        " u'$1895 / 1br - Beautiful 1 bedroom in Fremont! Call now to make an appointment!!! (fremont / union city / newark)',\n",
        " u'$1895 / 1br - 527ft\\xb2 - \\u2665HOME IS WHERE THE HEART IS\\u2665WASHER/DYER IN UNIT\\u2660 (fremont / union city / newark)',\n",
        " u'$3200 / 4br - 1400ft\\xb2 - 4 Bedroom home in Newark...Coming Soon (fremont / union city / newark)',\n",
        " u'$3200 / 4br - 2030ft\\xb2 - $3200 / 4BR-3BA - 2030ft\\xb2 - Bright Ardenwood SFH Open House 2-4pm10/5  (fremont / union city / newark)',\n",
        " u'$1550 / 1br - 723ft\\xb2 - Great Location, Walk to BART (fremont / union city / newark)',\n",
        " u'$2163 / 1br - 650ft\\xb2 - WELCOME HOME! NEW GRANITE COUNTER TOPS! GAS RANGE! A/C (fremont / union city / newark)',\n",
        " u'$1679 / 1br - 685ft\\xb2 - Call Alderwood Today, To View This 3rd Floor Apartment! (fremont / union city / newark)',\n",
        " u'$2425 / 2br - 1111ft\\xb2 - Spacious 2bd/1.5ba including w/d & 2 car garage - AVAILABLE DECEMBER 1 (fremont / union city / newark)',\n",
        " u'$2184 / 1br - 798ft\\xb2 - Gorgeous One Bedroom One Bathroom Apartment Homes (fremont / union city / newark)',\n",
        " u'$2500 / 3br - 1131ft\\xb2 - 3 bedroom 2 bath for rent in Fremont  $2500/per month  (fremont / union city / newark)',\n",
        " u'$2020 / 2br - 830ft\\xb2 - No trick! Lease given apartment number get $500 bonus (fremont / union city / newark)',\n",
        " u'$2794 / 2br - 1147ft\\xb2 - Newly Renovated 2BD/2BA Unit-Walk To BART & Amenities - 2 Weeks Free  (fremont / union city / newark)',\n",
        " u'$1926 / 1br - 735ft\\xb2 - Waterstone@Fremont 735 1br (fremont / union city / newark)',\n",
        " u'$2545 / 2br - 1106ft\\xb2 - The Presidio Apartments ... Escape the Ordinary! (fremont / union city / newark)',\n",
        " u'$2150 / 3br - 1166ft\\xb2 - Town house for rent in Fremont for $2150 (fremont / union city / newark)',\n",
        " u'$1760 / 1br - AMAZING AMENITIES IN PARK-LIKE COMMUNITY (fremont / union city / newark)',\n",
        " u'$2189 / 1br - 798ft\\xb2 - Stunning Apartment Home in Fremont, near everything you want. (fremont / union city / newark)',\n",
        " u'$2790 / 4br - 1640ft\\xb2 - Parkmont Area - 4 Bed / 2 Bath Single-level, Single-family  (fremont / union city / newark)',\n",
        " u'$1825 / 1br - 565ft\\xb2 - Schedule a Tour, Community Clubhouse, Near Shops and Dining (fremont / union city / newark)',\n",
        " u'$3000 / 4br - 1960ft\\xb2 - Rent/Sell: 4BD/2.5BR month to month Weibel Elementary School, Vineyard (fremont / union city / newark)',\n",
        " u'$2095 / 1br - 734ft\\xb2 - Comfort, Style and a GREAT Value at The Presidio! (fremont / union city / newark)',\n",
        " u'$780 / 1br - Fremont single house one room for rent (fremont / union city / newark)',\n",
        " u'$2315 / 2br - 850ft\\xb2 - Best Kept Secret! Great Price On This Wonderful Two Bedroom! Spacious! (fremont / union city / newark)',\n",
        " u'$1709 / 1br - 685ft\\xb2 - Love..Love..Your New Home! (fremont / union city / newark)',\n",
        " u'$2000 / 1br - Luxry Apt: Paragon Apt 1B1B for $2000 with laundry inside the unit (fremont / union city / newark)',\n",
        " u'$3500 / 4br - 2100ft\\xb2 - $3500 4BR 2.5 BA,2100 sq/ft single family home (fremont / union city / newark)',\n",
        " u'$2200 / 1br - 800ft\\xb2 - 1 Bd, 1 Ba Unit, Mission Fremont  INCLUDING ALL UTIL (fremont / union city / newark)',\n",
        " u'$2900 / 3br - 1472ft\\xb2 - Great 3 bed 2.5 bath townhouse remodeled in Fremont  (fremont / union city / newark)',\n",
        " u'$2259 / 2br - GROUND FLOOR DESIRABLE LOCATION, NEAR SHOPPING,RESTAURANTS AND FWY 880 (fremont / union city / newark)',\n",
        " u'$3500 / 4br - 2200ft\\xb2 - 4 Bed 3.5 Bath Single Family House in Fremont Mission San Jose (fremont / union city / newark)',\n",
        " u'$2259 / 2br - FIVE-STAR LIVING & EASY ACCESS TO EVERYWHERE! (fremont / union city / newark)',\n",
        " u'$1585 / 1br - 660ft\\xb2 - Medallion Has Comfort & Convenience... (fremont / union city / newark)',\n",
        " u'$2900 / 3br - 1472ft\\xb2 - 3 bed 2 .5 bath townhome remodeled in Fremont  (fremont / union city / newark)',\n",
        " u'$1895 / 1br - Beautiful 1 bedroom call now to make an appointment!!! (fremont / union city / newark)',\n",
        " u'$2350 / 2br - 850ft\\xb2 - Great Deal On Spacious 2 Bedroom! (fremont / union city / newark)',\n",
        " u'$3975 / 4br - 1940ft\\xb2 - Executive 4 bed 2 bath updated house in Chadbourne attendance area (fremont / union city / newark)',\n",
        " u'$1875 / 2br - 910ft\\xb2 - Call Us Home (fremont / union city / newark)',\n",
        " u'$3600 / 5br - 2000ft\\xb2 - Beautiful 5 bedroom 3 bath house $3,600.00 with lots of upgrades (fremont / union city / newark)',\n",
        " u'$2750 / 3br - 1400ft\\xb2 - Large and Beautiful 3 Beds Single Family House in Fremont!!! (fremont / union city / newark)',\n",
        " u'$2295 / 2br - 1004ft\\xb2 - \\u2666\\u263aBRAND NEW EVERYTHING!\\u2666\\u263a (fremont / union city / newark)',\n",
        " u'$1895 / 1br - Beautiful 1 bedroom call now to make an appointment!!! (fremont / union city / newark)',\n",
        " u'$2300 / 2br - 890ft\\xb2 - *Carriage House* Gated Community in a Quiet and Friendly Neighborhood! (fremont / union city / newark)',\n",
        " u'$1950 / 1br - 710ft\\xb2 - Cottage Style Home, Near Public Parks, Parkmont Schools (fremont / union city / newark)',\n",
        " u'$2295 / 2br - 980ft\\xb2 - \\u2665LOOKING FOR PEACE AND QUIET\\u2665 COME AND TOUR TODAY\\u2665 (fremont / union city / newark)',\n",
        " u'$2900 / 3br - 1472ft\\xb2 - 3 bed 2 .5 bath townhome remodeled in Fremont  (fremont / union city / newark)',\n",
        " u'$1950 / 2br - 1183ft\\xb2 - 2bd/2ba Ground floor apartment for rent (fremont / union city / newark)',\n",
        " u'$2175 / 3br - 1200ft\\xb2 - Fremont Parkmont  Townhse (fremont / union city / newark)',\n",
        " u'$2120 / 1br - 734ft\\xb2 - Great Location! Close to BART! Come and see our Lovely Community! (fremont / union city / newark)',\n",
        " u'$2,120/mo',\n",
        " u'$2250 / 2br - 850ft\\xb2 - Beautiful Community! Spacious Two Bedroom! Washer & Dryer! Hurry! (fremont / union city / newark)',\n",
        " u'$1795 / 1br - 527ft\\xb2 - \\u2022\\u263bTHIS BEAUTIFUL UPGRADED APT HOME HAS ALL THE COMFORTS\\u263b\\u2022\\u2022 (fremont / union city / newark)',\n",
        " u'$2059 A Unique Two Bedroom Layout! Very Open and Inviting! (fremont / union city / newark)',\n",
        " u'$3100 / 3br - 1500ft\\xb2 - OPEN HOUSE - Single Family Home  (fremont / union city / newark)',\n",
        " u'$3,100/mo',\n",
        " u'$2545 / 2br - 1106ft\\xb2 - Comfort, Style and a GREAT Value at The Presidio! (fremont / union city / newark)',\n",
        " u'$2100 / 2br - 1000ft\\xb2 - $2100/2br - 1000ft\\xb2 - 2BR/2BA Private Corner Unit (fremont / union city / newark)',\n",
        " u'$1895 / 1br - 527ft\\xb2 - \\u25d8CLOSE AND CONVENIENT FOR YOUR LIFESTYLE\\u25d8 (fremont / union city / newark)',\n",
        " u'$1775 / 1br - 565ft\\xb2 - Enriched Lifestyle, Heated Pool, Sauna, Pets Welcome (fremont / union city / newark)',\n",
        " u'$3400 / 5br - 2880ft\\xb2 - Stunning Semi-Custom Home in Fremont 4 Bedrm + Bonus Rm 3 Baths (fremont / union city / newark)',\n",
        " u'$1760 / 1br - PARK-LIKE LANDSCAPING, POOL, SPA, FITNESS CENTER (fremont / union city / newark)',\n",
        " u'$1563 A Must See! Fantastic Location! Beautiful One Bedroom Apt Home! (fremont / union city / newark)',\n",
        " u'$2550 / 2br - 1081ft\\xb2 - Warm Springs Condo (fremont / union city / newark)',\n",
        " u'$2500 / 3br - 1245ft\\xb2 - Remodeled home for rent (fremont / union city / newark)',\n",
        " u'$2315 / 2br - 862ft\\xb2 - 2 bedroom w/ garage & utilities included.. in a great neighborhood!! (fremont / union city / newark)',\n",
        " u'$2,315/mo',\n",
        " u'$2400 / 2br - 850ft\\xb2 - A Unique Two Bedroom Layout! Very Open and Inviting! (fremont / union city / newark)',\n",
        " u'$2750 / 4br - 1647ft\\xb2 - $2750 / 4br - 1647ft\\xb2 - 4 Bed single family home available in Parkmont (fremont / union city / newark)',\n",
        " u'$3500 / 4br - 2071ft\\xb2 - Remodeled Mission San Jose (mission sanjose) Fremont Home for Rent (fremont / union city / newark)',\n",
        " u'$3,500/mo',\n",
        " u'$1785 / 1br - 600ft\\xb2 - Short Commute on BART to Downtown SF (fremont / union city / newark)',\n",
        " u'$2105 / 2br - 830ft\\xb2 - Come home to green lawns at Pathfinder Village! (fremont / union city / newark)',\n",
        " u'$2850 / 3br - 1399ft\\xb2 - Beautiful and newly remodeled home - Excellent Parkmont Elem School (fremont / union city / newark)',\n",
        " u'$1950 / 1br - 710ft\\xb2 - Appealing Amenities, Covered Parking, Air Conditioning, Ceiling Fan (fremont / union city / newark)',\n",
        " u'$2259 / 2br - ***COME BY TODAY AND LET US SHOW YOU YOUR NEXT NEW HOME*** (fremont / union city / newark)',\n",
        " u'$1775 / 1br - LUSH GARDENS, POOL, SPA, FITNESS CENTER AND BRIGHT ONE BR (fremont / union city / newark)',\n",
        " u'$1900 / 1br - 737ft\\xb2 - *Carriage House* Gated Community in a Quiet and Friendly Neighborhood! (fremont / union city / newark)',\n",
        " u'$2695 / 3br - 1600ft\\xb2 - Available Immediately!!! (fremont / union city / newark)',\n",
        " u'$2,695/mo',\n",
        " u'$1795 / 1br - 527ft\\xb2 - \\u2660GREAT PRICE, LOCATION, AND QUIET\\u2660 (fremont / union city / newark)',\n",
        " u'$1864 / 1br - 735ft\\xb2 - Waterstone@Fremont 735 1br (fremont / union city / newark)',\n",
        " u'$2162 / 1br - 665ft\\xb2 - Dog Friendly, Newly upgrade One Bedroom (fremont / union city / newark)',\n",
        " u'$2900 / 3br - 1472ft\\xb2 - 3 bed 2 .5 bath townhome remodeled in Fremont  (fremont / union city / newark)',\n",
        " u'$2800 / 3br - 4274 Stevenson Blvd (fremont / union city / newark)',\n",
        " u'$2220 / 2br - 1026ft\\xb2 - Beautiful 2 bedrooms available  (fremont / union city / newark)',\n",
        " u'$2175 / 1br - 850ft\\xb2 - Alderwood Is A Pet Friendly Community, So Bring Your Pes With You! (fremont / union city / newark)',\n",
        " u'$1975 / 2br - 1024ft\\xb2 -  Parkway Towers in Fremont - 3rd floor (fremont / union city / newark)',\n",
        " u'$1611 / 1br - 650ft\\xb2 - Great Location! Great Price!  (fremont / union city / newark)',\n",
        " u'$2203 / 2br - 800ft\\xb2 - Find Your New Home At Briarwood! (fremont / union city / newark)',\n",
        " u'$1775 / 1br - OPEN FLOOR PLAN WITH A PRIVATE PATIO & GYM  (fremont / union city / newark)',\n",
        " u'$1675 / 1br - 650ft\\xb2 - No Fooling Around! Fantastic Prices! (fremont / union city / newark)',\n",
        " u\"$2545 / 2br - 1106ft\\xb2 - Come See What You've Been Missing at The Presidio! (fremont / union city / newark)\",\n",
        " u'$1563 / 1br - 660ft\\xb2 - Medallion Is A Great Place To Call Home.. (fremont / union city / newark)',\n",
        " u'$2094 / 2br - ELEGANTLY DESIGNED 2 BEDROOMS IN A BEAUTIFULLY LANDSCAPED COMMUNITY (fremont / union city / newark)',\n",
        " u'$2105 / 2br - 830ft\\xb2 - Energy-saving Kitchens with Built-in Microwaves (fremont / union city / newark)',\n",
        " u'$2295 / 2br - 1004ft\\xb2 - \\u263b\\u2665THE MOST LIKED PLACE TO LIVE ON FACEBOOK\\u263b\\u2665 (fremont / union city / newark)',\n",
        " u'$2995 / 3br - 1600ft\\xb2 - Mission San Jose School, spacious and bright 3br/2ba house (fremont / union city / newark)',\n",
        " u'$2600 / 3br - 1384ft\\xb2 - Perfect Shape Single Family Home In North Fremont (fremont / union city / newark)',\n",
        " u'$2,600/mo',\n",
        " u'$1825 / 1br - 710ft\\xb2 - Outstanding Location, Responsive Maintenance, Spacious Floorplan (fremont / union city / newark)',\n",
        " u'$2295 / 2br - 1004ft\\xb2 - \\u2665LOOKING FOR PEACE AND QUIET\\u2665 COME AND TOUR TODAY\\u2665 (fremont / union city / newark)',\n",
        " u'$3000 / 4br - 2260ft\\xb2 - Newly Renovated 4bd / 3ba / 2260 sq ft house in Union City / Pioneer (fremont / union city / newark)',\n",
        " u'$3700 / 5br - 3326ft\\xb2 - 5 beds, 3 baths For Rent in Newark! $3,700/mo. (fremont / union city / newark)',\n",
        " u'$2429 / 2br - 1040ft\\xb2 - A Great Place To Call Home..Waterstone@Fremont (fremont / union city / newark)',\n",
        " u'$2067 / 1br - 640ft\\xb2 - View of the Creek, Gym & Pools, Close to BART, Avail NOW! (fremont / union city / newark)',\n",
        " u'$1845 / 1br - 700ft\\xb2 - Bright and open homes for you! Pet friendly! (fremont / union city / newark)',\n",
        " u'$2900 / 3br - 1472ft\\xb2 - 3 bed 2 .5 bath townhome remodeled in Fremont  (fremont / union city / newark)',\n",
        " u'$1622 / 1br - 660ft\\xb2 - Stop Looking!!! Medallion Is Get Place To Call Home... (fremont / union city / newark)',\n",
        " u'$2600 / 4br - 1321ft\\xb2 - 4 beds/2 baths near Stevenson /Sundale/880 walking distance to schools (fremont / union city / newark)',\n",
        " u'$2500 / 3br - 1550ft\\xb2 - Beautiful house, close to Dumbarton Bridge(Facebook), shopping center  (fremont / union city / newark)',\n",
        " u'$2868 / 1320ft\\xb2 - Stunning 3X2 Apartment with W/D Set in Fremont! (fremont / union city / newark)',\n",
        " u'$1795 / 2br - 803ft\\xb2 - FREE COMCAST CABLE w/ HBO (fremont / union city / newark)',\n",
        " u'$4795 / 5br - 3168ft\\xb2 - Gorgeous Mission Fremont Home ... Will not Last!!! (fremont / union city / newark)',\n",
        " u'$2394 / 2br - 985ft\\xb2 - In-home laundry and tons of storage in huge, gorgeous floor plan (fremont / union city / newark)',\n",
        " u'$2900 / 3br - 1433ft\\xb2 - Beautiful Glenmoor Area Home! (fremont / union city / newark)',\n",
        " u'$2,900/mo',\n",
        " u'$2515 / 2br - 961ft\\xb2 - Pets welcome at Ardenwood Forest.. 2 bedrooms available!! (fremont / union city / newark)',\n",
        " u'$2,515/mo',\n",
        " u'$1200 / 1br - 500ft\\xb2 - One-Bedroom Cottage with Fireplace & Patio (fremont / union city / newark)',\n",
        " u'$2232 / 1br - 877ft\\xb2 - Charming apartment homes w/spacious and open kitchen layout! (fremont / union city / newark)',\n",
        " u'$1695 / 2br - 1000ft\\xb2 - NEWLY REMODLED TWO BED TWONHOUSE (fremont / union city / newark)',\n",
        " u'$3400 / 5br - 2880ft\\xb2 - ??? Stunning Semi-Custom Home ??? (fremont / union city / newark)',\n",
        " u'$1950 / 1br - 710ft\\xb2 - Cottage Style, Stylish Features, Washer Dryer in Unit, Walk to BART (fremont / union city / newark)',\n",
        " u'$2500 / 3br - 1118ft\\xb2 - 3 bed+2 bath house in Ardenwood (fremont / union city / newark)',\n",
        " u'$1680 / 1br - 650ft\\xb2 - Ready to Rent! (fremont / union city / newark)',\n",
        " u'$3100 / 3br - 1780ft\\xb2 - MISSION SAN JOSE ANTELOPE HILLS TOWNHOUSE (fremont / union city / newark)',\n",
        " u'$2065 / 2br - 830ft\\xb2 - Just the place you need. (fremont / union city / newark)',\n",
        " u'$2295 / 2br - 1241ft\\xb2 - Extra Large 2 bed 2 bath (fremont / union city / newark)',\n",
        " u'$2295 / 2br - 1004ft\\xb2 - \\u25d8\\u2665EVERYONE IS WELCOME HOME HERE AT RANCHO LUNA/SOL \\u25d8\\u2665 (fremont / union city / newark)',\n",
        " u'$3000 / 3br - 1067ft\\xb2 - Nice quiet 3Bed-2Bath (fremont / union city / newark)',\n",
        " u'$2350 / 2br - 1050ft\\xb2 - 2 Bed/2 Bath 5minutes from fremont bart 8 month lease (fremont / union city / newark)',\n",
        " u'$1717 / 1br - 685ft\\xb2 - Alderwood Park Apartments, Is Waiting For You! (fremont / union city / newark)',\n",
        " u'$780 / 1br - \\u96c5\\u623f\\u51fa\\u79df (fremont / union city / newark)',\n",
        " u'$3200 / 3br - 1723ft\\xb2 - 3 BRs, 2 BAs SFH in Fremont (94539) for Rent (fremont / union city / newark)',\n",
        " u'$1895 / 1br - 650ft\\xb2 - Beautiful 1 bedroom with brand new carpet & lino! (fremont / union city / newark)',\n",
        " u'$2295 / 2br - 980ft\\xb2 - \\u2666\\u263aBRAND NEW EVERYTHING!\\u2666\\u263a (fremont / union city / newark)',\n",
        " u'$2600 / 3br - 1124ft\\xb2 - *Irvington High School area 3bedroom 2 bath SFH*Open House 10/4 2- 4pm (fremont / union city / newark)',\n",
        " u'$2010 / 2br - 830ft\\xb2 - Here now and gone by morning. You should hurry! (fremont / union city / newark)',\n",
        " u'$2432 / 2br - 1096ft\\xb2 - Save Gas Save Money... Walk to BART! (fremont / union city / newark)',\n",
        " u'$1000 / 3br - 1534ft\\xb2 - $1000 Master Bedroom For Rent in a 3br - 3BR/2.5BA home near BART (fremont / union city / newark)',\n",
        " u'$2200 / 3br - 1100ft\\xb2 - $2200 1100sqft - 3BR/2BA HOUSE in UNION CITY (fremont / union city / newark)',\n",
        " u\"$2150 / 2br - DON'T LET THIS ONE GET AWAY! SUNNY, QUIET, SPACIOUS & BEAUTIFUL HOME! (fremont / union city / newark)\",\n",
        " u'$2023 / 2br - 850ft\\xb2 - Awesome 2 bed/1 Bath! The Place To Live! (fremont / union city / newark)',\n",
        " u'$2113 / 2br - 800ft\\xb2 - We Want You As A Resident, Call Bridgeport! (fremont / union city / newark)',\n",
        " u'$2295 / 2br - 1004ft\\xb2 - \\u263aWE HAVE GOT EVERYTHING YOU NEED FOR COMFORT\\u263a! (fremont / union city / newark)',\n",
        " u'$3200 / 4br - 2100ft\\xb2 - GREAT UNION CITY LOCATION GRANITE,FIREPLACE,HARDWOOD,W/D,STAINLESS (fremont / union city / newark)',\n",
        " u'$3200 / 4br - 2000ft\\xb2 - Charming, and Spacious 4 BR/2.5 BA Single Family House in Fremont (fremont / union city / newark)',\n",
        " u'$2900 / 3br - 1472ft\\xb2 - 3 bed 2 .5 bath townhome remodeled in Fremont  (fremont / union city / newark)',\n",
        " u'$2259 / 2br - FIVE-STAR LIVING & EASY ACCESS TO EVERYWHERE! (fremont / union city / newark)',\n",
        " u'$2250 / 2br - 850ft\\xb2 - Two Bedroom! Featuring Granite Countertops! Washer & Dryer! (fremont / union city / newark)',\n",
        " u'$2400 / 3br - 1100ft\\xb2 - OPEN HOUSE, READY NOW, Warm Springs, 3 Bed 1.5 Bath UPGRADED home  (fremont / union city / newark)',\n",
        " u'$1848 / 1br - 603ft\\xb2 - Apartment w/ washer & dryer in unit. Fitness center also! (fremont / union city / newark)',\n",
        " u'$2499 / 3br - 1248ft\\xb2 - 3Bd,2Bath in Union City $2500/month (fremont / union city / newark)',\n",
        " u'$2500 / 3br - 1000ft\\xb2 - 3 bedroom + bonus rooms single home near Fremont central park and BART (fremont / union city / newark)',\n",
        " u'$2299 / 2br - EXCEPTIONAL TWO BEDROOM WITH LUSH LANDSCAPE VIEWS, CRYSTAL POOL (fremont / union city / newark)',\n",
        " u'$2392 / 2br - 900ft\\xb2 - Spacious, open, amazing floor plans!  (fremont / union city / newark)',\n",
        " u'$2750 / 4br - 1704ft\\xb2 - Beautiful Home in the Cabrillo Area of Fremont! (fremont / union city / newark)',\n",
        " u'$2,750/mo',\n",
        " u'$1839 / 1br - 565ft\\xb2 - A Great Junior 1br Unit To Call home @waterstone Fremont (fremont / union city / newark)',\n",
        " u'$2320 / 1br - Apartment for $2320.00in Fremont (fremont / union city / newark)',\n",
        " u'$2900 / 3br - 1422ft\\xb2 - Open House Sun 10/5, 2-4pm - Beautiful California Blossom Home (fremont / union city / newark)',\n",
        " u'$3100 / 3br - 1500ft\\xb2 - OPEN HOUSE - Gorgeous Single Family House (fremont / union city / newark)',\n",
        " u'$1900 / 1br - 737ft\\xb2 - *Carriage House* Gated Community in a Quiet and Friendly Neighborhood! (fremont / union city / newark)',\n",
        " u'$2185 / 2br - 1009ft\\xb2 - 2 BR Town Homes Available In October (fremont / union city / newark)',\n",
        " u'$2000 / 2br - 926ft\\xb2 - Beautiful Condo in Fremont Warm Springs (fremont / union city / newark)',\n",
        " u'$1795 / 1br - 527ft\\xb2 - \\u2660GREAT PRICE, LOCATION, AND QUIET\\u2660 (fremont / union city / newark)',\n",
        " u'$1625 / 1br - 630ft\\xb2 - Beautiful Niles Community! Move-In October 18th! (fremont / union city / newark)',\n",
        " u'$3150 / 4br - 1900ft\\xb2 - Nice Fremont house open Sunday 12:00-12:30 (fremont / union city / newark)',\n",
        " u'$2295 / 2br - 1004ft\\xb2 - \\u25d8\\u2665EVERYONE IS WELCOME HOME HERE AT RANCHO LUNA/SOL \\u25d8\\u2665 (fremont / union city / newark)',\n",
        " u'$1895 / 1br - Beautiful 1 bedroom call now to make an appointment!!! (fremont / union city / newark)',\n",
        " u'$2700 / 3br - Quiet 3br/2ba home in quiet Fremont (fremont / union city / newark)',\n",
        " u'$3000 / 3br - 1760ft\\xb2 - Spacious 3bed/2.5bath Home in Fremont North Gate neighborhood (fremont / union city / newark)',\n",
        " u'$2315 / 2br - 862ft\\xb2 - 2 bed 1 bath w/ washer & dryer PLUS private garage!!  (fremont / union city / newark)',\n",
        " u'$2,315/mo',\n",
        " u'$2295 / 2br - 1241ft\\xb2 - Extra Large  Two Bed Two Bath (fremont / union city / newark)',\n",
        " u'$2459 / 2br - 1061ft\\xb2 - Beautiful mountain view apartment walking distance to BART!! (fremont / union city / newark)',\n",
        " u'$2672 / 2br - 1008ft\\xb2 - LARGE Two Bed W/ Two Car Garage, Available Now!! (fremont / union city / newark)',\n",
        " u'$3100 / 3br - 1500ft\\xb2 - \\u25ba \\u25ba\\u25baOPEN HOUSE in Newark - Elegant Single Family Home (fremont / union city / newark)',\n",
        " u'$3,100/mo',\n",
        " u'$3200 / 4br - 2250ft\\xb2 - Spacious 4beds/3.5baths House in Ardenwood (fremont / union city / newark)',\n",
        " u'$3250 / 4br - 1866ft\\xb2 -  Walk to Weibel school (fremont / union city / newark)',\n",
        " u'$1695 / 1br - 560ft\\xb2 - ~*~A Home To Adore, ~*~ Move In Ready 10/25/14 (fremont / union city / newark)',\n",
        " u'$3094 / 3br - 1511ft\\xb2 - Great Community The Place To Live! Huge 3 Bed, 3 Bath (fremont / union city / newark)',\n",
        " u'$2300 / 2br - 890ft\\xb2 - *Carriage House* Gated Community in a Quiet and Friendly Neighborhood! (fremont / union city / newark)',\n",
        " u'$1863 / 1br - 735ft\\xb2 - Waterstone@Fremont 735 1br (fremont / union city / newark)',\n",
        " u'$2150 / 2br - DESIGNER-INSPIRED FLOOR PLANS WITH LUSH GARDEN VIEW (fremont / union city / newark)',\n",
        " u'$1760 / 1br - PARK-LIKE LANDSCAPING, POOL, SPA, FITNESS CENTER  (fremont / union city / newark)',\n",
        " u'$3850 / 4br - 2200ft\\xb2 - Fremont Mission San Jose House for Rent (fremont / union city / newark)',\n",
        " u'$2259 / 2br - GROUND FLOOR DESIRABLE LOCATION, NEAR SHOPPING,RESTAURANTS AND FWY 880 (fremont / union city / newark)',\n",
        " u'$2695 / 3br - 1600ft\\xb2 - Available Immediately!!! (fremont / union city / newark)',\n",
        " u'$2,695/mo',\n",
        " u'$2295 / 1br - Studio suites only $2295.00 (fremont / union city / newark)',\n",
        " u'$2600 / 3br - Nice Single Family Home in Newark (fremont / union city / newark)',\n",
        " u'$1200 / 1br - 400ft\\xb2 - Studio For Rent (fremont / union city / newark)',\n",
        " u'$2095 / 2br - 846ft\\xb2 - Spacious 2 Bed 1 Bath in Downtown Fremont (fremont / union city / newark)',\n",
        " u'$1760 / 1br - RESORT STYLE LIVING IN A PRIME FREMONT LOCATION (fremont / union city / newark)',\n",
        " u'$2249 / 2br - YOUR PERFECT APARMENT HOME IN A BEAUTIFUL PARK SETTING, RESORT STYLE  (fremont / union city / newark)',\n",
        " u'$2095 / 1br - 734ft\\xb2 - Come Home and Relax at The Presidio. (fremont / union city / newark)',\n",
        " u'$2295 / 2br - 1004ft\\xb2 - \\u25d8\\u2665EVERYONE IS WELCOME HOME HERE AT RANCHO LUNA/SOL \\u25d8\\u2665 (fremont / union city / newark)',\n",
        " u'$1795 / 1br - 527ft\\xb2 - \\u2022\\u2022\\u2022LIVE CLOSE TO THE CITY\\u2665\\u2022\\u2022 (fremont / union city / newark)',\n",
        " u'$2295 / 2br - 1004ft\\xb2 - \\u2666COME AND SEE WHAT YOU HAVE BEEN MISSING\\u2666 (fremont / union city / newark)',\n",
        " u'$1800 / 2br - 1129ft\\xb2 - 31127 Alvarado Niles Road, Union City, Avail.11/15 Ext.66 (fremont / union city / newark)',\n",
        " u'$2300 / 2br - 890ft\\xb2 - *Carriage House* Gated Community in a Quiet and Friendly Neighborhood! (fremont / union city / newark)',\n",
        " u'$2300 / 2br - 890ft\\xb2 - *Carriage House* Gated Community in a Quiet and Friendly Neighborhood! (fremont / union city / newark)',\n",
        " u'$2259 / 2br - A CHEERFUL, SUNNY PLACE READY FOR YOU TO CALL HOME!  (fremont / union city / newark)',\n",
        " u'$1795 / 1br - 527ft\\xb2 - \\u263bBART RIDERS DREAM/CLOSE TO SHOPPING\\u263b (fremont / union city / newark)',\n",
        " u'$1900 / 1br - 737ft\\xb2 - *Carriage House* Gated Community in a Quiet and Friendly Neighborhood! (fremont / union city / newark)',\n",
        " u'$2295 / 2br - 1004ft\\xb2 - \\u263bBART RIDERS DREAM/CLOSE TO SHOPPING\\u263b (fremont / union city / newark)',\n",
        " u'$2089 / 2br - 800ft\\xb2 - Upgraded And Available Now!! (fremont / union city / newark)',\n",
        " u'$3300 / 3br - 1550ft\\xb2 - Mission San Jose Fremont Home for Rent (fremont / union city / newark)',\n",
        " u'$2900 / 3br - 1472ft\\xb2 - Great 3 bed 2.5 bath townhome remodeled in Fremont  (fremont / union city / newark)',\n",
        " u'$2895 / 3br - 1600ft\\xb2 - 3 br 2.5ba Townhouse -  Garage Pool Dishwasher (fremont / union city / newark)',\n",
        " u'$2463 / 2br - 910ft\\xb2 - Laundry Inside, Pool, Gym, Extra Storage, Walk In Closet, Avail Oct 16 (fremont / union city / newark)',\n",
        " u'$3100 / 3br - 1500ft\\xb2 - \\u25ba \\u25ba\\u25ba Heaven in Newark - Single Family Home (fremont / union city / newark)',\n",
        " u'$3,100/mo',\n",
        " u'$2813 / 1320ft\\xb2 - Stunning 3X2 Apartment with W/D Set in Fremont! (fremont / union city / newark)',\n",
        " u'$2300 / 2br - 968ft\\xb2 - Fremont Mission San Jose Townhome 2BR/1.5Bath (fremont / union city / newark)',\n",
        " u'$5380 / 5br - 3800ft\\xb2 - 708 Chavel Court, Fremont, Avail.10/25 Ext.43 (fremont / union city / newark)',\n",
        " u'$2500 / 3br - 1550ft\\xb2 - Beautiful house, close to Dumbarton Bridge(Facebook), shopping center  (fremont / union city / newark)',\n",
        " u'$2545 / 2br - 1106ft\\xb2 - 15 Min Walk to BART from the Presidio Apartments (fremont / union city / newark)',\n",
        " u'$1550 / 1br - 600ft\\xb2 - One Bedroom , Move in Ready, Six month Leasing (fremont / union city / newark)',\n",
        " u'$3500 / 3br - Single House with view in a quiet and safe neighborhood (fremont / union city / newark)',\n",
        " u'$2900 / 3br - 1474ft\\xb2 - Updated single family home for rent (fremont / union city / newark)',\n",
        " u'$1900 / 2br - 845ft\\xb2 - Available Immediately!!! (fremont / union city / newark)',\n",
        " u'$1,900/mo',\n",
        " u'$2036 / 1br - 730ft\\xb2 - The Best Community in Fremont! (fremont / union city / newark)',\n",
        " u'$2761 / 2br - 1235ft\\xb2 - 2BD/2.5BA TOWNHOME WITH STORAGE, WOOD PLANK FLOORING, AND PATIO (fremont / union city / newark)',\n",
        " u'$2545 / 2br - 1106ft\\xb2 - Where Location, Quality and Value are Everything! The Presidio (fremont / union city / newark)',\n",
        " u'$3200 / 4br - 1863ft\\xb2 - MISSION San Jose, Available NOW (fremont / union city / newark)',\n",
        " u'$2295 / 2br - 980ft\\xb2 - \\u263b\\u2665THE MOST LIKED PLACE TO LIVE ON FACEBOOK\\u263b\\u2665 (fremont / union city / newark)',\n",
        " u'$1895 / 2br - Great Fremont Location!  (fremont / union city / newark)',\n",
        " u'$1,895/mo',\n",
        " u'$1895 / 1br - 650ft\\xb2 - 1 BEDROOM APARTMENT! QUIET NEIGHBORHOOD IN FREMONT  (fremont / union city / newark)',\n",
        " u'$1606 / 1br - 660ft\\xb2 - Ground Floor Unit... Come See It Now!!! (fremont / union city / newark)',\n",
        " u'$1695 / 2br - 1000ft\\xb2 - $1695/2BD - NEWLY REMODLED TWO BED TWONHOUSE  (fremont / union city / newark)',\n",
        " u'$1790 / 1br - 600ft\\xb2 - Beautiful and spacious 1 bedrooms available  (fremont / union city / newark)',\n",
        " u'$2500 / 1br - 738ft\\xb2 - Welcome To Your New Home! (fremont / union city / newark)',\n",
        " u'$1625 / 1br - 625ft\\xb2 - *SPECIAL* Your new home is waiting for you! - SPACIOUS 1 BR APARTMENT  (fremont / union city / newark)',\n",
        " u'$1640 / 1br - 660ft\\xb2 - A Must See! Come Tour Today... (fremont / union city / newark)',\n",
        " u'$2700 / 3br - 1300ft\\xb2 - 3 Bed 2 Bath Single Family Home in Fremont (fremont / union city / newark)',\n",
        " u'$4000 / 5br - 2652ft\\xb2 - Mission Hills Executive Home  * OPEN HOUSE 10/5 3-4 PM (fremont / union city / newark)',\n",
        " u'$4,000/mo',\n",
        " u'$2750 / 2br - 1081ft\\xb2 - Modern 2/2  condo in Warm Springs (fremont / union city / newark)',\n",
        " u'$2,750/mo',\n",
        " u'$2573 / 2br - 1126ft\\xb2 - Your New Home Awaits You In This Amazingly Spacious 2BD/2BA (fremont / union city / newark)',\n",
        " u'$1845 / 1br - 650ft\\xb2 - Furnished apartment ready for immediate move in! (fremont / union city / newark)',\n",
        " u'$2600 / 2br - 982ft\\xb2 - Living at its best! Come see your new home today! (fremont / union city / newark)',\n",
        " u'$1690 / 1br - 650ft\\xb2 - Why not sign today? (fremont / union city / newark)',\n",
        " u'$1895 / 1br - Beautiful 1 bedroom call now to make an appointment!!! (fremont / union city / newark)',\n",
        " u'$3400 / 5br - 3310ft\\xb2 - Newark Single Family Home for Rent $3400 ( 3315 sq.ft ) (fremont / union city / newark)',\n",
        " u'$1900 / 2br - 1250ft\\xb2 - 2bd/2bth town home for rent - $1900 (fremont / union city / newark)',\n",
        " u'$2500 / 3br - 1550ft\\xb2 - Beautiful house, close to Dumbarton Bridge(Facebook), shopping center  (fremont / union city / newark)',\n",
        " u'$1607 / 1br - 650ft\\xb2 - Welcome Home to Medallion Apartments.. (fremont / union city / newark)',\n",
        " u'$1895 / 1br - 527ft\\xb2 - \\u2665\\u263aWE WANT YOU TO JOIN THE FAMILY\\u263a\\u2665 (fremont / union city / newark)',\n",
        " u'$1760 / 1br - 650ft\\xb2 - Large Apartment (fremont / union city / newark)',\n",
        " u'$2100 / 2br - 2 Bedroom 1 Bath - Newly Renovated (fremont / union city / newark)',\n",
        " u'$1760 / 1br - AMAZING AMENITIES IN PARK-LIKE COMMUNITY (fremont / union city / newark)',\n",
        " u'$1775 / 1br - PARK-LIKE LANDSCAPING, POOL, SPA, FITNESS CENTER  (fremont / union city / newark)',\n",
        " u'$2259 / 2br - ***COME BY TODAY AND LET US SHOW YOU YOUR NEXT NEW HOME*** (fremont / union city / newark)',\n",
        " u'$2084 / 2br - PARK-LIKE SETTING IN PRIME LOCATION, DESIGNER 2 BR (fremont / union city / newark)',\n",
        " u'$2425 / 2br - 1010ft\\xb2 - Now Available, Near Public Parks, Parkmont Schools (fremont / union city / newark)',\n",
        " u'$1760 / 1br - RESORT LIVING IN A SERENE PARK SETTING  (fremont / union city / newark)',\n",
        " u'$2650 / 3br - 1785ft\\xb2 - Beautiful Fremont 3 bedroom house for rent (fremont / union city / newark)',\n",
        " u'$1000 / 1br - 300ft\\xb2 - Fully furnished trailer home (fremont / union city / newark)',\n",
        " u'$3200 / 3br - 1700ft\\xb2 - Ardenwood SFH for rent- available soon (fremont / union city / newark)',\n",
        " u'$1984 / 1br - 600ft\\xb2 - Right In The Heart Of Fremont! (fremont / union city / newark)',\n",
        " u'$2000 / 1br - 704ft\\xb2 - Ground Floor 1X1 Available 10/14... Reserve Today!!! (fremont / union city / newark)',\n",
        " u'$1200 / 1br - Spacious 1 Bed 1 Bath Upgraded Upstairs Apartment with Granite! (fremont / union city / newark)',\n",
        " u'$2425 / 2br - 1010ft\\xb2 - Visit Your New Home, Night Patrol, Fitness Ctr, Easy Freeway Access (fremont / union city / newark)',\n",
        " u'$2139 / 2br - 800ft\\xb2 - M225 Is A Fabulous Location Within Our Community! (fremont / union city / newark)',\n",
        " u'$2695 / 3br - 1600ft\\xb2 - Available Immediately!!! (fremont / union city / newark)',\n",
        " u'$2,695/mo',\n",
        " u'$2779 / 2br - 1235ft\\xb2 - 2BD/2.5BA TOWNHOME WITH STORAGE, WOOD PLANK FLOORING, AND PATIO (fremont / union city / newark)',\n",
        " u'$1859 / 1br - 895ft\\xb2 - (SORRY, HAS BEEN RENTED) CONDO, HIGH CEILING , FOR RENT BY OWNER (fremont / union city / newark)',\n",
        " u'$1895 / 1br - 527ft\\xb2 - \\u263aFEEL THE WARMTH HERE AT RANCHO LUNA/SOL (fremont / union city / newark)',\n",
        " u'$2193 Fully Furnished Studio - $2193.00/Month (fremont / union city / newark)',\n",
        " u'$2295 / 2br - 980ft\\xb2 - \\u2665HOME IS WHERE THE HEART IS\\u2665RANHO LUNA/SOL APT HOMES NOW LEASINGb (fremont / union city / newark)',\n",
        " u'$2700 / 3br - 1700ft\\xb2 - 3 Bedroom with possible 4th bedroom, 2.5 Bath, 2 car garage, 2 Story (fremont / union city / newark)',\n",
        " u'$2120 / 2br - 830ft\\xb2 - Why not sign today? (fremont / union city / newark)',\n",
        " u'$1575 / 1br - 660ft\\xb2 - Up-Stairs Corner Unit  Large Walk-In Closet... (fremont / union city / newark)',\n",
        " u'$2900 / 3br - 1472ft\\xb2 - Great 3 bed 2.5 bath townhome remodeled in Fremont  (fremont / union city / newark)',\n",
        " u'$1696 / 1br - 620ft\\xb2 - 1B-1B Near EVERYTHING!! Bart, freeway, restaurants, etc (fremont / union city / newark)',\n",
        " u'$2300 / 2br - 890ft\\xb2 - *Carriage House* Gated Community in a Quiet and Friendly Neighborhood! (fremont / union city / newark)',\n",
        " u'$1995 / 2br - 1008ft\\xb2 - SPACIOUS, Townhome Apartments (fremont / union city / newark)',\n",
        " u'$1,995/mo',\n",
        " u'$3100 / 4br - 1544ft\\xb2 - Single-Family Home In Nice Neighborhood (fremont / union city / newark)',\n",
        " u'$2999 / 4br - 1922ft\\xb2 - luxuary 4bed 2 bath union city $,2,999 first month  (fremont / union city / newark)',\n",
        " u'$1855 / 1br - 650ft\\xb2 - Furnished Apartment home Ready for Move In! (fremont / union city / newark)',\n",
        " u'$1900 / 1br - 737ft\\xb2 - *Carriage House* Gated Community in a Quiet and Friendly Neighborhood! (fremont / union city / newark)',\n",
        " u'$1825 / 1br - 710ft\\xb2 - Stylish Features, Washer Dryer in Unit, Walk to BART (fremont / union city / newark)',\n",
        " u'$1825 / 1br - 565ft\\xb2 - Enriched Lifestyle, Heated Pool, Sauna, Pets Welcome (fremont / union city / newark)',\n",
        " u'$1650 / 2br - 903ft\\xb2 - 2bed/1bath Condo in Union City near BART station (fremont / union city / newark)',\n",
        " u'$1780 / 1br - RESORT STYLE LIVING IN PRIME FREMONT LOCATION (fremont / union city / newark)',\n",
        " u'$1825 / 1br - 565ft\\xb2 - Now Available, Responsive Maintenance, Spacious Floorplan (fremont / union city / newark)',\n",
        " u'$1950 / 2br - Great Fremont Location-Lower unit (fremont / union city / newark)',\n",
        " u'$1,950/mo',\n",
        " u'$1760 / 1br - DESIGNER INTERIORS, SPACIOUS FLOOR PLANS AND AMAZING AMENITIES (fremont / union city / newark)',\n",
        " u'$1807 / 1br - 760ft\\xb2 - Are You Ready To Move..Waterstone@Fremont (fremont / union city / newark)',\n",
        " u'$2500 / 3br - 1550ft\\xb2 - Beautiful house, close to Dumbarton Bridge(Facebook), shopping center  (fremont / union city / newark)',\n",
        " u'$2113 / 2br - 800ft\\xb2 - Love Your Home, Here At Bridgeport! (fremont / union city / newark)',\n",
        " u'$1550 / 1br - 600ft\\xb2 - One Bedroom , Move in Ready, (fremont / union city / newark)',\n",
        " u'$2750 / 3br - 1400ft\\xb2 - Great Fremont Warm Spring Upgraded Home! SPECIAL $$$$$ (fremont / union city / newark)',\n",
        " u'$2315 / 2br - 862ft\\xb2 - 2 bedroom w/ attached garage in nice Ardenwood neighborhood (fremont / union city / newark)',\n",
        " u'$2,315/mo',\n",
        " u'$2570 / 2br - 982ft\\xb2 - Living at its best! Come see your new home today! (fremont / union city / newark)',\n",
        " u'$2129 / 2br - 875ft\\xb2 - Bridgeport Apartments Is Your New Home! (fremont / union city / newark)',\n",
        " u'$1929 / 1br - GORGEOUS,TOP FLOOR APARTMENT,VISIT AMBER COURT TODAY!  (fremont / union city / newark)',\n",
        " u'$1760 / 1br - PRIVATE END UNIT, LARGE STORAGE, YOUR NEW HOME IS HERE! (fremont / union city / newark)',\n",
        " u'$2295 / 2br - 1004ft\\xb2 - \\u25d8CLOSE AND CONVENIENT FOR YOUR LIFESTYLE\\u25d8 (fremont / union city / newark)',\n",
        " u'$2225 / 2br - 1080ft\\xb2 - Houselike Two Bedroom Quality Duplex Glenmore Fremont (fremont / union city / newark)',\n",
        " u'$2120 / 1br - 734ft\\xb2 - Comfort, Style and a GREAT Value at The Presidio! (fremont / union city / newark)',\n",
        " u'$1813 / 1br - 565ft\\xb2 - A Great Junior 1br Unit To Call home @waterstone Fremont (fremont / union city / newark)',\n",
        " u'$2129 / 2br - 875ft\\xb2 - Call Bridgeport Apartments I Can Assit You! (fremont / union city / newark)',\n",
        " u'$4800 / 5br - 2650ft\\xb2 - GORGEOUS Single House 5BR3BA in Newark Lake Area  (fremont / union city / newark)']"
       ]
      }
     ],
     "prompt_number": 8
    },
    {
     "cell_type": "code",
     "collapsed": false,
     "input": [
      "len(all_content)\n",
      "len(final_content)"
     ],
     "language": "python",
     "metadata": {},
     "outputs": [
      {
       "metadata": {},
       "output_type": "pyout",
       "prompt_number": 26,
       "text": [
        "530"
       ]
      }
     ],
     "prompt_number": 26
    },
    {
     "cell_type": "code",
     "collapsed": false,
     "input": [
      "connection = pymongo.Connection()\n",
      "db = connection['craig_rental']\n",
      "rentals = db.rentals\n",
      "rentals.insert(all_content)\n",
      "rentals.find_one({\"id\": \"4702678204\"})"
     ],
     "language": "python",
     "metadata": {},
     "outputs": [],
     "prompt_number": 30
    },
    {
     "cell_type": "code",
     "collapsed": false,
     "input": [
      "#df = pd.DataFrame(columns=columns) \n",
      "df = pd.DataFrame(index=np.arange(0, len(final_content)), columns =('rent','beds','sft'))\n",
      "#df = df.T\n",
      "print len(final_content)"
     ],
     "language": "python",
     "metadata": {},
     "outputs": [
      {
       "output_type": "stream",
       "stream": "stdout",
       "text": [
        "530\n"
       ]
      }
     ],
     "prompt_number": 9
    },
    {
     "cell_type": "code",
     "collapsed": false,
     "input": [
      "count = 0\n",
      "for content in final_content:\n",
      "    print count\n",
      "    x = content.split(\"-\")\n",
      "    if (len(x) >= 2):\n",
      "        print x[0], x[1]\n",
      "        rt, bd = x[0].split(\"/\")\n",
      "        rent =  map(int, re.findall('\\d+', rt))\n",
      "        beds = map(int, re.findall('\\d+',bd))\n",
      "        sft =  map(int, re.findall('\\d+',x[1]))\n",
      "        print rent\n",
      "        print beds\n",
      "        rent_beds = [rent, beds]\n",
      "        print sft\n",
      "        if (len(sft) ==0):\n",
      "            sft = [0]\n",
      "        all_data = rent_beds + sft\n",
      "        print count, all_data\n",
      "        df.loc[count] = all_data\n",
      "        count =count +1\n",
      "print count"
     ],
     "language": "python",
     "metadata": {},
     "outputs": [
      {
       "output_type": "stream",
       "stream": "stdout",
       "text": [
        "0\n",
        "$2000 / 3br   1150ft\u00b2 \n",
        "[2000]\n",
        "[3]\n",
        "[1150]\n",
        "0 [[2000], [3], 1150]\n",
        "1\n",
        "$1745 / 1br   520ft\u00b2 \n",
        "[1745]\n",
        "[1]\n",
        "[520]\n",
        "1 [[1745], [1], 520]\n",
        "2\n",
        "$2850 / 3br   1400ft\u00b2 \n",
        "[2850]\n",
        "[3]\n",
        "[1400]\n",
        "2 [[2850], [3], 1400]\n",
        "3\n",
        "$3000 / 4br   1970ft\u00b2 \n",
        "[3000]\n",
        "[4]\n",
        "[1970]\n",
        "3 [[3000], [4], 1970]\n",
        "4\n",
        "$2800 / 3br   1600ft\u00b2 \n",
        "[2800]\n",
        "[3]\n",
        "[1600]\n",
        "4 [[2800], [3], 1600]\n",
        "5\n",
        "$1705 / 1br   650ft\u00b2 \n",
        "[1705]\n",
        "[1]\n",
        "[650]\n",
        "5 [[1705], [1], 650]\n",
        "6\n",
        "$2774 / 2br   1147ft\u00b2 \n",
        "[2774]\n",
        "[2]\n",
        "[1147]\n",
        "6 [[2774], [2], 1147]\n",
        "7\n",
        "$2600 / 4br   1321ft\u00b2 \n",
        "[2600]\n",
        "[4]\n",
        "[1321]\n",
        "7 [[2600], [4], 1321]\n",
        "8\n",
        "$1700 / 2br   875ft\u00b2 \n",
        "[1700]\n",
        "[2]\n",
        "[875]\n",
        "8 [[1700], [2], 875]\n",
        "9\n",
        "$1795 / 1br   527ft\u00b2 \n",
        "[1795]\n",
        "[1]\n",
        "[527]\n",
        "9 [[1795], [1], 527]\n",
        "10\n",
        "$2050 / 2br   895ft\u00b2 \n",
        "[2050]\n",
        "[2]\n",
        "[895]\n",
        "10 [[2050], [2], 895]\n",
        "11\n",
        "$2300 / 3br   1214ft\u00b2 \n",
        "[2300]\n",
        "[3]\n",
        "[1214]\n",
        "11 [[2300], [3], 1214]\n",
        "12\n",
        "$2315 / 2br   862ft\u00b2 \n",
        "[2315]\n",
        "[2]\n",
        "[862]\n",
        "12 [[2315], [2], 862]\n",
        "13\n",
        "13\n",
        "$1795 / 1br   527ft\u00b2 \n",
        "[1795]\n",
        "[1]\n",
        "[527]\n",
        "13 [[1795], [1], 527]\n",
        "14\n",
        "$1845 / 1br   650ft\u00b2 \n",
        "[1845]\n",
        "[1]\n",
        "[650]\n",
        "14 [[1845], [1], 650]\n",
        "15\n",
        "$1795 / 1br   527ft\u00b2 \n",
        "[1795]\n",
        "[1]\n",
        "[527]\n",
        "15 [[1795], [1], 527]\n",
        "16\n",
        "$2528 / 2br   1108ft\u00b2 \n",
        "[2528]\n",
        "[2]\n",
        "[1108]\n",
        "16 [[2528], [2], 1108]\n",
        "17\n",
        "$2394 / 2br   985ft\u00b2 \n",
        "[2394]\n",
        "[2]\n",
        "[985]\n",
        "17 [[2394], [2], 985]\n",
        "18\n",
        "$1974 / 1br   704ft\u00b2 \n",
        "[1974]\n",
        "[1]\n",
        "[704]\n",
        "18 [[1974], [1], 704]\n",
        "19\n",
        "$2900 / 3br   1472ft\u00b2 \n",
        "[2900]\n",
        "[3]\n",
        "[1472]\n",
        "19 [[2900], [3], 1472]\n",
        "20\n",
        "$2299 / 2br   GORGEOUS, TOP FLOOR APARTMENT, VISIT AMBER COURT TODAY!  (fremont / union city / newark)\n",
        "[2299]\n",
        "[2]\n",
        "[]\n",
        "20 [[2299], [2], 0]\n",
        "21\n",
        "$1799 / 1br   565ft\u00b2 \n",
        "[1799]\n",
        "[1]\n",
        "[565]\n",
        "21 [[1799], [1], 565]\n",
        "22\n",
        "$2489 / 2br   982ft\u00b2 \n",
        "[2489]\n",
        "[2]\n",
        "[982]\n",
        "22 [[2489], [2], 982]\n",
        "23\n",
        "$2900 / 3br   1472ft\u00b2 \n",
        "[2900]\n",
        "[3]\n",
        "[1472]\n",
        "23 [[2900], [3], 1472]\n",
        "24\n",
        "$1850 / 2br   650ft\u00b2 \n",
        "[1850]\n",
        "[2]\n",
        "[650]\n",
        "24 [[1850], [2], 650]\n",
        "25\n",
        "$1795 / 1br   527ft\u00b2 \n",
        "[1795]\n",
        "[1]\n",
        "[527]\n",
        "25 [[1795], [1], 527]\n",
        "26\n",
        "$2350 / 2br   1053ft\u00b2 \n",
        "[2350]\n",
        "[2]\n",
        "[1053]\n",
        "26 [[2350], [2], 1053]\n",
        "27\n",
        "$1799 / 1br   565ft\u00b2 \n",
        "[1799]\n",
        "[1]\n",
        "[565]\n",
        "27 [[1799], [1], 565]\n",
        "28\n",
        "$1710 / 1br   650ft\u00b2 \n",
        "[1710]\n",
        "[1]\n",
        "[650]\n",
        "28 [[1710], [1], 650]\n",
        "29\n",
        "$1765 / 1br   760ft\u00b2 \n",
        "[1765]\n",
        "[1]\n",
        "[760]\n",
        "29 [[1765], [1], 760]\n",
        "30\n",
        "$2259 / 2br   COME EXPERIENCE CONVINIENT AND PEACEFUL LIVING THAT AWAITS YOU (fremont / union city / newark)\n",
        "[2259]\n",
        "[2]\n",
        "[]\n",
        "30 [[2259], [2], 0]\n",
        "31\n",
        "$2000 / 1br   701ft\u00b2 \n",
        "[2000]\n",
        "[1]\n",
        "[701]\n",
        "31 [[2000], [1], 701]\n",
        "32\n",
        "$1795 / 1br   527ft\u00b2 \n",
        "[1795]\n",
        "[1]\n",
        "[527]\n",
        "32 [[1795], [1], 527]\n",
        "33\n",
        "$2145 / 2br   1018ft\u00b2 \n",
        "[2145]\n",
        "[2]\n",
        "[1018]\n",
        "33 [[2145], [2], 1018]\n",
        "34\n",
        "$1780 / 1br   RESORT STYLE LIVING IN PRIME FREMONT LOCATION (fremont / union city / newark)\n",
        "[1780]\n",
        "[1]\n",
        "[]\n",
        "34 [[1780], [1], 0]\n",
        "35\n",
        "$1971 / 1br   600ft\u00b2 \n",
        "[1971]\n",
        "[1]\n",
        "[600]\n",
        "35 [[1971], [1], 600]\n",
        "36\n",
        "$2700 / 4br   1720ft\u00b2 \n",
        "[2700]\n",
        "[4]\n",
        "[1720]\n",
        "36 [[2700], [4], 1720]\n",
        "37\n",
        "$3200 / 4br   2317ft\u00b2 \n",
        "[3200]\n",
        "[4]\n",
        "[2317]\n",
        "37 [[3200], [4], 2317]\n",
        "38\n",
        "38\n",
        "$2550 / 3br   1200ft\u00b2 \n",
        "[2550]\n",
        "[3]\n",
        "[1200]\n",
        "38 [[2550], [3], 1200]\n",
        "39\n",
        "$2515 / 2br   961ft\u00b2 \n",
        "[2515]\n",
        "[2]\n",
        "[961]\n",
        "39 [[2515], [2], 961]\n",
        "40\n",
        "40\n",
        "$2750 / 3br   1547ft\u00b2 \n",
        "[2750]\n",
        "[3]\n",
        "[1547]\n",
        "40 [[2750], [3], 1547]\n",
        "41\n",
        "$2012 / 1br   747ft\u00b2 \n",
        "[2012]\n",
        "[1]\n",
        "[747]\n",
        "41 [[2012], [1], 747]\n",
        "42\n",
        "$2097 / 1br   720ft\u00b2 \n",
        "[2097]\n",
        "[1]\n",
        "[720]\n",
        "42 [[2097], [1], 720]\n",
        "43\n",
        "$2250 / 4br   1450ft\u00b2 \n",
        "[2250]\n",
        "[4]\n",
        "[1450]\n",
        "43 [[2250], [4], 1450]\n",
        "44\n",
        "$3333 / 4br   1750ft\u00b2 \n",
        "[3333]\n",
        "[4]\n",
        "[1750]\n",
        "44 [[3333], [4], 1750]\n",
        "45\n",
        "$1780 / 1br   AMAZING AMENITIES IN A PARK\n",
        "[1780]\n",
        "[1]\n",
        "[]\n",
        "45 [[1780], [1], 0]\n",
        "46\n",
        "$2221 / 1br   775ft\u00b2 \n",
        "[2221]\n",
        "[1]\n",
        "[775]\n",
        "46 [[2221], [1], 775]\n",
        "47\n",
        "$2292 / 1br   877ft\u00b2 \n",
        "[2292]\n",
        "[1]\n",
        "[877]\n",
        "47 [[2292], [1], 877]\n",
        "48\n",
        "$2900 / 3br   1700ft\u00b2 \n",
        "[2900]\n",
        "[3]\n",
        "[1700]\n",
        "48 [[2900], [3], 1700]\n",
        "49\n",
        "$2084 / 2br   DON'T LET THIS ONE GET AWAY! SUNNY, QUIET, SPACIOUS & BEAUTIFUL HOME! (fremont / union city / newark)\n",
        "[2084]\n",
        "[2]\n",
        "[]\n",
        "49 [[2084], [2], 0]\n",
        "50\n",
        "$2350 / 2br   850ft\u00b2 \n",
        "[2350]\n",
        "[2]\n",
        "[850]\n",
        "50 [[2350], [2], 850]\n",
        "51\n",
        "$1625 / 1br   630ft\u00b2 \n",
        "[1625]\n",
        "[1]\n",
        "[630]\n",
        "51 [[1625], [1], 630]\n",
        "52\n",
        "$1350 1 bedroom/1 bath   in Great House/Location \u96c5\u623f\u51fa\u79df (fremont / union city / newark)\n",
        "[1350, 1]\n",
        "[1]\n",
        "[]\n",
        "52 [[1350, 1], [1], 0]\n",
        "53\n",
        "$2075 / 2br   PARK\n",
        "[2075]\n",
        "[2]\n",
        "[]\n",
        "53 [[2075], [2], 0]\n",
        "54\n",
        "$2500 / 3br   1448ft\u00b2 \n",
        "[2500]\n",
        "[3]\n",
        "[1448]\n",
        "54 [[2500], [3], 1448]\n",
        "55\n",
        "$2725 / 3br   1375ft\u00b2 \n",
        "[2725]\n",
        "[3]\n",
        "[1375]\n",
        "55 [[2725], [3], 1375]\n",
        "56\n",
        "$2267 / 2br   850ft\u00b2 \n",
        "[2267]\n",
        "[2]\n",
        "[850]\n",
        "56 [[2267], [2], 850]\n",
        "57\n",
        "$2750 / 4br   1850ft\u00b2 \n",
        "[2750]\n",
        "[4]\n",
        "[1850]\n",
        "57 [[2750], [4], 1850]\n",
        "58\n",
        "$2259 / 2br   YOUR PERFECT APARMENT HOME IN A BEAUTIFUL PARK SETTING, RESORT STYLE  (fremont / union city / newark)\n",
        "[2259]\n",
        "[2]\n",
        "[]\n",
        "58 [[2259], [2], 0]\n",
        "59\n",
        "$2550 / 3br   1200ft\u00b2 \n",
        "[2550]\n",
        "[3]\n",
        "[1200]\n",
        "59 [[2550], [3], 1200]\n",
        "60\n",
        "$2695 / 3br   1600ft\u00b2 \n",
        "[2695]\n",
        "[3]\n",
        "[1600]\n",
        "60 [[2695], [3], 1600]\n",
        "61\n",
        "61\n",
        "$1800 / 2br   875ft\u00b2 \n",
        "[1800]\n",
        "[2]\n",
        "[875]\n",
        "61 [[1800], [2], 875]\n",
        "62\n",
        "$2600 / 3br   Fremont 3Bed\n",
        "[2600]\n",
        "[3]\n",
        "[3]\n",
        "62 [[2600], [3], 3]\n",
        "63\n",
        "$1500 / 1br   430ft\u00b2 \n",
        "[1500]\n",
        "[1]\n",
        "[430]\n",
        "63 [[1500], [1], 430]\n",
        "64\n",
        "$2700 / 3br   Remodeled beautiful house \n",
        "[2700]\n",
        "[3]\n",
        "[]\n",
        "64 [[2700], [3], 0]\n",
        "65\n",
        "$2675 / 2br   1235ft\u00b2 \n",
        "[2675]\n",
        "[2]\n",
        "[1235]\n",
        "65 [[2675], [2], 1235]\n",
        "66\n",
        "$2259 / 2br   EXPERIENCE ELEGANT FLOOR PLANS THAT OFFER ABUNDANT  STORAGE (fremont / union city / newark)\n",
        "[2259]\n",
        "[2]\n",
        "[]\n",
        "66 [[2259], [2], 0]\n",
        "67"
       ]
      },
      {
       "ename": "ValueError",
       "evalue": "cannot copy sequence with size 4 to array axis with dimension 3",
       "output_type": "pyerr",
       "traceback": [
        "\u001b[0;31m---------------------------------------------------------------------------\u001b[0m\n\u001b[0;31mValueError\u001b[0m                                Traceback (most recent call last)",
        "\u001b[0;32m<ipython-input-69-2df3686b4f3b>\u001b[0m in \u001b[0;36m<module>\u001b[0;34m()\u001b[0m\n\u001b[1;32m     17\u001b[0m         \u001b[0mall_data\u001b[0m \u001b[0;34m=\u001b[0m \u001b[0mrent_beds\u001b[0m \u001b[0;34m+\u001b[0m \u001b[0msft\u001b[0m\u001b[0;34m\u001b[0m\u001b[0m\n\u001b[1;32m     18\u001b[0m         \u001b[0;32mprint\u001b[0m \u001b[0mcount\u001b[0m\u001b[0;34m,\u001b[0m \u001b[0mall_data\u001b[0m\u001b[0;34m\u001b[0m\u001b[0m\n\u001b[0;32m---> 19\u001b[0;31m         \u001b[0mdf\u001b[0m\u001b[0;34m.\u001b[0m\u001b[0mloc\u001b[0m\u001b[0;34m[\u001b[0m\u001b[0mcount\u001b[0m\u001b[0;34m]\u001b[0m \u001b[0;34m=\u001b[0m \u001b[0mall_data\u001b[0m\u001b[0;34m\u001b[0m\u001b[0m\n\u001b[0m\u001b[1;32m     20\u001b[0m         \u001b[0mcount\u001b[0m \u001b[0;34m=\u001b[0m\u001b[0mcount\u001b[0m \u001b[0;34m+\u001b[0m\u001b[0;36m1\u001b[0m\u001b[0;34m\u001b[0m\u001b[0m\n\u001b[1;32m     21\u001b[0m \u001b[0;32mprint\u001b[0m \u001b[0mcount\u001b[0m\u001b[0;34m\u001b[0m\u001b[0m\n",
        "\u001b[0;32m/Users/Prasad/anaconda/lib/python2.7/site-packages/pandas/core/indexing.pyc\u001b[0m in \u001b[0;36m__setitem__\u001b[0;34m(self, key, value)\u001b[0m\n\u001b[1;32m     96\u001b[0m             \u001b[0mindexer\u001b[0m \u001b[0;34m=\u001b[0m \u001b[0mself\u001b[0m\u001b[0;34m.\u001b[0m\u001b[0m_convert_to_indexer\u001b[0m\u001b[0;34m(\u001b[0m\u001b[0mkey\u001b[0m\u001b[0;34m,\u001b[0m \u001b[0mis_setter\u001b[0m\u001b[0;34m=\u001b[0m\u001b[0mTrue\u001b[0m\u001b[0;34m)\u001b[0m\u001b[0;34m\u001b[0m\u001b[0m\n\u001b[1;32m     97\u001b[0m \u001b[0;34m\u001b[0m\u001b[0m\n\u001b[0;32m---> 98\u001b[0;31m         \u001b[0mself\u001b[0m\u001b[0;34m.\u001b[0m\u001b[0m_setitem_with_indexer\u001b[0m\u001b[0;34m(\u001b[0m\u001b[0mindexer\u001b[0m\u001b[0;34m,\u001b[0m \u001b[0mvalue\u001b[0m\u001b[0;34m)\u001b[0m\u001b[0;34m\u001b[0m\u001b[0m\n\u001b[0m\u001b[1;32m     99\u001b[0m \u001b[0;34m\u001b[0m\u001b[0m\n\u001b[1;32m    100\u001b[0m     \u001b[0;32mdef\u001b[0m \u001b[0m_has_valid_type\u001b[0m\u001b[0;34m(\u001b[0m\u001b[0mself\u001b[0m\u001b[0;34m,\u001b[0m \u001b[0mk\u001b[0m\u001b[0;34m,\u001b[0m \u001b[0maxis\u001b[0m\u001b[0;34m)\u001b[0m\u001b[0;34m:\u001b[0m\u001b[0;34m\u001b[0m\u001b[0m\n",
        "\u001b[0;32m/Users/Prasad/anaconda/lib/python2.7/site-packages/pandas/core/indexing.pyc\u001b[0m in \u001b[0;36m_setitem_with_indexer\u001b[0;34m(self, indexer, value)\u001b[0m\n\u001b[1;32m    420\u001b[0m \u001b[0;34m\u001b[0m\u001b[0m\n\u001b[1;32m    421\u001b[0m             \u001b[0;31m# actually do the set\u001b[0m\u001b[0;34m\u001b[0m\u001b[0;34m\u001b[0m\u001b[0m\n\u001b[0;32m--> 422\u001b[0;31m             \u001b[0mself\u001b[0m\u001b[0;34m.\u001b[0m\u001b[0mobj\u001b[0m\u001b[0;34m.\u001b[0m\u001b[0m_data\u001b[0m \u001b[0;34m=\u001b[0m \u001b[0mself\u001b[0m\u001b[0;34m.\u001b[0m\u001b[0mobj\u001b[0m\u001b[0;34m.\u001b[0m\u001b[0m_data\u001b[0m\u001b[0;34m.\u001b[0m\u001b[0msetitem\u001b[0m\u001b[0;34m(\u001b[0m\u001b[0mindexer\u001b[0m\u001b[0;34m,\u001b[0m \u001b[0mvalue\u001b[0m\u001b[0;34m)\u001b[0m\u001b[0;34m\u001b[0m\u001b[0m\n\u001b[0m\u001b[1;32m    423\u001b[0m             \u001b[0mself\u001b[0m\u001b[0;34m.\u001b[0m\u001b[0mobj\u001b[0m\u001b[0;34m.\u001b[0m\u001b[0m_maybe_update_cacher\u001b[0m\u001b[0;34m(\u001b[0m\u001b[0mclear\u001b[0m\u001b[0;34m=\u001b[0m\u001b[0mTrue\u001b[0m\u001b[0;34m)\u001b[0m\u001b[0;34m\u001b[0m\u001b[0m\n\u001b[1;32m    424\u001b[0m \u001b[0;34m\u001b[0m\u001b[0m\n",
        "\u001b[0;32m/Users/Prasad/anaconda/lib/python2.7/site-packages/pandas/core/internals.pyc\u001b[0m in \u001b[0;36msetitem\u001b[0;34m(self, *args, **kwargs)\u001b[0m\n\u001b[1;32m   2393\u001b[0m \u001b[0;34m\u001b[0m\u001b[0m\n\u001b[1;32m   2394\u001b[0m     \u001b[0;32mdef\u001b[0m \u001b[0msetitem\u001b[0m\u001b[0;34m(\u001b[0m\u001b[0mself\u001b[0m\u001b[0;34m,\u001b[0m \u001b[0;34m*\u001b[0m\u001b[0margs\u001b[0m\u001b[0;34m,\u001b[0m \u001b[0;34m**\u001b[0m\u001b[0mkwargs\u001b[0m\u001b[0;34m)\u001b[0m\u001b[0;34m:\u001b[0m\u001b[0;34m\u001b[0m\u001b[0m\n\u001b[0;32m-> 2395\u001b[0;31m         \u001b[0;32mreturn\u001b[0m \u001b[0mself\u001b[0m\u001b[0;34m.\u001b[0m\u001b[0mapply\u001b[0m\u001b[0;34m(\u001b[0m\u001b[0;34m'setitem'\u001b[0m\u001b[0;34m,\u001b[0m \u001b[0;34m*\u001b[0m\u001b[0margs\u001b[0m\u001b[0;34m,\u001b[0m \u001b[0;34m**\u001b[0m\u001b[0mkwargs\u001b[0m\u001b[0;34m)\u001b[0m\u001b[0;34m\u001b[0m\u001b[0m\n\u001b[0m\u001b[1;32m   2396\u001b[0m \u001b[0;34m\u001b[0m\u001b[0m\n\u001b[1;32m   2397\u001b[0m     \u001b[0;32mdef\u001b[0m \u001b[0mputmask\u001b[0m\u001b[0;34m(\u001b[0m\u001b[0mself\u001b[0m\u001b[0;34m,\u001b[0m \u001b[0;34m*\u001b[0m\u001b[0margs\u001b[0m\u001b[0;34m,\u001b[0m \u001b[0;34m**\u001b[0m\u001b[0mkwargs\u001b[0m\u001b[0;34m)\u001b[0m\u001b[0;34m:\u001b[0m\u001b[0;34m\u001b[0m\u001b[0m\n",
        "\u001b[0;32m/Users/Prasad/anaconda/lib/python2.7/site-packages/pandas/core/internals.pyc\u001b[0m in \u001b[0;36mapply\u001b[0;34m(self, f, *args, **kwargs)\u001b[0m\n\u001b[1;32m   2373\u001b[0m \u001b[0;34m\u001b[0m\u001b[0m\n\u001b[1;32m   2374\u001b[0m             \u001b[0;32melse\u001b[0m\u001b[0;34m:\u001b[0m\u001b[0;34m\u001b[0m\u001b[0m\n\u001b[0;32m-> 2375\u001b[0;31m                 \u001b[0mapplied\u001b[0m \u001b[0;34m=\u001b[0m \u001b[0mgetattr\u001b[0m\u001b[0;34m(\u001b[0m\u001b[0mblk\u001b[0m\u001b[0;34m,\u001b[0m \u001b[0mf\u001b[0m\u001b[0;34m)\u001b[0m\u001b[0;34m(\u001b[0m\u001b[0;34m*\u001b[0m\u001b[0margs\u001b[0m\u001b[0;34m,\u001b[0m \u001b[0;34m**\u001b[0m\u001b[0mkwargs\u001b[0m\u001b[0;34m)\u001b[0m\u001b[0;34m\u001b[0m\u001b[0m\n\u001b[0m\u001b[1;32m   2376\u001b[0m \u001b[0;34m\u001b[0m\u001b[0m\n\u001b[1;32m   2377\u001b[0m             \u001b[0;32mif\u001b[0m \u001b[0misinstance\u001b[0m\u001b[0;34m(\u001b[0m\u001b[0mapplied\u001b[0m\u001b[0;34m,\u001b[0m \u001b[0mlist\u001b[0m\u001b[0;34m)\u001b[0m\u001b[0;34m:\u001b[0m\u001b[0;34m\u001b[0m\u001b[0m\n",
        "\u001b[0;32m/Users/Prasad/anaconda/lib/python2.7/site-packages/pandas/core/internals.pyc\u001b[0m in \u001b[0;36msetitem\u001b[0;34m(self, indexer, value)\u001b[0m\n\u001b[1;32m    646\u001b[0m                 \u001b[0mdtype\u001b[0m \u001b[0;34m=\u001b[0m \u001b[0;34m'infer'\u001b[0m\u001b[0;34m\u001b[0m\u001b[0m\n\u001b[1;32m    647\u001b[0m             \u001b[0mvalues\u001b[0m \u001b[0;34m=\u001b[0m \u001b[0mself\u001b[0m\u001b[0;34m.\u001b[0m\u001b[0m_try_coerce_result\u001b[0m\u001b[0;34m(\u001b[0m\u001b[0mvalues\u001b[0m\u001b[0;34m)\u001b[0m\u001b[0;34m\u001b[0m\u001b[0m\n\u001b[0;32m--> 648\u001b[0;31m             \u001b[0mvalues\u001b[0m \u001b[0;34m=\u001b[0m \u001b[0mself\u001b[0m\u001b[0;34m.\u001b[0m\u001b[0m_try_cast_result\u001b[0m\u001b[0;34m(\u001b[0m\u001b[0mvalues\u001b[0m\u001b[0;34m,\u001b[0m \u001b[0mdtype\u001b[0m\u001b[0;34m)\u001b[0m\u001b[0;34m\u001b[0m\u001b[0m\n\u001b[0m\u001b[1;32m    649\u001b[0m             return [make_block(transf(values), self.items, self.ref_items,\n\u001b[1;32m    650\u001b[0m                                ndim=self.ndim, fastpath=True)]\n",
        "\u001b[0;32m/Users/Prasad/anaconda/lib/python2.7/site-packages/pandas/core/internals.pyc\u001b[0m in \u001b[0;36m_try_cast_result\u001b[0;34m(self, result, dtype)\u001b[0m\n\u001b[1;32m    528\u001b[0m \u001b[0;34m\u001b[0m\u001b[0m\n\u001b[1;32m    529\u001b[0m         \u001b[0;31m# may need to change the dtype here\u001b[0m\u001b[0;34m\u001b[0m\u001b[0;34m\u001b[0m\u001b[0m\n\u001b[0;32m--> 530\u001b[0;31m         \u001b[0;32mreturn\u001b[0m \u001b[0m_possibly_downcast_to_dtype\u001b[0m\u001b[0;34m(\u001b[0m\u001b[0mresult\u001b[0m\u001b[0;34m,\u001b[0m \u001b[0mdtype\u001b[0m\u001b[0;34m)\u001b[0m\u001b[0;34m\u001b[0m\u001b[0m\n\u001b[0m\u001b[1;32m    531\u001b[0m \u001b[0;34m\u001b[0m\u001b[0m\n\u001b[1;32m    532\u001b[0m     \u001b[0;32mdef\u001b[0m \u001b[0m_try_operate\u001b[0m\u001b[0;34m(\u001b[0m\u001b[0mself\u001b[0m\u001b[0;34m,\u001b[0m \u001b[0mvalues\u001b[0m\u001b[0;34m)\u001b[0m\u001b[0;34m:\u001b[0m\u001b[0;34m\u001b[0m\u001b[0m\n",
        "\u001b[0;32m/Users/Prasad/anaconda/lib/python2.7/site-packages/pandas/core/common.pyc\u001b[0m in \u001b[0;36m_possibly_downcast_to_dtype\u001b[0;34m(result, dtype)\u001b[0m\n\u001b[1;32m   1083\u001b[0m     \u001b[0;32mif\u001b[0m \u001b[0misinstance\u001b[0m\u001b[0;34m(\u001b[0m\u001b[0mdtype\u001b[0m\u001b[0;34m,\u001b[0m \u001b[0mcompat\u001b[0m\u001b[0;34m.\u001b[0m\u001b[0mstring_types\u001b[0m\u001b[0;34m)\u001b[0m\u001b[0;34m:\u001b[0m\u001b[0;34m\u001b[0m\u001b[0m\n\u001b[1;32m   1084\u001b[0m         \u001b[0;32mif\u001b[0m \u001b[0mdtype\u001b[0m \u001b[0;34m==\u001b[0m \u001b[0;34m'infer'\u001b[0m\u001b[0;34m:\u001b[0m\u001b[0;34m\u001b[0m\u001b[0m\n\u001b[0;32m-> 1085\u001b[0;31m             \u001b[0minferred_type\u001b[0m \u001b[0;34m=\u001b[0m \u001b[0mlib\u001b[0m\u001b[0;34m.\u001b[0m\u001b[0minfer_dtype\u001b[0m\u001b[0;34m(\u001b[0m\u001b[0m_ensure_object\u001b[0m\u001b[0;34m(\u001b[0m\u001b[0mresult\u001b[0m\u001b[0;34m.\u001b[0m\u001b[0mravel\u001b[0m\u001b[0;34m(\u001b[0m\u001b[0;34m)\u001b[0m\u001b[0;34m)\u001b[0m\u001b[0;34m)\u001b[0m\u001b[0;34m\u001b[0m\u001b[0m\n\u001b[0m\u001b[1;32m   1086\u001b[0m             \u001b[0;32mif\u001b[0m \u001b[0minferred_type\u001b[0m \u001b[0;34m==\u001b[0m \u001b[0;34m'boolean'\u001b[0m\u001b[0;34m:\u001b[0m\u001b[0;34m\u001b[0m\u001b[0m\n\u001b[1;32m   1087\u001b[0m                 \u001b[0mdtype\u001b[0m \u001b[0;34m=\u001b[0m \u001b[0;34m'bool'\u001b[0m\u001b[0;34m\u001b[0m\u001b[0m\n",
        "\u001b[0;31mValueError\u001b[0m: cannot copy sequence with size 4 to array axis with dimension 3"
       ]
      },
      {
       "output_type": "stream",
       "stream": "stdout",
       "text": [
        "\n",
        "$2499 / 2br   982ft\u00b2 \n",
        "[2499]\n",
        "[2]\n",
        "[982]\n",
        "67 [[2499], [2], 982]\n",
        "68\n",
        "$2900 / 4br   1822ft\u00b2 \n",
        "[2900]\n",
        "[4]\n",
        "[1822]\n",
        "68 [[2900], [4], 1822]\n",
        "69\n",
        "$1950 / 2br   Newly Remodeled 2 bedroom 1 Bath Apartment for Rent (fremont / union city / newark)\n",
        "[1950]\n",
        "[2]\n",
        "[2, 1]\n",
        "69 [[1950], [2], 2, 1]\n"
       ]
      }
     ],
     "prompt_number": 69
    },
    {
     "cell_type": "code",
     "collapsed": false,
     "input": [
      "df"
     ],
     "language": "python",
     "metadata": {},
     "outputs": [
      {
       "html": [
        "<div style=\"max-height:1000px;max-width:1500px;overflow:auto;\">\n",
        "<table border=\"1\" class=\"dataframe\">\n",
        "  <thead>\n",
        "    <tr style=\"text-align: right;\">\n",
        "      <th></th>\n",
        "      <th>rent</th>\n",
        "      <th>beds</th>\n",
        "      <th>sft</th>\n",
        "    </tr>\n",
        "  </thead>\n",
        "  <tbody>\n",
        "    <tr>\n",
        "      <th>0 </th>\n",
        "      <td>    [2000]</td>\n",
        "      <td> [3]</td>\n",
        "      <td> 1150</td>\n",
        "    </tr>\n",
        "    <tr>\n",
        "      <th>1 </th>\n",
        "      <td>    [1745]</td>\n",
        "      <td> [1]</td>\n",
        "      <td>  520</td>\n",
        "    </tr>\n",
        "    <tr>\n",
        "      <th>2 </th>\n",
        "      <td>    [2850]</td>\n",
        "      <td> [3]</td>\n",
        "      <td> 1400</td>\n",
        "    </tr>\n",
        "    <tr>\n",
        "      <th>3 </th>\n",
        "      <td>    [3000]</td>\n",
        "      <td> [4]</td>\n",
        "      <td> 1970</td>\n",
        "    </tr>\n",
        "    <tr>\n",
        "      <th>4 </th>\n",
        "      <td>    [2800]</td>\n",
        "      <td> [3]</td>\n",
        "      <td> 1600</td>\n",
        "    </tr>\n",
        "    <tr>\n",
        "      <th>5 </th>\n",
        "      <td>    [1705]</td>\n",
        "      <td> [1]</td>\n",
        "      <td>  650</td>\n",
        "    </tr>\n",
        "    <tr>\n",
        "      <th>6 </th>\n",
        "      <td>    [2774]</td>\n",
        "      <td> [2]</td>\n",
        "      <td> 1147</td>\n",
        "    </tr>\n",
        "    <tr>\n",
        "      <th>7 </th>\n",
        "      <td>    [2600]</td>\n",
        "      <td> [4]</td>\n",
        "      <td> 1321</td>\n",
        "    </tr>\n",
        "    <tr>\n",
        "      <th>8 </th>\n",
        "      <td>    [1700]</td>\n",
        "      <td> [2]</td>\n",
        "      <td>  875</td>\n",
        "    </tr>\n",
        "    <tr>\n",
        "      <th>9 </th>\n",
        "      <td>    [1795]</td>\n",
        "      <td> [1]</td>\n",
        "      <td>  527</td>\n",
        "    </tr>\n",
        "    <tr>\n",
        "      <th>10</th>\n",
        "      <td>    [2050]</td>\n",
        "      <td> [2]</td>\n",
        "      <td>  895</td>\n",
        "    </tr>\n",
        "    <tr>\n",
        "      <th>11</th>\n",
        "      <td>    [2300]</td>\n",
        "      <td> [3]</td>\n",
        "      <td> 1214</td>\n",
        "    </tr>\n",
        "    <tr>\n",
        "      <th>12</th>\n",
        "      <td>    [2315]</td>\n",
        "      <td> [2]</td>\n",
        "      <td>  862</td>\n",
        "    </tr>\n",
        "    <tr>\n",
        "      <th>13</th>\n",
        "      <td>    [1795]</td>\n",
        "      <td> [1]</td>\n",
        "      <td>  527</td>\n",
        "    </tr>\n",
        "    <tr>\n",
        "      <th>14</th>\n",
        "      <td>    [1845]</td>\n",
        "      <td> [1]</td>\n",
        "      <td>  650</td>\n",
        "    </tr>\n",
        "    <tr>\n",
        "      <th>15</th>\n",
        "      <td>    [1795]</td>\n",
        "      <td> [1]</td>\n",
        "      <td>  527</td>\n",
        "    </tr>\n",
        "    <tr>\n",
        "      <th>16</th>\n",
        "      <td>    [2528]</td>\n",
        "      <td> [2]</td>\n",
        "      <td> 1108</td>\n",
        "    </tr>\n",
        "    <tr>\n",
        "      <th>17</th>\n",
        "      <td>    [2394]</td>\n",
        "      <td> [2]</td>\n",
        "      <td>  985</td>\n",
        "    </tr>\n",
        "    <tr>\n",
        "      <th>18</th>\n",
        "      <td>    [1974]</td>\n",
        "      <td> [1]</td>\n",
        "      <td>  704</td>\n",
        "    </tr>\n",
        "    <tr>\n",
        "      <th>19</th>\n",
        "      <td>    [2900]</td>\n",
        "      <td> [3]</td>\n",
        "      <td> 1472</td>\n",
        "    </tr>\n",
        "    <tr>\n",
        "      <th>20</th>\n",
        "      <td>    [2299]</td>\n",
        "      <td> [2]</td>\n",
        "      <td>    0</td>\n",
        "    </tr>\n",
        "    <tr>\n",
        "      <th>21</th>\n",
        "      <td>    [1799]</td>\n",
        "      <td> [1]</td>\n",
        "      <td>  565</td>\n",
        "    </tr>\n",
        "    <tr>\n",
        "      <th>22</th>\n",
        "      <td>    [2489]</td>\n",
        "      <td> [2]</td>\n",
        "      <td>  982</td>\n",
        "    </tr>\n",
        "    <tr>\n",
        "      <th>23</th>\n",
        "      <td>    [2900]</td>\n",
        "      <td> [3]</td>\n",
        "      <td> 1472</td>\n",
        "    </tr>\n",
        "    <tr>\n",
        "      <th>24</th>\n",
        "      <td>    [1850]</td>\n",
        "      <td> [2]</td>\n",
        "      <td>  650</td>\n",
        "    </tr>\n",
        "    <tr>\n",
        "      <th>25</th>\n",
        "      <td>    [1795]</td>\n",
        "      <td> [1]</td>\n",
        "      <td>  527</td>\n",
        "    </tr>\n",
        "    <tr>\n",
        "      <th>26</th>\n",
        "      <td>    [2350]</td>\n",
        "      <td> [2]</td>\n",
        "      <td> 1053</td>\n",
        "    </tr>\n",
        "    <tr>\n",
        "      <th>27</th>\n",
        "      <td>    [1799]</td>\n",
        "      <td> [1]</td>\n",
        "      <td>  565</td>\n",
        "    </tr>\n",
        "    <tr>\n",
        "      <th>28</th>\n",
        "      <td>    [1710]</td>\n",
        "      <td> [1]</td>\n",
        "      <td>  650</td>\n",
        "    </tr>\n",
        "    <tr>\n",
        "      <th>29</th>\n",
        "      <td>    [1765]</td>\n",
        "      <td> [1]</td>\n",
        "      <td>  760</td>\n",
        "    </tr>\n",
        "    <tr>\n",
        "      <th>30</th>\n",
        "      <td>    [2259]</td>\n",
        "      <td> [2]</td>\n",
        "      <td>    0</td>\n",
        "    </tr>\n",
        "    <tr>\n",
        "      <th>31</th>\n",
        "      <td>    [2000]</td>\n",
        "      <td> [1]</td>\n",
        "      <td>  701</td>\n",
        "    </tr>\n",
        "    <tr>\n",
        "      <th>32</th>\n",
        "      <td>    [1795]</td>\n",
        "      <td> [1]</td>\n",
        "      <td>  527</td>\n",
        "    </tr>\n",
        "    <tr>\n",
        "      <th>33</th>\n",
        "      <td>    [2145]</td>\n",
        "      <td> [2]</td>\n",
        "      <td> 1018</td>\n",
        "    </tr>\n",
        "    <tr>\n",
        "      <th>34</th>\n",
        "      <td>    [1780]</td>\n",
        "      <td> [1]</td>\n",
        "      <td>    0</td>\n",
        "    </tr>\n",
        "    <tr>\n",
        "      <th>35</th>\n",
        "      <td>    [1971]</td>\n",
        "      <td> [1]</td>\n",
        "      <td>  600</td>\n",
        "    </tr>\n",
        "    <tr>\n",
        "      <th>36</th>\n",
        "      <td>    [2700]</td>\n",
        "      <td> [4]</td>\n",
        "      <td> 1720</td>\n",
        "    </tr>\n",
        "    <tr>\n",
        "      <th>37</th>\n",
        "      <td>    [3200]</td>\n",
        "      <td> [4]</td>\n",
        "      <td> 2317</td>\n",
        "    </tr>\n",
        "    <tr>\n",
        "      <th>38</th>\n",
        "      <td>    [2550]</td>\n",
        "      <td> [3]</td>\n",
        "      <td> 1200</td>\n",
        "    </tr>\n",
        "    <tr>\n",
        "      <th>39</th>\n",
        "      <td>    [2515]</td>\n",
        "      <td> [2]</td>\n",
        "      <td>  961</td>\n",
        "    </tr>\n",
        "    <tr>\n",
        "      <th>40</th>\n",
        "      <td>    [2750]</td>\n",
        "      <td> [3]</td>\n",
        "      <td> 1547</td>\n",
        "    </tr>\n",
        "    <tr>\n",
        "      <th>41</th>\n",
        "      <td>    [2012]</td>\n",
        "      <td> [1]</td>\n",
        "      <td>  747</td>\n",
        "    </tr>\n",
        "    <tr>\n",
        "      <th>42</th>\n",
        "      <td>    [2097]</td>\n",
        "      <td> [1]</td>\n",
        "      <td>  720</td>\n",
        "    </tr>\n",
        "    <tr>\n",
        "      <th>43</th>\n",
        "      <td>    [2250]</td>\n",
        "      <td> [4]</td>\n",
        "      <td> 1450</td>\n",
        "    </tr>\n",
        "    <tr>\n",
        "      <th>44</th>\n",
        "      <td>    [3333]</td>\n",
        "      <td> [4]</td>\n",
        "      <td> 1750</td>\n",
        "    </tr>\n",
        "    <tr>\n",
        "      <th>45</th>\n",
        "      <td>    [1780]</td>\n",
        "      <td> [1]</td>\n",
        "      <td>    0</td>\n",
        "    </tr>\n",
        "    <tr>\n",
        "      <th>46</th>\n",
        "      <td>    [2221]</td>\n",
        "      <td> [1]</td>\n",
        "      <td>  775</td>\n",
        "    </tr>\n",
        "    <tr>\n",
        "      <th>47</th>\n",
        "      <td>    [2292]</td>\n",
        "      <td> [1]</td>\n",
        "      <td>  877</td>\n",
        "    </tr>\n",
        "    <tr>\n",
        "      <th>48</th>\n",
        "      <td>    [2900]</td>\n",
        "      <td> [3]</td>\n",
        "      <td> 1700</td>\n",
        "    </tr>\n",
        "    <tr>\n",
        "      <th>49</th>\n",
        "      <td>    [2084]</td>\n",
        "      <td> [2]</td>\n",
        "      <td>    0</td>\n",
        "    </tr>\n",
        "    <tr>\n",
        "      <th>50</th>\n",
        "      <td>    [2350]</td>\n",
        "      <td> [2]</td>\n",
        "      <td>  850</td>\n",
        "    </tr>\n",
        "    <tr>\n",
        "      <th>51</th>\n",
        "      <td>    [1625]</td>\n",
        "      <td> [1]</td>\n",
        "      <td>  630</td>\n",
        "    </tr>\n",
        "    <tr>\n",
        "      <th>52</th>\n",
        "      <td> [1350, 1]</td>\n",
        "      <td> [1]</td>\n",
        "      <td>    0</td>\n",
        "    </tr>\n",
        "    <tr>\n",
        "      <th>53</th>\n",
        "      <td>    [2075]</td>\n",
        "      <td> [2]</td>\n",
        "      <td>    0</td>\n",
        "    </tr>\n",
        "    <tr>\n",
        "      <th>54</th>\n",
        "      <td>    [2500]</td>\n",
        "      <td> [3]</td>\n",
        "      <td> 1448</td>\n",
        "    </tr>\n",
        "    <tr>\n",
        "      <th>55</th>\n",
        "      <td>    [2725]</td>\n",
        "      <td> [3]</td>\n",
        "      <td> 1375</td>\n",
        "    </tr>\n",
        "    <tr>\n",
        "      <th>56</th>\n",
        "      <td>    [2267]</td>\n",
        "      <td> [2]</td>\n",
        "      <td>  850</td>\n",
        "    </tr>\n",
        "    <tr>\n",
        "      <th>57</th>\n",
        "      <td>    [2750]</td>\n",
        "      <td> [4]</td>\n",
        "      <td> 1850</td>\n",
        "    </tr>\n",
        "    <tr>\n",
        "      <th>58</th>\n",
        "      <td>    [2259]</td>\n",
        "      <td> [2]</td>\n",
        "      <td>    0</td>\n",
        "    </tr>\n",
        "    <tr>\n",
        "      <th>59</th>\n",
        "      <td>    [2550]</td>\n",
        "      <td> [3]</td>\n",
        "      <td> 1200</td>\n",
        "    </tr>\n",
        "    <tr>\n",
        "      <th></th>\n",
        "      <td>...</td>\n",
        "      <td>...</td>\n",
        "      <td>...</td>\n",
        "    </tr>\n",
        "  </tbody>\n",
        "</table>\n",
        "<p>524 rows \u00d7 3 columns</p>\n",
        "</div>"
       ],
       "metadata": {},
       "output_type": "pyout",
       "prompt_number": 60,
       "text": [
        "         rent beds   sft\n",
        "0      [2000]  [3]  1150\n",
        "1      [1745]  [1]   520\n",
        "2      [2850]  [3]  1400\n",
        "3      [3000]  [4]  1970\n",
        "4      [2800]  [3]  1600\n",
        "5      [1705]  [1]   650\n",
        "6      [2774]  [2]  1147\n",
        "7      [2600]  [4]  1321\n",
        "8      [1700]  [2]   875\n",
        "9      [1795]  [1]   527\n",
        "10     [2050]  [2]   895\n",
        "11     [2300]  [3]  1214\n",
        "12     [2315]  [2]   862\n",
        "13     [1795]  [1]   527\n",
        "14     [1845]  [1]   650\n",
        "15     [1795]  [1]   527\n",
        "16     [2528]  [2]  1108\n",
        "17     [2394]  [2]   985\n",
        "18     [1974]  [1]   704\n",
        "19     [2900]  [3]  1472\n",
        "20     [2299]  [2]     0\n",
        "21     [1799]  [1]   565\n",
        "22     [2489]  [2]   982\n",
        "23     [2900]  [3]  1472\n",
        "24     [1850]  [2]   650\n",
        "25     [1795]  [1]   527\n",
        "26     [2350]  [2]  1053\n",
        "27     [1799]  [1]   565\n",
        "28     [1710]  [1]   650\n",
        "29     [1765]  [1]   760\n",
        "30     [2259]  [2]     0\n",
        "31     [2000]  [1]   701\n",
        "32     [1795]  [1]   527\n",
        "33     [2145]  [2]  1018\n",
        "34     [1780]  [1]     0\n",
        "35     [1971]  [1]   600\n",
        "36     [2700]  [4]  1720\n",
        "37     [3200]  [4]  2317\n",
        "38     [2550]  [3]  1200\n",
        "39     [2515]  [2]   961\n",
        "40     [2750]  [3]  1547\n",
        "41     [2012]  [1]   747\n",
        "42     [2097]  [1]   720\n",
        "43     [2250]  [4]  1450\n",
        "44     [3333]  [4]  1750\n",
        "45     [1780]  [1]     0\n",
        "46     [2221]  [1]   775\n",
        "47     [2292]  [1]   877\n",
        "48     [2900]  [3]  1700\n",
        "49     [2084]  [2]     0\n",
        "50     [2350]  [2]   850\n",
        "51     [1625]  [1]   630\n",
        "52  [1350, 1]  [1]     0\n",
        "53     [2075]  [2]     0\n",
        "54     [2500]  [3]  1448\n",
        "55     [2725]  [3]  1375\n",
        "56     [2267]  [2]   850\n",
        "57     [2750]  [4]  1850\n",
        "58     [2259]  [2]     0\n",
        "59     [2550]  [3]  1200\n",
        "          ...  ...   ...\n",
        "\n",
        "[524 rows x 3 columns]"
       ]
      }
     ],
     "prompt_number": 60
    }
   ],
   "metadata": {}
  }
 ]
}