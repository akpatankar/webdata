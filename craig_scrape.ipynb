{
 "metadata": {
  "name": ""
 },
 "nbformat": 3,
 "nbformat_minor": 0,
 "worksheets": [
  {
   "cells": [
    {
     "cell_type": "code",
     "collapsed": false,
     "input": [
      "import pandas as pd\n",
      "import numpy as np\n",
      "import pymongo\n",
      "from bs4 import BeautifulSoup\n",
      "import requests as r\n",
      "import re\n",
      "import pdb"
     ],
     "language": "python",
     "metadata": {},
     "outputs": [],
     "prompt_number": 1
    },
    {
     "cell_type": "code",
     "collapsed": false,
     "input": [
      "start_page = \"http://sfbay.craigslist.org/search/eby/apa?nh=54&sale_date=-\"\n",
      "#craig = r.get(start_page)\n",
      "next_page = \"http://sfbay.craigslist.org/search/eby/apa?s=100&nh=54&\"\n",
      "num_posts = [\"100\",\"200\",\"300\",\"400\"]\n",
      "all_pages = []\n",
      "all_pages.append(start_page)\n",
      "for post in num_posts:\n",
      "    next_u = next_page.replace(\"100\", post)\n",
      "    all_pages.append(next_u)"
     ],
     "language": "python",
     "metadata": {},
     "outputs": [],
     "prompt_number": 2
    },
    {
     "cell_type": "code",
     "collapsed": false,
     "input": [
      "all_pages"
     ],
     "language": "python",
     "metadata": {},
     "outputs": [
      {
       "metadata": {},
       "output_type": "pyout",
       "prompt_number": 3,
       "text": [
        "['http://sfbay.craigslist.org/search/eby/apa?nh=54&sale_date=-',\n",
        " 'http://sfbay.craigslist.org/search/eby/apa?s=100&nh=54&',\n",
        " 'http://sfbay.craigslist.org/search/eby/apa?s=200&nh=54&',\n",
        " 'http://sfbay.craigslist.org/search/eby/apa?s=300&nh=54&',\n",
        " 'http://sfbay.craigslist.org/search/eby/apa?s=400&nh=54&']"
       ]
      }
     ],
     "prompt_number": 3
    },
    {
     "cell_type": "code",
     "collapsed": false,
     "input": [
      "urls = []\n",
      "\n",
      "for page in all_pages:\n",
      "    craig = r.get(page)\n",
      "    craig.json\n",
      "    craig.content\n",
      "    soup = BeautifulSoup(craig.content)\n",
      "    for i in soup.find_all('a'):\n",
      "        print i\n",
      "        suburl = i.get('href').encode('utf-8')\n",
      "        urls.append(suburl)"
     ],
     "language": "python",
     "metadata": {},
     "outputs": [
      {
       "output_type": "stream",
       "stream": "stdout",
       "text": [
        "<a href=\"/\">SF bay area</a>\n",
        "<a href=\"/search/hhh\">housing</a>\n",
        "<a href=\"/search/apa\">apts/housing for rent</a>\n",
        "<a href=\"https://post.craigslist.org/c/sfo?lang=en\">post</a>\n",
        "<a href=\"https://accounts.craigslist.org/login/home\">account</a>\n",
        "<a class=\"favlink\" href=\"#\"><span class=\"n\">0</span> favorites</a>\n",
        "<a class=\"saveme\" href=\"https://accounts.craigslist.org/login?rt=L&amp;rp=%2Fsavesearch%2Falert%3FURL%3Dhttp%253A%252F%252Fsfbay%252Ecraigslist%252Eorg%252Fsearch%252Feby%252Fapa%253Fnh%253D54%2526sale%255Fdate%253D%252D\" title=\"save this search with email alerts\">alert</a>\n",
        "<a class=\"saveme\" href=\"https://accounts.craigslist.org/login?rt=L&amp;rp=%2Fsavesearch%2Fsave%3FURL%3Dhttp%253A%252F%252Fsfbay%252Ecraigslist%252Eorg%252Fsearch%252Feby%252Fapa%253Fnh%253D54%2526sale%255Fdate%253D%252D\" title=\"save this search\">save</a>\n",
        "<a class=\"category\" href=\"/search/eby/apa?nh=54&amp;sale_date=-\">apts/housing for rent</a>\n",
        "<a class=\"category\" href=\"/search/eby/rea?nh=54&amp;sale_date=-\">real estate for sale</a>\n",
        "<a class=\"category\" href=\"/search/eby/roo?nh=54&amp;sale_date=-\">rooms &amp; shares</a>\n",
        "<a class=\"category\" href=\"/search/eby/off?nh=54&amp;sale_date=-\">office &amp; commercial</a>\n",
        "<a class=\"category\" href=\"/search/eby/sha?nh=54&amp;sale_date=-\">room/share wanted</a>\n",
        "<a class=\"category\" href=\"/search/eby/hou?nh=54&amp;sale_date=-\">apts wanted</a>\n",
        "<a class=\"category\" href=\"/search/eby/sub?nh=54&amp;sale_date=-\">sublets &amp; temporary</a>\n",
        "<a class=\"category\" href=\"/search/eby/prk?nh=54&amp;sale_date=-\">parking &amp; storage</a>\n",
        "<a class=\"category\" href=\"/search/eby/rew?nh=54&amp;sale_date=-\">real estate wanted</a>\n",
        "<a class=\"category\" href=\"/search/eby/vac?nh=54&amp;sale_date=-\">vacation rentals</a>\n",
        "<a class=\"category\" href=\"/search/eby/swp?nh=54&amp;sale_date=-\">housing swap</a>\n",
        "<a class=\"category\" href=\"/search/eby/sbw?nh=54&amp;sale_date=-\">sublet/temp wanted</a>\n",
        "<a class=\"mode button\" data-view=\"list\" href=\"#list\" id=\"listview\" title=\"show results in a list\">list</a>\n",
        "<a class=\"mode button\" data-view=\"pic\" href=\"#pic\" id=\"picview\" title=\"show results in a list with thumbnail pictures\">thumb</a>\n",
        "<a class=\"mode button\" data-view=\"grid\" href=\"#grid\" id=\"gridview\" title=\"show results side-by-side with larger pictures\">gallery</a>\n",
        "<a class=\"mode button\" data-view=\"map\" href=\"#map\" id=\"mapview\" title=\"show results on a map\">map</a>\n",
        "<a class=\"button\" href=\"/search/eby/apa?sort=priceasc&amp;nh=54&amp;sale_date=-\" title=\"sort by price, lowest to highest\"><span class=\"pricesort\"><span class=\"pricesort\">$</span>$</span>$</a>\n",
        "<a class=\"button\" href=\"/search/eby/apa?sort=pricedsc&amp;nh=54&amp;sale_date=-\" title=\"sort by price, highest to lowest\">$<span class=\"pricesort\">$<span class=\"pricesort\">$</span></span></a>\n",
        "<a class=\"button next\" href=\"/search/eby/apa?s=100&amp;nh=54&amp;sale_date=-\" title=\"next page\"> next &gt; </a>\n",
        "<a class=\"i\" data-id=\"0:01717_iWb56Z01em9\" href=\"/eby/apa/4721382446.html\"></a>\n",
        "<a class=\"hdrlnk\" data-id=\"4721382446\" href=\"/eby/apa/4721382446.html\">BEAUTIFUL Parkmont Home 4BR/2BA - SUNDAY OPEN HOUSE!</a>\n",
        "<a class=\"i\" data-id=\"0:00g0g_6PUVlIlPebG\" href=\"/eby/apa/4721372533.html\"></a>\n",
        "<a class=\"hdrlnk\" data-id=\"4721372533\" href=\"/eby/apa/4721372533.html\">Newark Townhome for Rent</a>\n",
        "<a class=\"i\" data-id=\"0:01010_geIBKnvZUmz\" href=\"/eby/apa/4715766018.html\"></a>\n",
        "<a class=\"hdrlnk\" data-id=\"4715766018\" href=\"/eby/apa/4715766018.html\">Remodeled 4 BD 2.5 BA Mission San Jose beautiful Fremont Home for Rent</a>\n",
        "<a class=\"i\" href=\"/eby/apa/4721340098.html\"></a>\n",
        "<a class=\"hdrlnk\" data-id=\"4721340098\" href=\"/eby/apa/4721340098.html\">Condo for Rent in Fremont 3BR 2B</a>\n",
        "<a class=\"i\" data-id=\"0:00m0m_kr7THWbNbz9\" href=\"/eby/apa/4708627612.html\"></a>\n",
        "<a class=\"hdrlnk\" data-id=\"4708627612\" href=\"/eby/apa/4708627612.html\">** \u8c6a\u5b85! \u8c6a\u534e\u5bb6\u79c1\u914d\u5957\u9f50</a>\n",
        "<a class=\"i\" data-id=\"0:00A0A_fKHrew86YFB\" href=\"/eby/apa/4721286965.html\"></a>\n",
        "<a class=\"hdrlnk\" data-id=\"4721286965\" href=\"/eby/apa/4721286965.html\">3Bd/2Baths Single Family Home - Schedule Your Appointment</a>\n",
        "<a class=\"i\" data-id=\"0:00I0I_3pkoZq2tIzT\" href=\"/eby/apa/4721291281.html\"></a>\n",
        "<a class=\"hdrlnk\" data-id=\"4721291281\" href=\"/eby/apa/4721291281.html\">Mission San Jose (mission sanjose) Home for Rent</a>\n",
        "<a class=\"i\" data-id=\"0:00I0I_67AKdyT04mh\" href=\"/eby/apa/4721226891.html\"></a>\n",
        "<a class=\"hdrlnk\" data-id=\"4721226891\" href=\"/eby/apa/4721226891.html\">\u25d8CLOSE AND CONVENIENT FOR YOUR LIFESTYLE\u25d8</a>\n",
        "<a class=\"i\" data-id=\"0:00l0l_8AhEDw3gy8a\" href=\"/eby/apa/4721213598.html\"></a>\n",
        "<a class=\"hdrlnk\" data-id=\"4721213598\" href=\"/eby/apa/4721213598.html\">Available Soon! Perfect Location! 2 BR &amp; 2 BA!</a>\n",
        "<a class=\"i\" href=\"/eby/apa/4721137029.html\"></a>\n",
        "<a class=\"hdrlnk\" data-id=\"4721137029\" href=\"/eby/apa/4721137029.html\">*Carriage House* Gated Community in a Quiet and Friendly Neighborhood!</a>\n",
        "<a class=\"i\" data-id=\"0:00D0D_jEs3oanwGyj\" href=\"/eby/apa/4721186944.html\"></a>\n",
        "<a class=\"hdrlnk\" data-id=\"4721186944\" href=\"/eby/apa/4721186944.html\">RESORT LIVING IN A SERENE PARK SETTING </a>\n",
        "<a class=\"i\" data-id=\"0:01313_c1wzPQsLjoO\" href=\"/eby/apa/4721161562.html\"></a>\n",
        "<a class=\"hdrlnk\" data-id=\"4721161562\" href=\"/eby/apa/4721161562.html\">3BD/2BA Apartment with Quartz Countertops</a>\n",
        "<a class=\"i\" data-id=\"0:00a0a_f0C3pednWPm\" href=\"/eby/apa/4721146778.html\"></a>\n",
        "<a class=\"hdrlnk\" data-id=\"4721146778\" href=\"/eby/apa/4721146778.html\">2nd floor 2 bedroom with 2 car garage</a>\n",
        "<a class=\"i\" href=\"/eby/apa/4721161340.html\"></a>\n",
        "<a class=\"hdrlnk\" data-id=\"4721161340\" href=\"/eby/apa/4721161340.html\">3 bedroom 2 bath for rent in Fremont  </a>\n",
        "<a class=\"i\" data-id=\"0:00000_gyo2SBM8CdN\" href=\"/eby/apa/4721162176.html\"></a>\n",
        "<a class=\"hdrlnk\" data-id=\"4721162176\" href=\"/eby/apa/4721162176.html\">Sit Back and Relax In This Wonderful Two Bedroom!</a>\n",
        "<a class=\"i\" data-id=\"0:00000_1UDJTn31oHZ\" href=\"/eby/apa/4721134568.html\"></a>\n",
        "<a class=\"hdrlnk\" data-id=\"4721134568\" href=\"/eby/apa/4721134568.html\">Get ready for December! One bedroom with storage available!</a>\n",
        "<a class=\"i\" data-id=\"0:00J0J_2mMhLX49xUG\" href=\"/eby/apa/4721157794.html\"></a>\n",
        "<a class=\"hdrlnk\" data-id=\"4721157794\" href=\"/eby/apa/4721157794.html\">Come take a look Upgraded and next to shopping</a>\n",
        "<a class=\"i\" data-id=\"0:01717_kaEC0mzOMq\" href=\"/eby/apa/4721115804.html\"></a>\n",
        "<a class=\"hdrlnk\" data-id=\"4721115804\" href=\"/eby/apa/4721115804.html\">Views of Alameda Creek and Rolling Hills 1 Bed/1 Bath!</a>\n",
        "<a class=\"i\" data-id=\"0:01414_4SpX7dxY3vo\" href=\"/eby/apa/4721152536.html\"></a>\n",
        "<a class=\"hdrlnk\" data-id=\"4721152536\" href=\"/eby/apa/4721152536.html\">\u2660\u2665QUIET, COMFORT, &amp; CONVENIENCE! YOU DESERVE THE BEST!\u2660</a>\n",
        "<a class=\"i\" data-id=\"0:00000_eiSJYLeUGZj\" href=\"/eby/apa/4721136124.html\"></a>\n",
        "<a class=\"hdrlnk\" data-id=\"4721136124\" href=\"/eby/apa/4721136124.html\">*Carriage House* Gated Community in a Quiet and Friendly Neighborhood!</a>\n",
        "<a class=\"i\" href=\"/eby/apa/4721088595.html\"></a>\n",
        "<a class=\"hdrlnk\" data-id=\"4721088595\" href=\"/eby/apa/4721088595.html\">Call us Today, To Get Leasing Information!</a>\n",
        "<a class=\"i\" data-id=\"0:00N0N_kpjyetNT7d\" href=\"/eby/apa/4721132582.html\"></a>\n",
        "<a class=\"hdrlnk\" data-id=\"4721132582\" href=\"/eby/apa/4721132582.html\">GORGEOUS,TOP FLOOR APARTMENT,VISIT AMBER COURT TODAY! </a>\n",
        "<a class=\"i\" href=\"/eby/apa/4715295146.html\"></a>\n",
        "<a class=\"hdrlnk\" data-id=\"4715295146\" href=\"/eby/apa/4715295146.html\">2B/B - 3300 Wolcott Cmn 1st flr condo</a>\n",
        "<a class=\"i\" data-id=\"0:00P0P_1PCCPZ8oBhf\" href=\"/eby/apa/4721119470.html\"></a>\n",
        "<a class=\"hdrlnk\" data-id=\"4721119470\" href=\"/eby/apa/4721119470.html\">(PRIME LOCATION) 1BED-1BATH</a>\n",
        "<a class=\"i\" href=\"/eby/apa/4721087771.html\"></a>\n",
        "<a class=\"hdrlnk\" data-id=\"4721087771\" href=\"/eby/apa/4721087771.html\">We Offer Upstairs And Downstairs Units Available!</a>\n",
        "<a class=\"i\" data-id=\"0:01212_6b4awnNx7hX\" href=\"/eby/apa/4721099287.html\"></a>\n",
        "<a class=\"hdrlnk\" data-id=\"4721099287\" href=\"/eby/apa/4721099287.html\">\u0095\u263bTHIS BEAUTIFUL UPGRADED APT HOME HAS ALL THE COMFORTS\u263b\u0095</a>\n",
        "<a class=\"i\" href=\"/eby/apa/4721083651.html\"></a>\n",
        "<a class=\"hdrlnk\" data-id=\"4721083651\" href=\"/eby/apa/4721083651.html\">N239 Is A Top Floor Two Bedroom, Call Us Today!</a>\n",
        "<a class=\"i\" data-id=\"0:00o0o_eNojDWXpmrm\" href=\"/eby/apa/4721115450.html\"></a>\n",
        "<a class=\"hdrlnk\" data-id=\"4721115450\" href=\"/eby/apa/4721115450.html\">Pet Friendly Community in a Park-Like Setting!</a>\n",
        "<a class=\"i\" href=\"/eby/apa/4721110227.html\"></a>\n",
        "<a class=\"hdrlnk\" data-id=\"4721110227\" href=\"/eby/apa/4721110227.html\">1 BR Rental Newark Townhome has Granite Counters &amp; Indoor Laundry!</a>\n",
        "<a class=\"i\" data-id=\"0:00m0m_7W4gfQvA1cJ\" href=\"/eby/apa/4721102115.html\"></a>\n",
        "<a class=\"hdrlnk\" data-id=\"4721102115\" href=\"/eby/apa/4721102115.html\">Beautiful Fremont Home For Rent </a>\n",
        "<a class=\"i\" data-id=\"0:00N0N_kpjyetNT7d\" href=\"/eby/apa/4721100755.html\"></a>\n",
        "<a class=\"hdrlnk\" data-id=\"4721100755\" href=\"/eby/apa/4721100755.html\">UNWIND AFTER A LONG DAY IN YOUR STYLISH AND SERENE ENVIRONMENT!</a>\n",
        "<a class=\"i\" data-id=\"0:00202_2CPV2g5tan3\" href=\"/eby/apa/4721084803.html\"></a>\n",
        "<a class=\"hdrlnk\" data-id=\"4721084803\" href=\"/eby/apa/4721084803.html\">M225 Is A Fabulous Location Within Our Community!</a>\n",
        "<a class=\"i\" data-id=\"0:00909_4rDW6D3pz3i\" href=\"/eby/apa/4721048597.html\"></a>\n",
        "<a class=\"hdrlnk\" data-id=\"4721048597\" href=\"/eby/apa/4721048597.html\">A Great Place To Call Home! Great Views!</a>\n",
        "<a class=\"i\" data-id=\"0:01313_c1wzPQsLjoO\" href=\"/eby/apa/4721024294.html\"></a>\n",
        "<a class=\"hdrlnk\" data-id=\"4721024294\" href=\"/eby/apa/4721024294.html\">COME VISIT OUR BEAUTIFUL FLOR PLANS!!</a>\n",
        "<a class=\"i\" data-id=\"0:00J0J_1yzzEYyx2g3\" href=\"/eby/apa/4721084894.html\"></a>\n",
        "<a class=\"hdrlnk\" data-id=\"4721084894\" href=\"/eby/apa/4721084894.html\">Great Apartment Value Near Union City Bart</a>\n",
        "<a class=\"i\" data-id=\"0:00S0S_8uUme7pz0j\" href=\"/eby/apa/4720999648.html\"></a>\n",
        "<a class=\"hdrlnk\" data-id=\"4720999648\" href=\"/eby/apa/4720999648.html\">3BD/2BA Apartment with Quartz Countertops</a>\n",
        "<a class=\"i\" data-id=\"0:00V0V_YtMjnXwVmw\" href=\"/eby/apa/4720998596.html\"></a>\n",
        "<a class=\"hdrlnk\" data-id=\"4720998596\" href=\"/eby/apa/4720998596.html\">Pet Friendly upgrade 2 bed on top floor with fire place</a>\n",
        "<a class=\"i\" data-id=\"0:00f0f_5LzGHFbaRqn\" href=\"/eby/apa/4721066026.html\"></a>\n",
        "<a class=\"hdrlnk\" data-id=\"4721066026\" href=\"/eby/apa/4721066026.html\">Charming apartment homes w/spacious and open kitchen layout!</a>\n",
        "<a class=\"i\" data-id=\"0:00202_di8ycZmzs5g\" href=\"/eby/apa/4721045486.html\"></a>\n",
        "<a class=\"hdrlnk\" data-id=\"4721045486\" href=\"/eby/apa/4721045486.html\">Extraordinary top floor 2 BD, 2 BA, available soon. Near BART!!!</a>\n",
        "<a class=\"i\" data-id=\"0:00P0P_6QbixFi5hY7\" href=\"/eby/apa/4721028602.html\"></a>\n",
        "<a class=\"hdrlnk\" data-id=\"4721028602\" href=\"/eby/apa/4721028602.html\">PARK-LIKE LANDSCAPING, ENJOY THE QUIET, SCENIC SURROUNDINGS </a>\n",
        "<a class=\"i\" data-id=\"0:00N0N_kpjyetNT7d\" href=\"/eby/apa/4721019624.html\"></a>\n",
        "<a class=\"hdrlnk\" data-id=\"4721019624\" href=\"/eby/apa/4721019624.html\">~LUSH GARDENS, POOL, SPA, FITNESS CENTER AND BRIGHT TWO BEDROOM~</a>\n",
        "<a class=\"i\" data-id=\"0:01414_4gkmC2tGjGk\" href=\"/eby/apa/4721015477.html\"></a>\n",
        "<a class=\"hdrlnk\" data-id=\"4721015477\" href=\"/eby/apa/4721015477.html\">BEAUTIFUL 1 BEDROOM AT QUIET NEIGHBORHOOD IN FREMONT! </a>\n",
        "<a class=\"i\" data-id=\"0:00909_gOc5nRy3QcG\" href=\"/eby/apa/4721009101.html\"></a>\n",
        "<a class=\"hdrlnk\" data-id=\"4721009101\" href=\"/eby/apa/4721009101.html\">Looking for an Easy Commute?...BART is around the corner!</a>\n",
        "<a class=\"i\" data-id=\"0:00404_5U4zNmRWo9B\" href=\"/eby/apa/4720955678.html\"></a>\n",
        "<a class=\"hdrlnk\" data-id=\"4720955678\" href=\"/eby/apa/4720955678.html\">Stunning 2 bedrooms available now! Near BART! Dont Miss Out!</a>\n",
        "<a class=\"i\" data-id=\"0:00x0x_e8foZYof15H\" href=\"/eby/apa/4721002243.html\"></a>\n",
        "<a class=\"hdrlnk\" data-id=\"4721002243\" href=\"/eby/apa/4721002243.html\">BART Next Door, Parkmont &amp; The Hub Nearby... Welcome Home To Watermark</a>\n",
        "<a class=\"i\" data-id=\"0:00C0C_4bsh8Ty5QMY\" href=\"/eby/apa/4720917195.html\"></a>\n",
        "<a class=\"hdrlnk\" data-id=\"4720917195\" href=\"/eby/apa/4720917195.html\">STUNNING 1ST/ FLOOR 1BED/ READY TO MOVE IN SEPT 5TH!</a>\n",
        "<a class=\"i\" data-id=\"0:00o0o_eNojDWXpmrm\" href=\"/eby/apa/4720996606.html\"></a>\n",
        "<a class=\"hdrlnk\" data-id=\"4720996606\" href=\"/eby/apa/4720996606.html\">Spacious and Amazing.. talk about luxury!</a>\n",
        "<a class=\"i\" data-id=\"0:00e0e_aPGiHU6NB7A\" href=\"/eby/apa/4712729495.html\"></a>\n",
        "<a class=\"hdrlnk\" data-id=\"4712729495\" href=\"/eby/apa/4712729495.html\">2br/2ba Beautifully Updated Newark Condo </a>\n",
        "<a class=\"i\" data-id=\"0:00303_8TXt1UaHu2c\" href=\"/eby/apa/4720983215.html\"></a>\n",
        "<a class=\"hdrlnk\" data-id=\"4720983215\" href=\"/eby/apa/4720983215.html\">A MUST SEE! BEAUTIFUL ONE BEDROOM APARTMENT HOME!</a>\n",
        "<a class=\"i\" data-id=\"0:00D0D_c5sIX71krZa\" href=\"/eby/apa/4720991708.html\"></a>\n",
        "<a class=\"hdrlnk\" data-id=\"4720991708\" href=\"/eby/apa/4720991708.html\">Visit Your New Home, Night Patrol, Fitness Ctr, Easy Freeway Access</a>\n",
        "<a class=\"i\" data-id=\"0:00202_f2yFXjohypR\" href=\"/eby/apa/4720991582.html\"></a>\n",
        "<a class=\"hdrlnk\" data-id=\"4720991582\" href=\"/eby/apa/4720991582.html\">Great Neighbors! You Will Feel Right at Home!</a>\n",
        "<a class=\"i\" data-id=\"0:00B0B_1ujqjHXeETJ\" href=\"/eby/apa/4720988308.html\"></a>\n",
        "<a class=\"hdrlnk\" data-id=\"4720988308\" href=\"/eby/apa/4720988308.html\">Don't Wait!!! Here Today... Gone Tomorrow...</a>\n",
        "<a class=\"i\" data-id=\"0:00W0W_bKGpfKaTChB\" href=\"/eby/apa/4720985331.html\"></a>\n",
        "<a class=\"hdrlnk\" data-id=\"4720985331\" href=\"/eby/apa/4720985331.html\">Great location 3 bed 2.5 bath townhome in Fremont </a>\n",
        "<a class=\"i\" data-id=\"0:00R0R_8RziHSndllB\" href=\"/eby/apa/4720971062.html\"></a>\n",
        "<a class=\"hdrlnk\" data-id=\"4720971062\" href=\"/eby/apa/4720971062.html\">Enjoy Separate Dining Rooms in our BR Apartments</a>\n",
        "<a class=\"i\" data-id=\"0:00C0C_26ZNqKKWmzq\" href=\"/eby/apa/4720953403.html\"></a>\n",
        "<a class=\"hdrlnk\" data-id=\"4720953403\" href=\"/eby/apa/4720953403.html\">Stunning 2 bedrooms available now! Near BART! Dont Miss Out!</a>\n",
        "<a class=\"i\" data-id=\"0:00707_5TDanoAoqlz\" href=\"/eby/apa/4720935262.html\"></a>\n",
        "<a class=\"hdrlnk\" data-id=\"4720935262\" href=\"/eby/apa/4720935262.html\">Living at its best! Come see your new home today!</a>\n",
        "<a class=\"i\" href=\"/eby/apa/4720891332.html\"></a>\n",
        "<a class=\"hdrlnk\" data-id=\"4720891332\" href=\"/eby/apa/4720891332.html\">3Bedroom 3bathroom on the Top floor with Fireplace &amp; Vaulted ceiling!</a>\n",
        "<a class=\"i\" data-id=\"0:00D0D_6NtksPFEHfV\" href=\"/eby/apa/4720885262.html\"></a>\n",
        "<a class=\"hdrlnk\" data-id=\"4720885262\" href=\"/eby/apa/4720885262.html\">Relax by our pool &amp; spa just outside your new apartment home!</a>\n",
        "<a class=\"i\" data-id=\"0:01717_4FJkWeISNmH\" href=\"/eby/apa/4720878750.html\"></a>\n",
        "<a class=\"hdrlnk\" data-id=\"4720878750\" href=\"/eby/apa/4720878750.html\">\u25d8CLOSE AND CONVENIENT FOR YOUR LIFESTYLE\u25d8</a>\n",
        "<a class=\"i\" data-id=\"0:00808_gjkOAgTZxot\" href=\"/eby/apa/4720849050.html\"></a>\n",
        "<a class=\"hdrlnk\" data-id=\"4720849050\" href=\"/eby/apa/4720849050.html\">Enjoy November in style! Pet friendly apartment available soon!</a>\n",
        "<a class=\"i\" href=\"/eby/apa/4720819919.html\"></a>\n",
        "<a class=\"hdrlnk\" data-id=\"4720819919\" href=\"/eby/apa/4720819919.html\">*Carriage House* Gated Community in a Quiet and Friendly Neighborhood!</a>\n",
        "<a class=\"i\" data-id=\"0:00i0i_hlo9yorR0yD\" href=\"/eby/apa/4720839175.html\"></a>\n",
        "<a class=\"hdrlnk\" data-id=\"4720839175\" href=\"/eby/apa/4720839175.html\">Entertainer's Dream Patio with this 2 Bed 2 Bath!</a>\n",
        "<a class=\"i\" data-id=\"0:01212_fSTgKuJOisR\" href=\"/eby/apa/4720845630.html\"></a>\n",
        "<a class=\"hdrlnk\" data-id=\"4720845630\" href=\"/eby/apa/4720845630.html\">Marvelous 1 bed apartment near Fremont BART! </a>\n",
        "<a class=\"i\" data-id=\"0:00t0t_14nNTzBNWSE\" href=\"/eby/apa/4720845004.html\"></a>\n",
        "<a class=\"hdrlnk\" data-id=\"4720845004\" href=\"/eby/apa/4720845004.html\">Luxury &amp; Convenience All In One Great One Bedroom</a>\n",
        "<a class=\"i\" data-id=\"0:00000_eiSJYLeUGZj\" href=\"/eby/apa/4720818552.html\"></a>\n",
        "<a class=\"hdrlnk\" data-id=\"4720818552\" href=\"/eby/apa/4720818552.html\">*Carriage House* Gated Community in a Quiet and Friendly Neighborhood!</a>\n",
        "<a class=\"i\" data-id=\"0:00L0L_27lTNG4f5jI\" href=\"/eby/apa/4720620522.html\"></a>\n",
        "<a class=\"hdrlnk\" data-id=\"4720620522\" href=\"/eby/apa/4720620522.html\">Available soon! Large two bedroom with patio!</a>\n",
        "<a class=\"i\" href=\"/eby/apa/4720771143.html\"></a>\n",
        "<a class=\"hdrlnk\" data-id=\"4720771143\" href=\"/eby/apa/4720771143.html\">1 Bedroom is Ready for You to Move In!</a>\n",
        "<a class=\"i\" data-id=\"0:00T0T_cq3QzP8w3Ft\" href=\"/eby/apa/4720774106.html\"></a>\n",
        "<a class=\"hdrlnk\" data-id=\"4720774106\" href=\"/eby/apa/4720774106.html\">Alderwood Park in Newark - Dumbarton/84/880 &amp; public transit close by!</a>\n",
        "<a class=\"i\" data-id=\"0:00o0o_b5OWUBODJfT\" href=\"/eby/apa/4720780184.html\"></a>\n",
        "<a class=\"hdrlnk\" data-id=\"4720780184\" href=\"/eby/apa/4720780184.html\">Marvelous 1 bed apartment near Fremont BART! </a>\n",
        "<a class=\"i\" data-id=\"0:00v0v_jPj8zzRzODw\" href=\"/eby/apa/4720732984.html\"></a>\n",
        "<a class=\"hdrlnk\" data-id=\"4720732984\" href=\"/eby/apa/4720732984.html\">Extra large 1 BR Condo for Rent</a>\n",
        "<a class=\"i\" data-id=\"0:00R0R_iAkJ3JvUj4K\" href=\"/eby/apa/4720640783.html\"></a>\n",
        "<a class=\"hdrlnk\" data-id=\"4720640783\" href=\"/eby/apa/4720640783.html\">Available November 1st!!!</a>\n",
        "<a class=\"i\" data-id=\"0:00M0M_hEv7Ng7bn7L\" href=\"/eby/apa/4720639560.html\"></a>\n",
        "<a class=\"hdrlnk\" data-id=\"4720639560\" href=\"/eby/apa/4720639560.html\">Will Be Available November 11th!</a>\n",
        "<a class=\"i\" data-id=\"0:00g0g_45zgkpUlW40\" href=\"/eby/apa/4720727834.html\"></a>\n",
        "<a class=\"hdrlnk\" data-id=\"4720727834\" href=\"/eby/apa/4720727834.html\">\u263b\u2665THE MOST LIKED PLACE TO LIVE ON FACEBOOK\u263b\u2665</a>\n",
        "<a class=\"i\" data-id=\"0:00n0n_6wqgwfkjPUW\" href=\"/eby/apa/4720736311.html\"></a>\n",
        "<a class=\"hdrlnk\" data-id=\"4720736311\" href=\"/eby/apa/4720736311.html\">PARK-LIKE SETTING IN PRIME LOCATION, DESIGNER 2 BR</a>\n",
        "<a class=\"i\" data-id=\"0:00W0W_bKGpfKaTChB\" href=\"/eby/apa/4720715448.html\"></a>\n",
        "<a class=\"hdrlnk\" data-id=\"4720715448\" href=\"/eby/apa/4720715448.html\">Great location 3 bed 2.5 bath townhome in Fremont </a>\n",
        "<a class=\"i\" data-id=\"0:00909_8PXstTtnB4q\" href=\"/eby/apa/4720713509.html\"></a>\n",
        "<a class=\"hdrlnk\" data-id=\"4720713509\" href=\"/eby/apa/4720713509.html\">Fully Remodeled 3BR &amp; 2 Bath home </a>\n",
        "<a class=\"i\" data-id=\"0:00l0l_a2bJzMezoij\" href=\"/eby/apa/4720711119.html\"></a>\n",
        "<a class=\"hdrlnk\" data-id=\"4720711119\" href=\"/eby/apa/4720711119.html\">Fabulous apartment, walking distance to Lake Elizabeth</a>\n",
        "<a class=\"i\" data-id=\"0:00505_iV9erAX3OV2\" href=\"/eby/apa/4720641538.html\"></a>\n",
        "<a class=\"hdrlnk\" data-id=\"4720641538\" href=\"/eby/apa/4720641538.html\">Available November 5th!!!</a>\n",
        "<a class=\"i\" data-id=\"0:00U0U_cPwYrAiwgwe\" href=\"/eby/apa/4720648643.html\"></a>\n",
        "<a class=\"hdrlnk\" data-id=\"4720648643\" href=\"/eby/apa/4720648643.html\">A Great Place To Call Home! Great Views!</a>\n",
        "<a class=\"i\" href=\"/eby/apa/4720704953.html\"></a>\n",
        "<a class=\"hdrlnk\" data-id=\"4720704953\" href=\"/eby/apa/4720704953.html\">Rooms for rent $500</a>\n",
        "<a class=\"i\" data-id=\"0:00808_hym55XIa38U\" href=\"/eby/apa/4720678524.html\"></a>\n",
        "<a class=\"hdrlnk\" data-id=\"4720678524\" href=\"/eby/apa/4720678524.html\">One two bedroom apartment with microwave included available now</a>\n",
        "<a class=\"i\" data-id=\"0:00J0J_1yzzEYyx2g3\" href=\"/eby/apa/4720694437.html\"></a>\n",
        "<a class=\"hdrlnk\" data-id=\"4720694437\" href=\"/eby/apa/4720694437.html\">You'll Love This Floor Plan!</a>\n",
        "<a class=\"i\" data-id=\"0:00H0H_cPH9TARg0W0\" href=\"/eby/apa/4720639373.html\"></a>\n",
        "<a class=\"hdrlnk\" data-id=\"4720639373\" href=\"/eby/apa/4720639373.html\">Spacious, open, amazing floor plans! </a>\n",
        "<a class=\"i\" data-id=\"0:00j0j_lL6qqPJDxaw\" href=\"/eby/apa/4720654636.html\"></a>\n",
        "<a class=\"hdrlnk\" data-id=\"4720654636\" href=\"/eby/apa/4720654636.html\">Hardwood Floors, Walk-in Closets, Corner unit, Top floor!</a>"
       ]
      },
      {
       "output_type": "stream",
       "stream": "stdout",
       "text": [
        "\n",
        "<a class=\"i\" data-id=\"0:00K0K_dvgG0HJSxyv\" href=\"/eby/apa/4720611645.html\"></a>\n",
        "<a class=\"hdrlnk\" data-id=\"4720611645\" href=\"/eby/apa/4720611645.html\">Amazing Second Floor One Bedroom Apt Home...</a>\n",
        "<a class=\"i\" data-id=\"0:01313_kchW4eItex8\" href=\"/eby/apa/4720615854.html\"></a>\n",
        "<a class=\"hdrlnk\" data-id=\"4720615854\" href=\"/eby/apa/4720615854.html\">Come See why Mission Peaks II is The Best in Fremont!!</a>\n",
        "<a class=\"i\" href=\"/eby/apa/4720618278.html\"></a>\n",
        "<a class=\"hdrlnk\" data-id=\"4720618278\" href=\"/eby/apa/4720618278.html\">A Must See! Fantastic Location! Beautiful One Bedroom Apt Home!</a>\n",
        "<a class=\"i\" data-id=\"0:00E0E_f5y1IUWcLqh\" href=\"/eby/apa/4720654598.html\"></a>\n",
        "<a class=\"hdrlnk\" data-id=\"4720654598\" href=\"/eby/apa/4720654598.html\">Amazing 1 BD, 1 BA Apartment Available Now!</a>\n",
        "<a class=\"i\" data-id=\"0:00W0W_bKGpfKaTChB\" href=\"/eby/apa/4720653117.html\"></a>\n",
        "<a class=\"hdrlnk\" data-id=\"4720653117\" href=\"/eby/apa/4720653117.html\">Great location 3 bed 2.5 bath townhome in Fremont </a>\n",
        "<a class=\"i\" data-id=\"0:00L0L_HBqK7F6SRY\" href=\"/eby/apa/4720627806.html\"></a>\n",
        "<a class=\"hdrlnk\" data-id=\"4720627806\" href=\"/eby/apa/4720627806.html\">DESIGNER INTERIOR, SPACIOUS FLOOR PLANS AND AMAZING AMENITIES</a>\n",
        "<a class=\"i\" data-id=\"0:00v0v_bPArceVPvEB\" href=\"/eby/apa/4710176266.html\"></a>\n",
        "<a class=\"hdrlnk\" data-id=\"4710176266\" href=\"/eby/apa/4710176266.html\">Spacious Studio Apartment in Downtown Fremont move in ready 11/15/2014</a>\n",
        "<a class=\"i\" data-id=\"0:01212_6b4awnNx7hX\" href=\"/eby/apa/4720574328.html\"></a>\n",
        "<a class=\"hdrlnk\" data-id=\"4720574328\" href=\"/eby/apa/4720574328.html\">FREMONT HUB\u25d8GREAT LOCATION\u25d8GREAT PRICE</a>\n",
        "<a class=\"i\" data-id=\"0:00404_a2ggEMRLZ94\" href=\"/eby/apa/4720621095.html\"></a>\n",
        "<a class=\"hdrlnk\" data-id=\"4720621095\" href=\"/eby/apa/4720621095.html\">Commuting? Amazing apartment home near Fremont Bart!</a>\n",
        "<a class=\"i\" data-id=\"0:00E0E_8x7barJQifd\" href=\"/eby/apa/4720601875.html\"></a>\n",
        "<a class=\"hdrlnk\" data-id=\"4720601875\" href=\"/eby/apa/4720601875.html\">Beautiful 1 bedroom call now to make an appointment!!!</a>\n",
        "<a class=\"i\" data-id=\"0:00g0g_lzJGhYfndad\" href=\"/eby/apa/4720596089.html\"></a>\n",
        "<a class=\"hdrlnk\" data-id=\"4720596089\" href=\"/eby/apa/4720596089.html\">3 bedrooms for rent in Fremont CA 94536</a>\n",
        "<a class=\"i\" data-id=\"0:00S0S_i5RLVK07E4J\" href=\"/eby/apa/4677306808.html\"></a>\n",
        "<a class=\"hdrlnk\" data-id=\"4677306808\" href=\"/eby/apa/4677306808.html\">3 bed 2 .5 bath townhome remodeled in Fremont </a>\n",
        "<a class=\"i\" href=\"/eby/apa/4720521929.html\"></a>\n",
        "<a class=\"hdrlnk\" data-id=\"4720521929\" href=\"/eby/apa/4720521929.html\">*Carriage House* Gated Community in a Quiet and Friendly Neighborhood!</a>\n",
        "<a class=\"i\" data-id=\"0:00x0x_e8foZYof15H\" href=\"/eby/apa/4720573333.html\"></a>\n",
        "<a class=\"hdrlnk\" data-id=\"4720573333\" href=\"/eby/apa/4720573333.html\">Large, Renovated 2BD/2BA with 2 Patios - Just Steps Away From BART</a>\n",
        "<a class=\"i\" data-id=\"0:00t0t_14nNTzBNWSE\" href=\"/eby/apa/4720485015.html\"></a>\n",
        "<a class=\"hdrlnk\" data-id=\"4720485015\" href=\"/eby/apa/4720485015.html\">Charming Two bedroom With Luxurious Amenities! In-home Washer &amp; Dryer!</a>\n",
        "<a class=\"i\" data-id=\"0:00U0U_bf8BbFDP3oM\" href=\"/eby/apa/4720551845.html\"></a>\n",
        "<a class=\"hdrlnk\" data-id=\"4720551845\" href=\"/eby/apa/4720551845.html\">A Great Junior 1br Unit To Call home @waterstone Fremont</a>\n",
        "<a class=\"button next\" href=\"/search/eby/apa?s=100&amp;nh=54&amp;sale_date=-\" title=\"next page\"> next &gt; </a>\n",
        "<a class=\"backtotop button\" href=\"#pagecontainer\">^ back to top</a>\n",
        "<a class=\"l\" href=\"http://sfbay.craigslist.org/search/eby/apa?nh=54&amp;sale_date=-&amp;format=rss\">RSS</a>\n",
        "<a href=\"http://www.craigslist.org/about/rss\">(?)</a>\n",
        "<a href=\"//www.craigslist.org/about/help/\">help</a>\n",
        "<a href=\"//www.craigslist.org/about/scams\">safety</a>\n",
        "<a href=\"//www.craigslist.org/about/privacy.policy\">privacy</a>\n",
        "<a href=\"https://forums.craigslist.org/?forumID=8\">feedback</a>\n",
        "<a href=\"//www.craigslist.org/about/craigslist_is_hiring\">cl jobs</a>\n",
        "<a href=\"//www.craigslist.org/about/terms.of.use\">terms</a>\n",
        "<a href=\"//www.craigslist.org/about/\">about</a>\n",
        "<a href=\"/\">SF bay area</a>"
       ]
      },
      {
       "output_type": "stream",
       "stream": "stdout",
       "text": [
        "\n",
        "<a href=\"/search/hhh\">housing</a>\n",
        "<a href=\"/search/apa\">apts/housing for rent</a>\n",
        "<a href=\"https://post.craigslist.org/c/sfo?lang=en\">post</a>\n",
        "<a href=\"https://accounts.craigslist.org/login/home\">account</a>\n",
        "<a class=\"favlink\" href=\"#\"><span class=\"n\">0</span> favorites</a>\n",
        "<a class=\"saveme\" href=\"https://accounts.craigslist.org/login?rt=L&amp;rp=%2Fsavesearch%2Falert%3FURL%3Dhttp%253A%252F%252Fsfbay%252Ecraigslist%252Eorg%252Fsearch%252Feby%252Fapa%253Fnh%253D54\" title=\"save this search with email alerts\">alert</a>\n",
        "<a class=\"saveme\" href=\"https://accounts.craigslist.org/login?rt=L&amp;rp=%2Fsavesearch%2Fsave%3FURL%3Dhttp%253A%252F%252Fsfbay%252Ecraigslist%252Eorg%252Fsearch%252Feby%252Fapa%253Fnh%253D54\" title=\"save this search\">save</a>\n",
        "<a class=\"category\" href=\"/search/eby/apa?nh=54\">apts/housing for rent</a>\n",
        "<a class=\"category\" href=\"/search/eby/rea?nh=54\">real estate for sale</a>\n",
        "<a class=\"category\" href=\"/search/eby/roo?nh=54\">rooms &amp; shares</a>\n",
        "<a class=\"category\" href=\"/search/eby/off?nh=54\">office &amp; commercial</a>\n",
        "<a class=\"category\" href=\"/search/eby/sha?nh=54\">room/share wanted</a>\n",
        "<a class=\"category\" href=\"/search/eby/hou?nh=54\">apts wanted</a>\n",
        "<a class=\"category\" href=\"/search/eby/sub?nh=54\">sublets &amp; temporary</a>\n",
        "<a class=\"category\" href=\"/search/eby/prk?nh=54\">parking &amp; storage</a>\n",
        "<a class=\"category\" href=\"/search/eby/rew?nh=54\">real estate wanted</a>\n",
        "<a class=\"category\" href=\"/search/eby/vac?nh=54\">vacation rentals</a>\n",
        "<a class=\"category\" href=\"/search/eby/swp?nh=54\">housing swap</a>\n",
        "<a class=\"category\" href=\"/search/eby/sbw?nh=54\">sublet/temp wanted</a>\n",
        "<a class=\"mode button\" data-view=\"list\" href=\"#list\" id=\"listview\" title=\"show results in a list\">list</a>\n",
        "<a class=\"mode button\" data-view=\"pic\" href=\"#pic\" id=\"picview\" title=\"show results in a list with thumbnail pictures\">thumb</a>\n",
        "<a class=\"mode button\" data-view=\"grid\" href=\"#grid\" id=\"gridview\" title=\"show results side-by-side with larger pictures\">gallery</a>\n",
        "<a class=\"mode button\" data-view=\"map\" href=\"#map\" id=\"mapview\" title=\"show results on a map\">map</a>\n",
        "<a class=\"button\" href=\"/search/eby/apa?sort=priceasc&amp;nh=54\" title=\"sort by price, lowest to highest\"><span class=\"pricesort\"><span class=\"pricesort\">$</span>$</span>$</a>\n",
        "<a class=\"button\" href=\"/search/eby/apa?sort=pricedsc&amp;nh=54\" title=\"sort by price, highest to lowest\">$<span class=\"pricesort\">$<span class=\"pricesort\">$</span></span></a>\n",
        "<a class=\"button first\" href=\"/search/eby/apa?nh=54\" title=\"first page\">&lt;&lt;</a>\n",
        "<a class=\"button prev\" href=\"/search/eby/apa?nh=54\" title=\"previous page\">&lt; prev</a>\n",
        "<a class=\"button next\" href=\"/search/eby/apa?s=200&amp;nh=54\" title=\"next page\"> next &gt; </a>\n",
        "<a class=\"i\" data-id=\"0:00000_eiSJYLeUGZj\" href=\"/eby/apa/4720519649.html\"></a>\n",
        "<a class=\"hdrlnk\" data-id=\"4720519649\" href=\"/eby/apa/4720519649.html\">*Carriage House* Gated Community in a Quiet and Friendly Neighborhood!</a>\n",
        "<a class=\"i\" data-id=\"0:00c0c_3EG6Wf9Wbf6\" href=\"/eby/apa/4720477585.html\"></a>\n",
        "<a class=\"hdrlnk\" data-id=\"4720477585\" href=\"/eby/apa/4720477585.html\">Spacious One Bedroom on 2nd floor</a>\n",
        "<a class=\"i\" data-id=\"0:00v0v_kIDpjWuX5YS\" href=\"/eby/apa/4720534239.html\"></a>\n",
        "<a class=\"hdrlnk\" data-id=\"4720534239\" href=\"/eby/apa/4720534239.html\">Ready to Rent!</a>\n",
        "<a class=\"i\" data-id=\"0:00q0q_jqd4dVzMJHr\" href=\"/eby/apa/4720524100.html\"></a>\n",
        "<a class=\"hdrlnk\" data-id=\"4720524100\" href=\"/eby/apa/4720524100.html\">Are You Ready To Move..Waterstone@Fremont</a>\n",
        "<a class=\"i\" data-id=\"0:00s0s_dSGuCi4oaR\" href=\"/eby/apa/4720540400.html\"></a>\n",
        "<a class=\"hdrlnk\" data-id=\"4720540400\" href=\"/eby/apa/4720540400.html\">Ground level with hardwood floors and walking distance to BART!</a>\n",
        "<a class=\"i\" data-id=\"0:00U0U_bf8BbFDP3oM\" href=\"/eby/apa/4720504489.html\"></a>\n",
        "<a class=\"hdrlnk\" data-id=\"4720504489\" href=\"/eby/apa/4720504489.html\">A Bright and Sunny Day...@Waterstone Fremont</a>\n",
        "<a class=\"i\" data-id=\"0:00r0r_270NAEqiUfU\" href=\"/eby/apa/4720522812.html\"></a>\n",
        "<a class=\"hdrlnk\" data-id=\"4720522812\" href=\"/eby/apa/4720522812.html\">Now Available, Responsive Maintenance, Spacious Floorplan</a>\n",
        "<a class=\"i\" data-id=\"0:00F0F_mYbBBvnFJc\" href=\"/eby/apa/4720482808.html\"></a>\n",
        "<a class=\"hdrlnk\" data-id=\"4720482808\" href=\"/eby/apa/4720482808.html\">Renting Fast! Unique &amp; Bright w/ Skylight, In-Home Laundry, Tour Now!!</a>\n",
        "<a class=\"i\" data-id=\"0:00A0A_6tN78StRf2t\" href=\"/eby/apa/4720514047.html\"></a>\n",
        "<a class=\"hdrlnk\" data-id=\"4720514047\" href=\"/eby/apa/4720514047.html\">Beautiful house, close to Dumbarton Bridge(Facebook), shopping center </a>\n",
        "<a class=\"i\" data-id=\"0:00505_10pkAtxS3rj\" href=\"/eby/apa/4720505852.html\"></a>\n",
        "<a class=\"hdrlnk\" data-id=\"4720505852\" href=\"/eby/apa/4720505852.html\">Great Apartment Value Near Union City Bart</a>\n",
        "<a class=\"i\" data-id=\"0:00M0M_BbpUktgt9d\" href=\"/eby/apa/4720487019.html\"></a>\n",
        "<a class=\"hdrlnk\" data-id=\"4720487019\" href=\"/eby/apa/4720487019.html\">Lovely Home in Irvington Attendance Area</a>\n",
        "<a class=\"i\" data-id=\"0:00U0U_kAqrDLCfeh2\" href=\"/eby/apa/4720463865.html\"></a>\n",
        "<a class=\"hdrlnk\" data-id=\"4720463865\" href=\"/eby/apa/4720463865.html\">\u2665LOOKING FOR PEACE AND QUIET\u2665 COME AND TOUR TODAY\u2665</a>\n",
        "<a class=\"i\" data-id=\"0:00f0f_2C17sC2Iblw\" href=\"/eby/apa/4720421139.html\"></a>\n",
        "<a class=\"hdrlnk\" data-id=\"4720421139\" href=\"/eby/apa/4720421139.html\">Energy-saving Kitchens with Built-in Microwaves</a>\n",
        "<a class=\"i\" data-id=\"0:00l0l_8AhEDw3gy8a\" href=\"/eby/apa/4720455674.html\"></a>\n",
        "<a class=\"hdrlnk\" data-id=\"4720455674\" href=\"/eby/apa/4720455674.html\">Top floor 1 bedroom apt available now! Walking distance to UC BART!</a>\n",
        "<a class=\"i\" data-id=\"0:00U0U_vkc6EHxIMf\" href=\"/eby/apa/4713634429.html\"></a>\n",
        "<a class=\"hdrlnk\" data-id=\"4713634429\" href=\"/eby/apa/4713634429.html\">Beautiful 3 bed 2 bath condo in warm springs</a>\n",
        "<a class=\"i\" data-id=\"0:00S0S_i5RLVK07E4J\" href=\"/eby/apa/4675937071.html\"></a>\n",
        "<a class=\"hdrlnk\" data-id=\"4675937071\" href=\"/eby/apa/4675937071.html\">3 bed 2 .5 bath townhome remodeled in Fremont </a>\n",
        "<a class=\"i\" data-id=\"0:00909_ivGmca1KYyK\" href=\"/eby/apa/4720441387.html\"></a>\n",
        "<a class=\"hdrlnk\" data-id=\"4720441387\" href=\"/eby/apa/4720441387.html\">15 Min Walk to BART from the Presidio Apartments</a>\n",
        "<a class=\"i\" data-id=\"0:00D0D_9Sn2UQRVPXX\" href=\"/eby/apa/4720455452.html\"></a>\n",
        "<a class=\"hdrlnk\" data-id=\"4720455452\" href=\"/eby/apa/4720455452.html\">Here now and gone by morning. You should hurry!</a>\n",
        "<a class=\"i\" data-id=\"0:00c0c_1UFvwe9t7Ai\" href=\"/eby/apa/4720449674.html\"></a>\n",
        "<a class=\"hdrlnk\" data-id=\"4720449674\" href=\"/eby/apa/4720449674.html\">4 Bed / 2 Bath Single-level, Single-familyhome in Fremont</a>\n",
        "<a class=\"i\" href=\"/eby/apa/4711496032.html\"></a>\n",
        "<a class=\"hdrlnk\" data-id=\"4711496032\" href=\"/eby/apa/4711496032.html\">Parkmont Area - 4 Bed / 2 Bath Single-level, Single-family </a>\n",
        "<a class=\"i\" data-id=\"0:00L0L_draW8rVwhKK\" href=\"/eby/apa/4720412245.html\"></a>\n",
        "<a class=\"hdrlnk\" data-id=\"4720412245\" href=\"/eby/apa/4720412245.html\">Beautiful Niles Community! Move-In November 7th!</a>\n",
        "<a class=\"i\" data-id=\"0:00808_8mp8buYui5I\" href=\"/eby/apa/4720404742.html\"></a>\n",
        "<a class=\"hdrlnk\" data-id=\"4720404742\" href=\"/eby/apa/4720404742.html\">Just The Right Amount of  Space</a>\n",
        "<a class=\"i\" data-id=\"0:00i0i_1auhH2rZUYm\" href=\"/eby/apa/4720384339.html\"></a>\n",
        "<a class=\"hdrlnk\" data-id=\"4720384339\" href=\"/eby/apa/4720384339.html\">Fremont 3 bedroom 2 bath house</a>\n",
        "<a class=\"i\" data-id=\"0:01717_2aIY080nGpL\" href=\"/eby/apa/4720363448.html\"></a>\n",
        "<a class=\"hdrlnk\" data-id=\"4720363448\" href=\"/eby/apa/4720363448.html\">Remodel Union City Townhouse with 2 car garage</a>\n",
        "<a class=\"i\" href=\"/eby/apa/4716116880.html\"></a>\n",
        "<a class=\"hdrlnk\" data-id=\"4716116880\" href=\"/eby/apa/4716116880.html\">Beautiful 3 BR / 2.5 BA House - with Full  Amenities</a>\n",
        "<a class=\"i\" data-id=\"0:00202_cmJ3Yxs4iKn\" href=\"/eby/apa/4710948402.html\"></a>\n",
        "<a class=\"hdrlnk\" data-id=\"4710948402\" href=\"/eby/apa/4710948402.html\">** Beautiful 3BD Single Family Home - with Full Amenities ***</a>\n",
        "<a class=\"i\" href=\"/eby/apa/4720219856.html\"></a>\n",
        "<a class=\"hdrlnk\" data-id=\"4720219856\" href=\"/eby/apa/4720219856.html\">3BD/2BA SINGLE FAMILY HOME BEST VALUE @@@@@@@@@@@@@@@@@@</a>\n",
        "<a class=\"i\" data-id=\"0:00x0x_48PU1pqKIjd\" href=\"/eby/apa/4712640948.html\"></a>\n",
        "<a class=\"hdrlnk\" data-id=\"4712640948\" href=\"/eby/apa/4712640948.html\">$3350 (Free till 10/31)  4br 1750ft\ufffd - Fremont Mission SJ schools 94539 </a>\n",
        "<a class=\"i\" data-id=\"0:00j0j_9QeMHvlLMze\" href=\"/eby/apa/4719991852.html\"></a>\n",
        "<a class=\"hdrlnk\" data-id=\"4719991852\" href=\"/eby/apa/4719991852.html\">$2200 1100sqft - 3BR/2BA HOUSE in UNION CITY</a>\n",
        "<a class=\"i\" href=\"/eby/apa/4719986309.html\"></a>\n",
        "<a class=\"hdrlnk\" data-id=\"4719986309\" href=\"/eby/apa/4719986309.html\">Irvington House for Rent</a>\n",
        "<a class=\"i\" data-id=\"0:00H0H_dJibKEV1YRD\" href=\"/eby/apa/4710227618.html\"></a>\n",
        "<a class=\"hdrlnk\" data-id=\"4710227618\" href=\"/eby/apa/4710227618.html\">$3100 / 4BR-3BA - 2030ft\ufffd - Bright Ardenwood SFH Open House 2-4pm10/18</a>\n",
        "<a class=\"i\" data-id=\"0:00000_a0NanWUBAeZ\" href=\"/eby/apa/4688449232.html\"></a>\n",
        "<a class=\"hdrlnk\" data-id=\"4688449232\" href=\"/eby/apa/4688449232.html\">Apartment w/ washer &amp; dryer in unit. Fitness center also!</a>\n",
        "<a class=\"i\" data-id=\"0:00Q0Q_29R25weiyvt\" href=\"/eby/apa/4719922054.html\"></a>\n",
        "<a class=\"hdrlnk\" data-id=\"4719922054\" href=\"/eby/apa/4719922054.html\">OPEN HOUSE, 3 Bed, 2 Bath, Cozy Home, Carpet/Hardwood Floors, Garden</a>\n",
        "<a class=\"i\" data-id=\"0:00R0R_d1NIGU3Jn52\" href=\"/eby/apa/4711946435.html\"></a>\n",
        "<a class=\"hdrlnk\" data-id=\"4711946435\" href=\"/eby/apa/4711946435.html\">3 Bed room 1 Bath Apartment.</a>\n",
        "<a class=\"i\" data-id=\"0:00C0C_i5gy5Gg99Ma\" href=\"/eby/apa/4719902978.html\"></a>\n",
        "<a class=\"hdrlnk\" data-id=\"4719902978\" href=\"/eby/apa/4719902978.html\">Beautiful House Near BART Station</a>\n",
        "<a class=\"i\" data-id=\"0:00k0k_7C4y2mJcp2T\" href=\"/eby/apa/4719764104.html\"></a>\n",
        "<a class=\"hdrlnk\" data-id=\"4719764104\" href=\"/eby/apa/4719764104.html\">\u65b0\u88c5\u4fee Remodeled  Union City TownHouse $1,850</a>\n",
        "<a class=\"i\" data-id=\"0:00M0M_5qiQS46qwBD\" href=\"/eby/apa/4719903999.html\"></a>\n",
        "<a class=\"hdrlnk\" data-id=\"4719903999\" href=\"/eby/apa/4719903999.html\">Elegant and Spacious 4 BR/2.5 BA Single Family Home in Fremont </a>\n",
        "<a class=\"i\" data-id=\"0:00303_i1GJ9Z50Q32\" href=\"/eby/apa/4719801862.html\"></a>\n",
        "<a class=\"hdrlnk\" data-id=\"4719801862\" href=\"/eby/apa/4719801862.html\">Great House, close to BART Fremont</a>\n",
        "<a class=\"i\" data-id=\"0:00S0S_br7KjEDCPHQ\" href=\"/eby/apa/4700775920.html\"></a>\n",
        "<a class=\"hdrlnk\" data-id=\"4700775920\" href=\"/eby/apa/4700775920.html\">Home in top school area in Fremont</a>\n",
        "<a class=\"i\" data-id=\"0:00606_fPAKPPCnn4C\" href=\"/eby/apa/4719791884.html\"></a>\n",
        "<a class=\"hdrlnk\" data-id=\"4719791884\" href=\"/eby/apa/4719791884.html\">Bright, Nice Beautiful House, Walk to Fremont BART</a>\n",
        "<a class=\"i\" data-id=\"0:00N0N_kpjyetNT7d\" href=\"/eby/apa/4719745304.html\"></a>\n",
        "<a class=\"hdrlnk\" data-id=\"4719745304\" href=\"/eby/apa/4719745304.html\">COME EXPERIENCE CONVENIENT AND PEACEFUL LIVING THAT AWAITS YOU</a>\n",
        "<a class=\"i\" data-id=\"0:00g0g_45zgkpUlW40\" href=\"/eby/apa/4719744543.html\"></a>\n",
        "<a class=\"hdrlnk\" data-id=\"4719744543\" href=\"/eby/apa/4719744543.html\">\u263b\u2665THE MOST LIKED PLACE TO LIVE ON FACEBOOK\u263b\u2665</a>\n",
        "<a class=\"i\" data-id=\"0:00n0n_6WSYRh8c1Af\" href=\"/eby/apa/4719736775.html\"></a>\n",
        "<a class=\"hdrlnk\" data-id=\"4719736775\" href=\"/eby/apa/4719736775.html\">AMAZING AMENITIES IN PARK-LIKE COMMUNITY</a>\n",
        "<a class=\"i\" data-id=\"0:00Z0Z_6gTFWFQNJdi\" href=\"/eby/apa/4719725545.html\"></a>\n",
        "<a class=\"hdrlnk\" data-id=\"4719725545\" href=\"/eby/apa/4719725545.html\">Looking for quick access to BART and Shopping? Look no further!</a>\n",
        "<a class=\"i\" data-id=\"0:00909_b4F29Dtsi8v\" href=\"/eby/apa/4716603113.html\"></a>\n",
        "<a class=\"hdrlnk\" data-id=\"4716603113\" href=\"/eby/apa/4716603113.html\">Beautiful, Spacious 3 Bed 2 Bath House in Fremont</a>\n",
        "<a class=\"i\" data-id=\"0:00K0K_fRPqhMcntQC\" href=\"/eby/apa/4719720022.html\"></a>\n",
        "<a class=\"hdrlnk\" data-id=\"4719720022\" href=\"/eby/apa/4719720022.html\">\u0095\u0095\u0095LIVE CLOSE TO THE CITY\u2665\u0095\u0095</a>\n",
        "<a class=\"i\" href=\"/eby/apa/4711899551.html\"></a>\n",
        "<a class=\"hdrlnk\" data-id=\"4711899551\" href=\"/eby/apa/4711899551.html\">Remodeled Warm Springs House</a>\n",
        "<a class=\"i\" data-id=\"0:00f0f_8C4YteQ4kDQ\" href=\"/eby/apa/4719715423.html\"></a>\n",
        "<a class=\"hdrlnk\" data-id=\"4719715423\" href=\"/eby/apa/4719715423.html\">3B/3B Townhouse for rent in Fremont, 94538</a>\n",
        "<a class=\"i\" data-id=\"0:00202_iM4hqMJHOyl\" href=\"/eby/apa/4719697928.html\"></a>\n",
        "<a class=\"hdrlnk\" data-id=\"4719697928\" href=\"/eby/apa/4719697928.html\">~~~**~~Great Location~~**~~~</a>\n",
        "<a class=\"i\" data-id=\"0:00n0n_lRlPGFUgQhF\" href=\"/eby/apa/4719685180.html\"></a>\n",
        "<a class=\"hdrlnk\" data-id=\"4719685180\" href=\"/eby/apa/4719685180.html\">A Great Place To Call Home!</a>\n",
        "<a class=\"i\" data-id=\"0:00i0i_279XEWr6WTk\" href=\"/eby/apa/4719670894.html\"></a>\n",
        "<a class=\"hdrlnk\" data-id=\"4719670894\" href=\"/eby/apa/4719670894.html\">Great Location! Great Community! Great Apartment!</a>\n",
        "<a class=\"i\" data-id=\"0:00e0e_fB7TvHAQqHa\" href=\"/eby/apa/4719630357.html\"></a>\n",
        "<a class=\"hdrlnk\" data-id=\"4719630357\" href=\"/eby/apa/4719630357.html\">Open House: Single Family Home Newark,very big lot and fruit trees</a>\n",
        "<a class=\"i\" data-id=\"0:01212_6b4awnNx7hX\" href=\"/eby/apa/4719629700.html\"></a>\n",
        "<a class=\"hdrlnk\" data-id=\"4719629700\" href=\"/eby/apa/4719629700.html\">\u2665LOOKING FOR PEACE AND QUIET\u2665 COME AND TOUR TODAY\u2665</a>\n",
        "<a class=\"i\" data-id=\"0:00T0T_55kWWocYdY6\" href=\"/eby/apa/4719638412.html\"></a>\n",
        "<a class=\"hdrlnk\" data-id=\"4719638412\" href=\"/eby/apa/4719638412.html\">Irvington District 1bd/1ba upstairs</a>\n",
        "<a class=\"i\" href=\"/eby/apa/4711328744.html\"></a>\n",
        "<a class=\"hdrlnk\" data-id=\"4711328744\" href=\"/eby/apa/4711328744.html\">2 bedroom unit for lease</a>\n",
        "<a class=\"i\" data-id=\"0:00L0L_gySDJAIIVtE\" href=\"/eby/apa/4719588764.html\"></a>\n",
        "<a class=\"hdrlnk\" data-id=\"4719588764\" href=\"/eby/apa/4719588764.html\">Check This Out! Luxury Apartment Community with walk-in closets!</a>\n",
        "<a class=\"i\" href=\"/eby/apa/4719629114.html\"></a>\n",
        "<a class=\"hdrlnk\" data-id=\"4719629114\" href=\"/eby/apa/4719629114.html\">Simply Wonderful!</a>\n",
        "<a class=\"i\" data-id=\"0:00s0s_3NTuGnVHJih\" href=\"/eby/apa/4710699054.html\"></a>\n",
        "<a class=\"hdrlnk\" data-id=\"4710699054\" href=\"/eby/apa/4710699054.html\">Mission Village 2BD/2 Full Bath Condo</a>\n",
        "<a class=\"i\" data-id=\"0:00N0N_iQukiRNxnZs\" href=\"/eby/apa/4719628167.html\"></a>\n",
        "<a class=\"hdrlnk\" data-id=\"4719628167\" href=\"/eby/apa/4719628167.html\">*SPECIAL* Your new home is waiting for you! - SPACIOUS 1 BR APARTMENT </a>\n",
        "<a class=\"i\" data-id=\"0:00o0o_4GvnRTgXJCi\" href=\"/eby/apa/4708307695.html\"></a>\n",
        "<a class=\"hdrlnk\" data-id=\"4708307695\" href=\"/eby/apa/4708307695.html\">3 bed 2 .5 bath townhome remodeled in Fremont </a>\n",
        "<a class=\"i\" data-id=\"0:00r0r_bEWITBpUFRE\" href=\"/eby/apa/4719615008.html\"></a>\n",
        "<a class=\"hdrlnk\" data-id=\"4719615008\" href=\"/eby/apa/4719615008.html\">4BR/2BA Home For Rent in Fremont</a>\n",
        "<a class=\"i\" data-id=\"0:00e0e_dcZImcusqlS\" href=\"/eby/apa/4716419404.html\"></a>\n",
        "<a class=\"hdrlnk\" data-id=\"4716419404\" href=\"/eby/apa/4716419404.html\">Newly Renovated Single House. One Month Free Move in Special</a>\n",
        "<a class=\"i\" data-id=\"0:00N0N_2hPSao0gAcM\" href=\"/eby/apa/4719572603.html\"></a>\n",
        "<a class=\"hdrlnk\" data-id=\"4719572603\" href=\"/eby/apa/4719572603.html\">\u263bBART RIDERS DREAM/CLOSE TO SHOPPING\u263b</a>\n",
        "<a class=\"i\" data-id=\"0:00S0S_i5RLVK07E4J\" href=\"/eby/apa/4699576897.html\"></a>\n",
        "<a class=\"hdrlnk\" data-id=\"4699576897\" href=\"/eby/apa/4699576897.html\">3 bed 2 .5 bath townhome remodeled in Fremont</a>\n",
        "<a class=\"i\" data-id=\"0:00j0j_2OO50Ej4Btl\" href=\"/eby/apa/4706955374.html\"></a>\n",
        "<a class=\"hdrlnk\" data-id=\"4706955374\" href=\"/eby/apa/4706955374.html\">3 Bedroom Union City Home</a>\n",
        "<a class=\"i\" data-id=\"0:00w0w_6W0XoPJDbDX\" href=\"/eby/apa/4701295277.html\"></a>\n",
        "<a class=\"hdrlnk\" data-id=\"4701295277\" href=\"/eby/apa/4701295277.html\">Updated single family home for rent</a>\n",
        "<a class=\"i\" data-id=\"0:00P0P_6QbixFi5hY7\" href=\"/eby/apa/4719506217.html\"></a>\n",
        "<a class=\"hdrlnk\" data-id=\"4719506217\" href=\"/eby/apa/4719506217.html\">PRIVATE END UNIT, LARGE STORAGE, YOUR NEW HOME IS HERE!</a>\n",
        "<a class=\"i\" data-id=\"0:00n0n_dT6KfSXv838\" href=\"/eby/apa/4719445888.html\"></a>\n",
        "<a class=\"hdrlnk\" data-id=\"4719445888\" href=\"/eby/apa/4719445888.html\">Move In Ready! It Could Be Yours...</a>\n",
        "<a class=\"i\" data-id=\"0:00v0v_fQeql2k3V3k\" href=\"/eby/apa/4719489325.html\"></a>\n",
        "<a class=\"hdrlnk\" data-id=\"4719489325\" href=\"/eby/apa/4719489325.html\">Come home to green lawns at Pathfinder Village!</a>\n",
        "<a class=\"i\" data-id=\"0:00D0D_f4luMZGnKBh\" href=\"/eby/apa/4719497815.html\"></a>\n",
        "<a class=\"hdrlnk\" data-id=\"4719497815\" href=\"/eby/apa/4719497815.html\">Appealing Amenities, Covered Parking, Air Conditioning, Ceiling Fan</a>\n",
        "<a class=\"i\" data-id=\"0:00c0c_5i0Zr20ZFZH\" href=\"/eby/apa/4719474600.html\"></a>\n",
        "<a class=\"hdrlnk\" data-id=\"4719474600\" href=\"/eby/apa/4719474600.html\">Beautiful and spacious 1 bedrooms available </a>\n",
        "<a class=\"i\" data-id=\"0:00M0M_kWikfKsXK0G\" href=\"/eby/apa/4719473938.html\"></a>\n",
        "<a class=\"hdrlnk\" data-id=\"4719473938\" href=\"/eby/apa/4719473938.html\">Beautiful 2 bedrooms available </a>\n",
        "<a class=\"i\" data-id=\"0:00202_iM4hqMJHOyl\" href=\"/eby/apa/4719409678.html\"></a>\n",
        "<a class=\"hdrlnk\" data-id=\"4719409678\" href=\"/eby/apa/4719409678.html\">\u2661\u2665\u2661LOVE Your Home\u2661\u2665\u2661</a>\n",
        "<a class=\"i\" data-id=\"0:00B0B_3lyjWhbPM4r\" href=\"/eby/apa/4715245194.html\"></a>\n",
        "<a class=\"hdrlnk\" data-id=\"4715245194\" href=\"/eby/apa/4715245194.html\">Cottage in Warm Springs District of Fremont</a>\n",
        "<a class=\"i\" data-id=\"0:00N0N_kpjyetNT7d\" href=\"/eby/apa/4719373853.html\"></a>\n",
        "<a class=\"hdrlnk\" data-id=\"4719373853\" href=\"/eby/apa/4719373853.html\">~FALL IN LOVE WITH OUR  AWARD WINNING COMMUNITY~</a>\n",
        "<a class=\"i\" data-id=\"0:00l0l_f41eMuN5srv\" href=\"/eby/apa/4719344760.html\"></a>\n",
        "<a class=\"hdrlnk\" data-id=\"4719344760\" href=\"/eby/apa/4719344760.html\">\u2666COME AND SEE WHAT YOU HAVE BEEN MISSING\u2666</a>\n",
        "<a class=\"i\" data-id=\"0:00202_kVXQZ4MN5SD\" href=\"/eby/apa/4719187118.html\"></a>\n",
        "<a class=\"hdrlnk\" data-id=\"4719187118\" href=\"/eby/apa/4719187118.html\">Spectacular apartment home centrally located in Fremont!</a>\n",
        "<a class=\"i\" data-id=\"0:01313_buJQKZDjCjh\" href=\"/eby/apa/4708634531.html\"></a>\n",
        "<a class=\"hdrlnk\" data-id=\"4708634531\" href=\"/eby/apa/4708634531.html\">Spacious 5 Bedrooms in Niles, Fremont </a>\n",
        "<a class=\"i\" data-id=\"0:00b0b_iHt0hZpt84W\" href=\"/eby/apa/4719268597.html\"></a>\n",
        "<a class=\"hdrlnk\" data-id=\"4719268597\" href=\"/eby/apa/4719268597.html\">Outstanding Location, Beautiful 4 Bdrm House for Rent Union City </a>\n",
        "<a class=\"i\" data-id=\"0:00q0q_9pDNPG8BbQw\" href=\"/eby/apa/4719323239.html\"></a>\n",
        "<a class=\"hdrlnk\" data-id=\"4719323239\" href=\"/eby/apa/4719323239.html\">Beautiful  Single Family Home at Ardenwood</a>\n",
        "<a class=\"i\" data-id=\"0:00v0v_fQeql2k3V3k\" href=\"/eby/apa/4719280242.html\"></a>\n",
        "<a class=\"hdrlnk\" data-id=\"4719280242\" href=\"/eby/apa/4719280242.html\">Fully-equipped fitness center on-site!</a>\n",
        "<a class=\"i\" data-id=\"0:00N0N_kpjyetNT7d\" href=\"/eby/apa/4719275754.html\"></a>\n",
        "<a class=\"hdrlnk\" data-id=\"4719275754\" href=\"/eby/apa/4719275754.html\">GORGEOUS,TOP FLOOR APARTMENT,VISIT AMBER COURT TODAY! </a>\n",
        "<a class=\"i\" href=\"/eby/apa/4719262871.html\"></a>\n",
        "<a class=\"hdrlnk\" data-id=\"4719262871\" href=\"/eby/apa/4719262871.html\">Looking To Move Mid October? This 2nd Floor 1 Bedroom Will Be Ready!</a>\n",
        "<a class=\"i\" data-id=\"0:00i0i_279XEWr6WTk\" href=\"/eby/apa/4719240713.html\"></a>\n",
        "<a class=\"hdrlnk\" data-id=\"4719240713\" href=\"/eby/apa/4719240713.html\">Looking For Convenience?...Come to Paragon!</a>\n",
        "<a class=\"i\" data-id=\"0:00k0k_hEgBe3H99tN\" href=\"/eby/apa/4719247973.html\"></a>\n",
        "<a class=\"hdrlnk\" data-id=\"4719247973\" href=\"/eby/apa/4719247973.html\">Conveniently Located Near Hwy, Shopping, Restaurants, And More!</a>\n",
        "<a class=\"i\" data-id=\"0:00T0T_ctRXWHYCvFu\" href=\"/eby/apa/4719239533.html\"></a>\n",
        "<a class=\"hdrlnk\" data-id=\"4719239533\" href=\"/eby/apa/4719239533.html\"> 1Br/1Ba Suite with Separate Private Kitchen and Entrance \u7368\u9662</a>\n",
        "<a class=\"i\" data-id=\"0:01515_6M8Lnb27TAc\" href=\"/eby/apa/4719218830.html\"></a>\n",
        "<a class=\"hdrlnk\" data-id=\"4719218830\" href=\"/eby/apa/4719218830.html\">BRIGHT AND SUNNY 2 BEDROOM IN PRIME FREMONT LOCATION</a>\n",
        "<a class=\"i\" data-id=\"0:01313_f61tD2XJhVu\" href=\"/eby/apa/4719218293.html\"></a>\n",
        "<a class=\"hdrlnk\" data-id=\"4719218293\" href=\"/eby/apa/4719218293.html\">Available Immediately!</a>\n",
        "<a class=\"i\" data-id=\"0:00303_dgd9KQHebEZ\" href=\"/eby/apa/4708874045.html\"></a>\n",
        "<a class=\"hdrlnk\" data-id=\"4708874045\" href=\"/eby/apa/4708874045.html\">Charming Ranch Style Home</a>\n",
        "<a class=\"i\" data-id=\"0:00G0G_3FA89o5RLEO\" href=\"/eby/apa/4719209534.html\"></a>\n",
        "<a class=\"hdrlnk\" data-id=\"4719209534\" href=\"/eby/apa/4719209534.html\">Newly Remodeled 2 bdrm &amp; 2 bthrms with washer &amp; dryer! Call Today!</a>\n",
        "<a class=\"i\" href=\"/eby/apa/4719177234.html\"></a>\n",
        "<a class=\"hdrlnk\" data-id=\"4719177234\" href=\"/eby/apa/4719177234.html\">LARGE FREMONT EXECUTIVE HOME! TOP MISSION SCHOOLS!</a>\n",
        "<a class=\"i\" data-id=\"0:00909_8KOZ61jULjT\" href=\"/eby/apa/4719168016.html\"></a>\n",
        "<a class=\"hdrlnk\" data-id=\"4719168016\" href=\"/eby/apa/4719168016.html\">Beautiful 1 bedroom with brand new carpet &amp; lino!</a>\n",
        "<a class=\"i\" data-id=\"0:00P0P_ktsvNogWZiw\" href=\"/eby/apa/4719164927.html\"></a>\n",
        "<a class=\"hdrlnk\" data-id=\"4719164927\" href=\"/eby/apa/4719164927.html\">Modern home in an excellent location(3Bed/2.5bath in heart of Fremont)</a>\n",
        "<a class=\"i\" data-id=\"0:00Y0Y_bXIdT3Dt8ZW\" href=\"/eby/apa/4709086634.html\"></a>\n",
        "<a class=\"hdrlnk\" data-id=\"4709086634\" href=\"/eby/apa/4709086634.html\">Beautiful Ardenwood Home in Fremont</a>\n",
        "<a class=\"i\" data-id=\"0:00K0K_6KZe2Aob1pu\" href=\"/eby/apa/4719053083.html\"></a>\n",
        "<a class=\"hdrlnk\" data-id=\"4719053083\" href=\"/eby/apa/4719053083.html\">3BD/2BA Apartment with Quartz Countertops</a>\n",
        "<a class=\"i\" data-id=\"0:00r0r_7CQXrwqzxAY\" href=\"/eby/apa/4715989928.html\"></a>\n",
        "<a class=\"hdrlnk\" data-id=\"4715989928\" href=\"/eby/apa/4715989928.html\">37847 Niles Blvd #2, Fremont, Avail.11/1</a>\n",
        "<a class=\"i\" data-id=\"0:01212_bOVRyICKGCp\" href=\"/eby/apa/4715361058.html\"></a>\n",
        "<a class=\"hdrlnk\" data-id=\"4715361058\" href=\"/eby/apa/4715361058.html\">House for Rent Union City - Open House</a>\n",
        "<a class=\"i\" data-id=\"0:00N0N_2hPSao0gAcM\" href=\"/eby/apa/4719113814.html\"></a>\n",
        "<a class=\"hdrlnk\" data-id=\"4719113814\" href=\"/eby/apa/4719113814.html\">\u25d8\u2665EVERYONE IS WELCOME HOME HERE AT RANCHO LUNA/SOL \u25d8\u2665</a>\n",
        "<a class=\"i\" data-id=\"0:01515_drCJqDRxRK6\" href=\"/eby/apa/4709166878.html\"></a>\n",
        "<a class=\"hdrlnk\" data-id=\"4709166878\" href=\"/eby/apa/4709166878.html\">Entertainer's delight - Centrally located fabulously upgraded home</a>\n",
        "<a class=\"i\" data-id=\"0:00T0T_cq3QzP8w3Ft\" href=\"/eby/apa/4719087534.html\"></a>\n",
        "<a class=\"hdrlnk\" data-id=\"4719087534\" href=\"/eby/apa/4719087534.html\"> HOW CAN YOU SAY NO TO THIS COZY 2BED/1BATH @ALDERWOOD PARK! </a>\n",
        "<a class=\"button first\" href=\"/search/eby/apa?nh=54\" title=\"first page\">&lt;&lt;</a>\n",
        "<a class=\"button prev\" href=\"/search/eby/apa?nh=54\" title=\"previous page\">&lt; prev</a>\n",
        "<a class=\"button next\" href=\"/search/eby/apa?s=200&amp;nh=54\" title=\"next page\"> next &gt; </a>\n",
        "<a class=\"backtotop button\" href=\"#pagecontainer\">^ back to top</a>\n",
        "<a class=\"l\" href=\"http://sfbay.craigslist.org/search/eby/apa?nh=54&amp;s=100&amp;format=rss\">RSS</a>\n",
        "<a href=\"http://www.craigslist.org/about/rss\">(?)</a>\n",
        "<a href=\"//www.craigslist.org/about/help/\">help</a>\n",
        "<a href=\"//www.craigslist.org/about/scams\">safety</a>\n",
        "<a href=\"//www.craigslist.org/about/privacy.policy\">privacy</a>\n",
        "<a href=\"https://forums.craigslist.org/?forumID=8\">feedback</a>\n",
        "<a href=\"//www.craigslist.org/about/craigslist_is_hiring\">cl jobs</a>\n",
        "<a href=\"//www.craigslist.org/about/terms.of.use\">terms</a>\n",
        "<a href=\"//www.craigslist.org/about/\">about</a>\n",
        "<a href=\"/\">SF bay area</a>"
       ]
      },
      {
       "output_type": "stream",
       "stream": "stdout",
       "text": [
        "\n",
        "<a href=\"/search/hhh\">housing</a>\n",
        "<a href=\"/search/apa\">apts/housing for rent</a>\n",
        "<a href=\"https://post.craigslist.org/c/sfo?lang=en\">post</a>\n",
        "<a href=\"https://accounts.craigslist.org/login/home\">account</a>\n",
        "<a class=\"favlink\" href=\"#\"><span class=\"n\">0</span> favorites</a>\n",
        "<a class=\"saveme\" href=\"https://accounts.craigslist.org/login?rt=L&amp;rp=%2Fsavesearch%2Falert%3FURL%3Dhttp%253A%252F%252Fsfbay%252Ecraigslist%252Eorg%252Fsearch%252Feby%252Fapa%253Fnh%253D54\" title=\"save this search with email alerts\">alert</a>\n",
        "<a class=\"saveme\" href=\"https://accounts.craigslist.org/login?rt=L&amp;rp=%2Fsavesearch%2Fsave%3FURL%3Dhttp%253A%252F%252Fsfbay%252Ecraigslist%252Eorg%252Fsearch%252Feby%252Fapa%253Fnh%253D54\" title=\"save this search\">save</a>\n",
        "<a class=\"category\" href=\"/search/eby/apa?nh=54\">apts/housing for rent</a>\n",
        "<a class=\"category\" href=\"/search/eby/rea?nh=54\">real estate for sale</a>\n",
        "<a class=\"category\" href=\"/search/eby/roo?nh=54\">rooms &amp; shares</a>\n",
        "<a class=\"category\" href=\"/search/eby/off?nh=54\">office &amp; commercial</a>\n",
        "<a class=\"category\" href=\"/search/eby/sha?nh=54\">room/share wanted</a>\n",
        "<a class=\"category\" href=\"/search/eby/hou?nh=54\">apts wanted</a>\n",
        "<a class=\"category\" href=\"/search/eby/sub?nh=54\">sublets &amp; temporary</a>\n",
        "<a class=\"category\" href=\"/search/eby/prk?nh=54\">parking &amp; storage</a>\n",
        "<a class=\"category\" href=\"/search/eby/rew?nh=54\">real estate wanted</a>\n",
        "<a class=\"category\" href=\"/search/eby/vac?nh=54\">vacation rentals</a>\n",
        "<a class=\"category\" href=\"/search/eby/swp?nh=54\">housing swap</a>\n",
        "<a class=\"category\" href=\"/search/eby/sbw?nh=54\">sublet/temp wanted</a>\n",
        "<a class=\"mode button\" data-view=\"list\" href=\"#list\" id=\"listview\" title=\"show results in a list\">list</a>\n",
        "<a class=\"mode button\" data-view=\"pic\" href=\"#pic\" id=\"picview\" title=\"show results in a list with thumbnail pictures\">thumb</a>\n",
        "<a class=\"mode button\" data-view=\"grid\" href=\"#grid\" id=\"gridview\" title=\"show results side-by-side with larger pictures\">gallery</a>\n",
        "<a class=\"mode button\" data-view=\"map\" href=\"#map\" id=\"mapview\" title=\"show results on a map\">map</a>\n",
        "<a class=\"button\" href=\"/search/eby/apa?sort=priceasc&amp;nh=54\" title=\"sort by price, lowest to highest\"><span class=\"pricesort\"><span class=\"pricesort\">$</span>$</span>$</a>\n",
        "<a class=\"button\" href=\"/search/eby/apa?sort=pricedsc&amp;nh=54\" title=\"sort by price, highest to lowest\">$<span class=\"pricesort\">$<span class=\"pricesort\">$</span></span></a>\n",
        "<a class=\"button first\" href=\"/search/eby/apa?nh=54\" title=\"first page\">&lt;&lt;</a>\n",
        "<a class=\"button prev\" href=\"/search/eby/apa?s=100&amp;nh=54\" title=\"previous page\">&lt; prev</a>\n",
        "<a class=\"button next\" href=\"/search/eby/apa?s=300&amp;nh=54\" title=\"next page\"> next &gt; </a>\n",
        "<a class=\"i\" data-id=\"0:00L0L_draW8rVwhKK\" href=\"/eby/apa/4691387359.html\"></a>\n",
        "<a class=\"hdrlnk\" data-id=\"4691387359\" href=\"/eby/apa/4691387359.html\">Beautiful Niles Community! Downstairs Immediate Move-In !</a>\n",
        "<a class=\"i\" data-id=\"0:00L0L_draW8rVwhKK\" href=\"/eby/apa/4711238589.html\"></a>\n",
        "<a class=\"hdrlnk\" data-id=\"4711238589\" href=\"/eby/apa/4711238589.html\">Beautiful Niles Community! Upstairs  Move-In October 23th!</a>\n",
        "<a class=\"i\" data-id=\"0:00i0i_1auhH2rZUYm\" href=\"/eby/apa/4719108614.html\"></a>\n",
        "<a class=\"hdrlnk\" data-id=\"4719108614\" href=\"/eby/apa/4719108614.html\">Fremont 3 Bedroom 2 Bath  House</a>\n",
        "<a class=\"i\" data-id=\"0:00L0L_l0lBNSVbqBc\" href=\"/eby/apa/4719055408.html\"></a>\n",
        "<a class=\"hdrlnk\" data-id=\"4719055408\" href=\"/eby/apa/4719055408.html\">Coming Soon! Reserve Your New Home Now...</a>\n",
        "<a class=\"i\" data-id=\"0:00H0H_jZUJHlWEAD5\" href=\"/eby/apa/4712645561.html\"></a>\n",
        "<a class=\"hdrlnk\" data-id=\"4712645561\" href=\"/eby/apa/4712645561.html\">708 Chavel Court, Fremont, Avail.10/25 Ext.43</a>\n",
        "<a class=\"i\" data-id=\"0:00N0N_kpjyetNT7d\" href=\"/eby/apa/4719103428.html\"></a>\n",
        "<a class=\"hdrlnk\" data-id=\"4719103428\" href=\"/eby/apa/4719103428.html\">A CHEERFUL, SUNNY PLACE READY FOR YOU TO CALL HOME! </a>\n",
        "<a class=\"i\" data-id=\"0:00M0M_ckkHVUXSzkX\" href=\"/eby/apa/4719092872.html\"></a>\n",
        "<a class=\"hdrlnk\" data-id=\"4719092872\" href=\"/eby/apa/4719092872.html\">3850 Meeks Terrace, 3bd 2.5ba Townhouse with attached Garage, </a>\n",
        "<a class=\"i\" data-id=\"0:00K0K_6KZe2Aob1pu\" href=\"/eby/apa/4719030835.html\"></a>\n",
        "<a class=\"hdrlnk\" data-id=\"4719030835\" href=\"/eby/apa/4719030835.html\">3BD/2BA Apartment with Quartz Countertops</a>\n",
        "<a class=\"i\" data-id=\"0:00f0f_6rXjv5LwPc1\" href=\"/eby/apa/4719048546.html\"></a>\n",
        "<a class=\"hdrlnk\" data-id=\"4719048546\" href=\"/eby/apa/4719048546.html\">Available Immediately!!!</a>\n",
        "<a class=\"i\" data-id=\"0:00505_6297xq4c4kY\" href=\"/eby/apa/4719076304.html\"></a>\n",
        "<a class=\"hdrlnk\" data-id=\"4719076304\" href=\"/eby/apa/4719076304.html\">PARK-LIKE LANDSCAPING, POOL, SPA, FITNESS CENTER</a>\n",
        "<a class=\"i\" href=\"/eby/apa/4719047778.html\"></a>\n",
        "<a class=\"hdrlnk\" data-id=\"4719047778\" href=\"/eby/apa/4719047778.html\">Available Immediately!!!</a>\n",
        "<a class=\"i\" href=\"/eby/apa/4719065655.html\"></a>\n",
        "<a class=\"hdrlnk\" data-id=\"4719065655\" href=\"/eby/apa/4719065655.html\">Sub-Leasing 2 Bed Room Apartment Starting October 31 (AVALON Apartment</a>\n",
        "<a class=\"i\" data-id=\"0:00r0r_QV5ZhdrrDT\" href=\"/eby/apa/4719027449.html\"></a>\n",
        "<a class=\"hdrlnk\" data-id=\"4719027449\" href=\"/eby/apa/4719027449.html\">A Great Weekend To Find Your New Apartment Home..Waterstone@Fremont</a>\n",
        "<a class=\"i\" data-id=\"0:01212_6b4awnNx7hX\" href=\"/eby/apa/4719006949.html\"></a>\n",
        "<a class=\"hdrlnk\" data-id=\"4719006949\" href=\"/eby/apa/4719006949.html\">\u0095\u263bTHIS BEAUTIFUL UPGRADED APT HOME HAS ALL THE COMFORTS\u263b\u0095\u0095</a>\n",
        "<a class=\"i\" data-id=\"0:00C0C_2Np5xgsLQLs\" href=\"/eby/apa/4708387181.html\"></a>\n",
        "<a class=\"hdrlnk\" data-id=\"4708387181\" href=\"/eby/apa/4708387181.html\">4 Bed 1 Bath Large Lot House for Rent</a>\n",
        "<a class=\"i\" href=\"/eby/apa/4719004291.html\"></a>\n",
        "<a class=\"hdrlnk\" data-id=\"4719004291\" href=\"/eby/apa/4719004291.html\">Fully-furnished in-law studio with private entry</a>\n",
        "<a class=\"i\" data-id=\"0:01313_cxZoJ9ATqDF\" href=\"/eby/apa/4718978993.html\"></a>\n",
        "<a class=\"hdrlnk\" data-id=\"4718978993\" href=\"/eby/apa/4718978993.html\">4932 Bridgepoint Place, Union City, Avail. 11/8</a>\n",
        "<a class=\"i\" data-id=\"0:00u0u_fCjObI2d4p4\" href=\"/eby/apa/4718980244.html\"></a>\n",
        "<a class=\"hdrlnk\" data-id=\"4718980244\" href=\"/eby/apa/4718980244.html\">Outstanding Location, Heated Pool, Sauna, Pets Welcome</a>\n",
        "<a class=\"i\" data-id=\"0:00x0x_9RKBqurZJgP\" href=\"/eby/apa/4718932110.html\"></a>\n",
        "<a class=\"hdrlnk\" data-id=\"4718932110\" href=\"/eby/apa/4718932110.html\">Mission San Jose Fremont Home for Rent</a>\n",
        "<a class=\"i\" data-id=\"0:00i0i_gCsIOWy3RD8\" href=\"/eby/apa/4675852525.html\"></a>\n",
        "<a class=\"hdrlnk\" data-id=\"4675852525\" href=\"/eby/apa/4675852525.html\">Newly Built 4 Bed/3.5 Bath Single Home in Fremont Irvington</a>\n",
        "<a class=\"i\" data-id=\"0:00y0y_hzEiErVcdtp\" href=\"/eby/apa/4718930446.html\"></a>\n",
        "<a class=\"hdrlnk\" data-id=\"4718930446\" href=\"/eby/apa/4718930446.html\">Presidio Apartments - Weekend Special!</a>\n",
        "<a class=\"i\" href=\"/eby/apa/4718888221.html\"></a>\n",
        "<a class=\"hdrlnk\" data-id=\"4718888221\" href=\"/eby/apa/4718888221.html\">Remodeled 4 Bedroom House in Central Fremont</a>\n",
        "<a class=\"i\" data-id=\"0:00T0T_l6SFov9DEZ0\" href=\"/eby/apa/4718897884.html\"></a>\n",
        "<a class=\"hdrlnk\" data-id=\"4718897884\" href=\"/eby/apa/4718897884.html\">Wonderful Cabrillo Area Home!</a>\n",
        "<a class=\"i\" data-id=\"0:00q0q_20kAP11N4LW\" href=\"/eby/apa/4718902969.html\"></a>\n",
        "<a class=\"hdrlnk\" data-id=\"4718902969\" href=\"/eby/apa/4718902969.html\">Stunning Studio #806 Is Waiting For You! Schedule Your Personal Tour!</a>\n",
        "<a class=\"i\" data-id=\"0:00v0v_kIDpjWuX5YS\" href=\"/eby/apa/4718925342.html\"></a>\n",
        "<a class=\"hdrlnk\" data-id=\"4718925342\" href=\"/eby/apa/4718925342.html\">Corner Unit Apartment Home! Convenient Location! Great Price!</a>\n",
        "<a class=\"i\" data-id=\"0:00D0D_9Sn2UQRVPXX\" href=\"/eby/apa/4718918187.html\"></a>\n",
        "<a class=\"hdrlnk\" data-id=\"4718918187\" href=\"/eby/apa/4718918187.html\">Commuting? We have the ideal location.</a>\n",
        "<a class=\"i\" data-id=\"0:00w0w_8poGkZnc3cO\" href=\"/eby/apa/4718880555.html\"></a>\n",
        "<a class=\"hdrlnk\" data-id=\"4718880555\" href=\"/eby/apa/4718880555.html\">\u25d8CLOSE AND CONVENIENT FOR YOUR LIFESTYLE\u25d8</a>\n",
        "<a class=\"i\" data-id=\"0:00q0q_jqd4dVzMJHr\" href=\"/eby/apa/4718891996.html\"></a>\n",
        "<a class=\"hdrlnk\" data-id=\"4718891996\" href=\"/eby/apa/4718891996.html\">Looking For A Pet Friendly Community...Waterstone@Fremont</a>\n",
        "<a class=\"i\" data-id=\"0:00A0A_6tN78StRf2t\" href=\"/eby/apa/4718851609.html\"></a>\n",
        "<a class=\"hdrlnk\" data-id=\"4718851609\" href=\"/eby/apa/4718851609.html\">Beautiful house, close to Dumbarton Bridge(Facebook), shopping center </a>\n",
        "<a class=\"i\" data-id=\"0:00r0r_3w5YvYTXhOO\" href=\"/eby/apa/4718837507.html\"></a>\n",
        "<a class=\"hdrlnk\" data-id=\"4718837507\" href=\"/eby/apa/4718837507.html\">Beautiful 3Bdrm Townhouse in Fremont Irvington District</a>\n",
        "<a class=\"i\" data-id=\"0:00w0w_3snpcqX2MJy\" href=\"/eby/apa/4695475060.html\"></a>\n",
        "<a class=\"hdrlnk\" data-id=\"4695475060\" href=\"/eby/apa/4695475060.html\">luxuary 4bed 2 bath union city $,2,999 first month </a>\n",
        "<a class=\"i\" data-id=\"0:00w0w_3snpcqX2MJy\" href=\"/eby/apa/4698874935.html\"></a>\n",
        "<a class=\"hdrlnk\" data-id=\"4698874935\" href=\"/eby/apa/4698874935.html\">luxuary 4bed 2 bath union city $,2,999 first month</a>\n",
        "<a class=\"i\" data-id=\"0:01111_j4VVxzsTwl2\" href=\"/eby/apa/4718773776.html\"></a>\n",
        "<a class=\"hdrlnk\" data-id=\"4718773776\" href=\"/eby/apa/4718773776.html\">4 Bed/2 Bath house for rent</a>\n",
        "<a class=\"i\" data-id=\"0:00F0F_g07H0ZUXv26\" href=\"/eby/apa/4708765187.html\"></a>\n",
        "<a class=\"hdrlnk\" data-id=\"4708765187\" href=\"/eby/apa/4708765187.html\">ONE bedroom Unit Available NOW in the Heart of Fremont</a>\n",
        "<a class=\"i\" data-id=\"0:00o0o_dD9ijRJeOTD\" href=\"/eby/apa/4700013075.html\"></a>\n",
        "<a class=\"hdrlnk\" data-id=\"4700013075\" href=\"/eby/apa/4700013075.html\">Open house 10/18 10/19 1-4pm3 Bed 2 Bath Single Family Home in Fremont</a>\n",
        "<a class=\"i\" data-id=\"0:00r0r_7uCpjavK1sC\" href=\"/eby/apa/4718415269.html\"></a>\n",
        "<a class=\"hdrlnk\" data-id=\"4718415269\" href=\"/eby/apa/4718415269.html\">Newer home in Fremont's Ardenwood neighborhood</a>\n",
        "<a class=\"i\" href=\"/eby/apa/4718402901.html\"></a>\n",
        "<a class=\"hdrlnk\" data-id=\"4718402901\" href=\"/eby/apa/4718402901.html\">4 br 2 ba Brookvale of Fremont</a>\n",
        "<a class=\"i\" data-id=\"0:00101_bLZKGmxUGtK\" href=\"/eby/apa/4714930467.html\"></a>\n",
        "<a class=\"hdrlnk\" data-id=\"4714930467\" href=\"/eby/apa/4714930467.html\">$2200 /2 Bed 1 Bath - New Remodeled</a>\n",
        "<a class=\"i\" href=\"/eby/apa/4718342445.html\"></a>\n",
        "<a class=\"hdrlnk\" data-id=\"4718342445\" href=\"/eby/apa/4718342445.html\">??? Stunning Semi-Custom Home ???</a>\n",
        "<a class=\"i\" data-id=\"0:00b0b_dZIAZjPx14m\" href=\"/eby/apa/4718341765.html\"></a>\n",
        "<a class=\"hdrlnk\" data-id=\"4718341765\" href=\"/eby/apa/4718341765.html\">4 bedroom 2 story house</a>\n",
        "<a class=\"i\" data-id=\"0:00m0m_2YpmdIQOCyz\" href=\"/eby/apa/4718283672.html\"></a>\n",
        "<a class=\"hdrlnk\" data-id=\"4718283672\" href=\"/eby/apa/4718283672.html\">4 bedroom,2 Bath</a>\n",
        "<a class=\"i\" data-id=\"0:00l0l_l53CVMTm7VD\" href=\"/eby/apa/4718268865.html\"></a>\n",
        "<a class=\"hdrlnk\" data-id=\"4718268865\" href=\"/eby/apa/4718268865.html\">Beautiful 5 bedroom 3 bath house $3,600.00 with lots of upgrades</a>\n",
        "<a class=\"i\" data-id=\"0:00P0P_6QbixFi5hY7\" href=\"/eby/apa/4718206189.html\"></a>\n",
        "<a class=\"hdrlnk\" data-id=\"4718206189\" href=\"/eby/apa/4718206189.html\">PRIVATE END UNIT, LARGE STORAGE, YOUR NEW HOME IS HERE!</a>\n",
        "<a class=\"i\" href=\"/eby/apa/4718195034.html\"></a>\n",
        "<a class=\"hdrlnk\" data-id=\"4718195034\" href=\"/eby/apa/4718195034.html\">1 Br-Studio residential in Union City</a>\n",
        "<a class=\"i\" data-id=\"0:00y0y_jJpeEVOe7iq\" href=\"/eby/apa/4718175757.html\"></a>\n",
        "<a class=\"hdrlnk\" data-id=\"4718175757\" href=\"/eby/apa/4718175757.html\">GREAT 2 BEDROOMS DUPLEX  WITH GARAGE AND LARGE BACK YARD</a>\n",
        "<a class=\"i\" data-id=\"0:00Z0Z_igZoyGkm0Ul\" href=\"/eby/apa/4718181090.html\"></a>\n",
        "<a class=\"hdrlnk\" data-id=\"4718181090\" href=\"/eby/apa/4718181090.html\">Fremont Remodeled 1B/1B Cottage with Private Garage and Yard</a>\n",
        "<a class=\"i\" data-id=\"0:00u0u_2RmriHSviaZ\" href=\"/eby/apa/4718164387.html\"></a>\n",
        "<a class=\"hdrlnk\" data-id=\"4718164387\" href=\"/eby/apa/4718164387.html\">Gorgeous REMODELED 2,604 sq ft home w/5 bed &amp; 3 baths!!!</a>\n",
        "<a class=\"i\" data-id=\"0:00F0F_nZzOXVB2H0\" href=\"/eby/apa/4718139101.html\"></a>\n",
        "<a class=\"hdrlnk\" data-id=\"4718139101\" href=\"/eby/apa/4718139101.html\">\u25d8ENJOY YOUR SURROUNDINGS IN AN UPDATED APT HOME TODAY\u25d8</a>\n",
        "<a class=\"i\" data-id=\"0:00l0l_f41eMuN5srv\" href=\"/eby/apa/4718139132.html\"></a>\n",
        "<a class=\"hdrlnk\" data-id=\"4718139132\" href=\"/eby/apa/4718139132.html\">\u2666WE HAVE WONDERFUL APT HOMES FOR RENT CLOSE TO EVERYTHING/FREMONT HUB\u03d7</a>\n",
        "<a class=\"i\" data-id=\"0:00p0p_8c1uiuiZ6Hl\" href=\"/eby/apa/4718095749.html\"></a>\n",
        "<a class=\"hdrlnk\" data-id=\"4718095749\" href=\"/eby/apa/4718095749.html\">Hurry While The Prices Are LOW!! Ask About #914!!</a>\n",
        "<a class=\"i\" data-id=\"0:00g0g_cegpMmVfrZ9\" href=\"/eby/apa/4718111156.html\"></a>\n",
        "<a class=\"hdrlnk\" data-id=\"4718111156\" href=\"/eby/apa/4718111156.html\">Newer Union City Home Available Nov1 Convenient Location W/D &amp;Hardwood</a>\n",
        "<a class=\"i\" data-id=\"0:00202_3Yb4Sm8rhZO\" href=\"/eby/apa/4718110291.html\"></a>\n",
        "<a class=\"hdrlnk\" data-id=\"4718110291\" href=\"/eby/apa/4718110291.html\">Meadowbrook 2 bed, 2bath condo</a>\n",
        "<a class=\"i\" data-id=\"0:00X0X_agBrulL8G8B\" href=\"/eby/apa/4685873529.html\"></a>\n",
        "<a class=\"hdrlnk\" data-id=\"4685873529\" href=\"/eby/apa/4685873529.html\">Great Fremont Location! Open House Saturday 10am-4pm!</a>\n",
        "<a class=\"i\" data-id=\"0:00404_acNj96g3nBo\" href=\"/eby/apa/4718079341.html\"></a>\n",
        "<a class=\"hdrlnk\" data-id=\"4718079341\" href=\"/eby/apa/4718079341.html\">Make The Woods Your Home Today...Call NOW!!</a>\n",
        "<a class=\"i\" data-id=\"0:00P0P_66goakhD6WF\" href=\"/eby/apa/4718073843.html\"></a>\n",
        "<a class=\"hdrlnk\" data-id=\"4718073843\" href=\"/eby/apa/4718073843.html\">3Bd/2Baths Single Family Home - Schedule Your Appointment</a>\n",
        "<a class=\"i\" data-id=\"0:00Q0Q_46LVbviLEQl\" href=\"/eby/apa/4718057214.html\"></a>\n",
        "<a class=\"hdrlnk\" data-id=\"4718057214\" href=\"/eby/apa/4718057214.html\">Affordable and Beautiful!</a>\n",
        "<a class=\"i\" data-id=\"0:00202_iM4hqMJHOyl\" href=\"/eby/apa/4718002189.html\"></a>\n",
        "<a class=\"hdrlnk\" data-id=\"4718002189\" href=\"/eby/apa/4718002189.html\">\u260e~\u260e~\u260e~Oak Pointe Apartments ~\u260e~\u260e~\u260e</a>\n",
        "<a class=\"i\" data-id=\"0:00q0q_ct9cKIa1S0\" href=\"/eby/apa/4717962752.html\"></a>\n",
        "<a class=\"hdrlnk\" data-id=\"4717962752\" href=\"/eby/apa/4717962752.html\">Luxury apartment community w/the comfort &amp; convenience of city life!</a>\n",
        "<a class=\"i\" data-id=\"0:00505_6297xq4c4kY\" href=\"/eby/apa/4718001748.html\"></a>\n",
        "<a class=\"hdrlnk\" data-id=\"4718001748\" href=\"/eby/apa/4718001748.html\">OPEN FLOOR PLAN WITH A PRIVATE PATIO &amp;GYM</a>\n",
        "<a class=\"i\" data-id=\"0:00b0b_2WlNJWInysx\" href=\"/eby/apa/4717989371.html\"></a>\n",
        "<a class=\"hdrlnk\" data-id=\"4717989371\" href=\"/eby/apa/4717989371.html\">Nice Remodeled Home in Fremont!</a>\n",
        "<a class=\"i\" data-id=\"0:00u0u_lw3pB7Q3mQ6\" href=\"/eby/apa/4704285477.html\"></a>\n",
        "<a class=\"hdrlnk\" data-id=\"4704285477\" href=\"/eby/apa/4704285477.html\">Fairly new remodeled Single Family House </a>\n",
        "<a class=\"i\" data-id=\"0:00D0D_eLwP175WZ9o\" href=\"/eby/apa/4717955759.html\"></a>\n",
        "<a class=\"hdrlnk\" data-id=\"4717955759\" href=\"/eby/apa/4717955759.html\">Luxurious Homes, Walk to BART, Washer Dryer in Unit</a>\n",
        "<a class=\"i\" data-id=\"0:00o0o_ecjap7DOf4A\" href=\"/eby/apa/4717905618.html\"></a>\n",
        "<a class=\"hdrlnk\" data-id=\"4717905618\" href=\"/eby/apa/4717905618.html\">SPACIOUS 1 BED ROOM in Excellent Community</a>\n",
        "<a class=\"i\" data-id=\"0:00q0q_jqd4dVzMJHr\" href=\"/eby/apa/4717861265.html\"></a>\n",
        "<a class=\"hdrlnk\" data-id=\"4717861265\" href=\"/eby/apa/4717861265.html\">A Great Junior 1br Unit To Call home @waterstone Fremont</a>\n",
        "<a class=\"i\" data-id=\"0:00b0b_l5tkSCgz4Bs\" href=\"/eby/apa/4717846989.html\"></a>\n",
        "<a class=\"hdrlnk\" data-id=\"4717846989\" href=\"/eby/apa/4717846989.html\">\u263b\u2665THE MOST LIKED PLACE TO LIVE ON FACEBOOK\u263b\u2665</a>\n",
        "<a class=\"i\" data-id=\"0:00T0T_jSClnmsZJQZ\" href=\"/eby/apa/4717850427.html\"></a>\n",
        "<a class=\"hdrlnk\" data-id=\"4717850427\" href=\"/eby/apa/4717850427.html\">Are You Ready To Move..Waterstone@Fremont</a>\n",
        "<a class=\"i\" data-id=\"0:00z0z_1RyG2DxlaPD\" href=\"/eby/apa/4717837201.html\"></a>\n",
        "<a class=\"hdrlnk\" data-id=\"4717837201\" href=\"/eby/apa/4717837201.html\">Comfort and Convenience Right At Your Finger Tip..Waterstone@Fremont</a>\n",
        "<a class=\"i\" data-id=\"0:00Y0Y_1WJlPRdgNOE\" href=\"/eby/apa/4717828930.html\"></a>\n",
        "<a class=\"hdrlnk\" data-id=\"4717828930\" href=\"/eby/apa/4717828930.html\">Looking for quick access to BART and Shopping? Look no further!</a>\n",
        "<a class=\"i\" data-id=\"0:00g0g_45zgkpUlW40\" href=\"/eby/apa/4717797626.html\"></a>\n",
        "<a class=\"hdrlnk\" data-id=\"4717797626\" href=\"/eby/apa/4717797626.html\">\u263aFEEL THE WARMTH HERE AT RANCHO LUNA/SOL</a>\n",
        "<a class=\"i\" data-id=\"0:00N0N_a1izzqGSeUJ\" href=\"/eby/apa/4717808304.html\"></a>\n",
        "<a class=\"hdrlnk\" data-id=\"4717808304\" href=\"/eby/apa/4717808304.html\">Fully furnished trailer home</a>\n",
        "<a class=\"i\" data-id=\"0:01616_7mxtG7ucEnk\" href=\"/eby/apa/4717640141.html\"></a>\n",
        "<a class=\"hdrlnk\" data-id=\"4717640141\" href=\"/eby/apa/4717640141.html\">Fabulous Executive Home Boarder of Union City &amp; Hayward</a>\n",
        "<a class=\"i\" href=\"/eby/apa/4717691905.html\"></a>\n",
        "<a class=\"hdrlnk\" data-id=\"4717691905\" href=\"/eby/apa/4717691905.html\">Available Immediately!!!</a>\n",
        "<a class=\"i\" href=\"/eby/apa/4717691173.html\"></a>\n",
        "<a class=\"hdrlnk\" data-id=\"4717691173\" href=\"/eby/apa/4717691173.html\">Available Immediately!!!</a>\n",
        "<a class=\"i\" data-id=\"0:00n0n_6wqgwfkjPUW\" href=\"/eby/apa/4717668366.html\"></a>\n",
        "<a class=\"hdrlnk\" data-id=\"4717668366\" href=\"/eby/apa/4717668366.html\">ELEGANTLY DESIGNED 2 BEDROOMS IN A BEAUTIFULLY LANDSCAPED COMMUNITY</a>\n",
        "<a class=\"i\" data-id=\"0:00D0D_iPDtJZEqOyr\" href=\"/eby/apa/4717669681.html\"></a>\n",
        "<a class=\"hdrlnk\" data-id=\"4717669681\" href=\"/eby/apa/4717669681.html\">FULLY UPGRADED 1 BEDROOM APARTMENT IN FREMONT! PRIVATE BALCONY!</a>\n",
        "<a class=\"i\" href=\"/eby/apa/4717634471.html\"></a>\n",
        "<a class=\"hdrlnk\" data-id=\"4717634471\" href=\"/eby/apa/4717634471.html\">Spacious Two Bedroom One Bath, Apartment Home. Ready 10/13!</a>\n",
        "<a class=\"i\" data-id=\"0:00x0x_aoMDfSjdWAa\" href=\"/eby/apa/4717628738.html\"></a>\n",
        "<a class=\"hdrlnk\" data-id=\"4717628738\" href=\"/eby/apa/4717628738.html\">The peace of mind you deserve.</a>\n",
        "<a class=\"i\" data-id=\"0:00S0S_ejfVchAqhve\" href=\"/eby/apa/4717653735.html\"></a>\n",
        "<a class=\"hdrlnk\" data-id=\"4717653735\" href=\"/eby/apa/4717653735.html\">Available Immediately!!!</a>\n",
        "<a class=\"i\" data-id=\"0:00j0j_4Br4gJiLlOH\" href=\"/eby/apa/4717618384.html\"></a>\n",
        "<a class=\"hdrlnk\" data-id=\"4717618384\" href=\"/eby/apa/4717618384.html\">Charming apartment homes w/spacious and open kitchen layout!</a>\n",
        "<a class=\"i\" data-id=\"0:01515_esYXx8MIdtQ\" href=\"/eby/apa/4717568550.html\"></a>\n",
        "<a class=\"hdrlnk\" data-id=\"4717568550\" href=\"/eby/apa/4717568550.html\">2 BR Town Homes Available October 22 &amp; 24</a>\n",
        "<a class=\"i\" data-id=\"0:00D0D_9Sn2UQRVPXX\" href=\"/eby/apa/4717606226.html\"></a>\n",
        "<a class=\"hdrlnk\" data-id=\"4717606226\" href=\"/eby/apa/4717606226.html\">No Fooling Around! Fantastic Prices!</a>\n",
        "<a class=\"i\" data-id=\"0:00P0P_6QbixFi5hY7\" href=\"/eby/apa/4717582558.html\"></a>\n",
        "<a class=\"hdrlnk\" data-id=\"4717582558\" href=\"/eby/apa/4717582558.html\">RESORT STYLE LIVING IN PRIME FREMONT LOCATION</a>\n",
        "<a class=\"i\" data-id=\"0:00202_iM4hqMJHOyl\" href=\"/eby/apa/4717544934.html\"></a>\n",
        "<a class=\"hdrlnk\" data-id=\"4717544934\" href=\"/eby/apa/4717544934.html\">\u2248\u25ce\u2248Come Home This Summer!\u2248\u25ce\u2248</a>\n",
        "<a class=\"i\" data-id=\"0:00x0x_cn5apVKnSXb\" href=\"/eby/apa/4717573618.html\"></a>\n",
        "<a class=\"hdrlnk\" data-id=\"4717573618\" href=\"/eby/apa/4717573618.html\">3Bedroom 2Bath house Available Now/ Great Location (Fremont)</a>\n",
        "<a class=\"i\" data-id=\"0:00A0A_6tN78StRf2t\" href=\"/eby/apa/4717573101.html\"></a>\n",
        "<a class=\"hdrlnk\" data-id=\"4717573101\" href=\"/eby/apa/4717573101.html\">Beautiful house, close to Dumbarton Bridge(Facebook), shopping center </a>\n",
        "<a class=\"i\" data-id=\"0:01313_cxZoJ9ATqDF\" href=\"/eby/apa/4717545721.html\"></a>\n",
        "<a class=\"hdrlnk\" data-id=\"4717545721\" href=\"/eby/apa/4717545721.html\">OPEN HOUSE- Saturday, October 18, 2014 from 11am-2pm</a>\n",
        "<a class=\"i\" data-id=\"0:00P0P_uLtPzplcIz\" href=\"/eby/apa/4692790556.html\"></a>\n",
        "<a class=\"hdrlnk\" data-id=\"4692790556\" href=\"/eby/apa/4692790556.html\">Completely renovated apartment! 2 bed/1 bath in a gated community</a>\n",
        "<a class=\"i\" data-id=\"0:01313_fFFbgmlOuMt\" href=\"/eby/apa/4717522155.html\"></a>\n",
        "<a class=\"hdrlnk\" data-id=\"4717522155\" href=\"/eby/apa/4717522155.html\">5 year new townhouse for rent</a>\n",
        "<a class=\"i\" data-id=\"0:00o0o_770j4yJ5LPO\" href=\"/eby/apa/4717504335.html\"></a>\n",
        "<a class=\"hdrlnk\" data-id=\"4717504335\" href=\"/eby/apa/4717504335.html\">Gorgeous Mission Fremont Home ... Will not Last!!!</a>\n",
        "<a class=\"i\" data-id=\"0:00l0l_f41eMuN5srv\" href=\"/eby/apa/4717473394.html\"></a>\n",
        "<a class=\"hdrlnk\" data-id=\"4717473394\" href=\"/eby/apa/4717473394.html\">\u2665HOME IS WHERE THE HEART IS\u2665RANHO LUNA/SOL APT HOMES NOW LEASINGb</a>\n",
        "<a class=\"i\" data-id=\"0:00L0L_aK3IKGqEMVU\" href=\"/eby/apa/4717430532.html\"></a>\n",
        "<a class=\"hdrlnk\" data-id=\"4717430532\" href=\"/eby/apa/4717430532.html\">Moving Can Be Hard. We'll Make it Easy at The Presidio!</a>\n",
        "<a class=\"i\" data-id=\"0:01111_ejMWrKBNSQb\" href=\"/eby/apa/4717478172.html\"></a>\n",
        "<a class=\"hdrlnk\" data-id=\"4717478172\" href=\"/eby/apa/4717478172.html\">\u2666A CATCH! COME TOUR TODAY \u2666</a>\n",
        "<a class=\"i\" data-id=\"0:00D0D_f4luMZGnKBh\" href=\"/eby/apa/4717477696.html\"></a>\n",
        "<a class=\"hdrlnk\" data-id=\"4717477696\" href=\"/eby/apa/4717477696.html\">Enriched Lifestyle, Near Shops and Dining, Community Clubhouse</a>\n",
        "<a class=\"i\" data-id=\"0:00i0i_iRMThUz7zoI\" href=\"/eby/apa/4717426165.html\"></a>\n",
        "<a class=\"hdrlnk\" data-id=\"4717426165\" href=\"/eby/apa/4717426165.html\">Commuting is Easy when You Live at The Presidio!</a>\n",
        "<a class=\"i\" data-id=\"0:00S0S_i5RLVK07E4J\" href=\"/eby/apa/4706997677.html\"></a>\n",
        "<a class=\"hdrlnk\" data-id=\"4706997677\" href=\"/eby/apa/4706997677.html\">3 bed 2 .5 bath townhome remodeled in Fremont </a>\n",
        "<a class=\"i\" data-id=\"0:00404_lPAeq0XGDvN\" href=\"/eby/apa/4717225080.html\"></a>\n",
        "<a class=\"hdrlnk\" data-id=\"4717225080\" href=\"/eby/apa/4717225080.html\">Coming Soon! Lovely Home in the Irvington Area!</a>\n",
        "<a class=\"i\" data-id=\"0:00k0k_5eY7q5DXZFC\" href=\"/eby/apa/4708469914.html\"></a>\n",
        "<a class=\"hdrlnk\" data-id=\"4708469914\" href=\"/eby/apa/4708469914.html\">4BR/3BA Bright, luxury house in Fremont near Central Park</a>\n",
        "<a class=\"i\" data-id=\"0:00B0B_cl4SHITNI46\" href=\"/eby/apa/4713236409.html\"></a>\n",
        "<a class=\"hdrlnk\" data-id=\"4713236409\" href=\"/eby/apa/4713236409.html\">Large Two Story Condo Available!</a>\n",
        "<a class=\"i\" data-id=\"0:00D0D_99I6p03WUwN\" href=\"/eby/apa/4697859201.html\"></a>\n",
        "<a class=\"hdrlnk\" data-id=\"4697859201\" href=\"/eby/apa/4697859201.html\">Lovely Mission Area Home!</a>\n",
        "<a class=\"i\" data-id=\"0:00B0B_cl4SHITNI46\" href=\"/eby/apa/4708241212.html\"></a>\n",
        "<a class=\"hdrlnk\" data-id=\"4708241212\" href=\"/eby/apa/4708241212.html\">Large Two Bedroom Condo!</a>\n",
        "<a class=\"button first\" href=\"/search/eby/apa?nh=54\" title=\"first page\">&lt;&lt;</a>\n",
        "<a class=\"button prev\" href=\"/search/eby/apa?s=100&amp;nh=54\" title=\"previous page\">&lt; prev</a>\n",
        "<a class=\"button next\" href=\"/search/eby/apa?s=300&amp;nh=54\" title=\"next page\"> next &gt; </a>\n",
        "<a class=\"backtotop button\" href=\"#pagecontainer\">^ back to top</a>\n",
        "<a class=\"l\" href=\"http://sfbay.craigslist.org/search/eby/apa?nh=54&amp;s=200&amp;format=rss\">RSS</a>\n",
        "<a href=\"http://www.craigslist.org/about/rss\">(?)</a>\n",
        "<a href=\"//www.craigslist.org/about/help/\">help</a>\n",
        "<a href=\"//www.craigslist.org/about/scams\">safety</a>\n",
        "<a href=\"//www.craigslist.org/about/privacy.policy\">privacy</a>\n",
        "<a href=\"https://forums.craigslist.org/?forumID=8\">feedback</a>\n",
        "<a href=\"//www.craigslist.org/about/craigslist_is_hiring\">cl jobs</a>\n",
        "<a href=\"//www.craigslist.org/about/terms.of.use\">terms</a>\n",
        "<a href=\"//www.craigslist.org/about/\">about</a>\n",
        "<a href=\"/\">SF bay area</a>"
       ]
      },
      {
       "output_type": "stream",
       "stream": "stdout",
       "text": [
        "\n",
        "<a href=\"/search/hhh\">housing</a>\n",
        "<a href=\"/search/apa\">apts/housing for rent</a>\n",
        "<a href=\"https://post.craigslist.org/c/sfo?lang=en\">post</a>\n",
        "<a href=\"https://accounts.craigslist.org/login/home\">account</a>\n",
        "<a class=\"favlink\" href=\"#\"><span class=\"n\">0</span> favorites</a>\n",
        "<a class=\"saveme\" href=\"https://accounts.craigslist.org/login?rt=L&amp;rp=%2Fsavesearch%2Falert%3FURL%3Dhttp%253A%252F%252Fsfbay%252Ecraigslist%252Eorg%252Fsearch%252Feby%252Fapa%253Fnh%253D54\" title=\"save this search with email alerts\">alert</a>\n",
        "<a class=\"saveme\" href=\"https://accounts.craigslist.org/login?rt=L&amp;rp=%2Fsavesearch%2Fsave%3FURL%3Dhttp%253A%252F%252Fsfbay%252Ecraigslist%252Eorg%252Fsearch%252Feby%252Fapa%253Fnh%253D54\" title=\"save this search\">save</a>\n",
        "<a class=\"category\" href=\"/search/eby/apa?nh=54\">apts/housing for rent</a>\n",
        "<a class=\"category\" href=\"/search/eby/rea?nh=54\">real estate for sale</a>\n",
        "<a class=\"category\" href=\"/search/eby/roo?nh=54\">rooms &amp; shares</a>\n",
        "<a class=\"category\" href=\"/search/eby/off?nh=54\">office &amp; commercial</a>\n",
        "<a class=\"category\" href=\"/search/eby/sha?nh=54\">room/share wanted</a>\n",
        "<a class=\"category\" href=\"/search/eby/hou?nh=54\">apts wanted</a>\n",
        "<a class=\"category\" href=\"/search/eby/sub?nh=54\">sublets &amp; temporary</a>\n",
        "<a class=\"category\" href=\"/search/eby/prk?nh=54\">parking &amp; storage</a>\n",
        "<a class=\"category\" href=\"/search/eby/rew?nh=54\">real estate wanted</a>\n",
        "<a class=\"category\" href=\"/search/eby/vac?nh=54\">vacation rentals</a>\n",
        "<a class=\"category\" href=\"/search/eby/swp?nh=54\">housing swap</a>\n",
        "<a class=\"category\" href=\"/search/eby/sbw?nh=54\">sublet/temp wanted</a>\n",
        "<a class=\"mode button\" data-view=\"list\" href=\"#list\" id=\"listview\" title=\"show results in a list\">list</a>\n",
        "<a class=\"mode button\" data-view=\"pic\" href=\"#pic\" id=\"picview\" title=\"show results in a list with thumbnail pictures\">thumb</a>\n",
        "<a class=\"mode button\" data-view=\"grid\" href=\"#grid\" id=\"gridview\" title=\"show results side-by-side with larger pictures\">gallery</a>\n",
        "<a class=\"mode button\" data-view=\"map\" href=\"#map\" id=\"mapview\" title=\"show results on a map\">map</a>\n",
        "<a class=\"button\" href=\"/search/eby/apa?sort=priceasc&amp;nh=54\" title=\"sort by price, lowest to highest\"><span class=\"pricesort\"><span class=\"pricesort\">$</span>$</span>$</a>\n",
        "<a class=\"button\" href=\"/search/eby/apa?sort=pricedsc&amp;nh=54\" title=\"sort by price, highest to lowest\">$<span class=\"pricesort\">$<span class=\"pricesort\">$</span></span></a>\n",
        "<a class=\"button first\" href=\"/search/eby/apa?nh=54\" title=\"first page\">&lt;&lt;</a>\n",
        "<a class=\"button prev\" href=\"/search/eby/apa?s=200&amp;nh=54\" title=\"previous page\">&lt; prev</a>\n",
        "<a class=\"button next\" href=\"/search/eby/apa?s=400&amp;nh=54\" title=\"next page\"> next &gt; </a>\n",
        "<a class=\"i\" data-id=\"0:00404_f4KMQoZoq66\" href=\"/eby/apa/4713256188.html\"></a>\n",
        "<a class=\"hdrlnk\" data-id=\"4713256188\" href=\"/eby/apa/4713256188.html\">Fremont \u4e2d\u5fc36\u5367\u5927\u623f\u51fa\u79df</a>\n",
        "<a class=\"i\" data-id=\"0:00404_f4KMQoZoq66\" href=\"/eby/apa/4713260679.html\"></a>\n",
        "<a class=\"hdrlnk\" data-id=\"4713260679\" href=\"/eby/apa/4713260679.html\">Single Family House at Central Fremont</a>\n",
        "<a class=\"i\" href=\"/eby/apa/4716882876.html\"></a>\n",
        "<a class=\"hdrlnk\" data-id=\"4716882876\" href=\"/eby/apa/4716882876.html\">Condo - 2Bedroom 2Bath with 1 car garage</a>\n",
        "<a class=\"i\" data-id=\"0:00F0F_anNhpRYXgmk\" href=\"/eby/apa/4716872326.html\"></a>\n",
        "<a class=\"hdrlnk\" data-id=\"4716872326\" href=\"/eby/apa/4716872326.html\">Beautifully renovated home near Warwick Elementary</a>\n",
        "<a class=\"i\" data-id=\"0:00p0p_gH4J1jdmzRo\" href=\"/eby/apa/4710690027.html\"></a>\n",
        "<a class=\"hdrlnk\" data-id=\"4710690027\" href=\"/eby/apa/4710690027.html\">COTTAGE / In-Law in Fremont </a>\n",
        "<a class=\"i\" data-id=\"0:00707_dA4oKvHZxLz\" href=\"/eby/apa/4716850586.html\"></a>\n",
        "<a class=\"hdrlnk\" data-id=\"4716850586\" href=\"/eby/apa/4716850586.html\">Remodeled 5 bedrooms home Union City</a>\n",
        "<a class=\"i\" href=\"/eby/apa/4716842666.html\"></a>\n",
        "<a class=\"hdrlnk\" data-id=\"4716842666\" href=\"/eby/apa/4716842666.html\">LARGE FREMONT EXECUTIVE HOME ! TOP MISSION SCHOOLS !</a>\n",
        "<a class=\"i\" href=\"/eby/apa/4716803189.html\"></a>\n",
        "<a class=\"hdrlnk\" data-id=\"4716803189\" href=\"/eby/apa/4716803189.html\">One Beadroom Apartment available from Novermber 4 2014 for $1563.00</a>\n",
        "<a class=\"i\" href=\"/eby/apa/4716807602.html\"></a>\n",
        "<a class=\"hdrlnk\" data-id=\"4716807602\" href=\"/eby/apa/4716807602.html\">House For Rent In Mission San jose Fremont</a>\n",
        "<a class=\"i\" data-id=\"0:00P0P_66goakhD6WF\" href=\"/eby/apa/4716658938.html\"></a>\n",
        "<a class=\"hdrlnk\" data-id=\"4716658938\" href=\"/eby/apa/4716658938.html\">3BD/2Baths Single Family Home - Schedule Your Appointment</a>\n",
        "<a class=\"i\" data-id=\"0:00202_iM4hqMJHOyl\" href=\"/eby/apa/4716627039.html\"></a>\n",
        "<a class=\"hdrlnk\" data-id=\"4716627039\" href=\"/eby/apa/4716627039.html\">~\u00a4\u066d\u00a4~It's the place for YOU~\u00a4\u066d\u00a4~</a>\n",
        "<a class=\"i\" data-id=\"0:00D0D_jEs3oanwGyj\" href=\"/eby/apa/4716583168.html\"></a>\n",
        "<a class=\"hdrlnk\" data-id=\"4716583168\" href=\"/eby/apa/4716583168.html\">PRIVATE END UNIT, LARGE STORAGE, YOUR NEW HOME IS HERE!</a>\n",
        "<a class=\"i\" data-id=\"0:00u0u_i6piZxEJK2c\" href=\"/eby/apa/4716592576.html\"></a>\n",
        "<a class=\"hdrlnk\" data-id=\"4716592576\" href=\"/eby/apa/4716592576.html\">Quiet 3br/2ba home in quiet Fremont</a>\n",
        "<a class=\"i\" data-id=\"0:00a0a_dwFmq0DWil5\" href=\"/eby/apa/4716578860.html\"></a>\n",
        "<a class=\"hdrlnk\" data-id=\"4716578860\" href=\"/eby/apa/4716578860.html\">Are You Ready To Move..Waterstone@Fremont</a>\n",
        "<a class=\"i\" data-id=\"0:00a0a_8UQlMYMXZWW\" href=\"/eby/apa/4698040171.html\"></a>\n",
        "<a class=\"hdrlnk\" data-id=\"4698040171\" href=\"/eby/apa/4698040171.html\">** 2 bedroom w/ garage &amp; utilities included.. NOW ON SPECIAL!! **</a>\n",
        "<a class=\"i\" data-id=\"0:00F0F_3umjXFYXwRO\" href=\"/eby/apa/4705383827.html\"></a>\n",
        "<a class=\"hdrlnk\" data-id=\"4705383827\" href=\"/eby/apa/4705383827.html\">*SPECIAL* 2 bedroom w/ attached garage in nice Ardenwood neighborhood!</a>\n",
        "<a class=\"i\" href=\"/eby/apa/4716548767.html\"></a>\n",
        "<a class=\"hdrlnk\" data-id=\"4716548767\" href=\"/eby/apa/4716548767.html\">Beautiful Home in Forest Park School area available Mid-Nov</a>\n",
        "<a class=\"i\" data-id=\"0:01313_ij7345s3BNd\" href=\"/eby/apa/4708689446.html\"></a>\n",
        "<a class=\"hdrlnk\" data-id=\"4708689446\" href=\"/eby/apa/4708689446.html\">3 Bedroom Home Near Lakeshore Park</a>\n",
        "<a class=\"i\" data-id=\"0:00b0b_l5tkSCgz4Bs\" href=\"/eby/apa/4716544304.html\"></a>\n",
        "<a class=\"hdrlnk\" data-id=\"4716544304\" href=\"/eby/apa/4716544304.html\">\u263aFEEL THE WARMTH HERE AT RANCHO LUNA/SOL</a>\n",
        "<a class=\"i\" data-id=\"0:00l0l_f41eMuN5srv\" href=\"/eby/apa/4716554751.html\"></a>\n",
        "<a class=\"hdrlnk\" data-id=\"4716554751\" href=\"/eby/apa/4716554751.html\">\u2665COMMUNITY A FEELING OF FELLOWSHIP WITH OTHERS JOIN OURS\u2665 </a>\n",
        "<a class=\"i\" data-id=\"0:01111_7nsNhKggKP1\" href=\"/eby/apa/4716543450.html\"></a>\n",
        "<a class=\"hdrlnk\" data-id=\"4716543450\" href=\"/eby/apa/4716543450.html\">SPACIOUS 4BEDS/2BATHS HOUSE FOR RENT</a>\n",
        "<a class=\"i\" data-id=\"0:00P0P_6SY6xLYZMY8\" href=\"/eby/apa/4698067143.html\"></a>\n",
        "<a class=\"hdrlnk\" data-id=\"4698067143\" href=\"/eby/apa/4698067143.html\">Ardenwood townhome w/ attached garage + washer &amp; dryer!! </a>\n",
        "<a class=\"i\" data-id=\"0:00M0M_fxvrBwLJG14\" href=\"/eby/apa/4698042573.html\"></a>\n",
        "<a class=\"hdrlnk\" data-id=\"4698042573\" href=\"/eby/apa/4698042573.html\">Pets welcome at Ardenwood Forest.. 2 bedrooms available!!</a>\n",
        "<a class=\"i\" data-id=\"0:00F0F_3umjXFYXwRO\" href=\"/eby/apa/4698044778.html\"></a>\n",
        "<a class=\"hdrlnk\" data-id=\"4698044778\" href=\"/eby/apa/4698044778.html\">~~ Now offering one month FREE!! For a limited time only ~~</a>\n",
        "<a class=\"i\" data-id=\"0:00l0l_f41eMuN5srv\" href=\"/eby/apa/4716510220.html\"></a>\n",
        "<a class=\"hdrlnk\" data-id=\"4716510220\" href=\"/eby/apa/4716510220.html\">\u2665HOME IS WHERE THE HEART IS\u2665RANHO LUNA/SOL APT HOMES NOW LEASINGb</a>\n",
        "<a class=\"i\" data-id=\"0:00A0A_6tN78StRf2t\" href=\"/eby/apa/4690236057.html\"></a>\n",
        "<a class=\"hdrlnk\" data-id=\"4690236057\" href=\"/eby/apa/4690236057.html\">Beautiful house, close to Dumbarton Bridge(Facebook), shopping center </a>\n",
        "<a class=\"i\" data-id=\"0:00U0U_1zWBP1szD9b\" href=\"/eby/apa/4716531523.html\"></a>\n",
        "<a class=\"hdrlnk\" data-id=\"4716531523\" href=\"/eby/apa/4716531523.html\">Single Newark Lake home for Rent</a>\n",
        "<a class=\"i\" data-id=\"0:00404_ghvarNJtjGy\" href=\"/eby/apa/4698129248.html\"></a>\n",
        "<a class=\"hdrlnk\" data-id=\"4698129248\" href=\"/eby/apa/4698129248.html\">2 bed 1 bath w/ washer &amp; dryer PLUS garage!! ~ONE MONTH FREE~ </a>\n",
        "<a class=\"i\" data-id=\"0:00a0a_8UQlMYMXZWW\" href=\"/eby/apa/4698128103.html\"></a>\n",
        "<a class=\"hdrlnk\" data-id=\"4698128103\" href=\"/eby/apa/4698128103.html\">2 bedroom w/ garage &amp; utilities included.. NOW ON SPECIAL!!</a>\n",
        "<a class=\"i\" data-id=\"0:01313_4h82v2wKalL\" href=\"/eby/apa/4716528401.html\"></a>\n",
        "<a class=\"hdrlnk\" data-id=\"4716528401\" href=\"/eby/apa/4716528401.html\">\u2666A CATCH! COME TOUR TODAY \u2666</a>\n",
        "<a class=\"i\" data-id=\"0:00S0S_i5RLVK07E4J\" href=\"/eby/apa/4699579886.html\"></a>\n",
        "<a class=\"hdrlnk\" data-id=\"4699579886\" href=\"/eby/apa/4699579886.html\">3 bed 2 .5 bath townhome remodeled in Fremont</a>\n",
        "<a class=\"i\" data-id=\"0:00S0S_i5RLVK07E4J\" href=\"/eby/apa/4696417639.html\"></a>\n",
        "<a class=\"hdrlnk\" data-id=\"4696417639\" href=\"/eby/apa/4696417639.html\">Great 3 bed 2.5 bath townhome remodeled in Fremont </a>\n",
        "<a class=\"i\" data-id=\"0:00n0n_6wqgwfkjPUW\" href=\"/eby/apa/4716471995.html\"></a>\n",
        "<a class=\"hdrlnk\" data-id=\"4716471995\" href=\"/eby/apa/4716471995.html\">DON'T LET THIS ONE GET AWAY! SUNNY, QUIET, SPACIOUS &amp; BEAUTIFUL HOME!</a>\n",
        "<a class=\"i\" href=\"/eby/apa/4695412849.html\"></a>\n",
        "<a class=\"hdrlnk\" data-id=\"4695412849\" href=\"/eby/apa/4695412849.html\">Take over 1 Bedroom apartment lease</a>\n",
        "<a class=\"i\" data-id=\"0:00c0c_eU6NVya4DG3\" href=\"/eby/apa/4716469194.html\"></a>\n",
        "<a class=\"hdrlnk\" data-id=\"4716469194\" href=\"/eby/apa/4716469194.html\">Beautiful Furnished 5BD/4Bath in Fremont </a>\n",
        "<a class=\"i\" data-id=\"0:00a0a_8VotCaerXfB\" href=\"/eby/apa/4716425083.html\"></a>\n",
        "<a class=\"hdrlnk\" data-id=\"4716425083\" href=\"/eby/apa/4716425083.html\">FREMONT ARDENWOOD CONDO!</a>\n",
        "<a class=\"i\" data-id=\"0:01616_ggaB1wfhU82\" href=\"/eby/apa/4716420328.html\"></a>\n",
        "<a class=\"hdrlnk\" data-id=\"4716420328\" href=\"/eby/apa/4716420328.html\">4 bedroom single house w/excellent schools</a>\n",
        "<a class=\"i\" data-id=\"0:00303_k7OcMKdsOBJ\" href=\"/eby/apa/4716382724.html\"></a>\n",
        "<a class=\"hdrlnk\" data-id=\"4716382724\" href=\"/eby/apa/4716382724.html\">\u0095\u263bTHIS BEAUTIFUL UPGRADED APT HOME HAS ALL THE COMFORTS\u263b\u0095\u0095</a>\n",
        "<a class=\"i\" href=\"/eby/apa/4716414560.html\"></a>\n",
        "<a class=\"hdrlnk\" data-id=\"4716414560\" href=\"/eby/apa/4716414560.html\">1BHK Near Union City BART For 8 Months Sublease-$1710. Short term also</a>\n",
        "<a class=\"i\" href=\"/eby/apa/4706666794.html\"></a>\n",
        "<a class=\"hdrlnk\" data-id=\"4706666794\" href=\"/eby/apa/4706666794.html\">Amazing 1 Bedroom $1,675</a>\n",
        "<a class=\"i\" data-id=\"0:01313_cbHio98C0Ph\" href=\"/eby/apa/4716327770.html\"></a>\n",
        "<a class=\"hdrlnk\" data-id=\"4716327770\" href=\"/eby/apa/4716327770.html\">3 Bed 2 Bath Single Family Home in Fremont</a>\n",
        "<a class=\"i\" href=\"/eby/apa/4716200383.html\"></a>\n",
        "<a class=\"hdrlnk\" data-id=\"4716200383\" href=\"/eby/apa/4716200383.html\">Conveniently Located infront of Bart</a>\n",
        "<a class=\"i\" data-id=\"0:00u0u_fCjObI2d4p4\" href=\"/eby/apa/4716356165.html\"></a>\n",
        "<a class=\"hdrlnk\" data-id=\"4716356165\" href=\"/eby/apa/4716356165.html\">Now Available, Near Public Parks, Parkmont Schools</a>\n",
        "<a class=\"i\" data-id=\"0:00P0P_6QbixFi5hY7\" href=\"/eby/apa/4716310375.html\"></a>\n",
        "<a class=\"hdrlnk\" data-id=\"4716310375\" href=\"/eby/apa/4716310375.html\">OPEN FLOOR PLAN WITH A PRIVATE PATIO &amp; GYM </a>\n",
        "<a class=\"i\" data-id=\"0:00j0j_cPe1igpJx1z\" href=\"/eby/apa/4716279923.html\"></a>\n",
        "<a class=\"hdrlnk\" data-id=\"4716279923\" href=\"/eby/apa/4716279923.html\">3BR/2.5BA Ardenwood SFH For Rent; Open House Sunday (10/19) 2pm-4pm</a>\n",
        "<a class=\"i\" href=\"/eby/apa/4716239872.html\"></a>\n",
        "<a class=\"hdrlnk\" data-id=\"4716239872\" href=\"/eby/apa/4716239872.html\">4 Bed / 3 Bath Irvington 3 Story Townhome</a>\n",
        "<a class=\"i\" data-id=\"0:00e0e_dtuBzit9L8Q\" href=\"/eby/apa/4716213017.html\"></a>\n",
        "<a class=\"hdrlnk\" data-id=\"4716213017\" href=\"/eby/apa/4716213017.html\">Fully Remodeled Fremont House. Available 3bed/2bath </a>\n",
        "<a class=\"i\" data-id=\"0:00X0X_d4Djo44HRju\" href=\"/eby/apa/4716135024.html\"></a>\n",
        "<a class=\"hdrlnk\" data-id=\"4716135024\" href=\"/eby/apa/4716135024.html\">Welcome Home to Presidio</a>\n",
        "<a class=\"i\" href=\"/eby/apa/4716172234.html\"></a>\n",
        "<a class=\"hdrlnk\" data-id=\"4716172234\" href=\"/eby/apa/4716172234.html\">Are You Ready To Move..Waterstone@Fremont</a>\n",
        "<a class=\"i\" data-id=\"0:00c0c_kMlnj6UL2ge\" href=\"/eby/apa/4716184273.html\"></a>\n",
        "<a class=\"hdrlnk\" data-id=\"4716184273\" href=\"/eby/apa/4716184273.html\">2BR/2BA Condo For Rent in Fremont</a>\n",
        "<a class=\"i\" data-id=\"0:01515_b0MRAomIJw7\" href=\"/eby/apa/4709777629.html\"></a>\n",
        "<a class=\"hdrlnk\" data-id=\"4709777629\" href=\"/eby/apa/4709777629.html\">3BR/2.5BA Home For Rent in Fremont (Ardenwood)</a>\n",
        "<a class=\"i\" href=\"/eby/apa/4716083353.html\"></a>\n",
        "<a class=\"hdrlnk\" data-id=\"4716083353\" href=\"/eby/apa/4716083353.html\">Looking To Settle Into Your New HOme Before Winter...Click Here...</a>\n",
        "<a class=\"i\" href=\"/eby/apa/4716082763.html\"></a>\n",
        "<a class=\"hdrlnk\" data-id=\"4716082763\" href=\"/eby/apa/4716082763.html\">Your New Home Awaits...Click Here..</a>\n",
        "<a class=\"i\" data-id=\"0:00D0D_9Sn2UQRVPXX\" href=\"/eby/apa/4716072949.html\"></a>\n",
        "<a class=\"hdrlnk\" data-id=\"4716072949\" href=\"/eby/apa/4716072949.html\">No Fooling Around! Fantastic Prices!</a>\n",
        "<a class=\"i\" data-id=\"0:00v0v_kIDpjWuX5YS\" href=\"/eby/apa/4716066963.html\"></a>\n",
        "<a class=\"hdrlnk\" data-id=\"4716066963\" href=\"/eby/apa/4716066963.html\">Ready to Rent!</a>\n",
        "<a class=\"i\" data-id=\"0:00n0n_flaHu7zdNd7\" href=\"/eby/apa/4716039487.html\"></a>\n",
        "<a class=\"hdrlnk\" data-id=\"4716039487\" href=\"/eby/apa/4716039487.html\">Studio suites only $2295.00</a>\n",
        "<a class=\"i\" href=\"/eby/apa/4716014756.html\"></a>\n",
        "<a class=\"hdrlnk\" data-id=\"4716014756\" href=\"/eby/apa/4716014756.html\">Alderwood Park, Wants You As A Resident!</a>\n",
        "<a class=\"i\" data-id=\"0:00E0E_8x7barJQifd\" href=\"/eby/apa/4716022889.html\"></a>\n",
        "<a class=\"hdrlnk\" data-id=\"4716022889\" href=\"/eby/apa/4716022889.html\">UPGRADED 1 BEDROOM APARTMENT IN FREMONT!</a>\n",
        "<a class=\"i\" href=\"/eby/apa/4683812582.html\"></a>\n",
        "<a class=\"hdrlnk\" data-id=\"4683812582\" href=\"/eby/apa/4683812582.html\">MISSION SAN JOSE ANTELOPE HILLS TOWNHOUSE</a>\n",
        "<a class=\"i\" data-id=\"0:00A0A_6tN78StRf2t\" href=\"/eby/apa/4715937142.html\"></a>\n",
        "<a class=\"hdrlnk\" data-id=\"4715937142\" href=\"/eby/apa/4715937142.html\">Beautiful house, close to Dumbarton Bridge(Facebook), shopping center </a>\n",
        "<a class=\"i\" data-id=\"0:00505_2RhHjFD1ByM\" href=\"/eby/apa/4715923768.html\"></a>\n",
        "<a class=\"hdrlnk\" data-id=\"4715923768\" href=\"/eby/apa/4715923768.html\">Niles cottage</a>\n",
        "<a class=\"i\" data-id=\"0:00202_iM4hqMJHOyl\" href=\"/eby/apa/4715900600.html\"></a>\n",
        "<a class=\"hdrlnk\" data-id=\"4715900600\" href=\"/eby/apa/4715900600.html\">\u25ce~\u25ceLook No Further!!\u25ce~\u25ce</a>\n",
        "<a class=\"i\" data-id=\"0:00a0a_3VNGSJXmTlB\" href=\"/eby/apa/4715894084.html\"></a>\n",
        "<a class=\"hdrlnk\" data-id=\"4715894084\" href=\"/eby/apa/4715894084.html\">Newly Remodeled 2 bdrm &amp; 2 bathroom with washer &amp; dryer! Call Today!</a>\n",
        "<a class=\"i\" data-id=\"0:00N0N_4x1HRC4gZBU\" href=\"/eby/apa/4715886056.html\"></a>\n",
        "<a class=\"hdrlnk\" data-id=\"4715886056\" href=\"/eby/apa/4715886056.html\">Apartment for $2320.00in Fremont</a>\n",
        "<a class=\"i\" data-id=\"0:00E0E_bmfglUa3Jq6\" href=\"/eby/apa/4715877888.html\"></a>\n",
        "<a class=\"hdrlnk\" data-id=\"4715877888\" href=\"/eby/apa/4715877888.html\">Immediate move-in: 1 bedroom, 2nd floor, Irvington HS</a>\n",
        "<a class=\"i\" data-id=\"0:00505_6297xq4c4kY\" href=\"/eby/apa/4715854469.html\"></a>\n",
        "<a class=\"hdrlnk\" data-id=\"4715854469\" href=\"/eby/apa/4715854469.html\">RESORT LIVING IN SERENE PARK SETTING </a>\n",
        "<a class=\"i\" data-id=\"0:00D0D_eLwP175WZ9o\" href=\"/eby/apa/4715875696.html\"></a>\n",
        "<a class=\"hdrlnk\" data-id=\"4715875696\" href=\"/eby/apa/4715875696.html\">Call for Details, Easy Freeway Access, Night Patrol, Fitness Ctr</a>\n",
        "<a class=\"i\" data-id=\"0:01212_6b4awnNx7hX\" href=\"/eby/apa/4715855732.html\"></a>\n",
        "<a class=\"hdrlnk\" data-id=\"4715855732\" href=\"/eby/apa/4715855732.html\">\u263bBART RIDERS DREAM/CLOSE TO SHOPPING\u263b</a>\n",
        "<a class=\"i\" data-id=\"0:00909_18wdzQF4gr7\" href=\"/eby/apa/4701023723.html\"></a>\n",
        "<a class=\"hdrlnk\" data-id=\"4701023723\" href=\"/eby/apa/4701023723.html\">Spacious 2bd/1.5ba including w/d &amp; 2 car garage - AVAILABLE DECEMBER 1</a>\n",
        "<a class=\"i\" data-id=\"0:01616_8Qz4VMjadGl\" href=\"/eby/apa/4715856047.html\"></a>\n",
        "<a class=\"hdrlnk\" data-id=\"4715856047\" href=\"/eby/apa/4715856047.html\">Spacious 3bed/2.5bath Home in Fremont North Gate neighborhood</a>\n",
        "<a class=\"i\" data-id=\"0:00m0m_lw1OebbHUyz\" href=\"/eby/apa/4715854595.html\"></a>\n",
        "<a class=\"hdrlnk\" data-id=\"4715854595\" href=\"/eby/apa/4715854595.html\">3 Bedrooms, 1.5 Bathrooms Townhouse available for rent in Union City</a>\n",
        "<a class=\"i\" data-id=\"0:00B0B_dqlBuzggTzJ\" href=\"/eby/apa/4715828086.html\"></a>\n",
        "<a class=\"hdrlnk\" data-id=\"4715828086\" href=\"/eby/apa/4715828086.html\">Fully Furnished Studio - $2193.00/Month</a>\n",
        "<a class=\"i\" data-id=\"0:00S0S_2KQBhQJ0FbQ\" href=\"/eby/apa/4715804870.html\"></a>\n",
        "<a class=\"hdrlnk\" data-id=\"4715804870\" href=\"/eby/apa/4715804870.html\">Single-Family Home In Nice Neighborhood</a>\n",
        "<a class=\"i\" data-id=\"0:00V0V_5wO57bl87oe\" href=\"/eby/apa/4715776465.html\"></a>\n",
        "<a class=\"hdrlnk\" data-id=\"4715776465\" href=\"/eby/apa/4715776465.html\">Nor Cal Realty Inc - 3 bedroom 2.5 bath Single family home</a>\n",
        "<a class=\"i\" data-id=\"0:00v0v_4AcZe5ptCGz\" href=\"/eby/apa/4715714446.html\"></a>\n",
        "<a class=\"hdrlnk\" data-id=\"4715714446\" href=\"/eby/apa/4715714446.html\">Waterstone@Fremont 735 1br</a>\n",
        "<a class=\"i\" data-id=\"0:00Z0Z_4asqClfHorS\" href=\"/eby/apa/4701722996.html\"></a>\n",
        "<a class=\"hdrlnk\" data-id=\"4701722996\" href=\"/eby/apa/4701722996.html\">Beautiful home in Union City to rent $2449/month</a>\n",
        "<a class=\"i\" data-id=\"0:00P0P_66goakhD6WF\" href=\"/eby/apa/4715613615.html\"></a>\n",
        "<a class=\"hdrlnk\" data-id=\"4715613615\" href=\"/eby/apa/4715613615.html\">3BD/2Baths Single Family Home - Schedule Your Appointment</a>\n",
        "<a class=\"i\" href=\"/eby/apa/4715594497.html\"></a>\n",
        "<a class=\"hdrlnk\" data-id=\"4715594497\" href=\"/eby/apa/4715594497.html\"> 3 bedroom 2 bath 2 car BRAND  NEW Remodel</a>\n",
        "<a class=\"i\" data-id=\"0:00e0e_bJR5nfUJcXO\" href=\"/eby/apa/4715242777.html\"></a>\n",
        "<a class=\"hdrlnk\" data-id=\"4715242777\" href=\"/eby/apa/4715242777.html\">Gorgeous Glenmoor Garden Home in Ct location.  Move in readt </a>\n",
        "<a class=\"i\" data-id=\"0:00K0K_lb282c1DYHq\" href=\"/eby/apa/4715095868.html\"></a>\n",
        "<a class=\"hdrlnk\" data-id=\"4715095868\" href=\"/eby/apa/4715095868.html\">One Bedroom Apartment in Historic Niles District of Fremont</a>\n",
        "<a class=\"i\" data-id=\"0:00L0L_HBqK7F6SRY\" href=\"/eby/apa/4715000264.html\"></a>\n",
        "<a class=\"hdrlnk\" data-id=\"4715000264\" href=\"/eby/apa/4715000264.html\">AMAZING AMENITIES IN A PARK-LIKE COMMUNITY</a>\n",
        "<a class=\"i\" data-id=\"0:00202_iM4hqMJHOyl\" href=\"/eby/apa/4714998173.html\"></a>\n",
        "<a class=\"hdrlnk\" data-id=\"4714998173\" href=\"/eby/apa/4714998173.html\">\u2706~\u260f~\u260eCall Oak Pointe Apartments Today!\u260e~\u260f~\u2706</a>\n",
        "<a class=\"i\" data-id=\"0:01616_9g3xFAoYh0a\" href=\"/eby/apa/4714916364.html\"></a>\n",
        "<a class=\"hdrlnk\" data-id=\"4714916364\" href=\"/eby/apa/4714916364.html\">+ Sun room - Gorgeous Single Family House - great neighborhood</a>\n",
        "<a class=\"i\" data-id=\"0:00n0n_6WSYRh8c1Af\" href=\"/eby/apa/4714845323.html\"></a>\n",
        "<a class=\"hdrlnk\" data-id=\"4714845323\" href=\"/eby/apa/4714845323.html\">DESIGNER INTERIORS, SPACIOUS FLOOR PLANS AND AMAZING AMENITIES</a>\n",
        "<a class=\"i\" data-id=\"0:00606_1yegv0NbOhH\" href=\"/eby/apa/4714754613.html\"></a>\n",
        "<a class=\"hdrlnk\" data-id=\"4714754613\" href=\"/eby/apa/4714754613.html\">Union City</a>\n",
        "<a class=\"i\" data-id=\"0:00D0D_f4luMZGnKBh\" href=\"/eby/apa/4714754197.html\"></a>\n",
        "<a class=\"hdrlnk\" data-id=\"4714754197\" href=\"/eby/apa/4714754197.html\">Outstanding Location, Responsive Maintenance, Spacious Floorplan</a>\n",
        "<a class=\"i\" data-id=\"0:00s0s_bdPPXqPtCe4\" href=\"/eby/apa/4714721833.html\"></a>\n",
        "<a class=\"hdrlnk\" data-id=\"4714721833\" href=\"/eby/apa/4714721833.html\"> 3BR/2.5 BA home for rent in Fremont Ardenwood/Forest Park area</a>\n",
        "<a class=\"i\" data-id=\"0:00q0q_dHyy214O7Kh\" href=\"/eby/apa/4714683244.html\"></a>\n",
        "<a class=\"hdrlnk\" data-id=\"4714683244\" href=\"/eby/apa/4714683244.html\">\u2660GREAT PRICE, LOCATION, AND QUIET\u2660</a>\n",
        "<a class=\"i\" data-id=\"0:00S0S_8uUme7pz0j\" href=\"/eby/apa/4714642935.html\"></a>\n",
        "<a class=\"hdrlnk\" data-id=\"4714642935\" href=\"/eby/apa/4714642935.html\">COME CHECK OUT OUR BEAUTIFUL 3X2</a>\n",
        "<a class=\"i\" data-id=\"0:01717_dAf8n3O6poI\" href=\"/eby/apa/4697397493.html\"></a>\n",
        "<a class=\"hdrlnk\" data-id=\"4697397493\" href=\"/eby/apa/4697397493.html\">AMAZING 2BED/1BATH AVAILABLE!!</a>\n",
        "<a class=\"i\" data-id=\"0:01717_dAf8n3O6poI\" href=\"/eby/apa/4694978856.html\"></a>\n",
        "<a class=\"hdrlnk\" data-id=\"4694978856\" href=\"/eby/apa/4694978856.html\">INCREDIBLE 2BED/1BATH AVAILABLE!!!</a>\n",
        "<a class=\"i\" data-id=\"0:01717_fZ0xlNSWs7u\" href=\"/eby/apa/4714405729.html\"></a>\n",
        "<a class=\"hdrlnk\" data-id=\"4714405729\" href=\"/eby/apa/4714405729.html\">Close to BART, Shopping, and much more! </a>\n",
        "<a class=\"i\" data-id=\"0:00o0o_4GvnRTgXJCi\" href=\"/eby/apa/4714593113.html\"></a>\n",
        "<a class=\"hdrlnk\" data-id=\"4714593113\" href=\"/eby/apa/4714593113.html\">Great 3 bed 2.5 bath townhome remodeled in Fremont </a>\n",
        "<a class=\"i\" data-id=\"0:00q0q_6qJ6mA4hQwV\" href=\"/eby/apa/4714577580.html\"></a>\n",
        "<a class=\"hdrlnk\" data-id=\"4714577580\" href=\"/eby/apa/4714577580.html\">Huge 1 bed w/beautiful backyard near BART</a>\n",
        "<a class=\"i\" data-id=\"0:00H0H_jKvIW33syH4\" href=\"/eby/apa/4714533902.html\"></a>\n",
        "<a class=\"hdrlnk\" data-id=\"4714533902\" href=\"/eby/apa/4714533902.html\">Best Rate In Town! Perfect Apartment Home Now Available!</a>\n",
        "<a class=\"i\" data-id=\"0:00o0o_4GvnRTgXJCi\" href=\"/eby/apa/4705567196.html\"></a>\n",
        "<a class=\"hdrlnk\" data-id=\"4705567196\" href=\"/eby/apa/4705567196.html\">Great 3 bed 2.5 bath townhouse remodeled in Fremont </a>\n",
        "<a class=\"i\" data-id=\"0:00a0a_fUTTagMqPR5\" href=\"/eby/apa/4714556978.html\"></a>\n",
        "<a class=\"hdrlnk\" data-id=\"4714556978\" href=\"/eby/apa/4714556978.html\">Great Fremont SFH in nice neighborhood - Free rent until Oct 31st 2014</a>\n",
        "<a class=\"i\" data-id=\"0:00S0S_i5RLVK07E4J\" href=\"/eby/apa/4707251377.html\"></a>\n",
        "<a class=\"hdrlnk\" data-id=\"4707251377\" href=\"/eby/apa/4707251377.html\">3 bed 2 .5 bath townhome remodeled in Fremont </a>\n",
        "<a class=\"i\" data-id=\"0:00o0o_4GvnRTgXJCi\" href=\"/eby/apa/4705500955.html\"></a>\n",
        "<a class=\"hdrlnk\" data-id=\"4705500955\" href=\"/eby/apa/4705500955.html\">Great 3 bed 2.5 bath townhouse remodeled in Fremont </a>\n",
        "<a class=\"i\" data-id=\"0:01717_9VgQPnrktev\" href=\"/eby/apa/4714475368.html\"></a>\n",
        "<a class=\"hdrlnk\" data-id=\"4714475368\" href=\"/eby/apa/4714475368.html\">VICTORIA GARDENS SENIOR COMMUNITY FOR ACTIVE ADULTS 55 &amp; OLDER</a>\n",
        "<a class=\"button first\" href=\"/search/eby/apa?nh=54\" title=\"first page\">&lt;&lt;</a>\n",
        "<a class=\"button prev\" href=\"/search/eby/apa?s=200&amp;nh=54\" title=\"previous page\">&lt; prev</a>\n",
        "<a class=\"button next\" href=\"/search/eby/apa?s=400&amp;nh=54\" title=\"next page\"> next &gt; </a>\n",
        "<a class=\"backtotop button\" href=\"#pagecontainer\">^ back to top</a>\n",
        "<a class=\"l\" href=\"http://sfbay.craigslist.org/search/eby/apa?nh=54&amp;s=300&amp;format=rss\">RSS</a>\n",
        "<a href=\"http://www.craigslist.org/about/rss\">(?)</a>\n",
        "<a href=\"//www.craigslist.org/about/help/\">help</a>\n",
        "<a href=\"//www.craigslist.org/about/scams\">safety</a>\n",
        "<a href=\"//www.craigslist.org/about/privacy.policy\">privacy</a>\n",
        "<a href=\"https://forums.craigslist.org/?forumID=8\">feedback</a>\n",
        "<a href=\"//www.craigslist.org/about/craigslist_is_hiring\">cl jobs</a>\n",
        "<a href=\"//www.craigslist.org/about/terms.of.use\">terms</a>\n",
        "<a href=\"//www.craigslist.org/about/\">about</a>\n",
        "<a href=\"/\">SF bay area</a>"
       ]
      },
      {
       "output_type": "stream",
       "stream": "stdout",
       "text": [
        "\n",
        "<a href=\"/search/hhh\">housing</a>\n",
        "<a href=\"/search/apa\">apts/housing for rent</a>\n",
        "<a href=\"https://post.craigslist.org/c/sfo?lang=en\">post</a>\n",
        "<a href=\"https://accounts.craigslist.org/login/home\">account</a>\n",
        "<a class=\"favlink\" href=\"#\"><span class=\"n\">0</span> favorites</a>\n",
        "<a class=\"saveme\" href=\"https://accounts.craigslist.org/login?rt=L&amp;rp=%2Fsavesearch%2Falert%3FURL%3Dhttp%253A%252F%252Fsfbay%252Ecraigslist%252Eorg%252Fsearch%252Feby%252Fapa%253Fnh%253D54\" title=\"save this search with email alerts\">alert</a>\n",
        "<a class=\"saveme\" href=\"https://accounts.craigslist.org/login?rt=L&amp;rp=%2Fsavesearch%2Fsave%3FURL%3Dhttp%253A%252F%252Fsfbay%252Ecraigslist%252Eorg%252Fsearch%252Feby%252Fapa%253Fnh%253D54\" title=\"save this search\">save</a>\n",
        "<a class=\"category\" href=\"/search/eby/apa?nh=54\">apts/housing for rent</a>\n",
        "<a class=\"category\" href=\"/search/eby/rea?nh=54\">real estate for sale</a>\n",
        "<a class=\"category\" href=\"/search/eby/roo?nh=54\">rooms &amp; shares</a>\n",
        "<a class=\"category\" href=\"/search/eby/off?nh=54\">office &amp; commercial</a>\n",
        "<a class=\"category\" href=\"/search/eby/sha?nh=54\">room/share wanted</a>\n",
        "<a class=\"category\" href=\"/search/eby/hou?nh=54\">apts wanted</a>\n",
        "<a class=\"category\" href=\"/search/eby/sub?nh=54\">sublets &amp; temporary</a>\n",
        "<a class=\"category\" href=\"/search/eby/prk?nh=54\">parking &amp; storage</a>\n",
        "<a class=\"category\" href=\"/search/eby/rew?nh=54\">real estate wanted</a>\n",
        "<a class=\"category\" href=\"/search/eby/vac?nh=54\">vacation rentals</a>\n",
        "<a class=\"category\" href=\"/search/eby/swp?nh=54\">housing swap</a>\n",
        "<a class=\"category\" href=\"/search/eby/sbw?nh=54\">sublet/temp wanted</a>\n",
        "<a class=\"mode button\" data-view=\"list\" href=\"#list\" id=\"listview\" title=\"show results in a list\">list</a>\n",
        "<a class=\"mode button\" data-view=\"pic\" href=\"#pic\" id=\"picview\" title=\"show results in a list with thumbnail pictures\">thumb</a>\n",
        "<a class=\"mode button\" data-view=\"grid\" href=\"#grid\" id=\"gridview\" title=\"show results side-by-side with larger pictures\">gallery</a>\n",
        "<a class=\"mode button\" data-view=\"map\" href=\"#map\" id=\"mapview\" title=\"show results on a map\">map</a>\n",
        "<a class=\"button\" href=\"/search/eby/apa?sort=priceasc&amp;nh=54\" title=\"sort by price, lowest to highest\"><span class=\"pricesort\"><span class=\"pricesort\">$</span>$</span>$</a>\n",
        "<a class=\"button\" href=\"/search/eby/apa?sort=pricedsc&amp;nh=54\" title=\"sort by price, highest to lowest\">$<span class=\"pricesort\">$<span class=\"pricesort\">$</span></span></a>\n",
        "<a class=\"button first\" href=\"/search/eby/apa?nh=54\" title=\"first page\">&lt;&lt;</a>\n",
        "<a class=\"button prev\" href=\"/search/eby/apa?s=300&amp;nh=54\" title=\"previous page\">&lt; prev</a>\n",
        "<a class=\"button next\" href=\"/search/eby/apa?s=500&amp;nh=54\" title=\"next page\"> next &gt; </a>\n",
        "<a class=\"i\" data-id=\"0:00i0i_8rdYYfaNv2u\" href=\"/eby/apa/4705550936.html\"></a>\n",
        "<a class=\"hdrlnk\" data-id=\"4705550936\" href=\"/eby/apa/4705550936.html\">Light bright condo</a>\n",
        "<a class=\"i\" data-id=\"0:00K0K_6KZe2Aob1pu\" href=\"/eby/apa/4714386318.html\"></a>\n",
        "<a class=\"hdrlnk\" data-id=\"4714386318\" href=\"/eby/apa/4714386318.html\">Stunning 3X2 Apartment with W/D Set in Fremont!</a>\n",
        "<a class=\"i\" data-id=\"0:00M0M_9lZsM0K9sIz\" href=\"/eby/apa/4714391095.html\"></a>\n",
        "<a class=\"hdrlnk\" data-id=\"4714391095\" href=\"/eby/apa/4714391095.html\">Good Townhouse in Fremont, Northgate area</a>\n",
        "<a class=\"i\" data-id=\"0:00E0E_8x7barJQifd\" href=\"/eby/apa/4714367696.html\"></a>\n",
        "<a class=\"hdrlnk\" data-id=\"4714367696\" href=\"/eby/apa/4714367696.html\">1 BEDROOM APARTMENT! QUIET NEIGHBORHOOD IN FREMONT </a>\n",
        "<a class=\"i\" data-id=\"0:00D0D_c5sIX71krZa\" href=\"/eby/apa/4714327754.html\"></a>\n",
        "<a class=\"hdrlnk\" data-id=\"4714327754\" href=\"/eby/apa/4714327754.html\">Professionally Managed, Air Conditioning, Ceiling Fan, Covered Parking</a>\n",
        "<a class=\"i\" data-id=\"0:00P0P_6QbixFi5hY7\" href=\"/eby/apa/4714259431.html\"></a>\n",
        "<a class=\"hdrlnk\" data-id=\"4714259431\" href=\"/eby/apa/4714259431.html\">RESORT STYLE LIVING IN A PRIME FREMONT LOCATION </a>\n",
        "<a class=\"i\" data-id=\"0:00202_iM4hqMJHOyl\" href=\"/eby/apa/4714216278.html\"></a>\n",
        "<a class=\"hdrlnk\" data-id=\"4714216278\" href=\"/eby/apa/4714216278.html\">:~:~:A Great Place to Call Home:~:~:</a>\n",
        "<a class=\"i\" data-id=\"0:00c0c_5i0Zr20ZFZH\" href=\"/eby/apa/4714202943.html\"></a>\n",
        "<a class=\"hdrlnk\" data-id=\"4714202943\" href=\"/eby/apa/4714202943.html\">Beautiful and spacious 1 bedrooms available </a>\n",
        "<a class=\"i\" data-id=\"0:00M0M_kWikfKsXK0G\" href=\"/eby/apa/4714202046.html\"></a>\n",
        "<a class=\"hdrlnk\" data-id=\"4714202046\" href=\"/eby/apa/4714202046.html\">Beautiful 2 bedrooms available </a>\n",
        "<a class=\"i\" data-id=\"0:00g0g_6TLYtaIppEf\" href=\"/eby/apa/4714196556.html\"></a>\n",
        "<a class=\"hdrlnk\" data-id=\"4714196556\" href=\"/eby/apa/4714196556.html\">DESIGNER-INSPIRED FLOOR PLANS WITH LUSH GARDEN VIEW</a>\n",
        "<a class=\"i\" href=\"/eby/apa/4714022747.html\"></a>\n",
        "<a class=\"hdrlnk\" data-id=\"4714022747\" href=\"/eby/apa/4714022747.html\">Single family house in Mission Sanjose</a>\n",
        "<a class=\"i\" data-id=\"0:00h0h_6vCu5xKIdjU\" href=\"/eby/apa/4708837746.html\"></a>\n",
        "<a class=\"hdrlnk\" data-id=\"4708837746\" href=\"/eby/apa/4708837746.html\">Union City 2-Bedroom Condo</a>\n",
        "<a class=\"i\" data-id=\"0:00X0X_2brOB2PGDW6\" href=\"/eby/apa/4713716965.html\"></a>\n",
        "<a class=\"hdrlnk\" data-id=\"4713716965\" href=\"/eby/apa/4713716965.html\">Spacious Brand New Remodeled 2 bdrms 2.5 bths Townhouse in Irvington</a>\n",
        "<a class=\"i\" data-id=\"0:00505_2Eiyg9y75RD\" href=\"/eby/apa/4713662926.html\"></a>\n",
        "<a class=\"hdrlnk\" data-id=\"4713662926\" href=\"/eby/apa/4713662926.html\">\u9ad8\u7d1aCondo\u51fa\u79df2\u623f2\u6d74 \u8fd1BART</a>\n",
        "<a class=\"i\" data-id=\"0:00b0b_g0nBBU0Sx4C\" href=\"/eby/apa/4713653154.html\"></a>\n",
        "<a class=\"hdrlnk\" data-id=\"4713653154\" href=\"/eby/apa/4713653154.html\">4BR / 2Ba 1500ft2 house Available immediately</a>\n",
        "<a class=\"i\" data-id=\"0:00c0c_bt5h0ZdtQfY\" href=\"/eby/apa/4713631502.html\"></a>\n",
        "<a class=\"hdrlnk\" data-id=\"4713631502\" href=\"/eby/apa/4713631502.html\">1999 Remodeled two story 4 bed plus Loft</a>\n",
        "<a class=\"i\" data-id=\"0:00J0J_eQnYEbKHug9\" href=\"/eby/apa/4710459519.html\"></a>\n",
        "<a class=\"hdrlnk\" data-id=\"4710459519\" href=\"/eby/apa/4710459519.html\">MISSION: ANTELOPE HILLS 3 BR 2 1/5 BATH </a>\n",
        "<a class=\"i\" data-id=\"0:00F0F_7JRKyie9kjw\" href=\"/eby/apa/4713599979.html\"></a>\n",
        "<a class=\"hdrlnk\" data-id=\"4713599979\" href=\"/eby/apa/4713599979.html\">Brand New Single Family Home</a>\n",
        "<a class=\"i\" href=\"/eby/apa/4713587740.html\"></a>\n",
        "<a class=\"hdrlnk\" data-id=\"4713587740\" href=\"/eby/apa/4713587740.html\">New Apartment/Condo Near Bart Fremont!</a>\n",
        "<a class=\"i\" data-id=\"0:00z0z_3AlT0f0t5xo\" href=\"/eby/apa/4713579826.html\"></a>\n",
        "<a class=\"hdrlnk\" data-id=\"4713579826\" href=\"/eby/apa/4713579826.html\">Fremont Mission San Jose 2bds, 1.5 bth Dont miss it!</a>\n",
        "<a class=\"i\" data-id=\"0:00P0P_66goakhD6WF\" href=\"/eby/apa/4713540911.html\"></a>\n",
        "<a class=\"hdrlnk\" data-id=\"4713540911\" href=\"/eby/apa/4713540911.html\">Beautiful Single Family Home - 3BD/2Baths</a>\n",
        "<a class=\"i\" data-id=\"0:00Q0Q_lA9Mh5UqpX3\" href=\"/eby/apa/4693357033.html\"></a>\n",
        "<a class=\"hdrlnk\" data-id=\"4693357033\" href=\"/eby/apa/4693357033.html\">2 Bedroom 1 Bath - Newly Renovated</a>\n",
        "<a class=\"i\" data-id=\"0:00X0X_6WNkpZEZfwU\" href=\"/eby/apa/4713487145.html\"></a>\n",
        "<a class=\"hdrlnk\" data-id=\"4713487145\" href=\"/eby/apa/4713487145.html\">Newly rebuilt custom home </a>\n",
        "<a class=\"i\" data-id=\"0:00b0b_aXt3V20avm5\" href=\"/eby/apa/4703498373.html\"></a>\n",
        "<a class=\"hdrlnk\" data-id=\"4703498373\" href=\"/eby/apa/4703498373.html\">Upgraded 4 Bedroom 2 Bath Home in Irvington Area of Fremont</a>\n",
        "<a class=\"i\" href=\"/eby/apa/4713423547.html\"></a>\n",
        "<a class=\"hdrlnk\" data-id=\"4713423547\" href=\"/eby/apa/4713423547.html\">Beautiful renovated condo in Ardenwood</a>\n",
        "<a class=\"i\" data-id=\"0:00l0l_f41eMuN5srv\" href=\"/eby/apa/4713417760.html\"></a>\n",
        "<a class=\"hdrlnk\" data-id=\"4713417760\" href=\"/eby/apa/4713417760.html\">\u2665HOME IS WHERE THE HEART IS\u2665HUGE MASTERBEDROOM\u2666</a>\n",
        "<a class=\"i\" data-id=\"0:00t0t_i0CG3OgKco9\" href=\"/eby/apa/4713359828.html\"></a>\n",
        "<a class=\"hdrlnk\" data-id=\"4713359828\" href=\"/eby/apa/4713359828.html\">3BD/2BA Apartment with Quartz Countertops</a>\n",
        "<a class=\"i\" data-id=\"0:00r0r_6LQXQB4gYIk\" href=\"/eby/apa/4713367982.html\"></a>\n",
        "<a class=\"hdrlnk\" data-id=\"4713367982\" href=\"/eby/apa/4713367982.html\">BEAUTIFUL 1 BEDROOM AT QUIET NEIGHBORHOOD IN FREMONT! </a>\n",
        "<a class=\"i\" href=\"/eby/apa/4713215164.html\"></a>\n",
        "<a class=\"hdrlnk\" data-id=\"4713215164\" href=\"/eby/apa/4713215164.html\">Brand New single Family Home for Rent</a>\n",
        "<a class=\"i\" data-id=\"0:00j0j_j7TWmd4uzgc\" href=\"/eby/apa/4713175552.html\"></a>\n",
        "<a class=\"hdrlnk\" data-id=\"4713175552\" href=\"/eby/apa/4713175552.html\">Call Us Home</a>\n",
        "<a class=\"i\" data-id=\"0:01313_4h82v2wKalL\" href=\"/eby/apa/4713151241.html\"></a>\n",
        "<a class=\"hdrlnk\" data-id=\"4713151241\" href=\"/eby/apa/4713151241.html\">\u2666TOUR TODAY AND ENJOY BEAUTIFULLY RENOVATED APT HOMES\u2666</a>\n",
        "<a class=\"i\" data-id=\"0:01414_iWtqVBaWgBC\" href=\"/eby/apa/4692849596.html\"></a>\n",
        "<a class=\"hdrlnk\" data-id=\"4692849596\" href=\"/eby/apa/4692849596.html\">FREE COMCAST CABLE w/ HBO</a>\n",
        "<a class=\"i\" data-id=\"0:00D0D_eLwP175WZ9o\" href=\"/eby/apa/4713110947.html\"></a>\n",
        "<a class=\"hdrlnk\" data-id=\"4713110947\" href=\"/eby/apa/4713110947.html\">Enriched Lifestyle, Heated Pool, Sauna, Pets Welcome</a>\n",
        "<a class=\"i\" data-id=\"0:00a0a_jUhk1eN1lta\" href=\"/eby/apa/4713030866.html\"></a>\n",
        "<a class=\"hdrlnk\" data-id=\"4713030866\" href=\"/eby/apa/4713030866.html\">3BD/2BA Apartment with Quartz Countertops</a>\n",
        "<a class=\"i\" data-id=\"0:00D0D_jEs3oanwGyj\" href=\"/eby/apa/4712987709.html\"></a>\n",
        "<a class=\"hdrlnk\" data-id=\"4712987709\" href=\"/eby/apa/4712987709.html\">LUSH GARDENS, POOL, SPA, FITNESS CENTER AND BRIGHT ONE BR</a>\n",
        "<a class=\"i\" data-id=\"0:00R0R_20VCqJr8h4L\" href=\"/eby/apa/4712998954.html\"></a>\n",
        "<a class=\"hdrlnk\" data-id=\"4712998954\" href=\"/eby/apa/4712998954.html\">Updated Nice Town Home 4 Lease in Fremont!</a>\n",
        "<a class=\"i\" data-id=\"0:00N0N_2hPSao0gAcM\" href=\"/eby/apa/4712961121.html\"></a>\n",
        "<a class=\"hdrlnk\" data-id=\"4712961121\" href=\"/eby/apa/4712961121.html\">\u263bBART RIDERS DREAM/CLOSE TO SHOPPING\u263b</a>\n",
        "<a class=\"i\" href=\"/eby/apa/4712913492.html\"></a>\n",
        "<a class=\"hdrlnk\" data-id=\"4712913492\" href=\"/eby/apa/4712913492.html\">Room to share </a>\n",
        "<a class=\"i\" data-id=\"0:00K0K_6KZe2Aob1pu\" href=\"/eby/apa/4712816448.html\"></a>\n",
        "<a class=\"hdrlnk\" data-id=\"4712816448\" href=\"/eby/apa/4712816448.html\">Three-Bedroom, Two-Bathroom Apartment with W/D</a>\n",
        "<a class=\"i\" href=\"/eby/apa/4712902699.html\"></a>\n",
        "<a class=\"hdrlnk\" data-id=\"4712902699\" href=\"/eby/apa/4712902699.html\">One bedroom Luxury apt sublet </a>\n",
        "<a class=\"i\" data-id=\"0:00707_9raZfXNTSUX\" href=\"/eby/apa/4712876134.html\"></a>\n",
        "<a class=\"hdrlnk\" data-id=\"4712876134\" href=\"/eby/apa/4712876134.html\">4 Bed 3.5 Bath Single Family House in Fremont Mission San Jose</a>\n",
        "<a class=\"i\" data-id=\"0:00V0V_fhMw5tRZx8L\" href=\"/eby/apa/4712774235.html\"></a>\n",
        "<a class=\"hdrlnk\" data-id=\"4712774235\" href=\"/eby/apa/4712774235.html\">Your Future Is Here At Medallion Apts...</a>\n",
        "<a class=\"i\" href=\"/eby/apa/4712777820.html\"></a>\n",
        "<a class=\"hdrlnk\" data-id=\"4712777820\" href=\"/eby/apa/4712777820.html\">3 bed 2 bath Duplex</a>\n",
        "<a class=\"i\" data-id=\"0:00r0r_a9fqptgOFMc\" href=\"/eby/apa/4712715052.html\"></a>\n",
        "<a class=\"hdrlnk\" data-id=\"4712715052\" href=\"/eby/apa/4712715052.html\">Nice quiet 3Bed-2Bath</a>\n",
        "<a class=\"i\" data-id=\"0:00e0e_1PUnQWRSHTs\" href=\"/eby/apa/4712711557.html\"></a>\n",
        "<a class=\"hdrlnk\" data-id=\"4712711557\" href=\"/eby/apa/4712711557.html\">3 BRs, 2 BAs SFH in Fremont (94539) for Rent</a>\n",
        "<a class=\"i\" data-id=\"0:00W0W_2BGlNG57C1D\" href=\"/eby/apa/4702435447.html\"></a>\n",
        "<a class=\"hdrlnk\" data-id=\"4702435447\" href=\"/eby/apa/4702435447.html\">3 Bd, 2 Bth single family home</a>\n",
        "<a class=\"i\" data-id=\"0:00t0t_jxTjOidds98\" href=\"/eby/apa/4712488865.html\"></a>\n",
        "<a class=\"hdrlnk\" data-id=\"4712488865\" href=\"/eby/apa/4712488865.html\">Large 1x1/Ideal Downtown Hayward Location/Full Size Washer/Dryer!!!</a>\n",
        "<a class=\"i\" data-id=\"0:00L0L_HBqK7F6SRY\" href=\"/eby/apa/4712643131.html\"></a>\n",
        "<a class=\"hdrlnk\" data-id=\"4712643131\" href=\"/eby/apa/4712643131.html\">PARK-LIKE LANDSCAPING, POOL, SPA, FITNESS CENTER</a>\n",
        "<a class=\"i\" data-id=\"0:00p0p_3rUwkpBDCo8\" href=\"/eby/apa/4706347153.html\"></a>\n",
        "<a class=\"hdrlnk\" data-id=\"4706347153\" href=\"/eby/apa/4706347153.html\">Mission SanJose- 3BR, 2 Baths, 1540 SF </a>\n",
        "<a class=\"i\" data-id=\"0:00505_g3Hh3TgNe8Z\" href=\"/eby/apa/4712586884.html\"></a>\n",
        "<a class=\"hdrlnk\" data-id=\"4712586884\" href=\"/eby/apa/4712586884.html\">\u2665LOOKING FOR PEACE AND QUIET\u2665 COME AND TOUR TODAY\u2665</a>\n",
        "<a class=\"i\" href=\"/eby/apa/4712627279.html\"></a>\n",
        "<a class=\"hdrlnk\" data-id=\"4712627279\" href=\"/eby/apa/4712627279.html\">Executive Living Ranch Style Single Family</a>\n",
        "<a class=\"i\" data-id=\"0:01515_5MNZyVhru24\" href=\"/eby/apa/4712595054.html\"></a>\n",
        "<a class=\"hdrlnk\" data-id=\"4712595054\" href=\"/eby/apa/4712595054.html\">Stylish Features, Washer Dryer in Unit, Walk to BART</a>\n",
        "<a class=\"i\" data-id=\"0:00C0C_ekJJ9LU3p9J\" href=\"/eby/apa/4684119955.html\"></a>\n",
        "<a class=\"hdrlnk\" data-id=\"4684119955\" href=\"/eby/apa/4684119955.html\">Fremont Brookvale house</a>\n",
        "<a class=\"i\" data-id=\"0:00S0S_jLng6bkkTGK\" href=\"/eby/apa/4712548353.html\"></a>\n",
        "<a class=\"hdrlnk\" data-id=\"4712548353\" href=\"/eby/apa/4712548353.html\">Union City House for Rent</a>\n",
        "<a class=\"i\" data-id=\"0:01212_6b4awnNx7hX\" href=\"/eby/apa/4712560073.html\"></a>\n",
        "<a class=\"hdrlnk\" data-id=\"4712560073\" href=\"/eby/apa/4712560073.html\">\u263bBART RIDERS DREAM/CLOSE TO SHOPPING\u263b</a>\n",
        "<a class=\"i\" data-id=\"0:00P0P_66goakhD6WF\" href=\"/eby/apa/4712299524.html\"></a>\n",
        "<a class=\"hdrlnk\" data-id=\"4712299524\" href=\"/eby/apa/4712299524.html\">Elegant 3BD/2Bath Single Family Home </a>\n",
        "<a class=\"i\" data-id=\"0:01515_6ZKcUaotSJM\" href=\"/eby/apa/4667100523.html\"></a>\n",
        "<a class=\"hdrlnk\" data-id=\"4667100523\" href=\"/eby/apa/4667100523.html\">4 beds/2 baths near Stevenson /Sundale/880 walking distance to schools</a>\n",
        "<a class=\"i\" data-id=\"0:01717_1EJTf2388rD\" href=\"/eby/apa/4711894505.html\"></a>\n",
        "<a class=\"hdrlnk\" data-id=\"4711894505\" href=\"/eby/apa/4711894505.html\">HUGE 2Bed/2Bath Condo, 1200sq ft, Washer/Dryer, Central AC, REAL Garag</a>\n",
        "<a class=\"i\" href=\"/eby/apa/4711769872.html\"></a>\n",
        "<a class=\"hdrlnk\" data-id=\"4711769872\" href=\"/eby/apa/4711769872.html\">Looking for roommates right across fremont bart station</a>\n",
        "<a class=\"i\" data-id=\"0:00P0P_6QbixFi5hY7\" href=\"/eby/apa/4711731689.html\"></a>\n",
        "<a class=\"hdrlnk\" data-id=\"4711731689\" href=\"/eby/apa/4711731689.html\">RESORT LIVING IN A SERENE PARK SETTING</a>\n",
        "<a class=\"i\" data-id=\"0:00505_6297xq4c4kY\" href=\"/eby/apa/4711561337.html\"></a>\n",
        "<a class=\"hdrlnk\" data-id=\"4711561337\" href=\"/eby/apa/4711561337.html\">OPEN FLOOR PLAN WITH A PRIVATE PATIO &amp; GYM</a>\n",
        "<a class=\"i\" data-id=\"0:00O0O_lo0Oz7fCUVh\" href=\"/eby/apa/4711547661.html\"></a>\n",
        "<a class=\"hdrlnk\" data-id=\"4711547661\" href=\"/eby/apa/4711547661.html\">Great 3BR/2.5 bath home for rent in Union city</a>\n",
        "<a class=\"i\" data-id=\"0:01212_6b4awnNx7hX\" href=\"/eby/apa/4711529037.html\"></a>\n",
        "<a class=\"hdrlnk\" data-id=\"4711529037\" href=\"/eby/apa/4711529037.html\">\u2660GREAT PRICE, LOCATION, AND QUIET\u2660</a>\n",
        "<a class=\"i\" data-id=\"0:00r0r_270NAEqiUfU\" href=\"/eby/apa/4711482079.html\"></a>\n",
        "<a class=\"hdrlnk\" data-id=\"4711482079\" href=\"/eby/apa/4711482079.html\">Schedule a Tour, Community Clubhouse, Near Shops and Dining</a>\n",
        "<a class=\"i\" data-id=\"0:00909_8KOZ61jULjT\" href=\"/eby/apa/4711477837.html\"></a>\n",
        "<a class=\"hdrlnk\" data-id=\"4711477837\" href=\"/eby/apa/4711477837.html\">Ready to move in call now for an appointment!!!!</a>\n",
        "<a class=\"i\" href=\"/eby/apa/4711442471.html\"></a>\n",
        "<a class=\"hdrlnk\" data-id=\"4711442471\" href=\"/eby/apa/4711442471.html\">1 bedr apt for 1550 only in Newark  </a>\n",
        "<a class=\"i\" data-id=\"0:00D0D_7kTQEQAMZzL\" href=\"/eby/apa/4711450323.html\"></a>\n",
        "<a class=\"hdrlnk\" data-id=\"4711450323\" href=\"/eby/apa/4711450323.html\">Large 3 bedroom 2 bathroom Condo in Monte Vista Villas for rent</a>\n",
        "<a class=\"i\" data-id=\"0:00F0F_cADmzksY5yG\" href=\"/eby/apa/4711427069.html\"></a>\n",
        "<a class=\"hdrlnk\" data-id=\"4711427069\" href=\"/eby/apa/4711427069.html\">Single story house near Lake Elizebeth</a>\n",
        "<a class=\"i\" data-id=\"0:00r0r_8kJ17LssFzS\" href=\"/eby/apa/4711401643.html\"></a>\n",
        "<a class=\"hdrlnk\" data-id=\"4711401643\" href=\"/eby/apa/4711401643.html\">2 bed 1 bath </a>\n",
        "<a class=\"i\" data-id=\"0:00N0N_a1izzqGSeUJ\" href=\"/eby/apa/4711374823.html\"></a>\n",
        "<a class=\"hdrlnk\" data-id=\"4711374823\" href=\"/eby/apa/4711374823.html\">Private 24 ft camper -fully funtional</a>\n",
        "<a class=\"i\" data-id=\"0:00n0n_dT6KfSXv838\" href=\"/eby/apa/4711266858.html\"></a>\n",
        "<a class=\"hdrlnk\" data-id=\"4711266858\" href=\"/eby/apa/4711266858.html\">Medallion Has All The Space You Need...</a>\n",
        "<a class=\"i\" href=\"/eby/apa/4711260041.html\"></a>\n",
        "<a class=\"hdrlnk\" data-id=\"4711260041\" href=\"/eby/apa/4711260041.html\">Single Family House for Rent in Mission San Jose</a>\n",
        "<a class=\"i\" data-id=\"0:00F0F_k0sXhYKUMDr\" href=\"/eby/apa/4711243094.html\"></a>\n",
        "<a class=\"hdrlnk\" data-id=\"4711243094\" href=\"/eby/apa/4711243094.html\">COME BY TODAY! Available for Move- In Today! </a>\n",
        "<a class=\"i\" data-id=\"0:00E0E_8x7barJQifd\" href=\"/eby/apa/4711216233.html\"></a>\n",
        "<a class=\"hdrlnk\" data-id=\"4711216233\" href=\"/eby/apa/4711216233.html\">Ready to move in call now for an appointment!!!!</a>\n",
        "<a class=\"i\" data-id=\"0:00P0P_6QbixFi5hY7\" href=\"/eby/apa/4711129092.html\"></a>\n",
        "<a class=\"hdrlnk\" data-id=\"4711129092\" href=\"/eby/apa/4711129092.html\">PRIVATE END UNIT, LARGE STORAGE, YOUR NEW HOME IS HERE!</a>\n",
        "<a class=\"i\" data-id=\"0:00d0d_cD18ERPCPAV\" href=\"/eby/apa/4711111236.html\"></a>\n",
        "<a class=\"hdrlnk\" data-id=\"4711111236\" href=\"/eby/apa/4711111236.html\">\u263bBART RIDERS DREAM/CLOSE TO SHOPPING\u263b</a>\n",
        "<a class=\"i\" data-id=\"0:00O0O_3cjq6smNxRQ\" href=\"/eby/apa/4711067392.html\"></a>\n",
        "<a class=\"hdrlnk\" data-id=\"4711067392\" href=\"/eby/apa/4711067392.html\">Luxurious Homes, Near Public Parks, Parkmont Schools</a>\n",
        "<a class=\"i\" data-id=\"0:00P0P_66goakhD6WF\" href=\"/eby/apa/4710977244.html\"></a>\n",
        "<a class=\"hdrlnk\" data-id=\"4710977244\" href=\"/eby/apa/4710977244.html\">Elegant Single Family Home</a>\n",
        "<a class=\"i\" data-id=\"0:00000_eiSJYLeUGZj\" href=\"/eby/apa/4710498444.html\"></a>\n",
        "<a class=\"hdrlnk\" data-id=\"4710498444\" href=\"/eby/apa/4710498444.html\">*Carriage House* Gated Community in a Quiet and Friendly Neighborhood!</a>\n",
        "<a class=\"i\" data-id=\"0:00000_eiSJYLeUGZj\" href=\"/eby/apa/4710499204.html\"></a>\n",
        "<a class=\"hdrlnk\" data-id=\"4710499204\" href=\"/eby/apa/4710499204.html\">*Carriage House* Gated Community in a Quiet and Friendly Neighborhood!</a>\n",
        "<a class=\"i\" data-id=\"0:00l0l_lfOPMEXD3Co\" href=\"/eby/apa/4710494763.html\"></a>\n",
        "<a class=\"hdrlnk\" data-id=\"4710494763\" href=\"/eby/apa/4710494763.html\">AMAZING AMENITIES IN PARK-LIKE COMMUNITY</a>\n",
        "<a class=\"i\" data-id=\"0:00z0z_4RRGiVJOn5L\" href=\"/eby/apa/4710469884.html\"></a>\n",
        "<a class=\"hdrlnk\" data-id=\"4710469884\" href=\"/eby/apa/4710469884.html\">\u2665HOME IS WHERE THE HEART IS\u2665WASHER/DYER IN UNIT\u2660</a>\n",
        "<a class=\"i\" data-id=\"0:00I0I_q1cebQKNNO\" href=\"/eby/apa/4710451031.html\"></a>\n",
        "<a class=\"hdrlnk\" data-id=\"4710451031\" href=\"/eby/apa/4710451031.html\">Affordable One Bedroom Near Public Transportation, Shopping and Dining</a>\n",
        "<a class=\"i\" data-id=\"0:00M0M_hEv7Ng7bn7L\" href=\"/eby/apa/4710368477.html\"></a>\n",
        "<a class=\"hdrlnk\" data-id=\"4710368477\" href=\"/eby/apa/4710368477.html\">Available November 11th!!</a>\n",
        "<a class=\"i\" data-id=\"0:00R0R_iAkJ3JvUj4K\" href=\"/eby/apa/4710369193.html\"></a>\n",
        "<a class=\"hdrlnk\" data-id=\"4710369193\" href=\"/eby/apa/4710369193.html\">Only One Available November 1st</a>\n",
        "<a class=\"i\" data-id=\"0:00404_5oXDHu2lezH\" href=\"/eby/apa/4710371000.html\"></a>\n",
        "<a class=\"hdrlnk\" data-id=\"4710371000\" href=\"/eby/apa/4710371000.html\">Large Dual Floor Plan First Availability October 15th </a>\n",
        "<a class=\"i\" data-id=\"0:00f0f_7ERJq4wTYPm\" href=\"/eby/apa/4710410118.html\"></a>\n",
        "<a class=\"hdrlnk\" data-id=\"4710410118\" href=\"/eby/apa/4710410118.html\">Mission Home - 699 Patriot Place - Fremont</a>\n",
        "<a class=\"i\" data-id=\"0:00S0S_i5RLVK07E4J\" href=\"/eby/apa/4696287452.html\"></a>\n",
        "<a class=\"hdrlnk\" data-id=\"4696287452\" href=\"/eby/apa/4696287452.html\">Great 3 bed 2.5 bath townhome remodeled in Fremont </a>\n",
        "<a class=\"i\" data-id=\"0:01515_273Zi2PUPhy\" href=\"/eby/apa/4710360494.html\"></a>\n",
        "<a class=\"hdrlnk\" data-id=\"4710360494\" href=\"/eby/apa/4710360494.html\">37 Silk Oak, Fremont - Nice Townhome</a>\n",
        "<a class=\"i\" data-id=\"0:00000_eiSJYLeUGZj\" href=\"/eby/apa/4710316373.html\"></a>\n",
        "<a class=\"hdrlnk\" data-id=\"4710316373\" href=\"/eby/apa/4710316373.html\">*Carriage House* Gated Community in a Quiet and Friendly Neighborhood!</a>\n",
        "<a class=\"i\" data-id=\"0:00000_eiSJYLeUGZj\" href=\"/eby/apa/4710317042.html\"></a>\n",
        "<a class=\"hdrlnk\" data-id=\"4710317042\" href=\"/eby/apa/4710317042.html\">*Carriage House* Gated Community in a Quiet and Friendly Neighborhood!</a>\n",
        "<a class=\"i\" data-id=\"0:01212_6b4awnNx7hX\" href=\"/eby/apa/4710320249.html\"></a>\n",
        "<a class=\"hdrlnk\" data-id=\"4710320249\" href=\"/eby/apa/4710320249.html\">\u2666\u263aBRAND NEW EVERYTHING!\u2666\u263a</a>\n",
        "<a class=\"i\" data-id=\"0:00v0v_bSM1pYytCIH\" href=\"/eby/apa/4710314987.html\"></a>\n",
        "<a class=\"hdrlnk\" data-id=\"4710314987\" href=\"/eby/apa/4710314987.html\">PARK-LIKE LANDSCAPING, POOL, SPA, FITNESS CENTER</a>\n",
        "<a class=\"i\" data-id=\"0:00D0D_c5sIX71krZa\" href=\"/eby/apa/4710259152.html\"></a>\n",
        "<a class=\"hdrlnk\" data-id=\"4710259152\" href=\"/eby/apa/4710259152.html\">Visit Your New Home, Night Patrol, Fitness Ctr, Easy Freeway Access</a>\n",
        "<a class=\"i\" data-id=\"0:00707_1SpdSZOTxrY\" href=\"/eby/apa/4710193155.html\"></a>\n",
        "<a class=\"hdrlnk\" data-id=\"4710193155\" href=\"/eby/apa/4710193155.html\">Top Floor 2 bed 1 Bath! The Place To Live!</a>\n",
        "<a class=\"i\" data-id=\"0:00F0F_eYh5o79caK8\" href=\"/eby/apa/4710174102.html\"></a>\n",
        "<a class=\"hdrlnk\" data-id=\"4710174102\" href=\"/eby/apa/4710174102.html\">Ready to move in call now for an appointment!!!!</a>\n",
        "<a class=\"i\" data-id=\"0:00T0T_cq3QzP8w3Ft\" href=\"/eby/apa/4710164005.html\"></a>\n",
        "<a class=\"hdrlnk\" data-id=\"4710164005\" href=\"/eby/apa/4710164005.html\">Lovely Place To Call Home! Sparkling pool &amp; relaxing spa!  $300 Dep.</a>\n",
        "<a class=\"i\" data-id=\"0:00R0R_VBEuojEggQ\" href=\"/eby/apa/4701965908.html\"></a>\n",
        "<a class=\"hdrlnk\" data-id=\"4701965908\" href=\"/eby/apa/4701965908.html\">COME BY TODAY! Available for October 13Th  Move- In! </a>\n",
        "<a class=\"i\" data-id=\"0:00x0x_aoMDfSjdWAa\" href=\"/eby/apa/4710131865.html\"></a>\n",
        "<a class=\"hdrlnk\" data-id=\"4710131865\" href=\"/eby/apa/4710131865.html\">Ready to Rent!</a>\n",
        "<a class=\"i\" data-id=\"0:00F0F_4Ztz0a8KbEZ\" href=\"/eby/apa/4710068294.html\"></a>\n",
        "<a class=\"hdrlnk\" data-id=\"4710068294\" href=\"/eby/apa/4710068294.html\">PARK-LIKE SETTING IN PRIME LOCATION, DESIGNER 2 BR</a>\n",
        "<a class=\"button first\" href=\"/search/eby/apa?nh=54\" title=\"first page\">&lt;&lt;</a>\n",
        "<a class=\"button prev\" href=\"/search/eby/apa?s=300&amp;nh=54\" title=\"previous page\">&lt; prev</a>\n",
        "<a class=\"button next\" href=\"/search/eby/apa?s=500&amp;nh=54\" title=\"next page\"> next &gt; </a>\n",
        "<a class=\"backtotop button\" href=\"#pagecontainer\">^ back to top</a>\n",
        "<a class=\"l\" href=\"http://sfbay.craigslist.org/search/eby/apa?nh=54&amp;s=400&amp;format=rss\">RSS</a>\n",
        "<a href=\"http://www.craigslist.org/about/rss\">(?)</a>\n",
        "<a href=\"//www.craigslist.org/about/help/\">help</a>\n",
        "<a href=\"//www.craigslist.org/about/scams\">safety</a>\n",
        "<a href=\"//www.craigslist.org/about/privacy.policy\">privacy</a>\n",
        "<a href=\"https://forums.craigslist.org/?forumID=8\">feedback</a>\n",
        "<a href=\"//www.craigslist.org/about/craigslist_is_hiring\">cl jobs</a>\n",
        "<a href=\"//www.craigslist.org/about/terms.of.use\">terms</a>\n",
        "<a href=\"//www.craigslist.org/about/\">about</a>\n"
       ]
      }
     ],
     "prompt_number": 4
    },
    {
     "cell_type": "code",
     "collapsed": false,
     "input": [
      "print urls"
     ],
     "language": "python",
     "metadata": {},
     "outputs": [
      {
       "output_type": "stream",
       "stream": "stdout",
       "text": [
        "['/', '/search/hhh', '/search/apa', 'https://post.craigslist.org/c/sfo?lang=en', 'https://accounts.craigslist.org/login/home', '#', 'https://accounts.craigslist.org/login?rt=L&rp=%2Fsavesearch%2Falert%3FURL%3Dhttp%253A%252F%252Fsfbay%252Ecraigslist%252Eorg%252Fsearch%252Feby%252Fapa%253Fnh%253D54%2526sale%255Fdate%253D%252D', 'https://accounts.craigslist.org/login?rt=L&rp=%2Fsavesearch%2Fsave%3FURL%3Dhttp%253A%252F%252Fsfbay%252Ecraigslist%252Eorg%252Fsearch%252Feby%252Fapa%253Fnh%253D54%2526sale%255Fdate%253D%252D', '/search/eby/apa?nh=54&sale_date=-', '/search/eby/rea?nh=54&sale_date=-', '/search/eby/roo?nh=54&sale_date=-', '/search/eby/off?nh=54&sale_date=-', '/search/eby/sha?nh=54&sale_date=-', '/search/eby/hou?nh=54&sale_date=-', '/search/eby/sub?nh=54&sale_date=-', '/search/eby/prk?nh=54&sale_date=-', '/search/eby/rew?nh=54&sale_date=-', '/search/eby/vac?nh=54&sale_date=-', '/search/eby/swp?nh=54&sale_date=-', '/search/eby/sbw?nh=54&sale_date=-', '#list', '#pic', '#grid', '#map', '/search/eby/apa?sort=priceasc&nh=54&sale_date=-', '/search/eby/apa?sort=pricedsc&nh=54&sale_date=-', '/search/eby/apa?s=100&nh=54&sale_date=-', '/eby/apa/4721382446.html', '/eby/apa/4721382446.html', '/eby/apa/4721372533.html', '/eby/apa/4721372533.html', '/eby/apa/4715766018.html', '/eby/apa/4715766018.html', '/eby/apa/4721340098.html', '/eby/apa/4721340098.html', '/eby/apa/4708627612.html', '/eby/apa/4708627612.html', '/eby/apa/4721286965.html', '/eby/apa/4721286965.html', '/eby/apa/4721291281.html', '/eby/apa/4721291281.html', '/eby/apa/4721226891.html', '/eby/apa/4721226891.html', '/eby/apa/4721213598.html', '/eby/apa/4721213598.html', '/eby/apa/4721137029.html', '/eby/apa/4721137029.html', '/eby/apa/4721186944.html', '/eby/apa/4721186944.html', '/eby/apa/4721161562.html', '/eby/apa/4721161562.html', '/eby/apa/4721146778.html', '/eby/apa/4721146778.html', '/eby/apa/4721161340.html', '/eby/apa/4721161340.html', '/eby/apa/4721162176.html', '/eby/apa/4721162176.html', '/eby/apa/4721134568.html', '/eby/apa/4721134568.html', '/eby/apa/4721157794.html', '/eby/apa/4721157794.html', '/eby/apa/4721115804.html', '/eby/apa/4721115804.html', '/eby/apa/4721152536.html', '/eby/apa/4721152536.html', '/eby/apa/4721136124.html', '/eby/apa/4721136124.html', '/eby/apa/4721088595.html', '/eby/apa/4721088595.html', '/eby/apa/4721132582.html', '/eby/apa/4721132582.html', '/eby/apa/4715295146.html', '/eby/apa/4715295146.html', '/eby/apa/4721119470.html', '/eby/apa/4721119470.html', '/eby/apa/4721087771.html', '/eby/apa/4721087771.html', '/eby/apa/4721099287.html', '/eby/apa/4721099287.html', '/eby/apa/4721083651.html', '/eby/apa/4721083651.html', '/eby/apa/4721115450.html', '/eby/apa/4721115450.html', '/eby/apa/4721110227.html', '/eby/apa/4721110227.html', '/eby/apa/4721102115.html', '/eby/apa/4721102115.html', '/eby/apa/4721100755.html', '/eby/apa/4721100755.html', '/eby/apa/4721084803.html', '/eby/apa/4721084803.html', '/eby/apa/4721048597.html', '/eby/apa/4721048597.html', '/eby/apa/4721024294.html', '/eby/apa/4721024294.html', '/eby/apa/4721084894.html', '/eby/apa/4721084894.html', '/eby/apa/4720999648.html', '/eby/apa/4720999648.html', '/eby/apa/4720998596.html', '/eby/apa/4720998596.html', '/eby/apa/4721066026.html', '/eby/apa/4721066026.html', '/eby/apa/4721045486.html', '/eby/apa/4721045486.html', '/eby/apa/4721028602.html', '/eby/apa/4721028602.html', '/eby/apa/4721019624.html', '/eby/apa/4721019624.html', '/eby/apa/4721015477.html', '/eby/apa/4721015477.html', '/eby/apa/4721009101.html', '/eby/apa/4721009101.html', '/eby/apa/4720955678.html', '/eby/apa/4720955678.html', '/eby/apa/4721002243.html', '/eby/apa/4721002243.html', '/eby/apa/4720917195.html', '/eby/apa/4720917195.html', '/eby/apa/4720996606.html', '/eby/apa/4720996606.html', '/eby/apa/4712729495.html', '/eby/apa/4712729495.html', '/eby/apa/4720983215.html', '/eby/apa/4720983215.html', '/eby/apa/4720991708.html', '/eby/apa/4720991708.html', '/eby/apa/4720991582.html', '/eby/apa/4720991582.html', '/eby/apa/4720988308.html', '/eby/apa/4720988308.html', '/eby/apa/4720985331.html', '/eby/apa/4720985331.html', '/eby/apa/4720971062.html', '/eby/apa/4720971062.html', '/eby/apa/4720953403.html', '/eby/apa/4720953403.html', '/eby/apa/4720935262.html', '/eby/apa/4720935262.html', '/eby/apa/4720891332.html', '/eby/apa/4720891332.html', '/eby/apa/4720885262.html', '/eby/apa/4720885262.html', '/eby/apa/4720878750.html', '/eby/apa/4720878750.html', '/eby/apa/4720849050.html', '/eby/apa/4720849050.html', '/eby/apa/4720819919.html', '/eby/apa/4720819919.html', '/eby/apa/4720839175.html', '/eby/apa/4720839175.html', '/eby/apa/4720845630.html', '/eby/apa/4720845630.html', '/eby/apa/4720845004.html', '/eby/apa/4720845004.html', '/eby/apa/4720818552.html', '/eby/apa/4720818552.html', '/eby/apa/4720620522.html', '/eby/apa/4720620522.html', '/eby/apa/4720771143.html', '/eby/apa/4720771143.html', '/eby/apa/4720774106.html', '/eby/apa/4720774106.html', '/eby/apa/4720780184.html', '/eby/apa/4720780184.html', '/eby/apa/4720732984.html', '/eby/apa/4720732984.html', '/eby/apa/4720640783.html', '/eby/apa/4720640783.html', '/eby/apa/4720639560.html', '/eby/apa/4720639560.html', '/eby/apa/4720727834.html', '/eby/apa/4720727834.html', '/eby/apa/4720736311.html', '/eby/apa/4720736311.html', '/eby/apa/4720715448.html', '/eby/apa/4720715448.html', '/eby/apa/4720713509.html', '/eby/apa/4720713509.html', '/eby/apa/4720711119.html', '/eby/apa/4720711119.html', '/eby/apa/4720641538.html', '/eby/apa/4720641538.html', '/eby/apa/4720648643.html', '/eby/apa/4720648643.html', '/eby/apa/4720704953.html', '/eby/apa/4720704953.html', '/eby/apa/4720678524.html', '/eby/apa/4720678524.html', '/eby/apa/4720694437.html', '/eby/apa/4720694437.html', '/eby/apa/4720639373.html', '/eby/apa/4720639373.html', '/eby/apa/4720654636.html', '/eby/apa/4720654636.html', '/eby/apa/4720611645.html', '/eby/apa/4720611645.html', '/eby/apa/4720615854.html', '/eby/apa/4720615854.html', '/eby/apa/4720618278.html', '/eby/apa/4720618278.html', '/eby/apa/4720654598.html', '/eby/apa/4720654598.html', '/eby/apa/4720653117.html', '/eby/apa/4720653117.html', '/eby/apa/4720627806.html', '/eby/apa/4720627806.html', '/eby/apa/4710176266.html', '/eby/apa/4710176266.html', '/eby/apa/4720574328.html', '/eby/apa/4720574328.html', '/eby/apa/4720621095.html', '/eby/apa/4720621095.html', '/eby/apa/4720601875.html', '/eby/apa/4720601875.html', '/eby/apa/4720596089.html', '/eby/apa/4720596089.html', '/eby/apa/4677306808.html', '/eby/apa/4677306808.html', '/eby/apa/4720521929.html', '/eby/apa/4720521929.html', '/eby/apa/4720573333.html', '/eby/apa/4720573333.html', '/eby/apa/4720485015.html', '/eby/apa/4720485015.html', '/eby/apa/4720551845.html', '/eby/apa/4720551845.html', '/search/eby/apa?s=100&nh=54&sale_date=-', '#pagecontainer', 'http://sfbay.craigslist.org/search/eby/apa?nh=54&sale_date=-&format=rss', 'http://www.craigslist.org/about/rss', '//www.craigslist.org/about/help/', '//www.craigslist.org/about/scams', '//www.craigslist.org/about/privacy.policy', 'https://forums.craigslist.org/?forumID=8', '//www.craigslist.org/about/craigslist_is_hiring', '//www.craigslist.org/about/terms.of.use', '//www.craigslist.org/about/', '/', '/search/hhh', '/search/apa', 'https://post.craigslist.org/c/sfo?lang=en', 'https://accounts.craigslist.org/login/home', '#', 'https://accounts.craigslist.org/login?rt=L&rp=%2Fsavesearch%2Falert%3FURL%3Dhttp%253A%252F%252Fsfbay%252Ecraigslist%252Eorg%252Fsearch%252Feby%252Fapa%253Fnh%253D54', 'https://accounts.craigslist.org/login?rt=L&rp=%2Fsavesearch%2Fsave%3FURL%3Dhttp%253A%252F%252Fsfbay%252Ecraigslist%252Eorg%252Fsearch%252Feby%252Fapa%253Fnh%253D54', '/search/eby/apa?nh=54', '/search/eby/rea?nh=54', '/search/eby/roo?nh=54', '/search/eby/off?nh=54', '/search/eby/sha?nh=54', '/search/eby/hou?nh=54', '/search/eby/sub?nh=54', '/search/eby/prk?nh=54', '/search/eby/rew?nh=54', '/search/eby/vac?nh=54', '/search/eby/swp?nh=54', '/search/eby/sbw?nh=54', '#list', '#pic', '#grid', '#map', '/search/eby/apa?sort=priceasc&nh=54', '/search/eby/apa?sort=pricedsc&nh=54', '/search/eby/apa?nh=54', '/search/eby/apa?nh=54', '/search/eby/apa?s=200&nh=54', '/eby/apa/4720519649.html', '/eby/apa/4720519649.html', '/eby/apa/4720477585.html', '/eby/apa/4720477585.html', '/eby/apa/4720534239.html', '/eby/apa/4720534239.html', '/eby/apa/4720524100.html', '/eby/apa/4720524100.html', '/eby/apa/4720540400.html', '/eby/apa/4720540400.html', '/eby/apa/4720504489.html', '/eby/apa/4720504489.html', '/eby/apa/4720522812.html', '/eby/apa/4720522812.html', '/eby/apa/4720482808.html', '/eby/apa/4720482808.html', '/eby/apa/4720514047.html', '/eby/apa/4720514047.html', '/eby/apa/4720505852.html', '/eby/apa/4720505852.html', '/eby/apa/4720487019.html', '/eby/apa/4720487019.html', '/eby/apa/4720463865.html', '/eby/apa/4720463865.html', '/eby/apa/4720421139.html', '/eby/apa/4720421139.html', '/eby/apa/4720455674.html', '/eby/apa/4720455674.html', '/eby/apa/4713634429.html', '/eby/apa/4713634429.html', '/eby/apa/4675937071.html', '/eby/apa/4675937071.html', '/eby/apa/4720441387.html', '/eby/apa/4720441387.html', '/eby/apa/4720455452.html', '/eby/apa/4720455452.html', '/eby/apa/4720449674.html', '/eby/apa/4720449674.html', '/eby/apa/4711496032.html', '/eby/apa/4711496032.html', '/eby/apa/4720412245.html', '/eby/apa/4720412245.html', '/eby/apa/4720404742.html', '/eby/apa/4720404742.html', '/eby/apa/4720384339.html', '/eby/apa/4720384339.html', '/eby/apa/4720363448.html', '/eby/apa/4720363448.html', '/eby/apa/4716116880.html', '/eby/apa/4716116880.html', '/eby/apa/4710948402.html', '/eby/apa/4710948402.html', '/eby/apa/4720219856.html', '/eby/apa/4720219856.html', '/eby/apa/4712640948.html', '/eby/apa/4712640948.html', '/eby/apa/4719991852.html', '/eby/apa/4719991852.html', '/eby/apa/4719986309.html', '/eby/apa/4719986309.html', '/eby/apa/4710227618.html', '/eby/apa/4710227618.html', '/eby/apa/4688449232.html', '/eby/apa/4688449232.html', '/eby/apa/4719922054.html', '/eby/apa/4719922054.html', '/eby/apa/4711946435.html', '/eby/apa/4711946435.html', '/eby/apa/4719902978.html', '/eby/apa/4719902978.html', '/eby/apa/4719764104.html', '/eby/apa/4719764104.html', '/eby/apa/4719903999.html', '/eby/apa/4719903999.html', '/eby/apa/4719801862.html', '/eby/apa/4719801862.html', '/eby/apa/4700775920.html', '/eby/apa/4700775920.html', '/eby/apa/4719791884.html', '/eby/apa/4719791884.html', '/eby/apa/4719745304.html', '/eby/apa/4719745304.html', '/eby/apa/4719744543.html', '/eby/apa/4719744543.html', '/eby/apa/4719736775.html', '/eby/apa/4719736775.html', '/eby/apa/4719725545.html', '/eby/apa/4719725545.html', '/eby/apa/4716603113.html', '/eby/apa/4716603113.html', '/eby/apa/4719720022.html', '/eby/apa/4719720022.html', '/eby/apa/4711899551.html', '/eby/apa/4711899551.html', '/eby/apa/4719715423.html', '/eby/apa/4719715423.html', '/eby/apa/4719697928.html', '/eby/apa/4719697928.html', '/eby/apa/4719685180.html', '/eby/apa/4719685180.html', '/eby/apa/4719670894.html', '/eby/apa/4719670894.html', '/eby/apa/4719630357.html', '/eby/apa/4719630357.html', '/eby/apa/4719629700.html', '/eby/apa/4719629700.html', '/eby/apa/4719638412.html', '/eby/apa/4719638412.html', '/eby/apa/4711328744.html', '/eby/apa/4711328744.html', '/eby/apa/4719588764.html', '/eby/apa/4719588764.html', '/eby/apa/4719629114.html', '/eby/apa/4719629114.html', '/eby/apa/4710699054.html', '/eby/apa/4710699054.html', '/eby/apa/4719628167.html', '/eby/apa/4719628167.html', '/eby/apa/4708307695.html', '/eby/apa/4708307695.html', '/eby/apa/4719615008.html', '/eby/apa/4719615008.html', '/eby/apa/4716419404.html', '/eby/apa/4716419404.html', '/eby/apa/4719572603.html', '/eby/apa/4719572603.html', '/eby/apa/4699576897.html', '/eby/apa/4699576897.html', '/eby/apa/4706955374.html', '/eby/apa/4706955374.html', '/eby/apa/4701295277.html', '/eby/apa/4701295277.html', '/eby/apa/4719506217.html', '/eby/apa/4719506217.html', '/eby/apa/4719445888.html', '/eby/apa/4719445888.html', '/eby/apa/4719489325.html', '/eby/apa/4719489325.html', '/eby/apa/4719497815.html', '/eby/apa/4719497815.html', '/eby/apa/4719474600.html', '/eby/apa/4719474600.html', '/eby/apa/4719473938.html', '/eby/apa/4719473938.html', '/eby/apa/4719409678.html', '/eby/apa/4719409678.html', '/eby/apa/4715245194.html', '/eby/apa/4715245194.html', '/eby/apa/4719373853.html', '/eby/apa/4719373853.html', '/eby/apa/4719344760.html', '/eby/apa/4719344760.html', '/eby/apa/4719187118.html', '/eby/apa/4719187118.html', '/eby/apa/4708634531.html', '/eby/apa/4708634531.html', '/eby/apa/4719268597.html', '/eby/apa/4719268597.html', '/eby/apa/4719323239.html', '/eby/apa/4719323239.html', '/eby/apa/4719280242.html', '/eby/apa/4719280242.html', '/eby/apa/4719275754.html', '/eby/apa/4719275754.html', '/eby/apa/4719262871.html', '/eby/apa/4719262871.html', '/eby/apa/4719240713.html', '/eby/apa/4719240713.html', '/eby/apa/4719247973.html', '/eby/apa/4719247973.html', '/eby/apa/4719239533.html', '/eby/apa/4719239533.html', '/eby/apa/4719218830.html', '/eby/apa/4719218830.html', '/eby/apa/4719218293.html', '/eby/apa/4719218293.html', '/eby/apa/4708874045.html', '/eby/apa/4708874045.html', '/eby/apa/4719209534.html', '/eby/apa/4719209534.html', '/eby/apa/4719177234.html', '/eby/apa/4719177234.html', '/eby/apa/4719168016.html', '/eby/apa/4719168016.html', '/eby/apa/4719164927.html', '/eby/apa/4719164927.html', '/eby/apa/4709086634.html', '/eby/apa/4709086634.html', '/eby/apa/4719053083.html', '/eby/apa/4719053083.html', '/eby/apa/4715989928.html', '/eby/apa/4715989928.html', '/eby/apa/4715361058.html', '/eby/apa/4715361058.html', '/eby/apa/4719113814.html', '/eby/apa/4719113814.html', '/eby/apa/4709166878.html', '/eby/apa/4709166878.html', '/eby/apa/4719087534.html', '/eby/apa/4719087534.html', '/search/eby/apa?nh=54', '/search/eby/apa?nh=54', '/search/eby/apa?s=200&nh=54', '#pagecontainer', 'http://sfbay.craigslist.org/search/eby/apa?nh=54&s=100&format=rss', 'http://www.craigslist.org/about/rss', '//www.craigslist.org/about/help/', '//www.craigslist.org/about/scams', '//www.craigslist.org/about/privacy.policy', 'https://forums.craigslist.org/?forumID=8', '//www.craigslist.org/about/craigslist_is_hiring', '//www.craigslist.org/about/terms.of.use', '//www.craigslist.org/about/', '/', '/search/hhh', '/search/apa', 'https://post.craigslist.org/c/sfo?lang=en', 'https://accounts.craigslist.org/login/home', '#', 'https://accounts.craigslist.org/login?rt=L&rp=%2Fsavesearch%2Falert%3FURL%3Dhttp%253A%252F%252Fsfbay%252Ecraigslist%252Eorg%252Fsearch%252Feby%252Fapa%253Fnh%253D54', 'https://accounts.craigslist.org/login?rt=L&rp=%2Fsavesearch%2Fsave%3FURL%3Dhttp%253A%252F%252Fsfbay%252Ecraigslist%252Eorg%252Fsearch%252Feby%252Fapa%253Fnh%253D54', '/search/eby/apa?nh=54', '/search/eby/rea?nh=54', '/search/eby/roo?nh=54', '/search/eby/off?nh=54', '/search/eby/sha?nh=54', '/search/eby/hou?nh=54', '/search/eby/sub?nh=54', '/search/eby/prk?nh=54', '/search/eby/rew?nh=54', '/search/eby/vac?nh=54', '/search/eby/swp?nh=54', '/search/eby/sbw?nh=54', '#list', '#pic', '#grid', '#map', '/search/eby/apa?sort=priceasc&nh=54', '/search/eby/apa?sort=pricedsc&nh=54', '/search/eby/apa?nh=54', '/search/eby/apa?s=100&nh=54', '/search/eby/apa?s=300&nh=54', '/eby/apa/4691387359.html', '/eby/apa/4691387359.html', '/eby/apa/4711238589.html', '/eby/apa/4711238589.html', '/eby/apa/4719108614.html', '/eby/apa/4719108614.html', '/eby/apa/4719055408.html', '/eby/apa/4719055408.html', '/eby/apa/4712645561.html', '/eby/apa/4712645561.html', '/eby/apa/4719103428.html', '/eby/apa/4719103428.html', '/eby/apa/4719092872.html', '/eby/apa/4719092872.html', '/eby/apa/4719030835.html', '/eby/apa/4719030835.html', '/eby/apa/4719048546.html', '/eby/apa/4719048546.html', '/eby/apa/4719076304.html', '/eby/apa/4719076304.html', '/eby/apa/4719047778.html', '/eby/apa/4719047778.html', '/eby/apa/4719065655.html', '/eby/apa/4719065655.html', '/eby/apa/4719027449.html', '/eby/apa/4719027449.html', '/eby/apa/4719006949.html', '/eby/apa/4719006949.html', '/eby/apa/4708387181.html', '/eby/apa/4708387181.html', '/eby/apa/4719004291.html', '/eby/apa/4719004291.html', '/eby/apa/4718978993.html', '/eby/apa/4718978993.html', '/eby/apa/4718980244.html', '/eby/apa/4718980244.html', '/eby/apa/4718932110.html', '/eby/apa/4718932110.html', '/eby/apa/4675852525.html', '/eby/apa/4675852525.html', '/eby/apa/4718930446.html', '/eby/apa/4718930446.html', '/eby/apa/4718888221.html', '/eby/apa/4718888221.html', '/eby/apa/4718897884.html', '/eby/apa/4718897884.html', '/eby/apa/4718902969.html', '/eby/apa/4718902969.html', '/eby/apa/4718925342.html', '/eby/apa/4718925342.html', '/eby/apa/4718918187.html', '/eby/apa/4718918187.html', '/eby/apa/4718880555.html', '/eby/apa/4718880555.html', '/eby/apa/4718891996.html', '/eby/apa/4718891996.html', '/eby/apa/4718851609.html', '/eby/apa/4718851609.html', '/eby/apa/4718837507.html', '/eby/apa/4718837507.html', '/eby/apa/4695475060.html', '/eby/apa/4695475060.html', '/eby/apa/4698874935.html', '/eby/apa/4698874935.html', '/eby/apa/4718773776.html', '/eby/apa/4718773776.html', '/eby/apa/4708765187.html', '/eby/apa/4708765187.html', '/eby/apa/4700013075.html', '/eby/apa/4700013075.html', '/eby/apa/4718415269.html', '/eby/apa/4718415269.html', '/eby/apa/4718402901.html', '/eby/apa/4718402901.html', '/eby/apa/4714930467.html', '/eby/apa/4714930467.html', '/eby/apa/4718342445.html', '/eby/apa/4718342445.html', '/eby/apa/4718341765.html', '/eby/apa/4718341765.html', '/eby/apa/4718283672.html', '/eby/apa/4718283672.html', '/eby/apa/4718268865.html', '/eby/apa/4718268865.html', '/eby/apa/4718206189.html', '/eby/apa/4718206189.html', '/eby/apa/4718195034.html', '/eby/apa/4718195034.html', '/eby/apa/4718175757.html', '/eby/apa/4718175757.html', '/eby/apa/4718181090.html', '/eby/apa/4718181090.html', '/eby/apa/4718164387.html', '/eby/apa/4718164387.html', '/eby/apa/4718139101.html', '/eby/apa/4718139101.html', '/eby/apa/4718139132.html', '/eby/apa/4718139132.html', '/eby/apa/4718095749.html', '/eby/apa/4718095749.html', '/eby/apa/4718111156.html', '/eby/apa/4718111156.html', '/eby/apa/4718110291.html', '/eby/apa/4718110291.html', '/eby/apa/4685873529.html', '/eby/apa/4685873529.html', '/eby/apa/4718079341.html', '/eby/apa/4718079341.html', '/eby/apa/4718073843.html', '/eby/apa/4718073843.html', '/eby/apa/4718057214.html', '/eby/apa/4718057214.html', '/eby/apa/4718002189.html', '/eby/apa/4718002189.html', '/eby/apa/4717962752.html', '/eby/apa/4717962752.html', '/eby/apa/4718001748.html', '/eby/apa/4718001748.html', '/eby/apa/4717989371.html', '/eby/apa/4717989371.html', '/eby/apa/4704285477.html', '/eby/apa/4704285477.html', '/eby/apa/4717955759.html', '/eby/apa/4717955759.html', '/eby/apa/4717905618.html', '/eby/apa/4717905618.html', '/eby/apa/4717861265.html', '/eby/apa/4717861265.html', '/eby/apa/4717846989.html', '/eby/apa/4717846989.html', '/eby/apa/4717850427.html', '/eby/apa/4717850427.html', '/eby/apa/4717837201.html', '/eby/apa/4717837201.html', '/eby/apa/4717828930.html', '/eby/apa/4717828930.html', '/eby/apa/4717797626.html', '/eby/apa/4717797626.html', '/eby/apa/4717808304.html', '/eby/apa/4717808304.html', '/eby/apa/4717640141.html', '/eby/apa/4717640141.html', '/eby/apa/4717691905.html', '/eby/apa/4717691905.html', '/eby/apa/4717691173.html', '/eby/apa/4717691173.html', '/eby/apa/4717668366.html', '/eby/apa/4717668366.html', '/eby/apa/4717669681.html', '/eby/apa/4717669681.html', '/eby/apa/4717634471.html', '/eby/apa/4717634471.html', '/eby/apa/4717628738.html', '/eby/apa/4717628738.html', '/eby/apa/4717653735.html', '/eby/apa/4717653735.html', '/eby/apa/4717618384.html', '/eby/apa/4717618384.html', '/eby/apa/4717568550.html', '/eby/apa/4717568550.html', '/eby/apa/4717606226.html', '/eby/apa/4717606226.html', '/eby/apa/4717582558.html', '/eby/apa/4717582558.html', '/eby/apa/4717544934.html', '/eby/apa/4717544934.html', '/eby/apa/4717573618.html', '/eby/apa/4717573618.html', '/eby/apa/4717573101.html', '/eby/apa/4717573101.html', '/eby/apa/4717545721.html', '/eby/apa/4717545721.html', '/eby/apa/4692790556.html', '/eby/apa/4692790556.html', '/eby/apa/4717522155.html', '/eby/apa/4717522155.html', '/eby/apa/4717504335.html', '/eby/apa/4717504335.html', '/eby/apa/4717473394.html', '/eby/apa/4717473394.html', '/eby/apa/4717430532.html', '/eby/apa/4717430532.html', '/eby/apa/4717478172.html', '/eby/apa/4717478172.html', '/eby/apa/4717477696.html', '/eby/apa/4717477696.html', '/eby/apa/4717426165.html', '/eby/apa/4717426165.html', '/eby/apa/4706997677.html', '/eby/apa/4706997677.html', '/eby/apa/4717225080.html', '/eby/apa/4717225080.html', '/eby/apa/4708469914.html', '/eby/apa/4708469914.html', '/eby/apa/4713236409.html', '/eby/apa/4713236409.html', '/eby/apa/4697859201.html', '/eby/apa/4697859201.html', '/eby/apa/4708241212.html', '/eby/apa/4708241212.html', '/search/eby/apa?nh=54', '/search/eby/apa?s=100&nh=54', '/search/eby/apa?s=300&nh=54', '#pagecontainer', 'http://sfbay.craigslist.org/search/eby/apa?nh=54&s=200&format=rss', 'http://www.craigslist.org/about/rss', '//www.craigslist.org/about/help/', '//www.craigslist.org/about/scams', '//www.craigslist.org/about/privacy.policy', 'https://forums.craigslist.org/?forumID=8', '//www.craigslist.org/about/craigslist_is_hiring', '//www.craigslist.org/about/terms.of.use', '//www.craigslist.org/about/', '/', '/search/hhh', '/search/apa', 'https://post.craigslist.org/c/sfo?lang=en', 'https://accounts.craigslist.org/login/home', '#', 'https://accounts.craigslist.org/login?rt=L&rp=%2Fsavesearch%2Falert%3FURL%3Dhttp%253A%252F%252Fsfbay%252Ecraigslist%252Eorg%252Fsearch%252Feby%252Fapa%253Fnh%253D54', 'https://accounts.craigslist.org/login?rt=L&rp=%2Fsavesearch%2Fsave%3FURL%3Dhttp%253A%252F%252Fsfbay%252Ecraigslist%252Eorg%252Fsearch%252Feby%252Fapa%253Fnh%253D54', '/search/eby/apa?nh=54', '/search/eby/rea?nh=54', '/search/eby/roo?nh=54', '/search/eby/off?nh=54', '/search/eby/sha?nh=54', '/search/eby/hou?nh=54', '/search/eby/sub?nh=54', '/search/eby/prk?nh=54', '/search/eby/rew?nh=54', '/search/eby/vac?nh=54', '/search/eby/swp?nh=54', '/search/eby/sbw?nh=54', '#list', '#pic', '#grid', '#map', '/search/eby/apa?sort=priceasc&nh=54', '/search/eby/apa?sort=pricedsc&nh=54', '/search/eby/apa?nh=54', '/search/eby/apa?s=200&nh=54', '/search/eby/apa?s=400&nh=54', '/eby/apa/4713256188.html', '/eby/apa/4713256188.html', '/eby/apa/4713260679.html', '/eby/apa/4713260679.html', '/eby/apa/4716882876.html', '/eby/apa/4716882876.html', '/eby/apa/4716872326.html', '/eby/apa/4716872326.html', '/eby/apa/4710690027.html', '/eby/apa/4710690027.html', '/eby/apa/4716850586.html', '/eby/apa/4716850586.html', '/eby/apa/4716842666.html', '/eby/apa/4716842666.html', '/eby/apa/4716803189.html', '/eby/apa/4716803189.html', '/eby/apa/4716807602.html', '/eby/apa/4716807602.html', '/eby/apa/4716658938.html', '/eby/apa/4716658938.html', '/eby/apa/4716627039.html', '/eby/apa/4716627039.html', '/eby/apa/4716583168.html', '/eby/apa/4716583168.html', '/eby/apa/4716592576.html', '/eby/apa/4716592576.html', '/eby/apa/4716578860.html', '/eby/apa/4716578860.html', '/eby/apa/4698040171.html', '/eby/apa/4698040171.html', '/eby/apa/4705383827.html', '/eby/apa/4705383827.html', '/eby/apa/4716548767.html', '/eby/apa/4716548767.html', '/eby/apa/4708689446.html', '/eby/apa/4708689446.html', '/eby/apa/4716544304.html', '/eby/apa/4716544304.html', '/eby/apa/4716554751.html', '/eby/apa/4716554751.html', '/eby/apa/4716543450.html', '/eby/apa/4716543450.html', '/eby/apa/4698067143.html', '/eby/apa/4698067143.html', '/eby/apa/4698042573.html', '/eby/apa/4698042573.html', '/eby/apa/4698044778.html', '/eby/apa/4698044778.html', '/eby/apa/4716510220.html', '/eby/apa/4716510220.html', '/eby/apa/4690236057.html', '/eby/apa/4690236057.html', '/eby/apa/4716531523.html', '/eby/apa/4716531523.html', '/eby/apa/4698129248.html', '/eby/apa/4698129248.html', '/eby/apa/4698128103.html', '/eby/apa/4698128103.html', '/eby/apa/4716528401.html', '/eby/apa/4716528401.html', '/eby/apa/4699579886.html', '/eby/apa/4699579886.html', '/eby/apa/4696417639.html', '/eby/apa/4696417639.html', '/eby/apa/4716471995.html', '/eby/apa/4716471995.html', '/eby/apa/4695412849.html', '/eby/apa/4695412849.html', '/eby/apa/4716469194.html', '/eby/apa/4716469194.html', '/eby/apa/4716425083.html', '/eby/apa/4716425083.html', '/eby/apa/4716420328.html', '/eby/apa/4716420328.html', '/eby/apa/4716382724.html', '/eby/apa/4716382724.html', '/eby/apa/4716414560.html', '/eby/apa/4716414560.html', '/eby/apa/4706666794.html', '/eby/apa/4706666794.html', '/eby/apa/4716327770.html', '/eby/apa/4716327770.html', '/eby/apa/4716200383.html', '/eby/apa/4716200383.html', '/eby/apa/4716356165.html', '/eby/apa/4716356165.html', '/eby/apa/4716310375.html', '/eby/apa/4716310375.html', '/eby/apa/4716279923.html', '/eby/apa/4716279923.html', '/eby/apa/4716239872.html', '/eby/apa/4716239872.html', '/eby/apa/4716213017.html', '/eby/apa/4716213017.html', '/eby/apa/4716135024.html', '/eby/apa/4716135024.html', '/eby/apa/4716172234.html', '/eby/apa/4716172234.html', '/eby/apa/4716184273.html', '/eby/apa/4716184273.html', '/eby/apa/4709777629.html', '/eby/apa/4709777629.html', '/eby/apa/4716083353.html', '/eby/apa/4716083353.html', '/eby/apa/4716082763.html', '/eby/apa/4716082763.html', '/eby/apa/4716072949.html', '/eby/apa/4716072949.html', '/eby/apa/4716066963.html', '/eby/apa/4716066963.html', '/eby/apa/4716039487.html', '/eby/apa/4716039487.html', '/eby/apa/4716014756.html', '/eby/apa/4716014756.html', '/eby/apa/4716022889.html', '/eby/apa/4716022889.html', '/eby/apa/4683812582.html', '/eby/apa/4683812582.html', '/eby/apa/4715937142.html', '/eby/apa/4715937142.html', '/eby/apa/4715923768.html', '/eby/apa/4715923768.html', '/eby/apa/4715900600.html', '/eby/apa/4715900600.html', '/eby/apa/4715894084.html', '/eby/apa/4715894084.html', '/eby/apa/4715886056.html', '/eby/apa/4715886056.html', '/eby/apa/4715877888.html', '/eby/apa/4715877888.html', '/eby/apa/4715854469.html', '/eby/apa/4715854469.html', '/eby/apa/4715875696.html', '/eby/apa/4715875696.html', '/eby/apa/4715855732.html', '/eby/apa/4715855732.html', '/eby/apa/4701023723.html', '/eby/apa/4701023723.html', '/eby/apa/4715856047.html', '/eby/apa/4715856047.html', '/eby/apa/4715854595.html', '/eby/apa/4715854595.html', '/eby/apa/4715828086.html', '/eby/apa/4715828086.html', '/eby/apa/4715804870.html', '/eby/apa/4715804870.html', '/eby/apa/4715776465.html', '/eby/apa/4715776465.html', '/eby/apa/4715714446.html', '/eby/apa/4715714446.html', '/eby/apa/4701722996.html', '/eby/apa/4701722996.html', '/eby/apa/4715613615.html', '/eby/apa/4715613615.html', '/eby/apa/4715594497.html', '/eby/apa/4715594497.html', '/eby/apa/4715242777.html', '/eby/apa/4715242777.html', '/eby/apa/4715095868.html', '/eby/apa/4715095868.html', '/eby/apa/4715000264.html', '/eby/apa/4715000264.html', '/eby/apa/4714998173.html', '/eby/apa/4714998173.html', '/eby/apa/4714916364.html', '/eby/apa/4714916364.html', '/eby/apa/4714845323.html', '/eby/apa/4714845323.html', '/eby/apa/4714754613.html', '/eby/apa/4714754613.html', '/eby/apa/4714754197.html', '/eby/apa/4714754197.html', '/eby/apa/4714721833.html', '/eby/apa/4714721833.html', '/eby/apa/4714683244.html', '/eby/apa/4714683244.html', '/eby/apa/4714642935.html', '/eby/apa/4714642935.html', '/eby/apa/4697397493.html', '/eby/apa/4697397493.html', '/eby/apa/4694978856.html', '/eby/apa/4694978856.html', '/eby/apa/4714405729.html', '/eby/apa/4714405729.html', '/eby/apa/4714593113.html', '/eby/apa/4714593113.html', '/eby/apa/4714577580.html', '/eby/apa/4714577580.html', '/eby/apa/4714533902.html', '/eby/apa/4714533902.html', '/eby/apa/4705567196.html', '/eby/apa/4705567196.html', '/eby/apa/4714556978.html', '/eby/apa/4714556978.html', '/eby/apa/4707251377.html', '/eby/apa/4707251377.html', '/eby/apa/4705500955.html', '/eby/apa/4705500955.html', '/eby/apa/4714475368.html', '/eby/apa/4714475368.html', '/search/eby/apa?nh=54', '/search/eby/apa?s=200&nh=54', '/search/eby/apa?s=400&nh=54', '#pagecontainer', 'http://sfbay.craigslist.org/search/eby/apa?nh=54&s=300&format=rss', 'http://www.craigslist.org/about/rss', '//www.craigslist.org/about/help/', '//www.craigslist.org/about/scams', '//www.craigslist.org/about/privacy.policy', 'https://forums.craigslist.org/?forumID=8', '//www.craigslist.org/about/craigslist_is_hiring', '//www.craigslist.org/about/terms.of.use', '//www.craigslist.org/about/', '/', '/search/hhh', '/search/apa', 'https://post.craigslist.org/c/sfo?lang=en', 'https://accounts.craigslist.org/login/home', '#', 'https://accounts.craigslist.org/login?rt=L&rp=%2Fsavesearch%2Falert%3FURL%3Dhttp%253A%252F%252Fsfbay%252Ecraigslist%252Eorg%252Fsearch%252Feby%252Fapa%253Fnh%253D54', 'https://accounts.craigslist.org/login?rt=L&rp=%2Fsavesearch%2Fsave%3FURL%3Dhttp%253A%252F%252Fsfbay%252Ecraigslist%252Eorg%252Fsearch%252Feby%252Fapa%253Fnh%253D54', '/search/eby/apa?nh=54', '/search/eby/rea?nh=54', '/search/eby/roo?nh=54', '/search/eby/off?nh=54', '/search/eby/sha?nh=54', '/search/eby/hou?nh=54', '/search/eby/sub?nh=54', '/search/eby/prk?nh=54', '/search/eby/rew?nh=54', '/search/eby/vac?nh=54', '/search/eby/swp?nh=54', '/search/eby/sbw?nh=54', '#list', '#pic', '#grid', '#map', '/search/eby/apa?sort=priceasc&nh=54', '/search/eby/apa?sort=pricedsc&nh=54', '/search/eby/apa?nh=54', '/search/eby/apa?s=300&nh=54', '/search/eby/apa?s=500&nh=54', '/eby/apa/4705550936.html', '/eby/apa/4705550936.html', '/eby/apa/4714386318.html', '/eby/apa/4714386318.html', '/eby/apa/4714391095.html', '/eby/apa/4714391095.html', '/eby/apa/4714367696.html', '/eby/apa/4714367696.html', '/eby/apa/4714327754.html', '/eby/apa/4714327754.html', '/eby/apa/4714259431.html', '/eby/apa/4714259431.html', '/eby/apa/4714216278.html', '/eby/apa/4714216278.html', '/eby/apa/4714202943.html', '/eby/apa/4714202943.html', '/eby/apa/4714202046.html', '/eby/apa/4714202046.html', '/eby/apa/4714196556.html', '/eby/apa/4714196556.html', '/eby/apa/4714022747.html', '/eby/apa/4714022747.html', '/eby/apa/4708837746.html', '/eby/apa/4708837746.html', '/eby/apa/4713716965.html', '/eby/apa/4713716965.html', '/eby/apa/4713662926.html', '/eby/apa/4713662926.html', '/eby/apa/4713653154.html', '/eby/apa/4713653154.html', '/eby/apa/4713631502.html', '/eby/apa/4713631502.html', '/eby/apa/4710459519.html', '/eby/apa/4710459519.html', '/eby/apa/4713599979.html', '/eby/apa/4713599979.html', '/eby/apa/4713587740.html', '/eby/apa/4713587740.html', '/eby/apa/4713579826.html', '/eby/apa/4713579826.html', '/eby/apa/4713540911.html', '/eby/apa/4713540911.html', '/eby/apa/4693357033.html', '/eby/apa/4693357033.html', '/eby/apa/4713487145.html', '/eby/apa/4713487145.html', '/eby/apa/4703498373.html', '/eby/apa/4703498373.html', '/eby/apa/4713423547.html', '/eby/apa/4713423547.html', '/eby/apa/4713417760.html', '/eby/apa/4713417760.html', '/eby/apa/4713359828.html', '/eby/apa/4713359828.html', '/eby/apa/4713367982.html', '/eby/apa/4713367982.html', '/eby/apa/4713215164.html', '/eby/apa/4713215164.html', '/eby/apa/4713175552.html', '/eby/apa/4713175552.html', '/eby/apa/4713151241.html', '/eby/apa/4713151241.html', '/eby/apa/4692849596.html', '/eby/apa/4692849596.html', '/eby/apa/4713110947.html', '/eby/apa/4713110947.html', '/eby/apa/4713030866.html', '/eby/apa/4713030866.html', '/eby/apa/4712987709.html', '/eby/apa/4712987709.html', '/eby/apa/4712998954.html', '/eby/apa/4712998954.html', '/eby/apa/4712961121.html', '/eby/apa/4712961121.html', '/eby/apa/4712913492.html', '/eby/apa/4712913492.html', '/eby/apa/4712816448.html', '/eby/apa/4712816448.html', '/eby/apa/4712902699.html', '/eby/apa/4712902699.html', '/eby/apa/4712876134.html', '/eby/apa/4712876134.html', '/eby/apa/4712774235.html', '/eby/apa/4712774235.html', '/eby/apa/4712777820.html', '/eby/apa/4712777820.html', '/eby/apa/4712715052.html', '/eby/apa/4712715052.html', '/eby/apa/4712711557.html', '/eby/apa/4712711557.html', '/eby/apa/4702435447.html', '/eby/apa/4702435447.html', '/eby/apa/4712488865.html', '/eby/apa/4712488865.html', '/eby/apa/4712643131.html', '/eby/apa/4712643131.html', '/eby/apa/4706347153.html', '/eby/apa/4706347153.html', '/eby/apa/4712586884.html', '/eby/apa/4712586884.html', '/eby/apa/4712627279.html', '/eby/apa/4712627279.html', '/eby/apa/4712595054.html', '/eby/apa/4712595054.html', '/eby/apa/4684119955.html', '/eby/apa/4684119955.html', '/eby/apa/4712548353.html', '/eby/apa/4712548353.html', '/eby/apa/4712560073.html', '/eby/apa/4712560073.html', '/eby/apa/4712299524.html', '/eby/apa/4712299524.html', '/eby/apa/4667100523.html', '/eby/apa/4667100523.html', '/eby/apa/4711894505.html', '/eby/apa/4711894505.html', '/eby/apa/4711769872.html', '/eby/apa/4711769872.html', '/eby/apa/4711731689.html', '/eby/apa/4711731689.html', '/eby/apa/4711561337.html', '/eby/apa/4711561337.html', '/eby/apa/4711547661.html', '/eby/apa/4711547661.html', '/eby/apa/4711529037.html', '/eby/apa/4711529037.html', '/eby/apa/4711482079.html', '/eby/apa/4711482079.html', '/eby/apa/4711477837.html', '/eby/apa/4711477837.html', '/eby/apa/4711442471.html', '/eby/apa/4711442471.html', '/eby/apa/4711450323.html', '/eby/apa/4711450323.html', '/eby/apa/4711427069.html', '/eby/apa/4711427069.html', '/eby/apa/4711401643.html', '/eby/apa/4711401643.html', '/eby/apa/4711374823.html', '/eby/apa/4711374823.html', '/eby/apa/4711266858.html', '/eby/apa/4711266858.html', '/eby/apa/4711260041.html', '/eby/apa/4711260041.html', '/eby/apa/4711243094.html', '/eby/apa/4711243094.html', '/eby/apa/4711216233.html', '/eby/apa/4711216233.html', '/eby/apa/4711129092.html', '/eby/apa/4711129092.html', '/eby/apa/4711111236.html', '/eby/apa/4711111236.html', '/eby/apa/4711067392.html', '/eby/apa/4711067392.html', '/eby/apa/4710977244.html', '/eby/apa/4710977244.html', '/eby/apa/4710498444.html', '/eby/apa/4710498444.html', '/eby/apa/4710499204.html', '/eby/apa/4710499204.html', '/eby/apa/4710494763.html', '/eby/apa/4710494763.html', '/eby/apa/4710469884.html', '/eby/apa/4710469884.html', '/eby/apa/4710451031.html', '/eby/apa/4710451031.html', '/eby/apa/4710368477.html', '/eby/apa/4710368477.html', '/eby/apa/4710369193.html', '/eby/apa/4710369193.html', '/eby/apa/4710371000.html', '/eby/apa/4710371000.html', '/eby/apa/4710410118.html', '/eby/apa/4710410118.html', '/eby/apa/4696287452.html', '/eby/apa/4696287452.html', '/eby/apa/4710360494.html', '/eby/apa/4710360494.html', '/eby/apa/4710316373.html', '/eby/apa/4710316373.html', '/eby/apa/4710317042.html', '/eby/apa/4710317042.html', '/eby/apa/4710320249.html', '/eby/apa/4710320249.html', '/eby/apa/4710314987.html', '/eby/apa/4710314987.html', '/eby/apa/4710259152.html', '/eby/apa/4710259152.html', '/eby/apa/4710193155.html', '/eby/apa/4710193155.html', '/eby/apa/4710174102.html', '/eby/apa/4710174102.html', '/eby/apa/4710164005.html', '/eby/apa/4710164005.html', '/eby/apa/4701965908.html', '/eby/apa/4701965908.html', '/eby/apa/4710131865.html', '/eby/apa/4710131865.html', '/eby/apa/4710068294.html', '/eby/apa/4710068294.html', '/search/eby/apa?nh=54', '/search/eby/apa?s=300&nh=54', '/search/eby/apa?s=500&nh=54', '#pagecontainer', 'http://sfbay.craigslist.org/search/eby/apa?nh=54&s=400&format=rss', 'http://www.craigslist.org/about/rss', '//www.craigslist.org/about/help/', '//www.craigslist.org/about/scams', '//www.craigslist.org/about/privacy.policy', 'https://forums.craigslist.org/?forumID=8', '//www.craigslist.org/about/craigslist_is_hiring', '//www.craigslist.org/about/terms.of.use', '//www.craigslist.org/about/']\n"
       ]
      }
     ],
     "prompt_number": 5
    },
    {
     "cell_type": "code",
     "collapsed": false,
     "input": [
      "final_urls = set()\n",
      "for i in urls:\n",
      "    if (re.search( '.html',i)):\n",
      "        final_urls.add(i)\n",
      "\n",
      "final_urls\n",
      "len(final_urls)"
     ],
     "language": "python",
     "metadata": {},
     "outputs": [
      {
       "metadata": {},
       "output_type": "pyout",
       "prompt_number": 6,
       "text": [
        "500"
       ]
      }
     ],
     "prompt_number": 6
    },
    {
     "cell_type": "code",
     "collapsed": false,
     "input": [
      "final_content = []\n",
      "#invalid_posts = ['expired','deleted']\n",
      "all_content = {}\n",
      "#row = {}\n",
      "\n",
      "for list_url in final_urls:\n",
      "    id = re.split('/',list_url)[3]\n",
      "    id_n = id.split('.')\n",
      "    url_id = id_n[0]\n",
      "    print url_id\n",
      "    row = {}\n",
      "    row[\"id\"] = url_id\n",
      "    row[\"app\"] = 1000\n",
      "    \n",
      "    list_url = \"http://sfbay.craigslist.org\" + list_url\n",
      "    listing = r.get(list_url)\n",
      "    listing.content\n",
      "    row[\"url\"] = list_url\n",
      "    soup = BeautifulSoup(listing.content)\n",
      "    for header in soup.find_all('h2'):\n",
      "        data = header.get_text()\n",
      "        #pdb.set_trace()\n",
      "        data = data.strip()\n",
      "        if data.startswith(\"$\"):\n",
      "            row[\"desc\"] = data\n",
      "            all_content[url_id] = data\n",
      "            print row\n",
      "            #pdb.set_trace()\n",
      "            final_content.append(row)\n",
      "    "
     ],
     "language": "python",
     "metadata": {},
     "outputs": [
      {
       "output_type": "stream",
       "stream": "stdout",
       "text": [
        "4720715448\n",
        "{'url': 'http://sfbay.craigslist.org/eby/apa/4720715448.html', 'app': 1000, 'id': '4720715448', 'desc': u'$2900 / 3br - 1472ft\\xb2 - Great location 3 bed 2.5 bath townhome in Fremont  (fremont / union city / newark)'}"
       ]
      },
      {
       "output_type": "stream",
       "stream": "stdout",
       "text": [
        "\n",
        "4710316373\n",
        "{'url': 'http://sfbay.craigslist.org/eby/apa/4710316373.html', 'app': 1000, 'id': '4710316373', 'desc': u'$1900 / 1br - 737ft\\xb2 - *Carriage House* Gated Community in a Quiet and Friendly Neighborhood! (fremont / union city / newark)'}"
       ]
      },
      {
       "output_type": "stream",
       "stream": "stdout",
       "text": [
        "\n",
        "4714845323\n",
        "{'url': 'http://sfbay.craigslist.org/eby/apa/4714845323.html', 'app': 1000, 'id': '4714845323', 'desc': u'$1760 / 1br - DESIGNER INTERIORS, SPACIOUS FLOOR PLANS AND AMAZING AMENITIES (fremont / union city / newark)'}"
       ]
      },
      {
       "output_type": "stream",
       "stream": "stdout",
       "text": [
        "\n",
        "4716279923\n",
        "{'url': 'http://sfbay.craigslist.org/eby/apa/4716279923.html', 'app': 1000, 'id': '4716279923', 'desc': u'$3000 3BR/2.5BA Ardenwood SFH For Rent; Open House Sunday (10/19) 2pm-4pm (fremont / union city / newark)'}"
       ]
      },
      {
       "output_type": "stream",
       "stream": "stdout",
       "text": [
        "\n",
        "4710699054\n",
        "{'url': 'http://sfbay.craigslist.org/eby/apa/4710699054.html', 'app': 1000, 'id': '4710699054', 'desc': u'$2000 / 2br - 900ft\\xb2 - Mission Village 2BD/2 Full Bath Condo (fremont / union city / newark)'}"
       ]
      },
      {
       "output_type": "stream",
       "stream": "stdout",
       "text": [
        "\n",
        "4721372533\n",
        "{'url': 'http://sfbay.craigslist.org/eby/apa/4721372533.html', 'app': 1000, 'id': '4721372533', 'desc': u'$1800 / 2br - 1015ft\\xb2 - Newark Townhome for Rent (fremont / union city / newark)'}"
       ]
      },
      {
       "output_type": "stream",
       "stream": "stdout",
       "text": [
        "\n",
        "4717640141\n",
        "{'url': 'http://sfbay.craigslist.org/eby/apa/4717640141.html', 'app': 1000, 'id': '4717640141', 'desc': u'$3750 / 4br - 3489ft\\xb2 - Fabulous Executive Home Boarder of Union City & Hayward (fremont / union city / newark)'}"
       ]
      },
      {
       "output_type": "stream",
       "stream": "stdout",
       "text": [
        "\n",
        "{'url': 'http://sfbay.craigslist.org/eby/apa/4717640141.html', 'app': 1000, 'id': '4717640141', 'desc': u'$3,750/mo'}\n",
        "4712548353\n",
        "{'url': 'http://sfbay.craigslist.org/eby/apa/4712548353.html', 'app': 1000, 'id': '4712548353', 'desc': u'$2500 / 4br - 1612ft\\xb2 - Union City House for Rent (fremont / union city / newark)'}"
       ]
      },
      {
       "output_type": "stream",
       "stream": "stdout",
       "text": [
        "\n",
        "4710360494\n",
        "{'url': 'http://sfbay.craigslist.org/eby/apa/4710360494.html', 'app': 1000, 'id': '4710360494', 'desc': u'$2595 / 2br - 1081ft\\xb2 - 37 Silk Oak, Fremont - Nice Townhome (fremont / union city / newark)'}"
       ]
      },
      {
       "output_type": "stream",
       "stream": "stdout",
       "text": [
        "\n",
        "4715714446\n",
        "{'url': 'http://sfbay.craigslist.org/eby/apa/4715714446.html', 'app': 1000, 'id': '4715714446', 'desc': u'$1890 / 735ft\\xb2 - Waterstone@Fremont 735 1br (fremont / union city / newark)'}"
       ]
      },
      {
       "output_type": "stream",
       "stream": "stdout",
       "text": [
        "\n",
        "4718283672\n",
        "{'url': 'http://sfbay.craigslist.org/eby/apa/4718283672.html', 'app': 1000, 'id': '4718283672', 'desc': u'$2500 / 4br - 1820ft\\xb2 - 4 bedroom,2 Bath (fremont / union city / newark)'}"
       ]
      },
      {
       "output_type": "stream",
       "stream": "stdout",
       "text": [
        "\n",
        "4716627039\n",
        "{'url': 'http://sfbay.craigslist.org/eby/apa/4716627039.html', 'app': 1000, 'id': '4716627039', 'desc': u\"$2100 / 2br - 895ft\\xb2 - ~\\xa4\\u066d\\xa4~It's the place for YOU~\\xa4\\u066d\\xa4~ (fremont / union city / newark)\"}"
       ]
      },
      {
       "output_type": "stream",
       "stream": "stdout",
       "text": [
        "\n",
        "4719092872\n",
        "{'url': 'http://sfbay.craigslist.org/eby/apa/4719092872.html', 'app': 1000, 'id': '4719092872', 'desc': u'$2200 / 3br - 1338ft\\xb2 - 3850 Meeks Terrace, 3bd 2.5ba Townhouse with attached Garage,  (fremont / union city / newark)'}"
       ]
      },
      {
       "output_type": "stream",
       "stream": "stdout",
       "text": [
        "\n",
        "4713367982\n",
        "{'url': 'http://sfbay.craigslist.org/eby/apa/4713367982.html', 'app': 1000, 'id': '4713367982', 'desc': u'$1795 / 1br - 650ft\\xb2 - BEAUTIFUL 1 BEDROOM AT QUIET NEIGHBORHOOD IN FREMONT!  (fremont / union city / newark)'}"
       ]
      },
      {
       "output_type": "stream",
       "stream": "stdout",
       "text": [
        "\n",
        "4711111236\n",
        "{'url': 'http://sfbay.craigslist.org/eby/apa/4711111236.html', 'app': 1000, 'id': '4711111236', 'desc': u'$1795 / 1br - 527ft\\xb2 - \\u263bBART RIDERS DREAM/CLOSE TO SHOPPING\\u263b (fremont / union city / newark)'}"
       ]
      },
      {
       "output_type": "stream",
       "stream": "stdout",
       "text": [
        "\n",
        "4719268597\n",
        "{'url': 'http://sfbay.craigslist.org/eby/apa/4719268597.html', 'app': 1000, 'id': '4719268597', 'desc': u'$3200 / 4br - 1997ft\\xb2 - Outstanding Location, Beautiful 4 Bdrm House for Rent Union City  (fremont / union city / newark)'}"
       ]
      },
      {
       "output_type": "stream",
       "stream": "stdout",
       "text": [
        "\n",
        "4713631502\n",
        "{'url': 'http://sfbay.craigslist.org/eby/apa/4713631502.html', 'app': 1000, 'id': '4713631502', 'desc': u'$3250 / 4br - 2146ft\\xb2 - 1999 Remodeled two story 4 bed plus Loft (fremont / union city / newark)'}"
       ]
      },
      {
       "output_type": "stream",
       "stream": "stdout",
       "text": [
        "\n",
        "4718773776\n",
        "{'url': 'http://sfbay.craigslist.org/eby/apa/4718773776.html', 'app': 1000, 'id': '4718773776', 'desc': u'$3500 / 4br - 1866ft\\xb2 - 4 Bed/2 Bath house for rent (fremont / union city / newark)'}"
       ]
      },
      {
       "output_type": "stream",
       "stream": "stdout",
       "text": [
        "\n",
        "4717808304\n",
        "{'url': 'http://sfbay.craigslist.org/eby/apa/4717808304.html', 'app': 1000, 'id': '4717808304', 'desc': u'$900 / 1br - 300ft\\xb2 - Fully furnished trailer home (fremont / union city / newark)'}"
       ]
      },
      {
       "output_type": "stream",
       "stream": "stdout",
       "text": [
        "\n",
        "4719103428\n",
        "{'url': 'http://sfbay.craigslist.org/eby/apa/4719103428.html', 'app': 1000, 'id': '4719103428', 'desc': u'$2259 / 2br - A CHEERFUL, SUNNY PLACE READY FOR YOU TO CALL HOME!  (fremont / union city / newark)'}"
       ]
      },
      {
       "output_type": "stream",
       "stream": "stdout",
       "text": [
        "\n",
        "4715245194\n",
        "{'url': 'http://sfbay.craigslist.org/eby/apa/4715245194.html', 'app': 1000, 'id': '4715245194', 'desc': u'$1685 / 1br - 600ft\\xb2 - Cottage in Warm Springs District of Fremont (fremont / union city / newark)'}"
       ]
      },
      {
       "output_type": "stream",
       "stream": "stdout",
       "text": [
        "\n",
        "4720819919\n",
        "{'url': 'http://sfbay.craigslist.org/eby/apa/4720819919.html', 'app': 1000, 'id': '4720819919', 'desc': u'$1900 / 1br - 737ft\\xb2 - *Carriage House* Gated Community in a Quiet and Friendly Neighborhood! (fremont / union city / newark)'}"
       ]
      },
      {
       "output_type": "stream",
       "stream": "stdout",
       "text": [
        "\n",
        "4719506217\n",
        "{'url': 'http://sfbay.craigslist.org/eby/apa/4719506217.html', 'app': 1000, 'id': '4719506217', 'desc': u'$1698 / 1br - PRIVATE END UNIT, LARGE STORAGE, YOUR NEW HOME IS HERE! (fremont / union city / newark)'}"
       ]
      },
      {
       "output_type": "stream",
       "stream": "stdout",
       "text": [
        "\n",
        "4719048546\n",
        "{'url': 'http://sfbay.craigslist.org/eby/apa/4719048546.html', 'app': 1000, 'id': '4719048546', 'desc': u'$2150 / 2br - 1178ft\\xb2 - Available Immediately!!! (fremont / union city / newark)'}"
       ]
      },
      {
       "output_type": "stream",
       "stream": "stdout",
       "text": [
        "\n",
        "{'url': 'http://sfbay.craigslist.org/eby/apa/4719048546.html', 'app': 1000, 'id': '4719048546', 'desc': u'$2,150/mo'}\n",
        "4708469914\n",
        "{'url': 'http://sfbay.craigslist.org/eby/apa/4708469914.html', 'app': 1000, 'id': '4708469914', 'desc': u'$3000 / 4br - 2184ft\\xb2 - 4BR/3BA Bright, luxury house in Fremont near Central Park (fremont / union city / newark)'}"
       ]
      },
      {
       "output_type": "stream",
       "stream": "stdout",
       "text": [
        "\n",
        "4718902969\n",
        "{'url': 'http://sfbay.craigslist.org/eby/apa/4718902969.html', 'app': 1000, 'id': '4718902969', 'desc': u'$1558 / 410ft\\xb2 - Stunning Studio #806 Is Waiting For You! Schedule Your Personal Tour! (fremont / union city / newark)'}"
       ]
      },
      {
       "output_type": "stream",
       "stream": "stdout",
       "text": [
        "\n",
        "4717846989\n",
        "{'url': 'http://sfbay.craigslist.org/eby/apa/4717846989.html', 'app': 1000, 'id': '4717846989', 'desc': u'$2395 / 2br - 980ft\\xb2 - \\u263b\\u2665THE MOST LIKED PLACE TO LIVE ON FACEBOOK\\u263b\\u2665 (fremont / union city / newark)'}"
       ]
      },
      {
       "output_type": "stream",
       "stream": "stdout",
       "text": [
        "\n",
        "4721161340\n",
        "{'url': 'http://sfbay.craigslist.org/eby/apa/4721161340.html', 'app': 1000, 'id': '4721161340', 'desc': u'$2500 / 3br - 1131ft\\xb2 - 3 bedroom 2 bath for rent in Fremont   (fremont / union city / newark)'}"
       ]
      },
      {
       "output_type": "stream",
       "stream": "stdout",
       "text": [
        "\n",
        "4710469884\n",
        "{'url': 'http://sfbay.craigslist.org/eby/apa/4710469884.html', 'app': 1000, 'id': '4710469884', 'desc': u'$1895 / 1br - 527ft\\xb2 - \\u2665HOME IS WHERE THE HEART IS\\u2665WASHER/DYER IN UNIT\\u2660 (fremont / union city / newark)'}"
       ]
      },
      {
       "output_type": "stream",
       "stream": "stdout",
       "text": [
        "\n",
        "4714216278\n",
        "{'url': 'http://sfbay.craigslist.org/eby/apa/4714216278.html', 'app': 1000, 'id': '4714216278', 'desc': u'$2100 / 2br - 895ft\\xb2 - :~:~:A Great Place to Call Home:~:~: (fremont / union city / newark)'}"
       ]
      },
      {
       "output_type": "stream",
       "stream": "stdout",
       "text": [
        "\n",
        "4716382724\n",
        "{'url': 'http://sfbay.craigslist.org/eby/apa/4716382724.html', 'app': 1000, 'id': '4716382724', 'desc': u'$2395 / 2br - 980ft\\xb2 - \\u2022\\u263bTHIS BEAUTIFUL UPGRADED APT HOME HAS ALL THE COMFORTS\\u263b\\u2022\\u2022 (fremont / union city / newark)'}"
       ]
      },
      {
       "output_type": "stream",
       "stream": "stdout",
       "text": [
        "\n",
        "4717989371\n",
        "{'url': 'http://sfbay.craigslist.org/eby/apa/4717989371.html', 'app': 1000, 'id': '4717989371', 'desc': u'$2600 / 3br - 1207ft\\xb2 - Nice Remodeled Home in Fremont! (fremont / union city / newark)'}"
       ]
      },
      {
       "output_type": "stream",
       "stream": "stdout",
       "text": [
        "\n",
        "{'url': 'http://sfbay.craigslist.org/eby/apa/4717989371.html', 'app': 1000, 'id': '4717989371', 'desc': u'$2,600/mo'}\n",
        "4717568550\n",
        "{'url': 'http://sfbay.craigslist.org/eby/apa/4717568550.html', 'app': 1000, 'id': '4717568550', 'desc': u'$2185 / 2br - 1009ft\\xb2 - 2 BR Town Homes Available October 22 & 24 (fremont / union city / newark)'}"
       ]
      },
      {
       "output_type": "stream",
       "stream": "stdout",
       "text": [
        "\n",
        "4712913492\n",
        "{'url': 'http://sfbay.craigslist.org/eby/apa/4712913492.html', 'app': 1000, 'id': '4712913492', 'desc': u'$500 / 1br - 800ft\\xb2 - Room to share  (fremont / union city / newark)'}"
       ]
      },
      {
       "output_type": "stream",
       "stream": "stdout",
       "text": [
        "\n",
        "4720404742\n",
        "{'url': 'http://sfbay.craigslist.org/eby/apa/4720404742.html', 'app': 1000, 'id': '4720404742', 'desc': u'$1701 / 410ft\\xb2 - Just The Right Amount of  Space (fremont / union city / newark)'}"
       ]
      },
      {
       "output_type": "stream",
       "stream": "stdout",
       "text": [
        "\n",
        "4719922054\n",
        "{'url': 'http://sfbay.craigslist.org/eby/apa/4719922054.html', 'app': 1000, 'id': '4719922054', 'desc': u'$2500 / 3br - 1148ft\\xb2 - OPEN HOUSE, 3 Bed, 2 Bath, Cozy Home, Carpet/Hardwood Floors, Garden (fremont / union city / newark)'}"
       ]
      },
      {
       "output_type": "stream",
       "stream": "stdout",
       "text": [
        "\n",
        "4718415269\n",
        "{'url': 'http://sfbay.craigslist.org/eby/apa/4718415269.html', 'app': 1000, 'id': '4718415269', 'desc': u\"$2950 / 3br - Newer home in Fremont's Ardenwood neighborhood (fremont / union city / newark)\"}"
       ]
      },
      {
       "output_type": "stream",
       "stream": "stdout",
       "text": [
        "\n",
        "4700775920\n",
        "{'url': 'http://sfbay.craigslist.org/eby/apa/4700775920.html', 'app': 1000, 'id': '4700775920', 'desc': u'$2998 / 4br - 1617ft\\xb2 - Home in top school area in Fremont (fremont / union city / newark)'}"
       ]
      },
      {
       "output_type": "stream",
       "stream": "stdout",
       "text": [
        "\n",
        "4718851609\n",
        "{'url': 'http://sfbay.craigslist.org/eby/apa/4718851609.html', 'app': 1000, 'id': '4718851609', 'desc': u'$2500 / 3br - 1550ft\\xb2 - Beautiful house, close to Dumbarton Bridge(Facebook), shopping center  (fremont / union city / newark)'}"
       ]
      },
      {
       "output_type": "stream",
       "stream": "stdout",
       "text": [
        "\n",
        "4714022747\n",
        "{'url': 'http://sfbay.craigslist.org/eby/apa/4714022747.html', 'app': 1000, 'id': '4714022747', 'desc': u'$3200 / 3br - Single family house in Mission Sanjose (fremont / union city / newark)'}"
       ]
      },
      {
       "output_type": "stream",
       "stream": "stdout",
       "text": [
        "\n",
        "4720988308\n",
        "{'url': 'http://sfbay.craigslist.org/eby/apa/4720988308.html', 'app': 1000, 'id': '4720988308', 'desc': u\"$2224 / 2br - 906ft\\xb2 - Don't Wait!!! Here Today... Gone Tomorrow... (fremont / union city / newark)\"}"
       ]
      },
      {
       "output_type": "stream",
       "stream": "stdout",
       "text": [
        "\n",
        "4720618278\n",
        "{'url': 'http://sfbay.craigslist.org/eby/apa/4720618278.html', 'app': 1000, 'id': '4720618278', 'desc': u'$1562 / 1br - A Must See! Fantastic Location! Beautiful One Bedroom Apt Home! (fremont / union city / newark)'}"
       ]
      },
      {
       "output_type": "stream",
       "stream": "stdout",
       "text": [
        "\n",
        "4720519649\n",
        "{'url': 'http://sfbay.craigslist.org/eby/apa/4720519649.html', 'app': 1000, 'id': '4720519649', 'desc': u'$2300 / 2br - 890ft\\xb2 - *Carriage House* Gated Community in a Quiet and Friendly Neighborhood! (fremont / union city / newark)'}"
       ]
      },
      {
       "output_type": "stream",
       "stream": "stdout",
       "text": [
        "\n",
        "4720641538\n",
        "{'url': 'http://sfbay.craigslist.org/eby/apa/4720641538.html', 'app': 1000, 'id': '4720641538', 'desc': u'$2097 / 2br - 895ft\\xb2 - Available November 5th!!! (fremont / union city / newark)'}"
       ]
      },
      {
       "output_type": "stream",
       "stream": "stdout",
       "text": [
        "\n",
        "4713423547\n",
        "{'url': 'http://sfbay.craigslist.org/eby/apa/4713423547.html', 'app': 1000, 'id': '4713423547', 'desc': u'$2400 / 2br - Beautiful renovated condo in Ardenwood (fremont / union city / newark)'}"
       ]
      },
      {
       "output_type": "stream",
       "stream": "stdout",
       "text": [
        "\n",
        "4719473938\n",
        "{'url': 'http://sfbay.craigslist.org/eby/apa/4719473938.html', 'app': 1000, 'id': '4719473938', 'desc': u'$2220 / 2br - 1026ft\\xb2 - Beautiful 2 bedrooms available  (fremont / union city / newark)'}"
       ]
      },
      {
       "output_type": "stream",
       "stream": "stdout",
       "text": [
        "\n",
        "4719047778\n",
        "{'url': 'http://sfbay.craigslist.org/eby/apa/4719047778.html', 'app': 1000, 'id': '4719047778', 'desc': u'$1750 / 2br - 850ft\\xb2 - Available Immediately!!! (fremont / union city / newark)'}"
       ]
      },
      {
       "output_type": "stream",
       "stream": "stdout",
       "text": [
        "\n",
        "{'url': 'http://sfbay.craigslist.org/eby/apa/4719047778.html', 'app': 1000, 'id': '4719047778', 'desc': u'$1,750/mo'}\n",
        "4714754197\n",
        "{'url': 'http://sfbay.craigslist.org/eby/apa/4714754197.html', 'app': 1000, 'id': '4714754197', 'desc': u'$1950 / 1br - 710ft\\xb2 - Outstanding Location, Responsive Maintenance, Spacious Floorplan (fremont / union city / newark)'}"
       ]
      },
      {
       "output_type": "stream",
       "stream": "stdout",
       "text": [
        "\n",
        "4719108614\n",
        "{'url': 'http://sfbay.craigslist.org/eby/apa/4719108614.html', 'app': 1000, 'id': '4719108614', 'desc': u'$2700 / 3br - Fremont 3 Bedroom 2 Bath  House (fremont / union city / newark)'}"
       ]
      },
      {
       "output_type": "stream",
       "stream": "stdout",
       "text": [
        "\n",
        "4711482079\n",
        "{'url': 'http://sfbay.craigslist.org/eby/apa/4711482079.html', 'app': 1000, 'id': '4711482079', 'desc': u'$1875 / 1br - 565ft\\xb2 - Schedule a Tour, Community Clubhouse, Near Shops and Dining (fremont / union city / newark)'}"
       ]
      },
      {
       "output_type": "stream",
       "stream": "stdout",
       "text": [
        "\n",
        "4713417760\n",
        "{'url': 'http://sfbay.craigslist.org/eby/apa/4713417760.html', 'app': 1000, 'id': '4713417760', 'desc': u'$2295 / 2br - 980ft\\xb2 - \\u2665HOME IS WHERE THE HEART IS\\u2665HUGE MASTERBEDROOM\\u2666 (fremont / union city / newark)'}"
       ]
      },
      {
       "output_type": "stream",
       "stream": "stdout",
       "text": [
        "\n",
        "4717668366\n",
        "{'url': 'http://sfbay.craigslist.org/eby/apa/4717668366.html', 'app': 1000, 'id': '4717668366', 'desc': u'$2094 / 2br - ELEGANTLY DESIGNED 2 BEDROOMS IN A BEAUTIFULLY LANDSCAPED COMMUNITY (fremont / union city / newark)'}"
       ]
      },
      {
       "output_type": "stream",
       "stream": "stdout",
       "text": [
        "\n",
        "4720727834\n",
        "{'url': 'http://sfbay.craigslist.org/eby/apa/4720727834.html', 'app': 1000, 'id': '4720727834', 'desc': u'$1795 / 1br - 527ft\\xb2 - \\u263b\\u2665THE MOST LIKED PLACE TO LIVE ON FACEBOOK\\u263b\\u2665 (fremont / union city / newark)'}"
       ]
      },
      {
       "output_type": "stream",
       "stream": "stdout",
       "text": [
        "\n",
        "4719572603\n",
        "{'url': 'http://sfbay.craigslist.org/eby/apa/4719572603.html', 'app': 1000, 'id': '4719572603', 'desc': u'$1795 / 1br - 527ft\\xb2 - \\u263bBART RIDERS DREAM/CLOSE TO SHOPPING\\u263b (fremont / union city / newark)'}"
       ]
      },
      {
       "output_type": "stream",
       "stream": "stdout",
       "text": [
        "\n",
        "4717522155\n",
        "{'url': 'http://sfbay.craigslist.org/eby/apa/4717522155.html', 'app': 1000, 'id': '4717522155', 'desc': u'$2500 / 3br - 1314ft\\xb2 - 5 year new townhouse for rent (fremont / union city / newark)'}"
       ]
      },
      {
       "output_type": "stream",
       "stream": "stdout",
       "text": [
        "\n",
        "4721340098\n",
        "{'url': 'http://sfbay.craigslist.org/eby/apa/4721340098.html', 'app': 1000, 'id': '4721340098', 'desc': u'$2289 / 3br - 1100ft\\xb2 - Condo for Rent in Fremont 3BR 2B (fremont / union city / newark)'}"
       ]
      },
      {
       "output_type": "stream",
       "stream": "stdout",
       "text": [
        "\n",
        "4714930467\n",
        "{'url': 'http://sfbay.craigslist.org/eby/apa/4714930467.html', 'app': 1000, 'id': '4714930467', 'desc': u'$2200 / 2br - $2200 /2 Bed 1 Bath - New Remodeled (fremont / union city / newark)'}"
       ]
      },
      {
       "output_type": "stream",
       "stream": "stdout",
       "text": [
        "\n",
        "4699579886\n",
        "{'url': 'http://sfbay.craigslist.org/eby/apa/4699579886.html', 'app': 1000, 'id': '4699579886', 'desc': u'$2900 / 3br - 1472ft\\xb2 - 3 bed 2 .5 bath townhome remodeled in Fremont (fremont / union city / newark)'}"
       ]
      },
      {
       "output_type": "stream",
       "stream": "stdout",
       "text": [
        "\n",
        "4719628167\n",
        "{'url': 'http://sfbay.craigslist.org/eby/apa/4719628167.html', 'app': 1000, 'id': '4719628167', 'desc': u'$1625 / 1br - 625ft\\xb2 - *SPECIAL* Your new home is waiting for you! - SPACIOUS 1 BR APARTMENT  (fremont / union city / newark)'}"
       ]
      },
      {
       "output_type": "stream",
       "stream": "stdout",
       "text": [
        "\n",
        "4719720022\n",
        "{'url': 'http://sfbay.craigslist.org/eby/apa/4719720022.html', 'app': 1000, 'id': '4719720022', 'desc': u'$1795 / 1br - 527ft\\xb2 - \\u2022\\u2022\\u2022LIVE CLOSE TO THE CITY\\u2665\\u2022\\u2022 (fremont / union city / newark)'}"
       ]
      },
      {
       "output_type": "stream",
       "stream": "stdout",
       "text": [
        "\n",
        "4703498373\n",
        "{'url': 'http://sfbay.craigslist.org/eby/apa/4703498373.html', 'app': 1000, 'id': '4703498373', 'desc': u'$2800 / 4br - 1620ft\\xb2 - Upgraded 4 Bedroom 2 Bath Home in Irvington Area of Fremont (fremont / union city / newark)'}"
       ]
      },
      {
       "output_type": "stream",
       "stream": "stdout",
       "text": [
        "\n",
        "4720991582\n",
        "{'url': 'http://sfbay.craigslist.org/eby/apa/4720991582.html', 'app': 1000, 'id': '4720991582', 'desc': u'$2151 / 2br - 850ft\\xb2 - Great Neighbors! You Will Feel Right at Home! (fremont / union city / newark)'}"
       ]
      },
      {
       "output_type": "stream",
       "stream": "stdout",
       "text": [
        "\n",
        "4712774235\n",
        "{'url': 'http://sfbay.craigslist.org/eby/apa/4712774235.html', 'app': 1000, 'id': '4712774235', 'desc': u'$1565 / 1br - 660ft\\xb2 - Your Future Is Here At Medallion Apts... (fremont / union city / newark)'}"
       ]
      },
      {
       "output_type": "stream",
       "stream": "stdout",
       "text": [
        "\n",
        "4718057214\n",
        "{'url': 'http://sfbay.craigslist.org/eby/apa/4718057214.html', 'app': 1000, 'id': '4718057214', 'desc': u'$1782 / 2br - 754ft\\xb2 - Affordable and Beautiful! (fremont / union city / newark)'}"
       ]
      },
      {
       "output_type": "stream",
       "stream": "stdout",
       "text": [
        "\n",
        "4716072949\n",
        "{'url': 'http://sfbay.craigslist.org/eby/apa/4716072949.html', 'app': 1000, 'id': '4716072949', 'desc': u'$2015 / 2br - 830ft\\xb2 - No Fooling Around! Fantastic Prices! (fremont / union city / newark)'}"
       ]
      },
      {
       "output_type": "stream",
       "stream": "stdout",
       "text": [
        "\n",
        "4720505852\n",
        "{'url': 'http://sfbay.craigslist.org/eby/apa/4720505852.html', 'app': 1000, 'id': '4720505852', 'desc': u'$1620 / 1br - 600ft\\xb2 - Great Apartment Value Near Union City Bart (fremont / union city / newark)'}"
       ]
      },
      {
       "output_type": "stream",
       "stream": "stdout",
       "text": [
        "\n",
        "4715766018\n",
        "{'url': 'http://sfbay.craigslist.org/eby/apa/4715766018.html', 'app': 1000, 'id': '4715766018', 'desc': u'$3200 / 4br - 2071ft\\xb2 - Remodeled 4 BD 2.5 BA Mission San Jose beautiful Fremont Home for Rent (fremont / union city / newark)'}"
       ]
      },
      {
       "output_type": "stream",
       "stream": "stdout",
       "text": [
        "\n",
        "{'url': 'http://sfbay.craigslist.org/eby/apa/4715766018.html', 'app': 1000, 'id': '4715766018', 'desc': u'$3200/mo'}\n",
        "4719164927\n",
        "{'url': 'http://sfbay.craigslist.org/eby/apa/4719164927.html', 'app': 1000, 'id': '4719164927', 'desc': u'$3000 / 3br - 1669ft\\xb2 - Modern home in an excellent location(3Bed/2.5bath in heart of Fremont) (fremont / union city / newark)'}"
       ]
      },
      {
       "output_type": "stream",
       "stream": "stdout",
       "text": [
        "\n",
        "4692790556\n",
        "{'url': 'http://sfbay.craigslist.org/eby/apa/4692790556.html', 'app': 1000, 'id': '4692790556', 'desc': u'$1750 / 2br - 800ft\\xb2 - Completely renovated apartment! 2 bed/1 bath in a gated community (fremont / union city / newark)'}"
       ]
      },
      {
       "output_type": "stream",
       "stream": "stdout",
       "text": [
        "\n",
        "4714998173\n",
        "{'url': 'http://sfbay.craigslist.org/eby/apa/4714998173.html', 'app': 1000, 'id': '4714998173', 'desc': u'$2100 / 2br - 895ft\\xb2 - \\u2706~\\u260f~\\u260eCall Oak Pointe Apartments Today!\\u260e~\\u260f~\\u2706 (fremont / union city / newark)'}"
       ]
      },
      {
       "output_type": "stream",
       "stream": "stdout",
       "text": [
        "\n",
        "4719629700\n",
        "{'url': 'http://sfbay.craigslist.org/eby/apa/4719629700.html', 'app': 1000, 'id': '4719629700', 'desc': u'$2395 / 2br - 980ft\\xb2 - \\u2665LOOKING FOR PEACE AND QUIET\\u2665 COME AND TOUR TODAY\\u2665 (fremont / union city / newark)'}"
       ]
      },
      {
       "output_type": "stream",
       "stream": "stdout",
       "text": [
        "\n",
        "4705550936\n",
        "{'url': 'http://sfbay.craigslist.org/eby/apa/4705550936.html', 'app': 1000, 'id': '4705550936', 'desc': u'$1900 / 2br - 1013ft\\xb2 - Light bright condo (fremont / union city / newark)'}"
       ]
      },
      {
       "output_type": "stream",
       "stream": "stdout",
       "text": [
        "\n",
        "4713215164\n",
        "{'url': 'http://sfbay.craigslist.org/eby/apa/4713215164.html', 'app': 1000, 'id': '4713215164', 'desc': u'$3600 / 3br - 1712ft\\xb2 - Brand New single Family Home for Rent (fremont / union city / newark)'}"
       ]
      },
      {
       "output_type": "stream",
       "stream": "stdout",
       "text": [
        "\n",
        "4719630357\n",
        "{'url': 'http://sfbay.craigslist.org/eby/apa/4719630357.html', 'app': 1000, 'id': '4719630357', 'desc': u'$2500 / 3br - Open House: Single Family Home Newark,very big lot and fruit trees (fremont / union city / newark)'}"
       ]
      },
      {
       "output_type": "stream",
       "stream": "stdout",
       "text": [
        "\n",
        "4701965908\n",
        "{'url': 'http://sfbay.craigslist.org/eby/apa/4701965908.html', 'app': 1000, 'id': '4701965908', 'desc': u'$1725 / 1br - 710ft\\xb2 - COME BY TODAY! Available for October 13Th  Move- In!  (fremont / union city / newark)'}"
       ]
      },
      {
       "output_type": "stream",
       "stream": "stdout",
       "text": [
        "\n",
        "4711260041\n",
        "{'url': 'http://sfbay.craigslist.org/eby/apa/4711260041.html', 'app': 1000, 'id': '4711260041', 'desc': u'$3350 / 4br - 1750ft\\xb2 - Single Family House for Rent in Mission San Jose (fremont / union city / newark)'}"
       ]
      },
      {
       "output_type": "stream",
       "stream": "stdout",
       "text": [
        "\n",
        "{'url': 'http://sfbay.craigslist.org/eby/apa/4711260041.html', 'app': 1000, 'id': '4711260041', 'desc': u'$3,350/mo'}\n",
        "4720648643\n",
        "{'url': 'http://sfbay.craigslist.org/eby/apa/4720648643.html', 'app': 1000, 'id': '4720648643', 'desc': u'$1582 / 1br - A Great Place To Call Home! Great Views! (fremont / union city / newark)'}"
       ]
      },
      {
       "output_type": "stream",
       "stream": "stdout",
       "text": [
        "\n",
        "4710948402\n",
        "{'url': 'http://sfbay.craigslist.org/eby/apa/4710948402.html', 'app': 1000, 'id': '4710948402', 'desc': u'$3200 ** Beautiful 3BD Single Family Home - with Full Amenities *** (fremont / union city / newark)'}"
       ]
      },
      {
       "output_type": "stream",
       "stream": "stdout",
       "text": [
        "\n",
        "4713175552\n",
        "{'url': 'http://sfbay.craigslist.org/eby/apa/4713175552.html', 'app': 1000, 'id': '4713175552', 'desc': u'$1845 / 2br - 910ft\\xb2 - Call Us Home (fremont / union city / newark)'}"
       ]
      },
      {
       "output_type": "stream",
       "stream": "stdout",
       "text": [
        "\n",
        "4695412849\n",
        "{'url': 'http://sfbay.craigslist.org/eby/apa/4695412849.html', 'app': 1000, 'id': '4695412849', 'desc': u'$1800 / 1br - 829ft\\xb2 - Take over 1 Bedroom apartment lease (fremont / union city / newark)'}"
       ]
      },
      {
       "output_type": "stream",
       "stream": "stdout",
       "text": [
        "\n",
        "4716082763\n",
        "{'url': 'http://sfbay.craigslist.org/eby/apa/4716082763.html', 'app': 1000, 'id': '4716082763', 'desc': u'$1639 / 650ft\\xb2 - Your New Home Awaits...Click Here.. (fremont / union city / newark)'}"
       ]
      },
      {
       "output_type": "stream",
       "stream": "stdout",
       "text": [
        "\n",
        "4718195034\n",
        "{'url': 'http://sfbay.craigslist.org/eby/apa/4718195034.html', 'app': 1000, 'id': '4718195034', 'desc': u'$1200 / 1br - 380ft\\xb2 - 1 Br-Studio residential in Union City (fremont / union city / newark)'}"
       ]
      },
      {
       "output_type": "stream",
       "stream": "stdout",
       "text": [
        "\n",
        "4710977244\n",
        "{'url': 'http://sfbay.craigslist.org/eby/apa/4710977244.html', 'app': 1000, 'id': '4710977244', 'desc': u'$3100 / 3br - 1500ft\\xb2 - Elegant Single Family Home (fremont / union city / newark)'}"
       ]
      },
      {
       "output_type": "stream",
       "stream": "stdout",
       "text": [
        "\n",
        "{'url': 'http://sfbay.craigslist.org/eby/apa/4710977244.html', 'app': 1000, 'id': '4710977244', 'desc': u'$3,100/mo'}\n",
        "4717861265\n",
        "{'url': 'http://sfbay.craigslist.org/eby/apa/4717861265.html', 'app': 1000, 'id': '4717861265', 'desc': u'$1698 / 1br - 565ft\\xb2 - A Great Junior 1br Unit To Call home @waterstone Fremont (fremont / union city / newark)'}"
       ]
      },
      {
       "output_type": "stream",
       "stream": "stdout",
       "text": [
        "\n",
        "4711427069\n",
        "{'url': 'http://sfbay.craigslist.org/eby/apa/4711427069.html', 'app': 1000, 'id': '4711427069', 'desc': u'$2800 / 5br - 1600ft\\xb2 - Single story house near Lake Elizebeth (fremont / union city / newark)'}"
       ]
      },
      {
       "output_type": "stream",
       "stream": "stdout",
       "text": [
        "\n",
        "4716014756\n",
        "{'url': 'http://sfbay.craigslist.org/eby/apa/4716014756.html', 'app': 1000, 'id': '4716014756', 'desc': u'$1786 / 1br - 685ft\\xb2 - Alderwood Park, Wants You As A Resident! (fremont / union city / newark)'}"
       ]
      },
      {
       "output_type": "stream",
       "stream": "stdout",
       "text": [
        "\n",
        "4720384339\n",
        "{'url': 'http://sfbay.craigslist.org/eby/apa/4720384339.html', 'app': 1000, 'id': '4720384339', 'desc': u'$2700 / 3br - 1150ft\\xb2 - Fremont 3 bedroom 2 bath house (fremont / union city / newark)'}"
       ]
      },
      {
       "output_type": "stream",
       "stream": "stdout",
       "text": [
        "\n",
        "4710164005\n",
        "{'url': 'http://sfbay.craigslist.org/eby/apa/4710164005.html', 'app': 1000, 'id': '4710164005', 'desc': u'$1699 / 1br - 685ft\\xb2 - Lovely Place To Call Home! Sparkling pool & relaxing spa!  $300 Dep. (fremont / union city / newark)'}"
       ]
      },
      {
       "output_type": "stream",
       "stream": "stdout",
       "text": [
        "\n",
        "4720639560\n",
        "{'url': 'http://sfbay.craigslist.org/eby/apa/4720639560.html', 'app': 1000, 'id': '4720639560', 'desc': u'$1851 / 1br - 615ft\\xb2 - Will Be Available November 11th! (fremont / union city / newark)'}"
       ]
      },
      {
       "output_type": "stream",
       "stream": "stdout",
       "text": [
        "\n",
        "4720615854\n",
        "{'url': 'http://sfbay.craigslist.org/eby/apa/4720615854.html', 'app': 1000, 'id': '4720615854', 'desc': u'$2355 / 2br - 1108ft\\xb2 - Come See why Mission Peaks II is The Best in Fremont!! (fremont / union city / newark)'}"
       ]
      },
      {
       "output_type": "stream",
       "stream": "stdout",
       "text": [
        "\n",
        "4711442471\n",
        "{'url': 'http://sfbay.craigslist.org/eby/apa/4711442471.html', 'app': 1000, 'id': '4711442471', 'desc': u'$1550 / 1br - 1 bedr apt for 1550 only in Newark   (fremont / union city / newark)'}"
       ]
      },
      {
       "output_type": "stream",
       "stream": "stdout",
       "text": [
        "\n",
        "4719168016\n",
        "{'url': 'http://sfbay.craigslist.org/eby/apa/4719168016.html', 'app': 1000, 'id': '4719168016', 'desc': u'$1795 / 1br - 650ft\\xb2 - Beautiful 1 bedroom with brand new carpet & lino! (fremont / union city / newark)'}"
       ]
      },
      {
       "output_type": "stream",
       "stream": "stdout",
       "text": [
        "\n",
        "4697397493\n",
        "{'url': 'http://sfbay.craigslist.org/eby/apa/4697397493.html', 'app': 1000, 'id': '4697397493', 'desc': u'$1550 / 2br - 750ft\\xb2 - AMAZING 2BED/1BATH AVAILABLE!! (fremont / union city / newark)'}"
       ]
      },
      {
       "output_type": "stream",
       "stream": "stdout",
       "text": [
        "\n",
        "4719239533\n",
        "{'url': 'http://sfbay.craigslist.org/eby/apa/4719239533.html', 'app': 1000, 'id': '4719239533', 'desc': u'$1500 / 1br - 430ft\\xb2 -  1Br/1Ba Suite with Separate Private Kitchen and Entrance \\u7368\\u9662 (fremont / union city / newark)'}"
       ]
      },
      {
       "output_type": "stream",
       "stream": "stdout",
       "text": [
        "\n",
        "4711243094\n",
        "{'url': 'http://sfbay.craigslist.org/eby/apa/4711243094.html', 'app': 1000, 'id': '4711243094', 'desc': u'$1725 / 1br - 710ft\\xb2 - COME BY TODAY! Available for Move- In Today!  (fremont / union city / newark)'}"
       ]
      },
      {
       "output_type": "stream",
       "stream": "stdout",
       "text": [
        "\n",
        "4721048597\n",
        "{'url': 'http://sfbay.craigslist.org/eby/apa/4721048597.html', 'app': 1000, 'id': '4721048597', 'desc': u'$1589 / 1br - A Great Place To Call Home! Great Views! (fremont / union city / newark)'}"
       ]
      },
      {
       "output_type": "stream",
       "stream": "stdout",
       "text": [
        "\n",
        "4716135024\n",
        "{'url': 'http://sfbay.craigslist.org/eby/apa/4716135024.html', 'app': 1000, 'id': '4716135024', 'desc': u'$2095 / 1br - 743ft\\xb2 - Welcome Home to Presidio (fremont / union city / newark)'}"
       ]
      },
      {
       "output_type": "stream",
       "stream": "stdout",
       "text": [
        "\n",
        "{'url': 'http://sfbay.craigslist.org/eby/apa/4716135024.html', 'app': 1000, 'id': '4716135024', 'desc': u'$2,095/mo'}\n",
        "4721009101\n",
        "{'url': 'http://sfbay.craigslist.org/eby/apa/4721009101.html', 'app': 1000, 'id': '4721009101', 'desc': u'$2385 / 2br - 1096ft\\xb2 - Looking for an Easy Commute?...BART is around the corner! (fremont / union city / newark)'}"
       ]
      },
      {
       "output_type": "stream",
       "stream": "stdout",
       "text": [
        "\n",
        "4711238589\n",
        "{'url': 'http://sfbay.craigslist.org/eby/apa/4711238589.html', 'app': 1000, 'id': '4711238589', 'desc': u'$1625 / 1br - 630ft\\xb2 - Beautiful Niles Community! Upstairs  Move-In October 23th! (fremont / union city / newark)'}"
       ]
      },
      {
       "output_type": "stream",
       "stream": "stdout",
       "text": [
        "\n",
        "4715828086\n",
        "{'url': 'http://sfbay.craigslist.org/eby/apa/4715828086.html', 'app': 1000, 'id': '4715828086', 'desc': u'$2193 Fully Furnished Studio - $2193.00/Month (fremont / union city / newark)'}"
       ]
      },
      {
       "output_type": "stream",
       "stream": "stdout",
       "text": [
        "\n",
        "4716850586\n",
        "{'url': 'http://sfbay.craigslist.org/eby/apa/4716850586.html', 'app': 1000, 'id': '4716850586', 'desc': u'$2495 / 5br - 1600ft\\xb2 - Remodeled 5 bedrooms home Union City (fremont / union city / newark)'}"
       ]
      },
      {
       "output_type": "stream",
       "stream": "stdout",
       "text": [
        "\n",
        "4716603113\n",
        "{'url': 'http://sfbay.craigslist.org/eby/apa/4716603113.html', 'app': 1000, 'id': '4716603113', 'desc': u'$2400 / 3br - 1400ft\\xb2 - Beautiful, Spacious 3 Bed 2 Bath House in Fremont (fremont / union city / newark)'}"
       ]
      },
      {
       "output_type": "stream",
       "stream": "stdout",
       "text": [
        "\n",
        "4717573101\n",
        "{'url': 'http://sfbay.craigslist.org/eby/apa/4717573101.html', 'app': 1000, 'id': '4717573101', 'desc': u'$2500 / 3br - 1550ft\\xb2 - Beautiful house, close to Dumbarton Bridge(Facebook), shopping center  (fremont / union city / newark)'}"
       ]
      },
      {
       "output_type": "stream",
       "stream": "stdout",
       "text": [
        "\n",
        "4720996606\n",
        "{'url': 'http://sfbay.craigslist.org/eby/apa/4720996606.html', 'app': 1000, 'id': '4720996606', 'desc': u'$2351 / 2br - 985ft\\xb2 - Spacious and Amazing.. talk about luxury! (fremont / union city / newark)'}"
       ]
      },
      {
       "output_type": "stream",
       "stream": "stdout",
       "text": [
        "\n",
        "4720639373\n",
        "{'url': 'http://sfbay.craigslist.org/eby/apa/4720639373.html', 'app': 1000, 'id': '4720639373', 'desc': u'$2355 / 2br - 900ft\\xb2 - Spacious, open, amazing floor plans!  (fremont / union city / newark)'}"
       ]
      },
      {
       "output_type": "stream",
       "stream": "stdout",
       "text": [
        "\n",
        "4715776465\n",
        "{'url': 'http://sfbay.craigslist.org/eby/apa/4715776465.html', 'app': 1000, 'id': '4715776465', 'desc': u'$2800 / 3br - 1752ft\\xb2 - Nor Cal Realty Inc - 3 bedroom 2.5 bath Single family home (fremont / union city / newark)'}"
       ]
      },
      {
       "output_type": "stream",
       "stream": "stdout",
       "text": [
        "\n",
        "4720917195\n",
        "{'url': 'http://sfbay.craigslist.org/eby/apa/4720917195.html', 'app': 1000, 'id': '4720917195', 'desc': u'$1786 / 1br - 685ft\\xb2 - STUNNING 1ST/ FLOOR 1BED/ READY TO MOVE IN SEPT 5TH! (fremont / union city / newark)'}"
       ]
      },
      {
       "output_type": "stream",
       "stream": "stdout",
       "text": [
        "\n",
        "4719055408\n",
        "{'url': 'http://sfbay.craigslist.org/eby/apa/4719055408.html', 'app': 1000, 'id': '4719055408', 'desc': u'$2000 / 2br - 894ft\\xb2 - Coming Soon! Reserve Your New Home Now... (fremont / union city / newark)'}"
       ]
      },
      {
       "output_type": "stream",
       "stream": "stdout",
       "text": [
        "\n",
        "4720640783\n",
        "{'url': 'http://sfbay.craigslist.org/eby/apa/4720640783.html', 'app': 1000, 'id': '4720640783', 'desc': u'$1923 / 2br - 785ft\\xb2 - Available November 1st!!! (fremont / union city / newark)'}"
       ]
      },
      {
       "output_type": "stream",
       "stream": "stdout",
       "text": [
        "\n",
        "4698067143\n",
        "{'url': 'http://sfbay.craigslist.org/eby/apa/4698067143.html', 'app': 1000, 'id': '4698067143', 'desc': u'$2515 / 2br - 961ft\\xb2 - Ardenwood townhome w/ attached garage + washer & dryer!!  (fremont / union city / newark)'}"
       ]
      },
      {
       "output_type": "stream",
       "stream": "stdout",
       "text": [
        "\n",
        "{'url': 'http://sfbay.craigslist.org/eby/apa/4698067143.html', 'app': 1000, 'id': '4698067143', 'desc': u'$2,515/mo'}\n",
        "4716544304\n",
        "{'url': 'http://sfbay.craigslist.org/eby/apa/4716544304.html', 'app': 1000, 'id': '4716544304', 'desc': u'$2295 / 2br - 980ft\\xb2 - \\u263aFEEL THE WARMTH HERE AT RANCHO LUNA/SOL (fremont / union city / newark)'}"
       ]
      },
      {
       "output_type": "stream",
       "stream": "stdout",
       "text": [
        "\n",
        "4721015477\n",
        "{'url': 'http://sfbay.craigslist.org/eby/apa/4721015477.html', 'app': 1000, 'id': '4721015477', 'desc': u'$1795 / 1br - BEAUTIFUL 1 BEDROOM AT QUIET NEIGHBORHOOD IN FREMONT!  (fremont / union city / newark)'}"
       ]
      },
      {
       "output_type": "stream",
       "stream": "stdout",
       "text": [
        "\n",
        "4721286965\n",
        "{'url': 'http://sfbay.craigslist.org/eby/apa/4721286965.html', 'app': 1000, 'id': '4721286965', 'desc': u'$3100 / 3br - 1500ft\\xb2 - 3Bd/2Baths Single Family Home - Schedule Your Appointment (fremont / union city / newark)'}"
       ]
      },
      {
       "output_type": "stream",
       "stream": "stdout",
       "text": [
        "\n",
        "{'url': 'http://sfbay.craigslist.org/eby/apa/4721286965.html', 'app': 1000, 'id': '4721286965', 'desc': u'$3,100/mo'}\n",
        "4713256188\n",
        "{'url': 'http://sfbay.craigslist.org/eby/apa/4713256188.html', 'app': 1000, 'id': '4713256188', 'desc': u'$2750 / 6br - 2000ft\\xb2 - Fremont \\u4e2d\\u5fc36\\u5367\\u5927\\u623f\\u51fa\\u79df (fremont / union city / newark)'}"
       ]
      },
      {
       "output_type": "stream",
       "stream": "stdout",
       "text": [
        "\n",
        "4720885262\n",
        "{'url': 'http://sfbay.craigslist.org/eby/apa/4720885262.html', 'app': 1000, 'id': '4720885262', 'desc': u'$2744 / 2br - 1184ft\\xb2 - Relax by our pool & spa just outside your new apartment home! (fremont / union city / newark)'}"
       ]
      },
      {
       "output_type": "stream",
       "stream": "stdout",
       "text": [
        "\n",
        "4712299524\n",
        "{'url': 'http://sfbay.craigslist.org/eby/apa/4712299524.html', 'app': 1000, 'id': '4712299524', 'desc': u'$3100 / 3br - 1500ft\\xb2 - Elegant 3BD/2Bath Single Family Home  (fremont / union city / newark)'}"
       ]
      },
      {
       "output_type": "stream",
       "stream": "stdout",
       "text": [
        "\n",
        "{'url': 'http://sfbay.craigslist.org/eby/apa/4712299524.html', 'app': 1000, 'id': '4712299524', 'desc': u'$3,100/mo'}\n",
        "4717653735\n",
        "{'url': 'http://sfbay.craigslist.org/eby/apa/4717653735.html', 'app': 1000, 'id': '4717653735', 'desc': u'$2695 / 3br - 1600ft\\xb2 - Available Immediately!!! (fremont / union city / newark)'}"
       ]
      },
      {
       "output_type": "stream",
       "stream": "stdout",
       "text": [
        "\n",
        "{'url': 'http://sfbay.craigslist.org/eby/apa/4717653735.html', 'app': 1000, 'id': '4717653735', 'desc': u'$2,695/mo'}\n",
        "4713662926\n",
        "{'url': 'http://sfbay.craigslist.org/eby/apa/4713662926.html', 'app': 1000, 'id': '4713662926', 'desc': u'$2500 / 2br - 1040ft\\xb2 - \\u9ad8\\u7d1aCondo\\u51fa\\u79df2\\u623f2\\u6d74 \\u8fd1BART (fremont / union city / newark)'}"
       ]
      },
      {
       "output_type": "stream",
       "stream": "stdout",
       "text": [
        "\n",
        "4720534239\n",
        "{'url': 'http://sfbay.craigslist.org/eby/apa/4720534239.html', 'app': 1000, 'id': '4720534239', 'desc': u'$1965 / 2br - 830ft\\xb2 - Ready to Rent! (fremont / union city / newark)'}"
       ]
      },
      {
       "output_type": "stream",
       "stream": "stdout",
       "text": [
        "\n",
        "4721100755\n",
        "{'url': 'http://sfbay.craigslist.org/eby/apa/4721100755.html', 'app': 1000, 'id': '4721100755', 'desc': u'$2259 / 2br - UNWIND AFTER A LONG DAY IN YOUR STYLISH AND SERENE ENVIRONMENT! (fremont / union city / newark)'}"
       ]
      },
      {
       "output_type": "stream",
       "stream": "stdout",
       "text": [
        "\n",
        "4711067392\n",
        "{'url': 'http://sfbay.craigslist.org/eby/apa/4711067392.html', 'app': 1000, 'id': '4711067392', 'desc': u'$1950 / 1br - 710ft\\xb2 - Luxurious Homes, Near Public Parks, Parkmont Schools (fremont / union city / newark)'}"
       ]
      },
      {
       "output_type": "stream",
       "stream": "stdout",
       "text": [
        "\n",
        "4720363448\n",
        "{'url': 'http://sfbay.craigslist.org/eby/apa/4720363448.html', 'app': 1000, 'id': '4720363448', 'desc': u'$2500 / 2br - 1475ft\\xb2 - Remodel Union City Townhouse with 2 car garage (fremont / union city / newark)'}"
       ]
      },
      {
       "output_type": "stream",
       "stream": "stdout",
       "text": [
        "\n",
        "4721102115\n",
        "{'url': 'http://sfbay.craigslist.org/eby/apa/4721102115.html', 'app': 1000, 'id': '4721102115', 'desc': u'$3000 / 3br - 1400ft\\xb2 - Beautiful Fremont Home For Rent  (fremont / union city / newark)'}"
       ]
      },
      {
       "output_type": "stream",
       "stream": "stdout",
       "text": [
        "\n",
        "4721002243\n",
        "{'url': 'http://sfbay.craigslist.org/eby/apa/4721002243.html', 'app': 1000, 'id': '4721002243', 'desc': u'$2815 / 2br - 1147ft\\xb2 - BART Next Door, Parkmont & The Hub Nearby... Welcome Home To Watermark (fremont / union city / newark)'}"
       ]
      },
      {
       "output_type": "stream",
       "stream": "stdout",
       "text": [
        "\n",
        "4716066963\n",
        "{'url': 'http://sfbay.craigslist.org/eby/apa/4716066963.html', 'app': 1000, 'id': '4716066963', 'desc': u'$1700 / 1br - 650ft\\xb2 - Ready to Rent! (fremont / union city / newark)'}"
       ]
      },
      {
       "output_type": "stream",
       "stream": "stdout",
       "text": [
        "\n",
        "4717618384\n",
        "{'url': 'http://sfbay.craigslist.org/eby/apa/4717618384.html', 'app': 1000, 'id': '4717618384', 'desc': u'$2459 / 1br - 877ft\\xb2 - Charming apartment homes w/spacious and open kitchen layout! (fremont / union city / newark)'}"
       ]
      },
      {
       "output_type": "stream",
       "stream": "stdout",
       "text": [
        "\n",
        "4721028602\n",
        "{'url': 'http://sfbay.craigslist.org/eby/apa/4721028602.html', 'app': 1000, 'id': '4721028602', 'desc': u'$1698 / 1br - PARK-LIKE LANDSCAPING, ENJOY THE QUIET, SCENIC SURROUNDINGS  (fremont / union city / newark)'}"
       ]
      },
      {
       "output_type": "stream",
       "stream": "stdout",
       "text": [
        "\n",
        "4719489325\n",
        "{'url': 'http://sfbay.craigslist.org/eby/apa/4719489325.html', 'app': 1000, 'id': '4719489325', 'desc': u'$2796 / 3br - 1100ft\\xb2 - Come home to green lawns at Pathfinder Village! (fremont / union city / newark)'}"
       ]
      },
      {
       "output_type": "stream",
       "stream": "stdout",
       "text": [
        "\n",
        "4720611645\n",
        "{'url': 'http://sfbay.craigslist.org/eby/apa/4720611645.html', 'app': 1000, 'id': '4720611645', 'desc': u'$1565 / 1br - 660ft\\xb2 - Amazing Second Floor One Bedroom Apt Home... (fremont / union city / newark)'}"
       ]
      },
      {
       "output_type": "stream",
       "stream": "stdout",
       "text": [
        "\n",
        "4716172234\n",
        "{'url': 'http://sfbay.craigslist.org/eby/apa/4716172234.html', 'app': 1000, 'id': '4716172234', 'desc': u'$1930 / 760ft\\xb2 - Are You Ready To Move..Waterstone@Fremont (fremont / union city / newark)'}"
       ]
      },
      {
       "output_type": "stream",
       "stream": "stdout",
       "text": [
        "\n",
        "4719323239\n",
        "{'url': 'http://sfbay.craigslist.org/eby/apa/4719323239.html', 'app': 1000, 'id': '4719323239', 'desc': u'$2950 / 3br - 1489ft\\xb2 - Beautiful  Single Family Home at Ardenwood (fremont / union city / newark)'}"
       ]
      },
      {
       "output_type": "stream",
       "stream": "stdout",
       "text": [
        "\n",
        "4706347153\n",
        "{'url': 'http://sfbay.craigslist.org/eby/apa/4706347153.html', 'app': 1000, 'id': '4706347153', 'desc': u'$3150 / 3br - 1540ft\\xb2 - Mission SanJose- 3BR, 2 Baths, 1540 SF  (fremont / union city / newark)'}"
       ]
      },
      {
       "output_type": "stream",
       "stream": "stdout",
       "text": [
        "\n",
        "4713587740\n",
        "{'url': 'http://sfbay.craigslist.org/eby/apa/4713587740.html', 'app': 1000, 'id': '4713587740', 'desc': u'$1650 / 1br - 760ft\\xb2 - New Apartment/Condo Near Bart Fremont! (fremont / union city / newark)'}"
       ]
      },
      {
       "output_type": "stream",
       "stream": "stdout",
       "text": [
        "\n",
        "4710459519\n",
        "{'url': 'http://sfbay.craigslist.org/eby/apa/4710459519.html', 'app': 1000, 'id': '4710459519', 'desc': u'$3400 / 3br - 2100ft\\xb2 - MISSION: ANTELOPE HILLS 3 BR 2 1/5 BATH  (fremont / union city / newark)'}"
       ]
      },
      {
       "output_type": "stream",
       "stream": "stdout",
       "text": [
        "\n",
        "4720780184\n",
        "{'url': 'http://sfbay.craigslist.org/eby/apa/4720780184.html', 'app': 1000, 'id': '4720780184', 'desc': u'$2098 / 1br - 829ft\\xb2 - Marvelous 1 bed apartment near Fremont BART!  (fremont / union city / newark)'}"
       ]
      },
      {
       "output_type": "stream",
       "stream": "stdout",
       "text": [
        "\n",
        "4709166878\n",
        "{'url': 'http://sfbay.craigslist.org/eby/apa/4709166878.html', 'app': 1000, 'id': '4709166878', 'desc': u\"$3000 / 3br - 1600ft\\xb2 - Entertainer's delight - Centrally located fabulously upgraded home (fremont / union city / newark)\"}"
       ]
      },
      {
       "output_type": "stream",
       "stream": "stdout",
       "text": [
        "\n",
        "4716658938\n",
        "{'url': 'http://sfbay.craigslist.org/eby/apa/4716658938.html', 'app': 1000, 'id': '4716658938', 'desc': u'$3100 / 3br - 1500ft\\xb2 - 3BD/2Baths Single Family Home - Schedule Your Appointment (fremont / union city / newark)'}"
       ]
      },
      {
       "output_type": "stream",
       "stream": "stdout",
       "text": [
        "\n",
        "{'url': 'http://sfbay.craigslist.org/eby/apa/4716658938.html', 'app': 1000, 'id': '4716658938', 'desc': u'$3,100/mo'}\n",
        "4721186944\n",
        "{'url': 'http://sfbay.craigslist.org/eby/apa/4721186944.html', 'app': 1000, 'id': '4721186944', 'desc': u'$1698 / 1br - RESORT LIVING IN A SERENE PARK SETTING  (fremont / union city / newark)'}"
       ]
      },
      {
       "output_type": "stream",
       "stream": "stdout",
       "text": [
        "\n",
        "4691387359\n",
        "{'url': 'http://sfbay.craigslist.org/eby/apa/4691387359.html', 'app': 1000, 'id': '4691387359', 'desc': u'$1625 / 1br - 630ft\\xb2 - Beautiful Niles Community! Downstairs Immediate Move-In ! (fremont / union city / newark)'}"
       ]
      },
      {
       "output_type": "stream",
       "stream": "stdout",
       "text": [
        "\n",
        "4718268865\n",
        "{'url': 'http://sfbay.craigslist.org/eby/apa/4718268865.html', 'app': 1000, 'id': '4718268865', 'desc': u'$3600 / 5br - 2000ft\\xb2 - Beautiful 5 bedroom 3 bath house $3,600.00 with lots of upgrades (fremont / union city / newark)'}"
       ]
      },
      {
       "output_type": "stream",
       "stream": "stdout",
       "text": [
        "\n",
        "4720627806\n",
        "{'url': 'http://sfbay.craigslist.org/eby/apa/4720627806.html', 'app': 1000, 'id': '4720627806', 'desc': u'$1698 / 1br - DESIGNER INTERIOR, SPACIOUS FLOOR PLANS AND AMAZING AMENITIES (fremont / union city / newark)'}"
       ]
      },
      {
       "output_type": "stream",
       "stream": "stdout",
       "text": [
        "\n",
        "4711731689\n",
        "{'url': 'http://sfbay.craigslist.org/eby/apa/4711731689.html', 'app': 1000, 'id': '4711731689', 'desc': u'$1698 / 1br - RESORT LIVING IN A SERENE PARK SETTING (fremont / union city / newark)'}"
       ]
      },
      {
       "output_type": "stream",
       "stream": "stdout",
       "text": [
        "\n",
        "4718175757\n",
        "{'url': 'http://sfbay.craigslist.org/eby/apa/4718175757.html', 'app': 1000, 'id': '4718175757', 'desc': u'$1650 / 2br - 750ft\\xb2 - GREAT 2 BEDROOMS DUPLEX  WITH GARAGE AND LARGE BACK YARD (fremont / union city / newark)'}"
       ]
      },
      {
       "output_type": "stream",
       "stream": "stdout",
       "text": [
        "\n",
        "4708874045\n",
        "{'url': 'http://sfbay.craigslist.org/eby/apa/4708874045.html', 'app': 1000, 'id': '4708874045', 'desc': u'$2300 / 3br - 1500ft\\xb2 - Charming Ranch Style Home (fremont / union city / newark)'}"
       ]
      },
      {
       "output_type": "stream",
       "stream": "stdout",
       "text": [
        "\n",
        "4715923768\n",
        "{'url': 'http://sfbay.craigslist.org/eby/apa/4715923768.html', 'app': 1000, 'id': '4715923768', 'desc': u'$885 / 1br - Niles cottage (fremont / union city / newark)'}"
       ]
      },
      {
       "output_type": "stream",
       "stream": "stdout",
       "text": [
        "\n",
        "4717691905\n",
        "{'url': 'http://sfbay.craigslist.org/eby/apa/4717691905.html', 'app': 1000, 'id': '4717691905', 'desc': u'$2150 / 2br - 1178ft\\xb2 - Available Immediately!!! (fremont / union city / newark)'}"
       ]
      },
      {
       "output_type": "stream",
       "stream": "stdout",
       "text": [
        "\n",
        "{'url': 'http://sfbay.craigslist.org/eby/apa/4717691905.html', 'app': 1000, 'id': '4717691905', 'desc': u'$2,150/mo'}\n",
        "4684119955\n",
        "{'url': 'http://sfbay.craigslist.org/eby/apa/4684119955.html', 'app': 1000, 'id': '4684119955', 'desc': u'$2400 / 3br - 1576ft\\xb2 - Fremont Brookvale house (fremont / union city / newark)'}"
       ]
      },
      {
       "output_type": "stream",
       "stream": "stdout",
       "text": [
        "\n",
        "4720818552\n",
        "{'url': 'http://sfbay.craigslist.org/eby/apa/4720818552.html', 'app': 1000, 'id': '4720818552', 'desc': u'$2300 / 2br - 890ft\\xb2 - *Carriage House* Gated Community in a Quiet and Friendly Neighborhood! (fremont / union city / newark)'}"
       ]
      },
      {
       "output_type": "stream",
       "stream": "stdout",
       "text": [
        "\n",
        "4710369193\n",
        "{'url': 'http://sfbay.craigslist.org/eby/apa/4710369193.html', 'app': 1000, 'id': '4710369193', 'desc': u'$1923 / 2br - 785ft\\xb2 - Only One Available November 1st (fremont / union city / newark)'}"
       ]
      },
      {
       "output_type": "stream",
       "stream": "stdout",
       "text": [
        "\n",
        "4721134568\n",
        "{'url': 'http://sfbay.craigslist.org/eby/apa/4721134568.html', 'app': 1000, 'id': '4721134568', 'desc': u'$1985 / 1br - 683ft\\xb2 - Get ready for December! One bedroom with storage available! (fremont / union city / newark)'}"
       ]
      },
      {
       "output_type": "stream",
       "stream": "stdout",
       "text": [
        "\n",
        "4715000264\n",
        "{'url': 'http://sfbay.craigslist.org/eby/apa/4715000264.html', 'app': 1000, 'id': '4715000264', 'desc': u'$1760 / 1br - AMAZING AMENITIES IN A PARK-LIKE COMMUNITY (fremont / union city / newark)'}"
       ]
      },
      {
       "output_type": "stream",
       "stream": "stdout",
       "text": [
        "\n",
        "4719065655\n",
        "{'url': 'http://sfbay.craigslist.org/eby/apa/4719065655.html', 'app': 1000, 'id': '4719065655', 'desc': u'$2400 / 2br - 1150ft\\xb2 - Sub-Leasing 2 Bed Room Apartment Starting October 31 (AVALON Apartment (fremont / union city / newark)'}"
       ]
      },
      {
       "output_type": "stream",
       "stream": "stdout",
       "text": [
        "\n",
        "4712998954\n",
        "{'url': 'http://sfbay.craigslist.org/eby/apa/4712998954.html', 'app': 1000, 'id': '4712998954', 'desc': u'$2500 / 3br - 1475ft\\xb2 - Updated Nice Town Home 4 Lease in Fremont! (fremont / union city / newark)'}"
       ]
      },
      {
       "output_type": "stream",
       "stream": "stdout",
       "text": [
        "\n",
        "4720971062\n",
        "{'url': 'http://sfbay.craigslist.org/eby/apa/4720971062.html', 'app': 1000, 'id': '4720971062', 'desc': u'$2163 / 2br - 985ft\\xb2 - Enjoy Separate Dining Rooms in our BR Apartments (fremont / union city / newark)'}"
       ]
      },
      {
       "output_type": "stream",
       "stream": "stdout",
       "text": [
        "\n",
        "4710068294\n",
        "{'url': 'http://sfbay.craigslist.org/eby/apa/4710068294.html', 'app': 1000, 'id': '4710068294', 'desc': u'$2150 / 2br - PARK-LIKE SETTING IN PRIME LOCATION, DESIGNER 2 BR (fremont / union city / newark)'}"
       ]
      },
      {
       "output_type": "stream",
       "stream": "stdout",
       "text": [
        "\n",
        "4718342445\n",
        "{'url': 'http://sfbay.craigslist.org/eby/apa/4718342445.html', 'app': 1000, 'id': '4718342445', 'desc': u'$3400 / 5br - 2880ft\\xb2 - ??? Stunning Semi-Custom Home ??? (fremont / union city / newark)'}"
       ]
      },
      {
       "output_type": "stream",
       "stream": "stdout",
       "text": [
        "\n",
        "4713260679\n",
        "{'url': 'http://sfbay.craigslist.org/eby/apa/4713260679.html', 'app': 1000, 'id': '4713260679', 'desc': u'$2750 / 6br - 2000ft\\xb2 - Single Family House at Central Fremont (fremont / union city / newark)'}"
       ]
      },
      {
       "output_type": "stream",
       "stream": "stdout",
       "text": [
        "\n",
        "4712586884\n",
        "{'url': 'http://sfbay.craigslist.org/eby/apa/4712586884.html', 'app': 1000, 'id': '4712586884', 'desc': u'$2295 / 2br - 1004ft\\xb2 - \\u2665LOOKING FOR PEACE AND QUIET\\u2665 COME AND TOUR TODAY\\u2665 (fremont / union city / newark)'}"
       ]
      },
      {
       "output_type": "stream",
       "stream": "stdout",
       "text": [
        "\n",
        "4720621095\n",
        "{'url': 'http://sfbay.craigslist.org/eby/apa/4720621095.html', 'app': 1000, 'id': '4720621095', 'desc': u'$2620 / 2br - 982ft\\xb2 - Commuting? Amazing apartment home near Fremont Bart! (fremont / union city / newark)'}"
       ]
      },
      {
       "output_type": "stream",
       "stream": "stdout",
       "text": [
        "\n",
        "4710320249\n",
        "{'url': 'http://sfbay.craigslist.org/eby/apa/4710320249.html', 'app': 1000, 'id': '4710320249', 'desc': u'$2295 / 2br - 980ft\\xb2 - \\u2666\\u263aBRAND NEW EVERYTHING!\\u2666\\u263a (fremont / union city / newark)'}"
       ]
      },
      {
       "output_type": "stream",
       "stream": "stdout",
       "text": [
        "\n",
        "4675852525\n",
        "{'url': 'http://sfbay.craigslist.org/eby/apa/4675852525.html', 'app': 1000, 'id': '4675852525', 'desc': u'$3500 / 4br - 2094ft\\xb2 - Newly Built 4 Bed/3.5 Bath Single Home in Fremont Irvington (fremont / union city / newark)'}"
       ]
      },
      {
       "output_type": "stream",
       "stream": "stdout",
       "text": [
        "\n",
        "4712560073\n",
        "{'url': 'http://sfbay.craigslist.org/eby/apa/4712560073.html', 'app': 1000, 'id': '4712560073', 'desc': u'$2395 / 2br - 980ft\\xb2 - \\u263bBART RIDERS DREAM/CLOSE TO SHOPPING\\u263b (fremont / union city / newark)'}"
       ]
      },
      {
       "output_type": "stream",
       "stream": "stdout",
       "text": [
        "\n",
        "4698874935\n",
        "{'url': 'http://sfbay.craigslist.org/eby/apa/4698874935.html', 'app': 1000, 'id': '4698874935', 'desc': u'$2999 / 4br - 1922ft\\xb2 - luxuary 4bed 2 bath union city $,2,999 first month (fremont / union city / newark)'}"
       ]
      },
      {
       "output_type": "stream",
       "stream": "stdout",
       "text": [
        "\n",
        "4719685180\n",
        "{'url': 'http://sfbay.craigslist.org/eby/apa/4719685180.html', 'app': 1000, 'id': '4719685180', 'desc': u'$2645 / 2br - 1179ft\\xb2 - A Great Place To Call Home! (fremont / union city / newark)'}"
       ]
      },
      {
       "output_type": "stream",
       "stream": "stdout",
       "text": [
        "\n",
        "4697859201\n",
        "{'url': 'http://sfbay.craigslist.org/eby/apa/4697859201.html', 'app': 1000, 'id': '4697859201', 'desc': u'$3300 / 3br - 1912ft\\xb2 - Lovely Mission Area Home! (fremont / union city / newark)'}"
       ]
      },
      {
       "output_type": "stream",
       "stream": "stdout",
       "text": [
        "\n",
        "{'url': 'http://sfbay.craigslist.org/eby/apa/4697859201.html', 'app': 1000, 'id': '4697859201', 'desc': u'$3,300/mo'}\n",
        "4710371000\n",
        "{'url': 'http://sfbay.craigslist.org/eby/apa/4710371000.html', 'app': 1000, 'id': '4710371000', 'desc': u'$2068 / 2br - 895ft\\xb2 - Large Dual Floor Plan First Availability October 15th  (fremont / union city / newark)'}"
       ]
      },
      {
       "output_type": "stream",
       "stream": "stdout",
       "text": [
        "\n",
        "4711401643\n",
        "{'url': 'http://sfbay.craigslist.org/eby/apa/4711401643.html', 'app': 1000, 'id': '4711401643', 'desc': u'$2095 / 2br - 850ft\\xb2 - 2 bed 1 bath  (fremont / union city / newark)'}"
       ]
      },
      {
       "output_type": "stream",
       "stream": "stdout",
       "text": [
        "\n",
        "4713599979\n",
        "{'url': 'http://sfbay.craigslist.org/eby/apa/4713599979.html', 'app': 1000, 'id': '4713599979', 'desc': u'$3450 / 3br - 1700ft\\xb2 - Brand New Single Family Home (fremont / union city / newark)'}"
       ]
      },
      {
       "output_type": "stream",
       "stream": "stdout",
       "text": [
        "\n",
        "4718980244\n",
        "{'url': 'http://sfbay.craigslist.org/eby/apa/4718980244.html', 'app': 1000, 'id': '4718980244', 'desc': u'$2425 / 2br - 1010ft\\xb2 - Outstanding Location, Heated Pool, Sauna, Pets Welcome (fremont / union city / newark)'}"
       ]
      },
      {
       "output_type": "stream",
       "stream": "stdout",
       "text": [
        "\n",
        "4720935262\n",
        "{'url': 'http://sfbay.craigslist.org/eby/apa/4720935262.html', 'app': 1000, 'id': '4720935262', 'desc': u'$2620 / 2br - 982ft\\xb2 - Living at its best! Come see your new home today! (fremont / union city / newark)'}"
       ]
      },
      {
       "output_type": "stream",
       "stream": "stdout",
       "text": [
        "\n",
        "4715854469\n",
        "{'url': 'http://sfbay.craigslist.org/eby/apa/4715854469.html', 'app': 1000, 'id': '4715854469', 'desc': u'$1760 / 1br - RESORT LIVING IN SERENE PARK SETTING  (fremont / union city / newark)'}"
       ]
      },
      {
       "output_type": "stream",
       "stream": "stdout",
       "text": [
        "\n",
        "4698040171\n",
        "{'url': 'http://sfbay.craigslist.org/eby/apa/4698040171.html', 'app': 1000, 'id': '4698040171', 'desc': u'$2315 / 2br - 862ft\\xb2 - ** 2 bedroom w/ garage & utilities included.. NOW ON SPECIAL!! ** (fremont / union city / newark)'}"
       ]
      },
      {
       "output_type": "stream",
       "stream": "stdout",
       "text": [
        "\n",
        "{'url': 'http://sfbay.craigslist.org/eby/apa/4698040171.html', 'app': 1000, 'id': '4698040171', 'desc': u'$2,315/mo'}\n",
        "4720999648\n",
        "{'url': 'http://sfbay.craigslist.org/eby/apa/4720999648.html', 'app': 1000, 'id': '4720999648', 'desc': u'$2618 / 3br - 1320ft\\xb2 - 3BD/2BA Apartment with Quartz Countertops (fremont / union city / newark)'}"
       ]
      },
      {
       "output_type": "stream",
       "stream": "stdout",
       "text": [
        "\n",
        "4706955374\n",
        "{'url': 'http://sfbay.craigslist.org/eby/apa/4706955374.html', 'app': 1000, 'id': '4706955374', 'desc': u'$2400 / 3br - 1180ft\\xb2 - 3 Bedroom Union City Home (fremont / union city / newark)'}"
       ]
      },
      {
       "output_type": "stream",
       "stream": "stdout",
       "text": [
        "\n",
        "4719745304\n",
        "{'url': 'http://sfbay.craigslist.org/eby/apa/4719745304.html', 'app': 1000, 'id': '4719745304', 'desc': u'$2259 / 2br - COME EXPERIENCE CONVENIENT AND PEACEFUL LIVING THAT AWAITS YOU (fremont / union city / newark)'}"
       ]
      },
      {
       "output_type": "stream",
       "stream": "stdout",
       "text": [
        "\n",
        "4715854595\n",
        "{'url': 'http://sfbay.craigslist.org/eby/apa/4715854595.html', 'app': 1000, 'id': '4715854595', 'desc': u'$2300 / 3br - 1280ft\\xb2 - 3 Bedrooms, 1.5 Bathrooms Townhouse available for rent in Union City (fremont / union city / newark)'}"
       ]
      },
      {
       "output_type": "stream",
       "stream": "stdout",
       "text": [
        "\n",
        "4712627279\n",
        "{'url': 'http://sfbay.craigslist.org/eby/apa/4712627279.html', 'app': 1000, 'id': '4712627279', 'desc': u'$3500 / 4br - 2000ft\\xb2 - Executive Living Ranch Style Single Family (fremont / union city / newark)'}"
       ]
      },
      {
       "output_type": "stream",
       "stream": "stdout",
       "text": [
        "\n",
        "4719209534\n",
        "{'url': 'http://sfbay.craigslist.org/eby/apa/4719209534.html', 'app': 1000, 'id': '4719209534', 'desc': u'$2277 / 2br - 975ft\\xb2 - Newly Remodeled 2 bdrm & 2 bthrms with washer & dryer! Call Today! (fremont / union city / newark)'}"
       ]
      },
      {
       "output_type": "stream",
       "stream": "stdout",
       "text": [
        "\n",
        "4720955678\n",
        "{'url': 'http://sfbay.craigslist.org/eby/apa/4720955678.html', 'app': 1000, 'id': '4720955678', 'desc': u'$2375 / 2br - 1065ft\\xb2 - Stunning 2 bedrooms available now! Near BART! Dont Miss Out! (fremont / union city / newark)'}"
       ]
      },
      {
       "output_type": "stream",
       "stream": "stdout",
       "text": [
        "\n",
        "4720596089\n",
        "{'url': 'http://sfbay.craigslist.org/eby/apa/4720596089.html', 'app': 1000, 'id': '4720596089', 'desc': u'$2375 / 3br - 1372ft\\xb2 - 3 bedrooms for rent in Fremont CA 94536 (fremont / union city / newark)'}"
       ]
      },
      {
       "output_type": "stream",
       "stream": "stdout",
       "text": [
        "\n",
        "4714259431\n",
        "{'url': 'http://sfbay.craigslist.org/eby/apa/4714259431.html', 'app': 1000, 'id': '4714259431', 'desc': u'$1698 / 1br - RESORT STYLE LIVING IN A PRIME FREMONT LOCATION  (fremont / union city / newark)'}"
       ]
      },
      {
       "output_type": "stream",
       "stream": "stdout",
       "text": [
        "\n",
        "4719240713\n",
        "{'url': 'http://sfbay.craigslist.org/eby/apa/4719240713.html', 'app': 1000, 'id': '4719240713', 'desc': u'$2026 / 1br - 738ft\\xb2 - Looking For Convenience?...Come to Paragon! (fremont / union city / newark)'}"
       ]
      },
      {
       "output_type": "stream",
       "stream": "stdout",
       "text": [
        "\n",
        "4718079341\n",
        "{'url': 'http://sfbay.craigslist.org/eby/apa/4718079341.html', 'app': 1000, 'id': '4718079341', 'desc': u'$2399 / 2br - 850ft\\xb2 - Make The Woods Your Home Today...Call NOW!! (fremont / union city / newark)'}"
       ]
      },
      {
       "output_type": "stream",
       "stream": "stdout",
       "text": [
        "\n",
        "4715855732\n",
        "{'url': 'http://sfbay.craigslist.org/eby/apa/4715855732.html', 'app': 1000, 'id': '4715855732', 'desc': u'$2295 / 2br - 1004ft\\xb2 - \\u263bBART RIDERS DREAM/CLOSE TO SHOPPING\\u263b (fremont / union city / newark)'}"
       ]
      },
      {
       "output_type": "stream",
       "stream": "stdout",
       "text": [
        "\n",
        "4716425083\n",
        "{'url': 'http://sfbay.craigslist.org/eby/apa/4716425083.html', 'app': 1000, 'id': '4716425083', 'desc': u'$2360 / 2br - 1050ft\\xb2 - FREMONT ARDENWOOD CONDO! (fremont / union city / newark)'}"
       ]
      },
      {
       "output_type": "stream",
       "stream": "stdout",
       "text": [
        "\n",
        "4713151241\n",
        "{'url': 'http://sfbay.craigslist.org/eby/apa/4713151241.html', 'app': 1000, 'id': '4713151241', 'desc': u'$2295 / 2br - 1004ft\\xb2 - \\u2666TOUR TODAY AND ENJOY BEAUTIFULLY RENOVATED APT HOMES\\u2666 (fremont / union city / newark)'}"
       ]
      },
      {
       "output_type": "stream",
       "stream": "stdout",
       "text": [
        "\n",
        "4711216233\n",
        "{'url': 'http://sfbay.craigslist.org/eby/apa/4711216233.html', 'app': 1000, 'id': '4711216233', 'desc': u'$1845 / 1br - Ready to move in call now for an appointment!!!! (fremont / union city / newark)'}"
       ]
      },
      {
       "output_type": "stream",
       "stream": "stdout",
       "text": [
        "\n",
        "4721382446\n",
        "{'url': 'http://sfbay.craigslist.org/eby/apa/4721382446.html', 'app': 1000, 'id': '4721382446', 'desc': u'$2950 / 4br - 1625ft\\xb2 - BEAUTIFUL Parkmont Home 4BR/2BA - SUNDAY OPEN HOUSE! (fremont / union city / newark)'}"
       ]
      },
      {
       "output_type": "stream",
       "stream": "stdout",
       "text": [
        "\n",
        "4721161562\n",
        "{'url': 'http://sfbay.craigslist.org/eby/apa/4721161562.html', 'app': 1000, 'id': '4721161562', 'desc': u'$2616 / 3br - 1320ft\\xb2 - 3BD/2BA Apartment with Quartz Countertops (fremont / union city / newark)'}"
       ]
      },
      {
       "output_type": "stream",
       "stream": "stdout",
       "text": [
        "\n",
        "4719053083\n",
        "{'url': 'http://sfbay.craigslist.org/eby/apa/4719053083.html', 'app': 1000, 'id': '4719053083', 'desc': u'$2616 / 3br - 1320ft\\xb2 - 3BD/2BA Apartment with Quartz Countertops (fremont / union city / newark)'}"
       ]
      },
      {
       "output_type": "stream",
       "stream": "stdout",
       "text": [
        "\n",
        "4717606226\n",
        "{'url': 'http://sfbay.craigslist.org/eby/apa/4717606226.html', 'app': 1000, 'id': '4717606226', 'desc': u'$1665 / 1br - 650ft\\xb2 - No Fooling Around! Fantastic Prices! (fremont / union city / newark)'}"
       ]
      },
      {
       "output_type": "stream",
       "stream": "stdout",
       "text": [
        "\n",
        "4721087771\n",
        "{'url': 'http://sfbay.craigslist.org/eby/apa/4721087771.html', 'app': 1000, 'id': '4721087771', 'desc': u'$1950 / 2br - 800ft\\xb2 - We Offer Upstairs And Downstairs Units Available! (fremont / union city / newark)'}"
       ]
      },
      {
       "output_type": "stream",
       "stream": "stdout",
       "text": [
        "\n",
        "4714405729\n",
        "{'url': 'http://sfbay.craigslist.org/eby/apa/4714405729.html', 'app': 1000, 'id': '4714405729', 'desc': u'$2445 / 2br - 1106ft\\xb2 - Close to BART, Shopping, and much more!  (fremont / union city / newark)'}"
       ]
      },
      {
       "output_type": "stream",
       "stream": "stdout",
       "text": [
        "\n",
        "{'url': 'http://sfbay.craigslist.org/eby/apa/4714405729.html', 'app': 1000, 'id': '4714405729', 'desc': u'$2,445/mo'}\n",
        "4716807602\n",
        "{'url': 'http://sfbay.craigslist.org/eby/apa/4716807602.html', 'app': 1000, 'id': '4716807602', 'desc': u'$2500 / 3br - House For Rent In Mission San jose Fremont (fremont / union city / newark)'}"
       ]
      },
      {
       "output_type": "stream",
       "stream": "stdout",
       "text": [
        "\n",
        "4719903999\n",
        "{'url': 'http://sfbay.craigslist.org/eby/apa/4719903999.html', 'app': 1000, 'id': '4719903999', 'desc': u'$3200 / 4br - 2000ft\\xb2 - Elegant and Spacious 4 BR/2.5 BA Single Family Home in Fremont  (fremont / union city / newark)'}"
       ]
      },
      {
       "output_type": "stream",
       "stream": "stdout",
       "text": [
        "\n",
        "4716882876\n",
        "{'url': 'http://sfbay.craigslist.org/eby/apa/4716882876.html', 'app': 1000, 'id': '4716882876', 'desc': u'$2200 / 2br - 2Bath, 934 sqft, Condo with 1 car garage (fremont / union city / newark)'}"
       ]
      },
      {
       "output_type": "stream",
       "stream": "stdout",
       "text": [
        "\n",
        "4715894084\n",
        "{'url': 'http://sfbay.craigslist.org/eby/apa/4715894084.html', 'app': 1000, 'id': '4715894084', 'desc': u'$2240 / 2br - 975ft\\xb2 - Newly Remodeled 2 bdrm & 2 bathroom with washer & dryer! Call Today! (fremont / union city / newark)'}"
       ]
      },
      {
       "output_type": "stream",
       "stream": "stdout",
       "text": [
        "\n",
        "4710499204\n",
        "{'url': 'http://sfbay.craigslist.org/eby/apa/4710499204.html', 'app': 1000, 'id': '4710499204', 'desc': u'$2300 / 2br - 890ft\\xb2 - *Carriage House* Gated Community in a Quiet and Friendly Neighborhood! (fremont / union city / newark)'}"
       ]
      },
      {
       "output_type": "stream",
       "stream": "stdout",
       "text": [
        "\n",
        "4718164387\n",
        "{'url': 'http://sfbay.craigslist.org/eby/apa/4718164387.html', 'app': 1000, 'id': '4718164387', 'desc': u'$3500 / 5br - 2604ft\\xb2 - Gorgeous REMODELED 2,604 sq ft home w/5 bed & 3 baths!!! (fremont / union city / newark)'}"
       ]
      },
      {
       "output_type": "stream",
       "stream": "stdout",
       "text": [
        "\n",
        "{'url': 'http://sfbay.craigslist.org/eby/apa/4718164387.html', 'app': 1000, 'id': '4718164387', 'desc': u'$3,500/mo'}\n",
        "4719262871\n",
        "{'url': 'http://sfbay.craigslist.org/eby/apa/4719262871.html', 'app': 1000, 'id': '4719262871', 'desc': u'$1786 / 1br - 685ft\\xb2 - Looking To Move Mid October? This 2nd Floor 1 Bedroom Will Be Ready! (fremont / union city / newark)'}"
       ]
      },
      {
       "output_type": "stream",
       "stream": "stdout",
       "text": [
        "\n",
        "4719373853\n",
        "{'url': 'http://sfbay.craigslist.org/eby/apa/4719373853.html', 'app': 1000, 'id': '4719373853', 'desc': u'$2249 / 2br - ~FALL IN LOVE WITH OUR  AWARD WINNING COMMUNITY~ (fremont / union city / newark)'}"
       ]
      },
      {
       "output_type": "stream",
       "stream": "stdout",
       "text": [
        "\n",
        "4717850427\n",
        "{'url': 'http://sfbay.craigslist.org/eby/apa/4717850427.html', 'app': 1000, 'id': '4717850427', 'desc': u'$1865 / 1br - 760ft\\xb2 - Are You Ready To Move..Waterstone@Fremont (fremont / union city / newark)'}"
       ]
      },
      {
       "output_type": "stream",
       "stream": "stdout",
       "text": [
        "\n",
        "4719087534\n",
        "{'url': 'http://sfbay.craigslist.org/eby/apa/4719087534.html', 'app': 1000, 'id': '4719087534', 'desc': u'$2175 / 2br - 850ft\\xb2 -  HOW CAN YOU SAY NO TO THIS COZY 2BED/1BATH @ALDERWOOD PARK!  (fremont / union city / newark)'}"
       ]
      },
      {
       "output_type": "stream",
       "stream": "stdout",
       "text": [
        "\n",
        "4701023723\n",
        "{'url': 'http://sfbay.craigslist.org/eby/apa/4701023723.html', 'app': 1000, 'id': '4701023723', 'desc': u'$2425 / 2br - 1111ft\\xb2 - Spacious 2bd/1.5ba including w/d & 2 car garage - AVAILABLE DECEMBER 1 (fremont / union city / newark)'}"
       ]
      },
      {
       "output_type": "stream",
       "stream": "stdout",
       "text": [
        "\n",
        "4712876134\n",
        "{'url': 'http://sfbay.craigslist.org/eby/apa/4712876134.html', 'app': 1000, 'id': '4712876134', 'desc': u'$3500 / 4br - 2200ft\\xb2 - 4 Bed 3.5 Bath Single Family House in Fremont Mission San Jose (fremont / union city / newark)'}"
       ]
      },
      {
       "output_type": "stream",
       "stream": "stdout",
       "text": [
        "\n",
        "4711899551\n",
        "{'url': 'http://sfbay.craigslist.org/eby/apa/4711899551.html', 'app': 1000, 'id': '4711899551', 'desc': u'$2340 / 3br - 1000ft\\xb2 - Remodeled Warm Springs House (fremont / union city / newark)'}"
       ]
      },
      {
       "output_type": "stream",
       "stream": "stdout",
       "text": [
        "\n",
        "4708627612\n",
        "{'url': 'http://sfbay.craigslist.org/eby/apa/4708627612.html', 'app': 1000, 'id': '4708627612', 'desc': u'$800 / 1br - 170ft\\xb2 - ** \\u8c6a\\u5b85! \\u8c6a\\u534e\\u5bb6\\u79c1\\u914d\\u5957\\u9f50 (fremont / union city / newark)'}"
       ]
      },
      {
       "output_type": "stream",
       "stream": "stdout",
       "text": [
        "\n",
        "4716039487\n",
        "{'url': 'http://sfbay.craigslist.org/eby/apa/4716039487.html', 'app': 1000, 'id': '4716039487', 'desc': u'$2295 / 1br - Studio suites only $2295.00 (fremont / union city / newark)'}"
       ]
      },
      {
       "output_type": "stream",
       "stream": "stdout",
       "text": [
        "\n",
        "4714202046\n",
        "{'url': 'http://sfbay.craigslist.org/eby/apa/4714202046.html', 'app': 1000, 'id': '4714202046', 'desc': u'$2220 / 2br - 1026ft\\xb2 - Beautiful 2 bedrooms available  (fremont / union city / newark)'}"
       ]
      },
      {
       "output_type": "stream",
       "stream": "stdout",
       "text": [
        "\n",
        "4720845630\n",
        "{'url': 'http://sfbay.craigslist.org/eby/apa/4720845630.html', 'app': 1000, 'id': '4720845630', 'desc': u'$2098 / 1br - 829ft\\xb2 - Marvelous 1 bed apartment near Fremont BART!  (fremont / union city / newark)'}"
       ]
      },
      {
       "output_type": "stream",
       "stream": "stdout",
       "text": [
        "\n",
        "4721162176\n",
        "{'url': 'http://sfbay.craigslist.org/eby/apa/4721162176.html', 'app': 1000, 'id': '4721162176', 'desc': u'$2200 / 2br - 850ft\\xb2 - Sit Back and Relax In This Wonderful Two Bedroom! (fremont / union city / newark)'}"
       ]
      },
      {
       "output_type": "stream",
       "stream": "stdout",
       "text": [
        "\n",
        "4711266858\n",
        "{'url': 'http://sfbay.craigslist.org/eby/apa/4711266858.html', 'app': 1000, 'id': '4711266858', 'desc': u'$1547 / 1br - 660ft\\xb2 - Medallion Has All The Space You Need... (fremont / union city / newark)'}"
       ]
      },
      {
       "output_type": "stream",
       "stream": "stdout",
       "text": [
        "\n",
        "4706666794\n",
        "{'url': 'http://sfbay.craigslist.org/eby/apa/4706666794.html', 'app': 1000, 'id': '4706666794', 'desc': u'$1675 / 1br - Amazing 1 Bedroom $1,675 (fremont / union city / newark)'}"
       ]
      },
      {
       "output_type": "stream",
       "stream": "stdout",
       "text": [
        "\n",
        "4721132582\n",
        "{'url': 'http://sfbay.craigslist.org/eby/apa/4721132582.html', 'app': 1000, 'id': '4721132582', 'desc': u'$2259 / 2br - GORGEOUS,TOP FLOOR APARTMENT,VISIT AMBER COURT TODAY!  (fremont / union city / newark)'}"
       ]
      },
      {
       "output_type": "stream",
       "stream": "stdout",
       "text": [
        "\n",
        "4717955759\n",
        "{'url': 'http://sfbay.craigslist.org/eby/apa/4717955759.html', 'app': 1000, 'id': '4717955759', 'desc': u'$1875 / 1br - 565ft\\xb2 - Luxurious Homes, Walk to BART, Washer Dryer in Unit (fremont / union city / newark)'}"
       ]
      },
      {
       "output_type": "stream",
       "stream": "stdout",
       "text": [
        "\n",
        "4719076304\n",
        "{'url': 'http://sfbay.craigslist.org/eby/apa/4719076304.html', 'app': 1000, 'id': '4719076304', 'desc': u'$1698 / 1br - PARK-LIKE LANDSCAPING, POOL, SPA, FITNESS CENTER (fremont / union city / newark)'}"
       ]
      },
      {
       "output_type": "stream",
       "stream": "stdout",
       "text": [
        "\n",
        "4712715052\n",
        "{'url': 'http://sfbay.craigslist.org/eby/apa/4712715052.html', 'app': 1000, 'id': '4712715052', 'desc': u'$2800 / 3br - 1067ft\\xb2 - Nice quiet 3Bed-2Bath (fremont / union city / newark)'}"
       ]
      },
      {
       "output_type": "stream",
       "stream": "stdout",
       "text": [
        "\n",
        "4719791884\n",
        "{'url': 'http://sfbay.craigslist.org/eby/apa/4719791884.html', 'app': 1000, 'id': '4719791884', 'desc': u'$2999 / 3br - 1500ft\\xb2 - Bright, Nice Beautiful House, Walk to Fremont BART (fremont / union city / newark)'}"
       ]
      },
      {
       "output_type": "stream",
       "stream": "stdout",
       "text": [
        "\n",
        "4714683244\n",
        "{'url': 'http://sfbay.craigslist.org/eby/apa/4714683244.html', 'app': 1000, 'id': '4714683244', 'desc': u'$1895 / 1br - 527ft\\xb2 - \\u2660GREAT PRICE, LOCATION, AND QUIET\\u2660 (fremont / union city / newark)'}"
       ]
      },
      {
       "output_type": "stream",
       "stream": "stdout",
       "text": [
        "\n",
        "4720891332\n",
        "{'url': 'http://sfbay.craigslist.org/eby/apa/4720891332.html', 'app': 1000, 'id': '4720891332', 'desc': u'$2715 / 3br - 1369ft\\xb2 - 3Bedroom 3bathroom on the Top floor with Fireplace & Vaulted ceiling! (fremont / union city / newark)'}"
       ]
      },
      {
       "output_type": "stream",
       "stream": "stdout",
       "text": [
        "\n",
        "4710498444\n",
        "{'url': 'http://sfbay.craigslist.org/eby/apa/4710498444.html', 'app': 1000, 'id': '4710498444', 'desc': u'$1900 / 1br - 737ft\\xb2 - *Carriage House* Gated Community in a Quiet and Friendly Neighborhood! (fremont / union city / newark)'}"
       ]
      },
      {
       "output_type": "stream",
       "stream": "stdout",
       "text": [
        "\n",
        "4719902978\n",
        "{'url': 'http://sfbay.craigslist.org/eby/apa/4719902978.html', 'app': 1000, 'id': '4719902978', 'desc': u'$3200 / 5br - 2157ft\\xb2 - Beautiful House Near BART Station (fremont / union city / newark)'}"
       ]
      },
      {
       "output_type": "stream",
       "stream": "stdout",
       "text": [
        "\n",
        "4721157794\n",
        "{'url': 'http://sfbay.craigslist.org/eby/apa/4721157794.html', 'app': 1000, 'id': '4721157794', 'desc': u'$2050 / 1br - 701ft\\xb2 - Come take a look Upgraded and next to shopping (fremont / union city / newark)'}"
       ]
      },
      {
       "output_type": "stream",
       "stream": "stdout",
       "text": [
        "\n",
        "4714721833\n",
        "{'url': 'http://sfbay.craigslist.org/eby/apa/4714721833.html', 'app': 1000, 'id': '4714721833', 'desc': u'$2750 / 3br - 1350ft\\xb2 -  3BR/2.5 BA home for rent in Fremont Ardenwood/Forest Park area (fremont / union city / newark)'}"
       ]
      },
      {
       "output_type": "stream",
       "stream": "stdout",
       "text": [
        "\n",
        "4719004291\n",
        "{'url': 'http://sfbay.craigslist.org/eby/apa/4719004291.html', 'app': 1000, 'id': '4719004291', 'desc': u'$900 Fully-furnished in-law studio with private entry (fremont / union city / newark)'}"
       ]
      },
      {
       "output_type": "stream",
       "stream": "stdout",
       "text": [
        "\n",
        "4720774106\n",
        "{'url': 'http://sfbay.craigslist.org/eby/apa/4720774106.html', 'app': 1000, 'id': '4720774106', 'desc': u'$1786 / 1br - 685ft\\xb2 - Alderwood Park in Newark - Dumbarton/84/880 & public transit close by! (fremont / union city / newark)'}"
       ]
      },
      {
       "output_type": "stream",
       "stream": "stdout",
       "text": [
        "\n",
        "4675937071\n",
        "{'url': 'http://sfbay.craigslist.org/eby/apa/4675937071.html', 'app': 1000, 'id': '4675937071', 'desc': u'$2900 / 3br - 1472ft\\xb2 - 3 bed 2 .5 bath townhome remodeled in Fremont  (fremont / union city / newark)'}"
       ]
      },
      {
       "output_type": "stream",
       "stream": "stdout",
       "text": [
        "\n",
        "4718891996\n",
        "{'url': 'http://sfbay.craigslist.org/eby/apa/4718891996.html', 'app': 1000, 'id': '4718891996', 'desc': u'$2176 / 2br - 980ft\\xb2 - Looking For A Pet Friendly Community...Waterstone@Fremont (fremont / union city / newark)'}"
       ]
      },
      {
       "output_type": "stream",
       "stream": "stdout",
       "text": [
        "\n",
        "4710451031\n",
        "{'url': 'http://sfbay.craigslist.org/eby/apa/4710451031.html', 'app': 1000, 'id': '4710451031', 'desc': u'$1674 Affordable One Bedroom Near Public Transportation, Shopping and Dining (fremont / union city / newark)'}"
       ]
      },
      {
       "output_type": "stream",
       "stream": "stdout",
       "text": [
        "\n",
        "4716842666\n",
        "{'url': 'http://sfbay.craigslist.org/eby/apa/4716842666.html', 'app': 1000, 'id': '4716842666', 'desc': u'$5100 / 5br - 3500ft\\xb2 - LARGE FREMONT EXECUTIVE HOME ! TOP MISSION SCHOOLS ! (fremont / union city / newark)'}"
       ]
      },
      {
       "output_type": "stream",
       "stream": "stdout",
       "text": [
        "\n",
        "4721019624\n",
        "{'url': 'http://sfbay.craigslist.org/eby/apa/4721019624.html', 'app': 1000, 'id': '4721019624', 'desc': u'$2259 / 2br - ~LUSH GARDENS, POOL, SPA, FITNESS CENTER AND BRIGHT TWO BEDROOM~ (fremont / union city / newark)'}"
       ]
      },
      {
       "output_type": "stream",
       "stream": "stdout",
       "text": [
        "\n",
        "4720412245\n",
        "{'url': 'http://sfbay.craigslist.org/eby/apa/4720412245.html', 'app': 1000, 'id': '4720412245', 'desc': u'$1625 / 1br - 630ft\\xb2 - Beautiful Niles Community! Move-In November 7th! (fremont / union city / newark)'}"
       ]
      },
      {
       "output_type": "stream",
       "stream": "stdout",
       "text": [
        "\n",
        "4720845004\n",
        "{'url': 'http://sfbay.craigslist.org/eby/apa/4720845004.html', 'app': 1000, 'id': '4720845004', 'desc': u'$1850 / 1br - 650ft\\xb2 - Luxury & Convenience All In One Great One Bedroom (fremont / union city / newark)'}"
       ]
      },
      {
       "output_type": "stream",
       "stream": "stdout",
       "text": [
        "\n",
        "4712645561\n",
        "{'url': 'http://sfbay.craigslist.org/eby/apa/4712645561.html', 'app': 1000, 'id': '4712645561', 'desc': u'$5380 / 5br - 3800ft\\xb2 - 708 Chavel Court, Fremont, Avail.10/25 Ext.43 (fremont / union city / newark)'}"
       ]
      },
      {
       "output_type": "stream",
       "stream": "stdout",
       "text": [
        "\n",
        "4715875696\n",
        "{'url': 'http://sfbay.craigslist.org/eby/apa/4715875696.html', 'app': 1000, 'id': '4715875696', 'desc': u'$1875 / 1br - 565ft\\xb2 - Call for Details, Easy Freeway Access, Night Patrol, Fitness Ctr (fremont / union city / newark)'}"
       ]
      },
      {
       "output_type": "stream",
       "stream": "stdout",
       "text": [
        "\n",
        "4710259152\n",
        "{'url': 'http://sfbay.craigslist.org/eby/apa/4710259152.html', 'app': 1000, 'id': '4710259152', 'desc': u'$2425 / 2br - 1010ft\\xb2 - Visit Your New Home, Night Patrol, Fitness Ctr, Easy Freeway Access (fremont / union city / newark)'}"
       ]
      },
      {
       "output_type": "stream",
       "stream": "stdout",
       "text": [
        "\n",
        "4714391095\n",
        "{'url': 'http://sfbay.craigslist.org/eby/apa/4714391095.html', 'app': 1000, 'id': '4714391095', 'desc': u'$2400 / 2br - 1405ft\\xb2 - Good Townhouse in Fremont, Northgate area (fremont / union city / newark)'}"
       ]
      },
      {
       "output_type": "stream",
       "stream": "stdout",
       "text": [
        "\n",
        "4719474600\n",
        "{'url': 'http://sfbay.craigslist.org/eby/apa/4719474600.html', 'app': 1000, 'id': '4719474600', 'desc': u'$1790 / 1br - 600ft\\xb2 - Beautiful and spacious 1 bedrooms available  (fremont / union city / newark)'}"
       ]
      },
      {
       "output_type": "stream",
       "stream": "stdout",
       "text": [
        "\n",
        "4716543450\n",
        "{'url': 'http://sfbay.craigslist.org/eby/apa/4716543450.html', 'app': 1000, 'id': '4716543450', 'desc': u'$2695 / 4br - 1384ft\\xb2 - SPACIOUS 4BEDS/2BATHS HOUSE FOR RENT (fremont / union city / newark)'}"
       ]
      },
      {
       "output_type": "stream",
       "stream": "stdout",
       "text": [
        "\n",
        "4712595054\n",
        "{'url': 'http://sfbay.craigslist.org/eby/apa/4712595054.html', 'app': 1000, 'id': '4712595054', 'desc': u'$1950 / 1br - 710ft\\xb2 - Stylish Features, Washer Dryer in Unit, Walk to BART (fremont / union city / newark)'}"
       ]
      },
      {
       "output_type": "stream",
       "stream": "stdout",
       "text": [
        "\n",
        "4714533902\n",
        "{'url': 'http://sfbay.craigslist.org/eby/apa/4714533902.html', 'app': 1000, 'id': '4714533902', 'desc': u'$1543 / 1br - 650ft\\xb2 - Best Rate In Town! Perfect Apartment Home Now Available! (fremont / union city / newark)'}"
       ]
      },
      {
       "output_type": "stream",
       "stream": "stdout",
       "text": [
        "\n",
        "4710314987\n",
        "{'url': 'http://sfbay.craigslist.org/eby/apa/4710314987.html', 'app': 1000, 'id': '4710314987', 'desc': u'$1760 / 1br - PARK-LIKE LANDSCAPING, POOL, SPA, FITNESS CENTER (fremont / union city / newark)'}"
       ]
      },
      {
       "output_type": "stream",
       "stream": "stdout",
       "text": [
        "\n",
        "4694978856\n",
        "{'url': 'http://sfbay.craigslist.org/eby/apa/4694978856.html', 'app': 1000, 'id': '4694978856', 'desc': u'$1550 / 2br - 750ft\\xb2 - INCREDIBLE 2BED/1BATH AVAILABLE!!! (fremont / union city / newark)'}"
       ]
      },
      {
       "output_type": "stream",
       "stream": "stdout",
       "text": [
        "\n",
        "4721084803\n",
        "{'url': 'http://sfbay.craigslist.org/eby/apa/4721084803.html', 'app': 1000, 'id': '4721084803', 'desc': u'$2022 / 2br - 800ft\\xb2 - M225 Is A Fabulous Location Within Our Community! (fremont / union city / newark)'}"
       ]
      },
      {
       "output_type": "stream",
       "stream": "stdout",
       "text": [
        "\n",
        "4718139101\n",
        "{'url': 'http://sfbay.craigslist.org/eby/apa/4718139101.html', 'app': 1000, 'id': '4718139101', 'desc': u'$2295 / 2br - 980ft\\xb2 - \\u25d8ENJOY YOUR SURROUNDINGS IN AN UPDATED APT HOME TODAY\\u25d8 (fremont / union city / newark)'}"
       ]
      },
      {
       "output_type": "stream",
       "stream": "stdout",
       "text": [
        "\n",
        "4719344760\n",
        "{'url': 'http://sfbay.craigslist.org/eby/apa/4719344760.html', 'app': 1000, 'id': '4719344760', 'desc': u'$2295 / 2br - 980ft\\xb2 - \\u2666COME AND SEE WHAT YOU HAVE BEEN MISSING\\u2666 (fremont / union city / newark)'}"
       ]
      },
      {
       "output_type": "stream",
       "stream": "stdout",
       "text": [
        "\n",
        "4720573333\n",
        "{'url': 'http://sfbay.craigslist.org/eby/apa/4720573333.html', 'app': 1000, 'id': '4720573333', 'desc': u'$2820 / 2br - 1203ft\\xb2 - Large, Renovated 2BD/2BA with 2 Patios - Just Steps Away From BART (fremont / union city / newark)'}"
       ]
      },
      {
       "output_type": "stream",
       "stream": "stdout",
       "text": [
        "\n",
        "4720574328\n",
        "{'url': 'http://sfbay.craigslist.org/eby/apa/4720574328.html', 'app': 1000, 'id': '4720574328', 'desc': u'$2295 / 2br - 1004ft\\xb2 - FREMONT HUB\\u25d8GREAT LOCATION\\u25d8GREAT PRICE (fremont / union city / newark)'}"
       ]
      },
      {
       "output_type": "stream",
       "stream": "stdout",
       "text": [
        "\n",
        "4721099287\n",
        "{'url': 'http://sfbay.craigslist.org/eby/apa/4721099287.html', 'app': 1000, 'id': '4721099287', 'desc': u'$2295 / 2br - 1004ft\\xb2 - \\u2022\\u263bTHIS BEAUTIFUL UPGRADED APT HOME HAS ALL THE COMFORTS\\u263b\\u2022 (fremont / union city / newark)'}"
       ]
      },
      {
       "output_type": "stream",
       "stream": "stdout",
       "text": [
        "\n",
        "4710690027\n",
        "{'url': 'http://sfbay.craigslist.org/eby/apa/4710690027.html', 'app': 1000, 'id': '4710690027', 'desc': u'$1995 / 2br - 850ft\\xb2 - COTTAGE / In-Law in Fremont  (fremont / union city / newark)'}"
       ]
      },
      {
       "output_type": "stream",
       "stream": "stdout",
       "text": [
        "\n",
        "4710368477\n",
        "{'url': 'http://sfbay.craigslist.org/eby/apa/4710368477.html', 'app': 1000, 'id': '4710368477', 'desc': u'$1851 / 1br - 615ft\\xb2 - Available November 11th!! (fremont / union city / newark)'}"
       ]
      },
      {
       "output_type": "stream",
       "stream": "stdout",
       "text": [
        "\n",
        "4716213017\n",
        "{'url': 'http://sfbay.craigslist.org/eby/apa/4716213017.html', 'app': 1000, 'id': '4716213017', 'desc': u'$2095 / 3br - Fully Remodeled Fremont House. Available 3bed/2bath  (fremont / union city / newark)'}"
       ]
      },
      {
       "output_type": "stream",
       "stream": "stdout",
       "text": [
        "\n",
        "4715242777\n",
        "{'url': 'http://sfbay.craigslist.org/eby/apa/4715242777.html', 'app': 1000, 'id': '4715242777', 'desc': u'$3600 / 3br - 1840ft\\xb2 - Gorgeous Glenmoor Garden Home in Ct location.  Move in readt  (fremont / union city / newark)'}"
       ]
      },
      {
       "output_type": "stream",
       "stream": "stdout",
       "text": [
        "\n",
        "{'url': 'http://sfbay.craigslist.org/eby/apa/4715242777.html', 'app': 1000, 'id': '4715242777', 'desc': u'$3,600/mo'}\n",
        "4677306808\n",
        "{'url': 'http://sfbay.craigslist.org/eby/apa/4677306808.html', 'app': 1000, 'id': '4677306808', 'desc': u'$2900 / 3br - 1472ft\\xb2 - 3 bed 2 .5 bath townhome remodeled in Fremont  (fremont / union city / newark)'}"
       ]
      },
      {
       "output_type": "stream",
       "stream": "stdout",
       "text": [
        "\n",
        "4702435447\n",
        "{'url': 'http://sfbay.craigslist.org/eby/apa/4702435447.html', 'app': 1000, 'id': '4702435447', 'desc': u'$2600 / 3br - 1442ft\\xb2 - 3 Bd, 2 Bth single family home (fremont / union city / newark)'}"
       ]
      },
      {
       "output_type": "stream",
       "stream": "stdout",
       "text": [
        "\n",
        "4716872326\n",
        "{'url': 'http://sfbay.craigslist.org/eby/apa/4716872326.html', 'app': 1000, 'id': '4716872326', 'desc': u'$2600 / 3br - 1391ft\\xb2 - Beautifully renovated home near Warwick Elementary (fremont / union city / newark)'}"
       ]
      },
      {
       "output_type": "stream",
       "stream": "stdout",
       "text": [
        "\n",
        "4710317042\n",
        "{'url': 'http://sfbay.craigslist.org/eby/apa/4710317042.html', 'app': 1000, 'id': '4710317042', 'desc': u'$2300 / 2br - 890ft\\xb2 - *Carriage House* Gated Community in a Quiet and Friendly Neighborhood! (fremont / union city / newark)'}"
       ]
      },
      {
       "output_type": "stream",
       "stream": "stdout",
       "text": [
        "\n",
        "4715361058\n",
        "{'url': 'http://sfbay.craigslist.org/eby/apa/4715361058.html', 'app': 1000, 'id': '4715361058', 'desc': u'$2100 / 2br - 1195ft\\xb2 - House for Rent Union City - Open House (fremont / union city / newark)'}"
       ]
      },
      {
       "output_type": "stream",
       "stream": "stdout",
       "text": [
        "\n",
        "4710193155\n",
        "{'url': 'http://sfbay.craigslist.org/eby/apa/4710193155.html', 'app': 1000, 'id': '4710193155', 'desc': u'$2053 / 2br - 850ft\\xb2 - Top Floor 2 bed 1 Bath! The Place To Live! (fremont / union city / newark)'}"
       ]
      },
      {
       "output_type": "stream",
       "stream": "stdout",
       "text": [
        "\n",
        "4718206189\n",
        "{'url': 'http://sfbay.craigslist.org/eby/apa/4718206189.html', 'app': 1000, 'id': '4718206189', 'desc': u'$1698 / 1br - PRIVATE END UNIT, LARGE STORAGE, YOUR NEW HOME IS HERE! (fremont / union city / newark)'}"
       ]
      },
      {
       "output_type": "stream",
       "stream": "stdout",
       "text": [
        "\n",
        "4718181090\n",
        "{'url': 'http://sfbay.craigslist.org/eby/apa/4718181090.html', 'app': 1000, 'id': '4718181090', 'desc': u'$1599 / 1br - 750ft\\xb2 - Fremont Remodeled 1B/1B Cottage with Private Garage and Yard (fremont / union city / newark)'}"
       ]
      },
      {
       "output_type": "stream",
       "stream": "stdout",
       "text": [
        "\n",
        "4721110227\n",
        "{'url': 'http://sfbay.craigslist.org/eby/apa/4721110227.html', 'app': 1000, 'id': '4721110227', 'desc': u'$850 / 1br - 1100ft\\xb2 - 1 BR Rental Newark Townhome has Granite Counters & Indoor Laundry! (fremont / union city / newark)'}"
       ]
      },
      {
       "output_type": "stream",
       "stream": "stdout",
       "text": [
        "\n",
        "4720983215\n",
        "{'url': 'http://sfbay.craigslist.org/eby/apa/4720983215.html', 'app': 1000, 'id': '4720983215', 'desc': u'$1795 / 1br - 527ft\\xb2 - A MUST SEE! BEAUTIFUL ONE BEDROOM APARTMENT HOME! (fremont / union city / newark)'}"
       ]
      },
      {
       "output_type": "stream",
       "stream": "stdout",
       "text": [
        "\n",
        "4719409678\n",
        "{'url': 'http://sfbay.craigslist.org/eby/apa/4719409678.html', 'app': 1000, 'id': '4719409678', 'desc': u'$2100 / 2br - 895ft\\xb2 - \\u2661\\u2665\\u2661LOVE Your Home\\u2661\\u2665\\u2661 (fremont / union city / newark)'}"
       ]
      },
      {
       "output_type": "stream",
       "stream": "stdout",
       "text": [
        "\n",
        "4717545721\n",
        "{'url': 'http://sfbay.craigslist.org/eby/apa/4717545721.html', 'app': 1000, 'id': '4717545721', 'desc': u'$1350 / 1br - 672ft\\xb2 - OPEN HOUSE- Saturday, October 18, 2014 from 11am-2pm (fremont / union city / newark)'}"
       ]
      },
      {
       "output_type": "stream",
       "stream": "stdout",
       "text": [
        "\n",
        "4718402901\n",
        "{'url': 'http://sfbay.craigslist.org/eby/apa/4718402901.html', 'app': 1000, 'id': '4718402901', 'desc': u'$2775 / 4br - 1700ft\\xb2 - 4 br 2 ba Brookvale of Fremont (fremont / union city / newark)'}"
       ]
      },
      {
       "output_type": "stream",
       "stream": "stdout",
       "text": [
        "\n",
        "4721226891\n",
        "{'url': 'http://sfbay.craigslist.org/eby/apa/4721226891.html', 'app': 1000, 'id': '4721226891', 'desc': u'$1795 / 1br - 527ft\\xb2 - \\u25d8CLOSE AND CONVENIENT FOR YOUR LIFESTYLE\\u25d8 (fremont / union city / newark)'}"
       ]
      },
      {
       "output_type": "stream",
       "stream": "stdout",
       "text": [
        "\n",
        "4719187118\n",
        "{'url': 'http://sfbay.craigslist.org/eby/apa/4719187118.html', 'app': 1000, 'id': '4719187118', 'desc': u'$2665 / 2br - 982ft\\xb2 - Spectacular apartment home centrally located in Fremont! (fremont / union city / newark)'}"
       ]
      },
      {
       "output_type": "stream",
       "stream": "stdout",
       "text": [
        "\n",
        "4716239872\n",
        "{'url': 'http://sfbay.craigslist.org/eby/apa/4716239872.html', 'app': 1000, 'id': '4716239872', 'desc': u'$2580 / 4br - 2050ft\\xb2 - 4 Bed / 3 Bath Irvington 3 Story Townhome (fremont / union city / newark)'}"
       ]
      },
      {
       "output_type": "stream",
       "stream": "stdout",
       "text": [
        "\n",
        "4698128103\n",
        "{'url': 'http://sfbay.craigslist.org/eby/apa/4698128103.html', 'app': 1000, 'id': '4698128103', 'desc': u'$2315 / 2br - 862ft\\xb2 - 2 bedroom w/ garage & utilities included.. NOW ON SPECIAL!! (fremont / union city / newark)'}"
       ]
      },
      {
       "output_type": "stream",
       "stream": "stdout",
       "text": [
        "\n",
        "{'url': 'http://sfbay.craigslist.org/eby/apa/4698128103.html', 'app': 1000, 'id': '4698128103', 'desc': u'$2,315/mo'}\n",
        "4718888221\n",
        "{'url': 'http://sfbay.craigslist.org/eby/apa/4718888221.html', 'app': 1000, 'id': '4718888221', 'desc': u'$2800 / 4br - 1544ft\\xb2 - Remodeled 4 Bedroom House in Central Fremont (fremont / union city / newark)'}"
       ]
      },
      {
       "output_type": "stream",
       "stream": "stdout",
       "text": [
        "\n",
        "{'url': 'http://sfbay.craigslist.org/eby/apa/4718888221.html', 'app': 1000, 'id': '4718888221', 'desc': u'$2,800/mo'}\n",
        "4720704953\n",
        "{'url': 'http://sfbay.craigslist.org/eby/apa/4720704953.html', 'app': 1000, 'id': '4720704953', 'desc': u'$500 / 1br - Rooms for rent $500 (fremont / union city / newark)'}"
       ]
      },
      {
       "output_type": "stream",
       "stream": "stdout",
       "text": [
        "\n",
        "4709777629\n",
        "{'url': 'http://sfbay.craigslist.org/eby/apa/4709777629.html', 'app': 1000, 'id': '4709777629', 'desc': u'$2935 / 3br - 1607ft\\xb2 - 3BR/2.5BA Home For Rent in Fremont (Ardenwood) (fremont / union city / newark)'}"
       ]
      },
      {
       "output_type": "stream",
       "stream": "stdout",
       "text": [
        "\n",
        "{'url': 'http://sfbay.craigslist.org/eby/apa/4709777629.html', 'app': 1000, 'id': '4709777629', 'desc': u'$2,935/mo'}\n",
        "4711450323\n",
        "{'url': 'http://sfbay.craigslist.org/eby/apa/4711450323.html', 'app': 1000, 'id': '4711450323', 'desc': u'$2700 / 3br - 1200ft\\xb2 - Large 3 bedroom 2 bathroom Condo in Monte Vista Villas for rent (fremont / union city / newark)'}"
       ]
      },
      {
       "output_type": "stream",
       "stream": "stdout",
       "text": [
        "\n",
        "4720849050\n",
        "{'url': 'http://sfbay.craigslist.org/eby/apa/4720849050.html', 'app': 1000, 'id': '4720849050', 'desc': u'$2640 / 2br - 1146ft\\xb2 - Enjoy November in style! Pet friendly apartment available soon! (fremont / union city / newark)'}"
       ]
      },
      {
       "output_type": "stream",
       "stream": "stdout",
       "text": [
        "\n",
        "4713110947\n",
        "{'url': 'http://sfbay.craigslist.org/eby/apa/4713110947.html', 'app': 1000, 'id': '4713110947', 'desc': u'$1875 / 1br - 565ft\\xb2 - Enriched Lifestyle, Heated Pool, Sauna, Pets Welcome (fremont / union city / newark)'}"
       ]
      },
      {
       "output_type": "stream",
       "stream": "stdout",
       "text": [
        "\n",
        "4716116880\n",
        "{'url': 'http://sfbay.craigslist.org/eby/apa/4716116880.html', 'app': 1000, 'id': '4716116880', 'desc': u'$3200 Beautiful 3 BR / 2.5 BA House - with Full  Amenities (fremont / union city / newark)'}"
       ]
      },
      {
       "output_type": "stream",
       "stream": "stdout",
       "text": [
        "\n",
        "4720219856\n",
        "{'url': 'http://sfbay.craigslist.org/eby/apa/4720219856.html', 'app': 1000, 'id': '4720219856', 'desc': u'$1995 / 3br - 1126ft\\xb2 - 3BD/2BA SINGLE FAMILY HOME BEST VALUE @@@@@@@@@@@@@@@@@@ (fremont / union city / newark)'}"
       ]
      },
      {
       "output_type": "stream",
       "stream": "stdout",
       "text": [
        "\n",
        "4720711119\n",
        "{'url': 'http://sfbay.craigslist.org/eby/apa/4720711119.html', 'app': 1000, 'id': '4720711119', 'desc': u'$2449 / 1br - 877ft\\xb2 - Fabulous apartment, walking distance to Lake Elizabeth (fremont / union city / newark)'}"
       ]
      },
      {
       "output_type": "stream",
       "stream": "stdout",
       "text": [
        "\n",
        "4715594497\n",
        "{'url': 'http://sfbay.craigslist.org/eby/apa/4715594497.html', 'app': 1000, 'id': '4715594497', 'desc': u'$3000 / 3br - 1254ft\\xb2 -  3 bedroom 2 bath 2 car BRAND  NEW Remodel (fremont / union city / newark)'}"
       ]
      },
      {
       "output_type": "stream",
       "stream": "stdout",
       "text": [
        "\n",
        "4720522812\n",
        "{'url': 'http://sfbay.craigslist.org/eby/apa/4720522812.html', 'app': 1000, 'id': '4720522812', 'desc': u'$1875 / 1br - 565ft\\xb2 - Now Available, Responsive Maintenance, Spacious Floorplan (fremont / union city / newark)'}"
       ]
      },
      {
       "output_type": "stream",
       "stream": "stdout",
       "text": [
        "\n",
        "4712987709\n",
        "{'url': 'http://sfbay.craigslist.org/eby/apa/4712987709.html', 'app': 1000, 'id': '4712987709', 'desc': u'$1698 / 1br - LUSH GARDENS, POOL, SPA, FITNESS CENTER AND BRIGHT ONE BR (fremont / union city / newark)'}"
       ]
      },
      {
       "output_type": "stream",
       "stream": "stdout",
       "text": [
        "\n",
        "4715804870\n",
        "{'url': 'http://sfbay.craigslist.org/eby/apa/4715804870.html', 'app': 1000, 'id': '4715804870', 'desc': u'$2600 / 4br - 1544ft\\xb2 - Single-Family Home In Nice Neighborhood (fremont / union city / newark)'}"
       ]
      },
      {
       "output_type": "stream",
       "stream": "stdout",
       "text": [
        "\n",
        "4719697928\n",
        "{'url': 'http://sfbay.craigslist.org/eby/apa/4719697928.html', 'app': 1000, 'id': '4719697928', 'desc': u'$2100 / 2br - 895ft\\xb2 - ~~~**~~Great Location~~**~~~ (fremont / union city / newark)'}"
       ]
      },
      {
       "output_type": "stream",
       "stream": "stdout",
       "text": [
        "\n",
        "4719764104\n",
        "{'url': 'http://sfbay.craigslist.org/eby/apa/4719764104.html', 'app': 1000, 'id': '4719764104', 'desc': u'$1850 / 3br - 1160ft\\xb2 - \\u65b0\\u88c5\\u4fee Remodeled  Union City TownHouse $1,850 (fremont / union city / newark)'}"
       ]
      },
      {
       "output_type": "stream",
       "stream": "stdout",
       "text": [
        "\n",
        "4721291281\n",
        "{'url': 'http://sfbay.craigslist.org/eby/apa/4721291281.html', 'app': 1000, 'id': '4721291281', 'desc': u'$3200 / 3br - 1785ft\\xb2 - Mission San Jose (mission sanjose) Home for Rent (fremont / union city / newark)'}"
       ]
      },
      {
       "output_type": "stream",
       "stream": "stdout",
       "text": [
        "\n",
        "4712643131\n",
        "{'url': 'http://sfbay.craigslist.org/eby/apa/4712643131.html', 'app': 1000, 'id': '4712643131', 'desc': u'$1698 / 1br - PARK-LIKE LANDSCAPING, POOL, SPA, FITNESS CENTER (fremont / union city / newark)'}"
       ]
      },
      {
       "output_type": "stream",
       "stream": "stdout",
       "text": [
        "\n",
        "4720998596\n",
        "{'url': 'http://sfbay.craigslist.org/eby/apa/4720998596.html', 'app': 1000, 'id': '4720998596', 'desc': u'$2630 / 2br - 958ft\\xb2 - Pet Friendly upgrade 2 bed on top floor with fire place (fremont / union city / newark)'}"
       ]
      },
      {
       "output_type": "stream",
       "stream": "stdout",
       "text": [
        "\n",
        "4715900600\n",
        "{'url': 'http://sfbay.craigslist.org/eby/apa/4715900600.html', 'app': 1000, 'id': '4715900600', 'desc': u'$2100 / 2br - 895ft\\xb2 - \\u25ce~\\u25ceLook No Further!!\\u25ce~\\u25ce (fremont / union city / newark)'}"
       ]
      },
      {
       "output_type": "stream",
       "stream": "stdout",
       "text": [
        "\n",
        "4717477696\n",
        "{'url': 'http://sfbay.craigslist.org/eby/apa/4717477696.html', 'app': 1000, 'id': '4717477696', 'desc': u'$1950 / 1br - 710ft\\xb2 - Enriched Lifestyle, Near Shops and Dining, Community Clubhouse (fremont / union city / newark)'}"
       ]
      },
      {
       "output_type": "stream",
       "stream": "stdout",
       "text": [
        "\n",
        "4720504489\n",
        "{'url': 'http://sfbay.craigslist.org/eby/apa/4720504489.html', 'app': 1000, 'id': '4720504489', 'desc': u'$2139 / 2br - 980ft\\xb2 - A Bright and Sunny Day...@Waterstone Fremont (fremont / union city / newark)'}"
       ]
      },
      {
       "output_type": "stream",
       "stream": "stdout",
       "text": [
        "\n",
        "4719670894\n",
        "{'url': 'http://sfbay.craigslist.org/eby/apa/4719670894.html', 'app': 1000, 'id': '4719670894', 'desc': u'$2066 / 1br - 738ft\\xb2 - Great Location! Great Community! Great Apartment! (fremont / union city / newark)'}"
       ]
      },
      {
       "output_type": "stream",
       "stream": "stdout",
       "text": [
        "\n",
        "4720455674\n",
        "{'url': 'http://sfbay.craigslist.org/eby/apa/4720455674.html', 'app': 1000, 'id': '4720455674', 'desc': u'$1830 / 1br - 716ft\\xb2 - Top floor 1 bedroom apt available now! Walking distance to UC BART! (fremont / union city / newark)'}"
       ]
      },
      {
       "output_type": "stream",
       "stream": "stdout",
       "text": [
        "\n",
        "4719027449\n",
        "{'url': 'http://sfbay.craigslist.org/eby/apa/4719027449.html', 'app': 1000, 'id': '4719027449', 'desc': u'$1818 / 1br - 760ft\\xb2 - A Great Weekend To Find Your New Apartment Home..Waterstone@Fremont (fremont / union city / newark)'}"
       ]
      },
      {
       "output_type": "stream",
       "stream": "stdout",
       "text": [
        "\n",
        "4717478172\n",
        "{'url': 'http://sfbay.craigslist.org/eby/apa/4717478172.html', 'app': 1000, 'id': '4717478172', 'desc': u'$2395 / 2br - 1004ft\\xb2 - \\u2666A CATCH! COME TOUR TODAY \\u2666 (fremont / union city / newark)'}"
       ]
      },
      {
       "output_type": "stream",
       "stream": "stdout",
       "text": [
        "\n",
        "4712488865\n",
        "{'url': 'http://sfbay.craigslist.org/eby/apa/4712488865.html', 'app': 1000, 'id': '4712488865', 'desc': u'$1869 / 1br - 769ft\\xb2 - Large 1x1/Ideal Downtown Hayward Location/Full Size Washer/Dryer!!! (fremont / union city / newark)'}"
       ]
      },
      {
       "output_type": "stream",
       "stream": "stdout",
       "text": [
        "\n",
        "4718139132\n",
        "{'url': 'http://sfbay.craigslist.org/eby/apa/4718139132.html', 'app': 1000, 'id': '4718139132', 'desc': u'$2295 / 2br - 980ft\\xb2 - \\u2666WE HAVE WONDERFUL APT HOMES FOR RENT CLOSE TO EVERYTHING/FREMONT HUB\\u03d7 (fremont / union city / newark)'}"
       ]
      },
      {
       "output_type": "stream",
       "stream": "stdout",
       "text": [
        "\n",
        "4719986309\n",
        "{'url': 'http://sfbay.craigslist.org/eby/apa/4719986309.html', 'app': 1000, 'id': '4719986309', 'desc': u'$2575 / 3br - Irvington House for Rent (fremont / union city / newark)'}"
       ]
      },
      {
       "output_type": "stream",
       "stream": "stdout",
       "text": [
        "\n",
        "4720839175\n",
        "{'url': 'http://sfbay.craigslist.org/eby/apa/4720839175.html', 'app': 1000, 'id': '4720839175', 'desc': u\"$2350 / 870ft\\xb2 - Entertainer's Dream Patio with this 2 Bed 2 Bath! (fremont / union city / newark)\"}"
       ]
      },
      {
       "output_type": "stream",
       "stream": "stdout",
       "text": [
        "\n",
        "4712902699\n",
        "{'url': 'http://sfbay.craigslist.org/eby/apa/4712902699.html', 'app': 1000, 'id': '4712902699', 'desc': u'$2000 / 1br - One bedroom Luxury apt sublet  (fremont / union city / newark)'}"
       ]
      },
      {
       "output_type": "stream",
       "stream": "stdout",
       "text": [
        "\n",
        "4713236409\n",
        "{'url': 'http://sfbay.craigslist.org/eby/apa/4713236409.html', 'app': 1000, 'id': '4713236409', 'desc': u'$2400 / 2br - 1083ft\\xb2 - Large Two Story Condo Available! (fremont / union city / newark)'}"
       ]
      },
      {
       "output_type": "stream",
       "stream": "stdout",
       "text": [
        "\n",
        "{'url': 'http://sfbay.craigslist.org/eby/apa/4713236409.html', 'app': 1000, 'id': '4713236409', 'desc': u'$2,400/mo'}\n",
        "4710227618\n",
        "{'url': 'http://sfbay.craigslist.org/eby/apa/4710227618.html', 'app': 1000, 'id': '4710227618', 'desc': u'$3100 / 4br - 2030ft\\xb2 - $3100 / 4BR-3BA - 2030ft\\xb2 - Bright Ardenwood SFH Open House 2-4pm10/18 (fremont / union city / newark)'}"
       ]
      },
      {
       "output_type": "stream",
       "stream": "stdout",
       "text": [
        "\n",
        "4714754613\n",
        "{'url': 'http://sfbay.craigslist.org/eby/apa/4714754613.html', 'app': 1000, 'id': '4714754613', 'desc': u'$1850 / 2br - 1054ft\\xb2 - Union City (fremont / union city / newark)'}"
       ]
      },
      {
       "output_type": "stream",
       "stream": "stdout",
       "text": [
        "\n",
        "4712816448\n",
        "{'url': 'http://sfbay.craigslist.org/eby/apa/4712816448.html', 'app': 1000, 'id': '4712816448', 'desc': u'$2753 / 3br - 1320ft\\xb2 - Three-Bedroom, Two-Bathroom Apartment with W/D (fremont / union city / newark)'}"
       ]
      },
      {
       "output_type": "stream",
       "stream": "stdout",
       "text": [
        "\n",
        "4715095868\n",
        "{'url': 'http://sfbay.craigslist.org/eby/apa/4715095868.html', 'app': 1000, 'id': '4715095868', 'desc': u'$1200 / 1br - One Bedroom Apartment in Historic Niles District of Fremont (fremont / union city / newark)'}"
       ]
      },
      {
       "output_type": "stream",
       "stream": "stdout",
       "text": [
        "\n",
        "4667100523\n",
        "{'url': 'http://sfbay.craigslist.org/eby/apa/4667100523.html', 'app': 1000, 'id': '4667100523', 'desc': u'$2600 / 4br - 1321ft\\xb2 - 4 beds/2 baths near Stevenson /Sundale/880 walking distance to schools (fremont / union city / newark)'}"
       ]
      },
      {
       "output_type": "stream",
       "stream": "stdout",
       "text": [
        "\n",
        "4712711557\n",
        "{'url': 'http://sfbay.craigslist.org/eby/apa/4712711557.html', 'app': 1000, 'id': '4712711557', 'desc': u'$3200 / 3br - 1723ft\\xb2 - 3 BRs, 2 BAs SFH in Fremont (94539) for Rent (fremont / union city / newark)'}"
       ]
      },
      {
       "output_type": "stream",
       "stream": "stdout",
       "text": [
        "\n",
        "4720477585\n",
        "{'url': 'http://sfbay.craigslist.org/eby/apa/4720477585.html', 'app': 1000, 'id': '4720477585', 'desc': u'$1931 / 1br - 665ft\\xb2 - Spacious One Bedroom on 2nd floor (fremont / union city / newark)'}"
       ]
      },
      {
       "output_type": "stream",
       "stream": "stdout",
       "text": [
        "\n",
        "4705567196\n",
        "{'url': 'http://sfbay.craigslist.org/eby/apa/4705567196.html', 'app': 1000, 'id': '4705567196', 'desc': u'$2900 / 3br - 1472ft\\xb2 - Great 3 bed 2.5 bath townhouse remodeled in Fremont  (fremont / union city / newark)'}"
       ]
      },
      {
       "output_type": "stream",
       "stream": "stdout",
       "text": [
        "\n",
        "4716184273\n",
        "{'url': 'http://sfbay.craigslist.org/eby/apa/4716184273.html', 'app': 1000, 'id': '4716184273', 'desc': u'$2000 / 2br - 944ft\\xb2 - 2BR/2BA Condo For Rent in Fremont (fremont / union city / newark)'}"
       ]
      },
      {
       "output_type": "stream",
       "stream": "stdout",
       "text": [
        "\n",
        "{'url': 'http://sfbay.craigslist.org/eby/apa/4716184273.html', 'app': 1000, 'id': '4716184273', 'desc': u'$2,000/mo'}\n",
        "4698042573\n",
        "{'url': 'http://sfbay.craigslist.org/eby/apa/4698042573.html', 'app': 1000, 'id': '4698042573', 'desc': u'$2515 / 2br - 961ft\\xb2 - Pets welcome at Ardenwood Forest.. 2 bedrooms available!! (fremont / union city / newark)'}"
       ]
      },
      {
       "output_type": "stream",
       "stream": "stdout",
       "text": [
        "\n",
        "{'url': 'http://sfbay.craigslist.org/eby/apa/4698042573.html', 'app': 1000, 'id': '4698042573', 'desc': u'$2,515/mo'}\n",
        "4711561337\n",
        "{'url': 'http://sfbay.craigslist.org/eby/apa/4711561337.html', 'app': 1000, 'id': '4711561337', 'desc': u'$1698 / 1br - OPEN FLOOR PLAN WITH A PRIVATE PATIO & GYM (fremont / union city / newark)'}"
       ]
      },
      {
       "output_type": "stream",
       "stream": "stdout",
       "text": [
        "\n",
        "4717573618\n",
        "{'url': 'http://sfbay.craigslist.org/eby/apa/4717573618.html', 'app': 1000, 'id': '4717573618', 'desc': u'$2495 / 3br - 1120ft\\xb2 - 3Bedroom 2Bath house Available Now/ Great Location (Fremont) (fremont / union city / newark)'}"
       ]
      },
      {
       "output_type": "stream",
       "stream": "stdout",
       "text": [
        "\n",
        "4714577580\n",
        "{'url': 'http://sfbay.craigslist.org/eby/apa/4714577580.html', 'app': 1000, 'id': '4714577580', 'desc': u'$1875 / 1br - 825ft\\xb2 - Huge 1 bed w/beautiful backyard near BART (fremont / union city / newark)'}"
       ]
      },
      {
       "output_type": "stream",
       "stream": "stdout",
       "text": [
        "\n",
        "4711769872\n",
        "{'url': 'http://sfbay.craigslist.org/eby/apa/4711769872.html', 'app': 1000, 'id': '4711769872', 'desc': u'$650 / 1br - Looking for roommates right across fremont bart station (fremont / union city / newark)'}"
       ]
      },
      {
       "output_type": "stream",
       "stream": "stdout",
       "text": [
        "\n",
        "4720485015\n",
        "{'url': 'http://sfbay.craigslist.org/eby/apa/4720485015.html', 'app': 1000, 'id': '4720485015', 'desc': u'$2200 / 1br - 650ft\\xb2 - Charming Two bedroom With Luxurious Amenities! In-home Washer & Dryer! (fremont / union city / newark)'}"
       ]
      },
      {
       "output_type": "stream",
       "stream": "stdout",
       "text": [
        "\n",
        "4719177234\n",
        "{'url': 'http://sfbay.craigslist.org/eby/apa/4719177234.html', 'app': 1000, 'id': '4719177234', 'desc': u'$5100 / 5br - LARGE FREMONT EXECUTIVE HOME! TOP MISSION SCHOOLS! (fremont / union city / newark)'}"
       ]
      },
      {
       "output_type": "stream",
       "stream": "stdout",
       "text": [
        "\n",
        "4719736775\n",
        "{'url': 'http://sfbay.craigslist.org/eby/apa/4719736775.html', 'app': 1000, 'id': '4719736775', 'desc': u'$1698 / 1br - AMAZING AMENITIES IN PARK-LIKE COMMUNITY (fremont / union city / newark)'}"
       ]
      },
      {
       "output_type": "stream",
       "stream": "stdout",
       "text": [
        "\n",
        "4717426165\n",
        "{'url': 'http://sfbay.craigslist.org/eby/apa/4717426165.html', 'app': 1000, 'id': '4717426165', 'desc': u'$2495 / 2br - 1106ft\\xb2 - Commuting is Easy when You Live at The Presidio! (fremont / union city / newark)'}"
       ]
      },
      {
       "output_type": "stream",
       "stream": "stdout",
       "text": [
        "\n",
        "4721045486\n",
        "{'url': 'http://sfbay.craigslist.org/eby/apa/4721045486.html', 'app': 1000, 'id': '4721045486', 'desc': u'$2385 / 2br - 1096ft\\xb2 - Extraordinary top floor 2 BD, 2 BA, available soon. Near BART!!! (fremont / union city / newark)'}"
       ]
      },
      {
       "output_type": "stream",
       "stream": "stdout",
       "text": [
        "\n",
        "4716200383\n",
        "{'url': 'http://sfbay.craigslist.org/eby/apa/4716200383.html', 'app': 1000, 'id': '4716200383', 'desc': u'$2545 / 2br - 1106ft\\xb2 - Conveniently Located infront of Bart (fremont / union city / newark)'}"
       ]
      },
      {
       "output_type": "stream",
       "stream": "stdout",
       "text": [
        "\n",
        "{'url': 'http://sfbay.craigslist.org/eby/apa/4716200383.html', 'app': 1000, 'id': '4716200383', 'desc': u'$2,545/mo'}\n",
        "4720487019\n",
        "{'url': 'http://sfbay.craigslist.org/eby/apa/4720487019.html', 'app': 1000, 'id': '4720487019', 'desc': u'$2600 / 3br - 1126ft\\xb2 - Lovely Home in Irvington Attendance Area (fremont / union city / newark)'}"
       ]
      },
      {
       "output_type": "stream",
       "stream": "stdout",
       "text": [
        "\n",
        "4683812582\n",
        "{'url': 'http://sfbay.craigslist.org/eby/apa/4683812582.html', 'app': 1000, 'id': '4683812582', 'desc': u'$3100 / 3br - 1780ft\\xb2 - MISSION SAN JOSE ANTELOPE HILLS TOWNHOUSE (fremont / union city / newark)'}"
       ]
      },
      {
       "output_type": "stream",
       "stream": "stdout",
       "text": [
        "\n",
        "4717962752\n",
        "{'url': 'http://sfbay.craigslist.org/eby/apa/4717962752.html', 'app': 1000, 'id': '4717962752', 'desc': u'$2784 / 2br - 1184ft\\xb2 - Luxury apartment community w/the comfort & convenience of city life! (fremont / union city / newark)'}"
       ]
      },
      {
       "output_type": "stream",
       "stream": "stdout",
       "text": [
        "\n",
        "4716083353\n",
        "{'url': 'http://sfbay.craigslist.org/eby/apa/4716083353.html', 'app': 1000, 'id': '4716083353', 'desc': u'$2009 / 2br - 750ft\\xb2 - Looking To Settle Into Your New HOme Before Winter...Click Here... (fremont / union city / newark)'}"
       ]
      },
      {
       "output_type": "stream",
       "stream": "stdout",
       "text": [
        "\n",
        "4719218830\n",
        "{'url': 'http://sfbay.craigslist.org/eby/apa/4719218830.html', 'app': 1000, 'id': '4719218830', 'desc': u'$2175 / 2br - BRIGHT AND SUNNY 2 BEDROOM IN PRIME FREMONT LOCATION (fremont / union city / newark)'}"
       ]
      },
      {
       "output_type": "stream",
       "stream": "stdout",
       "text": [
        "\n",
        "4720713509\n",
        "{'url': 'http://sfbay.craigslist.org/eby/apa/4720713509.html', 'app': 1000, 'id': '4720713509', 'desc': u'$2600 / 3br - 1320ft\\xb2 - Fully Remodeled 3BR & 2 Bath home  (fremont / union city / newark)'}"
       ]
      },
      {
       "output_type": "stream",
       "stream": "stdout",
       "text": [
        "\n",
        "4711547661\n",
        "{'url': 'http://sfbay.craigslist.org/eby/apa/4711547661.html', 'app': 1000, 'id': '4711547661', 'desc': u'$2850 / 3br - 1877ft\\xb2 - Great 3BR/2.5 bath home for rent in Union city (fremont / union city / newark)'}"
       ]
      },
      {
       "output_type": "stream",
       "stream": "stdout",
       "text": [
        "\n",
        "4717544934\n",
        "{'url': 'http://sfbay.craigslist.org/eby/apa/4717544934.html', 'app': 1000, 'id': '4717544934', 'desc': u'$2100 / 2br - 895ft\\xb2 - \\u2248\\u25ce\\u2248Come Home This Summer!\\u2248\\u25ce\\u2248 (fremont / union city / newark)'}"
       ]
      },
      {
       "output_type": "stream",
       "stream": "stdout",
       "text": [
        "\n",
        "4719991852\n",
        "{'url': 'http://sfbay.craigslist.org/eby/apa/4719991852.html', 'app': 1000, 'id': '4719991852', 'desc': u'$2200 / 3br - 1100ft\\xb2 - $2200 1100sqft - 3BR/2BA HOUSE in UNION CITY (fremont / union city / newark)'}"
       ]
      },
      {
       "output_type": "stream",
       "stream": "stdout",
       "text": [
        "\n",
        "4711946435\n",
        "{'url': 'http://sfbay.craigslist.org/eby/apa/4711946435.html', 'app': 1000, 'id': '4711946435', 'desc': u'$2100 / 3br - 1385ft\\xb2 - 3 Bed room 1 Bath Apartment. (fremont / union city / newark)'}"
       ]
      },
      {
       "output_type": "stream",
       "stream": "stdout",
       "text": [
        "\n",
        "4721115450\n",
        "{'url': 'http://sfbay.craigslist.org/eby/apa/4721115450.html', 'app': 1000, 'id': '4721115450', 'desc': u'$2454 / 3br - 1063ft\\xb2 - Pet Friendly Community in a Park-Like Setting! (fremont / union city / newark)'}"
       ]
      },
      {
       "output_type": "stream",
       "stream": "stdout",
       "text": [
        "\n",
        "4717905618\n",
        "{'url': 'http://sfbay.craigslist.org/eby/apa/4717905618.html', 'app': 1000, 'id': '4717905618', 'desc': u'$1750 / 1br - 875ft\\xb2 - SPACIOUS 1 BED ROOM in Excellent Community (fremont / union city / newark)'}"
       ]
      },
      {
       "output_type": "stream",
       "stream": "stdout",
       "text": [
        "\n",
        "4719280242\n",
        "{'url': 'http://sfbay.craigslist.org/eby/apa/4719280242.html', 'app': 1000, 'id': '4719280242', 'desc': u'$2199 / 2br - 870ft\\xb2 - Fully-equipped fitness center on-site! (fremont / union city / newark)'}"
       ]
      },
      {
       "output_type": "stream",
       "stream": "stdout",
       "text": [
        "\n",
        "4699576897\n",
        "{'url': 'http://sfbay.craigslist.org/eby/apa/4699576897.html', 'app': 1000, 'id': '4699576897', 'desc': u'$2900 / 3br - 1472ft\\xb2 - 3 bed 2 .5 bath townhome remodeled in Fremont (fremont / union city / newark)'}"
       ]
      },
      {
       "output_type": "stream",
       "stream": "stdout",
       "text": [
        "\n",
        "4718925342\n",
        "{'url': 'http://sfbay.craigslist.org/eby/apa/4718925342.html', 'app': 1000, 'id': '4718925342', 'desc': u'$1995 / 2br - 830ft\\xb2 - Corner Unit Apartment Home! Convenient Location! Great Price! (fremont / union city / newark)'}"
       ]
      },
      {
       "output_type": "stream",
       "stream": "stdout",
       "text": [
        "\n",
        "4719445888\n",
        "{'url': 'http://sfbay.craigslist.org/eby/apa/4719445888.html', 'app': 1000, 'id': '4719445888', 'desc': u'$1565 / 1br - 660ft\\xb2 - Move In Ready! It Could Be Yours... (fremont / union city / newark)'}"
       ]
      },
      {
       "output_type": "stream",
       "stream": "stdout",
       "text": [
        "\n",
        "4720521929\n",
        "{'url': 'http://sfbay.craigslist.org/eby/apa/4720521929.html', 'app': 1000, 'id': '4720521929', 'desc': u'$1900 / 1br - 737ft\\xb2 - *Carriage House* Gated Community in a Quiet and Friendly Neighborhood! (fremont / union city / newark)'}"
       ]
      },
      {
       "output_type": "stream",
       "stream": "stdout",
       "text": [
        "\n",
        "4716469194\n",
        "{'url': 'http://sfbay.craigslist.org/eby/apa/4716469194.html', 'app': 1000, 'id': '4716469194', 'desc': u'$4700 / 5br - 3200ft\\xb2 - Beautiful Furnished 5BD/4Bath in Fremont  (fremont / union city / newark)'}"
       ]
      },
      {
       "output_type": "stream",
       "stream": "stdout",
       "text": [
        "\n",
        "4719629114\n",
        "{'url': 'http://sfbay.craigslist.org/eby/apa/4719629114.html', 'app': 1000, 'id': '4719629114', 'desc': u'$6800 / 5br - 4210ft\\xb2 - Simply Wonderful! (fremont / union city / newark)'}"
       ]
      },
      {
       "output_type": "stream",
       "stream": "stdout",
       "text": [
        "\n",
        "4708634531\n",
        "{'url': 'http://sfbay.craigslist.org/eby/apa/4708634531.html', 'app': 1000, 'id': '4708634531', 'desc': u'$3000 / 5br - 2240ft\\xb2 - Spacious 5 Bedrooms in Niles, Fremont  (fremont / union city / newark)'}"
       ]
      },
      {
       "output_type": "stream",
       "stream": "stdout",
       "text": [
        "\n",
        "4708689446\n",
        "{'url': 'http://sfbay.craigslist.org/eby/apa/4708689446.html', 'app': 1000, 'id': '4708689446', 'desc': u'$2950 / 3br - 1186ft\\xb2 - 3 Bedroom Home Near Lakeshore Park (fremont / union city / newark)'}"
       ]
      },
      {
       "output_type": "stream",
       "stream": "stdout",
       "text": [
        "\n",
        "4721115804\n",
        "{'url': 'http://sfbay.craigslist.org/eby/apa/4721115804.html', 'app': 1000, 'id': '4721115804', 'desc': u'$1960 / 1br - 640ft\\xb2 - Views of Alameda Creek and Rolling Hills 1 Bed/1 Bath! (fremont / union city / newark)'}"
       ]
      },
      {
       "output_type": "stream",
       "stream": "stdout",
       "text": [
        "\n",
        "4717430532\n",
        "{'url': 'http://sfbay.craigslist.org/eby/apa/4717430532.html', 'app': 1000, 'id': '4717430532', 'desc': u\"$2095 / 1br - 734ft\\xb2 - Moving Can Be Hard. We'll Make it Easy at The Presidio! (fremont / union city / newark)\"}"
       ]
      },
      {
       "output_type": "stream",
       "stream": "stdout",
       "text": [
        "\n",
        "4711529037\n",
        "{'url': 'http://sfbay.craigslist.org/eby/apa/4711529037.html', 'app': 1000, 'id': '4711529037', 'desc': u'$2295 / 2br - 980ft\\xb2 - \\u2660GREAT PRICE, LOCATION, AND QUIET\\u2660 (fremont / union city / newark)'}"
       ]
      },
      {
       "output_type": "stream",
       "stream": "stdout",
       "text": [
        "\n",
        "4688449232\n",
        "{'url': 'http://sfbay.craigslist.org/eby/apa/4688449232.html', 'app': 1000, 'id': '4688449232', 'desc': u'$1848 / 1br - 603ft\\xb2 - Apartment w/ washer & dryer in unit. Fitness center also! (fremont / union city / newark)'}"
       ]
      },
      {
       "output_type": "stream",
       "stream": "stdout",
       "text": [
        "\n",
        "4720953403\n",
        "{'url': 'http://sfbay.craigslist.org/eby/apa/4720953403.html', 'app': 1000, 'id': '4720953403', 'desc': u'$2375 / 2br - 1065ft\\xb2 - Stunning 2 bedrooms available now! Near BART! Dont Miss Out! (fremont / union city / newark)'}"
       ]
      },
      {
       "output_type": "stream",
       "stream": "stdout",
       "text": [
        "\n",
        "4701722996\n",
        "{'url': 'http://sfbay.craigslist.org/eby/apa/4701722996.html', 'app': 1000, 'id': '4701722996', 'desc': u'$2449 / 3br - 1248ft\\xb2 - Beautiful home in Union City to rent $2449/month (fremont / union city / newark)'}"
       ]
      },
      {
       "output_type": "stream",
       "stream": "stdout",
       "text": [
        "\n",
        "4708241212\n",
        "{'url': 'http://sfbay.craigslist.org/eby/apa/4708241212.html', 'app': 1000, 'id': '4708241212', 'desc': u'$2400 / 2br - 1083ft\\xb2 - Large Two Bedroom Condo! (fremont / union city / newark)'}"
       ]
      },
      {
       "output_type": "stream",
       "stream": "stdout",
       "text": [
        "\n",
        "{'url': 'http://sfbay.craigslist.org/eby/apa/4708241212.html', 'app': 1000, 'id': '4708241212', 'desc': u'$2,400/mo'}\n",
        "4714593113\n",
        "{'url': 'http://sfbay.craigslist.org/eby/apa/4714593113.html', 'app': 1000, 'id': '4714593113', 'desc': u'$2900 / 3br - 1472ft\\xb2 - Great 3 bed 2.5 bath townhome remodeled in Fremont  (fremont / union city / newark)'}"
       ]
      },
      {
       "output_type": "stream",
       "stream": "stdout",
       "text": [
        "\n",
        "4718897884\n",
        "{'url': 'http://sfbay.craigslist.org/eby/apa/4718897884.html', 'app': 1000, 'id': '4718897884', 'desc': u'$2600 / 4br - 1704ft\\xb2 - Wonderful Cabrillo Area Home! (fremont / union city / newark)'}"
       ]
      },
      {
       "output_type": "stream",
       "stream": "stdout",
       "text": [
        "\n",
        "{'url': 'http://sfbay.craigslist.org/eby/apa/4718897884.html', 'app': 1000, 'id': '4718897884', 'desc': u'$2,600/mo'}\n",
        "4717828930\n",
        "{'url': 'http://sfbay.craigslist.org/eby/apa/4717828930.html', 'app': 1000, 'id': '4717828930', 'desc': u'$2655 / 2br - 982ft\\xb2 - Looking for quick access to BART and Shopping? Look no further! (fremont / union city / newark)'}"
       ]
      },
      {
       "output_type": "stream",
       "stream": "stdout",
       "text": [
        "\n",
        "4716356165\n",
        "{'url': 'http://sfbay.craigslist.org/eby/apa/4716356165.html', 'app': 1000, 'id': '4716356165', 'desc': u'$2425 / 2br - 1010ft\\xb2 - Now Available, Near Public Parks, Parkmont Schools (fremont / union city / newark)'}"
       ]
      },
      {
       "output_type": "stream",
       "stream": "stdout",
       "text": [
        "\n",
        "4708307695\n",
        "{'url': 'http://sfbay.craigslist.org/eby/apa/4708307695.html', 'app': 1000, 'id': '4708307695', 'desc': u'$2900 / 3br - 1472ft\\xb2 - 3 bed 2 .5 bath townhome remodeled in Fremont  (fremont / union city / newark)'}"
       ]
      },
      {
       "output_type": "stream",
       "stream": "stdout",
       "text": [
        "\n",
        "4712640948\n",
        "{'url': 'http://sfbay.craigslist.org/eby/apa/4712640948.html', 'app': 1000, 'id': '4712640948', 'desc': u'$3350 / 4br - 1750ft\\xb2 - $3350 (Free till 10/31)  4br 1750ft\\xb2 - Fremont Mission SJ schools 94539  (fremont / union city / newark)'}"
       ]
      },
      {
       "output_type": "stream",
       "stream": "stdout",
       "text": [
        "\n",
        "4712777820\n",
        "{'url': 'http://sfbay.craigslist.org/eby/apa/4712777820.html', 'app': 1000, 'id': '4712777820', 'desc': u'$2085 / 3br - 3 bed 2 bath Duplex (fremont / union city / newark)'}"
       ]
      },
      {
       "output_type": "stream",
       "stream": "stdout",
       "text": [
        "\n",
        "4720878750\n",
        "{'url': 'http://sfbay.craigslist.org/eby/apa/4720878750.html', 'app': 1000, 'id': '4720878750', 'desc': u'$2295 / 2br - 1004ft\\xb2 - \\u25d8CLOSE AND CONVENIENT FOR YOUR LIFESTYLE\\u25d8 (fremont / union city / newark)'}"
       ]
      },
      {
       "output_type": "stream",
       "stream": "stdout",
       "text": [
        "\n",
        "4712729495\n",
        "{'url': 'http://sfbay.craigslist.org/eby/apa/4712729495.html', 'app': 1000, 'id': '4712729495', 'desc': u'$2350 / 2br - 900ft\\xb2 - 2br/2ba Beautifully Updated Newark Condo  (fremont / union city / newark)'}"
       ]
      },
      {
       "output_type": "stream",
       "stream": "stdout",
       "text": [
        "\n",
        "4716803189\n",
        "{'url': 'http://sfbay.craigslist.org/eby/apa/4716803189.html', 'app': 1000, 'id': '4716803189', 'desc': u'$1563 / 1br - 600ft\\xb2 - One Beadroom Apartment available from Novermber 4 2014 for $1563.00 (fremont / union city / newark)'}"
       ]
      },
      {
       "output_type": "stream",
       "stream": "stdout",
       "text": [
        "\n",
        "4716471995\n",
        "{'url': 'http://sfbay.craigslist.org/eby/apa/4716471995.html', 'app': 1000, 'id': '4716471995', 'desc': u\"$2125 / 2br - DON'T LET THIS ONE GET AWAY! SUNNY, QUIET, SPACIOUS & BEAUTIFUL HOME! (fremont / union city / newark)\"}"
       ]
      },
      {
       "output_type": "stream",
       "stream": "stdout",
       "text": [
        "\n",
        "4718837507\n",
        "{'url': 'http://sfbay.craigslist.org/eby/apa/4718837507.html', 'app': 1000, 'id': '4718837507', 'desc': u'$2980 / 3br - 1425ft\\xb2 - Beautiful 3Bdrm Townhouse in Fremont Irvington District (fremont / union city / newark)'}"
       ]
      },
      {
       "output_type": "stream",
       "stream": "stdout",
       "text": [
        "\n",
        "4715613615\n",
        "{'url': 'http://sfbay.craigslist.org/eby/apa/4715613615.html', 'app': 1000, 'id': '4715613615', 'desc': u'$3100 / 3br - 1500ft\\xb2 - 3BD/2Baths Single Family Home - Schedule Your Appointment (fremont / union city / newark)'}"
       ]
      },
      {
       "output_type": "stream",
       "stream": "stdout",
       "text": [
        "\n",
        "{'url': 'http://sfbay.craigslist.org/eby/apa/4715613615.html', 'app': 1000, 'id': '4715613615', 'desc': u'$3,100/mo'}\n",
        "4719744543\n",
        "{'url': 'http://sfbay.craigslist.org/eby/apa/4719744543.html', 'app': 1000, 'id': '4719744543', 'desc': u'$2395 / 2br - 1004ft\\xb2 - \\u263b\\u2665THE MOST LIKED PLACE TO LIVE ON FACEBOOK\\u263b\\u2665 (fremont / union city / newark)'}"
       ]
      },
      {
       "output_type": "stream",
       "stream": "stdout",
       "text": [
        "\n",
        "4698129248\n",
        "{'url': 'http://sfbay.craigslist.org/eby/apa/4698129248.html', 'app': 1000, 'id': '4698129248', 'desc': u'$2315 / 2br - 862ft\\xb2 - 2 bed 1 bath w/ washer & dryer PLUS garage!! ~ONE MONTH FREE~  (fremont / union city / newark)'}"
       ]
      },
      {
       "output_type": "stream",
       "stream": "stdout",
       "text": [
        "\n",
        "{'url': 'http://sfbay.craigslist.org/eby/apa/4698129248.html', 'app': 1000, 'id': '4698129248', 'desc': u'$2,315/mo'}\n",
        "4715937142\n",
        "{'url': 'http://sfbay.craigslist.org/eby/apa/4715937142.html', 'app': 1000, 'id': '4715937142', 'desc': u'$2500 / 3br - 1550ft\\xb2 - Beautiful house, close to Dumbarton Bridge(Facebook), shopping center  (fremont / union city / newark)'}"
       ]
      },
      {
       "output_type": "stream",
       "stream": "stdout",
       "text": [
        "\n",
        "4713487145\n",
        "{'url': 'http://sfbay.craigslist.org/eby/apa/4713487145.html', 'app': 1000, 'id': '4713487145', 'desc': u'$4000 / 4br - 2684ft\\xb2 - Newly rebuilt custom home  (fremont / union city / newark)'}"
       ]
      },
      {
       "output_type": "stream",
       "stream": "stdout",
       "text": [
        "\n",
        "4710410118\n",
        "{'url': 'http://sfbay.craigslist.org/eby/apa/4710410118.html', 'app': 1000, 'id': '4710410118', 'desc': u'$3600 / 4br - 2668ft\\xb2 - Mission Home - 699 Patriot Place - Fremont (fremont / union city / newark)'}"
       ]
      },
      {
       "output_type": "stream",
       "stream": "stdout",
       "text": [
        "\n",
        "4720421139\n",
        "{'url': 'http://sfbay.craigslist.org/eby/apa/4720421139.html', 'app': 1000, 'id': '4720421139', 'desc': u'$2095 / 2br - 830ft\\xb2 - Energy-saving Kitchens with Built-in Microwaves (fremont / union city / newark)'}"
       ]
      },
      {
       "output_type": "stream",
       "stream": "stdout",
       "text": [
        "\n",
        "4721146778\n",
        "{'url': 'http://sfbay.craigslist.org/eby/apa/4721146778.html', 'app': 1000, 'id': '4721146778', 'desc': u'$2708 / 2br - 1008ft\\xb2 - 2nd floor 2 bedroom with 2 car garage (fremont / union city / newark)'}"
       ]
      },
      {
       "output_type": "stream",
       "stream": "stdout",
       "text": [
        "\n",
        "4721083651\n",
        "{'url': 'http://sfbay.craigslist.org/eby/apa/4721083651.html', 'app': 1000, 'id': '4721083651', 'desc': u'$1950 / 2br - 800ft\\xb2 - N239 Is A Top Floor Two Bedroom, Call Us Today! (fremont / union city / newark)'}"
       ]
      },
      {
       "output_type": "stream",
       "stream": "stdout",
       "text": [
        "\n",
        "4716414560\n",
        "{'url': 'http://sfbay.craigslist.org/eby/apa/4716414560.html', 'app': 1000, 'id': '4716414560', 'desc': u'$1710 / 1br - 600ft\\xb2 - 1BHK Near Union City BART For 8 Months Sublease-$1710. Short term also (fremont / union city / newark)'}"
       ]
      },
      {
       "output_type": "stream",
       "stream": "stdout",
       "text": [
        "\n",
        "4716022889\n",
        "{'url': 'http://sfbay.craigslist.org/eby/apa/4716022889.html', 'app': 1000, 'id': '4716022889', 'desc': u'$1795 / 1br - 650ft\\xb2 - UPGRADED 1 BEDROOM APARTMENT IN FREMONT! (fremont / union city / newark)'}"
       ]
      },
      {
       "output_type": "stream",
       "stream": "stdout",
       "text": [
        "\n",
        "4718341765\n",
        "{'url': 'http://sfbay.craigslist.org/eby/apa/4718341765.html', 'app': 1000, 'id': '4718341765', 'desc': u'$2600 4 bedroom 2 story house (fremont / union city / newark)'}"
       ]
      },
      {
       "output_type": "stream",
       "stream": "stdout",
       "text": [
        "\n",
        "4710174102\n",
        "{'url': 'http://sfbay.craigslist.org/eby/apa/4710174102.html', 'app': 1000, 'id': '4710174102', 'desc': u'$1845 / 1br - Ready to move in call now for an appointment!!!! (fremont / union city / newark)'}"
       ]
      },
      {
       "output_type": "stream",
       "stream": "stdout",
       "text": [
        "\n",
        "4719801862\n",
        "{'url': 'http://sfbay.craigslist.org/eby/apa/4719801862.html', 'app': 1000, 'id': '4719801862', 'desc': u'$3099 / 3br - 1500ft\\xb2 - Great House, close to BART Fremont (fremont / union city / newark)'}"
       ]
      },
      {
       "output_type": "stream",
       "stream": "stdout",
       "text": [
        "\n",
        "4721088595\n",
        "{'url': 'http://sfbay.craigslist.org/eby/apa/4721088595.html', 'app': 1000, 'id': '4721088595', 'desc': u'$1950 / 2br - 800ft\\xb2 - Call us Today, To Get Leasing Information! (fremont / union city / newark)'}"
       ]
      },
      {
       "output_type": "stream",
       "stream": "stdout",
       "text": [
        "\n",
        "4713634429\n",
        "{'url': 'http://sfbay.craigslist.org/eby/apa/4713634429.html', 'app': 1000, 'id': '4713634429', 'desc': u'$2600 / 3br - 1204ft\\xb2 - Beautiful 3 bed 2 bath condo in warm springs (fremont / union city / newark)'}"
       ]
      },
      {
       "output_type": "stream",
       "stream": "stdout",
       "text": [
        "\n",
        "4718918187\n",
        "{'url': 'http://sfbay.craigslist.org/eby/apa/4718918187.html', 'app': 1000, 'id': '4718918187', 'desc': u'$1665 / 1br - 650ft\\xb2 - Commuting? We have the ideal location. (fremont / union city / newark)'}"
       ]
      },
      {
       "output_type": "stream",
       "stream": "stdout",
       "text": [
        "\n",
        "4713653154\n",
        "{'url': 'http://sfbay.craigslist.org/eby/apa/4713653154.html', 'app': 1000, 'id': '4713653154', 'desc': u'$2700 / 4br - 1500ft\\xb2 - 4BR / 2Ba 1500ft2 house Available immediately (fremont / union city / newark)'}"
       ]
      },
      {
       "output_type": "stream",
       "stream": "stdout",
       "text": [
        "\n",
        "4715856047\n",
        "{'url': 'http://sfbay.craigslist.org/eby/apa/4715856047.html', 'app': 1000, 'id': '4715856047', 'desc': u'$3000 / 3br - 1760ft\\xb2 - Spacious 3bed/2.5bath Home in Fremont North Gate neighborhood (fremont / union city / newark)'}"
       ]
      },
      {
       "output_type": "stream",
       "stream": "stdout",
       "text": [
        "\n",
        "4717473394\n",
        "{'url': 'http://sfbay.craigslist.org/eby/apa/4717473394.html', 'app': 1000, 'id': '4717473394', 'desc': u'$1895 / 1br - 527ft\\xb2 - \\u2665HOME IS WHERE THE HEART IS\\u2665RANHO LUNA/SOL APT HOMES NOW LEASINGb (fremont / union city / newark)'}"
       ]
      },
      {
       "output_type": "stream",
       "stream": "stdout",
       "text": [
        "\n",
        "4720449674\n",
        "{'url': 'http://sfbay.craigslist.org/eby/apa/4720449674.html', 'app': 1000, 'id': '4720449674', 'desc': u'$2790 / 4br - 1647ft\\xb2 - 4 Bed / 2 Bath Single-level, Single-familyhome in Fremont (fremont / union city / newark)'}"
       ]
      },
      {
       "output_type": "stream",
       "stream": "stdout",
       "text": [
        "\n",
        "4708765187\n",
        "{'url': 'http://sfbay.craigslist.org/eby/apa/4708765187.html', 'app': 1000, 'id': '4708765187', 'desc': u'$1599 / 1br - 600ft\\xb2 - ONE bedroom Unit Available NOW in the Heart of Fremont (fremont / union city / newark)'}"
       ]
      },
      {
       "output_type": "stream",
       "stream": "stdout",
       "text": [
        "\n",
        "4721066026\n",
        "{'url': 'http://sfbay.craigslist.org/eby/apa/4721066026.html', 'app': 1000, 'id': '4721066026', 'desc': u'$2449 / 1br - 877ft\\xb2 - Charming apartment homes w/spacious and open kitchen layout! (fremont / union city / newark)'}"
       ]
      },
      {
       "output_type": "stream",
       "stream": "stdout",
       "text": [
        "\n",
        "4719588764\n",
        "{'url': 'http://sfbay.craigslist.org/eby/apa/4719588764.html', 'app': 1000, 'id': '4719588764', 'desc': u'$2784 / 2br - 1184ft\\xb2 - Check This Out! Luxury Apartment Community with walk-in closets! (fremont / union city / newark)'}"
       ]
      },
      {
       "output_type": "stream",
       "stream": "stdout",
       "text": [
        "\n",
        "4716419404\n",
        "{'url': 'http://sfbay.craigslist.org/eby/apa/4716419404.html', 'app': 1000, 'id': '4716419404', 'desc': u'$3199 / 3br - 1790ft\\xb2 - Newly Renovated Single House. One Month Free Move in Special (fremont / union city / newark)'}"
       ]
      },
      {
       "output_type": "stream",
       "stream": "stdout",
       "text": [
        "\n",
        "4717582558\n",
        "{'url': 'http://sfbay.craigslist.org/eby/apa/4717582558.html', 'app': 1000, 'id': '4717582558', 'desc': u'$1698 / 1br - RESORT STYLE LIVING IN PRIME FREMONT LOCATION (fremont / union city / newark)'}"
       ]
      },
      {
       "output_type": "stream",
       "stream": "stdout",
       "text": [
        "\n",
        "4710494763\n",
        "{'url': 'http://sfbay.craigslist.org/eby/apa/4710494763.html', 'app': 1000, 'id': '4710494763', 'desc': u'$1698 / 1br - AMAZING AMENITIES IN PARK-LIKE COMMUNITY (fremont / union city / newark)'}"
       ]
      },
      {
       "output_type": "stream",
       "stream": "stdout",
       "text": [
        "\n",
        "4720514047\n",
        "{'url': 'http://sfbay.craigslist.org/eby/apa/4720514047.html', 'app': 1000, 'id': '4720514047', 'desc': u'$2500 / 3br - 1550ft\\xb2 - Beautiful house, close to Dumbarton Bridge(Facebook), shopping center  (fremont / union city / newark)'}"
       ]
      },
      {
       "output_type": "stream",
       "stream": "stdout",
       "text": [
        "\n",
        "4720463865\n",
        "{'url': 'http://sfbay.craigslist.org/eby/apa/4720463865.html', 'app': 1000, 'id': '4720463865', 'desc': u'$1895 / 1br - 527ft\\xb2 - \\u2665LOOKING FOR PEACE AND QUIET\\u2665 COME AND TOUR TODAY\\u2665 (fremont / union city / newark)'}"
       ]
      },
      {
       "output_type": "stream",
       "stream": "stdout",
       "text": [
        "\n",
        "4720601875\n",
        "{'url': 'http://sfbay.craigslist.org/eby/apa/4720601875.html', 'app': 1000, 'id': '4720601875', 'desc': u'$1795 / 1br - Beautiful 1 bedroom call now to make an appointment!!! (fremont / union city / newark)'}"
       ]
      },
      {
       "output_type": "stream",
       "stream": "stdout",
       "text": [
        "\n",
        "4716528401\n",
        "{'url': 'http://sfbay.craigslist.org/eby/apa/4716528401.html', 'app': 1000, 'id': '4716528401', 'desc': u'$2395 / 2br - 980ft\\xb2 - \\u2666A CATCH! COME TOUR TODAY \\u2666 (fremont / union city / newark)'}"
       ]
      },
      {
       "output_type": "stream",
       "stream": "stdout",
       "text": [
        "\n",
        "4721084894\n",
        "{'url': 'http://sfbay.craigslist.org/eby/apa/4721084894.html', 'app': 1000, 'id': '4721084894', 'desc': u'$1820 / 1br - 600ft\\xb2 - Great Apartment Value Near Union City Bart (fremont / union city / newark)'}"
       ]
      },
      {
       "output_type": "stream",
       "stream": "stdout",
       "text": [
        "\n",
        "4720540400\n",
        "{'url': 'http://sfbay.craigslist.org/eby/apa/4720540400.html', 'app': 1000, 'id': '4720540400', 'desc': u'$2506 / 2br - 1014ft\\xb2 - Ground level with hardwood floors and walking distance to BART! (fremont / union city / newark)'}"
       ]
      },
      {
       "output_type": "stream",
       "stream": "stdout",
       "text": [
        "\n",
        "4717634471\n",
        "{'url': 'http://sfbay.craigslist.org/eby/apa/4717634471.html', 'app': 1000, 'id': '4717634471', 'desc': u'$2175 / 2br - 850ft\\xb2 - Spacious Two Bedroom One Bath, Apartment Home. Ready 10/13! (fremont / union city / newark)'}"
       ]
      },
      {
       "output_type": "stream",
       "stream": "stdout",
       "text": [
        "\n",
        "4712961121\n",
        "{'url': 'http://sfbay.craigslist.org/eby/apa/4712961121.html', 'app': 1000, 'id': '4712961121', 'desc': u'$1795 / 1br - 527ft\\xb2 - \\u263bBART RIDERS DREAM/CLOSE TO SHOPPING\\u263b (fremont / union city / newark)'}"
       ]
      },
      {
       "output_type": "stream",
       "stream": "stdout",
       "text": [
        "\n",
        "4721136124\n",
        "{'url': 'http://sfbay.craigslist.org/eby/apa/4721136124.html', 'app': 1000, 'id': '4721136124', 'desc': u'$2300 / 2br - 890ft\\xb2 - *Carriage House* Gated Community in a Quiet and Friendly Neighborhood! (fremont / union city / newark)'}"
       ]
      },
      {
       "output_type": "stream",
       "stream": "stdout",
       "text": [
        "\n",
        "4718930446\n",
        "{'url': 'http://sfbay.craigslist.org/eby/apa/4718930446.html', 'app': 1000, 'id': '4718930446', 'desc': u'$2120 / 1br - 734ft\\xb2 - Presidio Apartments - Weekend Special! (fremont / union city / newark)'}"
       ]
      },
      {
       "output_type": "stream",
       "stream": "stdout",
       "text": [
        "\n",
        "4720653117\n",
        "{'url': 'http://sfbay.craigslist.org/eby/apa/4720653117.html', 'app': 1000, 'id': '4720653117', 'desc': u'$2900 / 3br - 1472ft\\xb2 - Great location 3 bed 2.5 bath townhome in Fremont  (fremont / union city / newark)'}"
       ]
      },
      {
       "output_type": "stream",
       "stream": "stdout",
       "text": [
        "\n",
        "4717837201\n",
        "{'url': 'http://sfbay.craigslist.org/eby/apa/4717837201.html', 'app': 1000, 'id': '4717837201', 'desc': u'$2176 / 2br - 980ft\\xb2 - Comfort and Convenience Right At Your Finger Tip..Waterstone@Fremont (fremont / union city / newark)'}"
       ]
      },
      {
       "output_type": "stream",
       "stream": "stdout",
       "text": [
        "\n",
        "4717797626\n",
        "{'url': 'http://sfbay.craigslist.org/eby/apa/4717797626.html', 'app': 1000, 'id': '4717797626', 'desc': u'$1795 / 1br - 527ft\\xb2 - \\u263aFEEL THE WARMTH HERE AT RANCHO LUNA/SOL (fremont / union city / newark)'}"
       ]
      },
      {
       "output_type": "stream",
       "stream": "stdout",
       "text": [
        "\n",
        "4711894505\n",
        "{'url': 'http://sfbay.craigslist.org/eby/apa/4711894505.html', 'app': 1000, 'id': '4711894505', 'desc': u'$2400 / 2br - 1200ft\\xb2 - HUGE 2Bed/2Bath Condo, 1200sq ft, Washer/Dryer, Central AC, REAL Garag (fremont / union city / newark)'}"
       ]
      },
      {
       "output_type": "stream",
       "stream": "stdout",
       "text": [
        "\n",
        "4720455452\n",
        "{'url': 'http://sfbay.craigslist.org/eby/apa/4720455452.html', 'app': 1000, 'id': '4720455452', 'desc': u'$1665 / 1br - 650ft\\xb2 - Here now and gone by morning. You should hurry! (fremont / union city / newark)'}"
       ]
      },
      {
       "output_type": "stream",
       "stream": "stdout",
       "text": [
        "\n",
        "4711496032\n",
        "{'url': 'http://sfbay.craigslist.org/eby/apa/4711496032.html', 'app': 1000, 'id': '4711496032', 'desc': u'$2790 / 4br - 1640ft\\xb2 - Parkmont Area - 4 Bed / 2 Bath Single-level, Single-family  (fremont / union city / newark)'}"
       ]
      },
      {
       "output_type": "stream",
       "stream": "stdout",
       "text": [
        "\n",
        "4714327754\n",
        "{'url': 'http://sfbay.craigslist.org/eby/apa/4714327754.html', 'app': 1000, 'id': '4714327754', 'desc': u'$2425 / 2br - 1010ft\\xb2 - Professionally Managed, Air Conditioning, Ceiling Fan, Covered Parking (fremont / union city / newark)'}"
       ]
      },
      {
       "output_type": "stream",
       "stream": "stdout",
       "text": [
        "\n",
        "4716510220\n",
        "{'url': 'http://sfbay.craigslist.org/eby/apa/4716510220.html', 'app': 1000, 'id': '4716510220', 'desc': u'$2295 / 1br - 527ft\\xb2 - \\u2665HOME IS WHERE THE HEART IS\\u2665RANHO LUNA/SOL APT HOMES NOW LEASINGb (fremont / union city / newark)'}"
       ]
      },
      {
       "output_type": "stream",
       "stream": "stdout",
       "text": [
        "\n",
        "4705500955\n",
        "{'url': 'http://sfbay.craigslist.org/eby/apa/4705500955.html', 'app': 1000, 'id': '4705500955', 'desc': u'$2900 / 3br - 1472ft\\xb2 - Great 3 bed 2.5 bath townhouse remodeled in Fremont  (fremont / union city / newark)'}"
       ]
      },
      {
       "output_type": "stream",
       "stream": "stdout",
       "text": [
        "\n",
        "4696287452\n",
        "{'url': 'http://sfbay.craigslist.org/eby/apa/4696287452.html', 'app': 1000, 'id': '4696287452', 'desc': u'$2900 / 3br - 1472ft\\xb2 - Great 3 bed 2.5 bath townhome remodeled in Fremont  (fremont / union city / newark)'}"
       ]
      },
      {
       "output_type": "stream",
       "stream": "stdout",
       "text": [
        "\n",
        "4709086634\n",
        "{'url': 'http://sfbay.craigslist.org/eby/apa/4709086634.html', 'app': 1000, 'id': '4709086634', 'desc': u'$2600 / 3br - 1300ft\\xb2 - Beautiful Ardenwood Home in Fremont (fremont / union city / newark)'}"
       ]
      },
      {
       "output_type": "stream",
       "stream": "stdout",
       "text": [
        "\n",
        "4715877888\n",
        "{'url': 'http://sfbay.craigslist.org/eby/apa/4715877888.html', 'app': 1000, 'id': '4715877888', 'desc': u'$1650 / 1br - 600ft\\xb2 - Immediate move-in: 1 bedroom, 2nd floor, Irvington HS (fremont / union city / newark)'}"
       ]
      },
      {
       "output_type": "stream",
       "stream": "stdout",
       "text": [
        "\n",
        "4720991708\n",
        "{'url': 'http://sfbay.craigslist.org/eby/apa/4720991708.html', 'app': 1000, 'id': '4720991708', 'desc': u'$2425 / 2br - 1010ft\\xb2 - Visit Your New Home, Night Patrol, Fitness Ctr, Easy Freeway Access (fremont / union city / newark)'}"
       ]
      },
      {
       "output_type": "stream",
       "stream": "stdout",
       "text": [
        "\n",
        "4719725545\n",
        "{'url': 'http://sfbay.craigslist.org/eby/apa/4719725545.html', 'app': 1000, 'id': '4719725545', 'desc': u'$2665 / 2br - 982ft\\xb2 - Looking for quick access to BART and Shopping? Look no further! (fremont / union city / newark)'}"
       ]
      },
      {
       "output_type": "stream",
       "stream": "stdout",
       "text": [
        "\n",
        "4714642935\n",
        "{'url': 'http://sfbay.craigslist.org/eby/apa/4714642935.html', 'app': 1000, 'id': '4714642935', 'desc': u'$2753 / 3br - 1320ft\\xb2 - COME CHECK OUT OUR BEAUTIFUL 3X2 (fremont / union city / newark)'}"
       ]
      },
      {
       "output_type": "stream",
       "stream": "stdout",
       "text": [
        "\n",
        "4720694437\n",
        "{'url': 'http://sfbay.craigslist.org/eby/apa/4720694437.html', 'app': 1000, 'id': '4720694437', 'desc': u\"$2151 / 2br - 800ft\\xb2 - You'll Love This Floor Plan! (fremont / union city / newark)\"}"
       ]
      },
      {
       "output_type": "stream",
       "stream": "stdout",
       "text": [
        "\n",
        "4719715423\n",
        "{'url': 'http://sfbay.craigslist.org/eby/apa/4719715423.html', 'app': 1000, 'id': '4719715423', 'desc': u'$2500 / 3br - 1300ft\\xb2 - 3B/3B Townhouse for rent in Fremont, 94538 (fremont / union city / newark)'}"
       ]
      },
      {
       "output_type": "stream",
       "stream": "stdout",
       "text": [
        "\n",
        "4717669681\n",
        "{'url': 'http://sfbay.craigslist.org/eby/apa/4717669681.html', 'app': 1000, 'id': '4717669681', 'desc': u'$1795 / 1br - 650ft\\xb2 - FULLY UPGRADED 1 BEDROOM APARTMENT IN FREMONT! PRIVATE BALCONY! (fremont / union city / newark)'}"
       ]
      },
      {
       "output_type": "stream",
       "stream": "stdout",
       "text": [
        "\n",
        "4690236057\n",
        "{'url': 'http://sfbay.craigslist.org/eby/apa/4690236057.html', 'app': 1000, 'id': '4690236057', 'desc': u'$2500 / 3br - 1550ft\\xb2 - Beautiful house, close to Dumbarton Bridge(Facebook), shopping center  (fremont / union city / newark)'}"
       ]
      },
      {
       "output_type": "stream",
       "stream": "stdout",
       "text": [
        "\n",
        "4711129092\n",
        "{'url': 'http://sfbay.craigslist.org/eby/apa/4711129092.html', 'app': 1000, 'id': '4711129092', 'desc': u'$1698 / 1br - PRIVATE END UNIT, LARGE STORAGE, YOUR NEW HOME IS HERE! (fremont / union city / newark)'}"
       ]
      },
      {
       "output_type": "stream",
       "stream": "stdout",
       "text": [
        "\n",
        "4719247973\n",
        "{'url': 'http://sfbay.craigslist.org/eby/apa/4719247973.html', 'app': 1000, 'id': '4719247973', 'desc': u'$2041 / 1br - 738ft\\xb2 - Conveniently Located Near Hwy, Shopping, Restaurants, And More! (fremont / union city / newark)'}"
       ]
      },
      {
       "output_type": "stream",
       "stream": "stdout",
       "text": [
        "\n",
        "4701295277\n",
        "{'url': 'http://sfbay.craigslist.org/eby/apa/4701295277.html', 'app': 1000, 'id': '4701295277', 'desc': u'$2900 / 3br - 1474ft\\xb2 - Updated single family home for rent (fremont / union city / newark)'}"
       ]
      },
      {
       "output_type": "stream",
       "stream": "stdout",
       "text": [
        "\n",
        "4720732984\n",
        "{'url': 'http://sfbay.craigslist.org/eby/apa/4720732984.html', 'app': 1000, 'id': '4720732984', 'desc': u'$1950 / 1br - 1221ft\\xb2 - Extra large 1 BR Condo for Rent (fremont / union city / newark)'}"
       ]
      },
      {
       "output_type": "stream",
       "stream": "stdout",
       "text": [
        "\n",
        "4704285477\n",
        "{'url': 'http://sfbay.craigslist.org/eby/apa/4704285477.html', 'app': 1000, 'id': '4704285477', 'desc': u'$2500 / 2br - 1315ft\\xb2 - Fairly new remodeled Single Family House  (fremont / union city / newark)'}"
       ]
      },
      {
       "output_type": "stream",
       "stream": "stdout",
       "text": [
        "\n",
        "4720736311\n",
        "{'url': 'http://sfbay.craigslist.org/eby/apa/4720736311.html', 'app': 1000, 'id': '4720736311', 'desc': u'$2150 / 2br - PARK-LIKE SETTING IN PRIME LOCATION, DESIGNER 2 BR (fremont / union city / newark)'}"
       ]
      },
      {
       "output_type": "stream",
       "stream": "stdout",
       "text": [
        "\n",
        "4718111156\n",
        "{'url': 'http://sfbay.craigslist.org/eby/apa/4718111156.html', 'app': 1000, 'id': '4718111156', 'desc': u'$3200 / 4br - 2000ft\\xb2 - Newer Union City Home Available Nov1 Convenient Location W/D &Hardwood (fremont / union city / newark)'}"
       ]
      },
      {
       "output_type": "stream",
       "stream": "stdout",
       "text": [
        "\n",
        "4685873529\n",
        "{'url': 'http://sfbay.craigslist.org/eby/apa/4685873529.html', 'app': 1000, 'id': '4685873529', 'desc': u'$1895 / 2br - Great Fremont Location! Open House Saturday 10am-4pm! (fremont / union city / newark)'}"
       ]
      },
      {
       "output_type": "stream",
       "stream": "stdout",
       "text": [
        "\n",
        "{'url': 'http://sfbay.craigslist.org/eby/apa/4685873529.html', 'app': 1000, 'id': '4685873529', 'desc': u'$1,895/mo'}\n",
        "4718880555\n",
        "{'url': 'http://sfbay.craigslist.org/eby/apa/4718880555.html', 'app': 1000, 'id': '4718880555', 'desc': u'$1795 / 1br - 527ft\\xb2 - \\u25d8CLOSE AND CONVENIENT FOR YOUR LIFESTYLE\\u25d8 (fremont / union city / newark)'}"
       ]
      },
      {
       "output_type": "stream",
       "stream": "stdout",
       "text": [
        "\n",
        "4719497815\n",
        "{'url': 'http://sfbay.craigslist.org/eby/apa/4719497815.html', 'app': 1000, 'id': '4719497815', 'desc': u'$1950 / 1br - 710ft\\xb2 - Appealing Amenities, Covered Parking, Air Conditioning, Ceiling Fan (fremont / union city / newark)'}"
       ]
      },
      {
       "output_type": "stream",
       "stream": "stdout",
       "text": [
        "\n",
        "4713540911\n",
        "{'url': 'http://sfbay.craigslist.org/eby/apa/4713540911.html', 'app': 1000, 'id': '4713540911', 'desc': u'$3100 / 3br - 1500ft\\xb2 - Beautiful Single Family Home - 3BD/2Baths (fremont / union city / newark)'}"
       ]
      },
      {
       "output_type": "stream",
       "stream": "stdout",
       "text": [
        "\n",
        "{'url': 'http://sfbay.craigslist.org/eby/apa/4713540911.html', 'app': 1000, 'id': '4713540911', 'desc': u'$3,100/mo'}\n",
        "4719638412\n",
        "{'url': 'http://sfbay.craigslist.org/eby/apa/4719638412.html', 'app': 1000, 'id': '4719638412', 'desc': u'$1650 / 1br - 640ft\\xb2 - Irvington District 1bd/1ba upstairs (fremont / union city / newark)'}"
       ]
      },
      {
       "output_type": "stream",
       "stream": "stdout",
       "text": [
        "\n",
        "4716592576\n",
        "{'url': 'http://sfbay.craigslist.org/eby/apa/4716592576.html', 'app': 1000, 'id': '4716592576', 'desc': u'$2500 / 3br - Quiet 3br/2ba home in quiet Fremont (fremont / union city / newark)'}"
       ]
      },
      {
       "output_type": "stream",
       "stream": "stdout",
       "text": [
        "\n",
        "4714202943\n",
        "{'url': 'http://sfbay.craigslist.org/eby/apa/4714202943.html', 'app': 1000, 'id': '4714202943', 'desc': u'$1790 / 1br - 600ft\\xb2 - Beautiful and spacious 1 bedrooms available  (fremont / union city / newark)'}"
       ]
      },
      {
       "output_type": "stream",
       "stream": "stdout",
       "text": [
        "\n",
        "4700013075\n",
        "{'url': 'http://sfbay.craigslist.org/eby/apa/4700013075.html', 'app': 1000, 'id': '4700013075', 'desc': u'$2695 / 3br - 1300ft\\xb2 - Open house 10/18 10/19 1-4pm3 Bed 2 Bath Single Family Home in Fremont (fremont / union city / newark)'}"
       ]
      },
      {
       "output_type": "stream",
       "stream": "stdout",
       "text": [
        "\n",
        "4720678524\n",
        "{'url': 'http://sfbay.craigslist.org/eby/apa/4720678524.html', 'app': 1000, 'id': '4720678524', 'desc': u'$2765 / 2br - 901ft\\xb2 - One two bedroom apartment with microwave included available now (fremont / union city / newark)'}"
       ]
      },
      {
       "output_type": "stream",
       "stream": "stdout",
       "text": [
        "\n",
        "4714475368\n",
        "{'url': 'http://sfbay.craigslist.org/eby/apa/4714475368.html', 'app': 1000, 'id': '4714475368', 'desc': u'$1410 / 1br - 580ft\\xb2 - VICTORIA GARDENS SENIOR COMMUNITY FOR ACTIVE ADULTS 55 & OLDER (fremont / union city / newark)'}"
       ]
      },
      {
       "output_type": "stream",
       "stream": "stdout",
       "text": [
        "\n",
        "4716327770\n",
        "{'url': 'http://sfbay.craigslist.org/eby/apa/4716327770.html', 'app': 1000, 'id': '4716327770', 'desc': u'$2695 / 3br - 1300ft\\xb2 - 3 Bed 2 Bath Single Family Home in Fremont (fremont / union city / newark)'}"
       ]
      },
      {
       "output_type": "stream",
       "stream": "stdout",
       "text": [
        "\n",
        "4715886056\n",
        "{'url': 'http://sfbay.craigslist.org/eby/apa/4715886056.html', 'app': 1000, 'id': '4715886056', 'desc': u'$2320 / 1br - Apartment for $2320.00in Fremont (fremont / union city / newark)'}"
       ]
      },
      {
       "output_type": "stream",
       "stream": "stdout",
       "text": [
        "\n",
        "4705383827\n",
        "{'url': 'http://sfbay.craigslist.org/eby/apa/4705383827.html', 'app': 1000, 'id': '4705383827', 'desc': u'$2315 / 2br - 862ft\\xb2 - *SPECIAL* 2 bedroom w/ attached garage in nice Ardenwood neighborhood! (fremont / union city / newark)'}"
       ]
      },
      {
       "output_type": "stream",
       "stream": "stdout",
       "text": [
        "\n",
        "{'url': 'http://sfbay.craigslist.org/eby/apa/4705383827.html', 'app': 1000, 'id': '4705383827', 'desc': u'$2,315/mo'}\n",
        "4714386318\n",
        "{'url': 'http://sfbay.craigslist.org/eby/apa/4714386318.html', 'app': 1000, 'id': '4714386318', 'desc': u'$2753 / 3br - 1320ft\\xb2 - Stunning 3X2 Apartment with W/D Set in Fremont! (fremont / union city / newark)'}"
       ]
      },
      {
       "output_type": "stream",
       "stream": "stdout",
       "text": [
        "\n",
        "4716420328\n",
        "{'url': 'http://sfbay.craigslist.org/eby/apa/4716420328.html', 'app': 1000, 'id': '4716420328', 'desc': u'$2700 / 4br - 1476ft\\xb2 - 4 bedroom single house w/excellent schools (fremont / union city / newark)'}"
       ]
      },
      {
       "output_type": "stream",
       "stream": "stdout",
       "text": [
        "\n",
        "4720441387\n",
        "{'url': 'http://sfbay.craigslist.org/eby/apa/4720441387.html', 'app': 1000, 'id': '4720441387', 'desc': u'$2545 / 2br - 1106ft\\xb2 - 15 Min Walk to BART from the Presidio Apartments (fremont / union city / newark)'}"
       ]
      },
      {
       "output_type": "stream",
       "stream": "stdout",
       "text": [
        "\n",
        "4714367696\n",
        "{'url': 'http://sfbay.craigslist.org/eby/apa/4714367696.html', 'app': 1000, 'id': '4714367696', 'desc': u'$1795 / 1br - 650ft\\xb2 - 1 BEDROOM APARTMENT! QUIET NEIGHBORHOOD IN FREMONT  (fremont / union city / newark)'}"
       ]
      },
      {
       "output_type": "stream",
       "stream": "stdout",
       "text": [
        "\n",
        "4708837746\n",
        "{'url': 'http://sfbay.craigslist.org/eby/apa/4708837746.html', 'app': 1000, 'id': '4708837746', 'desc': u'$2100 / 2br - 888ft\\xb2 - Union City 2-Bedroom Condo (fremont / union city / newark)'}"
       ]
      },
      {
       "output_type": "stream",
       "stream": "stdout",
       "text": [
        "\n",
        "4706997677\n",
        "{'url': 'http://sfbay.craigslist.org/eby/apa/4706997677.html', 'app': 1000, 'id': '4706997677', 'desc': u'$2900 / 3br - 1472ft\\xb2 - 3 bed 2 .5 bath townhome remodeled in Fremont  (fremont / union city / newark)'}"
       ]
      },
      {
       "output_type": "stream",
       "stream": "stdout",
       "text": [
        "\n",
        "4714556978\n",
        "{'url': 'http://sfbay.craigslist.org/eby/apa/4714556978.html', 'app': 1000, 'id': '4714556978', 'desc': u'$3150 / 4br - 1900ft\\xb2 - Great Fremont SFH in nice neighborhood - Free rent until Oct 31st 2014 (fremont / union city / newark)'}"
       ]
      },
      {
       "output_type": "stream",
       "stream": "stdout",
       "text": [
        "\n",
        "4719275754\n",
        "{'url': 'http://sfbay.craigslist.org/eby/apa/4719275754.html', 'app': 1000, 'id': '4719275754', 'desc': u'$2259 / 2br - GORGEOUS,TOP FLOOR APARTMENT,VISIT AMBER COURT TODAY!  (fremont / union city / newark)'}"
       ]
      },
      {
       "output_type": "stream",
       "stream": "stdout",
       "text": [
        "\n",
        "4718002189\n",
        "{'url': 'http://sfbay.craigslist.org/eby/apa/4718002189.html', 'app': 1000, 'id': '4718002189', 'desc': u'$2100 / 2br - 895ft\\xb2 - \\u260e~\\u260e~\\u260e~Oak Pointe Apartments ~\\u260e~\\u260e~\\u260e (fremont / union city / newark)'}"
       ]
      },
      {
       "output_type": "stream",
       "stream": "stdout",
       "text": [
        "\n",
        "4720551845\n",
        "{'url': 'http://sfbay.craigslist.org/eby/apa/4720551845.html', 'app': 1000, 'id': '4720551845', 'desc': u'$1705 / 1br - 565ft\\xb2 - A Great Junior 1br Unit To Call home @waterstone Fremont (fremont / union city / newark)'}"
       ]
      },
      {
       "output_type": "stream",
       "stream": "stdout",
       "text": [
        "\n",
        "4711374823\n",
        "{'url': 'http://sfbay.craigslist.org/eby/apa/4711374823.html', 'app': 1000, 'id': '4711374823', 'desc': u'$1100 / 1br - 300ft\\xb2 - Private 24 ft camper -fully funtional (fremont / union city / newark)'}"
       ]
      },
      {
       "output_type": "stream",
       "stream": "stdout",
       "text": [
        "\n",
        "4693357033\n",
        "{'url': 'http://sfbay.craigslist.org/eby/apa/4693357033.html', 'app': 1000, 'id': '4693357033', 'desc': u'$2100 / 2br - 2 Bedroom 1 Bath - Newly Renovated (fremont / union city / newark)'}"
       ]
      },
      {
       "output_type": "stream",
       "stream": "stdout",
       "text": [
        "\n",
        "4714196556\n",
        "{'url': 'http://sfbay.craigslist.org/eby/apa/4714196556.html', 'app': 1000, 'id': '4714196556', 'desc': u'$2175 / 2br - DESIGNER-INSPIRED FLOOR PLANS WITH LUSH GARDEN VIEW (fremont / union city / newark)'}"
       ]
      },
      {
       "output_type": "stream",
       "stream": "stdout",
       "text": [
        "\n",
        "4720482808\n",
        "{'url': 'http://sfbay.craigslist.org/eby/apa/4720482808.html', 'app': 1000, 'id': '4720482808', 'desc': u'$2074 / 1br - 720ft\\xb2 - Renting Fast! Unique & Bright w/ Skylight, In-Home Laundry, Tour Now!! (fremont / union city / newark)'}"
       ]
      },
      {
       "output_type": "stream",
       "stream": "stdout",
       "text": [
        "\n",
        "4721152536\n",
        "{'url': 'http://sfbay.craigslist.org/eby/apa/4721152536.html', 'app': 1000, 'id': '4721152536', 'desc': u'$2295 / 2br - 980ft\\xb2 - \\u2660\\u2665QUIET, COMFORT, & CONVENIENCE! YOU DESERVE THE BEST!\\u2660 (fremont / union city / newark)'}"
       ]
      },
      {
       "output_type": "stream",
       "stream": "stdout",
       "text": [
        "\n",
        "4713579826\n",
        "{'url': 'http://sfbay.craigslist.org/eby/apa/4713579826.html', 'app': 1000, 'id': '4713579826', 'desc': u'$1950 / 2br - 900ft\\xb2 - Fremont Mission San Jose 2bds, 1.5 bth Dont miss it! (fremont / union city / newark)'}"
       ]
      },
      {
       "output_type": "stream",
       "stream": "stdout",
       "text": [
        "\n",
        "4721213598\n",
        "{'url': 'http://sfbay.craigslist.org/eby/apa/4721213598.html', 'app': 1000, 'id': '4721213598', 'desc': u'$2176 / 2br - 913ft\\xb2 - Available Soon! Perfect Location! 2 BR & 2 BA! (fremont / union city / newark)'}"
       ]
      },
      {
       "output_type": "stream",
       "stream": "stdout",
       "text": [
        "\n",
        "4715295146\n",
        "{'url': 'http://sfbay.craigslist.org/eby/apa/4715295146.html', 'app': 1000, 'id': '4715295146', 'desc': u'$2175 / 2br - 1080ft\\xb2 - 2B/B - 3300 Wolcott Cmn 1st flr condo (fremont / union city / newark)'}"
       ]
      },
      {
       "output_type": "stream",
       "stream": "stdout",
       "text": [
        "\n",
        "4718978993\n",
        "{'url': 'http://sfbay.craigslist.org/eby/apa/4718978993.html', 'app': 1000, 'id': '4718978993', 'desc': u'$1350 / 1br - 672ft\\xb2 - 4932 Bridgepoint Place, Union City, Avail. 11/8 (fremont / union city / newark)'}"
       ]
      },
      {
       "output_type": "stream",
       "stream": "stdout",
       "text": [
        "\n",
        "4720985331\n",
        "{'url': 'http://sfbay.craigslist.org/eby/apa/4720985331.html', 'app': 1000, 'id': '4720985331', 'desc': u'$2900 / 3br - 1472ft\\xb2 - Great location 3 bed 2.5 bath townhome in Fremont  (fremont / union city / newark)'}"
       ]
      },
      {
       "output_type": "stream",
       "stream": "stdout",
       "text": [
        "\n",
        "4713359828\n",
        "{'url': 'http://sfbay.craigslist.org/eby/apa/4713359828.html', 'app': 1000, 'id': '4713359828', 'desc': u'$2753 / 3br - 1320ft\\xb2 - 3BD/2BA Apartment with Quartz Countertops (fremont / union city / newark)'}"
       ]
      },
      {
       "output_type": "stream",
       "stream": "stdout",
       "text": [
        "\n",
        "4713030866\n",
        "{'url': 'http://sfbay.craigslist.org/eby/apa/4713030866.html', 'app': 1000, 'id': '4713030866', 'desc': u'$2753 / 3br - 1320ft\\xb2 - 3BD/2BA Apartment with Quartz Countertops (fremont / union city / newark)'}"
       ]
      },
      {
       "output_type": "stream",
       "stream": "stdout",
       "text": [
        "\n",
        "4717691173\n",
        "{'url': 'http://sfbay.craigslist.org/eby/apa/4717691173.html', 'app': 1000, 'id': '4717691173', 'desc': u'$1900 / 2br - 845ft\\xb2 - Available Immediately!!! (fremont / union city / newark)'}"
       ]
      },
      {
       "output_type": "stream",
       "stream": "stdout",
       "text": [
        "\n",
        "{'url': 'http://sfbay.craigslist.org/eby/apa/4717691173.html', 'app': 1000, 'id': '4717691173', 'desc': u'$1,900/mo'}\n",
        "4713716965\n",
        "{'url': 'http://sfbay.craigslist.org/eby/apa/4713716965.html', 'app': 1000, 'id': '4713716965', 'desc': u'$2675 / 2br - 1700ft\\xb2 - Spacious Brand New Remodeled 2 bdrms 2.5 bths Townhouse in Irvington (fremont / union city / newark)'}"
       ]
      },
      {
       "output_type": "stream",
       "stream": "stdout",
       "text": [
        "\n",
        "4719006949\n",
        "{'url': 'http://sfbay.craigslist.org/eby/apa/4719006949.html', 'app': 1000, 'id': '4719006949', 'desc': u'$2295 / 2br - 1004ft\\xb2 - \\u2022\\u263bTHIS BEAUTIFUL UPGRADED APT HOME HAS ALL THE COMFORTS\\u263b\\u2022\\u2022 (fremont / union city / newark)'}"
       ]
      },
      {
       "output_type": "stream",
       "stream": "stdout",
       "text": [
        "\n",
        "4715989928\n",
        "{'url': 'http://sfbay.craigslist.org/eby/apa/4715989928.html', 'app': 1000, 'id': '4715989928', 'desc': u'$1350 / 2br - 900ft\\xb2 - 37847 Niles Blvd #2, Fremont, Avail.11/1 (fremont / union city / newark)'}"
       ]
      },
      {
       "output_type": "stream",
       "stream": "stdout",
       "text": [
        "\n",
        "4719615008\n",
        "{'url': 'http://sfbay.craigslist.org/eby/apa/4719615008.html', 'app': 1000, 'id': '4719615008', 'desc': u'$2700 / 4br - 1441ft\\xb2 - 4BR/2BA Home For Rent in Fremont (fremont / union city / newark)'}"
       ]
      },
      {
       "output_type": "stream",
       "stream": "stdout",
       "text": [
        "\n",
        "{'url': 'http://sfbay.craigslist.org/eby/apa/4719615008.html', 'app': 1000, 'id': '4719615008', 'desc': u'$2,700/mo'}\n",
        "4720524100\n",
        "{'url': 'http://sfbay.craigslist.org/eby/apa/4720524100.html', 'app': 1000, 'id': '4720524100', 'desc': u'$1823 / 1br - 760ft\\xb2 - Are You Ready To Move..Waterstone@Fremont (fremont / union city / newark)'}"
       ]
      },
      {
       "output_type": "stream",
       "stream": "stdout",
       "text": [
        "\n",
        "4721119470\n",
        "{'url': 'http://sfbay.craigslist.org/eby/apa/4721119470.html', 'app': 1000, 'id': '4721119470', 'desc': u'$1631 / 1br - 520ft\\xb2 - (PRIME LOCATION) 1BED-1BATH (fremont / union city / newark)'}"
       ]
      },
      {
       "output_type": "stream",
       "stream": "stdout",
       "text": [
        "\n",
        "4696417639\n",
        "{'url': 'http://sfbay.craigslist.org/eby/apa/4696417639.html', 'app': 1000, 'id': '4696417639', 'desc': u'$2900 / 3br - 1472ft\\xb2 - Great 3 bed 2.5 bath townhome remodeled in Fremont  (fremont / union city / newark)'}"
       ]
      },
      {
       "output_type": "stream",
       "stream": "stdout",
       "text": [
        "\n",
        "4719218293\n",
        "{'url': 'http://sfbay.craigslist.org/eby/apa/4719218293.html', 'app': 1000, 'id': '4719218293', 'desc': u'$2397 / 985ft\\xb2 - Available Immediately! (fremont / union city / newark)'}"
       ]
      },
      {
       "output_type": "stream",
       "stream": "stdout",
       "text": [
        "\n",
        "4692849596\n",
        "{'url': 'http://sfbay.craigslist.org/eby/apa/4692849596.html', 'app': 1000, 'id': '4692849596', 'desc': u'$1895 / 2br - 803ft\\xb2 - FREE COMCAST CABLE w/ HBO (fremont / union city / newark)'}"
       ]
      },
      {
       "output_type": "stream",
       "stream": "stdout",
       "text": [
        "\n",
        "4710131865\n",
        "{'url': 'http://sfbay.craigslist.org/eby/apa/4710131865.html', 'app': 1000, 'id': '4710131865', 'desc': u'$1965 / 2br - 830ft\\xb2 - Ready to Rent! (fremont / union city / newark)'}"
       ]
      },
      {
       "output_type": "stream",
       "stream": "stdout",
       "text": [
        "\n",
        "4717628738\n",
        "{'url': 'http://sfbay.craigslist.org/eby/apa/4717628738.html', 'app': 1000, 'id': '4717628738', 'desc': u'$2015 / 2br - 830ft\\xb2 - The peace of mind you deserve. (fremont / union city / newark)'}"
       ]
      },
      {
       "output_type": "stream",
       "stream": "stdout",
       "text": [
        "\n",
        "4718001748\n",
        "{'url': 'http://sfbay.craigslist.org/eby/apa/4718001748.html', 'app': 1000, 'id': '4718001748', 'desc': u'$1698 / 1br - OPEN FLOOR PLAN WITH A PRIVATE PATIO &GYM (fremont / union city / newark)'}"
       ]
      },
      {
       "output_type": "stream",
       "stream": "stdout",
       "text": [
        "\n",
        "4695475060\n",
        "{'url': 'http://sfbay.craigslist.org/eby/apa/4695475060.html', 'app': 1000, 'id': '4695475060', 'desc': u'$2999 / 4br - 1922ft\\xb2 - luxuary 4bed 2 bath union city $,2,999 first month  (fremont / union city / newark)'}"
       ]
      },
      {
       "output_type": "stream",
       "stream": "stdout",
       "text": [
        "\n",
        "4717225080\n",
        "{'url': 'http://sfbay.craigslist.org/eby/apa/4717225080.html', 'app': 1000, 'id': '4717225080', 'desc': u'$2600 / 3br - 1112ft\\xb2 - Coming Soon! Lovely Home in the Irvington Area! (fremont / union city / newark)'}"
       ]
      },
      {
       "output_type": "stream",
       "stream": "stdout",
       "text": [
        "\n",
        "{'url': 'http://sfbay.craigslist.org/eby/apa/4717225080.html', 'app': 1000, 'id': '4717225080', 'desc': u'$2,600/mo'}\n",
        "4720654636\n",
        "{'url': 'http://sfbay.craigslist.org/eby/apa/4720654636.html', 'app': 1000, 'id': '4720654636', 'desc': u'$1582 / 1br - 620ft\\xb2 - Hardwood Floors, Walk-in Closets, Corner unit, Top floor! (fremont / union city / newark)'}"
       ]
      },
      {
       "output_type": "stream",
       "stream": "stdout",
       "text": [
        "\n",
        "4720654598\n",
        "{'url': 'http://sfbay.craigslist.org/eby/apa/4720654598.html', 'app': 1000, 'id': '4720654598', 'desc': u'$2077 / 1br - 747ft\\xb2 - Amazing 1 BD, 1 BA Apartment Available Now! (fremont / union city / newark)'}"
       ]
      },
      {
       "output_type": "stream",
       "stream": "stdout",
       "text": [
        "\n",
        "4716548767\n",
        "{'url': 'http://sfbay.craigslist.org/eby/apa/4716548767.html', 'app': 1000, 'id': '4716548767', 'desc': u'$2850 / 3br - 1688ft\\xb2 - Beautiful Home in Forest Park School area available Mid-Nov (fremont / union city / newark)'}"
       ]
      },
      {
       "output_type": "stream",
       "stream": "stdout",
       "text": [
        "\n",
        "4719030835\n",
        "{'url': 'http://sfbay.craigslist.org/eby/apa/4719030835.html', 'app': 1000, 'id': '4719030835', 'desc': u'$2616 / 3br - 1320ft\\xb2 - 3BD/2BA Apartment with Quartz Countertops (fremont / union city / newark)'}"
       ]
      },
      {
       "output_type": "stream",
       "stream": "stdout",
       "text": [
        "\n",
        "4717504335\n",
        "{'url': 'http://sfbay.craigslist.org/eby/apa/4717504335.html', 'app': 1000, 'id': '4717504335', 'desc': u'$4795 / 5br - 3168ft\\xb2 - Gorgeous Mission Fremont Home ... Will not Last!!! (fremont / union city / newark)'}"
       ]
      },
      {
       "output_type": "stream",
       "stream": "stdout",
       "text": [
        "\n",
        "4716554751\n",
        "{'url': 'http://sfbay.craigslist.org/eby/apa/4716554751.html', 'app': 1000, 'id': '4716554751', 'desc': u'$1895 / 1br - 527ft\\xb2 - \\u2665COMMUNITY A FEELING OF FELLOWSHIP WITH OTHERS JOIN OURS\\u2665  (fremont / union city / newark)'}"
       ]
      },
      {
       "output_type": "stream",
       "stream": "stdout",
       "text": [
        "\n",
        "4718095749\n",
        "{'url': 'http://sfbay.craigslist.org/eby/apa/4718095749.html', 'app': 1000, 'id': '4718095749', 'desc': u'$2278 / 2br - 800ft\\xb2 - Hurry While The Prices Are LOW!! Ask About #914!! (fremont / union city / newark)'}"
       ]
      },
      {
       "output_type": "stream",
       "stream": "stdout",
       "text": [
        "\n",
        "4716578860\n",
        "{'url': 'http://sfbay.craigslist.org/eby/apa/4716578860.html', 'app': 1000, 'id': '4716578860', 'desc': u'$1900 / 1br - 760ft\\xb2 - Are You Ready To Move..Waterstone@Fremont (fremont / union city / newark)'}"
       ]
      },
      {
       "output_type": "stream",
       "stream": "stdout",
       "text": [
        "\n",
        "4720620522\n",
        "{'url': 'http://sfbay.craigslist.org/eby/apa/4720620522.html', 'app': 1000, 'id': '4720620522', 'desc': u'$2730 / 2br - 1331ft\\xb2 - Available soon! Large two bedroom with patio! (fremont / union city / newark)'}"
       ]
      },
      {
       "output_type": "stream",
       "stream": "stdout",
       "text": [
        "\n",
        "4718932110\n",
        "{'url': 'http://sfbay.craigslist.org/eby/apa/4718932110.html', 'app': 1000, 'id': '4718932110', 'desc': u'$3250 / 3br - 1550ft\\xb2 - Mission San Jose Fremont Home for Rent (fremont / union city / newark)'}"
       ]
      },
      {
       "output_type": "stream",
       "stream": "stdout",
       "text": [
        "\n",
        "4719113814\n",
        "{'url': 'http://sfbay.craigslist.org/eby/apa/4719113814.html', 'app': 1000, 'id': '4719113814', 'desc': u'$1795 / 1br - 527ft\\xb2 - \\u25d8\\u2665EVERYONE IS WELCOME HOME HERE AT RANCHO LUNA/SOL \\u25d8\\u2665 (fremont / union city / newark)'}"
       ]
      },
      {
       "output_type": "stream",
       "stream": "stdout",
       "text": [
        "\n",
        "4716531523\n",
        "{'url': 'http://sfbay.craigslist.org/eby/apa/4716531523.html', 'app': 1000, 'id': '4716531523', 'desc': u'$2800 / 4br - 1928ft\\xb2 - Single Newark Lake home for Rent (fremont / union city / newark)'}"
       ]
      },
      {
       "output_type": "stream",
       "stream": "stdout",
       "text": [
        "\n",
        "4721137029\n",
        "{'url': 'http://sfbay.craigslist.org/eby/apa/4721137029.html', 'app': 1000, 'id': '4721137029', 'desc': u'$1900 / 1br - 737ft\\xb2 - *Carriage House* Gated Community in a Quiet and Friendly Neighborhood! (fremont / union city / newark)'}"
       ]
      },
      {
       "output_type": "stream",
       "stream": "stdout",
       "text": [
        "\n",
        "4720771143\n",
        "{'url': 'http://sfbay.craigslist.org/eby/apa/4720771143.html', 'app': 1000, 'id': '4720771143', 'desc': u'$1786 / 1br - 685ft\\xb2 - 1 Bedroom is Ready for You to Move In! (fremont / union city / newark)'}"
       ]
      },
      {
       "output_type": "stream",
       "stream": "stdout",
       "text": [
        "\n",
        "4711477837\n",
        "{'url': 'http://sfbay.craigslist.org/eby/apa/4711477837.html', 'app': 1000, 'id': '4711477837', 'desc': u'$1845 / 1br - Ready to move in call now for an appointment!!!! (fremont / union city / newark)'}"
       ]
      },
      {
       "output_type": "stream",
       "stream": "stdout",
       "text": [
        "\n",
        "4708387181\n",
        "{'url': 'http://sfbay.craigslist.org/eby/apa/4708387181.html', 'app': 1000, 'id': '4708387181', 'desc': u'$3000 / 4br - 1000ft\\xb2 - 4 Bed 1 Bath Large Lot House for Rent (fremont / union city / newark)'}"
       ]
      },
      {
       "output_type": "stream",
       "stream": "stdout",
       "text": [
        "\n",
        "4698044778\n",
        "{'url': 'http://sfbay.craigslist.org/eby/apa/4698044778.html', 'app': 1000, 'id': '4698044778', 'desc': u'$2315 / 2br - 862ft\\xb2 - ~~ Now offering one month FREE!! For a limited time only ~~ (fremont / union city / newark)'}"
       ]
      },
      {
       "output_type": "stream",
       "stream": "stdout",
       "text": [
        "\n",
        "{'url': 'http://sfbay.craigslist.org/eby/apa/4698044778.html', 'app': 1000, 'id': '4698044778', 'desc': u'$2,315/mo'}\n",
        "4707251377\n",
        "{'url': 'http://sfbay.craigslist.org/eby/apa/4707251377.html', 'app': 1000, 'id': '4707251377', 'desc': u'$2900 / 3br - 1472ft\\xb2 - 3 bed 2 .5 bath townhome remodeled in Fremont  (fremont / union city / newark)'}"
       ]
      },
      {
       "output_type": "stream",
       "stream": "stdout",
       "text": [
        "\n",
        "4714916364\n",
        "{'url': 'http://sfbay.craigslist.org/eby/apa/4714916364.html', 'app': 1000, 'id': '4714916364', 'desc': u'$2600 / 3br - 1295ft\\xb2 - + Sun room - Gorgeous Single Family House - great neighborhood (fremont / union city / newark)'}"
       ]
      },
      {
       "output_type": "stream",
       "stream": "stdout",
       "text": [
        "\n",
        "4711328744\n",
        "{'url': 'http://sfbay.craigslist.org/eby/apa/4711328744.html', 'app': 1000, 'id': '4711328744', 'desc': u'$2600 / 2br - 2 bedroom unit for lease (fremont / union city / newark)'}"
       ]
      },
      {
       "output_type": "stream",
       "stream": "stdout",
       "text": [
        "\n",
        "4710176266\n",
        "{'url': 'http://sfbay.craigslist.org/eby/apa/4710176266.html', 'app': 1000, 'id': '4710176266', 'desc': u'$1595 / 545ft\\xb2 - Spacious Studio Apartment in Downtown Fremont move in ready 11/15/2014 (fremont / union city / newark)'}"
       ]
      },
      {
       "output_type": "stream",
       "stream": "stdout",
       "text": [
        "\n",
        "4721024294\n",
        "{'url': 'http://sfbay.craigslist.org/eby/apa/4721024294.html', 'app': 1000, 'id': '4721024294', 'desc': u'$2618 / 3br - 1320ft\\xb2 - COME VISIT OUR BEAUTIFUL FLOR PLANS!! (fremont / union city / newark)'}"
       ]
      },
      {
       "output_type": "stream",
       "stream": "stdout",
       "text": [
        "\n",
        "4718073843\n",
        "{'url': 'http://sfbay.craigslist.org/eby/apa/4718073843.html', 'app': 1000, 'id': '4718073843', 'desc': u'$3100 / 3br - 1500ft\\xb2 - 3Bd/2Baths Single Family Home - Schedule Your Appointment (fremont / union city / newark)'}"
       ]
      },
      {
       "output_type": "stream",
       "stream": "stdout",
       "text": [
        "\n",
        "{'url': 'http://sfbay.craigslist.org/eby/apa/4718073843.html', 'app': 1000, 'id': '4718073843', 'desc': u'$3,100/mo'}\n",
        "4718110291\n",
        "{'url': 'http://sfbay.craigslist.org/eby/apa/4718110291.html', 'app': 1000, 'id': '4718110291', 'desc': u'$2100 / 2br - 990ft\\xb2 - Meadowbrook 2 bed, 2bath condo (fremont / union city / newark)'}"
       ]
      },
      {
       "output_type": "stream",
       "stream": "stdout",
       "text": [
        "\n",
        "4716583168\n",
        "{'url': 'http://sfbay.craigslist.org/eby/apa/4716583168.html', 'app': 1000, 'id': '4716583168', 'desc': u'$1760 / 1br - PRIVATE END UNIT, LARGE STORAGE, YOUR NEW HOME IS HERE! (fremont / union city / newark)'}"
       ]
      },
      {
       "output_type": "stream",
       "stream": "stdout",
       "text": [
        "\n",
        "4716310375\n",
        "{'url': 'http://sfbay.craigslist.org/eby/apa/4716310375.html', 'app': 1000, 'id': '4716310375', 'desc': u'$1760 / 1br - OPEN FLOOR PLAN WITH A PRIVATE PATIO & GYM  (fremont / union city / newark)'}"
       ]
      },
      {
       "output_type": "stream",
       "stream": "stdout",
       "text": [
        "\n"
       ]
      }
     ],
     "prompt_number": 23
    },
    {
     "cell_type": "code",
     "collapsed": false,
     "input": [
      "all_content"
     ],
     "language": "python",
     "metadata": {},
     "outputs": [
      {
       "metadata": {},
       "output_type": "pyout",
       "prompt_number": 24,
       "text": [
        "{'4667100523': u'$2600 / 4br - 1321ft\\xb2 - 4 beds/2 baths near Stevenson /Sundale/880 walking distance to schools (fremont / union city / newark)',\n",
        " '4675852525': u'$3500 / 4br - 2094ft\\xb2 - Newly Built 4 Bed/3.5 Bath Single Home in Fremont Irvington (fremont / union city / newark)',\n",
        " '4675937071': u'$2900 / 3br - 1472ft\\xb2 - 3 bed 2 .5 bath townhome remodeled in Fremont  (fremont / union city / newark)',\n",
        " '4677306808': u'$2900 / 3br - 1472ft\\xb2 - 3 bed 2 .5 bath townhome remodeled in Fremont  (fremont / union city / newark)',\n",
        " '4683812582': u'$3100 / 3br - 1780ft\\xb2 - MISSION SAN JOSE ANTELOPE HILLS TOWNHOUSE (fremont / union city / newark)',\n",
        " '4684119955': u'$2400 / 3br - 1576ft\\xb2 - Fremont Brookvale house (fremont / union city / newark)',\n",
        " '4685873529': u'$1,895/mo',\n",
        " '4688449232': u'$1848 / 1br - 603ft\\xb2 - Apartment w/ washer & dryer in unit. Fitness center also! (fremont / union city / newark)',\n",
        " '4690236057': u'$2500 / 3br - 1550ft\\xb2 - Beautiful house, close to Dumbarton Bridge(Facebook), shopping center  (fremont / union city / newark)',\n",
        " '4691387359': u'$1625 / 1br - 630ft\\xb2 - Beautiful Niles Community! Downstairs Immediate Move-In ! (fremont / union city / newark)',\n",
        " '4692790556': u'$1750 / 2br - 800ft\\xb2 - Completely renovated apartment! 2 bed/1 bath in a gated community (fremont / union city / newark)',\n",
        " '4692849596': u'$1895 / 2br - 803ft\\xb2 - FREE COMCAST CABLE w/ HBO (fremont / union city / newark)',\n",
        " '4693357033': u'$2100 / 2br - 2 Bedroom 1 Bath - Newly Renovated (fremont / union city / newark)',\n",
        " '4694978856': u'$1550 / 2br - 750ft\\xb2 - INCREDIBLE 2BED/1BATH AVAILABLE!!! (fremont / union city / newark)',\n",
        " '4695412849': u'$1800 / 1br - 829ft\\xb2 - Take over 1 Bedroom apartment lease (fremont / union city / newark)',\n",
        " '4695475060': u'$2999 / 4br - 1922ft\\xb2 - luxuary 4bed 2 bath union city $,2,999 first month  (fremont / union city / newark)',\n",
        " '4696287452': u'$2900 / 3br - 1472ft\\xb2 - Great 3 bed 2.5 bath townhome remodeled in Fremont  (fremont / union city / newark)',\n",
        " '4696417639': u'$2900 / 3br - 1472ft\\xb2 - Great 3 bed 2.5 bath townhome remodeled in Fremont  (fremont / union city / newark)',\n",
        " '4697397493': u'$1550 / 2br - 750ft\\xb2 - AMAZING 2BED/1BATH AVAILABLE!! (fremont / union city / newark)',\n",
        " '4697859201': u'$3,300/mo',\n",
        " '4698040171': u'$2,315/mo',\n",
        " '4698042573': u'$2,515/mo',\n",
        " '4698044778': u'$2,315/mo',\n",
        " '4698067143': u'$2,515/mo',\n",
        " '4698128103': u'$2,315/mo',\n",
        " '4698129248': u'$2,315/mo',\n",
        " '4698874935': u'$2999 / 4br - 1922ft\\xb2 - luxuary 4bed 2 bath union city $,2,999 first month (fremont / union city / newark)',\n",
        " '4699576897': u'$2900 / 3br - 1472ft\\xb2 - 3 bed 2 .5 bath townhome remodeled in Fremont (fremont / union city / newark)',\n",
        " '4699579886': u'$2900 / 3br - 1472ft\\xb2 - 3 bed 2 .5 bath townhome remodeled in Fremont (fremont / union city / newark)',\n",
        " '4700013075': u'$2695 / 3br - 1300ft\\xb2 - Open house 10/18 10/19 1-4pm3 Bed 2 Bath Single Family Home in Fremont (fremont / union city / newark)',\n",
        " '4700775920': u'$2998 / 4br - 1617ft\\xb2 - Home in top school area in Fremont (fremont / union city / newark)',\n",
        " '4701023723': u'$2425 / 2br - 1111ft\\xb2 - Spacious 2bd/1.5ba including w/d & 2 car garage - AVAILABLE DECEMBER 1 (fremont / union city / newark)',\n",
        " '4701295277': u'$2900 / 3br - 1474ft\\xb2 - Updated single family home for rent (fremont / union city / newark)',\n",
        " '4701722996': u'$2449 / 3br - 1248ft\\xb2 - Beautiful home in Union City to rent $2449/month (fremont / union city / newark)',\n",
        " '4701965908': u'$1725 / 1br - 710ft\\xb2 - COME BY TODAY! Available for October 13Th  Move- In!  (fremont / union city / newark)',\n",
        " '4702435447': u'$2600 / 3br - 1442ft\\xb2 - 3 Bd, 2 Bth single family home (fremont / union city / newark)',\n",
        " '4703498373': u'$2800 / 4br - 1620ft\\xb2 - Upgraded 4 Bedroom 2 Bath Home in Irvington Area of Fremont (fremont / union city / newark)',\n",
        " '4704285477': u'$2500 / 2br - 1315ft\\xb2 - Fairly new remodeled Single Family House  (fremont / union city / newark)',\n",
        " '4705383827': u'$2,315/mo',\n",
        " '4705500955': u'$2900 / 3br - 1472ft\\xb2 - Great 3 bed 2.5 bath townhouse remodeled in Fremont  (fremont / union city / newark)',\n",
        " '4705550936': u'$1900 / 2br - 1013ft\\xb2 - Light bright condo (fremont / union city / newark)',\n",
        " '4705567196': u'$2900 / 3br - 1472ft\\xb2 - Great 3 bed 2.5 bath townhouse remodeled in Fremont  (fremont / union city / newark)',\n",
        " '4706347153': u'$3150 / 3br - 1540ft\\xb2 - Mission SanJose- 3BR, 2 Baths, 1540 SF  (fremont / union city / newark)',\n",
        " '4706666794': u'$1675 / 1br - Amazing 1 Bedroom $1,675 (fremont / union city / newark)',\n",
        " '4706955374': u'$2400 / 3br - 1180ft\\xb2 - 3 Bedroom Union City Home (fremont / union city / newark)',\n",
        " '4706997677': u'$2900 / 3br - 1472ft\\xb2 - 3 bed 2 .5 bath townhome remodeled in Fremont  (fremont / union city / newark)',\n",
        " '4707251377': u'$2900 / 3br - 1472ft\\xb2 - 3 bed 2 .5 bath townhome remodeled in Fremont  (fremont / union city / newark)',\n",
        " '4708241212': u'$2,400/mo',\n",
        " '4708307695': u'$2900 / 3br - 1472ft\\xb2 - 3 bed 2 .5 bath townhome remodeled in Fremont  (fremont / union city / newark)',\n",
        " '4708387181': u'$3000 / 4br - 1000ft\\xb2 - 4 Bed 1 Bath Large Lot House for Rent (fremont / union city / newark)',\n",
        " '4708469914': u'$3000 / 4br - 2184ft\\xb2 - 4BR/3BA Bright, luxury house in Fremont near Central Park (fremont / union city / newark)',\n",
        " '4708627612': u'$800 / 1br - 170ft\\xb2 - ** \\u8c6a\\u5b85! \\u8c6a\\u534e\\u5bb6\\u79c1\\u914d\\u5957\\u9f50 (fremont / union city / newark)',\n",
        " '4708634531': u'$3000 / 5br - 2240ft\\xb2 - Spacious 5 Bedrooms in Niles, Fremont  (fremont / union city / newark)',\n",
        " '4708689446': u'$2950 / 3br - 1186ft\\xb2 - 3 Bedroom Home Near Lakeshore Park (fremont / union city / newark)',\n",
        " '4708765187': u'$1599 / 1br - 600ft\\xb2 - ONE bedroom Unit Available NOW in the Heart of Fremont (fremont / union city / newark)',\n",
        " '4708837746': u'$2100 / 2br - 888ft\\xb2 - Union City 2-Bedroom Condo (fremont / union city / newark)',\n",
        " '4708874045': u'$2300 / 3br - 1500ft\\xb2 - Charming Ranch Style Home (fremont / union city / newark)',\n",
        " '4709086634': u'$2600 / 3br - 1300ft\\xb2 - Beautiful Ardenwood Home in Fremont (fremont / union city / newark)',\n",
        " '4709166878': u\"$3000 / 3br - 1600ft\\xb2 - Entertainer's delight - Centrally located fabulously upgraded home (fremont / union city / newark)\",\n",
        " '4709777629': u'$2,935/mo',\n",
        " '4710068294': u'$2150 / 2br - PARK-LIKE SETTING IN PRIME LOCATION, DESIGNER 2 BR (fremont / union city / newark)',\n",
        " '4710131865': u'$1965 / 2br - 830ft\\xb2 - Ready to Rent! (fremont / union city / newark)',\n",
        " '4710164005': u'$1699 / 1br - 685ft\\xb2 - Lovely Place To Call Home! Sparkling pool & relaxing spa!  $300 Dep. (fremont / union city / newark)',\n",
        " '4710174102': u'$1845 / 1br - Ready to move in call now for an appointment!!!! (fremont / union city / newark)',\n",
        " '4710176266': u'$1595 / 545ft\\xb2 - Spacious Studio Apartment in Downtown Fremont move in ready 11/15/2014 (fremont / union city / newark)',\n",
        " '4710193155': u'$2053 / 2br - 850ft\\xb2 - Top Floor 2 bed 1 Bath! The Place To Live! (fremont / union city / newark)',\n",
        " '4710227618': u'$3100 / 4br - 2030ft\\xb2 - $3100 / 4BR-3BA - 2030ft\\xb2 - Bright Ardenwood SFH Open House 2-4pm10/18 (fremont / union city / newark)',\n",
        " '4710259152': u'$2425 / 2br - 1010ft\\xb2 - Visit Your New Home, Night Patrol, Fitness Ctr, Easy Freeway Access (fremont / union city / newark)',\n",
        " '4710314987': u'$1760 / 1br - PARK-LIKE LANDSCAPING, POOL, SPA, FITNESS CENTER (fremont / union city / newark)',\n",
        " '4710316373': u'$1900 / 1br - 737ft\\xb2 - *Carriage House* Gated Community in a Quiet and Friendly Neighborhood! (fremont / union city / newark)',\n",
        " '4710317042': u'$2300 / 2br - 890ft\\xb2 - *Carriage House* Gated Community in a Quiet and Friendly Neighborhood! (fremont / union city / newark)',\n",
        " '4710320249': u'$2295 / 2br - 980ft\\xb2 - \\u2666\\u263aBRAND NEW EVERYTHING!\\u2666\\u263a (fremont / union city / newark)',\n",
        " '4710360494': u'$2595 / 2br - 1081ft\\xb2 - 37 Silk Oak, Fremont - Nice Townhome (fremont / union city / newark)',\n",
        " '4710368477': u'$1851 / 1br - 615ft\\xb2 - Available November 11th!! (fremont / union city / newark)',\n",
        " '4710369193': u'$1923 / 2br - 785ft\\xb2 - Only One Available November 1st (fremont / union city / newark)',\n",
        " '4710371000': u'$2068 / 2br - 895ft\\xb2 - Large Dual Floor Plan First Availability October 15th  (fremont / union city / newark)',\n",
        " '4710410118': u'$3600 / 4br - 2668ft\\xb2 - Mission Home - 699 Patriot Place - Fremont (fremont / union city / newark)',\n",
        " '4710451031': u'$1674 Affordable One Bedroom Near Public Transportation, Shopping and Dining (fremont / union city / newark)',\n",
        " '4710459519': u'$3400 / 3br - 2100ft\\xb2 - MISSION: ANTELOPE HILLS 3 BR 2 1/5 BATH  (fremont / union city / newark)',\n",
        " '4710469884': u'$1895 / 1br - 527ft\\xb2 - \\u2665HOME IS WHERE THE HEART IS\\u2665WASHER/DYER IN UNIT\\u2660 (fremont / union city / newark)',\n",
        " '4710494763': u'$1698 / 1br - AMAZING AMENITIES IN PARK-LIKE COMMUNITY (fremont / union city / newark)',\n",
        " '4710498444': u'$1900 / 1br - 737ft\\xb2 - *Carriage House* Gated Community in a Quiet and Friendly Neighborhood! (fremont / union city / newark)',\n",
        " '4710499204': u'$2300 / 2br - 890ft\\xb2 - *Carriage House* Gated Community in a Quiet and Friendly Neighborhood! (fremont / union city / newark)',\n",
        " '4710690027': u'$1995 / 2br - 850ft\\xb2 - COTTAGE / In-Law in Fremont  (fremont / union city / newark)',\n",
        " '4710699054': u'$2000 / 2br - 900ft\\xb2 - Mission Village 2BD/2 Full Bath Condo (fremont / union city / newark)',\n",
        " '4710948402': u'$3200 ** Beautiful 3BD Single Family Home - with Full Amenities *** (fremont / union city / newark)',\n",
        " '4710977244': u'$3,100/mo',\n",
        " '4711067392': u'$1950 / 1br - 710ft\\xb2 - Luxurious Homes, Near Public Parks, Parkmont Schools (fremont / union city / newark)',\n",
        " '4711111236': u'$1795 / 1br - 527ft\\xb2 - \\u263bBART RIDERS DREAM/CLOSE TO SHOPPING\\u263b (fremont / union city / newark)',\n",
        " '4711129092': u'$1698 / 1br - PRIVATE END UNIT, LARGE STORAGE, YOUR NEW HOME IS HERE! (fremont / union city / newark)',\n",
        " '4711216233': u'$1845 / 1br - Ready to move in call now for an appointment!!!! (fremont / union city / newark)',\n",
        " '4711238589': u'$1625 / 1br - 630ft\\xb2 - Beautiful Niles Community! Upstairs  Move-In October 23th! (fremont / union city / newark)',\n",
        " '4711243094': u'$1725 / 1br - 710ft\\xb2 - COME BY TODAY! Available for Move- In Today!  (fremont / union city / newark)',\n",
        " '4711260041': u'$3,350/mo',\n",
        " '4711266858': u'$1547 / 1br - 660ft\\xb2 - Medallion Has All The Space You Need... (fremont / union city / newark)',\n",
        " '4711328744': u'$2600 / 2br - 2 bedroom unit for lease (fremont / union city / newark)',\n",
        " '4711374823': u'$1100 / 1br - 300ft\\xb2 - Private 24 ft camper -fully funtional (fremont / union city / newark)',\n",
        " '4711401643': u'$2095 / 2br - 850ft\\xb2 - 2 bed 1 bath  (fremont / union city / newark)',\n",
        " '4711427069': u'$2800 / 5br - 1600ft\\xb2 - Single story house near Lake Elizebeth (fremont / union city / newark)',\n",
        " '4711442471': u'$1550 / 1br - 1 bedr apt for 1550 only in Newark   (fremont / union city / newark)',\n",
        " '4711450323': u'$2700 / 3br - 1200ft\\xb2 - Large 3 bedroom 2 bathroom Condo in Monte Vista Villas for rent (fremont / union city / newark)',\n",
        " '4711477837': u'$1845 / 1br - Ready to move in call now for an appointment!!!! (fremont / union city / newark)',\n",
        " '4711482079': u'$1875 / 1br - 565ft\\xb2 - Schedule a Tour, Community Clubhouse, Near Shops and Dining (fremont / union city / newark)',\n",
        " '4711496032': u'$2790 / 4br - 1640ft\\xb2 - Parkmont Area - 4 Bed / 2 Bath Single-level, Single-family  (fremont / union city / newark)',\n",
        " '4711529037': u'$2295 / 2br - 980ft\\xb2 - \\u2660GREAT PRICE, LOCATION, AND QUIET\\u2660 (fremont / union city / newark)',\n",
        " '4711547661': u'$2850 / 3br - 1877ft\\xb2 - Great 3BR/2.5 bath home for rent in Union city (fremont / union city / newark)',\n",
        " '4711561337': u'$1698 / 1br - OPEN FLOOR PLAN WITH A PRIVATE PATIO & GYM (fremont / union city / newark)',\n",
        " '4711731689': u'$1698 / 1br - RESORT LIVING IN A SERENE PARK SETTING (fremont / union city / newark)',\n",
        " '4711769872': u'$650 / 1br - Looking for roommates right across fremont bart station (fremont / union city / newark)',\n",
        " '4711894505': u'$2400 / 2br - 1200ft\\xb2 - HUGE 2Bed/2Bath Condo, 1200sq ft, Washer/Dryer, Central AC, REAL Garag (fremont / union city / newark)',\n",
        " '4711899551': u'$2340 / 3br - 1000ft\\xb2 - Remodeled Warm Springs House (fremont / union city / newark)',\n",
        " '4711946435': u'$2100 / 3br - 1385ft\\xb2 - 3 Bed room 1 Bath Apartment. (fremont / union city / newark)',\n",
        " '4712299524': u'$3,100/mo',\n",
        " '4712488865': u'$1869 / 1br - 769ft\\xb2 - Large 1x1/Ideal Downtown Hayward Location/Full Size Washer/Dryer!!! (fremont / union city / newark)',\n",
        " '4712548353': u'$2500 / 4br - 1612ft\\xb2 - Union City House for Rent (fremont / union city / newark)',\n",
        " '4712560073': u'$2395 / 2br - 980ft\\xb2 - \\u263bBART RIDERS DREAM/CLOSE TO SHOPPING\\u263b (fremont / union city / newark)',\n",
        " '4712586884': u'$2295 / 2br - 1004ft\\xb2 - \\u2665LOOKING FOR PEACE AND QUIET\\u2665 COME AND TOUR TODAY\\u2665 (fremont / union city / newark)',\n",
        " '4712595054': u'$1950 / 1br - 710ft\\xb2 - Stylish Features, Washer Dryer in Unit, Walk to BART (fremont / union city / newark)',\n",
        " '4712627279': u'$3500 / 4br - 2000ft\\xb2 - Executive Living Ranch Style Single Family (fremont / union city / newark)',\n",
        " '4712640948': u'$3350 / 4br - 1750ft\\xb2 - $3350 (Free till 10/31)  4br 1750ft\\xb2 - Fremont Mission SJ schools 94539  (fremont / union city / newark)',\n",
        " '4712643131': u'$1698 / 1br - PARK-LIKE LANDSCAPING, POOL, SPA, FITNESS CENTER (fremont / union city / newark)',\n",
        " '4712645561': u'$5380 / 5br - 3800ft\\xb2 - 708 Chavel Court, Fremont, Avail.10/25 Ext.43 (fremont / union city / newark)',\n",
        " '4712711557': u'$3200 / 3br - 1723ft\\xb2 - 3 BRs, 2 BAs SFH in Fremont (94539) for Rent (fremont / union city / newark)',\n",
        " '4712715052': u'$2800 / 3br - 1067ft\\xb2 - Nice quiet 3Bed-2Bath (fremont / union city / newark)',\n",
        " '4712729495': u'$2350 / 2br - 900ft\\xb2 - 2br/2ba Beautifully Updated Newark Condo  (fremont / union city / newark)',\n",
        " '4712774235': u'$1565 / 1br - 660ft\\xb2 - Your Future Is Here At Medallion Apts... (fremont / union city / newark)',\n",
        " '4712777820': u'$2085 / 3br - 3 bed 2 bath Duplex (fremont / union city / newark)',\n",
        " '4712816448': u'$2753 / 3br - 1320ft\\xb2 - Three-Bedroom, Two-Bathroom Apartment with W/D (fremont / union city / newark)',\n",
        " '4712876134': u'$3500 / 4br - 2200ft\\xb2 - 4 Bed 3.5 Bath Single Family House in Fremont Mission San Jose (fremont / union city / newark)',\n",
        " '4712902699': u'$2000 / 1br - One bedroom Luxury apt sublet  (fremont / union city / newark)',\n",
        " '4712913492': u'$500 / 1br - 800ft\\xb2 - Room to share  (fremont / union city / newark)',\n",
        " '4712961121': u'$1795 / 1br - 527ft\\xb2 - \\u263bBART RIDERS DREAM/CLOSE TO SHOPPING\\u263b (fremont / union city / newark)',\n",
        " '4712987709': u'$1698 / 1br - LUSH GARDENS, POOL, SPA, FITNESS CENTER AND BRIGHT ONE BR (fremont / union city / newark)',\n",
        " '4712998954': u'$2500 / 3br - 1475ft\\xb2 - Updated Nice Town Home 4 Lease in Fremont! (fremont / union city / newark)',\n",
        " '4713030866': u'$2753 / 3br - 1320ft\\xb2 - 3BD/2BA Apartment with Quartz Countertops (fremont / union city / newark)',\n",
        " '4713110947': u'$1875 / 1br - 565ft\\xb2 - Enriched Lifestyle, Heated Pool, Sauna, Pets Welcome (fremont / union city / newark)',\n",
        " '4713151241': u'$2295 / 2br - 1004ft\\xb2 - \\u2666TOUR TODAY AND ENJOY BEAUTIFULLY RENOVATED APT HOMES\\u2666 (fremont / union city / newark)',\n",
        " '4713175552': u'$1845 / 2br - 910ft\\xb2 - Call Us Home (fremont / union city / newark)',\n",
        " '4713215164': u'$3600 / 3br - 1712ft\\xb2 - Brand New single Family Home for Rent (fremont / union city / newark)',\n",
        " '4713236409': u'$2,400/mo',\n",
        " '4713256188': u'$2750 / 6br - 2000ft\\xb2 - Fremont \\u4e2d\\u5fc36\\u5367\\u5927\\u623f\\u51fa\\u79df (fremont / union city / newark)',\n",
        " '4713260679': u'$2750 / 6br - 2000ft\\xb2 - Single Family House at Central Fremont (fremont / union city / newark)',\n",
        " '4713359828': u'$2753 / 3br - 1320ft\\xb2 - 3BD/2BA Apartment with Quartz Countertops (fremont / union city / newark)',\n",
        " '4713367982': u'$1795 / 1br - 650ft\\xb2 - BEAUTIFUL 1 BEDROOM AT QUIET NEIGHBORHOOD IN FREMONT!  (fremont / union city / newark)',\n",
        " '4713417760': u'$2295 / 2br - 980ft\\xb2 - \\u2665HOME IS WHERE THE HEART IS\\u2665HUGE MASTERBEDROOM\\u2666 (fremont / union city / newark)',\n",
        " '4713423547': u'$2400 / 2br - Beautiful renovated condo in Ardenwood (fremont / union city / newark)',\n",
        " '4713487145': u'$4000 / 4br - 2684ft\\xb2 - Newly rebuilt custom home  (fremont / union city / newark)',\n",
        " '4713540911': u'$3,100/mo',\n",
        " '4713579826': u'$1950 / 2br - 900ft\\xb2 - Fremont Mission San Jose 2bds, 1.5 bth Dont miss it! (fremont / union city / newark)',\n",
        " '4713587740': u'$1650 / 1br - 760ft\\xb2 - New Apartment/Condo Near Bart Fremont! (fremont / union city / newark)',\n",
        " '4713599979': u'$3450 / 3br - 1700ft\\xb2 - Brand New Single Family Home (fremont / union city / newark)',\n",
        " '4713631502': u'$3250 / 4br - 2146ft\\xb2 - 1999 Remodeled two story 4 bed plus Loft (fremont / union city / newark)',\n",
        " '4713634429': u'$2600 / 3br - 1204ft\\xb2 - Beautiful 3 bed 2 bath condo in warm springs (fremont / union city / newark)',\n",
        " '4713653154': u'$2700 / 4br - 1500ft\\xb2 - 4BR / 2Ba 1500ft2 house Available immediately (fremont / union city / newark)',\n",
        " '4713662926': u'$2500 / 2br - 1040ft\\xb2 - \\u9ad8\\u7d1aCondo\\u51fa\\u79df2\\u623f2\\u6d74 \\u8fd1BART (fremont / union city / newark)',\n",
        " '4713716965': u'$2675 / 2br - 1700ft\\xb2 - Spacious Brand New Remodeled 2 bdrms 2.5 bths Townhouse in Irvington (fremont / union city / newark)',\n",
        " '4714022747': u'$3200 / 3br - Single family house in Mission Sanjose (fremont / union city / newark)',\n",
        " '4714196556': u'$2175 / 2br - DESIGNER-INSPIRED FLOOR PLANS WITH LUSH GARDEN VIEW (fremont / union city / newark)',\n",
        " '4714202046': u'$2220 / 2br - 1026ft\\xb2 - Beautiful 2 bedrooms available  (fremont / union city / newark)',\n",
        " '4714202943': u'$1790 / 1br - 600ft\\xb2 - Beautiful and spacious 1 bedrooms available  (fremont / union city / newark)',\n",
        " '4714216278': u'$2100 / 2br - 895ft\\xb2 - :~:~:A Great Place to Call Home:~:~: (fremont / union city / newark)',\n",
        " '4714259431': u'$1698 / 1br - RESORT STYLE LIVING IN A PRIME FREMONT LOCATION  (fremont / union city / newark)',\n",
        " '4714327754': u'$2425 / 2br - 1010ft\\xb2 - Professionally Managed, Air Conditioning, Ceiling Fan, Covered Parking (fremont / union city / newark)',\n",
        " '4714367696': u'$1795 / 1br - 650ft\\xb2 - 1 BEDROOM APARTMENT! QUIET NEIGHBORHOOD IN FREMONT  (fremont / union city / newark)',\n",
        " '4714386318': u'$2753 / 3br - 1320ft\\xb2 - Stunning 3X2 Apartment with W/D Set in Fremont! (fremont / union city / newark)',\n",
        " '4714391095': u'$2400 / 2br - 1405ft\\xb2 - Good Townhouse in Fremont, Northgate area (fremont / union city / newark)',\n",
        " '4714405729': u'$2,445/mo',\n",
        " '4714475368': u'$1410 / 1br - 580ft\\xb2 - VICTORIA GARDENS SENIOR COMMUNITY FOR ACTIVE ADULTS 55 & OLDER (fremont / union city / newark)',\n",
        " '4714533902': u'$1543 / 1br - 650ft\\xb2 - Best Rate In Town! Perfect Apartment Home Now Available! (fremont / union city / newark)',\n",
        " '4714556978': u'$3150 / 4br - 1900ft\\xb2 - Great Fremont SFH in nice neighborhood - Free rent until Oct 31st 2014 (fremont / union city / newark)',\n",
        " '4714577580': u'$1875 / 1br - 825ft\\xb2 - Huge 1 bed w/beautiful backyard near BART (fremont / union city / newark)',\n",
        " '4714593113': u'$2900 / 3br - 1472ft\\xb2 - Great 3 bed 2.5 bath townhome remodeled in Fremont  (fremont / union city / newark)',\n",
        " '4714642935': u'$2753 / 3br - 1320ft\\xb2 - COME CHECK OUT OUR BEAUTIFUL 3X2 (fremont / union city / newark)',\n",
        " '4714683244': u'$1895 / 1br - 527ft\\xb2 - \\u2660GREAT PRICE, LOCATION, AND QUIET\\u2660 (fremont / union city / newark)',\n",
        " '4714721833': u'$2750 / 3br - 1350ft\\xb2 -  3BR/2.5 BA home for rent in Fremont Ardenwood/Forest Park area (fremont / union city / newark)',\n",
        " '4714754197': u'$1950 / 1br - 710ft\\xb2 - Outstanding Location, Responsive Maintenance, Spacious Floorplan (fremont / union city / newark)',\n",
        " '4714754613': u'$1850 / 2br - 1054ft\\xb2 - Union City (fremont / union city / newark)',\n",
        " '4714845323': u'$1760 / 1br - DESIGNER INTERIORS, SPACIOUS FLOOR PLANS AND AMAZING AMENITIES (fremont / union city / newark)',\n",
        " '4714916364': u'$2600 / 3br - 1295ft\\xb2 - + Sun room - Gorgeous Single Family House - great neighborhood (fremont / union city / newark)',\n",
        " '4714930467': u'$2200 / 2br - $2200 /2 Bed 1 Bath - New Remodeled (fremont / union city / newark)',\n",
        " '4714998173': u'$2100 / 2br - 895ft\\xb2 - \\u2706~\\u260f~\\u260eCall Oak Pointe Apartments Today!\\u260e~\\u260f~\\u2706 (fremont / union city / newark)',\n",
        " '4715000264': u'$1760 / 1br - AMAZING AMENITIES IN A PARK-LIKE COMMUNITY (fremont / union city / newark)',\n",
        " '4715095868': u'$1200 / 1br - One Bedroom Apartment in Historic Niles District of Fremont (fremont / union city / newark)',\n",
        " '4715242777': u'$3,600/mo',\n",
        " '4715245194': u'$1685 / 1br - 600ft\\xb2 - Cottage in Warm Springs District of Fremont (fremont / union city / newark)',\n",
        " '4715295146': u'$2175 / 2br - 1080ft\\xb2 - 2B/B - 3300 Wolcott Cmn 1st flr condo (fremont / union city / newark)',\n",
        " '4715361058': u'$2100 / 2br - 1195ft\\xb2 - House for Rent Union City - Open House (fremont / union city / newark)',\n",
        " '4715594497': u'$3000 / 3br - 1254ft\\xb2 -  3 bedroom 2 bath 2 car BRAND  NEW Remodel (fremont / union city / newark)',\n",
        " '4715613615': u'$3,100/mo',\n",
        " '4715714446': u'$1890 / 735ft\\xb2 - Waterstone@Fremont 735 1br (fremont / union city / newark)',\n",
        " '4715766018': u'$3200/mo',\n",
        " '4715776465': u'$2800 / 3br - 1752ft\\xb2 - Nor Cal Realty Inc - 3 bedroom 2.5 bath Single family home (fremont / union city / newark)',\n",
        " '4715804870': u'$2600 / 4br - 1544ft\\xb2 - Single-Family Home In Nice Neighborhood (fremont / union city / newark)',\n",
        " '4715828086': u'$2193 Fully Furnished Studio - $2193.00/Month (fremont / union city / newark)',\n",
        " '4715854469': u'$1760 / 1br - RESORT LIVING IN SERENE PARK SETTING  (fremont / union city / newark)',\n",
        " '4715854595': u'$2300 / 3br - 1280ft\\xb2 - 3 Bedrooms, 1.5 Bathrooms Townhouse available for rent in Union City (fremont / union city / newark)',\n",
        " '4715855732': u'$2295 / 2br - 1004ft\\xb2 - \\u263bBART RIDERS DREAM/CLOSE TO SHOPPING\\u263b (fremont / union city / newark)',\n",
        " '4715856047': u'$3000 / 3br - 1760ft\\xb2 - Spacious 3bed/2.5bath Home in Fremont North Gate neighborhood (fremont / union city / newark)',\n",
        " '4715875696': u'$1875 / 1br - 565ft\\xb2 - Call for Details, Easy Freeway Access, Night Patrol, Fitness Ctr (fremont / union city / newark)',\n",
        " '4715877888': u'$1650 / 1br - 600ft\\xb2 - Immediate move-in: 1 bedroom, 2nd floor, Irvington HS (fremont / union city / newark)',\n",
        " '4715886056': u'$2320 / 1br - Apartment for $2320.00in Fremont (fremont / union city / newark)',\n",
        " '4715894084': u'$2240 / 2br - 975ft\\xb2 - Newly Remodeled 2 bdrm & 2 bathroom with washer & dryer! Call Today! (fremont / union city / newark)',\n",
        " '4715900600': u'$2100 / 2br - 895ft\\xb2 - \\u25ce~\\u25ceLook No Further!!\\u25ce~\\u25ce (fremont / union city / newark)',\n",
        " '4715923768': u'$885 / 1br - Niles cottage (fremont / union city / newark)',\n",
        " '4715937142': u'$2500 / 3br - 1550ft\\xb2 - Beautiful house, close to Dumbarton Bridge(Facebook), shopping center  (fremont / union city / newark)',\n",
        " '4715989928': u'$1350 / 2br - 900ft\\xb2 - 37847 Niles Blvd #2, Fremont, Avail.11/1 (fremont / union city / newark)',\n",
        " '4716014756': u'$1786 / 1br - 685ft\\xb2 - Alderwood Park, Wants You As A Resident! (fremont / union city / newark)',\n",
        " '4716022889': u'$1795 / 1br - 650ft\\xb2 - UPGRADED 1 BEDROOM APARTMENT IN FREMONT! (fremont / union city / newark)',\n",
        " '4716039487': u'$2295 / 1br - Studio suites only $2295.00 (fremont / union city / newark)',\n",
        " '4716066963': u'$1700 / 1br - 650ft\\xb2 - Ready to Rent! (fremont / union city / newark)',\n",
        " '4716072949': u'$2015 / 2br - 830ft\\xb2 - No Fooling Around! Fantastic Prices! (fremont / union city / newark)',\n",
        " '4716082763': u'$1639 / 650ft\\xb2 - Your New Home Awaits...Click Here.. (fremont / union city / newark)',\n",
        " '4716083353': u'$2009 / 2br - 750ft\\xb2 - Looking To Settle Into Your New HOme Before Winter...Click Here... (fremont / union city / newark)',\n",
        " '4716116880': u'$3200 Beautiful 3 BR / 2.5 BA House - with Full  Amenities (fremont / union city / newark)',\n",
        " '4716135024': u'$2,095/mo',\n",
        " '4716172234': u'$1930 / 760ft\\xb2 - Are You Ready To Move..Waterstone@Fremont (fremont / union city / newark)',\n",
        " '4716184273': u'$2,000/mo',\n",
        " '4716200383': u'$2,545/mo',\n",
        " '4716213017': u'$2095 / 3br - Fully Remodeled Fremont House. Available 3bed/2bath  (fremont / union city / newark)',\n",
        " '4716239872': u'$2580 / 4br - 2050ft\\xb2 - 4 Bed / 3 Bath Irvington 3 Story Townhome (fremont / union city / newark)',\n",
        " '4716279923': u'$3000 3BR/2.5BA Ardenwood SFH For Rent; Open House Sunday (10/19) 2pm-4pm (fremont / union city / newark)',\n",
        " '4716310375': u'$1760 / 1br - OPEN FLOOR PLAN WITH A PRIVATE PATIO & GYM  (fremont / union city / newark)',\n",
        " '4716327770': u'$2695 / 3br - 1300ft\\xb2 - 3 Bed 2 Bath Single Family Home in Fremont (fremont / union city / newark)',\n",
        " '4716356165': u'$2425 / 2br - 1010ft\\xb2 - Now Available, Near Public Parks, Parkmont Schools (fremont / union city / newark)',\n",
        " '4716382724': u'$2395 / 2br - 980ft\\xb2 - \\u2022\\u263bTHIS BEAUTIFUL UPGRADED APT HOME HAS ALL THE COMFORTS\\u263b\\u2022\\u2022 (fremont / union city / newark)',\n",
        " '4716414560': u'$1710 / 1br - 600ft\\xb2 - 1BHK Near Union City BART For 8 Months Sublease-$1710. Short term also (fremont / union city / newark)',\n",
        " '4716419404': u'$3199 / 3br - 1790ft\\xb2 - Newly Renovated Single House. One Month Free Move in Special (fremont / union city / newark)',\n",
        " '4716420328': u'$2700 / 4br - 1476ft\\xb2 - 4 bedroom single house w/excellent schools (fremont / union city / newark)',\n",
        " '4716425083': u'$2360 / 2br - 1050ft\\xb2 - FREMONT ARDENWOOD CONDO! (fremont / union city / newark)',\n",
        " '4716469194': u'$4700 / 5br - 3200ft\\xb2 - Beautiful Furnished 5BD/4Bath in Fremont  (fremont / union city / newark)',\n",
        " '4716471995': u\"$2125 / 2br - DON'T LET THIS ONE GET AWAY! SUNNY, QUIET, SPACIOUS & BEAUTIFUL HOME! (fremont / union city / newark)\",\n",
        " '4716510220': u'$2295 / 1br - 527ft\\xb2 - \\u2665HOME IS WHERE THE HEART IS\\u2665RANHO LUNA/SOL APT HOMES NOW LEASINGb (fremont / union city / newark)',\n",
        " '4716528401': u'$2395 / 2br - 980ft\\xb2 - \\u2666A CATCH! COME TOUR TODAY \\u2666 (fremont / union city / newark)',\n",
        " '4716531523': u'$2800 / 4br - 1928ft\\xb2 - Single Newark Lake home for Rent (fremont / union city / newark)',\n",
        " '4716543450': u'$2695 / 4br - 1384ft\\xb2 - SPACIOUS 4BEDS/2BATHS HOUSE FOR RENT (fremont / union city / newark)',\n",
        " '4716544304': u'$2295 / 2br - 980ft\\xb2 - \\u263aFEEL THE WARMTH HERE AT RANCHO LUNA/SOL (fremont / union city / newark)',\n",
        " '4716548767': u'$2850 / 3br - 1688ft\\xb2 - Beautiful Home in Forest Park School area available Mid-Nov (fremont / union city / newark)',\n",
        " '4716554751': u'$1895 / 1br - 527ft\\xb2 - \\u2665COMMUNITY A FEELING OF FELLOWSHIP WITH OTHERS JOIN OURS\\u2665  (fremont / union city / newark)',\n",
        " '4716578860': u'$1900 / 1br - 760ft\\xb2 - Are You Ready To Move..Waterstone@Fremont (fremont / union city / newark)',\n",
        " '4716583168': u'$1760 / 1br - PRIVATE END UNIT, LARGE STORAGE, YOUR NEW HOME IS HERE! (fremont / union city / newark)',\n",
        " '4716592576': u'$2500 / 3br - Quiet 3br/2ba home in quiet Fremont (fremont / union city / newark)',\n",
        " '4716603113': u'$2400 / 3br - 1400ft\\xb2 - Beautiful, Spacious 3 Bed 2 Bath House in Fremont (fremont / union city / newark)',\n",
        " '4716627039': u\"$2100 / 2br - 895ft\\xb2 - ~\\xa4\\u066d\\xa4~It's the place for YOU~\\xa4\\u066d\\xa4~ (fremont / union city / newark)\",\n",
        " '4716658938': u'$3,100/mo',\n",
        " '4716803189': u'$1563 / 1br - 600ft\\xb2 - One Beadroom Apartment available from Novermber 4 2014 for $1563.00 (fremont / union city / newark)',\n",
        " '4716807602': u'$2500 / 3br - House For Rent In Mission San jose Fremont (fremont / union city / newark)',\n",
        " '4716842666': u'$5100 / 5br - 3500ft\\xb2 - LARGE FREMONT EXECUTIVE HOME ! TOP MISSION SCHOOLS ! (fremont / union city / newark)',\n",
        " '4716850586': u'$2495 / 5br - 1600ft\\xb2 - Remodeled 5 bedrooms home Union City (fremont / union city / newark)',\n",
        " '4716872326': u'$2600 / 3br - 1391ft\\xb2 - Beautifully renovated home near Warwick Elementary (fremont / union city / newark)',\n",
        " '4716882876': u'$2200 / 2br - 2Bath, 934 sqft, Condo with 1 car garage (fremont / union city / newark)',\n",
        " '4717225080': u'$2,600/mo',\n",
        " '4717426165': u'$2495 / 2br - 1106ft\\xb2 - Commuting is Easy when You Live at The Presidio! (fremont / union city / newark)',\n",
        " '4717430532': u\"$2095 / 1br - 734ft\\xb2 - Moving Can Be Hard. We'll Make it Easy at The Presidio! (fremont / union city / newark)\",\n",
        " '4717473394': u'$1895 / 1br - 527ft\\xb2 - \\u2665HOME IS WHERE THE HEART IS\\u2665RANHO LUNA/SOL APT HOMES NOW LEASINGb (fremont / union city / newark)',\n",
        " '4717477696': u'$1950 / 1br - 710ft\\xb2 - Enriched Lifestyle, Near Shops and Dining, Community Clubhouse (fremont / union city / newark)',\n",
        " '4717478172': u'$2395 / 2br - 1004ft\\xb2 - \\u2666A CATCH! COME TOUR TODAY \\u2666 (fremont / union city / newark)',\n",
        " '4717504335': u'$4795 / 5br - 3168ft\\xb2 - Gorgeous Mission Fremont Home ... Will not Last!!! (fremont / union city / newark)',\n",
        " '4717522155': u'$2500 / 3br - 1314ft\\xb2 - 5 year new townhouse for rent (fremont / union city / newark)',\n",
        " '4717544934': u'$2100 / 2br - 895ft\\xb2 - \\u2248\\u25ce\\u2248Come Home This Summer!\\u2248\\u25ce\\u2248 (fremont / union city / newark)',\n",
        " '4717545721': u'$1350 / 1br - 672ft\\xb2 - OPEN HOUSE- Saturday, October 18, 2014 from 11am-2pm (fremont / union city / newark)',\n",
        " '4717568550': u'$2185 / 2br - 1009ft\\xb2 - 2 BR Town Homes Available October 22 & 24 (fremont / union city / newark)',\n",
        " '4717573101': u'$2500 / 3br - 1550ft\\xb2 - Beautiful house, close to Dumbarton Bridge(Facebook), shopping center  (fremont / union city / newark)',\n",
        " '4717573618': u'$2495 / 3br - 1120ft\\xb2 - 3Bedroom 2Bath house Available Now/ Great Location (Fremont) (fremont / union city / newark)',\n",
        " '4717582558': u'$1698 / 1br - RESORT STYLE LIVING IN PRIME FREMONT LOCATION (fremont / union city / newark)',\n",
        " '4717606226': u'$1665 / 1br - 650ft\\xb2 - No Fooling Around! Fantastic Prices! (fremont / union city / newark)',\n",
        " '4717618384': u'$2459 / 1br - 877ft\\xb2 - Charming apartment homes w/spacious and open kitchen layout! (fremont / union city / newark)',\n",
        " '4717628738': u'$2015 / 2br - 830ft\\xb2 - The peace of mind you deserve. (fremont / union city / newark)',\n",
        " '4717634471': u'$2175 / 2br - 850ft\\xb2 - Spacious Two Bedroom One Bath, Apartment Home. Ready 10/13! (fremont / union city / newark)',\n",
        " '4717640141': u'$3,750/mo',\n",
        " '4717653735': u'$2,695/mo',\n",
        " '4717668366': u'$2094 / 2br - ELEGANTLY DESIGNED 2 BEDROOMS IN A BEAUTIFULLY LANDSCAPED COMMUNITY (fremont / union city / newark)',\n",
        " '4717669681': u'$1795 / 1br - 650ft\\xb2 - FULLY UPGRADED 1 BEDROOM APARTMENT IN FREMONT! PRIVATE BALCONY! (fremont / union city / newark)',\n",
        " '4717691173': u'$1,900/mo',\n",
        " '4717691905': u'$2,150/mo',\n",
        " '4717797626': u'$1795 / 1br - 527ft\\xb2 - \\u263aFEEL THE WARMTH HERE AT RANCHO LUNA/SOL (fremont / union city / newark)',\n",
        " '4717808304': u'$900 / 1br - 300ft\\xb2 - Fully furnished trailer home (fremont / union city / newark)',\n",
        " '4717828930': u'$2655 / 2br - 982ft\\xb2 - Looking for quick access to BART and Shopping? Look no further! (fremont / union city / newark)',\n",
        " '4717837201': u'$2176 / 2br - 980ft\\xb2 - Comfort and Convenience Right At Your Finger Tip..Waterstone@Fremont (fremont / union city / newark)',\n",
        " '4717846989': u'$2395 / 2br - 980ft\\xb2 - \\u263b\\u2665THE MOST LIKED PLACE TO LIVE ON FACEBOOK\\u263b\\u2665 (fremont / union city / newark)',\n",
        " '4717850427': u'$1865 / 1br - 760ft\\xb2 - Are You Ready To Move..Waterstone@Fremont (fremont / union city / newark)',\n",
        " '4717861265': u'$1698 / 1br - 565ft\\xb2 - A Great Junior 1br Unit To Call home @waterstone Fremont (fremont / union city / newark)',\n",
        " '4717905618': u'$1750 / 1br - 875ft\\xb2 - SPACIOUS 1 BED ROOM in Excellent Community (fremont / union city / newark)',\n",
        " '4717955759': u'$1875 / 1br - 565ft\\xb2 - Luxurious Homes, Walk to BART, Washer Dryer in Unit (fremont / union city / newark)',\n",
        " '4717962752': u'$2784 / 2br - 1184ft\\xb2 - Luxury apartment community w/the comfort & convenience of city life! (fremont / union city / newark)',\n",
        " '4717989371': u'$2,600/mo',\n",
        " '4718001748': u'$1698 / 1br - OPEN FLOOR PLAN WITH A PRIVATE PATIO &GYM (fremont / union city / newark)',\n",
        " '4718002189': u'$2100 / 2br - 895ft\\xb2 - \\u260e~\\u260e~\\u260e~Oak Pointe Apartments ~\\u260e~\\u260e~\\u260e (fremont / union city / newark)',\n",
        " '4718057214': u'$1782 / 2br - 754ft\\xb2 - Affordable and Beautiful! (fremont / union city / newark)',\n",
        " '4718073843': u'$3,100/mo',\n",
        " '4718079341': u'$2399 / 2br - 850ft\\xb2 - Make The Woods Your Home Today...Call NOW!! (fremont / union city / newark)',\n",
        " '4718095749': u'$2278 / 2br - 800ft\\xb2 - Hurry While The Prices Are LOW!! Ask About #914!! (fremont / union city / newark)',\n",
        " '4718110291': u'$2100 / 2br - 990ft\\xb2 - Meadowbrook 2 bed, 2bath condo (fremont / union city / newark)',\n",
        " '4718111156': u'$3200 / 4br - 2000ft\\xb2 - Newer Union City Home Available Nov1 Convenient Location W/D &Hardwood (fremont / union city / newark)',\n",
        " '4718139101': u'$2295 / 2br - 980ft\\xb2 - \\u25d8ENJOY YOUR SURROUNDINGS IN AN UPDATED APT HOME TODAY\\u25d8 (fremont / union city / newark)',\n",
        " '4718139132': u'$2295 / 2br - 980ft\\xb2 - \\u2666WE HAVE WONDERFUL APT HOMES FOR RENT CLOSE TO EVERYTHING/FREMONT HUB\\u03d7 (fremont / union city / newark)',\n",
        " '4718164387': u'$3,500/mo',\n",
        " '4718175757': u'$1650 / 2br - 750ft\\xb2 - GREAT 2 BEDROOMS DUPLEX  WITH GARAGE AND LARGE BACK YARD (fremont / union city / newark)',\n",
        " '4718181090': u'$1599 / 1br - 750ft\\xb2 - Fremont Remodeled 1B/1B Cottage with Private Garage and Yard (fremont / union city / newark)',\n",
        " '4718195034': u'$1200 / 1br - 380ft\\xb2 - 1 Br-Studio residential in Union City (fremont / union city / newark)',\n",
        " '4718206189': u'$1698 / 1br - PRIVATE END UNIT, LARGE STORAGE, YOUR NEW HOME IS HERE! (fremont / union city / newark)',\n",
        " '4718268865': u'$3600 / 5br - 2000ft\\xb2 - Beautiful 5 bedroom 3 bath house $3,600.00 with lots of upgrades (fremont / union city / newark)',\n",
        " '4718283672': u'$2500 / 4br - 1820ft\\xb2 - 4 bedroom,2 Bath (fremont / union city / newark)',\n",
        " '4718341765': u'$2600 4 bedroom 2 story house (fremont / union city / newark)',\n",
        " '4718342445': u'$3400 / 5br - 2880ft\\xb2 - ??? Stunning Semi-Custom Home ??? (fremont / union city / newark)',\n",
        " '4718402901': u'$2775 / 4br - 1700ft\\xb2 - 4 br 2 ba Brookvale of Fremont (fremont / union city / newark)',\n",
        " '4718415269': u\"$2950 / 3br - Newer home in Fremont's Ardenwood neighborhood (fremont / union city / newark)\",\n",
        " '4718773776': u'$3500 / 4br - 1866ft\\xb2 - 4 Bed/2 Bath house for rent (fremont / union city / newark)',\n",
        " '4718837507': u'$2980 / 3br - 1425ft\\xb2 - Beautiful 3Bdrm Townhouse in Fremont Irvington District (fremont / union city / newark)',\n",
        " '4718851609': u'$2500 / 3br - 1550ft\\xb2 - Beautiful house, close to Dumbarton Bridge(Facebook), shopping center  (fremont / union city / newark)',\n",
        " '4718880555': u'$1795 / 1br - 527ft\\xb2 - \\u25d8CLOSE AND CONVENIENT FOR YOUR LIFESTYLE\\u25d8 (fremont / union city / newark)',\n",
        " '4718888221': u'$2,800/mo',\n",
        " '4718891996': u'$2176 / 2br - 980ft\\xb2 - Looking For A Pet Friendly Community...Waterstone@Fremont (fremont / union city / newark)',\n",
        " '4718897884': u'$2,600/mo',\n",
        " '4718902969': u'$1558 / 410ft\\xb2 - Stunning Studio #806 Is Waiting For You! Schedule Your Personal Tour! (fremont / union city / newark)',\n",
        " '4718918187': u'$1665 / 1br - 650ft\\xb2 - Commuting? We have the ideal location. (fremont / union city / newark)',\n",
        " '4718925342': u'$1995 / 2br - 830ft\\xb2 - Corner Unit Apartment Home! Convenient Location! Great Price! (fremont / union city / newark)',\n",
        " '4718930446': u'$2120 / 1br - 734ft\\xb2 - Presidio Apartments - Weekend Special! (fremont / union city / newark)',\n",
        " '4718932110': u'$3250 / 3br - 1550ft\\xb2 - Mission San Jose Fremont Home for Rent (fremont / union city / newark)',\n",
        " '4718978993': u'$1350 / 1br - 672ft\\xb2 - 4932 Bridgepoint Place, Union City, Avail. 11/8 (fremont / union city / newark)',\n",
        " '4718980244': u'$2425 / 2br - 1010ft\\xb2 - Outstanding Location, Heated Pool, Sauna, Pets Welcome (fremont / union city / newark)',\n",
        " '4719004291': u'$900 Fully-furnished in-law studio with private entry (fremont / union city / newark)',\n",
        " '4719006949': u'$2295 / 2br - 1004ft\\xb2 - \\u2022\\u263bTHIS BEAUTIFUL UPGRADED APT HOME HAS ALL THE COMFORTS\\u263b\\u2022\\u2022 (fremont / union city / newark)',\n",
        " '4719027449': u'$1818 / 1br - 760ft\\xb2 - A Great Weekend To Find Your New Apartment Home..Waterstone@Fremont (fremont / union city / newark)',\n",
        " '4719030835': u'$2616 / 3br - 1320ft\\xb2 - 3BD/2BA Apartment with Quartz Countertops (fremont / union city / newark)',\n",
        " '4719047778': u'$1,750/mo',\n",
        " '4719048546': u'$2,150/mo',\n",
        " '4719053083': u'$2616 / 3br - 1320ft\\xb2 - 3BD/2BA Apartment with Quartz Countertops (fremont / union city / newark)',\n",
        " '4719055408': u'$2000 / 2br - 894ft\\xb2 - Coming Soon! Reserve Your New Home Now... (fremont / union city / newark)',\n",
        " '4719065655': u'$2400 / 2br - 1150ft\\xb2 - Sub-Leasing 2 Bed Room Apartment Starting October 31 (AVALON Apartment (fremont / union city / newark)',\n",
        " '4719076304': u'$1698 / 1br - PARK-LIKE LANDSCAPING, POOL, SPA, FITNESS CENTER (fremont / union city / newark)',\n",
        " '4719087534': u'$2175 / 2br - 850ft\\xb2 -  HOW CAN YOU SAY NO TO THIS COZY 2BED/1BATH @ALDERWOOD PARK!  (fremont / union city / newark)',\n",
        " '4719092872': u'$2200 / 3br - 1338ft\\xb2 - 3850 Meeks Terrace, 3bd 2.5ba Townhouse with attached Garage,  (fremont / union city / newark)',\n",
        " '4719103428': u'$2259 / 2br - A CHEERFUL, SUNNY PLACE READY FOR YOU TO CALL HOME!  (fremont / union city / newark)',\n",
        " '4719108614': u'$2700 / 3br - Fremont 3 Bedroom 2 Bath  House (fremont / union city / newark)',\n",
        " '4719113814': u'$1795 / 1br - 527ft\\xb2 - \\u25d8\\u2665EVERYONE IS WELCOME HOME HERE AT RANCHO LUNA/SOL \\u25d8\\u2665 (fremont / union city / newark)',\n",
        " '4719164927': u'$3000 / 3br - 1669ft\\xb2 - Modern home in an excellent location(3Bed/2.5bath in heart of Fremont) (fremont / union city / newark)',\n",
        " '4719168016': u'$1795 / 1br - 650ft\\xb2 - Beautiful 1 bedroom with brand new carpet & lino! (fremont / union city / newark)',\n",
        " '4719177234': u'$5100 / 5br - LARGE FREMONT EXECUTIVE HOME! TOP MISSION SCHOOLS! (fremont / union city / newark)',\n",
        " '4719187118': u'$2665 / 2br - 982ft\\xb2 - Spectacular apartment home centrally located in Fremont! (fremont / union city / newark)',\n",
        " '4719209534': u'$2277 / 2br - 975ft\\xb2 - Newly Remodeled 2 bdrm & 2 bthrms with washer & dryer! Call Today! (fremont / union city / newark)',\n",
        " '4719218293': u'$2397 / 985ft\\xb2 - Available Immediately! (fremont / union city / newark)',\n",
        " '4719218830': u'$2175 / 2br - BRIGHT AND SUNNY 2 BEDROOM IN PRIME FREMONT LOCATION (fremont / union city / newark)',\n",
        " '4719239533': u'$1500 / 1br - 430ft\\xb2 -  1Br/1Ba Suite with Separate Private Kitchen and Entrance \\u7368\\u9662 (fremont / union city / newark)',\n",
        " '4719240713': u'$2026 / 1br - 738ft\\xb2 - Looking For Convenience?...Come to Paragon! (fremont / union city / newark)',\n",
        " '4719247973': u'$2041 / 1br - 738ft\\xb2 - Conveniently Located Near Hwy, Shopping, Restaurants, And More! (fremont / union city / newark)',\n",
        " '4719262871': u'$1786 / 1br - 685ft\\xb2 - Looking To Move Mid October? This 2nd Floor 1 Bedroom Will Be Ready! (fremont / union city / newark)',\n",
        " '4719268597': u'$3200 / 4br - 1997ft\\xb2 - Outstanding Location, Beautiful 4 Bdrm House for Rent Union City  (fremont / union city / newark)',\n",
        " '4719275754': u'$2259 / 2br - GORGEOUS,TOP FLOOR APARTMENT,VISIT AMBER COURT TODAY!  (fremont / union city / newark)',\n",
        " '4719280242': u'$2199 / 2br - 870ft\\xb2 - Fully-equipped fitness center on-site! (fremont / union city / newark)',\n",
        " '4719323239': u'$2950 / 3br - 1489ft\\xb2 - Beautiful  Single Family Home at Ardenwood (fremont / union city / newark)',\n",
        " '4719344760': u'$2295 / 2br - 980ft\\xb2 - \\u2666COME AND SEE WHAT YOU HAVE BEEN MISSING\\u2666 (fremont / union city / newark)',\n",
        " '4719373853': u'$2249 / 2br - ~FALL IN LOVE WITH OUR  AWARD WINNING COMMUNITY~ (fremont / union city / newark)',\n",
        " '4719409678': u'$2100 / 2br - 895ft\\xb2 - \\u2661\\u2665\\u2661LOVE Your Home\\u2661\\u2665\\u2661 (fremont / union city / newark)',\n",
        " '4719445888': u'$1565 / 1br - 660ft\\xb2 - Move In Ready! It Could Be Yours... (fremont / union city / newark)',\n",
        " '4719473938': u'$2220 / 2br - 1026ft\\xb2 - Beautiful 2 bedrooms available  (fremont / union city / newark)',\n",
        " '4719474600': u'$1790 / 1br - 600ft\\xb2 - Beautiful and spacious 1 bedrooms available  (fremont / union city / newark)',\n",
        " '4719489325': u'$2796 / 3br - 1100ft\\xb2 - Come home to green lawns at Pathfinder Village! (fremont / union city / newark)',\n",
        " '4719497815': u'$1950 / 1br - 710ft\\xb2 - Appealing Amenities, Covered Parking, Air Conditioning, Ceiling Fan (fremont / union city / newark)',\n",
        " '4719506217': u'$1698 / 1br - PRIVATE END UNIT, LARGE STORAGE, YOUR NEW HOME IS HERE! (fremont / union city / newark)',\n",
        " '4719572603': u'$1795 / 1br - 527ft\\xb2 - \\u263bBART RIDERS DREAM/CLOSE TO SHOPPING\\u263b (fremont / union city / newark)',\n",
        " '4719588764': u'$2784 / 2br - 1184ft\\xb2 - Check This Out! Luxury Apartment Community with walk-in closets! (fremont / union city / newark)',\n",
        " '4719615008': u'$2,700/mo',\n",
        " '4719628167': u'$1625 / 1br - 625ft\\xb2 - *SPECIAL* Your new home is waiting for you! - SPACIOUS 1 BR APARTMENT  (fremont / union city / newark)',\n",
        " '4719629114': u'$6800 / 5br - 4210ft\\xb2 - Simply Wonderful! (fremont / union city / newark)',\n",
        " '4719629700': u'$2395 / 2br - 980ft\\xb2 - \\u2665LOOKING FOR PEACE AND QUIET\\u2665 COME AND TOUR TODAY\\u2665 (fremont / union city / newark)',\n",
        " '4719630357': u'$2500 / 3br - Open House: Single Family Home Newark,very big lot and fruit trees (fremont / union city / newark)',\n",
        " '4719638412': u'$1650 / 1br - 640ft\\xb2 - Irvington District 1bd/1ba upstairs (fremont / union city / newark)',\n",
        " '4719670894': u'$2066 / 1br - 738ft\\xb2 - Great Location! Great Community! Great Apartment! (fremont / union city / newark)',\n",
        " '4719685180': u'$2645 / 2br - 1179ft\\xb2 - A Great Place To Call Home! (fremont / union city / newark)',\n",
        " '4719697928': u'$2100 / 2br - 895ft\\xb2 - ~~~**~~Great Location~~**~~~ (fremont / union city / newark)',\n",
        " '4719715423': u'$2500 / 3br - 1300ft\\xb2 - 3B/3B Townhouse for rent in Fremont, 94538 (fremont / union city / newark)',\n",
        " '4719720022': u'$1795 / 1br - 527ft\\xb2 - \\u2022\\u2022\\u2022LIVE CLOSE TO THE CITY\\u2665\\u2022\\u2022 (fremont / union city / newark)',\n",
        " '4719725545': u'$2665 / 2br - 982ft\\xb2 - Looking for quick access to BART and Shopping? Look no further! (fremont / union city / newark)',\n",
        " '4719736775': u'$1698 / 1br - AMAZING AMENITIES IN PARK-LIKE COMMUNITY (fremont / union city / newark)',\n",
        " '4719744543': u'$2395 / 2br - 1004ft\\xb2 - \\u263b\\u2665THE MOST LIKED PLACE TO LIVE ON FACEBOOK\\u263b\\u2665 (fremont / union city / newark)',\n",
        " '4719745304': u'$2259 / 2br - COME EXPERIENCE CONVENIENT AND PEACEFUL LIVING THAT AWAITS YOU (fremont / union city / newark)',\n",
        " '4719764104': u'$1850 / 3br - 1160ft\\xb2 - \\u65b0\\u88c5\\u4fee Remodeled  Union City TownHouse $1,850 (fremont / union city / newark)',\n",
        " '4719791884': u'$2999 / 3br - 1500ft\\xb2 - Bright, Nice Beautiful House, Walk to Fremont BART (fremont / union city / newark)',\n",
        " '4719801862': u'$3099 / 3br - 1500ft\\xb2 - Great House, close to BART Fremont (fremont / union city / newark)',\n",
        " '4719902978': u'$3200 / 5br - 2157ft\\xb2 - Beautiful House Near BART Station (fremont / union city / newark)',\n",
        " '4719903999': u'$3200 / 4br - 2000ft\\xb2 - Elegant and Spacious 4 BR/2.5 BA Single Family Home in Fremont  (fremont / union city / newark)',\n",
        " '4719922054': u'$2500 / 3br - 1148ft\\xb2 - OPEN HOUSE, 3 Bed, 2 Bath, Cozy Home, Carpet/Hardwood Floors, Garden (fremont / union city / newark)',\n",
        " '4719986309': u'$2575 / 3br - Irvington House for Rent (fremont / union city / newark)',\n",
        " '4719991852': u'$2200 / 3br - 1100ft\\xb2 - $2200 1100sqft - 3BR/2BA HOUSE in UNION CITY (fremont / union city / newark)',\n",
        " '4720219856': u'$1995 / 3br - 1126ft\\xb2 - 3BD/2BA SINGLE FAMILY HOME BEST VALUE @@@@@@@@@@@@@@@@@@ (fremont / union city / newark)',\n",
        " '4720363448': u'$2500 / 2br - 1475ft\\xb2 - Remodel Union City Townhouse with 2 car garage (fremont / union city / newark)',\n",
        " '4720384339': u'$2700 / 3br - 1150ft\\xb2 - Fremont 3 bedroom 2 bath house (fremont / union city / newark)',\n",
        " '4720404742': u'$1701 / 410ft\\xb2 - Just The Right Amount of  Space (fremont / union city / newark)',\n",
        " '4720412245': u'$1625 / 1br - 630ft\\xb2 - Beautiful Niles Community! Move-In November 7th! (fremont / union city / newark)',\n",
        " '4720421139': u'$2095 / 2br - 830ft\\xb2 - Energy-saving Kitchens with Built-in Microwaves (fremont / union city / newark)',\n",
        " '4720441387': u'$2545 / 2br - 1106ft\\xb2 - 15 Min Walk to BART from the Presidio Apartments (fremont / union city / newark)',\n",
        " '4720449674': u'$2790 / 4br - 1647ft\\xb2 - 4 Bed / 2 Bath Single-level, Single-familyhome in Fremont (fremont / union city / newark)',\n",
        " '4720455452': u'$1665 / 1br - 650ft\\xb2 - Here now and gone by morning. You should hurry! (fremont / union city / newark)',\n",
        " '4720455674': u'$1830 / 1br - 716ft\\xb2 - Top floor 1 bedroom apt available now! Walking distance to UC BART! (fremont / union city / newark)',\n",
        " '4720463865': u'$1895 / 1br - 527ft\\xb2 - \\u2665LOOKING FOR PEACE AND QUIET\\u2665 COME AND TOUR TODAY\\u2665 (fremont / union city / newark)',\n",
        " '4720477585': u'$1931 / 1br - 665ft\\xb2 - Spacious One Bedroom on 2nd floor (fremont / union city / newark)',\n",
        " '4720482808': u'$2074 / 1br - 720ft\\xb2 - Renting Fast! Unique & Bright w/ Skylight, In-Home Laundry, Tour Now!! (fremont / union city / newark)',\n",
        " '4720485015': u'$2200 / 1br - 650ft\\xb2 - Charming Two bedroom With Luxurious Amenities! In-home Washer & Dryer! (fremont / union city / newark)',\n",
        " '4720487019': u'$2600 / 3br - 1126ft\\xb2 - Lovely Home in Irvington Attendance Area (fremont / union city / newark)',\n",
        " '4720504489': u'$2139 / 2br - 980ft\\xb2 - A Bright and Sunny Day...@Waterstone Fremont (fremont / union city / newark)',\n",
        " '4720505852': u'$1620 / 1br - 600ft\\xb2 - Great Apartment Value Near Union City Bart (fremont / union city / newark)',\n",
        " '4720514047': u'$2500 / 3br - 1550ft\\xb2 - Beautiful house, close to Dumbarton Bridge(Facebook), shopping center  (fremont / union city / newark)',\n",
        " '4720519649': u'$2300 / 2br - 890ft\\xb2 - *Carriage House* Gated Community in a Quiet and Friendly Neighborhood! (fremont / union city / newark)',\n",
        " '4720521929': u'$1900 / 1br - 737ft\\xb2 - *Carriage House* Gated Community in a Quiet and Friendly Neighborhood! (fremont / union city / newark)',\n",
        " '4720522812': u'$1875 / 1br - 565ft\\xb2 - Now Available, Responsive Maintenance, Spacious Floorplan (fremont / union city / newark)',\n",
        " '4720524100': u'$1823 / 1br - 760ft\\xb2 - Are You Ready To Move..Waterstone@Fremont (fremont / union city / newark)',\n",
        " '4720534239': u'$1965 / 2br - 830ft\\xb2 - Ready to Rent! (fremont / union city / newark)',\n",
        " '4720540400': u'$2506 / 2br - 1014ft\\xb2 - Ground level with hardwood floors and walking distance to BART! (fremont / union city / newark)',\n",
        " '4720551845': u'$1705 / 1br - 565ft\\xb2 - A Great Junior 1br Unit To Call home @waterstone Fremont (fremont / union city / newark)',\n",
        " '4720573333': u'$2820 / 2br - 1203ft\\xb2 - Large, Renovated 2BD/2BA with 2 Patios - Just Steps Away From BART (fremont / union city / newark)',\n",
        " '4720574328': u'$2295 / 2br - 1004ft\\xb2 - FREMONT HUB\\u25d8GREAT LOCATION\\u25d8GREAT PRICE (fremont / union city / newark)',\n",
        " '4720596089': u'$2375 / 3br - 1372ft\\xb2 - 3 bedrooms for rent in Fremont CA 94536 (fremont / union city / newark)',\n",
        " '4720601875': u'$1795 / 1br - Beautiful 1 bedroom call now to make an appointment!!! (fremont / union city / newark)',\n",
        " '4720611645': u'$1565 / 1br - 660ft\\xb2 - Amazing Second Floor One Bedroom Apt Home... (fremont / union city / newark)',\n",
        " '4720615854': u'$2355 / 2br - 1108ft\\xb2 - Come See why Mission Peaks II is The Best in Fremont!! (fremont / union city / newark)',\n",
        " '4720618278': u'$1562 / 1br - A Must See! Fantastic Location! Beautiful One Bedroom Apt Home! (fremont / union city / newark)',\n",
        " '4720620522': u'$2730 / 2br - 1331ft\\xb2 - Available soon! Large two bedroom with patio! (fremont / union city / newark)',\n",
        " '4720621095': u'$2620 / 2br - 982ft\\xb2 - Commuting? Amazing apartment home near Fremont Bart! (fremont / union city / newark)',\n",
        " '4720627806': u'$1698 / 1br - DESIGNER INTERIOR, SPACIOUS FLOOR PLANS AND AMAZING AMENITIES (fremont / union city / newark)',\n",
        " '4720639373': u'$2355 / 2br - 900ft\\xb2 - Spacious, open, amazing floor plans!  (fremont / union city / newark)',\n",
        " '4720639560': u'$1851 / 1br - 615ft\\xb2 - Will Be Available November 11th! (fremont / union city / newark)',\n",
        " '4720640783': u'$1923 / 2br - 785ft\\xb2 - Available November 1st!!! (fremont / union city / newark)',\n",
        " '4720641538': u'$2097 / 2br - 895ft\\xb2 - Available November 5th!!! (fremont / union city / newark)',\n",
        " '4720648643': u'$1582 / 1br - A Great Place To Call Home! Great Views! (fremont / union city / newark)',\n",
        " '4720653117': u'$2900 / 3br - 1472ft\\xb2 - Great location 3 bed 2.5 bath townhome in Fremont  (fremont / union city / newark)',\n",
        " '4720654598': u'$2077 / 1br - 747ft\\xb2 - Amazing 1 BD, 1 BA Apartment Available Now! (fremont / union city / newark)',\n",
        " '4720654636': u'$1582 / 1br - 620ft\\xb2 - Hardwood Floors, Walk-in Closets, Corner unit, Top floor! (fremont / union city / newark)',\n",
        " '4720678524': u'$2765 / 2br - 901ft\\xb2 - One two bedroom apartment with microwave included available now (fremont / union city / newark)',\n",
        " '4720694437': u\"$2151 / 2br - 800ft\\xb2 - You'll Love This Floor Plan! (fremont / union city / newark)\",\n",
        " '4720704953': u'$500 / 1br - Rooms for rent $500 (fremont / union city / newark)',\n",
        " '4720711119': u'$2449 / 1br - 877ft\\xb2 - Fabulous apartment, walking distance to Lake Elizabeth (fremont / union city / newark)',\n",
        " '4720713509': u'$2600 / 3br - 1320ft\\xb2 - Fully Remodeled 3BR & 2 Bath home  (fremont / union city / newark)',\n",
        " '4720715448': u'$2900 / 3br - 1472ft\\xb2 - Great location 3 bed 2.5 bath townhome in Fremont  (fremont / union city / newark)',\n",
        " '4720727834': u'$1795 / 1br - 527ft\\xb2 - \\u263b\\u2665THE MOST LIKED PLACE TO LIVE ON FACEBOOK\\u263b\\u2665 (fremont / union city / newark)',\n",
        " '4720732984': u'$1950 / 1br - 1221ft\\xb2 - Extra large 1 BR Condo for Rent (fremont / union city / newark)',\n",
        " '4720736311': u'$2150 / 2br - PARK-LIKE SETTING IN PRIME LOCATION, DESIGNER 2 BR (fremont / union city / newark)',\n",
        " '4720771143': u'$1786 / 1br - 685ft\\xb2 - 1 Bedroom is Ready for You to Move In! (fremont / union city / newark)',\n",
        " '4720774106': u'$1786 / 1br - 685ft\\xb2 - Alderwood Park in Newark - Dumbarton/84/880 & public transit close by! (fremont / union city / newark)',\n",
        " '4720780184': u'$2098 / 1br - 829ft\\xb2 - Marvelous 1 bed apartment near Fremont BART!  (fremont / union city / newark)',\n",
        " '4720818552': u'$2300 / 2br - 890ft\\xb2 - *Carriage House* Gated Community in a Quiet and Friendly Neighborhood! (fremont / union city / newark)',\n",
        " '4720819919': u'$1900 / 1br - 737ft\\xb2 - *Carriage House* Gated Community in a Quiet and Friendly Neighborhood! (fremont / union city / newark)',\n",
        " '4720839175': u\"$2350 / 870ft\\xb2 - Entertainer's Dream Patio with this 2 Bed 2 Bath! (fremont / union city / newark)\",\n",
        " '4720845004': u'$1850 / 1br - 650ft\\xb2 - Luxury & Convenience All In One Great One Bedroom (fremont / union city / newark)',\n",
        " '4720845630': u'$2098 / 1br - 829ft\\xb2 - Marvelous 1 bed apartment near Fremont BART!  (fremont / union city / newark)',\n",
        " '4720849050': u'$2640 / 2br - 1146ft\\xb2 - Enjoy November in style! Pet friendly apartment available soon! (fremont / union city / newark)',\n",
        " '4720878750': u'$2295 / 2br - 1004ft\\xb2 - \\u25d8CLOSE AND CONVENIENT FOR YOUR LIFESTYLE\\u25d8 (fremont / union city / newark)',\n",
        " '4720885262': u'$2744 / 2br - 1184ft\\xb2 - Relax by our pool & spa just outside your new apartment home! (fremont / union city / newark)',\n",
        " '4720891332': u'$2715 / 3br - 1369ft\\xb2 - 3Bedroom 3bathroom on the Top floor with Fireplace & Vaulted ceiling! (fremont / union city / newark)',\n",
        " '4720917195': u'$1786 / 1br - 685ft\\xb2 - STUNNING 1ST/ FLOOR 1BED/ READY TO MOVE IN SEPT 5TH! (fremont / union city / newark)',\n",
        " '4720935262': u'$2620 / 2br - 982ft\\xb2 - Living at its best! Come see your new home today! (fremont / union city / newark)',\n",
        " '4720953403': u'$2375 / 2br - 1065ft\\xb2 - Stunning 2 bedrooms available now! Near BART! Dont Miss Out! (fremont / union city / newark)',\n",
        " '4720955678': u'$2375 / 2br - 1065ft\\xb2 - Stunning 2 bedrooms available now! Near BART! Dont Miss Out! (fremont / union city / newark)',\n",
        " '4720971062': u'$2163 / 2br - 985ft\\xb2 - Enjoy Separate Dining Rooms in our BR Apartments (fremont / union city / newark)',\n",
        " '4720983215': u'$1795 / 1br - 527ft\\xb2 - A MUST SEE! BEAUTIFUL ONE BEDROOM APARTMENT HOME! (fremont / union city / newark)',\n",
        " '4720985331': u'$2900 / 3br - 1472ft\\xb2 - Great location 3 bed 2.5 bath townhome in Fremont  (fremont / union city / newark)',\n",
        " '4720988308': u\"$2224 / 2br - 906ft\\xb2 - Don't Wait!!! Here Today... Gone Tomorrow... (fremont / union city / newark)\",\n",
        " '4720991582': u'$2151 / 2br - 850ft\\xb2 - Great Neighbors! You Will Feel Right at Home! (fremont / union city / newark)',\n",
        " '4720991708': u'$2425 / 2br - 1010ft\\xb2 - Visit Your New Home, Night Patrol, Fitness Ctr, Easy Freeway Access (fremont / union city / newark)',\n",
        " '4720996606': u'$2351 / 2br - 985ft\\xb2 - Spacious and Amazing.. talk about luxury! (fremont / union city / newark)',\n",
        " '4720998596': u'$2630 / 2br - 958ft\\xb2 - Pet Friendly upgrade 2 bed on top floor with fire place (fremont / union city / newark)',\n",
        " '4720999648': u'$2618 / 3br - 1320ft\\xb2 - 3BD/2BA Apartment with Quartz Countertops (fremont / union city / newark)',\n",
        " '4721002243': u'$2815 / 2br - 1147ft\\xb2 - BART Next Door, Parkmont & The Hub Nearby... Welcome Home To Watermark (fremont / union city / newark)',\n",
        " '4721009101': u'$2385 / 2br - 1096ft\\xb2 - Looking for an Easy Commute?...BART is around the corner! (fremont / union city / newark)',\n",
        " '4721015477': u'$1795 / 1br - BEAUTIFUL 1 BEDROOM AT QUIET NEIGHBORHOOD IN FREMONT!  (fremont / union city / newark)',\n",
        " '4721019624': u'$2259 / 2br - ~LUSH GARDENS, POOL, SPA, FITNESS CENTER AND BRIGHT TWO BEDROOM~ (fremont / union city / newark)',\n",
        " '4721024294': u'$2618 / 3br - 1320ft\\xb2 - COME VISIT OUR BEAUTIFUL FLOR PLANS!! (fremont / union city / newark)',\n",
        " '4721028602': u'$1698 / 1br - PARK-LIKE LANDSCAPING, ENJOY THE QUIET, SCENIC SURROUNDINGS  (fremont / union city / newark)',\n",
        " '4721045486': u'$2385 / 2br - 1096ft\\xb2 - Extraordinary top floor 2 BD, 2 BA, available soon. Near BART!!! (fremont / union city / newark)',\n",
        " '4721048597': u'$1589 / 1br - A Great Place To Call Home! Great Views! (fremont / union city / newark)',\n",
        " '4721066026': u'$2449 / 1br - 877ft\\xb2 - Charming apartment homes w/spacious and open kitchen layout! (fremont / union city / newark)',\n",
        " '4721083651': u'$1950 / 2br - 800ft\\xb2 - N239 Is A Top Floor Two Bedroom, Call Us Today! (fremont / union city / newark)',\n",
        " '4721084803': u'$2022 / 2br - 800ft\\xb2 - M225 Is A Fabulous Location Within Our Community! (fremont / union city / newark)',\n",
        " '4721084894': u'$1820 / 1br - 600ft\\xb2 - Great Apartment Value Near Union City Bart (fremont / union city / newark)',\n",
        " '4721087771': u'$1950 / 2br - 800ft\\xb2 - We Offer Upstairs And Downstairs Units Available! (fremont / union city / newark)',\n",
        " '4721088595': u'$1950 / 2br - 800ft\\xb2 - Call us Today, To Get Leasing Information! (fremont / union city / newark)',\n",
        " '4721099287': u'$2295 / 2br - 1004ft\\xb2 - \\u2022\\u263bTHIS BEAUTIFUL UPGRADED APT HOME HAS ALL THE COMFORTS\\u263b\\u2022 (fremont / union city / newark)',\n",
        " '4721100755': u'$2259 / 2br - UNWIND AFTER A LONG DAY IN YOUR STYLISH AND SERENE ENVIRONMENT! (fremont / union city / newark)',\n",
        " '4721102115': u'$3000 / 3br - 1400ft\\xb2 - Beautiful Fremont Home For Rent  (fremont / union city / newark)',\n",
        " '4721110227': u'$850 / 1br - 1100ft\\xb2 - 1 BR Rental Newark Townhome has Granite Counters & Indoor Laundry! (fremont / union city / newark)',\n",
        " '4721115450': u'$2454 / 3br - 1063ft\\xb2 - Pet Friendly Community in a Park-Like Setting! (fremont / union city / newark)',\n",
        " '4721115804': u'$1960 / 1br - 640ft\\xb2 - Views of Alameda Creek and Rolling Hills 1 Bed/1 Bath! (fremont / union city / newark)',\n",
        " '4721119470': u'$1631 / 1br - 520ft\\xb2 - (PRIME LOCATION) 1BED-1BATH (fremont / union city / newark)',\n",
        " '4721132582': u'$2259 / 2br - GORGEOUS,TOP FLOOR APARTMENT,VISIT AMBER COURT TODAY!  (fremont / union city / newark)',\n",
        " '4721134568': u'$1985 / 1br - 683ft\\xb2 - Get ready for December! One bedroom with storage available! (fremont / union city / newark)',\n",
        " '4721136124': u'$2300 / 2br - 890ft\\xb2 - *Carriage House* Gated Community in a Quiet and Friendly Neighborhood! (fremont / union city / newark)',\n",
        " '4721137029': u'$1900 / 1br - 737ft\\xb2 - *Carriage House* Gated Community in a Quiet and Friendly Neighborhood! (fremont / union city / newark)',\n",
        " '4721146778': u'$2708 / 2br - 1008ft\\xb2 - 2nd floor 2 bedroom with 2 car garage (fremont / union city / newark)',\n",
        " '4721152536': u'$2295 / 2br - 980ft\\xb2 - \\u2660\\u2665QUIET, COMFORT, & CONVENIENCE! YOU DESERVE THE BEST!\\u2660 (fremont / union city / newark)',\n",
        " '4721157794': u'$2050 / 1br - 701ft\\xb2 - Come take a look Upgraded and next to shopping (fremont / union city / newark)',\n",
        " '4721161340': u'$2500 / 3br - 1131ft\\xb2 - 3 bedroom 2 bath for rent in Fremont   (fremont / union city / newark)',\n",
        " '4721161562': u'$2616 / 3br - 1320ft\\xb2 - 3BD/2BA Apartment with Quartz Countertops (fremont / union city / newark)',\n",
        " '4721162176': u'$2200 / 2br - 850ft\\xb2 - Sit Back and Relax In This Wonderful Two Bedroom! (fremont / union city / newark)',\n",
        " '4721186944': u'$1698 / 1br - RESORT LIVING IN A SERENE PARK SETTING  (fremont / union city / newark)',\n",
        " '4721213598': u'$2176 / 2br - 913ft\\xb2 - Available Soon! Perfect Location! 2 BR & 2 BA! (fremont / union city / newark)',\n",
        " '4721226891': u'$1795 / 1br - 527ft\\xb2 - \\u25d8CLOSE AND CONVENIENT FOR YOUR LIFESTYLE\\u25d8 (fremont / union city / newark)',\n",
        " '4721286965': u'$3,100/mo',\n",
        " '4721291281': u'$3200 / 3br - 1785ft\\xb2 - Mission San Jose (mission sanjose) Home for Rent (fremont / union city / newark)',\n",
        " '4721340098': u'$2289 / 3br - 1100ft\\xb2 - Condo for Rent in Fremont 3BR 2B (fremont / union city / newark)',\n",
        " '4721372533': u'$1800 / 2br - 1015ft\\xb2 - Newark Townhome for Rent (fremont / union city / newark)',\n",
        " '4721382446': u'$2950 / 4br - 1625ft\\xb2 - BEAUTIFUL Parkmont Home 4BR/2BA - SUNDAY OPEN HOUSE! (fremont / union city / newark)'}"
       ]
      }
     ],
     "prompt_number": 24
    },
    {
     "cell_type": "code",
     "collapsed": false,
     "input": [
      "# import itable\n",
      "# df = pd.DataFrame({\"x\":[1,2,3], \"y\":[6,4,3], \"z\":[\"testing\",\"pretty\",\"tables\"], \"f\":[0.023432, 0.234321,0.5555]})\n",
      "# itable.PrettyTable(df)\n",
      "# df3 = pd.DataFrame(np.random.randn(10000, 5),columns=['a', 'b', 'c', 'd', 'e'])\n",
      "# itable.PrettyTable(df3)"
     ],
     "language": "python",
     "metadata": {},
     "outputs": [],
     "prompt_number": 10
    },
    {
     "cell_type": "code",
     "collapsed": false,
     "input": [
      "print len(all_content)\n",
      "print len(final_content)"
     ],
     "language": "python",
     "metadata": {},
     "outputs": [
      {
       "output_type": "stream",
       "stream": "stdout",
       "text": [
        "500\n",
        "538\n"
       ]
      }
     ],
     "prompt_number": 25
    },
    {
     "cell_type": "code",
     "collapsed": false,
     "input": [
      "final_content"
     ],
     "language": "python",
     "metadata": {},
     "outputs": [
      {
       "metadata": {},
       "output_type": "pyout",
       "prompt_number": 26,
       "text": [
        "[{'app': 1000,\n",
        "  'desc': u'$2900 / 3br - 1472ft\\xb2 - Great location 3 bed 2.5 bath townhome in Fremont  (fremont / union city / newark)',\n",
        "  'id': '4720715448',\n",
        "  'url': 'http://sfbay.craigslist.org/eby/apa/4720715448.html'},\n",
        " {'app': 1000,\n",
        "  'desc': u'$1900 / 1br - 737ft\\xb2 - *Carriage House* Gated Community in a Quiet and Friendly Neighborhood! (fremont / union city / newark)',\n",
        "  'id': '4710316373',\n",
        "  'url': 'http://sfbay.craigslist.org/eby/apa/4710316373.html'},\n",
        " {'app': 1000,\n",
        "  'desc': u'$1760 / 1br - DESIGNER INTERIORS, SPACIOUS FLOOR PLANS AND AMAZING AMENITIES (fremont / union city / newark)',\n",
        "  'id': '4714845323',\n",
        "  'url': 'http://sfbay.craigslist.org/eby/apa/4714845323.html'},\n",
        " {'app': 1000,\n",
        "  'desc': u'$3000 3BR/2.5BA Ardenwood SFH For Rent; Open House Sunday (10/19) 2pm-4pm (fremont / union city / newark)',\n",
        "  'id': '4716279923',\n",
        "  'url': 'http://sfbay.craigslist.org/eby/apa/4716279923.html'},\n",
        " {'app': 1000,\n",
        "  'desc': u'$2000 / 2br - 900ft\\xb2 - Mission Village 2BD/2 Full Bath Condo (fremont / union city / newark)',\n",
        "  'id': '4710699054',\n",
        "  'url': 'http://sfbay.craigslist.org/eby/apa/4710699054.html'},\n",
        " {'app': 1000,\n",
        "  'desc': u'$1800 / 2br - 1015ft\\xb2 - Newark Townhome for Rent (fremont / union city / newark)',\n",
        "  'id': '4721372533',\n",
        "  'url': 'http://sfbay.craigslist.org/eby/apa/4721372533.html'},\n",
        " {'app': 1000,\n",
        "  'desc': u'$3,750/mo',\n",
        "  'id': '4717640141',\n",
        "  'url': 'http://sfbay.craigslist.org/eby/apa/4717640141.html'},\n",
        " {'app': 1000,\n",
        "  'desc': u'$3,750/mo',\n",
        "  'id': '4717640141',\n",
        "  'url': 'http://sfbay.craigslist.org/eby/apa/4717640141.html'},\n",
        " {'app': 1000,\n",
        "  'desc': u'$2500 / 4br - 1612ft\\xb2 - Union City House for Rent (fremont / union city / newark)',\n",
        "  'id': '4712548353',\n",
        "  'url': 'http://sfbay.craigslist.org/eby/apa/4712548353.html'},\n",
        " {'app': 1000,\n",
        "  'desc': u'$2595 / 2br - 1081ft\\xb2 - 37 Silk Oak, Fremont - Nice Townhome (fremont / union city / newark)',\n",
        "  'id': '4710360494',\n",
        "  'url': 'http://sfbay.craigslist.org/eby/apa/4710360494.html'},\n",
        " {'app': 1000,\n",
        "  'desc': u'$1890 / 735ft\\xb2 - Waterstone@Fremont 735 1br (fremont / union city / newark)',\n",
        "  'id': '4715714446',\n",
        "  'url': 'http://sfbay.craigslist.org/eby/apa/4715714446.html'},\n",
        " {'app': 1000,\n",
        "  'desc': u'$2500 / 4br - 1820ft\\xb2 - 4 bedroom,2 Bath (fremont / union city / newark)',\n",
        "  'id': '4718283672',\n",
        "  'url': 'http://sfbay.craigslist.org/eby/apa/4718283672.html'},\n",
        " {'app': 1000,\n",
        "  'desc': u\"$2100 / 2br - 895ft\\xb2 - ~\\xa4\\u066d\\xa4~It's the place for YOU~\\xa4\\u066d\\xa4~ (fremont / union city / newark)\",\n",
        "  'id': '4716627039',\n",
        "  'url': 'http://sfbay.craigslist.org/eby/apa/4716627039.html'},\n",
        " {'app': 1000,\n",
        "  'desc': u'$2200 / 3br - 1338ft\\xb2 - 3850 Meeks Terrace, 3bd 2.5ba Townhouse with attached Garage,  (fremont / union city / newark)',\n",
        "  'id': '4719092872',\n",
        "  'url': 'http://sfbay.craigslist.org/eby/apa/4719092872.html'},\n",
        " {'app': 1000,\n",
        "  'desc': u'$1795 / 1br - 650ft\\xb2 - BEAUTIFUL 1 BEDROOM AT QUIET NEIGHBORHOOD IN FREMONT!  (fremont / union city / newark)',\n",
        "  'id': '4713367982',\n",
        "  'url': 'http://sfbay.craigslist.org/eby/apa/4713367982.html'},\n",
        " {'app': 1000,\n",
        "  'desc': u'$1795 / 1br - 527ft\\xb2 - \\u263bBART RIDERS DREAM/CLOSE TO SHOPPING\\u263b (fremont / union city / newark)',\n",
        "  'id': '4711111236',\n",
        "  'url': 'http://sfbay.craigslist.org/eby/apa/4711111236.html'},\n",
        " {'app': 1000,\n",
        "  'desc': u'$3200 / 4br - 1997ft\\xb2 - Outstanding Location, Beautiful 4 Bdrm House for Rent Union City  (fremont / union city / newark)',\n",
        "  'id': '4719268597',\n",
        "  'url': 'http://sfbay.craigslist.org/eby/apa/4719268597.html'},\n",
        " {'app': 1000,\n",
        "  'desc': u'$3250 / 4br - 2146ft\\xb2 - 1999 Remodeled two story 4 bed plus Loft (fremont / union city / newark)',\n",
        "  'id': '4713631502',\n",
        "  'url': 'http://sfbay.craigslist.org/eby/apa/4713631502.html'},\n",
        " {'app': 1000,\n",
        "  'desc': u'$3500 / 4br - 1866ft\\xb2 - 4 Bed/2 Bath house for rent (fremont / union city / newark)',\n",
        "  'id': '4718773776',\n",
        "  'url': 'http://sfbay.craigslist.org/eby/apa/4718773776.html'},\n",
        " {'app': 1000,\n",
        "  'desc': u'$900 / 1br - 300ft\\xb2 - Fully furnished trailer home (fremont / union city / newark)',\n",
        "  'id': '4717808304',\n",
        "  'url': 'http://sfbay.craigslist.org/eby/apa/4717808304.html'},\n",
        " {'app': 1000,\n",
        "  'desc': u'$2259 / 2br - A CHEERFUL, SUNNY PLACE READY FOR YOU TO CALL HOME!  (fremont / union city / newark)',\n",
        "  'id': '4719103428',\n",
        "  'url': 'http://sfbay.craigslist.org/eby/apa/4719103428.html'},\n",
        " {'app': 1000,\n",
        "  'desc': u'$1685 / 1br - 600ft\\xb2 - Cottage in Warm Springs District of Fremont (fremont / union city / newark)',\n",
        "  'id': '4715245194',\n",
        "  'url': 'http://sfbay.craigslist.org/eby/apa/4715245194.html'},\n",
        " {'app': 1000,\n",
        "  'desc': u'$1900 / 1br - 737ft\\xb2 - *Carriage House* Gated Community in a Quiet and Friendly Neighborhood! (fremont / union city / newark)',\n",
        "  'id': '4720819919',\n",
        "  'url': 'http://sfbay.craigslist.org/eby/apa/4720819919.html'},\n",
        " {'app': 1000,\n",
        "  'desc': u'$1698 / 1br - PRIVATE END UNIT, LARGE STORAGE, YOUR NEW HOME IS HERE! (fremont / union city / newark)',\n",
        "  'id': '4719506217',\n",
        "  'url': 'http://sfbay.craigslist.org/eby/apa/4719506217.html'},\n",
        " {'app': 1000,\n",
        "  'desc': u'$2,150/mo',\n",
        "  'id': '4719048546',\n",
        "  'url': 'http://sfbay.craigslist.org/eby/apa/4719048546.html'},\n",
        " {'app': 1000,\n",
        "  'desc': u'$2,150/mo',\n",
        "  'id': '4719048546',\n",
        "  'url': 'http://sfbay.craigslist.org/eby/apa/4719048546.html'},\n",
        " {'app': 1000,\n",
        "  'desc': u'$3000 / 4br - 2184ft\\xb2 - 4BR/3BA Bright, luxury house in Fremont near Central Park (fremont / union city / newark)',\n",
        "  'id': '4708469914',\n",
        "  'url': 'http://sfbay.craigslist.org/eby/apa/4708469914.html'},\n",
        " {'app': 1000,\n",
        "  'desc': u'$1558 / 410ft\\xb2 - Stunning Studio #806 Is Waiting For You! Schedule Your Personal Tour! (fremont / union city / newark)',\n",
        "  'id': '4718902969',\n",
        "  'url': 'http://sfbay.craigslist.org/eby/apa/4718902969.html'},\n",
        " {'app': 1000,\n",
        "  'desc': u'$2395 / 2br - 980ft\\xb2 - \\u263b\\u2665THE MOST LIKED PLACE TO LIVE ON FACEBOOK\\u263b\\u2665 (fremont / union city / newark)',\n",
        "  'id': '4717846989',\n",
        "  'url': 'http://sfbay.craigslist.org/eby/apa/4717846989.html'},\n",
        " {'app': 1000,\n",
        "  'desc': u'$2500 / 3br - 1131ft\\xb2 - 3 bedroom 2 bath for rent in Fremont   (fremont / union city / newark)',\n",
        "  'id': '4721161340',\n",
        "  'url': 'http://sfbay.craigslist.org/eby/apa/4721161340.html'},\n",
        " {'app': 1000,\n",
        "  'desc': u'$1895 / 1br - 527ft\\xb2 - \\u2665HOME IS WHERE THE HEART IS\\u2665WASHER/DYER IN UNIT\\u2660 (fremont / union city / newark)',\n",
        "  'id': '4710469884',\n",
        "  'url': 'http://sfbay.craigslist.org/eby/apa/4710469884.html'},\n",
        " {'app': 1000,\n",
        "  'desc': u'$2100 / 2br - 895ft\\xb2 - :~:~:A Great Place to Call Home:~:~: (fremont / union city / newark)',\n",
        "  'id': '4714216278',\n",
        "  'url': 'http://sfbay.craigslist.org/eby/apa/4714216278.html'},\n",
        " {'app': 1000,\n",
        "  'desc': u'$2395 / 2br - 980ft\\xb2 - \\u2022\\u263bTHIS BEAUTIFUL UPGRADED APT HOME HAS ALL THE COMFORTS\\u263b\\u2022\\u2022 (fremont / union city / newark)',\n",
        "  'id': '4716382724',\n",
        "  'url': 'http://sfbay.craigslist.org/eby/apa/4716382724.html'},\n",
        " {'app': 1000,\n",
        "  'desc': u'$2,600/mo',\n",
        "  'id': '4717989371',\n",
        "  'url': 'http://sfbay.craigslist.org/eby/apa/4717989371.html'},\n",
        " {'app': 1000,\n",
        "  'desc': u'$2,600/mo',\n",
        "  'id': '4717989371',\n",
        "  'url': 'http://sfbay.craigslist.org/eby/apa/4717989371.html'},\n",
        " {'app': 1000,\n",
        "  'desc': u'$2185 / 2br - 1009ft\\xb2 - 2 BR Town Homes Available October 22 & 24 (fremont / union city / newark)',\n",
        "  'id': '4717568550',\n",
        "  'url': 'http://sfbay.craigslist.org/eby/apa/4717568550.html'},\n",
        " {'app': 1000,\n",
        "  'desc': u'$500 / 1br - 800ft\\xb2 - Room to share  (fremont / union city / newark)',\n",
        "  'id': '4712913492',\n",
        "  'url': 'http://sfbay.craigslist.org/eby/apa/4712913492.html'},\n",
        " {'app': 1000,\n",
        "  'desc': u'$1701 / 410ft\\xb2 - Just The Right Amount of  Space (fremont / union city / newark)',\n",
        "  'id': '4720404742',\n",
        "  'url': 'http://sfbay.craigslist.org/eby/apa/4720404742.html'},\n",
        " {'app': 1000,\n",
        "  'desc': u'$2500 / 3br - 1148ft\\xb2 - OPEN HOUSE, 3 Bed, 2 Bath, Cozy Home, Carpet/Hardwood Floors, Garden (fremont / union city / newark)',\n",
        "  'id': '4719922054',\n",
        "  'url': 'http://sfbay.craigslist.org/eby/apa/4719922054.html'},\n",
        " {'app': 1000,\n",
        "  'desc': u\"$2950 / 3br - Newer home in Fremont's Ardenwood neighborhood (fremont / union city / newark)\",\n",
        "  'id': '4718415269',\n",
        "  'url': 'http://sfbay.craigslist.org/eby/apa/4718415269.html'},\n",
        " {'app': 1000,\n",
        "  'desc': u'$2998 / 4br - 1617ft\\xb2 - Home in top school area in Fremont (fremont / union city / newark)',\n",
        "  'id': '4700775920',\n",
        "  'url': 'http://sfbay.craigslist.org/eby/apa/4700775920.html'},\n",
        " {'app': 1000,\n",
        "  'desc': u'$2500 / 3br - 1550ft\\xb2 - Beautiful house, close to Dumbarton Bridge(Facebook), shopping center  (fremont / union city / newark)',\n",
        "  'id': '4718851609',\n",
        "  'url': 'http://sfbay.craigslist.org/eby/apa/4718851609.html'},\n",
        " {'app': 1000,\n",
        "  'desc': u'$3200 / 3br - Single family house in Mission Sanjose (fremont / union city / newark)',\n",
        "  'id': '4714022747',\n",
        "  'url': 'http://sfbay.craigslist.org/eby/apa/4714022747.html'},\n",
        " {'app': 1000,\n",
        "  'desc': u\"$2224 / 2br - 906ft\\xb2 - Don't Wait!!! Here Today... Gone Tomorrow... (fremont / union city / newark)\",\n",
        "  'id': '4720988308',\n",
        "  'url': 'http://sfbay.craigslist.org/eby/apa/4720988308.html'},\n",
        " {'app': 1000,\n",
        "  'desc': u'$1562 / 1br - A Must See! Fantastic Location! Beautiful One Bedroom Apt Home! (fremont / union city / newark)',\n",
        "  'id': '4720618278',\n",
        "  'url': 'http://sfbay.craigslist.org/eby/apa/4720618278.html'},\n",
        " {'app': 1000,\n",
        "  'desc': u'$2300 / 2br - 890ft\\xb2 - *Carriage House* Gated Community in a Quiet and Friendly Neighborhood! (fremont / union city / newark)',\n",
        "  'id': '4720519649',\n",
        "  'url': 'http://sfbay.craigslist.org/eby/apa/4720519649.html'},\n",
        " {'app': 1000,\n",
        "  'desc': u'$2097 / 2br - 895ft\\xb2 - Available November 5th!!! (fremont / union city / newark)',\n",
        "  'id': '4720641538',\n",
        "  'url': 'http://sfbay.craigslist.org/eby/apa/4720641538.html'},\n",
        " {'app': 1000,\n",
        "  'desc': u'$2400 / 2br - Beautiful renovated condo in Ardenwood (fremont / union city / newark)',\n",
        "  'id': '4713423547',\n",
        "  'url': 'http://sfbay.craigslist.org/eby/apa/4713423547.html'},\n",
        " {'app': 1000,\n",
        "  'desc': u'$2220 / 2br - 1026ft\\xb2 - Beautiful 2 bedrooms available  (fremont / union city / newark)',\n",
        "  'id': '4719473938',\n",
        "  'url': 'http://sfbay.craigslist.org/eby/apa/4719473938.html'},\n",
        " {'app': 1000,\n",
        "  'desc': u'$1,750/mo',\n",
        "  'id': '4719047778',\n",
        "  'url': 'http://sfbay.craigslist.org/eby/apa/4719047778.html'},\n",
        " {'app': 1000,\n",
        "  'desc': u'$1,750/mo',\n",
        "  'id': '4719047778',\n",
        "  'url': 'http://sfbay.craigslist.org/eby/apa/4719047778.html'},\n",
        " {'app': 1000,\n",
        "  'desc': u'$1950 / 1br - 710ft\\xb2 - Outstanding Location, Responsive Maintenance, Spacious Floorplan (fremont / union city / newark)',\n",
        "  'id': '4714754197',\n",
        "  'url': 'http://sfbay.craigslist.org/eby/apa/4714754197.html'},\n",
        " {'app': 1000,\n",
        "  'desc': u'$2700 / 3br - Fremont 3 Bedroom 2 Bath  House (fremont / union city / newark)',\n",
        "  'id': '4719108614',\n",
        "  'url': 'http://sfbay.craigslist.org/eby/apa/4719108614.html'},\n",
        " {'app': 1000,\n",
        "  'desc': u'$1875 / 1br - 565ft\\xb2 - Schedule a Tour, Community Clubhouse, Near Shops and Dining (fremont / union city / newark)',\n",
        "  'id': '4711482079',\n",
        "  'url': 'http://sfbay.craigslist.org/eby/apa/4711482079.html'},\n",
        " {'app': 1000,\n",
        "  'desc': u'$2295 / 2br - 980ft\\xb2 - \\u2665HOME IS WHERE THE HEART IS\\u2665HUGE MASTERBEDROOM\\u2666 (fremont / union city / newark)',\n",
        "  'id': '4713417760',\n",
        "  'url': 'http://sfbay.craigslist.org/eby/apa/4713417760.html'},\n",
        " {'app': 1000,\n",
        "  'desc': u'$2094 / 2br - ELEGANTLY DESIGNED 2 BEDROOMS IN A BEAUTIFULLY LANDSCAPED COMMUNITY (fremont / union city / newark)',\n",
        "  'id': '4717668366',\n",
        "  'url': 'http://sfbay.craigslist.org/eby/apa/4717668366.html'},\n",
        " {'app': 1000,\n",
        "  'desc': u'$1795 / 1br - 527ft\\xb2 - \\u263b\\u2665THE MOST LIKED PLACE TO LIVE ON FACEBOOK\\u263b\\u2665 (fremont / union city / newark)',\n",
        "  'id': '4720727834',\n",
        "  'url': 'http://sfbay.craigslist.org/eby/apa/4720727834.html'},\n",
        " {'app': 1000,\n",
        "  'desc': u'$1795 / 1br - 527ft\\xb2 - \\u263bBART RIDERS DREAM/CLOSE TO SHOPPING\\u263b (fremont / union city / newark)',\n",
        "  'id': '4719572603',\n",
        "  'url': 'http://sfbay.craigslist.org/eby/apa/4719572603.html'},\n",
        " {'app': 1000,\n",
        "  'desc': u'$2500 / 3br - 1314ft\\xb2 - 5 year new townhouse for rent (fremont / union city / newark)',\n",
        "  'id': '4717522155',\n",
        "  'url': 'http://sfbay.craigslist.org/eby/apa/4717522155.html'},\n",
        " {'app': 1000,\n",
        "  'desc': u'$2289 / 3br - 1100ft\\xb2 - Condo for Rent in Fremont 3BR 2B (fremont / union city / newark)',\n",
        "  'id': '4721340098',\n",
        "  'url': 'http://sfbay.craigslist.org/eby/apa/4721340098.html'},\n",
        " {'app': 1000,\n",
        "  'desc': u'$2200 / 2br - $2200 /2 Bed 1 Bath - New Remodeled (fremont / union city / newark)',\n",
        "  'id': '4714930467',\n",
        "  'url': 'http://sfbay.craigslist.org/eby/apa/4714930467.html'},\n",
        " {'app': 1000,\n",
        "  'desc': u'$2900 / 3br - 1472ft\\xb2 - 3 bed 2 .5 bath townhome remodeled in Fremont (fremont / union city / newark)',\n",
        "  'id': '4699579886',\n",
        "  'url': 'http://sfbay.craigslist.org/eby/apa/4699579886.html'},\n",
        " {'app': 1000,\n",
        "  'desc': u'$1625 / 1br - 625ft\\xb2 - *SPECIAL* Your new home is waiting for you! - SPACIOUS 1 BR APARTMENT  (fremont / union city / newark)',\n",
        "  'id': '4719628167',\n",
        "  'url': 'http://sfbay.craigslist.org/eby/apa/4719628167.html'},\n",
        " {'app': 1000,\n",
        "  'desc': u'$1795 / 1br - 527ft\\xb2 - \\u2022\\u2022\\u2022LIVE CLOSE TO THE CITY\\u2665\\u2022\\u2022 (fremont / union city / newark)',\n",
        "  'id': '4719720022',\n",
        "  'url': 'http://sfbay.craigslist.org/eby/apa/4719720022.html'},\n",
        " {'app': 1000,\n",
        "  'desc': u'$2800 / 4br - 1620ft\\xb2 - Upgraded 4 Bedroom 2 Bath Home in Irvington Area of Fremont (fremont / union city / newark)',\n",
        "  'id': '4703498373',\n",
        "  'url': 'http://sfbay.craigslist.org/eby/apa/4703498373.html'},\n",
        " {'app': 1000,\n",
        "  'desc': u'$2151 / 2br - 850ft\\xb2 - Great Neighbors! You Will Feel Right at Home! (fremont / union city / newark)',\n",
        "  'id': '4720991582',\n",
        "  'url': 'http://sfbay.craigslist.org/eby/apa/4720991582.html'},\n",
        " {'app': 1000,\n",
        "  'desc': u'$1565 / 1br - 660ft\\xb2 - Your Future Is Here At Medallion Apts... (fremont / union city / newark)',\n",
        "  'id': '4712774235',\n",
        "  'url': 'http://sfbay.craigslist.org/eby/apa/4712774235.html'},\n",
        " {'app': 1000,\n",
        "  'desc': u'$1782 / 2br - 754ft\\xb2 - Affordable and Beautiful! (fremont / union city / newark)',\n",
        "  'id': '4718057214',\n",
        "  'url': 'http://sfbay.craigslist.org/eby/apa/4718057214.html'},\n",
        " {'app': 1000,\n",
        "  'desc': u'$2015 / 2br - 830ft\\xb2 - No Fooling Around! Fantastic Prices! (fremont / union city / newark)',\n",
        "  'id': '4716072949',\n",
        "  'url': 'http://sfbay.craigslist.org/eby/apa/4716072949.html'},\n",
        " {'app': 1000,\n",
        "  'desc': u'$1620 / 1br - 600ft\\xb2 - Great Apartment Value Near Union City Bart (fremont / union city / newark)',\n",
        "  'id': '4720505852',\n",
        "  'url': 'http://sfbay.craigslist.org/eby/apa/4720505852.html'},\n",
        " {'app': 1000,\n",
        "  'desc': u'$3200/mo',\n",
        "  'id': '4715766018',\n",
        "  'url': 'http://sfbay.craigslist.org/eby/apa/4715766018.html'},\n",
        " {'app': 1000,\n",
        "  'desc': u'$3200/mo',\n",
        "  'id': '4715766018',\n",
        "  'url': 'http://sfbay.craigslist.org/eby/apa/4715766018.html'},\n",
        " {'app': 1000,\n",
        "  'desc': u'$3000 / 3br - 1669ft\\xb2 - Modern home in an excellent location(3Bed/2.5bath in heart of Fremont) (fremont / union city / newark)',\n",
        "  'id': '4719164927',\n",
        "  'url': 'http://sfbay.craigslist.org/eby/apa/4719164927.html'},\n",
        " {'app': 1000,\n",
        "  'desc': u'$1750 / 2br - 800ft\\xb2 - Completely renovated apartment! 2 bed/1 bath in a gated community (fremont / union city / newark)',\n",
        "  'id': '4692790556',\n",
        "  'url': 'http://sfbay.craigslist.org/eby/apa/4692790556.html'},\n",
        " {'app': 1000,\n",
        "  'desc': u'$2100 / 2br - 895ft\\xb2 - \\u2706~\\u260f~\\u260eCall Oak Pointe Apartments Today!\\u260e~\\u260f~\\u2706 (fremont / union city / newark)',\n",
        "  'id': '4714998173',\n",
        "  'url': 'http://sfbay.craigslist.org/eby/apa/4714998173.html'},\n",
        " {'app': 1000,\n",
        "  'desc': u'$2395 / 2br - 980ft\\xb2 - \\u2665LOOKING FOR PEACE AND QUIET\\u2665 COME AND TOUR TODAY\\u2665 (fremont / union city / newark)',\n",
        "  'id': '4719629700',\n",
        "  'url': 'http://sfbay.craigslist.org/eby/apa/4719629700.html'},\n",
        " {'app': 1000,\n",
        "  'desc': u'$1900 / 2br - 1013ft\\xb2 - Light bright condo (fremont / union city / newark)',\n",
        "  'id': '4705550936',\n",
        "  'url': 'http://sfbay.craigslist.org/eby/apa/4705550936.html'},\n",
        " {'app': 1000,\n",
        "  'desc': u'$3600 / 3br - 1712ft\\xb2 - Brand New single Family Home for Rent (fremont / union city / newark)',\n",
        "  'id': '4713215164',\n",
        "  'url': 'http://sfbay.craigslist.org/eby/apa/4713215164.html'},\n",
        " {'app': 1000,\n",
        "  'desc': u'$2500 / 3br - Open House: Single Family Home Newark,very big lot and fruit trees (fremont / union city / newark)',\n",
        "  'id': '4719630357',\n",
        "  'url': 'http://sfbay.craigslist.org/eby/apa/4719630357.html'},\n",
        " {'app': 1000,\n",
        "  'desc': u'$1725 / 1br - 710ft\\xb2 - COME BY TODAY! Available for October 13Th  Move- In!  (fremont / union city / newark)',\n",
        "  'id': '4701965908',\n",
        "  'url': 'http://sfbay.craigslist.org/eby/apa/4701965908.html'},\n",
        " {'app': 1000,\n",
        "  'desc': u'$3,350/mo',\n",
        "  'id': '4711260041',\n",
        "  'url': 'http://sfbay.craigslist.org/eby/apa/4711260041.html'},\n",
        " {'app': 1000,\n",
        "  'desc': u'$3,350/mo',\n",
        "  'id': '4711260041',\n",
        "  'url': 'http://sfbay.craigslist.org/eby/apa/4711260041.html'},\n",
        " {'app': 1000,\n",
        "  'desc': u'$1582 / 1br - A Great Place To Call Home! Great Views! (fremont / union city / newark)',\n",
        "  'id': '4720648643',\n",
        "  'url': 'http://sfbay.craigslist.org/eby/apa/4720648643.html'},\n",
        " {'app': 1000,\n",
        "  'desc': u'$3200 ** Beautiful 3BD Single Family Home - with Full Amenities *** (fremont / union city / newark)',\n",
        "  'id': '4710948402',\n",
        "  'url': 'http://sfbay.craigslist.org/eby/apa/4710948402.html'},\n",
        " {'app': 1000,\n",
        "  'desc': u'$1845 / 2br - 910ft\\xb2 - Call Us Home (fremont / union city / newark)',\n",
        "  'id': '4713175552',\n",
        "  'url': 'http://sfbay.craigslist.org/eby/apa/4713175552.html'},\n",
        " {'app': 1000,\n",
        "  'desc': u'$1800 / 1br - 829ft\\xb2 - Take over 1 Bedroom apartment lease (fremont / union city / newark)',\n",
        "  'id': '4695412849',\n",
        "  'url': 'http://sfbay.craigslist.org/eby/apa/4695412849.html'},\n",
        " {'app': 1000,\n",
        "  'desc': u'$1639 / 650ft\\xb2 - Your New Home Awaits...Click Here.. (fremont / union city / newark)',\n",
        "  'id': '4716082763',\n",
        "  'url': 'http://sfbay.craigslist.org/eby/apa/4716082763.html'},\n",
        " {'app': 1000,\n",
        "  'desc': u'$1200 / 1br - 380ft\\xb2 - 1 Br-Studio residential in Union City (fremont / union city / newark)',\n",
        "  'id': '4718195034',\n",
        "  'url': 'http://sfbay.craigslist.org/eby/apa/4718195034.html'},\n",
        " {'app': 1000,\n",
        "  'desc': u'$3,100/mo',\n",
        "  'id': '4710977244',\n",
        "  'url': 'http://sfbay.craigslist.org/eby/apa/4710977244.html'},\n",
        " {'app': 1000,\n",
        "  'desc': u'$3,100/mo',\n",
        "  'id': '4710977244',\n",
        "  'url': 'http://sfbay.craigslist.org/eby/apa/4710977244.html'},\n",
        " {'app': 1000,\n",
        "  'desc': u'$1698 / 1br - 565ft\\xb2 - A Great Junior 1br Unit To Call home @waterstone Fremont (fremont / union city / newark)',\n",
        "  'id': '4717861265',\n",
        "  'url': 'http://sfbay.craigslist.org/eby/apa/4717861265.html'},\n",
        " {'app': 1000,\n",
        "  'desc': u'$2800 / 5br - 1600ft\\xb2 - Single story house near Lake Elizebeth (fremont / union city / newark)',\n",
        "  'id': '4711427069',\n",
        "  'url': 'http://sfbay.craigslist.org/eby/apa/4711427069.html'},\n",
        " {'app': 1000,\n",
        "  'desc': u'$1786 / 1br - 685ft\\xb2 - Alderwood Park, Wants You As A Resident! (fremont / union city / newark)',\n",
        "  'id': '4716014756',\n",
        "  'url': 'http://sfbay.craigslist.org/eby/apa/4716014756.html'},\n",
        " {'app': 1000,\n",
        "  'desc': u'$2700 / 3br - 1150ft\\xb2 - Fremont 3 bedroom 2 bath house (fremont / union city / newark)',\n",
        "  'id': '4720384339',\n",
        "  'url': 'http://sfbay.craigslist.org/eby/apa/4720384339.html'},\n",
        " {'app': 1000,\n",
        "  'desc': u'$1699 / 1br - 685ft\\xb2 - Lovely Place To Call Home! Sparkling pool & relaxing spa!  $300 Dep. (fremont / union city / newark)',\n",
        "  'id': '4710164005',\n",
        "  'url': 'http://sfbay.craigslist.org/eby/apa/4710164005.html'},\n",
        " {'app': 1000,\n",
        "  'desc': u'$1851 / 1br - 615ft\\xb2 - Will Be Available November 11th! (fremont / union city / newark)',\n",
        "  'id': '4720639560',\n",
        "  'url': 'http://sfbay.craigslist.org/eby/apa/4720639560.html'},\n",
        " {'app': 1000,\n",
        "  'desc': u'$2355 / 2br - 1108ft\\xb2 - Come See why Mission Peaks II is The Best in Fremont!! (fremont / union city / newark)',\n",
        "  'id': '4720615854',\n",
        "  'url': 'http://sfbay.craigslist.org/eby/apa/4720615854.html'},\n",
        " {'app': 1000,\n",
        "  'desc': u'$1550 / 1br - 1 bedr apt for 1550 only in Newark   (fremont / union city / newark)',\n",
        "  'id': '4711442471',\n",
        "  'url': 'http://sfbay.craigslist.org/eby/apa/4711442471.html'},\n",
        " {'app': 1000,\n",
        "  'desc': u'$1795 / 1br - 650ft\\xb2 - Beautiful 1 bedroom with brand new carpet & lino! (fremont / union city / newark)',\n",
        "  'id': '4719168016',\n",
        "  'url': 'http://sfbay.craigslist.org/eby/apa/4719168016.html'},\n",
        " {'app': 1000,\n",
        "  'desc': u'$1550 / 2br - 750ft\\xb2 - AMAZING 2BED/1BATH AVAILABLE!! (fremont / union city / newark)',\n",
        "  'id': '4697397493',\n",
        "  'url': 'http://sfbay.craigslist.org/eby/apa/4697397493.html'},\n",
        " {'app': 1000,\n",
        "  'desc': u'$1500 / 1br - 430ft\\xb2 -  1Br/1Ba Suite with Separate Private Kitchen and Entrance \\u7368\\u9662 (fremont / union city / newark)',\n",
        "  'id': '4719239533',\n",
        "  'url': 'http://sfbay.craigslist.org/eby/apa/4719239533.html'},\n",
        " {'app': 1000,\n",
        "  'desc': u'$1725 / 1br - 710ft\\xb2 - COME BY TODAY! Available for Move- In Today!  (fremont / union city / newark)',\n",
        "  'id': '4711243094',\n",
        "  'url': 'http://sfbay.craigslist.org/eby/apa/4711243094.html'},\n",
        " {'app': 1000,\n",
        "  'desc': u'$1589 / 1br - A Great Place To Call Home! Great Views! (fremont / union city / newark)',\n",
        "  'id': '4721048597',\n",
        "  'url': 'http://sfbay.craigslist.org/eby/apa/4721048597.html'},\n",
        " {'app': 1000,\n",
        "  'desc': u'$2,095/mo',\n",
        "  'id': '4716135024',\n",
        "  'url': 'http://sfbay.craigslist.org/eby/apa/4716135024.html'},\n",
        " {'app': 1000,\n",
        "  'desc': u'$2,095/mo',\n",
        "  'id': '4716135024',\n",
        "  'url': 'http://sfbay.craigslist.org/eby/apa/4716135024.html'},\n",
        " {'app': 1000,\n",
        "  'desc': u'$2385 / 2br - 1096ft\\xb2 - Looking for an Easy Commute?...BART is around the corner! (fremont / union city / newark)',\n",
        "  'id': '4721009101',\n",
        "  'url': 'http://sfbay.craigslist.org/eby/apa/4721009101.html'},\n",
        " {'app': 1000,\n",
        "  'desc': u'$1625 / 1br - 630ft\\xb2 - Beautiful Niles Community! Upstairs  Move-In October 23th! (fremont / union city / newark)',\n",
        "  'id': '4711238589',\n",
        "  'url': 'http://sfbay.craigslist.org/eby/apa/4711238589.html'},\n",
        " {'app': 1000,\n",
        "  'desc': u'$2193 Fully Furnished Studio - $2193.00/Month (fremont / union city / newark)',\n",
        "  'id': '4715828086',\n",
        "  'url': 'http://sfbay.craigslist.org/eby/apa/4715828086.html'},\n",
        " {'app': 1000,\n",
        "  'desc': u'$2495 / 5br - 1600ft\\xb2 - Remodeled 5 bedrooms home Union City (fremont / union city / newark)',\n",
        "  'id': '4716850586',\n",
        "  'url': 'http://sfbay.craigslist.org/eby/apa/4716850586.html'},\n",
        " {'app': 1000,\n",
        "  'desc': u'$2400 / 3br - 1400ft\\xb2 - Beautiful, Spacious 3 Bed 2 Bath House in Fremont (fremont / union city / newark)',\n",
        "  'id': '4716603113',\n",
        "  'url': 'http://sfbay.craigslist.org/eby/apa/4716603113.html'},\n",
        " {'app': 1000,\n",
        "  'desc': u'$2500 / 3br - 1550ft\\xb2 - Beautiful house, close to Dumbarton Bridge(Facebook), shopping center  (fremont / union city / newark)',\n",
        "  'id': '4717573101',\n",
        "  'url': 'http://sfbay.craigslist.org/eby/apa/4717573101.html'},\n",
        " {'app': 1000,\n",
        "  'desc': u'$2351 / 2br - 985ft\\xb2 - Spacious and Amazing.. talk about luxury! (fremont / union city / newark)',\n",
        "  'id': '4720996606',\n",
        "  'url': 'http://sfbay.craigslist.org/eby/apa/4720996606.html'},\n",
        " {'app': 1000,\n",
        "  'desc': u'$2355 / 2br - 900ft\\xb2 - Spacious, open, amazing floor plans!  (fremont / union city / newark)',\n",
        "  'id': '4720639373',\n",
        "  'url': 'http://sfbay.craigslist.org/eby/apa/4720639373.html'},\n",
        " {'app': 1000,\n",
        "  'desc': u'$2800 / 3br - 1752ft\\xb2 - Nor Cal Realty Inc - 3 bedroom 2.5 bath Single family home (fremont / union city / newark)',\n",
        "  'id': '4715776465',\n",
        "  'url': 'http://sfbay.craigslist.org/eby/apa/4715776465.html'},\n",
        " {'app': 1000,\n",
        "  'desc': u'$1786 / 1br - 685ft\\xb2 - STUNNING 1ST/ FLOOR 1BED/ READY TO MOVE IN SEPT 5TH! (fremont / union city / newark)',\n",
        "  'id': '4720917195',\n",
        "  'url': 'http://sfbay.craigslist.org/eby/apa/4720917195.html'},\n",
        " {'app': 1000,\n",
        "  'desc': u'$2000 / 2br - 894ft\\xb2 - Coming Soon! Reserve Your New Home Now... (fremont / union city / newark)',\n",
        "  'id': '4719055408',\n",
        "  'url': 'http://sfbay.craigslist.org/eby/apa/4719055408.html'},\n",
        " {'app': 1000,\n",
        "  'desc': u'$1923 / 2br - 785ft\\xb2 - Available November 1st!!! (fremont / union city / newark)',\n",
        "  'id': '4720640783',\n",
        "  'url': 'http://sfbay.craigslist.org/eby/apa/4720640783.html'},\n",
        " {'app': 1000,\n",
        "  'desc': u'$2,515/mo',\n",
        "  'id': '4698067143',\n",
        "  'url': 'http://sfbay.craigslist.org/eby/apa/4698067143.html'},\n",
        " {'app': 1000,\n",
        "  'desc': u'$2,515/mo',\n",
        "  'id': '4698067143',\n",
        "  'url': 'http://sfbay.craigslist.org/eby/apa/4698067143.html'},\n",
        " {'app': 1000,\n",
        "  'desc': u'$2295 / 2br - 980ft\\xb2 - \\u263aFEEL THE WARMTH HERE AT RANCHO LUNA/SOL (fremont / union city / newark)',\n",
        "  'id': '4716544304',\n",
        "  'url': 'http://sfbay.craigslist.org/eby/apa/4716544304.html'},\n",
        " {'app': 1000,\n",
        "  'desc': u'$1795 / 1br - BEAUTIFUL 1 BEDROOM AT QUIET NEIGHBORHOOD IN FREMONT!  (fremont / union city / newark)',\n",
        "  'id': '4721015477',\n",
        "  'url': 'http://sfbay.craigslist.org/eby/apa/4721015477.html'},\n",
        " {'app': 1000,\n",
        "  'desc': u'$3,100/mo',\n",
        "  'id': '4721286965',\n",
        "  'url': 'http://sfbay.craigslist.org/eby/apa/4721286965.html'},\n",
        " {'app': 1000,\n",
        "  'desc': u'$3,100/mo',\n",
        "  'id': '4721286965',\n",
        "  'url': 'http://sfbay.craigslist.org/eby/apa/4721286965.html'},\n",
        " {'app': 1000,\n",
        "  'desc': u'$2750 / 6br - 2000ft\\xb2 - Fremont \\u4e2d\\u5fc36\\u5367\\u5927\\u623f\\u51fa\\u79df (fremont / union city / newark)',\n",
        "  'id': '4713256188',\n",
        "  'url': 'http://sfbay.craigslist.org/eby/apa/4713256188.html'},\n",
        " {'app': 1000,\n",
        "  'desc': u'$2744 / 2br - 1184ft\\xb2 - Relax by our pool & spa just outside your new apartment home! (fremont / union city / newark)',\n",
        "  'id': '4720885262',\n",
        "  'url': 'http://sfbay.craigslist.org/eby/apa/4720885262.html'},\n",
        " {'app': 1000,\n",
        "  'desc': u'$3,100/mo',\n",
        "  'id': '4712299524',\n",
        "  'url': 'http://sfbay.craigslist.org/eby/apa/4712299524.html'},\n",
        " {'app': 1000,\n",
        "  'desc': u'$3,100/mo',\n",
        "  'id': '4712299524',\n",
        "  'url': 'http://sfbay.craigslist.org/eby/apa/4712299524.html'},\n",
        " {'app': 1000,\n",
        "  'desc': u'$2,695/mo',\n",
        "  'id': '4717653735',\n",
        "  'url': 'http://sfbay.craigslist.org/eby/apa/4717653735.html'},\n",
        " {'app': 1000,\n",
        "  'desc': u'$2,695/mo',\n",
        "  'id': '4717653735',\n",
        "  'url': 'http://sfbay.craigslist.org/eby/apa/4717653735.html'},\n",
        " {'app': 1000,\n",
        "  'desc': u'$2500 / 2br - 1040ft\\xb2 - \\u9ad8\\u7d1aCondo\\u51fa\\u79df2\\u623f2\\u6d74 \\u8fd1BART (fremont / union city / newark)',\n",
        "  'id': '4713662926',\n",
        "  'url': 'http://sfbay.craigslist.org/eby/apa/4713662926.html'},\n",
        " {'app': 1000,\n",
        "  'desc': u'$1965 / 2br - 830ft\\xb2 - Ready to Rent! (fremont / union city / newark)',\n",
        "  'id': '4720534239',\n",
        "  'url': 'http://sfbay.craigslist.org/eby/apa/4720534239.html'},\n",
        " {'app': 1000,\n",
        "  'desc': u'$2259 / 2br - UNWIND AFTER A LONG DAY IN YOUR STYLISH AND SERENE ENVIRONMENT! (fremont / union city / newark)',\n",
        "  'id': '4721100755',\n",
        "  'url': 'http://sfbay.craigslist.org/eby/apa/4721100755.html'},\n",
        " {'app': 1000,\n",
        "  'desc': u'$1950 / 1br - 710ft\\xb2 - Luxurious Homes, Near Public Parks, Parkmont Schools (fremont / union city / newark)',\n",
        "  'id': '4711067392',\n",
        "  'url': 'http://sfbay.craigslist.org/eby/apa/4711067392.html'},\n",
        " {'app': 1000,\n",
        "  'desc': u'$2500 / 2br - 1475ft\\xb2 - Remodel Union City Townhouse with 2 car garage (fremont / union city / newark)',\n",
        "  'id': '4720363448',\n",
        "  'url': 'http://sfbay.craigslist.org/eby/apa/4720363448.html'},\n",
        " {'app': 1000,\n",
        "  'desc': u'$3000 / 3br - 1400ft\\xb2 - Beautiful Fremont Home For Rent  (fremont / union city / newark)',\n",
        "  'id': '4721102115',\n",
        "  'url': 'http://sfbay.craigslist.org/eby/apa/4721102115.html'},\n",
        " {'app': 1000,\n",
        "  'desc': u'$2815 / 2br - 1147ft\\xb2 - BART Next Door, Parkmont & The Hub Nearby... Welcome Home To Watermark (fremont / union city / newark)',\n",
        "  'id': '4721002243',\n",
        "  'url': 'http://sfbay.craigslist.org/eby/apa/4721002243.html'},\n",
        " {'app': 1000,\n",
        "  'desc': u'$1700 / 1br - 650ft\\xb2 - Ready to Rent! (fremont / union city / newark)',\n",
        "  'id': '4716066963',\n",
        "  'url': 'http://sfbay.craigslist.org/eby/apa/4716066963.html'},\n",
        " {'app': 1000,\n",
        "  'desc': u'$2459 / 1br - 877ft\\xb2 - Charming apartment homes w/spacious and open kitchen layout! (fremont / union city / newark)',\n",
        "  'id': '4717618384',\n",
        "  'url': 'http://sfbay.craigslist.org/eby/apa/4717618384.html'},\n",
        " {'app': 1000,\n",
        "  'desc': u'$1698 / 1br - PARK-LIKE LANDSCAPING, ENJOY THE QUIET, SCENIC SURROUNDINGS  (fremont / union city / newark)',\n",
        "  'id': '4721028602',\n",
        "  'url': 'http://sfbay.craigslist.org/eby/apa/4721028602.html'},\n",
        " {'app': 1000,\n",
        "  'desc': u'$2796 / 3br - 1100ft\\xb2 - Come home to green lawns at Pathfinder Village! (fremont / union city / newark)',\n",
        "  'id': '4719489325',\n",
        "  'url': 'http://sfbay.craigslist.org/eby/apa/4719489325.html'},\n",
        " {'app': 1000,\n",
        "  'desc': u'$1565 / 1br - 660ft\\xb2 - Amazing Second Floor One Bedroom Apt Home... (fremont / union city / newark)',\n",
        "  'id': '4720611645',\n",
        "  'url': 'http://sfbay.craigslist.org/eby/apa/4720611645.html'},\n",
        " {'app': 1000,\n",
        "  'desc': u'$1930 / 760ft\\xb2 - Are You Ready To Move..Waterstone@Fremont (fremont / union city / newark)',\n",
        "  'id': '4716172234',\n",
        "  'url': 'http://sfbay.craigslist.org/eby/apa/4716172234.html'},\n",
        " {'app': 1000,\n",
        "  'desc': u'$2950 / 3br - 1489ft\\xb2 - Beautiful  Single Family Home at Ardenwood (fremont / union city / newark)',\n",
        "  'id': '4719323239',\n",
        "  'url': 'http://sfbay.craigslist.org/eby/apa/4719323239.html'},\n",
        " {'app': 1000,\n",
        "  'desc': u'$3150 / 3br - 1540ft\\xb2 - Mission SanJose- 3BR, 2 Baths, 1540 SF  (fremont / union city / newark)',\n",
        "  'id': '4706347153',\n",
        "  'url': 'http://sfbay.craigslist.org/eby/apa/4706347153.html'},\n",
        " {'app': 1000,\n",
        "  'desc': u'$1650 / 1br - 760ft\\xb2 - New Apartment/Condo Near Bart Fremont! (fremont / union city / newark)',\n",
        "  'id': '4713587740',\n",
        "  'url': 'http://sfbay.craigslist.org/eby/apa/4713587740.html'},\n",
        " {'app': 1000,\n",
        "  'desc': u'$3400 / 3br - 2100ft\\xb2 - MISSION: ANTELOPE HILLS 3 BR 2 1/5 BATH  (fremont / union city / newark)',\n",
        "  'id': '4710459519',\n",
        "  'url': 'http://sfbay.craigslist.org/eby/apa/4710459519.html'},\n",
        " {'app': 1000,\n",
        "  'desc': u'$2098 / 1br - 829ft\\xb2 - Marvelous 1 bed apartment near Fremont BART!  (fremont / union city / newark)',\n",
        "  'id': '4720780184',\n",
        "  'url': 'http://sfbay.craigslist.org/eby/apa/4720780184.html'},\n",
        " {'app': 1000,\n",
        "  'desc': u\"$3000 / 3br - 1600ft\\xb2 - Entertainer's delight - Centrally located fabulously upgraded home (fremont / union city / newark)\",\n",
        "  'id': '4709166878',\n",
        "  'url': 'http://sfbay.craigslist.org/eby/apa/4709166878.html'},\n",
        " {'app': 1000,\n",
        "  'desc': u'$3,100/mo',\n",
        "  'id': '4716658938',\n",
        "  'url': 'http://sfbay.craigslist.org/eby/apa/4716658938.html'},\n",
        " {'app': 1000,\n",
        "  'desc': u'$3,100/mo',\n",
        "  'id': '4716658938',\n",
        "  'url': 'http://sfbay.craigslist.org/eby/apa/4716658938.html'},\n",
        " {'app': 1000,\n",
        "  'desc': u'$1698 / 1br - RESORT LIVING IN A SERENE PARK SETTING  (fremont / union city / newark)',\n",
        "  'id': '4721186944',\n",
        "  'url': 'http://sfbay.craigslist.org/eby/apa/4721186944.html'},\n",
        " {'app': 1000,\n",
        "  'desc': u'$1625 / 1br - 630ft\\xb2 - Beautiful Niles Community! Downstairs Immediate Move-In ! (fremont / union city / newark)',\n",
        "  'id': '4691387359',\n",
        "  'url': 'http://sfbay.craigslist.org/eby/apa/4691387359.html'},\n",
        " {'app': 1000,\n",
        "  'desc': u'$3600 / 5br - 2000ft\\xb2 - Beautiful 5 bedroom 3 bath house $3,600.00 with lots of upgrades (fremont / union city / newark)',\n",
        "  'id': '4718268865',\n",
        "  'url': 'http://sfbay.craigslist.org/eby/apa/4718268865.html'},\n",
        " {'app': 1000,\n",
        "  'desc': u'$1698 / 1br - DESIGNER INTERIOR, SPACIOUS FLOOR PLANS AND AMAZING AMENITIES (fremont / union city / newark)',\n",
        "  'id': '4720627806',\n",
        "  'url': 'http://sfbay.craigslist.org/eby/apa/4720627806.html'},\n",
        " {'app': 1000,\n",
        "  'desc': u'$1698 / 1br - RESORT LIVING IN A SERENE PARK SETTING (fremont / union city / newark)',\n",
        "  'id': '4711731689',\n",
        "  'url': 'http://sfbay.craigslist.org/eby/apa/4711731689.html'},\n",
        " {'app': 1000,\n",
        "  'desc': u'$1650 / 2br - 750ft\\xb2 - GREAT 2 BEDROOMS DUPLEX  WITH GARAGE AND LARGE BACK YARD (fremont / union city / newark)',\n",
        "  'id': '4718175757',\n",
        "  'url': 'http://sfbay.craigslist.org/eby/apa/4718175757.html'},\n",
        " {'app': 1000,\n",
        "  'desc': u'$2300 / 3br - 1500ft\\xb2 - Charming Ranch Style Home (fremont / union city / newark)',\n",
        "  'id': '4708874045',\n",
        "  'url': 'http://sfbay.craigslist.org/eby/apa/4708874045.html'},\n",
        " {'app': 1000,\n",
        "  'desc': u'$885 / 1br - Niles cottage (fremont / union city / newark)',\n",
        "  'id': '4715923768',\n",
        "  'url': 'http://sfbay.craigslist.org/eby/apa/4715923768.html'},\n",
        " {'app': 1000,\n",
        "  'desc': u'$2,150/mo',\n",
        "  'id': '4717691905',\n",
        "  'url': 'http://sfbay.craigslist.org/eby/apa/4717691905.html'},\n",
        " {'app': 1000,\n",
        "  'desc': u'$2,150/mo',\n",
        "  'id': '4717691905',\n",
        "  'url': 'http://sfbay.craigslist.org/eby/apa/4717691905.html'},\n",
        " {'app': 1000,\n",
        "  'desc': u'$2400 / 3br - 1576ft\\xb2 - Fremont Brookvale house (fremont / union city / newark)',\n",
        "  'id': '4684119955',\n",
        "  'url': 'http://sfbay.craigslist.org/eby/apa/4684119955.html'},\n",
        " {'app': 1000,\n",
        "  'desc': u'$2300 / 2br - 890ft\\xb2 - *Carriage House* Gated Community in a Quiet and Friendly Neighborhood! (fremont / union city / newark)',\n",
        "  'id': '4720818552',\n",
        "  'url': 'http://sfbay.craigslist.org/eby/apa/4720818552.html'},\n",
        " {'app': 1000,\n",
        "  'desc': u'$1923 / 2br - 785ft\\xb2 - Only One Available November 1st (fremont / union city / newark)',\n",
        "  'id': '4710369193',\n",
        "  'url': 'http://sfbay.craigslist.org/eby/apa/4710369193.html'},\n",
        " {'app': 1000,\n",
        "  'desc': u'$1985 / 1br - 683ft\\xb2 - Get ready for December! One bedroom with storage available! (fremont / union city / newark)',\n",
        "  'id': '4721134568',\n",
        "  'url': 'http://sfbay.craigslist.org/eby/apa/4721134568.html'},\n",
        " {'app': 1000,\n",
        "  'desc': u'$1760 / 1br - AMAZING AMENITIES IN A PARK-LIKE COMMUNITY (fremont / union city / newark)',\n",
        "  'id': '4715000264',\n",
        "  'url': 'http://sfbay.craigslist.org/eby/apa/4715000264.html'},\n",
        " {'app': 1000,\n",
        "  'desc': u'$2400 / 2br - 1150ft\\xb2 - Sub-Leasing 2 Bed Room Apartment Starting October 31 (AVALON Apartment (fremont / union city / newark)',\n",
        "  'id': '4719065655',\n",
        "  'url': 'http://sfbay.craigslist.org/eby/apa/4719065655.html'},\n",
        " {'app': 1000,\n",
        "  'desc': u'$2500 / 3br - 1475ft\\xb2 - Updated Nice Town Home 4 Lease in Fremont! (fremont / union city / newark)',\n",
        "  'id': '4712998954',\n",
        "  'url': 'http://sfbay.craigslist.org/eby/apa/4712998954.html'},\n",
        " {'app': 1000,\n",
        "  'desc': u'$2163 / 2br - 985ft\\xb2 - Enjoy Separate Dining Rooms in our BR Apartments (fremont / union city / newark)',\n",
        "  'id': '4720971062',\n",
        "  'url': 'http://sfbay.craigslist.org/eby/apa/4720971062.html'},\n",
        " {'app': 1000,\n",
        "  'desc': u'$2150 / 2br - PARK-LIKE SETTING IN PRIME LOCATION, DESIGNER 2 BR (fremont / union city / newark)',\n",
        "  'id': '4710068294',\n",
        "  'url': 'http://sfbay.craigslist.org/eby/apa/4710068294.html'},\n",
        " {'app': 1000,\n",
        "  'desc': u'$3400 / 5br - 2880ft\\xb2 - ??? Stunning Semi-Custom Home ??? (fremont / union city / newark)',\n",
        "  'id': '4718342445',\n",
        "  'url': 'http://sfbay.craigslist.org/eby/apa/4718342445.html'},\n",
        " {'app': 1000,\n",
        "  'desc': u'$2750 / 6br - 2000ft\\xb2 - Single Family House at Central Fremont (fremont / union city / newark)',\n",
        "  'id': '4713260679',\n",
        "  'url': 'http://sfbay.craigslist.org/eby/apa/4713260679.html'},\n",
        " {'app': 1000,\n",
        "  'desc': u'$2295 / 2br - 1004ft\\xb2 - \\u2665LOOKING FOR PEACE AND QUIET\\u2665 COME AND TOUR TODAY\\u2665 (fremont / union city / newark)',\n",
        "  'id': '4712586884',\n",
        "  'url': 'http://sfbay.craigslist.org/eby/apa/4712586884.html'},\n",
        " {'app': 1000,\n",
        "  'desc': u'$2620 / 2br - 982ft\\xb2 - Commuting? Amazing apartment home near Fremont Bart! (fremont / union city / newark)',\n",
        "  'id': '4720621095',\n",
        "  'url': 'http://sfbay.craigslist.org/eby/apa/4720621095.html'},\n",
        " {'app': 1000,\n",
        "  'desc': u'$2295 / 2br - 980ft\\xb2 - \\u2666\\u263aBRAND NEW EVERYTHING!\\u2666\\u263a (fremont / union city / newark)',\n",
        "  'id': '4710320249',\n",
        "  'url': 'http://sfbay.craigslist.org/eby/apa/4710320249.html'},\n",
        " {'app': 1000,\n",
        "  'desc': u'$3500 / 4br - 2094ft\\xb2 - Newly Built 4 Bed/3.5 Bath Single Home in Fremont Irvington (fremont / union city / newark)',\n",
        "  'id': '4675852525',\n",
        "  'url': 'http://sfbay.craigslist.org/eby/apa/4675852525.html'},\n",
        " {'app': 1000,\n",
        "  'desc': u'$2395 / 2br - 980ft\\xb2 - \\u263bBART RIDERS DREAM/CLOSE TO SHOPPING\\u263b (fremont / union city / newark)',\n",
        "  'id': '4712560073',\n",
        "  'url': 'http://sfbay.craigslist.org/eby/apa/4712560073.html'},\n",
        " {'app': 1000,\n",
        "  'desc': u'$2999 / 4br - 1922ft\\xb2 - luxuary 4bed 2 bath union city $,2,999 first month (fremont / union city / newark)',\n",
        "  'id': '4698874935',\n",
        "  'url': 'http://sfbay.craigslist.org/eby/apa/4698874935.html'},\n",
        " {'app': 1000,\n",
        "  'desc': u'$2645 / 2br - 1179ft\\xb2 - A Great Place To Call Home! (fremont / union city / newark)',\n",
        "  'id': '4719685180',\n",
        "  'url': 'http://sfbay.craigslist.org/eby/apa/4719685180.html'},\n",
        " {'app': 1000,\n",
        "  'desc': u'$3,300/mo',\n",
        "  'id': '4697859201',\n",
        "  'url': 'http://sfbay.craigslist.org/eby/apa/4697859201.html'},\n",
        " {'app': 1000,\n",
        "  'desc': u'$3,300/mo',\n",
        "  'id': '4697859201',\n",
        "  'url': 'http://sfbay.craigslist.org/eby/apa/4697859201.html'},\n",
        " {'app': 1000,\n",
        "  'desc': u'$2068 / 2br - 895ft\\xb2 - Large Dual Floor Plan First Availability October 15th  (fremont / union city / newark)',\n",
        "  'id': '4710371000',\n",
        "  'url': 'http://sfbay.craigslist.org/eby/apa/4710371000.html'},\n",
        " {'app': 1000,\n",
        "  'desc': u'$2095 / 2br - 850ft\\xb2 - 2 bed 1 bath  (fremont / union city / newark)',\n",
        "  'id': '4711401643',\n",
        "  'url': 'http://sfbay.craigslist.org/eby/apa/4711401643.html'},\n",
        " {'app': 1000,\n",
        "  'desc': u'$3450 / 3br - 1700ft\\xb2 - Brand New Single Family Home (fremont / union city / newark)',\n",
        "  'id': '4713599979',\n",
        "  'url': 'http://sfbay.craigslist.org/eby/apa/4713599979.html'},\n",
        " {'app': 1000,\n",
        "  'desc': u'$2425 / 2br - 1010ft\\xb2 - Outstanding Location, Heated Pool, Sauna, Pets Welcome (fremont / union city / newark)',\n",
        "  'id': '4718980244',\n",
        "  'url': 'http://sfbay.craigslist.org/eby/apa/4718980244.html'},\n",
        " {'app': 1000,\n",
        "  'desc': u'$2620 / 2br - 982ft\\xb2 - Living at its best! Come see your new home today! (fremont / union city / newark)',\n",
        "  'id': '4720935262',\n",
        "  'url': 'http://sfbay.craigslist.org/eby/apa/4720935262.html'},\n",
        " {'app': 1000,\n",
        "  'desc': u'$1760 / 1br - RESORT LIVING IN SERENE PARK SETTING  (fremont / union city / newark)',\n",
        "  'id': '4715854469',\n",
        "  'url': 'http://sfbay.craigslist.org/eby/apa/4715854469.html'},\n",
        " {'app': 1000,\n",
        "  'desc': u'$2,315/mo',\n",
        "  'id': '4698040171',\n",
        "  'url': 'http://sfbay.craigslist.org/eby/apa/4698040171.html'},\n",
        " {'app': 1000,\n",
        "  'desc': u'$2,315/mo',\n",
        "  'id': '4698040171',\n",
        "  'url': 'http://sfbay.craigslist.org/eby/apa/4698040171.html'},\n",
        " {'app': 1000,\n",
        "  'desc': u'$2618 / 3br - 1320ft\\xb2 - 3BD/2BA Apartment with Quartz Countertops (fremont / union city / newark)',\n",
        "  'id': '4720999648',\n",
        "  'url': 'http://sfbay.craigslist.org/eby/apa/4720999648.html'},\n",
        " {'app': 1000,\n",
        "  'desc': u'$2400 / 3br - 1180ft\\xb2 - 3 Bedroom Union City Home (fremont / union city / newark)',\n",
        "  'id': '4706955374',\n",
        "  'url': 'http://sfbay.craigslist.org/eby/apa/4706955374.html'},\n",
        " {'app': 1000,\n",
        "  'desc': u'$2259 / 2br - COME EXPERIENCE CONVENIENT AND PEACEFUL LIVING THAT AWAITS YOU (fremont / union city / newark)',\n",
        "  'id': '4719745304',\n",
        "  'url': 'http://sfbay.craigslist.org/eby/apa/4719745304.html'},\n",
        " {'app': 1000,\n",
        "  'desc': u'$2300 / 3br - 1280ft\\xb2 - 3 Bedrooms, 1.5 Bathrooms Townhouse available for rent in Union City (fremont / union city / newark)',\n",
        "  'id': '4715854595',\n",
        "  'url': 'http://sfbay.craigslist.org/eby/apa/4715854595.html'},\n",
        " {'app': 1000,\n",
        "  'desc': u'$3500 / 4br - 2000ft\\xb2 - Executive Living Ranch Style Single Family (fremont / union city / newark)',\n",
        "  'id': '4712627279',\n",
        "  'url': 'http://sfbay.craigslist.org/eby/apa/4712627279.html'},\n",
        " {'app': 1000,\n",
        "  'desc': u'$2277 / 2br - 975ft\\xb2 - Newly Remodeled 2 bdrm & 2 bthrms with washer & dryer! Call Today! (fremont / union city / newark)',\n",
        "  'id': '4719209534',\n",
        "  'url': 'http://sfbay.craigslist.org/eby/apa/4719209534.html'},\n",
        " {'app': 1000,\n",
        "  'desc': u'$2375 / 2br - 1065ft\\xb2 - Stunning 2 bedrooms available now! Near BART! Dont Miss Out! (fremont / union city / newark)',\n",
        "  'id': '4720955678',\n",
        "  'url': 'http://sfbay.craigslist.org/eby/apa/4720955678.html'},\n",
        " {'app': 1000,\n",
        "  'desc': u'$2375 / 3br - 1372ft\\xb2 - 3 bedrooms for rent in Fremont CA 94536 (fremont / union city / newark)',\n",
        "  'id': '4720596089',\n",
        "  'url': 'http://sfbay.craigslist.org/eby/apa/4720596089.html'},\n",
        " {'app': 1000,\n",
        "  'desc': u'$1698 / 1br - RESORT STYLE LIVING IN A PRIME FREMONT LOCATION  (fremont / union city / newark)',\n",
        "  'id': '4714259431',\n",
        "  'url': 'http://sfbay.craigslist.org/eby/apa/4714259431.html'},\n",
        " {'app': 1000,\n",
        "  'desc': u'$2026 / 1br - 738ft\\xb2 - Looking For Convenience?...Come to Paragon! (fremont / union city / newark)',\n",
        "  'id': '4719240713',\n",
        "  'url': 'http://sfbay.craigslist.org/eby/apa/4719240713.html'},\n",
        " {'app': 1000,\n",
        "  'desc': u'$2399 / 2br - 850ft\\xb2 - Make The Woods Your Home Today...Call NOW!! (fremont / union city / newark)',\n",
        "  'id': '4718079341',\n",
        "  'url': 'http://sfbay.craigslist.org/eby/apa/4718079341.html'},\n",
        " {'app': 1000,\n",
        "  'desc': u'$2295 / 2br - 1004ft\\xb2 - \\u263bBART RIDERS DREAM/CLOSE TO SHOPPING\\u263b (fremont / union city / newark)',\n",
        "  'id': '4715855732',\n",
        "  'url': 'http://sfbay.craigslist.org/eby/apa/4715855732.html'},\n",
        " {'app': 1000,\n",
        "  'desc': u'$2360 / 2br - 1050ft\\xb2 - FREMONT ARDENWOOD CONDO! (fremont / union city / newark)',\n",
        "  'id': '4716425083',\n",
        "  'url': 'http://sfbay.craigslist.org/eby/apa/4716425083.html'},\n",
        " {'app': 1000,\n",
        "  'desc': u'$2295 / 2br - 1004ft\\xb2 - \\u2666TOUR TODAY AND ENJOY BEAUTIFULLY RENOVATED APT HOMES\\u2666 (fremont / union city / newark)',\n",
        "  'id': '4713151241',\n",
        "  'url': 'http://sfbay.craigslist.org/eby/apa/4713151241.html'},\n",
        " {'app': 1000,\n",
        "  'desc': u'$1845 / 1br - Ready to move in call now for an appointment!!!! (fremont / union city / newark)',\n",
        "  'id': '4711216233',\n",
        "  'url': 'http://sfbay.craigslist.org/eby/apa/4711216233.html'},\n",
        " {'app': 1000,\n",
        "  'desc': u'$2950 / 4br - 1625ft\\xb2 - BEAUTIFUL Parkmont Home 4BR/2BA - SUNDAY OPEN HOUSE! (fremont / union city / newark)',\n",
        "  'id': '4721382446',\n",
        "  'url': 'http://sfbay.craigslist.org/eby/apa/4721382446.html'},\n",
        " {'app': 1000,\n",
        "  'desc': u'$2616 / 3br - 1320ft\\xb2 - 3BD/2BA Apartment with Quartz Countertops (fremont / union city / newark)',\n",
        "  'id': '4721161562',\n",
        "  'url': 'http://sfbay.craigslist.org/eby/apa/4721161562.html'},\n",
        " {'app': 1000,\n",
        "  'desc': u'$2616 / 3br - 1320ft\\xb2 - 3BD/2BA Apartment with Quartz Countertops (fremont / union city / newark)',\n",
        "  'id': '4719053083',\n",
        "  'url': 'http://sfbay.craigslist.org/eby/apa/4719053083.html'},\n",
        " {'app': 1000,\n",
        "  'desc': u'$1665 / 1br - 650ft\\xb2 - No Fooling Around! Fantastic Prices! (fremont / union city / newark)',\n",
        "  'id': '4717606226',\n",
        "  'url': 'http://sfbay.craigslist.org/eby/apa/4717606226.html'},\n",
        " {'app': 1000,\n",
        "  'desc': u'$1950 / 2br - 800ft\\xb2 - We Offer Upstairs And Downstairs Units Available! (fremont / union city / newark)',\n",
        "  'id': '4721087771',\n",
        "  'url': 'http://sfbay.craigslist.org/eby/apa/4721087771.html'},\n",
        " {'app': 1000,\n",
        "  'desc': u'$2,445/mo',\n",
        "  'id': '4714405729',\n",
        "  'url': 'http://sfbay.craigslist.org/eby/apa/4714405729.html'},\n",
        " {'app': 1000,\n",
        "  'desc': u'$2,445/mo',\n",
        "  'id': '4714405729',\n",
        "  'url': 'http://sfbay.craigslist.org/eby/apa/4714405729.html'},\n",
        " {'app': 1000,\n",
        "  'desc': u'$2500 / 3br - House For Rent In Mission San jose Fremont (fremont / union city / newark)',\n",
        "  'id': '4716807602',\n",
        "  'url': 'http://sfbay.craigslist.org/eby/apa/4716807602.html'},\n",
        " {'app': 1000,\n",
        "  'desc': u'$3200 / 4br - 2000ft\\xb2 - Elegant and Spacious 4 BR/2.5 BA Single Family Home in Fremont  (fremont / union city / newark)',\n",
        "  'id': '4719903999',\n",
        "  'url': 'http://sfbay.craigslist.org/eby/apa/4719903999.html'},\n",
        " {'app': 1000,\n",
        "  'desc': u'$2200 / 2br - 2Bath, 934 sqft, Condo with 1 car garage (fremont / union city / newark)',\n",
        "  'id': '4716882876',\n",
        "  'url': 'http://sfbay.craigslist.org/eby/apa/4716882876.html'},\n",
        " {'app': 1000,\n",
        "  'desc': u'$2240 / 2br - 975ft\\xb2 - Newly Remodeled 2 bdrm & 2 bathroom with washer & dryer! Call Today! (fremont / union city / newark)',\n",
        "  'id': '4715894084',\n",
        "  'url': 'http://sfbay.craigslist.org/eby/apa/4715894084.html'},\n",
        " {'app': 1000,\n",
        "  'desc': u'$2300 / 2br - 890ft\\xb2 - *Carriage House* Gated Community in a Quiet and Friendly Neighborhood! (fremont / union city / newark)',\n",
        "  'id': '4710499204',\n",
        "  'url': 'http://sfbay.craigslist.org/eby/apa/4710499204.html'},\n",
        " {'app': 1000,\n",
        "  'desc': u'$3,500/mo',\n",
        "  'id': '4718164387',\n",
        "  'url': 'http://sfbay.craigslist.org/eby/apa/4718164387.html'},\n",
        " {'app': 1000,\n",
        "  'desc': u'$3,500/mo',\n",
        "  'id': '4718164387',\n",
        "  'url': 'http://sfbay.craigslist.org/eby/apa/4718164387.html'},\n",
        " {'app': 1000,\n",
        "  'desc': u'$1786 / 1br - 685ft\\xb2 - Looking To Move Mid October? This 2nd Floor 1 Bedroom Will Be Ready! (fremont / union city / newark)',\n",
        "  'id': '4719262871',\n",
        "  'url': 'http://sfbay.craigslist.org/eby/apa/4719262871.html'},\n",
        " {'app': 1000,\n",
        "  'desc': u'$2249 / 2br - ~FALL IN LOVE WITH OUR  AWARD WINNING COMMUNITY~ (fremont / union city / newark)',\n",
        "  'id': '4719373853',\n",
        "  'url': 'http://sfbay.craigslist.org/eby/apa/4719373853.html'},\n",
        " {'app': 1000,\n",
        "  'desc': u'$1865 / 1br - 760ft\\xb2 - Are You Ready To Move..Waterstone@Fremont (fremont / union city / newark)',\n",
        "  'id': '4717850427',\n",
        "  'url': 'http://sfbay.craigslist.org/eby/apa/4717850427.html'},\n",
        " {'app': 1000,\n",
        "  'desc': u'$2175 / 2br - 850ft\\xb2 -  HOW CAN YOU SAY NO TO THIS COZY 2BED/1BATH @ALDERWOOD PARK!  (fremont / union city / newark)',\n",
        "  'id': '4719087534',\n",
        "  'url': 'http://sfbay.craigslist.org/eby/apa/4719087534.html'},\n",
        " {'app': 1000,\n",
        "  'desc': u'$2425 / 2br - 1111ft\\xb2 - Spacious 2bd/1.5ba including w/d & 2 car garage - AVAILABLE DECEMBER 1 (fremont / union city / newark)',\n",
        "  'id': '4701023723',\n",
        "  'url': 'http://sfbay.craigslist.org/eby/apa/4701023723.html'},\n",
        " {'app': 1000,\n",
        "  'desc': u'$3500 / 4br - 2200ft\\xb2 - 4 Bed 3.5 Bath Single Family House in Fremont Mission San Jose (fremont / union city / newark)',\n",
        "  'id': '4712876134',\n",
        "  'url': 'http://sfbay.craigslist.org/eby/apa/4712876134.html'},\n",
        " {'app': 1000,\n",
        "  'desc': u'$2340 / 3br - 1000ft\\xb2 - Remodeled Warm Springs House (fremont / union city / newark)',\n",
        "  'id': '4711899551',\n",
        "  'url': 'http://sfbay.craigslist.org/eby/apa/4711899551.html'},\n",
        " {'app': 1000,\n",
        "  'desc': u'$800 / 1br - 170ft\\xb2 - ** \\u8c6a\\u5b85! \\u8c6a\\u534e\\u5bb6\\u79c1\\u914d\\u5957\\u9f50 (fremont / union city / newark)',\n",
        "  'id': '4708627612',\n",
        "  'url': 'http://sfbay.craigslist.org/eby/apa/4708627612.html'},\n",
        " {'app': 1000,\n",
        "  'desc': u'$2295 / 1br - Studio suites only $2295.00 (fremont / union city / newark)',\n",
        "  'id': '4716039487',\n",
        "  'url': 'http://sfbay.craigslist.org/eby/apa/4716039487.html'},\n",
        " {'app': 1000,\n",
        "  'desc': u'$2220 / 2br - 1026ft\\xb2 - Beautiful 2 bedrooms available  (fremont / union city / newark)',\n",
        "  'id': '4714202046',\n",
        "  'url': 'http://sfbay.craigslist.org/eby/apa/4714202046.html'},\n",
        " {'app': 1000,\n",
        "  'desc': u'$2098 / 1br - 829ft\\xb2 - Marvelous 1 bed apartment near Fremont BART!  (fremont / union city / newark)',\n",
        "  'id': '4720845630',\n",
        "  'url': 'http://sfbay.craigslist.org/eby/apa/4720845630.html'},\n",
        " {'app': 1000,\n",
        "  'desc': u'$2200 / 2br - 850ft\\xb2 - Sit Back and Relax In This Wonderful Two Bedroom! (fremont / union city / newark)',\n",
        "  'id': '4721162176',\n",
        "  'url': 'http://sfbay.craigslist.org/eby/apa/4721162176.html'},\n",
        " {'app': 1000,\n",
        "  'desc': u'$1547 / 1br - 660ft\\xb2 - Medallion Has All The Space You Need... (fremont / union city / newark)',\n",
        "  'id': '4711266858',\n",
        "  'url': 'http://sfbay.craigslist.org/eby/apa/4711266858.html'},\n",
        " {'app': 1000,\n",
        "  'desc': u'$1675 / 1br - Amazing 1 Bedroom $1,675 (fremont / union city / newark)',\n",
        "  'id': '4706666794',\n",
        "  'url': 'http://sfbay.craigslist.org/eby/apa/4706666794.html'},\n",
        " {'app': 1000,\n",
        "  'desc': u'$2259 / 2br - GORGEOUS,TOP FLOOR APARTMENT,VISIT AMBER COURT TODAY!  (fremont / union city / newark)',\n",
        "  'id': '4721132582',\n",
        "  'url': 'http://sfbay.craigslist.org/eby/apa/4721132582.html'},\n",
        " {'app': 1000,\n",
        "  'desc': u'$1875 / 1br - 565ft\\xb2 - Luxurious Homes, Walk to BART, Washer Dryer in Unit (fremont / union city / newark)',\n",
        "  'id': '4717955759',\n",
        "  'url': 'http://sfbay.craigslist.org/eby/apa/4717955759.html'},\n",
        " {'app': 1000,\n",
        "  'desc': u'$1698 / 1br - PARK-LIKE LANDSCAPING, POOL, SPA, FITNESS CENTER (fremont / union city / newark)',\n",
        "  'id': '4719076304',\n",
        "  'url': 'http://sfbay.craigslist.org/eby/apa/4719076304.html'},\n",
        " {'app': 1000,\n",
        "  'desc': u'$2800 / 3br - 1067ft\\xb2 - Nice quiet 3Bed-2Bath (fremont / union city / newark)',\n",
        "  'id': '4712715052',\n",
        "  'url': 'http://sfbay.craigslist.org/eby/apa/4712715052.html'},\n",
        " {'app': 1000,\n",
        "  'desc': u'$2999 / 3br - 1500ft\\xb2 - Bright, Nice Beautiful House, Walk to Fremont BART (fremont / union city / newark)',\n",
        "  'id': '4719791884',\n",
        "  'url': 'http://sfbay.craigslist.org/eby/apa/4719791884.html'},\n",
        " {'app': 1000,\n",
        "  'desc': u'$1895 / 1br - 527ft\\xb2 - \\u2660GREAT PRICE, LOCATION, AND QUIET\\u2660 (fremont / union city / newark)',\n",
        "  'id': '4714683244',\n",
        "  'url': 'http://sfbay.craigslist.org/eby/apa/4714683244.html'},\n",
        " {'app': 1000,\n",
        "  'desc': u'$2715 / 3br - 1369ft\\xb2 - 3Bedroom 3bathroom on the Top floor with Fireplace & Vaulted ceiling! (fremont / union city / newark)',\n",
        "  'id': '4720891332',\n",
        "  'url': 'http://sfbay.craigslist.org/eby/apa/4720891332.html'},\n",
        " {'app': 1000,\n",
        "  'desc': u'$1900 / 1br - 737ft\\xb2 - *Carriage House* Gated Community in a Quiet and Friendly Neighborhood! (fremont / union city / newark)',\n",
        "  'id': '4710498444',\n",
        "  'url': 'http://sfbay.craigslist.org/eby/apa/4710498444.html'},\n",
        " {'app': 1000,\n",
        "  'desc': u'$3200 / 5br - 2157ft\\xb2 - Beautiful House Near BART Station (fremont / union city / newark)',\n",
        "  'id': '4719902978',\n",
        "  'url': 'http://sfbay.craigslist.org/eby/apa/4719902978.html'},\n",
        " {'app': 1000,\n",
        "  'desc': u'$2050 / 1br - 701ft\\xb2 - Come take a look Upgraded and next to shopping (fremont / union city / newark)',\n",
        "  'id': '4721157794',\n",
        "  'url': 'http://sfbay.craigslist.org/eby/apa/4721157794.html'},\n",
        " {'app': 1000,\n",
        "  'desc': u'$2750 / 3br - 1350ft\\xb2 -  3BR/2.5 BA home for rent in Fremont Ardenwood/Forest Park area (fremont / union city / newark)',\n",
        "  'id': '4714721833',\n",
        "  'url': 'http://sfbay.craigslist.org/eby/apa/4714721833.html'},\n",
        " {'app': 1000,\n",
        "  'desc': u'$900 Fully-furnished in-law studio with private entry (fremont / union city / newark)',\n",
        "  'id': '4719004291',\n",
        "  'url': 'http://sfbay.craigslist.org/eby/apa/4719004291.html'},\n",
        " {'app': 1000,\n",
        "  'desc': u'$1786 / 1br - 685ft\\xb2 - Alderwood Park in Newark - Dumbarton/84/880 & public transit close by! (fremont / union city / newark)',\n",
        "  'id': '4720774106',\n",
        "  'url': 'http://sfbay.craigslist.org/eby/apa/4720774106.html'},\n",
        " {'app': 1000,\n",
        "  'desc': u'$2900 / 3br - 1472ft\\xb2 - 3 bed 2 .5 bath townhome remodeled in Fremont  (fremont / union city / newark)',\n",
        "  'id': '4675937071',\n",
        "  'url': 'http://sfbay.craigslist.org/eby/apa/4675937071.html'},\n",
        " {'app': 1000,\n",
        "  'desc': u'$2176 / 2br - 980ft\\xb2 - Looking For A Pet Friendly Community...Waterstone@Fremont (fremont / union city / newark)',\n",
        "  'id': '4718891996',\n",
        "  'url': 'http://sfbay.craigslist.org/eby/apa/4718891996.html'},\n",
        " {'app': 1000,\n",
        "  'desc': u'$1674 Affordable One Bedroom Near Public Transportation, Shopping and Dining (fremont / union city / newark)',\n",
        "  'id': '4710451031',\n",
        "  'url': 'http://sfbay.craigslist.org/eby/apa/4710451031.html'},\n",
        " {'app': 1000,\n",
        "  'desc': u'$5100 / 5br - 3500ft\\xb2 - LARGE FREMONT EXECUTIVE HOME ! TOP MISSION SCHOOLS ! (fremont / union city / newark)',\n",
        "  'id': '4716842666',\n",
        "  'url': 'http://sfbay.craigslist.org/eby/apa/4716842666.html'},\n",
        " {'app': 1000,\n",
        "  'desc': u'$2259 / 2br - ~LUSH GARDENS, POOL, SPA, FITNESS CENTER AND BRIGHT TWO BEDROOM~ (fremont / union city / newark)',\n",
        "  'id': '4721019624',\n",
        "  'url': 'http://sfbay.craigslist.org/eby/apa/4721019624.html'},\n",
        " {'app': 1000,\n",
        "  'desc': u'$1625 / 1br - 630ft\\xb2 - Beautiful Niles Community! Move-In November 7th! (fremont / union city / newark)',\n",
        "  'id': '4720412245',\n",
        "  'url': 'http://sfbay.craigslist.org/eby/apa/4720412245.html'},\n",
        " {'app': 1000,\n",
        "  'desc': u'$1850 / 1br - 650ft\\xb2 - Luxury & Convenience All In One Great One Bedroom (fremont / union city / newark)',\n",
        "  'id': '4720845004',\n",
        "  'url': 'http://sfbay.craigslist.org/eby/apa/4720845004.html'},\n",
        " {'app': 1000,\n",
        "  'desc': u'$5380 / 5br - 3800ft\\xb2 - 708 Chavel Court, Fremont, Avail.10/25 Ext.43 (fremont / union city / newark)',\n",
        "  'id': '4712645561',\n",
        "  'url': 'http://sfbay.craigslist.org/eby/apa/4712645561.html'},\n",
        " {'app': 1000,\n",
        "  'desc': u'$1875 / 1br - 565ft\\xb2 - Call for Details, Easy Freeway Access, Night Patrol, Fitness Ctr (fremont / union city / newark)',\n",
        "  'id': '4715875696',\n",
        "  'url': 'http://sfbay.craigslist.org/eby/apa/4715875696.html'},\n",
        " {'app': 1000,\n",
        "  'desc': u'$2425 / 2br - 1010ft\\xb2 - Visit Your New Home, Night Patrol, Fitness Ctr, Easy Freeway Access (fremont / union city / newark)',\n",
        "  'id': '4710259152',\n",
        "  'url': 'http://sfbay.craigslist.org/eby/apa/4710259152.html'},\n",
        " {'app': 1000,\n",
        "  'desc': u'$2400 / 2br - 1405ft\\xb2 - Good Townhouse in Fremont, Northgate area (fremont / union city / newark)',\n",
        "  'id': '4714391095',\n",
        "  'url': 'http://sfbay.craigslist.org/eby/apa/4714391095.html'},\n",
        " {'app': 1000,\n",
        "  'desc': u'$1790 / 1br - 600ft\\xb2 - Beautiful and spacious 1 bedrooms available  (fremont / union city / newark)',\n",
        "  'id': '4719474600',\n",
        "  'url': 'http://sfbay.craigslist.org/eby/apa/4719474600.html'},\n",
        " {'app': 1000,\n",
        "  'desc': u'$2695 / 4br - 1384ft\\xb2 - SPACIOUS 4BEDS/2BATHS HOUSE FOR RENT (fremont / union city / newark)',\n",
        "  'id': '4716543450',\n",
        "  'url': 'http://sfbay.craigslist.org/eby/apa/4716543450.html'},\n",
        " {'app': 1000,\n",
        "  'desc': u'$1950 / 1br - 710ft\\xb2 - Stylish Features, Washer Dryer in Unit, Walk to BART (fremont / union city / newark)',\n",
        "  'id': '4712595054',\n",
        "  'url': 'http://sfbay.craigslist.org/eby/apa/4712595054.html'},\n",
        " {'app': 1000,\n",
        "  'desc': u'$1543 / 1br - 650ft\\xb2 - Best Rate In Town! Perfect Apartment Home Now Available! (fremont / union city / newark)',\n",
        "  'id': '4714533902',\n",
        "  'url': 'http://sfbay.craigslist.org/eby/apa/4714533902.html'},\n",
        " {'app': 1000,\n",
        "  'desc': u'$1760 / 1br - PARK-LIKE LANDSCAPING, POOL, SPA, FITNESS CENTER (fremont / union city / newark)',\n",
        "  'id': '4710314987',\n",
        "  'url': 'http://sfbay.craigslist.org/eby/apa/4710314987.html'},\n",
        " {'app': 1000,\n",
        "  'desc': u'$1550 / 2br - 750ft\\xb2 - INCREDIBLE 2BED/1BATH AVAILABLE!!! (fremont / union city / newark)',\n",
        "  'id': '4694978856',\n",
        "  'url': 'http://sfbay.craigslist.org/eby/apa/4694978856.html'},\n",
        " {'app': 1000,\n",
        "  'desc': u'$2022 / 2br - 800ft\\xb2 - M225 Is A Fabulous Location Within Our Community! (fremont / union city / newark)',\n",
        "  'id': '4721084803',\n",
        "  'url': 'http://sfbay.craigslist.org/eby/apa/4721084803.html'},\n",
        " {'app': 1000,\n",
        "  'desc': u'$2295 / 2br - 980ft\\xb2 - \\u25d8ENJOY YOUR SURROUNDINGS IN AN UPDATED APT HOME TODAY\\u25d8 (fremont / union city / newark)',\n",
        "  'id': '4718139101',\n",
        "  'url': 'http://sfbay.craigslist.org/eby/apa/4718139101.html'},\n",
        " {'app': 1000,\n",
        "  'desc': u'$2295 / 2br - 980ft\\xb2 - \\u2666COME AND SEE WHAT YOU HAVE BEEN MISSING\\u2666 (fremont / union city / newark)',\n",
        "  'id': '4719344760',\n",
        "  'url': 'http://sfbay.craigslist.org/eby/apa/4719344760.html'},\n",
        " {'app': 1000,\n",
        "  'desc': u'$2820 / 2br - 1203ft\\xb2 - Large, Renovated 2BD/2BA with 2 Patios - Just Steps Away From BART (fremont / union city / newark)',\n",
        "  'id': '4720573333',\n",
        "  'url': 'http://sfbay.craigslist.org/eby/apa/4720573333.html'},\n",
        " {'app': 1000,\n",
        "  'desc': u'$2295 / 2br - 1004ft\\xb2 - FREMONT HUB\\u25d8GREAT LOCATION\\u25d8GREAT PRICE (fremont / union city / newark)',\n",
        "  'id': '4720574328',\n",
        "  'url': 'http://sfbay.craigslist.org/eby/apa/4720574328.html'},\n",
        " {'app': 1000,\n",
        "  'desc': u'$2295 / 2br - 1004ft\\xb2 - \\u2022\\u263bTHIS BEAUTIFUL UPGRADED APT HOME HAS ALL THE COMFORTS\\u263b\\u2022 (fremont / union city / newark)',\n",
        "  'id': '4721099287',\n",
        "  'url': 'http://sfbay.craigslist.org/eby/apa/4721099287.html'},\n",
        " {'app': 1000,\n",
        "  'desc': u'$1995 / 2br - 850ft\\xb2 - COTTAGE / In-Law in Fremont  (fremont / union city / newark)',\n",
        "  'id': '4710690027',\n",
        "  'url': 'http://sfbay.craigslist.org/eby/apa/4710690027.html'},\n",
        " {'app': 1000,\n",
        "  'desc': u'$1851 / 1br - 615ft\\xb2 - Available November 11th!! (fremont / union city / newark)',\n",
        "  'id': '4710368477',\n",
        "  'url': 'http://sfbay.craigslist.org/eby/apa/4710368477.html'},\n",
        " {'app': 1000,\n",
        "  'desc': u'$2095 / 3br - Fully Remodeled Fremont House. Available 3bed/2bath  (fremont / union city / newark)',\n",
        "  'id': '4716213017',\n",
        "  'url': 'http://sfbay.craigslist.org/eby/apa/4716213017.html'},\n",
        " {'app': 1000,\n",
        "  'desc': u'$3,600/mo',\n",
        "  'id': '4715242777',\n",
        "  'url': 'http://sfbay.craigslist.org/eby/apa/4715242777.html'},\n",
        " {'app': 1000,\n",
        "  'desc': u'$3,600/mo',\n",
        "  'id': '4715242777',\n",
        "  'url': 'http://sfbay.craigslist.org/eby/apa/4715242777.html'},\n",
        " {'app': 1000,\n",
        "  'desc': u'$2900 / 3br - 1472ft\\xb2 - 3 bed 2 .5 bath townhome remodeled in Fremont  (fremont / union city / newark)',\n",
        "  'id': '4677306808',\n",
        "  'url': 'http://sfbay.craigslist.org/eby/apa/4677306808.html'},\n",
        " {'app': 1000,\n",
        "  'desc': u'$2600 / 3br - 1442ft\\xb2 - 3 Bd, 2 Bth single family home (fremont / union city / newark)',\n",
        "  'id': '4702435447',\n",
        "  'url': 'http://sfbay.craigslist.org/eby/apa/4702435447.html'},\n",
        " {'app': 1000,\n",
        "  'desc': u'$2600 / 3br - 1391ft\\xb2 - Beautifully renovated home near Warwick Elementary (fremont / union city / newark)',\n",
        "  'id': '4716872326',\n",
        "  'url': 'http://sfbay.craigslist.org/eby/apa/4716872326.html'},\n",
        " {'app': 1000,\n",
        "  'desc': u'$2300 / 2br - 890ft\\xb2 - *Carriage House* Gated Community in a Quiet and Friendly Neighborhood! (fremont / union city / newark)',\n",
        "  'id': '4710317042',\n",
        "  'url': 'http://sfbay.craigslist.org/eby/apa/4710317042.html'},\n",
        " {'app': 1000,\n",
        "  'desc': u'$2100 / 2br - 1195ft\\xb2 - House for Rent Union City - Open House (fremont / union city / newark)',\n",
        "  'id': '4715361058',\n",
        "  'url': 'http://sfbay.craigslist.org/eby/apa/4715361058.html'},\n",
        " {'app': 1000,\n",
        "  'desc': u'$2053 / 2br - 850ft\\xb2 - Top Floor 2 bed 1 Bath! The Place To Live! (fremont / union city / newark)',\n",
        "  'id': '4710193155',\n",
        "  'url': 'http://sfbay.craigslist.org/eby/apa/4710193155.html'},\n",
        " {'app': 1000,\n",
        "  'desc': u'$1698 / 1br - PRIVATE END UNIT, LARGE STORAGE, YOUR NEW HOME IS HERE! (fremont / union city / newark)',\n",
        "  'id': '4718206189',\n",
        "  'url': 'http://sfbay.craigslist.org/eby/apa/4718206189.html'},\n",
        " {'app': 1000,\n",
        "  'desc': u'$1599 / 1br - 750ft\\xb2 - Fremont Remodeled 1B/1B Cottage with Private Garage and Yard (fremont / union city / newark)',\n",
        "  'id': '4718181090',\n",
        "  'url': 'http://sfbay.craigslist.org/eby/apa/4718181090.html'},\n",
        " {'app': 1000,\n",
        "  'desc': u'$850 / 1br - 1100ft\\xb2 - 1 BR Rental Newark Townhome has Granite Counters & Indoor Laundry! (fremont / union city / newark)',\n",
        "  'id': '4721110227',\n",
        "  'url': 'http://sfbay.craigslist.org/eby/apa/4721110227.html'},\n",
        " {'app': 1000,\n",
        "  'desc': u'$1795 / 1br - 527ft\\xb2 - A MUST SEE! BEAUTIFUL ONE BEDROOM APARTMENT HOME! (fremont / union city / newark)',\n",
        "  'id': '4720983215',\n",
        "  'url': 'http://sfbay.craigslist.org/eby/apa/4720983215.html'},\n",
        " {'app': 1000,\n",
        "  'desc': u'$2100 / 2br - 895ft\\xb2 - \\u2661\\u2665\\u2661LOVE Your Home\\u2661\\u2665\\u2661 (fremont / union city / newark)',\n",
        "  'id': '4719409678',\n",
        "  'url': 'http://sfbay.craigslist.org/eby/apa/4719409678.html'},\n",
        " {'app': 1000,\n",
        "  'desc': u'$1350 / 1br - 672ft\\xb2 - OPEN HOUSE- Saturday, October 18, 2014 from 11am-2pm (fremont / union city / newark)',\n",
        "  'id': '4717545721',\n",
        "  'url': 'http://sfbay.craigslist.org/eby/apa/4717545721.html'},\n",
        " {'app': 1000,\n",
        "  'desc': u'$2775 / 4br - 1700ft\\xb2 - 4 br 2 ba Brookvale of Fremont (fremont / union city / newark)',\n",
        "  'id': '4718402901',\n",
        "  'url': 'http://sfbay.craigslist.org/eby/apa/4718402901.html'},\n",
        " {'app': 1000,\n",
        "  'desc': u'$1795 / 1br - 527ft\\xb2 - \\u25d8CLOSE AND CONVENIENT FOR YOUR LIFESTYLE\\u25d8 (fremont / union city / newark)',\n",
        "  'id': '4721226891',\n",
        "  'url': 'http://sfbay.craigslist.org/eby/apa/4721226891.html'},\n",
        " {'app': 1000,\n",
        "  'desc': u'$2665 / 2br - 982ft\\xb2 - Spectacular apartment home centrally located in Fremont! (fremont / union city / newark)',\n",
        "  'id': '4719187118',\n",
        "  'url': 'http://sfbay.craigslist.org/eby/apa/4719187118.html'},\n",
        " {'app': 1000,\n",
        "  'desc': u'$2580 / 4br - 2050ft\\xb2 - 4 Bed / 3 Bath Irvington 3 Story Townhome (fremont / union city / newark)',\n",
        "  'id': '4716239872',\n",
        "  'url': 'http://sfbay.craigslist.org/eby/apa/4716239872.html'},\n",
        " {'app': 1000,\n",
        "  'desc': u'$2,315/mo',\n",
        "  'id': '4698128103',\n",
        "  'url': 'http://sfbay.craigslist.org/eby/apa/4698128103.html'},\n",
        " {'app': 1000,\n",
        "  'desc': u'$2,315/mo',\n",
        "  'id': '4698128103',\n",
        "  'url': 'http://sfbay.craigslist.org/eby/apa/4698128103.html'},\n",
        " {'app': 1000,\n",
        "  'desc': u'$2,800/mo',\n",
        "  'id': '4718888221',\n",
        "  'url': 'http://sfbay.craigslist.org/eby/apa/4718888221.html'},\n",
        " {'app': 1000,\n",
        "  'desc': u'$2,800/mo',\n",
        "  'id': '4718888221',\n",
        "  'url': 'http://sfbay.craigslist.org/eby/apa/4718888221.html'},\n",
        " {'app': 1000,\n",
        "  'desc': u'$500 / 1br - Rooms for rent $500 (fremont / union city / newark)',\n",
        "  'id': '4720704953',\n",
        "  'url': 'http://sfbay.craigslist.org/eby/apa/4720704953.html'},\n",
        " {'app': 1000,\n",
        "  'desc': u'$2,935/mo',\n",
        "  'id': '4709777629',\n",
        "  'url': 'http://sfbay.craigslist.org/eby/apa/4709777629.html'},\n",
        " {'app': 1000,\n",
        "  'desc': u'$2,935/mo',\n",
        "  'id': '4709777629',\n",
        "  'url': 'http://sfbay.craigslist.org/eby/apa/4709777629.html'},\n",
        " {'app': 1000,\n",
        "  'desc': u'$2700 / 3br - 1200ft\\xb2 - Large 3 bedroom 2 bathroom Condo in Monte Vista Villas for rent (fremont / union city / newark)',\n",
        "  'id': '4711450323',\n",
        "  'url': 'http://sfbay.craigslist.org/eby/apa/4711450323.html'},\n",
        " {'app': 1000,\n",
        "  'desc': u'$2640 / 2br - 1146ft\\xb2 - Enjoy November in style! Pet friendly apartment available soon! (fremont / union city / newark)',\n",
        "  'id': '4720849050',\n",
        "  'url': 'http://sfbay.craigslist.org/eby/apa/4720849050.html'},\n",
        " {'app': 1000,\n",
        "  'desc': u'$1875 / 1br - 565ft\\xb2 - Enriched Lifestyle, Heated Pool, Sauna, Pets Welcome (fremont / union city / newark)',\n",
        "  'id': '4713110947',\n",
        "  'url': 'http://sfbay.craigslist.org/eby/apa/4713110947.html'},\n",
        " {'app': 1000,\n",
        "  'desc': u'$3200 Beautiful 3 BR / 2.5 BA House - with Full  Amenities (fremont / union city / newark)',\n",
        "  'id': '4716116880',\n",
        "  'url': 'http://sfbay.craigslist.org/eby/apa/4716116880.html'},\n",
        " {'app': 1000,\n",
        "  'desc': u'$1995 / 3br - 1126ft\\xb2 - 3BD/2BA SINGLE FAMILY HOME BEST VALUE @@@@@@@@@@@@@@@@@@ (fremont / union city / newark)',\n",
        "  'id': '4720219856',\n",
        "  'url': 'http://sfbay.craigslist.org/eby/apa/4720219856.html'},\n",
        " {'app': 1000,\n",
        "  'desc': u'$2449 / 1br - 877ft\\xb2 - Fabulous apartment, walking distance to Lake Elizabeth (fremont / union city / newark)',\n",
        "  'id': '4720711119',\n",
        "  'url': 'http://sfbay.craigslist.org/eby/apa/4720711119.html'},\n",
        " {'app': 1000,\n",
        "  'desc': u'$3000 / 3br - 1254ft\\xb2 -  3 bedroom 2 bath 2 car BRAND  NEW Remodel (fremont / union city / newark)',\n",
        "  'id': '4715594497',\n",
        "  'url': 'http://sfbay.craigslist.org/eby/apa/4715594497.html'},\n",
        " {'app': 1000,\n",
        "  'desc': u'$1875 / 1br - 565ft\\xb2 - Now Available, Responsive Maintenance, Spacious Floorplan (fremont / union city / newark)',\n",
        "  'id': '4720522812',\n",
        "  'url': 'http://sfbay.craigslist.org/eby/apa/4720522812.html'},\n",
        " {'app': 1000,\n",
        "  'desc': u'$1698 / 1br - LUSH GARDENS, POOL, SPA, FITNESS CENTER AND BRIGHT ONE BR (fremont / union city / newark)',\n",
        "  'id': '4712987709',\n",
        "  'url': 'http://sfbay.craigslist.org/eby/apa/4712987709.html'},\n",
        " {'app': 1000,\n",
        "  'desc': u'$2600 / 4br - 1544ft\\xb2 - Single-Family Home In Nice Neighborhood (fremont / union city / newark)',\n",
        "  'id': '4715804870',\n",
        "  'url': 'http://sfbay.craigslist.org/eby/apa/4715804870.html'},\n",
        " {'app': 1000,\n",
        "  'desc': u'$2100 / 2br - 895ft\\xb2 - ~~~**~~Great Location~~**~~~ (fremont / union city / newark)',\n",
        "  'id': '4719697928',\n",
        "  'url': 'http://sfbay.craigslist.org/eby/apa/4719697928.html'},\n",
        " {'app': 1000,\n",
        "  'desc': u'$1850 / 3br - 1160ft\\xb2 - \\u65b0\\u88c5\\u4fee Remodeled  Union City TownHouse $1,850 (fremont / union city / newark)',\n",
        "  'id': '4719764104',\n",
        "  'url': 'http://sfbay.craigslist.org/eby/apa/4719764104.html'},\n",
        " {'app': 1000,\n",
        "  'desc': u'$3200 / 3br - 1785ft\\xb2 - Mission San Jose (mission sanjose) Home for Rent (fremont / union city / newark)',\n",
        "  'id': '4721291281',\n",
        "  'url': 'http://sfbay.craigslist.org/eby/apa/4721291281.html'},\n",
        " {'app': 1000,\n",
        "  'desc': u'$1698 / 1br - PARK-LIKE LANDSCAPING, POOL, SPA, FITNESS CENTER (fremont / union city / newark)',\n",
        "  'id': '4712643131',\n",
        "  'url': 'http://sfbay.craigslist.org/eby/apa/4712643131.html'},\n",
        " {'app': 1000,\n",
        "  'desc': u'$2630 / 2br - 958ft\\xb2 - Pet Friendly upgrade 2 bed on top floor with fire place (fremont / union city / newark)',\n",
        "  'id': '4720998596',\n",
        "  'url': 'http://sfbay.craigslist.org/eby/apa/4720998596.html'},\n",
        " {'app': 1000,\n",
        "  'desc': u'$2100 / 2br - 895ft\\xb2 - \\u25ce~\\u25ceLook No Further!!\\u25ce~\\u25ce (fremont / union city / newark)',\n",
        "  'id': '4715900600',\n",
        "  'url': 'http://sfbay.craigslist.org/eby/apa/4715900600.html'},\n",
        " {'app': 1000,\n",
        "  'desc': u'$1950 / 1br - 710ft\\xb2 - Enriched Lifestyle, Near Shops and Dining, Community Clubhouse (fremont / union city / newark)',\n",
        "  'id': '4717477696',\n",
        "  'url': 'http://sfbay.craigslist.org/eby/apa/4717477696.html'},\n",
        " {'app': 1000,\n",
        "  'desc': u'$2139 / 2br - 980ft\\xb2 - A Bright and Sunny Day...@Waterstone Fremont (fremont / union city / newark)',\n",
        "  'id': '4720504489',\n",
        "  'url': 'http://sfbay.craigslist.org/eby/apa/4720504489.html'},\n",
        " {'app': 1000,\n",
        "  'desc': u'$2066 / 1br - 738ft\\xb2 - Great Location! Great Community! Great Apartment! (fremont / union city / newark)',\n",
        "  'id': '4719670894',\n",
        "  'url': 'http://sfbay.craigslist.org/eby/apa/4719670894.html'},\n",
        " {'app': 1000,\n",
        "  'desc': u'$1830 / 1br - 716ft\\xb2 - Top floor 1 bedroom apt available now! Walking distance to UC BART! (fremont / union city / newark)',\n",
        "  'id': '4720455674',\n",
        "  'url': 'http://sfbay.craigslist.org/eby/apa/4720455674.html'},\n",
        " {'app': 1000,\n",
        "  'desc': u'$1818 / 1br - 760ft\\xb2 - A Great Weekend To Find Your New Apartment Home..Waterstone@Fremont (fremont / union city / newark)',\n",
        "  'id': '4719027449',\n",
        "  'url': 'http://sfbay.craigslist.org/eby/apa/4719027449.html'},\n",
        " {'app': 1000,\n",
        "  'desc': u'$2395 / 2br - 1004ft\\xb2 - \\u2666A CATCH! COME TOUR TODAY \\u2666 (fremont / union city / newark)',\n",
        "  'id': '4717478172',\n",
        "  'url': 'http://sfbay.craigslist.org/eby/apa/4717478172.html'},\n",
        " {'app': 1000,\n",
        "  'desc': u'$1869 / 1br - 769ft\\xb2 - Large 1x1/Ideal Downtown Hayward Location/Full Size Washer/Dryer!!! (fremont / union city / newark)',\n",
        "  'id': '4712488865',\n",
        "  'url': 'http://sfbay.craigslist.org/eby/apa/4712488865.html'},\n",
        " {'app': 1000,\n",
        "  'desc': u'$2295 / 2br - 980ft\\xb2 - \\u2666WE HAVE WONDERFUL APT HOMES FOR RENT CLOSE TO EVERYTHING/FREMONT HUB\\u03d7 (fremont / union city / newark)',\n",
        "  'id': '4718139132',\n",
        "  'url': 'http://sfbay.craigslist.org/eby/apa/4718139132.html'},\n",
        " {'app': 1000,\n",
        "  'desc': u'$2575 / 3br - Irvington House for Rent (fremont / union city / newark)',\n",
        "  'id': '4719986309',\n",
        "  'url': 'http://sfbay.craigslist.org/eby/apa/4719986309.html'},\n",
        " {'app': 1000,\n",
        "  'desc': u\"$2350 / 870ft\\xb2 - Entertainer's Dream Patio with this 2 Bed 2 Bath! (fremont / union city / newark)\",\n",
        "  'id': '4720839175',\n",
        "  'url': 'http://sfbay.craigslist.org/eby/apa/4720839175.html'},\n",
        " {'app': 1000,\n",
        "  'desc': u'$2000 / 1br - One bedroom Luxury apt sublet  (fremont / union city / newark)',\n",
        "  'id': '4712902699',\n",
        "  'url': 'http://sfbay.craigslist.org/eby/apa/4712902699.html'},\n",
        " {'app': 1000,\n",
        "  'desc': u'$2,400/mo',\n",
        "  'id': '4713236409',\n",
        "  'url': 'http://sfbay.craigslist.org/eby/apa/4713236409.html'},\n",
        " {'app': 1000,\n",
        "  'desc': u'$2,400/mo',\n",
        "  'id': '4713236409',\n",
        "  'url': 'http://sfbay.craigslist.org/eby/apa/4713236409.html'},\n",
        " {'app': 1000,\n",
        "  'desc': u'$3100 / 4br - 2030ft\\xb2 - $3100 / 4BR-3BA - 2030ft\\xb2 - Bright Ardenwood SFH Open House 2-4pm10/18 (fremont / union city / newark)',\n",
        "  'id': '4710227618',\n",
        "  'url': 'http://sfbay.craigslist.org/eby/apa/4710227618.html'},\n",
        " {'app': 1000,\n",
        "  'desc': u'$1850 / 2br - 1054ft\\xb2 - Union City (fremont / union city / newark)',\n",
        "  'id': '4714754613',\n",
        "  'url': 'http://sfbay.craigslist.org/eby/apa/4714754613.html'},\n",
        " {'app': 1000,\n",
        "  'desc': u'$2753 / 3br - 1320ft\\xb2 - Three-Bedroom, Two-Bathroom Apartment with W/D (fremont / union city / newark)',\n",
        "  'id': '4712816448',\n",
        "  'url': 'http://sfbay.craigslist.org/eby/apa/4712816448.html'},\n",
        " {'app': 1000,\n",
        "  'desc': u'$1200 / 1br - One Bedroom Apartment in Historic Niles District of Fremont (fremont / union city / newark)',\n",
        "  'id': '4715095868',\n",
        "  'url': 'http://sfbay.craigslist.org/eby/apa/4715095868.html'},\n",
        " {'app': 1000,\n",
        "  'desc': u'$2600 / 4br - 1321ft\\xb2 - 4 beds/2 baths near Stevenson /Sundale/880 walking distance to schools (fremont / union city / newark)',\n",
        "  'id': '4667100523',\n",
        "  'url': 'http://sfbay.craigslist.org/eby/apa/4667100523.html'},\n",
        " {'app': 1000,\n",
        "  'desc': u'$3200 / 3br - 1723ft\\xb2 - 3 BRs, 2 BAs SFH in Fremont (94539) for Rent (fremont / union city / newark)',\n",
        "  'id': '4712711557',\n",
        "  'url': 'http://sfbay.craigslist.org/eby/apa/4712711557.html'},\n",
        " {'app': 1000,\n",
        "  'desc': u'$1931 / 1br - 665ft\\xb2 - Spacious One Bedroom on 2nd floor (fremont / union city / newark)',\n",
        "  'id': '4720477585',\n",
        "  'url': 'http://sfbay.craigslist.org/eby/apa/4720477585.html'},\n",
        " {'app': 1000,\n",
        "  'desc': u'$2900 / 3br - 1472ft\\xb2 - Great 3 bed 2.5 bath townhouse remodeled in Fremont  (fremont / union city / newark)',\n",
        "  'id': '4705567196',\n",
        "  'url': 'http://sfbay.craigslist.org/eby/apa/4705567196.html'},\n",
        " {'app': 1000,\n",
        "  'desc': u'$2,000/mo',\n",
        "  'id': '4716184273',\n",
        "  'url': 'http://sfbay.craigslist.org/eby/apa/4716184273.html'},\n",
        " {'app': 1000,\n",
        "  'desc': u'$2,000/mo',\n",
        "  'id': '4716184273',\n",
        "  'url': 'http://sfbay.craigslist.org/eby/apa/4716184273.html'},\n",
        " {'app': 1000,\n",
        "  'desc': u'$2,515/mo',\n",
        "  'id': '4698042573',\n",
        "  'url': 'http://sfbay.craigslist.org/eby/apa/4698042573.html'},\n",
        " {'app': 1000,\n",
        "  'desc': u'$2,515/mo',\n",
        "  'id': '4698042573',\n",
        "  'url': 'http://sfbay.craigslist.org/eby/apa/4698042573.html'},\n",
        " {'app': 1000,\n",
        "  'desc': u'$1698 / 1br - OPEN FLOOR PLAN WITH A PRIVATE PATIO & GYM (fremont / union city / newark)',\n",
        "  'id': '4711561337',\n",
        "  'url': 'http://sfbay.craigslist.org/eby/apa/4711561337.html'},\n",
        " {'app': 1000,\n",
        "  'desc': u'$2495 / 3br - 1120ft\\xb2 - 3Bedroom 2Bath house Available Now/ Great Location (Fremont) (fremont / union city / newark)',\n",
        "  'id': '4717573618',\n",
        "  'url': 'http://sfbay.craigslist.org/eby/apa/4717573618.html'},\n",
        " {'app': 1000,\n",
        "  'desc': u'$1875 / 1br - 825ft\\xb2 - Huge 1 bed w/beautiful backyard near BART (fremont / union city / newark)',\n",
        "  'id': '4714577580',\n",
        "  'url': 'http://sfbay.craigslist.org/eby/apa/4714577580.html'},\n",
        " {'app': 1000,\n",
        "  'desc': u'$650 / 1br - Looking for roommates right across fremont bart station (fremont / union city / newark)',\n",
        "  'id': '4711769872',\n",
        "  'url': 'http://sfbay.craigslist.org/eby/apa/4711769872.html'},\n",
        " {'app': 1000,\n",
        "  'desc': u'$2200 / 1br - 650ft\\xb2 - Charming Two bedroom With Luxurious Amenities! In-home Washer & Dryer! (fremont / union city / newark)',\n",
        "  'id': '4720485015',\n",
        "  'url': 'http://sfbay.craigslist.org/eby/apa/4720485015.html'},\n",
        " {'app': 1000,\n",
        "  'desc': u'$5100 / 5br - LARGE FREMONT EXECUTIVE HOME! TOP MISSION SCHOOLS! (fremont / union city / newark)',\n",
        "  'id': '4719177234',\n",
        "  'url': 'http://sfbay.craigslist.org/eby/apa/4719177234.html'},\n",
        " {'app': 1000,\n",
        "  'desc': u'$1698 / 1br - AMAZING AMENITIES IN PARK-LIKE COMMUNITY (fremont / union city / newark)',\n",
        "  'id': '4719736775',\n",
        "  'url': 'http://sfbay.craigslist.org/eby/apa/4719736775.html'},\n",
        " {'app': 1000,\n",
        "  'desc': u'$2495 / 2br - 1106ft\\xb2 - Commuting is Easy when You Live at The Presidio! (fremont / union city / newark)',\n",
        "  'id': '4717426165',\n",
        "  'url': 'http://sfbay.craigslist.org/eby/apa/4717426165.html'},\n",
        " {'app': 1000,\n",
        "  'desc': u'$2385 / 2br - 1096ft\\xb2 - Extraordinary top floor 2 BD, 2 BA, available soon. Near BART!!! (fremont / union city / newark)',\n",
        "  'id': '4721045486',\n",
        "  'url': 'http://sfbay.craigslist.org/eby/apa/4721045486.html'},\n",
        " {'app': 1000,\n",
        "  'desc': u'$2,545/mo',\n",
        "  'id': '4716200383',\n",
        "  'url': 'http://sfbay.craigslist.org/eby/apa/4716200383.html'},\n",
        " {'app': 1000,\n",
        "  'desc': u'$2,545/mo',\n",
        "  'id': '4716200383',\n",
        "  'url': 'http://sfbay.craigslist.org/eby/apa/4716200383.html'},\n",
        " {'app': 1000,\n",
        "  'desc': u'$2600 / 3br - 1126ft\\xb2 - Lovely Home in Irvington Attendance Area (fremont / union city / newark)',\n",
        "  'id': '4720487019',\n",
        "  'url': 'http://sfbay.craigslist.org/eby/apa/4720487019.html'},\n",
        " {'app': 1000,\n",
        "  'desc': u'$3100 / 3br - 1780ft\\xb2 - MISSION SAN JOSE ANTELOPE HILLS TOWNHOUSE (fremont / union city / newark)',\n",
        "  'id': '4683812582',\n",
        "  'url': 'http://sfbay.craigslist.org/eby/apa/4683812582.html'},\n",
        " {'app': 1000,\n",
        "  'desc': u'$2784 / 2br - 1184ft\\xb2 - Luxury apartment community w/the comfort & convenience of city life! (fremont / union city / newark)',\n",
        "  'id': '4717962752',\n",
        "  'url': 'http://sfbay.craigslist.org/eby/apa/4717962752.html'},\n",
        " {'app': 1000,\n",
        "  'desc': u'$2009 / 2br - 750ft\\xb2 - Looking To Settle Into Your New HOme Before Winter...Click Here... (fremont / union city / newark)',\n",
        "  'id': '4716083353',\n",
        "  'url': 'http://sfbay.craigslist.org/eby/apa/4716083353.html'},\n",
        " {'app': 1000,\n",
        "  'desc': u'$2175 / 2br - BRIGHT AND SUNNY 2 BEDROOM IN PRIME FREMONT LOCATION (fremont / union city / newark)',\n",
        "  'id': '4719218830',\n",
        "  'url': 'http://sfbay.craigslist.org/eby/apa/4719218830.html'},\n",
        " {'app': 1000,\n",
        "  'desc': u'$2600 / 3br - 1320ft\\xb2 - Fully Remodeled 3BR & 2 Bath home  (fremont / union city / newark)',\n",
        "  'id': '4720713509',\n",
        "  'url': 'http://sfbay.craigslist.org/eby/apa/4720713509.html'},\n",
        " {'app': 1000,\n",
        "  'desc': u'$2850 / 3br - 1877ft\\xb2 - Great 3BR/2.5 bath home for rent in Union city (fremont / union city / newark)',\n",
        "  'id': '4711547661',\n",
        "  'url': 'http://sfbay.craigslist.org/eby/apa/4711547661.html'},\n",
        " {'app': 1000,\n",
        "  'desc': u'$2100 / 2br - 895ft\\xb2 - \\u2248\\u25ce\\u2248Come Home This Summer!\\u2248\\u25ce\\u2248 (fremont / union city / newark)',\n",
        "  'id': '4717544934',\n",
        "  'url': 'http://sfbay.craigslist.org/eby/apa/4717544934.html'},\n",
        " {'app': 1000,\n",
        "  'desc': u'$2200 / 3br - 1100ft\\xb2 - $2200 1100sqft - 3BR/2BA HOUSE in UNION CITY (fremont / union city / newark)',\n",
        "  'id': '4719991852',\n",
        "  'url': 'http://sfbay.craigslist.org/eby/apa/4719991852.html'},\n",
        " {'app': 1000,\n",
        "  'desc': u'$2100 / 3br - 1385ft\\xb2 - 3 Bed room 1 Bath Apartment. (fremont / union city / newark)',\n",
        "  'id': '4711946435',\n",
        "  'url': 'http://sfbay.craigslist.org/eby/apa/4711946435.html'},\n",
        " {'app': 1000,\n",
        "  'desc': u'$2454 / 3br - 1063ft\\xb2 - Pet Friendly Community in a Park-Like Setting! (fremont / union city / newark)',\n",
        "  'id': '4721115450',\n",
        "  'url': 'http://sfbay.craigslist.org/eby/apa/4721115450.html'},\n",
        " {'app': 1000,\n",
        "  'desc': u'$1750 / 1br - 875ft\\xb2 - SPACIOUS 1 BED ROOM in Excellent Community (fremont / union city / newark)',\n",
        "  'id': '4717905618',\n",
        "  'url': 'http://sfbay.craigslist.org/eby/apa/4717905618.html'},\n",
        " {'app': 1000,\n",
        "  'desc': u'$2199 / 2br - 870ft\\xb2 - Fully-equipped fitness center on-site! (fremont / union city / newark)',\n",
        "  'id': '4719280242',\n",
        "  'url': 'http://sfbay.craigslist.org/eby/apa/4719280242.html'},\n",
        " {'app': 1000,\n",
        "  'desc': u'$2900 / 3br - 1472ft\\xb2 - 3 bed 2 .5 bath townhome remodeled in Fremont (fremont / union city / newark)',\n",
        "  'id': '4699576897',\n",
        "  'url': 'http://sfbay.craigslist.org/eby/apa/4699576897.html'},\n",
        " {'app': 1000,\n",
        "  'desc': u'$1995 / 2br - 830ft\\xb2 - Corner Unit Apartment Home! Convenient Location! Great Price! (fremont / union city / newark)',\n",
        "  'id': '4718925342',\n",
        "  'url': 'http://sfbay.craigslist.org/eby/apa/4718925342.html'},\n",
        " {'app': 1000,\n",
        "  'desc': u'$1565 / 1br - 660ft\\xb2 - Move In Ready! It Could Be Yours... (fremont / union city / newark)',\n",
        "  'id': '4719445888',\n",
        "  'url': 'http://sfbay.craigslist.org/eby/apa/4719445888.html'},\n",
        " {'app': 1000,\n",
        "  'desc': u'$1900 / 1br - 737ft\\xb2 - *Carriage House* Gated Community in a Quiet and Friendly Neighborhood! (fremont / union city / newark)',\n",
        "  'id': '4720521929',\n",
        "  'url': 'http://sfbay.craigslist.org/eby/apa/4720521929.html'},\n",
        " {'app': 1000,\n",
        "  'desc': u'$4700 / 5br - 3200ft\\xb2 - Beautiful Furnished 5BD/4Bath in Fremont  (fremont / union city / newark)',\n",
        "  'id': '4716469194',\n",
        "  'url': 'http://sfbay.craigslist.org/eby/apa/4716469194.html'},\n",
        " {'app': 1000,\n",
        "  'desc': u'$6800 / 5br - 4210ft\\xb2 - Simply Wonderful! (fremont / union city / newark)',\n",
        "  'id': '4719629114',\n",
        "  'url': 'http://sfbay.craigslist.org/eby/apa/4719629114.html'},\n",
        " {'app': 1000,\n",
        "  'desc': u'$3000 / 5br - 2240ft\\xb2 - Spacious 5 Bedrooms in Niles, Fremont  (fremont / union city / newark)',\n",
        "  'id': '4708634531',\n",
        "  'url': 'http://sfbay.craigslist.org/eby/apa/4708634531.html'},\n",
        " {'app': 1000,\n",
        "  'desc': u'$2950 / 3br - 1186ft\\xb2 - 3 Bedroom Home Near Lakeshore Park (fremont / union city / newark)',\n",
        "  'id': '4708689446',\n",
        "  'url': 'http://sfbay.craigslist.org/eby/apa/4708689446.html'},\n",
        " {'app': 1000,\n",
        "  'desc': u'$1960 / 1br - 640ft\\xb2 - Views of Alameda Creek and Rolling Hills 1 Bed/1 Bath! (fremont / union city / newark)',\n",
        "  'id': '4721115804',\n",
        "  'url': 'http://sfbay.craigslist.org/eby/apa/4721115804.html'},\n",
        " {'app': 1000,\n",
        "  'desc': u\"$2095 / 1br - 734ft\\xb2 - Moving Can Be Hard. We'll Make it Easy at The Presidio! (fremont / union city / newark)\",\n",
        "  'id': '4717430532',\n",
        "  'url': 'http://sfbay.craigslist.org/eby/apa/4717430532.html'},\n",
        " {'app': 1000,\n",
        "  'desc': u'$2295 / 2br - 980ft\\xb2 - \\u2660GREAT PRICE, LOCATION, AND QUIET\\u2660 (fremont / union city / newark)',\n",
        "  'id': '4711529037',\n",
        "  'url': 'http://sfbay.craigslist.org/eby/apa/4711529037.html'},\n",
        " {'app': 1000,\n",
        "  'desc': u'$1848 / 1br - 603ft\\xb2 - Apartment w/ washer & dryer in unit. Fitness center also! (fremont / union city / newark)',\n",
        "  'id': '4688449232',\n",
        "  'url': 'http://sfbay.craigslist.org/eby/apa/4688449232.html'},\n",
        " {'app': 1000,\n",
        "  'desc': u'$2375 / 2br - 1065ft\\xb2 - Stunning 2 bedrooms available now! Near BART! Dont Miss Out! (fremont / union city / newark)',\n",
        "  'id': '4720953403',\n",
        "  'url': 'http://sfbay.craigslist.org/eby/apa/4720953403.html'},\n",
        " {'app': 1000,\n",
        "  'desc': u'$2449 / 3br - 1248ft\\xb2 - Beautiful home in Union City to rent $2449/month (fremont / union city / newark)',\n",
        "  'id': '4701722996',\n",
        "  'url': 'http://sfbay.craigslist.org/eby/apa/4701722996.html'},\n",
        " {'app': 1000,\n",
        "  'desc': u'$2,400/mo',\n",
        "  'id': '4708241212',\n",
        "  'url': 'http://sfbay.craigslist.org/eby/apa/4708241212.html'},\n",
        " {'app': 1000,\n",
        "  'desc': u'$2,400/mo',\n",
        "  'id': '4708241212',\n",
        "  'url': 'http://sfbay.craigslist.org/eby/apa/4708241212.html'},\n",
        " {'app': 1000,\n",
        "  'desc': u'$2900 / 3br - 1472ft\\xb2 - Great 3 bed 2.5 bath townhome remodeled in Fremont  (fremont / union city / newark)',\n",
        "  'id': '4714593113',\n",
        "  'url': 'http://sfbay.craigslist.org/eby/apa/4714593113.html'},\n",
        " {'app': 1000,\n",
        "  'desc': u'$2,600/mo',\n",
        "  'id': '4718897884',\n",
        "  'url': 'http://sfbay.craigslist.org/eby/apa/4718897884.html'},\n",
        " {'app': 1000,\n",
        "  'desc': u'$2,600/mo',\n",
        "  'id': '4718897884',\n",
        "  'url': 'http://sfbay.craigslist.org/eby/apa/4718897884.html'},\n",
        " {'app': 1000,\n",
        "  'desc': u'$2655 / 2br - 982ft\\xb2 - Looking for quick access to BART and Shopping? Look no further! (fremont / union city / newark)',\n",
        "  'id': '4717828930',\n",
        "  'url': 'http://sfbay.craigslist.org/eby/apa/4717828930.html'},\n",
        " {'app': 1000,\n",
        "  'desc': u'$2425 / 2br - 1010ft\\xb2 - Now Available, Near Public Parks, Parkmont Schools (fremont / union city / newark)',\n",
        "  'id': '4716356165',\n",
        "  'url': 'http://sfbay.craigslist.org/eby/apa/4716356165.html'},\n",
        " {'app': 1000,\n",
        "  'desc': u'$2900 / 3br - 1472ft\\xb2 - 3 bed 2 .5 bath townhome remodeled in Fremont  (fremont / union city / newark)',\n",
        "  'id': '4708307695',\n",
        "  'url': 'http://sfbay.craigslist.org/eby/apa/4708307695.html'},\n",
        " {'app': 1000,\n",
        "  'desc': u'$3350 / 4br - 1750ft\\xb2 - $3350 (Free till 10/31)  4br 1750ft\\xb2 - Fremont Mission SJ schools 94539  (fremont / union city / newark)',\n",
        "  'id': '4712640948',\n",
        "  'url': 'http://sfbay.craigslist.org/eby/apa/4712640948.html'},\n",
        " {'app': 1000,\n",
        "  'desc': u'$2085 / 3br - 3 bed 2 bath Duplex (fremont / union city / newark)',\n",
        "  'id': '4712777820',\n",
        "  'url': 'http://sfbay.craigslist.org/eby/apa/4712777820.html'},\n",
        " {'app': 1000,\n",
        "  'desc': u'$2295 / 2br - 1004ft\\xb2 - \\u25d8CLOSE AND CONVENIENT FOR YOUR LIFESTYLE\\u25d8 (fremont / union city / newark)',\n",
        "  'id': '4720878750',\n",
        "  'url': 'http://sfbay.craigslist.org/eby/apa/4720878750.html'},\n",
        " {'app': 1000,\n",
        "  'desc': u'$2350 / 2br - 900ft\\xb2 - 2br/2ba Beautifully Updated Newark Condo  (fremont / union city / newark)',\n",
        "  'id': '4712729495',\n",
        "  'url': 'http://sfbay.craigslist.org/eby/apa/4712729495.html'},\n",
        " {'app': 1000,\n",
        "  'desc': u'$1563 / 1br - 600ft\\xb2 - One Beadroom Apartment available from Novermber 4 2014 for $1563.00 (fremont / union city / newark)',\n",
        "  'id': '4716803189',\n",
        "  'url': 'http://sfbay.craigslist.org/eby/apa/4716803189.html'},\n",
        " {'app': 1000,\n",
        "  'desc': u\"$2125 / 2br - DON'T LET THIS ONE GET AWAY! SUNNY, QUIET, SPACIOUS & BEAUTIFUL HOME! (fremont / union city / newark)\",\n",
        "  'id': '4716471995',\n",
        "  'url': 'http://sfbay.craigslist.org/eby/apa/4716471995.html'},\n",
        " {'app': 1000,\n",
        "  'desc': u'$2980 / 3br - 1425ft\\xb2 - Beautiful 3Bdrm Townhouse in Fremont Irvington District (fremont / union city / newark)',\n",
        "  'id': '4718837507',\n",
        "  'url': 'http://sfbay.craigslist.org/eby/apa/4718837507.html'},\n",
        " {'app': 1000,\n",
        "  'desc': u'$3,100/mo',\n",
        "  'id': '4715613615',\n",
        "  'url': 'http://sfbay.craigslist.org/eby/apa/4715613615.html'},\n",
        " {'app': 1000,\n",
        "  'desc': u'$3,100/mo',\n",
        "  'id': '4715613615',\n",
        "  'url': 'http://sfbay.craigslist.org/eby/apa/4715613615.html'},\n",
        " {'app': 1000,\n",
        "  'desc': u'$2395 / 2br - 1004ft\\xb2 - \\u263b\\u2665THE MOST LIKED PLACE TO LIVE ON FACEBOOK\\u263b\\u2665 (fremont / union city / newark)',\n",
        "  'id': '4719744543',\n",
        "  'url': 'http://sfbay.craigslist.org/eby/apa/4719744543.html'},\n",
        " {'app': 1000,\n",
        "  'desc': u'$2,315/mo',\n",
        "  'id': '4698129248',\n",
        "  'url': 'http://sfbay.craigslist.org/eby/apa/4698129248.html'},\n",
        " {'app': 1000,\n",
        "  'desc': u'$2,315/mo',\n",
        "  'id': '4698129248',\n",
        "  'url': 'http://sfbay.craigslist.org/eby/apa/4698129248.html'},\n",
        " {'app': 1000,\n",
        "  'desc': u'$2500 / 3br - 1550ft\\xb2 - Beautiful house, close to Dumbarton Bridge(Facebook), shopping center  (fremont / union city / newark)',\n",
        "  'id': '4715937142',\n",
        "  'url': 'http://sfbay.craigslist.org/eby/apa/4715937142.html'},\n",
        " {'app': 1000,\n",
        "  'desc': u'$4000 / 4br - 2684ft\\xb2 - Newly rebuilt custom home  (fremont / union city / newark)',\n",
        "  'id': '4713487145',\n",
        "  'url': 'http://sfbay.craigslist.org/eby/apa/4713487145.html'},\n",
        " {'app': 1000,\n",
        "  'desc': u'$3600 / 4br - 2668ft\\xb2 - Mission Home - 699 Patriot Place - Fremont (fremont / union city / newark)',\n",
        "  'id': '4710410118',\n",
        "  'url': 'http://sfbay.craigslist.org/eby/apa/4710410118.html'},\n",
        " {'app': 1000,\n",
        "  'desc': u'$2095 / 2br - 830ft\\xb2 - Energy-saving Kitchens with Built-in Microwaves (fremont / union city / newark)',\n",
        "  'id': '4720421139',\n",
        "  'url': 'http://sfbay.craigslist.org/eby/apa/4720421139.html'},\n",
        " {'app': 1000,\n",
        "  'desc': u'$2708 / 2br - 1008ft\\xb2 - 2nd floor 2 bedroom with 2 car garage (fremont / union city / newark)',\n",
        "  'id': '4721146778',\n",
        "  'url': 'http://sfbay.craigslist.org/eby/apa/4721146778.html'},\n",
        " {'app': 1000,\n",
        "  'desc': u'$1950 / 2br - 800ft\\xb2 - N239 Is A Top Floor Two Bedroom, Call Us Today! (fremont / union city / newark)',\n",
        "  'id': '4721083651',\n",
        "  'url': 'http://sfbay.craigslist.org/eby/apa/4721083651.html'},\n",
        " {'app': 1000,\n",
        "  'desc': u'$1710 / 1br - 600ft\\xb2 - 1BHK Near Union City BART For 8 Months Sublease-$1710. Short term also (fremont / union city / newark)',\n",
        "  'id': '4716414560',\n",
        "  'url': 'http://sfbay.craigslist.org/eby/apa/4716414560.html'},\n",
        " {'app': 1000,\n",
        "  'desc': u'$1795 / 1br - 650ft\\xb2 - UPGRADED 1 BEDROOM APARTMENT IN FREMONT! (fremont / union city / newark)',\n",
        "  'id': '4716022889',\n",
        "  'url': 'http://sfbay.craigslist.org/eby/apa/4716022889.html'},\n",
        " {'app': 1000,\n",
        "  'desc': u'$2600 4 bedroom 2 story house (fremont / union city / newark)',\n",
        "  'id': '4718341765',\n",
        "  'url': 'http://sfbay.craigslist.org/eby/apa/4718341765.html'},\n",
        " {'app': 1000,\n",
        "  'desc': u'$1845 / 1br - Ready to move in call now for an appointment!!!! (fremont / union city / newark)',\n",
        "  'id': '4710174102',\n",
        "  'url': 'http://sfbay.craigslist.org/eby/apa/4710174102.html'},\n",
        " {'app': 1000,\n",
        "  'desc': u'$3099 / 3br - 1500ft\\xb2 - Great House, close to BART Fremont (fremont / union city / newark)',\n",
        "  'id': '4719801862',\n",
        "  'url': 'http://sfbay.craigslist.org/eby/apa/4719801862.html'},\n",
        " {'app': 1000,\n",
        "  'desc': u'$1950 / 2br - 800ft\\xb2 - Call us Today, To Get Leasing Information! (fremont / union city / newark)',\n",
        "  'id': '4721088595',\n",
        "  'url': 'http://sfbay.craigslist.org/eby/apa/4721088595.html'},\n",
        " {'app': 1000,\n",
        "  'desc': u'$2600 / 3br - 1204ft\\xb2 - Beautiful 3 bed 2 bath condo in warm springs (fremont / union city / newark)',\n",
        "  'id': '4713634429',\n",
        "  'url': 'http://sfbay.craigslist.org/eby/apa/4713634429.html'},\n",
        " {'app': 1000,\n",
        "  'desc': u'$1665 / 1br - 650ft\\xb2 - Commuting? We have the ideal location. (fremont / union city / newark)',\n",
        "  'id': '4718918187',\n",
        "  'url': 'http://sfbay.craigslist.org/eby/apa/4718918187.html'},\n",
        " {'app': 1000,\n",
        "  'desc': u'$2700 / 4br - 1500ft\\xb2 - 4BR / 2Ba 1500ft2 house Available immediately (fremont / union city / newark)',\n",
        "  'id': '4713653154',\n",
        "  'url': 'http://sfbay.craigslist.org/eby/apa/4713653154.html'},\n",
        " {'app': 1000,\n",
        "  'desc': u'$3000 / 3br - 1760ft\\xb2 - Spacious 3bed/2.5bath Home in Fremont North Gate neighborhood (fremont / union city / newark)',\n",
        "  'id': '4715856047',\n",
        "  'url': 'http://sfbay.craigslist.org/eby/apa/4715856047.html'},\n",
        " {'app': 1000,\n",
        "  'desc': u'$1895 / 1br - 527ft\\xb2 - \\u2665HOME IS WHERE THE HEART IS\\u2665RANHO LUNA/SOL APT HOMES NOW LEASINGb (fremont / union city / newark)',\n",
        "  'id': '4717473394',\n",
        "  'url': 'http://sfbay.craigslist.org/eby/apa/4717473394.html'},\n",
        " {'app': 1000,\n",
        "  'desc': u'$2790 / 4br - 1647ft\\xb2 - 4 Bed / 2 Bath Single-level, Single-familyhome in Fremont (fremont / union city / newark)',\n",
        "  'id': '4720449674',\n",
        "  'url': 'http://sfbay.craigslist.org/eby/apa/4720449674.html'},\n",
        " {'app': 1000,\n",
        "  'desc': u'$1599 / 1br - 600ft\\xb2 - ONE bedroom Unit Available NOW in the Heart of Fremont (fremont / union city / newark)',\n",
        "  'id': '4708765187',\n",
        "  'url': 'http://sfbay.craigslist.org/eby/apa/4708765187.html'},\n",
        " {'app': 1000,\n",
        "  'desc': u'$2449 / 1br - 877ft\\xb2 - Charming apartment homes w/spacious and open kitchen layout! (fremont / union city / newark)',\n",
        "  'id': '4721066026',\n",
        "  'url': 'http://sfbay.craigslist.org/eby/apa/4721066026.html'},\n",
        " {'app': 1000,\n",
        "  'desc': u'$2784 / 2br - 1184ft\\xb2 - Check This Out! Luxury Apartment Community with walk-in closets! (fremont / union city / newark)',\n",
        "  'id': '4719588764',\n",
        "  'url': 'http://sfbay.craigslist.org/eby/apa/4719588764.html'},\n",
        " {'app': 1000,\n",
        "  'desc': u'$3199 / 3br - 1790ft\\xb2 - Newly Renovated Single House. One Month Free Move in Special (fremont / union city / newark)',\n",
        "  'id': '4716419404',\n",
        "  'url': 'http://sfbay.craigslist.org/eby/apa/4716419404.html'},\n",
        " {'app': 1000,\n",
        "  'desc': u'$1698 / 1br - RESORT STYLE LIVING IN PRIME FREMONT LOCATION (fremont / union city / newark)',\n",
        "  'id': '4717582558',\n",
        "  'url': 'http://sfbay.craigslist.org/eby/apa/4717582558.html'},\n",
        " {'app': 1000,\n",
        "  'desc': u'$1698 / 1br - AMAZING AMENITIES IN PARK-LIKE COMMUNITY (fremont / union city / newark)',\n",
        "  'id': '4710494763',\n",
        "  'url': 'http://sfbay.craigslist.org/eby/apa/4710494763.html'},\n",
        " {'app': 1000,\n",
        "  'desc': u'$2500 / 3br - 1550ft\\xb2 - Beautiful house, close to Dumbarton Bridge(Facebook), shopping center  (fremont / union city / newark)',\n",
        "  'id': '4720514047',\n",
        "  'url': 'http://sfbay.craigslist.org/eby/apa/4720514047.html'},\n",
        " {'app': 1000,\n",
        "  'desc': u'$1895 / 1br - 527ft\\xb2 - \\u2665LOOKING FOR PEACE AND QUIET\\u2665 COME AND TOUR TODAY\\u2665 (fremont / union city / newark)',\n",
        "  'id': '4720463865',\n",
        "  'url': 'http://sfbay.craigslist.org/eby/apa/4720463865.html'},\n",
        " {'app': 1000,\n",
        "  'desc': u'$1795 / 1br - Beautiful 1 bedroom call now to make an appointment!!! (fremont / union city / newark)',\n",
        "  'id': '4720601875',\n",
        "  'url': 'http://sfbay.craigslist.org/eby/apa/4720601875.html'},\n",
        " {'app': 1000,\n",
        "  'desc': u'$2395 / 2br - 980ft\\xb2 - \\u2666A CATCH! COME TOUR TODAY \\u2666 (fremont / union city / newark)',\n",
        "  'id': '4716528401',\n",
        "  'url': 'http://sfbay.craigslist.org/eby/apa/4716528401.html'},\n",
        " {'app': 1000,\n",
        "  'desc': u'$1820 / 1br - 600ft\\xb2 - Great Apartment Value Near Union City Bart (fremont / union city / newark)',\n",
        "  'id': '4721084894',\n",
        "  'url': 'http://sfbay.craigslist.org/eby/apa/4721084894.html'},\n",
        " {'app': 1000,\n",
        "  'desc': u'$2506 / 2br - 1014ft\\xb2 - Ground level with hardwood floors and walking distance to BART! (fremont / union city / newark)',\n",
        "  'id': '4720540400',\n",
        "  'url': 'http://sfbay.craigslist.org/eby/apa/4720540400.html'},\n",
        " {'app': 1000,\n",
        "  'desc': u'$2175 / 2br - 850ft\\xb2 - Spacious Two Bedroom One Bath, Apartment Home. Ready 10/13! (fremont / union city / newark)',\n",
        "  'id': '4717634471',\n",
        "  'url': 'http://sfbay.craigslist.org/eby/apa/4717634471.html'},\n",
        " {'app': 1000,\n",
        "  'desc': u'$1795 / 1br - 527ft\\xb2 - \\u263bBART RIDERS DREAM/CLOSE TO SHOPPING\\u263b (fremont / union city / newark)',\n",
        "  'id': '4712961121',\n",
        "  'url': 'http://sfbay.craigslist.org/eby/apa/4712961121.html'},\n",
        " {'app': 1000,\n",
        "  'desc': u'$2300 / 2br - 890ft\\xb2 - *Carriage House* Gated Community in a Quiet and Friendly Neighborhood! (fremont / union city / newark)',\n",
        "  'id': '4721136124',\n",
        "  'url': 'http://sfbay.craigslist.org/eby/apa/4721136124.html'},\n",
        " {'app': 1000,\n",
        "  'desc': u'$2120 / 1br - 734ft\\xb2 - Presidio Apartments - Weekend Special! (fremont / union city / newark)',\n",
        "  'id': '4718930446',\n",
        "  'url': 'http://sfbay.craigslist.org/eby/apa/4718930446.html'},\n",
        " {'app': 1000,\n",
        "  'desc': u'$2900 / 3br - 1472ft\\xb2 - Great location 3 bed 2.5 bath townhome in Fremont  (fremont / union city / newark)',\n",
        "  'id': '4720653117',\n",
        "  'url': 'http://sfbay.craigslist.org/eby/apa/4720653117.html'},\n",
        " {'app': 1000,\n",
        "  'desc': u'$2176 / 2br - 980ft\\xb2 - Comfort and Convenience Right At Your Finger Tip..Waterstone@Fremont (fremont / union city / newark)',\n",
        "  'id': '4717837201',\n",
        "  'url': 'http://sfbay.craigslist.org/eby/apa/4717837201.html'},\n",
        " {'app': 1000,\n",
        "  'desc': u'$1795 / 1br - 527ft\\xb2 - \\u263aFEEL THE WARMTH HERE AT RANCHO LUNA/SOL (fremont / union city / newark)',\n",
        "  'id': '4717797626',\n",
        "  'url': 'http://sfbay.craigslist.org/eby/apa/4717797626.html'},\n",
        " {'app': 1000,\n",
        "  'desc': u'$2400 / 2br - 1200ft\\xb2 - HUGE 2Bed/2Bath Condo, 1200sq ft, Washer/Dryer, Central AC, REAL Garag (fremont / union city / newark)',\n",
        "  'id': '4711894505',\n",
        "  'url': 'http://sfbay.craigslist.org/eby/apa/4711894505.html'},\n",
        " {'app': 1000,\n",
        "  'desc': u'$1665 / 1br - 650ft\\xb2 - Here now and gone by morning. You should hurry! (fremont / union city / newark)',\n",
        "  'id': '4720455452',\n",
        "  'url': 'http://sfbay.craigslist.org/eby/apa/4720455452.html'},\n",
        " {'app': 1000,\n",
        "  'desc': u'$2790 / 4br - 1640ft\\xb2 - Parkmont Area - 4 Bed / 2 Bath Single-level, Single-family  (fremont / union city / newark)',\n",
        "  'id': '4711496032',\n",
        "  'url': 'http://sfbay.craigslist.org/eby/apa/4711496032.html'},\n",
        " {'app': 1000,\n",
        "  'desc': u'$2425 / 2br - 1010ft\\xb2 - Professionally Managed, Air Conditioning, Ceiling Fan, Covered Parking (fremont / union city / newark)',\n",
        "  'id': '4714327754',\n",
        "  'url': 'http://sfbay.craigslist.org/eby/apa/4714327754.html'},\n",
        " {'app': 1000,\n",
        "  'desc': u'$2295 / 1br - 527ft\\xb2 - \\u2665HOME IS WHERE THE HEART IS\\u2665RANHO LUNA/SOL APT HOMES NOW LEASINGb (fremont / union city / newark)',\n",
        "  'id': '4716510220',\n",
        "  'url': 'http://sfbay.craigslist.org/eby/apa/4716510220.html'},\n",
        " {'app': 1000,\n",
        "  'desc': u'$2900 / 3br - 1472ft\\xb2 - Great 3 bed 2.5 bath townhouse remodeled in Fremont  (fremont / union city / newark)',\n",
        "  'id': '4705500955',\n",
        "  'url': 'http://sfbay.craigslist.org/eby/apa/4705500955.html'},\n",
        " {'app': 1000,\n",
        "  'desc': u'$2900 / 3br - 1472ft\\xb2 - Great 3 bed 2.5 bath townhome remodeled in Fremont  (fremont / union city / newark)',\n",
        "  'id': '4696287452',\n",
        "  'url': 'http://sfbay.craigslist.org/eby/apa/4696287452.html'},\n",
        " {'app': 1000,\n",
        "  'desc': u'$2600 / 3br - 1300ft\\xb2 - Beautiful Ardenwood Home in Fremont (fremont / union city / newark)',\n",
        "  'id': '4709086634',\n",
        "  'url': 'http://sfbay.craigslist.org/eby/apa/4709086634.html'},\n",
        " {'app': 1000,\n",
        "  'desc': u'$1650 / 1br - 600ft\\xb2 - Immediate move-in: 1 bedroom, 2nd floor, Irvington HS (fremont / union city / newark)',\n",
        "  'id': '4715877888',\n",
        "  'url': 'http://sfbay.craigslist.org/eby/apa/4715877888.html'},\n",
        " {'app': 1000,\n",
        "  'desc': u'$2425 / 2br - 1010ft\\xb2 - Visit Your New Home, Night Patrol, Fitness Ctr, Easy Freeway Access (fremont / union city / newark)',\n",
        "  'id': '4720991708',\n",
        "  'url': 'http://sfbay.craigslist.org/eby/apa/4720991708.html'},\n",
        " {'app': 1000,\n",
        "  'desc': u'$2665 / 2br - 982ft\\xb2 - Looking for quick access to BART and Shopping? Look no further! (fremont / union city / newark)',\n",
        "  'id': '4719725545',\n",
        "  'url': 'http://sfbay.craigslist.org/eby/apa/4719725545.html'},\n",
        " {'app': 1000,\n",
        "  'desc': u'$2753 / 3br - 1320ft\\xb2 - COME CHECK OUT OUR BEAUTIFUL 3X2 (fremont / union city / newark)',\n",
        "  'id': '4714642935',\n",
        "  'url': 'http://sfbay.craigslist.org/eby/apa/4714642935.html'},\n",
        " {'app': 1000,\n",
        "  'desc': u\"$2151 / 2br - 800ft\\xb2 - You'll Love This Floor Plan! (fremont / union city / newark)\",\n",
        "  'id': '4720694437',\n",
        "  'url': 'http://sfbay.craigslist.org/eby/apa/4720694437.html'},\n",
        " {'app': 1000,\n",
        "  'desc': u'$2500 / 3br - 1300ft\\xb2 - 3B/3B Townhouse for rent in Fremont, 94538 (fremont / union city / newark)',\n",
        "  'id': '4719715423',\n",
        "  'url': 'http://sfbay.craigslist.org/eby/apa/4719715423.html'},\n",
        " {'app': 1000,\n",
        "  'desc': u'$1795 / 1br - 650ft\\xb2 - FULLY UPGRADED 1 BEDROOM APARTMENT IN FREMONT! PRIVATE BALCONY! (fremont / union city / newark)',\n",
        "  'id': '4717669681',\n",
        "  'url': 'http://sfbay.craigslist.org/eby/apa/4717669681.html'},\n",
        " {'app': 1000,\n",
        "  'desc': u'$2500 / 3br - 1550ft\\xb2 - Beautiful house, close to Dumbarton Bridge(Facebook), shopping center  (fremont / union city / newark)',\n",
        "  'id': '4690236057',\n",
        "  'url': 'http://sfbay.craigslist.org/eby/apa/4690236057.html'},\n",
        " {'app': 1000,\n",
        "  'desc': u'$1698 / 1br - PRIVATE END UNIT, LARGE STORAGE, YOUR NEW HOME IS HERE! (fremont / union city / newark)',\n",
        "  'id': '4711129092',\n",
        "  'url': 'http://sfbay.craigslist.org/eby/apa/4711129092.html'},\n",
        " {'app': 1000,\n",
        "  'desc': u'$2041 / 1br - 738ft\\xb2 - Conveniently Located Near Hwy, Shopping, Restaurants, And More! (fremont / union city / newark)',\n",
        "  'id': '4719247973',\n",
        "  'url': 'http://sfbay.craigslist.org/eby/apa/4719247973.html'},\n",
        " {'app': 1000,\n",
        "  'desc': u'$2900 / 3br - 1474ft\\xb2 - Updated single family home for rent (fremont / union city / newark)',\n",
        "  'id': '4701295277',\n",
        "  'url': 'http://sfbay.craigslist.org/eby/apa/4701295277.html'},\n",
        " {'app': 1000,\n",
        "  'desc': u'$1950 / 1br - 1221ft\\xb2 - Extra large 1 BR Condo for Rent (fremont / union city / newark)',\n",
        "  'id': '4720732984',\n",
        "  'url': 'http://sfbay.craigslist.org/eby/apa/4720732984.html'},\n",
        " {'app': 1000,\n",
        "  'desc': u'$2500 / 2br - 1315ft\\xb2 - Fairly new remodeled Single Family House  (fremont / union city / newark)',\n",
        "  'id': '4704285477',\n",
        "  'url': 'http://sfbay.craigslist.org/eby/apa/4704285477.html'},\n",
        " {'app': 1000,\n",
        "  'desc': u'$2150 / 2br - PARK-LIKE SETTING IN PRIME LOCATION, DESIGNER 2 BR (fremont / union city / newark)',\n",
        "  'id': '4720736311',\n",
        "  'url': 'http://sfbay.craigslist.org/eby/apa/4720736311.html'},\n",
        " {'app': 1000,\n",
        "  'desc': u'$3200 / 4br - 2000ft\\xb2 - Newer Union City Home Available Nov1 Convenient Location W/D &Hardwood (fremont / union city / newark)',\n",
        "  'id': '4718111156',\n",
        "  'url': 'http://sfbay.craigslist.org/eby/apa/4718111156.html'},\n",
        " {'app': 1000,\n",
        "  'desc': u'$1,895/mo',\n",
        "  'id': '4685873529',\n",
        "  'url': 'http://sfbay.craigslist.org/eby/apa/4685873529.html'},\n",
        " {'app': 1000,\n",
        "  'desc': u'$1,895/mo',\n",
        "  'id': '4685873529',\n",
        "  'url': 'http://sfbay.craigslist.org/eby/apa/4685873529.html'},\n",
        " {'app': 1000,\n",
        "  'desc': u'$1795 / 1br - 527ft\\xb2 - \\u25d8CLOSE AND CONVENIENT FOR YOUR LIFESTYLE\\u25d8 (fremont / union city / newark)',\n",
        "  'id': '4718880555',\n",
        "  'url': 'http://sfbay.craigslist.org/eby/apa/4718880555.html'},\n",
        " {'app': 1000,\n",
        "  'desc': u'$1950 / 1br - 710ft\\xb2 - Appealing Amenities, Covered Parking, Air Conditioning, Ceiling Fan (fremont / union city / newark)',\n",
        "  'id': '4719497815',\n",
        "  'url': 'http://sfbay.craigslist.org/eby/apa/4719497815.html'},\n",
        " {'app': 1000,\n",
        "  'desc': u'$3,100/mo',\n",
        "  'id': '4713540911',\n",
        "  'url': 'http://sfbay.craigslist.org/eby/apa/4713540911.html'},\n",
        " {'app': 1000,\n",
        "  'desc': u'$3,100/mo',\n",
        "  'id': '4713540911',\n",
        "  'url': 'http://sfbay.craigslist.org/eby/apa/4713540911.html'},\n",
        " {'app': 1000,\n",
        "  'desc': u'$1650 / 1br - 640ft\\xb2 - Irvington District 1bd/1ba upstairs (fremont / union city / newark)',\n",
        "  'id': '4719638412',\n",
        "  'url': 'http://sfbay.craigslist.org/eby/apa/4719638412.html'},\n",
        " {'app': 1000,\n",
        "  'desc': u'$2500 / 3br - Quiet 3br/2ba home in quiet Fremont (fremont / union city / newark)',\n",
        "  'id': '4716592576',\n",
        "  'url': 'http://sfbay.craigslist.org/eby/apa/4716592576.html'},\n",
        " {'app': 1000,\n",
        "  'desc': u'$1790 / 1br - 600ft\\xb2 - Beautiful and spacious 1 bedrooms available  (fremont / union city / newark)',\n",
        "  'id': '4714202943',\n",
        "  'url': 'http://sfbay.craigslist.org/eby/apa/4714202943.html'},\n",
        " {'app': 1000,\n",
        "  'desc': u'$2695 / 3br - 1300ft\\xb2 - Open house 10/18 10/19 1-4pm3 Bed 2 Bath Single Family Home in Fremont (fremont / union city / newark)',\n",
        "  'id': '4700013075',\n",
        "  'url': 'http://sfbay.craigslist.org/eby/apa/4700013075.html'},\n",
        " {'app': 1000,\n",
        "  'desc': u'$2765 / 2br - 901ft\\xb2 - One two bedroom apartment with microwave included available now (fremont / union city / newark)',\n",
        "  'id': '4720678524',\n",
        "  'url': 'http://sfbay.craigslist.org/eby/apa/4720678524.html'},\n",
        " {'app': 1000,\n",
        "  'desc': u'$1410 / 1br - 580ft\\xb2 - VICTORIA GARDENS SENIOR COMMUNITY FOR ACTIVE ADULTS 55 & OLDER (fremont / union city / newark)',\n",
        "  'id': '4714475368',\n",
        "  'url': 'http://sfbay.craigslist.org/eby/apa/4714475368.html'},\n",
        " {'app': 1000,\n",
        "  'desc': u'$2695 / 3br - 1300ft\\xb2 - 3 Bed 2 Bath Single Family Home in Fremont (fremont / union city / newark)',\n",
        "  'id': '4716327770',\n",
        "  'url': 'http://sfbay.craigslist.org/eby/apa/4716327770.html'},\n",
        " {'app': 1000,\n",
        "  'desc': u'$2320 / 1br - Apartment for $2320.00in Fremont (fremont / union city / newark)',\n",
        "  'id': '4715886056',\n",
        "  'url': 'http://sfbay.craigslist.org/eby/apa/4715886056.html'},\n",
        " {'app': 1000,\n",
        "  'desc': u'$2,315/mo',\n",
        "  'id': '4705383827',\n",
        "  'url': 'http://sfbay.craigslist.org/eby/apa/4705383827.html'},\n",
        " {'app': 1000,\n",
        "  'desc': u'$2,315/mo',\n",
        "  'id': '4705383827',\n",
        "  'url': 'http://sfbay.craigslist.org/eby/apa/4705383827.html'},\n",
        " {'app': 1000,\n",
        "  'desc': u'$2753 / 3br - 1320ft\\xb2 - Stunning 3X2 Apartment with W/D Set in Fremont! (fremont / union city / newark)',\n",
        "  'id': '4714386318',\n",
        "  'url': 'http://sfbay.craigslist.org/eby/apa/4714386318.html'},\n",
        " {'app': 1000,\n",
        "  'desc': u'$2700 / 4br - 1476ft\\xb2 - 4 bedroom single house w/excellent schools (fremont / union city / newark)',\n",
        "  'id': '4716420328',\n",
        "  'url': 'http://sfbay.craigslist.org/eby/apa/4716420328.html'},\n",
        " {'app': 1000,\n",
        "  'desc': u'$2545 / 2br - 1106ft\\xb2 - 15 Min Walk to BART from the Presidio Apartments (fremont / union city / newark)',\n",
        "  'id': '4720441387',\n",
        "  'url': 'http://sfbay.craigslist.org/eby/apa/4720441387.html'},\n",
        " {'app': 1000,\n",
        "  'desc': u'$1795 / 1br - 650ft\\xb2 - 1 BEDROOM APARTMENT! QUIET NEIGHBORHOOD IN FREMONT  (fremont / union city / newark)',\n",
        "  'id': '4714367696',\n",
        "  'url': 'http://sfbay.craigslist.org/eby/apa/4714367696.html'},\n",
        " {'app': 1000,\n",
        "  'desc': u'$2100 / 2br - 888ft\\xb2 - Union City 2-Bedroom Condo (fremont / union city / newark)',\n",
        "  'id': '4708837746',\n",
        "  'url': 'http://sfbay.craigslist.org/eby/apa/4708837746.html'},\n",
        " {'app': 1000,\n",
        "  'desc': u'$2900 / 3br - 1472ft\\xb2 - 3 bed 2 .5 bath townhome remodeled in Fremont  (fremont / union city / newark)',\n",
        "  'id': '4706997677',\n",
        "  'url': 'http://sfbay.craigslist.org/eby/apa/4706997677.html'},\n",
        " {'app': 1000,\n",
        "  'desc': u'$3150 / 4br - 1900ft\\xb2 - Great Fremont SFH in nice neighborhood - Free rent until Oct 31st 2014 (fremont / union city / newark)',\n",
        "  'id': '4714556978',\n",
        "  'url': 'http://sfbay.craigslist.org/eby/apa/4714556978.html'},\n",
        " {'app': 1000,\n",
        "  'desc': u'$2259 / 2br - GORGEOUS,TOP FLOOR APARTMENT,VISIT AMBER COURT TODAY!  (fremont / union city / newark)',\n",
        "  'id': '4719275754',\n",
        "  'url': 'http://sfbay.craigslist.org/eby/apa/4719275754.html'},\n",
        " {'app': 1000,\n",
        "  'desc': u'$2100 / 2br - 895ft\\xb2 - \\u260e~\\u260e~\\u260e~Oak Pointe Apartments ~\\u260e~\\u260e~\\u260e (fremont / union city / newark)',\n",
        "  'id': '4718002189',\n",
        "  'url': 'http://sfbay.craigslist.org/eby/apa/4718002189.html'},\n",
        " {'app': 1000,\n",
        "  'desc': u'$1705 / 1br - 565ft\\xb2 - A Great Junior 1br Unit To Call home @waterstone Fremont (fremont / union city / newark)',\n",
        "  'id': '4720551845',\n",
        "  'url': 'http://sfbay.craigslist.org/eby/apa/4720551845.html'},\n",
        " {'app': 1000,\n",
        "  'desc': u'$1100 / 1br - 300ft\\xb2 - Private 24 ft camper -fully funtional (fremont / union city / newark)',\n",
        "  'id': '4711374823',\n",
        "  'url': 'http://sfbay.craigslist.org/eby/apa/4711374823.html'},\n",
        " {'app': 1000,\n",
        "  'desc': u'$2100 / 2br - 2 Bedroom 1 Bath - Newly Renovated (fremont / union city / newark)',\n",
        "  'id': '4693357033',\n",
        "  'url': 'http://sfbay.craigslist.org/eby/apa/4693357033.html'},\n",
        " {'app': 1000,\n",
        "  'desc': u'$2175 / 2br - DESIGNER-INSPIRED FLOOR PLANS WITH LUSH GARDEN VIEW (fremont / union city / newark)',\n",
        "  'id': '4714196556',\n",
        "  'url': 'http://sfbay.craigslist.org/eby/apa/4714196556.html'},\n",
        " {'app': 1000,\n",
        "  'desc': u'$2074 / 1br - 720ft\\xb2 - Renting Fast! Unique & Bright w/ Skylight, In-Home Laundry, Tour Now!! (fremont / union city / newark)',\n",
        "  'id': '4720482808',\n",
        "  'url': 'http://sfbay.craigslist.org/eby/apa/4720482808.html'},\n",
        " {'app': 1000,\n",
        "  'desc': u'$2295 / 2br - 980ft\\xb2 - \\u2660\\u2665QUIET, COMFORT, & CONVENIENCE! YOU DESERVE THE BEST!\\u2660 (fremont / union city / newark)',\n",
        "  'id': '4721152536',\n",
        "  'url': 'http://sfbay.craigslist.org/eby/apa/4721152536.html'},\n",
        " {'app': 1000,\n",
        "  'desc': u'$1950 / 2br - 900ft\\xb2 - Fremont Mission San Jose 2bds, 1.5 bth Dont miss it! (fremont / union city / newark)',\n",
        "  'id': '4713579826',\n",
        "  'url': 'http://sfbay.craigslist.org/eby/apa/4713579826.html'},\n",
        " {'app': 1000,\n",
        "  'desc': u'$2176 / 2br - 913ft\\xb2 - Available Soon! Perfect Location! 2 BR & 2 BA! (fremont / union city / newark)',\n",
        "  'id': '4721213598',\n",
        "  'url': 'http://sfbay.craigslist.org/eby/apa/4721213598.html'},\n",
        " {'app': 1000,\n",
        "  'desc': u'$2175 / 2br - 1080ft\\xb2 - 2B/B - 3300 Wolcott Cmn 1st flr condo (fremont / union city / newark)',\n",
        "  'id': '4715295146',\n",
        "  'url': 'http://sfbay.craigslist.org/eby/apa/4715295146.html'},\n",
        " {'app': 1000,\n",
        "  'desc': u'$1350 / 1br - 672ft\\xb2 - 4932 Bridgepoint Place, Union City, Avail. 11/8 (fremont / union city / newark)',\n",
        "  'id': '4718978993',\n",
        "  'url': 'http://sfbay.craigslist.org/eby/apa/4718978993.html'},\n",
        " {'app': 1000,\n",
        "  'desc': u'$2900 / 3br - 1472ft\\xb2 - Great location 3 bed 2.5 bath townhome in Fremont  (fremont / union city / newark)',\n",
        "  'id': '4720985331',\n",
        "  'url': 'http://sfbay.craigslist.org/eby/apa/4720985331.html'},\n",
        " {'app': 1000,\n",
        "  'desc': u'$2753 / 3br - 1320ft\\xb2 - 3BD/2BA Apartment with Quartz Countertops (fremont / union city / newark)',\n",
        "  'id': '4713359828',\n",
        "  'url': 'http://sfbay.craigslist.org/eby/apa/4713359828.html'},\n",
        " {'app': 1000,\n",
        "  'desc': u'$2753 / 3br - 1320ft\\xb2 - 3BD/2BA Apartment with Quartz Countertops (fremont / union city / newark)',\n",
        "  'id': '4713030866',\n",
        "  'url': 'http://sfbay.craigslist.org/eby/apa/4713030866.html'},\n",
        " {'app': 1000,\n",
        "  'desc': u'$1,900/mo',\n",
        "  'id': '4717691173',\n",
        "  'url': 'http://sfbay.craigslist.org/eby/apa/4717691173.html'},\n",
        " {'app': 1000,\n",
        "  'desc': u'$1,900/mo',\n",
        "  'id': '4717691173',\n",
        "  'url': 'http://sfbay.craigslist.org/eby/apa/4717691173.html'},\n",
        " {'app': 1000,\n",
        "  'desc': u'$2675 / 2br - 1700ft\\xb2 - Spacious Brand New Remodeled 2 bdrms 2.5 bths Townhouse in Irvington (fremont / union city / newark)',\n",
        "  'id': '4713716965',\n",
        "  'url': 'http://sfbay.craigslist.org/eby/apa/4713716965.html'},\n",
        " {'app': 1000,\n",
        "  'desc': u'$2295 / 2br - 1004ft\\xb2 - \\u2022\\u263bTHIS BEAUTIFUL UPGRADED APT HOME HAS ALL THE COMFORTS\\u263b\\u2022\\u2022 (fremont / union city / newark)',\n",
        "  'id': '4719006949',\n",
        "  'url': 'http://sfbay.craigslist.org/eby/apa/4719006949.html'},\n",
        " {'app': 1000,\n",
        "  'desc': u'$1350 / 2br - 900ft\\xb2 - 37847 Niles Blvd #2, Fremont, Avail.11/1 (fremont / union city / newark)',\n",
        "  'id': '4715989928',\n",
        "  'url': 'http://sfbay.craigslist.org/eby/apa/4715989928.html'},\n",
        " {'app': 1000,\n",
        "  'desc': u'$2,700/mo',\n",
        "  'id': '4719615008',\n",
        "  'url': 'http://sfbay.craigslist.org/eby/apa/4719615008.html'},\n",
        " {'app': 1000,\n",
        "  'desc': u'$2,700/mo',\n",
        "  'id': '4719615008',\n",
        "  'url': 'http://sfbay.craigslist.org/eby/apa/4719615008.html'},\n",
        " {'app': 1000,\n",
        "  'desc': u'$1823 / 1br - 760ft\\xb2 - Are You Ready To Move..Waterstone@Fremont (fremont / union city / newark)',\n",
        "  'id': '4720524100',\n",
        "  'url': 'http://sfbay.craigslist.org/eby/apa/4720524100.html'},\n",
        " {'app': 1000,\n",
        "  'desc': u'$1631 / 1br - 520ft\\xb2 - (PRIME LOCATION) 1BED-1BATH (fremont / union city / newark)',\n",
        "  'id': '4721119470',\n",
        "  'url': 'http://sfbay.craigslist.org/eby/apa/4721119470.html'},\n",
        " {'app': 1000,\n",
        "  'desc': u'$2900 / 3br - 1472ft\\xb2 - Great 3 bed 2.5 bath townhome remodeled in Fremont  (fremont / union city / newark)',\n",
        "  'id': '4696417639',\n",
        "  'url': 'http://sfbay.craigslist.org/eby/apa/4696417639.html'},\n",
        " {'app': 1000,\n",
        "  'desc': u'$2397 / 985ft\\xb2 - Available Immediately! (fremont / union city / newark)',\n",
        "  'id': '4719218293',\n",
        "  'url': 'http://sfbay.craigslist.org/eby/apa/4719218293.html'},\n",
        " {'app': 1000,\n",
        "  'desc': u'$1895 / 2br - 803ft\\xb2 - FREE COMCAST CABLE w/ HBO (fremont / union city / newark)',\n",
        "  'id': '4692849596',\n",
        "  'url': 'http://sfbay.craigslist.org/eby/apa/4692849596.html'},\n",
        " {'app': 1000,\n",
        "  'desc': u'$1965 / 2br - 830ft\\xb2 - Ready to Rent! (fremont / union city / newark)',\n",
        "  'id': '4710131865',\n",
        "  'url': 'http://sfbay.craigslist.org/eby/apa/4710131865.html'},\n",
        " {'app': 1000,\n",
        "  'desc': u'$2015 / 2br - 830ft\\xb2 - The peace of mind you deserve. (fremont / union city / newark)',\n",
        "  'id': '4717628738',\n",
        "  'url': 'http://sfbay.craigslist.org/eby/apa/4717628738.html'},\n",
        " {'app': 1000,\n",
        "  'desc': u'$1698 / 1br - OPEN FLOOR PLAN WITH A PRIVATE PATIO &GYM (fremont / union city / newark)',\n",
        "  'id': '4718001748',\n",
        "  'url': 'http://sfbay.craigslist.org/eby/apa/4718001748.html'},\n",
        " {'app': 1000,\n",
        "  'desc': u'$2999 / 4br - 1922ft\\xb2 - luxuary 4bed 2 bath union city $,2,999 first month  (fremont / union city / newark)',\n",
        "  'id': '4695475060',\n",
        "  'url': 'http://sfbay.craigslist.org/eby/apa/4695475060.html'},\n",
        " {'app': 1000,\n",
        "  'desc': u'$2,600/mo',\n",
        "  'id': '4717225080',\n",
        "  'url': 'http://sfbay.craigslist.org/eby/apa/4717225080.html'},\n",
        " {'app': 1000,\n",
        "  'desc': u'$2,600/mo',\n",
        "  'id': '4717225080',\n",
        "  'url': 'http://sfbay.craigslist.org/eby/apa/4717225080.html'},\n",
        " {'app': 1000,\n",
        "  'desc': u'$1582 / 1br - 620ft\\xb2 - Hardwood Floors, Walk-in Closets, Corner unit, Top floor! (fremont / union city / newark)',\n",
        "  'id': '4720654636',\n",
        "  'url': 'http://sfbay.craigslist.org/eby/apa/4720654636.html'},\n",
        " {'app': 1000,\n",
        "  'desc': u'$2077 / 1br - 747ft\\xb2 - Amazing 1 BD, 1 BA Apartment Available Now! (fremont / union city / newark)',\n",
        "  'id': '4720654598',\n",
        "  'url': 'http://sfbay.craigslist.org/eby/apa/4720654598.html'},\n",
        " {'app': 1000,\n",
        "  'desc': u'$2850 / 3br - 1688ft\\xb2 - Beautiful Home in Forest Park School area available Mid-Nov (fremont / union city / newark)',\n",
        "  'id': '4716548767',\n",
        "  'url': 'http://sfbay.craigslist.org/eby/apa/4716548767.html'},\n",
        " {'app': 1000,\n",
        "  'desc': u'$2616 / 3br - 1320ft\\xb2 - 3BD/2BA Apartment with Quartz Countertops (fremont / union city / newark)',\n",
        "  'id': '4719030835',\n",
        "  'url': 'http://sfbay.craigslist.org/eby/apa/4719030835.html'},\n",
        " {'app': 1000,\n",
        "  'desc': u'$4795 / 5br - 3168ft\\xb2 - Gorgeous Mission Fremont Home ... Will not Last!!! (fremont / union city / newark)',\n",
        "  'id': '4717504335',\n",
        "  'url': 'http://sfbay.craigslist.org/eby/apa/4717504335.html'},\n",
        " {'app': 1000,\n",
        "  'desc': u'$1895 / 1br - 527ft\\xb2 - \\u2665COMMUNITY A FEELING OF FELLOWSHIP WITH OTHERS JOIN OURS\\u2665  (fremont / union city / newark)',\n",
        "  'id': '4716554751',\n",
        "  'url': 'http://sfbay.craigslist.org/eby/apa/4716554751.html'},\n",
        " {'app': 1000,\n",
        "  'desc': u'$2278 / 2br - 800ft\\xb2 - Hurry While The Prices Are LOW!! Ask About #914!! (fremont / union city / newark)',\n",
        "  'id': '4718095749',\n",
        "  'url': 'http://sfbay.craigslist.org/eby/apa/4718095749.html'},\n",
        " {'app': 1000,\n",
        "  'desc': u'$1900 / 1br - 760ft\\xb2 - Are You Ready To Move..Waterstone@Fremont (fremont / union city / newark)',\n",
        "  'id': '4716578860',\n",
        "  'url': 'http://sfbay.craigslist.org/eby/apa/4716578860.html'},\n",
        " {'app': 1000,\n",
        "  'desc': u'$2730 / 2br - 1331ft\\xb2 - Available soon! Large two bedroom with patio! (fremont / union city / newark)',\n",
        "  'id': '4720620522',\n",
        "  'url': 'http://sfbay.craigslist.org/eby/apa/4720620522.html'},\n",
        " {'app': 1000,\n",
        "  'desc': u'$3250 / 3br - 1550ft\\xb2 - Mission San Jose Fremont Home for Rent (fremont / union city / newark)',\n",
        "  'id': '4718932110',\n",
        "  'url': 'http://sfbay.craigslist.org/eby/apa/4718932110.html'},\n",
        " {'app': 1000,\n",
        "  'desc': u'$1795 / 1br - 527ft\\xb2 - \\u25d8\\u2665EVERYONE IS WELCOME HOME HERE AT RANCHO LUNA/SOL \\u25d8\\u2665 (fremont / union city / newark)',\n",
        "  'id': '4719113814',\n",
        "  'url': 'http://sfbay.craigslist.org/eby/apa/4719113814.html'},\n",
        " {'app': 1000,\n",
        "  'desc': u'$2800 / 4br - 1928ft\\xb2 - Single Newark Lake home for Rent (fremont / union city / newark)',\n",
        "  'id': '4716531523',\n",
        "  'url': 'http://sfbay.craigslist.org/eby/apa/4716531523.html'},\n",
        " {'app': 1000,\n",
        "  'desc': u'$1900 / 1br - 737ft\\xb2 - *Carriage House* Gated Community in a Quiet and Friendly Neighborhood! (fremont / union city / newark)',\n",
        "  'id': '4721137029',\n",
        "  'url': 'http://sfbay.craigslist.org/eby/apa/4721137029.html'},\n",
        " {'app': 1000,\n",
        "  'desc': u'$1786 / 1br - 685ft\\xb2 - 1 Bedroom is Ready for You to Move In! (fremont / union city / newark)',\n",
        "  'id': '4720771143',\n",
        "  'url': 'http://sfbay.craigslist.org/eby/apa/4720771143.html'},\n",
        " {'app': 1000,\n",
        "  'desc': u'$1845 / 1br - Ready to move in call now for an appointment!!!! (fremont / union city / newark)',\n",
        "  'id': '4711477837',\n",
        "  'url': 'http://sfbay.craigslist.org/eby/apa/4711477837.html'},\n",
        " {'app': 1000,\n",
        "  'desc': u'$3000 / 4br - 1000ft\\xb2 - 4 Bed 1 Bath Large Lot House for Rent (fremont / union city / newark)',\n",
        "  'id': '4708387181',\n",
        "  'url': 'http://sfbay.craigslist.org/eby/apa/4708387181.html'},\n",
        " {'app': 1000,\n",
        "  'desc': u'$2,315/mo',\n",
        "  'id': '4698044778',\n",
        "  'url': 'http://sfbay.craigslist.org/eby/apa/4698044778.html'},\n",
        " {'app': 1000,\n",
        "  'desc': u'$2,315/mo',\n",
        "  'id': '4698044778',\n",
        "  'url': 'http://sfbay.craigslist.org/eby/apa/4698044778.html'},\n",
        " {'app': 1000,\n",
        "  'desc': u'$2900 / 3br - 1472ft\\xb2 - 3 bed 2 .5 bath townhome remodeled in Fremont  (fremont / union city / newark)',\n",
        "  'id': '4707251377',\n",
        "  'url': 'http://sfbay.craigslist.org/eby/apa/4707251377.html'},\n",
        " {'app': 1000,\n",
        "  'desc': u'$2600 / 3br - 1295ft\\xb2 - + Sun room - Gorgeous Single Family House - great neighborhood (fremont / union city / newark)',\n",
        "  'id': '4714916364',\n",
        "  'url': 'http://sfbay.craigslist.org/eby/apa/4714916364.html'},\n",
        " {'app': 1000,\n",
        "  'desc': u'$2600 / 2br - 2 bedroom unit for lease (fremont / union city / newark)',\n",
        "  'id': '4711328744',\n",
        "  'url': 'http://sfbay.craigslist.org/eby/apa/4711328744.html'},\n",
        " {'app': 1000,\n",
        "  'desc': u'$1595 / 545ft\\xb2 - Spacious Studio Apartment in Downtown Fremont move in ready 11/15/2014 (fremont / union city / newark)',\n",
        "  'id': '4710176266',\n",
        "  'url': 'http://sfbay.craigslist.org/eby/apa/4710176266.html'},\n",
        " {'app': 1000,\n",
        "  'desc': u'$2618 / 3br - 1320ft\\xb2 - COME VISIT OUR BEAUTIFUL FLOR PLANS!! (fremont / union city / newark)',\n",
        "  'id': '4721024294',\n",
        "  'url': 'http://sfbay.craigslist.org/eby/apa/4721024294.html'},\n",
        " {'app': 1000,\n",
        "  'desc': u'$3,100/mo',\n",
        "  'id': '4718073843',\n",
        "  'url': 'http://sfbay.craigslist.org/eby/apa/4718073843.html'},\n",
        " {'app': 1000,\n",
        "  'desc': u'$3,100/mo',\n",
        "  'id': '4718073843',\n",
        "  'url': 'http://sfbay.craigslist.org/eby/apa/4718073843.html'},\n",
        " {'app': 1000,\n",
        "  'desc': u'$2100 / 2br - 990ft\\xb2 - Meadowbrook 2 bed, 2bath condo (fremont / union city / newark)',\n",
        "  'id': '4718110291',\n",
        "  'url': 'http://sfbay.craigslist.org/eby/apa/4718110291.html'},\n",
        " {'app': 1000,\n",
        "  'desc': u'$1760 / 1br - PRIVATE END UNIT, LARGE STORAGE, YOUR NEW HOME IS HERE! (fremont / union city / newark)',\n",
        "  'id': '4716583168',\n",
        "  'url': 'http://sfbay.craigslist.org/eby/apa/4716583168.html'},\n",
        " {'app': 1000,\n",
        "  'desc': u'$1760 / 1br - OPEN FLOOR PLAN WITH A PRIVATE PATIO & GYM  (fremont / union city / newark)',\n",
        "  'id': '4716310375',\n",
        "  'url': 'http://sfbay.craigslist.org/eby/apa/4716310375.html'}]"
       ]
      }
     ],
     "prompt_number": 26
    },
    {
     "cell_type": "code",
     "collapsed": false,
     "input": [
      "connection = pymongo.Connection()\n",
      "db = connection['craig_rental']\n",
      "rentals = db.rentals\n",
      "for row in final_content:\n",
      "    #rentals.insert(row)\n",
      "    print row\n",
      "    #print final_content[row]\n",
      "    rentals.insert(row)\n"
     ],
     "language": "python",
     "metadata": {},
     "outputs": [
      {
       "output_type": "stream",
       "stream": "stdout",
       "text": [
        "{'url': 'http://sfbay.craigslist.org/eby/apa/4720715448.html', 'app': 1000, '_id': ObjectId('5443566e804ad20612a28471'), 'id': '4720715448', 'desc': u'$2900 / 3br - 1472ft\\xb2 - Great location 3 bed 2.5 bath townhome in Fremont  (fremont / union city / newark)'}\n",
        "{'url': 'http://sfbay.craigslist.org/eby/apa/4710316373.html', 'app': 1000, '_id': ObjectId('5443566e804ad20612a28472'), 'id': '4710316373', 'desc': u'$1900 / 1br - 737ft\\xb2 - *Carriage House* Gated Community in a Quiet and Friendly Neighborhood! (fremont / union city / newark)'}\n",
        "{'url': 'http://sfbay.craigslist.org/eby/apa/4714845323.html', 'app': 1000, '_id': ObjectId('5443566e804ad20612a28473'), 'id': '4714845323', 'desc': u'$1760 / 1br - DESIGNER INTERIORS, SPACIOUS FLOOR PLANS AND AMAZING AMENITIES (fremont / union city / newark)'}\n",
        "{'url': 'http://sfbay.craigslist.org/eby/apa/4716279923.html', 'app': 1000, '_id': ObjectId('5443566e804ad20612a28474'), 'id': '4716279923', 'desc': u'$3000 3BR/2.5BA Ardenwood SFH For Rent; Open House Sunday (10/19) 2pm-4pm (fremont / union city / newark)'}\n",
        "{'url': 'http://sfbay.craigslist.org/eby/apa/4710699054.html', 'app': 1000, '_id': ObjectId('5443566e804ad20612a28475'), 'id': '4710699054', 'desc': u'$2000 / 2br - 900ft\\xb2 - Mission Village 2BD/2 Full Bath Condo (fremont / union city / newark)'}\n",
        "{'url': 'http://sfbay.craigslist.org/eby/apa/4721372533.html', 'app': 1000, '_id': ObjectId('5443566e804ad20612a28476'), 'id': '4721372533', 'desc': u'$1800 / 2br - 1015ft\\xb2 - Newark Townhome for Rent (fremont / union city / newark)'}\n",
        "{'url': 'http://sfbay.craigslist.org/eby/apa/4717640141.html', 'app': 1000, '_id': ObjectId('5443566e804ad20612a28477'), 'id': '4717640141', 'desc': u'$3,750/mo'}\n",
        "{'url': 'http://sfbay.craigslist.org/eby/apa/4717640141.html', 'app': 1000, '_id': ObjectId('5443566e804ad20612a28477'), 'id': '4717640141', 'desc': u'$3,750/mo'}\n",
        "{'url': 'http://sfbay.craigslist.org/eby/apa/4712548353.html', 'app': 1000, '_id': ObjectId('5443566e804ad20612a28478'), 'id': '4712548353', 'desc': u'$2500 / 4br - 1612ft\\xb2 - Union City House for Rent (fremont / union city / newark)'}\n",
        "{'url': 'http://sfbay.craigslist.org/eby/apa/4710360494.html', 'app': 1000, '_id': ObjectId('5443566e804ad20612a28479'), 'id': '4710360494', 'desc': u'$2595 / 2br - 1081ft\\xb2 - 37 Silk Oak, Fremont - Nice Townhome (fremont / union city / newark)'}\n",
        "{'url': 'http://sfbay.craigslist.org/eby/apa/4715714446.html', 'app': 1000, '_id': ObjectId('5443566e804ad20612a2847a'), 'id': '4715714446', 'desc': u'$1890 / 735ft\\xb2 - Waterstone@Fremont 735 1br (fremont / union city / newark)'}\n",
        "{'url': 'http://sfbay.craigslist.org/eby/apa/4718283672.html', 'app': 1000, '_id': ObjectId('5443566e804ad20612a2847b'), 'id': '4718283672', 'desc': u'$2500 / 4br - 1820ft\\xb2 - 4 bedroom,2 Bath (fremont / union city / newark)'}\n",
        "{'url': 'http://sfbay.craigslist.org/eby/apa/4716627039.html', 'app': 1000, '_id': ObjectId('5443566e804ad20612a2847c'), 'id': '4716627039', 'desc': u\"$2100 / 2br - 895ft\\xb2 - ~\\xa4\\u066d\\xa4~It's the place for YOU~\\xa4\\u066d\\xa4~ (fremont / union city / newark)\"}\n",
        "{'url': 'http://sfbay.craigslist.org/eby/apa/4719092872.html', 'app': 1000, '_id': ObjectId('5443566e804ad20612a2847d'), 'id': '4719092872', 'desc': u'$2200 / 3br - 1338ft\\xb2 - 3850 Meeks Terrace, 3bd 2.5ba Townhouse with attached Garage,  (fremont / union city / newark)'}\n",
        "{'url': 'http://sfbay.craigslist.org/eby/apa/4713367982.html', 'app': 1000, '_id': ObjectId('5443566e804ad20612a2847e'), 'id': '4713367982', 'desc': u'$1795 / 1br - 650ft\\xb2 - BEAUTIFUL 1 BEDROOM AT QUIET NEIGHBORHOOD IN FREMONT!  (fremont / union city / newark)'}\n",
        "{'url': 'http://sfbay.craigslist.org/eby/apa/4711111236.html', 'app': 1000, '_id': ObjectId('5443566e804ad20612a2847f'), 'id': '4711111236', 'desc': u'$1795 / 1br - 527ft\\xb2 - \\u263bBART RIDERS DREAM/CLOSE TO SHOPPING\\u263b (fremont / union city / newark)'}\n",
        "{'url': 'http://sfbay.craigslist.org/eby/apa/4719268597.html', 'app': 1000, '_id': ObjectId('5443566e804ad20612a28480'), 'id': '4719268597', 'desc': u'$3200 / 4br - 1997ft\\xb2 - Outstanding Location, Beautiful 4 Bdrm House for Rent Union City  (fremont / union city / newark)'}\n",
        "{'url': 'http://sfbay.craigslist.org/eby/apa/4713631502.html', 'app': 1000, '_id': ObjectId('5443566e804ad20612a28481'), 'id': '4713631502', 'desc': u'$3250 / 4br - 2146ft\\xb2 - 1999 Remodeled two story 4 bed plus Loft (fremont / union city / newark)'}\n",
        "{'url': 'http://sfbay.craigslist.org/eby/apa/4718773776.html', 'app': 1000, '_id': ObjectId('5443566e804ad20612a28482'), 'id': '4718773776', 'desc': u'$3500 / 4br - 1866ft\\xb2 - 4 Bed/2 Bath house for rent (fremont / union city / newark)'}\n",
        "{'url': 'http://sfbay.craigslist.org/eby/apa/4717808304.html', 'app': 1000, '_id': ObjectId('5443566e804ad20612a28483'), 'id': '4717808304', 'desc': u'$900 / 1br - 300ft\\xb2 - Fully furnished trailer home (fremont / union city / newark)'}\n",
        "{'url': 'http://sfbay.craigslist.org/eby/apa/4719103428.html', 'app': 1000, '_id': ObjectId('5443566e804ad20612a28484'), 'id': '4719103428', 'desc': u'$2259 / 2br - A CHEERFUL, SUNNY PLACE READY FOR YOU TO CALL HOME!  (fremont / union city / newark)'}\n",
        "{'url': 'http://sfbay.craigslist.org/eby/apa/4715245194.html', 'app': 1000, '_id': ObjectId('5443566e804ad20612a28485'), 'id': '4715245194', 'desc': u'$1685 / 1br - 600ft\\xb2 - Cottage in Warm Springs District of Fremont (fremont / union city / newark)'}\n",
        "{'url': 'http://sfbay.craigslist.org/eby/apa/4720819919.html', 'app': 1000, '_id': ObjectId('5443566e804ad20612a28486'), 'id': '4720819919', 'desc': u'$1900 / 1br - 737ft\\xb2 - *Carriage House* Gated Community in a Quiet and Friendly Neighborhood! (fremont / union city / newark)'}\n",
        "{'url': 'http://sfbay.craigslist.org/eby/apa/4719506217.html', 'app': 1000, '_id': ObjectId('5443566e804ad20612a28487'), 'id': '4719506217', 'desc': u'$1698 / 1br - PRIVATE END UNIT, LARGE STORAGE, YOUR NEW HOME IS HERE! (fremont / union city / newark)'}\n",
        "{'url': 'http://sfbay.craigslist.org/eby/apa/4719048546.html', 'app': 1000, '_id': ObjectId('5443566e804ad20612a28488'), 'id': '4719048546', 'desc': u'$2,150/mo'}\n",
        "{'url': 'http://sfbay.craigslist.org/eby/apa/4719048546.html', 'app': 1000, '_id': ObjectId('5443566e804ad20612a28488'), 'id': '4719048546', 'desc': u'$2,150/mo'}\n",
        "{'url': 'http://sfbay.craigslist.org/eby/apa/4708469914.html', 'app': 1000, '_id': ObjectId('5443566e804ad20612a28489'), 'id': '4708469914', 'desc': u'$3000 / 4br - 2184ft\\xb2 - 4BR/3BA Bright, luxury house in Fremont near Central Park (fremont / union city / newark)'}\n",
        "{'url': 'http://sfbay.craigslist.org/eby/apa/4718902969.html', 'app': 1000, '_id': ObjectId('5443566e804ad20612a2848a'), 'id': '4718902969', 'desc': u'$1558 / 410ft\\xb2 - Stunning Studio #806 Is Waiting For You! Schedule Your Personal Tour! (fremont / union city / newark)'}\n",
        "{'url': 'http://sfbay.craigslist.org/eby/apa/4717846989.html', 'app': 1000, '_id': ObjectId('5443566e804ad20612a2848b'), 'id': '4717846989', 'desc': u'$2395 / 2br - 980ft\\xb2 - \\u263b\\u2665THE MOST LIKED PLACE TO LIVE ON FACEBOOK\\u263b\\u2665 (fremont / union city / newark)'}\n",
        "{'url': 'http://sfbay.craigslist.org/eby/apa/4721161340.html', 'app': 1000, '_id': ObjectId('5443566e804ad20612a2848c'), 'id': '4721161340', 'desc': u'$2500 / 3br - 1131ft\\xb2 - 3 bedroom 2 bath for rent in Fremont   (fremont / union city / newark)'}\n",
        "{'url': 'http://sfbay.craigslist.org/eby/apa/4710469884.html', 'app': 1000, '_id': ObjectId('5443566e804ad20612a2848d'), 'id': '4710469884', 'desc': u'$1895 / 1br - 527ft\\xb2 - \\u2665HOME IS WHERE THE HEART IS\\u2665WASHER/DYER IN UNIT\\u2660 (fremont / union city / newark)'}\n",
        "{'url': 'http://sfbay.craigslist.org/eby/apa/4714216278.html', 'app': 1000, '_id': ObjectId('5443566e804ad20612a2848e'), 'id': '4714216278', 'desc': u'$2100 / 2br - 895ft\\xb2 - :~:~:A Great Place to Call Home:~:~: (fremont / union city / newark)'}\n",
        "{'url': 'http://sfbay.craigslist.org/eby/apa/4716382724.html', 'app': 1000, '_id': ObjectId('5443566e804ad20612a2848f'), 'id': '4716382724', 'desc': u'$2395 / 2br - 980ft\\xb2 - \\u2022\\u263bTHIS BEAUTIFUL UPGRADED APT HOME HAS ALL THE COMFORTS\\u263b\\u2022\\u2022 (fremont / union city / newark)'}\n",
        "{'url': 'http://sfbay.craigslist.org/eby/apa/4717989371.html', 'app': 1000, '_id': ObjectId('5443566e804ad20612a28490'), 'id': '4717989371', 'desc': u'$2,600/mo'}\n",
        "{'url': 'http://sfbay.craigslist.org/eby/apa/4717989371.html', 'app': 1000, '_id': ObjectId('5443566e804ad20612a28490'), 'id': '4717989371', 'desc': u'$2,600/mo'}\n",
        "{'url': 'http://sfbay.craigslist.org/eby/apa/4717568550.html', 'app': 1000, '_id': ObjectId('5443566e804ad20612a28491'), 'id': '4717568550', 'desc': u'$2185 / 2br - 1009ft\\xb2 - 2 BR Town Homes Available October 22 & 24 (fremont / union city / newark)'}\n",
        "{'url': 'http://sfbay.craigslist.org/eby/apa/4712913492.html', 'app': 1000, '_id': ObjectId('5443566e804ad20612a28492'), 'id': '4712913492', 'desc': u'$500 / 1br - 800ft\\xb2 - Room to share  (fremont / union city / newark)'}\n",
        "{'url': 'http://sfbay.craigslist.org/eby/apa/4720404742.html', 'app': 1000, '_id': ObjectId('5443566e804ad20612a28493'), 'id': '4720404742', 'desc': u'$1701 / 410ft\\xb2 - Just The Right Amount of  Space (fremont / union city / newark)'}\n",
        "{'url': 'http://sfbay.craigslist.org/eby/apa/4719922054.html', 'app': 1000, '_id': ObjectId('5443566e804ad20612a28494'), 'id': '4719922054', 'desc': u'$2500 / 3br - 1148ft\\xb2 - OPEN HOUSE, 3 Bed, 2 Bath, Cozy Home, Carpet/Hardwood Floors, Garden (fremont / union city / newark)'}\n",
        "{'url': 'http://sfbay.craigslist.org/eby/apa/4718415269.html', 'app': 1000, '_id': ObjectId('5443566e804ad20612a28495'), 'id': '4718415269', 'desc': u\"$2950 / 3br - Newer home in Fremont's Ardenwood neighborhood (fremont / union city / newark)\"}\n",
        "{'url': 'http://sfbay.craigslist.org/eby/apa/4700775920.html', 'app': 1000, '_id': ObjectId('5443566e804ad20612a28496'), 'id': '4700775920', 'desc': u'$2998 / 4br - 1617ft\\xb2 - Home in top school area in Fremont (fremont / union city / newark)'}\n",
        "{'url': 'http://sfbay.craigslist.org/eby/apa/4718851609.html', 'app': 1000, '_id': ObjectId('5443566e804ad20612a28497'), 'id': '4718851609', 'desc': u'$2500 / 3br - 1550ft\\xb2 - Beautiful house, close to Dumbarton Bridge(Facebook), shopping center  (fremont / union city / newark)'}\n",
        "{'url': 'http://sfbay.craigslist.org/eby/apa/4714022747.html', 'app': 1000, '_id': ObjectId('5443566e804ad20612a28498'), 'id': '4714022747', 'desc': u'$3200 / 3br - Single family house in Mission Sanjose (fremont / union city / newark)'}\n",
        "{'url': 'http://sfbay.craigslist.org/eby/apa/4720988308.html', 'app': 1000, '_id': ObjectId('5443566e804ad20612a28499'), 'id': '4720988308', 'desc': u\"$2224 / 2br - 906ft\\xb2 - Don't Wait!!! Here Today... Gone Tomorrow... (fremont / union city / newark)\"}\n",
        "{'url': 'http://sfbay.craigslist.org/eby/apa/4720618278.html', 'app': 1000, '_id': ObjectId('5443566e804ad20612a2849a'), 'id': '4720618278', 'desc': u'$1562 / 1br - A Must See! Fantastic Location! Beautiful One Bedroom Apt Home! (fremont / union city / newark)'}\n",
        "{'url': 'http://sfbay.craigslist.org/eby/apa/4720519649.html', 'app': 1000, '_id': ObjectId('5443566e804ad20612a2849b'), 'id': '4720519649', 'desc': u'$2300 / 2br - 890ft\\xb2 - *Carriage House* Gated Community in a Quiet and Friendly Neighborhood! (fremont / union city / newark)'}\n",
        "{'url': 'http://sfbay.craigslist.org/eby/apa/4720641538.html', 'app': 1000, '_id': ObjectId('5443566e804ad20612a2849c'), 'id': '4720641538', 'desc': u'$2097 / 2br - 895ft\\xb2 - Available November 5th!!! (fremont / union city / newark)'}\n",
        "{'url': 'http://sfbay.craigslist.org/eby/apa/4713423547.html', 'app': 1000, '_id': ObjectId('5443566e804ad20612a2849d'), 'id': '4713423547', 'desc': u'$2400 / 2br - Beautiful renovated condo in Ardenwood (fremont / union city / newark)'}\n",
        "{'url': 'http://sfbay.craigslist.org/eby/apa/4719473938.html', 'app': 1000, '_id': ObjectId('5443566e804ad20612a2849e'), 'id': '4719473938', 'desc': u'$2220 / 2br - 1026ft\\xb2 - Beautiful 2 bedrooms available  (fremont / union city / newark)'}"
       ]
      },
      {
       "output_type": "stream",
       "stream": "stdout",
       "text": [
        "\n",
        "{'url': 'http://sfbay.craigslist.org/eby/apa/4719047778.html', 'app': 1000, '_id': ObjectId('5443566e804ad20612a2849f'), 'id': '4719047778', 'desc': u'$1,750/mo'}\n",
        "{'url': 'http://sfbay.craigslist.org/eby/apa/4719047778.html', 'app': 1000, '_id': ObjectId('5443566e804ad20612a2849f'), 'id': '4719047778', 'desc': u'$1,750/mo'}\n",
        "{'url': 'http://sfbay.craigslist.org/eby/apa/4714754197.html', 'app': 1000, '_id': ObjectId('5443566e804ad20612a284a0'), 'id': '4714754197', 'desc': u'$1950 / 1br - 710ft\\xb2 - Outstanding Location, Responsive Maintenance, Spacious Floorplan (fremont / union city / newark)'}\n",
        "{'url': 'http://sfbay.craigslist.org/eby/apa/4719108614.html', 'app': 1000, '_id': ObjectId('5443566e804ad20612a284a1'), 'id': '4719108614', 'desc': u'$2700 / 3br - Fremont 3 Bedroom 2 Bath  House (fremont / union city / newark)'}\n",
        "{'url': 'http://sfbay.craigslist.org/eby/apa/4711482079.html', 'app': 1000, '_id': ObjectId('5443566e804ad20612a284a2'), 'id': '4711482079', 'desc': u'$1875 / 1br - 565ft\\xb2 - Schedule a Tour, Community Clubhouse, Near Shops and Dining (fremont / union city / newark)'}\n",
        "{'url': 'http://sfbay.craigslist.org/eby/apa/4713417760.html', 'app': 1000, '_id': ObjectId('5443566e804ad20612a284a3'), 'id': '4713417760', 'desc': u'$2295 / 2br - 980ft\\xb2 - \\u2665HOME IS WHERE THE HEART IS\\u2665HUGE MASTERBEDROOM\\u2666 (fremont / union city / newark)'}\n",
        "{'url': 'http://sfbay.craigslist.org/eby/apa/4717668366.html', 'app': 1000, '_id': ObjectId('5443566e804ad20612a284a4'), 'id': '4717668366', 'desc': u'$2094 / 2br - ELEGANTLY DESIGNED 2 BEDROOMS IN A BEAUTIFULLY LANDSCAPED COMMUNITY (fremont / union city / newark)'}\n",
        "{'url': 'http://sfbay.craigslist.org/eby/apa/4720727834.html', 'app': 1000, '_id': ObjectId('5443566e804ad20612a284a5'), 'id': '4720727834', 'desc': u'$1795 / 1br - 527ft\\xb2 - \\u263b\\u2665THE MOST LIKED PLACE TO LIVE ON FACEBOOK\\u263b\\u2665 (fremont / union city / newark)'}\n",
        "{'url': 'http://sfbay.craigslist.org/eby/apa/4719572603.html', 'app': 1000, '_id': ObjectId('5443566e804ad20612a284a6'), 'id': '4719572603', 'desc': u'$1795 / 1br - 527ft\\xb2 - \\u263bBART RIDERS DREAM/CLOSE TO SHOPPING\\u263b (fremont / union city / newark)'}\n",
        "{'url': 'http://sfbay.craigslist.org/eby/apa/4717522155.html', 'app': 1000, '_id': ObjectId('5443566e804ad20612a284a7'), 'id': '4717522155', 'desc': u'$2500 / 3br - 1314ft\\xb2 - 5 year new townhouse for rent (fremont / union city / newark)'}\n",
        "{'url': 'http://sfbay.craigslist.org/eby/apa/4721340098.html', 'app': 1000, '_id': ObjectId('5443566e804ad20612a284a8'), 'id': '4721340098', 'desc': u'$2289 / 3br - 1100ft\\xb2 - Condo for Rent in Fremont 3BR 2B (fremont / union city / newark)'}\n",
        "{'url': 'http://sfbay.craigslist.org/eby/apa/4714930467.html', 'app': 1000, '_id': ObjectId('5443566e804ad20612a284a9'), 'id': '4714930467', 'desc': u'$2200 / 2br - $2200 /2 Bed 1 Bath - New Remodeled (fremont / union city / newark)'}\n",
        "{'url': 'http://sfbay.craigslist.org/eby/apa/4699579886.html', 'app': 1000, '_id': ObjectId('5443566e804ad20612a284aa'), 'id': '4699579886', 'desc': u'$2900 / 3br - 1472ft\\xb2 - 3 bed 2 .5 bath townhome remodeled in Fremont (fremont / union city / newark)'}\n",
        "{'url': 'http://sfbay.craigslist.org/eby/apa/4719628167.html', 'app': 1000, '_id': ObjectId('5443566e804ad20612a284ab'), 'id': '4719628167', 'desc': u'$1625 / 1br - 625ft\\xb2 - *SPECIAL* Your new home is waiting for you! - SPACIOUS 1 BR APARTMENT  (fremont / union city / newark)'}\n",
        "{'url': 'http://sfbay.craigslist.org/eby/apa/4719720022.html', 'app': 1000, '_id': ObjectId('5443566e804ad20612a284ac'), 'id': '4719720022', 'desc': u'$1795 / 1br - 527ft\\xb2 - \\u2022\\u2022\\u2022LIVE CLOSE TO THE CITY\\u2665\\u2022\\u2022 (fremont / union city / newark)'}\n",
        "{'url': 'http://sfbay.craigslist.org/eby/apa/4703498373.html', 'app': 1000, '_id': ObjectId('5443566e804ad20612a284ad'), 'id': '4703498373', 'desc': u'$2800 / 4br - 1620ft\\xb2 - Upgraded 4 Bedroom 2 Bath Home in Irvington Area of Fremont (fremont / union city / newark)'}\n",
        "{'url': 'http://sfbay.craigslist.org/eby/apa/4720991582.html', 'app': 1000, '_id': ObjectId('5443566e804ad20612a284ae'), 'id': '4720991582', 'desc': u'$2151 / 2br - 850ft\\xb2 - Great Neighbors! You Will Feel Right at Home! (fremont / union city / newark)'}\n",
        "{'url': 'http://sfbay.craigslist.org/eby/apa/4712774235.html', 'app': 1000, '_id': ObjectId('5443566e804ad20612a284af'), 'id': '4712774235', 'desc': u'$1565 / 1br - 660ft\\xb2 - Your Future Is Here At Medallion Apts... (fremont / union city / newark)'}\n",
        "{'url': 'http://sfbay.craigslist.org/eby/apa/4718057214.html', 'app': 1000, '_id': ObjectId('5443566e804ad20612a284b0'), 'id': '4718057214', 'desc': u'$1782 / 2br - 754ft\\xb2 - Affordable and Beautiful! (fremont / union city / newark)'}\n",
        "{'url': 'http://sfbay.craigslist.org/eby/apa/4716072949.html', 'app': 1000, '_id': ObjectId('5443566e804ad20612a284b1'), 'id': '4716072949', 'desc': u'$2015 / 2br - 830ft\\xb2 - No Fooling Around! Fantastic Prices! (fremont / union city / newark)'}\n",
        "{'url': 'http://sfbay.craigslist.org/eby/apa/4720505852.html', 'app': 1000, '_id': ObjectId('5443566e804ad20612a284b2'), 'id': '4720505852', 'desc': u'$1620 / 1br - 600ft\\xb2 - Great Apartment Value Near Union City Bart (fremont / union city / newark)'}\n",
        "{'url': 'http://sfbay.craigslist.org/eby/apa/4715766018.html', 'app': 1000, '_id': ObjectId('5443566e804ad20612a284b3'), 'id': '4715766018', 'desc': u'$3200/mo'}\n",
        "{'url': 'http://sfbay.craigslist.org/eby/apa/4715766018.html', 'app': 1000, '_id': ObjectId('5443566e804ad20612a284b3'), 'id': '4715766018', 'desc': u'$3200/mo'}\n",
        "{'url': 'http://sfbay.craigslist.org/eby/apa/4719164927.html', 'app': 1000, '_id': ObjectId('5443566e804ad20612a284b4'), 'id': '4719164927', 'desc': u'$3000 / 3br - 1669ft\\xb2 - Modern home in an excellent location(3Bed/2.5bath in heart of Fremont) (fremont / union city / newark)'}\n",
        "{'url': 'http://sfbay.craigslist.org/eby/apa/4692790556.html', 'app': 1000, '_id': ObjectId('5443566e804ad20612a284b5'), 'id': '4692790556', 'desc': u'$1750 / 2br - 800ft\\xb2 - Completely renovated apartment! 2 bed/1 bath in a gated community (fremont / union city / newark)'}\n",
        "{'url': 'http://sfbay.craigslist.org/eby/apa/4714998173.html', 'app': 1000, '_id': ObjectId('5443566e804ad20612a284b6'), 'id': '4714998173', 'desc': u'$2100 / 2br - 895ft\\xb2 - \\u2706~\\u260f~\\u260eCall Oak Pointe Apartments Today!\\u260e~\\u260f~\\u2706 (fremont / union city / newark)'}\n",
        "{'url': 'http://sfbay.craigslist.org/eby/apa/4719629700.html', 'app': 1000, '_id': ObjectId('5443566e804ad20612a284b7'), 'id': '4719629700', 'desc': u'$2395 / 2br - 980ft\\xb2 - \\u2665LOOKING FOR PEACE AND QUIET\\u2665 COME AND TOUR TODAY\\u2665 (fremont / union city / newark)'}\n",
        "{'url': 'http://sfbay.craigslist.org/eby/apa/4705550936.html', 'app': 1000, '_id': ObjectId('5443566e804ad20612a284b8'), 'id': '4705550936', 'desc': u'$1900 / 2br - 1013ft\\xb2 - Light bright condo (fremont / union city / newark)'}\n",
        "{'url': 'http://sfbay.craigslist.org/eby/apa/4713215164.html', 'app': 1000, '_id': ObjectId('5443566e804ad20612a284b9'), 'id': '4713215164', 'desc': u'$3600 / 3br - 1712ft\\xb2 - Brand New single Family Home for Rent (fremont / union city / newark)'}\n",
        "{'url': 'http://sfbay.craigslist.org/eby/apa/4719630357.html', 'app': 1000, '_id': ObjectId('5443566e804ad20612a284ba'), 'id': '4719630357', 'desc': u'$2500 / 3br - Open House: Single Family Home Newark,very big lot and fruit trees (fremont / union city / newark)'}\n",
        "{'url': 'http://sfbay.craigslist.org/eby/apa/4701965908.html', 'app': 1000, '_id': ObjectId('5443566e804ad20612a284bb'), 'id': '4701965908', 'desc': u'$1725 / 1br - 710ft\\xb2 - COME BY TODAY! Available for October 13Th  Move- In!  (fremont / union city / newark)'}\n",
        "{'url': 'http://sfbay.craigslist.org/eby/apa/4711260041.html', 'app': 1000, '_id': ObjectId('5443566e804ad20612a284bc'), 'id': '4711260041', 'desc': u'$3,350/mo'}\n",
        "{'url': 'http://sfbay.craigslist.org/eby/apa/4711260041.html', 'app': 1000, '_id': ObjectId('5443566e804ad20612a284bc'), 'id': '4711260041', 'desc': u'$3,350/mo'}\n",
        "{'url': 'http://sfbay.craigslist.org/eby/apa/4720648643.html', 'app': 1000, '_id': ObjectId('5443566e804ad20612a284bd'), 'id': '4720648643', 'desc': u'$1582 / 1br - A Great Place To Call Home! Great Views! (fremont / union city / newark)'}\n",
        "{'url': 'http://sfbay.craigslist.org/eby/apa/4710948402.html', 'app': 1000, '_id': ObjectId('5443566e804ad20612a284be'), 'id': '4710948402', 'desc': u'$3200 ** Beautiful 3BD Single Family Home - with Full Amenities *** (fremont / union city / newark)'}\n",
        "{'url': 'http://sfbay.craigslist.org/eby/apa/4713175552.html', 'app': 1000, '_id': ObjectId('5443566e804ad20612a284bf'), 'id': '4713175552', 'desc': u'$1845 / 2br - 910ft\\xb2 - Call Us Home (fremont / union city / newark)'}\n",
        "{'url': 'http://sfbay.craigslist.org/eby/apa/4695412849.html', 'app': 1000, '_id': ObjectId('5443566e804ad20612a284c0'), 'id': '4695412849', 'desc': u'$1800 / 1br - 829ft\\xb2 - Take over 1 Bedroom apartment lease (fremont / union city / newark)'}\n",
        "{'url': 'http://sfbay.craigslist.org/eby/apa/4716082763.html', 'app': 1000, '_id': ObjectId('5443566e804ad20612a284c1'), 'id': '4716082763', 'desc': u'$1639 / 650ft\\xb2 - Your New Home Awaits...Click Here.. (fremont / union city / newark)'}\n",
        "{'url': 'http://sfbay.craigslist.org/eby/apa/4718195034.html', 'app': 1000, '_id': ObjectId('5443566e804ad20612a284c2'), 'id': '4718195034', 'desc': u'$1200 / 1br - 380ft\\xb2 - 1 Br-Studio residential in Union City (fremont / union city / newark)'}\n",
        "{'url': 'http://sfbay.craigslist.org/eby/apa/4710977244.html', 'app': 1000, '_id': ObjectId('5443566e804ad20612a284c3'), 'id': '4710977244', 'desc': u'$3,100/mo'}\n",
        "{'url': 'http://sfbay.craigslist.org/eby/apa/4710977244.html', 'app': 1000, '_id': ObjectId('5443566e804ad20612a284c3'), 'id': '4710977244', 'desc': u'$3,100/mo'}\n",
        "{'url': 'http://sfbay.craigslist.org/eby/apa/4717861265.html', 'app': 1000, '_id': ObjectId('5443566e804ad20612a284c4'), 'id': '4717861265', 'desc': u'$1698 / 1br - 565ft\\xb2 - A Great Junior 1br Unit To Call home @waterstone Fremont (fremont / union city / newark)'}\n",
        "{'url': 'http://sfbay.craigslist.org/eby/apa/4711427069.html', 'app': 1000, '_id': ObjectId('5443566e804ad20612a284c5'), 'id': '4711427069', 'desc': u'$2800 / 5br - 1600ft\\xb2 - Single story house near Lake Elizebeth (fremont / union city / newark)'}\n",
        "{'url': 'http://sfbay.craigslist.org/eby/apa/4716014756.html', 'app': 1000, '_id': ObjectId('5443566e804ad20612a284c6'), 'id': '4716014756', 'desc': u'$1786 / 1br - 685ft\\xb2 - Alderwood Park, Wants You As A Resident! (fremont / union city / newark)'}\n",
        "{'url': 'http://sfbay.craigslist.org/eby/apa/4720384339.html', 'app': 1000, '_id': ObjectId('5443566e804ad20612a284c7'), 'id': '4720384339', 'desc': u'$2700 / 3br - 1150ft\\xb2 - Fremont 3 bedroom 2 bath house (fremont / union city / newark)'}\n",
        "{'url': 'http://sfbay.craigslist.org/eby/apa/4710164005.html', 'app': 1000, '_id': ObjectId('5443566e804ad20612a284c8'), 'id': '4710164005', 'desc': u'$1699 / 1br - 685ft\\xb2 - Lovely Place To Call Home! Sparkling pool & relaxing spa!  $300 Dep. (fremont / union city / newark)'}\n",
        "{'url': 'http://sfbay.craigslist.org/eby/apa/4720639560.html', 'app': 1000, '_id': ObjectId('5443566e804ad20612a284c9'), 'id': '4720639560', 'desc': u'$1851 / 1br - 615ft\\xb2 - Will Be Available November 11th! (fremont / union city / newark)'}\n",
        "{'url': 'http://sfbay.craigslist.org/eby/apa/4720615854.html', 'app': 1000, '_id': ObjectId('5443566e804ad20612a284ca'), 'id': '4720615854', 'desc': u'$2355 / 2br - 1108ft\\xb2 - Come See why Mission Peaks II is The Best in Fremont!! (fremont / union city / newark)'}\n",
        "{'url': 'http://sfbay.craigslist.org/eby/apa/4711442471.html', 'app': 1000, '_id': ObjectId('5443566e804ad20612a284cb'), 'id': '4711442471', 'desc': u'$1550 / 1br - 1 bedr apt for 1550 only in Newark   (fremont / union city / newark)'}\n",
        "{'url': 'http://sfbay.craigslist.org/eby/apa/4719168016.html', 'app': 1000, '_id': ObjectId('5443566e804ad20612a284cc'), 'id': '4719168016', 'desc': u'$1795 / 1br - 650ft\\xb2 - Beautiful 1 bedroom with brand new carpet & lino! (fremont / union city / newark)'}\n",
        "{'url': 'http://sfbay.craigslist.org/eby/apa/4697397493.html', 'app': 1000, '_id': ObjectId('5443566e804ad20612a284cd'), 'id': '4697397493', 'desc': u'$1550 / 2br - 750ft\\xb2 - AMAZING 2BED/1BATH AVAILABLE!! (fremont / union city / newark)'}\n",
        "{'url': 'http://sfbay.craigslist.org/eby/apa/4719239533.html', 'app': 1000, '_id': ObjectId('5443566e804ad20612a284ce'), 'id': '4719239533', 'desc': u'$1500 / 1br - 430ft\\xb2 -  1Br/1Ba Suite with Separate Private Kitchen and Entrance \\u7368\\u9662 (fremont / union city / newark)'}\n",
        "{'url': 'http://sfbay.craigslist.org/eby/apa/4711243094.html', 'app': 1000, '_id': ObjectId('5443566e804ad20612a284cf'), 'id': '4711243094', 'desc': u'$1725 / 1br - 710ft\\xb2 - COME BY TODAY! Available for Move- In Today!  (fremont / union city / newark)'}\n",
        "{'url': 'http://sfbay.craigslist.org/eby/apa/4721048597.html', 'app': 1000, '_id': ObjectId('5443566e804ad20612a284d0'), 'id': '4721048597', 'desc': u'$1589 / 1br - A Great Place To Call Home! Great Views! (fremont / union city / newark)'}\n",
        "{'url': 'http://sfbay.craigslist.org/eby/apa/4716135024.html', 'app': 1000, '_id': ObjectId('5443566e804ad20612a284d1'), 'id': '4716135024', 'desc': u'$2,095/mo'}\n",
        "{'url': 'http://sfbay.craigslist.org/eby/apa/4716135024.html', 'app': 1000, '_id': ObjectId('5443566e804ad20612a284d1'), 'id': '4716135024', 'desc': u'$2,095/mo'}\n",
        "{'url': 'http://sfbay.craigslist.org/eby/apa/4721009101.html', 'app': 1000, '_id': ObjectId('5443566e804ad20612a284d2'), 'id': '4721009101', 'desc': u'$2385 / 2br - 1096ft\\xb2 - Looking for an Easy Commute?...BART is around the corner! (fremont / union city / newark)'}\n",
        "{'url': 'http://sfbay.craigslist.org/eby/apa/4711238589.html', 'app': 1000, '_id': ObjectId('5443566e804ad20612a284d3'), 'id': '4711238589', 'desc': u'$1625 / 1br - 630ft\\xb2 - Beautiful Niles Community! Upstairs  Move-In October 23th! (fremont / union city / newark)'}"
       ]
      },
      {
       "output_type": "stream",
       "stream": "stdout",
       "text": [
        "\n",
        "{'url': 'http://sfbay.craigslist.org/eby/apa/4715828086.html', 'app': 1000, '_id': ObjectId('5443566e804ad20612a284d4'), 'id': '4715828086', 'desc': u'$2193 Fully Furnished Studio - $2193.00/Month (fremont / union city / newark)'}\n",
        "{'url': 'http://sfbay.craigslist.org/eby/apa/4716850586.html', 'app': 1000, '_id': ObjectId('5443566e804ad20612a284d5'), 'id': '4716850586', 'desc': u'$2495 / 5br - 1600ft\\xb2 - Remodeled 5 bedrooms home Union City (fremont / union city / newark)'}\n",
        "{'url': 'http://sfbay.craigslist.org/eby/apa/4716603113.html', 'app': 1000, '_id': ObjectId('5443566e804ad20612a284d6'), 'id': '4716603113', 'desc': u'$2400 / 3br - 1400ft\\xb2 - Beautiful, Spacious 3 Bed 2 Bath House in Fremont (fremont / union city / newark)'}\n",
        "{'url': 'http://sfbay.craigslist.org/eby/apa/4717573101.html', 'app': 1000, '_id': ObjectId('5443566e804ad20612a284d7'), 'id': '4717573101', 'desc': u'$2500 / 3br - 1550ft\\xb2 - Beautiful house, close to Dumbarton Bridge(Facebook), shopping center  (fremont / union city / newark)'}\n",
        "{'url': 'http://sfbay.craigslist.org/eby/apa/4720996606.html', 'app': 1000, '_id': ObjectId('5443566e804ad20612a284d8'), 'id': '4720996606', 'desc': u'$2351 / 2br - 985ft\\xb2 - Spacious and Amazing.. talk about luxury! (fremont / union city / newark)'}\n",
        "{'url': 'http://sfbay.craigslist.org/eby/apa/4720639373.html', 'app': 1000, '_id': ObjectId('5443566e804ad20612a284d9'), 'id': '4720639373', 'desc': u'$2355 / 2br - 900ft\\xb2 - Spacious, open, amazing floor plans!  (fremont / union city / newark)'}\n",
        "{'url': 'http://sfbay.craigslist.org/eby/apa/4715776465.html', 'app': 1000, '_id': ObjectId('5443566e804ad20612a284da'), 'id': '4715776465', 'desc': u'$2800 / 3br - 1752ft\\xb2 - Nor Cal Realty Inc - 3 bedroom 2.5 bath Single family home (fremont / union city / newark)'}\n",
        "{'url': 'http://sfbay.craigslist.org/eby/apa/4720917195.html', 'app': 1000, '_id': ObjectId('5443566e804ad20612a284db'), 'id': '4720917195', 'desc': u'$1786 / 1br - 685ft\\xb2 - STUNNING 1ST/ FLOOR 1BED/ READY TO MOVE IN SEPT 5TH! (fremont / union city / newark)'}\n",
        "{'url': 'http://sfbay.craigslist.org/eby/apa/4719055408.html', 'app': 1000, '_id': ObjectId('5443566e804ad20612a284dc'), 'id': '4719055408', 'desc': u'$2000 / 2br - 894ft\\xb2 - Coming Soon! Reserve Your New Home Now... (fremont / union city / newark)'}\n",
        "{'url': 'http://sfbay.craigslist.org/eby/apa/4720640783.html', 'app': 1000, '_id': ObjectId('5443566e804ad20612a284dd'), 'id': '4720640783', 'desc': u'$1923 / 2br - 785ft\\xb2 - Available November 1st!!! (fremont / union city / newark)'}\n",
        "{'url': 'http://sfbay.craigslist.org/eby/apa/4698067143.html', 'app': 1000, '_id': ObjectId('5443566e804ad20612a284de'), 'id': '4698067143', 'desc': u'$2,515/mo'}\n",
        "{'url': 'http://sfbay.craigslist.org/eby/apa/4698067143.html', 'app': 1000, '_id': ObjectId('5443566e804ad20612a284de'), 'id': '4698067143', 'desc': u'$2,515/mo'}\n",
        "{'url': 'http://sfbay.craigslist.org/eby/apa/4716544304.html', 'app': 1000, '_id': ObjectId('5443566e804ad20612a284df'), 'id': '4716544304', 'desc': u'$2295 / 2br - 980ft\\xb2 - \\u263aFEEL THE WARMTH HERE AT RANCHO LUNA/SOL (fremont / union city / newark)'}\n",
        "{'url': 'http://sfbay.craigslist.org/eby/apa/4721015477.html', 'app': 1000, '_id': ObjectId('5443566e804ad20612a284e0'), 'id': '4721015477', 'desc': u'$1795 / 1br - BEAUTIFUL 1 BEDROOM AT QUIET NEIGHBORHOOD IN FREMONT!  (fremont / union city / newark)'}\n",
        "{'url': 'http://sfbay.craigslist.org/eby/apa/4721286965.html', 'app': 1000, '_id': ObjectId('5443566e804ad20612a284e1'), 'id': '4721286965', 'desc': u'$3,100/mo'}\n",
        "{'url': 'http://sfbay.craigslist.org/eby/apa/4721286965.html', 'app': 1000, '_id': ObjectId('5443566e804ad20612a284e1'), 'id': '4721286965', 'desc': u'$3,100/mo'}\n",
        "{'url': 'http://sfbay.craigslist.org/eby/apa/4713256188.html', 'app': 1000, '_id': ObjectId('5443566e804ad20612a284e2'), 'id': '4713256188', 'desc': u'$2750 / 6br - 2000ft\\xb2 - Fremont \\u4e2d\\u5fc36\\u5367\\u5927\\u623f\\u51fa\\u79df (fremont / union city / newark)'}\n",
        "{'url': 'http://sfbay.craigslist.org/eby/apa/4720885262.html', 'app': 1000, '_id': ObjectId('5443566e804ad20612a284e3'), 'id': '4720885262', 'desc': u'$2744 / 2br - 1184ft\\xb2 - Relax by our pool & spa just outside your new apartment home! (fremont / union city / newark)'}\n",
        "{'url': 'http://sfbay.craigslist.org/eby/apa/4712299524.html', 'app': 1000, '_id': ObjectId('5443566e804ad20612a284e4'), 'id': '4712299524', 'desc': u'$3,100/mo'}\n",
        "{'url': 'http://sfbay.craigslist.org/eby/apa/4712299524.html', 'app': 1000, '_id': ObjectId('5443566e804ad20612a284e4'), 'id': '4712299524', 'desc': u'$3,100/mo'}\n",
        "{'url': 'http://sfbay.craigslist.org/eby/apa/4717653735.html', 'app': 1000, '_id': ObjectId('5443566e804ad20612a284e5'), 'id': '4717653735', 'desc': u'$2,695/mo'}\n",
        "{'url': 'http://sfbay.craigslist.org/eby/apa/4717653735.html', 'app': 1000, '_id': ObjectId('5443566e804ad20612a284e5'), 'id': '4717653735', 'desc': u'$2,695/mo'}\n",
        "{'url': 'http://sfbay.craigslist.org/eby/apa/4713662926.html', 'app': 1000, '_id': ObjectId('5443566e804ad20612a284e6'), 'id': '4713662926', 'desc': u'$2500 / 2br - 1040ft\\xb2 - \\u9ad8\\u7d1aCondo\\u51fa\\u79df2\\u623f2\\u6d74 \\u8fd1BART (fremont / union city / newark)'}\n",
        "{'url': 'http://sfbay.craigslist.org/eby/apa/4720534239.html', 'app': 1000, '_id': ObjectId('5443566e804ad20612a284e7'), 'id': '4720534239', 'desc': u'$1965 / 2br - 830ft\\xb2 - Ready to Rent! (fremont / union city / newark)'}\n",
        "{'url': 'http://sfbay.craigslist.org/eby/apa/4721100755.html', 'app': 1000, '_id': ObjectId('5443566e804ad20612a284e8'), 'id': '4721100755', 'desc': u'$2259 / 2br - UNWIND AFTER A LONG DAY IN YOUR STYLISH AND SERENE ENVIRONMENT! (fremont / union city / newark)'}\n",
        "{'url': 'http://sfbay.craigslist.org/eby/apa/4711067392.html', 'app': 1000, '_id': ObjectId('5443566e804ad20612a284e9'), 'id': '4711067392', 'desc': u'$1950 / 1br - 710ft\\xb2 - Luxurious Homes, Near Public Parks, Parkmont Schools (fremont / union city / newark)'}\n",
        "{'url': 'http://sfbay.craigslist.org/eby/apa/4720363448.html', 'app': 1000, '_id': ObjectId('5443566e804ad20612a284ea'), 'id': '4720363448', 'desc': u'$2500 / 2br - 1475ft\\xb2 - Remodel Union City Townhouse with 2 car garage (fremont / union city / newark)'}\n",
        "{'url': 'http://sfbay.craigslist.org/eby/apa/4721102115.html', 'app': 1000, '_id': ObjectId('5443566e804ad20612a284eb'), 'id': '4721102115', 'desc': u'$3000 / 3br - 1400ft\\xb2 - Beautiful Fremont Home For Rent  (fremont / union city / newark)'}\n",
        "{'url': 'http://sfbay.craigslist.org/eby/apa/4721002243.html', 'app': 1000, '_id': ObjectId('5443566e804ad20612a284ec'), 'id': '4721002243', 'desc': u'$2815 / 2br - 1147ft\\xb2 - BART Next Door, Parkmont & The Hub Nearby... Welcome Home To Watermark (fremont / union city / newark)'}\n",
        "{'url': 'http://sfbay.craigslist.org/eby/apa/4716066963.html', 'app': 1000, '_id': ObjectId('5443566e804ad20612a284ed'), 'id': '4716066963', 'desc': u'$1700 / 1br - 650ft\\xb2 - Ready to Rent! (fremont / union city / newark)'}\n",
        "{'url': 'http://sfbay.craigslist.org/eby/apa/4717618384.html', 'app': 1000, '_id': ObjectId('5443566e804ad20612a284ee'), 'id': '4717618384', 'desc': u'$2459 / 1br - 877ft\\xb2 - Charming apartment homes w/spacious and open kitchen layout! (fremont / union city / newark)'}\n",
        "{'url': 'http://sfbay.craigslist.org/eby/apa/4721028602.html', 'app': 1000, '_id': ObjectId('5443566e804ad20612a284ef'), 'id': '4721028602', 'desc': u'$1698 / 1br - PARK-LIKE LANDSCAPING, ENJOY THE QUIET, SCENIC SURROUNDINGS  (fremont / union city / newark)'}\n",
        "{'url': 'http://sfbay.craigslist.org/eby/apa/4719489325.html', 'app': 1000, '_id': ObjectId('5443566e804ad20612a284f0'), 'id': '4719489325', 'desc': u'$2796 / 3br - 1100ft\\xb2 - Come home to green lawns at Pathfinder Village! (fremont / union city / newark)'}\n",
        "{'url': 'http://sfbay.craigslist.org/eby/apa/4720611645.html', 'app': 1000, '_id': ObjectId('5443566e804ad20612a284f1'), 'id': '4720611645', 'desc': u'$1565 / 1br - 660ft\\xb2 - Amazing Second Floor One Bedroom Apt Home... (fremont / union city / newark)'}\n",
        "{'url': 'http://sfbay.craigslist.org/eby/apa/4716172234.html', 'app': 1000, '_id': ObjectId('5443566e804ad20612a284f2'), 'id': '4716172234', 'desc': u'$1930 / 760ft\\xb2 - Are You Ready To Move..Waterstone@Fremont (fremont / union city / newark)'}"
       ]
      },
      {
       "output_type": "stream",
       "stream": "stdout",
       "text": [
        "\n",
        "{'url': 'http://sfbay.craigslist.org/eby/apa/4719323239.html', 'app': 1000, '_id': ObjectId('5443566e804ad20612a284f3'), 'id': '4719323239', 'desc': u'$2950 / 3br - 1489ft\\xb2 - Beautiful  Single Family Home at Ardenwood (fremont / union city / newark)'}\n",
        "{'url': 'http://sfbay.craigslist.org/eby/apa/4706347153.html', 'app': 1000, '_id': ObjectId('5443566e804ad20612a284f4'), 'id': '4706347153', 'desc': u'$3150 / 3br - 1540ft\\xb2 - Mission SanJose- 3BR, 2 Baths, 1540 SF  (fremont / union city / newark)'}\n",
        "{'url': 'http://sfbay.craigslist.org/eby/apa/4713587740.html', 'app': 1000, '_id': ObjectId('5443566e804ad20612a284f5'), 'id': '4713587740', 'desc': u'$1650 / 1br - 760ft\\xb2 - New Apartment/Condo Near Bart Fremont! (fremont / union city / newark)'}\n",
        "{'url': 'http://sfbay.craigslist.org/eby/apa/4710459519.html', 'app': 1000, '_id': ObjectId('5443566e804ad20612a284f6'), 'id': '4710459519', 'desc': u'$3400 / 3br - 2100ft\\xb2 - MISSION: ANTELOPE HILLS 3 BR 2 1/5 BATH  (fremont / union city / newark)'}\n",
        "{'url': 'http://sfbay.craigslist.org/eby/apa/4720780184.html', 'app': 1000, '_id': ObjectId('5443566e804ad20612a284f7'), 'id': '4720780184', 'desc': u'$2098 / 1br - 829ft\\xb2 - Marvelous 1 bed apartment near Fremont BART!  (fremont / union city / newark)'}\n",
        "{'url': 'http://sfbay.craigslist.org/eby/apa/4709166878.html', 'app': 1000, '_id': ObjectId('5443566e804ad20612a284f8'), 'id': '4709166878', 'desc': u\"$3000 / 3br - 1600ft\\xb2 - Entertainer's delight - Centrally located fabulously upgraded home (fremont / union city / newark)\"}\n",
        "{'url': 'http://sfbay.craigslist.org/eby/apa/4716658938.html', 'app': 1000, '_id': ObjectId('5443566e804ad20612a284f9'), 'id': '4716658938', 'desc': u'$3,100/mo'}\n",
        "{'url': 'http://sfbay.craigslist.org/eby/apa/4716658938.html', 'app': 1000, '_id': ObjectId('5443566e804ad20612a284f9'), 'id': '4716658938', 'desc': u'$3,100/mo'}\n",
        "{'url': 'http://sfbay.craigslist.org/eby/apa/4721186944.html', 'app': 1000, '_id': ObjectId('5443566e804ad20612a284fa'), 'id': '4721186944', 'desc': u'$1698 / 1br - RESORT LIVING IN A SERENE PARK SETTING  (fremont / union city / newark)'}\n",
        "{'url': 'http://sfbay.craigslist.org/eby/apa/4691387359.html', 'app': 1000, '_id': ObjectId('5443566e804ad20612a284fb'), 'id': '4691387359', 'desc': u'$1625 / 1br - 630ft\\xb2 - Beautiful Niles Community! Downstairs Immediate Move-In ! (fremont / union city / newark)'}"
       ]
      },
      {
       "output_type": "stream",
       "stream": "stdout",
       "text": [
        "\n",
        "{'url': 'http://sfbay.craigslist.org/eby/apa/4718268865.html', 'app': 1000, '_id': ObjectId('5443566e804ad20612a284fc'), 'id': '4718268865', 'desc': u'$3600 / 5br - 2000ft\\xb2 - Beautiful 5 bedroom 3 bath house $3,600.00 with lots of upgrades (fremont / union city / newark)'}\n",
        "{'url': 'http://sfbay.craigslist.org/eby/apa/4720627806.html', 'app': 1000, '_id': ObjectId('5443566e804ad20612a284fd'), 'id': '4720627806', 'desc': u'$1698 / 1br - DESIGNER INTERIOR, SPACIOUS FLOOR PLANS AND AMAZING AMENITIES (fremont / union city / newark)'}\n",
        "{'url': 'http://sfbay.craigslist.org/eby/apa/4711731689.html', 'app': 1000, '_id': ObjectId('5443566e804ad20612a284fe'), 'id': '4711731689', 'desc': u'$1698 / 1br - RESORT LIVING IN A SERENE PARK SETTING (fremont / union city / newark)'}\n",
        "{'url': 'http://sfbay.craigslist.org/eby/apa/4718175757.html', 'app': 1000, '_id': ObjectId('5443566e804ad20612a284ff'), 'id': '4718175757', 'desc': u'$1650 / 2br - 750ft\\xb2 - GREAT 2 BEDROOMS DUPLEX  WITH GARAGE AND LARGE BACK YARD (fremont / union city / newark)'}\n",
        "{'url': 'http://sfbay.craigslist.org/eby/apa/4708874045.html', 'app': 1000, '_id': ObjectId('5443566e804ad20612a28500'), 'id': '4708874045', 'desc': u'$2300 / 3br - 1500ft\\xb2 - Charming Ranch Style Home (fremont / union city / newark)'}\n",
        "{'url': 'http://sfbay.craigslist.org/eby/apa/4715923768.html', 'app': 1000, '_id': ObjectId('5443566e804ad20612a28501'), 'id': '4715923768', 'desc': u'$885 / 1br - Niles cottage (fremont / union city / newark)'}\n",
        "{'url': 'http://sfbay.craigslist.org/eby/apa/4717691905.html', 'app': 1000, '_id': ObjectId('5443566e804ad20612a28502'), 'id': '4717691905', 'desc': u'$2,150/mo'}\n",
        "{'url': 'http://sfbay.craigslist.org/eby/apa/4717691905.html', 'app': 1000, '_id': ObjectId('5443566e804ad20612a28502'), 'id': '4717691905', 'desc': u'$2,150/mo'}\n",
        "{'url': 'http://sfbay.craigslist.org/eby/apa/4684119955.html', 'app': 1000, '_id': ObjectId('5443566e804ad20612a28503'), 'id': '4684119955', 'desc': u'$2400 / 3br - 1576ft\\xb2 - Fremont Brookvale house (fremont / union city / newark)'}\n",
        "{'url': 'http://sfbay.craigslist.org/eby/apa/4720818552.html', 'app': 1000, '_id': ObjectId('5443566e804ad20612a28504'), 'id': '4720818552', 'desc': u'$2300 / 2br - 890ft\\xb2 - *Carriage House* Gated Community in a Quiet and Friendly Neighborhood! (fremont / union city / newark)'}\n",
        "{'url': 'http://sfbay.craigslist.org/eby/apa/4710369193.html', 'app': 1000, '_id': ObjectId('5443566e804ad20612a28505'), 'id': '4710369193', 'desc': u'$1923 / 2br - 785ft\\xb2 - Only One Available November 1st (fremont / union city / newark)'}\n",
        "{'url': 'http://sfbay.craigslist.org/eby/apa/4721134568.html', 'app': 1000, '_id': ObjectId('5443566e804ad20612a28506'), 'id': '4721134568', 'desc': u'$1985 / 1br - 683ft\\xb2 - Get ready for December! One bedroom with storage available! (fremont / union city / newark)'}\n",
        "{'url': 'http://sfbay.craigslist.org/eby/apa/4715000264.html', 'app': 1000, '_id': ObjectId('5443566e804ad20612a28507'), 'id': '4715000264', 'desc': u'$1760 / 1br - AMAZING AMENITIES IN A PARK-LIKE COMMUNITY (fremont / union city / newark)'}\n",
        "{'url': 'http://sfbay.craigslist.org/eby/apa/4719065655.html', 'app': 1000, '_id': ObjectId('5443566e804ad20612a28508'), 'id': '4719065655', 'desc': u'$2400 / 2br - 1150ft\\xb2 - Sub-Leasing 2 Bed Room Apartment Starting October 31 (AVALON Apartment (fremont / union city / newark)'}\n",
        "{'url': 'http://sfbay.craigslist.org/eby/apa/4712998954.html', 'app': 1000, '_id': ObjectId('5443566e804ad20612a28509'), 'id': '4712998954', 'desc': u'$2500 / 3br - 1475ft\\xb2 - Updated Nice Town Home 4 Lease in Fremont! (fremont / union city / newark)'}\n",
        "{'url': 'http://sfbay.craigslist.org/eby/apa/4720971062.html', 'app': 1000, '_id': ObjectId('5443566e804ad20612a2850a'), 'id': '4720971062', 'desc': u'$2163 / 2br - 985ft\\xb2 - Enjoy Separate Dining Rooms in our BR Apartments (fremont / union city / newark)'}\n",
        "{'url': 'http://sfbay.craigslist.org/eby/apa/4710068294.html', 'app': 1000, '_id': ObjectId('5443566e804ad20612a2850b'), 'id': '4710068294', 'desc': u'$2150 / 2br - PARK-LIKE SETTING IN PRIME LOCATION, DESIGNER 2 BR (fremont / union city / newark)'}\n",
        "{'url': 'http://sfbay.craigslist.org/eby/apa/4718342445.html', 'app': 1000, '_id': ObjectId('5443566e804ad20612a2850c'), 'id': '4718342445', 'desc': u'$3400 / 5br - 2880ft\\xb2 - ??? Stunning Semi-Custom Home ??? (fremont / union city / newark)'}\n",
        "{'url': 'http://sfbay.craigslist.org/eby/apa/4713260679.html', 'app': 1000, '_id': ObjectId('5443566e804ad20612a2850d'), 'id': '4713260679', 'desc': u'$2750 / 6br - 2000ft\\xb2 - Single Family House at Central Fremont (fremont / union city / newark)'}\n",
        "{'url': 'http://sfbay.craigslist.org/eby/apa/4712586884.html', 'app': 1000, '_id': ObjectId('5443566e804ad20612a2850e'), 'id': '4712586884', 'desc': u'$2295 / 2br - 1004ft\\xb2 - \\u2665LOOKING FOR PEACE AND QUIET\\u2665 COME AND TOUR TODAY\\u2665 (fremont / union city / newark)'}\n",
        "{'url': 'http://sfbay.craigslist.org/eby/apa/4720621095.html', 'app': 1000, '_id': ObjectId('5443566e804ad20612a2850f'), 'id': '4720621095', 'desc': u'$2620 / 2br - 982ft\\xb2 - Commuting? Amazing apartment home near Fremont Bart! (fremont / union city / newark)'}\n",
        "{'url': 'http://sfbay.craigslist.org/eby/apa/4710320249.html', 'app': 1000, '_id': ObjectId('5443566e804ad20612a28510'), 'id': '4710320249', 'desc': u'$2295 / 2br - 980ft\\xb2 - \\u2666\\u263aBRAND NEW EVERYTHING!\\u2666\\u263a (fremont / union city / newark)'}\n",
        "{'url': 'http://sfbay.craigslist.org/eby/apa/4675852525.html', 'app': 1000, '_id': ObjectId('5443566e804ad20612a28511'), 'id': '4675852525', 'desc': u'$3500 / 4br - 2094ft\\xb2 - Newly Built 4 Bed/3.5 Bath Single Home in Fremont Irvington (fremont / union city / newark)'}\n",
        "{'url': 'http://sfbay.craigslist.org/eby/apa/4712560073.html', 'app': 1000, '_id': ObjectId('5443566e804ad20612a28512'), 'id': '4712560073', 'desc': u'$2395 / 2br - 980ft\\xb2 - \\u263bBART RIDERS DREAM/CLOSE TO SHOPPING\\u263b (fremont / union city / newark)'}\n",
        "{'url': 'http://sfbay.craigslist.org/eby/apa/4698874935.html', 'app': 1000, '_id': ObjectId('5443566e804ad20612a28513'), 'id': '4698874935', 'desc': u'$2999 / 4br - 1922ft\\xb2 - luxuary 4bed 2 bath union city $,2,999 first month (fremont / union city / newark)'}\n",
        "{'url': 'http://sfbay.craigslist.org/eby/apa/4719685180.html', 'app': 1000, '_id': ObjectId('5443566e804ad20612a28514'), 'id': '4719685180', 'desc': u'$2645 / 2br - 1179ft\\xb2 - A Great Place To Call Home! (fremont / union city / newark)'}\n",
        "{'url': 'http://sfbay.craigslist.org/eby/apa/4697859201.html', 'app': 1000, '_id': ObjectId('5443566e804ad20612a28515'), 'id': '4697859201', 'desc': u'$3,300/mo'}\n",
        "{'url': 'http://sfbay.craigslist.org/eby/apa/4697859201.html', 'app': 1000, '_id': ObjectId('5443566e804ad20612a28515'), 'id': '4697859201', 'desc': u'$3,300/mo'}\n",
        "{'url': 'http://sfbay.craigslist.org/eby/apa/4710371000.html', 'app': 1000, '_id': ObjectId('5443566e804ad20612a28516'), 'id': '4710371000', 'desc': u'$2068 / 2br - 895ft\\xb2 - Large Dual Floor Plan First Availability October 15th  (fremont / union city / newark)'}\n",
        "{'url': 'http://sfbay.craigslist.org/eby/apa/4711401643.html', 'app': 1000, '_id': ObjectId('5443566e804ad20612a28517'), 'id': '4711401643', 'desc': u'$2095 / 2br - 850ft\\xb2 - 2 bed 1 bath  (fremont / union city / newark)'}\n",
        "{'url': 'http://sfbay.craigslist.org/eby/apa/4713599979.html', 'app': 1000, '_id': ObjectId('5443566e804ad20612a28518'), 'id': '4713599979', 'desc': u'$3450 / 3br - 1700ft\\xb2 - Brand New Single Family Home (fremont / union city / newark)'}\n",
        "{'url': 'http://sfbay.craigslist.org/eby/apa/4718980244.html', 'app': 1000, '_id': ObjectId('5443566e804ad20612a28519'), 'id': '4718980244', 'desc': u'$2425 / 2br - 1010ft\\xb2 - Outstanding Location, Heated Pool, Sauna, Pets Welcome (fremont / union city / newark)'}\n",
        "{'url': 'http://sfbay.craigslist.org/eby/apa/4720935262.html', 'app': 1000, '_id': ObjectId('5443566e804ad20612a2851a'), 'id': '4720935262', 'desc': u'$2620 / 2br - 982ft\\xb2 - Living at its best! Come see your new home today! (fremont / union city / newark)'}\n",
        "{'url': 'http://sfbay.craigslist.org/eby/apa/4715854469.html', 'app': 1000, '_id': ObjectId('5443566e804ad20612a2851b'), 'id': '4715854469', 'desc': u'$1760 / 1br - RESORT LIVING IN SERENE PARK SETTING  (fremont / union city / newark)'}"
       ]
      },
      {
       "output_type": "stream",
       "stream": "stdout",
       "text": [
        "\n",
        "{'url': 'http://sfbay.craigslist.org/eby/apa/4698040171.html', 'app': 1000, '_id': ObjectId('5443566e804ad20612a2851c'), 'id': '4698040171', 'desc': u'$2,315/mo'}\n",
        "{'url': 'http://sfbay.craigslist.org/eby/apa/4698040171.html', 'app': 1000, '_id': ObjectId('5443566e804ad20612a2851c'), 'id': '4698040171', 'desc': u'$2,315/mo'}\n",
        "{'url': 'http://sfbay.craigslist.org/eby/apa/4720999648.html', 'app': 1000, '_id': ObjectId('5443566e804ad20612a2851d'), 'id': '4720999648', 'desc': u'$2618 / 3br - 1320ft\\xb2 - 3BD/2BA Apartment with Quartz Countertops (fremont / union city / newark)'}\n",
        "{'url': 'http://sfbay.craigslist.org/eby/apa/4706955374.html', 'app': 1000, '_id': ObjectId('5443566e804ad20612a2851e'), 'id': '4706955374', 'desc': u'$2400 / 3br - 1180ft\\xb2 - 3 Bedroom Union City Home (fremont / union city / newark)'}\n",
        "{'url': 'http://sfbay.craigslist.org/eby/apa/4719745304.html', 'app': 1000, '_id': ObjectId('5443566e804ad20612a2851f'), 'id': '4719745304', 'desc': u'$2259 / 2br - COME EXPERIENCE CONVENIENT AND PEACEFUL LIVING THAT AWAITS YOU (fremont / union city / newark)'}\n",
        "{'url': 'http://sfbay.craigslist.org/eby/apa/4715854595.html', 'app': 1000, '_id': ObjectId('5443566e804ad20612a28520'), 'id': '4715854595', 'desc': u'$2300 / 3br - 1280ft\\xb2 - 3 Bedrooms, 1.5 Bathrooms Townhouse available for rent in Union City (fremont / union city / newark)'}\n",
        "{'url': 'http://sfbay.craigslist.org/eby/apa/4712627279.html', 'app': 1000, '_id': ObjectId('5443566e804ad20612a28521'), 'id': '4712627279', 'desc': u'$3500 / 4br - 2000ft\\xb2 - Executive Living Ranch Style Single Family (fremont / union city / newark)'}\n",
        "{'url': 'http://sfbay.craigslist.org/eby/apa/4719209534.html', 'app': 1000, '_id': ObjectId('5443566e804ad20612a28522'), 'id': '4719209534', 'desc': u'$2277 / 2br - 975ft\\xb2 - Newly Remodeled 2 bdrm & 2 bthrms with washer & dryer! Call Today! (fremont / union city / newark)'}\n",
        "{'url': 'http://sfbay.craigslist.org/eby/apa/4720955678.html', 'app': 1000, '_id': ObjectId('5443566e804ad20612a28523'), 'id': '4720955678', 'desc': u'$2375 / 2br - 1065ft\\xb2 - Stunning 2 bedrooms available now! Near BART! Dont Miss Out! (fremont / union city / newark)'}\n",
        "{'url': 'http://sfbay.craigslist.org/eby/apa/4720596089.html', 'app': 1000, '_id': ObjectId('5443566e804ad20612a28524'), 'id': '4720596089', 'desc': u'$2375 / 3br - 1372ft\\xb2 - 3 bedrooms for rent in Fremont CA 94536 (fremont / union city / newark)'}\n",
        "{'url': 'http://sfbay.craigslist.org/eby/apa/4714259431.html', 'app': 1000, '_id': ObjectId('5443566e804ad20612a28525'), 'id': '4714259431', 'desc': u'$1698 / 1br - RESORT STYLE LIVING IN A PRIME FREMONT LOCATION  (fremont / union city / newark)'}\n",
        "{'url': 'http://sfbay.craigslist.org/eby/apa/4719240713.html', 'app': 1000, '_id': ObjectId('5443566e804ad20612a28526'), 'id': '4719240713', 'desc': u'$2026 / 1br - 738ft\\xb2 - Looking For Convenience?...Come to Paragon! (fremont / union city / newark)'}\n",
        "{'url': 'http://sfbay.craigslist.org/eby/apa/4718079341.html', 'app': 1000, '_id': ObjectId('5443566e804ad20612a28527'), 'id': '4718079341', 'desc': u'$2399 / 2br - 850ft\\xb2 - Make The Woods Your Home Today...Call NOW!! (fremont / union city / newark)'}\n",
        "{'url': 'http://sfbay.craigslist.org/eby/apa/4715855732.html', 'app': 1000, '_id': ObjectId('5443566e804ad20612a28528'), 'id': '4715855732', 'desc': u'$2295 / 2br - 1004ft\\xb2 - \\u263bBART RIDERS DREAM/CLOSE TO SHOPPING\\u263b (fremont / union city / newark)'}\n",
        "{'url': 'http://sfbay.craigslist.org/eby/apa/4716425083.html', 'app': 1000, '_id': ObjectId('5443566e804ad20612a28529'), 'id': '4716425083', 'desc': u'$2360 / 2br - 1050ft\\xb2 - FREMONT ARDENWOOD CONDO! (fremont / union city / newark)'}\n",
        "{'url': 'http://sfbay.craigslist.org/eby/apa/4713151241.html', 'app': 1000, '_id': ObjectId('5443566e804ad20612a2852a'), 'id': '4713151241', 'desc': u'$2295 / 2br - 1004ft\\xb2 - \\u2666TOUR TODAY AND ENJOY BEAUTIFULLY RENOVATED APT HOMES\\u2666 (fremont / union city / newark)'}\n",
        "{'url': 'http://sfbay.craigslist.org/eby/apa/4711216233.html', 'app': 1000, '_id': ObjectId('5443566e804ad20612a2852b'), 'id': '4711216233', 'desc': u'$1845 / 1br - Ready to move in call now for an appointment!!!! (fremont / union city / newark)'}\n",
        "{'url': 'http://sfbay.craigslist.org/eby/apa/4721382446.html', 'app': 1000, '_id': ObjectId('5443566e804ad20612a2852c'), 'id': '4721382446', 'desc': u'$2950 / 4br - 1625ft\\xb2 - BEAUTIFUL Parkmont Home 4BR/2BA - SUNDAY OPEN HOUSE! (fremont / union city / newark)'}\n",
        "{'url': 'http://sfbay.craigslist.org/eby/apa/4721161562.html', 'app': 1000, '_id': ObjectId('5443566e804ad20612a2852d'), 'id': '4721161562', 'desc': u'$2616 / 3br - 1320ft\\xb2 - 3BD/2BA Apartment with Quartz Countertops (fremont / union city / newark)'}\n",
        "{'url': 'http://sfbay.craigslist.org/eby/apa/4719053083.html', 'app': 1000, '_id': ObjectId('5443566e804ad20612a2852e'), 'id': '4719053083', 'desc': u'$2616 / 3br - 1320ft\\xb2 - 3BD/2BA Apartment with Quartz Countertops (fremont / union city / newark)'}\n",
        "{'url': 'http://sfbay.craigslist.org/eby/apa/4717606226.html', 'app': 1000, '_id': ObjectId('5443566e804ad20612a2852f'), 'id': '4717606226', 'desc': u'$1665 / 1br - 650ft\\xb2 - No Fooling Around! Fantastic Prices! (fremont / union city / newark)'}\n",
        "{'url': 'http://sfbay.craigslist.org/eby/apa/4721087771.html', 'app': 1000, '_id': ObjectId('5443566e804ad20612a28530'), 'id': '4721087771', 'desc': u'$1950 / 2br - 800ft\\xb2 - We Offer Upstairs And Downstairs Units Available! (fremont / union city / newark)'}\n",
        "{'url': 'http://sfbay.craigslist.org/eby/apa/4714405729.html', 'app': 1000, '_id': ObjectId('5443566e804ad20612a28531'), 'id': '4714405729', 'desc': u'$2,445/mo'}\n",
        "{'url': 'http://sfbay.craigslist.org/eby/apa/4714405729.html', 'app': 1000, '_id': ObjectId('5443566e804ad20612a28531'), 'id': '4714405729', 'desc': u'$2,445/mo'}\n",
        "{'url': 'http://sfbay.craigslist.org/eby/apa/4716807602.html', 'app': 1000, '_id': ObjectId('5443566e804ad20612a28532'), 'id': '4716807602', 'desc': u'$2500 / 3br - House For Rent In Mission San jose Fremont (fremont / union city / newark)'}\n",
        "{'url': 'http://sfbay.craigslist.org/eby/apa/4719903999.html', 'app': 1000, '_id': ObjectId('5443566e804ad20612a28533'), 'id': '4719903999', 'desc': u'$3200 / 4br - 2000ft\\xb2 - Elegant and Spacious 4 BR/2.5 BA Single Family Home in Fremont  (fremont / union city / newark)'}\n",
        "{'url': 'http://sfbay.craigslist.org/eby/apa/4716882876.html', 'app': 1000, '_id': ObjectId('5443566e804ad20612a28534'), 'id': '4716882876', 'desc': u'$2200 / 2br - 2Bath, 934 sqft, Condo with 1 car garage (fremont / union city / newark)'}\n",
        "{'url': 'http://sfbay.craigslist.org/eby/apa/4715894084.html', 'app': 1000, '_id': ObjectId('5443566e804ad20612a28535'), 'id': '4715894084', 'desc': u'$2240 / 2br - 975ft\\xb2 - Newly Remodeled 2 bdrm & 2 bathroom with washer & dryer! Call Today! (fremont / union city / newark)'}\n",
        "{'url': 'http://sfbay.craigslist.org/eby/apa/4710499204.html', 'app': 1000, '_id': ObjectId('5443566e804ad20612a28536'), 'id': '4710499204', 'desc': u'$2300 / 2br - 890ft\\xb2 - *Carriage House* Gated Community in a Quiet and Friendly Neighborhood! (fremont / union city / newark)'}\n",
        "{'url': 'http://sfbay.craigslist.org/eby/apa/4718164387.html', 'app': 1000, '_id': ObjectId('5443566e804ad20612a28537'), 'id': '4718164387', 'desc': u'$3,500/mo'}\n",
        "{'url': 'http://sfbay.craigslist.org/eby/apa/4718164387.html', 'app': 1000, '_id': ObjectId('5443566e804ad20612a28537'), 'id': '4718164387', 'desc': u'$3,500/mo'}\n",
        "{'url': 'http://sfbay.craigslist.org/eby/apa/4719262871.html', 'app': 1000, '_id': ObjectId('5443566e804ad20612a28538'), 'id': '4719262871', 'desc': u'$1786 / 1br - 685ft\\xb2 - Looking To Move Mid October? This 2nd Floor 1 Bedroom Will Be Ready! (fremont / union city / newark)'}\n",
        "{'url': 'http://sfbay.craigslist.org/eby/apa/4719373853.html', 'app': 1000, '_id': ObjectId('5443566e804ad20612a28539'), 'id': '4719373853', 'desc': u'$2249 / 2br - ~FALL IN LOVE WITH OUR  AWARD WINNING COMMUNITY~ (fremont / union city / newark)'}\n",
        "{'url': 'http://sfbay.craigslist.org/eby/apa/4717850427.html', 'app': 1000, '_id': ObjectId('5443566e804ad20612a2853a'), 'id': '4717850427', 'desc': u'$1865 / 1br - 760ft\\xb2 - Are You Ready To Move..Waterstone@Fremont (fremont / union city / newark)'}\n",
        "{'url': 'http://sfbay.craigslist.org/eby/apa/4719087534.html', 'app': 1000, '_id': ObjectId('5443566e804ad20612a2853b'), 'id': '4719087534', 'desc': u'$2175 / 2br - 850ft\\xb2 -  HOW CAN YOU SAY NO TO THIS COZY 2BED/1BATH @ALDERWOOD PARK!  (fremont / union city / newark)'}\n",
        "{'url': 'http://sfbay.craigslist.org/eby/apa/4701023723.html', 'app': 1000, '_id': ObjectId('5443566e804ad20612a2853c'), 'id': '4701023723', 'desc': u'$2425 / 2br - 1111ft\\xb2 - Spacious 2bd/1.5ba including w/d & 2 car garage - AVAILABLE DECEMBER 1 (fremont / union city / newark)'}\n",
        "{'url': 'http://sfbay.craigslist.org/eby/apa/4712876134.html', 'app': 1000, '_id': ObjectId('5443566e804ad20612a2853d'), 'id': '4712876134', 'desc': u'$3500 / 4br - 2200ft\\xb2 - 4 Bed 3.5 Bath Single Family House in Fremont Mission San Jose (fremont / union city / newark)'}\n",
        "{'url': 'http://sfbay.craigslist.org/eby/apa/4711899551.html', 'app': 1000, '_id': ObjectId('5443566e804ad20612a2853e'), 'id': '4711899551', 'desc': u'$2340 / 3br - 1000ft\\xb2 - Remodeled Warm Springs House (fremont / union city / newark)'}\n",
        "{'url': 'http://sfbay.craigslist.org/eby/apa/4708627612.html', 'app': 1000, '_id': ObjectId('5443566e804ad20612a2853f'), 'id': '4708627612', 'desc': u'$800 / 1br - 170ft\\xb2 - ** \\u8c6a\\u5b85! \\u8c6a\\u534e\\u5bb6\\u79c1\\u914d\\u5957\\u9f50 (fremont / union city / newark)'}\n",
        "{'url': 'http://sfbay.craigslist.org/eby/apa/4716039487.html', 'app': 1000, '_id': ObjectId('5443566e804ad20612a28540'), 'id': '4716039487', 'desc': u'$2295 / 1br - Studio suites only $2295.00 (fremont / union city / newark)'}\n",
        "{'url': 'http://sfbay.craigslist.org/eby/apa/4714202046.html', 'app': 1000, '_id': ObjectId('5443566e804ad20612a28541'), 'id': '4714202046', 'desc': u'$2220 / 2br - 1026ft\\xb2 - Beautiful 2 bedrooms available  (fremont / union city / newark)'}\n",
        "{'url': 'http://sfbay.craigslist.org/eby/apa/4720845630.html', 'app': 1000, '_id': ObjectId('5443566e804ad20612a28542'), 'id': '4720845630', 'desc': u'$2098 / 1br - 829ft\\xb2 - Marvelous 1 bed apartment near Fremont BART!  (fremont / union city / newark)'}\n",
        "{'url': 'http://sfbay.craigslist.org/eby/apa/4721162176.html', 'app': 1000, '_id': ObjectId('5443566e804ad20612a28543'), 'id': '4721162176', 'desc': u'$2200 / 2br - 850ft\\xb2 - Sit Back and Relax In This Wonderful Two Bedroom! (fremont / union city / newark)'}\n",
        "{'url': 'http://sfbay.craigslist.org/eby/apa/4711266858.html', 'app': 1000, '_id': ObjectId('5443566e804ad20612a28544'), 'id': '4711266858', 'desc': u'$1547 / 1br - 660ft\\xb2 - Medallion Has All The Space You Need... (fremont / union city / newark)'}\n",
        "{'url': 'http://sfbay.craigslist.org/eby/apa/4706666794.html', 'app': 1000, '_id': ObjectId('5443566e804ad20612a28545'), 'id': '4706666794', 'desc': u'$1675 / 1br - Amazing 1 Bedroom $1,675 (fremont / union city / newark)'}\n",
        "{'url': 'http://sfbay.craigslist.org/eby/apa/4721132582.html', 'app': 1000, '_id': ObjectId('5443566e804ad20612a28546'), 'id': '4721132582', 'desc': u'$2259 / 2br - GORGEOUS,TOP FLOOR APARTMENT,VISIT AMBER COURT TODAY!  (fremont / union city / newark)'}\n",
        "{'url': 'http://sfbay.craigslist.org/eby/apa/4717955759.html', 'app': 1000, '_id': ObjectId('5443566e804ad20612a28547'), 'id': '4717955759', 'desc': u'$1875 / 1br - 565ft\\xb2 - Luxurious Homes, Walk to BART, Washer Dryer in Unit (fremont / union city / newark)'}\n",
        "{'url': 'http://sfbay.craigslist.org/eby/apa/4719076304.html', 'app': 1000, '_id': ObjectId('5443566e804ad20612a28548'), 'id': '4719076304', 'desc': u'$1698 / 1br - PARK-LIKE LANDSCAPING, POOL, SPA, FITNESS CENTER (fremont / union city / newark)'}\n",
        "{'url': 'http://sfbay.craigslist.org/eby/apa/4712715052.html', 'app': 1000, '_id': ObjectId('5443566e804ad20612a28549'), 'id': '4712715052', 'desc': u'$2800 / 3br - 1067ft\\xb2 - Nice quiet 3Bed-2Bath (fremont / union city / newark)'}\n",
        "{'url': 'http://sfbay.craigslist.org/eby/apa/4719791884.html', 'app': 1000, '_id': ObjectId('5443566e804ad20612a2854a'), 'id': '4719791884', 'desc': u'$2999 / 3br - 1500ft\\xb2 - Bright, Nice Beautiful House, Walk to Fremont BART (fremont / union city / newark)'}\n",
        "{'url': 'http://sfbay.craigslist.org/eby/apa/4714683244.html', 'app': 1000, '_id': ObjectId('5443566e804ad20612a2854b'), 'id': '4714683244', 'desc': u'$1895 / 1br - 527ft\\xb2 - \\u2660GREAT PRICE, LOCATION, AND QUIET\\u2660 (fremont / union city / newark)'}\n",
        "{'url': 'http://sfbay.craigslist.org/eby/apa/4720891332.html', 'app': 1000, '_id': ObjectId('5443566e804ad20612a2854c'), 'id': '4720891332', 'desc': u'$2715 / 3br - 1369ft\\xb2 - 3Bedroom 3bathroom on the Top floor with Fireplace & Vaulted ceiling! (fremont / union city / newark)'}\n",
        "{'url': 'http://sfbay.craigslist.org/eby/apa/4710498444.html', 'app': 1000, '_id': ObjectId('5443566e804ad20612a2854d'), 'id': '4710498444', 'desc': u'$1900 / 1br - 737ft\\xb2 - *Carriage House* Gated Community in a Quiet and Friendly Neighborhood! (fremont / union city / newark)'}\n",
        "{'url': 'http://sfbay.craigslist.org/eby/apa/4719902978.html', 'app': 1000, '_id': ObjectId('5443566e804ad20612a2854e'), 'id': '4719902978', 'desc': u'$3200 / 5br - 2157ft\\xb2 - Beautiful House Near BART Station (fremont / union city / newark)'}\n",
        "{'url': 'http://sfbay.craigslist.org/eby/apa/4721157794.html', 'app': 1000, '_id': ObjectId('5443566e804ad20612a2854f'), 'id': '4721157794', 'desc': u'$2050 / 1br - 701ft\\xb2 - Come take a look Upgraded and next to shopping (fremont / union city / newark)'}\n",
        "{'url': 'http://sfbay.craigslist.org/eby/apa/4714721833.html', 'app': 1000, '_id': ObjectId('5443566e804ad20612a28550'), 'id': '4714721833', 'desc': u'$2750 / 3br - 1350ft\\xb2 -  3BR/2.5 BA home for rent in Fremont Ardenwood/Forest Park area (fremont / union city / newark)'}\n",
        "{'url': 'http://sfbay.craigslist.org/eby/apa/4719004291.html', 'app': 1000, '_id': ObjectId('5443566e804ad20612a28551'), 'id': '4719004291', 'desc': u'$900 Fully-furnished in-law studio with private entry (fremont / union city / newark)'}\n",
        "{'url': 'http://sfbay.craigslist.org/eby/apa/4720774106.html', 'app': 1000, '_id': ObjectId('5443566e804ad20612a28552'), 'id': '4720774106', 'desc': u'$1786 / 1br - 685ft\\xb2 - Alderwood Park in Newark - Dumbarton/84/880 & public transit close by! (fremont / union city / newark)'}\n",
        "{'url': 'http://sfbay.craigslist.org/eby/apa/4675937071.html', 'app': 1000, '_id': ObjectId('5443566e804ad20612a28553'), 'id': '4675937071', 'desc': u'$2900 / 3br - 1472ft\\xb2 - 3 bed 2 .5 bath townhome remodeled in Fremont  (fremont / union city / newark)'}\n",
        "{'url': 'http://sfbay.craigslist.org/eby/apa/4718891996.html', 'app': 1000, '_id': ObjectId('5443566e804ad20612a28554'), 'id': '4718891996', 'desc': u'$2176 / 2br - 980ft\\xb2 - Looking For A Pet Friendly Community...Waterstone@Fremont (fremont / union city / newark)'}\n",
        "{'url': 'http://sfbay.craigslist.org/eby/apa/4710451031.html', 'app': 1000, '_id': ObjectId('5443566e804ad20612a28555'), 'id': '4710451031', 'desc': u'$1674 Affordable One Bedroom Near Public Transportation, Shopping and Dining (fremont / union city / newark)'}"
       ]
      },
      {
       "output_type": "stream",
       "stream": "stdout",
       "text": [
        "\n",
        "{'url': 'http://sfbay.craigslist.org/eby/apa/4716842666.html', 'app': 1000, '_id': ObjectId('5443566e804ad20612a28556'), 'id': '4716842666', 'desc': u'$5100 / 5br - 3500ft\\xb2 - LARGE FREMONT EXECUTIVE HOME ! TOP MISSION SCHOOLS ! (fremont / union city / newark)'}\n",
        "{'url': 'http://sfbay.craigslist.org/eby/apa/4721019624.html', 'app': 1000, '_id': ObjectId('5443566e804ad20612a28557'), 'id': '4721019624', 'desc': u'$2259 / 2br - ~LUSH GARDENS, POOL, SPA, FITNESS CENTER AND BRIGHT TWO BEDROOM~ (fremont / union city / newark)'}\n",
        "{'url': 'http://sfbay.craigslist.org/eby/apa/4720412245.html', 'app': 1000, '_id': ObjectId('5443566e804ad20612a28558'), 'id': '4720412245', 'desc': u'$1625 / 1br - 630ft\\xb2 - Beautiful Niles Community! Move-In November 7th! (fremont / union city / newark)'}\n",
        "{'url': 'http://sfbay.craigslist.org/eby/apa/4720845004.html', 'app': 1000, '_id': ObjectId('5443566e804ad20612a28559'), 'id': '4720845004', 'desc': u'$1850 / 1br - 650ft\\xb2 - Luxury & Convenience All In One Great One Bedroom (fremont / union city / newark)'}\n",
        "{'url': 'http://sfbay.craigslist.org/eby/apa/4712645561.html', 'app': 1000, '_id': ObjectId('5443566e804ad20612a2855a'), 'id': '4712645561', 'desc': u'$5380 / 5br - 3800ft\\xb2 - 708 Chavel Court, Fremont, Avail.10/25 Ext.43 (fremont / union city / newark)'}\n",
        "{'url': 'http://sfbay.craigslist.org/eby/apa/4715875696.html', 'app': 1000, '_id': ObjectId('5443566e804ad20612a2855b'), 'id': '4715875696', 'desc': u'$1875 / 1br - 565ft\\xb2 - Call for Details, Easy Freeway Access, Night Patrol, Fitness Ctr (fremont / union city / newark)'}\n",
        "{'url': 'http://sfbay.craigslist.org/eby/apa/4710259152.html', 'app': 1000, '_id': ObjectId('5443566e804ad20612a2855c'), 'id': '4710259152', 'desc': u'$2425 / 2br - 1010ft\\xb2 - Visit Your New Home, Night Patrol, Fitness Ctr, Easy Freeway Access (fremont / union city / newark)'}\n",
        "{'url': 'http://sfbay.craigslist.org/eby/apa/4714391095.html', 'app': 1000, '_id': ObjectId('5443566e804ad20612a2855d'), 'id': '4714391095', 'desc': u'$2400 / 2br - 1405ft\\xb2 - Good Townhouse in Fremont, Northgate area (fremont / union city / newark)'}\n",
        "{'url': 'http://sfbay.craigslist.org/eby/apa/4719474600.html', 'app': 1000, '_id': ObjectId('5443566e804ad20612a2855e'), 'id': '4719474600', 'desc': u'$1790 / 1br - 600ft\\xb2 - Beautiful and spacious 1 bedrooms available  (fremont / union city / newark)'}\n",
        "{'url': 'http://sfbay.craigslist.org/eby/apa/4716543450.html', 'app': 1000, '_id': ObjectId('5443566e804ad20612a2855f'), 'id': '4716543450', 'desc': u'$2695 / 4br - 1384ft\\xb2 - SPACIOUS 4BEDS/2BATHS HOUSE FOR RENT (fremont / union city / newark)'}\n",
        "{'url': 'http://sfbay.craigslist.org/eby/apa/4712595054.html', 'app': 1000, '_id': ObjectId('5443566e804ad20612a28560'), 'id': '4712595054', 'desc': u'$1950 / 1br - 710ft\\xb2 - Stylish Features, Washer Dryer in Unit, Walk to BART (fremont / union city / newark)'}\n",
        "{'url': 'http://sfbay.craigslist.org/eby/apa/4714533902.html', 'app': 1000, '_id': ObjectId('5443566e804ad20612a28561'), 'id': '4714533902', 'desc': u'$1543 / 1br - 650ft\\xb2 - Best Rate In Town! Perfect Apartment Home Now Available! (fremont / union city / newark)'}\n",
        "{'url': 'http://sfbay.craigslist.org/eby/apa/4710314987.html', 'app': 1000, '_id': ObjectId('5443566e804ad20612a28562'), 'id': '4710314987', 'desc': u'$1760 / 1br - PARK-LIKE LANDSCAPING, POOL, SPA, FITNESS CENTER (fremont / union city / newark)'}\n",
        "{'url': 'http://sfbay.craigslist.org/eby/apa/4694978856.html', 'app': 1000, '_id': ObjectId('5443566e804ad20612a28563'), 'id': '4694978856', 'desc': u'$1550 / 2br - 750ft\\xb2 - INCREDIBLE 2BED/1BATH AVAILABLE!!! (fremont / union city / newark)'}\n",
        "{'url': 'http://sfbay.craigslist.org/eby/apa/4721084803.html', 'app': 1000, '_id': ObjectId('5443566e804ad20612a28564'), 'id': '4721084803', 'desc': u'$2022 / 2br - 800ft\\xb2 - M225 Is A Fabulous Location Within Our Community! (fremont / union city / newark)'}\n",
        "{'url': 'http://sfbay.craigslist.org/eby/apa/4718139101.html', 'app': 1000, '_id': ObjectId('5443566e804ad20612a28565'), 'id': '4718139101', 'desc': u'$2295 / 2br - 980ft\\xb2 - \\u25d8ENJOY YOUR SURROUNDINGS IN AN UPDATED APT HOME TODAY\\u25d8 (fremont / union city / newark)'}\n",
        "{'url': 'http://sfbay.craigslist.org/eby/apa/4719344760.html', 'app': 1000, '_id': ObjectId('5443566e804ad20612a28566'), 'id': '4719344760', 'desc': u'$2295 / 2br - 980ft\\xb2 - \\u2666COME AND SEE WHAT YOU HAVE BEEN MISSING\\u2666 (fremont / union city / newark)'}\n",
        "{'url': 'http://sfbay.craigslist.org/eby/apa/4720573333.html', 'app': 1000, '_id': ObjectId('5443566e804ad20612a28567'), 'id': '4720573333', 'desc': u'$2820 / 2br - 1203ft\\xb2 - Large, Renovated 2BD/2BA with 2 Patios - Just Steps Away From BART (fremont / union city / newark)'}\n",
        "{'url': 'http://sfbay.craigslist.org/eby/apa/4720574328.html', 'app': 1000, '_id': ObjectId('5443566e804ad20612a28568'), 'id': '4720574328', 'desc': u'$2295 / 2br - 1004ft\\xb2 - FREMONT HUB\\u25d8GREAT LOCATION\\u25d8GREAT PRICE (fremont / union city / newark)'}\n",
        "{'url': 'http://sfbay.craigslist.org/eby/apa/4721099287.html', 'app': 1000, '_id': ObjectId('5443566e804ad20612a28569'), 'id': '4721099287', 'desc': u'$2295 / 2br - 1004ft\\xb2 - \\u2022\\u263bTHIS BEAUTIFUL UPGRADED APT HOME HAS ALL THE COMFORTS\\u263b\\u2022 (fremont / union city / newark)'}\n",
        "{'url': 'http://sfbay.craigslist.org/eby/apa/4710690027.html', 'app': 1000, '_id': ObjectId('5443566e804ad20612a2856a'), 'id': '4710690027', 'desc': u'$1995 / 2br - 850ft\\xb2 - COTTAGE / In-Law in Fremont  (fremont / union city / newark)'}\n",
        "{'url': 'http://sfbay.craigslist.org/eby/apa/4710368477.html', 'app': 1000, '_id': ObjectId('5443566e804ad20612a2856b'), 'id': '4710368477', 'desc': u'$1851 / 1br - 615ft\\xb2 - Available November 11th!! (fremont / union city / newark)'}\n",
        "{'url': 'http://sfbay.craigslist.org/eby/apa/4716213017.html', 'app': 1000, '_id': ObjectId('5443566e804ad20612a2856c'), 'id': '4716213017', 'desc': u'$2095 / 3br - Fully Remodeled Fremont House. Available 3bed/2bath  (fremont / union city / newark)'}\n",
        "{'url': 'http://sfbay.craigslist.org/eby/apa/4715242777.html', 'app': 1000, '_id': ObjectId('5443566e804ad20612a2856d'), 'id': '4715242777', 'desc': u'$3,600/mo'}\n",
        "{'url': 'http://sfbay.craigslist.org/eby/apa/4715242777.html', 'app': 1000, '_id': ObjectId('5443566e804ad20612a2856d'), 'id': '4715242777', 'desc': u'$3,600/mo'}\n",
        "{'url': 'http://sfbay.craigslist.org/eby/apa/4677306808.html', 'app': 1000, '_id': ObjectId('5443566e804ad20612a2856e'), 'id': '4677306808', 'desc': u'$2900 / 3br - 1472ft\\xb2 - 3 bed 2 .5 bath townhome remodeled in Fremont  (fremont / union city / newark)'}\n",
        "{'url': 'http://sfbay.craigslist.org/eby/apa/4702435447.html', 'app': 1000, '_id': ObjectId('5443566e804ad20612a2856f'), 'id': '4702435447', 'desc': u'$2600 / 3br - 1442ft\\xb2 - 3 Bd, 2 Bth single family home (fremont / union city / newark)'}\n",
        "{'url': 'http://sfbay.craigslist.org/eby/apa/4716872326.html', 'app': 1000, '_id': ObjectId('5443566e804ad20612a28570'), 'id': '4716872326', 'desc': u'$2600 / 3br - 1391ft\\xb2 - Beautifully renovated home near Warwick Elementary (fremont / union city / newark)'}\n",
        "{'url': 'http://sfbay.craigslist.org/eby/apa/4710317042.html', 'app': 1000, '_id': ObjectId('5443566e804ad20612a28571'), 'id': '4710317042', 'desc': u'$2300 / 2br - 890ft\\xb2 - *Carriage House* Gated Community in a Quiet and Friendly Neighborhood! (fremont / union city / newark)'}\n",
        "{'url': 'http://sfbay.craigslist.org/eby/apa/4715361058.html', 'app': 1000, '_id': ObjectId('5443566e804ad20612a28572'), 'id': '4715361058', 'desc': u'$2100 / 2br - 1195ft\\xb2 - House for Rent Union City - Open House (fremont / union city / newark)'}\n",
        "{'url': 'http://sfbay.craigslist.org/eby/apa/4710193155.html', 'app': 1000, '_id': ObjectId('5443566e804ad20612a28573'), 'id': '4710193155', 'desc': u'$2053 / 2br - 850ft\\xb2 - Top Floor 2 bed 1 Bath! The Place To Live! (fremont / union city / newark)'}\n",
        "{'url': 'http://sfbay.craigslist.org/eby/apa/4718206189.html', 'app': 1000, '_id': ObjectId('5443566e804ad20612a28574'), 'id': '4718206189', 'desc': u'$1698 / 1br - PRIVATE END UNIT, LARGE STORAGE, YOUR NEW HOME IS HERE! (fremont / union city / newark)'}\n",
        "{'url': 'http://sfbay.craigslist.org/eby/apa/4718181090.html', 'app': 1000, '_id': ObjectId('5443566e804ad20612a28575'), 'id': '4718181090', 'desc': u'$1599 / 1br - 750ft\\xb2 - Fremont Remodeled 1B/1B Cottage with Private Garage and Yard (fremont / union city / newark)'}\n",
        "{'url': 'http://sfbay.craigslist.org/eby/apa/4721110227.html', 'app': 1000, '_id': ObjectId('5443566e804ad20612a28576'), 'id': '4721110227', 'desc': u'$850 / 1br - 1100ft\\xb2 - 1 BR Rental Newark Townhome has Granite Counters & Indoor Laundry! (fremont / union city / newark)'}\n",
        "{'url': 'http://sfbay.craigslist.org/eby/apa/4720983215.html', 'app': 1000, '_id': ObjectId('5443566e804ad20612a28577'), 'id': '4720983215', 'desc': u'$1795 / 1br - 527ft\\xb2 - A MUST SEE! BEAUTIFUL ONE BEDROOM APARTMENT HOME! (fremont / union city / newark)'}\n",
        "{'url': 'http://sfbay.craigslist.org/eby/apa/4719409678.html', 'app': 1000, '_id': ObjectId('5443566e804ad20612a28578'), 'id': '4719409678', 'desc': u'$2100 / 2br - 895ft\\xb2 - \\u2661\\u2665\\u2661LOVE Your Home\\u2661\\u2665\\u2661 (fremont / union city / newark)'}\n",
        "{'url': 'http://sfbay.craigslist.org/eby/apa/4717545721.html', 'app': 1000, '_id': ObjectId('5443566e804ad20612a28579'), 'id': '4717545721', 'desc': u'$1350 / 1br - 672ft\\xb2 - OPEN HOUSE- Saturday, October 18, 2014 from 11am-2pm (fremont / union city / newark)'}\n",
        "{'url': 'http://sfbay.craigslist.org/eby/apa/4718402901.html', 'app': 1000, '_id': ObjectId('5443566e804ad20612a2857a'), 'id': '4718402901', 'desc': u'$2775 / 4br - 1700ft\\xb2 - 4 br 2 ba Brookvale of Fremont (fremont / union city / newark)'}\n",
        "{'url': 'http://sfbay.craigslist.org/eby/apa/4721226891.html', 'app': 1000, '_id': ObjectId('5443566e804ad20612a2857b'), 'id': '4721226891', 'desc': u'$1795 / 1br - 527ft\\xb2 - \\u25d8CLOSE AND CONVENIENT FOR YOUR LIFESTYLE\\u25d8 (fremont / union city / newark)'}\n",
        "{'url': 'http://sfbay.craigslist.org/eby/apa/4719187118.html', 'app': 1000, '_id': ObjectId('5443566e804ad20612a2857c'), 'id': '4719187118', 'desc': u'$2665 / 2br - 982ft\\xb2 - Spectacular apartment home centrally located in Fremont! (fremont / union city / newark)'}\n",
        "{'url': 'http://sfbay.craigslist.org/eby/apa/4716239872.html', 'app': 1000, '_id': ObjectId('5443566e804ad20612a2857d'), 'id': '4716239872', 'desc': u'$2580 / 4br - 2050ft\\xb2 - 4 Bed / 3 Bath Irvington 3 Story Townhome (fremont / union city / newark)'}\n",
        "{'url': 'http://sfbay.craigslist.org/eby/apa/4698128103.html', 'app': 1000, '_id': ObjectId('5443566e804ad20612a2857e'), 'id': '4698128103', 'desc': u'$2,315/mo'}\n",
        "{'url': 'http://sfbay.craigslist.org/eby/apa/4698128103.html', 'app': 1000, '_id': ObjectId('5443566e804ad20612a2857e'), 'id': '4698128103', 'desc': u'$2,315/mo'}\n",
        "{'url': 'http://sfbay.craigslist.org/eby/apa/4718888221.html', 'app': 1000, '_id': ObjectId('5443566e804ad20612a2857f'), 'id': '4718888221', 'desc': u'$2,800/mo'}\n",
        "{'url': 'http://sfbay.craigslist.org/eby/apa/4718888221.html', 'app': 1000, '_id': ObjectId('5443566e804ad20612a2857f'), 'id': '4718888221', 'desc': u'$2,800/mo'}\n",
        "{'url': 'http://sfbay.craigslist.org/eby/apa/4720704953.html', 'app': 1000, '_id': ObjectId('5443566e804ad20612a28580'), 'id': '4720704953', 'desc': u'$500 / 1br - Rooms for rent $500 (fremont / union city / newark)'}\n",
        "{'url': 'http://sfbay.craigslist.org/eby/apa/4709777629.html', 'app': 1000, '_id': ObjectId('5443566e804ad20612a28581'), 'id': '4709777629', 'desc': u'$2,935/mo'}\n",
        "{'url': 'http://sfbay.craigslist.org/eby/apa/4709777629.html', 'app': 1000, '_id': ObjectId('5443566e804ad20612a28581'), 'id': '4709777629', 'desc': u'$2,935/mo'}\n",
        "{'url': 'http://sfbay.craigslist.org/eby/apa/4711450323.html', 'app': 1000, '_id': ObjectId('5443566e804ad20612a28582'), 'id': '4711450323', 'desc': u'$2700 / 3br - 1200ft\\xb2 - Large 3 bedroom 2 bathroom Condo in Monte Vista Villas for rent (fremont / union city / newark)'}\n",
        "{'url': 'http://sfbay.craigslist.org/eby/apa/4720849050.html', 'app': 1000, '_id': ObjectId('5443566e804ad20612a28583'), 'id': '4720849050', 'desc': u'$2640 / 2br - 1146ft\\xb2 - Enjoy November in style! Pet friendly apartment available soon! (fremont / union city / newark)'}\n",
        "{'url': 'http://sfbay.craigslist.org/eby/apa/4713110947.html', 'app': 1000, '_id': ObjectId('5443566e804ad20612a28584'), 'id': '4713110947', 'desc': u'$1875 / 1br - 565ft\\xb2 - Enriched Lifestyle, Heated Pool, Sauna, Pets Welcome (fremont / union city / newark)'}\n",
        "{'url': 'http://sfbay.craigslist.org/eby/apa/4716116880.html', 'app': 1000, '_id': ObjectId('5443566e804ad20612a28585'), 'id': '4716116880', 'desc': u'$3200 Beautiful 3 BR / 2.5 BA House - with Full  Amenities (fremont / union city / newark)'}\n",
        "{'url': 'http://sfbay.craigslist.org/eby/apa/4720219856.html', 'app': 1000, '_id': ObjectId('5443566e804ad20612a28586'), 'id': '4720219856', 'desc': u'$1995 / 3br - 1126ft\\xb2 - 3BD/2BA SINGLE FAMILY HOME BEST VALUE @@@@@@@@@@@@@@@@@@ (fremont / union city / newark)'}\n",
        "{'url': 'http://sfbay.craigslist.org/eby/apa/4720711119.html', 'app': 1000, '_id': ObjectId('5443566e804ad20612a28587'), 'id': '4720711119', 'desc': u'$2449 / 1br - 877ft\\xb2 - Fabulous apartment, walking distance to Lake Elizabeth (fremont / union city / newark)'}\n",
        "{'url': 'http://sfbay.craigslist.org/eby/apa/4715594497.html', 'app': 1000, '_id': ObjectId('5443566e804ad20612a28588'), 'id': '4715594497', 'desc': u'$3000 / 3br - 1254ft\\xb2 -  3 bedroom 2 bath 2 car BRAND  NEW Remodel (fremont / union city / newark)'}\n",
        "{'url': 'http://sfbay.craigslist.org/eby/apa/4720522812.html', 'app': 1000, '_id': ObjectId('5443566e804ad20612a28589'), 'id': '4720522812', 'desc': u'$1875 / 1br - 565ft\\xb2 - Now Available, Responsive Maintenance, Spacious Floorplan (fremont / union city / newark)'}\n",
        "{'url': 'http://sfbay.craigslist.org/eby/apa/4712987709.html', 'app': 1000, '_id': ObjectId('5443566e804ad20612a2858a'), 'id': '4712987709', 'desc': u'$1698 / 1br - LUSH GARDENS, POOL, SPA, FITNESS CENTER AND BRIGHT ONE BR (fremont / union city / newark)'}\n",
        "{'url': 'http://sfbay.craigslist.org/eby/apa/4715804870.html', 'app': 1000, '_id': ObjectId('5443566e804ad20612a2858b'), 'id': '4715804870', 'desc': u'$2600 / 4br - 1544ft\\xb2 - Single-Family Home In Nice Neighborhood (fremont / union city / newark)'}\n",
        "{'url': 'http://sfbay.craigslist.org/eby/apa/4719697928.html', 'app': 1000, '_id': ObjectId('5443566e804ad20612a2858c'), 'id': '4719697928', 'desc': u'$2100 / 2br - 895ft\\xb2 - ~~~**~~Great Location~~**~~~ (fremont / union city / newark)'}\n",
        "{'url': 'http://sfbay.craigslist.org/eby/apa/4719764104.html', 'app': 1000, '_id': ObjectId('5443566e804ad20612a2858d'), 'id': '4719764104', 'desc': u'$1850 / 3br - 1160ft\\xb2 - \\u65b0\\u88c5\\u4fee Remodeled  Union City TownHouse $1,850 (fremont / union city / newark)'}\n",
        "{'url': 'http://sfbay.craigslist.org/eby/apa/4721291281.html', 'app': 1000, '_id': ObjectId('5443566e804ad20612a2858e'), 'id': '4721291281', 'desc': u'$3200 / 3br - 1785ft\\xb2 - Mission San Jose (mission sanjose) Home for Rent (fremont / union city / newark)'}\n",
        "{'url': 'http://sfbay.craigslist.org/eby/apa/4712643131.html', 'app': 1000, '_id': ObjectId('5443566e804ad20612a2858f'), 'id': '4712643131', 'desc': u'$1698 / 1br - PARK-LIKE LANDSCAPING, POOL, SPA, FITNESS CENTER (fremont / union city / newark)'}\n",
        "{'url': 'http://sfbay.craigslist.org/eby/apa/4720998596.html', 'app': 1000, '_id': ObjectId('5443566e804ad20612a28590'), 'id': '4720998596', 'desc': u'$2630 / 2br - 958ft\\xb2 - Pet Friendly upgrade 2 bed on top floor with fire place (fremont / union city / newark)'}\n",
        "{'url': 'http://sfbay.craigslist.org/eby/apa/4715900600.html', 'app': 1000, '_id': ObjectId('5443566e804ad20612a28591'), 'id': '4715900600', 'desc': u'$2100 / 2br - 895ft\\xb2 - \\u25ce~\\u25ceLook No Further!!\\u25ce~\\u25ce (fremont / union city / newark)'}\n",
        "{'url': 'http://sfbay.craigslist.org/eby/apa/4717477696.html', 'app': 1000, '_id': ObjectId('5443566e804ad20612a28592'), 'id': '4717477696', 'desc': u'$1950 / 1br - 710ft\\xb2 - Enriched Lifestyle, Near Shops and Dining, Community Clubhouse (fremont / union city / newark)'}\n",
        "{'url': 'http://sfbay.craigslist.org/eby/apa/4720504489.html', 'app': 1000, '_id': ObjectId('5443566e804ad20612a28593'), 'id': '4720504489', 'desc': u'$2139 / 2br - 980ft\\xb2 - A Bright and Sunny Day...@Waterstone Fremont (fremont / union city / newark)'}\n",
        "{'url': 'http://sfbay.craigslist.org/eby/apa/4719670894.html', 'app': 1000, '_id': ObjectId('5443566e804ad20612a28594'), 'id': '4719670894', 'desc': u'$2066 / 1br - 738ft\\xb2 - Great Location! Great Community! Great Apartment! (fremont / union city / newark)'}\n",
        "{'url': 'http://sfbay.craigslist.org/eby/apa/4720455674.html', 'app': 1000, '_id': ObjectId('5443566e804ad20612a28595'), 'id': '4720455674', 'desc': u'$1830 / 1br - 716ft\\xb2 - Top floor 1 bedroom apt available now! Walking distance to UC BART! (fremont / union city / newark)'}\n",
        "{'url': 'http://sfbay.craigslist.org/eby/apa/4719027449.html', 'app': 1000, '_id': ObjectId('5443566e804ad20612a28596'), 'id': '4719027449', 'desc': u'$1818 / 1br - 760ft\\xb2 - A Great Weekend To Find Your New Apartment Home..Waterstone@Fremont (fremont / union city / newark)'}\n",
        "{'url': 'http://sfbay.craigslist.org/eby/apa/4717478172.html', 'app': 1000, '_id': ObjectId('5443566e804ad20612a28597'), 'id': '4717478172', 'desc': u'$2395 / 2br - 1004ft\\xb2 - \\u2666A CATCH! COME TOUR TODAY \\u2666 (fremont / union city / newark)'}\n",
        "{'url': 'http://sfbay.craigslist.org/eby/apa/4712488865.html', 'app': 1000, '_id': ObjectId('5443566e804ad20612a28598'), 'id': '4712488865', 'desc': u'$1869 / 1br - 769ft\\xb2 - Large 1x1/Ideal Downtown Hayward Location/Full Size Washer/Dryer!!! (fremont / union city / newark)'}\n",
        "{'url': 'http://sfbay.craigslist.org/eby/apa/4718139132.html', 'app': 1000, '_id': ObjectId('5443566e804ad20612a28599'), 'id': '4718139132', 'desc': u'$2295 / 2br - 980ft\\xb2 - \\u2666WE HAVE WONDERFUL APT HOMES FOR RENT CLOSE TO EVERYTHING/FREMONT HUB\\u03d7 (fremont / union city / newark)'}"
       ]
      },
      {
       "output_type": "stream",
       "stream": "stdout",
       "text": [
        "\n",
        "{'url': 'http://sfbay.craigslist.org/eby/apa/4719986309.html', 'app': 1000, '_id': ObjectId('5443566e804ad20612a2859a'), 'id': '4719986309', 'desc': u'$2575 / 3br - Irvington House for Rent (fremont / union city / newark)'}\n",
        "{'url': 'http://sfbay.craigslist.org/eby/apa/4720839175.html', 'app': 1000, '_id': ObjectId('5443566e804ad20612a2859b'), 'id': '4720839175', 'desc': u\"$2350 / 870ft\\xb2 - Entertainer's Dream Patio with this 2 Bed 2 Bath! (fremont / union city / newark)\"}\n",
        "{'url': 'http://sfbay.craigslist.org/eby/apa/4712902699.html', 'app': 1000, '_id': ObjectId('5443566e804ad20612a2859c'), 'id': '4712902699', 'desc': u'$2000 / 1br - One bedroom Luxury apt sublet  (fremont / union city / newark)'}\n",
        "{'url': 'http://sfbay.craigslist.org/eby/apa/4713236409.html', 'app': 1000, '_id': ObjectId('5443566e804ad20612a2859d'), 'id': '4713236409', 'desc': u'$2,400/mo'}\n",
        "{'url': 'http://sfbay.craigslist.org/eby/apa/4713236409.html', 'app': 1000, '_id': ObjectId('5443566e804ad20612a2859d'), 'id': '4713236409', 'desc': u'$2,400/mo'}\n",
        "{'url': 'http://sfbay.craigslist.org/eby/apa/4710227618.html', 'app': 1000, '_id': ObjectId('5443566e804ad20612a2859e'), 'id': '4710227618', 'desc': u'$3100 / 4br - 2030ft\\xb2 - $3100 / 4BR-3BA - 2030ft\\xb2 - Bright Ardenwood SFH Open House 2-4pm10/18 (fremont / union city / newark)'}\n",
        "{'url': 'http://sfbay.craigslist.org/eby/apa/4714754613.html', 'app': 1000, '_id': ObjectId('5443566e804ad20612a2859f'), 'id': '4714754613', 'desc': u'$1850 / 2br - 1054ft\\xb2 - Union City (fremont / union city / newark)'}\n",
        "{'url': 'http://sfbay.craigslist.org/eby/apa/4712816448.html', 'app': 1000, '_id': ObjectId('5443566e804ad20612a285a0'), 'id': '4712816448', 'desc': u'$2753 / 3br - 1320ft\\xb2 - Three-Bedroom, Two-Bathroom Apartment with W/D (fremont / union city / newark)'}\n",
        "{'url': 'http://sfbay.craigslist.org/eby/apa/4715095868.html', 'app': 1000, '_id': ObjectId('5443566e804ad20612a285a1'), 'id': '4715095868', 'desc': u'$1200 / 1br - One Bedroom Apartment in Historic Niles District of Fremont (fremont / union city / newark)'}\n",
        "{'url': 'http://sfbay.craigslist.org/eby/apa/4667100523.html', 'app': 1000, '_id': ObjectId('5443566e804ad20612a285a2'), 'id': '4667100523', 'desc': u'$2600 / 4br - 1321ft\\xb2 - 4 beds/2 baths near Stevenson /Sundale/880 walking distance to schools (fremont / union city / newark)'}\n",
        "{'url': 'http://sfbay.craigslist.org/eby/apa/4712711557.html', 'app': 1000, '_id': ObjectId('5443566e804ad20612a285a3'), 'id': '4712711557', 'desc': u'$3200 / 3br - 1723ft\\xb2 - 3 BRs, 2 BAs SFH in Fremont (94539) for Rent (fremont / union city / newark)'}\n",
        "{'url': 'http://sfbay.craigslist.org/eby/apa/4720477585.html', 'app': 1000, '_id': ObjectId('5443566e804ad20612a285a4'), 'id': '4720477585', 'desc': u'$1931 / 1br - 665ft\\xb2 - Spacious One Bedroom on 2nd floor (fremont / union city / newark)'}\n",
        "{'url': 'http://sfbay.craigslist.org/eby/apa/4705567196.html', 'app': 1000, '_id': ObjectId('5443566e804ad20612a285a5'), 'id': '4705567196', 'desc': u'$2900 / 3br - 1472ft\\xb2 - Great 3 bed 2.5 bath townhouse remodeled in Fremont  (fremont / union city / newark)'}\n",
        "{'url': 'http://sfbay.craigslist.org/eby/apa/4716184273.html', 'app': 1000, '_id': ObjectId('5443566e804ad20612a285a6'), 'id': '4716184273', 'desc': u'$2,000/mo'}\n",
        "{'url': 'http://sfbay.craigslist.org/eby/apa/4716184273.html', 'app': 1000, '_id': ObjectId('5443566e804ad20612a285a6'), 'id': '4716184273', 'desc': u'$2,000/mo'}\n",
        "{'url': 'http://sfbay.craigslist.org/eby/apa/4698042573.html', 'app': 1000, '_id': ObjectId('5443566e804ad20612a285a7'), 'id': '4698042573', 'desc': u'$2,515/mo'}\n",
        "{'url': 'http://sfbay.craigslist.org/eby/apa/4698042573.html', 'app': 1000, '_id': ObjectId('5443566e804ad20612a285a7'), 'id': '4698042573', 'desc': u'$2,515/mo'}\n",
        "{'url': 'http://sfbay.craigslist.org/eby/apa/4711561337.html', 'app': 1000, '_id': ObjectId('5443566e804ad20612a285a8'), 'id': '4711561337', 'desc': u'$1698 / 1br - OPEN FLOOR PLAN WITH A PRIVATE PATIO & GYM (fremont / union city / newark)'}\n",
        "{'url': 'http://sfbay.craigslist.org/eby/apa/4717573618.html', 'app': 1000, '_id': ObjectId('5443566e804ad20612a285a9'), 'id': '4717573618', 'desc': u'$2495 / 3br - 1120ft\\xb2 - 3Bedroom 2Bath house Available Now/ Great Location (Fremont) (fremont / union city / newark)'}\n",
        "{'url': 'http://sfbay.craigslist.org/eby/apa/4714577580.html', 'app': 1000, '_id': ObjectId('5443566e804ad20612a285aa'), 'id': '4714577580', 'desc': u'$1875 / 1br - 825ft\\xb2 - Huge 1 bed w/beautiful backyard near BART (fremont / union city / newark)'}\n",
        "{'url': 'http://sfbay.craigslist.org/eby/apa/4711769872.html', 'app': 1000, '_id': ObjectId('5443566e804ad20612a285ab'), 'id': '4711769872', 'desc': u'$650 / 1br - Looking for roommates right across fremont bart station (fremont / union city / newark)'}\n",
        "{'url': 'http://sfbay.craigslist.org/eby/apa/4720485015.html', 'app': 1000, '_id': ObjectId('5443566e804ad20612a285ac'), 'id': '4720485015', 'desc': u'$2200 / 1br - 650ft\\xb2 - Charming Two bedroom With Luxurious Amenities! In-home Washer & Dryer! (fremont / union city / newark)'}\n",
        "{'url': 'http://sfbay.craigslist.org/eby/apa/4719177234.html', 'app': 1000, '_id': ObjectId('5443566e804ad20612a285ad'), 'id': '4719177234', 'desc': u'$5100 / 5br - LARGE FREMONT EXECUTIVE HOME! TOP MISSION SCHOOLS! (fremont / union city / newark)'}\n",
        "{'url': 'http://sfbay.craigslist.org/eby/apa/4719736775.html', 'app': 1000, '_id': ObjectId('5443566e804ad20612a285ae'), 'id': '4719736775', 'desc': u'$1698 / 1br - AMAZING AMENITIES IN PARK-LIKE COMMUNITY (fremont / union city / newark)'}\n",
        "{'url': 'http://sfbay.craigslist.org/eby/apa/4717426165.html', 'app': 1000, '_id': ObjectId('5443566e804ad20612a285af'), 'id': '4717426165', 'desc': u'$2495 / 2br - 1106ft\\xb2 - Commuting is Easy when You Live at The Presidio! (fremont / union city / newark)'}\n",
        "{'url': 'http://sfbay.craigslist.org/eby/apa/4721045486.html', 'app': 1000, '_id': ObjectId('5443566e804ad20612a285b0'), 'id': '4721045486', 'desc': u'$2385 / 2br - 1096ft\\xb2 - Extraordinary top floor 2 BD, 2 BA, available soon. Near BART!!! (fremont / union city / newark)'}\n",
        "{'url': 'http://sfbay.craigslist.org/eby/apa/4716200383.html', 'app': 1000, '_id': ObjectId('5443566e804ad20612a285b1'), 'id': '4716200383', 'desc': u'$2,545/mo'}\n",
        "{'url': 'http://sfbay.craigslist.org/eby/apa/4716200383.html', 'app': 1000, '_id': ObjectId('5443566e804ad20612a285b1'), 'id': '4716200383', 'desc': u'$2,545/mo'}\n",
        "{'url': 'http://sfbay.craigslist.org/eby/apa/4720487019.html', 'app': 1000, '_id': ObjectId('5443566e804ad20612a285b2'), 'id': '4720487019', 'desc': u'$2600 / 3br - 1126ft\\xb2 - Lovely Home in Irvington Attendance Area (fremont / union city / newark)'}\n",
        "{'url': 'http://sfbay.craigslist.org/eby/apa/4683812582.html', 'app': 1000, '_id': ObjectId('5443566e804ad20612a285b3'), 'id': '4683812582', 'desc': u'$3100 / 3br - 1780ft\\xb2 - MISSION SAN JOSE ANTELOPE HILLS TOWNHOUSE (fremont / union city / newark)'}\n",
        "{'url': 'http://sfbay.craigslist.org/eby/apa/4717962752.html', 'app': 1000, '_id': ObjectId('5443566e804ad20612a285b4'), 'id': '4717962752', 'desc': u'$2784 / 2br - 1184ft\\xb2 - Luxury apartment community w/the comfort & convenience of city life! (fremont / union city / newark)'}\n",
        "{'url': 'http://sfbay.craigslist.org/eby/apa/4716083353.html', 'app': 1000, '_id': ObjectId('5443566e804ad20612a285b5'), 'id': '4716083353', 'desc': u'$2009 / 2br - 750ft\\xb2 - Looking To Settle Into Your New HOme Before Winter...Click Here... (fremont / union city / newark)'}\n",
        "{'url': 'http://sfbay.craigslist.org/eby/apa/4719218830.html', 'app': 1000, '_id': ObjectId('5443566e804ad20612a285b6'), 'id': '4719218830', 'desc': u'$2175 / 2br - BRIGHT AND SUNNY 2 BEDROOM IN PRIME FREMONT LOCATION (fremont / union city / newark)'}\n",
        "{'url': 'http://sfbay.craigslist.org/eby/apa/4720713509.html', 'app': 1000, '_id': ObjectId('5443566e804ad20612a285b7'), 'id': '4720713509', 'desc': u'$2600 / 3br - 1320ft\\xb2 - Fully Remodeled 3BR & 2 Bath home  (fremont / union city / newark)'}\n",
        "{'url': 'http://sfbay.craigslist.org/eby/apa/4711547661.html', 'app': 1000, '_id': ObjectId('5443566e804ad20612a285b8'), 'id': '4711547661', 'desc': u'$2850 / 3br - 1877ft\\xb2 - Great 3BR/2.5 bath home for rent in Union city (fremont / union city / newark)'}\n",
        "{'url': 'http://sfbay.craigslist.org/eby/apa/4717544934.html', 'app': 1000, '_id': ObjectId('5443566e804ad20612a285b9'), 'id': '4717544934', 'desc': u'$2100 / 2br - 895ft\\xb2 - \\u2248\\u25ce\\u2248Come Home This Summer!\\u2248\\u25ce\\u2248 (fremont / union city / newark)'}\n",
        "{'url': 'http://sfbay.craigslist.org/eby/apa/4719991852.html', 'app': 1000, '_id': ObjectId('5443566e804ad20612a285ba'), 'id': '4719991852', 'desc': u'$2200 / 3br - 1100ft\\xb2 - $2200 1100sqft - 3BR/2BA HOUSE in UNION CITY (fremont / union city / newark)'}\n",
        "{'url': 'http://sfbay.craigslist.org/eby/apa/4711946435.html', 'app': 1000, '_id': ObjectId('5443566e804ad20612a285bb'), 'id': '4711946435', 'desc': u'$2100 / 3br - 1385ft\\xb2 - 3 Bed room 1 Bath Apartment. (fremont / union city / newark)'}\n",
        "{'url': 'http://sfbay.craigslist.org/eby/apa/4721115450.html', 'app': 1000, '_id': ObjectId('5443566e804ad20612a285bc'), 'id': '4721115450', 'desc': u'$2454 / 3br - 1063ft\\xb2 - Pet Friendly Community in a Park-Like Setting! (fremont / union city / newark)'}\n",
        "{'url': 'http://sfbay.craigslist.org/eby/apa/4717905618.html', 'app': 1000, '_id': ObjectId('5443566e804ad20612a285bd'), 'id': '4717905618', 'desc': u'$1750 / 1br - 875ft\\xb2 - SPACIOUS 1 BED ROOM in Excellent Community (fremont / union city / newark)'}\n",
        "{'url': 'http://sfbay.craigslist.org/eby/apa/4719280242.html', 'app': 1000, '_id': ObjectId('5443566e804ad20612a285be'), 'id': '4719280242', 'desc': u'$2199 / 2br - 870ft\\xb2 - Fully-equipped fitness center on-site! (fremont / union city / newark)'}\n",
        "{'url': 'http://sfbay.craigslist.org/eby/apa/4699576897.html', 'app': 1000, '_id': ObjectId('5443566e804ad20612a285bf'), 'id': '4699576897', 'desc': u'$2900 / 3br - 1472ft\\xb2 - 3 bed 2 .5 bath townhome remodeled in Fremont (fremont / union city / newark)'}\n",
        "{'url': 'http://sfbay.craigslist.org/eby/apa/4718925342.html', 'app': 1000, '_id': ObjectId('5443566e804ad20612a285c0'), 'id': '4718925342', 'desc': u'$1995 / 2br - 830ft\\xb2 - Corner Unit Apartment Home! Convenient Location! Great Price! (fremont / union city / newark)'}\n",
        "{'url': 'http://sfbay.craigslist.org/eby/apa/4719445888.html', 'app': 1000, '_id': ObjectId('5443566e804ad20612a285c1'), 'id': '4719445888', 'desc': u'$1565 / 1br - 660ft\\xb2 - Move In Ready! It Could Be Yours... (fremont / union city / newark)'}\n",
        "{'url': 'http://sfbay.craigslist.org/eby/apa/4720521929.html', 'app': 1000, '_id': ObjectId('5443566e804ad20612a285c2'), 'id': '4720521929', 'desc': u'$1900 / 1br - 737ft\\xb2 - *Carriage House* Gated Community in a Quiet and Friendly Neighborhood! (fremont / union city / newark)'}\n",
        "{'url': 'http://sfbay.craigslist.org/eby/apa/4716469194.html', 'app': 1000, '_id': ObjectId('5443566e804ad20612a285c3'), 'id': '4716469194', 'desc': u'$4700 / 5br - 3200ft\\xb2 - Beautiful Furnished 5BD/4Bath in Fremont  (fremont / union city / newark)'}\n",
        "{'url': 'http://sfbay.craigslist.org/eby/apa/4719629114.html', 'app': 1000, '_id': ObjectId('5443566e804ad20612a285c4'), 'id': '4719629114', 'desc': u'$6800 / 5br - 4210ft\\xb2 - Simply Wonderful! (fremont / union city / newark)'}\n",
        "{'url': 'http://sfbay.craigslist.org/eby/apa/4708634531.html', 'app': 1000, '_id': ObjectId('5443566e804ad20612a285c5'), 'id': '4708634531', 'desc': u'$3000 / 5br - 2240ft\\xb2 - Spacious 5 Bedrooms in Niles, Fremont  (fremont / union city / newark)'}\n",
        "{'url': 'http://sfbay.craigslist.org/eby/apa/4708689446.html', 'app': 1000, '_id': ObjectId('5443566e804ad20612a285c6'), 'id': '4708689446', 'desc': u'$2950 / 3br - 1186ft\\xb2 - 3 Bedroom Home Near Lakeshore Park (fremont / union city / newark)'}\n",
        "{'url': 'http://sfbay.craigslist.org/eby/apa/4721115804.html', 'app': 1000, '_id': ObjectId('5443566e804ad20612a285c7'), 'id': '4721115804', 'desc': u'$1960 / 1br - 640ft\\xb2 - Views of Alameda Creek and Rolling Hills 1 Bed/1 Bath! (fremont / union city / newark)'}\n",
        "{'url': 'http://sfbay.craigslist.org/eby/apa/4717430532.html', 'app': 1000, '_id': ObjectId('5443566e804ad20612a285c8'), 'id': '4717430532', 'desc': u\"$2095 / 1br - 734ft\\xb2 - Moving Can Be Hard. We'll Make it Easy at The Presidio! (fremont / union city / newark)\"}\n",
        "{'url': 'http://sfbay.craigslist.org/eby/apa/4711529037.html', 'app': 1000, '_id': ObjectId('5443566e804ad20612a285c9'), 'id': '4711529037', 'desc': u'$2295 / 2br - 980ft\\xb2 - \\u2660GREAT PRICE, LOCATION, AND QUIET\\u2660 (fremont / union city / newark)'}\n",
        "{'url': 'http://sfbay.craigslist.org/eby/apa/4688449232.html', 'app': 1000, '_id': ObjectId('5443566e804ad20612a285ca'), 'id': '4688449232', 'desc': u'$1848 / 1br - 603ft\\xb2 - Apartment w/ washer & dryer in unit. Fitness center also! (fremont / union city / newark)'}\n",
        "{'url': 'http://sfbay.craigslist.org/eby/apa/4720953403.html', 'app': 1000, '_id': ObjectId('5443566e804ad20612a285cb'), 'id': '4720953403', 'desc': u'$2375 / 2br - 1065ft\\xb2 - Stunning 2 bedrooms available now! Near BART! Dont Miss Out! (fremont / union city / newark)'}\n",
        "{'url': 'http://sfbay.craigslist.org/eby/apa/4701722996.html', 'app': 1000, '_id': ObjectId('5443566e804ad20612a285cc'), 'id': '4701722996', 'desc': u'$2449 / 3br - 1248ft\\xb2 - Beautiful home in Union City to rent $2449/month (fremont / union city / newark)'}\n",
        "{'url': 'http://sfbay.craigslist.org/eby/apa/4708241212.html', 'app': 1000, '_id': ObjectId('5443566e804ad20612a285cd'), 'id': '4708241212', 'desc': u'$2,400/mo'}\n",
        "{'url': 'http://sfbay.craigslist.org/eby/apa/4708241212.html', 'app': 1000, '_id': ObjectId('5443566e804ad20612a285cd'), 'id': '4708241212', 'desc': u'$2,400/mo'}\n",
        "{'url': 'http://sfbay.craigslist.org/eby/apa/4714593113.html', 'app': 1000, '_id': ObjectId('5443566e804ad20612a285ce'), 'id': '4714593113', 'desc': u'$2900 / 3br - 1472ft\\xb2 - Great 3 bed 2.5 bath townhome remodeled in Fremont  (fremont / union city / newark)'}\n",
        "{'url': 'http://sfbay.craigslist.org/eby/apa/4718897884.html', 'app': 1000, '_id': ObjectId('5443566e804ad20612a285cf'), 'id': '4718897884', 'desc': u'$2,600/mo'}\n",
        "{'url': 'http://sfbay.craigslist.org/eby/apa/4718897884.html', 'app': 1000, '_id': ObjectId('5443566e804ad20612a285cf'), 'id': '4718897884', 'desc': u'$2,600/mo'}\n",
        "{'url': 'http://sfbay.craigslist.org/eby/apa/4717828930.html', 'app': 1000, '_id': ObjectId('5443566e804ad20612a285d0'), 'id': '4717828930', 'desc': u'$2655 / 2br - 982ft\\xb2 - Looking for quick access to BART and Shopping? Look no further! (fremont / union city / newark)'}\n",
        "{'url': 'http://sfbay.craigslist.org/eby/apa/4716356165.html', 'app': 1000, '_id': ObjectId('5443566e804ad20612a285d1'), 'id': '4716356165', 'desc': u'$2425 / 2br - 1010ft\\xb2 - Now Available, Near Public Parks, Parkmont Schools (fremont / union city / newark)'}\n",
        "{'url': 'http://sfbay.craigslist.org/eby/apa/4708307695.html', 'app': 1000, '_id': ObjectId('5443566e804ad20612a285d2'), 'id': '4708307695', 'desc': u'$2900 / 3br - 1472ft\\xb2 - 3 bed 2 .5 bath townhome remodeled in Fremont  (fremont / union city / newark)'}\n",
        "{'url': 'http://sfbay.craigslist.org/eby/apa/4712640948.html', 'app': 1000, '_id': ObjectId('5443566e804ad20612a285d3'), 'id': '4712640948', 'desc': u'$3350 / 4br - 1750ft\\xb2 - $3350 (Free till 10/31)  4br 1750ft\\xb2 - Fremont Mission SJ schools 94539  (fremont / union city / newark)'}\n",
        "{'url': 'http://sfbay.craigslist.org/eby/apa/4712777820.html', 'app': 1000, '_id': ObjectId('5443566e804ad20612a285d4'), 'id': '4712777820', 'desc': u'$2085 / 3br - 3 bed 2 bath Duplex (fremont / union city / newark)'}\n",
        "{'url': 'http://sfbay.craigslist.org/eby/apa/4720878750.html', 'app': 1000, '_id': ObjectId('5443566e804ad20612a285d5'), 'id': '4720878750', 'desc': u'$2295 / 2br - 1004ft\\xb2 - \\u25d8CLOSE AND CONVENIENT FOR YOUR LIFESTYLE\\u25d8 (fremont / union city / newark)'}\n",
        "{'url': 'http://sfbay.craigslist.org/eby/apa/4712729495.html', 'app': 1000, '_id': ObjectId('5443566e804ad20612a285d6'), 'id': '4712729495', 'desc': u'$2350 / 2br - 900ft\\xb2 - 2br/2ba Beautifully Updated Newark Condo  (fremont / union city / newark)'}\n",
        "{'url': 'http://sfbay.craigslist.org/eby/apa/4716803189.html', 'app': 1000, '_id': ObjectId('5443566e804ad20612a285d7'), 'id': '4716803189', 'desc': u'$1563 / 1br - 600ft\\xb2 - One Beadroom Apartment available from Novermber 4 2014 for $1563.00 (fremont / union city / newark)'}\n",
        "{'url': 'http://sfbay.craigslist.org/eby/apa/4716471995.html', 'app': 1000, '_id': ObjectId('5443566e804ad20612a285d8'), 'id': '4716471995', 'desc': u\"$2125 / 2br - DON'T LET THIS ONE GET AWAY! SUNNY, QUIET, SPACIOUS & BEAUTIFUL HOME! (fremont / union city / newark)\"}\n",
        "{'url': 'http://sfbay.craigslist.org/eby/apa/4718837507.html', 'app': 1000, '_id': ObjectId('5443566e804ad20612a285d9'), 'id': '4718837507', 'desc': u'$2980 / 3br - 1425ft\\xb2 - Beautiful 3Bdrm Townhouse in Fremont Irvington District (fremont / union city / newark)'}\n",
        "{'url': 'http://sfbay.craigslist.org/eby/apa/4715613615.html', 'app': 1000, '_id': ObjectId('5443566e804ad20612a285da'), 'id': '4715613615', 'desc': u'$3,100/mo'}"
       ]
      },
      {
       "output_type": "stream",
       "stream": "stdout",
       "text": [
        "\n",
        "{'url': 'http://sfbay.craigslist.org/eby/apa/4715613615.html', 'app': 1000, '_id': ObjectId('5443566e804ad20612a285da'), 'id': '4715613615', 'desc': u'$3,100/mo'}\n",
        "{'url': 'http://sfbay.craigslist.org/eby/apa/4719744543.html', 'app': 1000, '_id': ObjectId('5443566e804ad20612a285db'), 'id': '4719744543', 'desc': u'$2395 / 2br - 1004ft\\xb2 - \\u263b\\u2665THE MOST LIKED PLACE TO LIVE ON FACEBOOK\\u263b\\u2665 (fremont / union city / newark)'}\n",
        "{'url': 'http://sfbay.craigslist.org/eby/apa/4698129248.html', 'app': 1000, '_id': ObjectId('5443566e804ad20612a285dc'), 'id': '4698129248', 'desc': u'$2,315/mo'}\n",
        "{'url': 'http://sfbay.craigslist.org/eby/apa/4698129248.html', 'app': 1000, '_id': ObjectId('5443566e804ad20612a285dc'), 'id': '4698129248', 'desc': u'$2,315/mo'}\n",
        "{'url': 'http://sfbay.craigslist.org/eby/apa/4715937142.html', 'app': 1000, '_id': ObjectId('5443566e804ad20612a285dd'), 'id': '4715937142', 'desc': u'$2500 / 3br - 1550ft\\xb2 - Beautiful house, close to Dumbarton Bridge(Facebook), shopping center  (fremont / union city / newark)'}\n",
        "{'url': 'http://sfbay.craigslist.org/eby/apa/4713487145.html', 'app': 1000, '_id': ObjectId('5443566e804ad20612a285de'), 'id': '4713487145', 'desc': u'$4000 / 4br - 2684ft\\xb2 - Newly rebuilt custom home  (fremont / union city / newark)'}\n",
        "{'url': 'http://sfbay.craigslist.org/eby/apa/4710410118.html', 'app': 1000, '_id': ObjectId('5443566e804ad20612a285df'), 'id': '4710410118', 'desc': u'$3600 / 4br - 2668ft\\xb2 - Mission Home - 699 Patriot Place - Fremont (fremont / union city / newark)'}\n",
        "{'url': 'http://sfbay.craigslist.org/eby/apa/4720421139.html', 'app': 1000, '_id': ObjectId('5443566e804ad20612a285e0'), 'id': '4720421139', 'desc': u'$2095 / 2br - 830ft\\xb2 - Energy-saving Kitchens with Built-in Microwaves (fremont / union city / newark)'}\n",
        "{'url': 'http://sfbay.craigslist.org/eby/apa/4721146778.html', 'app': 1000, '_id': ObjectId('5443566e804ad20612a285e1'), 'id': '4721146778', 'desc': u'$2708 / 2br - 1008ft\\xb2 - 2nd floor 2 bedroom with 2 car garage (fremont / union city / newark)'}\n",
        "{'url': 'http://sfbay.craigslist.org/eby/apa/4721083651.html', 'app': 1000, '_id': ObjectId('5443566e804ad20612a285e2'), 'id': '4721083651', 'desc': u'$1950 / 2br - 800ft\\xb2 - N239 Is A Top Floor Two Bedroom, Call Us Today! (fremont / union city / newark)'}\n",
        "{'url': 'http://sfbay.craigslist.org/eby/apa/4716414560.html', 'app': 1000, '_id': ObjectId('5443566e804ad20612a285e3'), 'id': '4716414560', 'desc': u'$1710 / 1br - 600ft\\xb2 - 1BHK Near Union City BART For 8 Months Sublease-$1710. Short term also (fremont / union city / newark)'}\n",
        "{'url': 'http://sfbay.craigslist.org/eby/apa/4716022889.html', 'app': 1000, '_id': ObjectId('5443566e804ad20612a285e4'), 'id': '4716022889', 'desc': u'$1795 / 1br - 650ft\\xb2 - UPGRADED 1 BEDROOM APARTMENT IN FREMONT! (fremont / union city / newark)'}\n",
        "{'url': 'http://sfbay.craigslist.org/eby/apa/4718341765.html', 'app': 1000, '_id': ObjectId('5443566e804ad20612a285e5'), 'id': '4718341765', 'desc': u'$2600 4 bedroom 2 story house (fremont / union city / newark)'}\n",
        "{'url': 'http://sfbay.craigslist.org/eby/apa/4710174102.html', 'app': 1000, '_id': ObjectId('5443566e804ad20612a285e6'), 'id': '4710174102', 'desc': u'$1845 / 1br - Ready to move in call now for an appointment!!!! (fremont / union city / newark)'}\n",
        "{'url': 'http://sfbay.craigslist.org/eby/apa/4719801862.html', 'app': 1000, '_id': ObjectId('5443566e804ad20612a285e7'), 'id': '4719801862', 'desc': u'$3099 / 3br - 1500ft\\xb2 - Great House, close to BART Fremont (fremont / union city / newark)'}\n",
        "{'url': 'http://sfbay.craigslist.org/eby/apa/4721088595.html', 'app': 1000, '_id': ObjectId('5443566e804ad20612a285e8'), 'id': '4721088595', 'desc': u'$1950 / 2br - 800ft\\xb2 - Call us Today, To Get Leasing Information! (fremont / union city / newark)'}\n",
        "{'url': 'http://sfbay.craigslist.org/eby/apa/4713634429.html', 'app': 1000, '_id': ObjectId('5443566e804ad20612a285e9'), 'id': '4713634429', 'desc': u'$2600 / 3br - 1204ft\\xb2 - Beautiful 3 bed 2 bath condo in warm springs (fremont / union city / newark)'}\n",
        "{'url': 'http://sfbay.craigslist.org/eby/apa/4718918187.html', 'app': 1000, '_id': ObjectId('5443566e804ad20612a285ea'), 'id': '4718918187', 'desc': u'$1665 / 1br - 650ft\\xb2 - Commuting? We have the ideal location. (fremont / union city / newark)'}\n",
        "{'url': 'http://sfbay.craigslist.org/eby/apa/4713653154.html', 'app': 1000, '_id': ObjectId('5443566e804ad20612a285eb'), 'id': '4713653154', 'desc': u'$2700 / 4br - 1500ft\\xb2 - 4BR / 2Ba 1500ft2 house Available immediately (fremont / union city / newark)'}\n",
        "{'url': 'http://sfbay.craigslist.org/eby/apa/4715856047.html', 'app': 1000, '_id': ObjectId('5443566e804ad20612a285ec'), 'id': '4715856047', 'desc': u'$3000 / 3br - 1760ft\\xb2 - Spacious 3bed/2.5bath Home in Fremont North Gate neighborhood (fremont / union city / newark)'}\n",
        "{'url': 'http://sfbay.craigslist.org/eby/apa/4717473394.html', 'app': 1000, '_id': ObjectId('5443566e804ad20612a285ed'), 'id': '4717473394', 'desc': u'$1895 / 1br - 527ft\\xb2 - \\u2665HOME IS WHERE THE HEART IS\\u2665RANHO LUNA/SOL APT HOMES NOW LEASINGb (fremont / union city / newark)'}\n",
        "{'url': 'http://sfbay.craigslist.org/eby/apa/4720449674.html', 'app': 1000, '_id': ObjectId('5443566e804ad20612a285ee'), 'id': '4720449674', 'desc': u'$2790 / 4br - 1647ft\\xb2 - 4 Bed / 2 Bath Single-level, Single-familyhome in Fremont (fremont / union city / newark)'}\n",
        "{'url': 'http://sfbay.craigslist.org/eby/apa/4708765187.html', 'app': 1000, '_id': ObjectId('5443566e804ad20612a285ef'), 'id': '4708765187', 'desc': u'$1599 / 1br - 600ft\\xb2 - ONE bedroom Unit Available NOW in the Heart of Fremont (fremont / union city / newark)'}\n",
        "{'url': 'http://sfbay.craigslist.org/eby/apa/4721066026.html', 'app': 1000, '_id': ObjectId('5443566e804ad20612a285f0'), 'id': '4721066026', 'desc': u'$2449 / 1br - 877ft\\xb2 - Charming apartment homes w/spacious and open kitchen layout! (fremont / union city / newark)'}\n",
        "{'url': 'http://sfbay.craigslist.org/eby/apa/4719588764.html', 'app': 1000, '_id': ObjectId('5443566e804ad20612a285f1'), 'id': '4719588764', 'desc': u'$2784 / 2br - 1184ft\\xb2 - Check This Out! Luxury Apartment Community with walk-in closets! (fremont / union city / newark)'}\n",
        "{'url': 'http://sfbay.craigslist.org/eby/apa/4716419404.html', 'app': 1000, '_id': ObjectId('5443566e804ad20612a285f2'), 'id': '4716419404', 'desc': u'$3199 / 3br - 1790ft\\xb2 - Newly Renovated Single House. One Month Free Move in Special (fremont / union city / newark)'}\n",
        "{'url': 'http://sfbay.craigslist.org/eby/apa/4717582558.html', 'app': 1000, '_id': ObjectId('5443566e804ad20612a285f3'), 'id': '4717582558', 'desc': u'$1698 / 1br - RESORT STYLE LIVING IN PRIME FREMONT LOCATION (fremont / union city / newark)'}\n",
        "{'url': 'http://sfbay.craigslist.org/eby/apa/4710494763.html', 'app': 1000, '_id': ObjectId('5443566e804ad20612a285f4'), 'id': '4710494763', 'desc': u'$1698 / 1br - AMAZING AMENITIES IN PARK-LIKE COMMUNITY (fremont / union city / newark)'}\n",
        "{'url': 'http://sfbay.craigslist.org/eby/apa/4720514047.html', 'app': 1000, '_id': ObjectId('5443566e804ad20612a285f5'), 'id': '4720514047', 'desc': u'$2500 / 3br - 1550ft\\xb2 - Beautiful house, close to Dumbarton Bridge(Facebook), shopping center  (fremont / union city / newark)'}\n",
        "{'url': 'http://sfbay.craigslist.org/eby/apa/4720463865.html', 'app': 1000, '_id': ObjectId('5443566e804ad20612a285f6'), 'id': '4720463865', 'desc': u'$1895 / 1br - 527ft\\xb2 - \\u2665LOOKING FOR PEACE AND QUIET\\u2665 COME AND TOUR TODAY\\u2665 (fremont / union city / newark)'}\n",
        "{'url': 'http://sfbay.craigslist.org/eby/apa/4720601875.html', 'app': 1000, '_id': ObjectId('5443566e804ad20612a285f7'), 'id': '4720601875', 'desc': u'$1795 / 1br - Beautiful 1 bedroom call now to make an appointment!!! (fremont / union city / newark)'}\n",
        "{'url': 'http://sfbay.craigslist.org/eby/apa/4716528401.html', 'app': 1000, '_id': ObjectId('5443566e804ad20612a285f8'), 'id': '4716528401', 'desc': u'$2395 / 2br - 980ft\\xb2 - \\u2666A CATCH! COME TOUR TODAY \\u2666 (fremont / union city / newark)'}\n",
        "{'url': 'http://sfbay.craigslist.org/eby/apa/4721084894.html', 'app': 1000, '_id': ObjectId('5443566e804ad20612a285f9'), 'id': '4721084894', 'desc': u'$1820 / 1br - 600ft\\xb2 - Great Apartment Value Near Union City Bart (fremont / union city / newark)'}\n",
        "{'url': 'http://sfbay.craigslist.org/eby/apa/4720540400.html', 'app': 1000, '_id': ObjectId('5443566e804ad20612a285fa'), 'id': '4720540400', 'desc': u'$2506 / 2br - 1014ft\\xb2 - Ground level with hardwood floors and walking distance to BART! (fremont / union city / newark)'}\n",
        "{'url': 'http://sfbay.craigslist.org/eby/apa/4717634471.html', 'app': 1000, '_id': ObjectId('5443566e804ad20612a285fb'), 'id': '4717634471', 'desc': u'$2175 / 2br - 850ft\\xb2 - Spacious Two Bedroom One Bath, Apartment Home. Ready 10/13! (fremont / union city / newark)'}\n",
        "{'url': 'http://sfbay.craigslist.org/eby/apa/4712961121.html', 'app': 1000, '_id': ObjectId('5443566e804ad20612a285fc'), 'id': '4712961121', 'desc': u'$1795 / 1br - 527ft\\xb2 - \\u263bBART RIDERS DREAM/CLOSE TO SHOPPING\\u263b (fremont / union city / newark)'}\n",
        "{'url': 'http://sfbay.craigslist.org/eby/apa/4721136124.html', 'app': 1000, '_id': ObjectId('5443566e804ad20612a285fd'), 'id': '4721136124', 'desc': u'$2300 / 2br - 890ft\\xb2 - *Carriage House* Gated Community in a Quiet and Friendly Neighborhood! (fremont / union city / newark)'}\n",
        "{'url': 'http://sfbay.craigslist.org/eby/apa/4718930446.html', 'app': 1000, '_id': ObjectId('5443566e804ad20612a285fe'), 'id': '4718930446', 'desc': u'$2120 / 1br - 734ft\\xb2 - Presidio Apartments - Weekend Special! (fremont / union city / newark)'}\n",
        "{'url': 'http://sfbay.craigslist.org/eby/apa/4720653117.html', 'app': 1000, '_id': ObjectId('5443566e804ad20612a285ff'), 'id': '4720653117', 'desc': u'$2900 / 3br - 1472ft\\xb2 - Great location 3 bed 2.5 bath townhome in Fremont  (fremont / union city / newark)'}\n",
        "{'url': 'http://sfbay.craigslist.org/eby/apa/4717837201.html', 'app': 1000, '_id': ObjectId('5443566e804ad20612a28600'), 'id': '4717837201', 'desc': u'$2176 / 2br - 980ft\\xb2 - Comfort and Convenience Right At Your Finger Tip..Waterstone@Fremont (fremont / union city / newark)'}\n",
        "{'url': 'http://sfbay.craigslist.org/eby/apa/4717797626.html', 'app': 1000, '_id': ObjectId('5443566e804ad20612a28601'), 'id': '4717797626', 'desc': u'$1795 / 1br - 527ft\\xb2 - \\u263aFEEL THE WARMTH HERE AT RANCHO LUNA/SOL (fremont / union city / newark)'}\n",
        "{'url': 'http://sfbay.craigslist.org/eby/apa/4711894505.html', 'app': 1000, '_id': ObjectId('5443566e804ad20612a28602'), 'id': '4711894505', 'desc': u'$2400 / 2br - 1200ft\\xb2 - HUGE 2Bed/2Bath Condo, 1200sq ft, Washer/Dryer, Central AC, REAL Garag (fremont / union city / newark)'}\n",
        "{'url': 'http://sfbay.craigslist.org/eby/apa/4720455452.html', 'app': 1000, '_id': ObjectId('5443566e804ad20612a28603'), 'id': '4720455452', 'desc': u'$1665 / 1br - 650ft\\xb2 - Here now and gone by morning. You should hurry! (fremont / union city / newark)'}\n",
        "{'url': 'http://sfbay.craigslist.org/eby/apa/4711496032.html', 'app': 1000, '_id': ObjectId('5443566e804ad20612a28604'), 'id': '4711496032', 'desc': u'$2790 / 4br - 1640ft\\xb2 - Parkmont Area - 4 Bed / 2 Bath Single-level, Single-family  (fremont / union city / newark)'}\n",
        "{'url': 'http://sfbay.craigslist.org/eby/apa/4714327754.html', 'app': 1000, '_id': ObjectId('5443566e804ad20612a28605'), 'id': '4714327754', 'desc': u'$2425 / 2br - 1010ft\\xb2 - Professionally Managed, Air Conditioning, Ceiling Fan, Covered Parking (fremont / union city / newark)'}\n",
        "{'url': 'http://sfbay.craigslist.org/eby/apa/4716510220.html', 'app': 1000, '_id': ObjectId('5443566e804ad20612a28606'), 'id': '4716510220', 'desc': u'$2295 / 1br - 527ft\\xb2 - \\u2665HOME IS WHERE THE HEART IS\\u2665RANHO LUNA/SOL APT HOMES NOW LEASINGb (fremont / union city / newark)'}\n",
        "{'url': 'http://sfbay.craigslist.org/eby/apa/4705500955.html', 'app': 1000, '_id': ObjectId('5443566e804ad20612a28607'), 'id': '4705500955', 'desc': u'$2900 / 3br - 1472ft\\xb2 - Great 3 bed 2.5 bath townhouse remodeled in Fremont  (fremont / union city / newark)'}\n",
        "{'url': 'http://sfbay.craigslist.org/eby/apa/4696287452.html', 'app': 1000, '_id': ObjectId('5443566e804ad20612a28608'), 'id': '4696287452', 'desc': u'$2900 / 3br - 1472ft\\xb2 - Great 3 bed 2.5 bath townhome remodeled in Fremont  (fremont / union city / newark)'}\n",
        "{'url': 'http://sfbay.craigslist.org/eby/apa/4709086634.html', 'app': 1000, '_id': ObjectId('5443566e804ad20612a28609'), 'id': '4709086634', 'desc': u'$2600 / 3br - 1300ft\\xb2 - Beautiful Ardenwood Home in Fremont (fremont / union city / newark)'}\n",
        "{'url': 'http://sfbay.craigslist.org/eby/apa/4715877888.html', 'app': 1000, '_id': ObjectId('5443566e804ad20612a2860a'), 'id': '4715877888', 'desc': u'$1650 / 1br - 600ft\\xb2 - Immediate move-in: 1 bedroom, 2nd floor, Irvington HS (fremont / union city / newark)'}\n",
        "{'url': 'http://sfbay.craigslist.org/eby/apa/4720991708.html', 'app': 1000, '_id': ObjectId('5443566e804ad20612a2860b'), 'id': '4720991708', 'desc': u'$2425 / 2br - 1010ft\\xb2 - Visit Your New Home, Night Patrol, Fitness Ctr, Easy Freeway Access (fremont / union city / newark)'}\n",
        "{'url': 'http://sfbay.craigslist.org/eby/apa/4719725545.html', 'app': 1000, '_id': ObjectId('5443566e804ad20612a2860c'), 'id': '4719725545', 'desc': u'$2665 / 2br - 982ft\\xb2 - Looking for quick access to BART and Shopping? Look no further! (fremont / union city / newark)'}\n",
        "{'url': 'http://sfbay.craigslist.org/eby/apa/4714642935.html', 'app': 1000, '_id': ObjectId('5443566e804ad20612a2860d'), 'id': '4714642935', 'desc': u'$2753 / 3br - 1320ft\\xb2 - COME CHECK OUT OUR BEAUTIFUL 3X2 (fremont / union city / newark)'}\n",
        "{'url': 'http://sfbay.craigslist.org/eby/apa/4720694437.html', 'app': 1000, '_id': ObjectId('5443566e804ad20612a2860e'), 'id': '4720694437', 'desc': u\"$2151 / 2br - 800ft\\xb2 - You'll Love This Floor Plan! (fremont / union city / newark)\"}\n",
        "{'url': 'http://sfbay.craigslist.org/eby/apa/4719715423.html', 'app': 1000, '_id': ObjectId('5443566e804ad20612a2860f'), 'id': '4719715423', 'desc': u'$2500 / 3br - 1300ft\\xb2 - 3B/3B Townhouse for rent in Fremont, 94538 (fremont / union city / newark)'}\n",
        "{'url': 'http://sfbay.craigslist.org/eby/apa/4717669681.html', 'app': 1000, '_id': ObjectId('5443566e804ad20612a28610'), 'id': '4717669681', 'desc': u'$1795 / 1br - 650ft\\xb2 - FULLY UPGRADED 1 BEDROOM APARTMENT IN FREMONT! PRIVATE BALCONY! (fremont / union city / newark)'}\n",
        "{'url': 'http://sfbay.craigslist.org/eby/apa/4690236057.html', 'app': 1000, '_id': ObjectId('5443566e804ad20612a28611'), 'id': '4690236057', 'desc': u'$2500 / 3br - 1550ft\\xb2 - Beautiful house, close to Dumbarton Bridge(Facebook), shopping center  (fremont / union city / newark)'}\n",
        "{'url': 'http://sfbay.craigslist.org/eby/apa/4711129092.html', 'app': 1000, '_id': ObjectId('5443566e804ad20612a28612'), 'id': '4711129092', 'desc': u'$1698 / 1br - PRIVATE END UNIT, LARGE STORAGE, YOUR NEW HOME IS HERE! (fremont / union city / newark)'}"
       ]
      },
      {
       "output_type": "stream",
       "stream": "stdout",
       "text": [
        "\n",
        "{'url': 'http://sfbay.craigslist.org/eby/apa/4719247973.html', 'app': 1000, '_id': ObjectId('5443566e804ad20612a28613'), 'id': '4719247973', 'desc': u'$2041 / 1br - 738ft\\xb2 - Conveniently Located Near Hwy, Shopping, Restaurants, And More! (fremont / union city / newark)'}\n",
        "{'url': 'http://sfbay.craigslist.org/eby/apa/4701295277.html', 'app': 1000, '_id': ObjectId('5443566e804ad20612a28614'), 'id': '4701295277', 'desc': u'$2900 / 3br - 1474ft\\xb2 - Updated single family home for rent (fremont / union city / newark)'}\n",
        "{'url': 'http://sfbay.craigslist.org/eby/apa/4720732984.html', 'app': 1000, '_id': ObjectId('5443566e804ad20612a28615'), 'id': '4720732984', 'desc': u'$1950 / 1br - 1221ft\\xb2 - Extra large 1 BR Condo for Rent (fremont / union city / newark)'}\n",
        "{'url': 'http://sfbay.craigslist.org/eby/apa/4704285477.html', 'app': 1000, '_id': ObjectId('5443566e804ad20612a28616'), 'id': '4704285477', 'desc': u'$2500 / 2br - 1315ft\\xb2 - Fairly new remodeled Single Family House  (fremont / union city / newark)'}\n",
        "{'url': 'http://sfbay.craigslist.org/eby/apa/4720736311.html', 'app': 1000, '_id': ObjectId('5443566e804ad20612a28617'), 'id': '4720736311', 'desc': u'$2150 / 2br - PARK-LIKE SETTING IN PRIME LOCATION, DESIGNER 2 BR (fremont / union city / newark)'}\n",
        "{'url': 'http://sfbay.craigslist.org/eby/apa/4718111156.html', 'app': 1000, '_id': ObjectId('5443566e804ad20612a28618'), 'id': '4718111156', 'desc': u'$3200 / 4br - 2000ft\\xb2 - Newer Union City Home Available Nov1 Convenient Location W/D &Hardwood (fremont / union city / newark)'}\n",
        "{'url': 'http://sfbay.craigslist.org/eby/apa/4685873529.html', 'app': 1000, '_id': ObjectId('5443566e804ad20612a28619'), 'id': '4685873529', 'desc': u'$1,895/mo'}\n",
        "{'url': 'http://sfbay.craigslist.org/eby/apa/4685873529.html', 'app': 1000, '_id': ObjectId('5443566e804ad20612a28619'), 'id': '4685873529', 'desc': u'$1,895/mo'}\n",
        "{'url': 'http://sfbay.craigslist.org/eby/apa/4718880555.html', 'app': 1000, '_id': ObjectId('5443566e804ad20612a2861a'), 'id': '4718880555', 'desc': u'$1795 / 1br - 527ft\\xb2 - \\u25d8CLOSE AND CONVENIENT FOR YOUR LIFESTYLE\\u25d8 (fremont / union city / newark)'}\n",
        "{'url': 'http://sfbay.craigslist.org/eby/apa/4719497815.html', 'app': 1000, '_id': ObjectId('5443566e804ad20612a2861b'), 'id': '4719497815', 'desc': u'$1950 / 1br - 710ft\\xb2 - Appealing Amenities, Covered Parking, Air Conditioning, Ceiling Fan (fremont / union city / newark)'}\n",
        "{'url': 'http://sfbay.craigslist.org/eby/apa/4713540911.html', 'app': 1000, '_id': ObjectId('5443566e804ad20612a2861c'), 'id': '4713540911', 'desc': u'$3,100/mo'}\n",
        "{'url': 'http://sfbay.craigslist.org/eby/apa/4713540911.html', 'app': 1000, '_id': ObjectId('5443566e804ad20612a2861c'), 'id': '4713540911', 'desc': u'$3,100/mo'}\n",
        "{'url': 'http://sfbay.craigslist.org/eby/apa/4719638412.html', 'app': 1000, '_id': ObjectId('5443566e804ad20612a2861d'), 'id': '4719638412', 'desc': u'$1650 / 1br - 640ft\\xb2 - Irvington District 1bd/1ba upstairs (fremont / union city / newark)'}\n",
        "{'url': 'http://sfbay.craigslist.org/eby/apa/4716592576.html', 'app': 1000, '_id': ObjectId('5443566e804ad20612a2861e'), 'id': '4716592576', 'desc': u'$2500 / 3br - Quiet 3br/2ba home in quiet Fremont (fremont / union city / newark)'}\n",
        "{'url': 'http://sfbay.craigslist.org/eby/apa/4714202943.html', 'app': 1000, '_id': ObjectId('5443566e804ad20612a2861f'), 'id': '4714202943', 'desc': u'$1790 / 1br - 600ft\\xb2 - Beautiful and spacious 1 bedrooms available  (fremont / union city / newark)'}\n",
        "{'url': 'http://sfbay.craigslist.org/eby/apa/4700013075.html', 'app': 1000, '_id': ObjectId('5443566e804ad20612a28620'), 'id': '4700013075', 'desc': u'$2695 / 3br - 1300ft\\xb2 - Open house 10/18 10/19 1-4pm3 Bed 2 Bath Single Family Home in Fremont (fremont / union city / newark)'}\n",
        "{'url': 'http://sfbay.craigslist.org/eby/apa/4720678524.html', 'app': 1000, '_id': ObjectId('5443566e804ad20612a28621'), 'id': '4720678524', 'desc': u'$2765 / 2br - 901ft\\xb2 - One two bedroom apartment with microwave included available now (fremont / union city / newark)'}\n",
        "{'url': 'http://sfbay.craigslist.org/eby/apa/4714475368.html', 'app': 1000, '_id': ObjectId('5443566e804ad20612a28622'), 'id': '4714475368', 'desc': u'$1410 / 1br - 580ft\\xb2 - VICTORIA GARDENS SENIOR COMMUNITY FOR ACTIVE ADULTS 55 & OLDER (fremont / union city / newark)'}\n",
        "{'url': 'http://sfbay.craigslist.org/eby/apa/4716327770.html', 'app': 1000, '_id': ObjectId('5443566e804ad20612a28623'), 'id': '4716327770', 'desc': u'$2695 / 3br - 1300ft\\xb2 - 3 Bed 2 Bath Single Family Home in Fremont (fremont / union city / newark)'}\n",
        "{'url': 'http://sfbay.craigslist.org/eby/apa/4715886056.html', 'app': 1000, '_id': ObjectId('5443566e804ad20612a28624'), 'id': '4715886056', 'desc': u'$2320 / 1br - Apartment for $2320.00in Fremont (fremont / union city / newark)'}\n",
        "{'url': 'http://sfbay.craigslist.org/eby/apa/4705383827.html', 'app': 1000, '_id': ObjectId('5443566e804ad20612a28625'), 'id': '4705383827', 'desc': u'$2,315/mo'}\n",
        "{'url': 'http://sfbay.craigslist.org/eby/apa/4705383827.html', 'app': 1000, '_id': ObjectId('5443566e804ad20612a28625'), 'id': '4705383827', 'desc': u'$2,315/mo'}\n",
        "{'url': 'http://sfbay.craigslist.org/eby/apa/4714386318.html', 'app': 1000, '_id': ObjectId('5443566e804ad20612a28626'), 'id': '4714386318', 'desc': u'$2753 / 3br - 1320ft\\xb2 - Stunning 3X2 Apartment with W/D Set in Fremont! (fremont / union city / newark)'}\n",
        "{'url': 'http://sfbay.craigslist.org/eby/apa/4716420328.html', 'app': 1000, '_id': ObjectId('5443566e804ad20612a28627'), 'id': '4716420328', 'desc': u'$2700 / 4br - 1476ft\\xb2 - 4 bedroom single house w/excellent schools (fremont / union city / newark)'}\n",
        "{'url': 'http://sfbay.craigslist.org/eby/apa/4720441387.html', 'app': 1000, '_id': ObjectId('5443566e804ad20612a28628'), 'id': '4720441387', 'desc': u'$2545 / 2br - 1106ft\\xb2 - 15 Min Walk to BART from the Presidio Apartments (fremont / union city / newark)'}\n",
        "{'url': 'http://sfbay.craigslist.org/eby/apa/4714367696.html', 'app': 1000, '_id': ObjectId('5443566e804ad20612a28629'), 'id': '4714367696', 'desc': u'$1795 / 1br - 650ft\\xb2 - 1 BEDROOM APARTMENT! QUIET NEIGHBORHOOD IN FREMONT  (fremont / union city / newark)'}\n",
        "{'url': 'http://sfbay.craigslist.org/eby/apa/4708837746.html', 'app': 1000, '_id': ObjectId('5443566e804ad20612a2862a'), 'id': '4708837746', 'desc': u'$2100 / 2br - 888ft\\xb2 - Union City 2-Bedroom Condo (fremont / union city / newark)'}\n",
        "{'url': 'http://sfbay.craigslist.org/eby/apa/4706997677.html', 'app': 1000, '_id': ObjectId('5443566e804ad20612a2862b'), 'id': '4706997677', 'desc': u'$2900 / 3br - 1472ft\\xb2 - 3 bed 2 .5 bath townhome remodeled in Fremont  (fremont / union city / newark)'}\n",
        "{'url': 'http://sfbay.craigslist.org/eby/apa/4714556978.html', 'app': 1000, '_id': ObjectId('5443566e804ad20612a2862c'), 'id': '4714556978', 'desc': u'$3150 / 4br - 1900ft\\xb2 - Great Fremont SFH in nice neighborhood - Free rent until Oct 31st 2014 (fremont / union city / newark)'}\n",
        "{'url': 'http://sfbay.craigslist.org/eby/apa/4719275754.html', 'app': 1000, '_id': ObjectId('5443566e804ad20612a2862d'), 'id': '4719275754', 'desc': u'$2259 / 2br - GORGEOUS,TOP FLOOR APARTMENT,VISIT AMBER COURT TODAY!  (fremont / union city / newark)'}\n",
        "{'url': 'http://sfbay.craigslist.org/eby/apa/4718002189.html', 'app': 1000, '_id': ObjectId('5443566e804ad20612a2862e'), 'id': '4718002189', 'desc': u'$2100 / 2br - 895ft\\xb2 - \\u260e~\\u260e~\\u260e~Oak Pointe Apartments ~\\u260e~\\u260e~\\u260e (fremont / union city / newark)'}\n",
        "{'url': 'http://sfbay.craigslist.org/eby/apa/4720551845.html', 'app': 1000, '_id': ObjectId('5443566e804ad20612a2862f'), 'id': '4720551845', 'desc': u'$1705 / 1br - 565ft\\xb2 - A Great Junior 1br Unit To Call home @waterstone Fremont (fremont / union city / newark)'}\n",
        "{'url': 'http://sfbay.craigslist.org/eby/apa/4711374823.html', 'app': 1000, '_id': ObjectId('5443566e804ad20612a28630'), 'id': '4711374823', 'desc': u'$1100 / 1br - 300ft\\xb2 - Private 24 ft camper -fully funtional (fremont / union city / newark)'}\n",
        "{'url': 'http://sfbay.craigslist.org/eby/apa/4693357033.html', 'app': 1000, '_id': ObjectId('5443566e804ad20612a28631'), 'id': '4693357033', 'desc': u'$2100 / 2br - 2 Bedroom 1 Bath - Newly Renovated (fremont / union city / newark)'}\n",
        "{'url': 'http://sfbay.craigslist.org/eby/apa/4714196556.html', 'app': 1000, '_id': ObjectId('5443566e804ad20612a28632'), 'id': '4714196556', 'desc': u'$2175 / 2br - DESIGNER-INSPIRED FLOOR PLANS WITH LUSH GARDEN VIEW (fremont / union city / newark)'}\n",
        "{'url': 'http://sfbay.craigslist.org/eby/apa/4720482808.html', 'app': 1000, '_id': ObjectId('5443566e804ad20612a28633'), 'id': '4720482808', 'desc': u'$2074 / 1br - 720ft\\xb2 - Renting Fast! Unique & Bright w/ Skylight, In-Home Laundry, Tour Now!! (fremont / union city / newark)'}\n",
        "{'url': 'http://sfbay.craigslist.org/eby/apa/4721152536.html', 'app': 1000, '_id': ObjectId('5443566e804ad20612a28634'), 'id': '4721152536', 'desc': u'$2295 / 2br - 980ft\\xb2 - \\u2660\\u2665QUIET, COMFORT, & CONVENIENCE! YOU DESERVE THE BEST!\\u2660 (fremont / union city / newark)'}\n",
        "{'url': 'http://sfbay.craigslist.org/eby/apa/4713579826.html', 'app': 1000, '_id': ObjectId('5443566e804ad20612a28635'), 'id': '4713579826', 'desc': u'$1950 / 2br - 900ft\\xb2 - Fremont Mission San Jose 2bds, 1.5 bth Dont miss it! (fremont / union city / newark)'}\n",
        "{'url': 'http://sfbay.craigslist.org/eby/apa/4721213598.html', 'app': 1000, '_id': ObjectId('5443566e804ad20612a28636'), 'id': '4721213598', 'desc': u'$2176 / 2br - 913ft\\xb2 - Available Soon! Perfect Location! 2 BR & 2 BA! (fremont / union city / newark)'}\n",
        "{'url': 'http://sfbay.craigslist.org/eby/apa/4715295146.html', 'app': 1000, '_id': ObjectId('5443566e804ad20612a28637'), 'id': '4715295146', 'desc': u'$2175 / 2br - 1080ft\\xb2 - 2B/B - 3300 Wolcott Cmn 1st flr condo (fremont / union city / newark)'}\n",
        "{'url': 'http://sfbay.craigslist.org/eby/apa/4718978993.html', 'app': 1000, '_id': ObjectId('5443566e804ad20612a28638'), 'id': '4718978993', 'desc': u'$1350 / 1br - 672ft\\xb2 - 4932 Bridgepoint Place, Union City, Avail. 11/8 (fremont / union city / newark)'}\n",
        "{'url': 'http://sfbay.craigslist.org/eby/apa/4720985331.html', 'app': 1000, '_id': ObjectId('5443566e804ad20612a28639'), 'id': '4720985331', 'desc': u'$2900 / 3br - 1472ft\\xb2 - Great location 3 bed 2.5 bath townhome in Fremont  (fremont / union city / newark)'}\n",
        "{'url': 'http://sfbay.craigslist.org/eby/apa/4713359828.html', 'app': 1000, '_id': ObjectId('5443566e804ad20612a2863a'), 'id': '4713359828', 'desc': u'$2753 / 3br - 1320ft\\xb2 - 3BD/2BA Apartment with Quartz Countertops (fremont / union city / newark)'}\n",
        "{'url': 'http://sfbay.craigslist.org/eby/apa/4713030866.html', 'app': 1000, '_id': ObjectId('5443566e804ad20612a2863b'), 'id': '4713030866', 'desc': u'$2753 / 3br - 1320ft\\xb2 - 3BD/2BA Apartment with Quartz Countertops (fremont / union city / newark)'}\n",
        "{'url': 'http://sfbay.craigslist.org/eby/apa/4717691173.html', 'app': 1000, '_id': ObjectId('5443566e804ad20612a2863c'), 'id': '4717691173', 'desc': u'$1,900/mo'}\n",
        "{'url': 'http://sfbay.craigslist.org/eby/apa/4717691173.html', 'app': 1000, '_id': ObjectId('5443566e804ad20612a2863c'), 'id': '4717691173', 'desc': u'$1,900/mo'}\n",
        "{'url': 'http://sfbay.craigslist.org/eby/apa/4713716965.html', 'app': 1000, '_id': ObjectId('5443566e804ad20612a2863d'), 'id': '4713716965', 'desc': u'$2675 / 2br - 1700ft\\xb2 - Spacious Brand New Remodeled 2 bdrms 2.5 bths Townhouse in Irvington (fremont / union city / newark)'}\n",
        "{'url': 'http://sfbay.craigslist.org/eby/apa/4719006949.html', 'app': 1000, '_id': ObjectId('5443566e804ad20612a2863e'), 'id': '4719006949', 'desc': u'$2295 / 2br - 1004ft\\xb2 - \\u2022\\u263bTHIS BEAUTIFUL UPGRADED APT HOME HAS ALL THE COMFORTS\\u263b\\u2022\\u2022 (fremont / union city / newark)'}\n",
        "{'url': 'http://sfbay.craigslist.org/eby/apa/4715989928.html', 'app': 1000, '_id': ObjectId('5443566e804ad20612a2863f'), 'id': '4715989928', 'desc': u'$1350 / 2br - 900ft\\xb2 - 37847 Niles Blvd #2, Fremont, Avail.11/1 (fremont / union city / newark)'}\n",
        "{'url': 'http://sfbay.craigslist.org/eby/apa/4719615008.html', 'app': 1000, '_id': ObjectId('5443566e804ad20612a28640'), 'id': '4719615008', 'desc': u'$2,700/mo'}\n",
        "{'url': 'http://sfbay.craigslist.org/eby/apa/4719615008.html', 'app': 1000, '_id': ObjectId('5443566e804ad20612a28640'), 'id': '4719615008', 'desc': u'$2,700/mo'}\n",
        "{'url': 'http://sfbay.craigslist.org/eby/apa/4720524100.html', 'app': 1000, '_id': ObjectId('5443566e804ad20612a28641'), 'id': '4720524100', 'desc': u'$1823 / 1br - 760ft\\xb2 - Are You Ready To Move..Waterstone@Fremont (fremont / union city / newark)'}\n",
        "{'url': 'http://sfbay.craigslist.org/eby/apa/4721119470.html', 'app': 1000, '_id': ObjectId('5443566e804ad20612a28642'), 'id': '4721119470', 'desc': u'$1631 / 1br - 520ft\\xb2 - (PRIME LOCATION) 1BED-1BATH (fremont / union city / newark)'}\n",
        "{'url': 'http://sfbay.craigslist.org/eby/apa/4696417639.html', 'app': 1000, '_id': ObjectId('5443566e804ad20612a28643'), 'id': '4696417639', 'desc': u'$2900 / 3br - 1472ft\\xb2 - Great 3 bed 2.5 bath townhome remodeled in Fremont  (fremont / union city / newark)'}\n",
        "{'url': 'http://sfbay.craigslist.org/eby/apa/4719218293.html', 'app': 1000, '_id': ObjectId('5443566e804ad20612a28644'), 'id': '4719218293', 'desc': u'$2397 / 985ft\\xb2 - Available Immediately! (fremont / union city / newark)'}\n",
        "{'url': 'http://sfbay.craigslist.org/eby/apa/4692849596.html', 'app': 1000, '_id': ObjectId('5443566e804ad20612a28645'), 'id': '4692849596', 'desc': u'$1895 / 2br - 803ft\\xb2 - FREE COMCAST CABLE w/ HBO (fremont / union city / newark)'}\n",
        "{'url': 'http://sfbay.craigslist.org/eby/apa/4710131865.html', 'app': 1000, '_id': ObjectId('5443566e804ad20612a28646'), 'id': '4710131865', 'desc': u'$1965 / 2br - 830ft\\xb2 - Ready to Rent! (fremont / union city / newark)'}\n",
        "{'url': 'http://sfbay.craigslist.org/eby/apa/4717628738.html', 'app': 1000, '_id': ObjectId('5443566e804ad20612a28647'), 'id': '4717628738', 'desc': u'$2015 / 2br - 830ft\\xb2 - The peace of mind you deserve. (fremont / union city / newark)'}\n",
        "{'url': 'http://sfbay.craigslist.org/eby/apa/4718001748.html', 'app': 1000, '_id': ObjectId('5443566e804ad20612a28648'), 'id': '4718001748', 'desc': u'$1698 / 1br - OPEN FLOOR PLAN WITH A PRIVATE PATIO &GYM (fremont / union city / newark)'}\n",
        "{'url': 'http://sfbay.craigslist.org/eby/apa/4695475060.html', 'app': 1000, '_id': ObjectId('5443566e804ad20612a28649'), 'id': '4695475060', 'desc': u'$2999 / 4br - 1922ft\\xb2 - luxuary 4bed 2 bath union city $,2,999 first month  (fremont / union city / newark)'}\n",
        "{'url': 'http://sfbay.craigslist.org/eby/apa/4717225080.html', 'app': 1000, '_id': ObjectId('5443566e804ad20612a2864a'), 'id': '4717225080', 'desc': u'$2,600/mo'}\n",
        "{'url': 'http://sfbay.craigslist.org/eby/apa/4717225080.html', 'app': 1000, '_id': ObjectId('5443566e804ad20612a2864a'), 'id': '4717225080', 'desc': u'$2,600/mo'}\n",
        "{'url': 'http://sfbay.craigslist.org/eby/apa/4720654636.html', 'app': 1000, '_id': ObjectId('5443566e804ad20612a2864b'), 'id': '4720654636', 'desc': u'$1582 / 1br - 620ft\\xb2 - Hardwood Floors, Walk-in Closets, Corner unit, Top floor! (fremont / union city / newark)'}\n",
        "{'url': 'http://sfbay.craigslist.org/eby/apa/4720654598.html', 'app': 1000, '_id': ObjectId('5443566e804ad20612a2864c'), 'id': '4720654598', 'desc': u'$2077 / 1br - 747ft\\xb2 - Amazing 1 BD, 1 BA Apartment Available Now! (fremont / union city / newark)'}\n",
        "{'url': 'http://sfbay.craigslist.org/eby/apa/4716548767.html', 'app': 1000, '_id': ObjectId('5443566e804ad20612a2864d'), 'id': '4716548767', 'desc': u'$2850 / 3br - 1688ft\\xb2 - Beautiful Home in Forest Park School area available Mid-Nov (fremont / union city / newark)'}\n",
        "{'url': 'http://sfbay.craigslist.org/eby/apa/4719030835.html', 'app': 1000, '_id': ObjectId('5443566e804ad20612a2864e'), 'id': '4719030835', 'desc': u'$2616 / 3br - 1320ft\\xb2 - 3BD/2BA Apartment with Quartz Countertops (fremont / union city / newark)'}\n",
        "{'url': 'http://sfbay.craigslist.org/eby/apa/4717504335.html', 'app': 1000, '_id': ObjectId('5443566e804ad20612a2864f'), 'id': '4717504335', 'desc': u'$4795 / 5br - 3168ft\\xb2 - Gorgeous Mission Fremont Home ... Will not Last!!! (fremont / union city / newark)'}\n",
        "{'url': 'http://sfbay.craigslist.org/eby/apa/4716554751.html', 'app': 1000, '_id': ObjectId('5443566e804ad20612a28650'), 'id': '4716554751', 'desc': u'$1895 / 1br - 527ft\\xb2 - \\u2665COMMUNITY A FEELING OF FELLOWSHIP WITH OTHERS JOIN OURS\\u2665  (fremont / union city / newark)'}\n"
       ]
      },
      {
       "output_type": "stream",
       "stream": "stdout",
       "text": [
        "{'url': 'http://sfbay.craigslist.org/eby/apa/4718095749.html', 'app': 1000, '_id': ObjectId('5443566e804ad20612a28651'), 'id': '4718095749', 'desc': u'$2278 / 2br - 800ft\\xb2 - Hurry While The Prices Are LOW!! Ask About #914!! (fremont / union city / newark)'}\n",
        "{'url': 'http://sfbay.craigslist.org/eby/apa/4716578860.html', 'app': 1000, '_id': ObjectId('5443566e804ad20612a28652'), 'id': '4716578860', 'desc': u'$1900 / 1br - 760ft\\xb2 - Are You Ready To Move..Waterstone@Fremont (fremont / union city / newark)'}\n",
        "{'url': 'http://sfbay.craigslist.org/eby/apa/4720620522.html', 'app': 1000, '_id': ObjectId('5443566e804ad20612a28653'), 'id': '4720620522', 'desc': u'$2730 / 2br - 1331ft\\xb2 - Available soon! Large two bedroom with patio! (fremont / union city / newark)'}\n",
        "{'url': 'http://sfbay.craigslist.org/eby/apa/4718932110.html', 'app': 1000, '_id': ObjectId('5443566e804ad20612a28654'), 'id': '4718932110', 'desc': u'$3250 / 3br - 1550ft\\xb2 - Mission San Jose Fremont Home for Rent (fremont / union city / newark)'}\n",
        "{'url': 'http://sfbay.craigslist.org/eby/apa/4719113814.html', 'app': 1000, '_id': ObjectId('5443566e804ad20612a28655'), 'id': '4719113814', 'desc': u'$1795 / 1br - 527ft\\xb2 - \\u25d8\\u2665EVERYONE IS WELCOME HOME HERE AT RANCHO LUNA/SOL \\u25d8\\u2665 (fremont / union city / newark)'}\n",
        "{'url': 'http://sfbay.craigslist.org/eby/apa/4716531523.html', 'app': 1000, '_id': ObjectId('5443566e804ad20612a28656'), 'id': '4716531523', 'desc': u'$2800 / 4br - 1928ft\\xb2 - Single Newark Lake home for Rent (fremont / union city / newark)'}\n",
        "{'url': 'http://sfbay.craigslist.org/eby/apa/4721137029.html', 'app': 1000, '_id': ObjectId('5443566e804ad20612a28657'), 'id': '4721137029', 'desc': u'$1900 / 1br - 737ft\\xb2 - *Carriage House* Gated Community in a Quiet and Friendly Neighborhood! (fremont / union city / newark)'}\n",
        "{'url': 'http://sfbay.craigslist.org/eby/apa/4720771143.html', 'app': 1000, '_id': ObjectId('5443566e804ad20612a28658'), 'id': '4720771143', 'desc': u'$1786 / 1br - 685ft\\xb2 - 1 Bedroom is Ready for You to Move In! (fremont / union city / newark)'}\n",
        "{'url': 'http://sfbay.craigslist.org/eby/apa/4711477837.html', 'app': 1000, '_id': ObjectId('5443566e804ad20612a28659'), 'id': '4711477837', 'desc': u'$1845 / 1br - Ready to move in call now for an appointment!!!! (fremont / union city / newark)'}\n",
        "{'url': 'http://sfbay.craigslist.org/eby/apa/4708387181.html', 'app': 1000, '_id': ObjectId('5443566e804ad20612a2865a'), 'id': '4708387181', 'desc': u'$3000 / 4br - 1000ft\\xb2 - 4 Bed 1 Bath Large Lot House for Rent (fremont / union city / newark)'}\n",
        "{'url': 'http://sfbay.craigslist.org/eby/apa/4698044778.html', 'app': 1000, '_id': ObjectId('5443566e804ad20612a2865b'), 'id': '4698044778', 'desc': u'$2,315/mo'}\n",
        "{'url': 'http://sfbay.craigslist.org/eby/apa/4698044778.html', 'app': 1000, '_id': ObjectId('5443566e804ad20612a2865b'), 'id': '4698044778', 'desc': u'$2,315/mo'}\n",
        "{'url': 'http://sfbay.craigslist.org/eby/apa/4707251377.html', 'app': 1000, '_id': ObjectId('5443566e804ad20612a2865c'), 'id': '4707251377', 'desc': u'$2900 / 3br - 1472ft\\xb2 - 3 bed 2 .5 bath townhome remodeled in Fremont  (fremont / union city / newark)'}\n",
        "{'url': 'http://sfbay.craigslist.org/eby/apa/4714916364.html', 'app': 1000, '_id': ObjectId('5443566e804ad20612a2865d'), 'id': '4714916364', 'desc': u'$2600 / 3br - 1295ft\\xb2 - + Sun room - Gorgeous Single Family House - great neighborhood (fremont / union city / newark)'}\n",
        "{'url': 'http://sfbay.craigslist.org/eby/apa/4711328744.html', 'app': 1000, '_id': ObjectId('5443566e804ad20612a2865e'), 'id': '4711328744', 'desc': u'$2600 / 2br - 2 bedroom unit for lease (fremont / union city / newark)'}\n",
        "{'url': 'http://sfbay.craigslist.org/eby/apa/4710176266.html', 'app': 1000, '_id': ObjectId('5443566e804ad20612a2865f'), 'id': '4710176266', 'desc': u'$1595 / 545ft\\xb2 - Spacious Studio Apartment in Downtown Fremont move in ready 11/15/2014 (fremont / union city / newark)'}\n",
        "{'url': 'http://sfbay.craigslist.org/eby/apa/4721024294.html', 'app': 1000, '_id': ObjectId('5443566e804ad20612a28660'), 'id': '4721024294', 'desc': u'$2618 / 3br - 1320ft\\xb2 - COME VISIT OUR BEAUTIFUL FLOR PLANS!! (fremont / union city / newark)'}\n",
        "{'url': 'http://sfbay.craigslist.org/eby/apa/4718073843.html', 'app': 1000, '_id': ObjectId('5443566e804ad20612a28661'), 'id': '4718073843', 'desc': u'$3,100/mo'}\n",
        "{'url': 'http://sfbay.craigslist.org/eby/apa/4718073843.html', 'app': 1000, '_id': ObjectId('5443566e804ad20612a28661'), 'id': '4718073843', 'desc': u'$3,100/mo'}\n",
        "{'url': 'http://sfbay.craigslist.org/eby/apa/4718110291.html', 'app': 1000, '_id': ObjectId('5443566e804ad20612a28662'), 'id': '4718110291', 'desc': u'$2100 / 2br - 990ft\\xb2 - Meadowbrook 2 bed, 2bath condo (fremont / union city / newark)'}\n",
        "{'url': 'http://sfbay.craigslist.org/eby/apa/4716583168.html', 'app': 1000, '_id': ObjectId('5443566e804ad20612a28663'), 'id': '4716583168', 'desc': u'$1760 / 1br - PRIVATE END UNIT, LARGE STORAGE, YOUR NEW HOME IS HERE! (fremont / union city / newark)'}\n",
        "{'url': 'http://sfbay.craigslist.org/eby/apa/4716310375.html', 'app': 1000, '_id': ObjectId('5443566e804ad20612a28664'), 'id': '4716310375', 'desc': u'$1760 / 1br - OPEN FLOOR PLAN WITH A PRIVATE PATIO & GYM  (fremont / union city / newark)'}\n"
       ]
      }
     ],
     "prompt_number": 31
    },
    {
     "cell_type": "code",
     "collapsed": false,
     "input": [
      "rentals.find_one({\"id\": \"4716583168\"})"
     ],
     "language": "python",
     "metadata": {},
     "outputs": [],
     "prompt_number": 30
    },
    {
     "cell_type": "code",
     "collapsed": false,
     "input": [
      "#df = pd.DataFrame(columns=columns) \n",
      "df = pd.DataFrame(index=np.arange(0, len(final_content)), columns =('rent','beds','sft'))\n",
      "#df = df.T\n",
      "print len(final_content)"
     ],
     "language": "python",
     "metadata": {},
     "outputs": [
      {
       "output_type": "stream",
       "stream": "stdout",
       "text": [
        "501\n"
       ]
      }
     ],
     "prompt_number": 64
    },
    {
     "cell_type": "code",
     "collapsed": false,
     "input": [
      "count = 0\n",
      "for content in final_content:\n",
      "    print count\n",
      "    x = content.split(\"-\")\n",
      "    if (len(x) >= 2):\n",
      "        print x[0], x[1]\n",
      "        rt, bd = x[0].split(\"/\")\n",
      "        rent =  map(int, re.findall('\\d+', rt))\n",
      "        beds = map(int, re.findall('\\d+',bd))\n",
      "        sft =  map(int, re.findall('\\d+',x[1]))\n",
      "        print rent\n",
      "        print beds\n",
      "        rent_beds = [rent, beds]\n",
      "        print sft\n",
      "        if (len(sft) ==0):\n",
      "            sft = [0]\n",
      "        all_data = rent_beds + sft\n",
      "        print count, all_data\n",
      "        df.loc[count] = all_data\n",
      "        count =count +1\n",
      "print count"
     ],
     "language": "python",
     "metadata": {},
     "outputs": [
      {
       "ename": "ValueError",
       "evalue": "cannot copy sequence with size 4 to array axis with dimension 3",
       "output_type": "pyerr",
       "traceback": [
        "\u001b[0;31m---------------------------------------------------------------------------\u001b[0m\n\u001b[0;31mValueError\u001b[0m                                Traceback (most recent call last)",
        "\u001b[0;32m<ipython-input-52-2df3686b4f3b>\u001b[0m in \u001b[0;36m<module>\u001b[0;34m()\u001b[0m\n\u001b[1;32m     17\u001b[0m         \u001b[0mall_data\u001b[0m \u001b[0;34m=\u001b[0m \u001b[0mrent_beds\u001b[0m \u001b[0;34m+\u001b[0m \u001b[0msft\u001b[0m\u001b[0;34m\u001b[0m\u001b[0m\n\u001b[1;32m     18\u001b[0m         \u001b[0;32mprint\u001b[0m \u001b[0mcount\u001b[0m\u001b[0;34m,\u001b[0m \u001b[0mall_data\u001b[0m\u001b[0;34m\u001b[0m\u001b[0m\n\u001b[0;32m---> 19\u001b[0;31m         \u001b[0mdf\u001b[0m\u001b[0;34m.\u001b[0m\u001b[0mloc\u001b[0m\u001b[0;34m[\u001b[0m\u001b[0mcount\u001b[0m\u001b[0;34m]\u001b[0m \u001b[0;34m=\u001b[0m \u001b[0mall_data\u001b[0m\u001b[0;34m\u001b[0m\u001b[0m\n\u001b[0m\u001b[1;32m     20\u001b[0m         \u001b[0mcount\u001b[0m \u001b[0;34m=\u001b[0m\u001b[0mcount\u001b[0m \u001b[0;34m+\u001b[0m\u001b[0;36m1\u001b[0m\u001b[0;34m\u001b[0m\u001b[0m\n\u001b[1;32m     21\u001b[0m \u001b[0;32mprint\u001b[0m \u001b[0mcount\u001b[0m\u001b[0;34m\u001b[0m\u001b[0m\n",
        "\u001b[0;32m/Users/Prasad/anaconda/lib/python2.7/site-packages/pandas/core/indexing.pyc\u001b[0m in \u001b[0;36m__setitem__\u001b[0;34m(self, key, value)\u001b[0m\n\u001b[1;32m     96\u001b[0m             \u001b[0mindexer\u001b[0m \u001b[0;34m=\u001b[0m \u001b[0mself\u001b[0m\u001b[0;34m.\u001b[0m\u001b[0m_convert_to_indexer\u001b[0m\u001b[0;34m(\u001b[0m\u001b[0mkey\u001b[0m\u001b[0;34m,\u001b[0m \u001b[0mis_setter\u001b[0m\u001b[0;34m=\u001b[0m\u001b[0mTrue\u001b[0m\u001b[0;34m)\u001b[0m\u001b[0;34m\u001b[0m\u001b[0m\n\u001b[1;32m     97\u001b[0m \u001b[0;34m\u001b[0m\u001b[0m\n\u001b[0;32m---> 98\u001b[0;31m         \u001b[0mself\u001b[0m\u001b[0;34m.\u001b[0m\u001b[0m_setitem_with_indexer\u001b[0m\u001b[0;34m(\u001b[0m\u001b[0mindexer\u001b[0m\u001b[0;34m,\u001b[0m \u001b[0mvalue\u001b[0m\u001b[0;34m)\u001b[0m\u001b[0;34m\u001b[0m\u001b[0m\n\u001b[0m\u001b[1;32m     99\u001b[0m \u001b[0;34m\u001b[0m\u001b[0m\n\u001b[1;32m    100\u001b[0m     \u001b[0;32mdef\u001b[0m \u001b[0m_has_valid_type\u001b[0m\u001b[0;34m(\u001b[0m\u001b[0mself\u001b[0m\u001b[0;34m,\u001b[0m \u001b[0mk\u001b[0m\u001b[0;34m,\u001b[0m \u001b[0maxis\u001b[0m\u001b[0;34m)\u001b[0m\u001b[0;34m:\u001b[0m\u001b[0;34m\u001b[0m\u001b[0m\n",
        "\u001b[0;32m/Users/Prasad/anaconda/lib/python2.7/site-packages/pandas/core/indexing.pyc\u001b[0m in \u001b[0;36m_setitem_with_indexer\u001b[0;34m(self, indexer, value)\u001b[0m\n\u001b[1;32m    420\u001b[0m \u001b[0;34m\u001b[0m\u001b[0m\n\u001b[1;32m    421\u001b[0m             \u001b[0;31m# actually do the set\u001b[0m\u001b[0;34m\u001b[0m\u001b[0;34m\u001b[0m\u001b[0m\n\u001b[0;32m--> 422\u001b[0;31m             \u001b[0mself\u001b[0m\u001b[0;34m.\u001b[0m\u001b[0mobj\u001b[0m\u001b[0;34m.\u001b[0m\u001b[0m_data\u001b[0m \u001b[0;34m=\u001b[0m \u001b[0mself\u001b[0m\u001b[0;34m.\u001b[0m\u001b[0mobj\u001b[0m\u001b[0;34m.\u001b[0m\u001b[0m_data\u001b[0m\u001b[0;34m.\u001b[0m\u001b[0msetitem\u001b[0m\u001b[0;34m(\u001b[0m\u001b[0mindexer\u001b[0m\u001b[0;34m,\u001b[0m \u001b[0mvalue\u001b[0m\u001b[0;34m)\u001b[0m\u001b[0;34m\u001b[0m\u001b[0m\n\u001b[0m\u001b[1;32m    423\u001b[0m             \u001b[0mself\u001b[0m\u001b[0;34m.\u001b[0m\u001b[0mobj\u001b[0m\u001b[0;34m.\u001b[0m\u001b[0m_maybe_update_cacher\u001b[0m\u001b[0;34m(\u001b[0m\u001b[0mclear\u001b[0m\u001b[0;34m=\u001b[0m\u001b[0mTrue\u001b[0m\u001b[0;34m)\u001b[0m\u001b[0;34m\u001b[0m\u001b[0m\n\u001b[1;32m    424\u001b[0m \u001b[0;34m\u001b[0m\u001b[0m\n",
        "\u001b[0;32m/Users/Prasad/anaconda/lib/python2.7/site-packages/pandas/core/internals.pyc\u001b[0m in \u001b[0;36msetitem\u001b[0;34m(self, *args, **kwargs)\u001b[0m\n\u001b[1;32m   2393\u001b[0m \u001b[0;34m\u001b[0m\u001b[0m\n\u001b[1;32m   2394\u001b[0m     \u001b[0;32mdef\u001b[0m \u001b[0msetitem\u001b[0m\u001b[0;34m(\u001b[0m\u001b[0mself\u001b[0m\u001b[0;34m,\u001b[0m \u001b[0;34m*\u001b[0m\u001b[0margs\u001b[0m\u001b[0;34m,\u001b[0m \u001b[0;34m**\u001b[0m\u001b[0mkwargs\u001b[0m\u001b[0;34m)\u001b[0m\u001b[0;34m:\u001b[0m\u001b[0;34m\u001b[0m\u001b[0m\n\u001b[0;32m-> 2395\u001b[0;31m         \u001b[0;32mreturn\u001b[0m \u001b[0mself\u001b[0m\u001b[0;34m.\u001b[0m\u001b[0mapply\u001b[0m\u001b[0;34m(\u001b[0m\u001b[0;34m'setitem'\u001b[0m\u001b[0;34m,\u001b[0m \u001b[0;34m*\u001b[0m\u001b[0margs\u001b[0m\u001b[0;34m,\u001b[0m \u001b[0;34m**\u001b[0m\u001b[0mkwargs\u001b[0m\u001b[0;34m)\u001b[0m\u001b[0;34m\u001b[0m\u001b[0m\n\u001b[0m\u001b[1;32m   2396\u001b[0m \u001b[0;34m\u001b[0m\u001b[0m\n\u001b[1;32m   2397\u001b[0m     \u001b[0;32mdef\u001b[0m \u001b[0mputmask\u001b[0m\u001b[0;34m(\u001b[0m\u001b[0mself\u001b[0m\u001b[0;34m,\u001b[0m \u001b[0;34m*\u001b[0m\u001b[0margs\u001b[0m\u001b[0;34m,\u001b[0m \u001b[0;34m**\u001b[0m\u001b[0mkwargs\u001b[0m\u001b[0;34m)\u001b[0m\u001b[0;34m:\u001b[0m\u001b[0;34m\u001b[0m\u001b[0m\n",
        "\u001b[0;32m/Users/Prasad/anaconda/lib/python2.7/site-packages/pandas/core/internals.pyc\u001b[0m in \u001b[0;36mapply\u001b[0;34m(self, f, *args, **kwargs)\u001b[0m\n\u001b[1;32m   2373\u001b[0m \u001b[0;34m\u001b[0m\u001b[0m\n\u001b[1;32m   2374\u001b[0m             \u001b[0;32melse\u001b[0m\u001b[0;34m:\u001b[0m\u001b[0;34m\u001b[0m\u001b[0m\n\u001b[0;32m-> 2375\u001b[0;31m                 \u001b[0mapplied\u001b[0m \u001b[0;34m=\u001b[0m \u001b[0mgetattr\u001b[0m\u001b[0;34m(\u001b[0m\u001b[0mblk\u001b[0m\u001b[0;34m,\u001b[0m \u001b[0mf\u001b[0m\u001b[0;34m)\u001b[0m\u001b[0;34m(\u001b[0m\u001b[0;34m*\u001b[0m\u001b[0margs\u001b[0m\u001b[0;34m,\u001b[0m \u001b[0;34m**\u001b[0m\u001b[0mkwargs\u001b[0m\u001b[0;34m)\u001b[0m\u001b[0;34m\u001b[0m\u001b[0m\n\u001b[0m\u001b[1;32m   2376\u001b[0m \u001b[0;34m\u001b[0m\u001b[0m\n\u001b[1;32m   2377\u001b[0m             \u001b[0;32mif\u001b[0m \u001b[0misinstance\u001b[0m\u001b[0;34m(\u001b[0m\u001b[0mapplied\u001b[0m\u001b[0;34m,\u001b[0m \u001b[0mlist\u001b[0m\u001b[0;34m)\u001b[0m\u001b[0;34m:\u001b[0m\u001b[0;34m\u001b[0m\u001b[0m\n",
        "\u001b[0;32m/Users/Prasad/anaconda/lib/python2.7/site-packages/pandas/core/internals.pyc\u001b[0m in \u001b[0;36msetitem\u001b[0;34m(self, indexer, value)\u001b[0m\n\u001b[1;32m    646\u001b[0m                 \u001b[0mdtype\u001b[0m \u001b[0;34m=\u001b[0m \u001b[0;34m'infer'\u001b[0m\u001b[0;34m\u001b[0m\u001b[0m\n\u001b[1;32m    647\u001b[0m             \u001b[0mvalues\u001b[0m \u001b[0;34m=\u001b[0m \u001b[0mself\u001b[0m\u001b[0;34m.\u001b[0m\u001b[0m_try_coerce_result\u001b[0m\u001b[0;34m(\u001b[0m\u001b[0mvalues\u001b[0m\u001b[0;34m)\u001b[0m\u001b[0;34m\u001b[0m\u001b[0m\n\u001b[0;32m--> 648\u001b[0;31m             \u001b[0mvalues\u001b[0m \u001b[0;34m=\u001b[0m \u001b[0mself\u001b[0m\u001b[0;34m.\u001b[0m\u001b[0m_try_cast_result\u001b[0m\u001b[0;34m(\u001b[0m\u001b[0mvalues\u001b[0m\u001b[0;34m,\u001b[0m \u001b[0mdtype\u001b[0m\u001b[0;34m)\u001b[0m\u001b[0;34m\u001b[0m\u001b[0m\n\u001b[0m\u001b[1;32m    649\u001b[0m             return [make_block(transf(values), self.items, self.ref_items,\n\u001b[1;32m    650\u001b[0m                                ndim=self.ndim, fastpath=True)]\n",
        "\u001b[0;32m/Users/Prasad/anaconda/lib/python2.7/site-packages/pandas/core/internals.pyc\u001b[0m in \u001b[0;36m_try_cast_result\u001b[0;34m(self, result, dtype)\u001b[0m\n\u001b[1;32m    528\u001b[0m \u001b[0;34m\u001b[0m\u001b[0m\n\u001b[1;32m    529\u001b[0m         \u001b[0;31m# may need to change the dtype here\u001b[0m\u001b[0;34m\u001b[0m\u001b[0;34m\u001b[0m\u001b[0m\n\u001b[0;32m--> 530\u001b[0;31m         \u001b[0;32mreturn\u001b[0m \u001b[0m_possibly_downcast_to_dtype\u001b[0m\u001b[0;34m(\u001b[0m\u001b[0mresult\u001b[0m\u001b[0;34m,\u001b[0m \u001b[0mdtype\u001b[0m\u001b[0;34m)\u001b[0m\u001b[0;34m\u001b[0m\u001b[0m\n\u001b[0m\u001b[1;32m    531\u001b[0m \u001b[0;34m\u001b[0m\u001b[0m\n\u001b[1;32m    532\u001b[0m     \u001b[0;32mdef\u001b[0m \u001b[0m_try_operate\u001b[0m\u001b[0;34m(\u001b[0m\u001b[0mself\u001b[0m\u001b[0;34m,\u001b[0m \u001b[0mvalues\u001b[0m\u001b[0;34m)\u001b[0m\u001b[0;34m:\u001b[0m\u001b[0;34m\u001b[0m\u001b[0m\n",
        "\u001b[0;32m/Users/Prasad/anaconda/lib/python2.7/site-packages/pandas/core/common.pyc\u001b[0m in \u001b[0;36m_possibly_downcast_to_dtype\u001b[0;34m(result, dtype)\u001b[0m\n\u001b[1;32m   1083\u001b[0m     \u001b[0;32mif\u001b[0m \u001b[0misinstance\u001b[0m\u001b[0;34m(\u001b[0m\u001b[0mdtype\u001b[0m\u001b[0;34m,\u001b[0m \u001b[0mcompat\u001b[0m\u001b[0;34m.\u001b[0m\u001b[0mstring_types\u001b[0m\u001b[0;34m)\u001b[0m\u001b[0;34m:\u001b[0m\u001b[0;34m\u001b[0m\u001b[0m\n\u001b[1;32m   1084\u001b[0m         \u001b[0;32mif\u001b[0m \u001b[0mdtype\u001b[0m \u001b[0;34m==\u001b[0m \u001b[0;34m'infer'\u001b[0m\u001b[0;34m:\u001b[0m\u001b[0;34m\u001b[0m\u001b[0m\n\u001b[0;32m-> 1085\u001b[0;31m             \u001b[0minferred_type\u001b[0m \u001b[0;34m=\u001b[0m \u001b[0mlib\u001b[0m\u001b[0;34m.\u001b[0m\u001b[0minfer_dtype\u001b[0m\u001b[0;34m(\u001b[0m\u001b[0m_ensure_object\u001b[0m\u001b[0;34m(\u001b[0m\u001b[0mresult\u001b[0m\u001b[0;34m.\u001b[0m\u001b[0mravel\u001b[0m\u001b[0;34m(\u001b[0m\u001b[0;34m)\u001b[0m\u001b[0;34m)\u001b[0m\u001b[0;34m)\u001b[0m\u001b[0;34m\u001b[0m\u001b[0m\n\u001b[0m\u001b[1;32m   1086\u001b[0m             \u001b[0;32mif\u001b[0m \u001b[0minferred_type\u001b[0m \u001b[0;34m==\u001b[0m \u001b[0;34m'boolean'\u001b[0m\u001b[0;34m:\u001b[0m\u001b[0;34m\u001b[0m\u001b[0m\n\u001b[1;32m   1087\u001b[0m                 \u001b[0mdtype\u001b[0m \u001b[0;34m=\u001b[0m \u001b[0;34m'bool'\u001b[0m\u001b[0;34m\u001b[0m\u001b[0m\n",
        "\u001b[0;31mValueError\u001b[0m: cannot copy sequence with size 4 to array axis with dimension 3"
       ]
      },
      {
       "output_type": "stream",
       "stream": "stdout",
       "text": [
        "0\n",
        "$2600 / 2br   2 bedroom unit for lease (fremont / union city / newark)\n",
        "[2600]\n",
        "[2]\n",
        "[2]\n",
        "0 [[2600], [2], 2]\n",
        "1\n",
        "$2084 / 2br   750ft\u00b2 \n",
        "[2084]\n",
        "[2]\n",
        "[750]\n",
        "1 [[2084], [2], 750]\n",
        "2\n",
        "$1900 / 1br   737ft\u00b2 \n",
        "[1900]\n",
        "[1]\n",
        "[737]\n",
        "2 [[1900], [1], 737]\n",
        "3\n",
        "$1775 / 1br   RESORT LIVING IN A SERENE PARK SETTING  (fremont / union city / newark)\n",
        "[1775]\n",
        "[1]\n",
        "[]\n",
        "3 [[1775], [1], 0]\n",
        "4\n",
        "$1760 / 1br   PARK\n",
        "[1760]\n",
        "[1]\n",
        "[]\n",
        "4 [[1760], [1], 0]\n",
        "5\n",
        "$2495 / 2br   1106ft\u00b2 \n",
        "[2495]\n",
        "[2]\n",
        "[1106]\n",
        "5 [[2495], [2], 1106]\n",
        "6\n",
        "6\n",
        "$2600 / 4br   1321ft\u00b2 \n",
        "[2600]\n",
        "[4]\n",
        "[1321]\n",
        "6 [[2600], [4], 1321]\n",
        "7\n",
        "$4700 / 5br   3200ft\u00b2 \n",
        "[4700]\n",
        "[5]\n",
        "[3200]\n",
        "7 [[4700], [5], 3200]\n",
        "8\n",
        "$2000 / 2br   900ft\u00b2 \n",
        "[2000]\n",
        "[2]\n",
        "[900]\n",
        "8 [[2000], [2], 900]\n",
        "9\n",
        "$1875 / 1br   565ft\u00b2 \n",
        "[1875]\n",
        "[1]\n",
        "[565]\n",
        "9 [[1875], [1], 565]\n",
        "10\n",
        "$2000 / 1br   750ft\u00b2 \n",
        "[2000]\n",
        "[1]\n",
        "[750]\n",
        "10 [[2000], [1], 750]\n",
        "11\n",
        "$2595 / 2br   1081ft\u00b2 \n",
        "[2595]\n",
        "[2]\n",
        "[1081]\n",
        "11 [[2595], [2], 1081]\n",
        "12\n",
        "$1895 / 1br   650ft\u00b2 \n",
        "[1895]\n",
        "[1]\n",
        "[650]\n",
        "12 [[1895], [1], 650]\n",
        "13\n",
        "$2500 / 4br   1820ft\u00b2 \n",
        "[2500]\n",
        "[4]\n",
        "[1820]\n",
        "13 [[2500], [4], 1820]\n",
        "14\n",
        "$1795 / 1br   527ft\u00b2 \n",
        "[1795]\n",
        "[1]\n",
        "[527]\n",
        "14 [[1795], [1], 527]\n",
        "15\n",
        "$3100 / 3br   1500ft\u00b2 \n",
        "[3100]\n",
        "[3]\n",
        "[1500]\n",
        "15 [[3100], [3], 1500]\n",
        "16\n",
        "16\n",
        "$2800 / 5br   1600ft\u00b2 \n",
        "[2800]\n",
        "[5]\n",
        "[1600]\n",
        "16 [[2800], [5], 1600]\n",
        "17\n",
        "$1950 / 1br   710ft\u00b2 \n",
        "[1950]\n",
        "[1]\n",
        "[710]\n",
        "17 [[1950], [1], 710]\n",
        "18\n",
        "$2800 / 3br   1752ft\u00b2 \n",
        "[2800]\n",
        "[3]\n",
        "[1752]\n",
        "18 [[2800], [3], 1752]\n",
        "19\n",
        "$2900 / 3br   1422ft\u00b2 \n",
        "[2900]\n",
        "[3]\n",
        "[1422]\n",
        "19 [[2900], [3], 1422]\n",
        "20\n",
        "$1795 / 1br   527ft\u00b2 \n",
        "[1795]\n",
        "[1]\n",
        "[527]\n",
        "20 [[1795], [1], 527]\n",
        "21\n",
        "$2425 / 2br   1010ft\u00b2 \n",
        "[2425]\n",
        "[2]\n",
        "[1010]\n",
        "21 [[2425], [2], 1010]\n",
        "22\n",
        "$2394 / 1br   854ft\u00b2 \n",
        "[2394]\n",
        "[1]\n",
        "[854]\n",
        "22 [[2394], [1], 854]\n",
        "23\n",
        "$1625 / 2br   750ft\u00b2 \n",
        "[1625]\n",
        "[2]\n",
        "[750]\n",
        "23 [[1625], [2], 750]\n",
        "24\n",
        "$2400 / 3br   1576ft\u00b2 \n",
        "[2400]\n",
        "[3]\n",
        "[1576]\n",
        "24 [[2400], [3], 1576]\n",
        "25\n",
        "$2600 / 3br   Fremont 3Bed\n",
        "[2600]\n",
        "[3]\n",
        "[3]\n",
        "25 [[2600], [3], 3]\n",
        "26\n",
        "$2200 / 3br   1100ft\u00b2 \n",
        "[2200]\n",
        "[3]\n",
        "[1100]\n",
        "26 [[2200], [3], 1100]\n",
        "27\n",
        "$3000 / 4br   2184ft\u00b2 \n",
        "[3000]\n",
        "[4]\n",
        "[2184]\n",
        "27 [[3000], [4], 2184]\n",
        "28\n",
        "$1820 / 1br   650ft\u00b2 \n",
        "[1820]\n",
        "[1]\n",
        "[650]\n",
        "28 [[1820], [1], 650]\n",
        "29\n",
        "29\n",
        "$2295 / 2br   980ft\u00b2 \n",
        "[2295]\n",
        "[2]\n",
        "[980]\n",
        "29 [[2295], [2], 980]\n",
        "30\n",
        "$1926 / 1br   704ft\u00b2 \n",
        "[1926]\n",
        "[1]\n",
        "[704]\n",
        "30 [[1926], [1], 704]\n",
        "31\n",
        "$1995 / 2br   1008ft\u00b2 \n",
        "[1995]\n",
        "[2]\n",
        "[1008]\n",
        "31 [[1995], [2], 1008]\n",
        "32\n",
        "32\n",
        "$2095 / 2br   980ft\u00b2 \n",
        "[2095]\n",
        "[2]\n",
        "[980]\n",
        "32 [[2095], [2], 980]\n",
        "33\n",
        "$2278 / 2br   985ft\u00b2 \n",
        "[2278]\n",
        "[2]\n",
        "[985]\n",
        "33 [[2278], [2], 985]\n",
        "34\n",
        "$2600 / 3br   1442ft\u00b2 \n",
        "[2600]\n",
        "[3]\n",
        "[1442]\n",
        "34 [[2600], [3], 1442]\n",
        "35\n",
        "$2988 / 4br   1617ft\u00b2 \n",
        "[2988]\n",
        "[4]\n",
        "[1617]\n",
        "35 [[2988], [4], 1617]\n",
        "36\n",
        "$2700 / 4br   1500ft\u00b2 \n",
        "[2700]\n",
        "[4]\n",
        "[1500]\n",
        "36 [[2700], [4], 1500]\n",
        "37\n",
        "$2410 / 2br   901ft\u00b2 \n",
        "[2410]\n",
        "[2]\n",
        "[901]\n",
        "37 [[2410], [2], 901]\n",
        "38\n",
        "$1547 / 1br   660ft\u00b2 \n",
        "[1547]\n",
        "[1]\n",
        "[660]\n",
        "38 [[1547], [1], 660]\n",
        "39\n",
        "39\n",
        "$1845 / 1br   650ft\u00b2 \n",
        "[1845]\n",
        "[1]\n",
        "[650]\n",
        "39 [[1845], [1], 650]\n",
        "40\n",
        "$1760 / 1br   AMAZING AMENITIES IN PARK\n",
        "[1760]\n",
        "[1]\n",
        "[]\n",
        "40 [[1760], [1], 0]\n",
        "41\n",
        "$650 / 1br   Looking for roommates right across fremont bart station (fremont / union city / newark)\n",
        "[650]\n",
        "[1]\n",
        "[]\n",
        "41 [[650], [1], 0]\n",
        "42\n",
        "$2095 / 1br   734ft\u00b2 \n",
        "[2095]\n",
        "[1]\n",
        "[734]\n",
        "42 [[2095], [1], 734]\n",
        "43\n",
        "$1950 / 1br   710ft\u00b2 \n",
        "[1950]\n",
        "[1]\n",
        "[710]\n",
        "43 [[1950], [1], 710]\n",
        "44\n",
        "$3200 / 4br   2100ft\u00b2 \n",
        "[3200]\n",
        "[4]\n",
        "[2100]\n",
        "44 [[3200], [4], 2100]\n",
        "45\n",
        "$2249 / 2br   ~LUSH GARDENS, POOL, SAUNA, FITNESS CENTER AND BRIGHT 2 BEDROOM~ (fremont / union city / newark)\n",
        "[2249]\n",
        "[2]\n",
        "[2]\n",
        "45 [[2249], [2], 2]\n",
        "46\n",
        "$3250 / 4br   1866ft\u00b2 \n",
        "[3250]\n",
        "[4]\n",
        "[1866]\n",
        "46 [[3250], [4], 1866]\n",
        "47\n",
        "$1760 / 1br   LUSH GARDENS, POOL, SPA, FITNESS CENTER AND BRIGHT ONE BR (fremont / union city / newark)\n",
        "[1760]\n",
        "[1]\n",
        "[]\n",
        "47 [[1760], [1], 0]\n",
        "48\n",
        "$1795 / 1br   527ft\u00b2 \n",
        "[1795]\n",
        "[1]\n",
        "[527]\n",
        "48 [[1795], [1], 527]\n",
        "49\n",
        "$1848 / 1br   680ft\u00b2 \n",
        "[1848]\n",
        "[1]\n",
        "[680]\n",
        "49 [[1848], [1], 680]\n",
        "50\n",
        "$2384 / 1br   877ft\u00b2 \n",
        "[2384]\n",
        "[1]\n",
        "[877]\n",
        "50 [[2384], [1], 877]\n",
        "51\n",
        "$2800 / 4br   A beautiful house for rent $2,800 (fremont / union city / newark)\n",
        "[2800]\n",
        "[4]\n",
        "[2, 800]\n",
        "51 [[2800], [4], 2, 800]\n"
       ]
      }
     ],
     "prompt_number": 52
    },
    {
     "cell_type": "code",
     "collapsed": false,
     "input": [
      "df"
     ],
     "language": "python",
     "metadata": {},
     "outputs": [
      {
       "html": [
        "<div style=\"max-height:1000px;max-width:1500px;overflow:auto;\">\n",
        "<table border=\"1\" class=\"dataframe\">\n",
        "  <thead>\n",
        "    <tr style=\"text-align: right;\">\n",
        "      <th></th>\n",
        "      <th>rent</th>\n",
        "      <th>beds</th>\n",
        "      <th>sft</th>\n",
        "    </tr>\n",
        "  </thead>\n",
        "  <tbody>\n",
        "    <tr>\n",
        "      <th>0 </th>\n",
        "      <td> [2600]</td>\n",
        "      <td> [2]</td>\n",
        "      <td>    2</td>\n",
        "    </tr>\n",
        "    <tr>\n",
        "      <th>1 </th>\n",
        "      <td> [2084]</td>\n",
        "      <td> [2]</td>\n",
        "      <td>  750</td>\n",
        "    </tr>\n",
        "    <tr>\n",
        "      <th>2 </th>\n",
        "      <td> [1900]</td>\n",
        "      <td> [1]</td>\n",
        "      <td>  737</td>\n",
        "    </tr>\n",
        "    <tr>\n",
        "      <th>3 </th>\n",
        "      <td> [1775]</td>\n",
        "      <td> [1]</td>\n",
        "      <td>    0</td>\n",
        "    </tr>\n",
        "    <tr>\n",
        "      <th>4 </th>\n",
        "      <td> [1760]</td>\n",
        "      <td> [1]</td>\n",
        "      <td>    0</td>\n",
        "    </tr>\n",
        "    <tr>\n",
        "      <th>5 </th>\n",
        "      <td> [2495]</td>\n",
        "      <td> [2]</td>\n",
        "      <td> 1106</td>\n",
        "    </tr>\n",
        "    <tr>\n",
        "      <th>6 </th>\n",
        "      <td> [2600]</td>\n",
        "      <td> [4]</td>\n",
        "      <td> 1321</td>\n",
        "    </tr>\n",
        "    <tr>\n",
        "      <th>7 </th>\n",
        "      <td> [4700]</td>\n",
        "      <td> [5]</td>\n",
        "      <td> 3200</td>\n",
        "    </tr>\n",
        "    <tr>\n",
        "      <th>8 </th>\n",
        "      <td> [2000]</td>\n",
        "      <td> [2]</td>\n",
        "      <td>  900</td>\n",
        "    </tr>\n",
        "    <tr>\n",
        "      <th>9 </th>\n",
        "      <td> [1875]</td>\n",
        "      <td> [1]</td>\n",
        "      <td>  565</td>\n",
        "    </tr>\n",
        "    <tr>\n",
        "      <th>10</th>\n",
        "      <td> [2000]</td>\n",
        "      <td> [1]</td>\n",
        "      <td>  750</td>\n",
        "    </tr>\n",
        "    <tr>\n",
        "      <th>11</th>\n",
        "      <td> [2595]</td>\n",
        "      <td> [2]</td>\n",
        "      <td> 1081</td>\n",
        "    </tr>\n",
        "    <tr>\n",
        "      <th>12</th>\n",
        "      <td> [1895]</td>\n",
        "      <td> [1]</td>\n",
        "      <td>  650</td>\n",
        "    </tr>\n",
        "    <tr>\n",
        "      <th>13</th>\n",
        "      <td> [2500]</td>\n",
        "      <td> [4]</td>\n",
        "      <td> 1820</td>\n",
        "    </tr>\n",
        "    <tr>\n",
        "      <th>14</th>\n",
        "      <td> [1795]</td>\n",
        "      <td> [1]</td>\n",
        "      <td>  527</td>\n",
        "    </tr>\n",
        "    <tr>\n",
        "      <th>15</th>\n",
        "      <td> [3100]</td>\n",
        "      <td> [3]</td>\n",
        "      <td> 1500</td>\n",
        "    </tr>\n",
        "    <tr>\n",
        "      <th>16</th>\n",
        "      <td> [2800]</td>\n",
        "      <td> [5]</td>\n",
        "      <td> 1600</td>\n",
        "    </tr>\n",
        "    <tr>\n",
        "      <th>17</th>\n",
        "      <td> [1950]</td>\n",
        "      <td> [1]</td>\n",
        "      <td>  710</td>\n",
        "    </tr>\n",
        "    <tr>\n",
        "      <th>18</th>\n",
        "      <td> [2800]</td>\n",
        "      <td> [3]</td>\n",
        "      <td> 1752</td>\n",
        "    </tr>\n",
        "    <tr>\n",
        "      <th>19</th>\n",
        "      <td> [2900]</td>\n",
        "      <td> [3]</td>\n",
        "      <td> 1422</td>\n",
        "    </tr>\n",
        "    <tr>\n",
        "      <th>20</th>\n",
        "      <td> [1795]</td>\n",
        "      <td> [1]</td>\n",
        "      <td>  527</td>\n",
        "    </tr>\n",
        "    <tr>\n",
        "      <th>21</th>\n",
        "      <td> [2425]</td>\n",
        "      <td> [2]</td>\n",
        "      <td> 1010</td>\n",
        "    </tr>\n",
        "    <tr>\n",
        "      <th>22</th>\n",
        "      <td> [2394]</td>\n",
        "      <td> [1]</td>\n",
        "      <td>  854</td>\n",
        "    </tr>\n",
        "    <tr>\n",
        "      <th>23</th>\n",
        "      <td> [1625]</td>\n",
        "      <td> [2]</td>\n",
        "      <td>  750</td>\n",
        "    </tr>\n",
        "    <tr>\n",
        "      <th>24</th>\n",
        "      <td> [2400]</td>\n",
        "      <td> [3]</td>\n",
        "      <td> 1576</td>\n",
        "    </tr>\n",
        "    <tr>\n",
        "      <th>25</th>\n",
        "      <td> [2600]</td>\n",
        "      <td> [3]</td>\n",
        "      <td>    3</td>\n",
        "    </tr>\n",
        "    <tr>\n",
        "      <th>26</th>\n",
        "      <td> [2200]</td>\n",
        "      <td> [3]</td>\n",
        "      <td> 1100</td>\n",
        "    </tr>\n",
        "    <tr>\n",
        "      <th>27</th>\n",
        "      <td> [3000]</td>\n",
        "      <td> [4]</td>\n",
        "      <td> 2184</td>\n",
        "    </tr>\n",
        "    <tr>\n",
        "      <th>28</th>\n",
        "      <td> [1820]</td>\n",
        "      <td> [1]</td>\n",
        "      <td>  650</td>\n",
        "    </tr>\n",
        "    <tr>\n",
        "      <th>29</th>\n",
        "      <td> [2295]</td>\n",
        "      <td> [2]</td>\n",
        "      <td>  980</td>\n",
        "    </tr>\n",
        "    <tr>\n",
        "      <th>30</th>\n",
        "      <td> [1926]</td>\n",
        "      <td> [1]</td>\n",
        "      <td>  704</td>\n",
        "    </tr>\n",
        "    <tr>\n",
        "      <th>31</th>\n",
        "      <td> [1995]</td>\n",
        "      <td> [2]</td>\n",
        "      <td> 1008</td>\n",
        "    </tr>\n",
        "    <tr>\n",
        "      <th>32</th>\n",
        "      <td> [2095]</td>\n",
        "      <td> [2]</td>\n",
        "      <td>  980</td>\n",
        "    </tr>\n",
        "    <tr>\n",
        "      <th>33</th>\n",
        "      <td> [2278]</td>\n",
        "      <td> [2]</td>\n",
        "      <td>  985</td>\n",
        "    </tr>\n",
        "    <tr>\n",
        "      <th>34</th>\n",
        "      <td> [2600]</td>\n",
        "      <td> [3]</td>\n",
        "      <td> 1442</td>\n",
        "    </tr>\n",
        "    <tr>\n",
        "      <th>35</th>\n",
        "      <td> [2988]</td>\n",
        "      <td> [4]</td>\n",
        "      <td> 1617</td>\n",
        "    </tr>\n",
        "    <tr>\n",
        "      <th>36</th>\n",
        "      <td> [2700]</td>\n",
        "      <td> [4]</td>\n",
        "      <td> 1500</td>\n",
        "    </tr>\n",
        "    <tr>\n",
        "      <th>37</th>\n",
        "      <td> [2410]</td>\n",
        "      <td> [2]</td>\n",
        "      <td>  901</td>\n",
        "    </tr>\n",
        "    <tr>\n",
        "      <th>38</th>\n",
        "      <td> [1547]</td>\n",
        "      <td> [1]</td>\n",
        "      <td>  660</td>\n",
        "    </tr>\n",
        "    <tr>\n",
        "      <th>39</th>\n",
        "      <td> [1845]</td>\n",
        "      <td> [1]</td>\n",
        "      <td>  650</td>\n",
        "    </tr>\n",
        "    <tr>\n",
        "      <th>40</th>\n",
        "      <td> [1760]</td>\n",
        "      <td> [1]</td>\n",
        "      <td>    0</td>\n",
        "    </tr>\n",
        "    <tr>\n",
        "      <th>41</th>\n",
        "      <td>  [650]</td>\n",
        "      <td> [1]</td>\n",
        "      <td>    0</td>\n",
        "    </tr>\n",
        "    <tr>\n",
        "      <th>42</th>\n",
        "      <td> [2095]</td>\n",
        "      <td> [1]</td>\n",
        "      <td>  734</td>\n",
        "    </tr>\n",
        "    <tr>\n",
        "      <th>43</th>\n",
        "      <td> [1950]</td>\n",
        "      <td> [1]</td>\n",
        "      <td>  710</td>\n",
        "    </tr>\n",
        "    <tr>\n",
        "      <th>44</th>\n",
        "      <td> [3200]</td>\n",
        "      <td> [4]</td>\n",
        "      <td> 2100</td>\n",
        "    </tr>\n",
        "    <tr>\n",
        "      <th>45</th>\n",
        "      <td> [2249]</td>\n",
        "      <td> [2]</td>\n",
        "      <td>    2</td>\n",
        "    </tr>\n",
        "    <tr>\n",
        "      <th>46</th>\n",
        "      <td> [3250]</td>\n",
        "      <td> [4]</td>\n",
        "      <td> 1866</td>\n",
        "    </tr>\n",
        "    <tr>\n",
        "      <th>47</th>\n",
        "      <td> [1760]</td>\n",
        "      <td> [1]</td>\n",
        "      <td>    0</td>\n",
        "    </tr>\n",
        "    <tr>\n",
        "      <th>48</th>\n",
        "      <td> [1795]</td>\n",
        "      <td> [1]</td>\n",
        "      <td>  527</td>\n",
        "    </tr>\n",
        "    <tr>\n",
        "      <th>49</th>\n",
        "      <td> [1848]</td>\n",
        "      <td> [1]</td>\n",
        "      <td>  680</td>\n",
        "    </tr>\n",
        "    <tr>\n",
        "      <th>50</th>\n",
        "      <td> [2384]</td>\n",
        "      <td> [1]</td>\n",
        "      <td>  877</td>\n",
        "    </tr>\n",
        "    <tr>\n",
        "      <th>51</th>\n",
        "      <td>    NaN</td>\n",
        "      <td> NaN</td>\n",
        "      <td>  NaN</td>\n",
        "    </tr>\n",
        "    <tr>\n",
        "      <th>52</th>\n",
        "      <td>    NaN</td>\n",
        "      <td> NaN</td>\n",
        "      <td>  NaN</td>\n",
        "    </tr>\n",
        "    <tr>\n",
        "      <th>53</th>\n",
        "      <td>    NaN</td>\n",
        "      <td> NaN</td>\n",
        "      <td>  NaN</td>\n",
        "    </tr>\n",
        "    <tr>\n",
        "      <th>54</th>\n",
        "      <td>    NaN</td>\n",
        "      <td> NaN</td>\n",
        "      <td>  NaN</td>\n",
        "    </tr>\n",
        "    <tr>\n",
        "      <th>55</th>\n",
        "      <td>    NaN</td>\n",
        "      <td> NaN</td>\n",
        "      <td>  NaN</td>\n",
        "    </tr>\n",
        "    <tr>\n",
        "      <th>56</th>\n",
        "      <td>    NaN</td>\n",
        "      <td> NaN</td>\n",
        "      <td>  NaN</td>\n",
        "    </tr>\n",
        "    <tr>\n",
        "      <th>57</th>\n",
        "      <td>    NaN</td>\n",
        "      <td> NaN</td>\n",
        "      <td>  NaN</td>\n",
        "    </tr>\n",
        "    <tr>\n",
        "      <th>58</th>\n",
        "      <td>    NaN</td>\n",
        "      <td> NaN</td>\n",
        "      <td>  NaN</td>\n",
        "    </tr>\n",
        "    <tr>\n",
        "      <th>59</th>\n",
        "      <td>    NaN</td>\n",
        "      <td> NaN</td>\n",
        "      <td>  NaN</td>\n",
        "    </tr>\n",
        "    <tr>\n",
        "      <th></th>\n",
        "      <td>...</td>\n",
        "      <td>...</td>\n",
        "      <td>...</td>\n",
        "    </tr>\n",
        "  </tbody>\n",
        "</table>\n",
        "<p>501 rows \u00d7 3 columns</p>\n",
        "</div>"
       ],
       "metadata": {},
       "output_type": "pyout",
       "prompt_number": 53,
       "text": [
        "      rent beds   sft\n",
        "0   [2600]  [2]     2\n",
        "1   [2084]  [2]   750\n",
        "2   [1900]  [1]   737\n",
        "3   [1775]  [1]     0\n",
        "4   [1760]  [1]     0\n",
        "5   [2495]  [2]  1106\n",
        "6   [2600]  [4]  1321\n",
        "7   [4700]  [5]  3200\n",
        "8   [2000]  [2]   900\n",
        "9   [1875]  [1]   565\n",
        "10  [2000]  [1]   750\n",
        "11  [2595]  [2]  1081\n",
        "12  [1895]  [1]   650\n",
        "13  [2500]  [4]  1820\n",
        "14  [1795]  [1]   527\n",
        "15  [3100]  [3]  1500\n",
        "16  [2800]  [5]  1600\n",
        "17  [1950]  [1]   710\n",
        "18  [2800]  [3]  1752\n",
        "19  [2900]  [3]  1422\n",
        "20  [1795]  [1]   527\n",
        "21  [2425]  [2]  1010\n",
        "22  [2394]  [1]   854\n",
        "23  [1625]  [2]   750\n",
        "24  [2400]  [3]  1576\n",
        "25  [2600]  [3]     3\n",
        "26  [2200]  [3]  1100\n",
        "27  [3000]  [4]  2184\n",
        "28  [1820]  [1]   650\n",
        "29  [2295]  [2]   980\n",
        "30  [1926]  [1]   704\n",
        "31  [1995]  [2]  1008\n",
        "32  [2095]  [2]   980\n",
        "33  [2278]  [2]   985\n",
        "34  [2600]  [3]  1442\n",
        "35  [2988]  [4]  1617\n",
        "36  [2700]  [4]  1500\n",
        "37  [2410]  [2]   901\n",
        "38  [1547]  [1]   660\n",
        "39  [1845]  [1]   650\n",
        "40  [1760]  [1]     0\n",
        "41   [650]  [1]     0\n",
        "42  [2095]  [1]   734\n",
        "43  [1950]  [1]   710\n",
        "44  [3200]  [4]  2100\n",
        "45  [2249]  [2]     2\n",
        "46  [3250]  [4]  1866\n",
        "47  [1760]  [1]     0\n",
        "48  [1795]  [1]   527\n",
        "49  [1848]  [1]   680\n",
        "50  [2384]  [1]   877\n",
        "51     NaN  NaN   NaN\n",
        "52     NaN  NaN   NaN\n",
        "53     NaN  NaN   NaN\n",
        "54     NaN  NaN   NaN\n",
        "55     NaN  NaN   NaN\n",
        "56     NaN  NaN   NaN\n",
        "57     NaN  NaN   NaN\n",
        "58     NaN  NaN   NaN\n",
        "59     NaN  NaN   NaN\n",
        "       ...  ...   ...\n",
        "\n",
        "[501 rows x 3 columns]"
       ]
      }
     ],
     "prompt_number": 53
    }
   ],
   "metadata": {}
  }
 ]
}