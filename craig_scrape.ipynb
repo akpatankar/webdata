{
 "metadata": {
  "name": ""
 },
 "nbformat": 3,
 "nbformat_minor": 0,
 "worksheets": [
  {
   "cells": [
    {
     "cell_type": "code",
     "collapsed": false,
     "input": [
      "import pandas as pd\n",
      "import numpy as np\n",
      "import pymongo\n",
      "from bs4 import BeautifulSoup\n",
      "import requests as r\n",
      "import re\n",
      "import pdb"
     ],
     "language": "python",
     "metadata": {},
     "outputs": [],
     "prompt_number": 40
    },
    {
     "cell_type": "code",
     "collapsed": false,
     "input": [
      "start_page = \"http://sfbay.craigslist.org/search/eby/apa?nh=54&sale_date=-\"\n",
      "#craig = r.get(start_page)\n",
      "next_page = \"http://sfbay.craigslist.org/search/eby/apa?s=100&nh=54&\"\n",
      "num_posts = [\"100\",\"200\",\"300\",\"400\"]\n",
      "all_pages = []\n",
      "all_pages.append(start_page)\n",
      "for post in num_posts:\n",
      "    next_u = next_page.replace(\"100\", post)\n",
      "    all_pages.append(next_u)"
     ],
     "language": "python",
     "metadata": {},
     "outputs": [],
     "prompt_number": 41
    },
    {
     "cell_type": "code",
     "collapsed": false,
     "input": [
      "all_pages"
     ],
     "language": "python",
     "metadata": {},
     "outputs": [
      {
       "metadata": {},
       "output_type": "pyout",
       "prompt_number": 42,
       "text": [
        "['http://sfbay.craigslist.org/search/eby/apa?nh=54&sale_date=-',\n",
        " 'http://sfbay.craigslist.org/search/eby/apa?s=100&nh=54&',\n",
        " 'http://sfbay.craigslist.org/search/eby/apa?s=200&nh=54&',\n",
        " 'http://sfbay.craigslist.org/search/eby/apa?s=300&nh=54&',\n",
        " 'http://sfbay.craigslist.org/search/eby/apa?s=400&nh=54&']"
       ]
      }
     ],
     "prompt_number": 42
    },
    {
     "cell_type": "code",
     "collapsed": false,
     "input": [
      "urls = []\n",
      "\n",
      "for page in all_pages:\n",
      "    craig = r.get(page)\n",
      "    craig.json\n",
      "    craig.content\n",
      "    soup = BeautifulSoup(craig.content)\n",
      "    for i in soup.find_all('a'):\n",
      "        print i\n",
      "        suburl = i.get('href').encode('utf-8')\n",
      "        urls.append(suburl)"
     ],
     "language": "python",
     "metadata": {},
     "outputs": [
      {
       "output_type": "stream",
       "stream": "stdout",
       "text": [
        "<a href=\"/\">SF bay area</a>\n",
        "<a href=\"/search/hhh\">housing</a>\n",
        "<a href=\"/search/apa\">apts/housing for rent</a>\n",
        "<a href=\"https://post.craigslist.org/c/sfo?lang=en\">post</a>\n",
        "<a href=\"https://accounts.craigslist.org/login/home\">account</a>\n",
        "<a class=\"favlink\" href=\"#\"><span class=\"n\">0</span> favorites</a>\n",
        "<a class=\"saveme\" href=\"https://accounts.craigslist.org/login?rt=L&amp;rp=%2Fsavesearch%2Falert%3FURL%3Dhttp%253A%252F%252Fsfbay%252Ecraigslist%252Eorg%252Fsearch%252Feby%252Fapa%253Fnh%253D54%2526sale%255Fdate%253D%252D\" title=\"save this search with email alerts\">alert</a>\n",
        "<a class=\"saveme\" href=\"https://accounts.craigslist.org/login?rt=L&amp;rp=%2Fsavesearch%2Fsave%3FURL%3Dhttp%253A%252F%252Fsfbay%252Ecraigslist%252Eorg%252Fsearch%252Feby%252Fapa%253Fnh%253D54%2526sale%255Fdate%253D%252D\" title=\"save this search\">save</a>\n",
        "<a class=\"category\" href=\"/search/eby/apa?nh=54&amp;sale_date=-\">apts/housing for rent</a>\n",
        "<a class=\"category\" href=\"/search/eby/rea?nh=54&amp;sale_date=-\">real estate for sale</a>\n",
        "<a class=\"category\" href=\"/search/eby/roo?nh=54&amp;sale_date=-\">rooms &amp; shares</a>\n",
        "<a class=\"category\" href=\"/search/eby/off?nh=54&amp;sale_date=-\">office &amp; commercial</a>\n",
        "<a class=\"category\" href=\"/search/eby/sha?nh=54&amp;sale_date=-\">room/share wanted</a>\n",
        "<a class=\"category\" href=\"/search/eby/hou?nh=54&amp;sale_date=-\">apts wanted</a>\n",
        "<a class=\"category\" href=\"/search/eby/prk?nh=54&amp;sale_date=-\">parking &amp; storage</a>\n",
        "<a class=\"category\" href=\"/search/eby/sub?nh=54&amp;sale_date=-\">sublets &amp; temporary</a>\n",
        "<a class=\"category\" href=\"/search/eby/rew?nh=54&amp;sale_date=-\">real estate wanted</a>\n",
        "<a class=\"category\" href=\"/search/eby/vac?nh=54&amp;sale_date=-\">vacation rentals</a>\n",
        "<a class=\"category\" href=\"/search/eby/swp?nh=54&amp;sale_date=-\">housing swap</a>\n",
        "<a class=\"category\" href=\"/search/eby/sbw?nh=54&amp;sale_date=-\">sublet/temp wanted</a>\n",
        "<a class=\"mode button\" data-view=\"list\" href=\"#list\" id=\"listview\" title=\"show results in a list\">list</a>\n",
        "<a class=\"mode button\" data-view=\"pic\" href=\"#pic\" id=\"picview\" title=\"show results in a list with thumbnail pictures\">thumb</a>\n",
        "<a class=\"mode button\" data-view=\"grid\" href=\"#grid\" id=\"gridview\" title=\"show results side-by-side with larger pictures\">gallery</a>\n",
        "<a class=\"mode button\" data-view=\"map\" href=\"#map\" id=\"mapview\" title=\"show results on a map\">map</a>\n",
        "<a class=\"button\" href=\"/search/eby/apa?sort=priceasc&amp;nh=54&amp;sale_date=-\" title=\"sort by price, lowest to highest\"><span class=\"pricesort\"><span class=\"pricesort\">$</span>$</span>$</a>\n",
        "<a class=\"button\" href=\"/search/eby/apa?sort=pricedsc&amp;nh=54&amp;sale_date=-\" title=\"sort by price, highest to lowest\">$<span class=\"pricesort\">$<span class=\"pricesort\">$</span></span></a>\n",
        "<a class=\"button next\" href=\"/search/eby/apa?s=100&amp;nh=54&amp;sale_date=-\" title=\"next page\"> next &gt; </a>\n",
        "<a class=\"i\" data-id=\"0:00Y0Y_bXIdT3Dt8ZW\" href=\"/eby/apa/4709086634.html\"></a>\n",
        "<a class=\"hdrlnk\" data-id=\"4709086634\" href=\"/eby/apa/4709086634.html\">Beautiful Ardenwood Home in Fremont</a>\n",
        "<a class=\"i\" data-id=\"0:00R0R_d1NIGU3Jn52\" href=\"/eby/apa/4711946435.html\"></a>\n",
        "<a class=\"hdrlnk\" data-id=\"4711946435\" href=\"/eby/apa/4711946435.html\">3 Bed room /1-1/2 Bath Apartment</a>\n",
        "<a class=\"i\" href=\"/eby/apa/4711899551.html\"></a>\n",
        "<a class=\"hdrlnk\" data-id=\"4711899551\" href=\"/eby/apa/4711899551.html\">Remodeled Warm Springs House</a>\n",
        "<a class=\"i\" data-id=\"0:01515_6ZKcUaotSJM\" href=\"/eby/apa/4667100523.html\"></a>\n",
        "<a class=\"hdrlnk\" data-id=\"4667100523\" href=\"/eby/apa/4667100523.html\">4 beds/2 baths near Stevenson /Sundale/880 walking distance to schools</a>\n",
        "<a class=\"i\" href=\"/eby/apa/4711894505.html\"></a>\n",
        "<a class=\"hdrlnk\" data-id=\"4711894505\" href=\"/eby/apa/4711894505.html\">HUGE 2Bed/2Bath Condo, 1200sq ft, Washer/Dryer, Central AC, REAL Garag</a>\n",
        "<a class=\"i\" data-id=\"0:00W0W_4IaT4OiExSx\" href=\"/eby/apa/4711771823.html\"></a>\n",
        "<a class=\"hdrlnk\" data-id=\"4711771823\" href=\"/eby/apa/4711771823.html\">Retreat-Like View, Cats &amp; Dogs Welcome, Skylight, Laundry, Don't Miss!</a>\n",
        "<a class=\"i\" data-id=\"0:00Z0Z_4asqClfHorS\" href=\"/eby/apa/4701722996.html\"></a>\n",
        "<a class=\"hdrlnk\" data-id=\"4701722996\" href=\"/eby/apa/4701722996.html\">Beautiful home in Union City to rent $2449/month</a>\n",
        "<a class=\"i\" data-id=\"0:00V0V_YtMjnXwVmw\" href=\"/eby/apa/4711701394.html\"></a>\n",
        "<a class=\"hdrlnk\" data-id=\"4711701394\" href=\"/eby/apa/4711701394.html\">2nd floor location in Beautiful 2 bedroom</a>\n",
        "<a class=\"i\" href=\"/eby/apa/4711769872.html\"></a>\n",
        "<a class=\"hdrlnk\" data-id=\"4711769872\" href=\"/eby/apa/4711769872.html\">Looking for roommates right across fremont bart station</a>\n",
        "<a class=\"i\" data-id=\"0:00l0l_8zO2Zx1Oo1L\" href=\"/eby/apa/4667238532.html\"></a>\n",
        "<a class=\"hdrlnk\" data-id=\"4667238532\" href=\"/eby/apa/4667238532.html\">Bedroom with shared bath and  kitchen</a>\n",
        "<a class=\"i\" data-id=\"0:01717_4FJkWeISNmH\" href=\"/eby/apa/4711746106.html\"></a>\n",
        "<a class=\"hdrlnk\" data-id=\"4711746106\" href=\"/eby/apa/4711746106.html\">\u25d8CLOSE AND CONVENIENT FOR YOUR LIFESTYLE\u25d8</a>\n",
        "<a class=\"i\" data-id=\"0:00P0P_6QbixFi5hY7\" href=\"/eby/apa/4711731689.html\"></a>\n",
        "<a class=\"hdrlnk\" data-id=\"4711731689\" href=\"/eby/apa/4711731689.html\">RESORT LIVING IN A SERENE PARK SETTING</a>\n",
        "<a class=\"i\" data-id=\"0:00F0F_mYbBBvnFJc\" href=\"/eby/apa/4711669614.html\"></a>\n",
        "<a class=\"hdrlnk\" data-id=\"4711669614\" href=\"/eby/apa/4711669614.html\">Great Location, Garden View, Close to Gym &amp; Pool, Laundry Inside!</a>\n",
        "<a class=\"i\" data-id=\"0:00c0c_gcuDAjVlbRD\" href=\"/eby/apa/4711629640.html\"></a>\n",
        "<a class=\"hdrlnk\" data-id=\"4711629640\" href=\"/eby/apa/4711629640.html\">Pet Friendly on top floor with Fireplace</a>\n",
        "<a class=\"i\" data-id=\"0:00y0y_iI4mZXlPPK7\" href=\"/eby/apa/4696943761.html\"></a>\n",
        "<a class=\"hdrlnk\" data-id=\"4696943761\" href=\"/eby/apa/4696943761.html\">NEWLY REMODLED TWO BED TWONHOUSE</a>\n",
        "<a class=\"i\" data-id=\"0:00303_8TXt1UaHu2c\" href=\"/eby/apa/4711659575.html\"></a>\n",
        "<a class=\"hdrlnk\" data-id=\"4711659575\" href=\"/eby/apa/4711659575.html\">A MUST SEE! BEAUTIFUL ONE BEDROOM APARTMENT HOME!</a>\n",
        "<a class=\"i\" data-id=\"0:00x0x_e8foZYof15H\" href=\"/eby/apa/4711638621.html\"></a>\n",
        "<a class=\"hdrlnk\" data-id=\"4711638621\" href=\"/eby/apa/4711638621.html\">Your New Home Awaits You In This Renovated &amp; Spacious 2BD/2BA</a>\n",
        "<a class=\"i\" data-id=\"0:00505_6297xq4c4kY\" href=\"/eby/apa/4711561337.html\"></a>\n",
        "<a class=\"hdrlnk\" data-id=\"4711561337\" href=\"/eby/apa/4711561337.html\">OPEN FLOOR PLAN WITH A PRIVATE PATIO &amp; GYM</a>\n",
        "<a class=\"i\" data-id=\"0:00O0O_lo0Oz7fCUVh\" href=\"/eby/apa/4711547661.html\"></a>\n",
        "<a class=\"hdrlnk\" data-id=\"4711547661\" href=\"/eby/apa/4711547661.html\">Great 3BR/2.5 bath home for rent in Union city</a>\n",
        "<a class=\"i\" data-id=\"0:01212_6b4awnNx7hX\" href=\"/eby/apa/4711529037.html\"></a>\n",
        "<a class=\"hdrlnk\" data-id=\"4711529037\" href=\"/eby/apa/4711529037.html\">\u2660GREAT PRICE, LOCATION, AND QUIET\u2660</a>\n",
        "<a class=\"i\" data-id=\"0:00W0W_4IaT4OiExSx\" href=\"/eby/apa/4711441253.html\"></a>\n",
        "<a class=\"hdrlnk\" data-id=\"4711441253\" href=\"/eby/apa/4711441253.html\">**Don't Miss! Gorgeous Big Balcoy w/ Storage, Close to Lake &amp; Trail**</a>\n",
        "<a class=\"i\" data-id=\"0:00w0w_6W0XoPJDbDX\" href=\"/eby/apa/4701295277.html\"></a>\n",
        "<a class=\"hdrlnk\" data-id=\"4701295277\" href=\"/eby/apa/4701295277.html\">Updated single family home for rent</a>\n",
        "<a class=\"i\" href=\"/eby/apa/4711496032.html\"></a>\n",
        "<a class=\"hdrlnk\" data-id=\"4711496032\" href=\"/eby/apa/4711496032.html\">Parkmont Area - 4 Bed / 2 Bath Single-level, Single-family </a>\n",
        "<a class=\"i\" data-id=\"0:00r0r_270NAEqiUfU\" href=\"/eby/apa/4711482079.html\"></a>\n",
        "<a class=\"hdrlnk\" data-id=\"4711482079\" href=\"/eby/apa/4711482079.html\">Schedule a Tour, Community Clubhouse, Near Shops and Dining</a>\n",
        "<a class=\"i\" data-id=\"0:00c0c_3EG6Wf9Wbf6\" href=\"/eby/apa/4711396964.html\"></a>\n",
        "<a class=\"hdrlnk\" data-id=\"4711396964\" href=\"/eby/apa/4711396964.html\">Top floor 1 bedroom with Fireplace, W/D, &amp; detached garage</a>\n",
        "<a class=\"i\" data-id=\"0:01212_6b4awnNx7hX\" href=\"/eby/apa/4711462498.html\"></a>\n",
        "<a class=\"hdrlnk\" data-id=\"4711462498\" href=\"/eby/apa/4711462498.html\">FREMONT HUB\u25d8GREAT LOCATION\u25d8GREAT PRICE</a>\n",
        "<a class=\"i\" data-id=\"0:00909_8KOZ61jULjT\" href=\"/eby/apa/4711477837.html\"></a>\n",
        "<a class=\"hdrlnk\" data-id=\"4711477837\" href=\"/eby/apa/4711477837.html\">Ready to move in call now for an appointment!!!!</a>\n",
        "<a class=\"i\" href=\"/eby/apa/4711442471.html\"></a>\n",
        "<a class=\"hdrlnk\" data-id=\"4711442471\" href=\"/eby/apa/4711442471.html\">1 bedr apt for 1550 only in Newark  </a>\n",
        "<a class=\"i\" data-id=\"0:00G0G_1tt4bPyIGca\" href=\"/eby/apa/4711476379.html\"></a>\n",
        "<a class=\"hdrlnk\" data-id=\"4711476379\" href=\"/eby/apa/4711476379.html\">Beautiful one bedroom condo ready to move in</a>\n",
        "<a class=\"i\" data-id=\"0:00U0U_kAqrDLCfeh2\" href=\"/eby/apa/4711438936.html\"></a>\n",
        "<a class=\"hdrlnk\" data-id=\"4711438936\" href=\"/eby/apa/4711438936.html\">\u2665LOOKING FOR PEACE AND QUIET\u2665 COME AND TOUR TODAY\u2665</a>\n",
        "<a class=\"i\" data-id=\"0:00D0D_7kTQEQAMZzL\" href=\"/eby/apa/4711450323.html\"></a>\n",
        "<a class=\"hdrlnk\" data-id=\"4711450323\" href=\"/eby/apa/4711450323.html\">Large 3 bedroom 2 bathroom Condo in Monte Vista Villas for rent</a>\n",
        "<a class=\"i\" href=\"/eby/apa/4711427069.html\"></a>\n",
        "<a class=\"hdrlnk\" data-id=\"4711427069\" href=\"/eby/apa/4711427069.html\">Single story house near Lake Elizebeth</a>\n",
        "<a class=\"i\" data-id=\"0:00r0r_8kJ17LssFzS\" href=\"/eby/apa/4711401643.html\"></a>\n",
        "<a class=\"hdrlnk\" data-id=\"4711401643\" href=\"/eby/apa/4711401643.html\">2 bed 1 bath </a>\n",
        "<a class=\"i\" data-id=\"0:00H0H_cPH9TARg0W0\" href=\"/eby/apa/4711371338.html\"></a>\n",
        "<a class=\"hdrlnk\" data-id=\"4711371338\" href=\"/eby/apa/4711371338.html\">Spacious, open, amazing floor plans! </a>\n",
        "<a class=\"i\" data-id=\"0:00N0N_a1izzqGSeUJ\" href=\"/eby/apa/4711374823.html\"></a>\n",
        "<a class=\"hdrlnk\" data-id=\"4711374823\" href=\"/eby/apa/4711374823.html\">Private 24 ft camper -fully funtional</a>\n",
        "<a class=\"i\" href=\"/eby/apa/4711328744.html\"></a>\n",
        "<a class=\"hdrlnk\" data-id=\"4711328744\" href=\"/eby/apa/4711328744.html\">2 bedroom unit for lease</a>\n",
        "<a class=\"i\" data-id=\"0:00m0m_kr7THWbNbz9\" href=\"/eby/apa/4707608390.html\"></a>\n",
        "<a class=\"hdrlnk\" data-id=\"4707608390\" href=\"/eby/apa/4707608390.html\">\u8c6a\u5b85! \u8c6a\u534e\u5bb6\u79c1\u914d\u5957\u9f50\u0824</a>\n",
        "<a class=\"i\" data-id=\"0:00n0n_dT6KfSXv838\" href=\"/eby/apa/4711266858.html\"></a>\n",
        "<a class=\"hdrlnk\" data-id=\"4711266858\" href=\"/eby/apa/4711266858.html\">Medallion Has All The Space You Need...</a>\n",
        "<a class=\"i\" data-id=\"0:00P0P_6l6yygmkBRp\" href=\"/eby/apa/4711290032.html\"></a>\n",
        "<a class=\"hdrlnk\" data-id=\"4711290032\" href=\"/eby/apa/4711290032.html\">24-Hour Fitness Center. Wi-Fi Cafe, Gorgeous Courtyard &amp; More!</a>\n",
        "<a class=\"i\" data-id=\"0:00101_8WvMKHcafSI\" href=\"/eby/apa/4705189045.html\"></a>\n",
        "<a class=\"hdrlnk\" data-id=\"4705189045\" href=\"/eby/apa/4705189045.html\">Corner Unit in Gated Complex!</a>\n",
        "<a class=\"i\" href=\"/eby/apa/4711260041.html\"></a>\n",
        "<a class=\"hdrlnk\" data-id=\"4711260041\" href=\"/eby/apa/4711260041.html\">Single Family House for Rent in Mission San Jose</a>\n",
        "<a class=\"i\" data-id=\"0:00k0k_hEgBe3H99tN\" href=\"/eby/apa/4711254653.html\"></a>\n",
        "<a class=\"hdrlnk\" data-id=\"4711254653\" href=\"/eby/apa/4711254653.html\">\"Great Home!\"</a>\n",
        "<a class=\"i\" data-id=\"0:01717_2aIY080nGpL\" href=\"/eby/apa/4711253119.html\"></a>\n",
        "<a class=\"hdrlnk\" data-id=\"4711253119\" href=\"/eby/apa/4711253119.html\">Remodel Union City Townhouse with 2 car garage</a>\n",
        "<a class=\"i\" data-id=\"0:00F0F_k0sXhYKUMDr\" href=\"/eby/apa/4711243094.html\"></a>\n",
        "<a class=\"hdrlnk\" data-id=\"4711243094\" href=\"/eby/apa/4711243094.html\">COME BY TODAY! Available for Move- In Today! </a>\n",
        "<a class=\"i\" data-id=\"0:00L0L_draW8rVwhKK\" href=\"/eby/apa/4711238589.html\"></a>\n",
        "<a class=\"hdrlnk\" data-id=\"4711238589\" href=\"/eby/apa/4711238589.html\">Beautiful Niles Community! Upstairs  Move-In October 23th!</a>\n",
        "<a class=\"i\" data-id=\"0:00e0e_fB7TvHAQqHa\" href=\"/eby/apa/4708303465.html\"></a>\n",
        "<a class=\"hdrlnk\" data-id=\"4708303465\" href=\"/eby/apa/4708303465.html\">Single Family Home Newark,very big lot and fruit trees</a>\n",
        "<a class=\"i\" data-id=\"0:00E0E_8x7barJQifd\" href=\"/eby/apa/4711216233.html\"></a>\n",
        "<a class=\"hdrlnk\" data-id=\"4711216233\" href=\"/eby/apa/4711216233.html\">Ready to move in call now for an appointment!!!!</a>\n",
        "<a class=\"i\" data-id=\"0:00K0K_fRPqhMcntQC\" href=\"/eby/apa/4711194779.html\"></a>\n",
        "<a class=\"hdrlnk\" data-id=\"4711194779\" href=\"/eby/apa/4711194779.html\">\u0095\u0095\u0095LIVE CLOSE TO THE CITY\u2665\u0095\u0095</a>\n",
        "<a class=\"i\" data-id=\"0:00f0f_2C17sC2Iblw\" href=\"/eby/apa/4711175500.html\"></a>\n",
        "<a class=\"hdrlnk\" data-id=\"4711175500\" href=\"/eby/apa/4711175500.html\">Energy-saving Kitchens with Built-in Microwaves</a>\n",
        "<a class=\"i\" data-id=\"0:00c0c_9ZMug97Ukbw\" href=\"/eby/apa/4711163775.html\"></a>\n",
        "<a class=\"hdrlnk\" data-id=\"4711163775\" href=\"/eby/apa/4711163775.html\">Spacious and Amazing.. talk about luxury!</a>\n",
        "<a class=\"i\" data-id=\"0:00K0K_eaOrypuLTwE\" href=\"/eby/apa/4711162750.html\"></a>\n",
        "<a class=\"hdrlnk\" data-id=\"4711162750\" href=\"/eby/apa/4711162750.html\">Home is always a stunning, tranquil retreat at Heritage Village</a>\n",
        "<a class=\"i\" data-id=\"0:00V0V_gjzmKCsUh7P\" href=\"/eby/apa/4711160900.html\"></a>\n",
        "<a class=\"hdrlnk\" data-id=\"4711160900\" href=\"/eby/apa/4711160900.html\">Best Community in Fremont with Washer &amp; Dryer!</a>\n",
        "<a class=\"i\" data-id=\"0:00c0c_9ZMug97Ukbw\" href=\"/eby/apa/4711155844.html\"></a>\n",
        "<a class=\"hdrlnk\" data-id=\"4711155844\" href=\"/eby/apa/4711155844.html\">Appealing Apartment Community that has a Park-Like Setting</a>\n",
        "<a class=\"i\" data-id=\"0:00Z0Z_gE69LdZgTgc\" href=\"/eby/apa/4711154407.html\"></a>\n",
        "<a class=\"hdrlnk\" data-id=\"4711154407\" href=\"/eby/apa/4711154407.html\">Get Spoiled Here! Concierge, Clubhouse, Fitness Center &amp; More</a>\n",
        "<a class=\"i\" data-id=\"0:00q0q_jjXwAvCX4Gg\" href=\"/eby/apa/4711152261.html\"></a>\n",
        "<a class=\"hdrlnk\" data-id=\"4711152261\" href=\"/eby/apa/4711152261.html\">Available Immediately!</a>\n",
        "<a class=\"i\" data-id=\"0:00P0P_6QbixFi5hY7\" href=\"/eby/apa/4711129092.html\"></a>\n",
        "<a class=\"hdrlnk\" data-id=\"4711129092\" href=\"/eby/apa/4711129092.html\">PRIVATE END UNIT, LARGE STORAGE, YOUR NEW HOME IS HERE!</a>\n",
        "<a class=\"i\" data-id=\"0:00d0d_cD18ERPCPAV\" href=\"/eby/apa/4711111236.html\"></a>\n",
        "<a class=\"hdrlnk\" data-id=\"4711111236\" href=\"/eby/apa/4711111236.html\">\u263bBART RIDERS DREAM/CLOSE TO SHOPPING\u263b</a>\n",
        "<a class=\"i\" data-id=\"0:00l0l_a2bJzMezoij\" href=\"/eby/apa/4711084884.html\"></a>\n",
        "<a class=\"hdrlnk\" data-id=\"4711084884\" href=\"/eby/apa/4711084884.html\">Charming apartment homes w/spacious and open kitchen layout!</a>\n",
        "<a class=\"i\" data-id=\"0:00x0x_e8foZYof15H\" href=\"/eby/apa/4711064129.html\"></a>\n",
        "<a class=\"hdrlnk\" data-id=\"4711064129\" href=\"/eby/apa/4711064129.html\">Wake Up To Views Of The Hills &amp; Walk To BART... @ Watermark Place</a>\n",
        "<a class=\"i\" data-id=\"0:00O0O_3cjq6smNxRQ\" href=\"/eby/apa/4711067392.html\"></a>\n",
        "<a class=\"hdrlnk\" data-id=\"4711067392\" href=\"/eby/apa/4711067392.html\">Luxurious Homes, Near Public Parks, Parkmont Schools</a>\n",
        "<a class=\"i\" data-id=\"0:00b0b_eVsQlMbEEnB\" href=\"/eby/apa/4711061710.html\"></a>\n",
        "<a class=\"hdrlnk\" data-id=\"4711061710\" href=\"/eby/apa/4711061710.html\">Ardenwood updated SFH for rent- Dec 2014</a>\n",
        "<a class=\"i\" data-id=\"0:01414_4SpX7dxY3vo\" href=\"/eby/apa/4711030749.html\"></a>\n",
        "<a class=\"hdrlnk\" data-id=\"4711030749\" href=\"/eby/apa/4711030749.html\">\u2660\u2665QUIET, COMFORT, &amp; CONVENIENCE! YOU DESERVE THE BEST!\u2660</a>\n",
        "<a class=\"i\" data-id=\"0:00P0P_66goakhD6WF\" href=\"/eby/apa/4710977244.html\"></a>\n",
        "<a class=\"hdrlnk\" data-id=\"4710977244\" href=\"/eby/apa/4710977244.html\">Elegant Single Family Home</a>\n",
        "<a class=\"i\" data-id=\"0:00202_cmJ3Yxs4iKn\" href=\"/eby/apa/4710948402.html\"></a>\n",
        "<a class=\"hdrlnk\" data-id=\"4710948402\" href=\"/eby/apa/4710948402.html\">** Beautiful 3BD Single Family Home - with Full Amenities ***</a>\n",
        "<a class=\"i\" data-id=\"0:00s0s_3NTuGnVHJih\" href=\"/eby/apa/4710699054.html\"></a>\n",
        "<a class=\"hdrlnk\" data-id=\"4710699054\" href=\"/eby/apa/4710699054.html\">Mission Village 2BD/2 Full Bath Condo</a>\n",
        "<a class=\"i\" data-id=\"0:00p0p_gH4J1jdmzRo\" href=\"/eby/apa/4710690027.html\"></a>\n",
        "<a class=\"hdrlnk\" data-id=\"4710690027\" href=\"/eby/apa/4710690027.html\">COTTAGE / In-Law in Fremont </a>\n",
        "<a class=\"i\" data-id=\"0:00f0f_aGqwkQx0ay1\" href=\"/eby/apa/4710676926.html\"></a>\n",
        "<a class=\"hdrlnk\" data-id=\"4710676926\" href=\"/eby/apa/4710676926.html\">Beautiful Parkmont Condo For Rent Walk to bart</a>\n",
        "<a class=\"i\" data-id=\"0:00S0S_br7KjEDCPHQ\" href=\"/eby/apa/4700775920.html\"></a>\n",
        "<a class=\"hdrlnk\" data-id=\"4700775920\" href=\"/eby/apa/4700775920.html\">Home in Weibel elementary school area</a>\n",
        "<a class=\"i\" data-id=\"0:00000_eiSJYLeUGZj\" href=\"/eby/apa/4710498444.html\"></a>\n",
        "<a class=\"hdrlnk\" data-id=\"4710498444\" href=\"/eby/apa/4710498444.html\">*Carriage House* Gated Community in a Quiet and Friendly Neighborhood!</a>\n",
        "<a class=\"i\" data-id=\"0:00000_eiSJYLeUGZj\" href=\"/eby/apa/4710499204.html\"></a>\n",
        "<a class=\"hdrlnk\" data-id=\"4710499204\" href=\"/eby/apa/4710499204.html\">*Carriage House* Gated Community in a Quiet and Friendly Neighborhood!</a>\n",
        "<a class=\"i\" data-id=\"0:00l0l_lfOPMEXD3Co\" href=\"/eby/apa/4710494763.html\"></a>\n",
        "<a class=\"hdrlnk\" data-id=\"4710494763\" href=\"/eby/apa/4710494763.html\">AMAZING AMENITIES IN PARK-LIKE COMMUNITY</a>\n",
        "<a class=\"i\" data-id=\"0:00z0z_4RRGiVJOn5L\" href=\"/eby/apa/4710469884.html\"></a>\n",
        "<a class=\"hdrlnk\" data-id=\"4710469884\" href=\"/eby/apa/4710469884.html\">\u2665HOME IS WHERE THE HEART IS\u2665WASHER/DYER IN UNIT\u2660</a>\n",
        "<a class=\"i\" data-id=\"0:00I0I_q1cebQKNNO\" href=\"/eby/apa/4710451031.html\"></a>\n",
        "<a class=\"hdrlnk\" data-id=\"4710451031\" href=\"/eby/apa/4710451031.html\">Affordable One Bedroom Near Public Transportation, Shopping and Dining</a>\n",
        "<a class=\"i\" data-id=\"0:00l0l_8AhEDw3gy8a\" href=\"/eby/apa/4710471246.html\"></a>\n",
        "<a class=\"hdrlnk\" data-id=\"4710471246\" href=\"/eby/apa/4710471246.html\">Spacious 3 BR Apt! Close to UC BART! Shopping &amp; More</a>\n",
        "<a class=\"i\" data-id=\"0:00J0J_eQnYEbKHug9\" href=\"/eby/apa/4710459519.html\"></a>\n",
        "<a class=\"hdrlnk\" data-id=\"4710459519\" href=\"/eby/apa/4710459519.html\">MISSION: ANTELOPE HILLS 3 BR 2 1/5 BATH </a>\n",
        "<a class=\"i\" data-id=\"0:00q0q_jjXwAvCX4Gg\" href=\"/eby/apa/4710455323.html\"></a>\n",
        "<a class=\"hdrlnk\" data-id=\"4710455323\" href=\"/eby/apa/4710455323.html\">Enjoy Separate Dining Rooms in our BR Apartments</a>\n",
        "<a class=\"i\" data-id=\"0:00M0M_hEv7Ng7bn7L\" href=\"/eby/apa/4710368477.html\"></a>\n",
        "<a class=\"hdrlnk\" data-id=\"4710368477\" href=\"/eby/apa/4710368477.html\">Available November 11th!!</a>\n",
        "<a class=\"i\" data-id=\"0:00R0R_iAkJ3JvUj4K\" href=\"/eby/apa/4710369193.html\"></a>\n",
        "<a class=\"hdrlnk\" data-id=\"4710369193\" href=\"/eby/apa/4710369193.html\">Only One Available November 1st</a>\n",
        "<a class=\"i\" data-id=\"0:00404_5oXDHu2lezH\" href=\"/eby/apa/4710371000.html\"></a>\n",
        "<a class=\"hdrlnk\" data-id=\"4710371000\" href=\"/eby/apa/4710371000.html\">Large Dual Floor Plan First Availability October 15th </a>\n",
        "<a class=\"i\" data-id=\"0:00j0j_2OO50Ej4Btl\" href=\"/eby/apa/4706955374.html\"></a>\n",
        "<a class=\"hdrlnk\" data-id=\"4706955374\" href=\"/eby/apa/4706955374.html\">3 Bedroom Union City Home</a>\n",
        "<a class=\"i\" data-id=\"0:00l0l_8AhEDw3gy8a\" href=\"/eby/apa/4710402279.html\"></a>\n",
        "<a class=\"hdrlnk\" data-id=\"4710402279\" href=\"/eby/apa/4710402279.html\">Available Soon! Perfect Location! 2 BR &amp; 2 BA!</a>\n",
        "<a class=\"i\" data-id=\"0:00f0f_7ERJq4wTYPm\" href=\"/eby/apa/4710410118.html\"></a>\n",
        "<a class=\"hdrlnk\" data-id=\"4710410118\" href=\"/eby/apa/4710410118.html\">Mission Home - 699 Patriot Place - Fremont</a>\n",
        "<a class=\"i\" data-id=\"0:00S0S_i5RLVK07E4J\" href=\"/eby/apa/4707251377.html\"></a>\n",
        "<a class=\"hdrlnk\" data-id=\"4707251377\" href=\"/eby/apa/4707251377.html\">3 bed 2 .5 bath townhome remodeled in Fremont </a>\n",
        "<a class=\"i\" data-id=\"0:00S0S_i5RLVK07E4J\" href=\"/eby/apa/4696287452.html\"></a>\n",
        "<a class=\"hdrlnk\" data-id=\"4696287452\" href=\"/eby/apa/4696287452.html\">Great 3 bed 2.5 bath townhome remodeled in Fremont </a>\n",
        "<a class=\"i\" data-id=\"0:00I0I_67AKdyT04mh\" href=\"/eby/apa/4710387905.html\"></a>\n",
        "<a class=\"hdrlnk\" data-id=\"4710387905\" href=\"/eby/apa/4710387905.html\">\u25d8CLOSE AND CONVENIENT FOR YOUR LIFESTYLE\u25d8</a>\n",
        "<a class=\"i\" data-id=\"0:00F0F_lKupFk02Ssb\" href=\"/eby/apa/4710383619.html\"></a>\n",
        "<a class=\"hdrlnk\" data-id=\"4710383619\" href=\"/eby/apa/4710383619.html\">***COME BY TODAY AND LET US SHOW YOU YOUR NEXT NEW HOME***</a>\n",
        "<a class=\"i\" data-id=\"0:00m0m_cWJxHiTk5Cg\" href=\"/eby/apa/4706543545.html\"></a>\n",
        "<a class=\"hdrlnk\" data-id=\"4706543545\" href=\"/eby/apa/4706543545.html\">nice 2 bed/2 car garage condo,  open Sunday 3:15-3:45</a>\n",
        "<a class=\"i\" data-id=\"0:01515_273Zi2PUPhy\" href=\"/eby/apa/4710360494.html\"></a>\n",
        "<a class=\"hdrlnk\" data-id=\"4710360494\" href=\"/eby/apa/4710360494.html\">37 Silk Oak, Fremont - Nice Townhome</a>\n",
        "<a class=\"i\" data-id=\"0:00Y0Y_a9JSJpuPOiw\" href=\"/eby/apa/4710357634.html\"></a>\n",
        "<a class=\"hdrlnk\" data-id=\"4710357634\" href=\"/eby/apa/4710357634.html\">A small house for rent at Newark</a>\n",
        "<a class=\"i\" data-id=\"0:00000_eiSJYLeUGZj\" href=\"/eby/apa/4710316373.html\"></a>\n",
        "<a class=\"hdrlnk\" data-id=\"4710316373\" href=\"/eby/apa/4710316373.html\">*Carriage House* Gated Community in a Quiet and Friendly Neighborhood!</a>\n",
        "<a class=\"i\" data-id=\"0:00v0v_6tAzW9Dh2h2\" href=\"/eby/apa/4710319342.html\"></a>\n",
        "<a class=\"hdrlnk\" data-id=\"4710319342\" href=\"/eby/apa/4710319342.html\">Available Immediately! 2x2 with HUGE balcony and walk in closet!</a>\n",
        "<a class=\"i\" data-id=\"0:00000_eiSJYLeUGZj\" href=\"/eby/apa/4710317042.html\"></a>\n",
        "<a class=\"hdrlnk\" data-id=\"4710317042\" href=\"/eby/apa/4710317042.html\">*Carriage House* Gated Community in a Quiet and Friendly Neighborhood!</a>\n",
        "<a class=\"i\" data-id=\"0:01212_6b4awnNx7hX\" href=\"/eby/apa/4710320249.html\"></a>\n",
        "<a class=\"hdrlnk\" data-id=\"4710320249\" href=\"/eby/apa/4710320249.html\">\u2666\u263aBRAND NEW EVERYTHING!\u2666\u263a</a>\n",
        "<a class=\"i\" data-id=\"0:00404_jtiTwqioDiD\" href=\"/eby/apa/4690381673.html\"></a>\n",
        "<a class=\"hdrlnk\" data-id=\"4690381673\" href=\"/eby/apa/4690381673.html\">Fremont Parkmont  Townhse</a>\n",
        "<a class=\"i\" data-id=\"0:00v0v_bSM1pYytCIH\" href=\"/eby/apa/4710314987.html\"></a>\n",
        "<a class=\"hdrlnk\" data-id=\"4710314987\" href=\"/eby/apa/4710314987.html\">PARK-LIKE LANDSCAPING, POOL, SPA, FITNESS CENTER</a>\n",
        "<a class=\"i\" data-id=\"0:00D0D_c5sIX71krZa\" href=\"/eby/apa/4710259152.html\"></a>\n",
        "<a class=\"hdrlnk\" data-id=\"4710259152\" href=\"/eby/apa/4710259152.html\">Visit Your New Home, Night Patrol, Fitness Ctr, Easy Freeway Access</a>\n",
        "<a class=\"i\" data-id=\"0:00808_hym55XIa38U\" href=\"/eby/apa/4710256324.html\"></a>\n",
        "<a class=\"hdrlnk\" data-id=\"4710256324\" href=\"/eby/apa/4710256324.html\">Immediate Move In Available With Upgraded Finishes</a>\n",
        "<a class=\"i\" data-id=\"0:00c0c_bvTncySuv5d\" href=\"/eby/apa/4710220313.html\"></a>\n",
        "<a class=\"hdrlnk\" data-id=\"4710220313\" href=\"/eby/apa/4710220313.html\">SPACIOUS, Townhome Apartments</a>\n",
        "<a class=\"i\" data-id=\"0:00H0H_dJibKEV1YRD\" href=\"/eby/apa/4710227618.html\"></a>\n",
        "<a class=\"hdrlnk\" data-id=\"4710227618\" href=\"/eby/apa/4710227618.html\">$3100 / 4BR-3BA - 2030ft\ufffd - Bright Ardenwood SFH Open House 2-4pm10/11</a>\n",
        "<a class=\"i\" data-id=\"0:00l0l_f41eMuN5srv\" href=\"/eby/apa/4710191971.html\"></a>\n",
        "<a class=\"hdrlnk\" data-id=\"4710191971\" href=\"/eby/apa/4710191971.html\">\u2665HOME IS WHERE THE HEART IS\u2665HUGE MASTERBEDROOM\u2666</a>\n",
        "<a class=\"button next\" href=\"/search/eby/apa?s=100&amp;nh=54&amp;sale_date=-\" title=\"next page\"> next &gt; </a>\n",
        "<a class=\"backtotop button\" href=\"#pagecontainer\">^ back to top</a>\n",
        "<a class=\"l\" href=\"http://sfbay.craigslist.org/search/eby/apa?nh=54&amp;sale_date=-&amp;format=rss\">RSS</a>\n",
        "<a href=\"http://www.craigslist.org/about/rss\">(?)</a>\n",
        "<a href=\"//www.craigslist.org/about/help/\">help</a>\n",
        "<a href=\"//www.craigslist.org/about/scams\">safety</a>\n",
        "<a href=\"//www.craigslist.org/about/privacy.policy\">privacy</a>\n",
        "<a href=\"https://forums.craigslist.org/?forumID=8\">feedback</a>\n",
        "<a href=\"//www.craigslist.org/about/craigslist_is_hiring\">cl jobs</a>\n",
        "<a href=\"//www.craigslist.org/about/terms.of.use\">terms</a>\n",
        "<a href=\"//www.craigslist.org/about/\">about</a>\n",
        "<a href=\"/\">SF bay area</a>"
       ]
      },
      {
       "output_type": "stream",
       "stream": "stdout",
       "text": [
        "\n",
        "<a href=\"/search/hhh\">housing</a>\n",
        "<a href=\"/search/apa\">apts/housing for rent</a>\n",
        "<a href=\"https://post.craigslist.org/c/sfo?lang=en\">post</a>\n",
        "<a href=\"https://accounts.craigslist.org/login/home\">account</a>\n",
        "<a class=\"favlink\" href=\"#\"><span class=\"n\">0</span> favorites</a>\n",
        "<a class=\"saveme\" href=\"https://accounts.craigslist.org/login?rt=L&amp;rp=%2Fsavesearch%2Falert%3FURL%3Dhttp%253A%252F%252Fsfbay%252Ecraigslist%252Eorg%252Fsearch%252Feby%252Fapa%253Fnh%253D54\" title=\"save this search with email alerts\">alert</a>\n",
        "<a class=\"saveme\" href=\"https://accounts.craigslist.org/login?rt=L&amp;rp=%2Fsavesearch%2Fsave%3FURL%3Dhttp%253A%252F%252Fsfbay%252Ecraigslist%252Eorg%252Fsearch%252Feby%252Fapa%253Fnh%253D54\" title=\"save this search\">save</a>\n",
        "<a class=\"category\" href=\"/search/eby/apa?nh=54\">apts/housing for rent</a>\n",
        "<a class=\"category\" href=\"/search/eby/rea?nh=54\">real estate for sale</a>\n",
        "<a class=\"category\" href=\"/search/eby/roo?nh=54\">rooms &amp; shares</a>\n",
        "<a class=\"category\" href=\"/search/eby/off?nh=54\">office &amp; commercial</a>\n",
        "<a class=\"category\" href=\"/search/eby/sha?nh=54\">room/share wanted</a>\n",
        "<a class=\"category\" href=\"/search/eby/hou?nh=54\">apts wanted</a>\n",
        "<a class=\"category\" href=\"/search/eby/prk?nh=54\">parking &amp; storage</a>\n",
        "<a class=\"category\" href=\"/search/eby/sub?nh=54\">sublets &amp; temporary</a>\n",
        "<a class=\"category\" href=\"/search/eby/rew?nh=54\">real estate wanted</a>\n",
        "<a class=\"category\" href=\"/search/eby/vac?nh=54\">vacation rentals</a>\n",
        "<a class=\"category\" href=\"/search/eby/swp?nh=54\">housing swap</a>\n",
        "<a class=\"category\" href=\"/search/eby/sbw?nh=54\">sublet/temp wanted</a>\n",
        "<a class=\"mode button\" data-view=\"list\" href=\"#list\" id=\"listview\" title=\"show results in a list\">list</a>\n",
        "<a class=\"mode button\" data-view=\"pic\" href=\"#pic\" id=\"picview\" title=\"show results in a list with thumbnail pictures\">thumb</a>\n",
        "<a class=\"mode button\" data-view=\"grid\" href=\"#grid\" id=\"gridview\" title=\"show results side-by-side with larger pictures\">gallery</a>\n",
        "<a class=\"mode button\" data-view=\"map\" href=\"#map\" id=\"mapview\" title=\"show results on a map\">map</a>\n",
        "<a class=\"button\" href=\"/search/eby/apa?sort=priceasc&amp;nh=54\" title=\"sort by price, lowest to highest\"><span class=\"pricesort\"><span class=\"pricesort\">$</span>$</span>$</a>\n",
        "<a class=\"button\" href=\"/search/eby/apa?sort=pricedsc&amp;nh=54\" title=\"sort by price, highest to lowest\">$<span class=\"pricesort\">$<span class=\"pricesort\">$</span></span></a>\n",
        "<a class=\"button first\" href=\"/search/eby/apa?nh=54\" title=\"first page\">&lt;&lt;</a>\n",
        "<a class=\"button prev\" href=\"/search/eby/apa?nh=54\" title=\"previous page\">&lt; prev</a>\n",
        "<a class=\"button next\" href=\"/search/eby/apa?s=200&amp;nh=54\" title=\"next page\"> next &gt; </a>\n",
        "<a class=\"i\" data-id=\"0:00707_1SpdSZOTxrY\" href=\"/eby/apa/4710205842.html\"></a>\n",
        "<a class=\"hdrlnk\" data-id=\"4710205842\" href=\"/eby/apa/4710205842.html\">Have the best of the Bay Area within reach at Skylark Apartments!</a>\n",
        "<a class=\"i\" data-id=\"0:00707_1SpdSZOTxrY\" href=\"/eby/apa/4710193155.html\"></a>\n",
        "<a class=\"hdrlnk\" data-id=\"4710193155\" href=\"/eby/apa/4710193155.html\">Top Floor 2 bed 1 Bath! The Place To Live!</a>\n",
        "<a class=\"i\" data-id=\"0:00j0j_4Br4gJiLlOH\" href=\"/eby/apa/4710152904.html\"></a>\n",
        "<a class=\"hdrlnk\" data-id=\"4710152904\" href=\"/eby/apa/4710152904.html\">Fabulous apartment, walking distance to Lake Elizabeth</a>\n",
        "<a class=\"i\" data-id=\"0:00v0v_bPArceVPvEB\" href=\"/eby/apa/4710176266.html\"></a>\n",
        "<a class=\"hdrlnk\" data-id=\"4710176266\" href=\"/eby/apa/4710176266.html\">Spacious Studio Apartment in Downtown Fremont move in ready 11/15/2014</a>\n",
        "<a class=\"i\" data-id=\"0:00F0F_eYh5o79caK8\" href=\"/eby/apa/4710174102.html\"></a>\n",
        "<a class=\"hdrlnk\" data-id=\"4710174102\" href=\"/eby/apa/4710174102.html\">Ready to move in call now for an appointment!!!!</a>\n",
        "<a class=\"i\" data-id=\"0:00T0T_cq3QzP8w3Ft\" href=\"/eby/apa/4710164005.html\"></a>\n",
        "<a class=\"hdrlnk\" data-id=\"4710164005\" href=\"/eby/apa/4710164005.html\">Lovely Place To Call Home! Sparkling pool &amp; relaxing spa!  $300 Dep.</a>\n",
        "<a class=\"i\" data-id=\"0:00N0N_kpjyetNT7d\" href=\"/eby/apa/4710161708.html\"></a>\n",
        "<a class=\"hdrlnk\" data-id=\"4710161708\" href=\"/eby/apa/4710161708.html\">GORGEOUS,TOP FLOOR APARTMENT,VISIT AMBER COURT TODAY! </a>\n",
        "<a class=\"i\" href=\"/eby/apa/4710161785.html\"></a>\n",
        "<a class=\"hdrlnk\" data-id=\"4710161785\" href=\"/eby/apa/4710161785.html\">Move Nov. 17th.....</a>\n",
        "<a class=\"i\" data-id=\"0:00L0L_draW8rVwhKK\" href=\"/eby/apa/4691387359.html\"></a>\n",
        "<a class=\"hdrlnk\" data-id=\"4691387359\" href=\"/eby/apa/4691387359.html\">Beautiful Niles Community! Move-In October 16th  Upstairs !</a>\n",
        "<a class=\"i\" data-id=\"0:00R0R_VBEuojEggQ\" href=\"/eby/apa/4701965908.html\"></a>\n",
        "<a class=\"hdrlnk\" data-id=\"4701965908\" href=\"/eby/apa/4701965908.html\">COME BY TODAY! Available for October 13Th  Move- In! </a>\n",
        "<a class=\"i\" data-id=\"0:00202_f2yFXjohypR\" href=\"/eby/apa/4710148039.html\"></a>\n",
        "<a class=\"hdrlnk\" data-id=\"4710148039\" href=\"/eby/apa/4710148039.html\">Do You Love Where You Live? Our Resident's Do!</a>\n",
        "<a class=\"i\" data-id=\"0:00C0C_4bsh8Ty5QMY\" href=\"/eby/apa/4710128373.html\"></a>\n",
        "<a class=\"hdrlnk\" data-id=\"4710128373\" href=\"/eby/apa/4710128373.html\"> No stairs to climb!!Near By Shopping Centers!</a>\n",
        "<a class=\"i\" data-id=\"0:00x0x_aoMDfSjdWAa\" href=\"/eby/apa/4710131865.html\"></a>\n",
        "<a class=\"hdrlnk\" data-id=\"4710131865\" href=\"/eby/apa/4710131865.html\">Ready to Rent!</a>\n",
        "<a class=\"i\" href=\"/eby/apa/4710093416.html\"></a>\n",
        "<a class=\"hdrlnk\" data-id=\"4710093416\" href=\"/eby/apa/4710093416.html\">A Fantastic Two Bedroom One Bath, Apartment Home. Ready 10/13!</a>\n",
        "<a class=\"i\" data-id=\"0:00l0l_8AhEDw3gy8a\" href=\"/eby/apa/4710087560.html\"></a>\n",
        "<a class=\"hdrlnk\" data-id=\"4710087560\" href=\"/eby/apa/4710087560.html\">Get More for Your Money! Great Value BR Apt!</a>\n",
        "<a class=\"i\" data-id=\"0:00P0P_983gCQeQ8DD\" href=\"/eby/apa/4710094314.html\"></a>\n",
        "<a class=\"hdrlnk\" data-id=\"4710094314\" href=\"/eby/apa/4710094314.html\">Our Most Popular Floor Plan!</a>\n",
        "<a class=\"i\" data-id=\"0:00F0F_4Ztz0a8KbEZ\" href=\"/eby/apa/4710068294.html\"></a>\n",
        "<a class=\"hdrlnk\" data-id=\"4710068294\" href=\"/eby/apa/4710068294.html\">PARK-LIKE SETTING IN PRIME LOCATION, DESIGNER 2 BR</a>\n",
        "<a class=\"i\" data-id=\"0:00505_g3Hh3TgNe8Z\" href=\"/eby/apa/4710062194.html\"></a>\n",
        "<a class=\"hdrlnk\" data-id=\"4710062194\" href=\"/eby/apa/4710062194.html\">\u2666COME AND SEE WHAT YOU HAVE BEEN MISSING\u2666</a>\n",
        "<a class=\"i\" data-id=\"0:00S0S_i5RLVK07E4J\" href=\"/eby/apa/4677306808.html\"></a>\n",
        "<a class=\"hdrlnk\" data-id=\"4677306808\" href=\"/eby/apa/4677306808.html\">3 bed 2 .5 bath townhome remodeled in Fremont </a>\n",
        "<a class=\"i\" data-id=\"0:01212_ctbXaiN0E4i\" href=\"/eby/apa/4709938060.html\"></a>\n",
        "<a class=\"hdrlnk\" data-id=\"4709938060\" href=\"/eby/apa/4709938060.html\">Great apartment close to shopping and BART!</a>\n",
        "<a class=\"i\" data-id=\"0:00000_eiSJYLeUGZj\" href=\"/eby/apa/4709996336.html\"></a>\n",
        "<a class=\"hdrlnk\" data-id=\"4709996336\" href=\"/eby/apa/4709996336.html\">*Carriage House* Gated Community in a Quiet and Friendly Neighborhood!</a>\n",
        "<a class=\"i\" data-id=\"0:00l0l_f41eMuN5srv\" href=\"/eby/apa/4710002531.html\"></a>\n",
        "<a class=\"hdrlnk\" data-id=\"4710002531\" href=\"/eby/apa/4710002531.html\">\u2665COMMUNITY A FEELING OF FELLOWSHIP WITH OTHERS JOIN OURS\u2665 </a>\n",
        "<a class=\"i\" href=\"/eby/apa/4710021161.html\"></a>\n",
        "<a class=\"hdrlnk\" data-id=\"4710021161\" href=\"/eby/apa/4710021161.html\">A beautiful house for rent $2,800</a>\n",
        "<a class=\"i\" data-id=\"0:00N0N_kpjyetNT7d\" href=\"/eby/apa/4710005929.html\"></a>\n",
        "<a class=\"hdrlnk\" data-id=\"4710005929\" href=\"/eby/apa/4710005929.html\">GROUND FLOOR DESIRABLE LOCATION, NEAR SHOPPING,RESTAURANTS AND FWY 880</a>\n",
        "<a class=\"i\" data-id=\"0:00000_eiSJYLeUGZj\" href=\"/eby/apa/4709997185.html\"></a>\n",
        "<a class=\"hdrlnk\" data-id=\"4709997185\" href=\"/eby/apa/4709997185.html\">*Carriage House* Gated Community in a Quiet and Friendly Neighborhood!</a>\n",
        "<a class=\"i\" data-id=\"0:00v0v_fQeql2k3V3k\" href=\"/eby/apa/4709988561.html\"></a>\n",
        "<a class=\"hdrlnk\" data-id=\"4709988561\" href=\"/eby/apa/4709988561.html\">Come home to green lawns at Pathfinder Village!</a>\n",
        "<a class=\"i\" data-id=\"0:00S0S_i5RLVK07E4J\" href=\"/eby/apa/4675937071.html\"></a>\n",
        "<a class=\"hdrlnk\" data-id=\"4675937071\" href=\"/eby/apa/4675937071.html\">3 bed 2 .5 bath townhome remodeled in Fremont </a>\n",
        "<a class=\"i\" data-id=\"0:00D0D_9Sn2UQRVPXX\" href=\"/eby/apa/4709968677.html\"></a>\n",
        "<a class=\"hdrlnk\" data-id=\"4709968677\" href=\"/eby/apa/4709968677.html\">Your'e apartment is waiting.</a>\n",
        "<a class=\"i\" data-id=\"0:00505_10pkAtxS3rj\" href=\"/eby/apa/4709965947.html\"></a>\n",
        "<a class=\"hdrlnk\" data-id=\"4709965947\" href=\"/eby/apa/4709965947.html\">Just the Right Amount of Space</a>\n",
        "<a class=\"i\" data-id=\"0:00N0N_kpjyetNT7d\" href=\"/eby/apa/4709951043.html\"></a>\n",
        "<a class=\"hdrlnk\" data-id=\"4709951043\" href=\"/eby/apa/4709951043.html\">~LUSH GARDENS, POOL, SAUNA, FITNESS CENTER AND BRIGHT 2 BEDROOM~</a>\n",
        "<a class=\"i\" data-id=\"0:00N0N_kpjyetNT7d\" href=\"/eby/apa/4709949099.html\"></a>\n",
        "<a class=\"hdrlnk\" data-id=\"4709949099\" href=\"/eby/apa/4709949099.html\">YOUR PERFECT APARMENT HOME IN A BEAUTIFUL PARK SETTING, RESORT STYLE </a>\n",
        "<a class=\"i\" data-id=\"0:00P0P_gnhVlhyC4yb\" href=\"/eby/apa/4709933092.html\"></a>\n",
        "<a class=\"hdrlnk\" data-id=\"4709933092\" href=\"/eby/apa/4709933092.html\">RESORT STYLE LIVING IN PRIME FREMONT</a>\n",
        "<a class=\"i\" data-id=\"0:00Q0Q_c88e8aBwDWy\" href=\"/eby/apa/4709907522.html\"></a>\n",
        "<a class=\"hdrlnk\" data-id=\"4709907522\" href=\"/eby/apa/4709907522.html\">Amazing ground level unit with hardwood floors and HUGE patio!!</a>\n",
        "<a class=\"i\" data-id=\"0:00O0O_aRethEr83Lb\" href=\"/eby/apa/4709893637.html\"></a>\n",
        "<a class=\"hdrlnk\" data-id=\"4709893637\" href=\"/eby/apa/4709893637.html\">Now Available, Responsive Maintenance, Spacious Floorplan</a>\n",
        "<a class=\"i\" data-id=\"0:00000_a0NanWUBAeZ\" href=\"/eby/apa/4688449232.html\"></a>\n",
        "<a class=\"hdrlnk\" data-id=\"4688449232\" href=\"/eby/apa/4688449232.html\">Apartment w/ washer &amp; dryer in unit. Fitness center also!</a>\n",
        "<a class=\"i\" href=\"/eby/apa/4709870073.html\"></a>\n",
        "<a class=\"hdrlnk\" data-id=\"4709870073\" href=\"/eby/apa/4709870073.html\">$2600.00</a>\n",
        "<a class=\"i\" data-id=\"0:01313_4h82v2wKalL\" href=\"/eby/apa/4709819725.html\"></a>\n",
        "<a class=\"hdrlnk\" data-id=\"4709819725\" href=\"/eby/apa/4709819725.html\">\u2666TOUR TODAY AND ENJOY BEAUTIFULLY RENOVATED APT HOMES\u2666</a>\n",
        "<a class=\"i\" data-id=\"0:00w0w_7SDZS1N08r2\" href=\"/eby/apa/4699476877.html\"></a>\n",
        "<a class=\"hdrlnk\" data-id=\"4699476877\" href=\"/eby/apa/4699476877.html\">Mission San Jose 2 Beds,2 Baths,Car port, Townhouse</a>\n",
        "<a class=\"i\" href=\"/eby/apa/4709741491.html\"></a>\n",
        "<a class=\"hdrlnk\" data-id=\"4709741491\" href=\"/eby/apa/4709741491.html\">Spacious Apartment Home Available.</a>\n",
        "<a class=\"i\" data-id=\"0:00i0i_8rdYYfaNv2u\" href=\"/eby/apa/4705550936.html\"></a>\n",
        "<a class=\"hdrlnk\" data-id=\"4705550936\" href=\"/eby/apa/4705550936.html\">Light bright condo</a>\n",
        "<a class=\"i\" data-id=\"0:00d0d_eFu9fJn8RzZ\" href=\"/eby/apa/4709820227.html\"></a>\n",
        "<a class=\"hdrlnk\" data-id=\"4709820227\" href=\"/eby/apa/4709820227.html\">Townhouse Style Condo / 3 Bedroom 3 Bath -Open House 10/4/14</a>\n",
        "<a class=\"i\" data-id=\"0:00F0F_2onNULdbkZ9\" href=\"/eby/apa/4709767607.html\"></a>\n",
        "<a class=\"hdrlnk\" data-id=\"4709767607\" href=\"/eby/apa/4709767607.html\">Beautiful Home located  in a Park Like Community </a>\n",
        "<a class=\"i\" data-id=\"0:00000_eiSJYLeUGZj\" href=\"/eby/apa/4709770429.html\"></a>\n",
        "<a class=\"hdrlnk\" data-id=\"4709770429\" href=\"/eby/apa/4709770429.html\">*Carriage House* Gated Community in a Quiet and Friendly Neighborhood!</a>\n",
        "<a class=\"i\" data-id=\"0:00000_eiSJYLeUGZj\" href=\"/eby/apa/4709771241.html\"></a>\n",
        "<a class=\"hdrlnk\" data-id=\"4709771241\" href=\"/eby/apa/4709771241.html\">*Carriage House* Gated Community in a Quiet and Friendly Neighborhood!</a>\n",
        "<a class=\"i\" data-id=\"0:00q0q_jqd4dVzMJHr\" href=\"/eby/apa/4709759173.html\"></a>\n",
        "<a class=\"hdrlnk\" data-id=\"4709759173\" href=\"/eby/apa/4709759173.html\">A Great Junior 1br Unit To Call home @waterstone Fremont</a>\n",
        "<a class=\"i\" data-id=\"0:00N0N_e7fXMGHKqpQ\" href=\"/eby/apa/4709758928.html\"></a>\n",
        "<a class=\"hdrlnk\" data-id=\"4709758928\" href=\"/eby/apa/4709758928.html\">Room for 2 for rent</a>\n",
        "<a class=\"i\" data-id=\"0:00606_2W5Ex2a17qc\" href=\"/eby/apa/4709720238.html\"></a>\n",
        "<a class=\"hdrlnk\" data-id=\"4709720238\" href=\"/eby/apa/4709720238.html\">Dont Miss Out On Your New Apartment Home...Waterstone Fremont</a>\n",
        "<a class=\"i\" data-id=\"0:01515_b0MRAomIJw7\" href=\"/eby/apa/4709777629.html\"></a>\n",
        "<a class=\"hdrlnk\" data-id=\"4709777629\" href=\"/eby/apa/4709777629.html\">3BR/2.5BA Home For Rent in Fremont (Ardenwood)</a>\n",
        "<a class=\"i\" data-id=\"0:00v0v_fQeql2k3V3k\" href=\"/eby/apa/4709770932.html\"></a>\n",
        "<a class=\"hdrlnk\" data-id=\"4709770932\" href=\"/eby/apa/4709770932.html\">Fully-equipped fitness center on-site!</a>\n",
        "<a class=\"i\" href=\"/eby/apa/4709742868.html\"></a>\n",
        "<a class=\"hdrlnk\" data-id=\"4709742868\" href=\"/eby/apa/4709742868.html\">Are You Ready To Move..Waterstone@Fremont</a>\n",
        "<a class=\"i\" href=\"/eby/apa/4709750233.html\"></a>\n",
        "<a class=\"hdrlnk\" data-id=\"4709750233\" href=\"/eby/apa/4709750233.html\">Union City\u72ec\u7acb\u5355\u623f\u51fa\u79df</a>\n",
        "<a class=\"i\" data-id=\"0:00202_2y5p47xmjox\" href=\"/eby/apa/4709727929.html\"></a>\n",
        "<a class=\"hdrlnk\" data-id=\"4709727929\" href=\"/eby/apa/4709727929.html\">Great Apartment Value Near Union City Bart</a>\n",
        "<a class=\"i\" data-id=\"0:00g0g_45zgkpUlW40\" href=\"/eby/apa/4709708053.html\"></a>\n",
        "<a class=\"hdrlnk\" data-id=\"4709708053\" href=\"/eby/apa/4709708053.html\">\u263b\u2665THE MOST LIKED PLACE TO LIVE ON FACEBOOK\u263b\u2665</a>\n",
        "<a class=\"i\" data-id=\"0:00L0L_l0lBNSVbqBc\" href=\"/eby/apa/4709624090.html\"></a>\n",
        "<a class=\"hdrlnk\" data-id=\"4709624090\" href=\"/eby/apa/4709624090.html\"> Medallion Is The Place For You And Your Pet...</a>\n",
        "<a class=\"i\" href=\"/eby/apa/4709635870.html\"></a>\n",
        "<a class=\"hdrlnk\" data-id=\"4709635870\" href=\"/eby/apa/4709635870.html\">Ardenwood/Forest Park Home for Rent</a>\n",
        "<a class=\"i\" data-id=\"0:00P0P_66goakhD6WF\" href=\"/eby/apa/4709616390.html\"></a>\n",
        "<a class=\"hdrlnk\" data-id=\"4709616390\" href=\"/eby/apa/4709616390.html\">OPEN HOUSE - Sat 2-4pm, Sun 11am-1pm - 3Bd/2Baths</a>\n",
        "<a class=\"i\" data-id=\"0:00H0H_ljgNucowbif\" href=\"/eby/apa/4709285588.html\"></a>\n",
        "<a class=\"hdrlnk\" data-id=\"4709285588\" href=\"/eby/apa/4709285588.html\">40836 Blacow Rd</a>\n",
        "<a class=\"i\" data-id=\"0:00u0u_lw3pB7Q3mQ6\" href=\"/eby/apa/4704285477.html\"></a>\n",
        "<a class=\"hdrlnk\" data-id=\"4704285477\" href=\"/eby/apa/4704285477.html\">Fairly new remodeled Single Family House </a>\n",
        "<a class=\"i\" data-id=\"0:00404_84zKrApHUyd\" href=\"/eby/apa/4709271776.html\"></a>\n",
        "<a class=\"hdrlnk\" data-id=\"4709271776\" href=\"/eby/apa/4709271776.html\">Mission Weibel Home </a>\n",
        "<a class=\"i\" data-id=\"0:00303_i1GJ9Z50Q32\" href=\"/eby/apa/4709244524.html\"></a>\n",
        "<a class=\"hdrlnk\" data-id=\"4709244524\" href=\"/eby/apa/4709244524.html\">Beautiful House near Fremont BART</a>\n",
        "<a class=\"i\" data-id=\"0:00B0B_3HCXPXa20PH\" href=\"/eby/apa/4705104059.html\"></a>\n",
        "<a class=\"hdrlnk\" data-id=\"4705104059\" href=\"/eby/apa/4705104059.html\">4BED/3BA NEW UNION CITY HOME. GRANITE,FIREPLACE,HARDWOOD,W/D,STAINLESS</a>\n",
        "<a class=\"i\" data-id=\"0:00A0A_6tN78StRf2t\" href=\"/eby/apa/4690236057.html\"></a>\n",
        "<a class=\"hdrlnk\" data-id=\"4690236057\" href=\"/eby/apa/4690236057.html\">Beautiful house, close to Dumbarton Bridge(Facebook), shopping center </a>\n",
        "<a class=\"i\" data-id=\"0:01515_drCJqDRxRK6\" href=\"/eby/apa/4709166878.html\"></a>\n",
        "<a class=\"hdrlnk\" data-id=\"4709166878\" href=\"/eby/apa/4709166878.html\">Entertainer's delight - Centrally located fabulously upgraded home</a>\n",
        "<a class=\"i\" data-id=\"0:00j0j_4Br4gJiLlOH\" href=\"/eby/apa/4709103977.html\"></a>\n",
        "<a class=\"hdrlnk\" data-id=\"4709103977\" href=\"/eby/apa/4709103977.html\">Charming apartment homes w/spacious and open kitchen layout!</a>\n",
        "<a class=\"i\" data-id=\"0:00H0H_jKvIW33syH4\" href=\"/eby/apa/4709099410.html\"></a>\n",
        "<a class=\"hdrlnk\" data-id=\"4709099410\" href=\"/eby/apa/4709099410.html\">Best Price! Best Location! Come See For Yourself!!!</a>\n",
        "<a class=\"i\" data-id=\"0:00202_di8ycZmzs5g\" href=\"/eby/apa/4709064536.html\"></a>\n",
        "<a class=\"hdrlnk\" data-id=\"4709064536\" href=\"/eby/apa/4709064536.html\">Extraordinary top floor 2 BD, 2 BA, available soon. Near BART!!!</a>\n",
        "<a class=\"i\" data-id=\"0:00i0i_9pFeQge9oQU\" href=\"/eby/apa/4709006104.html\"></a>\n",
        "<a class=\"hdrlnk\" data-id=\"4709006104\" href=\"/eby/apa/4709006104.html\">Enormous apartment home with fantastic amenities!</a>\n",
        "<a class=\"i\" data-id=\"0:00n0n_6WSYRh8c1Af\" href=\"/eby/apa/4709045007.html\"></a>\n",
        "<a class=\"hdrlnk\" data-id=\"4709045007\" href=\"/eby/apa/4709045007.html\">AMAZING AMENITIES IN A PARK-LIKE COMMUNITY</a>\n",
        "<a class=\"i\" data-id=\"0:01212_6b4awnNx7hX\" href=\"/eby/apa/4709029277.html\"></a>\n",
        "<a class=\"hdrlnk\" data-id=\"4709029277\" href=\"/eby/apa/4709029277.html\">\u25d8CLOSE AND CONVENIENT FOR YOUR LIFESTYLE\u25d8</a>\n",
        "<a class=\"i\" data-id=\"0:00z0z_4RRGiVJOn5L\" href=\"/eby/apa/4709010589.html\"></a>\n",
        "<a class=\"hdrlnk\" data-id=\"4709010589\" href=\"/eby/apa/4709010589.html\">\u263aFEEL THE WARMTH HERE AT RANCHO LUNA/SOL</a>\n",
        "<a class=\"i\" data-id=\"0:01111_8UD3nfqWvzZ\" href=\"/eby/apa/4708963350.html\"></a>\n",
        "<a class=\"hdrlnk\" data-id=\"4708963350\" href=\"/eby/apa/4708963350.html\">Here Today... Gone Tomorrow...$99.00 Deposit O.A.C.  HURRY!</a>\n",
        "<a class=\"i\" data-id=\"0:00s0s_dSGuCi4oaR\" href=\"/eby/apa/4708997186.html\"></a>\n",
        "<a class=\"hdrlnk\" data-id=\"4708997186\" href=\"/eby/apa/4708997186.html\">Ground level with hardwood floors and walking distance from BART!</a>\n",
        "<a class=\"i\" data-id=\"0:00v0v_2JpUDXGT1q9\" href=\"/eby/apa/4708955428.html\"></a>\n",
        "<a class=\"hdrlnk\" data-id=\"4708955428\" href=\"/eby/apa/4708955428.html\">Regency Square Apartments</a>\n",
        "<a class=\"i\" data-id=\"0:00X0X_agBrulL8G8B\" href=\"/eby/apa/4685873529.html\"></a>\n",
        "<a class=\"hdrlnk\" data-id=\"4685873529\" href=\"/eby/apa/4685873529.html\">Great Fremont Location! </a>\n",
        "<a class=\"i\" data-id=\"0:00h0h_9r9dKvr6HmO\" href=\"/eby/apa/4698234369.html\"></a>\n",
        "<a class=\"hdrlnk\" data-id=\"4698234369\" href=\"/eby/apa/4698234369.html\">Great Fremont Location-Lower unit</a>\n",
        "<a class=\"i\" data-id=\"0:00A0A_bBIVUQGyusx\" href=\"/eby/apa/4708937144.html\"></a>\n",
        "<a class=\"hdrlnk\" data-id=\"4708937144\" href=\"/eby/apa/4708937144.html\">Luxury apartment community w/the comfort &amp; convenience of city life!</a>\n",
        "<a class=\"i\" data-id=\"0:00Y0Y_9iugv1oSxMt\" href=\"/eby/apa/4708977968.html\"></a>\n",
        "<a class=\"hdrlnk\" data-id=\"4708977968\" href=\"/eby/apa/4708977968.html\">Nice remodeled 3bed/1 bath in Fremont Irvinton</a>\n",
        "<a class=\"i\" href=\"/eby/apa/4708963560.html\"></a>\n",
        "<a class=\"hdrlnk\" data-id=\"4708963560\" href=\"/eby/apa/4708963560.html\">Union City\u72ec\u7acb\u5355\u623f\u51fa\u79df</a>\n",
        "<a class=\"i\" data-id=\"0:01111_8UD3nfqWvzZ\" href=\"/eby/apa/4708925707.html\"></a>\n",
        "<a class=\"hdrlnk\" data-id=\"4708925707\" href=\"/eby/apa/4708925707.html\">Washer and Dryer in Unit, Walk-in Closet! Visit Us Today!!</a>\n",
        "<a class=\"i\" data-id=\"0:00z0z_gxTByKLaae5\" href=\"/eby/apa/4708920486.html\"></a>\n",
        "<a class=\"hdrlnk\" data-id=\"4708920486\" href=\"/eby/apa/4708920486.html\">1 Bed 1 Bath located in Fremont</a>\n",
        "<a class=\"i\" data-id=\"0:00909_iU1O4b6IsvW\" href=\"/eby/apa/4708897993.html\"></a>\n",
        "<a class=\"hdrlnk\" data-id=\"4708897993\" href=\"/eby/apa/4708897993.html\">/1Ba in a gorgeous single family home ( Union city) For Rent</a>\n",
        "<a class=\"i\" data-id=\"0:00r0r_3w5YvYTXhOO\" href=\"/eby/apa/4691078260.html\"></a>\n",
        "<a class=\"hdrlnk\" data-id=\"4691078260\" href=\"/eby/apa/4691078260.html\">Beautiful 3Bdrm Townhouse in Fremont Irvington District</a>\n",
        "<a class=\"i\" data-id=\"0:01111_3F5VvzC56rN\" href=\"/eby/apa/4708886839.html\"></a>\n",
        "<a class=\"hdrlnk\" data-id=\"4708886839\" href=\"/eby/apa/4708886839.html\">$2150/ 4br/2.5BA, townhouse, In Union City </a>\n",
        "<a class=\"i\" data-id=\"0:00303_dgd9KQHebEZ\" href=\"/eby/apa/4708874045.html\"></a>\n",
        "<a class=\"hdrlnk\" data-id=\"4708874045\" href=\"/eby/apa/4708874045.html\">Charming Ranch Style Home</a>\n",
        "<a class=\"i\" data-id=\"0:00m0m_6N8gkz7rIAN\" href=\"/eby/apa/4708862432.html\"></a>\n",
        "<a class=\"hdrlnk\" data-id=\"4708862432\" href=\"/eby/apa/4708862432.html\">Garden Village Apartments</a>\n",
        "<a class=\"i\" data-id=\"0:00404_5U4zNmRWo9B\" href=\"/eby/apa/4708800866.html\"></a>\n",
        "<a class=\"hdrlnk\" data-id=\"4708800866\" href=\"/eby/apa/4708800866.html\">Delightful and Convenient 2BD, 2 BA available SOON!!</a>\n",
        "<a class=\"i\" data-id=\"0:00M0M_hUHLyOMPDGE\" href=\"/eby/apa/4708844242.html\"></a>\n",
        "<a class=\"hdrlnk\" data-id=\"4708844242\" href=\"/eby/apa/4708844242.html\">Fremont Pines Apartments</a>\n",
        "<a class=\"i\" data-id=\"0:00T0T_ctRXWHYCvFu\" href=\"/eby/apa/4708852944.html\"></a>\n",
        "<a class=\"hdrlnk\" data-id=\"4708852944\" href=\"/eby/apa/4708852944.html\"> 1Br/1Ba Suite with Separate Private Kitchen and Entrance \u7368\u9662</a>\n",
        "<a class=\"i\" data-id=\"0:00h0h_6vCu5xKIdjU\" href=\"/eby/apa/4708837746.html\"></a>\n",
        "<a class=\"hdrlnk\" data-id=\"4708837746\" href=\"/eby/apa/4708837746.html\">Union City 2-Bedroom Condo</a>\n",
        "<a class=\"i\" data-id=\"0:00707_5TDanoAoqlz\" href=\"/eby/apa/4708810837.html\"></a>\n",
        "<a class=\"hdrlnk\" data-id=\"4708810837\" href=\"/eby/apa/4708810837.html\">Looking for quick access to BART and Shopping? Look no further!</a>\n",
        "<a class=\"i\" data-id=\"0:00b0b_39rkjNT9YdA\" href=\"/eby/apa/4698239220.html\"></a>\n",
        "<a class=\"hdrlnk\" data-id=\"4698239220\" href=\"/eby/apa/4698239220.html\">Conveniently located, Central Fremont House: 2/2, garage, BART </a>\n",
        "<a class=\"i\" data-id=\"0:00b0b_82B9OsZYbWQ\" href=\"/eby/apa/4708832086.html\"></a>\n",
        "<a class=\"hdrlnk\" data-id=\"4708832086\" href=\"/eby/apa/4708832086.html\">Bridge Bay Apartments</a>\n",
        "<a class=\"i\" data-id=\"0:00X0X_hjQMk1J8JXu\" href=\"/eby/apa/4708811600.html\"></a>\n",
        "<a class=\"hdrlnk\" data-id=\"4708811600\" href=\"/eby/apa/4708811600.html\">Appealing Amenities, Covered Parking, Air Conditioning, Ceiling Fan</a>\n",
        "<a class=\"i\" data-id=\"0:00a0a_3VNGSJXmTlB\" href=\"/eby/apa/4708809780.html\"></a>\n",
        "<a class=\"hdrlnk\" data-id=\"4708809780\" href=\"/eby/apa/4708809780.html\">Spacious and Amazing.. talk about luxury!</a>\n",
        "<a class=\"i\" href=\"/eby/apa/4708794567.html\"></a>\n",
        "<a class=\"hdrlnk\" data-id=\"4708794567\" href=\"/eby/apa/4708794567.html\">A Fantastic Two Bedroom One Bath, Apartment Home. Ready 10/13!</a>\n",
        "<a class=\"i\" data-id=\"0:00i0i_iR7AtrZnsPJ\" href=\"/eby/apa/4708746863.html\"></a>\n",
        "<a class=\"hdrlnk\" data-id=\"4708746863\" href=\"/eby/apa/4708746863.html\">\u2666SPACIOUS TOWNHOMES IN A CONVENIENT LOCATION\u2666</a>\n",
        "<a class=\"i\" data-id=\"0:01212_fSTgKuJOisR\" href=\"/eby/apa/4708629130.html\"></a>\n",
        "<a class=\"hdrlnk\" data-id=\"4708629130\" href=\"/eby/apa/4708629130.html\">Every Apartment has IMMENSE Walk-In Closets!</a>\n",
        "<a class=\"i\" data-id=\"0:00N0N_1D2GZGQdMvD\" href=\"/eby/apa/4708768120.html\"></a>\n",
        "<a class=\"hdrlnk\" data-id=\"4708768120\" href=\"/eby/apa/4708768120.html\">\u25ba \u25ba\u25baPets Allowed - Single Family House</a>\n",
        "<a class=\"i\" data-id=\"0:00F0F_g07H0ZUXv26\" href=\"/eby/apa/4708765187.html\"></a>\n",
        "<a class=\"hdrlnk\" data-id=\"4708765187\" href=\"/eby/apa/4708765187.html\">ONE bedroom Unit Available NOW in the Heart of Fremont</a>\n",
        "<a class=\"i\" data-id=\"0:01212_ctbXaiN0E4i\" href=\"/eby/apa/4708582053.html\"></a>\n",
        "<a class=\"hdrlnk\" data-id=\"4708582053\" href=\"/eby/apa/4708582053.html\">Our lowest price! Beautiful one bedroom available now!</a>\n",
        "<a class=\"button first\" href=\"/search/eby/apa?nh=54\" title=\"first page\">&lt;&lt;</a>\n",
        "<a class=\"button prev\" href=\"/search/eby/apa?nh=54\" title=\"previous page\">&lt; prev</a>\n",
        "<a class=\"button next\" href=\"/search/eby/apa?s=200&amp;nh=54\" title=\"next page\"> next &gt; </a>\n",
        "<a class=\"backtotop button\" href=\"#pagecontainer\">^ back to top</a>\n",
        "<a class=\"l\" href=\"http://sfbay.craigslist.org/search/eby/apa?nh=54&amp;s=100&amp;format=rss\">RSS</a>\n",
        "<a href=\"http://www.craigslist.org/about/rss\">(?)</a>\n",
        "<a href=\"//www.craigslist.org/about/help/\">help</a>\n",
        "<a href=\"//www.craigslist.org/about/scams\">safety</a>\n",
        "<a href=\"//www.craigslist.org/about/privacy.policy\">privacy</a>\n",
        "<a href=\"https://forums.craigslist.org/?forumID=8\">feedback</a>\n",
        "<a href=\"//www.craigslist.org/about/craigslist_is_hiring\">cl jobs</a>\n",
        "<a href=\"//www.craigslist.org/about/terms.of.use\">terms</a>\n",
        "<a href=\"//www.craigslist.org/about/\">about</a>\n",
        "<a href=\"/\">SF bay area</a>"
       ]
      },
      {
       "output_type": "stream",
       "stream": "stdout",
       "text": [
        "\n",
        "<a href=\"/search/hhh\">housing</a>\n",
        "<a href=\"/search/apa\">apts/housing for rent</a>\n",
        "<a href=\"https://post.craigslist.org/c/sfo?lang=en\">post</a>\n",
        "<a href=\"https://accounts.craigslist.org/login/home\">account</a>\n",
        "<a class=\"favlink\" href=\"#\"><span class=\"n\">0</span> favorites</a>\n",
        "<a class=\"saveme\" href=\"https://accounts.craigslist.org/login?rt=L&amp;rp=%2Fsavesearch%2Falert%3FURL%3Dhttp%253A%252F%252Fsfbay%252Ecraigslist%252Eorg%252Fsearch%252Feby%252Fapa%253Fnh%253D54\" title=\"save this search with email alerts\">alert</a>\n",
        "<a class=\"saveme\" href=\"https://accounts.craigslist.org/login?rt=L&amp;rp=%2Fsavesearch%2Fsave%3FURL%3Dhttp%253A%252F%252Fsfbay%252Ecraigslist%252Eorg%252Fsearch%252Feby%252Fapa%253Fnh%253D54\" title=\"save this search\">save</a>\n",
        "<a class=\"category\" href=\"/search/eby/apa?nh=54\">apts/housing for rent</a>\n",
        "<a class=\"category\" href=\"/search/eby/rea?nh=54\">real estate for sale</a>\n",
        "<a class=\"category\" href=\"/search/eby/roo?nh=54\">rooms &amp; shares</a>\n",
        "<a class=\"category\" href=\"/search/eby/off?nh=54\">office &amp; commercial</a>\n",
        "<a class=\"category\" href=\"/search/eby/sha?nh=54\">room/share wanted</a>\n",
        "<a class=\"category\" href=\"/search/eby/hou?nh=54\">apts wanted</a>\n",
        "<a class=\"category\" href=\"/search/eby/prk?nh=54\">parking &amp; storage</a>\n",
        "<a class=\"category\" href=\"/search/eby/sub?nh=54\">sublets &amp; temporary</a>\n",
        "<a class=\"category\" href=\"/search/eby/rew?nh=54\">real estate wanted</a>\n",
        "<a class=\"category\" href=\"/search/eby/vac?nh=54\">vacation rentals</a>\n",
        "<a class=\"category\" href=\"/search/eby/swp?nh=54\">housing swap</a>\n",
        "<a class=\"category\" href=\"/search/eby/sbw?nh=54\">sublet/temp wanted</a>\n",
        "<a class=\"mode button\" data-view=\"list\" href=\"#list\" id=\"listview\" title=\"show results in a list\">list</a>\n",
        "<a class=\"mode button\" data-view=\"pic\" href=\"#pic\" id=\"picview\" title=\"show results in a list with thumbnail pictures\">thumb</a>\n",
        "<a class=\"mode button\" data-view=\"grid\" href=\"#grid\" id=\"gridview\" title=\"show results side-by-side with larger pictures\">gallery</a>\n",
        "<a class=\"mode button\" data-view=\"map\" href=\"#map\" id=\"mapview\" title=\"show results on a map\">map</a>\n",
        "<a class=\"button\" href=\"/search/eby/apa?sort=priceasc&amp;nh=54\" title=\"sort by price, lowest to highest\"><span class=\"pricesort\"><span class=\"pricesort\">$</span>$</span>$</a>\n",
        "<a class=\"button\" href=\"/search/eby/apa?sort=pricedsc&amp;nh=54\" title=\"sort by price, highest to lowest\">$<span class=\"pricesort\">$<span class=\"pricesort\">$</span></span></a>\n",
        "<a class=\"button first\" href=\"/search/eby/apa?nh=54\" title=\"first page\">&lt;&lt;</a>\n",
        "<a class=\"button prev\" href=\"/search/eby/apa?s=100&amp;nh=54\" title=\"previous page\">&lt; prev</a>\n",
        "<a class=\"button next\" href=\"/search/eby/apa?s=300&amp;nh=54\" title=\"next page\"> next &gt; </a>\n",
        "<a class=\"i\" data-id=\"0:00202_kVXQZ4MN5SD\" href=\"/eby/apa/4708653002.html\"></a>\n",
        "<a class=\"hdrlnk\" data-id=\"4708653002\" href=\"/eby/apa/4708653002.html\">Fabulous apartment, walking distance to Lake Elizabeth</a>\n",
        "<a class=\"i\" data-id=\"0:01313_ij7345s3BNd\" href=\"/eby/apa/4708689446.html\"></a>\n",
        "<a class=\"hdrlnk\" data-id=\"4708689446\" href=\"/eby/apa/4708689446.html\">3 Bedroom Home Near Lakeshore Park</a>\n",
        "<a class=\"i\" data-id=\"0:00202_8MFVbksUe2D\" href=\"/eby/apa/4708677523.html\"></a>\n",
        "<a class=\"hdrlnk\" data-id=\"4708677523\" href=\"/eby/apa/4708677523.html\">Open House Tomorrow At The Woods!!</a>\n",
        "<a class=\"i\" data-id=\"0:00P0P_6QbixFi5hY7\" href=\"/eby/apa/4708669555.html\"></a>\n",
        "<a class=\"hdrlnk\" data-id=\"4708669555\" href=\"/eby/apa/4708669555.html\">RESORT LIVING IN A SERENE PARK SETTING </a>\n",
        "<a class=\"i\" data-id=\"0:00s0s_h1ftxO7uIPw\" href=\"/eby/apa/4708672537.html\"></a>\n",
        "<a class=\"hdrlnk\" data-id=\"4708672537\" href=\"/eby/apa/4708672537.html\">*** SPACIOUS, CUL-DE-SAC, WALK TO FREMONT BART, CENTRAL PARK ***</a>\n",
        "<a class=\"i\" data-id=\"0:00T0T_cq3QzP8w3Ft\" href=\"/eby/apa/4708641085.html\"></a>\n",
        "<a class=\"hdrlnk\" data-id=\"4708641085\" href=\"/eby/apa/4708641085.html\">Alderwood Park in Newark - Dumbarton/84/880 &amp; public transit close by!</a>\n",
        "<a class=\"i\" data-id=\"0:00N0N_2hPSao0gAcM\" href=\"/eby/apa/4708630362.html\"></a>\n",
        "<a class=\"hdrlnk\" data-id=\"4708630362\" href=\"/eby/apa/4708630362.html\">\u263bBART RIDERS DREAM/CLOSE TO SHOPPING\u263b</a>\n",
        "<a class=\"i\" data-id=\"0:01313_buJQKZDjCjh\" href=\"/eby/apa/4708634531.html\"></a>\n",
        "<a class=\"hdrlnk\" data-id=\"4708634531\" href=\"/eby/apa/4708634531.html\">Gorgeous 5 Bedrooms in Niles, Fremont </a>\n",
        "<a class=\"i\" data-id=\"0:00m0m_kr7THWbNbz9\" href=\"/eby/apa/4708627612.html\"></a>\n",
        "<a class=\"hdrlnk\" data-id=\"4708627612\" href=\"/eby/apa/4708627612.html\">** \u8c6a\u5b85! \u8c6a\u534e\u5bb6\u79c1\u914d\u5957\u9f50 </a>\n",
        "<a class=\"i\" data-id=\"0:00F0F_lOTzSYegA8c\" href=\"/eby/apa/4708600651.html\"></a>\n",
        "<a class=\"hdrlnk\" data-id=\"4708600651\" href=\"/eby/apa/4708600651.html\">Large 2 bedroom 2 bath in downtown Fremont ready for move in 11/22/14</a>\n",
        "<a class=\"i\" data-id=\"0:00505_fxZzXHy80BE\" href=\"/eby/apa/4708598607.html\"></a>\n",
        "<a class=\"hdrlnk\" data-id=\"4708598607\" href=\"/eby/apa/4708598607.html\">Alderwood Park in Newark - Dumbarton/84/880 &amp; public transit close by!</a>\n",
        "<a class=\"i\" data-id=\"0:00y0y_eb40QM5LdtX\" href=\"/eby/apa/4708558507.html\"></a>\n",
        "<a class=\"hdrlnk\" data-id=\"4708558507\" href=\"/eby/apa/4708558507.html\"> Walk to Weibel school in Fremont</a>\n",
        "<a class=\"i\" data-id=\"0:00S0S_i5RLVK07E4J\" href=\"/eby/apa/4674182670.html\"></a>\n",
        "<a class=\"hdrlnk\" data-id=\"4674182670\" href=\"/eby/apa/4674182670.html\">3 bed 2 .5 bath townhome remodeled in Fremont </a>\n",
        "<a class=\"i\" data-id=\"0:00n0n_6wqgwfkjPUW\" href=\"/eby/apa/4708556913.html\"></a>\n",
        "<a class=\"hdrlnk\" data-id=\"4708556913\" href=\"/eby/apa/4708556913.html\">DESIGNER-INSPIRED FLOOR PLANS WITH LUSH GARDEN VIEW</a>\n",
        "<a class=\"i\" data-id=\"0:00a0a_8UQlMYMXZWW\" href=\"/eby/apa/4698128103.html\"></a>\n",
        "<a class=\"hdrlnk\" data-id=\"4698128103\" href=\"/eby/apa/4698128103.html\">2 bedroom w/ garage &amp; utilities included.. in a great neighborhood!!</a>\n",
        "<a class=\"i\" data-id=\"0:00404_ghvarNJtjGy\" href=\"/eby/apa/4698129248.html\"></a>\n",
        "<a class=\"hdrlnk\" data-id=\"4698129248\" href=\"/eby/apa/4698129248.html\">2 bed 1 bath w/ washer &amp; dryer PLUS private garage!! </a>\n",
        "<a class=\"i\" data-id=\"0:00F0F_3umjXFYXwRO\" href=\"/eby/apa/4698044778.html\"></a>\n",
        "<a class=\"hdrlnk\" data-id=\"4698044778\" href=\"/eby/apa/4698044778.html\">2 bedroom w/ attached garage in nice Ardenwood neighborhood</a>\n",
        "<a class=\"i\" data-id=\"0:00M0M_fxvrBwLJG14\" href=\"/eby/apa/4698042573.html\"></a>\n",
        "<a class=\"hdrlnk\" data-id=\"4698042573\" href=\"/eby/apa/4698042573.html\">Pets welcome at Ardenwood Forest.. 2 bedrooms available!!</a>\n",
        "<a class=\"i\" data-id=\"0:00F0F_3umjXFYXwRO\" href=\"/eby/apa/4705383827.html\"></a>\n",
        "<a class=\"hdrlnk\" data-id=\"4705383827\" href=\"/eby/apa/4705383827.html\">2 bedroom w/ attached garage in nice Ardenwood neighborhood</a>\n",
        "<a class=\"i\" data-id=\"0:00a0a_8UQlMYMXZWW\" href=\"/eby/apa/4698040171.html\"></a>\n",
        "<a class=\"hdrlnk\" data-id=\"4698040171\" href=\"/eby/apa/4698040171.html\">2 bedroom w/ garage &amp; utilities included.. in a great neighborhood!!</a>\n",
        "<a class=\"i\" data-id=\"0:00L0L_draW8rVwhKK\" href=\"/eby/apa/4699145623.html\"></a>\n",
        "<a class=\"hdrlnk\" data-id=\"4699145623\" href=\"/eby/apa/4699145623.html\">Beautiful Niles Community! Move-In October 18th!</a>\n",
        "<a class=\"i\" data-id=\"0:00k0k_5eY7q5DXZFC\" href=\"/eby/apa/4708469914.html\"></a>\n",
        "<a class=\"hdrlnk\" data-id=\"4708469914\" href=\"/eby/apa/4708469914.html\">4BR/3BA Bright, luxury house in Fremont near Central Park</a>\n",
        "<a class=\"i\" data-id=\"0:00P0P_5HDGWrBg1tR\" href=\"/eby/apa/4708495775.html\"></a>\n",
        "<a class=\"hdrlnk\" data-id=\"4708495775\" href=\"/eby/apa/4708495775.html\">Open House Sunday 10/12/14  4-5pm</a>\n",
        "<a class=\"i\" data-id=\"0:00s0s_dSGuCi4oaR\" href=\"/eby/apa/4708467117.html\"></a>\n",
        "<a class=\"hdrlnk\" data-id=\"4708467117\" href=\"/eby/apa/4708467117.html\">Beautiful top floor unit with South facing balcony. Geat for Dish!</a>\n",
        "<a class=\"i\" data-id=\"0:01111_2en8JEk0cnf\" href=\"/eby/apa/4708461306.html\"></a>\n",
        "<a class=\"hdrlnk\" data-id=\"4708461306\" href=\"/eby/apa/4708461306.html\">Smoke Free Community!</a>\n",
        "<a class=\"i\" data-id=\"0:00f0f_enp6dLZdnBc\" href=\"/eby/apa/4693605784.html\"></a>\n",
        "<a class=\"hdrlnk\" data-id=\"4693605784\" href=\"/eby/apa/4693605784.html\">3 Bedroom with possible 4th bedroom, 2.5 Bath, 2 car garage, 2 Story</a>\n",
        "<a class=\"i\" data-id=\"0:00909_8KOZ61jULjT\" href=\"/eby/apa/4708434321.html\"></a>\n",
        "<a class=\"hdrlnk\" data-id=\"4708434321\" href=\"/eby/apa/4708434321.html\">Beautiful 1 bedroom in Fremont! Call now to make an appointment!!!</a>\n",
        "<a class=\"i\" data-id=\"0:00M0M_9lZsM0K9sIz\" href=\"/eby/apa/4708426621.html\"></a>\n",
        "<a class=\"hdrlnk\" data-id=\"4708426621\" href=\"/eby/apa/4708426621.html\">A good Townhouse in Fremont, Northgate area</a>\n",
        "<a class=\"i\" data-id=\"0:00303_im4iZB50Ipr\" href=\"/eby/apa/4703914998.html\"></a>\n",
        "<a class=\"hdrlnk\" data-id=\"4703914998\" href=\"/eby/apa/4703914998.html\">Stunning Studio Aparment, Available For Your Immediate Move-In!!</a>\n",
        "<a class=\"i\" data-id=\"0:00C0C_2Np5xgsLQLs\" href=\"/eby/apa/4708387181.html\"></a>\n",
        "<a class=\"hdrlnk\" data-id=\"4708387181\" href=\"/eby/apa/4708387181.html\">4 Bed 1 Bath Large Lot House for Rent</a>\n",
        "<a class=\"i\" data-id=\"0:00H0H_jZUJHlWEAD5\" href=\"/eby/apa/4701966278.html\"></a>\n",
        "<a class=\"hdrlnk\" data-id=\"4701966278\" href=\"/eby/apa/4701966278.html\">708 Chavel Court, Fremont, Avail.10/25 Ext.43</a>\n",
        "<a class=\"i\" data-id=\"0:00G0G_hntlCwwUthz\" href=\"/eby/apa/4708363748.html\"></a>\n",
        "<a class=\"hdrlnk\" data-id=\"4708363748\" href=\"/eby/apa/4708363748.html\">Outstanding Location, Heated Pool, Sauna, Pets Welcome</a>\n",
        "<a class=\"i\" href=\"/eby/apa/4708270994.html\"></a>\n",
        "<a class=\"hdrlnk\" data-id=\"4708270994\" href=\"/eby/apa/4708270994.html\">Look And Lease This Two Bedroom To Bath!</a>\n",
        "<a class=\"i\" data-id=\"0:00g0g_gvK50eeDjIH\" href=\"/eby/apa/4708339594.html\"></a>\n",
        "<a class=\"hdrlnk\" data-id=\"4708339594\" href=\"/eby/apa/4708339594.html\">1st Floor 1X1 Available 10/14... Come in Today!!!</a>\n",
        "<a class=\"i\" data-id=\"0:01111_8UD3nfqWvzZ\" href=\"/eby/apa/4708335710.html\"></a>\n",
        "<a class=\"hdrlnk\" data-id=\"4708335710\" href=\"/eby/apa/4708335710.html\">Don't Wait ! We have your next HOME here / $2,365 w/$99.00 Deposit</a>\n",
        "<a class=\"i\" data-id=\"0:00w0w_3snpcqX2MJy\" href=\"/eby/apa/4695475060.html\"></a>\n",
        "<a class=\"hdrlnk\" data-id=\"4695475060\" href=\"/eby/apa/4695475060.html\">luxuary 4bed 2 bath union city $,2,999 first month </a>\n",
        "<a class=\"i\" data-id=\"0:00D0D_jEs3oanwGyj\" href=\"/eby/apa/4708293378.html\"></a>\n",
        "<a class=\"hdrlnk\" data-id=\"4708293378\" href=\"/eby/apa/4708293378.html\">PRIVATE END UNIT, LARGE STORAGE, YOUR NEW HOME IS HERE!</a>\n",
        "<a class=\"i\" data-id=\"0:00909_ivGmca1KYyK\" href=\"/eby/apa/4708275684.html\"></a>\n",
        "<a class=\"hdrlnk\" data-id=\"4708275684\" href=\"/eby/apa/4708275684.html\">15 Min Walk to BART from the Presidio Apartments</a>\n",
        "<a class=\"i\" data-id=\"0:00o0o_4GvnRTgXJCi\" href=\"/eby/apa/4708307695.html\"></a>\n",
        "<a class=\"hdrlnk\" data-id=\"4708307695\" href=\"/eby/apa/4708307695.html\">3 bed 2 .5 bath townhome remodeled in Fremont </a>\n",
        "<a class=\"i\" data-id=\"0:00f0f_1CDWzw7dgYq\" href=\"/eby/apa/4708302936.html\"></a>\n",
        "<a class=\"hdrlnk\" data-id=\"4708302936\" href=\"/eby/apa/4708302936.html\">Cozy 3 Bedroom 2 Bath Home in Fremont</a>\n",
        "<a class=\"i\" data-id=\"0:00y0y_hzEiErVcdtp\" href=\"/eby/apa/4708282680.html\"></a>\n",
        "<a class=\"hdrlnk\" data-id=\"4708282680\" href=\"/eby/apa/4708282680.html\">Ground Floor Apartment Near BART..LAST ONE AVAIL!!</a>\n",
        "<a class=\"i\" data-id=\"0:00Q0Q_c88e8aBwDWy\" href=\"/eby/apa/4708283570.html\"></a>\n",
        "<a class=\"hdrlnk\" data-id=\"4708283570\" href=\"/eby/apa/4708283570.html\">Two balconies, underground parking, and hardwood floors!</a>\n",
        "<a class=\"i\" data-id=\"0:00q0q_858vjOxZfBK\" href=\"/eby/apa/4708281638.html\"></a>\n",
        "<a class=\"hdrlnk\" data-id=\"4708281638\" href=\"/eby/apa/4708281638.html\">Lovely Home in the Mission area of Fremont!</a>\n",
        "<a class=\"i\" data-id=\"0:00K0K_eaOrypuLTwE\" href=\"/eby/apa/4708271841.html\"></a>\n",
        "<a class=\"hdrlnk\" data-id=\"4708271841\" href=\"/eby/apa/4708271841.html\">Best Community in Fremont!</a>\n",
        "<a class=\"i\" data-id=\"0:00404_5AauOwoR7oj\" href=\"/eby/apa/4708258162.html\"></a>\n",
        "<a class=\"hdrlnk\" data-id=\"4708258162\" href=\"/eby/apa/4708258162.html\">N239 Is A Great Location And Close To All Our Amenites!</a>\n",
        "<a class=\"i\" data-id=\"0:00b0b_aXt3V20avm5\" href=\"/eby/apa/4703498373.html\"></a>\n",
        "<a class=\"hdrlnk\" data-id=\"4703498373\" href=\"/eby/apa/4703498373.html\">Upgraded 4 Bedroom 2 Bath Home in Irvington Area of Fremont</a>\n",
        "<a class=\"i\" data-id=\"0:00S0S_i5RLVK07E4J\" href=\"/eby/apa/4699576897.html\"></a>\n",
        "<a class=\"hdrlnk\" data-id=\"4699576897\" href=\"/eby/apa/4699576897.html\">3 bed 2 .5 bath townhome remodeled in Fremont</a>\n",
        "<a class=\"i\" data-id=\"0:00B0B_cl4SHITNI46\" href=\"/eby/apa/4708241212.html\"></a>\n",
        "<a class=\"hdrlnk\" data-id=\"4708241212\" href=\"/eby/apa/4708241212.html\">Large Two Bedroom Condo!</a>\n",
        "<a class=\"i\" data-id=\"0:00T0T_jSClnmsZJQZ\" href=\"/eby/apa/4708195822.html\"></a>\n",
        "<a class=\"hdrlnk\" data-id=\"4708195822\" href=\"/eby/apa/4708195822.html\">Make Waterstone@Fremont Your Last Stop..A Pet Friendly Community</a>\n",
        "<a class=\"i\" data-id=\"0:00z0z_1RyG2DxlaPD\" href=\"/eby/apa/4708182440.html\"></a>\n",
        "<a class=\"hdrlnk\" data-id=\"4708182440\" href=\"/eby/apa/4708182440.html\">Looking For A Great Community..... Waterstone@ Fremont</a>\n",
        "<a class=\"i\" data-id=\"0:01010_geIBKnvZUmz\" href=\"/eby/apa/4708172756.html\"></a>\n",
        "<a class=\"hdrlnk\" data-id=\"4708172756\" href=\"/eby/apa/4708172756.html\">Remodeled 4 BD 2.5 BA Mission San Jose beautiful Fremont Home for Rent</a>\n",
        "<a class=\"i\" data-id=\"0:00q0q_cMchy522CsU\" href=\"/eby/apa/4708167383.html\"></a>\n",
        "<a class=\"hdrlnk\" data-id=\"4708167383\" href=\"/eby/apa/4708167383.html\">It's A Great Weekend To Find Your New Home...Waterstone@Fremont</a>\n",
        "<a class=\"i\" data-id=\"0:00I0I_3pkoZq2tIzT\" href=\"/eby/apa/4707898781.html\"></a>\n",
        "<a class=\"hdrlnk\" data-id=\"4707898781\" href=\"/eby/apa/4707898781.html\">Mission San Jose (mission sanjose) Home for Rent</a>\n",
        "<a class=\"i\" data-id=\"0:00B0B_3HCXPXa20PH\" href=\"/eby/apa/4698634686.html\"></a>\n",
        "<a class=\"hdrlnk\" data-id=\"4698634686\" href=\"/eby/apa/4698634686.html\">4BED/3BA NEWER UNION CITY HOME.  OPEN HOUSE SATURDAY &amp; SUNDAY</a>\n",
        "<a class=\"i\" data-id=\"0:00m0m_fgKUaqUDuJ9\" href=\"/eby/apa/4678583672.html\"></a>\n",
        "<a class=\"hdrlnk\" data-id=\"4678583672\" href=\"/eby/apa/4678583672.html\">GREAT UNION CITY LOCATION GRANITE,FIREPLACE,HARDWOOD,W/D,STAINLESS</a>\n",
        "<a class=\"i\" data-id=\"0:00b0b_a09ZWaOnYNN\" href=\"/eby/apa/4707734701.html\"></a>\n",
        "<a class=\"hdrlnk\" data-id=\"4707734701\" href=\"/eby/apa/4707734701.html\">\u96c5\u623f\u51fa\u79df</a>\n",
        "<a class=\"i\" href=\"/eby/apa/4707733032.html\"></a>\n",
        "<a class=\"hdrlnk\" data-id=\"4707733032\" href=\"/eby/apa/4707733032.html\">Room to Rent NOW $950 includes everything</a>\n",
        "<a class=\"i\" href=\"/eby/apa/4707732433.html\"></a>\n",
        "<a class=\"hdrlnk\" data-id=\"4707732433\" href=\"/eby/apa/4707732433.html\">Rent now room $950 include everything</a>\n",
        "<a class=\"i\" href=\"/eby/apa/4707731878.html\"></a>\n",
        "<a class=\"hdrlnk\" data-id=\"4707731878\" href=\"/eby/apa/4707731878.html\">Rent now room $950 include everything</a>\n",
        "<a class=\"i\" href=\"/eby/apa/4707711060.html\"></a>\n",
        "<a class=\"hdrlnk\" data-id=\"4707711060\" href=\"/eby/apa/4707711060.html\">Fremont TownHome for Rent</a>\n",
        "<a class=\"i\" data-id=\"0:01414_i9B8LNBeFF6\" href=\"/eby/apa/4707698869.html\"></a>\n",
        "<a class=\"hdrlnk\" data-id=\"4707698869\" href=\"/eby/apa/4707698869.html\">Beautiful View from 2 Bed 2 Bath at Creekside Village</a>\n",
        "<a class=\"i\" data-id=\"0:00l0l_QxpinAUqDg\" href=\"/eby/apa/4694948876.html\"></a>\n",
        "<a class=\"hdrlnk\" data-id=\"4694948876\" href=\"/eby/apa/4694948876.html\">Modern 2/2  condo in Warm Springs</a>\n",
        "<a class=\"i\" data-id=\"0:00M0M_5qiQS46qwBD\" href=\"/eby/apa/4707684994.html\"></a>\n",
        "<a class=\"hdrlnk\" data-id=\"4707684994\" href=\"/eby/apa/4707684994.html\">Elegant, and Spacious 4 BR/2.5 BA Single Family House in Fremont</a>\n",
        "<a class=\"i\" data-id=\"0:01313_3yh8ZEFU2Mj\" href=\"/eby/apa/4707659497.html\"></a>\n",
        "<a class=\"hdrlnk\" data-id=\"4707659497\" href=\"/eby/apa/4707659497.html\">2br/2ba next to Union Landing for rent</a>\n",
        "<a class=\"i\" data-id=\"0:00202_kVXQZ4MN5SD\" href=\"/eby/apa/4707444029.html\"></a>\n",
        "<a class=\"hdrlnk\" data-id=\"4707444029\" href=\"/eby/apa/4707444029.html\">Enormous apartment home with fantastic amenities!</a>\n",
        "<a class=\"i\" data-id=\"0:01212_6b4awnNx7hX\" href=\"/eby/apa/4707463859.html\"></a>\n",
        "<a class=\"hdrlnk\" data-id=\"4707463859\" href=\"/eby/apa/4707463859.html\">\u25d8\u2665EVERYONE IS WELCOME HOME HERE AT RANCHO LUNA/SOL \u25d8\u2665</a>\n",
        "<a class=\"i\" data-id=\"0:00I0I_67AKdyT04mh\" href=\"/eby/apa/4707458902.html\"></a>\n",
        "<a class=\"hdrlnk\" data-id=\"4707458902\" href=\"/eby/apa/4707458902.html\">\u263b\u2665THE MOST LIKED PLACE TO LIVE ON FACEBOOK\u263b\u2665</a>\n",
        "<a class=\"i\" data-id=\"0:00L0L_gySDJAIIVtE\" href=\"/eby/apa/4707394684.html\"></a>\n",
        "<a class=\"hdrlnk\" data-id=\"4707394684\" href=\"/eby/apa/4707394684.html\">Check This Out! Luxury Apartment Community with walk-in closets!</a>\n",
        "<a class=\"i\" data-id=\"0:00L0L_HBqK7F6SRY\" href=\"/eby/apa/4707414832.html\"></a>\n",
        "<a class=\"hdrlnk\" data-id=\"4707414832\" href=\"/eby/apa/4707414832.html\">DESIGNER INTERIORS, SPACIOUS FLOOR PLANS AND AMAZING AMENITIES</a>\n",
        "<a class=\"i\" data-id=\"0:01212_ctbXaiN0E4i\" href=\"/eby/apa/4707415523.html\"></a>\n",
        "<a class=\"hdrlnk\" data-id=\"4707415523\" href=\"/eby/apa/4707415523.html\">Large one bedroom with plenty of space! Pet friendly home!</a>\n",
        "<a class=\"i\" data-id=\"0:00Q0Q_6ysc2RHiVKH\" href=\"/eby/apa/4707416756.html\"></a>\n",
        "<a class=\"hdrlnk\" data-id=\"4707416756\" href=\"/eby/apa/4707416756.html\">\u263bBART RIDERS DREAM/CLOSE TO SHOPPING\u263b</a>\n",
        "<a class=\"i\" data-id=\"0:00N0N_2hPSao0gAcM\" href=\"/eby/apa/4707381458.html\"></a>\n",
        "<a class=\"hdrlnk\" data-id=\"4707381458\" href=\"/eby/apa/4707381458.html\">\u2666COME AND SEE WHAT YOU HAVE BEEN MISSING\u2666</a>\n",
        "<a class=\"i\" href=\"/eby/apa/4699789642.html\"></a>\n",
        "<a class=\"hdrlnk\" data-id=\"4699789642\" href=\"/eby/apa/4699789642.html\">SFH in Mission District for rent available 11/5</a>\n",
        "<a class=\"i\" data-id=\"0:00n0n_6WSYRh8c1Af\" href=\"/eby/apa/4707284212.html\"></a>\n",
        "<a class=\"hdrlnk\" data-id=\"4707284212\" href=\"/eby/apa/4707284212.html\">PARK -LIKE LANDSCAPING, POOL, SPA, FITNESS CENTER </a>\n",
        "<a class=\"i\" data-id=\"0:00Q0Q_c88e8aBwDWy\" href=\"/eby/apa/4707289831.html\"></a>\n",
        "<a class=\"hdrlnk\" data-id=\"4707289831\" href=\"/eby/apa/4707289831.html\">Private, top floor unit with vaulted ceilings. Walk to BART</a>\n",
        "<a class=\"i\" data-id=\"0:00M0M_9lZsM0K9sIz\" href=\"/eby/apa/4707271956.html\"></a>\n",
        "<a class=\"hdrlnk\" data-id=\"4707271956\" href=\"/eby/apa/4707271956.html\">Fremont Northgate Townhouse 2R / 2B</a>\n",
        "<a class=\"i\" data-id=\"0:00Q0Q_hf7G1Xj4cIP\" href=\"/eby/apa/4707270546.html\"></a>\n",
        "<a class=\"hdrlnk\" data-id=\"4707270546\" href=\"/eby/apa/4707270546.html\">cozy studio priced right</a>\n",
        "<a class=\"i\" data-id=\"0:00707_5TDanoAoqlz\" href=\"/eby/apa/4707233387.html\"></a>\n",
        "<a class=\"hdrlnk\" data-id=\"4707233387\" href=\"/eby/apa/4707233387.html\">Spectacular apartment home centrally located in Fremont!</a>\n",
        "<a class=\"i\" href=\"/eby/apa/4707200981.html\"></a>\n",
        "<a class=\"hdrlnk\" data-id=\"4707200981\" href=\"/eby/apa/4707200981.html\">Beautiful 3 bedroom and 2 and 1/2 bathroom TH in a quite neighborhood</a>\n",
        "<a class=\"i\" data-id=\"0:00r0r_270NAEqiUfU\" href=\"/eby/apa/4707215666.html\"></a>\n",
        "<a class=\"hdrlnk\" data-id=\"4707215666\" href=\"/eby/apa/4707215666.html\">Luxurious Homes, Walk to BART, Washer Dryer in Unit</a>\n",
        "<a class=\"i\" data-id=\"0:00t0t_i8KhCGF8CoT\" href=\"/eby/apa/4707226639.html\"></a>\n",
        "<a class=\"hdrlnk\" data-id=\"4707226639\" href=\"/eby/apa/4707226639.html\">OPEN HOUSE Sunday 2-4PM: 4BR/1Ba - Union City Single Family Remodeled </a>\n",
        "<a class=\"i\" href=\"/eby/apa/4707146055.html\"></a>\n",
        "<a class=\"hdrlnk\" data-id=\"4707146055\" href=\"/eby/apa/4707146055.html\">*Carriage House* Gated Community in a Quiet and Friendly Neighborhood!</a>\n",
        "<a class=\"i\" data-id=\"0:00000_eiSJYLeUGZj\" href=\"/eby/apa/4707145240.html\"></a>\n",
        "<a class=\"hdrlnk\" data-id=\"4707145240\" href=\"/eby/apa/4707145240.html\">*Carriage House* Gated Community in a Quiet and Friendly Neighborhood!</a>\n",
        "<a class=\"i\" data-id=\"0:00l0l_a2bJzMezoij\" href=\"/eby/apa/4707064690.html\"></a>\n",
        "<a class=\"hdrlnk\" data-id=\"4707064690\" href=\"/eby/apa/4707064690.html\">Check This Out! Luxury Apartment Community with walk-in closets!</a>\n",
        "<a class=\"i\" data-id=\"0:00Y0Y_iv5R7nG1doU\" href=\"/eby/apa/4706990784.html\"></a>\n",
        "<a class=\"hdrlnk\" data-id=\"4706990784\" href=\"/eby/apa/4706990784.html\">Stop Look And Lease Today...</a>\n",
        "<a class=\"i\" data-id=\"0:00S0S_i5RLVK07E4J\" href=\"/eby/apa/4707039134.html\"></a>\n",
        "<a class=\"hdrlnk\" data-id=\"4707039134\" href=\"/eby/apa/4707039134.html\">3 bed 2 .5 bath townhome remodeled in Fremont </a>\n",
        "<a class=\"i\" data-id=\"0:00K0K_bmGBvBnlmTj\" href=\"/eby/apa/4706956881.html\"></a>\n",
        "<a class=\"hdrlnk\" data-id=\"4706956881\" href=\"/eby/apa/4706956881.html\">PARK-LIKE SETTING IN PRIME LOCATION, DESIGNER 2 BR</a>\n",
        "<a class=\"i\" data-id=\"0:00S0S_i5RLVK07E4J\" href=\"/eby/apa/4699579886.html\"></a>\n",
        "<a class=\"hdrlnk\" data-id=\"4699579886\" href=\"/eby/apa/4699579886.html\">3 bed 2 .5 bath townhome remodeled in Fremont</a>\n",
        "<a class=\"i\" data-id=\"0:00S0S_i5RLVK07E4J\" href=\"/eby/apa/4706997677.html\"></a>\n",
        "<a class=\"hdrlnk\" data-id=\"4706997677\" href=\"/eby/apa/4706997677.html\">3 bed 2 .5 bath townhome remodeled in Fremont </a>\n",
        "<a class=\"i\" data-id=\"0:00S0S_i5RLVK07E4J\" href=\"/eby/apa/4696417639.html\"></a>\n",
        "<a class=\"hdrlnk\" data-id=\"4696417639\" href=\"/eby/apa/4696417639.html\">Great 3 bed 2.5 bath townhome remodeled in Fremont </a>\n",
        "<a class=\"i\" data-id=\"0:00j0j_4Br4gJiLlOH\" href=\"/eby/apa/4706941155.html\"></a>\n",
        "<a class=\"hdrlnk\" data-id=\"4706941155\" href=\"/eby/apa/4706941155.html\">Charming apartment homes w/spacious and open kitchen layout!</a>\n",
        "<a class=\"i\" data-id=\"0:01717_dAf8n3O6poI\" href=\"/eby/apa/4694978856.html\"></a>\n",
        "<a class=\"hdrlnk\" data-id=\"4694978856\" href=\"/eby/apa/4694978856.html\">INCREDIBLE 2BED/1BATH AVAILABLE!!!</a>\n",
        "<a class=\"i\" data-id=\"0:00v0v_kIDpjWuX5YS\" href=\"/eby/apa/4706933430.html\"></a>\n",
        "<a class=\"hdrlnk\" data-id=\"4706933430\" href=\"/eby/apa/4706933430.html\">Ground floor apartment and close to parking.</a>\n",
        "<a class=\"i\" data-id=\"0:00C0C_eg7RgGXNvXM\" href=\"/eby/apa/4706919039.html\"></a>\n",
        "<a class=\"hdrlnk\" data-id=\"4706919039\" href=\"/eby/apa/4706919039.html\">Fremont Mission San Jose House for Rent</a>\n",
        "<a class=\"i\" data-id=\"0:00D0D_9Sn2UQRVPXX\" href=\"/eby/apa/4706902861.html\"></a>\n",
        "<a class=\"hdrlnk\" data-id=\"4706902861\" href=\"/eby/apa/4706902861.html\">Your'e apartment is waiting.</a>\n",
        "<a class=\"i\" data-id=\"0:00505_6297xq4c4kY\" href=\"/eby/apa/4706835636.html\"></a>\n",
        "<a class=\"hdrlnk\" data-id=\"4706835636\" href=\"/eby/apa/4706835636.html\">RESORT STYLE LIVING IN A SERENE PARK SETTING </a>\n",
        "<a class=\"i\" href=\"/eby/apa/4706739878.html\"></a>\n",
        "<a class=\"hdrlnk\" data-id=\"4706739878\" href=\"/eby/apa/4706739878.html\">Where Location, Quality and Value are Everything! The Presidio</a>\n",
        "<a class=\"i\" data-id=\"0:01515_jD0r7yNX0hv\" href=\"/eby/apa/4706801064.html\"></a>\n",
        "<a class=\"hdrlnk\" data-id=\"4706801064\" href=\"/eby/apa/4706801064.html\">Quiet Ground Floor End-Unit 1 Bdrm. Condo</a>\n",
        "<a class=\"i\" data-id=\"0:00909_18wdzQF4gr7\" href=\"/eby/apa/4701011409.html\"></a>\n",
        "<a class=\"hdrlnk\" data-id=\"4701011409\" href=\"/eby/apa/4701011409.html\">1 Bedroom/1 Bath Apartment Available Mid-November!!!</a>\n",
        "<a class=\"i\" href=\"/eby/apa/4706743183.html\"></a>\n",
        "<a class=\"hdrlnk\" data-id=\"4706743183\" href=\"/eby/apa/4706743183.html\">The Presidio Apartments ... Like No Place Else!</a>\n",
        "<a class=\"button first\" href=\"/search/eby/apa?nh=54\" title=\"first page\">&lt;&lt;</a>\n",
        "<a class=\"button prev\" href=\"/search/eby/apa?s=100&amp;nh=54\" title=\"previous page\">&lt; prev</a>\n",
        "<a class=\"button next\" href=\"/search/eby/apa?s=300&amp;nh=54\" title=\"next page\"> next &gt; </a>\n",
        "<a class=\"backtotop button\" href=\"#pagecontainer\">^ back to top</a>\n",
        "<a class=\"l\" href=\"http://sfbay.craigslist.org/search/eby/apa?nh=54&amp;s=200&amp;format=rss\">RSS</a>\n",
        "<a href=\"http://www.craigslist.org/about/rss\">(?)</a>\n",
        "<a href=\"//www.craigslist.org/about/help/\">help</a>\n",
        "<a href=\"//www.craigslist.org/about/scams\">safety</a>\n",
        "<a href=\"//www.craigslist.org/about/privacy.policy\">privacy</a>\n",
        "<a href=\"https://forums.craigslist.org/?forumID=8\">feedback</a>\n",
        "<a href=\"//www.craigslist.org/about/craigslist_is_hiring\">cl jobs</a>\n",
        "<a href=\"//www.craigslist.org/about/terms.of.use\">terms</a>\n",
        "<a href=\"//www.craigslist.org/about/\">about</a>\n",
        "<a href=\"/\">SF bay area</a>"
       ]
      },
      {
       "output_type": "stream",
       "stream": "stdout",
       "text": [
        "\n",
        "<a href=\"/search/hhh\">housing</a>\n",
        "<a href=\"/search/apa\">apts/housing for rent</a>\n",
        "<a href=\"https://post.craigslist.org/c/sfo?lang=en\">post</a>\n",
        "<a href=\"https://accounts.craigslist.org/login/home\">account</a>\n",
        "<a class=\"favlink\" href=\"#\"><span class=\"n\">0</span> favorites</a>\n",
        "<a class=\"saveme\" href=\"https://accounts.craigslist.org/login?rt=L&amp;rp=%2Fsavesearch%2Falert%3FURL%3Dhttp%253A%252F%252Fsfbay%252Ecraigslist%252Eorg%252Fsearch%252Feby%252Fapa%253Fnh%253D54\" title=\"save this search with email alerts\">alert</a>\n",
        "<a class=\"saveme\" href=\"https://accounts.craigslist.org/login?rt=L&amp;rp=%2Fsavesearch%2Fsave%3FURL%3Dhttp%253A%252F%252Fsfbay%252Ecraigslist%252Eorg%252Fsearch%252Feby%252Fapa%253Fnh%253D54\" title=\"save this search\">save</a>\n",
        "<a class=\"category\" href=\"/search/eby/apa?nh=54\">apts/housing for rent</a>\n",
        "<a class=\"category\" href=\"/search/eby/rea?nh=54\">real estate for sale</a>\n",
        "<a class=\"category\" href=\"/search/eby/roo?nh=54\">rooms &amp; shares</a>\n",
        "<a class=\"category\" href=\"/search/eby/off?nh=54\">office &amp; commercial</a>\n",
        "<a class=\"category\" href=\"/search/eby/sha?nh=54\">room/share wanted</a>\n",
        "<a class=\"category\" href=\"/search/eby/hou?nh=54\">apts wanted</a>\n",
        "<a class=\"category\" href=\"/search/eby/prk?nh=54\">parking &amp; storage</a>\n",
        "<a class=\"category\" href=\"/search/eby/sub?nh=54\">sublets &amp; temporary</a>\n",
        "<a class=\"category\" href=\"/search/eby/rew?nh=54\">real estate wanted</a>\n",
        "<a class=\"category\" href=\"/search/eby/vac?nh=54\">vacation rentals</a>\n",
        "<a class=\"category\" href=\"/search/eby/swp?nh=54\">housing swap</a>\n",
        "<a class=\"category\" href=\"/search/eby/sbw?nh=54\">sublet/temp wanted</a>\n",
        "<a class=\"mode button\" data-view=\"list\" href=\"#list\" id=\"listview\" title=\"show results in a list\">list</a>\n",
        "<a class=\"mode button\" data-view=\"pic\" href=\"#pic\" id=\"picview\" title=\"show results in a list with thumbnail pictures\">thumb</a>\n",
        "<a class=\"mode button\" data-view=\"grid\" href=\"#grid\" id=\"gridview\" title=\"show results side-by-side with larger pictures\">gallery</a>\n",
        "<a class=\"mode button\" data-view=\"map\" href=\"#map\" id=\"mapview\" title=\"show results on a map\">map</a>\n",
        "<a class=\"button\" href=\"/search/eby/apa?sort=priceasc&amp;nh=54\" title=\"sort by price, lowest to highest\"><span class=\"pricesort\"><span class=\"pricesort\">$</span>$</span>$</a>\n",
        "<a class=\"button\" href=\"/search/eby/apa?sort=pricedsc&amp;nh=54\" title=\"sort by price, highest to lowest\">$<span class=\"pricesort\">$<span class=\"pricesort\">$</span></span></a>\n",
        "<a class=\"button first\" href=\"/search/eby/apa?nh=54\" title=\"first page\">&lt;&lt;</a>\n",
        "<a class=\"button prev\" href=\"/search/eby/apa?s=200&amp;nh=54\" title=\"previous page\">&lt; prev</a>\n",
        "<a class=\"button next\" href=\"/search/eby/apa?s=400&amp;nh=54\" title=\"next page\"> next &gt; </a>\n",
        "<a class=\"i\" data-id=\"0:00E0E_8x7barJQifd\" href=\"/eby/apa/4706747377.html\"></a>\n",
        "<a class=\"hdrlnk\" data-id=\"4706747377\" href=\"/eby/apa/4706747377.html\">1 BEDROOM APARTMENT IN A QUIET NEIGHBORHOOD IN FREMONT!</a>\n",
        "<a class=\"i\" data-id=\"0:00909_18wdzQF4gr7\" href=\"/eby/apa/4701023723.html\"></a>\n",
        "<a class=\"hdrlnk\" data-id=\"4701023723\" href=\"/eby/apa/4701023723.html\">Spacious 2bd/1.5ba including w/d &amp; 2 car garage - AVAILABLE DECEMBER 1</a>\n",
        "<a class=\"i\" data-id=\"0:00i0i_gCsIOWy3RD8\" href=\"/eby/apa/4675852525.html\"></a>\n",
        "<a class=\"hdrlnk\" data-id=\"4675852525\" href=\"/eby/apa/4675852525.html\">Newly Built 4 Bed/3.5 Bath Single Home in Fremont Irvington</a>\n",
        "<a class=\"i\" href=\"/eby/apa/4685187841.html\"></a>\n",
        "<a class=\"hdrlnk\" data-id=\"4685187841\" href=\"/eby/apa/4685187841.html\">4274 Stevenson Blvd</a>\n",
        "<a class=\"i\" data-id=\"0:01515_5MNZyVhru24\" href=\"/eby/apa/4706722148.html\"></a>\n",
        "<a class=\"hdrlnk\" data-id=\"4706722148\" href=\"/eby/apa/4706722148.html\">Enriched Lifestyle, Near Shops and Dining, Community Clubhouse</a>\n",
        "<a class=\"i\" href=\"/eby/apa/4706666794.html\"></a>\n",
        "<a class=\"hdrlnk\" data-id=\"4706666794\" href=\"/eby/apa/4706666794.html\">Amazing 1 Bedroom $1,675</a>\n",
        "<a class=\"i\" data-id=\"0:00s0s_dSGuCi4oaR\" href=\"/eby/apa/4706651873.html\"></a>\n",
        "<a class=\"hdrlnk\" data-id=\"4706651873\" href=\"/eby/apa/4706651873.html\">Perfect location and ease of access with hardwood floors! </a>\n",
        "<a class=\"i\" href=\"/eby/apa/4706593304.html\"></a>\n",
        "<a class=\"hdrlnk\" data-id=\"4706593304\" href=\"/eby/apa/4706593304.html\">House for rent</a>\n",
        "<a class=\"i\" data-id=\"0:00y0y_diQKizF87bp\" href=\"/eby/apa/4706617072.html\"></a>\n",
        "<a class=\"hdrlnk\" data-id=\"4706617072\" href=\"/eby/apa/4706617072.html\">**Open House Sunday Oct 12th, 1pm-5pm. 3B/3B TownHome in Fremont, Ca</a>\n",
        "<a class=\"i\" data-id=\"0:00D0D_99I6p03WUwN\" href=\"/eby/apa/4697859201.html\"></a>\n",
        "<a class=\"hdrlnk\" data-id=\"4697859201\" href=\"/eby/apa/4697859201.html\">Lovely Mission Area Home!</a>\n",
        "<a class=\"i\" data-id=\"0:00P0P_uLtPzplcIz\" href=\"/eby/apa/4701271986.html\"></a>\n",
        "<a class=\"hdrlnk\" data-id=\"4701271986\" href=\"/eby/apa/4701271986.html\">Fully renovated apartment! 1 bed / 1 bath in a gated community</a>\n",
        "<a class=\"i\" data-id=\"0:00M0M_eL29SRcezMc\" href=\"/eby/apa/4697038172.html\"></a>\n",
        "<a class=\"hdrlnk\" data-id=\"4697038172\" href=\"/eby/apa/4697038172.html\">Completely remodeled and spacious 2 bed /1 bath apartment - great loc!</a>\n",
        "<a class=\"i\" data-id=\"0:00P0P_uLtPzplcIz\" href=\"/eby/apa/4692790556.html\"></a>\n",
        "<a class=\"hdrlnk\" data-id=\"4692790556\" href=\"/eby/apa/4692790556.html\">Completely renovated apartment! 2 bed/1 bath in a gated community</a>\n",
        "<a class=\"i\" data-id=\"0:00p0p_3rUwkpBDCo8\" href=\"/eby/apa/4706347153.html\"></a>\n",
        "<a class=\"hdrlnk\" data-id=\"4706347153\" href=\"/eby/apa/4706347153.html\">Mission SanJose- 3BR, 2 Baths, 1540 SF </a>\n",
        "<a class=\"i\" href=\"/eby/apa/4696994845.html\"></a>\n",
        "<a class=\"hdrlnk\" data-id=\"4696994845\" href=\"/eby/apa/4696994845.html\">Rent/Sell: 4BD/2.5BR month to month Weibel Elementary School, Vineyard</a>\n",
        "<a class=\"i\" data-id=\"0:00D0D_eBxO0lzLNyH\" href=\"/eby/apa/4706142219.html\"></a>\n",
        "<a class=\"hdrlnk\" data-id=\"4706142219\" href=\"/eby/apa/4706142219.html\">4BR/2.5BA Single Family Home in Union City</a>\n",
        "<a class=\"i\" data-id=\"0:00n0n_1ebvS6DiUiz\" href=\"/eby/apa/4706139108.html\"></a>\n",
        "<a class=\"hdrlnk\" data-id=\"4706139108\" href=\"/eby/apa/4706139108.html\">Newer home in Fremont's Ardenwood neighborhood</a>\n",
        "<a class=\"i\" data-id=\"0:00b0b_eVsQlMbEEnB\" href=\"/eby/apa/4706013086.html\"></a>\n",
        "<a class=\"hdrlnk\" data-id=\"4706013086\" href=\"/eby/apa/4706013086.html\">Ardenwood SFH- 3bd 2 1/2 bth- $3200</a>\n",
        "<a class=\"i\" href=\"/eby/apa/4705957794.html\"></a>\n",
        "<a class=\"hdrlnk\" data-id=\"4705957794\" href=\"/eby/apa/4705957794.html\">Nice Single Family House close to Fremont BART</a>\n",
        "<a class=\"i\" data-id=\"0:01616_2RlqCSlWelY\" href=\"/eby/apa/4705954560.html\"></a>\n",
        "<a class=\"hdrlnk\" data-id=\"4705954560\" href=\"/eby/apa/4705954560.html\">Opp BART+Incentives 2Bedroom2Bath - 1106 Sqft Apt - Fremont</a>\n",
        "<a class=\"i\" data-id=\"0:00I0I_q1cebQKNNO\" href=\"/eby/apa/4705921625.html\"></a>\n",
        "<a class=\"hdrlnk\" data-id=\"4705921625\" href=\"/eby/apa/4705921625.html\">A Must See! Fantastic Location! Beautiful One Bedroom Apt Home!</a>\n",
        "<a class=\"i\" data-id=\"0:00L0L_HBqK7F6SRY\" href=\"/eby/apa/4705868965.html\"></a>\n",
        "<a class=\"hdrlnk\" data-id=\"4705868965\" href=\"/eby/apa/4705868965.html\">OPEN FLOOR PLAN WITH A PRIVATE PATIO &amp; GYM </a>\n",
        "<a class=\"i\" data-id=\"0:00G0G_hntlCwwUthz\" href=\"/eby/apa/4705872986.html\"></a>\n",
        "<a class=\"hdrlnk\" data-id=\"4705872986\" href=\"/eby/apa/4705872986.html\">Now Available, Near Public Parks, Parkmont Schools</a>\n",
        "<a class=\"i\" data-id=\"0:01313_fFFbgmlOuMt\" href=\"/eby/apa/4705872789.html\"></a>\n",
        "<a class=\"hdrlnk\" data-id=\"4705872789\" href=\"/eby/apa/4705872789.html\">5 year new townhouse for rent</a>\n",
        "<a class=\"i\" data-id=\"0:01616_e4zIQt9ViaT\" href=\"/eby/apa/4705852659.html\"></a>\n",
        "<a class=\"hdrlnk\" data-id=\"4705852659\" href=\"/eby/apa/4705852659.html\">3BD/2BA Apartment with Quartz Countertops</a>\n",
        "<a class=\"i\" data-id=\"0:00C0C_4h3Pz9WxkN7\" href=\"/eby/apa/4705827321.html\"></a>\n",
        "<a class=\"hdrlnk\" data-id=\"4705827321\" href=\"/eby/apa/4705827321.html\">BEAUTIFUL Parkmont Home 4BR/2BA - MUST SEE!</a>\n",
        "<a class=\"i\" href=\"/eby/apa/4695412849.html\"></a>\n",
        "<a class=\"hdrlnk\" data-id=\"4695412849\" href=\"/eby/apa/4695412849.html\">Take over 1 Bedroom apartment lease</a>\n",
        "<a class=\"i\" data-id=\"0:00Y0Y_hKiyih83eDc\" href=\"/eby/apa/4667279757.html\"></a>\n",
        "<a class=\"hdrlnk\" data-id=\"4667279757\" href=\"/eby/apa/4667279757.html\">Stunning Semi-Custom Home in Fremont 4 Bedrm + Bonus Rm 3 Baths</a>\n",
        "<a class=\"i\" href=\"/eby/apa/4705717699.html\"></a>\n",
        "<a class=\"hdrlnk\" data-id=\"4705717699\" href=\"/eby/apa/4705717699.html\">1 bedr apt in Newark available on Nov 4</a>\n",
        "<a class=\"i\" data-id=\"0:00707_6ptCVjJ1hON\" href=\"/eby/apa/4705690004.html\"></a>\n",
        "<a class=\"hdrlnk\" data-id=\"4705690004\" href=\"/eby/apa/4705690004.html\">33251 SUNRIVER CMN</a>\n",
        "<a class=\"i\" data-id=\"0:00D0D_jEs3oanwGyj\" href=\"/eby/apa/4705559661.html\"></a>\n",
        "<a class=\"hdrlnk\" data-id=\"4705559661\" href=\"/eby/apa/4705559661.html\">LUSH GARDENS, POOL, SPA, FITNESS CENTER AND BRIGHT ONE BR</a>\n",
        "<a class=\"i\" data-id=\"0:00o0o_4GvnRTgXJCi\" href=\"/eby/apa/4705567196.html\"></a>\n",
        "<a class=\"hdrlnk\" data-id=\"4705567196\" href=\"/eby/apa/4705567196.html\">Great 3 bed 2.5 bath townhouse remodeled in Fremont </a>\n",
        "<a class=\"i\" data-id=\"0:00a0a_byRscJshMwm\" href=\"/eby/apa/4705505806.html\"></a>\n",
        "<a class=\"hdrlnk\" data-id=\"4705505806\" href=\"/eby/apa/4705505806.html\">Are You Ready To Move..Waterstone@Fremont</a>\n",
        "<a class=\"i\" data-id=\"0:00w0w_4gFy7Plbgb2\" href=\"/eby/apa/4693029747.html\"></a>\n",
        "<a class=\"hdrlnk\" data-id=\"4693029747\" href=\"/eby/apa/4693029747.html\">Fremont 3Bed-2Bath house for rent ALL UTILITIES INCLUDED</a>\n",
        "<a class=\"i\" data-id=\"0:00o0o_4GvnRTgXJCi\" href=\"/eby/apa/4705500955.html\"></a>\n",
        "<a class=\"hdrlnk\" data-id=\"4705500955\" href=\"/eby/apa/4705500955.html\">Great 3 bed 2.5 bath townhouse remodeled in Fremont </a>\n",
        "<a class=\"i\" data-id=\"0:00F0F_4Ztz0a8KbEZ\" href=\"/eby/apa/4705431094.html\"></a>\n",
        "<a class=\"hdrlnk\" data-id=\"4705431094\" href=\"/eby/apa/4705431094.html\">DESIGNER-INSPIRED FLOOR PLANS WITH LUSH GARDEN VIEW</a>\n",
        "<a class=\"i\" href=\"/eby/apa/4705331899.html\"></a>\n",
        "<a class=\"hdrlnk\" data-id=\"4705331899\" href=\"/eby/apa/4705331899.html\">Welcome Home To Great Living..</a>\n",
        "<a class=\"i\" data-id=\"0:00P0P_6SY6xLYZMY8\" href=\"/eby/apa/4698067143.html\"></a>\n",
        "<a class=\"hdrlnk\" data-id=\"4698067143\" href=\"/eby/apa/4698067143.html\">Ardenwood townhome w/ attached garage + washer &amp; dryer!! </a>\n",
        "<a class=\"i\" data-id=\"0:00i0i_1auhH2rZUYm\" href=\"/eby/apa/4705390257.html\"></a>\n",
        "<a class=\"hdrlnk\" data-id=\"4705390257\" href=\"/eby/apa/4705390257.html\">Fremont 3 Bedroom 2 Bath  House</a>\n",
        "<a class=\"i\" href=\"/eby/apa/4705333728.html\"></a>\n",
        "<a class=\"hdrlnk\" data-id=\"4705333728\" href=\"/eby/apa/4705333728.html\">Meow...Whoof...Pets are Welcome</a>\n",
        "<a class=\"i\" href=\"/eby/apa/4705377619.html\"></a>\n",
        "<a class=\"hdrlnk\" data-id=\"4705377619\" href=\"/eby/apa/4705377619.html\">\u5355\u623f\u51fa\u79df</a>\n",
        "<a class=\"i\" href=\"/eby/apa/4705180939.html\"></a>\n",
        "<a class=\"hdrlnk\" data-id=\"4705180939\" href=\"/eby/apa/4705180939.html\">In The Heart of Fremont</a>\n",
        "<a class=\"i\" data-id=\"0:00G0G_e516FqPaxh7\" href=\"/eby/apa/4705293509.html\"></a>\n",
        "<a class=\"hdrlnk\" data-id=\"4705293509\" href=\"/eby/apa/4705293509.html\">3BD/2BA Apartment with Quartz Countertops</a>\n",
        "<a class=\"i\" data-id=\"0:00T0T_l6SFov9DEZ0\" href=\"/eby/apa/4694607625.html\"></a>\n",
        "<a class=\"hdrlnk\" data-id=\"4694607625\" href=\"/eby/apa/4694607625.html\">Beautiful Home in the Cabrillo Area of Fremont!</a>\n",
        "<a class=\"i\" data-id=\"0:00a0a_CxXAZ09Z46\" href=\"/eby/apa/4697880731.html\"></a>\n",
        "<a class=\"hdrlnk\" data-id=\"4697880731\" href=\"/eby/apa/4697880731.html\">Move-in Special! October Rent is Free!</a>\n",
        "<a class=\"i\" data-id=\"0:00000_1jCsL7wD5Di\" href=\"/eby/apa/4680586921.html\"></a>\n",
        "<a class=\"hdrlnk\" data-id=\"4680586921\" href=\"/eby/apa/4680586921.html\">Beautiful Glenmoor Area Home!</a>\n",
        "<a class=\"i\" data-id=\"0:00r0r_fs2SriFO899\" href=\"/eby/apa/4705255781.html\"></a>\n",
        "<a class=\"hdrlnk\" data-id=\"4705255781\" href=\"/eby/apa/4705255781.html\">Look And Lease This Apartment, N239!</a>\n",
        "<a class=\"i\" data-id=\"0:00O0O_gvNf4jX6baX\" href=\"/eby/apa/4705280471.html\"></a>\n",
        "<a class=\"hdrlnk\" data-id=\"4705280471\" href=\"/eby/apa/4705280471.html\">2bd/2 full bath Condo on Ground flr with washer/dryer inside</a>\n",
        "<a class=\"i\" data-id=\"0:00202_2CPV2g5tan3\" href=\"/eby/apa/4705257749.html\"></a>\n",
        "<a class=\"hdrlnk\" data-id=\"4705257749\" href=\"/eby/apa/4705257749.html\">M225 Is A Fabulous Location Within Our Community!</a>\n",
        "<a class=\"i\" href=\"/eby/apa/4705096894.html\"></a>\n",
        "<a class=\"hdrlnk\" data-id=\"4705096894\" href=\"/eby/apa/4705096894.html\">Welcome Home to Presidio Apartments</a>\n",
        "<a class=\"i\" data-id=\"0:00A0A_6tN78StRf2t\" href=\"/eby/apa/4694248251.html\"></a>\n",
        "<a class=\"hdrlnk\" data-id=\"4694248251\" href=\"/eby/apa/4694248251.html\">Beautiful house, close to Dumbarton Bridge(Facebook), shopping center </a>\n",
        "<a class=\"i\" data-id=\"0:00A0A_6tN78StRf2t\" href=\"/eby/apa/4699292027.html\"></a>\n",
        "<a class=\"hdrlnk\" data-id=\"4699292027\" href=\"/eby/apa/4699292027.html\">Beautiful house, close to Dumbarton Bridge(Facebook), shopping center </a>\n",
        "<a class=\"i\" data-id=\"0:00B0B_6mVpzDyewjW\" href=\"/eby/apa/4705207144.html\"></a>\n",
        "<a class=\"hdrlnk\" data-id=\"4705207144\" href=\"/eby/apa/4705207144.html\">Jr-1br (studio)  mv in Nov. 11</a>\n",
        "<a class=\"i\" href=\"/eby/apa/4705149967.html\"></a>\n",
        "<a class=\"hdrlnk\" data-id=\"4705149967\" href=\"/eby/apa/4705149967.html\">Gated Community in Fremont </a>\n",
        "<a class=\"i\" href=\"/eby/apa/4705138981.html\"></a>\n",
        "<a class=\"hdrlnk\" data-id=\"4705138981\" href=\"/eby/apa/4705138981.html\">Come Home to Presidio Apartments</a>\n",
        "<a class=\"i\" data-id=\"0:00r0r_270NAEqiUfU\" href=\"/eby/apa/4705189117.html\"></a>\n",
        "<a class=\"hdrlnk\" data-id=\"4705189117\" href=\"/eby/apa/4705189117.html\">Call for Details, Easy Freeway Access, Night Patrol, Fitness Ctr</a>\n",
        "<a class=\"i\" data-id=\"0:00K0K_4dXXgWlAcN7\" href=\"/eby/apa/4700013075.html\"></a>\n",
        "<a class=\"hdrlnk\" data-id=\"4700013075\" href=\"/eby/apa/4700013075.html\">3 Bed 2 Bath Single Family Home in Fremont</a>\n",
        "<a class=\"i\" data-id=\"0:00v0v_kIDpjWuX5YS\" href=\"/eby/apa/4705165458.html\"></a>\n",
        "<a class=\"hdrlnk\" data-id=\"4705165458\" href=\"/eby/apa/4705165458.html\">Furnished Apartment home Ready for Move In!</a>\n",
        "<a class=\"i\" data-id=\"0:00v0v_kIDpjWuX5YS\" href=\"/eby/apa/4705158060.html\"></a>\n",
        "<a class=\"hdrlnk\" data-id=\"4705158060\" href=\"/eby/apa/4705158060.html\">Spectacular Deal For Two Bedroom One Bath</a>\n",
        "<a class=\"i\" href=\"/eby/apa/4683812582.html\"></a>\n",
        "<a class=\"hdrlnk\" data-id=\"4683812582\" href=\"/eby/apa/4683812582.html\">MISSION SAN JOSE ANTELOPE HILLS TOWNHOUSE</a>\n",
        "<a class=\"i\" data-id=\"0:00D0D_9Sn2UQRVPXX\" href=\"/eby/apa/4705143950.html\"></a>\n",
        "<a class=\"hdrlnk\" data-id=\"4705143950\" href=\"/eby/apa/4705143950.html\">Here now and gone by morning. You should hurry!</a>\n",
        "<a class=\"i\" data-id=\"0:00a0a_byRscJshMwm\" href=\"/eby/apa/4705107846.html\"></a>\n",
        "<a class=\"hdrlnk\" data-id=\"4705107846\" href=\"/eby/apa/4705107846.html\">Comfort and Convenience Right At Your Finger Tip..Waterstone@Fremont</a>\n",
        "<a class=\"i\" data-id=\"0:00c0c_2nufUP3sqbc\" href=\"/eby/apa/4705072379.html\"></a>\n",
        "<a class=\"hdrlnk\" data-id=\"4705072379\" href=\"/eby/apa/4705072379.html\">Beautiful Home from Dublin 5 bedrooms with 4.5 baths</a>\n",
        "<a class=\"i\" data-id=\"0:00P0P_6QbixFi5hY7\" href=\"/eby/apa/4705062307.html\"></a>\n",
        "<a class=\"hdrlnk\" data-id=\"4705062307\" href=\"/eby/apa/4705062307.html\">PARK-LIKE LANDSCAPING, ENJOY THE QUIET, SCENIC SURROUNDINGS</a>\n",
        "<a class=\"i\" data-id=\"0:00j0j_9QeMHvlLMze\" href=\"/eby/apa/4693728424.html\"></a>\n",
        "<a class=\"hdrlnk\" data-id=\"4693728424\" href=\"/eby/apa/4693728424.html\">$2200 1100sqft - 3BR/2BA HOUSE in UNION CITY</a>\n",
        "<a class=\"i\" data-id=\"0:00w0w_3snpcqX2MJy\" href=\"/eby/apa/4698874935.html\"></a>\n",
        "<a class=\"hdrlnk\" data-id=\"4698874935\" href=\"/eby/apa/4698874935.html\">luxuary 4bed 2 bath union city $,2,999 first month</a>\n",
        "<a class=\"i\" href=\"/eby/apa/4704568093.html\"></a>\n",
        "<a class=\"hdrlnk\" data-id=\"4704568093\" href=\"/eby/apa/4704568093.html\">3 Bedroom Townhome at great location</a>\n",
        "<a class=\"i\" data-id=\"0:00F0F_mYbBBvnFJc\" href=\"/eby/apa/4704341992.html\"></a>\n",
        "<a class=\"hdrlnk\" data-id=\"4704341992\" href=\"/eby/apa/4704341992.html\">SPACIOUS TOP FLOOR 1 bed*W/D in unit*Vaulted ceilings*Avail 10/18</a>\n",
        "<a class=\"i\" data-id=\"0:00M0M_2jGe6U8zfzn\" href=\"/eby/apa/4704301650.html\"></a>\n",
        "<a class=\"hdrlnk\" data-id=\"4704301650\" href=\"/eby/apa/4704301650.html\">Lovely and spacious single family house in Fremont</a>\n",
        "<a class=\"i\" data-id=\"0:00i0i_9pFeQge9oQU\" href=\"/eby/apa/4704231062.html\"></a>\n",
        "<a class=\"hdrlnk\" data-id=\"4704231062\" href=\"/eby/apa/4704231062.html\">Enormous apartment home with fantastic amenities!</a>\n",
        "<a class=\"i\" data-id=\"0:00505_6297xq4c4kY\" href=\"/eby/apa/4704252659.html\"></a>\n",
        "<a class=\"hdrlnk\" data-id=\"4704252659\" href=\"/eby/apa/4704252659.html\">RESORT LIVING IN A SERENE PARK SETTING </a>\n",
        "<a class=\"i\" data-id=\"0:01717_dAf8n3O6poI\" href=\"/eby/apa/4697397493.html\"></a>\n",
        "<a class=\"hdrlnk\" data-id=\"4697397493\" href=\"/eby/apa/4697397493.html\">AMAZING 2BED/1BATH AVAILABLE!!</a>\n",
        "<a class=\"i\" data-id=\"0:00s0s_kDkoklg8fhc\" href=\"/eby/apa/4704143532.html\"></a>\n",
        "<a class=\"hdrlnk\" data-id=\"4704143532\" href=\"/eby/apa/4704143532.html\">Stunning 3BD/2BA Apartment with all new Interiors</a>\n",
        "<a class=\"i\" data-id=\"0:00v0v_kIDpjWuX5YS\" href=\"/eby/apa/4704144753.html\"></a>\n",
        "<a class=\"hdrlnk\" data-id=\"4704144753\" href=\"/eby/apa/4704144753.html\">Just the place you need.</a>\n",
        "<a class=\"i\" data-id=\"0:00A0A_6tN78StRf2t\" href=\"/eby/apa/4694966766.html\"></a>\n",
        "<a class=\"hdrlnk\" data-id=\"4694966766\" href=\"/eby/apa/4694966766.html\">Beautiful house, close to Dumbarton Bridge(Facebook), shopping center </a>\n",
        "<a class=\"i\" data-id=\"0:00D0D_9Sn2UQRVPXX\" href=\"/eby/apa/4704139615.html\"></a>\n",
        "<a class=\"hdrlnk\" data-id=\"4704139615\" href=\"/eby/apa/4704139615.html\">Your'e apartment is waiting.</a>\n",
        "<a class=\"i\" data-id=\"0:00Y0Y_1WJlPRdgNOE\" href=\"/eby/apa/4704154730.html\"></a>\n",
        "<a class=\"hdrlnk\" data-id=\"4704154730\" href=\"/eby/apa/4704154730.html\">Living at its best! Come see your new home today!</a>\n",
        "<a class=\"i\" data-id=\"0:00A0A_6tN78StRf2t\" href=\"/eby/apa/4704149444.html\"></a>\n",
        "<a class=\"hdrlnk\" data-id=\"4704149444\" href=\"/eby/apa/4704149444.html\">Beautiful house, close to Dumbarton Bridge(Facebook), shopping center </a>\n",
        "<a class=\"i\" data-id=\"0:00V0V_5wO57bl87oe\" href=\"/eby/apa/4704148619.html\"></a>\n",
        "<a class=\"hdrlnk\" data-id=\"4704148619\" href=\"/eby/apa/4704148619.html\">Nor Cal Realty Inc - 3 bedroom 2.5 bath Single family home</a>\n",
        "<a class=\"i\" data-id=\"0:00n0n_6WSYRh8c1Af\" href=\"/eby/apa/4704109258.html\"></a>\n",
        "<a class=\"hdrlnk\" data-id=\"4704109258\" href=\"/eby/apa/4704109258.html\">AMAZING AMENITIES IN PARK-LIKE COMMUNITY</a>\n",
        "<a class=\"i\" data-id=\"0:01515_5MNZyVhru24\" href=\"/eby/apa/4704133371.html\"></a>\n",
        "<a class=\"hdrlnk\" data-id=\"4704133371\" href=\"/eby/apa/4704133371.html\">Outstanding Location, Responsive Maintenance, Spacious Floorplan</a>\n",
        "<a class=\"i\" data-id=\"0:00606_dagvknG1KVZ\" href=\"/eby/apa/4704130997.html\"></a>\n",
        "<a class=\"hdrlnk\" data-id=\"4704130997\" href=\"/eby/apa/4704130997.html\">Spacious 2 Bedroom Apartment</a>\n",
        "<a class=\"i\" data-id=\"0:00N0N_iQukiRNxnZs\" href=\"/eby/apa/4695095838.html\"></a>\n",
        "<a class=\"hdrlnk\" data-id=\"4695095838\" href=\"/eby/apa/4695095838.html\">*SPECIAL* Your new home is waiting for you! - SPACIOUS 1 BR APARTMENT </a>\n",
        "<a class=\"i\" data-id=\"0:00C0C_ekJJ9LU3p9J\" href=\"/eby/apa/4684119955.html\"></a>\n",
        "<a class=\"hdrlnk\" data-id=\"4684119955\" href=\"/eby/apa/4684119955.html\">Fremont Brookvale house</a>\n",
        "<a class=\"i\" data-id=\"0:00W0W_8O60PpTkq6j\" href=\"/eby/apa/4704058251.html\"></a>\n",
        "<a class=\"hdrlnk\" data-id=\"4704058251\" href=\"/eby/apa/4704058251.html\">Mission Hills Executive Home  CALL FOR APPOINTMENT </a>\n",
        "<a class=\"i\" data-id=\"0:00m0m_bgMAslpUPFJ\" href=\"/eby/apa/4704054535.html\"></a>\n",
        "<a class=\"hdrlnk\" data-id=\"4704054535\" href=\"/eby/apa/4704054535.html\">Luxury 1 Bedroom! Need someone take over my lease (8 months left)</a>\n",
        "<a class=\"i\" href=\"/eby/apa/4703980109.html\"></a>\n",
        "<a class=\"hdrlnk\" data-id=\"4703980109\" href=\"/eby/apa/4703980109.html\">Single Family House For Rent</a>\n",
        "<a class=\"i\" data-id=\"0:00j0j_cPe1igpJx1z\" href=\"/eby/apa/4703974629.html\"></a>\n",
        "<a class=\"hdrlnk\" data-id=\"4703974629\" href=\"/eby/apa/4703974629.html\">3BR/2.5BA Ardenwood SFH For Rent; Open House Sunday(10/12) 1-4pm</a>\n",
        "<a class=\"i\" data-id=\"0:00i0i_5JL7oPwGmV6\" href=\"/eby/apa/4703837444.html\"></a>\n",
        "<a class=\"hdrlnk\" data-id=\"4703837444\" href=\"/eby/apa/4703837444.html\">Stunning 3X2 Apartment with W/D Set in Fremont!</a>\n",
        "<a class=\"i\" data-id=\"0:00S0S_b08prhSyN2R\" href=\"/eby/apa/4703710995.html\"></a>\n",
        "<a class=\"hdrlnk\" data-id=\"4703710995\" href=\"/eby/apa/4703710995.html\">1 bedroom w/ FULL size washer/dryer in unit*2nd floor unit*Avail NOW</a>\n",
        "<a class=\"i\" data-id=\"0:00505_2RhHjFD1ByM\" href=\"/eby/apa/4703833934.html\"></a>\n",
        "<a class=\"hdrlnk\" data-id=\"4703833934\" href=\"/eby/apa/4703833934.html\">Niles cottage</a>\n",
        "<a class=\"i\" data-id=\"0:00P0P_ktsvNogWZiw\" href=\"/eby/apa/4703798803.html\"></a>\n",
        "<a class=\"hdrlnk\" data-id=\"4703798803\" href=\"/eby/apa/4703798803.html\">Modern home in an excellent location(3Bed/2.5bath in heart of Fremont)</a>\n",
        "<a class=\"i\" data-id=\"0:00303_54tlmZrgcZ\" href=\"/eby/apa/4703781677.html\"></a>\n",
        "<a class=\"hdrlnk\" data-id=\"4703781677\" href=\"/eby/apa/4703781677.html\">DESIGNER-INSPIRED FLOOR PLANS WITH LUSH GARDEN VIEW</a>\n",
        "<a class=\"i\" href=\"/eby/apa/4703771390.html\"></a>\n",
        "<a class=\"hdrlnk\" data-id=\"4703771390\" href=\"/eby/apa/4703771390.html\">a room for rent in fremont</a>\n",
        "<a class=\"i\" data-id=\"0:00S0S_ejfVchAqhve\" href=\"/eby/apa/4703769410.html\"></a>\n",
        "<a class=\"hdrlnk\" data-id=\"4703769410\" href=\"/eby/apa/4703769410.html\">Available Immediately!!!</a>\n",
        "<a class=\"i\" href=\"/eby/apa/4692886961.html\"></a>\n",
        "<a class=\"hdrlnk\" data-id=\"4692886961\" href=\"/eby/apa/4692886961.html\">~*~A Home To Adore, ~*~ Move In Ready 10/25/14</a>\n",
        "<a class=\"i\" href=\"/eby/apa/4693711902.html\"></a>\n",
        "<a class=\"hdrlnk\" data-id=\"4693711902\" href=\"/eby/apa/4693711902.html\">2 Bed/2 Bath 5minutes from fremont bart 8 month lease</a>\n",
        "<a class=\"i\" href=\"/eby/apa/4703661903.html\"></a>\n",
        "<a class=\"hdrlnk\" data-id=\"4703661903\" href=\"/eby/apa/4703661903.html\">Room for Rent in Fremont </a>\n",
        "<a class=\"i\" data-id=\"0:00o0o_770j4yJ5LPO\" href=\"/eby/apa/4696985708.html\"></a>\n",
        "<a class=\"hdrlnk\" data-id=\"4696985708\" href=\"/eby/apa/4696985708.html\">Gorgeous Mission Fremont Home ... Will not Last!!!</a>\n",
        "<a class=\"i\" data-id=\"0:00E0E_1Rc8aYGibuA\" href=\"/eby/apa/4703587360.html\"></a>\n",
        "<a class=\"hdrlnk\" data-id=\"4703587360\" href=\"/eby/apa/4703587360.html\">Newly Renovated 4bd / 3ba / 2260 sq ft house in Union City / Pioneer</a>\n",
        "<a class=\"button first\" href=\"/search/eby/apa?nh=54\" title=\"first page\">&lt;&lt;</a>\n",
        "<a class=\"button prev\" href=\"/search/eby/apa?s=200&amp;nh=54\" title=\"previous page\">&lt; prev</a>\n",
        "<a class=\"button next\" href=\"/search/eby/apa?s=400&amp;nh=54\" title=\"next page\"> next &gt; </a>\n",
        "<a class=\"backtotop button\" href=\"#pagecontainer\">^ back to top</a>\n",
        "<a class=\"l\" href=\"http://sfbay.craigslist.org/search/eby/apa?nh=54&amp;s=300&amp;format=rss\">RSS</a>\n",
        "<a href=\"http://www.craigslist.org/about/rss\">(?)</a>\n",
        "<a href=\"//www.craigslist.org/about/help/\">help</a>\n",
        "<a href=\"//www.craigslist.org/about/scams\">safety</a>\n",
        "<a href=\"//www.craigslist.org/about/privacy.policy\">privacy</a>\n",
        "<a href=\"https://forums.craigslist.org/?forumID=8\">feedback</a>\n",
        "<a href=\"//www.craigslist.org/about/craigslist_is_hiring\">cl jobs</a>\n",
        "<a href=\"//www.craigslist.org/about/terms.of.use\">terms</a>\n",
        "<a href=\"//www.craigslist.org/about/\">about</a>\n",
        "<a href=\"/\">SF bay area</a>"
       ]
      },
      {
       "output_type": "stream",
       "stream": "stdout",
       "text": [
        "\n",
        "<a href=\"/search/hhh\">housing</a>\n",
        "<a href=\"/search/apa\">apts/housing for rent</a>\n",
        "<a href=\"https://post.craigslist.org/c/sfo?lang=en\">post</a>\n",
        "<a href=\"https://accounts.craigslist.org/login/home\">account</a>\n",
        "<a class=\"favlink\" href=\"#\"><span class=\"n\">0</span> favorites</a>\n",
        "<a class=\"saveme\" href=\"https://accounts.craigslist.org/login?rt=L&amp;rp=%2Fsavesearch%2Falert%3FURL%3Dhttp%253A%252F%252Fsfbay%252Ecraigslist%252Eorg%252Fsearch%252Feby%252Fapa%253Fnh%253D54\" title=\"save this search with email alerts\">alert</a>\n",
        "<a class=\"saveme\" href=\"https://accounts.craigslist.org/login?rt=L&amp;rp=%2Fsavesearch%2Fsave%3FURL%3Dhttp%253A%252F%252Fsfbay%252Ecraigslist%252Eorg%252Fsearch%252Feby%252Fapa%253Fnh%253D54\" title=\"save this search\">save</a>\n",
        "<a class=\"category\" href=\"/search/eby/apa?nh=54\">apts/housing for rent</a>\n",
        "<a class=\"category\" href=\"/search/eby/rea?nh=54\">real estate for sale</a>\n",
        "<a class=\"category\" href=\"/search/eby/roo?nh=54\">rooms &amp; shares</a>\n",
        "<a class=\"category\" href=\"/search/eby/off?nh=54\">office &amp; commercial</a>\n",
        "<a class=\"category\" href=\"/search/eby/sha?nh=54\">room/share wanted</a>\n",
        "<a class=\"category\" href=\"/search/eby/hou?nh=54\">apts wanted</a>\n",
        "<a class=\"category\" href=\"/search/eby/prk?nh=54\">parking &amp; storage</a>\n",
        "<a class=\"category\" href=\"/search/eby/sub?nh=54\">sublets &amp; temporary</a>\n",
        "<a class=\"category\" href=\"/search/eby/rew?nh=54\">real estate wanted</a>\n",
        "<a class=\"category\" href=\"/search/eby/vac?nh=54\">vacation rentals</a>\n",
        "<a class=\"category\" href=\"/search/eby/swp?nh=54\">housing swap</a>\n",
        "<a class=\"category\" href=\"/search/eby/sbw?nh=54\">sublet/temp wanted</a>\n",
        "<a class=\"mode button\" data-view=\"list\" href=\"#list\" id=\"listview\" title=\"show results in a list\">list</a>\n",
        "<a class=\"mode button\" data-view=\"pic\" href=\"#pic\" id=\"picview\" title=\"show results in a list with thumbnail pictures\">thumb</a>\n",
        "<a class=\"mode button\" data-view=\"grid\" href=\"#grid\" id=\"gridview\" title=\"show results side-by-side with larger pictures\">gallery</a>\n",
        "<a class=\"mode button\" data-view=\"map\" href=\"#map\" id=\"mapview\" title=\"show results on a map\">map</a>\n",
        "<a class=\"button\" href=\"/search/eby/apa?sort=priceasc&amp;nh=54\" title=\"sort by price, lowest to highest\"><span class=\"pricesort\"><span class=\"pricesort\">$</span>$</span>$</a>\n",
        "<a class=\"button\" href=\"/search/eby/apa?sort=pricedsc&amp;nh=54\" title=\"sort by price, highest to lowest\">$<span class=\"pricesort\">$<span class=\"pricesort\">$</span></span></a>\n",
        "<a class=\"button first\" href=\"/search/eby/apa?nh=54\" title=\"first page\">&lt;&lt;</a>\n",
        "<a class=\"button prev\" href=\"/search/eby/apa?s=300&amp;nh=54\" title=\"previous page\">&lt; prev</a>\n",
        "<a class=\"i\" data-id=\"0:00G0G_hntlCwwUthz\" href=\"/eby/apa/4703609731.html\"></a>\n",
        "<a class=\"hdrlnk\" data-id=\"4703609731\" href=\"/eby/apa/4703609731.html\">Professionally Managed, Air Conditioning, Ceiling Fan, Covered Parking</a>\n",
        "<a class=\"i\" data-id=\"0:00000_eiSJYLeUGZj\" href=\"/eby/apa/4699808740.html\"></a>\n",
        "<a class=\"hdrlnk\" data-id=\"4699808740\" href=\"/eby/apa/4699808740.html\">*Carriage House* Gated Community in a Quiet and Friendly Neighborhood!</a>\n",
        "<a class=\"i\" data-id=\"0:00000_eiSJYLeUGZj\" href=\"/eby/apa/4699810558.html\"></a>\n",
        "<a class=\"hdrlnk\" data-id=\"4699810558\" href=\"/eby/apa/4699810558.html\">*Carriage House* Gated Community in a Quiet and Friendly Neighborhood!</a>\n",
        "<a class=\"i\" data-id=\"0:00c0c_eU6NVya4DG3\" href=\"/eby/apa/4703548903.html\"></a>\n",
        "<a class=\"hdrlnk\" data-id=\"4703548903\" href=\"/eby/apa/4703548903.html\">Beautiful Furnished 5BD/4Bath in Fremont </a>\n",
        "<a class=\"i\" data-id=\"0:00E0E_8x7barJQifd\" href=\"/eby/apa/4703523020.html\"></a>\n",
        "<a class=\"hdrlnk\" data-id=\"4703523020\" href=\"/eby/apa/4703523020.html\">BEAUTIFUL 1 BEDROOM APARTMENT! QUIET NEIGHBORHOOD IN FREMONT!</a>\n",
        "<a class=\"i\" data-id=\"0:00F0F_5ISj4XsX6wq\" href=\"/eby/apa/4703434347.html\"></a>\n",
        "<a class=\"hdrlnk\" data-id=\"4703434347\" href=\"/eby/apa/4703434347.html\">Stunning First Floor One Bedroom!!</a>\n",
        "<a class=\"i\" data-id=\"0:00a0a_8RYx4dP2OeZ\" href=\"/eby/apa/4703459261.html\"></a>\n",
        "<a class=\"hdrlnk\" data-id=\"4703459261\" href=\"/eby/apa/4703459261.html\">Beautiful 2BD/1BA Condo for rent in Union City </a>\n",
        "<a class=\"i\" data-id=\"0:00I0I_8qzDYir5NeF\" href=\"/eby/apa/4703454433.html\"></a>\n",
        "<a class=\"hdrlnk\" data-id=\"4703454433\" href=\"/eby/apa/4703454433.html\">Amazing apartment home loaded with amenities and features!</a>\n",
        "<a class=\"i\" data-id=\"0:00D0D_jEs3oanwGyj\" href=\"/eby/apa/4703421097.html\"></a>\n",
        "<a class=\"hdrlnk\" data-id=\"4703421097\" href=\"/eby/apa/4703421097.html\">PRIVATE END UNIT, LARGE STORAGE, YOUR NEW HOME IS HERE!</a>\n",
        "<a class=\"i\" data-id=\"0:00m0m_bZfpVrQ21sQ\" href=\"/eby/apa/4703341456.html\"></a>\n",
        "<a class=\"hdrlnk\" data-id=\"4703341456\" href=\"/eby/apa/4703341456.html\">\u25ba \u25ba\u25ba Elegant Single Family Home - OPEN HOUSE</a>\n",
        "<a class=\"i\" data-id=\"0:00H0H_gBcbekwOCgE\" href=\"/eby/apa/4699732071.html\"></a>\n",
        "<a class=\"hdrlnk\" data-id=\"4699732071\" href=\"/eby/apa/4699732071.html\">Luxry Apt: Paragon Apt 1B1B for $2000 with laundry inside the unit</a>\n",
        "<a class=\"i\" data-id=\"0:00b0b_jz5LEUSpH2s\" href=\"/eby/apa/4702856265.html\"></a>\n",
        "<a class=\"hdrlnk\" data-id=\"4702856265\" href=\"/eby/apa/4702856265.html\">A Unique Two Bedroom Layout! Very Open and Inviting!</a>\n",
        "<a class=\"i\" data-id=\"0:01616_aW5dtfYFvWE\" href=\"/eby/apa/4702797605.html\"></a>\n",
        "<a class=\"hdrlnk\" data-id=\"4702797605\" href=\"/eby/apa/4702797605.html\">$1695/2BD - NEWLY REMODLED TWO BED TWONHOUSE </a>\n",
        "<a class=\"i\" data-id=\"0:00H0H_jKvIW33syH4\" href=\"/eby/apa/4702720069.html\"></a>\n",
        "<a class=\"hdrlnk\" data-id=\"4702720069\" href=\"/eby/apa/4702720069.html\">Perfect Apartment Home At The Perfect Affordable Price!</a>\n",
        "<a class=\"i\" data-id=\"0:00L0L_HBqK7F6SRY\" href=\"/eby/apa/4702676259.html\"></a>\n",
        "<a class=\"hdrlnk\" data-id=\"4702676259\" href=\"/eby/apa/4702676259.html\">DESIGNER INTERIORS, SPACIOUS FLOOR PLANS AND AMAZING AMENITIES</a>\n",
        "<a class=\"i\" data-id=\"0:00r0r_6LQXQB4gYIk\" href=\"/eby/apa/4702686053.html\"></a>\n",
        "<a class=\"hdrlnk\" data-id=\"4702686053\" href=\"/eby/apa/4702686053.html\">BEAUTIFUL 1 BEDROOM AT QUIET NEIGHBORHOOD IN FREMONT! </a>\n",
        "<a class=\"i\" data-id=\"0:00R0R_d4qiDdJ8YcQ\" href=\"/eby/apa/4702635277.html\"></a>\n",
        "<a class=\"hdrlnk\" data-id=\"4702635277\" href=\"/eby/apa/4702635277.html\">Remodeled home for rent</a>\n",
        "<a class=\"i\" data-id=\"0:00707_9raZfXNTSUX\" href=\"/eby/apa/4702520495.html\"></a>\n",
        "<a class=\"hdrlnk\" data-id=\"4702520495\" href=\"/eby/apa/4702520495.html\">4 Bed 3.5 Bath Single Family House in Fremont Mission San Jose</a>\n",
        "<a class=\"i\" data-id=\"0:01414_iWtqVBaWgBC\" href=\"/eby/apa/4692849596.html\"></a>\n",
        "<a class=\"hdrlnk\" data-id=\"4692849596\" href=\"/eby/apa/4692849596.html\">FREE COMCAST CABLE w/ HBO</a>\n",
        "<a class=\"i\" data-id=\"0:00W0W_2BGlNG57C1D\" href=\"/eby/apa/4702435447.html\"></a>\n",
        "<a class=\"hdrlnk\" data-id=\"4702435447\" href=\"/eby/apa/4702435447.html\">3 Bd, 2 Bth single family home</a>\n",
        "<a class=\"i\" data-id=\"0:00W0W_2BGlNG57C1D\" href=\"/eby/apa/4691776058.html\"></a>\n",
        "<a class=\"hdrlnk\" data-id=\"4691776058\" href=\"/eby/apa/4691776058.html\">3 Bd, 2 Bth single family home</a>\n",
        "<a class=\"i\" data-id=\"0:00505_6297xq4c4kY\" href=\"/eby/apa/4702337301.html\"></a>\n",
        "<a class=\"hdrlnk\" data-id=\"4702337301\" href=\"/eby/apa/4702337301.html\">PARK-LIKE LANDSCAPING, POOL, SPA, FITNESS CENTER </a>\n",
        "<a class=\"i\" data-id=\"0:01313_h0nkGFv1wIh\" href=\"/eby/apa/4702316336.html\"></a>\n",
        "<a class=\"hdrlnk\" data-id=\"4702316336\" href=\"/eby/apa/4702316336.html\">\u2666A CATCH! COME TOUR TODAY \u2666</a>\n",
        "<a class=\"i\" data-id=\"0:00x0x_d56IuCnzBIA\" href=\"/eby/apa/4694923813.html\"></a>\n",
        "<a class=\"hdrlnk\" data-id=\"4694923813\" href=\"/eby/apa/4694923813.html\">Perfect Shape Single Family Home In North Fremont</a>\n",
        "<a class=\"i\" data-id=\"0:00Q0Q_lA9Mh5UqpX3\" href=\"/eby/apa/4693357033.html\"></a>\n",
        "<a class=\"hdrlnk\" data-id=\"4693357033\" href=\"/eby/apa/4693357033.html\">2 Bedroom 1 Bath - Newly Renovated</a>\n",
        "<a class=\"i\" data-id=\"0:00m0m_bZfpVrQ21sQ\" href=\"/eby/apa/4702225142.html\"></a>\n",
        "<a class=\"hdrlnk\" data-id=\"4702225142\" href=\"/eby/apa/4702225142.html\">\u25ba \u25ba\u25baOPEN HOUSE in Newark - Elegant Single Family Home</a>\n",
        "<a class=\"i\" data-id=\"0:00b0b_eVsQlMbEEnB\" href=\"/eby/apa/4702214023.html\"></a>\n",
        "<a class=\"hdrlnk\" data-id=\"4702214023\" href=\"/eby/apa/4702214023.html\">Ardenwood SFH for rent- available soon</a>\n",
        "<a class=\"i\" data-id=\"0:00505_g3Hh3TgNe8Z\" href=\"/eby/apa/4702152620.html\"></a>\n",
        "<a class=\"hdrlnk\" data-id=\"4702152620\" href=\"/eby/apa/4702152620.html\">\u2665LOOKING FOR PEACE AND QUIET\u2665 COME AND TOUR TODAY\u2665</a>\n",
        "<a class=\"i\" data-id=\"0:00d0d_cD18ERPCPAV\" href=\"/eby/apa/4702152537.html\"></a>\n",
        "<a class=\"hdrlnk\" data-id=\"4702152537\" href=\"/eby/apa/4702152537.html\">\u263bBART RIDERS DREAM/CLOSE TO SHOPPING\u263b</a>\n",
        "<a class=\"i\" data-id=\"0:00M0M_kWikfKsXK0G\" href=\"/eby/apa/4702131715.html\"></a>\n",
        "<a class=\"hdrlnk\" data-id=\"4702131715\" href=\"/eby/apa/4702131715.html\">Beautiful 2 bedrooms available </a>\n",
        "<a class=\"i\" data-id=\"0:00v0v_bPArceVPvEB\" href=\"/eby/apa/4702093114.html\"></a>\n",
        "<a class=\"hdrlnk\" data-id=\"4702093114\" href=\"/eby/apa/4702093114.html\">Spacious 2 Bed 1 Bath in Downtown Fremont</a>\n",
        "<a class=\"i\" data-id=\"0:00M0M_k5JckvZPb31\" href=\"/eby/apa/4702020462.html\"></a>\n",
        "<a class=\"hdrlnk\" data-id=\"4702020462\" href=\"/eby/apa/4702020462.html\">AMAZING AMENITIES IN PARK-LIKE COMMUNITY</a>\n",
        "<a class=\"i\" data-id=\"0:00P0P_6QbixFi5hY7\" href=\"/eby/apa/4701964401.html\"></a>\n",
        "<a class=\"hdrlnk\" data-id=\"4701964401\" href=\"/eby/apa/4701964401.html\">RESORT LIVING IN A SERENE PARK SETTING </a>\n",
        "<a class=\"i\" data-id=\"0:00y0y_bBBUXzrcdor\" href=\"/eby/apa/4687019251.html\"></a>\n",
        "<a class=\"hdrlnk\" data-id=\"4687019251\" href=\"/eby/apa/4687019251.html\">Two Bedroom, One Bath Downstair Available for October 10Th Move in !</a>\n",
        "<a class=\"i\" data-id=\"0:00S0S_2KQBhQJ0FbQ\" href=\"/eby/apa/4701899854.html\"></a>\n",
        "<a class=\"hdrlnk\" data-id=\"4701899854\" href=\"/eby/apa/4701899854.html\">Single-Family Home In Nice Neighborhood</a>\n",
        "<a class=\"i\" data-id=\"0:01515_5MNZyVhru24\" href=\"/eby/apa/4701897838.html\"></a>\n",
        "<a class=\"hdrlnk\" data-id=\"4701897838\" href=\"/eby/apa/4701897838.html\">Cottage Style, Stylish Features, Washer Dryer in Unit, Walk to BART</a>\n",
        "<a class=\"i\" data-id=\"0:00606_47ftQ34vJcC\" href=\"/eby/apa/4672754018.html\"></a>\n",
        "<a class=\"hdrlnk\" data-id=\"4672754018\" href=\"/eby/apa/4672754018.html\">1 Bd, 1 Ba Unit, Mission Fremont  INCLUDING ALL UTIL</a>\n",
        "<a class=\"i\" data-id=\"0:00202_czTJkI92lpS\" href=\"/eby/apa/4696402608.html\"></a>\n",
        "<a class=\"hdrlnk\" data-id=\"4696402608\" href=\"/eby/apa/4696402608.html\">$2200 1100sqft - 3BR/2BA HOUSE in UNION CITY</a>\n",
        "<a class=\"i\" data-id=\"0:01111_cYKyC0pJbkj\" href=\"/eby/apa/4701764173.html\"></a>\n",
        "<a class=\"hdrlnk\" data-id=\"4701764173\" href=\"/eby/apa/4701764173.html\">\u2660GREAT PRICE, LOCATION, AND QUIET\u2660</a>\n",
        "<a class=\"i\" data-id=\"0:00m0m_2YpmdIQOCyz\" href=\"/eby/apa/4701499272.html\"></a>\n",
        "<a class=\"hdrlnk\" data-id=\"4701499272\" href=\"/eby/apa/4701499272.html\">4 bedroom,2 Bath</a>\n",
        "<a class=\"i\" data-id=\"0:00707_dwVdr1KeeFy\" href=\"/eby/apa/4701373811.html\"></a>\n",
        "<a class=\"hdrlnk\" data-id=\"4701373811\" href=\"/eby/apa/4701373811.html\">Executive 4 bed 2 bath updated house in Chadbourne attendance area</a>\n",
        "<a class=\"i\" data-id=\"0:00w0w_bf8nr3Kg7HX\" href=\"/eby/apa/4701346705.html\"></a>\n",
        "<a class=\"hdrlnk\" data-id=\"4701346705\" href=\"/eby/apa/4701346705.html\">Remodeled Creative Space w/ Shower Kitchen Storage &amp; Parking</a>\n",
        "<a class=\"i\" data-id=\"0:00V0V_5IJaqlR0dDy\" href=\"/eby/apa/4688394503.html\"></a>\n",
        "<a class=\"hdrlnk\" data-id=\"4688394503\" href=\"/eby/apa/4688394503.html\">Bright, Clean Townhouse for Rent</a>\n",
        "<a class=\"i\" href=\"/eby/apa/4701332446.html\"></a>\n",
        "<a class=\"hdrlnk\" data-id=\"4701332446\" href=\"/eby/apa/4701332446.html\">Stunning Single Family Home near Fremont BART</a>\n",
        "<a class=\"i\" data-id=\"0:00N0N_1D2GZGQdMvD\" href=\"/eby/apa/4701296329.html\"></a>\n",
        "<a class=\"hdrlnk\" data-id=\"4701296329\" href=\"/eby/apa/4701296329.html\">\u25ba \u25ba\u25ba Heaven in Newark - Single Family Home</a>\n",
        "<a class=\"i\" data-id=\"0:00k0k_eXEmsq5u6ZT\" href=\"/eby/apa/4701134936.html\"></a>\n",
        "<a class=\"hdrlnk\" data-id=\"4701134936\" href=\"/eby/apa/4701134936.html\">Glenmoor House For Rent </a>\n",
        "<a class=\"i\" href=\"/eby/apa/4701076814.html\"></a>\n",
        "<a class=\"hdrlnk\" data-id=\"4701076814\" href=\"/eby/apa/4701076814.html\">3 bedrooms for rent in Fremont CA 94536</a>\n",
        "<a class=\"i\" data-id=\"0:01717_4FJkWeISNmH\" href=\"/eby/apa/4701021491.html\"></a>\n",
        "<a class=\"hdrlnk\" data-id=\"4701021491\" href=\"/eby/apa/4701021491.html\">\u263aWE HAVE GOT EVERYTHING YOU NEED FOR COMFORT\u263a!</a>\n",
        "<a class=\"i\" data-id=\"0:00n0n_6WSYRh8c1Af\" href=\"/eby/apa/4701002015.html\"></a>\n",
        "<a class=\"hdrlnk\" data-id=\"4701002015\" href=\"/eby/apa/4701002015.html\">OPEN FLOOR PLAN WITH A PRIVATE PATIO &amp; GYM </a>\n",
        "<a class=\"i\" data-id=\"0:00909_8KOZ61jULjT\" href=\"/eby/apa/4700965705.html\"></a>\n",
        "<a class=\"hdrlnk\" data-id=\"4700965705\" href=\"/eby/apa/4700965705.html\">Beautiful 1 bedroom call now to make an appointment!!!</a>\n",
        "<a class=\"i\" data-id=\"0:00l0l_l53CVMTm7VD\" href=\"/eby/apa/4700901774.html\"></a>\n",
        "<a class=\"hdrlnk\" data-id=\"4700901774\" href=\"/eby/apa/4700901774.html\">Beautiful 5 bedroom 3 bath house $3,600.00 with lots of upgrades</a>\n",
        "<a class=\"i\" data-id=\"0:01111_7iqbYe08be5\" href=\"/eby/apa/4700879255.html\"></a>\n",
        "<a class=\"hdrlnk\" data-id=\"4700879255\" href=\"/eby/apa/4700879255.html\">\u0095\u263bTHIS BEAUTIFUL UPGRADED APT HOME HAS ALL THE COMFORTS\u263b\u0095\u0095</a>\n",
        "<a class=\"i\" href=\"/eby/apa/4700862743.html\"></a>\n",
        "<a class=\"hdrlnk\" data-id=\"4700862743\" href=\"/eby/apa/4700862743.html\">Warm Springs Fremont Condo Rental...</a>\n",
        "<a class=\"i\" data-id=\"0:00l0l_ce288t6Zryx\" href=\"/eby/apa/4700801259.html\"></a>\n",
        "<a class=\"hdrlnk\" data-id=\"4700801259\" href=\"/eby/apa/4700801259.html\">\u2665\u263aWE WANT YOU TO JOIN THE FAMILY\u263a\u2665</a>\n",
        "<a class=\"i\" data-id=\"0:00c0c_5i0Zr20ZFZH\" href=\"/eby/apa/4691167236.html\"></a>\n",
        "<a class=\"hdrlnk\" data-id=\"4691167236\" href=\"/eby/apa/4691167236.html\">Beautiful and spacious 1 bedrooms available </a>\n",
        "<a class=\"i\" data-id=\"0:00v0v_68QHSOfEaI0\" href=\"/eby/apa/4700790696.html\"></a>\n",
        "<a class=\"hdrlnk\" data-id=\"4700790696\" href=\"/eby/apa/4700790696.html\">$1000 Master Bedroom For Rent in a 3br - 3BR/2.5BA home near BART</a>\n",
        "<a class=\"i\" href=\"/eby/apa/4700736285.html\"></a>\n",
        "<a class=\"hdrlnk\" data-id=\"4700736285\" href=\"/eby/apa/4700736285.html\">Medallion Has Comfort &amp; Convenience...</a>\n",
        "<a class=\"i\" data-id=\"0:01414_4SpX7dxY3vo\" href=\"/eby/apa/4700740260.html\"></a>\n",
        "<a class=\"hdrlnk\" data-id=\"4700740260\" href=\"/eby/apa/4700740260.html\">\ufffd\ufffdHEALTHY LIFESTYLE! CLOSE TO HIKING TRAILS! UPGRADED </a>\n",
        "<a class=\"i\" data-id=\"0:00E0E_8x7barJQifd\" href=\"/eby/apa/4700580141.html\"></a>\n",
        "<a class=\"hdrlnk\" data-id=\"4700580141\" href=\"/eby/apa/4700580141.html\">Beautiful 1 bedroom call now to make an appointment!!!</a>\n",
        "<a class=\"i\" data-id=\"0:00e0e_aPGiHU6NB7A\" href=\"/eby/apa/4700481471.html\"></a>\n",
        "<a class=\"hdrlnk\" data-id=\"4700481471\" href=\"/eby/apa/4700481471.html\">2br/2ba Beautifully Updated Newark Condo </a>\n",
        "<a class=\"i\" data-id=\"0:00O0O_3cjq6smNxRQ\" href=\"/eby/apa/4700474353.html\"></a>\n",
        "<a class=\"hdrlnk\" data-id=\"4700474353\" href=\"/eby/apa/4700474353.html\">Cottage Style Home, Near Public Parks, Parkmont Schools</a>\n",
        "<a class=\"i\" href=\"/eby/apa/4700474310.html\"></a>\n",
        "<a class=\"hdrlnk\" data-id=\"4700474310\" href=\"/eby/apa/4700474310.html\">3 bedroom 2 bath for rent in Fremont  $2500/per month </a>\n",
        "<a class=\"i\" data-id=\"0:00R0R_k5TpdIidzro\" href=\"/eby/apa/4700364472.html\"></a>\n",
        "<a class=\"hdrlnk\" data-id=\"4700364472\" href=\"/eby/apa/4700364472.html\">Comfort, Style and a GREAT Value at The Presidio!</a>\n",
        "<a class=\"i\" data-id=\"0:00K0K_9goXO02982y\" href=\"/eby/apa/4700430540.html\"></a>\n",
        "<a class=\"hdrlnk\" data-id=\"4700430540\" href=\"/eby/apa/4700430540.html\">Open House Sunday 10/5, 2-4pm - Beautiful California Blossom Home</a>\n",
        "<a class=\"i\" data-id=\"0:00R0R_k5TpdIidzro\" href=\"/eby/apa/4700370408.html\"></a>\n",
        "<a class=\"hdrlnk\" data-id=\"4700370408\" href=\"/eby/apa/4700370408.html\">Come See What You've Been Missing at The Presidio!</a>\n",
        "<a class=\"i\" data-id=\"0:00L0L_HBqK7F6SRY\" href=\"/eby/apa/4700387700.html\"></a>\n",
        "<a class=\"hdrlnk\" data-id=\"4700387700\" href=\"/eby/apa/4700387700.html\">DESIGNER INTERIORS, SPACIOUS FLOOR PLANS AND AMAZING AMENITIES</a>\n",
        "<a class=\"i\" href=\"/eby/apa/4700235796.html\"></a>\n",
        "<a class=\"hdrlnk\" data-id=\"4700235796\" href=\"/eby/apa/4700235796.html\">No trick! Lease given apartment number get $500 bonus</a>\n",
        "<a class=\"i\" data-id=\"0:00n0n_iAowFcm9uOE\" href=\"/eby/apa/4660891351.html\"></a>\n",
        "<a class=\"hdrlnk\" data-id=\"4660891351\" href=\"/eby/apa/4660891351.html\">Open House Sat 10/4 &amp; Sun 10/5 - Single Family House</a>\n",
        "<a class=\"button first\" href=\"/search/eby/apa?nh=54\" title=\"first page\">&lt;&lt;</a>\n",
        "<a class=\"button prev\" href=\"/search/eby/apa?s=300&amp;nh=54\" title=\"previous page\">&lt; prev</a>\n",
        "<a class=\"backtotop button\" href=\"#pagecontainer\">^ back to top</a>\n",
        "<a class=\"l\" href=\"http://sfbay.craigslist.org/search/eby/apa?nh=54&amp;s=400&amp;format=rss\">RSS</a>\n",
        "<a href=\"http://www.craigslist.org/about/rss\">(?)</a>\n",
        "<a href=\"//www.craigslist.org/about/help/\">help</a>\n",
        "<a href=\"//www.craigslist.org/about/scams\">safety</a>\n",
        "<a href=\"//www.craigslist.org/about/privacy.policy\">privacy</a>\n",
        "<a href=\"https://forums.craigslist.org/?forumID=8\">feedback</a>\n",
        "<a href=\"//www.craigslist.org/about/craigslist_is_hiring\">cl jobs</a>\n",
        "<a href=\"//www.craigslist.org/about/terms.of.use\">terms</a>\n",
        "<a href=\"//www.craigslist.org/about/\">about</a>\n"
       ]
      }
     ],
     "prompt_number": 43
    },
    {
     "cell_type": "code",
     "collapsed": false,
     "input": [
      "print urls"
     ],
     "language": "python",
     "metadata": {},
     "outputs": [
      {
       "output_type": "stream",
       "stream": "stdout",
       "text": [
        "['/', '/search/hhh', '/search/apa', 'https://post.craigslist.org/c/sfo?lang=en', 'https://accounts.craigslist.org/login/home', '#', 'https://accounts.craigslist.org/login?rt=L&rp=%2Fsavesearch%2Falert%3FURL%3Dhttp%253A%252F%252Fsfbay%252Ecraigslist%252Eorg%252Fsearch%252Feby%252Fapa%253Fnh%253D54%2526sale%255Fdate%253D%252D', 'https://accounts.craigslist.org/login?rt=L&rp=%2Fsavesearch%2Fsave%3FURL%3Dhttp%253A%252F%252Fsfbay%252Ecraigslist%252Eorg%252Fsearch%252Feby%252Fapa%253Fnh%253D54%2526sale%255Fdate%253D%252D', '/search/eby/apa?nh=54&sale_date=-', '/search/eby/rea?nh=54&sale_date=-', '/search/eby/roo?nh=54&sale_date=-', '/search/eby/off?nh=54&sale_date=-', '/search/eby/sha?nh=54&sale_date=-', '/search/eby/hou?nh=54&sale_date=-', '/search/eby/prk?nh=54&sale_date=-', '/search/eby/sub?nh=54&sale_date=-', '/search/eby/rew?nh=54&sale_date=-', '/search/eby/vac?nh=54&sale_date=-', '/search/eby/swp?nh=54&sale_date=-', '/search/eby/sbw?nh=54&sale_date=-', '#list', '#pic', '#grid', '#map', '/search/eby/apa?sort=priceasc&nh=54&sale_date=-', '/search/eby/apa?sort=pricedsc&nh=54&sale_date=-', '/search/eby/apa?s=100&nh=54&sale_date=-', '/eby/apa/4709086634.html', '/eby/apa/4709086634.html', '/eby/apa/4711946435.html', '/eby/apa/4711946435.html', '/eby/apa/4711899551.html', '/eby/apa/4711899551.html', '/eby/apa/4667100523.html', '/eby/apa/4667100523.html', '/eby/apa/4711894505.html', '/eby/apa/4711894505.html', '/eby/apa/4711771823.html', '/eby/apa/4711771823.html', '/eby/apa/4701722996.html', '/eby/apa/4701722996.html', '/eby/apa/4711701394.html', '/eby/apa/4711701394.html', '/eby/apa/4711769872.html', '/eby/apa/4711769872.html', '/eby/apa/4667238532.html', '/eby/apa/4667238532.html', '/eby/apa/4711746106.html', '/eby/apa/4711746106.html', '/eby/apa/4711731689.html', '/eby/apa/4711731689.html', '/eby/apa/4711669614.html', '/eby/apa/4711669614.html', '/eby/apa/4711629640.html', '/eby/apa/4711629640.html', '/eby/apa/4696943761.html', '/eby/apa/4696943761.html', '/eby/apa/4711659575.html', '/eby/apa/4711659575.html', '/eby/apa/4711638621.html', '/eby/apa/4711638621.html', '/eby/apa/4711561337.html', '/eby/apa/4711561337.html', '/eby/apa/4711547661.html', '/eby/apa/4711547661.html', '/eby/apa/4711529037.html', '/eby/apa/4711529037.html', '/eby/apa/4711441253.html', '/eby/apa/4711441253.html', '/eby/apa/4701295277.html', '/eby/apa/4701295277.html', '/eby/apa/4711496032.html', '/eby/apa/4711496032.html', '/eby/apa/4711482079.html', '/eby/apa/4711482079.html', '/eby/apa/4711396964.html', '/eby/apa/4711396964.html', '/eby/apa/4711462498.html', '/eby/apa/4711462498.html', '/eby/apa/4711477837.html', '/eby/apa/4711477837.html', '/eby/apa/4711442471.html', '/eby/apa/4711442471.html', '/eby/apa/4711476379.html', '/eby/apa/4711476379.html', '/eby/apa/4711438936.html', '/eby/apa/4711438936.html', '/eby/apa/4711450323.html', '/eby/apa/4711450323.html', '/eby/apa/4711427069.html', '/eby/apa/4711427069.html', '/eby/apa/4711401643.html', '/eby/apa/4711401643.html', '/eby/apa/4711371338.html', '/eby/apa/4711371338.html', '/eby/apa/4711374823.html', '/eby/apa/4711374823.html', '/eby/apa/4711328744.html', '/eby/apa/4711328744.html', '/eby/apa/4707608390.html', '/eby/apa/4707608390.html', '/eby/apa/4711266858.html', '/eby/apa/4711266858.html', '/eby/apa/4711290032.html', '/eby/apa/4711290032.html', '/eby/apa/4705189045.html', '/eby/apa/4705189045.html', '/eby/apa/4711260041.html', '/eby/apa/4711260041.html', '/eby/apa/4711254653.html', '/eby/apa/4711254653.html', '/eby/apa/4711253119.html', '/eby/apa/4711253119.html', '/eby/apa/4711243094.html', '/eby/apa/4711243094.html', '/eby/apa/4711238589.html', '/eby/apa/4711238589.html', '/eby/apa/4708303465.html', '/eby/apa/4708303465.html', '/eby/apa/4711216233.html', '/eby/apa/4711216233.html', '/eby/apa/4711194779.html', '/eby/apa/4711194779.html', '/eby/apa/4711175500.html', '/eby/apa/4711175500.html', '/eby/apa/4711163775.html', '/eby/apa/4711163775.html', '/eby/apa/4711162750.html', '/eby/apa/4711162750.html', '/eby/apa/4711160900.html', '/eby/apa/4711160900.html', '/eby/apa/4711155844.html', '/eby/apa/4711155844.html', '/eby/apa/4711154407.html', '/eby/apa/4711154407.html', '/eby/apa/4711152261.html', '/eby/apa/4711152261.html', '/eby/apa/4711129092.html', '/eby/apa/4711129092.html', '/eby/apa/4711111236.html', '/eby/apa/4711111236.html', '/eby/apa/4711084884.html', '/eby/apa/4711084884.html', '/eby/apa/4711064129.html', '/eby/apa/4711064129.html', '/eby/apa/4711067392.html', '/eby/apa/4711067392.html', '/eby/apa/4711061710.html', '/eby/apa/4711061710.html', '/eby/apa/4711030749.html', '/eby/apa/4711030749.html', '/eby/apa/4710977244.html', '/eby/apa/4710977244.html', '/eby/apa/4710948402.html', '/eby/apa/4710948402.html', '/eby/apa/4710699054.html', '/eby/apa/4710699054.html', '/eby/apa/4710690027.html', '/eby/apa/4710690027.html', '/eby/apa/4710676926.html', '/eby/apa/4710676926.html', '/eby/apa/4700775920.html', '/eby/apa/4700775920.html', '/eby/apa/4710498444.html', '/eby/apa/4710498444.html', '/eby/apa/4710499204.html', '/eby/apa/4710499204.html', '/eby/apa/4710494763.html', '/eby/apa/4710494763.html', '/eby/apa/4710469884.html', '/eby/apa/4710469884.html', '/eby/apa/4710451031.html', '/eby/apa/4710451031.html', '/eby/apa/4710471246.html', '/eby/apa/4710471246.html', '/eby/apa/4710459519.html', '/eby/apa/4710459519.html', '/eby/apa/4710455323.html', '/eby/apa/4710455323.html', '/eby/apa/4710368477.html', '/eby/apa/4710368477.html', '/eby/apa/4710369193.html', '/eby/apa/4710369193.html', '/eby/apa/4710371000.html', '/eby/apa/4710371000.html', '/eby/apa/4706955374.html', '/eby/apa/4706955374.html', '/eby/apa/4710402279.html', '/eby/apa/4710402279.html', '/eby/apa/4710410118.html', '/eby/apa/4710410118.html', '/eby/apa/4707251377.html', '/eby/apa/4707251377.html', '/eby/apa/4696287452.html', '/eby/apa/4696287452.html', '/eby/apa/4710387905.html', '/eby/apa/4710387905.html', '/eby/apa/4710383619.html', '/eby/apa/4710383619.html', '/eby/apa/4706543545.html', '/eby/apa/4706543545.html', '/eby/apa/4710360494.html', '/eby/apa/4710360494.html', '/eby/apa/4710357634.html', '/eby/apa/4710357634.html', '/eby/apa/4710316373.html', '/eby/apa/4710316373.html', '/eby/apa/4710319342.html', '/eby/apa/4710319342.html', '/eby/apa/4710317042.html', '/eby/apa/4710317042.html', '/eby/apa/4710320249.html', '/eby/apa/4710320249.html', '/eby/apa/4690381673.html', '/eby/apa/4690381673.html', '/eby/apa/4710314987.html', '/eby/apa/4710314987.html', '/eby/apa/4710259152.html', '/eby/apa/4710259152.html', '/eby/apa/4710256324.html', '/eby/apa/4710256324.html', '/eby/apa/4710220313.html', '/eby/apa/4710220313.html', '/eby/apa/4710227618.html', '/eby/apa/4710227618.html', '/eby/apa/4710191971.html', '/eby/apa/4710191971.html', '/search/eby/apa?s=100&nh=54&sale_date=-', '#pagecontainer', 'http://sfbay.craigslist.org/search/eby/apa?nh=54&sale_date=-&format=rss', 'http://www.craigslist.org/about/rss', '//www.craigslist.org/about/help/', '//www.craigslist.org/about/scams', '//www.craigslist.org/about/privacy.policy', 'https://forums.craigslist.org/?forumID=8', '//www.craigslist.org/about/craigslist_is_hiring', '//www.craigslist.org/about/terms.of.use', '//www.craigslist.org/about/', '/', '/search/hhh', '/search/apa', 'https://post.craigslist.org/c/sfo?lang=en', 'https://accounts.craigslist.org/login/home', '#', 'https://accounts.craigslist.org/login?rt=L&rp=%2Fsavesearch%2Falert%3FURL%3Dhttp%253A%252F%252Fsfbay%252Ecraigslist%252Eorg%252Fsearch%252Feby%252Fapa%253Fnh%253D54', 'https://accounts.craigslist.org/login?rt=L&rp=%2Fsavesearch%2Fsave%3FURL%3Dhttp%253A%252F%252Fsfbay%252Ecraigslist%252Eorg%252Fsearch%252Feby%252Fapa%253Fnh%253D54', '/search/eby/apa?nh=54', '/search/eby/rea?nh=54', '/search/eby/roo?nh=54', '/search/eby/off?nh=54', '/search/eby/sha?nh=54', '/search/eby/hou?nh=54', '/search/eby/prk?nh=54', '/search/eby/sub?nh=54', '/search/eby/rew?nh=54', '/search/eby/vac?nh=54', '/search/eby/swp?nh=54', '/search/eby/sbw?nh=54', '#list', '#pic', '#grid', '#map', '/search/eby/apa?sort=priceasc&nh=54', '/search/eby/apa?sort=pricedsc&nh=54', '/search/eby/apa?nh=54', '/search/eby/apa?nh=54', '/search/eby/apa?s=200&nh=54', '/eby/apa/4710205842.html', '/eby/apa/4710205842.html', '/eby/apa/4710193155.html', '/eby/apa/4710193155.html', '/eby/apa/4710152904.html', '/eby/apa/4710152904.html', '/eby/apa/4710176266.html', '/eby/apa/4710176266.html', '/eby/apa/4710174102.html', '/eby/apa/4710174102.html', '/eby/apa/4710164005.html', '/eby/apa/4710164005.html', '/eby/apa/4710161708.html', '/eby/apa/4710161708.html', '/eby/apa/4710161785.html', '/eby/apa/4710161785.html', '/eby/apa/4691387359.html', '/eby/apa/4691387359.html', '/eby/apa/4701965908.html', '/eby/apa/4701965908.html', '/eby/apa/4710148039.html', '/eby/apa/4710148039.html', '/eby/apa/4710128373.html', '/eby/apa/4710128373.html', '/eby/apa/4710131865.html', '/eby/apa/4710131865.html', '/eby/apa/4710093416.html', '/eby/apa/4710093416.html', '/eby/apa/4710087560.html', '/eby/apa/4710087560.html', '/eby/apa/4710094314.html', '/eby/apa/4710094314.html', '/eby/apa/4710068294.html', '/eby/apa/4710068294.html', '/eby/apa/4710062194.html', '/eby/apa/4710062194.html', '/eby/apa/4677306808.html', '/eby/apa/4677306808.html', '/eby/apa/4709938060.html', '/eby/apa/4709938060.html', '/eby/apa/4709996336.html', '/eby/apa/4709996336.html', '/eby/apa/4710002531.html', '/eby/apa/4710002531.html', '/eby/apa/4710021161.html', '/eby/apa/4710021161.html', '/eby/apa/4710005929.html', '/eby/apa/4710005929.html', '/eby/apa/4709997185.html', '/eby/apa/4709997185.html', '/eby/apa/4709988561.html', '/eby/apa/4709988561.html', '/eby/apa/4675937071.html', '/eby/apa/4675937071.html', '/eby/apa/4709968677.html', '/eby/apa/4709968677.html', '/eby/apa/4709965947.html', '/eby/apa/4709965947.html', '/eby/apa/4709951043.html', '/eby/apa/4709951043.html', '/eby/apa/4709949099.html', '/eby/apa/4709949099.html', '/eby/apa/4709933092.html', '/eby/apa/4709933092.html', '/eby/apa/4709907522.html', '/eby/apa/4709907522.html', '/eby/apa/4709893637.html', '/eby/apa/4709893637.html', '/eby/apa/4688449232.html', '/eby/apa/4688449232.html', '/eby/apa/4709870073.html', '/eby/apa/4709870073.html', '/eby/apa/4709819725.html', '/eby/apa/4709819725.html', '/eby/apa/4699476877.html', '/eby/apa/4699476877.html', '/eby/apa/4709741491.html', '/eby/apa/4709741491.html', '/eby/apa/4705550936.html', '/eby/apa/4705550936.html', '/eby/apa/4709820227.html', '/eby/apa/4709820227.html', '/eby/apa/4709767607.html', '/eby/apa/4709767607.html', '/eby/apa/4709770429.html', '/eby/apa/4709770429.html', '/eby/apa/4709771241.html', '/eby/apa/4709771241.html', '/eby/apa/4709759173.html', '/eby/apa/4709759173.html', '/eby/apa/4709758928.html', '/eby/apa/4709758928.html', '/eby/apa/4709720238.html', '/eby/apa/4709720238.html', '/eby/apa/4709777629.html', '/eby/apa/4709777629.html', '/eby/apa/4709770932.html', '/eby/apa/4709770932.html', '/eby/apa/4709742868.html', '/eby/apa/4709742868.html', '/eby/apa/4709750233.html', '/eby/apa/4709750233.html', '/eby/apa/4709727929.html', '/eby/apa/4709727929.html', '/eby/apa/4709708053.html', '/eby/apa/4709708053.html', '/eby/apa/4709624090.html', '/eby/apa/4709624090.html', '/eby/apa/4709635870.html', '/eby/apa/4709635870.html', '/eby/apa/4709616390.html', '/eby/apa/4709616390.html', '/eby/apa/4709285588.html', '/eby/apa/4709285588.html', '/eby/apa/4704285477.html', '/eby/apa/4704285477.html', '/eby/apa/4709271776.html', '/eby/apa/4709271776.html', '/eby/apa/4709244524.html', '/eby/apa/4709244524.html', '/eby/apa/4705104059.html', '/eby/apa/4705104059.html', '/eby/apa/4690236057.html', '/eby/apa/4690236057.html', '/eby/apa/4709166878.html', '/eby/apa/4709166878.html', '/eby/apa/4709103977.html', '/eby/apa/4709103977.html', '/eby/apa/4709099410.html', '/eby/apa/4709099410.html', '/eby/apa/4709064536.html', '/eby/apa/4709064536.html', '/eby/apa/4709006104.html', '/eby/apa/4709006104.html', '/eby/apa/4709045007.html', '/eby/apa/4709045007.html', '/eby/apa/4709029277.html', '/eby/apa/4709029277.html', '/eby/apa/4709010589.html', '/eby/apa/4709010589.html', '/eby/apa/4708963350.html', '/eby/apa/4708963350.html', '/eby/apa/4708997186.html', '/eby/apa/4708997186.html', '/eby/apa/4708955428.html', '/eby/apa/4708955428.html', '/eby/apa/4685873529.html', '/eby/apa/4685873529.html', '/eby/apa/4698234369.html', '/eby/apa/4698234369.html', '/eby/apa/4708937144.html', '/eby/apa/4708937144.html', '/eby/apa/4708977968.html', '/eby/apa/4708977968.html', '/eby/apa/4708963560.html', '/eby/apa/4708963560.html', '/eby/apa/4708925707.html', '/eby/apa/4708925707.html', '/eby/apa/4708920486.html', '/eby/apa/4708920486.html', '/eby/apa/4708897993.html', '/eby/apa/4708897993.html', '/eby/apa/4691078260.html', '/eby/apa/4691078260.html', '/eby/apa/4708886839.html', '/eby/apa/4708886839.html', '/eby/apa/4708874045.html', '/eby/apa/4708874045.html', '/eby/apa/4708862432.html', '/eby/apa/4708862432.html', '/eby/apa/4708800866.html', '/eby/apa/4708800866.html', '/eby/apa/4708844242.html', '/eby/apa/4708844242.html', '/eby/apa/4708852944.html', '/eby/apa/4708852944.html', '/eby/apa/4708837746.html', '/eby/apa/4708837746.html', '/eby/apa/4708810837.html', '/eby/apa/4708810837.html', '/eby/apa/4698239220.html', '/eby/apa/4698239220.html', '/eby/apa/4708832086.html', '/eby/apa/4708832086.html', '/eby/apa/4708811600.html', '/eby/apa/4708811600.html', '/eby/apa/4708809780.html', '/eby/apa/4708809780.html', '/eby/apa/4708794567.html', '/eby/apa/4708794567.html', '/eby/apa/4708746863.html', '/eby/apa/4708746863.html', '/eby/apa/4708629130.html', '/eby/apa/4708629130.html', '/eby/apa/4708768120.html', '/eby/apa/4708768120.html', '/eby/apa/4708765187.html', '/eby/apa/4708765187.html', '/eby/apa/4708582053.html', '/eby/apa/4708582053.html', '/search/eby/apa?nh=54', '/search/eby/apa?nh=54', '/search/eby/apa?s=200&nh=54', '#pagecontainer', 'http://sfbay.craigslist.org/search/eby/apa?nh=54&s=100&format=rss', 'http://www.craigslist.org/about/rss', '//www.craigslist.org/about/help/', '//www.craigslist.org/about/scams', '//www.craigslist.org/about/privacy.policy', 'https://forums.craigslist.org/?forumID=8', '//www.craigslist.org/about/craigslist_is_hiring', '//www.craigslist.org/about/terms.of.use', '//www.craigslist.org/about/', '/', '/search/hhh', '/search/apa', 'https://post.craigslist.org/c/sfo?lang=en', 'https://accounts.craigslist.org/login/home', '#', 'https://accounts.craigslist.org/login?rt=L&rp=%2Fsavesearch%2Falert%3FURL%3Dhttp%253A%252F%252Fsfbay%252Ecraigslist%252Eorg%252Fsearch%252Feby%252Fapa%253Fnh%253D54', 'https://accounts.craigslist.org/login?rt=L&rp=%2Fsavesearch%2Fsave%3FURL%3Dhttp%253A%252F%252Fsfbay%252Ecraigslist%252Eorg%252Fsearch%252Feby%252Fapa%253Fnh%253D54', '/search/eby/apa?nh=54', '/search/eby/rea?nh=54', '/search/eby/roo?nh=54', '/search/eby/off?nh=54', '/search/eby/sha?nh=54', '/search/eby/hou?nh=54', '/search/eby/prk?nh=54', '/search/eby/sub?nh=54', '/search/eby/rew?nh=54', '/search/eby/vac?nh=54', '/search/eby/swp?nh=54', '/search/eby/sbw?nh=54', '#list', '#pic', '#grid', '#map', '/search/eby/apa?sort=priceasc&nh=54', '/search/eby/apa?sort=pricedsc&nh=54', '/search/eby/apa?nh=54', '/search/eby/apa?s=100&nh=54', '/search/eby/apa?s=300&nh=54', '/eby/apa/4708653002.html', '/eby/apa/4708653002.html', '/eby/apa/4708689446.html', '/eby/apa/4708689446.html', '/eby/apa/4708677523.html', '/eby/apa/4708677523.html', '/eby/apa/4708669555.html', '/eby/apa/4708669555.html', '/eby/apa/4708672537.html', '/eby/apa/4708672537.html', '/eby/apa/4708641085.html', '/eby/apa/4708641085.html', '/eby/apa/4708630362.html', '/eby/apa/4708630362.html', '/eby/apa/4708634531.html', '/eby/apa/4708634531.html', '/eby/apa/4708627612.html', '/eby/apa/4708627612.html', '/eby/apa/4708600651.html', '/eby/apa/4708600651.html', '/eby/apa/4708598607.html', '/eby/apa/4708598607.html', '/eby/apa/4708558507.html', '/eby/apa/4708558507.html', '/eby/apa/4674182670.html', '/eby/apa/4674182670.html', '/eby/apa/4708556913.html', '/eby/apa/4708556913.html', '/eby/apa/4698128103.html', '/eby/apa/4698128103.html', '/eby/apa/4698129248.html', '/eby/apa/4698129248.html', '/eby/apa/4698044778.html', '/eby/apa/4698044778.html', '/eby/apa/4698042573.html', '/eby/apa/4698042573.html', '/eby/apa/4705383827.html', '/eby/apa/4705383827.html', '/eby/apa/4698040171.html', '/eby/apa/4698040171.html', '/eby/apa/4699145623.html', '/eby/apa/4699145623.html', '/eby/apa/4708469914.html', '/eby/apa/4708469914.html', '/eby/apa/4708495775.html', '/eby/apa/4708495775.html', '/eby/apa/4708467117.html', '/eby/apa/4708467117.html', '/eby/apa/4708461306.html', '/eby/apa/4708461306.html', '/eby/apa/4693605784.html', '/eby/apa/4693605784.html', '/eby/apa/4708434321.html', '/eby/apa/4708434321.html', '/eby/apa/4708426621.html', '/eby/apa/4708426621.html', '/eby/apa/4703914998.html', '/eby/apa/4703914998.html', '/eby/apa/4708387181.html', '/eby/apa/4708387181.html', '/eby/apa/4701966278.html', '/eby/apa/4701966278.html', '/eby/apa/4708363748.html', '/eby/apa/4708363748.html', '/eby/apa/4708270994.html', '/eby/apa/4708270994.html', '/eby/apa/4708339594.html', '/eby/apa/4708339594.html', '/eby/apa/4708335710.html', '/eby/apa/4708335710.html', '/eby/apa/4695475060.html', '/eby/apa/4695475060.html', '/eby/apa/4708293378.html', '/eby/apa/4708293378.html', '/eby/apa/4708275684.html', '/eby/apa/4708275684.html', '/eby/apa/4708307695.html', '/eby/apa/4708307695.html', '/eby/apa/4708302936.html', '/eby/apa/4708302936.html', '/eby/apa/4708282680.html', '/eby/apa/4708282680.html', '/eby/apa/4708283570.html', '/eby/apa/4708283570.html', '/eby/apa/4708281638.html', '/eby/apa/4708281638.html', '/eby/apa/4708271841.html', '/eby/apa/4708271841.html', '/eby/apa/4708258162.html', '/eby/apa/4708258162.html', '/eby/apa/4703498373.html', '/eby/apa/4703498373.html', '/eby/apa/4699576897.html', '/eby/apa/4699576897.html', '/eby/apa/4708241212.html', '/eby/apa/4708241212.html', '/eby/apa/4708195822.html', '/eby/apa/4708195822.html', '/eby/apa/4708182440.html', '/eby/apa/4708182440.html', '/eby/apa/4708172756.html', '/eby/apa/4708172756.html', '/eby/apa/4708167383.html', '/eby/apa/4708167383.html', '/eby/apa/4707898781.html', '/eby/apa/4707898781.html', '/eby/apa/4698634686.html', '/eby/apa/4698634686.html', '/eby/apa/4678583672.html', '/eby/apa/4678583672.html', '/eby/apa/4707734701.html', '/eby/apa/4707734701.html', '/eby/apa/4707733032.html', '/eby/apa/4707733032.html', '/eby/apa/4707732433.html', '/eby/apa/4707732433.html', '/eby/apa/4707731878.html', '/eby/apa/4707731878.html', '/eby/apa/4707711060.html', '/eby/apa/4707711060.html', '/eby/apa/4707698869.html', '/eby/apa/4707698869.html', '/eby/apa/4694948876.html', '/eby/apa/4694948876.html', '/eby/apa/4707684994.html', '/eby/apa/4707684994.html', '/eby/apa/4707659497.html', '/eby/apa/4707659497.html', '/eby/apa/4707444029.html', '/eby/apa/4707444029.html', '/eby/apa/4707463859.html', '/eby/apa/4707463859.html', '/eby/apa/4707458902.html', '/eby/apa/4707458902.html', '/eby/apa/4707394684.html', '/eby/apa/4707394684.html', '/eby/apa/4707414832.html', '/eby/apa/4707414832.html', '/eby/apa/4707415523.html', '/eby/apa/4707415523.html', '/eby/apa/4707416756.html', '/eby/apa/4707416756.html', '/eby/apa/4707381458.html', '/eby/apa/4707381458.html', '/eby/apa/4699789642.html', '/eby/apa/4699789642.html', '/eby/apa/4707284212.html', '/eby/apa/4707284212.html', '/eby/apa/4707289831.html', '/eby/apa/4707289831.html', '/eby/apa/4707271956.html', '/eby/apa/4707271956.html', '/eby/apa/4707270546.html', '/eby/apa/4707270546.html', '/eby/apa/4707233387.html', '/eby/apa/4707233387.html', '/eby/apa/4707200981.html', '/eby/apa/4707200981.html', '/eby/apa/4707215666.html', '/eby/apa/4707215666.html', '/eby/apa/4707226639.html', '/eby/apa/4707226639.html', '/eby/apa/4707146055.html', '/eby/apa/4707146055.html', '/eby/apa/4707145240.html', '/eby/apa/4707145240.html', '/eby/apa/4707064690.html', '/eby/apa/4707064690.html', '/eby/apa/4706990784.html', '/eby/apa/4706990784.html', '/eby/apa/4707039134.html', '/eby/apa/4707039134.html', '/eby/apa/4706956881.html', '/eby/apa/4706956881.html', '/eby/apa/4699579886.html', '/eby/apa/4699579886.html', '/eby/apa/4706997677.html', '/eby/apa/4706997677.html', '/eby/apa/4696417639.html', '/eby/apa/4696417639.html', '/eby/apa/4706941155.html', '/eby/apa/4706941155.html', '/eby/apa/4694978856.html', '/eby/apa/4694978856.html', '/eby/apa/4706933430.html', '/eby/apa/4706933430.html', '/eby/apa/4706919039.html', '/eby/apa/4706919039.html', '/eby/apa/4706902861.html', '/eby/apa/4706902861.html', '/eby/apa/4706835636.html', '/eby/apa/4706835636.html', '/eby/apa/4706739878.html', '/eby/apa/4706739878.html', '/eby/apa/4706801064.html', '/eby/apa/4706801064.html', '/eby/apa/4701011409.html', '/eby/apa/4701011409.html', '/eby/apa/4706743183.html', '/eby/apa/4706743183.html', '/search/eby/apa?nh=54', '/search/eby/apa?s=100&nh=54', '/search/eby/apa?s=300&nh=54', '#pagecontainer', 'http://sfbay.craigslist.org/search/eby/apa?nh=54&s=200&format=rss', 'http://www.craigslist.org/about/rss', '//www.craigslist.org/about/help/', '//www.craigslist.org/about/scams', '//www.craigslist.org/about/privacy.policy', 'https://forums.craigslist.org/?forumID=8', '//www.craigslist.org/about/craigslist_is_hiring', '//www.craigslist.org/about/terms.of.use', '//www.craigslist.org/about/', '/', '/search/hhh', '/search/apa', 'https://post.craigslist.org/c/sfo?lang=en', 'https://accounts.craigslist.org/login/home', '#', 'https://accounts.craigslist.org/login?rt=L&rp=%2Fsavesearch%2Falert%3FURL%3Dhttp%253A%252F%252Fsfbay%252Ecraigslist%252Eorg%252Fsearch%252Feby%252Fapa%253Fnh%253D54', 'https://accounts.craigslist.org/login?rt=L&rp=%2Fsavesearch%2Fsave%3FURL%3Dhttp%253A%252F%252Fsfbay%252Ecraigslist%252Eorg%252Fsearch%252Feby%252Fapa%253Fnh%253D54', '/search/eby/apa?nh=54', '/search/eby/rea?nh=54', '/search/eby/roo?nh=54', '/search/eby/off?nh=54', '/search/eby/sha?nh=54', '/search/eby/hou?nh=54', '/search/eby/prk?nh=54', '/search/eby/sub?nh=54', '/search/eby/rew?nh=54', '/search/eby/vac?nh=54', '/search/eby/swp?nh=54', '/search/eby/sbw?nh=54', '#list', '#pic', '#grid', '#map', '/search/eby/apa?sort=priceasc&nh=54', '/search/eby/apa?sort=pricedsc&nh=54', '/search/eby/apa?nh=54', '/search/eby/apa?s=200&nh=54', '/search/eby/apa?s=400&nh=54', '/eby/apa/4706747377.html', '/eby/apa/4706747377.html', '/eby/apa/4701023723.html', '/eby/apa/4701023723.html', '/eby/apa/4675852525.html', '/eby/apa/4675852525.html', '/eby/apa/4685187841.html', '/eby/apa/4685187841.html', '/eby/apa/4706722148.html', '/eby/apa/4706722148.html', '/eby/apa/4706666794.html', '/eby/apa/4706666794.html', '/eby/apa/4706651873.html', '/eby/apa/4706651873.html', '/eby/apa/4706593304.html', '/eby/apa/4706593304.html', '/eby/apa/4706617072.html', '/eby/apa/4706617072.html', '/eby/apa/4697859201.html', '/eby/apa/4697859201.html', '/eby/apa/4701271986.html', '/eby/apa/4701271986.html', '/eby/apa/4697038172.html', '/eby/apa/4697038172.html', '/eby/apa/4692790556.html', '/eby/apa/4692790556.html', '/eby/apa/4706347153.html', '/eby/apa/4706347153.html', '/eby/apa/4696994845.html', '/eby/apa/4696994845.html', '/eby/apa/4706142219.html', '/eby/apa/4706142219.html', '/eby/apa/4706139108.html', '/eby/apa/4706139108.html', '/eby/apa/4706013086.html', '/eby/apa/4706013086.html', '/eby/apa/4705957794.html', '/eby/apa/4705957794.html', '/eby/apa/4705954560.html', '/eby/apa/4705954560.html', '/eby/apa/4705921625.html', '/eby/apa/4705921625.html', '/eby/apa/4705868965.html', '/eby/apa/4705868965.html', '/eby/apa/4705872986.html', '/eby/apa/4705872986.html', '/eby/apa/4705872789.html', '/eby/apa/4705872789.html', '/eby/apa/4705852659.html', '/eby/apa/4705852659.html', '/eby/apa/4705827321.html', '/eby/apa/4705827321.html', '/eby/apa/4695412849.html', '/eby/apa/4695412849.html', '/eby/apa/4667279757.html', '/eby/apa/4667279757.html', '/eby/apa/4705717699.html', '/eby/apa/4705717699.html', '/eby/apa/4705690004.html', '/eby/apa/4705690004.html', '/eby/apa/4705559661.html', '/eby/apa/4705559661.html', '/eby/apa/4705567196.html', '/eby/apa/4705567196.html', '/eby/apa/4705505806.html', '/eby/apa/4705505806.html', '/eby/apa/4693029747.html', '/eby/apa/4693029747.html', '/eby/apa/4705500955.html', '/eby/apa/4705500955.html', '/eby/apa/4705431094.html', '/eby/apa/4705431094.html', '/eby/apa/4705331899.html', '/eby/apa/4705331899.html', '/eby/apa/4698067143.html', '/eby/apa/4698067143.html', '/eby/apa/4705390257.html', '/eby/apa/4705390257.html', '/eby/apa/4705333728.html', '/eby/apa/4705333728.html', '/eby/apa/4705377619.html', '/eby/apa/4705377619.html', '/eby/apa/4705180939.html', '/eby/apa/4705180939.html', '/eby/apa/4705293509.html', '/eby/apa/4705293509.html', '/eby/apa/4694607625.html', '/eby/apa/4694607625.html', '/eby/apa/4697880731.html', '/eby/apa/4697880731.html', '/eby/apa/4680586921.html', '/eby/apa/4680586921.html', '/eby/apa/4705255781.html', '/eby/apa/4705255781.html', '/eby/apa/4705280471.html', '/eby/apa/4705280471.html', '/eby/apa/4705257749.html', '/eby/apa/4705257749.html', '/eby/apa/4705096894.html', '/eby/apa/4705096894.html', '/eby/apa/4694248251.html', '/eby/apa/4694248251.html', '/eby/apa/4699292027.html', '/eby/apa/4699292027.html', '/eby/apa/4705207144.html', '/eby/apa/4705207144.html', '/eby/apa/4705149967.html', '/eby/apa/4705149967.html', '/eby/apa/4705138981.html', '/eby/apa/4705138981.html', '/eby/apa/4705189117.html', '/eby/apa/4705189117.html', '/eby/apa/4700013075.html', '/eby/apa/4700013075.html', '/eby/apa/4705165458.html', '/eby/apa/4705165458.html', '/eby/apa/4705158060.html', '/eby/apa/4705158060.html', '/eby/apa/4683812582.html', '/eby/apa/4683812582.html', '/eby/apa/4705143950.html', '/eby/apa/4705143950.html', '/eby/apa/4705107846.html', '/eby/apa/4705107846.html', '/eby/apa/4705072379.html', '/eby/apa/4705072379.html', '/eby/apa/4705062307.html', '/eby/apa/4705062307.html', '/eby/apa/4693728424.html', '/eby/apa/4693728424.html', '/eby/apa/4698874935.html', '/eby/apa/4698874935.html', '/eby/apa/4704568093.html', '/eby/apa/4704568093.html', '/eby/apa/4704341992.html', '/eby/apa/4704341992.html', '/eby/apa/4704301650.html', '/eby/apa/4704301650.html', '/eby/apa/4704231062.html', '/eby/apa/4704231062.html', '/eby/apa/4704252659.html', '/eby/apa/4704252659.html', '/eby/apa/4697397493.html', '/eby/apa/4697397493.html', '/eby/apa/4704143532.html', '/eby/apa/4704143532.html', '/eby/apa/4704144753.html', '/eby/apa/4704144753.html', '/eby/apa/4694966766.html', '/eby/apa/4694966766.html', '/eby/apa/4704139615.html', '/eby/apa/4704139615.html', '/eby/apa/4704154730.html', '/eby/apa/4704154730.html', '/eby/apa/4704149444.html', '/eby/apa/4704149444.html', '/eby/apa/4704148619.html', '/eby/apa/4704148619.html', '/eby/apa/4704109258.html', '/eby/apa/4704109258.html', '/eby/apa/4704133371.html', '/eby/apa/4704133371.html', '/eby/apa/4704130997.html', '/eby/apa/4704130997.html', '/eby/apa/4695095838.html', '/eby/apa/4695095838.html', '/eby/apa/4684119955.html', '/eby/apa/4684119955.html', '/eby/apa/4704058251.html', '/eby/apa/4704058251.html', '/eby/apa/4704054535.html', '/eby/apa/4704054535.html', '/eby/apa/4703980109.html', '/eby/apa/4703980109.html', '/eby/apa/4703974629.html', '/eby/apa/4703974629.html', '/eby/apa/4703837444.html', '/eby/apa/4703837444.html', '/eby/apa/4703710995.html', '/eby/apa/4703710995.html', '/eby/apa/4703833934.html', '/eby/apa/4703833934.html', '/eby/apa/4703798803.html', '/eby/apa/4703798803.html', '/eby/apa/4703781677.html', '/eby/apa/4703781677.html', '/eby/apa/4703771390.html', '/eby/apa/4703771390.html', '/eby/apa/4703769410.html', '/eby/apa/4703769410.html', '/eby/apa/4692886961.html', '/eby/apa/4692886961.html', '/eby/apa/4693711902.html', '/eby/apa/4693711902.html', '/eby/apa/4703661903.html', '/eby/apa/4703661903.html', '/eby/apa/4696985708.html', '/eby/apa/4696985708.html', '/eby/apa/4703587360.html', '/eby/apa/4703587360.html', '/search/eby/apa?nh=54', '/search/eby/apa?s=200&nh=54', '/search/eby/apa?s=400&nh=54', '#pagecontainer', 'http://sfbay.craigslist.org/search/eby/apa?nh=54&s=300&format=rss', 'http://www.craigslist.org/about/rss', '//www.craigslist.org/about/help/', '//www.craigslist.org/about/scams', '//www.craigslist.org/about/privacy.policy', 'https://forums.craigslist.org/?forumID=8', '//www.craigslist.org/about/craigslist_is_hiring', '//www.craigslist.org/about/terms.of.use', '//www.craigslist.org/about/', '/', '/search/hhh', '/search/apa', 'https://post.craigslist.org/c/sfo?lang=en', 'https://accounts.craigslist.org/login/home', '#', 'https://accounts.craigslist.org/login?rt=L&rp=%2Fsavesearch%2Falert%3FURL%3Dhttp%253A%252F%252Fsfbay%252Ecraigslist%252Eorg%252Fsearch%252Feby%252Fapa%253Fnh%253D54', 'https://accounts.craigslist.org/login?rt=L&rp=%2Fsavesearch%2Fsave%3FURL%3Dhttp%253A%252F%252Fsfbay%252Ecraigslist%252Eorg%252Fsearch%252Feby%252Fapa%253Fnh%253D54', '/search/eby/apa?nh=54', '/search/eby/rea?nh=54', '/search/eby/roo?nh=54', '/search/eby/off?nh=54', '/search/eby/sha?nh=54', '/search/eby/hou?nh=54', '/search/eby/prk?nh=54', '/search/eby/sub?nh=54', '/search/eby/rew?nh=54', '/search/eby/vac?nh=54', '/search/eby/swp?nh=54', '/search/eby/sbw?nh=54', '#list', '#pic', '#grid', '#map', '/search/eby/apa?sort=priceasc&nh=54', '/search/eby/apa?sort=pricedsc&nh=54', '/search/eby/apa?nh=54', '/search/eby/apa?s=300&nh=54', '/eby/apa/4703609731.html', '/eby/apa/4703609731.html', '/eby/apa/4699808740.html', '/eby/apa/4699808740.html', '/eby/apa/4699810558.html', '/eby/apa/4699810558.html', '/eby/apa/4703548903.html', '/eby/apa/4703548903.html', '/eby/apa/4703523020.html', '/eby/apa/4703523020.html', '/eby/apa/4703434347.html', '/eby/apa/4703434347.html', '/eby/apa/4703459261.html', '/eby/apa/4703459261.html', '/eby/apa/4703454433.html', '/eby/apa/4703454433.html', '/eby/apa/4703421097.html', '/eby/apa/4703421097.html', '/eby/apa/4703341456.html', '/eby/apa/4703341456.html', '/eby/apa/4699732071.html', '/eby/apa/4699732071.html', '/eby/apa/4702856265.html', '/eby/apa/4702856265.html', '/eby/apa/4702797605.html', '/eby/apa/4702797605.html', '/eby/apa/4702720069.html', '/eby/apa/4702720069.html', '/eby/apa/4702676259.html', '/eby/apa/4702676259.html', '/eby/apa/4702686053.html', '/eby/apa/4702686053.html', '/eby/apa/4702635277.html', '/eby/apa/4702635277.html', '/eby/apa/4702520495.html', '/eby/apa/4702520495.html', '/eby/apa/4692849596.html', '/eby/apa/4692849596.html', '/eby/apa/4702435447.html', '/eby/apa/4702435447.html', '/eby/apa/4691776058.html', '/eby/apa/4691776058.html', '/eby/apa/4702337301.html', '/eby/apa/4702337301.html', '/eby/apa/4702316336.html', '/eby/apa/4702316336.html', '/eby/apa/4694923813.html', '/eby/apa/4694923813.html', '/eby/apa/4693357033.html', '/eby/apa/4693357033.html', '/eby/apa/4702225142.html', '/eby/apa/4702225142.html', '/eby/apa/4702214023.html', '/eby/apa/4702214023.html', '/eby/apa/4702152620.html', '/eby/apa/4702152620.html', '/eby/apa/4702152537.html', '/eby/apa/4702152537.html', '/eby/apa/4702131715.html', '/eby/apa/4702131715.html', '/eby/apa/4702093114.html', '/eby/apa/4702093114.html', '/eby/apa/4702020462.html', '/eby/apa/4702020462.html', '/eby/apa/4701964401.html', '/eby/apa/4701964401.html', '/eby/apa/4687019251.html', '/eby/apa/4687019251.html', '/eby/apa/4701899854.html', '/eby/apa/4701899854.html', '/eby/apa/4701897838.html', '/eby/apa/4701897838.html', '/eby/apa/4672754018.html', '/eby/apa/4672754018.html', '/eby/apa/4696402608.html', '/eby/apa/4696402608.html', '/eby/apa/4701764173.html', '/eby/apa/4701764173.html', '/eby/apa/4701499272.html', '/eby/apa/4701499272.html', '/eby/apa/4701373811.html', '/eby/apa/4701373811.html', '/eby/apa/4701346705.html', '/eby/apa/4701346705.html', '/eby/apa/4688394503.html', '/eby/apa/4688394503.html', '/eby/apa/4701332446.html', '/eby/apa/4701332446.html', '/eby/apa/4701296329.html', '/eby/apa/4701296329.html', '/eby/apa/4701134936.html', '/eby/apa/4701134936.html', '/eby/apa/4701076814.html', '/eby/apa/4701076814.html', '/eby/apa/4701021491.html', '/eby/apa/4701021491.html', '/eby/apa/4701002015.html', '/eby/apa/4701002015.html', '/eby/apa/4700965705.html', '/eby/apa/4700965705.html', '/eby/apa/4700901774.html', '/eby/apa/4700901774.html', '/eby/apa/4700879255.html', '/eby/apa/4700879255.html', '/eby/apa/4700862743.html', '/eby/apa/4700862743.html', '/eby/apa/4700801259.html', '/eby/apa/4700801259.html', '/eby/apa/4691167236.html', '/eby/apa/4691167236.html', '/eby/apa/4700790696.html', '/eby/apa/4700790696.html', '/eby/apa/4700736285.html', '/eby/apa/4700736285.html', '/eby/apa/4700740260.html', '/eby/apa/4700740260.html', '/eby/apa/4700580141.html', '/eby/apa/4700580141.html', '/eby/apa/4700481471.html', '/eby/apa/4700481471.html', '/eby/apa/4700474353.html', '/eby/apa/4700474353.html', '/eby/apa/4700474310.html', '/eby/apa/4700474310.html', '/eby/apa/4700364472.html', '/eby/apa/4700364472.html', '/eby/apa/4700430540.html', '/eby/apa/4700430540.html', '/eby/apa/4700370408.html', '/eby/apa/4700370408.html', '/eby/apa/4700387700.html', '/eby/apa/4700387700.html', '/eby/apa/4700235796.html', '/eby/apa/4700235796.html', '/eby/apa/4660891351.html', '/eby/apa/4660891351.html', '/search/eby/apa?nh=54', '/search/eby/apa?s=300&nh=54', '#pagecontainer', 'http://sfbay.craigslist.org/search/eby/apa?nh=54&s=400&format=rss', 'http://www.craigslist.org/about/rss', '//www.craigslist.org/about/help/', '//www.craigslist.org/about/scams', '//www.craigslist.org/about/privacy.policy', 'https://forums.craigslist.org/?forumID=8', '//www.craigslist.org/about/craigslist_is_hiring', '//www.craigslist.org/about/terms.of.use', '//www.craigslist.org/about/']\n"
       ]
      }
     ],
     "prompt_number": 44
    },
    {
     "cell_type": "code",
     "collapsed": false,
     "input": [
      "final_urls = set()\n",
      "for i in urls:\n",
      "    if (re.search( '.html',i)):\n",
      "        final_urls.add(i)\n",
      "\n",
      "final_urls\n",
      "len(final_urls)"
     ],
     "language": "python",
     "metadata": {},
     "outputs": [
      {
       "metadata": {},
       "output_type": "pyout",
       "prompt_number": 45,
       "text": [
        "468"
       ]
      }
     ],
     "prompt_number": 45
    },
    {
     "cell_type": "code",
     "collapsed": false,
     "input": [
      "final_content = []\n",
      "#invalid_posts = ['expired','deleted']\n",
      "all_content = {}\n",
      "row = {}\n",
      "\n",
      "for list_url in final_urls:\n",
      "    id = re.split('/',list_url)[3]\n",
      "    id_n = id.split('.')\n",
      "    url_id = id_n[0]\n",
      "    print url_id\n",
      "    row[\"id\"] = url_id\n",
      "    row[\"app\"] = 1000\n",
      "    \n",
      "    list_url = \"http://sfbay.craigslist.org\" + list_url\n",
      "    listing = r.get(list_url)\n",
      "    listing.content\n",
      "    row[\"url\"] = list_url\n",
      "    soup = BeautifulSoup(listing.content)\n",
      "    for header in soup.find_all('h2'):\n",
      "        data = header.get_text()\n",
      "        #pdb.set_trace()\n",
      "        data = data.strip()\n",
      "        if data.startswith(\"$\"):\n",
      "            row[\"desc\"] = data\n",
      "            all_content[url_id] = data\n",
      "            print data\n",
      "            final_content.append(row)\n",
      "    "
     ],
     "language": "python",
     "metadata": {},
     "outputs": [
      {
       "output_type": "stream",
       "stream": "stdout",
       "text": [
        "4711328744\n",
        "$2600 / 2br - 2 bedroom unit for lease (fremont / union city / newark)"
       ]
      },
      {
       "output_type": "stream",
       "stream": "stdout",
       "text": [
        "\n",
        "4705333728\n",
        "$2084 / 2br - 750ft\u00b2 - Meow...Whoof...Pets are Welcome (fremont / union city / newark)"
       ]
      },
      {
       "output_type": "stream",
       "stream": "stdout",
       "text": [
        "\n",
        "4710316373\n",
        "$1900 / 1br - 737ft\u00b2 - *Carriage House* Gated Community in a Quiet and Friendly Neighborhood! (fremont / union city / newark)"
       ]
      },
      {
       "output_type": "stream",
       "stream": "stdout",
       "text": [
        "\n",
        "4701964401\n",
        "$1775 / 1br - RESORT LIVING IN A SERENE PARK SETTING  (fremont / union city / newark)"
       ]
      },
      {
       "output_type": "stream",
       "stream": "stdout",
       "text": [
        "\n",
        "4705062307\n",
        "$1760 / 1br - PARK-LIKE LANDSCAPING, ENJOY THE QUIET, SCENIC SURROUNDINGS (fremont / union city / newark)"
       ]
      },
      {
       "output_type": "stream",
       "stream": "stdout",
       "text": [
        "\n",
        "4705096894\n",
        "$2495 / 2br - 1106ft\u00b2 - Welcome Home to Presidio Apartments (fremont / union city / newark)"
       ]
      },
      {
       "output_type": "stream",
       "stream": "stdout",
       "text": [
        "\n",
        "$2,495/mo\n",
        "4667100523\n",
        "$2600 / 4br - 1321ft\u00b2 - 4 beds/2 baths near Stevenson /Sundale/880 walking distance to schools (fremont / union city / newark)"
       ]
      },
      {
       "output_type": "stream",
       "stream": "stdout",
       "text": [
        "\n",
        "4703548903\n",
        "$4700 / 5br - 3200ft\u00b2 - Beautiful Furnished 5BD/4Bath in Fremont  (fremont / union city / newark)"
       ]
      },
      {
       "output_type": "stream",
       "stream": "stdout",
       "text": [
        "\n",
        "4710699054\n",
        "$2000 / 2br - 900ft\u00b2 - Mission Village 2BD/2 Full Bath Condo (fremont / union city / newark)"
       ]
      },
      {
       "output_type": "stream",
       "stream": "stdout",
       "text": [
        "\n",
        "4711482079\n",
        "$1875 / 1br - 565ft\u00b2 - Schedule a Tour, Community Clubhouse, Near Shops and Dining (fremont / union city / newark)"
       ]
      },
      {
       "output_type": "stream",
       "stream": "stdout",
       "text": [
        "\n",
        "4704054535\n",
        "$2000 / 1br - 750ft\u00b2 - Luxury 1 Bedroom! Need someone take over my lease (8 months left) (fremont / union city / newark)"
       ]
      },
      {
       "output_type": "stream",
       "stream": "stdout",
       "text": [
        "\n",
        "4710360494\n",
        "$2595 / 2br - 1081ft\u00b2 - 37 Silk Oak, Fremont - Nice Townhome (fremont / union city / newark)"
       ]
      },
      {
       "output_type": "stream",
       "stream": "stdout",
       "text": [
        "\n",
        "4705165458\n",
        "$1895 / 1br - 650ft\u00b2 - Furnished Apartment home Ready for Move In! (fremont / union city / newark)"
       ]
      },
      {
       "output_type": "stream",
       "stream": "stdout",
       "text": [
        "\n",
        "4701499272\n",
        "$2500 / 4br - 1820ft\u00b2 - 4 bedroom,2 Bath (fremont / union city / newark)"
       ]
      },
      {
       "output_type": "stream",
       "stream": "stdout",
       "text": [
        "\n",
        "4707381458\n",
        "$1795 / 1br - 527ft\u00b2 - \u2666COME AND SEE WHAT YOU HAVE BEEN MISSING\u2666 (fremont / union city / newark)"
       ]
      },
      {
       "output_type": "stream",
       "stream": "stdout",
       "text": [
        "\n",
        "4710977244\n",
        "$3100 / 3br - 1500ft\u00b2 - Elegant Single Family Home (fremont / union city / newark)"
       ]
      },
      {
       "output_type": "stream",
       "stream": "stdout",
       "text": [
        "\n",
        "$3,100/mo\n",
        "4711427069\n",
        "$2800 / 5br - 1600ft\u00b2 - Single story house near Lake Elizebeth (fremont / union city / newark)"
       ]
      },
      {
       "output_type": "stream",
       "stream": "stdout",
       "text": [
        "\n",
        "4704133371\n",
        "$1950 / 1br - 710ft\u00b2 - Outstanding Location, Responsive Maintenance, Spacious Floorplan (fremont / union city / newark)"
       ]
      },
      {
       "output_type": "stream",
       "stream": "stdout",
       "text": [
        "\n",
        "4704148619\n",
        "$2800 / 3br - 1752ft\u00b2 - Nor Cal Realty Inc - 3 bedroom 2.5 bath Single family home (fremont / union city / newark)"
       ]
      },
      {
       "output_type": "stream",
       "stream": "stdout",
       "text": [
        "\n",
        "4700430540\n",
        "$2900 / 3br - 1422ft\u00b2 - Open House Sunday 10/5, 2-4pm - Beautiful California Blossom Home (fremont / union city / newark)"
       ]
      },
      {
       "output_type": "stream",
       "stream": "stdout",
       "text": [
        "\n",
        "4711111236\n",
        "$1795 / 1br - 527ft\u00b2 - \u263bBART RIDERS DREAM/CLOSE TO SHOPPING\u263b (fremont / union city / newark)"
       ]
      },
      {
       "output_type": "stream",
       "stream": "stdout",
       "text": [
        "\n",
        "4708363748\n",
        "$2425 / 2br - 1010ft\u00b2 - Outstanding Location, Heated Pool, Sauna, Pets Welcome (fremont / union city / newark)"
       ]
      },
      {
       "output_type": "stream",
       "stream": "stdout",
       "text": [
        "\n",
        "4711064129\n",
        "$2394 / 1br - 854ft\u00b2 - Wake Up To Views Of The Hills & Walk To BART... @ Watermark Place (fremont / union city / newark)"
       ]
      },
      {
       "output_type": "stream",
       "stream": "stdout",
       "text": [
        "\n",
        "4697038172\n",
        "$1625 / 2br - 750ft\u00b2 - Completely remodeled and spacious 2 bed /1 bath apartment - great loc! (fremont / union city / newark)"
       ]
      },
      {
       "output_type": "stream",
       "stream": "stdout",
       "text": [
        "\n",
        "4684119955\n",
        "$2400 / 3br - 1576ft\u00b2 - Fremont Brookvale house (fremont / union city / newark)"
       ]
      },
      {
       "output_type": "stream",
       "stream": "stdout",
       "text": [
        "\n",
        "4693029747\n",
        "$2600 / 3br - Fremont 3Bed-2Bath house for rent ALL UTILITIES INCLUDED (fremont / union city / newark)"
       ]
      },
      {
       "output_type": "stream",
       "stream": "stdout",
       "text": [
        "\n",
        "4693728424\n",
        "$2200 / 3br - 1100ft\u00b2 - $2200 1100sqft - 3BR/2BA HOUSE in UNION CITY (fremont / union city / newark)"
       ]
      },
      {
       "output_type": "stream",
       "stream": "stdout",
       "text": [
        "\n",
        "4708469914\n",
        "$3000 / 4br - 2184ft\u00b2 - 4BR/3BA Bright, luxury house in Fremont near Central Park (fremont / union city / newark)"
       ]
      },
      {
       "output_type": "stream",
       "stream": "stdout",
       "text": [
        "\n",
        "4703434347\n",
        "$1820 / 1br - 650ft\u00b2 - Stunning First Floor One Bedroom!! (fremont / union city / newark)"
       ]
      },
      {
       "output_type": "stream",
       "stream": "stdout",
       "text": [
        "\n",
        "4707732433\n",
        "$950 Rent now room $950 include everything (fremont / union city / newark)"
       ]
      },
      {
       "output_type": "stream",
       "stream": "stdout",
       "text": [
        "\n",
        "4701764173\n",
        "$2295 / 2br - 980ft\u00b2 - \u2660GREAT PRICE, LOCATION, AND QUIET\u2660 (fremont / union city / newark)"
       ]
      },
      {
       "output_type": "stream",
       "stream": "stdout",
       "text": [
        "\n",
        "4708925707\n",
        "$1926 / 1br - 704ft\u00b2 - Washer and Dryer in Unit, Walk-in Closet! Visit Us Today!! (fremont / union city / newark)"
       ]
      },
      {
       "output_type": "stream",
       "stream": "stdout",
       "text": [
        "\n",
        "4710220313\n",
        "$1995 / 2br - 1008ft\u00b2 - SPACIOUS, Townhome Apartments (fremont / union city / newark)"
       ]
      },
      {
       "output_type": "stream",
       "stream": "stdout",
       "text": [
        "\n",
        "$1,995/mo\n",
        "4709720238\n",
        "$2095 / 2br - 980ft\u00b2 - Dont Miss Out On Your New Apartment Home...Waterstone Fremont (fremont / union city / newark)"
       ]
      },
      {
       "output_type": "stream",
       "stream": "stdout",
       "text": [
        "\n",
        "4711152261\n",
        "$2278 / 2br - 985ft\u00b2 - Available Immediately! (fremont / union city / newark)"
       ]
      },
      {
       "output_type": "stream",
       "stream": "stdout",
       "text": [
        "\n",
        "4691776058\n",
        "$2600 / 3br - 1442ft\u00b2 - 3 Bd, 2 Bth single family home (fremont / union city / newark)"
       ]
      },
      {
       "output_type": "stream",
       "stream": "stdout",
       "text": [
        "\n",
        "4700775920\n",
        "$2988 / 4br - 1617ft\u00b2 - Home in Weibel elementary school area (fremont / union city / newark)"
       ]
      },
      {
       "output_type": "stream",
       "stream": "stdout",
       "text": [
        "\n",
        "4703980109\n",
        "$2700 / 4br - 1500ft\u00b2 - Single Family House For Rent (fremont / union city / newark)"
       ]
      },
      {
       "output_type": "stream",
       "stream": "stdout",
       "text": [
        "\n",
        "4709741491\n",
        "$2410 / 2br - 901ft\u00b2 - Spacious Apartment Home Available. (fremont / union city / newark)"
       ]
      },
      {
       "output_type": "stream",
       "stream": "stdout",
       "text": [
        "\n",
        "4709624090\n",
        "$1547 / 1br - 660ft\u00b2 -  Medallion Is The Place For You And Your Pet... (fremont / union city / newark)"
       ]
      },
      {
       "output_type": "stream",
       "stream": "stdout",
       "text": [
        "\n",
        "4707731878\n",
        "$950 Rent now room $950 include everything (fremont / union city / newark)"
       ]
      },
      {
       "output_type": "stream",
       "stream": "stdout",
       "text": [
        "\n",
        "4706747377\n",
        "$1845 / 1br - 650ft\u00b2 - 1 BEDROOM APARTMENT IN A QUIET NEIGHBORHOOD IN FREMONT! (fremont / union city / newark)"
       ]
      },
      {
       "output_type": "stream",
       "stream": "stdout",
       "text": [
        "\n",
        "4702020462\n",
        "$1760 / 1br - AMAZING AMENITIES IN PARK-LIKE COMMUNITY (fremont / union city / newark)"
       ]
      },
      {
       "output_type": "stream",
       "stream": "stdout",
       "text": [
        "\n",
        "4711769872\n",
        "$650 / 1br - Looking for roommates right across fremont bart station (fremont / union city / newark)"
       ]
      },
      {
       "output_type": "stream",
       "stream": "stdout",
       "text": [
        "\n",
        "4708282680\n",
        "$2095 / 1br - 734ft\u00b2 - Ground Floor Apartment Near BART..LAST ONE AVAIL!! (fremont / union city / newark)"
       ]
      },
      {
       "output_type": "stream",
       "stream": "stdout",
       "text": [
        "\n",
        "4700474353\n",
        "$1950 / 1br - 710ft\u00b2 - Cottage Style Home, Near Public Parks, Parkmont Schools (fremont / union city / newark)"
       ]
      },
      {
       "output_type": "stream",
       "stream": "stdout",
       "text": [
        "\n",
        "4698634686\n",
        "$3200 / 4br - 2100ft\u00b2 - 4BED/3BA NEWER UNION CITY HOME.  OPEN HOUSE SATURDAY & SUNDAY (fremont / union city / newark)"
       ]
      },
      {
       "output_type": "stream",
       "stream": "stdout",
       "text": [
        "\n",
        "4709951043\n",
        "$2249 / 2br - ~LUSH GARDENS, POOL, SAUNA, FITNESS CENTER AND BRIGHT 2 BEDROOM~ (fremont / union city / newark)"
       ]
      },
      {
       "output_type": "stream",
       "stream": "stdout",
       "text": [
        "\n",
        "4708558507\n",
        "$3250 / 4br - 1866ft\u00b2 -  Walk to Weibel school in Fremont (fremont / union city / newark)"
       ]
      },
      {
       "output_type": "stream",
       "stream": "stdout",
       "text": [
        "\n",
        "4705559661\n",
        "$1760 / 1br - LUSH GARDENS, POOL, SPA, FITNESS CENTER AND BRIGHT ONE BR (fremont / union city / newark)"
       ]
      },
      {
       "output_type": "stream",
       "stream": "stdout",
       "text": [
        "\n",
        "4711659575\n",
        "$1795 / 1br - 527ft\u00b2 - A MUST SEE! BEAUTIFUL ONE BEDROOM APARTMENT HOME! (fremont / union city / newark)"
       ]
      },
      {
       "output_type": "stream",
       "stream": "stdout",
       "text": [
        "\n",
        "4708461306\n",
        "$1848 / 1br - 680ft\u00b2 - Smoke Free Community! (fremont / union city / newark)"
       ]
      },
      {
       "output_type": "stream",
       "stream": "stdout",
       "text": [
        "\n",
        "4710152904\n",
        "$2384 / 1br - 877ft\u00b2 - Fabulous apartment, walking distance to Lake Elizabeth (fremont / union city / newark)"
       ]
      },
      {
       "output_type": "stream",
       "stream": "stdout",
       "text": [
        "\n",
        "4710021161\n",
        "$2800 / 4br - A beautiful house for rent $2,800 (fremont / union city / newark)"
       ]
      },
      {
       "output_type": "stream",
       "stream": "stdout",
       "text": [
        "\n",
        "4691078260\n",
        "$2980 / 3br - 1425ft\u00b2 - Beautiful 3Bdrm Townhouse in Fremont Irvington District (fremont / union city / newark)"
       ]
      },
      {
       "output_type": "stream",
       "stream": "stdout",
       "text": [
        "\n",
        "4711496032\n",
        "$2790 / 4br - 1640ft\u00b2 - Parkmont Area - 4 Bed / 2 Bath Single-level, Single-family  (fremont / union city / newark)"
       ]
      },
      {
       "output_type": "stream",
       "stream": "stdout",
       "text": [
        "\n",
        "4699579886\n",
        "$2900 / 3br - 1472ft\u00b2 - 3 bed 2 .5 bath townhome remodeled in Fremont (fremont / union city / newark)"
       ]
      },
      {
       "output_type": "stream",
       "stream": "stdout",
       "text": [
        "\n",
        "4702797605\n",
        "$1695 / 2br - 1000ft\u00b2 - $1695/2BD - NEWLY REMODLED TWO BED TWONHOUSE  (fremont / union city / newark)"
       ]
      },
      {
       "output_type": "stream",
       "stream": "stdout",
       "text": [
        "\n",
        "4700965705\n",
        "$1895 / 1br - Beautiful 1 bedroom call now to make an appointment!!! (fremont / union city / newark)"
       ]
      },
      {
       "output_type": "stream",
       "stream": "stdout",
       "text": [
        "\n",
        "4711194779\n",
        "$1795 / 1br - 527ft\u00b2 - \u2022\u2022\u2022LIVE CLOSE TO THE CITY\u2665\u2022\u2022 (fremont / union city / newark)"
       ]
      },
      {
       "output_type": "stream",
       "stream": "stdout",
       "text": [
        "\n",
        "4708630362\n",
        "$1795 / 1br - 527ft\u00b2 - \u263bBART RIDERS DREAM/CLOSE TO SHOPPING\u263b (fremont / union city / newark)"
       ]
      },
      {
       "output_type": "stream",
       "stream": "stdout",
       "text": [
        "\n",
        "4701011409\n",
        "$1765 / 1br - 760ft\u00b2 - 1 Bedroom/1 Bath Apartment Available Mid-November!!! (fremont / union city / newark)"
       ]
      },
      {
       "output_type": "stream",
       "stream": "stdout",
       "text": [
        "\n",
        "4675852525\n",
        "$3500 / 4br - 2094ft\u00b2 - Newly Built 4 Bed/3.5 Bath Single Home in Fremont Irvington (fremont / union city / newark)"
       ]
      },
      {
       "output_type": "stream",
       "stream": "stdout",
       "text": [
        "\n",
        "4705550936\n",
        "$1900 / 2br - 1013ft\u00b2 - Light bright condo (fremont / union city / newark)"
       ]
      },
      {
       "output_type": "stream",
       "stream": "stdout",
       "text": [
        "\n",
        "4709244524\n",
        "$3099 / 3br - 1500ft\u00b2 - Beautiful House near Fremont BART (fremont / union city / newark)"
       ]
      },
      {
       "output_type": "stream",
       "stream": "stdout",
       "text": [
        "\n",
        "4704130997\n",
        "$1825 / 2br - 800ft\u00b2 - Spacious 2 Bedroom Apartment (fremont / union city / newark)"
       ]
      },
      {
       "output_type": "stream",
       "stream": "stdout",
       "text": [
        "\n",
        "4703341456\n",
        "$3100 / 3br - 1500ft\u00b2 - \u25ba \u25ba\u25ba Elegant Single Family Home - OPEN HOUSE (fremont / union city / newark)"
       ]
      },
      {
       "output_type": "stream",
       "stream": "stdout",
       "text": [
        "\n",
        "$3,100/mo\n",
        "4707444029\n",
        "$2414 / 1br - 1050ft\u00b2 - Enormous apartment home with fantastic amenities! (fremont / union city / newark)"
       ]
      },
      {
       "output_type": "stream",
       "stream": "stdout",
       "text": [
        "\n",
        "4701965908\n",
        "$1725 / 1br - 710ft\u00b2 - COME BY TODAY! Available for October 13Th  Move- In!  (fremont / union city / newark)"
       ]
      },
      {
       "output_type": "stream",
       "stream": "stdout",
       "text": [
        "\n",
        "4707415523\n",
        "$1910 / 1br - 792ft\u00b2 - Large one bedroom with plenty of space! Pet friendly home! (fremont / union city / newark)"
       ]
      },
      {
       "output_type": "stream",
       "stream": "stdout",
       "text": [
        "\n",
        "4711260041\n",
        "$3350 / 4br - 1750ft\u00b2 - Single Family House for Rent in Mission San Jose (fremont / union city / newark)"
       ]
      },
      {
       "output_type": "stream",
       "stream": "stdout",
       "text": [
        "\n",
        "$3,350/mo\n",
        "4708768120\n",
        "$3100 / 3br - 1500ft\u00b2 - \u25ba \u25ba\u25baPets Allowed - Single Family House (fremont / union city / newark)"
       ]
      },
      {
       "output_type": "stream",
       "stream": "stdout",
       "text": [
        "\n",
        "$3,100/mo\n",
        "4710948402\n",
        "$3200 ** Beautiful 3BD Single Family Home - with Full Amenities *** (fremont / union city / newark)"
       ]
      },
      {
       "output_type": "stream",
       "stream": "stdout",
       "text": [
        "\n",
        "4710676926\n",
        "$2200 / 2br - 1188ft\u00b2 - Beautiful Parkmont Condo For Rent Walk to bart (fremont / union city / newark)"
       ]
      },
      {
       "output_type": "stream",
       "stream": "stdout",
       "text": [
        "\n",
        "4695095838\n",
        "$1625 / 1br - 625ft\u00b2 - *SPECIAL* Your new home is waiting for you! - SPACIOUS 1 BR APARTMENT  (fremont / union city / newark)"
       ]
      },
      {
       "output_type": "stream",
       "stream": "stdout",
       "text": [
        "\n",
        "4705690004\n",
        "$2750 / 3br - 1547ft\u00b2 - 33251 SUNRIVER CMN (fremont / union city / newark)"
       ]
      },
      {
       "output_type": "stream",
       "stream": "stdout",
       "text": [
        "\n",
        "4705852659\n",
        "$2799 / 3br - 1320ft\u00b2 - 3BD/2BA Apartment with Quartz Countertops (fremont / union city / newark)"
       ]
      },
      {
       "output_type": "stream",
       "stream": "stdout",
       "text": [
        "\n",
        "4695412849\n",
        "$1800 / 1br - 829ft\u00b2 - Take over 1 Bedroom apartment lease (fremont / union city / newark)"
       ]
      },
      {
       "output_type": "stream",
       "stream": "stdout",
       "text": [
        "\n",
        "4703837444\n",
        "$2813 / 3br - 1320ft\u00b2 - Stunning 3X2 Apartment with W/D Set in Fremont! (fremont / union city / newark)"
       ]
      },
      {
       "output_type": "stream",
       "stream": "stdout",
       "text": [
        "\n",
        "4709870073\n",
        "$2600 $2600.00 (fremont / union city / newark)"
       ]
      },
      {
       "output_type": "stream",
       "stream": "stdout",
       "text": [
        "\n",
        "4708600651\n",
        "$2145 / 2br - 1018ft\u00b2 - Large 2 bedroom 2 bath in downtown Fremont ready for move in 11/22/14 (fremont / union city / newark)"
       ]
      },
      {
       "output_type": "stream",
       "stream": "stdout",
       "text": [
        "\n",
        "4709006104\n",
        "$2414 / 1br - 1050ft\u00b2 - Enormous apartment home with fantastic amenities! (fremont / union city / newark)"
       ]
      },
      {
       "output_type": "stream",
       "stream": "stdout",
       "text": [
        "\n",
        "4703974629\n",
        "$3000 3BR/2.5BA Ardenwood SFH For Rent; Open House Sunday(10/12) 1-4pm (fremont / union city / newark)"
       ]
      },
      {
       "output_type": "stream",
       "stream": "stdout",
       "text": [
        "\n",
        "4710161708\n",
        "$1929 / 1br - GORGEOUS,TOP FLOOR APARTMENT,VISIT AMBER COURT TODAY!  (fremont / union city / newark)"
       ]
      },
      {
       "output_type": "stream",
       "stream": "stdout",
       "text": [
        "\n",
        "4710317042\n",
        "$2300 / 2br - 890ft\u00b2 - *Carriage House* Gated Community in a Quiet and Friendly Neighborhood! (fremont / union city / newark)"
       ]
      },
      {
       "output_type": "stream",
       "stream": "stdout",
       "text": [
        "\n",
        "4711442471\n",
        "$1550 / 1br - 1 bedr apt for 1550 only in Newark   (fremont / union city / newark)"
       ]
      },
      {
       "output_type": "stream",
       "stream": "stdout",
       "text": [
        "\n",
        "4702720069\n",
        "$1539 / 650ft\u00b2 - Perfect Apartment Home At The Perfect Affordable Price! (fremont / union city / newark)"
       ]
      },
      {
       "output_type": "stream",
       "stream": "stdout",
       "text": [
        "\n",
        "4697397493\n",
        "$1550 / 2br - 750ft\u00b2 - AMAZING 2BED/1BATH AVAILABLE!! (fremont / union city / newark)"
       ]
      },
      {
       "output_type": "stream",
       "stream": "stdout",
       "text": [
        "\n",
        "4706801064\n",
        "$1675 / 1br - 610ft\u00b2 - Quiet Ground Floor End-Unit 1 Bdrm. Condo (fremont / union city / newark)"
       ]
      },
      {
       "output_type": "stream",
       "stream": "stdout",
       "text": [
        "\n",
        "4703421097\n",
        "$1760 / 1br - PRIVATE END UNIT, LARGE STORAGE, YOUR NEW HOME IS HERE! (fremont / union city / newark)"
       ]
      },
      {
       "output_type": "stream",
       "stream": "stdout",
       "text": [
        "\n",
        "4709933092\n",
        "$1780 / 1br - RESORT STYLE LIVING IN PRIME FREMONT (fremont / union city / newark)"
       ]
      },
      {
       "output_type": "stream",
       "stream": "stdout",
       "text": [
        "\n",
        "4707711060\n",
        "$2800 / 3br - 1610ft\u00b2 - Fremont TownHome for Rent (fremont / union city / newark)"
       ]
      },
      {
       "output_type": "stream",
       "stream": "stdout",
       "text": [
        "\n",
        "4709893637\n",
        "$1875 / 1br - 565ft\u00b2 - Now Available, Responsive Maintenance, Spacious Floorplan (fremont / union city / newark)"
       ]
      },
      {
       "output_type": "stream",
       "stream": "stdout",
       "text": [
        "\n",
        "4709770429\n",
        "$1900 / 1br - 737ft\u00b2 - *Carriage House* Gated Community in a Quiet and Friendly Neighborhood! (fremont / union city / newark)"
       ]
      },
      {
       "output_type": "stream",
       "stream": "stdout",
       "text": [
        "\n",
        "4708886839\n",
        "$2150 / 4br - $2150/ 4br/2.5BA, townhouse, In Union City  (fremont / union city / newark)"
       ]
      },
      {
       "output_type": "stream",
       "stream": "stdout",
       "text": [
        "\n",
        "4707270546\n",
        "$800 / 1br - 310ft\u00b2 - cozy studio priced right (fremont / union city / newark)"
       ]
      },
      {
       "output_type": "stream",
       "stream": "stdout",
       "text": [
        "\n",
        "4711238589\n",
        "$1625 / 1br - 630ft\u00b2 - Beautiful Niles Community! Upstairs  Move-In October 23th! (fremont / union city / newark)"
       ]
      },
      {
       "output_type": "stream",
       "stream": "stdout",
       "text": [
        "\n",
        "4705158060\n",
        "$1985 / 2br - 830ft\u00b2 - Spectacular Deal For Two Bedroom One Bath (fremont / union city / newark)"
       ]
      },
      {
       "output_type": "stream",
       "stream": "stdout",
       "text": [
        "\n",
        "4706739878\n",
        "$2495 / 2br - 1106ft\u00b2 - Where Location, Quality and Value are Everything! The Presidio (fremont / union city / newark)"
       ]
      },
      {
       "output_type": "stream",
       "stream": "stdout",
       "text": [
        "\n",
        "4703454433\n",
        "$2275 / 1br - 925ft\u00b2 - Amazing apartment home loaded with amenities and features! (fremont / union city / newark)"
       ]
      },
      {
       "output_type": "stream",
       "stream": "stdout",
       "text": [
        "\n",
        "4708302936\n",
        "$2200 / 3br - 1150ft\u00b2 - Cozy 3 Bedroom 2 Bath Home in Fremont (fremont / union city / newark)"
       ]
      },
      {
       "output_type": "stream",
       "stream": "stdout",
       "text": [
        "\n",
        "4703523020\n",
        "$1895 / 1br - 650ft\u00b2 - BEAUTIFUL 1 BEDROOM APARTMENT! QUIET NEIGHBORHOOD IN FREMONT! (fremont / union city / newark)"
       ]
      },
      {
       "output_type": "stream",
       "stream": "stdout",
       "text": [
        "\n",
        "4702856265\n",
        "$2059 A Unique Two Bedroom Layout! Very Open and Inviting! (fremont / union city / newark)"
       ]
      },
      {
       "output_type": "stream",
       "stream": "stdout",
       "text": [
        "\n",
        "4710161785\n",
        "$1600 / 1br - 667ft\u00b2 - Move Nov. 17th..... (fremont / union city / newark)"
       ]
      },
      {
       "output_type": "stream",
       "stream": "stdout",
       "text": [
        "\n",
        "4708955428\n",
        "$1848 / 3br - Regency Square Apartments (fremont / union city / newark)"
       ]
      },
      {
       "output_type": "stream",
       "stream": "stdout",
       "text": [
        "\n",
        "4708746863\n",
        "$2295 / 2br - 1004ft\u00b2 - \u2666SPACIOUS TOWNHOMES IN A CONVENIENT LOCATION\u2666 (fremont / union city / newark)"
       ]
      },
      {
       "output_type": "stream",
       "stream": "stdout",
       "text": [
        "\n",
        "4705827321\n",
        "$2950 / 4br - 1625ft\u00b2 - BEAUTIFUL Parkmont Home 4BR/2BA - MUST SEE! (fremont / union city / newark)"
       ]
      },
      {
       "output_type": "stream",
       "stream": "stdout",
       "text": [
        "\n",
        "4698067143\n",
        "$2515 / 2br - 961ft\u00b2 - Ardenwood townhome w/ attached garage + washer & dryer!!  (fremont / union city / newark)"
       ]
      },
      {
       "output_type": "stream",
       "stream": "stdout",
       "text": [
        "\n",
        "$2,515/mo\n",
        "4708182440\n",
        "$1882 / 1br - 735ft\u00b2 - Looking For A Great Community..... Waterstone@ Fremont (fremont / union city / newark)"
       ]
      },
      {
       "output_type": "stream",
       "stream": "stdout",
       "text": [
        "\n",
        "4701332446\n",
        "$3099 / 3br - 1500ft\u00b2 - Stunning Single Family Home near Fremont BART (fremont / union city / newark)"
       ]
      },
      {
       "output_type": "stream",
       "stream": "stdout",
       "text": [
        "\n",
        "4709767607\n",
        "$2700 / 3br - 1600ft\u00b2 - Beautiful Home located  in a Park Like Community  (fremont / union city / newark)"
       ]
      },
      {
       "output_type": "stream",
       "stream": "stdout",
       "text": [
        "\n",
        "4706990784\n",
        "$1636 / 1br - 660ft\u00b2 - Stop Look And Lease Today... (fremont / union city / newark)"
       ]
      },
      {
       "output_type": "stream",
       "stream": "stdout",
       "text": [
        "\n",
        "4708653002\n",
        "$2379 / 1br - 877ft\u00b2 - Fabulous apartment, walking distance to Lake Elizabeth (fremont / union city / newark)"
       ]
      },
      {
       "output_type": "stream",
       "stream": "stdout",
       "text": [
        "\n",
        "4711561337\n",
        "$1698 / 1br - OPEN FLOOR PLAN WITH A PRIVATE PATIO & GYM (fremont / union city / newark)"
       ]
      },
      {
       "output_type": "stream",
       "stream": "stdout",
       "text": [
        "\n",
        "4708800866\n",
        "$2400 / 2br - 1065ft\u00b2 - Delightful and Convenient 2BD, 2 BA available SOON!! (fremont / union city / newark)"
       ]
      },
      {
       "output_type": "stream",
       "stream": "stdout",
       "text": [
        "\n",
        "4700862743\n",
        "$2000 / 2br - 897ft\u00b2 - Warm Springs Fremont Condo Rental... (fremont / union city / newark)"
       ]
      },
      {
       "output_type": "stream",
       "stream": "stdout",
       "text": [
        "\n",
        "4710062194\n",
        "$2295 / 2br - 1004ft\u00b2 - \u2666COME AND SEE WHAT YOU HAVE BEEN MISSING\u2666 (fremont / union city / newark)"
       ]
      },
      {
       "output_type": "stream",
       "stream": "stdout",
       "text": [
        "\n",
        "4702152620\n",
        "$2295 / 2br - 1004ft\u00b2 - \u2665LOOKING FOR PEACE AND QUIET\u2665 COME AND TOUR TODAY\u2665 (fremont / union city / newark)"
       ]
      },
      {
       "output_type": "stream",
       "stream": "stdout",
       "text": [
        "\n",
        "4709988561\n",
        "$2796 / 3br - 1100ft\u00b2 - Come home to green lawns at Pathfinder Village! (fremont / union city / newark)"
       ]
      },
      {
       "output_type": "stream",
       "stream": "stdout",
       "text": [
        "\n",
        "4711441253\n",
        "$2064 / 1br - 640ft\u00b2 - **Don't Miss! Gorgeous Big Balcoy w/ Storage, Close to Lake & Trail** (fremont / union city / newark)"
       ]
      },
      {
       "output_type": "stream",
       "stream": "stdout",
       "text": [
        "\n",
        "4699145623\n",
        "$1625 / 1br - 630ft\u00b2 - Beautiful Niles Community! Move-In October 18th! (fremont / union city / newark)"
       ]
      },
      {
       "output_type": "stream",
       "stream": "stdout",
       "text": [
        "\n",
        "4708467117\n",
        "$2532 / 2br - 1061ft\u00b2 - Beautiful top floor unit with South facing balcony. Geat for Dish! (fremont / union city / newark)"
       ]
      },
      {
       "output_type": "stream",
       "stream": "stdout",
       "text": [
        "\n",
        "4699476877\n",
        "$2600 / 2br - 1100ft\u00b2 - Mission San Jose 2 Beds,2 Baths,Car port, Townhouse (fremont / union city / newark)"
       ]
      },
      {
       "output_type": "stream",
       "stream": "stdout",
       "text": [
        "\n",
        "4705390257\n",
        "$2700 / 3br - Fremont 3 Bedroom 2 Bath  House (fremont / union city / newark)"
       ]
      },
      {
       "output_type": "stream",
       "stream": "stdout",
       "text": [
        "\n",
        "4711669614\n",
        "$2646 / 2br - 910ft\u00b2 - Great Location, Garden View, Close to Gym & Pool, Laundry Inside! (fremont / union city / newark)"
       ]
      },
      {
       "output_type": "stream",
       "stream": "stdout",
       "text": [
        "\n",
        "4711476379\n",
        "$1625 / 1br - 811ft\u00b2 - Beautiful one bedroom condo ready to move in (fremont / union city / newark)"
       ]
      },
      {
       "output_type": "stream",
       "stream": "stdout",
       "text": [
        "\n",
        "$1,625/mo\n",
        "4710005929\n",
        "$2249 / 2br - GROUND FLOOR DESIRABLE LOCATION, NEAR SHOPPING,RESTAURANTS AND FWY 880 (fremont / union city / newark)"
       ]
      },
      {
       "output_type": "stream",
       "stream": "stdout",
       "text": [
        "\n",
        "4711243094\n",
        "$1725 / 1br - 710ft\u00b2 - COME BY TODAY! Available for Move- In Today!  (fremont / union city / newark)"
       ]
      },
      {
       "output_type": "stream",
       "stream": "stdout",
       "text": [
        "\n",
        "4708809780\n",
        "$1895 / 1br - 730ft\u00b2 - Spacious and Amazing.. talk about luxury! (fremont / union city / newark)"
       ]
      },
      {
       "output_type": "stream",
       "stream": "stdout",
       "text": [
        "\n",
        "4711162750\n",
        "$1883 / 1br - 730ft\u00b2 - Home is always a stunning, tranquil retreat at Heritage Village (fremont / union city / newark)"
       ]
      },
      {
       "output_type": "stream",
       "stream": "stdout",
       "text": [
        "\n",
        "4710459519\n",
        "$3400 / 3br - 2100ft\u00b2 - MISSION: ANTELOPE HILLS 3 BR 2 1/5 BATH  (fremont / union city / newark)"
       ]
      },
      {
       "output_type": "stream",
       "stream": "stdout",
       "text": [
        "\n",
        "4711629640\n",
        "$2500 / 2br - 977ft\u00b2 - Pet Friendly on top floor with Fireplace (fremont / union city / newark)"
       ]
      },
      {
       "output_type": "stream",
       "stream": "stdout",
       "text": [
        "\n",
        "4706743183\n",
        "$2095 / 1br - 734ft\u00b2 - The Presidio Apartments ... Like No Place Else! (fremont / union city / newark)"
       ]
      },
      {
       "output_type": "stream",
       "stream": "stdout",
       "text": [
        "\n",
        "4709166878\n",
        "$3000 / 3br - 1600ft\u00b2 - Entertainer's delight - Centrally located fabulously upgraded home (fremont / union city / newark)"
       ]
      },
      {
       "output_type": "stream",
       "stream": "stdout",
       "text": [
        "\n",
        "4702152537\n",
        "$1795 / 1br - 527ft\u00b2 - \u263bBART RIDERS DREAM/CLOSE TO SHOPPING\u263b (fremont / union city / newark)"
       ]
      },
      {
       "output_type": "stream",
       "stream": "stdout",
       "text": [
        "\n",
        "4691387359\n",
        "$1625 / 1br - 630ft\u00b2 - Beautiful Niles Community! Move-In October 16th  Upstairs ! (fremont / union city / newark)"
       ]
      },
      {
       "output_type": "stream",
       "stream": "stdout",
       "text": [
        "\n",
        "4711731689\n",
        "$1698 / 1br - RESORT LIVING IN A SERENE PARK SETTING (fremont / union city / newark)"
       ]
      },
      {
       "output_type": "stream",
       "stream": "stdout",
       "text": [
        "\n",
        "4710387905\n",
        "$1795 / 1br - 527ft\u00b2 - \u25d8CLOSE AND CONVENIENT FOR YOUR LIFESTYLE\u25d8 (fremont / union city / newark)"
       ]
      },
      {
       "output_type": "stream",
       "stream": "stdout",
       "text": [
        "\n",
        "4708874045\n",
        "$2300 / 3br - 1500ft\u00b2 - Charming Ranch Style Home (fremont / union city / newark)"
       ]
      },
      {
       "output_type": "stream",
       "stream": "stdout",
       "text": [
        "\n",
        "4693357033\n",
        "$2100 / 2br - 2 Bedroom 1 Bath - Newly Renovated (fremont / union city / newark)"
       ]
      },
      {
       "output_type": "stream",
       "stream": "stdout",
       "text": [
        "\n",
        "4708862432\n",
        "$1524 / 3br - Garden Village Apartments (fremont / union city / newark)"
       ]
      },
      {
       "output_type": "stream",
       "stream": "stdout",
       "text": [
        "\n",
        "4709064536\n",
        "$2432 / 2br - 1096ft\u00b2 - Extraordinary top floor 2 BD, 2 BA, available soon. Near BART!!! (fremont / union city / newark)"
       ]
      },
      {
       "output_type": "stream",
       "stream": "stdout",
       "text": [
        "\n",
        "4704301650\n",
        "$2950 / 3br - 1892ft\u00b2 - Lovely and spacious single family house in Fremont (fremont / union city / newark)"
       ]
      },
      {
       "output_type": "stream",
       "stream": "stdout",
       "text": [
        "\n",
        "4708293378\n",
        "$1760 / 1br - PRIVATE END UNIT, LARGE STORAGE, YOUR NEW HOME IS HERE! (fremont / union city / newark)"
       ]
      },
      {
       "output_type": "stream",
       "stream": "stdout",
       "text": [
        "\n",
        "4710469884\n",
        "$1895 / 1br - 527ft\u00b2 - \u2665HOME IS WHERE THE HEART IS\u2665WASHER/DYER IN UNIT\u2660 (fremont / union city / newark)"
       ]
      },
      {
       "output_type": "stream",
       "stream": "stdout",
       "text": [
        "\n",
        "4700740260\n",
        "$1795 / 1br - 527ft\u00b2 - \u2022\u2022HEALTHY LIFESTYLE! CLOSE TO HIKING TRAILS! UPGRADED  (fremont / union city / newark)"
       ]
      },
      {
       "output_type": "stream",
       "stream": "stdout",
       "text": [
        "\n",
        "4707659497\n",
        "$1880 / 2br - 832ft\u00b2 - 2br/2ba next to Union Landing for rent (fremont / union city / newark)"
       ]
      },
      {
       "output_type": "stream",
       "stream": "stdout",
       "text": [
        "\n",
        "4699810558\n",
        "$1900 / 1br - 737ft\u00b2 - *Carriage House* Gated Community in a Quiet and Friendly Neighborhood! (fremont / union city / newark)"
       ]
      },
      {
       "output_type": "stream",
       "stream": "stdout",
       "text": [
        "\n",
        "4708335710\n",
        "$2365 / 2br - 1108ft\u00b2 - Don't Wait ! We have your next HOME here / $2,365 w/$99.00 Deposit (fremont / union city / newark)"
       ]
      },
      {
       "output_type": "stream",
       "stream": "stdout",
       "text": [
        "\n",
        "4708270994\n",
        "$1962 / 2br - 800ft\u00b2 - Look And Lease This Two Bedroom To Bath! (fremont / union city / newark)"
       ]
      },
      {
       "output_type": "stream",
       "stream": "stdout",
       "text": [
        "\n",
        "4660891351\n",
        "$3100 / 3br - 1500ft\u00b2 - Open House Sat 10/4 & Sun 10/5 - Single Family House (fremont / union city / newark)"
       ]
      },
      {
       "output_type": "stream",
       "stream": "stdout",
       "text": [
        "\n",
        "$3,100/mo\n",
        "4692790556\n",
        "$1750 / 2br - 800ft\u00b2 - Completely renovated apartment! 2 bed/1 bath in a gated community (fremont / union city / newark)"
       ]
      },
      {
       "output_type": "stream",
       "stream": "stdout",
       "text": [
        "\n",
        "4703833934\n",
        "$885 / 1br - Niles cottage (fremont / union city / newark)"
       ]
      },
      {
       "output_type": "stream",
       "stream": "stdout",
       "text": [
        "\n",
        "4711254653\n",
        "$2026 / 1br - 738ft\u00b2 - \"Great Home!\" (fremont / union city / newark)"
       ]
      },
      {
       "output_type": "stream",
       "stream": "stdout",
       "text": [
        "\n",
        "4706933430\n",
        "$1990 / 2br - 830ft\u00b2 - Ground floor apartment and close to parking. (fremont / union city / newark)"
       ]
      },
      {
       "output_type": "stream",
       "stream": "stdout",
       "text": [
        "\n",
        "4707215666\n",
        "$1875 / 1br - 565ft\u00b2 - Luxurious Homes, Walk to BART, Washer Dryer in Unit (fremont / union city / newark)"
       ]
      },
      {
       "output_type": "stream",
       "stream": "stdout",
       "text": [
        "\n",
        "4697880731\n",
        "$2700 / 3br - 1014ft\u00b2 - Move-in Special! October Rent is Free! (fremont / union city / newark)"
       ]
      },
      {
       "output_type": "stream",
       "stream": "stdout",
       "text": [
        "\n",
        "$2,700/mo\n",
        "4698874935\n",
        "$2999 / 4br - 1922ft\u00b2 - luxuary 4bed 2 bath union city $,2,999 first month (fremont / union city / newark)"
       ]
      },
      {
       "output_type": "stream",
       "stream": "stdout",
       "text": [
        "\n",
        "4700879255\n",
        "$1895 / 1br - 527ft\u00b2 - \u2022\u263bTHIS BEAUTIFUL UPGRADED APT HOME HAS ALL THE COMFORTS\u263b\u2022\u2022 (fremont / union city / newark)"
       ]
      },
      {
       "output_type": "stream",
       "stream": "stdout",
       "text": [
        "\n",
        "4697859201\n",
        "$3300 / 3br - 1912ft\u00b2 - Lovely Mission Area Home! (fremont / union city / newark)"
       ]
      },
      {
       "output_type": "stream",
       "stream": "stdout",
       "text": [
        "\n",
        "$3,300/mo\n",
        "4710371000\n",
        "$2068 / 2br - 895ft\u00b2 - Large Dual Floor Plan First Availability October 15th  (fremont / union city / newark)"
       ]
      },
      {
       "output_type": "stream",
       "stream": "stdout",
       "text": [
        "\n",
        "4711401643\n",
        "$2095 / 2br - 850ft\u00b2 - 2 bed 1 bath  (fremont / union city / newark)"
       ]
      },
      {
       "output_type": "stream",
       "stream": "stdout",
       "text": [
        "\n",
        "4710002531\n",
        "$1795 / 1br - 527ft\u00b2 - \u2665COMMUNITY A FEELING OF FELLOWSHIP WITH OTHERS JOIN OURS\u2665  (fremont / union city / newark)"
       ]
      },
      {
       "output_type": "stream",
       "stream": "stdout",
       "text": [
        "\n",
        "4710256324\n",
        "$2665 / 2br - 901ft\u00b2 - Immediate Move In Available With Upgraded Finishes (fremont / union city / newark)"
       ]
      },
      {
       "output_type": "stream",
       "stream": "stdout",
       "text": [
        "\n",
        "4701271986\n",
        "$1600 / 1br - 700ft\u00b2 - Fully renovated apartment! 1 bed / 1 bath in a gated community (fremont / union city / newark)"
       ]
      },
      {
       "output_type": "stream",
       "stream": "stdout",
       "text": [
        "\n",
        "4698040171\n",
        "$2315 / 2br - 862ft\u00b2 - 2 bedroom w/ garage & utilities included.. in a great neighborhood!! (fremont / union city / newark)"
       ]
      },
      {
       "output_type": "stream",
       "stream": "stdout",
       "text": [
        "\n",
        "$2,315/mo\n",
        "4711163775\n",
        "$2309 / 2br - 985ft\u00b2 - Spacious and Amazing.. talk about luxury! (fremont / union city / newark)"
       ]
      },
      {
       "output_type": "stream",
       "stream": "stdout",
       "text": [
        "\n",
        "4698239220\n",
        "$2450 / 2br - 1325ft\u00b2 - Conveniently located, Central Fremont House: 2/2, garage, BART  (fremont / union city / newark)"
       ]
      },
      {
       "output_type": "stream",
       "stream": "stdout",
       "text": [
        "\n",
        "4706955374\n",
        "$2400 / 3br - 1180ft\u00b2 - 3 Bedroom Union City Home (fremont / union city / newark)"
       ]
      },
      {
       "output_type": "stream",
       "stream": "stdout",
       "text": [
        "\n",
        "4710320249\n",
        "$2295 / 2br - 980ft\u00b2 - \u2666\u263aBRAND NEW EVERYTHING!\u2666\u263a (fremont / union city / newark)"
       ]
      },
      {
       "output_type": "stream",
       "stream": "stdout",
       "text": [
        "\n",
        "4701134936\n",
        "$2900 / 3br - 1390ft\u00b2 - Glenmoor House For Rent  (fremont / union city / newark)"
       ]
      },
      {
       "output_type": "stream",
       "stream": "stdout",
       "text": [
        "\n",
        "4708426621\n",
        "$2400 / 2br - 1405ft\u00b2 - A good Townhouse in Fremont, Northgate area (fremont / union city / newark)"
       ]
      },
      {
       "output_type": "stream",
       "stream": "stdout",
       "text": [
        "\n",
        "4705207144\n",
        "$1450 / 1br - 547ft\u00b2 - Jr-1br (studio)  mv in Nov. 11 (fremont / union city / newark)"
       ]
      },
      {
       "output_type": "stream",
       "stream": "stdout",
       "text": [
        "\n",
        "4707145240\n",
        "$2300 / 2br - 890ft\u00b2 - *Carriage House* Gated Community in a Quiet and Friendly Neighborhood! (fremont / union city / newark)"
       ]
      },
      {
       "output_type": "stream",
       "stream": "stdout",
       "text": [
        "\n",
        "4707414832\n",
        "$1760 / 1br - DESIGNER INTERIORS, SPACIOUS FLOOR PLANS AND AMAZING AMENITIES (fremont / union city / newark)"
       ]
      },
      {
       "output_type": "stream",
       "stream": "stdout",
       "text": [
        "\n",
        "4709777629\n",
        "$2935 / 3br - 1607ft\u00b2 - 3BR/2.5BA Home For Rent in Fremont (Ardenwood) (fremont / union city / newark)"
       ]
      },
      {
       "output_type": "stream",
       "stream": "stdout",
       "text": [
        "\n",
        "$2,935/mo\n",
        "4711216233\n",
        "$1845 / 1br - Ready to move in call now for an appointment!!!! (fremont / union city / newark)"
       ]
      },
      {
       "output_type": "stream",
       "stream": "stdout",
       "text": [
        "\n",
        "4708811600\n",
        "$1950 / 1br - 710ft\u00b2 - Appealing Amenities, Covered Parking, Air Conditioning, Ceiling Fan (fremont / union city / newark)"
       ]
      },
      {
       "output_type": "stream",
       "stream": "stdout",
       "text": [
        "\n",
        "4711462498\n",
        "$2295 / 2br - 1004ft\u00b2 - FREMONT HUB\u25d8GREAT LOCATION\u25d8GREAT PRICE (fremont / union city / newark)"
       ]
      },
      {
       "output_type": "stream",
       "stream": "stdout",
       "text": [
        "\n",
        "4709708053\n",
        "$1795 / 1br - 527ft\u00b2 - \u263b\u2665THE MOST LIKED PLACE TO LIVE ON FACEBOOK\u263b\u2665 (fremont / union city / newark)"
       ]
      },
      {
       "output_type": "stream",
       "stream": "stdout",
       "text": [
        "\n",
        "4709727929\n",
        "$1586 / 410ft\u00b2 - Great Apartment Value Near Union City Bart (fremont / union city / newark)"
       ]
      },
      {
       "output_type": "stream",
       "stream": "stdout",
       "text": [
        "\n",
        "4700481471\n",
        "$2350 / 2br - 900ft\u00b2 - 2br/2ba Beautifully Updated Newark Condo  (fremont / union city / newark)"
       ]
      },
      {
       "output_type": "stream",
       "stream": "stdout",
       "text": [
        "\n",
        "4709996336\n",
        "$1900 / 1br - 737ft\u00b2 - *Carriage House* Gated Community in a Quiet and Friendly Neighborhood! (fremont / union city / newark)"
       ]
      },
      {
       "output_type": "stream",
       "stream": "stdout",
       "text": [
        "\n",
        "4711746106\n",
        "$2295 / 2br - 1004ft\u00b2 - \u25d8CLOSE AND CONVENIENT FOR YOUR LIFESTYLE\u25d8 (fremont / union city / newark)"
       ]
      },
      {
       "output_type": "stream",
       "stream": "stdout",
       "text": [
        "\n",
        "4709938060\n",
        "$1920 / 1br - 732ft\u00b2 - Great apartment close to shopping and BART! (fremont / union city / newark)"
       ]
      },
      {
       "output_type": "stream",
       "stream": "stdout",
       "text": [
        "\n",
        "4708275684\n",
        "$2545 / 2br - 1106ft\u00b2 - 15 Min Walk to BART from the Presidio Apartments (fremont / union city / newark)"
       ]
      },
      {
       "output_type": "stream",
       "stream": "stdout",
       "text": [
        "\n",
        "4702435447\n",
        "$2600 / 3br - 1442ft\u00b2 - 3 Bd, 2 Bth single family home (fremont / union city / newark)"
       ]
      },
      {
       "output_type": "stream",
       "stream": "stdout",
       "text": [
        "\n",
        "4705505806\n",
        "$1876 / 1br - 760ft\u00b2 - Are You Ready To Move..Waterstone@Fremont (fremont / union city / newark)"
       ]
      },
      {
       "output_type": "stream",
       "stream": "stdout",
       "text": [
        "\n",
        "4667279757\n",
        "$3400 / 5br - 2880ft\u00b2 - Stunning Semi-Custom Home in Fremont 4 Bedrm + Bonus Rm 3 Baths (fremont / union city / newark)"
       ]
      },
      {
       "output_type": "stream",
       "stream": "stdout",
       "text": [
        "\n",
        "4702635277\n",
        "$2500 / 3br - 1245ft\u00b2 - Remodeled home for rent (fremont / union city / newark)"
       ]
      },
      {
       "output_type": "stream",
       "stream": "stdout",
       "text": [
        "\n",
        "4710499204\n",
        "$2300 / 2br - 890ft\u00b2 - *Carriage House* Gated Community in a Quiet and Friendly Neighborhood! (fremont / union city / newark)"
       ]
      },
      {
       "output_type": "stream",
       "stream": "stdout",
       "text": [
        "\n",
        "4707289831\n",
        "$1970 / 1br - 725ft\u00b2 - Private, top floor unit with vaulted ceilings. Walk to BART (fremont / union city / newark)"
       ]
      },
      {
       "output_type": "stream",
       "stream": "stdout",
       "text": [
        "\n",
        "4710402279\n",
        "$2270 / 2br - 913ft\u00b2 - Available Soon! Perfect Location! 2 BR & 2 BA! (fremont / union city / newark)"
       ]
      },
      {
       "output_type": "stream",
       "stream": "stdout",
       "text": [
        "\n",
        "4703609731\n",
        "$2425 / 2br - 1010ft\u00b2 - Professionally Managed, Air Conditioning, Ceiling Fan, Covered Parking (fremont / union city / newark)"
       ]
      },
      {
       "output_type": "stream",
       "stream": "stdout",
       "text": [
        "\n",
        "4709635870\n",
        "$3000 / 4br - 1665ft\u00b2 - Ardenwood/Forest Park Home for Rent (fremont / union city / newark)"
       ]
      },
      {
       "output_type": "stream",
       "stream": "stdout",
       "text": [
        "\n",
        "4709010589\n",
        "$1895 / 1br - 527ft\u00b2 - \u263aFEEL THE WARMTH HERE AT RANCHO LUNA/SOL (fremont / union city / newark)"
       ]
      },
      {
       "output_type": "stream",
       "stream": "stdout",
       "text": [
        "\n",
        "4700387700\n",
        "$1775 / 1br - DESIGNER INTERIORS, SPACIOUS FLOOR PLANS AND AMAZING AMENITIES (fremont / union city / newark)"
       ]
      },
      {
       "output_type": "stream",
       "stream": "stdout",
       "text": [
        "\n",
        "4708920486\n",
        "$1200 / 1br - 600ft\u00b2 - 1 Bed 1 Bath located in Fremont (fremont / union city / newark)"
       ]
      },
      {
       "output_type": "stream",
       "stream": "stdout",
       "text": [
        "\n",
        "4701023723\n",
        "$2425 / 2br - 1111ft\u00b2 - Spacious 2bd/1.5ba including w/d & 2 car garage - AVAILABLE DECEMBER 1 (fremont / union city / newark)"
       ]
      },
      {
       "output_type": "stream",
       "stream": "stdout",
       "text": [
        "\n",
        "4700801259\n",
        "$1895 / 1br - 527ft\u00b2 - \u2665\u263aWE WANT YOU TO JOIN THE FAMILY\u263a\u2665 (fremont / union city / newark)"
       ]
      },
      {
       "output_type": "stream",
       "stream": "stdout",
       "text": [
        "\n",
        "4700235796\n",
        "$2020 / 2br - 830ft\u00b2 - No trick! Lease given apartment number get $500 bonus (fremont / union city / newark)"
       ]
      },
      {
       "output_type": "stream",
       "stream": "stdout",
       "text": [
        "\n",
        "4711899551\n",
        "$2340 / 3br - 1000ft\u00b2 - Remodeled Warm Springs House (fremont / union city / newark)"
       ]
      },
      {
       "output_type": "stream",
       "stream": "stdout",
       "text": [
        "\n",
        "4708627612\n",
        "$700 / 1br - 170ft\u00b2 - ** \u8c6a\u5b85! \u8c6a\u534e\u5bb6\u79c1\u914d\u5957\u9f50 (fremont / union city / newark)"
       ]
      },
      {
       "output_type": "stream",
       "stream": "stdout",
       "text": [
        "\n",
        "4707458902\n",
        "$2295 / 2br - 980ft\u00b2 - \u263b\u2665THE MOST LIKED PLACE TO LIVE ON FACEBOOK\u263b\u2665 (fremont / union city / newark)"
       ]
      },
      {
       "output_type": "stream",
       "stream": "stdout",
       "text": [
        "\n",
        "4708810837\n",
        "$2765 / 2br - 982ft\u00b2 - Looking for quick access to BART and Shopping? Look no further! (fremont / union city / newark)"
       ]
      },
      {
       "output_type": "stream",
       "stream": "stdout",
       "text": [
        "\n",
        "4708937144\n",
        "$2834 / 2br - 1184ft\u00b2 - Luxury apartment community w/the comfort & convenience of city life! (fremont / union city / newark)"
       ]
      },
      {
       "output_type": "stream",
       "stream": "stdout",
       "text": [
        "\n",
        "4707608390\n",
        "$700 / 1br - 170ft\u00b2 - \u8c6a\u5b85! \u8c6a\u534e\u5bb6\u79c1\u914d\u5957\u9f50\u0824 (fremont / union city / newark)"
       ]
      },
      {
       "output_type": "stream",
       "stream": "stdout",
       "text": [
        "\n",
        "4707251377\n",
        "$2900 / 3br - 1472ft\u00b2 - 3 bed 2 .5 bath townhome remodeled in Fremont  (fremont / union city / newark)"
       ]
      },
      {
       "output_type": "stream",
       "stream": "stdout",
       "text": [
        "\n",
        "4705257749\n",
        "$1989 / 2br - 800ft\u00b2 - M225 Is A Fabulous Location Within Our Community! (fremont / union city / newark)"
       ]
      },
      {
       "output_type": "stream",
       "stream": "stdout",
       "text": [
        "\n",
        "4711266858\n",
        "$1547 / 1br - 660ft\u00b2 - Medallion Has All The Space You Need... (fremont / union city / newark)"
       ]
      },
      {
       "output_type": "stream",
       "stream": "stdout",
       "text": [
        "\n",
        "4706666794\n",
        "$1675 / 1br - Amazing 1 Bedroom $1,675 (fremont / union city / newark)"
       ]
      },
      {
       "output_type": "stream",
       "stream": "stdout",
       "text": [
        "\n",
        "4705293509\n",
        "$2813 / 1320ft\u00b2 - 3BD/2BA Apartment with Quartz Countertops (fremont / union city / newark)"
       ]
      },
      {
       "output_type": "stream",
       "stream": "stdout",
       "text": [
        "\n",
        "4696994845\n",
        "$3000 / 4br - 1960ft\u00b2 - Rent/Sell: 4BD/2.5BR month to month Weibel Elementary School, Vineyard (fremont / union city / newark)"
       ]
      },
      {
       "output_type": "stream",
       "stream": "stdout",
       "text": [
        "\n",
        "4700364472\n",
        "$2095 / 1br - 734ft\u00b2 - Comfort, Style and a GREAT Value at The Presidio! (fremont / union city / newark)"
       ]
      },
      {
       "output_type": "stream",
       "stream": "stdout",
       "text": [
        "\n",
        "4699789642\n",
        "$2500 / 3br - SFH in Mission District for rent available 11/5 (fremont / union city / newark)"
       ]
      },
      {
       "output_type": "stream",
       "stream": "stdout",
       "text": [
        "\n",
        "4699732071\n",
        "$2000 / 1br - Luxry Apt: Paragon Apt 1B1B for $2000 with laundry inside the unit (fremont / union city / newark)"
       ]
      },
      {
       "output_type": "stream",
       "stream": "stdout",
       "text": [
        "\n",
        "4687019251\n",
        "$1925 / 2br - 840ft\u00b2 - Two Bedroom, One Bath Downstair Available for October 10Th Move in ! (fremont / union city / newark)"
       ]
      },
      {
       "output_type": "stream",
       "stream": "stdout",
       "text": [
        "\n",
        "4708794567\n",
        "$2175 / 2br - 850ft\u00b2 - A Fantastic Two Bedroom One Bath, Apartment Home. Ready 10/13! (fremont / union city / newark)"
       ]
      },
      {
       "output_type": "stream",
       "stream": "stdout",
       "text": [
        "\n",
        "4709759173\n",
        "$1717 / 1br - 565ft\u00b2 - A Great Junior 1br Unit To Call home @waterstone Fremont (fremont / union city / newark)"
       ]
      },
      {
       "output_type": "stream",
       "stream": "stdout",
       "text": [
        "\n",
        "4705868965\n",
        "$1760 / 1br - OPEN FLOOR PLAN WITH A PRIVATE PATIO & GYM  (fremont / union city / newark)"
       ]
      },
      {
       "output_type": "stream",
       "stream": "stdout",
       "text": [
        "\n",
        "4698044778\n",
        "$2315 / 2br - 862ft\u00b2 - 2 bedroom w/ attached garage in nice Ardenwood neighborhood (fremont / union city / newark)"
       ]
      },
      {
       "output_type": "stream",
       "stream": "stdout",
       "text": [
        "\n",
        "$2,315/mo\n",
        "4702520495\n",
        "$3500 / 4br - 2200ft\u00b2 - 4 Bed 3.5 Bath Single Family House in Fremont Mission San Jose (fremont / union city / newark)"
       ]
      },
      {
       "output_type": "stream",
       "stream": "stdout",
       "text": [
        "\n",
        "4710498444\n",
        "$1900 / 1br - 737ft\u00b2 - *Carriage House* Gated Community in a Quiet and Friendly Neighborhood! (fremont / union city / newark)"
       ]
      },
      {
       "output_type": "stream",
       "stream": "stdout",
       "text": [
        "\n",
        "4705180939\n",
        "$2095 / 1br - 734ft\u00b2 - In The Heart of Fremont (fremont / union city / newark)"
       ]
      },
      {
       "output_type": "stream",
       "stream": "stdout",
       "text": [
        "\n",
        "4700736285\n",
        "$1585 / 1br - 660ft\u00b2 - Medallion Has Comfort & Convenience... (fremont / union city / newark)"
       ]
      },
      {
       "output_type": "stream",
       "stream": "stdout",
       "text": [
        "\n",
        "4675937071\n",
        "$2900 / 3br - 1472ft\u00b2 - 3 bed 2 .5 bath townhome remodeled in Fremont  (fremont / union city / newark)"
       ]
      },
      {
       "output_type": "stream",
       "stream": "stdout",
       "text": [
        "\n",
        "4710451031\n",
        "$1674 Affordable One Bedroom Near Public Transportation, Shopping and Dining (fremont / union city / newark)"
       ]
      },
      {
       "output_type": "stream",
       "stream": "stdout",
       "text": [
        "\n",
        "4710259152\n",
        "$2425 / 2br - 1010ft\u00b2 - Visit Your New Home, Night Patrol, Fitness Ctr, Easy Freeway Access (fremont / union city / newark)"
       ]
      },
      {
       "output_type": "stream",
       "stream": "stdout",
       "text": [
        "\n",
        "4709771241\n",
        "$2300 / 2br - 890ft\u00b2 - *Carriage House* Gated Community in a Quiet and Friendly Neighborhood! (fremont / union city / newark)"
       ]
      },
      {
       "output_type": "stream",
       "stream": "stdout",
       "text": [
        "\n",
        "4701373811\n",
        "$3975 / 4br - 1940ft\u00b2 - Executive 4 bed 2 bath updated house in Chadbourne attendance area (fremont / union city / newark)"
       ]
      },
      {
       "output_type": "stream",
       "stream": "stdout",
       "text": [
        "\n",
        "4700901774\n",
        "$3600 / 5br - 2000ft\u00b2 - Beautiful 5 bedroom 3 bath house $3,600.00 with lots of upgrades (fremont / union city / newark)"
       ]
      },
      {
       "output_type": "stream",
       "stream": "stdout",
       "text": [
        "\n",
        "4710314987\n",
        "$1760 / 1br - PARK-LIKE LANDSCAPING, POOL, SPA, FITNESS CENTER (fremont / union city / newark)"
       ]
      },
      {
       "output_type": "stream",
       "stream": "stdout",
       "text": [
        "\n",
        "4694978856\n",
        "$1550 / 2br - 750ft\u00b2 - INCREDIBLE 2BED/1BATH AVAILABLE!!! (fremont / union city / newark)"
       ]
      },
      {
       "output_type": "stream",
       "stream": "stdout",
       "text": [
        "\n",
        "4708897993\n",
        "$750 / 1br - /1Ba in a gorgeous single family home ( Union city) For Rent (fremont / union city / newark)"
       ]
      },
      {
       "output_type": "stream",
       "stream": "stdout",
       "text": [
        "\n",
        "4709285588\n",
        "$2695 / 3br - 1475ft\u00b2 - 40836 Blacow Rd (fremont / union city / newark)"
       ]
      },
      {
       "output_type": "stream",
       "stream": "stdout",
       "text": [
        "\n",
        "4699808740\n",
        "$2300 / 2br - 890ft\u00b2 - *Carriage House* Gated Community in a Quiet and Friendly Neighborhood! (fremont / union city / newark)"
       ]
      },
      {
       "output_type": "stream",
       "stream": "stdout",
       "text": [
        "\n",
        "4705280471\n",
        "$1895 / 2br - 900ft\u00b2 - 2bd/2 full bath Condo on Ground flr with washer/dryer inside (fremont / union city / newark)"
       ]
      },
      {
       "output_type": "stream",
       "stream": "stdout",
       "text": [
        "\n",
        "4707064690\n",
        "$2834 / 2br - 1184ft\u00b2 - Check This Out! Luxury Apartment Community with walk-in closets! (fremont / union city / newark)"
       ]
      },
      {
       "output_type": "stream",
       "stream": "stdout",
       "text": [
        "\n",
        "4710690027\n",
        "$2100 / 2br - 850ft\u00b2 - COTTAGE / In-Law in Fremont  (fremont / union city / newark)"
       ]
      },
      {
       "output_type": "stream",
       "stream": "stdout",
       "text": [
        "\n",
        "4705072379\n",
        "$4350 / 5br - 3443ft\u00b2 - Beautiful Home from Dublin 5 bedrooms with 4.5 baths (fremont / union city / newark)"
       ]
      },
      {
       "output_type": "stream",
       "stream": "stdout",
       "text": [
        "\n",
        "4677306808\n",
        "$2900 / 3br - 1472ft\u00b2 - 3 bed 2 .5 bath townhome remodeled in Fremont  (fremont / union city / newark)"
       ]
      },
      {
       "output_type": "stream",
       "stream": "stdout",
       "text": [
        "\n",
        "4710471246\n",
        "$2544 / 3br - 1056ft\u00b2 - Spacious 3 BR Apt! Close to UC BART! Shopping & More (fremont / union city / newark)"
       ]
      },
      {
       "output_type": "stream",
       "stream": "stdout",
       "text": [
        "\n",
        "4710087560\n",
        "$1820 / 1br - 716ft\u00b2 - Get More for Your Money! Great Value BR Apt! (fremont / union city / newark)"
       ]
      },
      {
       "output_type": "stream",
       "stream": "stdout",
       "text": [
        "\n",
        "4690381673\n",
        "$2350 / 3br - 1200ft\u00b2 - Fremont Parkmont  Townhse (fremont / union city / newark)"
       ]
      },
      {
       "output_type": "stream",
       "stream": "stdout",
       "text": [
        "\n",
        "4704341992\n",
        "$2084 / 1br - 720ft\u00b2 - SPACIOUS TOP FLOOR 1 bed*W/D in unit*Vaulted ceilings*Avail 10/18 (fremont / union city / newark)"
       ]
      },
      {
       "output_type": "stream",
       "stream": "stdout",
       "text": [
        "\n",
        "4705255781\n",
        "$1962 / 2br - 800ft\u00b2 - Look And Lease This Apartment, N239! (fremont / union city / newark)"
       ]
      },
      {
       "output_type": "stream",
       "stream": "stdout",
       "text": [
        "\n",
        "4703587360\n",
        "$3000 / 4br - 2260ft\u00b2 - Newly Renovated 4bd / 3ba / 2260 sq ft house in Union City / Pioneer (fremont / union city / newark)"
       ]
      },
      {
       "output_type": "stream",
       "stream": "stdout",
       "text": [
        "\n",
        "4710191971\n",
        "$2295 / 2br - 980ft\u00b2 - \u2665HOME IS WHERE THE HEART IS\u2665HUGE MASTERBEDROOM\u2666 (fremont / union city / newark)"
       ]
      },
      {
       "output_type": "stream",
       "stream": "stdout",
       "text": [
        "\n",
        "4710193155\n",
        "$2053 / 2br - 850ft\u00b2 - Top Floor 2 bed 1 Bath! The Place To Live! (fremont / union city / newark)"
       ]
      },
      {
       "output_type": "stream",
       "stream": "stdout",
       "text": [
        "\n",
        "4711160900\n",
        "$2264 / 2br - 975ft\u00b2 - Best Community in Fremont with Washer & Dryer! (fremont / union city / newark)"
       ]
      },
      {
       "output_type": "stream",
       "stream": "stdout",
       "text": [
        "\n",
        "4711067392\n",
        "$1950 / 1br - 710ft\u00b2 - Luxurious Homes, Near Public Parks, Parkmont Schools (fremont / union city / newark)"
       ]
      },
      {
       "output_type": "stream",
       "stream": "stdout",
       "text": [
        "\n",
        "4703781677\n",
        "$2150 / 2br - 930ft\u00b2 - DESIGNER-INSPIRED FLOOR PLANS WITH LUSH GARDEN VIEW (fremont / union city / newark)"
       ]
      },
      {
       "output_type": "stream",
       "stream": "stdout",
       "text": [
        "\n",
        "4711154407\n",
        "$2713 / 3br - 1063ft\u00b2 - Get Spoiled Here! Concierge, Clubhouse, Fitness Center & More (fremont / union city / newark)"
       ]
      },
      {
       "output_type": "stream",
       "stream": "stdout",
       "text": [
        "\n",
        "4705717699\n",
        "$1550 / 1br - 1 bedr apt in Newark available on Nov 4 (fremont / union city / newark)"
       ]
      },
      {
       "output_type": "stream",
       "stream": "stdout",
       "text": [
        "\n",
        "4709770932\n",
        "$2239 / 2br - 870ft\u00b2 - Fully-equipped fitness center on-site! (fremont / union city / newark)"
       ]
      },
      {
       "output_type": "stream",
       "stream": "stdout",
       "text": [
        "\n",
        "4711396964\n",
        "$2034 / 1br - 665ft\u00b2 - Top floor 1 bedroom with Fireplace, W/D, & detached garage (fremont / union city / newark)"
       ]
      },
      {
       "output_type": "stream",
       "stream": "stdout",
       "text": [
        "\n",
        "4708844242\n",
        "$1465 / 2br - Fremont Pines Apartments (fremont / union city / newark)"
       ]
      },
      {
       "output_type": "stream",
       "stream": "stdout",
       "text": [
        "\n",
        "4706941155\n",
        "$2379 / 1br - 877ft\u00b2 - Charming apartment homes w/spacious and open kitchen layout! (fremont / union city / newark)"
       ]
      },
      {
       "output_type": "stream",
       "stream": "stdout",
       "text": [
        "\n",
        "4701346705\n",
        "$1990 / 1500ft\u00b2 - Remodeled Creative Space w/ Shower Kitchen Storage & Parking (fremont / union city / newark)"
       ]
      },
      {
       "output_type": "stream",
       "stream": "stdout",
       "text": [
        "\n",
        "4698128103\n",
        "$2315 / 2br - 862ft\u00b2 - 2 bedroom w/ garage & utilities included.. in a great neighborhood!! (fremont / union city / newark)"
       ]
      },
      {
       "output_type": "stream",
       "stream": "stdout",
       "text": [
        "\n",
        "$2,315/mo\n",
        "4708303465\n",
        "$2600 / 3br - Single Family Home Newark,very big lot and fruit trees (fremont / union city / newark)"
       ]
      },
      {
       "output_type": "stream",
       "stream": "stdout",
       "text": [
        "\n",
        "4711450323\n",
        "$2700 / 3br - 1200ft\u00b2 - Large 3 bedroom 2 bathroom Condo in Monte Vista Villas for rent (fremont / union city / newark)"
       ]
      },
      {
       "output_type": "stream",
       "stream": "stdout",
       "text": [
        "\n",
        "4701076814\n",
        "$2350 / 3br - 1370ft\u00b2 - 3 bedrooms for rent in Fremont CA 94536 (fremont / union city / newark)"
       ]
      },
      {
       "output_type": "stream",
       "stream": "stdout",
       "text": [
        "\n",
        "4705189117\n",
        "$1875 / 1br - 565ft\u00b2 - Call for Details, Easy Freeway Access, Night Patrol, Fitness Ctr (fremont / union city / newark)"
       ]
      },
      {
       "output_type": "stream",
       "stream": "stdout",
       "text": [
        "\n",
        "4707271956\n",
        "$2400 / 2br - 1405ft\u00b2 - Fremont Northgate Townhouse 2R / 2B (fremont / union city / newark)"
       ]
      },
      {
       "output_type": "stream",
       "stream": "stdout",
       "text": [
        "\n",
        "4707733032\n",
        "$950 Room to Rent NOW $950 includes everything (fremont / union city / newark)"
       ]
      },
      {
       "output_type": "stream",
       "stream": "stdout",
       "text": [
        "\n",
        "4705189045\n",
        "$1900 / 2br - Corner Unit in Gated Complex! (fremont / union city / newark)"
       ]
      },
      {
       "output_type": "stream",
       "stream": "stdout",
       "text": [
        "\n",
        "4707284212\n",
        "$1760 / 1br - PARK -LIKE LANDSCAPING, POOL, SPA, FITNESS CENTER  (fremont / union city / newark)"
       ]
      },
      {
       "output_type": "stream",
       "stream": "stdout",
       "text": [
        "\n",
        "4704231062\n",
        "$2349 / 1br - 1050ft\u00b2 - Enormous apartment home with fantastic amenities! (fremont / union city / newark)"
       ]
      },
      {
       "output_type": "stream",
       "stream": "stdout",
       "text": [
        "\n",
        "4708598607\n",
        "$2175 / 2br - 850ft\u00b2 - Alderwood Park in Newark - Dumbarton/84/880 & public transit close by! (fremont / union city / newark)"
       ]
      },
      {
       "output_type": "stream",
       "stream": "stdout",
       "text": [
        "\n",
        "4706902861\n",
        "$1730 / 1br - 650ft\u00b2 - Your'e apartment is waiting. (fremont / union city / newark)"
       ]
      },
      {
       "output_type": "stream",
       "stream": "stdout",
       "text": [
        "\n",
        "4685187841\n",
        "$2800 / 3br - 4274 Stevenson Blvd (fremont / union city / newark)"
       ]
      },
      {
       "output_type": "stream",
       "stream": "stdout",
       "text": [
        "\n",
        "4702131715\n",
        "$2220 / 2br - 1026ft\u00b2 - Beautiful 2 bedrooms available  (fremont / union city / newark)"
       ]
      },
      {
       "output_type": "stream",
       "stream": "stdout",
       "text": [
        "\n",
        "4711438936\n",
        "$1895 / 1br - 527ft\u00b2 - \u2665LOOKING FOR PEACE AND QUIET\u2665 COME AND TOUR TODAY\u2665 (fremont / union city / newark)"
       ]
      },
      {
       "output_type": "stream",
       "stream": "stdout",
       "text": [
        "\n",
        "4674182670\n",
        "$2900 / 3br - 1472ft\u00b2 - 3 bed 2 .5 bath townhome remodeled in Fremont  (fremont / union city / newark)"
       ]
      },
      {
       "output_type": "stream",
       "stream": "stdout",
       "text": [
        "\n",
        "4704154730\n",
        "$2710 / 2br - 982ft\u00b2 - Living at its best! Come see your new home today! (fremont / union city / newark)"
       ]
      },
      {
       "output_type": "stream",
       "stream": "stdout",
       "text": [
        "\n",
        "4701002015\n",
        "$1775 / 1br - OPEN FLOOR PLAN WITH A PRIVATE PATIO & GYM  (fremont / union city / newark)"
       ]
      },
      {
       "output_type": "stream",
       "stream": "stdout",
       "text": [
        "\n",
        "4700370408\n",
        "$2545 / 2br - 1106ft\u00b2 - Come See What You've Been Missing at The Presidio! (fremont / union city / newark)"
       ]
      },
      {
       "output_type": "stream",
       "stream": "stdout",
       "text": [
        "\n",
        "4705567196\n",
        "$2900 / 3br - 1472ft\u00b2 - Great 3 bed 2.5 bath townhouse remodeled in Fremont  (fremont / union city / newark)"
       ]
      },
      {
       "output_type": "stream",
       "stream": "stdout",
       "text": [
        "\n",
        "4708434321\n",
        "$1845 / 1br - 650ft\u00b2 - Beautiful 1 bedroom in Fremont! Call now to make an appointment!!! (fremont / union city / newark)"
       ]
      },
      {
       "output_type": "stream",
       "stream": "stdout",
       "text": [
        "\n",
        "4694923813\n",
        "$2600 / 3br - 1384ft\u00b2 - Perfect Shape Single Family Home In North Fremont (fremont / union city / newark)"
       ]
      },
      {
       "output_type": "stream",
       "stream": "stdout",
       "text": [
        "\n",
        "$2,600/mo\n",
        "4711030749\n",
        "$2295 / 2br - 980ft\u00b2 - \u2660\u2665QUIET, COMFORT, & CONVENIENCE! YOU DESERVE THE BEST!\u2660 (fremont / union city / newark)"
       ]
      },
      {
       "output_type": "stream",
       "stream": "stdout",
       "text": [
        "\n",
        "4710227618\n",
        "$3100 / 4br - 2030ft\u00b2 - $3100 / 4BR-3BA - 2030ft\u00b2 - Bright Ardenwood SFH Open House 2-4pm10/11 (fremont / union city / newark)"
       ]
      },
      {
       "output_type": "stream",
       "stream": "stdout",
       "text": [
        "\n",
        "4709997185\n",
        "$2300 / 2br - 890ft\u00b2 - *Carriage House* Gated Community in a Quiet and Friendly Neighborhood! (fremont / union city / newark)"
       ]
      },
      {
       "output_type": "stream",
       "stream": "stdout",
       "text": [
        "\n",
        "4708172756\n",
        "$3200 / 4br - 2071ft\u00b2 - Remodeled 4 BD 2.5 BA Mission San Jose beautiful Fremont Home for Rent (fremont / union city / newark)"
       ]
      },
      {
       "output_type": "stream",
       "stream": "stdout",
       "text": [
        "\n",
        "$3200/mo\n",
        "4711290032\n",
        "$2076 / 1br - 738ft\u00b2 - 24-Hour Fitness Center. Wi-Fi Cafe, Gorgeous Courtyard & More! (fremont / union city / newark)"
       ]
      },
      {
       "output_type": "stream",
       "stream": "stdout",
       "text": [
        "\n",
        "4696985708\n",
        "$4795 / 5br - 3168ft\u00b2 - Gorgeous Mission Fremont Home ... Will not Last!!! (fremont / union city / newark)"
       ]
      },
      {
       "output_type": "stream",
       "stream": "stdout",
       "text": [
        "\n",
        "4707898781\n",
        "$3200 / 3br - 1785ft\u00b2 - Mission San Jose (mission sanjose) Home for Rent (fremont / union city / newark)"
       ]
      },
      {
       "output_type": "stream",
       "stream": "stdout",
       "text": [
        "\n",
        "4705107846\n",
        "$2200 / 980ft\u00b2 - Comfort and Convenience Right At Your Finger Tip..Waterstone@Fremont (fremont / union city / newark)"
       ]
      },
      {
       "output_type": "stream",
       "stream": "stdout",
       "text": [
        "\n",
        "4706722148\n",
        "$1950 / 1br - 710ft\u00b2 - Enriched Lifestyle, Near Shops and Dining, Community Clubhouse (fremont / union city / newark)"
       ]
      },
      {
       "output_type": "stream",
       "stream": "stdout",
       "text": [
        "\n",
        "4698042573\n",
        "$2515 / 2br - 961ft\u00b2 - Pets welcome at Ardenwood Forest.. 2 bedrooms available!! (fremont / union city / newark)"
       ]
      },
      {
       "output_type": "stream",
       "stream": "stdout",
       "text": [
        "\n",
        "$2,515/mo\n",
        "4708977968\n",
        "$2250 / 3br - 1000ft\u00b2 - Nice remodeled 3bed/1 bath in Fremont Irvinton (fremont / union city / newark)"
       ]
      },
      {
       "output_type": "stream",
       "stream": "stdout",
       "text": [
        "\n",
        "4711701394\n",
        "$2453 / 2br - 958ft\u00b2 - 2nd floor location in Beautiful 2 bedroom (fremont / union city / newark)"
       ]
      },
      {
       "output_type": "stream",
       "stream": "stdout",
       "text": [
        "\n",
        "4711547661\n",
        "$2850 / 3br - 1877ft\u00b2 - Great 3BR/2.5 bath home for rent in Union city (fremont / union city / newark)"
       ]
      },
      {
       "output_type": "stream",
       "stream": "stdout",
       "text": [
        "\n",
        "4711253119\n",
        "$2300 / 2br - 1475ft\u00b2 - Remodel Union City Townhouse with 2 car garage (fremont / union city / newark)"
       ]
      },
      {
       "output_type": "stream",
       "stream": "stdout",
       "text": [
        "\n",
        "4696943761\n",
        "$1695 / 2br - 1000ft\u00b2 - NEWLY REMODLED TWO BED TWONHOUSE (fremont / union city / newark)"
       ]
      },
      {
       "output_type": "stream",
       "stream": "stdout",
       "text": [
        "\n",
        "4701897838\n",
        "$1950 / 1br - 710ft\u00b2 - Cottage Style, Stylish Features, Washer Dryer in Unit, Walk to BART (fremont / union city / newark)"
       ]
      },
      {
       "output_type": "stream",
       "stream": "stdout",
       "text": [
        "\n",
        "4710131865\n",
        "$1965 / 2br - 830ft\u00b2 - Ready to Rent! (fremont / union city / newark)"
       ]
      },
      {
       "output_type": "stream",
       "stream": "stdout",
       "text": [
        "\n",
        "4708677523\n",
        "$2439 / 2br - 850ft\u00b2 - Open House Tomorrow At The Woods!! (fremont / union city / newark)"
       ]
      },
      {
       "output_type": "stream",
       "stream": "stdout",
       "text": [
        "\n",
        "4704139615\n",
        "$1745 / 1br - 650ft\u00b2 - Your'e apartment is waiting. (fremont / union city / newark)"
       ]
      },
      {
       "output_type": "stream",
       "stream": "stdout",
       "text": [
        "\n",
        "4683812582\n",
        "$3100 / 3br - 1780ft\u00b2 - MISSION SAN JOSE ANTELOPE HILLS TOWNHOUSE (fremont / union city / newark)"
       ]
      },
      {
       "output_type": "stream",
       "stream": "stdout",
       "text": [
        "\n",
        "4705954560\n",
        "$2545 / 2br - 1106ft\u00b2 - Opp BART+Incentives 2Bedroom2Bath - 1106 Sqft Apt - Fremont (fremont / union city / newark)"
       ]
      },
      {
       "output_type": "stream",
       "stream": "stdout",
       "text": [
        "\n",
        "4703459261\n",
        "$1700 / 2br - 900ft\u00b2 - Beautiful 2BD/1BA Condo for rent in Union City  (fremont / union city / newark)"
       ]
      },
      {
       "output_type": "stream",
       "stream": "stdout",
       "text": [
        "\n",
        "4706919039\n",
        "$3850 / 4br - 2200ft\u00b2 - Fremont Mission San Jose House for Rent (fremont / union city / newark)"
       ]
      },
      {
       "output_type": "stream",
       "stream": "stdout",
       "text": [
        "\n",
        "4693711902\n",
        "$2350 / 2br - 1050ft\u00b2 - 2 Bed/2 Bath 5minutes from fremont bart 8 month lease (fremont / union city / newark)"
       ]
      },
      {
       "output_type": "stream",
       "stream": "stdout",
       "text": [
        "\n",
        "4667238532\n",
        "$650 / 1br - Bedroom with shared bath and  kitchen (fremont / union city / newark)"
       ]
      },
      {
       "output_type": "stream",
       "stream": "stdout",
       "text": [
        "\n",
        "4707698869\n",
        "$2400 / 2br - Beautiful View from 2 Bed 2 Bath at Creekside Village (fremont / union city / newark)"
       ]
      },
      {
       "output_type": "stream",
       "stream": "stdout",
       "text": [
        "\n",
        "4705377619\n",
        "$500 \u5355\u623f\u51fa\u79df (fremont / union city / newark)"
       ]
      },
      {
       "output_type": "stream",
       "stream": "stdout",
       "text": [
        "\n",
        "4711946435\n",
        "$2100 / 3br - 1385ft\u00b2 - 3 Bed room /1-1/2 Bath Apartment (fremont / union city / newark)"
       ]
      },
      {
       "output_type": "stream",
       "stream": "stdout",
       "text": [
        "\n",
        "4699576897\n",
        "$2900 / 3br - 1472ft\u00b2 - 3 bed 2 .5 bath townhome remodeled in Fremont (fremont / union city / newark)"
       ]
      },
      {
       "output_type": "stream",
       "stream": "stdout",
       "text": [
        "\n",
        "4707394684\n",
        "$2834 / 2br - 1184ft\u00b2 - Check This Out! Luxury Apartment Community with walk-in closets! (fremont / union city / newark)"
       ]
      },
      {
       "output_type": "stream",
       "stream": "stdout",
       "text": [
        "\n",
        "4710094314\n",
        "$2186 / 2br - 800ft\u00b2 - Our Most Popular Floor Plan! (fremont / union city / newark)"
       ]
      },
      {
       "output_type": "stream",
       "stream": "stdout",
       "text": [
        "\n",
        "4710455323\n",
        "$2310 / 2br - 975ft\u00b2 - Enjoy Separate Dining Rooms in our BR Apartments (fremont / union city / newark)"
       ]
      },
      {
       "output_type": "stream",
       "stream": "stdout",
       "text": [
        "\n",
        "4700790696\n",
        "$1000 / 3br - 1534ft\u00b2 - $1000 Master Bedroom For Rent in a 3br - 3BR/2.5BA home near BART (fremont / union city / newark)"
       ]
      },
      {
       "output_type": "stream",
       "stream": "stdout",
       "text": [
        "\n",
        "4696402608\n",
        "$2200 / 3br - 1100ft\u00b2 - $2200 1100sqft - 3BR/2BA HOUSE in UNION CITY (fremont / union city / newark)"
       ]
      },
      {
       "output_type": "stream",
       "stream": "stdout",
       "text": [
        "\n",
        "4703498373\n",
        "$2800 / 4br - 1620ft\u00b2 - Upgraded 4 Bedroom 2 Bath Home in Irvington Area of Fremont (fremont / union city / newark)"
       ]
      },
      {
       "output_type": "stream",
       "stream": "stdout",
       "text": [
        "\n",
        "4707146055\n",
        "$1900 / 1br - 737ft\u00b2 - *Carriage House* Gated Community in a Quiet and Friendly Neighborhood! (fremont / union city / newark)"
       ]
      },
      {
       "output_type": "stream",
       "stream": "stdout",
       "text": [
        "\n",
        "4709968677\n",
        "$1695 / 1br - 650ft\u00b2 - Your'e apartment is waiting. (fremont / union city / newark)"
       ]
      },
      {
       "output_type": "stream",
       "stream": "stdout",
       "text": [
        "\n",
        "4701021491\n",
        "$2295 / 2br - 1004ft\u00b2 - \u263aWE HAVE GOT EVERYTHING YOU NEED FOR COMFORT\u263a! (fremont / union city / newark)"
       ]
      },
      {
       "output_type": "stream",
       "stream": "stdout",
       "text": [
        "\n",
        "4678583672\n",
        "$3200 / 4br - 2100ft\u00b2 - GREAT UNION CITY LOCATION GRANITE,FIREPLACE,HARDWOOD,W/D,STAINLESS (fremont / union city / newark)"
       ]
      },
      {
       "output_type": "stream",
       "stream": "stdout",
       "text": [
        "\n",
        "4708634531\n",
        "$3000 / 5br - 2240ft\u00b2 - Gorgeous 5 Bedrooms in Niles, Fremont  (fremont / union city / newark)"
       ]
      },
      {
       "output_type": "stream",
       "stream": "stdout",
       "text": [
        "\n",
        "4711061710\n",
        "$3200 / 3br - 1700ft\u00b2 - Ardenwood updated SFH for rent- Dec 2014 (fremont / union city / newark)"
       ]
      },
      {
       "output_type": "stream",
       "stream": "stdout",
       "text": [
        "\n",
        "4704149444\n",
        "$2500 / 3br - 1550ft\u00b2 - Beautiful house, close to Dumbarton Bridge(Facebook), shopping center  (fremont / union city / newark)"
       ]
      },
      {
       "output_type": "stream",
       "stream": "stdout",
       "text": [
        "\n",
        "4707200981\n",
        "$2350 / 3br - 1400ft\u00b2 - Beautiful 3 bedroom and 2 and 1/2 bathroom TH in a quite neighborhood (fremont / union city / newark)"
       ]
      },
      {
       "output_type": "stream",
       "stream": "stdout",
       "text": [
        "\n",
        "4700474310\n",
        "$2500 / 3br - 1131ft\u00b2 - 3 bedroom 2 bath for rent in Fremont  $2500/per month  (fremont / union city / newark)"
       ]
      },
      {
       "output_type": "stream",
       "stream": "stdout",
       "text": [
        "\n",
        "4708689446\n",
        "$2950 / 3br - 1186ft\u00b2 - 3 Bedroom Home Near Lakeshore Park (fremont / union city / newark)"
       ]
      },
      {
       "output_type": "stream",
       "stream": "stdout",
       "text": [
        "\n",
        "4709029277\n",
        "$2295 / 2br - 1004ft\u00b2 - \u25d8CLOSE AND CONVENIENT FOR YOUR LIFESTYLE\u25d8 (fremont / union city / newark)"
       ]
      },
      {
       "output_type": "stream",
       "stream": "stdout",
       "text": [
        "\n",
        "4709750233\n",
        "$600 Union City\u72ec\u7acb\u5355\u623f\u51fa\u79df (fremont / union city / newark)"
       ]
      },
      {
       "output_type": "stream",
       "stream": "stdout",
       "text": [
        "\n",
        "4706013086\n",
        "$3200 / 3br - 1700ft\u00b2 - Ardenwood SFH- 3bd 2 1/2 bth- $3200 (fremont / union city / newark)"
       ]
      },
      {
       "output_type": "stream",
       "stream": "stdout",
       "text": [
        "\n",
        "4711529037\n",
        "$2295 / 2br - 980ft\u00b2 - \u2660GREAT PRICE, LOCATION, AND QUIET\u2660 (fremont / union city / newark)"
       ]
      },
      {
       "output_type": "stream",
       "stream": "stdout",
       "text": [
        "\n",
        "4688449232\n",
        "$1848 / 1br - 603ft\u00b2 - Apartment w/ washer & dryer in unit. Fitness center also! (fremont / union city / newark)"
       ]
      },
      {
       "output_type": "stream",
       "stream": "stdout",
       "text": [
        "\n",
        "4701722996\n",
        "$2449 / 3br - 1248ft\u00b2 - Beautiful home in Union City to rent $2449/month (fremont / union city / newark)"
       ]
      },
      {
       "output_type": "stream",
       "stream": "stdout",
       "text": [
        "\n",
        "4708241212\n",
        "$2400 / 2br - 1083ft\u00b2 - Large Two Bedroom Condo! (fremont / union city / newark)"
       ]
      },
      {
       "output_type": "stream",
       "stream": "stdout",
       "text": [
        "\n",
        "$2,400/mo\n",
        "4709271776\n",
        "$4200 / 4br - 2726ft\u00b2 - Mission Weibel Home  (fremont / union city / newark)"
       ]
      },
      {
       "output_type": "stream",
       "stream": "stdout",
       "text": [
        "\n",
        "4708963350\n",
        "$2365 / 2br - 1108ft\u00b2 - Here Today... Gone Tomorrow...$99.00 Deposit O.A.C.  HURRY! (fremont / union city / newark)"
       ]
      },
      {
       "output_type": "stream",
       "stream": "stdout",
       "text": [
        "\n",
        "4706593304\n",
        "$2900 / 3br - House for rent (fremont / union city / newark)"
       ]
      },
      {
       "output_type": "stream",
       "stream": "stdout",
       "text": [
        "\n",
        "4694607625\n",
        "$2750 / 4br - 1704ft\u00b2 - Beautiful Home in the Cabrillo Area of Fremont! (fremont / union city / newark)"
       ]
      },
      {
       "output_type": "stream",
       "stream": "stdout",
       "text": [
        "\n",
        "$2,750/mo\n",
        "4708629130\n",
        "$2097 / 1br - 829ft\u00b2 - Every Apartment has IMMENSE Walk-In Closets! (fremont / union city / newark)"
       ]
      },
      {
       "output_type": "stream",
       "stream": "stdout",
       "text": [
        "\n",
        "4708307695\n",
        "$2900 / 3br - 1472ft\u00b2 - 3 bed 2 .5 bath townhome remodeled in Fremont  (fremont / union city / newark)"
       ]
      },
      {
       "output_type": "stream",
       "stream": "stdout",
       "text": [
        "\n",
        "4710068294\n",
        "$2150 / 2br - PARK-LIKE SETTING IN PRIME LOCATION, DESIGNER 2 BR (fremont / union city / newark)"
       ]
      },
      {
       "output_type": "stream",
       "stream": "stdout",
       "text": [
        "\n",
        "4688394503\n",
        "$2995 / 3br - 1800ft\u00b2 - Bright, Clean Townhouse for Rent (fremont / union city / newark)"
       ]
      },
      {
       "output_type": "stream",
       "stream": "stdout",
       "text": [
        "\n",
        "4705149967\n",
        "$2495 / 2br - 1106ft\u00b2 - Gated Community in Fremont  (fremont / union city / newark)"
       ]
      },
      {
       "output_type": "stream",
       "stream": "stdout",
       "text": [
        "\n",
        "4708963560\n",
        "$500 Union City\u72ec\u7acb\u5355\u623f\u51fa\u79df (fremont / union city / newark)"
       ]
      },
      {
       "output_type": "stream",
       "stream": "stdout",
       "text": [
        "\n",
        "4708669555\n",
        "$1760 / 1br - RESORT LIVING IN A SERENE PARK SETTING  (fremont / union city / newark)"
       ]
      },
      {
       "output_type": "stream",
       "stream": "stdout",
       "text": [
        "\n",
        "4706835636\n",
        "$1760 / 1br - RESORT STYLE LIVING IN A SERENE PARK SETTING  (fremont / union city / newark)"
       ]
      },
      {
       "output_type": "stream",
       "stream": "stdout",
       "text": [
        "\n",
        "4700580141\n",
        "$1895 / 1br - Beautiful 1 bedroom call now to make an appointment!!! (fremont / union city / newark)"
       ]
      },
      {
       "output_type": "stream",
       "stream": "stdout",
       "text": [
        "\n",
        "4698129248\n",
        "$2315 / 2br - 862ft\u00b2 - 2 bed 1 bath w/ washer & dryer PLUS private garage!!  (fremont / union city / newark)"
       ]
      },
      {
       "output_type": "stream",
       "stream": "stdout",
       "text": [
        "\n",
        "$2,315/mo\n",
        "4703914998\n",
        "$1585 / 410ft\u00b2 - Stunning Studio Aparment, Available For Your Immediate Move-In!! (fremont / union city / newark)"
       ]
      },
      {
       "output_type": "stream",
       "stream": "stdout",
       "text": [
        "\n",
        "4710410118\n",
        "$3600 / 4br - 2668ft\u00b2 - Mission Home - 699 Patriot Place - Fremont (fremont / union city / newark)"
       ]
      },
      {
       "output_type": "stream",
       "stream": "stdout",
       "text": [
        "\n",
        "4705921625\n",
        "$1551 A Must See! Fantastic Location! Beautiful One Bedroom Apt Home! (fremont / union city / newark)"
       ]
      },
      {
       "output_type": "stream",
       "stream": "stdout",
       "text": [
        "\n",
        "4708641085\n",
        "$1699 / 1br - 685ft\u00b2 - Alderwood Park in Newark - Dumbarton/84/880 & public transit close by! (fremont / union city / newark)"
       ]
      },
      {
       "output_type": "stream",
       "stream": "stdout",
       "text": [
        "\n",
        "4702225142\n",
        "$3100 / 3br - 1500ft\u00b2 - \u25ba \u25ba\u25baOPEN HOUSE in Newark - Elegant Single Family Home (fremont / union city / newark)"
       ]
      },
      {
       "output_type": "stream",
       "stream": "stdout",
       "text": [
        "\n",
        "$3,100/mo\n",
        "4692886961\n",
        "$1695 / 1br - 560ft\u00b2 - ~*~A Home To Adore, ~*~ Move In Ready 10/25/14 (fremont / union city / newark)"
       ]
      },
      {
       "output_type": "stream",
       "stream": "stdout",
       "text": [
        "\n",
        "4710368477\n",
        "$1851 / 1br - 615ft\u00b2 - Available November 11th!! (fremont / union city / newark)"
       ]
      },
      {
       "output_type": "stream",
       "stream": "stdout",
       "text": [
        "\n",
        "4710174102\n",
        "$1845 / 1br - Ready to move in call now for an appointment!!!! (fremont / union city / newark)"
       ]
      },
      {
       "output_type": "stream",
       "stream": "stdout",
       "text": [
        "\n",
        "4706651873\n",
        "$2555 / 2br - 1014ft\u00b2 - Perfect location and ease of access with hardwood floors!  (fremont / union city / newark)"
       ]
      },
      {
       "output_type": "stream",
       "stream": "stdout",
       "text": [
        "\n",
        "4706347153\n",
        "$3150 / 3br - 1540ft\u00b2 - Mission SanJose- 3BR, 2 Baths, 1540 SF  (fremont / union city / newark)"
       ]
      },
      {
       "output_type": "stream",
       "stream": "stdout",
       "text": [
        "\n",
        "4707734701\n",
        "$780 / 1br - \u96c5\u623f\u51fa\u79df (fremont / union city / newark)"
       ]
      },
      {
       "output_type": "stream",
       "stream": "stdout",
       "text": [
        "\n",
        "4708765187\n",
        "$1599 / 1br - 600ft\u00b2 - ONE bedroom Unit Available NOW in the Heart of Fremont (fremont / union city / newark)"
       ]
      },
      {
       "output_type": "stream",
       "stream": "stdout",
       "text": [
        "\n",
        "4710494763\n",
        "$1698 / 1br - AMAZING AMENITIES IN PARK-LIKE COMMUNITY (fremont / union city / newark)"
       ]
      },
      {
       "output_type": "stream",
       "stream": "stdout",
       "text": [
        "\n",
        "4709742868\n",
        "$1834 / 1br - 760ft\u00b2 - Are You Ready To Move..Waterstone@Fremont (fremont / union city / newark)"
       ]
      },
      {
       "output_type": "stream",
       "stream": "stdout",
       "text": [
        "\n",
        "4702093114\n",
        "$2095 / 2br - 846ft\u00b2 - Spacious 2 Bed 1 Bath in Downtown Fremont (fremont / union city / newark)"
       ]
      },
      {
       "output_type": "stream",
       "stream": "stdout",
       "text": [
        "\n",
        "4694248251\n",
        "$2500 / 3br - 1550ft\u00b2 - Beautiful house, close to Dumbarton Bridge(Facebook), shopping center  (fremont / union city / newark)"
       ]
      },
      {
       "output_type": "stream",
       "stream": "stdout",
       "text": [
        "\n",
        "4708832086\n",
        "$1550 / 2br - Bridge Bay Apartments (fremont / union city / newark)"
       ]
      },
      {
       "output_type": "stream",
       "stream": "stdout",
       "text": [
        "\n",
        "4710093416\n",
        "$2175 / 2br - 850ft\u00b2 - A Fantastic Two Bedroom One Bath, Apartment Home. Ready 10/13! (fremont / union city / newark)"
       ]
      },
      {
       "output_type": "stream",
       "stream": "stdout",
       "text": [
        "\n",
        "4704568093\n",
        "$2400 / 3br - 1118ft\u00b2 - 3 Bedroom Townhome at great location (fremont / union city / newark)"
       ]
      },
      {
       "output_type": "stream",
       "stream": "stdout",
       "text": [
        "\n",
        "4711155844\n",
        "$2260 / 2br - 975ft\u00b2 - Appealing Apartment Community that has a Park-Like Setting (fremont / union city / newark)"
       ]
      },
      {
       "output_type": "stream",
       "stream": "stdout",
       "text": [
        "\n",
        "4710205842\n",
        "$2053 / 2br - 850ft\u00b2 - Have the best of the Bay Area within reach at Skylark Apartments! (fremont / union city / newark)"
       ]
      },
      {
       "output_type": "stream",
       "stream": "stdout",
       "text": [
        "\n",
        "4706956881\n",
        "$2150 / 2br - PARK-LIKE SETTING IN PRIME LOCATION, DESIGNER 2 BR (fremont / union city / newark)"
       ]
      },
      {
       "output_type": "stream",
       "stream": "stdout",
       "text": [
        "\n",
        "4705500955\n",
        "$2900 / 3br - 1472ft\u00b2 - Great 3 bed 2.5 bath townhouse remodeled in Fremont  (fremont / union city / newark)"
       ]
      },
      {
       "output_type": "stream",
       "stream": "stdout",
       "text": [
        "\n",
        "4696287452\n",
        "$2900 / 3br - 1472ft\u00b2 - Great 3 bed 2.5 bath townhome remodeled in Fremont  (fremont / union city / newark)"
       ]
      },
      {
       "output_type": "stream",
       "stream": "stdout",
       "text": [
        "\n",
        "4709086634\n",
        "$2600 / 3br - 1300ft\u00b2 - Beautiful Ardenwood Home in Fremont (fremont / union city / newark)"
       ]
      },
      {
       "output_type": "stream",
       "stream": "stdout",
       "text": [
        "\n",
        "4706142219\n",
        "$3100 / 4br - 4000ft\u00b2 - 4BR/2.5BA Single Family Home in Union City (fremont / union city / newark)"
       ]
      },
      {
       "output_type": "stream",
       "stream": "stdout",
       "text": [
        "\n",
        "4701296329\n",
        "$3100 / 3br - 1500ft\u00b2 - \u25ba \u25ba\u25ba Heaven in Newark - Single Family Home (fremont / union city / newark)"
       ]
      },
      {
       "output_type": "stream",
       "stream": "stdout",
       "text": [
        "\n",
        "$3,100/mo\n",
        "4711771823\n",
        "$2128 / 1br - 720ft\u00b2 - Retreat-Like View, Cats & Dogs Welcome, Skylight, Laundry, Don't Miss! (fremont / union city / newark)"
       ]
      },
      {
       "output_type": "stream",
       "stream": "stdout",
       "text": [
        "\n",
        "4704143532\n",
        "$2799 / 1320ft\u00b2 - Stunning 3BD/2BA Apartment with all new Interiors (fremont / union city / newark)"
       ]
      },
      {
       "output_type": "stream",
       "stream": "stdout",
       "text": [
        "\n",
        "4708852944\n",
        "$1500 / 1br - 430ft\u00b2 -  1Br/1Ba Suite with Separate Private Kitchen and Entrance \u7368\u9662 (fremont / union city / newark)"
       ]
      },
      {
       "output_type": "stream",
       "stream": "stdout",
       "text": [
        "\n",
        "4703769410\n",
        "$2695 / 3br - 1600ft\u00b2 - Available Immediately!!! (fremont / union city / newark)"
       ]
      },
      {
       "output_type": "stream",
       "stream": "stdout",
       "text": [
        "\n",
        "$2,695/mo\n",
        "4701966278\n",
        "$5380 / 5br - 3800ft\u00b2 - 708 Chavel Court, Fremont, Avail.10/25 Ext.43 (fremont / union city / newark)"
       ]
      },
      {
       "output_type": "stream",
       "stream": "stdout",
       "text": [
        "\n",
        "4710357634\n",
        "$1650 / 1br - A small house for rent at Newark (fremont / union city / newark)"
       ]
      },
      {
       "output_type": "stream",
       "stream": "stdout",
       "text": [
        "\n",
        "4703661903\n",
        "$550 / 1br - Room for Rent in Fremont  (fremont / union city / newark)"
       ]
      },
      {
       "output_type": "stream",
       "stream": "stdout",
       "text": [
        "\n",
        "4711129092\n",
        "$1698 / 1br - PRIVATE END UNIT, LARGE STORAGE, YOUR NEW HOME IS HERE! (fremont / union city / newark)"
       ]
      },
      {
       "output_type": "stream",
       "stream": "stdout",
       "text": [
        "\n",
        "4708258162\n",
        "$1962 / 2br - 800ft\u00b2 - N239 Is A Great Location And Close To All Our Amenites! (fremont / union city / newark)"
       ]
      },
      {
       "output_type": "stream",
       "stream": "stdout",
       "text": [
        "\n",
        "4711175500\n",
        "$2105 / 2br - 830ft\u00b2 - Energy-saving Kitchens with Built-in Microwaves (fremont / union city / newark)"
       ]
      },
      {
       "output_type": "stream",
       "stream": "stdout",
       "text": [
        "\n",
        "4680586921\n",
        "$2900 / 3br - 1433ft\u00b2 - Beautiful Glenmoor Area Home! (fremont / union city / newark)"
       ]
      },
      {
       "output_type": "stream",
       "stream": "stdout",
       "text": [
        "\n",
        "$2,900/mo\n",
        "4705143950\n",
        "$1725 / 1br - 650ft\u00b2 - Here now and gone by morning. You should hurry! (fremont / union city / newark)"
       ]
      },
      {
       "output_type": "stream",
       "stream": "stdout",
       "text": [
        "\n",
        "4709819725\n",
        "$2295 / 2br - 1004ft\u00b2 - \u2666TOUR TODAY AND ENJOY BEAUTIFULLY RENOVATED APT HOMES\u2666 (fremont / union city / newark)"
       ]
      },
      {
       "output_type": "stream",
       "stream": "stdout",
       "text": [
        "\n",
        "4710164005\n",
        "$1699 / 1br - 685ft\u00b2 - Lovely Place To Call Home! Sparkling pool & relaxing spa!  $300 Dep. (fremont / union city / newark)"
       ]
      },
      {
       "output_type": "stream",
       "stream": "stdout",
       "text": [
        "\n",
        "4708997186\n",
        "$2620 / 2br - 1061ft\u00b2 - Ground level with hardwood floors and walking distance from BART! (fremont / union city / newark)"
       ]
      },
      {
       "output_type": "stream",
       "stream": "stdout",
       "text": [
        "\n",
        "4701295277\n",
        "$2900 / 3br - 1474ft\u00b2 - Updated single family home for rent (fremont / union city / newark)"
       ]
      },
      {
       "output_type": "stream",
       "stream": "stdout",
       "text": [
        "\n",
        "4702316336\n",
        "$1895 / 1br - 527ft\u00b2 - \u2666A CATCH! COME TOUR TODAY \u2666 (fremont / union city / newark)"
       ]
      },
      {
       "output_type": "stream",
       "stream": "stdout",
       "text": [
        "\n",
        "4708283570\n",
        "$2032 / 1br - 725ft\u00b2 - Two balconies, underground parking, and hardwood floors! (fremont / union city / newark)"
       ]
      },
      {
       "output_type": "stream",
       "stream": "stdout",
       "text": [
        "\n",
        "4708556913\n",
        "$2150 / 2br - DESIGNER-INSPIRED FLOOR PLANS WITH LUSH GARDEN VIEW (fremont / union city / newark)"
       ]
      },
      {
       "output_type": "stream",
       "stream": "stdout",
       "text": [
        "\n",
        "4685873529\n",
        "$1895 / 2br - Great Fremont Location!  (fremont / union city / newark)"
       ]
      },
      {
       "output_type": "stream",
       "stream": "stdout",
       "text": [
        "\n",
        "$1,895/mo\n",
        "4709965947\n",
        "$1725 / 1br - 600ft\u00b2 - Just the Right Amount of Space (fremont / union city / newark)"
       ]
      },
      {
       "output_type": "stream",
       "stream": "stdout",
       "text": [
        "\n",
        "4709949099\n",
        "$2259 / 2br - YOUR PERFECT APARMENT HOME IN A BEAUTIFUL PARK SETTING, RESORT STYLE  (fremont / union city / newark)"
       ]
      },
      {
       "output_type": "stream",
       "stream": "stdout",
       "text": [
        "\n",
        "4708167383\n",
        "$2095 / 2br - 980ft\u00b2 - It's A Great Weekend To Find Your New Home...Waterstone@Fremont (fremont / union city / newark)"
       ]
      },
      {
       "output_type": "stream",
       "stream": "stdout",
       "text": [
        "\n",
        "4691167236\n",
        "$1790 / 1br - 600ft\u00b2 - Beautiful and spacious 1 bedrooms available  (fremont / union city / newark)"
       ]
      },
      {
       "output_type": "stream",
       "stream": "stdout",
       "text": [
        "\n",
        "4708281638\n",
        "$2400 / 3br - 1112ft\u00b2 - Lovely Home in the Mission area of Fremont! (fremont / union city / newark)"
       ]
      },
      {
       "output_type": "stream",
       "stream": "stdout",
       "text": [
        "\n",
        "$2,400/mo\n",
        "4711084884\n",
        "$2379 / 1br - 877ft\u00b2 - Charming apartment homes w/spacious and open kitchen layout! (fremont / union city / newark)"
       ]
      },
      {
       "output_type": "stream",
       "stream": "stdout",
       "text": [
        "\n",
        "4704144753\n",
        "$1990 / 2br - 830ft\u00b2 - Just the place you need. (fremont / union city / newark)"
       ]
      },
      {
       "output_type": "stream",
       "stream": "stdout",
       "text": [
        "\n",
        "4700013075\n",
        "$2695 / 3br - 1300ft\u00b2 - 3 Bed 2 Bath Single Family Home in Fremont (fremont / union city / newark)"
       ]
      },
      {
       "output_type": "stream",
       "stream": "stdout",
       "text": [
        "\n",
        "4694948876\n",
        "$2750 / 2br - 1081ft\u00b2 - Modern 2/2  condo in Warm Springs (fremont / union city / newark)"
       ]
      },
      {
       "output_type": "stream",
       "stream": "stdout",
       "text": [
        "\n",
        "$2,750/mo\n",
        "4702686053\n",
        "$1895 / 1br - 650ft\u00b2 - BEAUTIFUL 1 BEDROOM AT QUIET NEIGHBORHOOD IN FREMONT!  (fremont / union city / newark)"
       ]
      },
      {
       "output_type": "stream",
       "stream": "stdout",
       "text": [
        "\n",
        "4708495775\n",
        "$2200 / 2br - 1140ft\u00b2 - Open House Sunday 10/12/14  4-5pm (fremont / union city / newark)"
       ]
      },
      {
       "output_type": "stream",
       "stream": "stdout",
       "text": [
        "\n",
        "4708672537\n",
        "$2795 / 4br - 1900ft\u00b2 - *** SPACIOUS, CUL-DE-SAC, WALK TO FREMONT BART, CENTRAL PARK *** (fremont / union city / newark)"
       ]
      },
      {
       "output_type": "stream",
       "stream": "stdout",
       "text": [
        "\n",
        "4694966766\n",
        "$2500 / 3br - 1550ft\u00b2 - Beautiful house, close to Dumbarton Bridge(Facebook), shopping center  (fremont / union city / newark)"
       ]
      },
      {
       "output_type": "stream",
       "stream": "stdout",
       "text": [
        "\n",
        "4705383827\n",
        "$2315 / 2br - 862ft\u00b2 - 2 bedroom w/ attached garage in nice Ardenwood neighborhood (fremont / union city / newark)"
       ]
      },
      {
       "output_type": "stream",
       "stream": "stdout",
       "text": [
        "\n",
        "$2,315/mo\n",
        "4706617072\n",
        "$2650 / 3br - 1300ft\u00b2 - **Open House Sunday Oct 12th, 1pm-5pm. 3B/3B TownHome in Fremont, Ca (fremont / union city / newark)"
       ]
      },
      {
       "output_type": "stream",
       "stream": "stdout",
       "text": [
        "\n",
        "4699292027\n",
        "$2500 / 3br - 1550ft\u00b2 - Beautiful house, close to Dumbarton Bridge(Facebook), shopping center  (fremont / union city / newark)"
       ]
      },
      {
       "output_type": "stream",
       "stream": "stdout",
       "text": [
        "\n",
        "4705431094\n",
        "$2150 / 2br - 930ft\u00b2 - DESIGNER-INSPIRED FLOOR PLANS WITH LUSH GARDEN VIEW (fremont / union city / newark)"
       ]
      },
      {
       "output_type": "stream",
       "stream": "stdout",
       "text": [
        "\n",
        "4708837746\n",
        "$2150 / 2br - 888ft\u00b2 - Union City 2-Bedroom Condo (fremont / union city / newark)"
       ]
      },
      {
       "output_type": "stream",
       "stream": "stdout",
       "text": [
        "\n",
        "4706997677\n",
        "$2900 / 3br - 1472ft\u00b2 - 3 bed 2 .5 bath townhome remodeled in Fremont  (fremont / union city / newark)"
       ]
      },
      {
       "output_type": "stream",
       "stream": "stdout",
       "text": [
        "\n",
        "4705872986\n",
        "$2425 / 2br - 1010ft\u00b2 - Now Available, Near Public Parks, Parkmont Schools (fremont / union city / newark)"
       ]
      },
      {
       "output_type": "stream",
       "stream": "stdout",
       "text": [
        "\n",
        "4711374823\n",
        "$1100 / 1br - 300ft\u00b2 - Private 24 ft camper -fully funtional (fremont / union city / newark)"
       ]
      },
      {
       "output_type": "stream",
       "stream": "stdout",
       "text": [
        "\n",
        "4710369193\n",
        "$1923 / 2br - 785ft\u00b2 - Only One Available November 1st (fremont / union city / newark)"
       ]
      },
      {
       "output_type": "stream",
       "stream": "stdout",
       "text": [
        "\n",
        "4705872789\n",
        "$2500 / 3br - 1314ft\u00b2 - 5 year new townhouse for rent (fremont / union city / newark)"
       ]
      },
      {
       "output_type": "stream",
       "stream": "stdout",
       "text": [
        "\n",
        "4702337301\n",
        "$1775 / 1br - PARK-LIKE LANDSCAPING, POOL, SPA, FITNESS CENTER  (fremont / union city / newark)"
       ]
      },
      {
       "output_type": "stream",
       "stream": "stdout",
       "text": [
        "\n",
        "4704058251\n",
        "$4000 / 5br - 2652ft\u00b2 - Mission Hills Executive Home  CALL FOR APPOINTMENT  (fremont / union city / newark)"
       ]
      },
      {
       "output_type": "stream",
       "stream": "stdout",
       "text": [
        "\n",
        "$4,000/mo\n",
        "4709758928\n",
        "$750 / 1br - Room for 2 for rent (fremont / union city / newark)"
       ]
      },
      {
       "output_type": "stream",
       "stream": "stdout",
       "text": [
        "\n",
        "4710148039\n",
        "$2243 / 2br - 850ft\u00b2 - Do You Love Where You Live? Our Resident's Do! (fremont / union city / newark)"
       ]
      },
      {
       "output_type": "stream",
       "stream": "stdout",
       "text": [
        "\n",
        "4707226639\n",
        "$2200 / 4br - 1100ft\u00b2 - OPEN HOUSE Sunday 2-4PM: 4BR/1Ba - Union City Single Family Remodeled  (fremont / union city / newark)"
       ]
      },
      {
       "output_type": "stream",
       "stream": "stdout",
       "text": [
        "\n",
        "4709099410\n",
        "$1539 / 1br - 650ft\u00b2 - Best Price! Best Location! Come See For Yourself!!! (fremont / union city / newark)"
       ]
      },
      {
       "output_type": "stream",
       "stream": "stdout",
       "text": [
        "\n",
        "4672754018\n",
        "$2200 / 1br - 800ft\u00b2 - 1 Bd, 1 Ba Unit, Mission Fremont  INCLUDING ALL UTIL (fremont / union city / newark)"
       ]
      },
      {
       "output_type": "stream",
       "stream": "stdout",
       "text": [
        "\n",
        "4702214023\n",
        "$3200 / 3br - 1700ft\u00b2 - Ardenwood SFH for rent- available soon (fremont / union city / newark)"
       ]
      },
      {
       "output_type": "stream",
       "stream": "stdout",
       "text": [
        "\n",
        "4710128373\n",
        "$1699 / 1br - 685ft\u00b2 -  No stairs to climb!!Near By Shopping Centers! (fremont / union city / newark)"
       ]
      },
      {
       "output_type": "stream",
       "stream": "stdout",
       "text": [
        "\n",
        "4703798803\n",
        "$3000 / 3br - 1669ft\u00b2 - Modern home in an excellent location(3Bed/2.5bath in heart of Fremont) (fremont / union city / newark)"
       ]
      },
      {
       "output_type": "stream",
       "stream": "stdout",
       "text": [
        "\n",
        "4710383619\n",
        "$2259 / 2br - ***COME BY TODAY AND LET US SHOW YOU YOUR NEXT NEW HOME*** (fremont / union city / newark)"
       ]
      },
      {
       "output_type": "stream",
       "stream": "stdout",
       "text": [
        "\n",
        "4711371338\n",
        "$2392 / 2br - 900ft\u00b2 - Spacious, open, amazing floor plans!  (fremont / union city / newark)"
       ]
      },
      {
       "output_type": "stream",
       "stream": "stdout",
       "text": [
        "\n",
        "4705104059\n",
        "$3200 / 4br - 2100ft\u00b2 - 4BED/3BA NEW UNION CITY HOME. GRANITE,FIREPLACE,HARDWOOD,W/D,STAINLESS (fremont / union city / newark)"
       ]
      },
      {
       "output_type": "stream",
       "stream": "stdout",
       "text": [
        "\n",
        "4709103977\n",
        "$2379 / 1br - 877ft\u00b2 - Charming apartment homes w/spacious and open kitchen layout! (fremont / union city / newark)"
       ]
      },
      {
       "output_type": "stream",
       "stream": "stdout",
       "text": [
        "\n",
        "4705957794\n",
        "$3199 / 3br - 1500ft\u00b2 - Nice Single Family House close to Fremont BART (fremont / union city / newark)"
       ]
      },
      {
       "output_type": "stream",
       "stream": "stdout",
       "text": [
        "\n",
        "4704109258\n",
        "$1760 / 1br - AMAZING AMENITIES IN PARK-LIKE COMMUNITY (fremont / union city / newark)"
       ]
      },
      {
       "output_type": "stream",
       "stream": "stdout",
       "text": [
        "\n",
        "4707684994\n",
        "$3200 / 4br - 2000ft\u00b2 - Elegant, and Spacious 4 BR/2.5 BA Single Family House in Fremont (fremont / union city / newark)"
       ]
      },
      {
       "output_type": "stream",
       "stream": "stdout",
       "text": [
        "\n",
        "4709045007\n",
        "$1760 / 1br - AMAZING AMENITIES IN A PARK-LIKE COMMUNITY (fremont / union city / newark)"
       ]
      },
      {
       "output_type": "stream",
       "stream": "stdout",
       "text": [
        "\n",
        "4708195822\n",
        "$1717 / 1br - 565ft\u00b2 - Make Waterstone@Fremont Your Last Stop..A Pet Friendly Community (fremont / union city / newark)"
       ]
      },
      {
       "output_type": "stream",
       "stream": "stdout",
       "text": [
        "\n",
        "4693605784\n",
        "$2700 / 3br - 1700ft\u00b2 - 3 Bedroom with possible 4th bedroom, 2.5 Bath, 2 car garage, 2 Story (fremont / union city / newark)"
       ]
      },
      {
       "output_type": "stream",
       "stream": "stdout",
       "text": [
        "\n",
        "4707233387\n",
        "$2760 / 2br - 982ft\u00b2 - Spectacular apartment home centrally located in Fremont! (fremont / union city / newark)"
       ]
      },
      {
       "output_type": "stream",
       "stream": "stdout",
       "text": [
        "\n",
        "4696417639\n",
        "$2900 / 3br - 1472ft\u00b2 - Great 3 bed 2.5 bath townhome remodeled in Fremont  (fremont / union city / newark)"
       ]
      },
      {
       "output_type": "stream",
       "stream": "stdout",
       "text": [
        "\n",
        "4706543545\n",
        "$1775 / 2br - 900ft\u00b2 - nice 2 bed/2 car garage condo,  open Sunday 3:15-3:45 (fremont / union city / newark)"
       ]
      },
      {
       "output_type": "stream",
       "stream": "stdout",
       "text": [
        "\n",
        "4692849596\n",
        "$1895 / 2br - 803ft\u00b2 - FREE COMCAST CABLE w/ HBO (fremont / union city / newark)"
       ]
      },
      {
       "output_type": "stream",
       "stream": "stdout",
       "text": [
        "\n",
        "4704252659\n",
        "$1760 / 1br - RESORT LIVING IN A SERENE PARK SETTING  (fremont / union city / newark)"
       ]
      },
      {
       "output_type": "stream",
       "stream": "stdout",
       "text": [
        "\n",
        "4708339594\n",
        "$2062 / 1br - 704ft\u00b2 - 1st Floor 1X1 Available 10/14... Come in Today!!! (fremont / union city / newark)"
       ]
      },
      {
       "output_type": "stream",
       "stream": "stdout",
       "text": [
        "\n",
        "4703710995\n",
        "$1954 / 1br - 640ft\u00b2 - 1 bedroom w/ FULL size washer/dryer in unit*2nd floor unit*Avail NOW (fremont / union city / newark)"
       ]
      },
      {
       "output_type": "stream",
       "stream": "stdout",
       "text": [
        "\n",
        "4708582053\n",
        "$1845 / 1br - 700ft\u00b2 - Our lowest price! Beautiful one bedroom available now! (fremont / union city / newark)"
       ]
      },
      {
       "output_type": "stream",
       "stream": "stdout",
       "text": [
        "\n",
        "4701899854\n",
        "$2900 / 4br - 1544ft\u00b2 - Single-Family Home In Nice Neighborhood (fremont / union city / newark)"
       ]
      },
      {
       "output_type": "stream",
       "stream": "stdout",
       "text": [
        "\n",
        "4695475060\n",
        "$2999 / 4br - 1922ft\u00b2 - luxuary 4bed 2 bath union city $,2,999 first month  (fremont / union city / newark)"
       ]
      },
      {
       "output_type": "stream",
       "stream": "stdout",
       "text": [
        "\n",
        "4711638621\n",
        "$2573 / 2br - 1126ft\u00b2 - Your New Home Awaits You In This Renovated & Spacious 2BD/2BA (fremont / union city / newark)"
       ]
      },
      {
       "output_type": "stream",
       "stream": "stdout",
       "text": [
        "\n",
        "4690236057\n",
        "$2500 / 3br - 1550ft\u00b2 - Beautiful house, close to Dumbarton Bridge(Facebook), shopping center  (fremont / union city / newark)"
       ]
      },
      {
       "output_type": "stream",
       "stream": "stdout",
       "text": [
        "\n",
        "4709820227\n",
        "$2350 / 3br - 1408ft\u00b2 - Townhouse Style Condo / 3 Bedroom 3 Bath -Open House 10/4/14 (fremont / union city / newark)"
       ]
      },
      {
       "output_type": "stream",
       "stream": "stdout",
       "text": [
        "\n",
        "4705331899\n",
        "$1548 / 1br - 650ft\u00b2 - Welcome Home To Great Living.. (fremont / union city / newark)"
       ]
      },
      {
       "output_type": "stream",
       "stream": "stdout",
       "text": [
        "\n",
        "4711894505\n",
        "$2300 / 2br - 1200ft\u00b2 - HUGE 2Bed/2Bath Condo, 1200sq ft, Washer/Dryer, Central AC, REAL Garag (fremont / union city / newark)"
       ]
      },
      {
       "output_type": "stream",
       "stream": "stdout",
       "text": [
        "\n",
        "4705138981\n",
        "$2095 / 1br - 734ft\u00b2 - Come Home to Presidio Apartments (fremont / union city / newark)"
       ]
      },
      {
       "output_type": "stream",
       "stream": "stdout",
       "text": [
        "\n",
        "$2,095/mo\n",
        "4703771390\n",
        "$650 / 3br - a room for rent in fremont (fremont / union city / newark)"
       ]
      },
      {
       "output_type": "stream",
       "stream": "stdout",
       "text": [
        "\n",
        "4698234369\n",
        "$1950 / 2br - Great Fremont Location-Lower unit (fremont / union city / newark)"
       ]
      },
      {
       "output_type": "stream",
       "stream": "stdout",
       "text": [
        "\n",
        "$1,950/mo\n",
        "4702676259\n",
        "$1760 / 1br - DESIGNER INTERIORS, SPACIOUS FLOOR PLANS AND AMAZING AMENITIES (fremont / union city / newark)"
       ]
      },
      {
       "output_type": "stream",
       "stream": "stdout",
       "text": [
        "\n",
        "4709616390\n",
        "$3100 / 3br - 1500ft\u00b2 - OPEN HOUSE - Sat 2-4pm, Sun 11am-1pm - 3Bd/2Baths (fremont / union city / newark)"
       ]
      },
      {
       "output_type": "stream",
       "stream": "stdout",
       "text": [
        "\n",
        "$3,100/mo\n",
        "4711477837\n",
        "$1845 / 1br - Ready to move in call now for an appointment!!!! (fremont / union city / newark)"
       ]
      },
      {
       "output_type": "stream",
       "stream": "stdout",
       "text": [
        "\n",
        "4708387181\n",
        "$3200 / 4br - 1000ft\u00b2 - 4 Bed 1 Bath Large Lot House for Rent (fremont / union city / newark)"
       ]
      },
      {
       "output_type": "stream",
       "stream": "stdout",
       "text": [
        "\n",
        "4708271841\n",
        "$2730 / 3br - 1063ft\u00b2 - Best Community in Fremont! (fremont / union city / newark)"
       ]
      },
      {
       "output_type": "stream",
       "stream": "stdout",
       "text": [
        "\n",
        "4706139108\n",
        "$2950 / 3br - Newer home in Fremont's Ardenwood neighborhood (fremont / union city / newark)"
       ]
      },
      {
       "output_type": "stream",
       "stream": "stdout",
       "text": [
        "\n",
        "4710319342\n",
        "$2510 / 2br - 1120ft\u00b2 - Available Immediately! 2x2 with HUGE balcony and walk in closet! (fremont / union city / newark)"
       ]
      },
      {
       "output_type": "stream",
       "stream": "stdout",
       "text": [
        "\n",
        "4707463859\n",
        "$2295 / 2br - 1004ft\u00b2 - \u25d8\u2665EVERYONE IS WELCOME HOME HERE AT RANCHO LUNA/SOL \u25d8\u2665 (fremont / union city / newark)"
       ]
      },
      {
       "output_type": "stream",
       "stream": "stdout",
       "text": [
        "\n",
        "4707039134\n",
        "$2900 / 3br - 1472ft\u00b2 - 3 bed 2 .5 bath townhome remodeled in Fremont  (fremont / union city / newark)"
       ]
      },
      {
       "output_type": "stream",
       "stream": "stdout",
       "text": [
        "\n",
        "4704285477\n",
        "$2500 / 2br - 1315ft\u00b2 - Fairly new remodeled Single Family House  (fremont / union city / newark)"
       ]
      },
      {
       "output_type": "stream",
       "stream": "stdout",
       "text": [
        "\n",
        "4707416756\n",
        "$1795 / 1br - 527ft\u00b2 - \u263bBART RIDERS DREAM/CLOSE TO SHOPPING\u263b (fremont / union city / newark)"
       ]
      },
      {
       "output_type": "stream",
       "stream": "stdout",
       "text": [
        "\n",
        "4710176266\n",
        "$1595 / 545ft\u00b2 - Spacious Studio Apartment in Downtown Fremont move in ready 11/15/2014 (fremont / union city / newark)"
       ]
      },
      {
       "output_type": "stream",
       "stream": "stdout",
       "text": [
        "\n",
        "4709907522\n",
        "$2051 / 1br - 735ft\u00b2 - Amazing ground level unit with hardwood floors and HUGE patio!! (fremont / union city / newark)"
       ]
      },
      {
       "output_type": "stream",
       "stream": "stdout",
       "text": [
        "\n"
       ]
      }
     ],
     "prompt_number": 56
    },
    {
     "cell_type": "code",
     "collapsed": false,
     "input": [
      "final_content"
     ],
     "language": "python",
     "metadata": {},
     "outputs": [
      {
       "metadata": {},
       "output_type": "pyout",
       "prompt_number": 57,
       "text": [
        "[{'app': 1000,\n",
        "  'desc': u'$2051 / 1br - 735ft\\xb2 - Amazing ground level unit with hardwood floors and HUGE patio!! (fremont / union city / newark)',\n",
        "  'id': '4709907522',\n",
        "  'url': 'http://sfbay.craigslist.org/eby/apa/4709907522.html'},\n",
        " {'app': 1000,\n",
        "  'desc': u'$2051 / 1br - 735ft\\xb2 - Amazing ground level unit with hardwood floors and HUGE patio!! (fremont / union city / newark)',\n",
        "  'id': '4709907522',\n",
        "  'url': 'http://sfbay.craigslist.org/eby/apa/4709907522.html'},\n",
        " {'app': 1000,\n",
        "  'desc': u'$2051 / 1br - 735ft\\xb2 - Amazing ground level unit with hardwood floors and HUGE patio!! (fremont / union city / newark)',\n",
        "  'id': '4709907522',\n",
        "  'url': 'http://sfbay.craigslist.org/eby/apa/4709907522.html'},\n",
        " {'app': 1000,\n",
        "  'desc': u'$2051 / 1br - 735ft\\xb2 - Amazing ground level unit with hardwood floors and HUGE patio!! (fremont / union city / newark)',\n",
        "  'id': '4709907522',\n",
        "  'url': 'http://sfbay.craigslist.org/eby/apa/4709907522.html'},\n",
        " {'app': 1000,\n",
        "  'desc': u'$2051 / 1br - 735ft\\xb2 - Amazing ground level unit with hardwood floors and HUGE patio!! (fremont / union city / newark)',\n",
        "  'id': '4709907522',\n",
        "  'url': 'http://sfbay.craigslist.org/eby/apa/4709907522.html'},\n",
        " {'app': 1000,\n",
        "  'desc': u'$2051 / 1br - 735ft\\xb2 - Amazing ground level unit with hardwood floors and HUGE patio!! (fremont / union city / newark)',\n",
        "  'id': '4709907522',\n",
        "  'url': 'http://sfbay.craigslist.org/eby/apa/4709907522.html'},\n",
        " {'app': 1000,\n",
        "  'desc': u'$2051 / 1br - 735ft\\xb2 - Amazing ground level unit with hardwood floors and HUGE patio!! (fremont / union city / newark)',\n",
        "  'id': '4709907522',\n",
        "  'url': 'http://sfbay.craigslist.org/eby/apa/4709907522.html'},\n",
        " {'app': 1000,\n",
        "  'desc': u'$2051 / 1br - 735ft\\xb2 - Amazing ground level unit with hardwood floors and HUGE patio!! (fremont / union city / newark)',\n",
        "  'id': '4709907522',\n",
        "  'url': 'http://sfbay.craigslist.org/eby/apa/4709907522.html'},\n",
        " {'app': 1000,\n",
        "  'desc': u'$2051 / 1br - 735ft\\xb2 - Amazing ground level unit with hardwood floors and HUGE patio!! (fremont / union city / newark)',\n",
        "  'id': '4709907522',\n",
        "  'url': 'http://sfbay.craigslist.org/eby/apa/4709907522.html'},\n",
        " {'app': 1000,\n",
        "  'desc': u'$2051 / 1br - 735ft\\xb2 - Amazing ground level unit with hardwood floors and HUGE patio!! (fremont / union city / newark)',\n",
        "  'id': '4709907522',\n",
        "  'url': 'http://sfbay.craigslist.org/eby/apa/4709907522.html'},\n",
        " {'app': 1000,\n",
        "  'desc': u'$2051 / 1br - 735ft\\xb2 - Amazing ground level unit with hardwood floors and HUGE patio!! (fremont / union city / newark)',\n",
        "  'id': '4709907522',\n",
        "  'url': 'http://sfbay.craigslist.org/eby/apa/4709907522.html'},\n",
        " {'app': 1000,\n",
        "  'desc': u'$2051 / 1br - 735ft\\xb2 - Amazing ground level unit with hardwood floors and HUGE patio!! (fremont / union city / newark)',\n",
        "  'id': '4709907522',\n",
        "  'url': 'http://sfbay.craigslist.org/eby/apa/4709907522.html'},\n",
        " {'app': 1000,\n",
        "  'desc': u'$2051 / 1br - 735ft\\xb2 - Amazing ground level unit with hardwood floors and HUGE patio!! (fremont / union city / newark)',\n",
        "  'id': '4709907522',\n",
        "  'url': 'http://sfbay.craigslist.org/eby/apa/4709907522.html'},\n",
        " {'app': 1000,\n",
        "  'desc': u'$2051 / 1br - 735ft\\xb2 - Amazing ground level unit with hardwood floors and HUGE patio!! (fremont / union city / newark)',\n",
        "  'id': '4709907522',\n",
        "  'url': 'http://sfbay.craigslist.org/eby/apa/4709907522.html'},\n",
        " {'app': 1000,\n",
        "  'desc': u'$2051 / 1br - 735ft\\xb2 - Amazing ground level unit with hardwood floors and HUGE patio!! (fremont / union city / newark)',\n",
        "  'id': '4709907522',\n",
        "  'url': 'http://sfbay.craigslist.org/eby/apa/4709907522.html'},\n",
        " {'app': 1000,\n",
        "  'desc': u'$2051 / 1br - 735ft\\xb2 - Amazing ground level unit with hardwood floors and HUGE patio!! (fremont / union city / newark)',\n",
        "  'id': '4709907522',\n",
        "  'url': 'http://sfbay.craigslist.org/eby/apa/4709907522.html'},\n",
        " {'app': 1000,\n",
        "  'desc': u'$2051 / 1br - 735ft\\xb2 - Amazing ground level unit with hardwood floors and HUGE patio!! (fremont / union city / newark)',\n",
        "  'id': '4709907522',\n",
        "  'url': 'http://sfbay.craigslist.org/eby/apa/4709907522.html'},\n",
        " {'app': 1000,\n",
        "  'desc': u'$2051 / 1br - 735ft\\xb2 - Amazing ground level unit with hardwood floors and HUGE patio!! (fremont / union city / newark)',\n",
        "  'id': '4709907522',\n",
        "  'url': 'http://sfbay.craigslist.org/eby/apa/4709907522.html'},\n",
        " {'app': 1000,\n",
        "  'desc': u'$2051 / 1br - 735ft\\xb2 - Amazing ground level unit with hardwood floors and HUGE patio!! (fremont / union city / newark)',\n",
        "  'id': '4709907522',\n",
        "  'url': 'http://sfbay.craigslist.org/eby/apa/4709907522.html'},\n",
        " {'app': 1000,\n",
        "  'desc': u'$2051 / 1br - 735ft\\xb2 - Amazing ground level unit with hardwood floors and HUGE patio!! (fremont / union city / newark)',\n",
        "  'id': '4709907522',\n",
        "  'url': 'http://sfbay.craigslist.org/eby/apa/4709907522.html'},\n",
        " {'app': 1000,\n",
        "  'desc': u'$2051 / 1br - 735ft\\xb2 - Amazing ground level unit with hardwood floors and HUGE patio!! (fremont / union city / newark)',\n",
        "  'id': '4709907522',\n",
        "  'url': 'http://sfbay.craigslist.org/eby/apa/4709907522.html'},\n",
        " {'app': 1000,\n",
        "  'desc': u'$2051 / 1br - 735ft\\xb2 - Amazing ground level unit with hardwood floors and HUGE patio!! (fremont / union city / newark)',\n",
        "  'id': '4709907522',\n",
        "  'url': 'http://sfbay.craigslist.org/eby/apa/4709907522.html'},\n",
        " {'app': 1000,\n",
        "  'desc': u'$2051 / 1br - 735ft\\xb2 - Amazing ground level unit with hardwood floors and HUGE patio!! (fremont / union city / newark)',\n",
        "  'id': '4709907522',\n",
        "  'url': 'http://sfbay.craigslist.org/eby/apa/4709907522.html'},\n",
        " {'app': 1000,\n",
        "  'desc': u'$2051 / 1br - 735ft\\xb2 - Amazing ground level unit with hardwood floors and HUGE patio!! (fremont / union city / newark)',\n",
        "  'id': '4709907522',\n",
        "  'url': 'http://sfbay.craigslist.org/eby/apa/4709907522.html'},\n",
        " {'app': 1000,\n",
        "  'desc': u'$2051 / 1br - 735ft\\xb2 - Amazing ground level unit with hardwood floors and HUGE patio!! (fremont / union city / newark)',\n",
        "  'id': '4709907522',\n",
        "  'url': 'http://sfbay.craigslist.org/eby/apa/4709907522.html'},\n",
        " {'app': 1000,\n",
        "  'desc': u'$2051 / 1br - 735ft\\xb2 - Amazing ground level unit with hardwood floors and HUGE patio!! (fremont / union city / newark)',\n",
        "  'id': '4709907522',\n",
        "  'url': 'http://sfbay.craigslist.org/eby/apa/4709907522.html'},\n",
        " {'app': 1000,\n",
        "  'desc': u'$2051 / 1br - 735ft\\xb2 - Amazing ground level unit with hardwood floors and HUGE patio!! (fremont / union city / newark)',\n",
        "  'id': '4709907522',\n",
        "  'url': 'http://sfbay.craigslist.org/eby/apa/4709907522.html'},\n",
        " {'app': 1000,\n",
        "  'desc': u'$2051 / 1br - 735ft\\xb2 - Amazing ground level unit with hardwood floors and HUGE patio!! (fremont / union city / newark)',\n",
        "  'id': '4709907522',\n",
        "  'url': 'http://sfbay.craigslist.org/eby/apa/4709907522.html'},\n",
        " {'app': 1000,\n",
        "  'desc': u'$2051 / 1br - 735ft\\xb2 - Amazing ground level unit with hardwood floors and HUGE patio!! (fremont / union city / newark)',\n",
        "  'id': '4709907522',\n",
        "  'url': 'http://sfbay.craigslist.org/eby/apa/4709907522.html'},\n",
        " {'app': 1000,\n",
        "  'desc': u'$2051 / 1br - 735ft\\xb2 - Amazing ground level unit with hardwood floors and HUGE patio!! (fremont / union city / newark)',\n",
        "  'id': '4709907522',\n",
        "  'url': 'http://sfbay.craigslist.org/eby/apa/4709907522.html'},\n",
        " {'app': 1000,\n",
        "  'desc': u'$2051 / 1br - 735ft\\xb2 - Amazing ground level unit with hardwood floors and HUGE patio!! (fremont / union city / newark)',\n",
        "  'id': '4709907522',\n",
        "  'url': 'http://sfbay.craigslist.org/eby/apa/4709907522.html'},\n",
        " {'app': 1000,\n",
        "  'desc': u'$2051 / 1br - 735ft\\xb2 - Amazing ground level unit with hardwood floors and HUGE patio!! (fremont / union city / newark)',\n",
        "  'id': '4709907522',\n",
        "  'url': 'http://sfbay.craigslist.org/eby/apa/4709907522.html'},\n",
        " {'app': 1000,\n",
        "  'desc': u'$2051 / 1br - 735ft\\xb2 - Amazing ground level unit with hardwood floors and HUGE patio!! (fremont / union city / newark)',\n",
        "  'id': '4709907522',\n",
        "  'url': 'http://sfbay.craigslist.org/eby/apa/4709907522.html'},\n",
        " {'app': 1000,\n",
        "  'desc': u'$2051 / 1br - 735ft\\xb2 - Amazing ground level unit with hardwood floors and HUGE patio!! (fremont / union city / newark)',\n",
        "  'id': '4709907522',\n",
        "  'url': 'http://sfbay.craigslist.org/eby/apa/4709907522.html'},\n",
        " {'app': 1000,\n",
        "  'desc': u'$2051 / 1br - 735ft\\xb2 - Amazing ground level unit with hardwood floors and HUGE patio!! (fremont / union city / newark)',\n",
        "  'id': '4709907522',\n",
        "  'url': 'http://sfbay.craigslist.org/eby/apa/4709907522.html'},\n",
        " {'app': 1000,\n",
        "  'desc': u'$2051 / 1br - 735ft\\xb2 - Amazing ground level unit with hardwood floors and HUGE patio!! (fremont / union city / newark)',\n",
        "  'id': '4709907522',\n",
        "  'url': 'http://sfbay.craigslist.org/eby/apa/4709907522.html'},\n",
        " {'app': 1000,\n",
        "  'desc': u'$2051 / 1br - 735ft\\xb2 - Amazing ground level unit with hardwood floors and HUGE patio!! (fremont / union city / newark)',\n",
        "  'id': '4709907522',\n",
        "  'url': 'http://sfbay.craigslist.org/eby/apa/4709907522.html'},\n",
        " {'app': 1000,\n",
        "  'desc': u'$2051 / 1br - 735ft\\xb2 - Amazing ground level unit with hardwood floors and HUGE patio!! (fremont / union city / newark)',\n",
        "  'id': '4709907522',\n",
        "  'url': 'http://sfbay.craigslist.org/eby/apa/4709907522.html'},\n",
        " {'app': 1000,\n",
        "  'desc': u'$2051 / 1br - 735ft\\xb2 - Amazing ground level unit with hardwood floors and HUGE patio!! (fremont / union city / newark)',\n",
        "  'id': '4709907522',\n",
        "  'url': 'http://sfbay.craigslist.org/eby/apa/4709907522.html'},\n",
        " {'app': 1000,\n",
        "  'desc': u'$2051 / 1br - 735ft\\xb2 - Amazing ground level unit with hardwood floors and HUGE patio!! (fremont / union city / newark)',\n",
        "  'id': '4709907522',\n",
        "  'url': 'http://sfbay.craigslist.org/eby/apa/4709907522.html'},\n",
        " {'app': 1000,\n",
        "  'desc': u'$2051 / 1br - 735ft\\xb2 - Amazing ground level unit with hardwood floors and HUGE patio!! (fremont / union city / newark)',\n",
        "  'id': '4709907522',\n",
        "  'url': 'http://sfbay.craigslist.org/eby/apa/4709907522.html'},\n",
        " {'app': 1000,\n",
        "  'desc': u'$2051 / 1br - 735ft\\xb2 - Amazing ground level unit with hardwood floors and HUGE patio!! (fremont / union city / newark)',\n",
        "  'id': '4709907522',\n",
        "  'url': 'http://sfbay.craigslist.org/eby/apa/4709907522.html'},\n",
        " {'app': 1000,\n",
        "  'desc': u'$2051 / 1br - 735ft\\xb2 - Amazing ground level unit with hardwood floors and HUGE patio!! (fremont / union city / newark)',\n",
        "  'id': '4709907522',\n",
        "  'url': 'http://sfbay.craigslist.org/eby/apa/4709907522.html'},\n",
        " {'app': 1000,\n",
        "  'desc': u'$2051 / 1br - 735ft\\xb2 - Amazing ground level unit with hardwood floors and HUGE patio!! (fremont / union city / newark)',\n",
        "  'id': '4709907522',\n",
        "  'url': 'http://sfbay.craigslist.org/eby/apa/4709907522.html'},\n",
        " {'app': 1000,\n",
        "  'desc': u'$2051 / 1br - 735ft\\xb2 - Amazing ground level unit with hardwood floors and HUGE patio!! (fremont / union city / newark)',\n",
        "  'id': '4709907522',\n",
        "  'url': 'http://sfbay.craigslist.org/eby/apa/4709907522.html'},\n",
        " {'app': 1000,\n",
        "  'desc': u'$2051 / 1br - 735ft\\xb2 - Amazing ground level unit with hardwood floors and HUGE patio!! (fremont / union city / newark)',\n",
        "  'id': '4709907522',\n",
        "  'url': 'http://sfbay.craigslist.org/eby/apa/4709907522.html'},\n",
        " {'app': 1000,\n",
        "  'desc': u'$2051 / 1br - 735ft\\xb2 - Amazing ground level unit with hardwood floors and HUGE patio!! (fremont / union city / newark)',\n",
        "  'id': '4709907522',\n",
        "  'url': 'http://sfbay.craigslist.org/eby/apa/4709907522.html'},\n",
        " {'app': 1000,\n",
        "  'desc': u'$2051 / 1br - 735ft\\xb2 - Amazing ground level unit with hardwood floors and HUGE patio!! (fremont / union city / newark)',\n",
        "  'id': '4709907522',\n",
        "  'url': 'http://sfbay.craigslist.org/eby/apa/4709907522.html'},\n",
        " {'app': 1000,\n",
        "  'desc': u'$2051 / 1br - 735ft\\xb2 - Amazing ground level unit with hardwood floors and HUGE patio!! (fremont / union city / newark)',\n",
        "  'id': '4709907522',\n",
        "  'url': 'http://sfbay.craigslist.org/eby/apa/4709907522.html'},\n",
        " {'app': 1000,\n",
        "  'desc': u'$2051 / 1br - 735ft\\xb2 - Amazing ground level unit with hardwood floors and HUGE patio!! (fremont / union city / newark)',\n",
        "  'id': '4709907522',\n",
        "  'url': 'http://sfbay.craigslist.org/eby/apa/4709907522.html'},\n",
        " {'app': 1000,\n",
        "  'desc': u'$2051 / 1br - 735ft\\xb2 - Amazing ground level unit with hardwood floors and HUGE patio!! (fremont / union city / newark)',\n",
        "  'id': '4709907522',\n",
        "  'url': 'http://sfbay.craigslist.org/eby/apa/4709907522.html'},\n",
        " {'app': 1000,\n",
        "  'desc': u'$2051 / 1br - 735ft\\xb2 - Amazing ground level unit with hardwood floors and HUGE patio!! (fremont / union city / newark)',\n",
        "  'id': '4709907522',\n",
        "  'url': 'http://sfbay.craigslist.org/eby/apa/4709907522.html'},\n",
        " {'app': 1000,\n",
        "  'desc': u'$2051 / 1br - 735ft\\xb2 - Amazing ground level unit with hardwood floors and HUGE patio!! (fremont / union city / newark)',\n",
        "  'id': '4709907522',\n",
        "  'url': 'http://sfbay.craigslist.org/eby/apa/4709907522.html'},\n",
        " {'app': 1000,\n",
        "  'desc': u'$2051 / 1br - 735ft\\xb2 - Amazing ground level unit with hardwood floors and HUGE patio!! (fremont / union city / newark)',\n",
        "  'id': '4709907522',\n",
        "  'url': 'http://sfbay.craigslist.org/eby/apa/4709907522.html'},\n",
        " {'app': 1000,\n",
        "  'desc': u'$2051 / 1br - 735ft\\xb2 - Amazing ground level unit with hardwood floors and HUGE patio!! (fremont / union city / newark)',\n",
        "  'id': '4709907522',\n",
        "  'url': 'http://sfbay.craigslist.org/eby/apa/4709907522.html'},\n",
        " {'app': 1000,\n",
        "  'desc': u'$2051 / 1br - 735ft\\xb2 - Amazing ground level unit with hardwood floors and HUGE patio!! (fremont / union city / newark)',\n",
        "  'id': '4709907522',\n",
        "  'url': 'http://sfbay.craigslist.org/eby/apa/4709907522.html'},\n",
        " {'app': 1000,\n",
        "  'desc': u'$2051 / 1br - 735ft\\xb2 - Amazing ground level unit with hardwood floors and HUGE patio!! (fremont / union city / newark)',\n",
        "  'id': '4709907522',\n",
        "  'url': 'http://sfbay.craigslist.org/eby/apa/4709907522.html'},\n",
        " {'app': 1000,\n",
        "  'desc': u'$2051 / 1br - 735ft\\xb2 - Amazing ground level unit with hardwood floors and HUGE patio!! (fremont / union city / newark)',\n",
        "  'id': '4709907522',\n",
        "  'url': 'http://sfbay.craigslist.org/eby/apa/4709907522.html'},\n",
        " {'app': 1000,\n",
        "  'desc': u'$2051 / 1br - 735ft\\xb2 - Amazing ground level unit with hardwood floors and HUGE patio!! (fremont / union city / newark)',\n",
        "  'id': '4709907522',\n",
        "  'url': 'http://sfbay.craigslist.org/eby/apa/4709907522.html'},\n",
        " {'app': 1000,\n",
        "  'desc': u'$2051 / 1br - 735ft\\xb2 - Amazing ground level unit with hardwood floors and HUGE patio!! (fremont / union city / newark)',\n",
        "  'id': '4709907522',\n",
        "  'url': 'http://sfbay.craigslist.org/eby/apa/4709907522.html'},\n",
        " {'app': 1000,\n",
        "  'desc': u'$2051 / 1br - 735ft\\xb2 - Amazing ground level unit with hardwood floors and HUGE patio!! (fremont / union city / newark)',\n",
        "  'id': '4709907522',\n",
        "  'url': 'http://sfbay.craigslist.org/eby/apa/4709907522.html'},\n",
        " {'app': 1000,\n",
        "  'desc': u'$2051 / 1br - 735ft\\xb2 - Amazing ground level unit with hardwood floors and HUGE patio!! (fremont / union city / newark)',\n",
        "  'id': '4709907522',\n",
        "  'url': 'http://sfbay.craigslist.org/eby/apa/4709907522.html'},\n",
        " {'app': 1000,\n",
        "  'desc': u'$2051 / 1br - 735ft\\xb2 - Amazing ground level unit with hardwood floors and HUGE patio!! (fremont / union city / newark)',\n",
        "  'id': '4709907522',\n",
        "  'url': 'http://sfbay.craigslist.org/eby/apa/4709907522.html'},\n",
        " {'app': 1000,\n",
        "  'desc': u'$2051 / 1br - 735ft\\xb2 - Amazing ground level unit with hardwood floors and HUGE patio!! (fremont / union city / newark)',\n",
        "  'id': '4709907522',\n",
        "  'url': 'http://sfbay.craigslist.org/eby/apa/4709907522.html'},\n",
        " {'app': 1000,\n",
        "  'desc': u'$2051 / 1br - 735ft\\xb2 - Amazing ground level unit with hardwood floors and HUGE patio!! (fremont / union city / newark)',\n",
        "  'id': '4709907522',\n",
        "  'url': 'http://sfbay.craigslist.org/eby/apa/4709907522.html'},\n",
        " {'app': 1000,\n",
        "  'desc': u'$2051 / 1br - 735ft\\xb2 - Amazing ground level unit with hardwood floors and HUGE patio!! (fremont / union city / newark)',\n",
        "  'id': '4709907522',\n",
        "  'url': 'http://sfbay.craigslist.org/eby/apa/4709907522.html'},\n",
        " {'app': 1000,\n",
        "  'desc': u'$2051 / 1br - 735ft\\xb2 - Amazing ground level unit with hardwood floors and HUGE patio!! (fremont / union city / newark)',\n",
        "  'id': '4709907522',\n",
        "  'url': 'http://sfbay.craigslist.org/eby/apa/4709907522.html'},\n",
        " {'app': 1000,\n",
        "  'desc': u'$2051 / 1br - 735ft\\xb2 - Amazing ground level unit with hardwood floors and HUGE patio!! (fremont / union city / newark)',\n",
        "  'id': '4709907522',\n",
        "  'url': 'http://sfbay.craigslist.org/eby/apa/4709907522.html'},\n",
        " {'app': 1000,\n",
        "  'desc': u'$2051 / 1br - 735ft\\xb2 - Amazing ground level unit with hardwood floors and HUGE patio!! (fremont / union city / newark)',\n",
        "  'id': '4709907522',\n",
        "  'url': 'http://sfbay.craigslist.org/eby/apa/4709907522.html'},\n",
        " {'app': 1000,\n",
        "  'desc': u'$2051 / 1br - 735ft\\xb2 - Amazing ground level unit with hardwood floors and HUGE patio!! (fremont / union city / newark)',\n",
        "  'id': '4709907522',\n",
        "  'url': 'http://sfbay.craigslist.org/eby/apa/4709907522.html'},\n",
        " {'app': 1000,\n",
        "  'desc': u'$2051 / 1br - 735ft\\xb2 - Amazing ground level unit with hardwood floors and HUGE patio!! (fremont / union city / newark)',\n",
        "  'id': '4709907522',\n",
        "  'url': 'http://sfbay.craigslist.org/eby/apa/4709907522.html'},\n",
        " {'app': 1000,\n",
        "  'desc': u'$2051 / 1br - 735ft\\xb2 - Amazing ground level unit with hardwood floors and HUGE patio!! (fremont / union city / newark)',\n",
        "  'id': '4709907522',\n",
        "  'url': 'http://sfbay.craigslist.org/eby/apa/4709907522.html'},\n",
        " {'app': 1000,\n",
        "  'desc': u'$2051 / 1br - 735ft\\xb2 - Amazing ground level unit with hardwood floors and HUGE patio!! (fremont / union city / newark)',\n",
        "  'id': '4709907522',\n",
        "  'url': 'http://sfbay.craigslist.org/eby/apa/4709907522.html'},\n",
        " {'app': 1000,\n",
        "  'desc': u'$2051 / 1br - 735ft\\xb2 - Amazing ground level unit with hardwood floors and HUGE patio!! (fremont / union city / newark)',\n",
        "  'id': '4709907522',\n",
        "  'url': 'http://sfbay.craigslist.org/eby/apa/4709907522.html'},\n",
        " {'app': 1000,\n",
        "  'desc': u'$2051 / 1br - 735ft\\xb2 - Amazing ground level unit with hardwood floors and HUGE patio!! (fremont / union city / newark)',\n",
        "  'id': '4709907522',\n",
        "  'url': 'http://sfbay.craigslist.org/eby/apa/4709907522.html'},\n",
        " {'app': 1000,\n",
        "  'desc': u'$2051 / 1br - 735ft\\xb2 - Amazing ground level unit with hardwood floors and HUGE patio!! (fremont / union city / newark)',\n",
        "  'id': '4709907522',\n",
        "  'url': 'http://sfbay.craigslist.org/eby/apa/4709907522.html'},\n",
        " {'app': 1000,\n",
        "  'desc': u'$2051 / 1br - 735ft\\xb2 - Amazing ground level unit with hardwood floors and HUGE patio!! (fremont / union city / newark)',\n",
        "  'id': '4709907522',\n",
        "  'url': 'http://sfbay.craigslist.org/eby/apa/4709907522.html'},\n",
        " {'app': 1000,\n",
        "  'desc': u'$2051 / 1br - 735ft\\xb2 - Amazing ground level unit with hardwood floors and HUGE patio!! (fremont / union city / newark)',\n",
        "  'id': '4709907522',\n",
        "  'url': 'http://sfbay.craigslist.org/eby/apa/4709907522.html'},\n",
        " {'app': 1000,\n",
        "  'desc': u'$2051 / 1br - 735ft\\xb2 - Amazing ground level unit with hardwood floors and HUGE patio!! (fremont / union city / newark)',\n",
        "  'id': '4709907522',\n",
        "  'url': 'http://sfbay.craigslist.org/eby/apa/4709907522.html'},\n",
        " {'app': 1000,\n",
        "  'desc': u'$2051 / 1br - 735ft\\xb2 - Amazing ground level unit with hardwood floors and HUGE patio!! (fremont / union city / newark)',\n",
        "  'id': '4709907522',\n",
        "  'url': 'http://sfbay.craigslist.org/eby/apa/4709907522.html'},\n",
        " {'app': 1000,\n",
        "  'desc': u'$2051 / 1br - 735ft\\xb2 - Amazing ground level unit with hardwood floors and HUGE patio!! (fremont / union city / newark)',\n",
        "  'id': '4709907522',\n",
        "  'url': 'http://sfbay.craigslist.org/eby/apa/4709907522.html'},\n",
        " {'app': 1000,\n",
        "  'desc': u'$2051 / 1br - 735ft\\xb2 - Amazing ground level unit with hardwood floors and HUGE patio!! (fremont / union city / newark)',\n",
        "  'id': '4709907522',\n",
        "  'url': 'http://sfbay.craigslist.org/eby/apa/4709907522.html'},\n",
        " {'app': 1000,\n",
        "  'desc': u'$2051 / 1br - 735ft\\xb2 - Amazing ground level unit with hardwood floors and HUGE patio!! (fremont / union city / newark)',\n",
        "  'id': '4709907522',\n",
        "  'url': 'http://sfbay.craigslist.org/eby/apa/4709907522.html'},\n",
        " {'app': 1000,\n",
        "  'desc': u'$2051 / 1br - 735ft\\xb2 - Amazing ground level unit with hardwood floors and HUGE patio!! (fremont / union city / newark)',\n",
        "  'id': '4709907522',\n",
        "  'url': 'http://sfbay.craigslist.org/eby/apa/4709907522.html'},\n",
        " {'app': 1000,\n",
        "  'desc': u'$2051 / 1br - 735ft\\xb2 - Amazing ground level unit with hardwood floors and HUGE patio!! (fremont / union city / newark)',\n",
        "  'id': '4709907522',\n",
        "  'url': 'http://sfbay.craigslist.org/eby/apa/4709907522.html'},\n",
        " {'app': 1000,\n",
        "  'desc': u'$2051 / 1br - 735ft\\xb2 - Amazing ground level unit with hardwood floors and HUGE patio!! (fremont / union city / newark)',\n",
        "  'id': '4709907522',\n",
        "  'url': 'http://sfbay.craigslist.org/eby/apa/4709907522.html'},\n",
        " {'app': 1000,\n",
        "  'desc': u'$2051 / 1br - 735ft\\xb2 - Amazing ground level unit with hardwood floors and HUGE patio!! (fremont / union city / newark)',\n",
        "  'id': '4709907522',\n",
        "  'url': 'http://sfbay.craigslist.org/eby/apa/4709907522.html'},\n",
        " {'app': 1000,\n",
        "  'desc': u'$2051 / 1br - 735ft\\xb2 - Amazing ground level unit with hardwood floors and HUGE patio!! (fremont / union city / newark)',\n",
        "  'id': '4709907522',\n",
        "  'url': 'http://sfbay.craigslist.org/eby/apa/4709907522.html'},\n",
        " {'app': 1000,\n",
        "  'desc': u'$2051 / 1br - 735ft\\xb2 - Amazing ground level unit with hardwood floors and HUGE patio!! (fremont / union city / newark)',\n",
        "  'id': '4709907522',\n",
        "  'url': 'http://sfbay.craigslist.org/eby/apa/4709907522.html'},\n",
        " {'app': 1000,\n",
        "  'desc': u'$2051 / 1br - 735ft\\xb2 - Amazing ground level unit with hardwood floors and HUGE patio!! (fremont / union city / newark)',\n",
        "  'id': '4709907522',\n",
        "  'url': 'http://sfbay.craigslist.org/eby/apa/4709907522.html'},\n",
        " {'app': 1000,\n",
        "  'desc': u'$2051 / 1br - 735ft\\xb2 - Amazing ground level unit with hardwood floors and HUGE patio!! (fremont / union city / newark)',\n",
        "  'id': '4709907522',\n",
        "  'url': 'http://sfbay.craigslist.org/eby/apa/4709907522.html'},\n",
        " {'app': 1000,\n",
        "  'desc': u'$2051 / 1br - 735ft\\xb2 - Amazing ground level unit with hardwood floors and HUGE patio!! (fremont / union city / newark)',\n",
        "  'id': '4709907522',\n",
        "  'url': 'http://sfbay.craigslist.org/eby/apa/4709907522.html'},\n",
        " {'app': 1000,\n",
        "  'desc': u'$2051 / 1br - 735ft\\xb2 - Amazing ground level unit with hardwood floors and HUGE patio!! (fremont / union city / newark)',\n",
        "  'id': '4709907522',\n",
        "  'url': 'http://sfbay.craigslist.org/eby/apa/4709907522.html'},\n",
        " {'app': 1000,\n",
        "  'desc': u'$2051 / 1br - 735ft\\xb2 - Amazing ground level unit with hardwood floors and HUGE patio!! (fremont / union city / newark)',\n",
        "  'id': '4709907522',\n",
        "  'url': 'http://sfbay.craigslist.org/eby/apa/4709907522.html'},\n",
        " {'app': 1000,\n",
        "  'desc': u'$2051 / 1br - 735ft\\xb2 - Amazing ground level unit with hardwood floors and HUGE patio!! (fremont / union city / newark)',\n",
        "  'id': '4709907522',\n",
        "  'url': 'http://sfbay.craigslist.org/eby/apa/4709907522.html'},\n",
        " {'app': 1000,\n",
        "  'desc': u'$2051 / 1br - 735ft\\xb2 - Amazing ground level unit with hardwood floors and HUGE patio!! (fremont / union city / newark)',\n",
        "  'id': '4709907522',\n",
        "  'url': 'http://sfbay.craigslist.org/eby/apa/4709907522.html'},\n",
        " {'app': 1000,\n",
        "  'desc': u'$2051 / 1br - 735ft\\xb2 - Amazing ground level unit with hardwood floors and HUGE patio!! (fremont / union city / newark)',\n",
        "  'id': '4709907522',\n",
        "  'url': 'http://sfbay.craigslist.org/eby/apa/4709907522.html'},\n",
        " {'app': 1000,\n",
        "  'desc': u'$2051 / 1br - 735ft\\xb2 - Amazing ground level unit with hardwood floors and HUGE patio!! (fremont / union city / newark)',\n",
        "  'id': '4709907522',\n",
        "  'url': 'http://sfbay.craigslist.org/eby/apa/4709907522.html'},\n",
        " {'app': 1000,\n",
        "  'desc': u'$2051 / 1br - 735ft\\xb2 - Amazing ground level unit with hardwood floors and HUGE patio!! (fremont / union city / newark)',\n",
        "  'id': '4709907522',\n",
        "  'url': 'http://sfbay.craigslist.org/eby/apa/4709907522.html'},\n",
        " {'app': 1000,\n",
        "  'desc': u'$2051 / 1br - 735ft\\xb2 - Amazing ground level unit with hardwood floors and HUGE patio!! (fremont / union city / newark)',\n",
        "  'id': '4709907522',\n",
        "  'url': 'http://sfbay.craigslist.org/eby/apa/4709907522.html'},\n",
        " {'app': 1000,\n",
        "  'desc': u'$2051 / 1br - 735ft\\xb2 - Amazing ground level unit with hardwood floors and HUGE patio!! (fremont / union city / newark)',\n",
        "  'id': '4709907522',\n",
        "  'url': 'http://sfbay.craigslist.org/eby/apa/4709907522.html'},\n",
        " {'app': 1000,\n",
        "  'desc': u'$2051 / 1br - 735ft\\xb2 - Amazing ground level unit with hardwood floors and HUGE patio!! (fremont / union city / newark)',\n",
        "  'id': '4709907522',\n",
        "  'url': 'http://sfbay.craigslist.org/eby/apa/4709907522.html'},\n",
        " {'app': 1000,\n",
        "  'desc': u'$2051 / 1br - 735ft\\xb2 - Amazing ground level unit with hardwood floors and HUGE patio!! (fremont / union city / newark)',\n",
        "  'id': '4709907522',\n",
        "  'url': 'http://sfbay.craigslist.org/eby/apa/4709907522.html'},\n",
        " {'app': 1000,\n",
        "  'desc': u'$2051 / 1br - 735ft\\xb2 - Amazing ground level unit with hardwood floors and HUGE patio!! (fremont / union city / newark)',\n",
        "  'id': '4709907522',\n",
        "  'url': 'http://sfbay.craigslist.org/eby/apa/4709907522.html'},\n",
        " {'app': 1000,\n",
        "  'desc': u'$2051 / 1br - 735ft\\xb2 - Amazing ground level unit with hardwood floors and HUGE patio!! (fremont / union city / newark)',\n",
        "  'id': '4709907522',\n",
        "  'url': 'http://sfbay.craigslist.org/eby/apa/4709907522.html'},\n",
        " {'app': 1000,\n",
        "  'desc': u'$2051 / 1br - 735ft\\xb2 - Amazing ground level unit with hardwood floors and HUGE patio!! (fremont / union city / newark)',\n",
        "  'id': '4709907522',\n",
        "  'url': 'http://sfbay.craigslist.org/eby/apa/4709907522.html'},\n",
        " {'app': 1000,\n",
        "  'desc': u'$2051 / 1br - 735ft\\xb2 - Amazing ground level unit with hardwood floors and HUGE patio!! (fremont / union city / newark)',\n",
        "  'id': '4709907522',\n",
        "  'url': 'http://sfbay.craigslist.org/eby/apa/4709907522.html'},\n",
        " {'app': 1000,\n",
        "  'desc': u'$2051 / 1br - 735ft\\xb2 - Amazing ground level unit with hardwood floors and HUGE patio!! (fremont / union city / newark)',\n",
        "  'id': '4709907522',\n",
        "  'url': 'http://sfbay.craigslist.org/eby/apa/4709907522.html'},\n",
        " {'app': 1000,\n",
        "  'desc': u'$2051 / 1br - 735ft\\xb2 - Amazing ground level unit with hardwood floors and HUGE patio!! (fremont / union city / newark)',\n",
        "  'id': '4709907522',\n",
        "  'url': 'http://sfbay.craigslist.org/eby/apa/4709907522.html'},\n",
        " {'app': 1000,\n",
        "  'desc': u'$2051 / 1br - 735ft\\xb2 - Amazing ground level unit with hardwood floors and HUGE patio!! (fremont / union city / newark)',\n",
        "  'id': '4709907522',\n",
        "  'url': 'http://sfbay.craigslist.org/eby/apa/4709907522.html'},\n",
        " {'app': 1000,\n",
        "  'desc': u'$2051 / 1br - 735ft\\xb2 - Amazing ground level unit with hardwood floors and HUGE patio!! (fremont / union city / newark)',\n",
        "  'id': '4709907522',\n",
        "  'url': 'http://sfbay.craigslist.org/eby/apa/4709907522.html'},\n",
        " {'app': 1000,\n",
        "  'desc': u'$2051 / 1br - 735ft\\xb2 - Amazing ground level unit with hardwood floors and HUGE patio!! (fremont / union city / newark)',\n",
        "  'id': '4709907522',\n",
        "  'url': 'http://sfbay.craigslist.org/eby/apa/4709907522.html'},\n",
        " {'app': 1000,\n",
        "  'desc': u'$2051 / 1br - 735ft\\xb2 - Amazing ground level unit with hardwood floors and HUGE patio!! (fremont / union city / newark)',\n",
        "  'id': '4709907522',\n",
        "  'url': 'http://sfbay.craigslist.org/eby/apa/4709907522.html'},\n",
        " {'app': 1000,\n",
        "  'desc': u'$2051 / 1br - 735ft\\xb2 - Amazing ground level unit with hardwood floors and HUGE patio!! (fremont / union city / newark)',\n",
        "  'id': '4709907522',\n",
        "  'url': 'http://sfbay.craigslist.org/eby/apa/4709907522.html'},\n",
        " {'app': 1000,\n",
        "  'desc': u'$2051 / 1br - 735ft\\xb2 - Amazing ground level unit with hardwood floors and HUGE patio!! (fremont / union city / newark)',\n",
        "  'id': '4709907522',\n",
        "  'url': 'http://sfbay.craigslist.org/eby/apa/4709907522.html'},\n",
        " {'app': 1000,\n",
        "  'desc': u'$2051 / 1br - 735ft\\xb2 - Amazing ground level unit with hardwood floors and HUGE patio!! (fremont / union city / newark)',\n",
        "  'id': '4709907522',\n",
        "  'url': 'http://sfbay.craigslist.org/eby/apa/4709907522.html'},\n",
        " {'app': 1000,\n",
        "  'desc': u'$2051 / 1br - 735ft\\xb2 - Amazing ground level unit with hardwood floors and HUGE patio!! (fremont / union city / newark)',\n",
        "  'id': '4709907522',\n",
        "  'url': 'http://sfbay.craigslist.org/eby/apa/4709907522.html'},\n",
        " {'app': 1000,\n",
        "  'desc': u'$2051 / 1br - 735ft\\xb2 - Amazing ground level unit with hardwood floors and HUGE patio!! (fremont / union city / newark)',\n",
        "  'id': '4709907522',\n",
        "  'url': 'http://sfbay.craigslist.org/eby/apa/4709907522.html'},\n",
        " {'app': 1000,\n",
        "  'desc': u'$2051 / 1br - 735ft\\xb2 - Amazing ground level unit with hardwood floors and HUGE patio!! (fremont / union city / newark)',\n",
        "  'id': '4709907522',\n",
        "  'url': 'http://sfbay.craigslist.org/eby/apa/4709907522.html'},\n",
        " {'app': 1000,\n",
        "  'desc': u'$2051 / 1br - 735ft\\xb2 - Amazing ground level unit with hardwood floors and HUGE patio!! (fremont / union city / newark)',\n",
        "  'id': '4709907522',\n",
        "  'url': 'http://sfbay.craigslist.org/eby/apa/4709907522.html'},\n",
        " {'app': 1000,\n",
        "  'desc': u'$2051 / 1br - 735ft\\xb2 - Amazing ground level unit with hardwood floors and HUGE patio!! (fremont / union city / newark)',\n",
        "  'id': '4709907522',\n",
        "  'url': 'http://sfbay.craigslist.org/eby/apa/4709907522.html'},\n",
        " {'app': 1000,\n",
        "  'desc': u'$2051 / 1br - 735ft\\xb2 - Amazing ground level unit with hardwood floors and HUGE patio!! (fremont / union city / newark)',\n",
        "  'id': '4709907522',\n",
        "  'url': 'http://sfbay.craigslist.org/eby/apa/4709907522.html'},\n",
        " {'app': 1000,\n",
        "  'desc': u'$2051 / 1br - 735ft\\xb2 - Amazing ground level unit with hardwood floors and HUGE patio!! (fremont / union city / newark)',\n",
        "  'id': '4709907522',\n",
        "  'url': 'http://sfbay.craigslist.org/eby/apa/4709907522.html'},\n",
        " {'app': 1000,\n",
        "  'desc': u'$2051 / 1br - 735ft\\xb2 - Amazing ground level unit with hardwood floors and HUGE patio!! (fremont / union city / newark)',\n",
        "  'id': '4709907522',\n",
        "  'url': 'http://sfbay.craigslist.org/eby/apa/4709907522.html'},\n",
        " {'app': 1000,\n",
        "  'desc': u'$2051 / 1br - 735ft\\xb2 - Amazing ground level unit with hardwood floors and HUGE patio!! (fremont / union city / newark)',\n",
        "  'id': '4709907522',\n",
        "  'url': 'http://sfbay.craigslist.org/eby/apa/4709907522.html'},\n",
        " {'app': 1000,\n",
        "  'desc': u'$2051 / 1br - 735ft\\xb2 - Amazing ground level unit with hardwood floors and HUGE patio!! (fremont / union city / newark)',\n",
        "  'id': '4709907522',\n",
        "  'url': 'http://sfbay.craigslist.org/eby/apa/4709907522.html'},\n",
        " {'app': 1000,\n",
        "  'desc': u'$2051 / 1br - 735ft\\xb2 - Amazing ground level unit with hardwood floors and HUGE patio!! (fremont / union city / newark)',\n",
        "  'id': '4709907522',\n",
        "  'url': 'http://sfbay.craigslist.org/eby/apa/4709907522.html'},\n",
        " {'app': 1000,\n",
        "  'desc': u'$2051 / 1br - 735ft\\xb2 - Amazing ground level unit with hardwood floors and HUGE patio!! (fremont / union city / newark)',\n",
        "  'id': '4709907522',\n",
        "  'url': 'http://sfbay.craigslist.org/eby/apa/4709907522.html'},\n",
        " {'app': 1000,\n",
        "  'desc': u'$2051 / 1br - 735ft\\xb2 - Amazing ground level unit with hardwood floors and HUGE patio!! (fremont / union city / newark)',\n",
        "  'id': '4709907522',\n",
        "  'url': 'http://sfbay.craigslist.org/eby/apa/4709907522.html'},\n",
        " {'app': 1000,\n",
        "  'desc': u'$2051 / 1br - 735ft\\xb2 - Amazing ground level unit with hardwood floors and HUGE patio!! (fremont / union city / newark)',\n",
        "  'id': '4709907522',\n",
        "  'url': 'http://sfbay.craigslist.org/eby/apa/4709907522.html'},\n",
        " {'app': 1000,\n",
        "  'desc': u'$2051 / 1br - 735ft\\xb2 - Amazing ground level unit with hardwood floors and HUGE patio!! (fremont / union city / newark)',\n",
        "  'id': '4709907522',\n",
        "  'url': 'http://sfbay.craigslist.org/eby/apa/4709907522.html'},\n",
        " {'app': 1000,\n",
        "  'desc': u'$2051 / 1br - 735ft\\xb2 - Amazing ground level unit with hardwood floors and HUGE patio!! (fremont / union city / newark)',\n",
        "  'id': '4709907522',\n",
        "  'url': 'http://sfbay.craigslist.org/eby/apa/4709907522.html'},\n",
        " {'app': 1000,\n",
        "  'desc': u'$2051 / 1br - 735ft\\xb2 - Amazing ground level unit with hardwood floors and HUGE patio!! (fremont / union city / newark)',\n",
        "  'id': '4709907522',\n",
        "  'url': 'http://sfbay.craigslist.org/eby/apa/4709907522.html'},\n",
        " {'app': 1000,\n",
        "  'desc': u'$2051 / 1br - 735ft\\xb2 - Amazing ground level unit with hardwood floors and HUGE patio!! (fremont / union city / newark)',\n",
        "  'id': '4709907522',\n",
        "  'url': 'http://sfbay.craigslist.org/eby/apa/4709907522.html'},\n",
        " {'app': 1000,\n",
        "  'desc': u'$2051 / 1br - 735ft\\xb2 - Amazing ground level unit with hardwood floors and HUGE patio!! (fremont / union city / newark)',\n",
        "  'id': '4709907522',\n",
        "  'url': 'http://sfbay.craigslist.org/eby/apa/4709907522.html'},\n",
        " {'app': 1000,\n",
        "  'desc': u'$2051 / 1br - 735ft\\xb2 - Amazing ground level unit with hardwood floors and HUGE patio!! (fremont / union city / newark)',\n",
        "  'id': '4709907522',\n",
        "  'url': 'http://sfbay.craigslist.org/eby/apa/4709907522.html'},\n",
        " {'app': 1000,\n",
        "  'desc': u'$2051 / 1br - 735ft\\xb2 - Amazing ground level unit with hardwood floors and HUGE patio!! (fremont / union city / newark)',\n",
        "  'id': '4709907522',\n",
        "  'url': 'http://sfbay.craigslist.org/eby/apa/4709907522.html'},\n",
        " {'app': 1000,\n",
        "  'desc': u'$2051 / 1br - 735ft\\xb2 - Amazing ground level unit with hardwood floors and HUGE patio!! (fremont / union city / newark)',\n",
        "  'id': '4709907522',\n",
        "  'url': 'http://sfbay.craigslist.org/eby/apa/4709907522.html'},\n",
        " {'app': 1000,\n",
        "  'desc': u'$2051 / 1br - 735ft\\xb2 - Amazing ground level unit with hardwood floors and HUGE patio!! (fremont / union city / newark)',\n",
        "  'id': '4709907522',\n",
        "  'url': 'http://sfbay.craigslist.org/eby/apa/4709907522.html'},\n",
        " {'app': 1000,\n",
        "  'desc': u'$2051 / 1br - 735ft\\xb2 - Amazing ground level unit with hardwood floors and HUGE patio!! (fremont / union city / newark)',\n",
        "  'id': '4709907522',\n",
        "  'url': 'http://sfbay.craigslist.org/eby/apa/4709907522.html'},\n",
        " {'app': 1000,\n",
        "  'desc': u'$2051 / 1br - 735ft\\xb2 - Amazing ground level unit with hardwood floors and HUGE patio!! (fremont / union city / newark)',\n",
        "  'id': '4709907522',\n",
        "  'url': 'http://sfbay.craigslist.org/eby/apa/4709907522.html'},\n",
        " {'app': 1000,\n",
        "  'desc': u'$2051 / 1br - 735ft\\xb2 - Amazing ground level unit with hardwood floors and HUGE patio!! (fremont / union city / newark)',\n",
        "  'id': '4709907522',\n",
        "  'url': 'http://sfbay.craigslist.org/eby/apa/4709907522.html'},\n",
        " {'app': 1000,\n",
        "  'desc': u'$2051 / 1br - 735ft\\xb2 - Amazing ground level unit with hardwood floors and HUGE patio!! (fremont / union city / newark)',\n",
        "  'id': '4709907522',\n",
        "  'url': 'http://sfbay.craigslist.org/eby/apa/4709907522.html'},\n",
        " {'app': 1000,\n",
        "  'desc': u'$2051 / 1br - 735ft\\xb2 - Amazing ground level unit with hardwood floors and HUGE patio!! (fremont / union city / newark)',\n",
        "  'id': '4709907522',\n",
        "  'url': 'http://sfbay.craigslist.org/eby/apa/4709907522.html'},\n",
        " {'app': 1000,\n",
        "  'desc': u'$2051 / 1br - 735ft\\xb2 - Amazing ground level unit with hardwood floors and HUGE patio!! (fremont / union city / newark)',\n",
        "  'id': '4709907522',\n",
        "  'url': 'http://sfbay.craigslist.org/eby/apa/4709907522.html'},\n",
        " {'app': 1000,\n",
        "  'desc': u'$2051 / 1br - 735ft\\xb2 - Amazing ground level unit with hardwood floors and HUGE patio!! (fremont / union city / newark)',\n",
        "  'id': '4709907522',\n",
        "  'url': 'http://sfbay.craigslist.org/eby/apa/4709907522.html'},\n",
        " {'app': 1000,\n",
        "  'desc': u'$2051 / 1br - 735ft\\xb2 - Amazing ground level unit with hardwood floors and HUGE patio!! (fremont / union city / newark)',\n",
        "  'id': '4709907522',\n",
        "  'url': 'http://sfbay.craigslist.org/eby/apa/4709907522.html'},\n",
        " {'app': 1000,\n",
        "  'desc': u'$2051 / 1br - 735ft\\xb2 - Amazing ground level unit with hardwood floors and HUGE patio!! (fremont / union city / newark)',\n",
        "  'id': '4709907522',\n",
        "  'url': 'http://sfbay.craigslist.org/eby/apa/4709907522.html'},\n",
        " {'app': 1000,\n",
        "  'desc': u'$2051 / 1br - 735ft\\xb2 - Amazing ground level unit with hardwood floors and HUGE patio!! (fremont / union city / newark)',\n",
        "  'id': '4709907522',\n",
        "  'url': 'http://sfbay.craigslist.org/eby/apa/4709907522.html'},\n",
        " {'app': 1000,\n",
        "  'desc': u'$2051 / 1br - 735ft\\xb2 - Amazing ground level unit with hardwood floors and HUGE patio!! (fremont / union city / newark)',\n",
        "  'id': '4709907522',\n",
        "  'url': 'http://sfbay.craigslist.org/eby/apa/4709907522.html'},\n",
        " {'app': 1000,\n",
        "  'desc': u'$2051 / 1br - 735ft\\xb2 - Amazing ground level unit with hardwood floors and HUGE patio!! (fremont / union city / newark)',\n",
        "  'id': '4709907522',\n",
        "  'url': 'http://sfbay.craigslist.org/eby/apa/4709907522.html'},\n",
        " {'app': 1000,\n",
        "  'desc': u'$2051 / 1br - 735ft\\xb2 - Amazing ground level unit with hardwood floors and HUGE patio!! (fremont / union city / newark)',\n",
        "  'id': '4709907522',\n",
        "  'url': 'http://sfbay.craigslist.org/eby/apa/4709907522.html'},\n",
        " {'app': 1000,\n",
        "  'desc': u'$2051 / 1br - 735ft\\xb2 - Amazing ground level unit with hardwood floors and HUGE patio!! (fremont / union city / newark)',\n",
        "  'id': '4709907522',\n",
        "  'url': 'http://sfbay.craigslist.org/eby/apa/4709907522.html'},\n",
        " {'app': 1000,\n",
        "  'desc': u'$2051 / 1br - 735ft\\xb2 - Amazing ground level unit with hardwood floors and HUGE patio!! (fremont / union city / newark)',\n",
        "  'id': '4709907522',\n",
        "  'url': 'http://sfbay.craigslist.org/eby/apa/4709907522.html'},\n",
        " {'app': 1000,\n",
        "  'desc': u'$2051 / 1br - 735ft\\xb2 - Amazing ground level unit with hardwood floors and HUGE patio!! (fremont / union city / newark)',\n",
        "  'id': '4709907522',\n",
        "  'url': 'http://sfbay.craigslist.org/eby/apa/4709907522.html'},\n",
        " {'app': 1000,\n",
        "  'desc': u'$2051 / 1br - 735ft\\xb2 - Amazing ground level unit with hardwood floors and HUGE patio!! (fremont / union city / newark)',\n",
        "  'id': '4709907522',\n",
        "  'url': 'http://sfbay.craigslist.org/eby/apa/4709907522.html'},\n",
        " {'app': 1000,\n",
        "  'desc': u'$2051 / 1br - 735ft\\xb2 - Amazing ground level unit with hardwood floors and HUGE patio!! (fremont / union city / newark)',\n",
        "  'id': '4709907522',\n",
        "  'url': 'http://sfbay.craigslist.org/eby/apa/4709907522.html'},\n",
        " {'app': 1000,\n",
        "  'desc': u'$2051 / 1br - 735ft\\xb2 - Amazing ground level unit with hardwood floors and HUGE patio!! (fremont / union city / newark)',\n",
        "  'id': '4709907522',\n",
        "  'url': 'http://sfbay.craigslist.org/eby/apa/4709907522.html'},\n",
        " {'app': 1000,\n",
        "  'desc': u'$2051 / 1br - 735ft\\xb2 - Amazing ground level unit with hardwood floors and HUGE patio!! (fremont / union city / newark)',\n",
        "  'id': '4709907522',\n",
        "  'url': 'http://sfbay.craigslist.org/eby/apa/4709907522.html'},\n",
        " {'app': 1000,\n",
        "  'desc': u'$2051 / 1br - 735ft\\xb2 - Amazing ground level unit with hardwood floors and HUGE patio!! (fremont / union city / newark)',\n",
        "  'id': '4709907522',\n",
        "  'url': 'http://sfbay.craigslist.org/eby/apa/4709907522.html'},\n",
        " {'app': 1000,\n",
        "  'desc': u'$2051 / 1br - 735ft\\xb2 - Amazing ground level unit with hardwood floors and HUGE patio!! (fremont / union city / newark)',\n",
        "  'id': '4709907522',\n",
        "  'url': 'http://sfbay.craigslist.org/eby/apa/4709907522.html'},\n",
        " {'app': 1000,\n",
        "  'desc': u'$2051 / 1br - 735ft\\xb2 - Amazing ground level unit with hardwood floors and HUGE patio!! (fremont / union city / newark)',\n",
        "  'id': '4709907522',\n",
        "  'url': 'http://sfbay.craigslist.org/eby/apa/4709907522.html'},\n",
        " {'app': 1000,\n",
        "  'desc': u'$2051 / 1br - 735ft\\xb2 - Amazing ground level unit with hardwood floors and HUGE patio!! (fremont / union city / newark)',\n",
        "  'id': '4709907522',\n",
        "  'url': 'http://sfbay.craigslist.org/eby/apa/4709907522.html'},\n",
        " {'app': 1000,\n",
        "  'desc': u'$2051 / 1br - 735ft\\xb2 - Amazing ground level unit with hardwood floors and HUGE patio!! (fremont / union city / newark)',\n",
        "  'id': '4709907522',\n",
        "  'url': 'http://sfbay.craigslist.org/eby/apa/4709907522.html'},\n",
        " {'app': 1000,\n",
        "  'desc': u'$2051 / 1br - 735ft\\xb2 - Amazing ground level unit with hardwood floors and HUGE patio!! (fremont / union city / newark)',\n",
        "  'id': '4709907522',\n",
        "  'url': 'http://sfbay.craigslist.org/eby/apa/4709907522.html'},\n",
        " {'app': 1000,\n",
        "  'desc': u'$2051 / 1br - 735ft\\xb2 - Amazing ground level unit with hardwood floors and HUGE patio!! (fremont / union city / newark)',\n",
        "  'id': '4709907522',\n",
        "  'url': 'http://sfbay.craigslist.org/eby/apa/4709907522.html'},\n",
        " {'app': 1000,\n",
        "  'desc': u'$2051 / 1br - 735ft\\xb2 - Amazing ground level unit with hardwood floors and HUGE patio!! (fremont / union city / newark)',\n",
        "  'id': '4709907522',\n",
        "  'url': 'http://sfbay.craigslist.org/eby/apa/4709907522.html'},\n",
        " {'app': 1000,\n",
        "  'desc': u'$2051 / 1br - 735ft\\xb2 - Amazing ground level unit with hardwood floors and HUGE patio!! (fremont / union city / newark)',\n",
        "  'id': '4709907522',\n",
        "  'url': 'http://sfbay.craigslist.org/eby/apa/4709907522.html'},\n",
        " {'app': 1000,\n",
        "  'desc': u'$2051 / 1br - 735ft\\xb2 - Amazing ground level unit with hardwood floors and HUGE patio!! (fremont / union city / newark)',\n",
        "  'id': '4709907522',\n",
        "  'url': 'http://sfbay.craigslist.org/eby/apa/4709907522.html'},\n",
        " {'app': 1000,\n",
        "  'desc': u'$2051 / 1br - 735ft\\xb2 - Amazing ground level unit with hardwood floors and HUGE patio!! (fremont / union city / newark)',\n",
        "  'id': '4709907522',\n",
        "  'url': 'http://sfbay.craigslist.org/eby/apa/4709907522.html'},\n",
        " {'app': 1000,\n",
        "  'desc': u'$2051 / 1br - 735ft\\xb2 - Amazing ground level unit with hardwood floors and HUGE patio!! (fremont / union city / newark)',\n",
        "  'id': '4709907522',\n",
        "  'url': 'http://sfbay.craigslist.org/eby/apa/4709907522.html'},\n",
        " {'app': 1000,\n",
        "  'desc': u'$2051 / 1br - 735ft\\xb2 - Amazing ground level unit with hardwood floors and HUGE patio!! (fremont / union city / newark)',\n",
        "  'id': '4709907522',\n",
        "  'url': 'http://sfbay.craigslist.org/eby/apa/4709907522.html'},\n",
        " {'app': 1000,\n",
        "  'desc': u'$2051 / 1br - 735ft\\xb2 - Amazing ground level unit with hardwood floors and HUGE patio!! (fremont / union city / newark)',\n",
        "  'id': '4709907522',\n",
        "  'url': 'http://sfbay.craigslist.org/eby/apa/4709907522.html'},\n",
        " {'app': 1000,\n",
        "  'desc': u'$2051 / 1br - 735ft\\xb2 - Amazing ground level unit with hardwood floors and HUGE patio!! (fremont / union city / newark)',\n",
        "  'id': '4709907522',\n",
        "  'url': 'http://sfbay.craigslist.org/eby/apa/4709907522.html'},\n",
        " {'app': 1000,\n",
        "  'desc': u'$2051 / 1br - 735ft\\xb2 - Amazing ground level unit with hardwood floors and HUGE patio!! (fremont / union city / newark)',\n",
        "  'id': '4709907522',\n",
        "  'url': 'http://sfbay.craigslist.org/eby/apa/4709907522.html'},\n",
        " {'app': 1000,\n",
        "  'desc': u'$2051 / 1br - 735ft\\xb2 - Amazing ground level unit with hardwood floors and HUGE patio!! (fremont / union city / newark)',\n",
        "  'id': '4709907522',\n",
        "  'url': 'http://sfbay.craigslist.org/eby/apa/4709907522.html'},\n",
        " {'app': 1000,\n",
        "  'desc': u'$2051 / 1br - 735ft\\xb2 - Amazing ground level unit with hardwood floors and HUGE patio!! (fremont / union city / newark)',\n",
        "  'id': '4709907522',\n",
        "  'url': 'http://sfbay.craigslist.org/eby/apa/4709907522.html'},\n",
        " {'app': 1000,\n",
        "  'desc': u'$2051 / 1br - 735ft\\xb2 - Amazing ground level unit with hardwood floors and HUGE patio!! (fremont / union city / newark)',\n",
        "  'id': '4709907522',\n",
        "  'url': 'http://sfbay.craigslist.org/eby/apa/4709907522.html'},\n",
        " {'app': 1000,\n",
        "  'desc': u'$2051 / 1br - 735ft\\xb2 - Amazing ground level unit with hardwood floors and HUGE patio!! (fremont / union city / newark)',\n",
        "  'id': '4709907522',\n",
        "  'url': 'http://sfbay.craigslist.org/eby/apa/4709907522.html'},\n",
        " {'app': 1000,\n",
        "  'desc': u'$2051 / 1br - 735ft\\xb2 - Amazing ground level unit with hardwood floors and HUGE patio!! (fremont / union city / newark)',\n",
        "  'id': '4709907522',\n",
        "  'url': 'http://sfbay.craigslist.org/eby/apa/4709907522.html'},\n",
        " {'app': 1000,\n",
        "  'desc': u'$2051 / 1br - 735ft\\xb2 - Amazing ground level unit with hardwood floors and HUGE patio!! (fremont / union city / newark)',\n",
        "  'id': '4709907522',\n",
        "  'url': 'http://sfbay.craigslist.org/eby/apa/4709907522.html'},\n",
        " {'app': 1000,\n",
        "  'desc': u'$2051 / 1br - 735ft\\xb2 - Amazing ground level unit with hardwood floors and HUGE patio!! (fremont / union city / newark)',\n",
        "  'id': '4709907522',\n",
        "  'url': 'http://sfbay.craigslist.org/eby/apa/4709907522.html'},\n",
        " {'app': 1000,\n",
        "  'desc': u'$2051 / 1br - 735ft\\xb2 - Amazing ground level unit with hardwood floors and HUGE patio!! (fremont / union city / newark)',\n",
        "  'id': '4709907522',\n",
        "  'url': 'http://sfbay.craigslist.org/eby/apa/4709907522.html'},\n",
        " {'app': 1000,\n",
        "  'desc': u'$2051 / 1br - 735ft\\xb2 - Amazing ground level unit with hardwood floors and HUGE patio!! (fremont / union city / newark)',\n",
        "  'id': '4709907522',\n",
        "  'url': 'http://sfbay.craigslist.org/eby/apa/4709907522.html'},\n",
        " {'app': 1000,\n",
        "  'desc': u'$2051 / 1br - 735ft\\xb2 - Amazing ground level unit with hardwood floors and HUGE patio!! (fremont / union city / newark)',\n",
        "  'id': '4709907522',\n",
        "  'url': 'http://sfbay.craigslist.org/eby/apa/4709907522.html'},\n",
        " {'app': 1000,\n",
        "  'desc': u'$2051 / 1br - 735ft\\xb2 - Amazing ground level unit with hardwood floors and HUGE patio!! (fremont / union city / newark)',\n",
        "  'id': '4709907522',\n",
        "  'url': 'http://sfbay.craigslist.org/eby/apa/4709907522.html'},\n",
        " {'app': 1000,\n",
        "  'desc': u'$2051 / 1br - 735ft\\xb2 - Amazing ground level unit with hardwood floors and HUGE patio!! (fremont / union city / newark)',\n",
        "  'id': '4709907522',\n",
        "  'url': 'http://sfbay.craigslist.org/eby/apa/4709907522.html'},\n",
        " {'app': 1000,\n",
        "  'desc': u'$2051 / 1br - 735ft\\xb2 - Amazing ground level unit with hardwood floors and HUGE patio!! (fremont / union city / newark)',\n",
        "  'id': '4709907522',\n",
        "  'url': 'http://sfbay.craigslist.org/eby/apa/4709907522.html'},\n",
        " {'app': 1000,\n",
        "  'desc': u'$2051 / 1br - 735ft\\xb2 - Amazing ground level unit with hardwood floors and HUGE patio!! (fremont / union city / newark)',\n",
        "  'id': '4709907522',\n",
        "  'url': 'http://sfbay.craigslist.org/eby/apa/4709907522.html'},\n",
        " {'app': 1000,\n",
        "  'desc': u'$2051 / 1br - 735ft\\xb2 - Amazing ground level unit with hardwood floors and HUGE patio!! (fremont / union city / newark)',\n",
        "  'id': '4709907522',\n",
        "  'url': 'http://sfbay.craigslist.org/eby/apa/4709907522.html'},\n",
        " {'app': 1000,\n",
        "  'desc': u'$2051 / 1br - 735ft\\xb2 - Amazing ground level unit with hardwood floors and HUGE patio!! (fremont / union city / newark)',\n",
        "  'id': '4709907522',\n",
        "  'url': 'http://sfbay.craigslist.org/eby/apa/4709907522.html'},\n",
        " {'app': 1000,\n",
        "  'desc': u'$2051 / 1br - 735ft\\xb2 - Amazing ground level unit with hardwood floors and HUGE patio!! (fremont / union city / newark)',\n",
        "  'id': '4709907522',\n",
        "  'url': 'http://sfbay.craigslist.org/eby/apa/4709907522.html'},\n",
        " {'app': 1000,\n",
        "  'desc': u'$2051 / 1br - 735ft\\xb2 - Amazing ground level unit with hardwood floors and HUGE patio!! (fremont / union city / newark)',\n",
        "  'id': '4709907522',\n",
        "  'url': 'http://sfbay.craigslist.org/eby/apa/4709907522.html'},\n",
        " {'app': 1000,\n",
        "  'desc': u'$2051 / 1br - 735ft\\xb2 - Amazing ground level unit with hardwood floors and HUGE patio!! (fremont / union city / newark)',\n",
        "  'id': '4709907522',\n",
        "  'url': 'http://sfbay.craigslist.org/eby/apa/4709907522.html'},\n",
        " {'app': 1000,\n",
        "  'desc': u'$2051 / 1br - 735ft\\xb2 - Amazing ground level unit with hardwood floors and HUGE patio!! (fremont / union city / newark)',\n",
        "  'id': '4709907522',\n",
        "  'url': 'http://sfbay.craigslist.org/eby/apa/4709907522.html'},\n",
        " {'app': 1000,\n",
        "  'desc': u'$2051 / 1br - 735ft\\xb2 - Amazing ground level unit with hardwood floors and HUGE patio!! (fremont / union city / newark)',\n",
        "  'id': '4709907522',\n",
        "  'url': 'http://sfbay.craigslist.org/eby/apa/4709907522.html'},\n",
        " {'app': 1000,\n",
        "  'desc': u'$2051 / 1br - 735ft\\xb2 - Amazing ground level unit with hardwood floors and HUGE patio!! (fremont / union city / newark)',\n",
        "  'id': '4709907522',\n",
        "  'url': 'http://sfbay.craigslist.org/eby/apa/4709907522.html'},\n",
        " {'app': 1000,\n",
        "  'desc': u'$2051 / 1br - 735ft\\xb2 - Amazing ground level unit with hardwood floors and HUGE patio!! (fremont / union city / newark)',\n",
        "  'id': '4709907522',\n",
        "  'url': 'http://sfbay.craigslist.org/eby/apa/4709907522.html'},\n",
        " {'app': 1000,\n",
        "  'desc': u'$2051 / 1br - 735ft\\xb2 - Amazing ground level unit with hardwood floors and HUGE patio!! (fremont / union city / newark)',\n",
        "  'id': '4709907522',\n",
        "  'url': 'http://sfbay.craigslist.org/eby/apa/4709907522.html'},\n",
        " {'app': 1000,\n",
        "  'desc': u'$2051 / 1br - 735ft\\xb2 - Amazing ground level unit with hardwood floors and HUGE patio!! (fremont / union city / newark)',\n",
        "  'id': '4709907522',\n",
        "  'url': 'http://sfbay.craigslist.org/eby/apa/4709907522.html'},\n",
        " {'app': 1000,\n",
        "  'desc': u'$2051 / 1br - 735ft\\xb2 - Amazing ground level unit with hardwood floors and HUGE patio!! (fremont / union city / newark)',\n",
        "  'id': '4709907522',\n",
        "  'url': 'http://sfbay.craigslist.org/eby/apa/4709907522.html'},\n",
        " {'app': 1000,\n",
        "  'desc': u'$2051 / 1br - 735ft\\xb2 - Amazing ground level unit with hardwood floors and HUGE patio!! (fremont / union city / newark)',\n",
        "  'id': '4709907522',\n",
        "  'url': 'http://sfbay.craigslist.org/eby/apa/4709907522.html'},\n",
        " {'app': 1000,\n",
        "  'desc': u'$2051 / 1br - 735ft\\xb2 - Amazing ground level unit with hardwood floors and HUGE patio!! (fremont / union city / newark)',\n",
        "  'id': '4709907522',\n",
        "  'url': 'http://sfbay.craigslist.org/eby/apa/4709907522.html'},\n",
        " {'app': 1000,\n",
        "  'desc': u'$2051 / 1br - 735ft\\xb2 - Amazing ground level unit with hardwood floors and HUGE patio!! (fremont / union city / newark)',\n",
        "  'id': '4709907522',\n",
        "  'url': 'http://sfbay.craigslist.org/eby/apa/4709907522.html'},\n",
        " {'app': 1000,\n",
        "  'desc': u'$2051 / 1br - 735ft\\xb2 - Amazing ground level unit with hardwood floors and HUGE patio!! (fremont / union city / newark)',\n",
        "  'id': '4709907522',\n",
        "  'url': 'http://sfbay.craigslist.org/eby/apa/4709907522.html'},\n",
        " {'app': 1000,\n",
        "  'desc': u'$2051 / 1br - 735ft\\xb2 - Amazing ground level unit with hardwood floors and HUGE patio!! (fremont / union city / newark)',\n",
        "  'id': '4709907522',\n",
        "  'url': 'http://sfbay.craigslist.org/eby/apa/4709907522.html'},\n",
        " {'app': 1000,\n",
        "  'desc': u'$2051 / 1br - 735ft\\xb2 - Amazing ground level unit with hardwood floors and HUGE patio!! (fremont / union city / newark)',\n",
        "  'id': '4709907522',\n",
        "  'url': 'http://sfbay.craigslist.org/eby/apa/4709907522.html'},\n",
        " {'app': 1000,\n",
        "  'desc': u'$2051 / 1br - 735ft\\xb2 - Amazing ground level unit with hardwood floors and HUGE patio!! (fremont / union city / newark)',\n",
        "  'id': '4709907522',\n",
        "  'url': 'http://sfbay.craigslist.org/eby/apa/4709907522.html'},\n",
        " {'app': 1000,\n",
        "  'desc': u'$2051 / 1br - 735ft\\xb2 - Amazing ground level unit with hardwood floors and HUGE patio!! (fremont / union city / newark)',\n",
        "  'id': '4709907522',\n",
        "  'url': 'http://sfbay.craigslist.org/eby/apa/4709907522.html'},\n",
        " {'app': 1000,\n",
        "  'desc': u'$2051 / 1br - 735ft\\xb2 - Amazing ground level unit with hardwood floors and HUGE patio!! (fremont / union city / newark)',\n",
        "  'id': '4709907522',\n",
        "  'url': 'http://sfbay.craigslist.org/eby/apa/4709907522.html'},\n",
        " {'app': 1000,\n",
        "  'desc': u'$2051 / 1br - 735ft\\xb2 - Amazing ground level unit with hardwood floors and HUGE patio!! (fremont / union city / newark)',\n",
        "  'id': '4709907522',\n",
        "  'url': 'http://sfbay.craigslist.org/eby/apa/4709907522.html'},\n",
        " {'app': 1000,\n",
        "  'desc': u'$2051 / 1br - 735ft\\xb2 - Amazing ground level unit with hardwood floors and HUGE patio!! (fremont / union city / newark)',\n",
        "  'id': '4709907522',\n",
        "  'url': 'http://sfbay.craigslist.org/eby/apa/4709907522.html'},\n",
        " {'app': 1000,\n",
        "  'desc': u'$2051 / 1br - 735ft\\xb2 - Amazing ground level unit with hardwood floors and HUGE patio!! (fremont / union city / newark)',\n",
        "  'id': '4709907522',\n",
        "  'url': 'http://sfbay.craigslist.org/eby/apa/4709907522.html'},\n",
        " {'app': 1000,\n",
        "  'desc': u'$2051 / 1br - 735ft\\xb2 - Amazing ground level unit with hardwood floors and HUGE patio!! (fremont / union city / newark)',\n",
        "  'id': '4709907522',\n",
        "  'url': 'http://sfbay.craigslist.org/eby/apa/4709907522.html'},\n",
        " {'app': 1000,\n",
        "  'desc': u'$2051 / 1br - 735ft\\xb2 - Amazing ground level unit with hardwood floors and HUGE patio!! (fremont / union city / newark)',\n",
        "  'id': '4709907522',\n",
        "  'url': 'http://sfbay.craigslist.org/eby/apa/4709907522.html'},\n",
        " {'app': 1000,\n",
        "  'desc': u'$2051 / 1br - 735ft\\xb2 - Amazing ground level unit with hardwood floors and HUGE patio!! (fremont / union city / newark)',\n",
        "  'id': '4709907522',\n",
        "  'url': 'http://sfbay.craigslist.org/eby/apa/4709907522.html'},\n",
        " {'app': 1000,\n",
        "  'desc': u'$2051 / 1br - 735ft\\xb2 - Amazing ground level unit with hardwood floors and HUGE patio!! (fremont / union city / newark)',\n",
        "  'id': '4709907522',\n",
        "  'url': 'http://sfbay.craigslist.org/eby/apa/4709907522.html'},\n",
        " {'app': 1000,\n",
        "  'desc': u'$2051 / 1br - 735ft\\xb2 - Amazing ground level unit with hardwood floors and HUGE patio!! (fremont / union city / newark)',\n",
        "  'id': '4709907522',\n",
        "  'url': 'http://sfbay.craigslist.org/eby/apa/4709907522.html'},\n",
        " {'app': 1000,\n",
        "  'desc': u'$2051 / 1br - 735ft\\xb2 - Amazing ground level unit with hardwood floors and HUGE patio!! (fremont / union city / newark)',\n",
        "  'id': '4709907522',\n",
        "  'url': 'http://sfbay.craigslist.org/eby/apa/4709907522.html'},\n",
        " {'app': 1000,\n",
        "  'desc': u'$2051 / 1br - 735ft\\xb2 - Amazing ground level unit with hardwood floors and HUGE patio!! (fremont / union city / newark)',\n",
        "  'id': '4709907522',\n",
        "  'url': 'http://sfbay.craigslist.org/eby/apa/4709907522.html'},\n",
        " {'app': 1000,\n",
        "  'desc': u'$2051 / 1br - 735ft\\xb2 - Amazing ground level unit with hardwood floors and HUGE patio!! (fremont / union city / newark)',\n",
        "  'id': '4709907522',\n",
        "  'url': 'http://sfbay.craigslist.org/eby/apa/4709907522.html'},\n",
        " {'app': 1000,\n",
        "  'desc': u'$2051 / 1br - 735ft\\xb2 - Amazing ground level unit with hardwood floors and HUGE patio!! (fremont / union city / newark)',\n",
        "  'id': '4709907522',\n",
        "  'url': 'http://sfbay.craigslist.org/eby/apa/4709907522.html'},\n",
        " {'app': 1000,\n",
        "  'desc': u'$2051 / 1br - 735ft\\xb2 - Amazing ground level unit with hardwood floors and HUGE patio!! (fremont / union city / newark)',\n",
        "  'id': '4709907522',\n",
        "  'url': 'http://sfbay.craigslist.org/eby/apa/4709907522.html'},\n",
        " {'app': 1000,\n",
        "  'desc': u'$2051 / 1br - 735ft\\xb2 - Amazing ground level unit with hardwood floors and HUGE patio!! (fremont / union city / newark)',\n",
        "  'id': '4709907522',\n",
        "  'url': 'http://sfbay.craigslist.org/eby/apa/4709907522.html'},\n",
        " {'app': 1000,\n",
        "  'desc': u'$2051 / 1br - 735ft\\xb2 - Amazing ground level unit with hardwood floors and HUGE patio!! (fremont / union city / newark)',\n",
        "  'id': '4709907522',\n",
        "  'url': 'http://sfbay.craigslist.org/eby/apa/4709907522.html'},\n",
        " {'app': 1000,\n",
        "  'desc': u'$2051 / 1br - 735ft\\xb2 - Amazing ground level unit with hardwood floors and HUGE patio!! (fremont / union city / newark)',\n",
        "  'id': '4709907522',\n",
        "  'url': 'http://sfbay.craigslist.org/eby/apa/4709907522.html'},\n",
        " {'app': 1000,\n",
        "  'desc': u'$2051 / 1br - 735ft\\xb2 - Amazing ground level unit with hardwood floors and HUGE patio!! (fremont / union city / newark)',\n",
        "  'id': '4709907522',\n",
        "  'url': 'http://sfbay.craigslist.org/eby/apa/4709907522.html'},\n",
        " {'app': 1000,\n",
        "  'desc': u'$2051 / 1br - 735ft\\xb2 - Amazing ground level unit with hardwood floors and HUGE patio!! (fremont / union city / newark)',\n",
        "  'id': '4709907522',\n",
        "  'url': 'http://sfbay.craigslist.org/eby/apa/4709907522.html'},\n",
        " {'app': 1000,\n",
        "  'desc': u'$2051 / 1br - 735ft\\xb2 - Amazing ground level unit with hardwood floors and HUGE patio!! (fremont / union city / newark)',\n",
        "  'id': '4709907522',\n",
        "  'url': 'http://sfbay.craigslist.org/eby/apa/4709907522.html'},\n",
        " {'app': 1000,\n",
        "  'desc': u'$2051 / 1br - 735ft\\xb2 - Amazing ground level unit with hardwood floors and HUGE patio!! (fremont / union city / newark)',\n",
        "  'id': '4709907522',\n",
        "  'url': 'http://sfbay.craigslist.org/eby/apa/4709907522.html'},\n",
        " {'app': 1000,\n",
        "  'desc': u'$2051 / 1br - 735ft\\xb2 - Amazing ground level unit with hardwood floors and HUGE patio!! (fremont / union city / newark)',\n",
        "  'id': '4709907522',\n",
        "  'url': 'http://sfbay.craigslist.org/eby/apa/4709907522.html'},\n",
        " {'app': 1000,\n",
        "  'desc': u'$2051 / 1br - 735ft\\xb2 - Amazing ground level unit with hardwood floors and HUGE patio!! (fremont / union city / newark)',\n",
        "  'id': '4709907522',\n",
        "  'url': 'http://sfbay.craigslist.org/eby/apa/4709907522.html'},\n",
        " {'app': 1000,\n",
        "  'desc': u'$2051 / 1br - 735ft\\xb2 - Amazing ground level unit with hardwood floors and HUGE patio!! (fremont / union city / newark)',\n",
        "  'id': '4709907522',\n",
        "  'url': 'http://sfbay.craigslist.org/eby/apa/4709907522.html'},\n",
        " {'app': 1000,\n",
        "  'desc': u'$2051 / 1br - 735ft\\xb2 - Amazing ground level unit with hardwood floors and HUGE patio!! (fremont / union city / newark)',\n",
        "  'id': '4709907522',\n",
        "  'url': 'http://sfbay.craigslist.org/eby/apa/4709907522.html'},\n",
        " {'app': 1000,\n",
        "  'desc': u'$2051 / 1br - 735ft\\xb2 - Amazing ground level unit with hardwood floors and HUGE patio!! (fremont / union city / newark)',\n",
        "  'id': '4709907522',\n",
        "  'url': 'http://sfbay.craigslist.org/eby/apa/4709907522.html'},\n",
        " {'app': 1000,\n",
        "  'desc': u'$2051 / 1br - 735ft\\xb2 - Amazing ground level unit with hardwood floors and HUGE patio!! (fremont / union city / newark)',\n",
        "  'id': '4709907522',\n",
        "  'url': 'http://sfbay.craigslist.org/eby/apa/4709907522.html'},\n",
        " {'app': 1000,\n",
        "  'desc': u'$2051 / 1br - 735ft\\xb2 - Amazing ground level unit with hardwood floors and HUGE patio!! (fremont / union city / newark)',\n",
        "  'id': '4709907522',\n",
        "  'url': 'http://sfbay.craigslist.org/eby/apa/4709907522.html'},\n",
        " {'app': 1000,\n",
        "  'desc': u'$2051 / 1br - 735ft\\xb2 - Amazing ground level unit with hardwood floors and HUGE patio!! (fremont / union city / newark)',\n",
        "  'id': '4709907522',\n",
        "  'url': 'http://sfbay.craigslist.org/eby/apa/4709907522.html'},\n",
        " {'app': 1000,\n",
        "  'desc': u'$2051 / 1br - 735ft\\xb2 - Amazing ground level unit with hardwood floors and HUGE patio!! (fremont / union city / newark)',\n",
        "  'id': '4709907522',\n",
        "  'url': 'http://sfbay.craigslist.org/eby/apa/4709907522.html'},\n",
        " {'app': 1000,\n",
        "  'desc': u'$2051 / 1br - 735ft\\xb2 - Amazing ground level unit with hardwood floors and HUGE patio!! (fremont / union city / newark)',\n",
        "  'id': '4709907522',\n",
        "  'url': 'http://sfbay.craigslist.org/eby/apa/4709907522.html'},\n",
        " {'app': 1000,\n",
        "  'desc': u'$2051 / 1br - 735ft\\xb2 - Amazing ground level unit with hardwood floors and HUGE patio!! (fremont / union city / newark)',\n",
        "  'id': '4709907522',\n",
        "  'url': 'http://sfbay.craigslist.org/eby/apa/4709907522.html'},\n",
        " {'app': 1000,\n",
        "  'desc': u'$2051 / 1br - 735ft\\xb2 - Amazing ground level unit with hardwood floors and HUGE patio!! (fremont / union city / newark)',\n",
        "  'id': '4709907522',\n",
        "  'url': 'http://sfbay.craigslist.org/eby/apa/4709907522.html'},\n",
        " {'app': 1000,\n",
        "  'desc': u'$2051 / 1br - 735ft\\xb2 - Amazing ground level unit with hardwood floors and HUGE patio!! (fremont / union city / newark)',\n",
        "  'id': '4709907522',\n",
        "  'url': 'http://sfbay.craigslist.org/eby/apa/4709907522.html'},\n",
        " {'app': 1000,\n",
        "  'desc': u'$2051 / 1br - 735ft\\xb2 - Amazing ground level unit with hardwood floors and HUGE patio!! (fremont / union city / newark)',\n",
        "  'id': '4709907522',\n",
        "  'url': 'http://sfbay.craigslist.org/eby/apa/4709907522.html'},\n",
        " {'app': 1000,\n",
        "  'desc': u'$2051 / 1br - 735ft\\xb2 - Amazing ground level unit with hardwood floors and HUGE patio!! (fremont / union city / newark)',\n",
        "  'id': '4709907522',\n",
        "  'url': 'http://sfbay.craigslist.org/eby/apa/4709907522.html'},\n",
        " {'app': 1000,\n",
        "  'desc': u'$2051 / 1br - 735ft\\xb2 - Amazing ground level unit with hardwood floors and HUGE patio!! (fremont / union city / newark)',\n",
        "  'id': '4709907522',\n",
        "  'url': 'http://sfbay.craigslist.org/eby/apa/4709907522.html'},\n",
        " {'app': 1000,\n",
        "  'desc': u'$2051 / 1br - 735ft\\xb2 - Amazing ground level unit with hardwood floors and HUGE patio!! (fremont / union city / newark)',\n",
        "  'id': '4709907522',\n",
        "  'url': 'http://sfbay.craigslist.org/eby/apa/4709907522.html'},\n",
        " {'app': 1000,\n",
        "  'desc': u'$2051 / 1br - 735ft\\xb2 - Amazing ground level unit with hardwood floors and HUGE patio!! (fremont / union city / newark)',\n",
        "  'id': '4709907522',\n",
        "  'url': 'http://sfbay.craigslist.org/eby/apa/4709907522.html'},\n",
        " {'app': 1000,\n",
        "  'desc': u'$2051 / 1br - 735ft\\xb2 - Amazing ground level unit with hardwood floors and HUGE patio!! (fremont / union city / newark)',\n",
        "  'id': '4709907522',\n",
        "  'url': 'http://sfbay.craigslist.org/eby/apa/4709907522.html'},\n",
        " {'app': 1000,\n",
        "  'desc': u'$2051 / 1br - 735ft\\xb2 - Amazing ground level unit with hardwood floors and HUGE patio!! (fremont / union city / newark)',\n",
        "  'id': '4709907522',\n",
        "  'url': 'http://sfbay.craigslist.org/eby/apa/4709907522.html'},\n",
        " {'app': 1000,\n",
        "  'desc': u'$2051 / 1br - 735ft\\xb2 - Amazing ground level unit with hardwood floors and HUGE patio!! (fremont / union city / newark)',\n",
        "  'id': '4709907522',\n",
        "  'url': 'http://sfbay.craigslist.org/eby/apa/4709907522.html'},\n",
        " {'app': 1000,\n",
        "  'desc': u'$2051 / 1br - 735ft\\xb2 - Amazing ground level unit with hardwood floors and HUGE patio!! (fremont / union city / newark)',\n",
        "  'id': '4709907522',\n",
        "  'url': 'http://sfbay.craigslist.org/eby/apa/4709907522.html'},\n",
        " {'app': 1000,\n",
        "  'desc': u'$2051 / 1br - 735ft\\xb2 - Amazing ground level unit with hardwood floors and HUGE patio!! (fremont / union city / newark)',\n",
        "  'id': '4709907522',\n",
        "  'url': 'http://sfbay.craigslist.org/eby/apa/4709907522.html'},\n",
        " {'app': 1000,\n",
        "  'desc': u'$2051 / 1br - 735ft\\xb2 - Amazing ground level unit with hardwood floors and HUGE patio!! (fremont / union city / newark)',\n",
        "  'id': '4709907522',\n",
        "  'url': 'http://sfbay.craigslist.org/eby/apa/4709907522.html'},\n",
        " {'app': 1000,\n",
        "  'desc': u'$2051 / 1br - 735ft\\xb2 - Amazing ground level unit with hardwood floors and HUGE patio!! (fremont / union city / newark)',\n",
        "  'id': '4709907522',\n",
        "  'url': 'http://sfbay.craigslist.org/eby/apa/4709907522.html'},\n",
        " {'app': 1000,\n",
        "  'desc': u'$2051 / 1br - 735ft\\xb2 - Amazing ground level unit with hardwood floors and HUGE patio!! (fremont / union city / newark)',\n",
        "  'id': '4709907522',\n",
        "  'url': 'http://sfbay.craigslist.org/eby/apa/4709907522.html'},\n",
        " {'app': 1000,\n",
        "  'desc': u'$2051 / 1br - 735ft\\xb2 - Amazing ground level unit with hardwood floors and HUGE patio!! (fremont / union city / newark)',\n",
        "  'id': '4709907522',\n",
        "  'url': 'http://sfbay.craigslist.org/eby/apa/4709907522.html'},\n",
        " {'app': 1000,\n",
        "  'desc': u'$2051 / 1br - 735ft\\xb2 - Amazing ground level unit with hardwood floors and HUGE patio!! (fremont / union city / newark)',\n",
        "  'id': '4709907522',\n",
        "  'url': 'http://sfbay.craigslist.org/eby/apa/4709907522.html'},\n",
        " {'app': 1000,\n",
        "  'desc': u'$2051 / 1br - 735ft\\xb2 - Amazing ground level unit with hardwood floors and HUGE patio!! (fremont / union city / newark)',\n",
        "  'id': '4709907522',\n",
        "  'url': 'http://sfbay.craigslist.org/eby/apa/4709907522.html'},\n",
        " {'app': 1000,\n",
        "  'desc': u'$2051 / 1br - 735ft\\xb2 - Amazing ground level unit with hardwood floors and HUGE patio!! (fremont / union city / newark)',\n",
        "  'id': '4709907522',\n",
        "  'url': 'http://sfbay.craigslist.org/eby/apa/4709907522.html'},\n",
        " {'app': 1000,\n",
        "  'desc': u'$2051 / 1br - 735ft\\xb2 - Amazing ground level unit with hardwood floors and HUGE patio!! (fremont / union city / newark)',\n",
        "  'id': '4709907522',\n",
        "  'url': 'http://sfbay.craigslist.org/eby/apa/4709907522.html'},\n",
        " {'app': 1000,\n",
        "  'desc': u'$2051 / 1br - 735ft\\xb2 - Amazing ground level unit with hardwood floors and HUGE patio!! (fremont / union city / newark)',\n",
        "  'id': '4709907522',\n",
        "  'url': 'http://sfbay.craigslist.org/eby/apa/4709907522.html'},\n",
        " {'app': 1000,\n",
        "  'desc': u'$2051 / 1br - 735ft\\xb2 - Amazing ground level unit with hardwood floors and HUGE patio!! (fremont / union city / newark)',\n",
        "  'id': '4709907522',\n",
        "  'url': 'http://sfbay.craigslist.org/eby/apa/4709907522.html'},\n",
        " {'app': 1000,\n",
        "  'desc': u'$2051 / 1br - 735ft\\xb2 - Amazing ground level unit with hardwood floors and HUGE patio!! (fremont / union city / newark)',\n",
        "  'id': '4709907522',\n",
        "  'url': 'http://sfbay.craigslist.org/eby/apa/4709907522.html'},\n",
        " {'app': 1000,\n",
        "  'desc': u'$2051 / 1br - 735ft\\xb2 - Amazing ground level unit with hardwood floors and HUGE patio!! (fremont / union city / newark)',\n",
        "  'id': '4709907522',\n",
        "  'url': 'http://sfbay.craigslist.org/eby/apa/4709907522.html'},\n",
        " {'app': 1000,\n",
        "  'desc': u'$2051 / 1br - 735ft\\xb2 - Amazing ground level unit with hardwood floors and HUGE patio!! (fremont / union city / newark)',\n",
        "  'id': '4709907522',\n",
        "  'url': 'http://sfbay.craigslist.org/eby/apa/4709907522.html'},\n",
        " {'app': 1000,\n",
        "  'desc': u'$2051 / 1br - 735ft\\xb2 - Amazing ground level unit with hardwood floors and HUGE patio!! (fremont / union city / newark)',\n",
        "  'id': '4709907522',\n",
        "  'url': 'http://sfbay.craigslist.org/eby/apa/4709907522.html'},\n",
        " {'app': 1000,\n",
        "  'desc': u'$2051 / 1br - 735ft\\xb2 - Amazing ground level unit with hardwood floors and HUGE patio!! (fremont / union city / newark)',\n",
        "  'id': '4709907522',\n",
        "  'url': 'http://sfbay.craigslist.org/eby/apa/4709907522.html'},\n",
        " {'app': 1000,\n",
        "  'desc': u'$2051 / 1br - 735ft\\xb2 - Amazing ground level unit with hardwood floors and HUGE patio!! (fremont / union city / newark)',\n",
        "  'id': '4709907522',\n",
        "  'url': 'http://sfbay.craigslist.org/eby/apa/4709907522.html'},\n",
        " {'app': 1000,\n",
        "  'desc': u'$2051 / 1br - 735ft\\xb2 - Amazing ground level unit with hardwood floors and HUGE patio!! (fremont / union city / newark)',\n",
        "  'id': '4709907522',\n",
        "  'url': 'http://sfbay.craigslist.org/eby/apa/4709907522.html'},\n",
        " {'app': 1000,\n",
        "  'desc': u'$2051 / 1br - 735ft\\xb2 - Amazing ground level unit with hardwood floors and HUGE patio!! (fremont / union city / newark)',\n",
        "  'id': '4709907522',\n",
        "  'url': 'http://sfbay.craigslist.org/eby/apa/4709907522.html'},\n",
        " {'app': 1000,\n",
        "  'desc': u'$2051 / 1br - 735ft\\xb2 - Amazing ground level unit with hardwood floors and HUGE patio!! (fremont / union city / newark)',\n",
        "  'id': '4709907522',\n",
        "  'url': 'http://sfbay.craigslist.org/eby/apa/4709907522.html'},\n",
        " {'app': 1000,\n",
        "  'desc': u'$2051 / 1br - 735ft\\xb2 - Amazing ground level unit with hardwood floors and HUGE patio!! (fremont / union city / newark)',\n",
        "  'id': '4709907522',\n",
        "  'url': 'http://sfbay.craigslist.org/eby/apa/4709907522.html'},\n",
        " {'app': 1000,\n",
        "  'desc': u'$2051 / 1br - 735ft\\xb2 - Amazing ground level unit with hardwood floors and HUGE patio!! (fremont / union city / newark)',\n",
        "  'id': '4709907522',\n",
        "  'url': 'http://sfbay.craigslist.org/eby/apa/4709907522.html'},\n",
        " {'app': 1000,\n",
        "  'desc': u'$2051 / 1br - 735ft\\xb2 - Amazing ground level unit with hardwood floors and HUGE patio!! (fremont / union city / newark)',\n",
        "  'id': '4709907522',\n",
        "  'url': 'http://sfbay.craigslist.org/eby/apa/4709907522.html'},\n",
        " {'app': 1000,\n",
        "  'desc': u'$2051 / 1br - 735ft\\xb2 - Amazing ground level unit with hardwood floors and HUGE patio!! (fremont / union city / newark)',\n",
        "  'id': '4709907522',\n",
        "  'url': 'http://sfbay.craigslist.org/eby/apa/4709907522.html'},\n",
        " {'app': 1000,\n",
        "  'desc': u'$2051 / 1br - 735ft\\xb2 - Amazing ground level unit with hardwood floors and HUGE patio!! (fremont / union city / newark)',\n",
        "  'id': '4709907522',\n",
        "  'url': 'http://sfbay.craigslist.org/eby/apa/4709907522.html'},\n",
        " {'app': 1000,\n",
        "  'desc': u'$2051 / 1br - 735ft\\xb2 - Amazing ground level unit with hardwood floors and HUGE patio!! (fremont / union city / newark)',\n",
        "  'id': '4709907522',\n",
        "  'url': 'http://sfbay.craigslist.org/eby/apa/4709907522.html'},\n",
        " {'app': 1000,\n",
        "  'desc': u'$2051 / 1br - 735ft\\xb2 - Amazing ground level unit with hardwood floors and HUGE patio!! (fremont / union city / newark)',\n",
        "  'id': '4709907522',\n",
        "  'url': 'http://sfbay.craigslist.org/eby/apa/4709907522.html'},\n",
        " {'app': 1000,\n",
        "  'desc': u'$2051 / 1br - 735ft\\xb2 - Amazing ground level unit with hardwood floors and HUGE patio!! (fremont / union city / newark)',\n",
        "  'id': '4709907522',\n",
        "  'url': 'http://sfbay.craigslist.org/eby/apa/4709907522.html'},\n",
        " {'app': 1000,\n",
        "  'desc': u'$2051 / 1br - 735ft\\xb2 - Amazing ground level unit with hardwood floors and HUGE patio!! (fremont / union city / newark)',\n",
        "  'id': '4709907522',\n",
        "  'url': 'http://sfbay.craigslist.org/eby/apa/4709907522.html'},\n",
        " {'app': 1000,\n",
        "  'desc': u'$2051 / 1br - 735ft\\xb2 - Amazing ground level unit with hardwood floors and HUGE patio!! (fremont / union city / newark)',\n",
        "  'id': '4709907522',\n",
        "  'url': 'http://sfbay.craigslist.org/eby/apa/4709907522.html'},\n",
        " {'app': 1000,\n",
        "  'desc': u'$2051 / 1br - 735ft\\xb2 - Amazing ground level unit with hardwood floors and HUGE patio!! (fremont / union city / newark)',\n",
        "  'id': '4709907522',\n",
        "  'url': 'http://sfbay.craigslist.org/eby/apa/4709907522.html'},\n",
        " {'app': 1000,\n",
        "  'desc': u'$2051 / 1br - 735ft\\xb2 - Amazing ground level unit with hardwood floors and HUGE patio!! (fremont / union city / newark)',\n",
        "  'id': '4709907522',\n",
        "  'url': 'http://sfbay.craigslist.org/eby/apa/4709907522.html'},\n",
        " {'app': 1000,\n",
        "  'desc': u'$2051 / 1br - 735ft\\xb2 - Amazing ground level unit with hardwood floors and HUGE patio!! (fremont / union city / newark)',\n",
        "  'id': '4709907522',\n",
        "  'url': 'http://sfbay.craigslist.org/eby/apa/4709907522.html'},\n",
        " {'app': 1000,\n",
        "  'desc': u'$2051 / 1br - 735ft\\xb2 - Amazing ground level unit with hardwood floors and HUGE patio!! (fremont / union city / newark)',\n",
        "  'id': '4709907522',\n",
        "  'url': 'http://sfbay.craigslist.org/eby/apa/4709907522.html'},\n",
        " {'app': 1000,\n",
        "  'desc': u'$2051 / 1br - 735ft\\xb2 - Amazing ground level unit with hardwood floors and HUGE patio!! (fremont / union city / newark)',\n",
        "  'id': '4709907522',\n",
        "  'url': 'http://sfbay.craigslist.org/eby/apa/4709907522.html'},\n",
        " {'app': 1000,\n",
        "  'desc': u'$2051 / 1br - 735ft\\xb2 - Amazing ground level unit with hardwood floors and HUGE patio!! (fremont / union city / newark)',\n",
        "  'id': '4709907522',\n",
        "  'url': 'http://sfbay.craigslist.org/eby/apa/4709907522.html'},\n",
        " {'app': 1000,\n",
        "  'desc': u'$2051 / 1br - 735ft\\xb2 - Amazing ground level unit with hardwood floors and HUGE patio!! (fremont / union city / newark)',\n",
        "  'id': '4709907522',\n",
        "  'url': 'http://sfbay.craigslist.org/eby/apa/4709907522.html'},\n",
        " {'app': 1000,\n",
        "  'desc': u'$2051 / 1br - 735ft\\xb2 - Amazing ground level unit with hardwood floors and HUGE patio!! (fremont / union city / newark)',\n",
        "  'id': '4709907522',\n",
        "  'url': 'http://sfbay.craigslist.org/eby/apa/4709907522.html'},\n",
        " {'app': 1000,\n",
        "  'desc': u'$2051 / 1br - 735ft\\xb2 - Amazing ground level unit with hardwood floors and HUGE patio!! (fremont / union city / newark)',\n",
        "  'id': '4709907522',\n",
        "  'url': 'http://sfbay.craigslist.org/eby/apa/4709907522.html'},\n",
        " {'app': 1000,\n",
        "  'desc': u'$2051 / 1br - 735ft\\xb2 - Amazing ground level unit with hardwood floors and HUGE patio!! (fremont / union city / newark)',\n",
        "  'id': '4709907522',\n",
        "  'url': 'http://sfbay.craigslist.org/eby/apa/4709907522.html'},\n",
        " {'app': 1000,\n",
        "  'desc': u'$2051 / 1br - 735ft\\xb2 - Amazing ground level unit with hardwood floors and HUGE patio!! (fremont / union city / newark)',\n",
        "  'id': '4709907522',\n",
        "  'url': 'http://sfbay.craigslist.org/eby/apa/4709907522.html'},\n",
        " {'app': 1000,\n",
        "  'desc': u'$2051 / 1br - 735ft\\xb2 - Amazing ground level unit with hardwood floors and HUGE patio!! (fremont / union city / newark)',\n",
        "  'id': '4709907522',\n",
        "  'url': 'http://sfbay.craigslist.org/eby/apa/4709907522.html'},\n",
        " {'app': 1000,\n",
        "  'desc': u'$2051 / 1br - 735ft\\xb2 - Amazing ground level unit with hardwood floors and HUGE patio!! (fremont / union city / newark)',\n",
        "  'id': '4709907522',\n",
        "  'url': 'http://sfbay.craigslist.org/eby/apa/4709907522.html'},\n",
        " {'app': 1000,\n",
        "  'desc': u'$2051 / 1br - 735ft\\xb2 - Amazing ground level unit with hardwood floors and HUGE patio!! (fremont / union city / newark)',\n",
        "  'id': '4709907522',\n",
        "  'url': 'http://sfbay.craigslist.org/eby/apa/4709907522.html'},\n",
        " {'app': 1000,\n",
        "  'desc': u'$2051 / 1br - 735ft\\xb2 - Amazing ground level unit with hardwood floors and HUGE patio!! (fremont / union city / newark)',\n",
        "  'id': '4709907522',\n",
        "  'url': 'http://sfbay.craigslist.org/eby/apa/4709907522.html'},\n",
        " {'app': 1000,\n",
        "  'desc': u'$2051 / 1br - 735ft\\xb2 - Amazing ground level unit with hardwood floors and HUGE patio!! (fremont / union city / newark)',\n",
        "  'id': '4709907522',\n",
        "  'url': 'http://sfbay.craigslist.org/eby/apa/4709907522.html'},\n",
        " {'app': 1000,\n",
        "  'desc': u'$2051 / 1br - 735ft\\xb2 - Amazing ground level unit with hardwood floors and HUGE patio!! (fremont / union city / newark)',\n",
        "  'id': '4709907522',\n",
        "  'url': 'http://sfbay.craigslist.org/eby/apa/4709907522.html'},\n",
        " {'app': 1000,\n",
        "  'desc': u'$2051 / 1br - 735ft\\xb2 - Amazing ground level unit with hardwood floors and HUGE patio!! (fremont / union city / newark)',\n",
        "  'id': '4709907522',\n",
        "  'url': 'http://sfbay.craigslist.org/eby/apa/4709907522.html'},\n",
        " {'app': 1000,\n",
        "  'desc': u'$2051 / 1br - 735ft\\xb2 - Amazing ground level unit with hardwood floors and HUGE patio!! (fremont / union city / newark)',\n",
        "  'id': '4709907522',\n",
        "  'url': 'http://sfbay.craigslist.org/eby/apa/4709907522.html'},\n",
        " {'app': 1000,\n",
        "  'desc': u'$2051 / 1br - 735ft\\xb2 - Amazing ground level unit with hardwood floors and HUGE patio!! (fremont / union city / newark)',\n",
        "  'id': '4709907522',\n",
        "  'url': 'http://sfbay.craigslist.org/eby/apa/4709907522.html'},\n",
        " {'app': 1000,\n",
        "  'desc': u'$2051 / 1br - 735ft\\xb2 - Amazing ground level unit with hardwood floors and HUGE patio!! (fremont / union city / newark)',\n",
        "  'id': '4709907522',\n",
        "  'url': 'http://sfbay.craigslist.org/eby/apa/4709907522.html'},\n",
        " {'app': 1000,\n",
        "  'desc': u'$2051 / 1br - 735ft\\xb2 - Amazing ground level unit with hardwood floors and HUGE patio!! (fremont / union city / newark)',\n",
        "  'id': '4709907522',\n",
        "  'url': 'http://sfbay.craigslist.org/eby/apa/4709907522.html'},\n",
        " {'app': 1000,\n",
        "  'desc': u'$2051 / 1br - 735ft\\xb2 - Amazing ground level unit with hardwood floors and HUGE patio!! (fremont / union city / newark)',\n",
        "  'id': '4709907522',\n",
        "  'url': 'http://sfbay.craigslist.org/eby/apa/4709907522.html'},\n",
        " {'app': 1000,\n",
        "  'desc': u'$2051 / 1br - 735ft\\xb2 - Amazing ground level unit with hardwood floors and HUGE patio!! (fremont / union city / newark)',\n",
        "  'id': '4709907522',\n",
        "  'url': 'http://sfbay.craigslist.org/eby/apa/4709907522.html'},\n",
        " {'app': 1000,\n",
        "  'desc': u'$2051 / 1br - 735ft\\xb2 - Amazing ground level unit with hardwood floors and HUGE patio!! (fremont / union city / newark)',\n",
        "  'id': '4709907522',\n",
        "  'url': 'http://sfbay.craigslist.org/eby/apa/4709907522.html'},\n",
        " {'app': 1000,\n",
        "  'desc': u'$2051 / 1br - 735ft\\xb2 - Amazing ground level unit with hardwood floors and HUGE patio!! (fremont / union city / newark)',\n",
        "  'id': '4709907522',\n",
        "  'url': 'http://sfbay.craigslist.org/eby/apa/4709907522.html'},\n",
        " {'app': 1000,\n",
        "  'desc': u'$2051 / 1br - 735ft\\xb2 - Amazing ground level unit with hardwood floors and HUGE patio!! (fremont / union city / newark)',\n",
        "  'id': '4709907522',\n",
        "  'url': 'http://sfbay.craigslist.org/eby/apa/4709907522.html'},\n",
        " {'app': 1000,\n",
        "  'desc': u'$2051 / 1br - 735ft\\xb2 - Amazing ground level unit with hardwood floors and HUGE patio!! (fremont / union city / newark)',\n",
        "  'id': '4709907522',\n",
        "  'url': 'http://sfbay.craigslist.org/eby/apa/4709907522.html'},\n",
        " {'app': 1000,\n",
        "  'desc': u'$2051 / 1br - 735ft\\xb2 - Amazing ground level unit with hardwood floors and HUGE patio!! (fremont / union city / newark)',\n",
        "  'id': '4709907522',\n",
        "  'url': 'http://sfbay.craigslist.org/eby/apa/4709907522.html'},\n",
        " {'app': 1000,\n",
        "  'desc': u'$2051 / 1br - 735ft\\xb2 - Amazing ground level unit with hardwood floors and HUGE patio!! (fremont / union city / newark)',\n",
        "  'id': '4709907522',\n",
        "  'url': 'http://sfbay.craigslist.org/eby/apa/4709907522.html'},\n",
        " {'app': 1000,\n",
        "  'desc': u'$2051 / 1br - 735ft\\xb2 - Amazing ground level unit with hardwood floors and HUGE patio!! (fremont / union city / newark)',\n",
        "  'id': '4709907522',\n",
        "  'url': 'http://sfbay.craigslist.org/eby/apa/4709907522.html'},\n",
        " {'app': 1000,\n",
        "  'desc': u'$2051 / 1br - 735ft\\xb2 - Amazing ground level unit with hardwood floors and HUGE patio!! (fremont / union city / newark)',\n",
        "  'id': '4709907522',\n",
        "  'url': 'http://sfbay.craigslist.org/eby/apa/4709907522.html'},\n",
        " {'app': 1000,\n",
        "  'desc': u'$2051 / 1br - 735ft\\xb2 - Amazing ground level unit with hardwood floors and HUGE patio!! (fremont / union city / newark)',\n",
        "  'id': '4709907522',\n",
        "  'url': 'http://sfbay.craigslist.org/eby/apa/4709907522.html'},\n",
        " {'app': 1000,\n",
        "  'desc': u'$2051 / 1br - 735ft\\xb2 - Amazing ground level unit with hardwood floors and HUGE patio!! (fremont / union city / newark)',\n",
        "  'id': '4709907522',\n",
        "  'url': 'http://sfbay.craigslist.org/eby/apa/4709907522.html'},\n",
        " {'app': 1000,\n",
        "  'desc': u'$2051 / 1br - 735ft\\xb2 - Amazing ground level unit with hardwood floors and HUGE patio!! (fremont / union city / newark)',\n",
        "  'id': '4709907522',\n",
        "  'url': 'http://sfbay.craigslist.org/eby/apa/4709907522.html'},\n",
        " {'app': 1000,\n",
        "  'desc': u'$2051 / 1br - 735ft\\xb2 - Amazing ground level unit with hardwood floors and HUGE patio!! (fremont / union city / newark)',\n",
        "  'id': '4709907522',\n",
        "  'url': 'http://sfbay.craigslist.org/eby/apa/4709907522.html'},\n",
        " {'app': 1000,\n",
        "  'desc': u'$2051 / 1br - 735ft\\xb2 - Amazing ground level unit with hardwood floors and HUGE patio!! (fremont / union city / newark)',\n",
        "  'id': '4709907522',\n",
        "  'url': 'http://sfbay.craigslist.org/eby/apa/4709907522.html'},\n",
        " {'app': 1000,\n",
        "  'desc': u'$2051 / 1br - 735ft\\xb2 - Amazing ground level unit with hardwood floors and HUGE patio!! (fremont / union city / newark)',\n",
        "  'id': '4709907522',\n",
        "  'url': 'http://sfbay.craigslist.org/eby/apa/4709907522.html'},\n",
        " {'app': 1000,\n",
        "  'desc': u'$2051 / 1br - 735ft\\xb2 - Amazing ground level unit with hardwood floors and HUGE patio!! (fremont / union city / newark)',\n",
        "  'id': '4709907522',\n",
        "  'url': 'http://sfbay.craigslist.org/eby/apa/4709907522.html'},\n",
        " {'app': 1000,\n",
        "  'desc': u'$2051 / 1br - 735ft\\xb2 - Amazing ground level unit with hardwood floors and HUGE patio!! (fremont / union city / newark)',\n",
        "  'id': '4709907522',\n",
        "  'url': 'http://sfbay.craigslist.org/eby/apa/4709907522.html'},\n",
        " {'app': 1000,\n",
        "  'desc': u'$2051 / 1br - 735ft\\xb2 - Amazing ground level unit with hardwood floors and HUGE patio!! (fremont / union city / newark)',\n",
        "  'id': '4709907522',\n",
        "  'url': 'http://sfbay.craigslist.org/eby/apa/4709907522.html'},\n",
        " {'app': 1000,\n",
        "  'desc': u'$2051 / 1br - 735ft\\xb2 - Amazing ground level unit with hardwood floors and HUGE patio!! (fremont / union city / newark)',\n",
        "  'id': '4709907522',\n",
        "  'url': 'http://sfbay.craigslist.org/eby/apa/4709907522.html'},\n",
        " {'app': 1000,\n",
        "  'desc': u'$2051 / 1br - 735ft\\xb2 - Amazing ground level unit with hardwood floors and HUGE patio!! (fremont / union city / newark)',\n",
        "  'id': '4709907522',\n",
        "  'url': 'http://sfbay.craigslist.org/eby/apa/4709907522.html'},\n",
        " {'app': 1000,\n",
        "  'desc': u'$2051 / 1br - 735ft\\xb2 - Amazing ground level unit with hardwood floors and HUGE patio!! (fremont / union city / newark)',\n",
        "  'id': '4709907522',\n",
        "  'url': 'http://sfbay.craigslist.org/eby/apa/4709907522.html'},\n",
        " {'app': 1000,\n",
        "  'desc': u'$2051 / 1br - 735ft\\xb2 - Amazing ground level unit with hardwood floors and HUGE patio!! (fremont / union city / newark)',\n",
        "  'id': '4709907522',\n",
        "  'url': 'http://sfbay.craigslist.org/eby/apa/4709907522.html'},\n",
        " {'app': 1000,\n",
        "  'desc': u'$2051 / 1br - 735ft\\xb2 - Amazing ground level unit with hardwood floors and HUGE patio!! (fremont / union city / newark)',\n",
        "  'id': '4709907522',\n",
        "  'url': 'http://sfbay.craigslist.org/eby/apa/4709907522.html'},\n",
        " {'app': 1000,\n",
        "  'desc': u'$2051 / 1br - 735ft\\xb2 - Amazing ground level unit with hardwood floors and HUGE patio!! (fremont / union city / newark)',\n",
        "  'id': '4709907522',\n",
        "  'url': 'http://sfbay.craigslist.org/eby/apa/4709907522.html'},\n",
        " {'app': 1000,\n",
        "  'desc': u'$2051 / 1br - 735ft\\xb2 - Amazing ground level unit with hardwood floors and HUGE patio!! (fremont / union city / newark)',\n",
        "  'id': '4709907522',\n",
        "  'url': 'http://sfbay.craigslist.org/eby/apa/4709907522.html'},\n",
        " {'app': 1000,\n",
        "  'desc': u'$2051 / 1br - 735ft\\xb2 - Amazing ground level unit with hardwood floors and HUGE patio!! (fremont / union city / newark)',\n",
        "  'id': '4709907522',\n",
        "  'url': 'http://sfbay.craigslist.org/eby/apa/4709907522.html'},\n",
        " {'app': 1000,\n",
        "  'desc': u'$2051 / 1br - 735ft\\xb2 - Amazing ground level unit with hardwood floors and HUGE patio!! (fremont / union city / newark)',\n",
        "  'id': '4709907522',\n",
        "  'url': 'http://sfbay.craigslist.org/eby/apa/4709907522.html'},\n",
        " {'app': 1000,\n",
        "  'desc': u'$2051 / 1br - 735ft\\xb2 - Amazing ground level unit with hardwood floors and HUGE patio!! (fremont / union city / newark)',\n",
        "  'id': '4709907522',\n",
        "  'url': 'http://sfbay.craigslist.org/eby/apa/4709907522.html'},\n",
        " {'app': 1000,\n",
        "  'desc': u'$2051 / 1br - 735ft\\xb2 - Amazing ground level unit with hardwood floors and HUGE patio!! (fremont / union city / newark)',\n",
        "  'id': '4709907522',\n",
        "  'url': 'http://sfbay.craigslist.org/eby/apa/4709907522.html'},\n",
        " {'app': 1000,\n",
        "  'desc': u'$2051 / 1br - 735ft\\xb2 - Amazing ground level unit with hardwood floors and HUGE patio!! (fremont / union city / newark)',\n",
        "  'id': '4709907522',\n",
        "  'url': 'http://sfbay.craigslist.org/eby/apa/4709907522.html'},\n",
        " {'app': 1000,\n",
        "  'desc': u'$2051 / 1br - 735ft\\xb2 - Amazing ground level unit with hardwood floors and HUGE patio!! (fremont / union city / newark)',\n",
        "  'id': '4709907522',\n",
        "  'url': 'http://sfbay.craigslist.org/eby/apa/4709907522.html'},\n",
        " {'app': 1000,\n",
        "  'desc': u'$2051 / 1br - 735ft\\xb2 - Amazing ground level unit with hardwood floors and HUGE patio!! (fremont / union city / newark)',\n",
        "  'id': '4709907522',\n",
        "  'url': 'http://sfbay.craigslist.org/eby/apa/4709907522.html'},\n",
        " {'app': 1000,\n",
        "  'desc': u'$2051 / 1br - 735ft\\xb2 - Amazing ground level unit with hardwood floors and HUGE patio!! (fremont / union city / newark)',\n",
        "  'id': '4709907522',\n",
        "  'url': 'http://sfbay.craigslist.org/eby/apa/4709907522.html'},\n",
        " {'app': 1000,\n",
        "  'desc': u'$2051 / 1br - 735ft\\xb2 - Amazing ground level unit with hardwood floors and HUGE patio!! (fremont / union city / newark)',\n",
        "  'id': '4709907522',\n",
        "  'url': 'http://sfbay.craigslist.org/eby/apa/4709907522.html'},\n",
        " {'app': 1000,\n",
        "  'desc': u'$2051 / 1br - 735ft\\xb2 - Amazing ground level unit with hardwood floors and HUGE patio!! (fremont / union city / newark)',\n",
        "  'id': '4709907522',\n",
        "  'url': 'http://sfbay.craigslist.org/eby/apa/4709907522.html'},\n",
        " {'app': 1000,\n",
        "  'desc': u'$2051 / 1br - 735ft\\xb2 - Amazing ground level unit with hardwood floors and HUGE patio!! (fremont / union city / newark)',\n",
        "  'id': '4709907522',\n",
        "  'url': 'http://sfbay.craigslist.org/eby/apa/4709907522.html'},\n",
        " {'app': 1000,\n",
        "  'desc': u'$2051 / 1br - 735ft\\xb2 - Amazing ground level unit with hardwood floors and HUGE patio!! (fremont / union city / newark)',\n",
        "  'id': '4709907522',\n",
        "  'url': 'http://sfbay.craigslist.org/eby/apa/4709907522.html'},\n",
        " {'app': 1000,\n",
        "  'desc': u'$2051 / 1br - 735ft\\xb2 - Amazing ground level unit with hardwood floors and HUGE patio!! (fremont / union city / newark)',\n",
        "  'id': '4709907522',\n",
        "  'url': 'http://sfbay.craigslist.org/eby/apa/4709907522.html'},\n",
        " {'app': 1000,\n",
        "  'desc': u'$2051 / 1br - 735ft\\xb2 - Amazing ground level unit with hardwood floors and HUGE patio!! (fremont / union city / newark)',\n",
        "  'id': '4709907522',\n",
        "  'url': 'http://sfbay.craigslist.org/eby/apa/4709907522.html'},\n",
        " {'app': 1000,\n",
        "  'desc': u'$2051 / 1br - 735ft\\xb2 - Amazing ground level unit with hardwood floors and HUGE patio!! (fremont / union city / newark)',\n",
        "  'id': '4709907522',\n",
        "  'url': 'http://sfbay.craigslist.org/eby/apa/4709907522.html'},\n",
        " {'app': 1000,\n",
        "  'desc': u'$2051 / 1br - 735ft\\xb2 - Amazing ground level unit with hardwood floors and HUGE patio!! (fremont / union city / newark)',\n",
        "  'id': '4709907522',\n",
        "  'url': 'http://sfbay.craigslist.org/eby/apa/4709907522.html'},\n",
        " {'app': 1000,\n",
        "  'desc': u'$2051 / 1br - 735ft\\xb2 - Amazing ground level unit with hardwood floors and HUGE patio!! (fremont / union city / newark)',\n",
        "  'id': '4709907522',\n",
        "  'url': 'http://sfbay.craigslist.org/eby/apa/4709907522.html'},\n",
        " {'app': 1000,\n",
        "  'desc': u'$2051 / 1br - 735ft\\xb2 - Amazing ground level unit with hardwood floors and HUGE patio!! (fremont / union city / newark)',\n",
        "  'id': '4709907522',\n",
        "  'url': 'http://sfbay.craigslist.org/eby/apa/4709907522.html'},\n",
        " {'app': 1000,\n",
        "  'desc': u'$2051 / 1br - 735ft\\xb2 - Amazing ground level unit with hardwood floors and HUGE patio!! (fremont / union city / newark)',\n",
        "  'id': '4709907522',\n",
        "  'url': 'http://sfbay.craigslist.org/eby/apa/4709907522.html'},\n",
        " {'app': 1000,\n",
        "  'desc': u'$2051 / 1br - 735ft\\xb2 - Amazing ground level unit with hardwood floors and HUGE patio!! (fremont / union city / newark)',\n",
        "  'id': '4709907522',\n",
        "  'url': 'http://sfbay.craigslist.org/eby/apa/4709907522.html'},\n",
        " {'app': 1000,\n",
        "  'desc': u'$2051 / 1br - 735ft\\xb2 - Amazing ground level unit with hardwood floors and HUGE patio!! (fremont / union city / newark)',\n",
        "  'id': '4709907522',\n",
        "  'url': 'http://sfbay.craigslist.org/eby/apa/4709907522.html'},\n",
        " {'app': 1000,\n",
        "  'desc': u'$2051 / 1br - 735ft\\xb2 - Amazing ground level unit with hardwood floors and HUGE patio!! (fremont / union city / newark)',\n",
        "  'id': '4709907522',\n",
        "  'url': 'http://sfbay.craigslist.org/eby/apa/4709907522.html'},\n",
        " {'app': 1000,\n",
        "  'desc': u'$2051 / 1br - 735ft\\xb2 - Amazing ground level unit with hardwood floors and HUGE patio!! (fremont / union city / newark)',\n",
        "  'id': '4709907522',\n",
        "  'url': 'http://sfbay.craigslist.org/eby/apa/4709907522.html'},\n",
        " {'app': 1000,\n",
        "  'desc': u'$2051 / 1br - 735ft\\xb2 - Amazing ground level unit with hardwood floors and HUGE patio!! (fremont / union city / newark)',\n",
        "  'id': '4709907522',\n",
        "  'url': 'http://sfbay.craigslist.org/eby/apa/4709907522.html'},\n",
        " {'app': 1000,\n",
        "  'desc': u'$2051 / 1br - 735ft\\xb2 - Amazing ground level unit with hardwood floors and HUGE patio!! (fremont / union city / newark)',\n",
        "  'id': '4709907522',\n",
        "  'url': 'http://sfbay.craigslist.org/eby/apa/4709907522.html'},\n",
        " {'app': 1000,\n",
        "  'desc': u'$2051 / 1br - 735ft\\xb2 - Amazing ground level unit with hardwood floors and HUGE patio!! (fremont / union city / newark)',\n",
        "  'id': '4709907522',\n",
        "  'url': 'http://sfbay.craigslist.org/eby/apa/4709907522.html'},\n",
        " {'app': 1000,\n",
        "  'desc': u'$2051 / 1br - 735ft\\xb2 - Amazing ground level unit with hardwood floors and HUGE patio!! (fremont / union city / newark)',\n",
        "  'id': '4709907522',\n",
        "  'url': 'http://sfbay.craigslist.org/eby/apa/4709907522.html'},\n",
        " {'app': 1000,\n",
        "  'desc': u'$2051 / 1br - 735ft\\xb2 - Amazing ground level unit with hardwood floors and HUGE patio!! (fremont / union city / newark)',\n",
        "  'id': '4709907522',\n",
        "  'url': 'http://sfbay.craigslist.org/eby/apa/4709907522.html'},\n",
        " {'app': 1000,\n",
        "  'desc': u'$2051 / 1br - 735ft\\xb2 - Amazing ground level unit with hardwood floors and HUGE patio!! (fremont / union city / newark)',\n",
        "  'id': '4709907522',\n",
        "  'url': 'http://sfbay.craigslist.org/eby/apa/4709907522.html'},\n",
        " {'app': 1000,\n",
        "  'desc': u'$2051 / 1br - 735ft\\xb2 - Amazing ground level unit with hardwood floors and HUGE patio!! (fremont / union city / newark)',\n",
        "  'id': '4709907522',\n",
        "  'url': 'http://sfbay.craigslist.org/eby/apa/4709907522.html'},\n",
        " {'app': 1000,\n",
        "  'desc': u'$2051 / 1br - 735ft\\xb2 - Amazing ground level unit with hardwood floors and HUGE patio!! (fremont / union city / newark)',\n",
        "  'id': '4709907522',\n",
        "  'url': 'http://sfbay.craigslist.org/eby/apa/4709907522.html'},\n",
        " {'app': 1000,\n",
        "  'desc': u'$2051 / 1br - 735ft\\xb2 - Amazing ground level unit with hardwood floors and HUGE patio!! (fremont / union city / newark)',\n",
        "  'id': '4709907522',\n",
        "  'url': 'http://sfbay.craigslist.org/eby/apa/4709907522.html'},\n",
        " {'app': 1000,\n",
        "  'desc': u'$2051 / 1br - 735ft\\xb2 - Amazing ground level unit with hardwood floors and HUGE patio!! (fremont / union city / newark)',\n",
        "  'id': '4709907522',\n",
        "  'url': 'http://sfbay.craigslist.org/eby/apa/4709907522.html'},\n",
        " {'app': 1000,\n",
        "  'desc': u'$2051 / 1br - 735ft\\xb2 - Amazing ground level unit with hardwood floors and HUGE patio!! (fremont / union city / newark)',\n",
        "  'id': '4709907522',\n",
        "  'url': 'http://sfbay.craigslist.org/eby/apa/4709907522.html'},\n",
        " {'app': 1000,\n",
        "  'desc': u'$2051 / 1br - 735ft\\xb2 - Amazing ground level unit with hardwood floors and HUGE patio!! (fremont / union city / newark)',\n",
        "  'id': '4709907522',\n",
        "  'url': 'http://sfbay.craigslist.org/eby/apa/4709907522.html'},\n",
        " {'app': 1000,\n",
        "  'desc': u'$2051 / 1br - 735ft\\xb2 - Amazing ground level unit with hardwood floors and HUGE patio!! (fremont / union city / newark)',\n",
        "  'id': '4709907522',\n",
        "  'url': 'http://sfbay.craigslist.org/eby/apa/4709907522.html'},\n",
        " {'app': 1000,\n",
        "  'desc': u'$2051 / 1br - 735ft\\xb2 - Amazing ground level unit with hardwood floors and HUGE patio!! (fremont / union city / newark)',\n",
        "  'id': '4709907522',\n",
        "  'url': 'http://sfbay.craigslist.org/eby/apa/4709907522.html'},\n",
        " {'app': 1000,\n",
        "  'desc': u'$2051 / 1br - 735ft\\xb2 - Amazing ground level unit with hardwood floors and HUGE patio!! (fremont / union city / newark)',\n",
        "  'id': '4709907522',\n",
        "  'url': 'http://sfbay.craigslist.org/eby/apa/4709907522.html'},\n",
        " {'app': 1000,\n",
        "  'desc': u'$2051 / 1br - 735ft\\xb2 - Amazing ground level unit with hardwood floors and HUGE patio!! (fremont / union city / newark)',\n",
        "  'id': '4709907522',\n",
        "  'url': 'http://sfbay.craigslist.org/eby/apa/4709907522.html'},\n",
        " {'app': 1000,\n",
        "  'desc': u'$2051 / 1br - 735ft\\xb2 - Amazing ground level unit with hardwood floors and HUGE patio!! (fremont / union city / newark)',\n",
        "  'id': '4709907522',\n",
        "  'url': 'http://sfbay.craigslist.org/eby/apa/4709907522.html'},\n",
        " {'app': 1000,\n",
        "  'desc': u'$2051 / 1br - 735ft\\xb2 - Amazing ground level unit with hardwood floors and HUGE patio!! (fremont / union city / newark)',\n",
        "  'id': '4709907522',\n",
        "  'url': 'http://sfbay.craigslist.org/eby/apa/4709907522.html'},\n",
        " {'app': 1000,\n",
        "  'desc': u'$2051 / 1br - 735ft\\xb2 - Amazing ground level unit with hardwood floors and HUGE patio!! (fremont / union city / newark)',\n",
        "  'id': '4709907522',\n",
        "  'url': 'http://sfbay.craigslist.org/eby/apa/4709907522.html'},\n",
        " {'app': 1000,\n",
        "  'desc': u'$2051 / 1br - 735ft\\xb2 - Amazing ground level unit with hardwood floors and HUGE patio!! (fremont / union city / newark)',\n",
        "  'id': '4709907522',\n",
        "  'url': 'http://sfbay.craigslist.org/eby/apa/4709907522.html'},\n",
        " {'app': 1000,\n",
        "  'desc': u'$2051 / 1br - 735ft\\xb2 - Amazing ground level unit with hardwood floors and HUGE patio!! (fremont / union city / newark)',\n",
        "  'id': '4709907522',\n",
        "  'url': 'http://sfbay.craigslist.org/eby/apa/4709907522.html'},\n",
        " {'app': 1000,\n",
        "  'desc': u'$2051 / 1br - 735ft\\xb2 - Amazing ground level unit with hardwood floors and HUGE patio!! (fremont / union city / newark)',\n",
        "  'id': '4709907522',\n",
        "  'url': 'http://sfbay.craigslist.org/eby/apa/4709907522.html'},\n",
        " {'app': 1000,\n",
        "  'desc': u'$2051 / 1br - 735ft\\xb2 - Amazing ground level unit with hardwood floors and HUGE patio!! (fremont / union city / newark)',\n",
        "  'id': '4709907522',\n",
        "  'url': 'http://sfbay.craigslist.org/eby/apa/4709907522.html'},\n",
        " {'app': 1000,\n",
        "  'desc': u'$2051 / 1br - 735ft\\xb2 - Amazing ground level unit with hardwood floors and HUGE patio!! (fremont / union city / newark)',\n",
        "  'id': '4709907522',\n",
        "  'url': 'http://sfbay.craigslist.org/eby/apa/4709907522.html'},\n",
        " {'app': 1000,\n",
        "  'desc': u'$2051 / 1br - 735ft\\xb2 - Amazing ground level unit with hardwood floors and HUGE patio!! (fremont / union city / newark)',\n",
        "  'id': '4709907522',\n",
        "  'url': 'http://sfbay.craigslist.org/eby/apa/4709907522.html'},\n",
        " {'app': 1000,\n",
        "  'desc': u'$2051 / 1br - 735ft\\xb2 - Amazing ground level unit with hardwood floors and HUGE patio!! (fremont / union city / newark)',\n",
        "  'id': '4709907522',\n",
        "  'url': 'http://sfbay.craigslist.org/eby/apa/4709907522.html'},\n",
        " {'app': 1000,\n",
        "  'desc': u'$2051 / 1br - 735ft\\xb2 - Amazing ground level unit with hardwood floors and HUGE patio!! (fremont / union city / newark)',\n",
        "  'id': '4709907522',\n",
        "  'url': 'http://sfbay.craigslist.org/eby/apa/4709907522.html'},\n",
        " {'app': 1000,\n",
        "  'desc': u'$2051 / 1br - 735ft\\xb2 - Amazing ground level unit with hardwood floors and HUGE patio!! (fremont / union city / newark)',\n",
        "  'id': '4709907522',\n",
        "  'url': 'http://sfbay.craigslist.org/eby/apa/4709907522.html'},\n",
        " {'app': 1000,\n",
        "  'desc': u'$2051 / 1br - 735ft\\xb2 - Amazing ground level unit with hardwood floors and HUGE patio!! (fremont / union city / newark)',\n",
        "  'id': '4709907522',\n",
        "  'url': 'http://sfbay.craigslist.org/eby/apa/4709907522.html'},\n",
        " {'app': 1000,\n",
        "  'desc': u'$2051 / 1br - 735ft\\xb2 - Amazing ground level unit with hardwood floors and HUGE patio!! (fremont / union city / newark)',\n",
        "  'id': '4709907522',\n",
        "  'url': 'http://sfbay.craigslist.org/eby/apa/4709907522.html'},\n",
        " {'app': 1000,\n",
        "  'desc': u'$2051 / 1br - 735ft\\xb2 - Amazing ground level unit with hardwood floors and HUGE patio!! (fremont / union city / newark)',\n",
        "  'id': '4709907522',\n",
        "  'url': 'http://sfbay.craigslist.org/eby/apa/4709907522.html'},\n",
        " {'app': 1000,\n",
        "  'desc': u'$2051 / 1br - 735ft\\xb2 - Amazing ground level unit with hardwood floors and HUGE patio!! (fremont / union city / newark)',\n",
        "  'id': '4709907522',\n",
        "  'url': 'http://sfbay.craigslist.org/eby/apa/4709907522.html'},\n",
        " {'app': 1000,\n",
        "  'desc': u'$2051 / 1br - 735ft\\xb2 - Amazing ground level unit with hardwood floors and HUGE patio!! (fremont / union city / newark)',\n",
        "  'id': '4709907522',\n",
        "  'url': 'http://sfbay.craigslist.org/eby/apa/4709907522.html'},\n",
        " {'app': 1000,\n",
        "  'desc': u'$2051 / 1br - 735ft\\xb2 - Amazing ground level unit with hardwood floors and HUGE patio!! (fremont / union city / newark)',\n",
        "  'id': '4709907522',\n",
        "  'url': 'http://sfbay.craigslist.org/eby/apa/4709907522.html'},\n",
        " {'app': 1000,\n",
        "  'desc': u'$2051 / 1br - 735ft\\xb2 - Amazing ground level unit with hardwood floors and HUGE patio!! (fremont / union city / newark)',\n",
        "  'id': '4709907522',\n",
        "  'url': 'http://sfbay.craigslist.org/eby/apa/4709907522.html'},\n",
        " {'app': 1000,\n",
        "  'desc': u'$2051 / 1br - 735ft\\xb2 - Amazing ground level unit with hardwood floors and HUGE patio!! (fremont / union city / newark)',\n",
        "  'id': '4709907522',\n",
        "  'url': 'http://sfbay.craigslist.org/eby/apa/4709907522.html'},\n",
        " {'app': 1000,\n",
        "  'desc': u'$2051 / 1br - 735ft\\xb2 - Amazing ground level unit with hardwood floors and HUGE patio!! (fremont / union city / newark)',\n",
        "  'id': '4709907522',\n",
        "  'url': 'http://sfbay.craigslist.org/eby/apa/4709907522.html'},\n",
        " {'app': 1000,\n",
        "  'desc': u'$2051 / 1br - 735ft\\xb2 - Amazing ground level unit with hardwood floors and HUGE patio!! (fremont / union city / newark)',\n",
        "  'id': '4709907522',\n",
        "  'url': 'http://sfbay.craigslist.org/eby/apa/4709907522.html'},\n",
        " {'app': 1000,\n",
        "  'desc': u'$2051 / 1br - 735ft\\xb2 - Amazing ground level unit with hardwood floors and HUGE patio!! (fremont / union city / newark)',\n",
        "  'id': '4709907522',\n",
        "  'url': 'http://sfbay.craigslist.org/eby/apa/4709907522.html'},\n",
        " {'app': 1000,\n",
        "  'desc': u'$2051 / 1br - 735ft\\xb2 - Amazing ground level unit with hardwood floors and HUGE patio!! (fremont / union city / newark)',\n",
        "  'id': '4709907522',\n",
        "  'url': 'http://sfbay.craigslist.org/eby/apa/4709907522.html'},\n",
        " {'app': 1000,\n",
        "  'desc': u'$2051 / 1br - 735ft\\xb2 - Amazing ground level unit with hardwood floors and HUGE patio!! (fremont / union city / newark)',\n",
        "  'id': '4709907522',\n",
        "  'url': 'http://sfbay.craigslist.org/eby/apa/4709907522.html'},\n",
        " {'app': 1000,\n",
        "  'desc': u'$2051 / 1br - 735ft\\xb2 - Amazing ground level unit with hardwood floors and HUGE patio!! (fremont / union city / newark)',\n",
        "  'id': '4709907522',\n",
        "  'url': 'http://sfbay.craigslist.org/eby/apa/4709907522.html'},\n",
        " {'app': 1000,\n",
        "  'desc': u'$2051 / 1br - 735ft\\xb2 - Amazing ground level unit with hardwood floors and HUGE patio!! (fremont / union city / newark)',\n",
        "  'id': '4709907522',\n",
        "  'url': 'http://sfbay.craigslist.org/eby/apa/4709907522.html'},\n",
        " {'app': 1000,\n",
        "  'desc': u'$2051 / 1br - 735ft\\xb2 - Amazing ground level unit with hardwood floors and HUGE patio!! (fremont / union city / newark)',\n",
        "  'id': '4709907522',\n",
        "  'url': 'http://sfbay.craigslist.org/eby/apa/4709907522.html'},\n",
        " {'app': 1000,\n",
        "  'desc': u'$2051 / 1br - 735ft\\xb2 - Amazing ground level unit with hardwood floors and HUGE patio!! (fremont / union city / newark)',\n",
        "  'id': '4709907522',\n",
        "  'url': 'http://sfbay.craigslist.org/eby/apa/4709907522.html'},\n",
        " {'app': 1000,\n",
        "  'desc': u'$2051 / 1br - 735ft\\xb2 - Amazing ground level unit with hardwood floors and HUGE patio!! (fremont / union city / newark)',\n",
        "  'id': '4709907522',\n",
        "  'url': 'http://sfbay.craigslist.org/eby/apa/4709907522.html'},\n",
        " {'app': 1000,\n",
        "  'desc': u'$2051 / 1br - 735ft\\xb2 - Amazing ground level unit with hardwood floors and HUGE patio!! (fremont / union city / newark)',\n",
        "  'id': '4709907522',\n",
        "  'url': 'http://sfbay.craigslist.org/eby/apa/4709907522.html'},\n",
        " {'app': 1000,\n",
        "  'desc': u'$2051 / 1br - 735ft\\xb2 - Amazing ground level unit with hardwood floors and HUGE patio!! (fremont / union city / newark)',\n",
        "  'id': '4709907522',\n",
        "  'url': 'http://sfbay.craigslist.org/eby/apa/4709907522.html'},\n",
        " {'app': 1000,\n",
        "  'desc': u'$2051 / 1br - 735ft\\xb2 - Amazing ground level unit with hardwood floors and HUGE patio!! (fremont / union city / newark)',\n",
        "  'id': '4709907522',\n",
        "  'url': 'http://sfbay.craigslist.org/eby/apa/4709907522.html'},\n",
        " {'app': 1000,\n",
        "  'desc': u'$2051 / 1br - 735ft\\xb2 - Amazing ground level unit with hardwood floors and HUGE patio!! (fremont / union city / newark)',\n",
        "  'id': '4709907522',\n",
        "  'url': 'http://sfbay.craigslist.org/eby/apa/4709907522.html'},\n",
        " {'app': 1000,\n",
        "  'desc': u'$2051 / 1br - 735ft\\xb2 - Amazing ground level unit with hardwood floors and HUGE patio!! (fremont / union city / newark)',\n",
        "  'id': '4709907522',\n",
        "  'url': 'http://sfbay.craigslist.org/eby/apa/4709907522.html'},\n",
        " {'app': 1000,\n",
        "  'desc': u'$2051 / 1br - 735ft\\xb2 - Amazing ground level unit with hardwood floors and HUGE patio!! (fremont / union city / newark)',\n",
        "  'id': '4709907522',\n",
        "  'url': 'http://sfbay.craigslist.org/eby/apa/4709907522.html'},\n",
        " {'app': 1000,\n",
        "  'desc': u'$2051 / 1br - 735ft\\xb2 - Amazing ground level unit with hardwood floors and HUGE patio!! (fremont / union city / newark)',\n",
        "  'id': '4709907522',\n",
        "  'url': 'http://sfbay.craigslist.org/eby/apa/4709907522.html'},\n",
        " {'app': 1000,\n",
        "  'desc': u'$2051 / 1br - 735ft\\xb2 - Amazing ground level unit with hardwood floors and HUGE patio!! (fremont / union city / newark)',\n",
        "  'id': '4709907522',\n",
        "  'url': 'http://sfbay.craigslist.org/eby/apa/4709907522.html'},\n",
        " {'app': 1000,\n",
        "  'desc': u'$2051 / 1br - 735ft\\xb2 - Amazing ground level unit with hardwood floors and HUGE patio!! (fremont / union city / newark)',\n",
        "  'id': '4709907522',\n",
        "  'url': 'http://sfbay.craigslist.org/eby/apa/4709907522.html'},\n",
        " {'app': 1000,\n",
        "  'desc': u'$2051 / 1br - 735ft\\xb2 - Amazing ground level unit with hardwood floors and HUGE patio!! (fremont / union city / newark)',\n",
        "  'id': '4709907522',\n",
        "  'url': 'http://sfbay.craigslist.org/eby/apa/4709907522.html'},\n",
        " {'app': 1000,\n",
        "  'desc': u'$2051 / 1br - 735ft\\xb2 - Amazing ground level unit with hardwood floors and HUGE patio!! (fremont / union city / newark)',\n",
        "  'id': '4709907522',\n",
        "  'url': 'http://sfbay.craigslist.org/eby/apa/4709907522.html'},\n",
        " {'app': 1000,\n",
        "  'desc': u'$2051 / 1br - 735ft\\xb2 - Amazing ground level unit with hardwood floors and HUGE patio!! (fremont / union city / newark)',\n",
        "  'id': '4709907522',\n",
        "  'url': 'http://sfbay.craigslist.org/eby/apa/4709907522.html'},\n",
        " {'app': 1000,\n",
        "  'desc': u'$2051 / 1br - 735ft\\xb2 - Amazing ground level unit with hardwood floors and HUGE patio!! (fremont / union city / newark)',\n",
        "  'id': '4709907522',\n",
        "  'url': 'http://sfbay.craigslist.org/eby/apa/4709907522.html'},\n",
        " {'app': 1000,\n",
        "  'desc': u'$2051 / 1br - 735ft\\xb2 - Amazing ground level unit with hardwood floors and HUGE patio!! (fremont / union city / newark)',\n",
        "  'id': '4709907522',\n",
        "  'url': 'http://sfbay.craigslist.org/eby/apa/4709907522.html'},\n",
        " {'app': 1000,\n",
        "  'desc': u'$2051 / 1br - 735ft\\xb2 - Amazing ground level unit with hardwood floors and HUGE patio!! (fremont / union city / newark)',\n",
        "  'id': '4709907522',\n",
        "  'url': 'http://sfbay.craigslist.org/eby/apa/4709907522.html'},\n",
        " {'app': 1000,\n",
        "  'desc': u'$2051 / 1br - 735ft\\xb2 - Amazing ground level unit with hardwood floors and HUGE patio!! (fremont / union city / newark)',\n",
        "  'id': '4709907522',\n",
        "  'url': 'http://sfbay.craigslist.org/eby/apa/4709907522.html'},\n",
        " {'app': 1000,\n",
        "  'desc': u'$2051 / 1br - 735ft\\xb2 - Amazing ground level unit with hardwood floors and HUGE patio!! (fremont / union city / newark)',\n",
        "  'id': '4709907522',\n",
        "  'url': 'http://sfbay.craigslist.org/eby/apa/4709907522.html'},\n",
        " {'app': 1000,\n",
        "  'desc': u'$2051 / 1br - 735ft\\xb2 - Amazing ground level unit with hardwood floors and HUGE patio!! (fremont / union city / newark)',\n",
        "  'id': '4709907522',\n",
        "  'url': 'http://sfbay.craigslist.org/eby/apa/4709907522.html'},\n",
        " {'app': 1000,\n",
        "  'desc': u'$2051 / 1br - 735ft\\xb2 - Amazing ground level unit with hardwood floors and HUGE patio!! (fremont / union city / newark)',\n",
        "  'id': '4709907522',\n",
        "  'url': 'http://sfbay.craigslist.org/eby/apa/4709907522.html'},\n",
        " {'app': 1000,\n",
        "  'desc': u'$2051 / 1br - 735ft\\xb2 - Amazing ground level unit with hardwood floors and HUGE patio!! (fremont / union city / newark)',\n",
        "  'id': '4709907522',\n",
        "  'url': 'http://sfbay.craigslist.org/eby/apa/4709907522.html'},\n",
        " {'app': 1000,\n",
        "  'desc': u'$2051 / 1br - 735ft\\xb2 - Amazing ground level unit with hardwood floors and HUGE patio!! (fremont / union city / newark)',\n",
        "  'id': '4709907522',\n",
        "  'url': 'http://sfbay.craigslist.org/eby/apa/4709907522.html'},\n",
        " {'app': 1000,\n",
        "  'desc': u'$2051 / 1br - 735ft\\xb2 - Amazing ground level unit with hardwood floors and HUGE patio!! (fremont / union city / newark)',\n",
        "  'id': '4709907522',\n",
        "  'url': 'http://sfbay.craigslist.org/eby/apa/4709907522.html'},\n",
        " {'app': 1000,\n",
        "  'desc': u'$2051 / 1br - 735ft\\xb2 - Amazing ground level unit with hardwood floors and HUGE patio!! (fremont / union city / newark)',\n",
        "  'id': '4709907522',\n",
        "  'url': 'http://sfbay.craigslist.org/eby/apa/4709907522.html'},\n",
        " {'app': 1000,\n",
        "  'desc': u'$2051 / 1br - 735ft\\xb2 - Amazing ground level unit with hardwood floors and HUGE patio!! (fremont / union city / newark)',\n",
        "  'id': '4709907522',\n",
        "  'url': 'http://sfbay.craigslist.org/eby/apa/4709907522.html'},\n",
        " {'app': 1000,\n",
        "  'desc': u'$2051 / 1br - 735ft\\xb2 - Amazing ground level unit with hardwood floors and HUGE patio!! (fremont / union city / newark)',\n",
        "  'id': '4709907522',\n",
        "  'url': 'http://sfbay.craigslist.org/eby/apa/4709907522.html'},\n",
        " {'app': 1000,\n",
        "  'desc': u'$2051 / 1br - 735ft\\xb2 - Amazing ground level unit with hardwood floors and HUGE patio!! (fremont / union city / newark)',\n",
        "  'id': '4709907522',\n",
        "  'url': 'http://sfbay.craigslist.org/eby/apa/4709907522.html'},\n",
        " {'app': 1000,\n",
        "  'desc': u'$2051 / 1br - 735ft\\xb2 - Amazing ground level unit with hardwood floors and HUGE patio!! (fremont / union city / newark)',\n",
        "  'id': '4709907522',\n",
        "  'url': 'http://sfbay.craigslist.org/eby/apa/4709907522.html'},\n",
        " {'app': 1000,\n",
        "  'desc': u'$2051 / 1br - 735ft\\xb2 - Amazing ground level unit with hardwood floors and HUGE patio!! (fremont / union city / newark)',\n",
        "  'id': '4709907522',\n",
        "  'url': 'http://sfbay.craigslist.org/eby/apa/4709907522.html'},\n",
        " {'app': 1000,\n",
        "  'desc': u'$2051 / 1br - 735ft\\xb2 - Amazing ground level unit with hardwood floors and HUGE patio!! (fremont / union city / newark)',\n",
        "  'id': '4709907522',\n",
        "  'url': 'http://sfbay.craigslist.org/eby/apa/4709907522.html'},\n",
        " {'app': 1000,\n",
        "  'desc': u'$2051 / 1br - 735ft\\xb2 - Amazing ground level unit with hardwood floors and HUGE patio!! (fremont / union city / newark)',\n",
        "  'id': '4709907522',\n",
        "  'url': 'http://sfbay.craigslist.org/eby/apa/4709907522.html'},\n",
        " {'app': 1000,\n",
        "  'desc': u'$2051 / 1br - 735ft\\xb2 - Amazing ground level unit with hardwood floors and HUGE patio!! (fremont / union city / newark)',\n",
        "  'id': '4709907522',\n",
        "  'url': 'http://sfbay.craigslist.org/eby/apa/4709907522.html'},\n",
        " {'app': 1000,\n",
        "  'desc': u'$2051 / 1br - 735ft\\xb2 - Amazing ground level unit with hardwood floors and HUGE patio!! (fremont / union city / newark)',\n",
        "  'id': '4709907522',\n",
        "  'url': 'http://sfbay.craigslist.org/eby/apa/4709907522.html'},\n",
        " {'app': 1000,\n",
        "  'desc': u'$2051 / 1br - 735ft\\xb2 - Amazing ground level unit with hardwood floors and HUGE patio!! (fremont / union city / newark)',\n",
        "  'id': '4709907522',\n",
        "  'url': 'http://sfbay.craigslist.org/eby/apa/4709907522.html'},\n",
        " {'app': 1000,\n",
        "  'desc': u'$2051 / 1br - 735ft\\xb2 - Amazing ground level unit with hardwood floors and HUGE patio!! (fremont / union city / newark)',\n",
        "  'id': '4709907522',\n",
        "  'url': 'http://sfbay.craigslist.org/eby/apa/4709907522.html'},\n",
        " {'app': 1000,\n",
        "  'desc': u'$2051 / 1br - 735ft\\xb2 - Amazing ground level unit with hardwood floors and HUGE patio!! (fremont / union city / newark)',\n",
        "  'id': '4709907522',\n",
        "  'url': 'http://sfbay.craigslist.org/eby/apa/4709907522.html'},\n",
        " {'app': 1000,\n",
        "  'desc': u'$2051 / 1br - 735ft\\xb2 - Amazing ground level unit with hardwood floors and HUGE patio!! (fremont / union city / newark)',\n",
        "  'id': '4709907522',\n",
        "  'url': 'http://sfbay.craigslist.org/eby/apa/4709907522.html'},\n",
        " {'app': 1000,\n",
        "  'desc': u'$2051 / 1br - 735ft\\xb2 - Amazing ground level unit with hardwood floors and HUGE patio!! (fremont / union city / newark)',\n",
        "  'id': '4709907522',\n",
        "  'url': 'http://sfbay.craigslist.org/eby/apa/4709907522.html'},\n",
        " {'app': 1000,\n",
        "  'desc': u'$2051 / 1br - 735ft\\xb2 - Amazing ground level unit with hardwood floors and HUGE patio!! (fremont / union city / newark)',\n",
        "  'id': '4709907522',\n",
        "  'url': 'http://sfbay.craigslist.org/eby/apa/4709907522.html'},\n",
        " {'app': 1000,\n",
        "  'desc': u'$2051 / 1br - 735ft\\xb2 - Amazing ground level unit with hardwood floors and HUGE patio!! (fremont / union city / newark)',\n",
        "  'id': '4709907522',\n",
        "  'url': 'http://sfbay.craigslist.org/eby/apa/4709907522.html'},\n",
        " {'app': 1000,\n",
        "  'desc': u'$2051 / 1br - 735ft\\xb2 - Amazing ground level unit with hardwood floors and HUGE patio!! (fremont / union city / newark)',\n",
        "  'id': '4709907522',\n",
        "  'url': 'http://sfbay.craigslist.org/eby/apa/4709907522.html'},\n",
        " {'app': 1000,\n",
        "  'desc': u'$2051 / 1br - 735ft\\xb2 - Amazing ground level unit with hardwood floors and HUGE patio!! (fremont / union city / newark)',\n",
        "  'id': '4709907522',\n",
        "  'url': 'http://sfbay.craigslist.org/eby/apa/4709907522.html'},\n",
        " {'app': 1000,\n",
        "  'desc': u'$2051 / 1br - 735ft\\xb2 - Amazing ground level unit with hardwood floors and HUGE patio!! (fremont / union city / newark)',\n",
        "  'id': '4709907522',\n",
        "  'url': 'http://sfbay.craigslist.org/eby/apa/4709907522.html'},\n",
        " {'app': 1000,\n",
        "  'desc': u'$2051 / 1br - 735ft\\xb2 - Amazing ground level unit with hardwood floors and HUGE patio!! (fremont / union city / newark)',\n",
        "  'id': '4709907522',\n",
        "  'url': 'http://sfbay.craigslist.org/eby/apa/4709907522.html'},\n",
        " {'app': 1000,\n",
        "  'desc': u'$2051 / 1br - 735ft\\xb2 - Amazing ground level unit with hardwood floors and HUGE patio!! (fremont / union city / newark)',\n",
        "  'id': '4709907522',\n",
        "  'url': 'http://sfbay.craigslist.org/eby/apa/4709907522.html'},\n",
        " {'app': 1000,\n",
        "  'desc': u'$2051 / 1br - 735ft\\xb2 - Amazing ground level unit with hardwood floors and HUGE patio!! (fremont / union city / newark)',\n",
        "  'id': '4709907522',\n",
        "  'url': 'http://sfbay.craigslist.org/eby/apa/4709907522.html'},\n",
        " {'app': 1000,\n",
        "  'desc': u'$2051 / 1br - 735ft\\xb2 - Amazing ground level unit with hardwood floors and HUGE patio!! (fremont / union city / newark)',\n",
        "  'id': '4709907522',\n",
        "  'url': 'http://sfbay.craigslist.org/eby/apa/4709907522.html'},\n",
        " {'app': 1000,\n",
        "  'desc': u'$2051 / 1br - 735ft\\xb2 - Amazing ground level unit with hardwood floors and HUGE patio!! (fremont / union city / newark)',\n",
        "  'id': '4709907522',\n",
        "  'url': 'http://sfbay.craigslist.org/eby/apa/4709907522.html'},\n",
        " {'app': 1000,\n",
        "  'desc': u'$2051 / 1br - 735ft\\xb2 - Amazing ground level unit with hardwood floors and HUGE patio!! (fremont / union city / newark)',\n",
        "  'id': '4709907522',\n",
        "  'url': 'http://sfbay.craigslist.org/eby/apa/4709907522.html'},\n",
        " {'app': 1000,\n",
        "  'desc': u'$2051 / 1br - 735ft\\xb2 - Amazing ground level unit with hardwood floors and HUGE patio!! (fremont / union city / newark)',\n",
        "  'id': '4709907522',\n",
        "  'url': 'http://sfbay.craigslist.org/eby/apa/4709907522.html'},\n",
        " {'app': 1000,\n",
        "  'desc': u'$2051 / 1br - 735ft\\xb2 - Amazing ground level unit with hardwood floors and HUGE patio!! (fremont / union city / newark)',\n",
        "  'id': '4709907522',\n",
        "  'url': 'http://sfbay.craigslist.org/eby/apa/4709907522.html'},\n",
        " {'app': 1000,\n",
        "  'desc': u'$2051 / 1br - 735ft\\xb2 - Amazing ground level unit with hardwood floors and HUGE patio!! (fremont / union city / newark)',\n",
        "  'id': '4709907522',\n",
        "  'url': 'http://sfbay.craigslist.org/eby/apa/4709907522.html'},\n",
        " {'app': 1000,\n",
        "  'desc': u'$2051 / 1br - 735ft\\xb2 - Amazing ground level unit with hardwood floors and HUGE patio!! (fremont / union city / newark)',\n",
        "  'id': '4709907522',\n",
        "  'url': 'http://sfbay.craigslist.org/eby/apa/4709907522.html'},\n",
        " {'app': 1000,\n",
        "  'desc': u'$2051 / 1br - 735ft\\xb2 - Amazing ground level unit with hardwood floors and HUGE patio!! (fremont / union city / newark)',\n",
        "  'id': '4709907522',\n",
        "  'url': 'http://sfbay.craigslist.org/eby/apa/4709907522.html'},\n",
        " {'app': 1000,\n",
        "  'desc': u'$2051 / 1br - 735ft\\xb2 - Amazing ground level unit with hardwood floors and HUGE patio!! (fremont / union city / newark)',\n",
        "  'id': '4709907522',\n",
        "  'url': 'http://sfbay.craigslist.org/eby/apa/4709907522.html'},\n",
        " {'app': 1000,\n",
        "  'desc': u'$2051 / 1br - 735ft\\xb2 - Amazing ground level unit with hardwood floors and HUGE patio!! (fremont / union city / newark)',\n",
        "  'id': '4709907522',\n",
        "  'url': 'http://sfbay.craigslist.org/eby/apa/4709907522.html'},\n",
        " {'app': 1000,\n",
        "  'desc': u'$2051 / 1br - 735ft\\xb2 - Amazing ground level unit with hardwood floors and HUGE patio!! (fremont / union city / newark)',\n",
        "  'id': '4709907522',\n",
        "  'url': 'http://sfbay.craigslist.org/eby/apa/4709907522.html'},\n",
        " {'app': 1000,\n",
        "  'desc': u'$2051 / 1br - 735ft\\xb2 - Amazing ground level unit with hardwood floors and HUGE patio!! (fremont / union city / newark)',\n",
        "  'id': '4709907522',\n",
        "  'url': 'http://sfbay.craigslist.org/eby/apa/4709907522.html'},\n",
        " {'app': 1000,\n",
        "  'desc': u'$2051 / 1br - 735ft\\xb2 - Amazing ground level unit with hardwood floors and HUGE patio!! (fremont / union city / newark)',\n",
        "  'id': '4709907522',\n",
        "  'url': 'http://sfbay.craigslist.org/eby/apa/4709907522.html'},\n",
        " {'app': 1000,\n",
        "  'desc': u'$2051 / 1br - 735ft\\xb2 - Amazing ground level unit with hardwood floors and HUGE patio!! (fremont / union city / newark)',\n",
        "  'id': '4709907522',\n",
        "  'url': 'http://sfbay.craigslist.org/eby/apa/4709907522.html'},\n",
        " {'app': 1000,\n",
        "  'desc': u'$2051 / 1br - 735ft\\xb2 - Amazing ground level unit with hardwood floors and HUGE patio!! (fremont / union city / newark)',\n",
        "  'id': '4709907522',\n",
        "  'url': 'http://sfbay.craigslist.org/eby/apa/4709907522.html'},\n",
        " {'app': 1000,\n",
        "  'desc': u'$2051 / 1br - 735ft\\xb2 - Amazing ground level unit with hardwood floors and HUGE patio!! (fremont / union city / newark)',\n",
        "  'id': '4709907522',\n",
        "  'url': 'http://sfbay.craigslist.org/eby/apa/4709907522.html'},\n",
        " {'app': 1000,\n",
        "  'desc': u'$2051 / 1br - 735ft\\xb2 - Amazing ground level unit with hardwood floors and HUGE patio!! (fremont / union city / newark)',\n",
        "  'id': '4709907522',\n",
        "  'url': 'http://sfbay.craigslist.org/eby/apa/4709907522.html'},\n",
        " {'app': 1000,\n",
        "  'desc': u'$2051 / 1br - 735ft\\xb2 - Amazing ground level unit with hardwood floors and HUGE patio!! (fremont / union city / newark)',\n",
        "  'id': '4709907522',\n",
        "  'url': 'http://sfbay.craigslist.org/eby/apa/4709907522.html'},\n",
        " {'app': 1000,\n",
        "  'desc': u'$2051 / 1br - 735ft\\xb2 - Amazing ground level unit with hardwood floors and HUGE patio!! (fremont / union city / newark)',\n",
        "  'id': '4709907522',\n",
        "  'url': 'http://sfbay.craigslist.org/eby/apa/4709907522.html'},\n",
        " {'app': 1000,\n",
        "  'desc': u'$2051 / 1br - 735ft\\xb2 - Amazing ground level unit with hardwood floors and HUGE patio!! (fremont / union city / newark)',\n",
        "  'id': '4709907522',\n",
        "  'url': 'http://sfbay.craigslist.org/eby/apa/4709907522.html'},\n",
        " {'app': 1000,\n",
        "  'desc': u'$2051 / 1br - 735ft\\xb2 - Amazing ground level unit with hardwood floors and HUGE patio!! (fremont / union city / newark)',\n",
        "  'id': '4709907522',\n",
        "  'url': 'http://sfbay.craigslist.org/eby/apa/4709907522.html'},\n",
        " {'app': 1000,\n",
        "  'desc': u'$2051 / 1br - 735ft\\xb2 - Amazing ground level unit with hardwood floors and HUGE patio!! (fremont / union city / newark)',\n",
        "  'id': '4709907522',\n",
        "  'url': 'http://sfbay.craigslist.org/eby/apa/4709907522.html'},\n",
        " {'app': 1000,\n",
        "  'desc': u'$2051 / 1br - 735ft\\xb2 - Amazing ground level unit with hardwood floors and HUGE patio!! (fremont / union city / newark)',\n",
        "  'id': '4709907522',\n",
        "  'url': 'http://sfbay.craigslist.org/eby/apa/4709907522.html'},\n",
        " {'app': 1000,\n",
        "  'desc': u'$2051 / 1br - 735ft\\xb2 - Amazing ground level unit with hardwood floors and HUGE patio!! (fremont / union city / newark)',\n",
        "  'id': '4709907522',\n",
        "  'url': 'http://sfbay.craigslist.org/eby/apa/4709907522.html'},\n",
        " {'app': 1000,\n",
        "  'desc': u'$2051 / 1br - 735ft\\xb2 - Amazing ground level unit with hardwood floors and HUGE patio!! (fremont / union city / newark)',\n",
        "  'id': '4709907522',\n",
        "  'url': 'http://sfbay.craigslist.org/eby/apa/4709907522.html'},\n",
        " {'app': 1000,\n",
        "  'desc': u'$2051 / 1br - 735ft\\xb2 - Amazing ground level unit with hardwood floors and HUGE patio!! (fremont / union city / newark)',\n",
        "  'id': '4709907522',\n",
        "  'url': 'http://sfbay.craigslist.org/eby/apa/4709907522.html'},\n",
        " {'app': 1000,\n",
        "  'desc': u'$2051 / 1br - 735ft\\xb2 - Amazing ground level unit with hardwood floors and HUGE patio!! (fremont / union city / newark)',\n",
        "  'id': '4709907522',\n",
        "  'url': 'http://sfbay.craigslist.org/eby/apa/4709907522.html'},\n",
        " {'app': 1000,\n",
        "  'desc': u'$2051 / 1br - 735ft\\xb2 - Amazing ground level unit with hardwood floors and HUGE patio!! (fremont / union city / newark)',\n",
        "  'id': '4709907522',\n",
        "  'url': 'http://sfbay.craigslist.org/eby/apa/4709907522.html'},\n",
        " {'app': 1000,\n",
        "  'desc': u'$2051 / 1br - 735ft\\xb2 - Amazing ground level unit with hardwood floors and HUGE patio!! (fremont / union city / newark)',\n",
        "  'id': '4709907522',\n",
        "  'url': 'http://sfbay.craigslist.org/eby/apa/4709907522.html'},\n",
        " {'app': 1000,\n",
        "  'desc': u'$2051 / 1br - 735ft\\xb2 - Amazing ground level unit with hardwood floors and HUGE patio!! (fremont / union city / newark)',\n",
        "  'id': '4709907522',\n",
        "  'url': 'http://sfbay.craigslist.org/eby/apa/4709907522.html'},\n",
        " {'app': 1000,\n",
        "  'desc': u'$2051 / 1br - 735ft\\xb2 - Amazing ground level unit with hardwood floors and HUGE patio!! (fremont / union city / newark)',\n",
        "  'id': '4709907522',\n",
        "  'url': 'http://sfbay.craigslist.org/eby/apa/4709907522.html'},\n",
        " {'app': 1000,\n",
        "  'desc': u'$2051 / 1br - 735ft\\xb2 - Amazing ground level unit with hardwood floors and HUGE patio!! (fremont / union city / newark)',\n",
        "  'id': '4709907522',\n",
        "  'url': 'http://sfbay.craigslist.org/eby/apa/4709907522.html'},\n",
        " {'app': 1000,\n",
        "  'desc': u'$2051 / 1br - 735ft\\xb2 - Amazing ground level unit with hardwood floors and HUGE patio!! (fremont / union city / newark)',\n",
        "  'id': '4709907522',\n",
        "  'url': 'http://sfbay.craigslist.org/eby/apa/4709907522.html'},\n",
        " {'app': 1000,\n",
        "  'desc': u'$2051 / 1br - 735ft\\xb2 - Amazing ground level unit with hardwood floors and HUGE patio!! (fremont / union city / newark)',\n",
        "  'id': '4709907522',\n",
        "  'url': 'http://sfbay.craigslist.org/eby/apa/4709907522.html'},\n",
        " {'app': 1000,\n",
        "  'desc': u'$2051 / 1br - 735ft\\xb2 - Amazing ground level unit with hardwood floors and HUGE patio!! (fremont / union city / newark)',\n",
        "  'id': '4709907522',\n",
        "  'url': 'http://sfbay.craigslist.org/eby/apa/4709907522.html'},\n",
        " {'app': 1000,\n",
        "  'desc': u'$2051 / 1br - 735ft\\xb2 - Amazing ground level unit with hardwood floors and HUGE patio!! (fremont / union city / newark)',\n",
        "  'id': '4709907522',\n",
        "  'url': 'http://sfbay.craigslist.org/eby/apa/4709907522.html'},\n",
        " {'app': 1000,\n",
        "  'desc': u'$2051 / 1br - 735ft\\xb2 - Amazing ground level unit with hardwood floors and HUGE patio!! (fremont / union city / newark)',\n",
        "  'id': '4709907522',\n",
        "  'url': 'http://sfbay.craigslist.org/eby/apa/4709907522.html'},\n",
        " {'app': 1000,\n",
        "  'desc': u'$2051 / 1br - 735ft\\xb2 - Amazing ground level unit with hardwood floors and HUGE patio!! (fremont / union city / newark)',\n",
        "  'id': '4709907522',\n",
        "  'url': 'http://sfbay.craigslist.org/eby/apa/4709907522.html'},\n",
        " {'app': 1000,\n",
        "  'desc': u'$2051 / 1br - 735ft\\xb2 - Amazing ground level unit with hardwood floors and HUGE patio!! (fremont / union city / newark)',\n",
        "  'id': '4709907522',\n",
        "  'url': 'http://sfbay.craigslist.org/eby/apa/4709907522.html'},\n",
        " {'app': 1000,\n",
        "  'desc': u'$2051 / 1br - 735ft\\xb2 - Amazing ground level unit with hardwood floors and HUGE patio!! (fremont / union city / newark)',\n",
        "  'id': '4709907522',\n",
        "  'url': 'http://sfbay.craigslist.org/eby/apa/4709907522.html'},\n",
        " {'app': 1000,\n",
        "  'desc': u'$2051 / 1br - 735ft\\xb2 - Amazing ground level unit with hardwood floors and HUGE patio!! (fremont / union city / newark)',\n",
        "  'id': '4709907522',\n",
        "  'url': 'http://sfbay.craigslist.org/eby/apa/4709907522.html'},\n",
        " {'app': 1000,\n",
        "  'desc': u'$2051 / 1br - 735ft\\xb2 - Amazing ground level unit with hardwood floors and HUGE patio!! (fremont / union city / newark)',\n",
        "  'id': '4709907522',\n",
        "  'url': 'http://sfbay.craigslist.org/eby/apa/4709907522.html'},\n",
        " {'app': 1000,\n",
        "  'desc': u'$2051 / 1br - 735ft\\xb2 - Amazing ground level unit with hardwood floors and HUGE patio!! (fremont / union city / newark)',\n",
        "  'id': '4709907522',\n",
        "  'url': 'http://sfbay.craigslist.org/eby/apa/4709907522.html'},\n",
        " {'app': 1000,\n",
        "  'desc': u'$2051 / 1br - 735ft\\xb2 - Amazing ground level unit with hardwood floors and HUGE patio!! (fremont / union city / newark)',\n",
        "  'id': '4709907522',\n",
        "  'url': 'http://sfbay.craigslist.org/eby/apa/4709907522.html'},\n",
        " {'app': 1000,\n",
        "  'desc': u'$2051 / 1br - 735ft\\xb2 - Amazing ground level unit with hardwood floors and HUGE patio!! (fremont / union city / newark)',\n",
        "  'id': '4709907522',\n",
        "  'url': 'http://sfbay.craigslist.org/eby/apa/4709907522.html'},\n",
        " {'app': 1000,\n",
        "  'desc': u'$2051 / 1br - 735ft\\xb2 - Amazing ground level unit with hardwood floors and HUGE patio!! (fremont / union city / newark)',\n",
        "  'id': '4709907522',\n",
        "  'url': 'http://sfbay.craigslist.org/eby/apa/4709907522.html'},\n",
        " {'app': 1000,\n",
        "  'desc': u'$2051 / 1br - 735ft\\xb2 - Amazing ground level unit with hardwood floors and HUGE patio!! (fremont / union city / newark)',\n",
        "  'id': '4709907522',\n",
        "  'url': 'http://sfbay.craigslist.org/eby/apa/4709907522.html'},\n",
        " {'app': 1000,\n",
        "  'desc': u'$2051 / 1br - 735ft\\xb2 - Amazing ground level unit with hardwood floors and HUGE patio!! (fremont / union city / newark)',\n",
        "  'id': '4709907522',\n",
        "  'url': 'http://sfbay.craigslist.org/eby/apa/4709907522.html'},\n",
        " {'app': 1000,\n",
        "  'desc': u'$2051 / 1br - 735ft\\xb2 - Amazing ground level unit with hardwood floors and HUGE patio!! (fremont / union city / newark)',\n",
        "  'id': '4709907522',\n",
        "  'url': 'http://sfbay.craigslist.org/eby/apa/4709907522.html'},\n",
        " {'app': 1000,\n",
        "  'desc': u'$2051 / 1br - 735ft\\xb2 - Amazing ground level unit with hardwood floors and HUGE patio!! (fremont / union city / newark)',\n",
        "  'id': '4709907522',\n",
        "  'url': 'http://sfbay.craigslist.org/eby/apa/4709907522.html'},\n",
        " {'app': 1000,\n",
        "  'desc': u'$2051 / 1br - 735ft\\xb2 - Amazing ground level unit with hardwood floors and HUGE patio!! (fremont / union city / newark)',\n",
        "  'id': '4709907522',\n",
        "  'url': 'http://sfbay.craigslist.org/eby/apa/4709907522.html'},\n",
        " {'app': 1000,\n",
        "  'desc': u'$2051 / 1br - 735ft\\xb2 - Amazing ground level unit with hardwood floors and HUGE patio!! (fremont / union city / newark)',\n",
        "  'id': '4709907522',\n",
        "  'url': 'http://sfbay.craigslist.org/eby/apa/4709907522.html'},\n",
        " {'app': 1000,\n",
        "  'desc': u'$2051 / 1br - 735ft\\xb2 - Amazing ground level unit with hardwood floors and HUGE patio!! (fremont / union city / newark)',\n",
        "  'id': '4709907522',\n",
        "  'url': 'http://sfbay.craigslist.org/eby/apa/4709907522.html'},\n",
        " {'app': 1000,\n",
        "  'desc': u'$2051 / 1br - 735ft\\xb2 - Amazing ground level unit with hardwood floors and HUGE patio!! (fremont / union city / newark)',\n",
        "  'id': '4709907522',\n",
        "  'url': 'http://sfbay.craigslist.org/eby/apa/4709907522.html'},\n",
        " {'app': 1000,\n",
        "  'desc': u'$2051 / 1br - 735ft\\xb2 - Amazing ground level unit with hardwood floors and HUGE patio!! (fremont / union city / newark)',\n",
        "  'id': '4709907522',\n",
        "  'url': 'http://sfbay.craigslist.org/eby/apa/4709907522.html'},\n",
        " {'app': 1000,\n",
        "  'desc': u'$2051 / 1br - 735ft\\xb2 - Amazing ground level unit with hardwood floors and HUGE patio!! (fremont / union city / newark)',\n",
        "  'id': '4709907522',\n",
        "  'url': 'http://sfbay.craigslist.org/eby/apa/4709907522.html'},\n",
        " {'app': 1000,\n",
        "  'desc': u'$2051 / 1br - 735ft\\xb2 - Amazing ground level unit with hardwood floors and HUGE patio!! (fremont / union city / newark)',\n",
        "  'id': '4709907522',\n",
        "  'url': 'http://sfbay.craigslist.org/eby/apa/4709907522.html'}]"
       ]
      }
     ],
     "prompt_number": 57
    },
    {
     "cell_type": "code",
     "collapsed": false,
     "input": [
      "len(all_content)\n",
      "len(final_content)"
     ],
     "language": "python",
     "metadata": {},
     "outputs": [
      {
       "metadata": {},
       "output_type": "pyout",
       "prompt_number": 58,
       "text": [
        "501"
       ]
      }
     ],
     "prompt_number": 58
    },
    {
     "cell_type": "code",
     "collapsed": false,
     "input": [
      "all_content"
     ],
     "language": "python",
     "metadata": {},
     "outputs": [
      {
       "metadata": {},
       "output_type": "pyout",
       "prompt_number": 59,
       "text": [
        "{'4660891351': u'$3,100/mo',\n",
        " '4667100523': u'$2600 / 4br - 1321ft\\xb2 - 4 beds/2 baths near Stevenson /Sundale/880 walking distance to schools (fremont / union city / newark)',\n",
        " '4667238532': u'$650 / 1br - Bedroom with shared bath and  kitchen (fremont / union city / newark)',\n",
        " '4667279757': u'$3400 / 5br - 2880ft\\xb2 - Stunning Semi-Custom Home in Fremont 4 Bedrm + Bonus Rm 3 Baths (fremont / union city / newark)',\n",
        " '4672754018': u'$2200 / 1br - 800ft\\xb2 - 1 Bd, 1 Ba Unit, Mission Fremont  INCLUDING ALL UTIL (fremont / union city / newark)',\n",
        " '4674182670': u'$2900 / 3br - 1472ft\\xb2 - 3 bed 2 .5 bath townhome remodeled in Fremont  (fremont / union city / newark)',\n",
        " '4675852525': u'$3500 / 4br - 2094ft\\xb2 - Newly Built 4 Bed/3.5 Bath Single Home in Fremont Irvington (fremont / union city / newark)',\n",
        " '4675937071': u'$2900 / 3br - 1472ft\\xb2 - 3 bed 2 .5 bath townhome remodeled in Fremont  (fremont / union city / newark)',\n",
        " '4677306808': u'$2900 / 3br - 1472ft\\xb2 - 3 bed 2 .5 bath townhome remodeled in Fremont  (fremont / union city / newark)',\n",
        " '4678583672': u'$3200 / 4br - 2100ft\\xb2 - GREAT UNION CITY LOCATION GRANITE,FIREPLACE,HARDWOOD,W/D,STAINLESS (fremont / union city / newark)',\n",
        " '4680586921': u'$2,900/mo',\n",
        " '4683812582': u'$3100 / 3br - 1780ft\\xb2 - MISSION SAN JOSE ANTELOPE HILLS TOWNHOUSE (fremont / union city / newark)',\n",
        " '4684119955': u'$2400 / 3br - 1576ft\\xb2 - Fremont Brookvale house (fremont / union city / newark)',\n",
        " '4685187841': u'$2800 / 3br - 4274 Stevenson Blvd (fremont / union city / newark)',\n",
        " '4685873529': u'$1,895/mo',\n",
        " '4687019251': u'$1925 / 2br - 840ft\\xb2 - Two Bedroom, One Bath Downstair Available for October 10Th Move in ! (fremont / union city / newark)',\n",
        " '4688394503': u'$2995 / 3br - 1800ft\\xb2 - Bright, Clean Townhouse for Rent (fremont / union city / newark)',\n",
        " '4688449232': u'$1848 / 1br - 603ft\\xb2 - Apartment w/ washer & dryer in unit. Fitness center also! (fremont / union city / newark)',\n",
        " '4690236057': u'$2500 / 3br - 1550ft\\xb2 - Beautiful house, close to Dumbarton Bridge(Facebook), shopping center  (fremont / union city / newark)',\n",
        " '4690381673': u'$2350 / 3br - 1200ft\\xb2 - Fremont Parkmont  Townhse (fremont / union city / newark)',\n",
        " '4691078260': u'$2980 / 3br - 1425ft\\xb2 - Beautiful 3Bdrm Townhouse in Fremont Irvington District (fremont / union city / newark)',\n",
        " '4691167236': u'$1790 / 1br - 600ft\\xb2 - Beautiful and spacious 1 bedrooms available  (fremont / union city / newark)',\n",
        " '4691387359': u'$1625 / 1br - 630ft\\xb2 - Beautiful Niles Community! Move-In October 16th  Upstairs ! (fremont / union city / newark)',\n",
        " '4691776058': u'$2600 / 3br - 1442ft\\xb2 - 3 Bd, 2 Bth single family home (fremont / union city / newark)',\n",
        " '4692790556': u'$1750 / 2br - 800ft\\xb2 - Completely renovated apartment! 2 bed/1 bath in a gated community (fremont / union city / newark)',\n",
        " '4692849596': u'$1895 / 2br - 803ft\\xb2 - FREE COMCAST CABLE w/ HBO (fremont / union city / newark)',\n",
        " '4692886961': u'$1695 / 1br - 560ft\\xb2 - ~*~A Home To Adore, ~*~ Move In Ready 10/25/14 (fremont / union city / newark)',\n",
        " '4693029747': u'$2600 / 3br - Fremont 3Bed-2Bath house for rent ALL UTILITIES INCLUDED (fremont / union city / newark)',\n",
        " '4693357033': u'$2100 / 2br - 2 Bedroom 1 Bath - Newly Renovated (fremont / union city / newark)',\n",
        " '4693605784': u'$2700 / 3br - 1700ft\\xb2 - 3 Bedroom with possible 4th bedroom, 2.5 Bath, 2 car garage, 2 Story (fremont / union city / newark)',\n",
        " '4693711902': u'$2350 / 2br - 1050ft\\xb2 - 2 Bed/2 Bath 5minutes from fremont bart 8 month lease (fremont / union city / newark)',\n",
        " '4693728424': u'$2200 / 3br - 1100ft\\xb2 - $2200 1100sqft - 3BR/2BA HOUSE in UNION CITY (fremont / union city / newark)',\n",
        " '4694248251': u'$2500 / 3br - 1550ft\\xb2 - Beautiful house, close to Dumbarton Bridge(Facebook), shopping center  (fremont / union city / newark)',\n",
        " '4694607625': u'$2,750/mo',\n",
        " '4694923813': u'$2,600/mo',\n",
        " '4694948876': u'$2,750/mo',\n",
        " '4694966766': u'$2500 / 3br - 1550ft\\xb2 - Beautiful house, close to Dumbarton Bridge(Facebook), shopping center  (fremont / union city / newark)',\n",
        " '4694978856': u'$1550 / 2br - 750ft\\xb2 - INCREDIBLE 2BED/1BATH AVAILABLE!!! (fremont / union city / newark)',\n",
        " '4695095838': u'$1625 / 1br - 625ft\\xb2 - *SPECIAL* Your new home is waiting for you! - SPACIOUS 1 BR APARTMENT  (fremont / union city / newark)',\n",
        " '4695412849': u'$1800 / 1br - 829ft\\xb2 - Take over 1 Bedroom apartment lease (fremont / union city / newark)',\n",
        " '4695475060': u'$2999 / 4br - 1922ft\\xb2 - luxuary 4bed 2 bath union city $,2,999 first month  (fremont / union city / newark)',\n",
        " '4696287452': u'$2900 / 3br - 1472ft\\xb2 - Great 3 bed 2.5 bath townhome remodeled in Fremont  (fremont / union city / newark)',\n",
        " '4696402608': u'$2200 / 3br - 1100ft\\xb2 - $2200 1100sqft - 3BR/2BA HOUSE in UNION CITY (fremont / union city / newark)',\n",
        " '4696417639': u'$2900 / 3br - 1472ft\\xb2 - Great 3 bed 2.5 bath townhome remodeled in Fremont  (fremont / union city / newark)',\n",
        " '4696943761': u'$1695 / 2br - 1000ft\\xb2 - NEWLY REMODLED TWO BED TWONHOUSE (fremont / union city / newark)',\n",
        " '4696985708': u'$4795 / 5br - 3168ft\\xb2 - Gorgeous Mission Fremont Home ... Will not Last!!! (fremont / union city / newark)',\n",
        " '4696994845': u'$3000 / 4br - 1960ft\\xb2 - Rent/Sell: 4BD/2.5BR month to month Weibel Elementary School, Vineyard (fremont / union city / newark)',\n",
        " '4697038172': u'$1625 / 2br - 750ft\\xb2 - Completely remodeled and spacious 2 bed /1 bath apartment - great loc! (fremont / union city / newark)',\n",
        " '4697397493': u'$1550 / 2br - 750ft\\xb2 - AMAZING 2BED/1BATH AVAILABLE!! (fremont / union city / newark)',\n",
        " '4697859201': u'$3,300/mo',\n",
        " '4697880731': u'$2,700/mo',\n",
        " '4698040171': u'$2,315/mo',\n",
        " '4698042573': u'$2,515/mo',\n",
        " '4698044778': u'$2,315/mo',\n",
        " '4698067143': u'$2,515/mo',\n",
        " '4698128103': u'$2,315/mo',\n",
        " '4698129248': u'$2,315/mo',\n",
        " '4698234369': u'$1,950/mo',\n",
        " '4698239220': u'$2450 / 2br - 1325ft\\xb2 - Conveniently located, Central Fremont House: 2/2, garage, BART  (fremont / union city / newark)',\n",
        " '4698634686': u'$3200 / 4br - 2100ft\\xb2 - 4BED/3BA NEWER UNION CITY HOME.  OPEN HOUSE SATURDAY & SUNDAY (fremont / union city / newark)',\n",
        " '4698874935': u'$2999 / 4br - 1922ft\\xb2 - luxuary 4bed 2 bath union city $,2,999 first month (fremont / union city / newark)',\n",
        " '4699145623': u'$1625 / 1br - 630ft\\xb2 - Beautiful Niles Community! Move-In October 18th! (fremont / union city / newark)',\n",
        " '4699292027': u'$2500 / 3br - 1550ft\\xb2 - Beautiful house, close to Dumbarton Bridge(Facebook), shopping center  (fremont / union city / newark)',\n",
        " '4699476877': u'$2600 / 2br - 1100ft\\xb2 - Mission San Jose 2 Beds,2 Baths,Car port, Townhouse (fremont / union city / newark)',\n",
        " '4699576897': u'$2900 / 3br - 1472ft\\xb2 - 3 bed 2 .5 bath townhome remodeled in Fremont (fremont / union city / newark)',\n",
        " '4699579886': u'$2900 / 3br - 1472ft\\xb2 - 3 bed 2 .5 bath townhome remodeled in Fremont (fremont / union city / newark)',\n",
        " '4699732071': u'$2000 / 1br - Luxry Apt: Paragon Apt 1B1B for $2000 with laundry inside the unit (fremont / union city / newark)',\n",
        " '4699789642': u'$2500 / 3br - SFH in Mission District for rent available 11/5 (fremont / union city / newark)',\n",
        " '4699808740': u'$2300 / 2br - 890ft\\xb2 - *Carriage House* Gated Community in a Quiet and Friendly Neighborhood! (fremont / union city / newark)',\n",
        " '4699810558': u'$1900 / 1br - 737ft\\xb2 - *Carriage House* Gated Community in a Quiet and Friendly Neighborhood! (fremont / union city / newark)',\n",
        " '4700013075': u'$2695 / 3br - 1300ft\\xb2 - 3 Bed 2 Bath Single Family Home in Fremont (fremont / union city / newark)',\n",
        " '4700235796': u'$2020 / 2br - 830ft\\xb2 - No trick! Lease given apartment number get $500 bonus (fremont / union city / newark)',\n",
        " '4700364472': u'$2095 / 1br - 734ft\\xb2 - Comfort, Style and a GREAT Value at The Presidio! (fremont / union city / newark)',\n",
        " '4700370408': u\"$2545 / 2br - 1106ft\\xb2 - Come See What You've Been Missing at The Presidio! (fremont / union city / newark)\",\n",
        " '4700387700': u'$1775 / 1br - DESIGNER INTERIORS, SPACIOUS FLOOR PLANS AND AMAZING AMENITIES (fremont / union city / newark)',\n",
        " '4700430540': u'$2900 / 3br - 1422ft\\xb2 - Open House Sunday 10/5, 2-4pm - Beautiful California Blossom Home (fremont / union city / newark)',\n",
        " '4700474310': u'$2500 / 3br - 1131ft\\xb2 - 3 bedroom 2 bath for rent in Fremont  $2500/per month  (fremont / union city / newark)',\n",
        " '4700474353': u'$1950 / 1br - 710ft\\xb2 - Cottage Style Home, Near Public Parks, Parkmont Schools (fremont / union city / newark)',\n",
        " '4700481471': u'$2350 / 2br - 900ft\\xb2 - 2br/2ba Beautifully Updated Newark Condo  (fremont / union city / newark)',\n",
        " '4700580141': u'$1895 / 1br - Beautiful 1 bedroom call now to make an appointment!!! (fremont / union city / newark)',\n",
        " '4700736285': u'$1585 / 1br - 660ft\\xb2 - Medallion Has Comfort & Convenience... (fremont / union city / newark)',\n",
        " '4700740260': u'$1795 / 1br - 527ft\\xb2 - \\u2022\\u2022HEALTHY LIFESTYLE! CLOSE TO HIKING TRAILS! UPGRADED  (fremont / union city / newark)',\n",
        " '4700775920': u'$2988 / 4br - 1617ft\\xb2 - Home in Weibel elementary school area (fremont / union city / newark)',\n",
        " '4700790696': u'$1000 / 3br - 1534ft\\xb2 - $1000 Master Bedroom For Rent in a 3br - 3BR/2.5BA home near BART (fremont / union city / newark)',\n",
        " '4700801259': u'$1895 / 1br - 527ft\\xb2 - \\u2665\\u263aWE WANT YOU TO JOIN THE FAMILY\\u263a\\u2665 (fremont / union city / newark)',\n",
        " '4700862743': u'$2000 / 2br - 897ft\\xb2 - Warm Springs Fremont Condo Rental... (fremont / union city / newark)',\n",
        " '4700879255': u'$1895 / 1br - 527ft\\xb2 - \\u2022\\u263bTHIS BEAUTIFUL UPGRADED APT HOME HAS ALL THE COMFORTS\\u263b\\u2022\\u2022 (fremont / union city / newark)',\n",
        " '4700901774': u'$3600 / 5br - 2000ft\\xb2 - Beautiful 5 bedroom 3 bath house $3,600.00 with lots of upgrades (fremont / union city / newark)',\n",
        " '4700965705': u'$1895 / 1br - Beautiful 1 bedroom call now to make an appointment!!! (fremont / union city / newark)',\n",
        " '4701002015': u'$1775 / 1br - OPEN FLOOR PLAN WITH A PRIVATE PATIO & GYM  (fremont / union city / newark)',\n",
        " '4701011409': u'$1765 / 1br - 760ft\\xb2 - 1 Bedroom/1 Bath Apartment Available Mid-November!!! (fremont / union city / newark)',\n",
        " '4701021491': u'$2295 / 2br - 1004ft\\xb2 - \\u263aWE HAVE GOT EVERYTHING YOU NEED FOR COMFORT\\u263a! (fremont / union city / newark)',\n",
        " '4701023723': u'$2425 / 2br - 1111ft\\xb2 - Spacious 2bd/1.5ba including w/d & 2 car garage - AVAILABLE DECEMBER 1 (fremont / union city / newark)',\n",
        " '4701076814': u'$2350 / 3br - 1370ft\\xb2 - 3 bedrooms for rent in Fremont CA 94536 (fremont / union city / newark)',\n",
        " '4701134936': u'$2900 / 3br - 1390ft\\xb2 - Glenmoor House For Rent  (fremont / union city / newark)',\n",
        " '4701271986': u'$1600 / 1br - 700ft\\xb2 - Fully renovated apartment! 1 bed / 1 bath in a gated community (fremont / union city / newark)',\n",
        " '4701295277': u'$2900 / 3br - 1474ft\\xb2 - Updated single family home for rent (fremont / union city / newark)',\n",
        " '4701296329': u'$3,100/mo',\n",
        " '4701332446': u'$3099 / 3br - 1500ft\\xb2 - Stunning Single Family Home near Fremont BART (fremont / union city / newark)',\n",
        " '4701346705': u'$1990 / 1500ft\\xb2 - Remodeled Creative Space w/ Shower Kitchen Storage & Parking (fremont / union city / newark)',\n",
        " '4701373811': u'$3975 / 4br - 1940ft\\xb2 - Executive 4 bed 2 bath updated house in Chadbourne attendance area (fremont / union city / newark)',\n",
        " '4701499272': u'$2500 / 4br - 1820ft\\xb2 - 4 bedroom,2 Bath (fremont / union city / newark)',\n",
        " '4701722996': u'$2449 / 3br - 1248ft\\xb2 - Beautiful home in Union City to rent $2449/month (fremont / union city / newark)',\n",
        " '4701764173': u'$2295 / 2br - 980ft\\xb2 - \\u2660GREAT PRICE, LOCATION, AND QUIET\\u2660 (fremont / union city / newark)',\n",
        " '4701897838': u'$1950 / 1br - 710ft\\xb2 - Cottage Style, Stylish Features, Washer Dryer in Unit, Walk to BART (fremont / union city / newark)',\n",
        " '4701899854': u'$2900 / 4br - 1544ft\\xb2 - Single-Family Home In Nice Neighborhood (fremont / union city / newark)',\n",
        " '4701964401': u'$1775 / 1br - RESORT LIVING IN A SERENE PARK SETTING  (fremont / union city / newark)',\n",
        " '4701965908': u'$1725 / 1br - 710ft\\xb2 - COME BY TODAY! Available for October 13Th  Move- In!  (fremont / union city / newark)',\n",
        " '4701966278': u'$5380 / 5br - 3800ft\\xb2 - 708 Chavel Court, Fremont, Avail.10/25 Ext.43 (fremont / union city / newark)',\n",
        " '4702020462': u'$1760 / 1br - AMAZING AMENITIES IN PARK-LIKE COMMUNITY (fremont / union city / newark)',\n",
        " '4702093114': u'$2095 / 2br - 846ft\\xb2 - Spacious 2 Bed 1 Bath in Downtown Fremont (fremont / union city / newark)',\n",
        " '4702131715': u'$2220 / 2br - 1026ft\\xb2 - Beautiful 2 bedrooms available  (fremont / union city / newark)',\n",
        " '4702152537': u'$1795 / 1br - 527ft\\xb2 - \\u263bBART RIDERS DREAM/CLOSE TO SHOPPING\\u263b (fremont / union city / newark)',\n",
        " '4702152620': u'$2295 / 2br - 1004ft\\xb2 - \\u2665LOOKING FOR PEACE AND QUIET\\u2665 COME AND TOUR TODAY\\u2665 (fremont / union city / newark)',\n",
        " '4702214023': u'$3200 / 3br - 1700ft\\xb2 - Ardenwood SFH for rent- available soon (fremont / union city / newark)',\n",
        " '4702225142': u'$3,100/mo',\n",
        " '4702316336': u'$1895 / 1br - 527ft\\xb2 - \\u2666A CATCH! COME TOUR TODAY \\u2666 (fremont / union city / newark)',\n",
        " '4702337301': u'$1775 / 1br - PARK-LIKE LANDSCAPING, POOL, SPA, FITNESS CENTER  (fremont / union city / newark)',\n",
        " '4702435447': u'$2600 / 3br - 1442ft\\xb2 - 3 Bd, 2 Bth single family home (fremont / union city / newark)',\n",
        " '4702520495': u'$3500 / 4br - 2200ft\\xb2 - 4 Bed 3.5 Bath Single Family House in Fremont Mission San Jose (fremont / union city / newark)',\n",
        " '4702635277': u'$2500 / 3br - 1245ft\\xb2 - Remodeled home for rent (fremont / union city / newark)',\n",
        " '4702676259': u'$1760 / 1br - DESIGNER INTERIORS, SPACIOUS FLOOR PLANS AND AMAZING AMENITIES (fremont / union city / newark)',\n",
        " '4702686053': u'$1895 / 1br - 650ft\\xb2 - BEAUTIFUL 1 BEDROOM AT QUIET NEIGHBORHOOD IN FREMONT!  (fremont / union city / newark)',\n",
        " '4702720069': u'$1539 / 650ft\\xb2 - Perfect Apartment Home At The Perfect Affordable Price! (fremont / union city / newark)',\n",
        " '4702797605': u'$1695 / 2br - 1000ft\\xb2 - $1695/2BD - NEWLY REMODLED TWO BED TWONHOUSE  (fremont / union city / newark)',\n",
        " '4702856265': u'$2059 A Unique Two Bedroom Layout! Very Open and Inviting! (fremont / union city / newark)',\n",
        " '4703341456': u'$3,100/mo',\n",
        " '4703421097': u'$1760 / 1br - PRIVATE END UNIT, LARGE STORAGE, YOUR NEW HOME IS HERE! (fremont / union city / newark)',\n",
        " '4703434347': u'$1820 / 1br - 650ft\\xb2 - Stunning First Floor One Bedroom!! (fremont / union city / newark)',\n",
        " '4703454433': u'$2275 / 1br - 925ft\\xb2 - Amazing apartment home loaded with amenities and features! (fremont / union city / newark)',\n",
        " '4703459261': u'$1700 / 2br - 900ft\\xb2 - Beautiful 2BD/1BA Condo for rent in Union City  (fremont / union city / newark)',\n",
        " '4703498373': u'$2800 / 4br - 1620ft\\xb2 - Upgraded 4 Bedroom 2 Bath Home in Irvington Area of Fremont (fremont / union city / newark)',\n",
        " '4703523020': u'$1895 / 1br - 650ft\\xb2 - BEAUTIFUL 1 BEDROOM APARTMENT! QUIET NEIGHBORHOOD IN FREMONT! (fremont / union city / newark)',\n",
        " '4703548903': u'$4700 / 5br - 3200ft\\xb2 - Beautiful Furnished 5BD/4Bath in Fremont  (fremont / union city / newark)',\n",
        " '4703587360': u'$3000 / 4br - 2260ft\\xb2 - Newly Renovated 4bd / 3ba / 2260 sq ft house in Union City / Pioneer (fremont / union city / newark)',\n",
        " '4703609731': u'$2425 / 2br - 1010ft\\xb2 - Professionally Managed, Air Conditioning, Ceiling Fan, Covered Parking (fremont / union city / newark)',\n",
        " '4703661903': u'$550 / 1br - Room for Rent in Fremont  (fremont / union city / newark)',\n",
        " '4703710995': u'$1954 / 1br - 640ft\\xb2 - 1 bedroom w/ FULL size washer/dryer in unit*2nd floor unit*Avail NOW (fremont / union city / newark)',\n",
        " '4703769410': u'$2,695/mo',\n",
        " '4703771390': u'$650 / 3br - a room for rent in fremont (fremont / union city / newark)',\n",
        " '4703781677': u'$2150 / 2br - 930ft\\xb2 - DESIGNER-INSPIRED FLOOR PLANS WITH LUSH GARDEN VIEW (fremont / union city / newark)',\n",
        " '4703798803': u'$3000 / 3br - 1669ft\\xb2 - Modern home in an excellent location(3Bed/2.5bath in heart of Fremont) (fremont / union city / newark)',\n",
        " '4703833934': u'$885 / 1br - Niles cottage (fremont / union city / newark)',\n",
        " '4703837444': u'$2813 / 3br - 1320ft\\xb2 - Stunning 3X2 Apartment with W/D Set in Fremont! (fremont / union city / newark)',\n",
        " '4703914998': u'$1585 / 410ft\\xb2 - Stunning Studio Aparment, Available For Your Immediate Move-In!! (fremont / union city / newark)',\n",
        " '4703974629': u'$3000 3BR/2.5BA Ardenwood SFH For Rent; Open House Sunday(10/12) 1-4pm (fremont / union city / newark)',\n",
        " '4703980109': u'$2700 / 4br - 1500ft\\xb2 - Single Family House For Rent (fremont / union city / newark)',\n",
        " '4704054535': u'$2000 / 1br - 750ft\\xb2 - Luxury 1 Bedroom! Need someone take over my lease (8 months left) (fremont / union city / newark)',\n",
        " '4704058251': u'$4,000/mo',\n",
        " '4704109258': u'$1760 / 1br - AMAZING AMENITIES IN PARK-LIKE COMMUNITY (fremont / union city / newark)',\n",
        " '4704130997': u'$1825 / 2br - 800ft\\xb2 - Spacious 2 Bedroom Apartment (fremont / union city / newark)',\n",
        " '4704133371': u'$1950 / 1br - 710ft\\xb2 - Outstanding Location, Responsive Maintenance, Spacious Floorplan (fremont / union city / newark)',\n",
        " '4704139615': u\"$1745 / 1br - 650ft\\xb2 - Your'e apartment is waiting. (fremont / union city / newark)\",\n",
        " '4704143532': u'$2799 / 1320ft\\xb2 - Stunning 3BD/2BA Apartment with all new Interiors (fremont / union city / newark)',\n",
        " '4704144753': u'$1990 / 2br - 830ft\\xb2 - Just the place you need. (fremont / union city / newark)',\n",
        " '4704148619': u'$2800 / 3br - 1752ft\\xb2 - Nor Cal Realty Inc - 3 bedroom 2.5 bath Single family home (fremont / union city / newark)',\n",
        " '4704149444': u'$2500 / 3br - 1550ft\\xb2 - Beautiful house, close to Dumbarton Bridge(Facebook), shopping center  (fremont / union city / newark)',\n",
        " '4704154730': u'$2710 / 2br - 982ft\\xb2 - Living at its best! Come see your new home today! (fremont / union city / newark)',\n",
        " '4704231062': u'$2349 / 1br - 1050ft\\xb2 - Enormous apartment home with fantastic amenities! (fremont / union city / newark)',\n",
        " '4704252659': u'$1760 / 1br - RESORT LIVING IN A SERENE PARK SETTING  (fremont / union city / newark)',\n",
        " '4704285477': u'$2500 / 2br - 1315ft\\xb2 - Fairly new remodeled Single Family House  (fremont / union city / newark)',\n",
        " '4704301650': u'$2950 / 3br - 1892ft\\xb2 - Lovely and spacious single family house in Fremont (fremont / union city / newark)',\n",
        " '4704341992': u'$2084 / 1br - 720ft\\xb2 - SPACIOUS TOP FLOOR 1 bed*W/D in unit*Vaulted ceilings*Avail 10/18 (fremont / union city / newark)',\n",
        " '4704568093': u'$2400 / 3br - 1118ft\\xb2 - 3 Bedroom Townhome at great location (fremont / union city / newark)',\n",
        " '4705062307': u'$1760 / 1br - PARK-LIKE LANDSCAPING, ENJOY THE QUIET, SCENIC SURROUNDINGS (fremont / union city / newark)',\n",
        " '4705072379': u'$4350 / 5br - 3443ft\\xb2 - Beautiful Home from Dublin 5 bedrooms with 4.5 baths (fremont / union city / newark)',\n",
        " '4705096894': u'$2,495/mo',\n",
        " '4705104059': u'$3200 / 4br - 2100ft\\xb2 - 4BED/3BA NEW UNION CITY HOME. GRANITE,FIREPLACE,HARDWOOD,W/D,STAINLESS (fremont / union city / newark)',\n",
        " '4705107846': u'$2200 / 980ft\\xb2 - Comfort and Convenience Right At Your Finger Tip..Waterstone@Fremont (fremont / union city / newark)',\n",
        " '4705138981': u'$2,095/mo',\n",
        " '4705143950': u'$1725 / 1br - 650ft\\xb2 - Here now and gone by morning. You should hurry! (fremont / union city / newark)',\n",
        " '4705149967': u'$2495 / 2br - 1106ft\\xb2 - Gated Community in Fremont  (fremont / union city / newark)',\n",
        " '4705158060': u'$1985 / 2br - 830ft\\xb2 - Spectacular Deal For Two Bedroom One Bath (fremont / union city / newark)',\n",
        " '4705165458': u'$1895 / 1br - 650ft\\xb2 - Furnished Apartment home Ready for Move In! (fremont / union city / newark)',\n",
        " '4705180939': u'$2095 / 1br - 734ft\\xb2 - In The Heart of Fremont (fremont / union city / newark)',\n",
        " '4705189045': u'$1900 / 2br - Corner Unit in Gated Complex! (fremont / union city / newark)',\n",
        " '4705189117': u'$1875 / 1br - 565ft\\xb2 - Call for Details, Easy Freeway Access, Night Patrol, Fitness Ctr (fremont / union city / newark)',\n",
        " '4705207144': u'$1450 / 1br - 547ft\\xb2 - Jr-1br (studio)  mv in Nov. 11 (fremont / union city / newark)',\n",
        " '4705255781': u'$1962 / 2br - 800ft\\xb2 - Look And Lease This Apartment, N239! (fremont / union city / newark)',\n",
        " '4705257749': u'$1989 / 2br - 800ft\\xb2 - M225 Is A Fabulous Location Within Our Community! (fremont / union city / newark)',\n",
        " '4705280471': u'$1895 / 2br - 900ft\\xb2 - 2bd/2 full bath Condo on Ground flr with washer/dryer inside (fremont / union city / newark)',\n",
        " '4705293509': u'$2813 / 1320ft\\xb2 - 3BD/2BA Apartment with Quartz Countertops (fremont / union city / newark)',\n",
        " '4705331899': u'$1548 / 1br - 650ft\\xb2 - Welcome Home To Great Living.. (fremont / union city / newark)',\n",
        " '4705333728': u'$2084 / 2br - 750ft\\xb2 - Meow...Whoof...Pets are Welcome (fremont / union city / newark)',\n",
        " '4705377619': u'$500 \\u5355\\u623f\\u51fa\\u79df (fremont / union city / newark)',\n",
        " '4705383827': u'$2,315/mo',\n",
        " '4705390257': u'$2700 / 3br - Fremont 3 Bedroom 2 Bath  House (fremont / union city / newark)',\n",
        " '4705431094': u'$2150 / 2br - 930ft\\xb2 - DESIGNER-INSPIRED FLOOR PLANS WITH LUSH GARDEN VIEW (fremont / union city / newark)',\n",
        " '4705500955': u'$2900 / 3br - 1472ft\\xb2 - Great 3 bed 2.5 bath townhouse remodeled in Fremont  (fremont / union city / newark)',\n",
        " '4705505806': u'$1876 / 1br - 760ft\\xb2 - Are You Ready To Move..Waterstone@Fremont (fremont / union city / newark)',\n",
        " '4705550936': u'$1900 / 2br - 1013ft\\xb2 - Light bright condo (fremont / union city / newark)',\n",
        " '4705559661': u'$1760 / 1br - LUSH GARDENS, POOL, SPA, FITNESS CENTER AND BRIGHT ONE BR (fremont / union city / newark)',\n",
        " '4705567196': u'$2900 / 3br - 1472ft\\xb2 - Great 3 bed 2.5 bath townhouse remodeled in Fremont  (fremont / union city / newark)',\n",
        " '4705690004': u'$2750 / 3br - 1547ft\\xb2 - 33251 SUNRIVER CMN (fremont / union city / newark)',\n",
        " '4705717699': u'$1550 / 1br - 1 bedr apt in Newark available on Nov 4 (fremont / union city / newark)',\n",
        " '4705827321': u'$2950 / 4br - 1625ft\\xb2 - BEAUTIFUL Parkmont Home 4BR/2BA - MUST SEE! (fremont / union city / newark)',\n",
        " '4705852659': u'$2799 / 3br - 1320ft\\xb2 - 3BD/2BA Apartment with Quartz Countertops (fremont / union city / newark)',\n",
        " '4705868965': u'$1760 / 1br - OPEN FLOOR PLAN WITH A PRIVATE PATIO & GYM  (fremont / union city / newark)',\n",
        " '4705872789': u'$2500 / 3br - 1314ft\\xb2 - 5 year new townhouse for rent (fremont / union city / newark)',\n",
        " '4705872986': u'$2425 / 2br - 1010ft\\xb2 - Now Available, Near Public Parks, Parkmont Schools (fremont / union city / newark)',\n",
        " '4705921625': u'$1551 A Must See! Fantastic Location! Beautiful One Bedroom Apt Home! (fremont / union city / newark)',\n",
        " '4705954560': u'$2545 / 2br - 1106ft\\xb2 - Opp BART+Incentives 2Bedroom2Bath - 1106 Sqft Apt - Fremont (fremont / union city / newark)',\n",
        " '4705957794': u'$3199 / 3br - 1500ft\\xb2 - Nice Single Family House close to Fremont BART (fremont / union city / newark)',\n",
        " '4706013086': u'$3200 / 3br - 1700ft\\xb2 - Ardenwood SFH- 3bd 2 1/2 bth- $3200 (fremont / union city / newark)',\n",
        " '4706139108': u\"$2950 / 3br - Newer home in Fremont's Ardenwood neighborhood (fremont / union city / newark)\",\n",
        " '4706142219': u'$3100 / 4br - 4000ft\\xb2 - 4BR/2.5BA Single Family Home in Union City (fremont / union city / newark)',\n",
        " '4706347153': u'$3150 / 3br - 1540ft\\xb2 - Mission SanJose- 3BR, 2 Baths, 1540 SF  (fremont / union city / newark)',\n",
        " '4706543545': u'$1775 / 2br - 900ft\\xb2 - nice 2 bed/2 car garage condo,  open Sunday 3:15-3:45 (fremont / union city / newark)',\n",
        " '4706593304': u'$2900 / 3br - House for rent (fremont / union city / newark)',\n",
        " '4706617072': u'$2650 / 3br - 1300ft\\xb2 - **Open House Sunday Oct 12th, 1pm-5pm. 3B/3B TownHome in Fremont, Ca (fremont / union city / newark)',\n",
        " '4706651873': u'$2555 / 2br - 1014ft\\xb2 - Perfect location and ease of access with hardwood floors!  (fremont / union city / newark)',\n",
        " '4706666794': u'$1675 / 1br - Amazing 1 Bedroom $1,675 (fremont / union city / newark)',\n",
        " '4706722148': u'$1950 / 1br - 710ft\\xb2 - Enriched Lifestyle, Near Shops and Dining, Community Clubhouse (fremont / union city / newark)',\n",
        " '4706739878': u'$2495 / 2br - 1106ft\\xb2 - Where Location, Quality and Value are Everything! The Presidio (fremont / union city / newark)',\n",
        " '4706743183': u'$2095 / 1br - 734ft\\xb2 - The Presidio Apartments ... Like No Place Else! (fremont / union city / newark)',\n",
        " '4706747377': u'$1845 / 1br - 650ft\\xb2 - 1 BEDROOM APARTMENT IN A QUIET NEIGHBORHOOD IN FREMONT! (fremont / union city / newark)',\n",
        " '4706801064': u'$1675 / 1br - 610ft\\xb2 - Quiet Ground Floor End-Unit 1 Bdrm. Condo (fremont / union city / newark)',\n",
        " '4706835636': u'$1760 / 1br - RESORT STYLE LIVING IN A SERENE PARK SETTING  (fremont / union city / newark)',\n",
        " '4706902861': u\"$1730 / 1br - 650ft\\xb2 - Your'e apartment is waiting. (fremont / union city / newark)\",\n",
        " '4706919039': u'$3850 / 4br - 2200ft\\xb2 - Fremont Mission San Jose House for Rent (fremont / union city / newark)',\n",
        " '4706933430': u'$1990 / 2br - 830ft\\xb2 - Ground floor apartment and close to parking. (fremont / union city / newark)',\n",
        " '4706941155': u'$2379 / 1br - 877ft\\xb2 - Charming apartment homes w/spacious and open kitchen layout! (fremont / union city / newark)',\n",
        " '4706955374': u'$2400 / 3br - 1180ft\\xb2 - 3 Bedroom Union City Home (fremont / union city / newark)',\n",
        " '4706956881': u'$2150 / 2br - PARK-LIKE SETTING IN PRIME LOCATION, DESIGNER 2 BR (fremont / union city / newark)',\n",
        " '4706990784': u'$1636 / 1br - 660ft\\xb2 - Stop Look And Lease Today... (fremont / union city / newark)',\n",
        " '4706997677': u'$2900 / 3br - 1472ft\\xb2 - 3 bed 2 .5 bath townhome remodeled in Fremont  (fremont / union city / newark)',\n",
        " '4707039134': u'$2900 / 3br - 1472ft\\xb2 - 3 bed 2 .5 bath townhome remodeled in Fremont  (fremont / union city / newark)',\n",
        " '4707064690': u'$2834 / 2br - 1184ft\\xb2 - Check This Out! Luxury Apartment Community with walk-in closets! (fremont / union city / newark)',\n",
        " '4707145240': u'$2300 / 2br - 890ft\\xb2 - *Carriage House* Gated Community in a Quiet and Friendly Neighborhood! (fremont / union city / newark)',\n",
        " '4707146055': u'$1900 / 1br - 737ft\\xb2 - *Carriage House* Gated Community in a Quiet and Friendly Neighborhood! (fremont / union city / newark)',\n",
        " '4707200981': u'$2350 / 3br - 1400ft\\xb2 - Beautiful 3 bedroom and 2 and 1/2 bathroom TH in a quite neighborhood (fremont / union city / newark)',\n",
        " '4707215666': u'$1875 / 1br - 565ft\\xb2 - Luxurious Homes, Walk to BART, Washer Dryer in Unit (fremont / union city / newark)',\n",
        " '4707226639': u'$2200 / 4br - 1100ft\\xb2 - OPEN HOUSE Sunday 2-4PM: 4BR/1Ba - Union City Single Family Remodeled  (fremont / union city / newark)',\n",
        " '4707233387': u'$2760 / 2br - 982ft\\xb2 - Spectacular apartment home centrally located in Fremont! (fremont / union city / newark)',\n",
        " '4707251377': u'$2900 / 3br - 1472ft\\xb2 - 3 bed 2 .5 bath townhome remodeled in Fremont  (fremont / union city / newark)',\n",
        " '4707270546': u'$800 / 1br - 310ft\\xb2 - cozy studio priced right (fremont / union city / newark)',\n",
        " '4707271956': u'$2400 / 2br - 1405ft\\xb2 - Fremont Northgate Townhouse 2R / 2B (fremont / union city / newark)',\n",
        " '4707284212': u'$1760 / 1br - PARK -LIKE LANDSCAPING, POOL, SPA, FITNESS CENTER  (fremont / union city / newark)',\n",
        " '4707289831': u'$1970 / 1br - 725ft\\xb2 - Private, top floor unit with vaulted ceilings. Walk to BART (fremont / union city / newark)',\n",
        " '4707381458': u'$1795 / 1br - 527ft\\xb2 - \\u2666COME AND SEE WHAT YOU HAVE BEEN MISSING\\u2666 (fremont / union city / newark)',\n",
        " '4707394684': u'$2834 / 2br - 1184ft\\xb2 - Check This Out! Luxury Apartment Community with walk-in closets! (fremont / union city / newark)',\n",
        " '4707414832': u'$1760 / 1br - DESIGNER INTERIORS, SPACIOUS FLOOR PLANS AND AMAZING AMENITIES (fremont / union city / newark)',\n",
        " '4707415523': u'$1910 / 1br - 792ft\\xb2 - Large one bedroom with plenty of space! Pet friendly home! (fremont / union city / newark)',\n",
        " '4707416756': u'$1795 / 1br - 527ft\\xb2 - \\u263bBART RIDERS DREAM/CLOSE TO SHOPPING\\u263b (fremont / union city / newark)',\n",
        " '4707444029': u'$2414 / 1br - 1050ft\\xb2 - Enormous apartment home with fantastic amenities! (fremont / union city / newark)',\n",
        " '4707458902': u'$2295 / 2br - 980ft\\xb2 - \\u263b\\u2665THE MOST LIKED PLACE TO LIVE ON FACEBOOK\\u263b\\u2665 (fremont / union city / newark)',\n",
        " '4707463859': u'$2295 / 2br - 1004ft\\xb2 - \\u25d8\\u2665EVERYONE IS WELCOME HOME HERE AT RANCHO LUNA/SOL \\u25d8\\u2665 (fremont / union city / newark)',\n",
        " '4707608390': u'$700 / 1br - 170ft\\xb2 - \\u8c6a\\u5b85! \\u8c6a\\u534e\\u5bb6\\u79c1\\u914d\\u5957\\u9f50\\u0824 (fremont / union city / newark)',\n",
        " '4707659497': u'$1880 / 2br - 832ft\\xb2 - 2br/2ba next to Union Landing for rent (fremont / union city / newark)',\n",
        " '4707684994': u'$3200 / 4br - 2000ft\\xb2 - Elegant, and Spacious 4 BR/2.5 BA Single Family House in Fremont (fremont / union city / newark)',\n",
        " '4707698869': u'$2400 / 2br - Beautiful View from 2 Bed 2 Bath at Creekside Village (fremont / union city / newark)',\n",
        " '4707711060': u'$2800 / 3br - 1610ft\\xb2 - Fremont TownHome for Rent (fremont / union city / newark)',\n",
        " '4707731878': u'$950 Rent now room $950 include everything (fremont / union city / newark)',\n",
        " '4707732433': u'$950 Rent now room $950 include everything (fremont / union city / newark)',\n",
        " '4707733032': u'$950 Room to Rent NOW $950 includes everything (fremont / union city / newark)',\n",
        " '4707734701': u'$780 / 1br - \\u96c5\\u623f\\u51fa\\u79df (fremont / union city / newark)',\n",
        " '4707898781': u'$3200 / 3br - 1785ft\\xb2 - Mission San Jose (mission sanjose) Home for Rent (fremont / union city / newark)',\n",
        " '4708167383': u\"$2095 / 2br - 980ft\\xb2 - It's A Great Weekend To Find Your New Home...Waterstone@Fremont (fremont / union city / newark)\",\n",
        " '4708172756': u'$3200/mo',\n",
        " '4708182440': u'$1882 / 1br - 735ft\\xb2 - Looking For A Great Community..... Waterstone@ Fremont (fremont / union city / newark)',\n",
        " '4708195822': u'$1717 / 1br - 565ft\\xb2 - Make Waterstone@Fremont Your Last Stop..A Pet Friendly Community (fremont / union city / newark)',\n",
        " '4708241212': u'$2,400/mo',\n",
        " '4708258162': u'$1962 / 2br - 800ft\\xb2 - N239 Is A Great Location And Close To All Our Amenites! (fremont / union city / newark)',\n",
        " '4708270994': u'$1962 / 2br - 800ft\\xb2 - Look And Lease This Two Bedroom To Bath! (fremont / union city / newark)',\n",
        " '4708271841': u'$2730 / 3br - 1063ft\\xb2 - Best Community in Fremont! (fremont / union city / newark)',\n",
        " '4708275684': u'$2545 / 2br - 1106ft\\xb2 - 15 Min Walk to BART from the Presidio Apartments (fremont / union city / newark)',\n",
        " '4708281638': u'$2,400/mo',\n",
        " '4708282680': u'$2095 / 1br - 734ft\\xb2 - Ground Floor Apartment Near BART..LAST ONE AVAIL!! (fremont / union city / newark)',\n",
        " '4708283570': u'$2032 / 1br - 725ft\\xb2 - Two balconies, underground parking, and hardwood floors! (fremont / union city / newark)',\n",
        " '4708293378': u'$1760 / 1br - PRIVATE END UNIT, LARGE STORAGE, YOUR NEW HOME IS HERE! (fremont / union city / newark)',\n",
        " '4708302936': u'$2200 / 3br - 1150ft\\xb2 - Cozy 3 Bedroom 2 Bath Home in Fremont (fremont / union city / newark)',\n",
        " '4708303465': u'$2600 / 3br - Single Family Home Newark,very big lot and fruit trees (fremont / union city / newark)',\n",
        " '4708307695': u'$2900 / 3br - 1472ft\\xb2 - 3 bed 2 .5 bath townhome remodeled in Fremont  (fremont / union city / newark)',\n",
        " '4708335710': u\"$2365 / 2br - 1108ft\\xb2 - Don't Wait ! We have your next HOME here / $2,365 w/$99.00 Deposit (fremont / union city / newark)\",\n",
        " '4708339594': u'$2062 / 1br - 704ft\\xb2 - 1st Floor 1X1 Available 10/14... Come in Today!!! (fremont / union city / newark)',\n",
        " '4708363748': u'$2425 / 2br - 1010ft\\xb2 - Outstanding Location, Heated Pool, Sauna, Pets Welcome (fremont / union city / newark)',\n",
        " '4708387181': u'$3200 / 4br - 1000ft\\xb2 - 4 Bed 1 Bath Large Lot House for Rent (fremont / union city / newark)',\n",
        " '4708426621': u'$2400 / 2br - 1405ft\\xb2 - A good Townhouse in Fremont, Northgate area (fremont / union city / newark)',\n",
        " '4708434321': u'$1845 / 1br - 650ft\\xb2 - Beautiful 1 bedroom in Fremont! Call now to make an appointment!!! (fremont / union city / newark)',\n",
        " '4708461306': u'$1848 / 1br - 680ft\\xb2 - Smoke Free Community! (fremont / union city / newark)',\n",
        " '4708467117': u'$2532 / 2br - 1061ft\\xb2 - Beautiful top floor unit with South facing balcony. Geat for Dish! (fremont / union city / newark)',\n",
        " '4708469914': u'$3000 / 4br - 2184ft\\xb2 - 4BR/3BA Bright, luxury house in Fremont near Central Park (fremont / union city / newark)',\n",
        " '4708495775': u'$2200 / 2br - 1140ft\\xb2 - Open House Sunday 10/12/14  4-5pm (fremont / union city / newark)',\n",
        " '4708556913': u'$2150 / 2br - DESIGNER-INSPIRED FLOOR PLANS WITH LUSH GARDEN VIEW (fremont / union city / newark)',\n",
        " '4708558507': u'$3250 / 4br - 1866ft\\xb2 -  Walk to Weibel school in Fremont (fremont / union city / newark)',\n",
        " '4708582053': u'$1845 / 1br - 700ft\\xb2 - Our lowest price! Beautiful one bedroom available now! (fremont / union city / newark)',\n",
        " '4708598607': u'$2175 / 2br - 850ft\\xb2 - Alderwood Park in Newark - Dumbarton/84/880 & public transit close by! (fremont / union city / newark)',\n",
        " '4708600651': u'$2145 / 2br - 1018ft\\xb2 - Large 2 bedroom 2 bath in downtown Fremont ready for move in 11/22/14 (fremont / union city / newark)',\n",
        " '4708627612': u'$700 / 1br - 170ft\\xb2 - ** \\u8c6a\\u5b85! \\u8c6a\\u534e\\u5bb6\\u79c1\\u914d\\u5957\\u9f50 (fremont / union city / newark)',\n",
        " '4708629130': u'$2097 / 1br - 829ft\\xb2 - Every Apartment has IMMENSE Walk-In Closets! (fremont / union city / newark)',\n",
        " '4708630362': u'$1795 / 1br - 527ft\\xb2 - \\u263bBART RIDERS DREAM/CLOSE TO SHOPPING\\u263b (fremont / union city / newark)',\n",
        " '4708634531': u'$3000 / 5br - 2240ft\\xb2 - Gorgeous 5 Bedrooms in Niles, Fremont  (fremont / union city / newark)',\n",
        " '4708641085': u'$1699 / 1br - 685ft\\xb2 - Alderwood Park in Newark - Dumbarton/84/880 & public transit close by! (fremont / union city / newark)',\n",
        " '4708653002': u'$2379 / 1br - 877ft\\xb2 - Fabulous apartment, walking distance to Lake Elizabeth (fremont / union city / newark)',\n",
        " '4708669555': u'$1760 / 1br - RESORT LIVING IN A SERENE PARK SETTING  (fremont / union city / newark)',\n",
        " '4708672537': u'$2795 / 4br - 1900ft\\xb2 - *** SPACIOUS, CUL-DE-SAC, WALK TO FREMONT BART, CENTRAL PARK *** (fremont / union city / newark)',\n",
        " '4708677523': u'$2439 / 2br - 850ft\\xb2 - Open House Tomorrow At The Woods!! (fremont / union city / newark)',\n",
        " '4708689446': u'$2950 / 3br - 1186ft\\xb2 - 3 Bedroom Home Near Lakeshore Park (fremont / union city / newark)',\n",
        " '4708746863': u'$2295 / 2br - 1004ft\\xb2 - \\u2666SPACIOUS TOWNHOMES IN A CONVENIENT LOCATION\\u2666 (fremont / union city / newark)',\n",
        " '4708765187': u'$1599 / 1br - 600ft\\xb2 - ONE bedroom Unit Available NOW in the Heart of Fremont (fremont / union city / newark)',\n",
        " '4708768120': u'$3,100/mo',\n",
        " '4708794567': u'$2175 / 2br - 850ft\\xb2 - A Fantastic Two Bedroom One Bath, Apartment Home. Ready 10/13! (fremont / union city / newark)',\n",
        " '4708800866': u'$2400 / 2br - 1065ft\\xb2 - Delightful and Convenient 2BD, 2 BA available SOON!! (fremont / union city / newark)',\n",
        " '4708809780': u'$1895 / 1br - 730ft\\xb2 - Spacious and Amazing.. talk about luxury! (fremont / union city / newark)',\n",
        " '4708810837': u'$2765 / 2br - 982ft\\xb2 - Looking for quick access to BART and Shopping? Look no further! (fremont / union city / newark)',\n",
        " '4708811600': u'$1950 / 1br - 710ft\\xb2 - Appealing Amenities, Covered Parking, Air Conditioning, Ceiling Fan (fremont / union city / newark)',\n",
        " '4708832086': u'$1550 / 2br - Bridge Bay Apartments (fremont / union city / newark)',\n",
        " '4708837746': u'$2150 / 2br - 888ft\\xb2 - Union City 2-Bedroom Condo (fremont / union city / newark)',\n",
        " '4708844242': u'$1465 / 2br - Fremont Pines Apartments (fremont / union city / newark)',\n",
        " '4708852944': u'$1500 / 1br - 430ft\\xb2 -  1Br/1Ba Suite with Separate Private Kitchen and Entrance \\u7368\\u9662 (fremont / union city / newark)',\n",
        " '4708862432': u'$1524 / 3br - Garden Village Apartments (fremont / union city / newark)',\n",
        " '4708874045': u'$2300 / 3br - 1500ft\\xb2 - Charming Ranch Style Home (fremont / union city / newark)',\n",
        " '4708886839': u'$2150 / 4br - $2150/ 4br/2.5BA, townhouse, In Union City  (fremont / union city / newark)',\n",
        " '4708897993': u'$750 / 1br - /1Ba in a gorgeous single family home ( Union city) For Rent (fremont / union city / newark)',\n",
        " '4708920486': u'$1200 / 1br - 600ft\\xb2 - 1 Bed 1 Bath located in Fremont (fremont / union city / newark)',\n",
        " '4708925707': u'$1926 / 1br - 704ft\\xb2 - Washer and Dryer in Unit, Walk-in Closet! Visit Us Today!! (fremont / union city / newark)',\n",
        " '4708937144': u'$2834 / 2br - 1184ft\\xb2 - Luxury apartment community w/the comfort & convenience of city life! (fremont / union city / newark)',\n",
        " '4708955428': u'$1848 / 3br - Regency Square Apartments (fremont / union city / newark)',\n",
        " '4708963350': u'$2365 / 2br - 1108ft\\xb2 - Here Today... Gone Tomorrow...$99.00 Deposit O.A.C.  HURRY! (fremont / union city / newark)',\n",
        " '4708963560': u'$500 Union City\\u72ec\\u7acb\\u5355\\u623f\\u51fa\\u79df (fremont / union city / newark)',\n",
        " '4708977968': u'$2250 / 3br - 1000ft\\xb2 - Nice remodeled 3bed/1 bath in Fremont Irvinton (fremont / union city / newark)',\n",
        " '4708997186': u'$2620 / 2br - 1061ft\\xb2 - Ground level with hardwood floors and walking distance from BART! (fremont / union city / newark)',\n",
        " '4709006104': u'$2414 / 1br - 1050ft\\xb2 - Enormous apartment home with fantastic amenities! (fremont / union city / newark)',\n",
        " '4709010589': u'$1895 / 1br - 527ft\\xb2 - \\u263aFEEL THE WARMTH HERE AT RANCHO LUNA/SOL (fremont / union city / newark)',\n",
        " '4709029277': u'$2295 / 2br - 1004ft\\xb2 - \\u25d8CLOSE AND CONVENIENT FOR YOUR LIFESTYLE\\u25d8 (fremont / union city / newark)',\n",
        " '4709045007': u'$1760 / 1br - AMAZING AMENITIES IN A PARK-LIKE COMMUNITY (fremont / union city / newark)',\n",
        " '4709064536': u'$2432 / 2br - 1096ft\\xb2 - Extraordinary top floor 2 BD, 2 BA, available soon. Near BART!!! (fremont / union city / newark)',\n",
        " '4709086634': u'$2600 / 3br - 1300ft\\xb2 - Beautiful Ardenwood Home in Fremont (fremont / union city / newark)',\n",
        " '4709099410': u'$1539 / 1br - 650ft\\xb2 - Best Price! Best Location! Come See For Yourself!!! (fremont / union city / newark)',\n",
        " '4709103977': u'$2379 / 1br - 877ft\\xb2 - Charming apartment homes w/spacious and open kitchen layout! (fremont / union city / newark)',\n",
        " '4709166878': u\"$3000 / 3br - 1600ft\\xb2 - Entertainer's delight - Centrally located fabulously upgraded home (fremont / union city / newark)\",\n",
        " '4709244524': u'$3099 / 3br - 1500ft\\xb2 - Beautiful House near Fremont BART (fremont / union city / newark)',\n",
        " '4709271776': u'$4200 / 4br - 2726ft\\xb2 - Mission Weibel Home  (fremont / union city / newark)',\n",
        " '4709285588': u'$2695 / 3br - 1475ft\\xb2 - 40836 Blacow Rd (fremont / union city / newark)',\n",
        " '4709616390': u'$3,100/mo',\n",
        " '4709624090': u'$1547 / 1br - 660ft\\xb2 -  Medallion Is The Place For You And Your Pet... (fremont / union city / newark)',\n",
        " '4709635870': u'$3000 / 4br - 1665ft\\xb2 - Ardenwood/Forest Park Home for Rent (fremont / union city / newark)',\n",
        " '4709708053': u'$1795 / 1br - 527ft\\xb2 - \\u263b\\u2665THE MOST LIKED PLACE TO LIVE ON FACEBOOK\\u263b\\u2665 (fremont / union city / newark)',\n",
        " '4709720238': u'$2095 / 2br - 980ft\\xb2 - Dont Miss Out On Your New Apartment Home...Waterstone Fremont (fremont / union city / newark)',\n",
        " '4709727929': u'$1586 / 410ft\\xb2 - Great Apartment Value Near Union City Bart (fremont / union city / newark)',\n",
        " '4709741491': u'$2410 / 2br - 901ft\\xb2 - Spacious Apartment Home Available. (fremont / union city / newark)',\n",
        " '4709742868': u'$1834 / 1br - 760ft\\xb2 - Are You Ready To Move..Waterstone@Fremont (fremont / union city / newark)',\n",
        " '4709750233': u'$600 Union City\\u72ec\\u7acb\\u5355\\u623f\\u51fa\\u79df (fremont / union city / newark)',\n",
        " '4709758928': u'$750 / 1br - Room for 2 for rent (fremont / union city / newark)',\n",
        " '4709759173': u'$1717 / 1br - 565ft\\xb2 - A Great Junior 1br Unit To Call home @waterstone Fremont (fremont / union city / newark)',\n",
        " '4709767607': u'$2700 / 3br - 1600ft\\xb2 - Beautiful Home located  in a Park Like Community  (fremont / union city / newark)',\n",
        " '4709770429': u'$1900 / 1br - 737ft\\xb2 - *Carriage House* Gated Community in a Quiet and Friendly Neighborhood! (fremont / union city / newark)',\n",
        " '4709770932': u'$2239 / 2br - 870ft\\xb2 - Fully-equipped fitness center on-site! (fremont / union city / newark)',\n",
        " '4709771241': u'$2300 / 2br - 890ft\\xb2 - *Carriage House* Gated Community in a Quiet and Friendly Neighborhood! (fremont / union city / newark)',\n",
        " '4709777629': u'$2,935/mo',\n",
        " '4709819725': u'$2295 / 2br - 1004ft\\xb2 - \\u2666TOUR TODAY AND ENJOY BEAUTIFULLY RENOVATED APT HOMES\\u2666 (fremont / union city / newark)',\n",
        " '4709820227': u'$2350 / 3br - 1408ft\\xb2 - Townhouse Style Condo / 3 Bedroom 3 Bath -Open House 10/4/14 (fremont / union city / newark)',\n",
        " '4709870073': u'$2600 $2600.00 (fremont / union city / newark)',\n",
        " '4709893637': u'$1875 / 1br - 565ft\\xb2 - Now Available, Responsive Maintenance, Spacious Floorplan (fremont / union city / newark)',\n",
        " '4709907522': u'$2051 / 1br - 735ft\\xb2 - Amazing ground level unit with hardwood floors and HUGE patio!! (fremont / union city / newark)',\n",
        " '4709933092': u'$1780 / 1br - RESORT STYLE LIVING IN PRIME FREMONT (fremont / union city / newark)',\n",
        " '4709938060': u'$1920 / 1br - 732ft\\xb2 - Great apartment close to shopping and BART! (fremont / union city / newark)',\n",
        " '4709949099': u'$2259 / 2br - YOUR PERFECT APARMENT HOME IN A BEAUTIFUL PARK SETTING, RESORT STYLE  (fremont / union city / newark)',\n",
        " '4709951043': u'$2249 / 2br - ~LUSH GARDENS, POOL, SAUNA, FITNESS CENTER AND BRIGHT 2 BEDROOM~ (fremont / union city / newark)',\n",
        " '4709965947': u'$1725 / 1br - 600ft\\xb2 - Just the Right Amount of Space (fremont / union city / newark)',\n",
        " '4709968677': u\"$1695 / 1br - 650ft\\xb2 - Your'e apartment is waiting. (fremont / union city / newark)\",\n",
        " '4709988561': u'$2796 / 3br - 1100ft\\xb2 - Come home to green lawns at Pathfinder Village! (fremont / union city / newark)',\n",
        " '4709996336': u'$1900 / 1br - 737ft\\xb2 - *Carriage House* Gated Community in a Quiet and Friendly Neighborhood! (fremont / union city / newark)',\n",
        " '4709997185': u'$2300 / 2br - 890ft\\xb2 - *Carriage House* Gated Community in a Quiet and Friendly Neighborhood! (fremont / union city / newark)',\n",
        " '4710002531': u'$1795 / 1br - 527ft\\xb2 - \\u2665COMMUNITY A FEELING OF FELLOWSHIP WITH OTHERS JOIN OURS\\u2665  (fremont / union city / newark)',\n",
        " '4710005929': u'$2249 / 2br - GROUND FLOOR DESIRABLE LOCATION, NEAR SHOPPING,RESTAURANTS AND FWY 880 (fremont / union city / newark)',\n",
        " '4710021161': u'$2800 / 4br - A beautiful house for rent $2,800 (fremont / union city / newark)',\n",
        " '4710062194': u'$2295 / 2br - 1004ft\\xb2 - \\u2666COME AND SEE WHAT YOU HAVE BEEN MISSING\\u2666 (fremont / union city / newark)',\n",
        " '4710068294': u'$2150 / 2br - PARK-LIKE SETTING IN PRIME LOCATION, DESIGNER 2 BR (fremont / union city / newark)',\n",
        " '4710087560': u'$1820 / 1br - 716ft\\xb2 - Get More for Your Money! Great Value BR Apt! (fremont / union city / newark)',\n",
        " '4710093416': u'$2175 / 2br - 850ft\\xb2 - A Fantastic Two Bedroom One Bath, Apartment Home. Ready 10/13! (fremont / union city / newark)',\n",
        " '4710094314': u'$2186 / 2br - 800ft\\xb2 - Our Most Popular Floor Plan! (fremont / union city / newark)',\n",
        " '4710128373': u'$1699 / 1br - 685ft\\xb2 -  No stairs to climb!!Near By Shopping Centers! (fremont / union city / newark)',\n",
        " '4710131865': u'$1965 / 2br - 830ft\\xb2 - Ready to Rent! (fremont / union city / newark)',\n",
        " '4710148039': u\"$2243 / 2br - 850ft\\xb2 - Do You Love Where You Live? Our Resident's Do! (fremont / union city / newark)\",\n",
        " '4710152904': u'$2384 / 1br - 877ft\\xb2 - Fabulous apartment, walking distance to Lake Elizabeth (fremont / union city / newark)',\n",
        " '4710161708': u'$1929 / 1br - GORGEOUS,TOP FLOOR APARTMENT,VISIT AMBER COURT TODAY!  (fremont / union city / newark)',\n",
        " '4710161785': u'$1600 / 1br - 667ft\\xb2 - Move Nov. 17th..... (fremont / union city / newark)',\n",
        " '4710164005': u'$1699 / 1br - 685ft\\xb2 - Lovely Place To Call Home! Sparkling pool & relaxing spa!  $300 Dep. (fremont / union city / newark)',\n",
        " '4710174102': u'$1845 / 1br - Ready to move in call now for an appointment!!!! (fremont / union city / newark)',\n",
        " '4710176266': u'$1595 / 545ft\\xb2 - Spacious Studio Apartment in Downtown Fremont move in ready 11/15/2014 (fremont / union city / newark)',\n",
        " '4710191971': u'$2295 / 2br - 980ft\\xb2 - \\u2665HOME IS WHERE THE HEART IS\\u2665HUGE MASTERBEDROOM\\u2666 (fremont / union city / newark)',\n",
        " '4710193155': u'$2053 / 2br - 850ft\\xb2 - Top Floor 2 bed 1 Bath! The Place To Live! (fremont / union city / newark)',\n",
        " '4710205842': u'$2053 / 2br - 850ft\\xb2 - Have the best of the Bay Area within reach at Skylark Apartments! (fremont / union city / newark)',\n",
        " '4710220313': u'$1,995/mo',\n",
        " '4710227618': u'$3100 / 4br - 2030ft\\xb2 - $3100 / 4BR-3BA - 2030ft\\xb2 - Bright Ardenwood SFH Open House 2-4pm10/11 (fremont / union city / newark)',\n",
        " '4710256324': u'$2665 / 2br - 901ft\\xb2 - Immediate Move In Available With Upgraded Finishes (fremont / union city / newark)',\n",
        " '4710259152': u'$2425 / 2br - 1010ft\\xb2 - Visit Your New Home, Night Patrol, Fitness Ctr, Easy Freeway Access (fremont / union city / newark)',\n",
        " '4710314987': u'$1760 / 1br - PARK-LIKE LANDSCAPING, POOL, SPA, FITNESS CENTER (fremont / union city / newark)',\n",
        " '4710316373': u'$1900 / 1br - 737ft\\xb2 - *Carriage House* Gated Community in a Quiet and Friendly Neighborhood! (fremont / union city / newark)',\n",
        " '4710317042': u'$2300 / 2br - 890ft\\xb2 - *Carriage House* Gated Community in a Quiet and Friendly Neighborhood! (fremont / union city / newark)',\n",
        " '4710319342': u'$2510 / 2br - 1120ft\\xb2 - Available Immediately! 2x2 with HUGE balcony and walk in closet! (fremont / union city / newark)',\n",
        " '4710320249': u'$2295 / 2br - 980ft\\xb2 - \\u2666\\u263aBRAND NEW EVERYTHING!\\u2666\\u263a (fremont / union city / newark)',\n",
        " '4710357634': u'$1650 / 1br - A small house for rent at Newark (fremont / union city / newark)',\n",
        " '4710360494': u'$2595 / 2br - 1081ft\\xb2 - 37 Silk Oak, Fremont - Nice Townhome (fremont / union city / newark)',\n",
        " '4710368477': u'$1851 / 1br - 615ft\\xb2 - Available November 11th!! (fremont / union city / newark)',\n",
        " '4710369193': u'$1923 / 2br - 785ft\\xb2 - Only One Available November 1st (fremont / union city / newark)',\n",
        " '4710371000': u'$2068 / 2br - 895ft\\xb2 - Large Dual Floor Plan First Availability October 15th  (fremont / union city / newark)',\n",
        " '4710383619': u'$2259 / 2br - ***COME BY TODAY AND LET US SHOW YOU YOUR NEXT NEW HOME*** (fremont / union city / newark)',\n",
        " '4710387905': u'$1795 / 1br - 527ft\\xb2 - \\u25d8CLOSE AND CONVENIENT FOR YOUR LIFESTYLE\\u25d8 (fremont / union city / newark)',\n",
        " '4710402279': u'$2270 / 2br - 913ft\\xb2 - Available Soon! Perfect Location! 2 BR & 2 BA! (fremont / union city / newark)',\n",
        " '4710410118': u'$3600 / 4br - 2668ft\\xb2 - Mission Home - 699 Patriot Place - Fremont (fremont / union city / newark)',\n",
        " '4710451031': u'$1674 Affordable One Bedroom Near Public Transportation, Shopping and Dining (fremont / union city / newark)',\n",
        " '4710455323': u'$2310 / 2br - 975ft\\xb2 - Enjoy Separate Dining Rooms in our BR Apartments (fremont / union city / newark)',\n",
        " '4710459519': u'$3400 / 3br - 2100ft\\xb2 - MISSION: ANTELOPE HILLS 3 BR 2 1/5 BATH  (fremont / union city / newark)',\n",
        " '4710469884': u'$1895 / 1br - 527ft\\xb2 - \\u2665HOME IS WHERE THE HEART IS\\u2665WASHER/DYER IN UNIT\\u2660 (fremont / union city / newark)',\n",
        " '4710471246': u'$2544 / 3br - 1056ft\\xb2 - Spacious 3 BR Apt! Close to UC BART! Shopping & More (fremont / union city / newark)',\n",
        " '4710494763': u'$1698 / 1br - AMAZING AMENITIES IN PARK-LIKE COMMUNITY (fremont / union city / newark)',\n",
        " '4710498444': u'$1900 / 1br - 737ft\\xb2 - *Carriage House* Gated Community in a Quiet and Friendly Neighborhood! (fremont / union city / newark)',\n",
        " '4710499204': u'$2300 / 2br - 890ft\\xb2 - *Carriage House* Gated Community in a Quiet and Friendly Neighborhood! (fremont / union city / newark)',\n",
        " '4710676926': u'$2200 / 2br - 1188ft\\xb2 - Beautiful Parkmont Condo For Rent Walk to bart (fremont / union city / newark)',\n",
        " '4710690027': u'$2100 / 2br - 850ft\\xb2 - COTTAGE / In-Law in Fremont  (fremont / union city / newark)',\n",
        " '4710699054': u'$2000 / 2br - 900ft\\xb2 - Mission Village 2BD/2 Full Bath Condo (fremont / union city / newark)',\n",
        " '4710948402': u'$3200 ** Beautiful 3BD Single Family Home - with Full Amenities *** (fremont / union city / newark)',\n",
        " '4710977244': u'$3,100/mo',\n",
        " '4711030749': u'$2295 / 2br - 980ft\\xb2 - \\u2660\\u2665QUIET, COMFORT, & CONVENIENCE! YOU DESERVE THE BEST!\\u2660 (fremont / union city / newark)',\n",
        " '4711061710': u'$3200 / 3br - 1700ft\\xb2 - Ardenwood updated SFH for rent- Dec 2014 (fremont / union city / newark)',\n",
        " '4711064129': u'$2394 / 1br - 854ft\\xb2 - Wake Up To Views Of The Hills & Walk To BART... @ Watermark Place (fremont / union city / newark)',\n",
        " '4711067392': u'$1950 / 1br - 710ft\\xb2 - Luxurious Homes, Near Public Parks, Parkmont Schools (fremont / union city / newark)',\n",
        " '4711084884': u'$2379 / 1br - 877ft\\xb2 - Charming apartment homes w/spacious and open kitchen layout! (fremont / union city / newark)',\n",
        " '4711111236': u'$1795 / 1br - 527ft\\xb2 - \\u263bBART RIDERS DREAM/CLOSE TO SHOPPING\\u263b (fremont / union city / newark)',\n",
        " '4711129092': u'$1698 / 1br - PRIVATE END UNIT, LARGE STORAGE, YOUR NEW HOME IS HERE! (fremont / union city / newark)',\n",
        " '4711152261': u'$2278 / 2br - 985ft\\xb2 - Available Immediately! (fremont / union city / newark)',\n",
        " '4711154407': u'$2713 / 3br - 1063ft\\xb2 - Get Spoiled Here! Concierge, Clubhouse, Fitness Center & More (fremont / union city / newark)',\n",
        " '4711155844': u'$2260 / 2br - 975ft\\xb2 - Appealing Apartment Community that has a Park-Like Setting (fremont / union city / newark)',\n",
        " '4711160900': u'$2264 / 2br - 975ft\\xb2 - Best Community in Fremont with Washer & Dryer! (fremont / union city / newark)',\n",
        " '4711162750': u'$1883 / 1br - 730ft\\xb2 - Home is always a stunning, tranquil retreat at Heritage Village (fremont / union city / newark)',\n",
        " '4711163775': u'$2309 / 2br - 985ft\\xb2 - Spacious and Amazing.. talk about luxury! (fremont / union city / newark)',\n",
        " '4711175500': u'$2105 / 2br - 830ft\\xb2 - Energy-saving Kitchens with Built-in Microwaves (fremont / union city / newark)',\n",
        " '4711194779': u'$1795 / 1br - 527ft\\xb2 - \\u2022\\u2022\\u2022LIVE CLOSE TO THE CITY\\u2665\\u2022\\u2022 (fremont / union city / newark)',\n",
        " '4711216233': u'$1845 / 1br - Ready to move in call now for an appointment!!!! (fremont / union city / newark)',\n",
        " '4711238589': u'$1625 / 1br - 630ft\\xb2 - Beautiful Niles Community! Upstairs  Move-In October 23th! (fremont / union city / newark)',\n",
        " '4711243094': u'$1725 / 1br - 710ft\\xb2 - COME BY TODAY! Available for Move- In Today!  (fremont / union city / newark)',\n",
        " '4711253119': u'$2300 / 2br - 1475ft\\xb2 - Remodel Union City Townhouse with 2 car garage (fremont / union city / newark)',\n",
        " '4711254653': u'$2026 / 1br - 738ft\\xb2 - \"Great Home!\" (fremont / union city / newark)',\n",
        " '4711260041': u'$3,350/mo',\n",
        " '4711266858': u'$1547 / 1br - 660ft\\xb2 - Medallion Has All The Space You Need... (fremont / union city / newark)',\n",
        " '4711290032': u'$2076 / 1br - 738ft\\xb2 - 24-Hour Fitness Center. Wi-Fi Cafe, Gorgeous Courtyard & More! (fremont / union city / newark)',\n",
        " '4711328744': u'$2600 / 2br - 2 bedroom unit for lease (fremont / union city / newark)',\n",
        " '4711371338': u'$2392 / 2br - 900ft\\xb2 - Spacious, open, amazing floor plans!  (fremont / union city / newark)',\n",
        " '4711374823': u'$1100 / 1br - 300ft\\xb2 - Private 24 ft camper -fully funtional (fremont / union city / newark)',\n",
        " '4711396964': u'$2034 / 1br - 665ft\\xb2 - Top floor 1 bedroom with Fireplace, W/D, & detached garage (fremont / union city / newark)',\n",
        " '4711401643': u'$2095 / 2br - 850ft\\xb2 - 2 bed 1 bath  (fremont / union city / newark)',\n",
        " '4711427069': u'$2800 / 5br - 1600ft\\xb2 - Single story house near Lake Elizebeth (fremont / union city / newark)',\n",
        " '4711438936': u'$1895 / 1br - 527ft\\xb2 - \\u2665LOOKING FOR PEACE AND QUIET\\u2665 COME AND TOUR TODAY\\u2665 (fremont / union city / newark)',\n",
        " '4711441253': u\"$2064 / 1br - 640ft\\xb2 - **Don't Miss! Gorgeous Big Balcoy w/ Storage, Close to Lake & Trail** (fremont / union city / newark)\",\n",
        " '4711442471': u'$1550 / 1br - 1 bedr apt for 1550 only in Newark   (fremont / union city / newark)',\n",
        " '4711450323': u'$2700 / 3br - 1200ft\\xb2 - Large 3 bedroom 2 bathroom Condo in Monte Vista Villas for rent (fremont / union city / newark)',\n",
        " '4711462498': u'$2295 / 2br - 1004ft\\xb2 - FREMONT HUB\\u25d8GREAT LOCATION\\u25d8GREAT PRICE (fremont / union city / newark)',\n",
        " '4711476379': u'$1,625/mo',\n",
        " '4711477837': u'$1845 / 1br - Ready to move in call now for an appointment!!!! (fremont / union city / newark)',\n",
        " '4711482079': u'$1875 / 1br - 565ft\\xb2 - Schedule a Tour, Community Clubhouse, Near Shops and Dining (fremont / union city / newark)',\n",
        " '4711496032': u'$2790 / 4br - 1640ft\\xb2 - Parkmont Area - 4 Bed / 2 Bath Single-level, Single-family  (fremont / union city / newark)',\n",
        " '4711529037': u'$2295 / 2br - 980ft\\xb2 - \\u2660GREAT PRICE, LOCATION, AND QUIET\\u2660 (fremont / union city / newark)',\n",
        " '4711547661': u'$2850 / 3br - 1877ft\\xb2 - Great 3BR/2.5 bath home for rent in Union city (fremont / union city / newark)',\n",
        " '4711561337': u'$1698 / 1br - OPEN FLOOR PLAN WITH A PRIVATE PATIO & GYM (fremont / union city / newark)',\n",
        " '4711629640': u'$2500 / 2br - 977ft\\xb2 - Pet Friendly on top floor with Fireplace (fremont / union city / newark)',\n",
        " '4711638621': u'$2573 / 2br - 1126ft\\xb2 - Your New Home Awaits You In This Renovated & Spacious 2BD/2BA (fremont / union city / newark)',\n",
        " '4711659575': u'$1795 / 1br - 527ft\\xb2 - A MUST SEE! BEAUTIFUL ONE BEDROOM APARTMENT HOME! (fremont / union city / newark)',\n",
        " '4711669614': u'$2646 / 2br - 910ft\\xb2 - Great Location, Garden View, Close to Gym & Pool, Laundry Inside! (fremont / union city / newark)',\n",
        " '4711701394': u'$2453 / 2br - 958ft\\xb2 - 2nd floor location in Beautiful 2 bedroom (fremont / union city / newark)',\n",
        " '4711731689': u'$1698 / 1br - RESORT LIVING IN A SERENE PARK SETTING (fremont / union city / newark)',\n",
        " '4711746106': u'$2295 / 2br - 1004ft\\xb2 - \\u25d8CLOSE AND CONVENIENT FOR YOUR LIFESTYLE\\u25d8 (fremont / union city / newark)',\n",
        " '4711769872': u'$650 / 1br - Looking for roommates right across fremont bart station (fremont / union city / newark)',\n",
        " '4711771823': u\"$2128 / 1br - 720ft\\xb2 - Retreat-Like View, Cats & Dogs Welcome, Skylight, Laundry, Don't Miss! (fremont / union city / newark)\",\n",
        " '4711894505': u'$2300 / 2br - 1200ft\\xb2 - HUGE 2Bed/2Bath Condo, 1200sq ft, Washer/Dryer, Central AC, REAL Garag (fremont / union city / newark)',\n",
        " '4711899551': u'$2340 / 3br - 1000ft\\xb2 - Remodeled Warm Springs House (fremont / union city / newark)',\n",
        " '4711946435': u'$2100 / 3br - 1385ft\\xb2 - 3 Bed room /1-1/2 Bath Apartment (fremont / union city / newark)'}"
       ]
      }
     ],
     "prompt_number": 59
    },
    {
     "cell_type": "code",
     "collapsed": false,
     "input": [
      "connection = pymongo.Connection()\n",
      "db = connection['craig_rental']\n",
      "rentals = db.rentals\n",
      "for row in final_content:\n",
      "    #rentals.insert(row)\n",
      "    print row\n",
      "    #print final_content[row]\n",
      "    rentals.insert(final_content)\n",
      "rentals.find_one({\"id\": \"4702678204\"})"
     ],
     "language": "python",
     "metadata": {},
     "outputs": [
      {
       "output_type": "stream",
       "stream": "stdout",
       "text": [
        "{'url': 'http://sfbay.craigslist.org/eby/apa/4709907522.html', 'app': 1000, 'id': '4709907522', 'desc': u'$2051 / 1br - 735ft\\xb2 - Amazing ground level unit with hardwood floors and HUGE patio!! (fremont / union city / newark)'}\n",
        "{'url': 'http://sfbay.craigslist.org/eby/apa/4709907522.html', 'app': 1000, '_id': ObjectId('543b6bb656ddae01724551fd'), 'id': '4709907522', 'desc': u'$2051 / 1br - 735ft\\xb2 - Amazing ground level unit with hardwood floors and HUGE patio!! (fremont / union city / newark)'}"
       ]
      },
      {
       "output_type": "stream",
       "stream": "stdout",
       "text": [
        "\n",
        "{'url': 'http://sfbay.craigslist.org/eby/apa/4709907522.html', 'app': 1000, '_id': ObjectId('543b6bb656ddae01724551fd'), 'id': '4709907522', 'desc': u'$2051 / 1br - 735ft\\xb2 - Amazing ground level unit with hardwood floors and HUGE patio!! (fremont / union city / newark)'}"
       ]
      },
      {
       "output_type": "stream",
       "stream": "stdout",
       "text": [
        "\n",
        "{'url': 'http://sfbay.craigslist.org/eby/apa/4709907522.html', 'app': 1000, '_id': ObjectId('543b6bb656ddae01724551fd'), 'id': '4709907522', 'desc': u'$2051 / 1br - 735ft\\xb2 - Amazing ground level unit with hardwood floors and HUGE patio!! (fremont / union city / newark)'}"
       ]
      },
      {
       "output_type": "stream",
       "stream": "stdout",
       "text": [
        "\n",
        "{'url': 'http://sfbay.craigslist.org/eby/apa/4709907522.html', 'app': 1000, '_id': ObjectId('543b6bb656ddae01724551fd'), 'id': '4709907522', 'desc': u'$2051 / 1br - 735ft\\xb2 - Amazing ground level unit with hardwood floors and HUGE patio!! (fremont / union city / newark)'}"
       ]
      },
      {
       "output_type": "stream",
       "stream": "stdout",
       "text": [
        "\n",
        "{'url': 'http://sfbay.craigslist.org/eby/apa/4709907522.html', 'app': 1000, '_id': ObjectId('543b6bb656ddae01724551fd'), 'id': '4709907522', 'desc': u'$2051 / 1br - 735ft\\xb2 - Amazing ground level unit with hardwood floors and HUGE patio!! (fremont / union city / newark)'}"
       ]
      },
      {
       "output_type": "stream",
       "stream": "stdout",
       "text": [
        "\n",
        "{'url': 'http://sfbay.craigslist.org/eby/apa/4709907522.html', 'app': 1000, '_id': ObjectId('543b6bb656ddae01724551fd'), 'id': '4709907522', 'desc': u'$2051 / 1br - 735ft\\xb2 - Amazing ground level unit with hardwood floors and HUGE patio!! (fremont / union city / newark)'}"
       ]
      },
      {
       "output_type": "stream",
       "stream": "stdout",
       "text": [
        "\n",
        "{'url': 'http://sfbay.craigslist.org/eby/apa/4709907522.html', 'app': 1000, '_id': ObjectId('543b6bb656ddae01724551fd'), 'id': '4709907522', 'desc': u'$2051 / 1br - 735ft\\xb2 - Amazing ground level unit with hardwood floors and HUGE patio!! (fremont / union city / newark)'}"
       ]
      },
      {
       "output_type": "stream",
       "stream": "stdout",
       "text": [
        "\n",
        "{'url': 'http://sfbay.craigslist.org/eby/apa/4709907522.html', 'app': 1000, '_id': ObjectId('543b6bb656ddae01724551fd'), 'id': '4709907522', 'desc': u'$2051 / 1br - 735ft\\xb2 - Amazing ground level unit with hardwood floors and HUGE patio!! (fremont / union city / newark)'}"
       ]
      },
      {
       "output_type": "stream",
       "stream": "stdout",
       "text": [
        "\n",
        "{'url': 'http://sfbay.craigslist.org/eby/apa/4709907522.html', 'app': 1000, '_id': ObjectId('543b6bb656ddae01724551fd'), 'id': '4709907522', 'desc': u'$2051 / 1br - 735ft\\xb2 - Amazing ground level unit with hardwood floors and HUGE patio!! (fremont / union city / newark)'}"
       ]
      },
      {
       "output_type": "stream",
       "stream": "stdout",
       "text": [
        "\n",
        "{'url': 'http://sfbay.craigslist.org/eby/apa/4709907522.html', 'app': 1000, '_id': ObjectId('543b6bb656ddae01724551fd'), 'id': '4709907522', 'desc': u'$2051 / 1br - 735ft\\xb2 - Amazing ground level unit with hardwood floors and HUGE patio!! (fremont / union city / newark)'}"
       ]
      },
      {
       "output_type": "stream",
       "stream": "stdout",
       "text": [
        "\n",
        "{'url': 'http://sfbay.craigslist.org/eby/apa/4709907522.html', 'app': 1000, '_id': ObjectId('543b6bb656ddae01724551fd'), 'id': '4709907522', 'desc': u'$2051 / 1br - 735ft\\xb2 - Amazing ground level unit with hardwood floors and HUGE patio!! (fremont / union city / newark)'}"
       ]
      },
      {
       "output_type": "stream",
       "stream": "stdout",
       "text": [
        "\n",
        "{'url': 'http://sfbay.craigslist.org/eby/apa/4709907522.html', 'app': 1000, '_id': ObjectId('543b6bb656ddae01724551fd'), 'id': '4709907522', 'desc': u'$2051 / 1br - 735ft\\xb2 - Amazing ground level unit with hardwood floors and HUGE patio!! (fremont / union city / newark)'}"
       ]
      },
      {
       "output_type": "stream",
       "stream": "stdout",
       "text": [
        "\n",
        "{'url': 'http://sfbay.craigslist.org/eby/apa/4709907522.html', 'app': 1000, '_id': ObjectId('543b6bb656ddae01724551fd'), 'id': '4709907522', 'desc': u'$2051 / 1br - 735ft\\xb2 - Amazing ground level unit with hardwood floors and HUGE patio!! (fremont / union city / newark)'}"
       ]
      },
      {
       "output_type": "stream",
       "stream": "stdout",
       "text": [
        "\n",
        "{'url': 'http://sfbay.craigslist.org/eby/apa/4709907522.html', 'app': 1000, '_id': ObjectId('543b6bb656ddae01724551fd'), 'id': '4709907522', 'desc': u'$2051 / 1br - 735ft\\xb2 - Amazing ground level unit with hardwood floors and HUGE patio!! (fremont / union city / newark)'}"
       ]
      },
      {
       "output_type": "stream",
       "stream": "stdout",
       "text": [
        "\n",
        "{'url': 'http://sfbay.craigslist.org/eby/apa/4709907522.html', 'app': 1000, '_id': ObjectId('543b6bb656ddae01724551fd'), 'id': '4709907522', 'desc': u'$2051 / 1br - 735ft\\xb2 - Amazing ground level unit with hardwood floors and HUGE patio!! (fremont / union city / newark)'}"
       ]
      },
      {
       "output_type": "stream",
       "stream": "stdout",
       "text": [
        "\n",
        "{'url': 'http://sfbay.craigslist.org/eby/apa/4709907522.html', 'app': 1000, '_id': ObjectId('543b6bb656ddae01724551fd'), 'id': '4709907522', 'desc': u'$2051 / 1br - 735ft\\xb2 - Amazing ground level unit with hardwood floors and HUGE patio!! (fremont / union city / newark)'}"
       ]
      },
      {
       "output_type": "stream",
       "stream": "stdout",
       "text": [
        "\n",
        "{'url': 'http://sfbay.craigslist.org/eby/apa/4709907522.html', 'app': 1000, '_id': ObjectId('543b6bb656ddae01724551fd'), 'id': '4709907522', 'desc': u'$2051 / 1br - 735ft\\xb2 - Amazing ground level unit with hardwood floors and HUGE patio!! (fremont / union city / newark)'}"
       ]
      },
      {
       "output_type": "stream",
       "stream": "stdout",
       "text": [
        "\n",
        "{'url': 'http://sfbay.craigslist.org/eby/apa/4709907522.html', 'app': 1000, '_id': ObjectId('543b6bb656ddae01724551fd'), 'id': '4709907522', 'desc': u'$2051 / 1br - 735ft\\xb2 - Amazing ground level unit with hardwood floors and HUGE patio!! (fremont / union city / newark)'}"
       ]
      },
      {
       "output_type": "stream",
       "stream": "stdout",
       "text": [
        "\n",
        "{'url': 'http://sfbay.craigslist.org/eby/apa/4709907522.html', 'app': 1000, '_id': ObjectId('543b6bb656ddae01724551fd'), 'id': '4709907522', 'desc': u'$2051 / 1br - 735ft\\xb2 - Amazing ground level unit with hardwood floors and HUGE patio!! (fremont / union city / newark)'}"
       ]
      },
      {
       "output_type": "stream",
       "stream": "stdout",
       "text": [
        "\n",
        "{'url': 'http://sfbay.craigslist.org/eby/apa/4709907522.html', 'app': 1000, '_id': ObjectId('543b6bb656ddae01724551fd'), 'id': '4709907522', 'desc': u'$2051 / 1br - 735ft\\xb2 - Amazing ground level unit with hardwood floors and HUGE patio!! (fremont / union city / newark)'}"
       ]
      },
      {
       "output_type": "stream",
       "stream": "stdout",
       "text": [
        "\n",
        "{'url': 'http://sfbay.craigslist.org/eby/apa/4709907522.html', 'app': 1000, '_id': ObjectId('543b6bb656ddae01724551fd'), 'id': '4709907522', 'desc': u'$2051 / 1br - 735ft\\xb2 - Amazing ground level unit with hardwood floors and HUGE patio!! (fremont / union city / newark)'}"
       ]
      },
      {
       "output_type": "stream",
       "stream": "stdout",
       "text": [
        "\n",
        "{'url': 'http://sfbay.craigslist.org/eby/apa/4709907522.html', 'app': 1000, '_id': ObjectId('543b6bb656ddae01724551fd'), 'id': '4709907522', 'desc': u'$2051 / 1br - 735ft\\xb2 - Amazing ground level unit with hardwood floors and HUGE patio!! (fremont / union city / newark)'}"
       ]
      },
      {
       "output_type": "stream",
       "stream": "stdout",
       "text": [
        "\n",
        "{'url': 'http://sfbay.craigslist.org/eby/apa/4709907522.html', 'app': 1000, '_id': ObjectId('543b6bb656ddae01724551fd'), 'id': '4709907522', 'desc': u'$2051 / 1br - 735ft\\xb2 - Amazing ground level unit with hardwood floors and HUGE patio!! (fremont / union city / newark)'}"
       ]
      },
      {
       "output_type": "stream",
       "stream": "stdout",
       "text": [
        "\n",
        "{'url': 'http://sfbay.craigslist.org/eby/apa/4709907522.html', 'app': 1000, '_id': ObjectId('543b6bb656ddae01724551fd'), 'id': '4709907522', 'desc': u'$2051 / 1br - 735ft\\xb2 - Amazing ground level unit with hardwood floors and HUGE patio!! (fremont / union city / newark)'}"
       ]
      },
      {
       "output_type": "stream",
       "stream": "stdout",
       "text": [
        "\n",
        "{'url': 'http://sfbay.craigslist.org/eby/apa/4709907522.html', 'app': 1000, '_id': ObjectId('543b6bb656ddae01724551fd'), 'id': '4709907522', 'desc': u'$2051 / 1br - 735ft\\xb2 - Amazing ground level unit with hardwood floors and HUGE patio!! (fremont / union city / newark)'}"
       ]
      },
      {
       "output_type": "stream",
       "stream": "stdout",
       "text": [
        "\n",
        "{'url': 'http://sfbay.craigslist.org/eby/apa/4709907522.html', 'app': 1000, '_id': ObjectId('543b6bb656ddae01724551fd'), 'id': '4709907522', 'desc': u'$2051 / 1br - 735ft\\xb2 - Amazing ground level unit with hardwood floors and HUGE patio!! (fremont / union city / newark)'}"
       ]
      },
      {
       "output_type": "stream",
       "stream": "stdout",
       "text": [
        "\n",
        "{'url': 'http://sfbay.craigslist.org/eby/apa/4709907522.html', 'app': 1000, '_id': ObjectId('543b6bb656ddae01724551fd'), 'id': '4709907522', 'desc': u'$2051 / 1br - 735ft\\xb2 - Amazing ground level unit with hardwood floors and HUGE patio!! (fremont / union city / newark)'}"
       ]
      },
      {
       "output_type": "stream",
       "stream": "stdout",
       "text": [
        "\n",
        "{'url': 'http://sfbay.craigslist.org/eby/apa/4709907522.html', 'app': 1000, '_id': ObjectId('543b6bb656ddae01724551fd'), 'id': '4709907522', 'desc': u'$2051 / 1br - 735ft\\xb2 - Amazing ground level unit with hardwood floors and HUGE patio!! (fremont / union city / newark)'}"
       ]
      },
      {
       "output_type": "stream",
       "stream": "stdout",
       "text": [
        "\n",
        "{'url': 'http://sfbay.craigslist.org/eby/apa/4709907522.html', 'app': 1000, '_id': ObjectId('543b6bb656ddae01724551fd'), 'id': '4709907522', 'desc': u'$2051 / 1br - 735ft\\xb2 - Amazing ground level unit with hardwood floors and HUGE patio!! (fremont / union city / newark)'}"
       ]
      },
      {
       "output_type": "stream",
       "stream": "stdout",
       "text": [
        "\n",
        "{'url': 'http://sfbay.craigslist.org/eby/apa/4709907522.html', 'app': 1000, '_id': ObjectId('543b6bb656ddae01724551fd'), 'id': '4709907522', 'desc': u'$2051 / 1br - 735ft\\xb2 - Amazing ground level unit with hardwood floors and HUGE patio!! (fremont / union city / newark)'}"
       ]
      },
      {
       "output_type": "stream",
       "stream": "stdout",
       "text": [
        "\n",
        "{'url': 'http://sfbay.craigslist.org/eby/apa/4709907522.html', 'app': 1000, '_id': ObjectId('543b6bb656ddae01724551fd'), 'id': '4709907522', 'desc': u'$2051 / 1br - 735ft\\xb2 - Amazing ground level unit with hardwood floors and HUGE patio!! (fremont / union city / newark)'}"
       ]
      },
      {
       "output_type": "stream",
       "stream": "stdout",
       "text": [
        "\n",
        "{'url': 'http://sfbay.craigslist.org/eby/apa/4709907522.html', 'app': 1000, '_id': ObjectId('543b6bb656ddae01724551fd'), 'id': '4709907522', 'desc': u'$2051 / 1br - 735ft\\xb2 - Amazing ground level unit with hardwood floors and HUGE patio!! (fremont / union city / newark)'}"
       ]
      },
      {
       "output_type": "stream",
       "stream": "stdout",
       "text": [
        "\n",
        "{'url': 'http://sfbay.craigslist.org/eby/apa/4709907522.html', 'app': 1000, '_id': ObjectId('543b6bb656ddae01724551fd'), 'id': '4709907522', 'desc': u'$2051 / 1br - 735ft\\xb2 - Amazing ground level unit with hardwood floors and HUGE patio!! (fremont / union city / newark)'}"
       ]
      },
      {
       "output_type": "stream",
       "stream": "stdout",
       "text": [
        "\n",
        "{'url': 'http://sfbay.craigslist.org/eby/apa/4709907522.html', 'app': 1000, '_id': ObjectId('543b6bb656ddae01724551fd'), 'id': '4709907522', 'desc': u'$2051 / 1br - 735ft\\xb2 - Amazing ground level unit with hardwood floors and HUGE patio!! (fremont / union city / newark)'}"
       ]
      },
      {
       "output_type": "stream",
       "stream": "stdout",
       "text": [
        "\n",
        "{'url': 'http://sfbay.craigslist.org/eby/apa/4709907522.html', 'app': 1000, '_id': ObjectId('543b6bb656ddae01724551fd'), 'id': '4709907522', 'desc': u'$2051 / 1br - 735ft\\xb2 - Amazing ground level unit with hardwood floors and HUGE patio!! (fremont / union city / newark)'}"
       ]
      },
      {
       "output_type": "stream",
       "stream": "stdout",
       "text": [
        "\n",
        "{'url': 'http://sfbay.craigslist.org/eby/apa/4709907522.html', 'app': 1000, '_id': ObjectId('543b6bb656ddae01724551fd'), 'id': '4709907522', 'desc': u'$2051 / 1br - 735ft\\xb2 - Amazing ground level unit with hardwood floors and HUGE patio!! (fremont / union city / newark)'}"
       ]
      },
      {
       "output_type": "stream",
       "stream": "stdout",
       "text": [
        "\n",
        "{'url': 'http://sfbay.craigslist.org/eby/apa/4709907522.html', 'app': 1000, '_id': ObjectId('543b6bb656ddae01724551fd'), 'id': '4709907522', 'desc': u'$2051 / 1br - 735ft\\xb2 - Amazing ground level unit with hardwood floors and HUGE patio!! (fremont / union city / newark)'}"
       ]
      },
      {
       "output_type": "stream",
       "stream": "stdout",
       "text": [
        "\n",
        "{'url': 'http://sfbay.craigslist.org/eby/apa/4709907522.html', 'app': 1000, '_id': ObjectId('543b6bb656ddae01724551fd'), 'id': '4709907522', 'desc': u'$2051 / 1br - 735ft\\xb2 - Amazing ground level unit with hardwood floors and HUGE patio!! (fremont / union city / newark)'}"
       ]
      },
      {
       "output_type": "stream",
       "stream": "stdout",
       "text": [
        "\n",
        "{'url': 'http://sfbay.craigslist.org/eby/apa/4709907522.html', 'app': 1000, '_id': ObjectId('543b6bb656ddae01724551fd'), 'id': '4709907522', 'desc': u'$2051 / 1br - 735ft\\xb2 - Amazing ground level unit with hardwood floors and HUGE patio!! (fremont / union city / newark)'}"
       ]
      },
      {
       "output_type": "stream",
       "stream": "stdout",
       "text": [
        "\n",
        "{'url': 'http://sfbay.craigslist.org/eby/apa/4709907522.html', 'app': 1000, '_id': ObjectId('543b6bb656ddae01724551fd'), 'id': '4709907522', 'desc': u'$2051 / 1br - 735ft\\xb2 - Amazing ground level unit with hardwood floors and HUGE patio!! (fremont / union city / newark)'}"
       ]
      },
      {
       "output_type": "stream",
       "stream": "stdout",
       "text": [
        "\n",
        "{'url': 'http://sfbay.craigslist.org/eby/apa/4709907522.html', 'app': 1000, '_id': ObjectId('543b6bb656ddae01724551fd'), 'id': '4709907522', 'desc': u'$2051 / 1br - 735ft\\xb2 - Amazing ground level unit with hardwood floors and HUGE patio!! (fremont / union city / newark)'}"
       ]
      },
      {
       "output_type": "stream",
       "stream": "stdout",
       "text": [
        "\n",
        "{'url': 'http://sfbay.craigslist.org/eby/apa/4709907522.html', 'app': 1000, '_id': ObjectId('543b6bb656ddae01724551fd'), 'id': '4709907522', 'desc': u'$2051 / 1br - 735ft\\xb2 - Amazing ground level unit with hardwood floors and HUGE patio!! (fremont / union city / newark)'}"
       ]
      },
      {
       "output_type": "stream",
       "stream": "stdout",
       "text": [
        "\n",
        "{'url': 'http://sfbay.craigslist.org/eby/apa/4709907522.html', 'app': 1000, '_id': ObjectId('543b6bb656ddae01724551fd'), 'id': '4709907522', 'desc': u'$2051 / 1br - 735ft\\xb2 - Amazing ground level unit with hardwood floors and HUGE patio!! (fremont / union city / newark)'}"
       ]
      },
      {
       "output_type": "stream",
       "stream": "stdout",
       "text": [
        "\n",
        "{'url': 'http://sfbay.craigslist.org/eby/apa/4709907522.html', 'app': 1000, '_id': ObjectId('543b6bb656ddae01724551fd'), 'id': '4709907522', 'desc': u'$2051 / 1br - 735ft\\xb2 - Amazing ground level unit with hardwood floors and HUGE patio!! (fremont / union city / newark)'}"
       ]
      },
      {
       "output_type": "stream",
       "stream": "stdout",
       "text": [
        "\n",
        "{'url': 'http://sfbay.craigslist.org/eby/apa/4709907522.html', 'app': 1000, '_id': ObjectId('543b6bb656ddae01724551fd'), 'id': '4709907522', 'desc': u'$2051 / 1br - 735ft\\xb2 - Amazing ground level unit with hardwood floors and HUGE patio!! (fremont / union city / newark)'}"
       ]
      },
      {
       "output_type": "stream",
       "stream": "stdout",
       "text": [
        "\n",
        "{'url': 'http://sfbay.craigslist.org/eby/apa/4709907522.html', 'app': 1000, '_id': ObjectId('543b6bb656ddae01724551fd'), 'id': '4709907522', 'desc': u'$2051 / 1br - 735ft\\xb2 - Amazing ground level unit with hardwood floors and HUGE patio!! (fremont / union city / newark)'}"
       ]
      },
      {
       "output_type": "stream",
       "stream": "stdout",
       "text": [
        "\n",
        "{'url': 'http://sfbay.craigslist.org/eby/apa/4709907522.html', 'app': 1000, '_id': ObjectId('543b6bb656ddae01724551fd'), 'id': '4709907522', 'desc': u'$2051 / 1br - 735ft\\xb2 - Amazing ground level unit with hardwood floors and HUGE patio!! (fremont / union city / newark)'}"
       ]
      },
      {
       "output_type": "stream",
       "stream": "stdout",
       "text": [
        "\n",
        "{'url': 'http://sfbay.craigslist.org/eby/apa/4709907522.html', 'app': 1000, '_id': ObjectId('543b6bb656ddae01724551fd'), 'id': '4709907522', 'desc': u'$2051 / 1br - 735ft\\xb2 - Amazing ground level unit with hardwood floors and HUGE patio!! (fremont / union city / newark)'}"
       ]
      },
      {
       "output_type": "stream",
       "stream": "stdout",
       "text": [
        "\n",
        "{'url': 'http://sfbay.craigslist.org/eby/apa/4709907522.html', 'app': 1000, '_id': ObjectId('543b6bb656ddae01724551fd'), 'id': '4709907522', 'desc': u'$2051 / 1br - 735ft\\xb2 - Amazing ground level unit with hardwood floors and HUGE patio!! (fremont / union city / newark)'}"
       ]
      },
      {
       "output_type": "stream",
       "stream": "stdout",
       "text": [
        "\n",
        "{'url': 'http://sfbay.craigslist.org/eby/apa/4709907522.html', 'app': 1000, '_id': ObjectId('543b6bb656ddae01724551fd'), 'id': '4709907522', 'desc': u'$2051 / 1br - 735ft\\xb2 - Amazing ground level unit with hardwood floors and HUGE patio!! (fremont / union city / newark)'}"
       ]
      },
      {
       "output_type": "stream",
       "stream": "stdout",
       "text": [
        "\n",
        "{'url': 'http://sfbay.craigslist.org/eby/apa/4709907522.html', 'app': 1000, '_id': ObjectId('543b6bb656ddae01724551fd'), 'id': '4709907522', 'desc': u'$2051 / 1br - 735ft\\xb2 - Amazing ground level unit with hardwood floors and HUGE patio!! (fremont / union city / newark)'}"
       ]
      },
      {
       "output_type": "stream",
       "stream": "stdout",
       "text": [
        "\n",
        "{'url': 'http://sfbay.craigslist.org/eby/apa/4709907522.html', 'app': 1000, '_id': ObjectId('543b6bb656ddae01724551fd'), 'id': '4709907522', 'desc': u'$2051 / 1br - 735ft\\xb2 - Amazing ground level unit with hardwood floors and HUGE patio!! (fremont / union city / newark)'}"
       ]
      },
      {
       "output_type": "stream",
       "stream": "stdout",
       "text": [
        "\n",
        "{'url': 'http://sfbay.craigslist.org/eby/apa/4709907522.html', 'app': 1000, '_id': ObjectId('543b6bb656ddae01724551fd'), 'id': '4709907522', 'desc': u'$2051 / 1br - 735ft\\xb2 - Amazing ground level unit with hardwood floors and HUGE patio!! (fremont / union city / newark)'}"
       ]
      },
      {
       "output_type": "stream",
       "stream": "stdout",
       "text": [
        "\n",
        "{'url': 'http://sfbay.craigslist.org/eby/apa/4709907522.html', 'app': 1000, '_id': ObjectId('543b6bb656ddae01724551fd'), 'id': '4709907522', 'desc': u'$2051 / 1br - 735ft\\xb2 - Amazing ground level unit with hardwood floors and HUGE patio!! (fremont / union city / newark)'}"
       ]
      },
      {
       "output_type": "stream",
       "stream": "stdout",
       "text": [
        "\n",
        "{'url': 'http://sfbay.craigslist.org/eby/apa/4709907522.html', 'app': 1000, '_id': ObjectId('543b6bb656ddae01724551fd'), 'id': '4709907522', 'desc': u'$2051 / 1br - 735ft\\xb2 - Amazing ground level unit with hardwood floors and HUGE patio!! (fremont / union city / newark)'}"
       ]
      },
      {
       "output_type": "stream",
       "stream": "stdout",
       "text": [
        "\n",
        "{'url': 'http://sfbay.craigslist.org/eby/apa/4709907522.html', 'app': 1000, '_id': ObjectId('543b6bb656ddae01724551fd'), 'id': '4709907522', 'desc': u'$2051 / 1br - 735ft\\xb2 - Amazing ground level unit with hardwood floors and HUGE patio!! (fremont / union city / newark)'}"
       ]
      },
      {
       "output_type": "stream",
       "stream": "stdout",
       "text": [
        "\n",
        "{'url': 'http://sfbay.craigslist.org/eby/apa/4709907522.html', 'app': 1000, '_id': ObjectId('543b6bb656ddae01724551fd'), 'id': '4709907522', 'desc': u'$2051 / 1br - 735ft\\xb2 - Amazing ground level unit with hardwood floors and HUGE patio!! (fremont / union city / newark)'}"
       ]
      },
      {
       "output_type": "stream",
       "stream": "stdout",
       "text": [
        "\n",
        "{'url': 'http://sfbay.craigslist.org/eby/apa/4709907522.html', 'app': 1000, '_id': ObjectId('543b6bb656ddae01724551fd'), 'id': '4709907522', 'desc': u'$2051 / 1br - 735ft\\xb2 - Amazing ground level unit with hardwood floors and HUGE patio!! (fremont / union city / newark)'}"
       ]
      },
      {
       "output_type": "stream",
       "stream": "stdout",
       "text": [
        "\n",
        "{'url': 'http://sfbay.craigslist.org/eby/apa/4709907522.html', 'app': 1000, '_id': ObjectId('543b6bb656ddae01724551fd'), 'id': '4709907522', 'desc': u'$2051 / 1br - 735ft\\xb2 - Amazing ground level unit with hardwood floors and HUGE patio!! (fremont / union city / newark)'}"
       ]
      },
      {
       "output_type": "stream",
       "stream": "stdout",
       "text": [
        "\n",
        "{'url': 'http://sfbay.craigslist.org/eby/apa/4709907522.html', 'app': 1000, '_id': ObjectId('543b6bb656ddae01724551fd'), 'id': '4709907522', 'desc': u'$2051 / 1br - 735ft\\xb2 - Amazing ground level unit with hardwood floors and HUGE patio!! (fremont / union city / newark)'}"
       ]
      },
      {
       "output_type": "stream",
       "stream": "stdout",
       "text": [
        "\n",
        "{'url': 'http://sfbay.craigslist.org/eby/apa/4709907522.html', 'app': 1000, '_id': ObjectId('543b6bb656ddae01724551fd'), 'id': '4709907522', 'desc': u'$2051 / 1br - 735ft\\xb2 - Amazing ground level unit with hardwood floors and HUGE patio!! (fremont / union city / newark)'}"
       ]
      },
      {
       "output_type": "stream",
       "stream": "stdout",
       "text": [
        "\n",
        "{'url': 'http://sfbay.craigslist.org/eby/apa/4709907522.html', 'app': 1000, '_id': ObjectId('543b6bb656ddae01724551fd'), 'id': '4709907522', 'desc': u'$2051 / 1br - 735ft\\xb2 - Amazing ground level unit with hardwood floors and HUGE patio!! (fremont / union city / newark)'}"
       ]
      },
      {
       "output_type": "stream",
       "stream": "stdout",
       "text": [
        "\n",
        "{'url': 'http://sfbay.craigslist.org/eby/apa/4709907522.html', 'app': 1000, '_id': ObjectId('543b6bb656ddae01724551fd'), 'id': '4709907522', 'desc': u'$2051 / 1br - 735ft\\xb2 - Amazing ground level unit with hardwood floors and HUGE patio!! (fremont / union city / newark)'}"
       ]
      },
      {
       "output_type": "stream",
       "stream": "stdout",
       "text": [
        "\n",
        "{'url': 'http://sfbay.craigslist.org/eby/apa/4709907522.html', 'app': 1000, '_id': ObjectId('543b6bb656ddae01724551fd'), 'id': '4709907522', 'desc': u'$2051 / 1br - 735ft\\xb2 - Amazing ground level unit with hardwood floors and HUGE patio!! (fremont / union city / newark)'}"
       ]
      },
      {
       "output_type": "stream",
       "stream": "stdout",
       "text": [
        "\n",
        "{'url': 'http://sfbay.craigslist.org/eby/apa/4709907522.html', 'app': 1000, '_id': ObjectId('543b6bb656ddae01724551fd'), 'id': '4709907522', 'desc': u'$2051 / 1br - 735ft\\xb2 - Amazing ground level unit with hardwood floors and HUGE patio!! (fremont / union city / newark)'}"
       ]
      },
      {
       "output_type": "stream",
       "stream": "stdout",
       "text": [
        "\n",
        "{'url': 'http://sfbay.craigslist.org/eby/apa/4709907522.html', 'app': 1000, '_id': ObjectId('543b6bb656ddae01724551fd'), 'id': '4709907522', 'desc': u'$2051 / 1br - 735ft\\xb2 - Amazing ground level unit with hardwood floors and HUGE patio!! (fremont / union city / newark)'}"
       ]
      },
      {
       "output_type": "stream",
       "stream": "stdout",
       "text": [
        "\n",
        "{'url': 'http://sfbay.craigslist.org/eby/apa/4709907522.html', 'app': 1000, '_id': ObjectId('543b6bb656ddae01724551fd'), 'id': '4709907522', 'desc': u'$2051 / 1br - 735ft\\xb2 - Amazing ground level unit with hardwood floors and HUGE patio!! (fremont / union city / newark)'}"
       ]
      },
      {
       "output_type": "stream",
       "stream": "stdout",
       "text": [
        "\n",
        "{'url': 'http://sfbay.craigslist.org/eby/apa/4709907522.html', 'app': 1000, '_id': ObjectId('543b6bb656ddae01724551fd'), 'id': '4709907522', 'desc': u'$2051 / 1br - 735ft\\xb2 - Amazing ground level unit with hardwood floors and HUGE patio!! (fremont / union city / newark)'}"
       ]
      },
      {
       "output_type": "stream",
       "stream": "stdout",
       "text": [
        "\n",
        "{'url': 'http://sfbay.craigslist.org/eby/apa/4709907522.html', 'app': 1000, '_id': ObjectId('543b6bb656ddae01724551fd'), 'id': '4709907522', 'desc': u'$2051 / 1br - 735ft\\xb2 - Amazing ground level unit with hardwood floors and HUGE patio!! (fremont / union city / newark)'}"
       ]
      },
      {
       "output_type": "stream",
       "stream": "stdout",
       "text": [
        "\n",
        "{'url': 'http://sfbay.craigslist.org/eby/apa/4709907522.html', 'app': 1000, '_id': ObjectId('543b6bb656ddae01724551fd'), 'id': '4709907522', 'desc': u'$2051 / 1br - 735ft\\xb2 - Amazing ground level unit with hardwood floors and HUGE patio!! (fremont / union city / newark)'}"
       ]
      },
      {
       "output_type": "stream",
       "stream": "stdout",
       "text": [
        "\n",
        "{'url': 'http://sfbay.craigslist.org/eby/apa/4709907522.html', 'app': 1000, '_id': ObjectId('543b6bb656ddae01724551fd'), 'id': '4709907522', 'desc': u'$2051 / 1br - 735ft\\xb2 - Amazing ground level unit with hardwood floors and HUGE patio!! (fremont / union city / newark)'}"
       ]
      },
      {
       "output_type": "stream",
       "stream": "stdout",
       "text": [
        "\n",
        "{'url': 'http://sfbay.craigslist.org/eby/apa/4709907522.html', 'app': 1000, '_id': ObjectId('543b6bb656ddae01724551fd'), 'id': '4709907522', 'desc': u'$2051 / 1br - 735ft\\xb2 - Amazing ground level unit with hardwood floors and HUGE patio!! (fremont / union city / newark)'}"
       ]
      },
      {
       "output_type": "stream",
       "stream": "stdout",
       "text": [
        "\n",
        "{'url': 'http://sfbay.craigslist.org/eby/apa/4709907522.html', 'app': 1000, '_id': ObjectId('543b6bb656ddae01724551fd'), 'id': '4709907522', 'desc': u'$2051 / 1br - 735ft\\xb2 - Amazing ground level unit with hardwood floors and HUGE patio!! (fremont / union city / newark)'}"
       ]
      },
      {
       "output_type": "stream",
       "stream": "stdout",
       "text": [
        "\n",
        "{'url': 'http://sfbay.craigslist.org/eby/apa/4709907522.html', 'app': 1000, '_id': ObjectId('543b6bb656ddae01724551fd'), 'id': '4709907522', 'desc': u'$2051 / 1br - 735ft\\xb2 - Amazing ground level unit with hardwood floors and HUGE patio!! (fremont / union city / newark)'}"
       ]
      },
      {
       "output_type": "stream",
       "stream": "stdout",
       "text": [
        "\n",
        "{'url': 'http://sfbay.craigslist.org/eby/apa/4709907522.html', 'app': 1000, '_id': ObjectId('543b6bb656ddae01724551fd'), 'id': '4709907522', 'desc': u'$2051 / 1br - 735ft\\xb2 - Amazing ground level unit with hardwood floors and HUGE patio!! (fremont / union city / newark)'}"
       ]
      },
      {
       "output_type": "stream",
       "stream": "stdout",
       "text": [
        "\n",
        "{'url': 'http://sfbay.craigslist.org/eby/apa/4709907522.html', 'app': 1000, '_id': ObjectId('543b6bb656ddae01724551fd'), 'id': '4709907522', 'desc': u'$2051 / 1br - 735ft\\xb2 - Amazing ground level unit with hardwood floors and HUGE patio!! (fremont / union city / newark)'}"
       ]
      },
      {
       "output_type": "stream",
       "stream": "stdout",
       "text": [
        "\n",
        "{'url': 'http://sfbay.craigslist.org/eby/apa/4709907522.html', 'app': 1000, '_id': ObjectId('543b6bb656ddae01724551fd'), 'id': '4709907522', 'desc': u'$2051 / 1br - 735ft\\xb2 - Amazing ground level unit with hardwood floors and HUGE patio!! (fremont / union city / newark)'}"
       ]
      },
      {
       "output_type": "stream",
       "stream": "stdout",
       "text": [
        "\n",
        "{'url': 'http://sfbay.craigslist.org/eby/apa/4709907522.html', 'app': 1000, '_id': ObjectId('543b6bb656ddae01724551fd'), 'id': '4709907522', 'desc': u'$2051 / 1br - 735ft\\xb2 - Amazing ground level unit with hardwood floors and HUGE patio!! (fremont / union city / newark)'}"
       ]
      },
      {
       "output_type": "stream",
       "stream": "stdout",
       "text": [
        "\n",
        "{'url': 'http://sfbay.craigslist.org/eby/apa/4709907522.html', 'app': 1000, '_id': ObjectId('543b6bb656ddae01724551fd'), 'id': '4709907522', 'desc': u'$2051 / 1br - 735ft\\xb2 - Amazing ground level unit with hardwood floors and HUGE patio!! (fremont / union city / newark)'}"
       ]
      },
      {
       "output_type": "stream",
       "stream": "stdout",
       "text": [
        "\n",
        "{'url': 'http://sfbay.craigslist.org/eby/apa/4709907522.html', 'app': 1000, '_id': ObjectId('543b6bb656ddae01724551fd'), 'id': '4709907522', 'desc': u'$2051 / 1br - 735ft\\xb2 - Amazing ground level unit with hardwood floors and HUGE patio!! (fremont / union city / newark)'}"
       ]
      },
      {
       "output_type": "stream",
       "stream": "stdout",
       "text": [
        "\n",
        "{'url': 'http://sfbay.craigslist.org/eby/apa/4709907522.html', 'app': 1000, '_id': ObjectId('543b6bb656ddae01724551fd'), 'id': '4709907522', 'desc': u'$2051 / 1br - 735ft\\xb2 - Amazing ground level unit with hardwood floors and HUGE patio!! (fremont / union city / newark)'}"
       ]
      },
      {
       "output_type": "stream",
       "stream": "stdout",
       "text": [
        "\n",
        "{'url': 'http://sfbay.craigslist.org/eby/apa/4709907522.html', 'app': 1000, '_id': ObjectId('543b6bb656ddae01724551fd'), 'id': '4709907522', 'desc': u'$2051 / 1br - 735ft\\xb2 - Amazing ground level unit with hardwood floors and HUGE patio!! (fremont / union city / newark)'}"
       ]
      },
      {
       "output_type": "stream",
       "stream": "stdout",
       "text": [
        "\n",
        "{'url': 'http://sfbay.craigslist.org/eby/apa/4709907522.html', 'app': 1000, '_id': ObjectId('543b6bb656ddae01724551fd'), 'id': '4709907522', 'desc': u'$2051 / 1br - 735ft\\xb2 - Amazing ground level unit with hardwood floors and HUGE patio!! (fremont / union city / newark)'}"
       ]
      },
      {
       "output_type": "stream",
       "stream": "stdout",
       "text": [
        "\n",
        "{'url': 'http://sfbay.craigslist.org/eby/apa/4709907522.html', 'app': 1000, '_id': ObjectId('543b6bb656ddae01724551fd'), 'id': '4709907522', 'desc': u'$2051 / 1br - 735ft\\xb2 - Amazing ground level unit with hardwood floors and HUGE patio!! (fremont / union city / newark)'}"
       ]
      },
      {
       "output_type": "stream",
       "stream": "stdout",
       "text": [
        "\n",
        "{'url': 'http://sfbay.craigslist.org/eby/apa/4709907522.html', 'app': 1000, '_id': ObjectId('543b6bb656ddae01724551fd'), 'id': '4709907522', 'desc': u'$2051 / 1br - 735ft\\xb2 - Amazing ground level unit with hardwood floors and HUGE patio!! (fremont / union city / newark)'}"
       ]
      },
      {
       "output_type": "stream",
       "stream": "stdout",
       "text": [
        "\n",
        "{'url': 'http://sfbay.craigslist.org/eby/apa/4709907522.html', 'app': 1000, '_id': ObjectId('543b6bb656ddae01724551fd'), 'id': '4709907522', 'desc': u'$2051 / 1br - 735ft\\xb2 - Amazing ground level unit with hardwood floors and HUGE patio!! (fremont / union city / newark)'}"
       ]
      },
      {
       "output_type": "stream",
       "stream": "stdout",
       "text": [
        "\n",
        "{'url': 'http://sfbay.craigslist.org/eby/apa/4709907522.html', 'app': 1000, '_id': ObjectId('543b6bb656ddae01724551fd'), 'id': '4709907522', 'desc': u'$2051 / 1br - 735ft\\xb2 - Amazing ground level unit with hardwood floors and HUGE patio!! (fremont / union city / newark)'}"
       ]
      },
      {
       "output_type": "stream",
       "stream": "stdout",
       "text": [
        "\n",
        "{'url': 'http://sfbay.craigslist.org/eby/apa/4709907522.html', 'app': 1000, '_id': ObjectId('543b6bb656ddae01724551fd'), 'id': '4709907522', 'desc': u'$2051 / 1br - 735ft\\xb2 - Amazing ground level unit with hardwood floors and HUGE patio!! (fremont / union city / newark)'}"
       ]
      },
      {
       "output_type": "stream",
       "stream": "stdout",
       "text": [
        "\n",
        "{'url': 'http://sfbay.craigslist.org/eby/apa/4709907522.html', 'app': 1000, '_id': ObjectId('543b6bb656ddae01724551fd'), 'id': '4709907522', 'desc': u'$2051 / 1br - 735ft\\xb2 - Amazing ground level unit with hardwood floors and HUGE patio!! (fremont / union city / newark)'}"
       ]
      },
      {
       "output_type": "stream",
       "stream": "stdout",
       "text": [
        "\n",
        "{'url': 'http://sfbay.craigslist.org/eby/apa/4709907522.html', 'app': 1000, '_id': ObjectId('543b6bb656ddae01724551fd'), 'id': '4709907522', 'desc': u'$2051 / 1br - 735ft\\xb2 - Amazing ground level unit with hardwood floors and HUGE patio!! (fremont / union city / newark)'}"
       ]
      },
      {
       "output_type": "stream",
       "stream": "stdout",
       "text": [
        "\n",
        "{'url': 'http://sfbay.craigslist.org/eby/apa/4709907522.html', 'app': 1000, '_id': ObjectId('543b6bb656ddae01724551fd'), 'id': '4709907522', 'desc': u'$2051 / 1br - 735ft\\xb2 - Amazing ground level unit with hardwood floors and HUGE patio!! (fremont / union city / newark)'}"
       ]
      },
      {
       "output_type": "stream",
       "stream": "stdout",
       "text": [
        "\n",
        "{'url': 'http://sfbay.craigslist.org/eby/apa/4709907522.html', 'app': 1000, '_id': ObjectId('543b6bb656ddae01724551fd'), 'id': '4709907522', 'desc': u'$2051 / 1br - 735ft\\xb2 - Amazing ground level unit with hardwood floors and HUGE patio!! (fremont / union city / newark)'}"
       ]
      },
      {
       "output_type": "stream",
       "stream": "stdout",
       "text": [
        "\n",
        "{'url': 'http://sfbay.craigslist.org/eby/apa/4709907522.html', 'app': 1000, '_id': ObjectId('543b6bb656ddae01724551fd'), 'id': '4709907522', 'desc': u'$2051 / 1br - 735ft\\xb2 - Amazing ground level unit with hardwood floors and HUGE patio!! (fremont / union city / newark)'}"
       ]
      },
      {
       "output_type": "stream",
       "stream": "stdout",
       "text": [
        "\n",
        "{'url': 'http://sfbay.craigslist.org/eby/apa/4709907522.html', 'app': 1000, '_id': ObjectId('543b6bb656ddae01724551fd'), 'id': '4709907522', 'desc': u'$2051 / 1br - 735ft\\xb2 - Amazing ground level unit with hardwood floors and HUGE patio!! (fremont / union city / newark)'}"
       ]
      },
      {
       "output_type": "stream",
       "stream": "stdout",
       "text": [
        "\n",
        "{'url': 'http://sfbay.craigslist.org/eby/apa/4709907522.html', 'app': 1000, '_id': ObjectId('543b6bb656ddae01724551fd'), 'id': '4709907522', 'desc': u'$2051 / 1br - 735ft\\xb2 - Amazing ground level unit with hardwood floors and HUGE patio!! (fremont / union city / newark)'}"
       ]
      },
      {
       "output_type": "stream",
       "stream": "stdout",
       "text": [
        "\n",
        "{'url': 'http://sfbay.craigslist.org/eby/apa/4709907522.html', 'app': 1000, '_id': ObjectId('543b6bb656ddae01724551fd'), 'id': '4709907522', 'desc': u'$2051 / 1br - 735ft\\xb2 - Amazing ground level unit with hardwood floors and HUGE patio!! (fremont / union city / newark)'}"
       ]
      },
      {
       "output_type": "stream",
       "stream": "stdout",
       "text": [
        "\n",
        "{'url': 'http://sfbay.craigslist.org/eby/apa/4709907522.html', 'app': 1000, '_id': ObjectId('543b6bb656ddae01724551fd'), 'id': '4709907522', 'desc': u'$2051 / 1br - 735ft\\xb2 - Amazing ground level unit with hardwood floors and HUGE patio!! (fremont / union city / newark)'}"
       ]
      },
      {
       "output_type": "stream",
       "stream": "stdout",
       "text": [
        "\n",
        "{'url': 'http://sfbay.craigslist.org/eby/apa/4709907522.html', 'app': 1000, '_id': ObjectId('543b6bb656ddae01724551fd'), 'id': '4709907522', 'desc': u'$2051 / 1br - 735ft\\xb2 - Amazing ground level unit with hardwood floors and HUGE patio!! (fremont / union city / newark)'}"
       ]
      },
      {
       "output_type": "stream",
       "stream": "stdout",
       "text": [
        "\n",
        "{'url': 'http://sfbay.craigslist.org/eby/apa/4709907522.html', 'app': 1000, '_id': ObjectId('543b6bb656ddae01724551fd'), 'id': '4709907522', 'desc': u'$2051 / 1br - 735ft\\xb2 - Amazing ground level unit with hardwood floors and HUGE patio!! (fremont / union city / newark)'}"
       ]
      },
      {
       "output_type": "stream",
       "stream": "stdout",
       "text": [
        "\n",
        "{'url': 'http://sfbay.craigslist.org/eby/apa/4709907522.html', 'app': 1000, '_id': ObjectId('543b6bb656ddae01724551fd'), 'id': '4709907522', 'desc': u'$2051 / 1br - 735ft\\xb2 - Amazing ground level unit with hardwood floors and HUGE patio!! (fremont / union city / newark)'}"
       ]
      },
      {
       "output_type": "stream",
       "stream": "stdout",
       "text": [
        "\n",
        "{'url': 'http://sfbay.craigslist.org/eby/apa/4709907522.html', 'app': 1000, '_id': ObjectId('543b6bb656ddae01724551fd'), 'id': '4709907522', 'desc': u'$2051 / 1br - 735ft\\xb2 - Amazing ground level unit with hardwood floors and HUGE patio!! (fremont / union city / newark)'}"
       ]
      },
      {
       "output_type": "stream",
       "stream": "stdout",
       "text": [
        "\n",
        "{'url': 'http://sfbay.craigslist.org/eby/apa/4709907522.html', 'app': 1000, '_id': ObjectId('543b6bb656ddae01724551fd'), 'id': '4709907522', 'desc': u'$2051 / 1br - 735ft\\xb2 - Amazing ground level unit with hardwood floors and HUGE patio!! (fremont / union city / newark)'}"
       ]
      },
      {
       "output_type": "stream",
       "stream": "stdout",
       "text": [
        "\n",
        "{'url': 'http://sfbay.craigslist.org/eby/apa/4709907522.html', 'app': 1000, '_id': ObjectId('543b6bb656ddae01724551fd'), 'id': '4709907522', 'desc': u'$2051 / 1br - 735ft\\xb2 - Amazing ground level unit with hardwood floors and HUGE patio!! (fremont / union city / newark)'}"
       ]
      },
      {
       "output_type": "stream",
       "stream": "stdout",
       "text": [
        "\n",
        "{'url': 'http://sfbay.craigslist.org/eby/apa/4709907522.html', 'app': 1000, '_id': ObjectId('543b6bb656ddae01724551fd'), 'id': '4709907522', 'desc': u'$2051 / 1br - 735ft\\xb2 - Amazing ground level unit with hardwood floors and HUGE patio!! (fremont / union city / newark)'}"
       ]
      },
      {
       "output_type": "stream",
       "stream": "stdout",
       "text": [
        "\n",
        "{'url': 'http://sfbay.craigslist.org/eby/apa/4709907522.html', 'app': 1000, '_id': ObjectId('543b6bb656ddae01724551fd'), 'id': '4709907522', 'desc': u'$2051 / 1br - 735ft\\xb2 - Amazing ground level unit with hardwood floors and HUGE patio!! (fremont / union city / newark)'}"
       ]
      },
      {
       "output_type": "stream",
       "stream": "stdout",
       "text": [
        "\n",
        "{'url': 'http://sfbay.craigslist.org/eby/apa/4709907522.html', 'app': 1000, '_id': ObjectId('543b6bb656ddae01724551fd'), 'id': '4709907522', 'desc': u'$2051 / 1br - 735ft\\xb2 - Amazing ground level unit with hardwood floors and HUGE patio!! (fremont / union city / newark)'}"
       ]
      },
      {
       "output_type": "stream",
       "stream": "stdout",
       "text": [
        "\n",
        "{'url': 'http://sfbay.craigslist.org/eby/apa/4709907522.html', 'app': 1000, '_id': ObjectId('543b6bb656ddae01724551fd'), 'id': '4709907522', 'desc': u'$2051 / 1br - 735ft\\xb2 - Amazing ground level unit with hardwood floors and HUGE patio!! (fremont / union city / newark)'}"
       ]
      },
      {
       "output_type": "stream",
       "stream": "stdout",
       "text": [
        "\n",
        "{'url': 'http://sfbay.craigslist.org/eby/apa/4709907522.html', 'app': 1000, '_id': ObjectId('543b6bb656ddae01724551fd'), 'id': '4709907522', 'desc': u'$2051 / 1br - 735ft\\xb2 - Amazing ground level unit with hardwood floors and HUGE patio!! (fremont / union city / newark)'}"
       ]
      },
      {
       "output_type": "stream",
       "stream": "stdout",
       "text": [
        "\n",
        "{'url': 'http://sfbay.craigslist.org/eby/apa/4709907522.html', 'app': 1000, '_id': ObjectId('543b6bb656ddae01724551fd'), 'id': '4709907522', 'desc': u'$2051 / 1br - 735ft\\xb2 - Amazing ground level unit with hardwood floors and HUGE patio!! (fremont / union city / newark)'}"
       ]
      },
      {
       "output_type": "stream",
       "stream": "stdout",
       "text": [
        "\n",
        "{'url': 'http://sfbay.craigslist.org/eby/apa/4709907522.html', 'app': 1000, '_id': ObjectId('543b6bb656ddae01724551fd'), 'id': '4709907522', 'desc': u'$2051 / 1br - 735ft\\xb2 - Amazing ground level unit with hardwood floors and HUGE patio!! (fremont / union city / newark)'}"
       ]
      },
      {
       "output_type": "stream",
       "stream": "stdout",
       "text": [
        "\n",
        "{'url': 'http://sfbay.craigslist.org/eby/apa/4709907522.html', 'app': 1000, '_id': ObjectId('543b6bb656ddae01724551fd'), 'id': '4709907522', 'desc': u'$2051 / 1br - 735ft\\xb2 - Amazing ground level unit with hardwood floors and HUGE patio!! (fremont / union city / newark)'}"
       ]
      },
      {
       "output_type": "stream",
       "stream": "stdout",
       "text": [
        "\n",
        "{'url': 'http://sfbay.craigslist.org/eby/apa/4709907522.html', 'app': 1000, '_id': ObjectId('543b6bb656ddae01724551fd'), 'id': '4709907522', 'desc': u'$2051 / 1br - 735ft\\xb2 - Amazing ground level unit with hardwood floors and HUGE patio!! (fremont / union city / newark)'}"
       ]
      },
      {
       "output_type": "stream",
       "stream": "stdout",
       "text": [
        "\n",
        "{'url': 'http://sfbay.craigslist.org/eby/apa/4709907522.html', 'app': 1000, '_id': ObjectId('543b6bb656ddae01724551fd'), 'id': '4709907522', 'desc': u'$2051 / 1br - 735ft\\xb2 - Amazing ground level unit with hardwood floors and HUGE patio!! (fremont / union city / newark)'}"
       ]
      },
      {
       "output_type": "stream",
       "stream": "stdout",
       "text": [
        "\n",
        "{'url': 'http://sfbay.craigslist.org/eby/apa/4709907522.html', 'app': 1000, '_id': ObjectId('543b6bb656ddae01724551fd'), 'id': '4709907522', 'desc': u'$2051 / 1br - 735ft\\xb2 - Amazing ground level unit with hardwood floors and HUGE patio!! (fremont / union city / newark)'}"
       ]
      },
      {
       "output_type": "stream",
       "stream": "stdout",
       "text": [
        "\n",
        "{'url': 'http://sfbay.craigslist.org/eby/apa/4709907522.html', 'app': 1000, '_id': ObjectId('543b6bb656ddae01724551fd'), 'id': '4709907522', 'desc': u'$2051 / 1br - 735ft\\xb2 - Amazing ground level unit with hardwood floors and HUGE patio!! (fremont / union city / newark)'}"
       ]
      },
      {
       "output_type": "stream",
       "stream": "stdout",
       "text": [
        "\n",
        "{'url': 'http://sfbay.craigslist.org/eby/apa/4709907522.html', 'app': 1000, '_id': ObjectId('543b6bb656ddae01724551fd'), 'id': '4709907522', 'desc': u'$2051 / 1br - 735ft\\xb2 - Amazing ground level unit with hardwood floors and HUGE patio!! (fremont / union city / newark)'}"
       ]
      },
      {
       "output_type": "stream",
       "stream": "stdout",
       "text": [
        "\n",
        "{'url': 'http://sfbay.craigslist.org/eby/apa/4709907522.html', 'app': 1000, '_id': ObjectId('543b6bb656ddae01724551fd'), 'id': '4709907522', 'desc': u'$2051 / 1br - 735ft\\xb2 - Amazing ground level unit with hardwood floors and HUGE patio!! (fremont / union city / newark)'}"
       ]
      },
      {
       "output_type": "stream",
       "stream": "stdout",
       "text": [
        "\n",
        "{'url': 'http://sfbay.craigslist.org/eby/apa/4709907522.html', 'app': 1000, '_id': ObjectId('543b6bb656ddae01724551fd'), 'id': '4709907522', 'desc': u'$2051 / 1br - 735ft\\xb2 - Amazing ground level unit with hardwood floors and HUGE patio!! (fremont / union city / newark)'}"
       ]
      },
      {
       "output_type": "stream",
       "stream": "stdout",
       "text": [
        "\n",
        "{'url': 'http://sfbay.craigslist.org/eby/apa/4709907522.html', 'app': 1000, '_id': ObjectId('543b6bb656ddae01724551fd'), 'id': '4709907522', 'desc': u'$2051 / 1br - 735ft\\xb2 - Amazing ground level unit with hardwood floors and HUGE patio!! (fremont / union city / newark)'}"
       ]
      },
      {
       "output_type": "stream",
       "stream": "stdout",
       "text": [
        "\n",
        "{'url': 'http://sfbay.craigslist.org/eby/apa/4709907522.html', 'app': 1000, '_id': ObjectId('543b6bb656ddae01724551fd'), 'id': '4709907522', 'desc': u'$2051 / 1br - 735ft\\xb2 - Amazing ground level unit with hardwood floors and HUGE patio!! (fremont / union city / newark)'}"
       ]
      },
      {
       "output_type": "stream",
       "stream": "stdout",
       "text": [
        "\n",
        "{'url': 'http://sfbay.craigslist.org/eby/apa/4709907522.html', 'app': 1000, '_id': ObjectId('543b6bb656ddae01724551fd'), 'id': '4709907522', 'desc': u'$2051 / 1br - 735ft\\xb2 - Amazing ground level unit with hardwood floors and HUGE patio!! (fremont / union city / newark)'}"
       ]
      },
      {
       "output_type": "stream",
       "stream": "stdout",
       "text": [
        "\n",
        "{'url': 'http://sfbay.craigslist.org/eby/apa/4709907522.html', 'app': 1000, '_id': ObjectId('543b6bb656ddae01724551fd'), 'id': '4709907522', 'desc': u'$2051 / 1br - 735ft\\xb2 - Amazing ground level unit with hardwood floors and HUGE patio!! (fremont / union city / newark)'}"
       ]
      },
      {
       "output_type": "stream",
       "stream": "stdout",
       "text": [
        "\n",
        "{'url': 'http://sfbay.craigslist.org/eby/apa/4709907522.html', 'app': 1000, '_id': ObjectId('543b6bb656ddae01724551fd'), 'id': '4709907522', 'desc': u'$2051 / 1br - 735ft\\xb2 - Amazing ground level unit with hardwood floors and HUGE patio!! (fremont / union city / newark)'}"
       ]
      },
      {
       "output_type": "stream",
       "stream": "stdout",
       "text": [
        "\n",
        "{'url': 'http://sfbay.craigslist.org/eby/apa/4709907522.html', 'app': 1000, '_id': ObjectId('543b6bb656ddae01724551fd'), 'id': '4709907522', 'desc': u'$2051 / 1br - 735ft\\xb2 - Amazing ground level unit with hardwood floors and HUGE patio!! (fremont / union city / newark)'}"
       ]
      },
      {
       "output_type": "stream",
       "stream": "stdout",
       "text": [
        "\n",
        "{'url': 'http://sfbay.craigslist.org/eby/apa/4709907522.html', 'app': 1000, '_id': ObjectId('543b6bb656ddae01724551fd'), 'id': '4709907522', 'desc': u'$2051 / 1br - 735ft\\xb2 - Amazing ground level unit with hardwood floors and HUGE patio!! (fremont / union city / newark)'}"
       ]
      },
      {
       "output_type": "stream",
       "stream": "stdout",
       "text": [
        "\n",
        "{'url': 'http://sfbay.craigslist.org/eby/apa/4709907522.html', 'app': 1000, '_id': ObjectId('543b6bb656ddae01724551fd'), 'id': '4709907522', 'desc': u'$2051 / 1br - 735ft\\xb2 - Amazing ground level unit with hardwood floors and HUGE patio!! (fremont / union city / newark)'}"
       ]
      },
      {
       "output_type": "stream",
       "stream": "stdout",
       "text": [
        "\n",
        "{'url': 'http://sfbay.craigslist.org/eby/apa/4709907522.html', 'app': 1000, '_id': ObjectId('543b6bb656ddae01724551fd'), 'id': '4709907522', 'desc': u'$2051 / 1br - 735ft\\xb2 - Amazing ground level unit with hardwood floors and HUGE patio!! (fremont / union city / newark)'}"
       ]
      },
      {
       "output_type": "stream",
       "stream": "stdout",
       "text": [
        "\n",
        "{'url': 'http://sfbay.craigslist.org/eby/apa/4709907522.html', 'app': 1000, '_id': ObjectId('543b6bb656ddae01724551fd'), 'id': '4709907522', 'desc': u'$2051 / 1br - 735ft\\xb2 - Amazing ground level unit with hardwood floors and HUGE patio!! (fremont / union city / newark)'}"
       ]
      },
      {
       "output_type": "stream",
       "stream": "stdout",
       "text": [
        "\n",
        "{'url': 'http://sfbay.craigslist.org/eby/apa/4709907522.html', 'app': 1000, '_id': ObjectId('543b6bb656ddae01724551fd'), 'id': '4709907522', 'desc': u'$2051 / 1br - 735ft\\xb2 - Amazing ground level unit with hardwood floors and HUGE patio!! (fremont / union city / newark)'}"
       ]
      },
      {
       "output_type": "stream",
       "stream": "stdout",
       "text": [
        "\n",
        "{'url': 'http://sfbay.craigslist.org/eby/apa/4709907522.html', 'app': 1000, '_id': ObjectId('543b6bb656ddae01724551fd'), 'id': '4709907522', 'desc': u'$2051 / 1br - 735ft\\xb2 - Amazing ground level unit with hardwood floors and HUGE patio!! (fremont / union city / newark)'}"
       ]
      },
      {
       "output_type": "stream",
       "stream": "stdout",
       "text": [
        "\n",
        "{'url': 'http://sfbay.craigslist.org/eby/apa/4709907522.html', 'app': 1000, '_id': ObjectId('543b6bb656ddae01724551fd'), 'id': '4709907522', 'desc': u'$2051 / 1br - 735ft\\xb2 - Amazing ground level unit with hardwood floors and HUGE patio!! (fremont / union city / newark)'}"
       ]
      },
      {
       "output_type": "stream",
       "stream": "stdout",
       "text": [
        "\n",
        "{'url': 'http://sfbay.craigslist.org/eby/apa/4709907522.html', 'app': 1000, '_id': ObjectId('543b6bb656ddae01724551fd'), 'id': '4709907522', 'desc': u'$2051 / 1br - 735ft\\xb2 - Amazing ground level unit with hardwood floors and HUGE patio!! (fremont / union city / newark)'}"
       ]
      },
      {
       "output_type": "stream",
       "stream": "stdout",
       "text": [
        "\n",
        "{'url': 'http://sfbay.craigslist.org/eby/apa/4709907522.html', 'app': 1000, '_id': ObjectId('543b6bb656ddae01724551fd'), 'id': '4709907522', 'desc': u'$2051 / 1br - 735ft\\xb2 - Amazing ground level unit with hardwood floors and HUGE patio!! (fremont / union city / newark)'}"
       ]
      },
      {
       "output_type": "stream",
       "stream": "stdout",
       "text": [
        "\n",
        "{'url': 'http://sfbay.craigslist.org/eby/apa/4709907522.html', 'app': 1000, '_id': ObjectId('543b6bb656ddae01724551fd'), 'id': '4709907522', 'desc': u'$2051 / 1br - 735ft\\xb2 - Amazing ground level unit with hardwood floors and HUGE patio!! (fremont / union city / newark)'}"
       ]
      },
      {
       "output_type": "stream",
       "stream": "stdout",
       "text": [
        "\n",
        "{'url': 'http://sfbay.craigslist.org/eby/apa/4709907522.html', 'app': 1000, '_id': ObjectId('543b6bb656ddae01724551fd'), 'id': '4709907522', 'desc': u'$2051 / 1br - 735ft\\xb2 - Amazing ground level unit with hardwood floors and HUGE patio!! (fremont / union city / newark)'}"
       ]
      },
      {
       "output_type": "stream",
       "stream": "stdout",
       "text": [
        "\n",
        "{'url': 'http://sfbay.craigslist.org/eby/apa/4709907522.html', 'app': 1000, '_id': ObjectId('543b6bb656ddae01724551fd'), 'id': '4709907522', 'desc': u'$2051 / 1br - 735ft\\xb2 - Amazing ground level unit with hardwood floors and HUGE patio!! (fremont / union city / newark)'}"
       ]
      },
      {
       "output_type": "stream",
       "stream": "stdout",
       "text": [
        "\n",
        "{'url': 'http://sfbay.craigslist.org/eby/apa/4709907522.html', 'app': 1000, '_id': ObjectId('543b6bb656ddae01724551fd'), 'id': '4709907522', 'desc': u'$2051 / 1br - 735ft\\xb2 - Amazing ground level unit with hardwood floors and HUGE patio!! (fremont / union city / newark)'}"
       ]
      },
      {
       "output_type": "stream",
       "stream": "stdout",
       "text": [
        "\n",
        "{'url': 'http://sfbay.craigslist.org/eby/apa/4709907522.html', 'app': 1000, '_id': ObjectId('543b6bb656ddae01724551fd'), 'id': '4709907522', 'desc': u'$2051 / 1br - 735ft\\xb2 - Amazing ground level unit with hardwood floors and HUGE patio!! (fremont / union city / newark)'}"
       ]
      },
      {
       "output_type": "stream",
       "stream": "stdout",
       "text": [
        "\n",
        "{'url': 'http://sfbay.craigslist.org/eby/apa/4709907522.html', 'app': 1000, '_id': ObjectId('543b6bb656ddae01724551fd'), 'id': '4709907522', 'desc': u'$2051 / 1br - 735ft\\xb2 - Amazing ground level unit with hardwood floors and HUGE patio!! (fremont / union city / newark)'}"
       ]
      },
      {
       "output_type": "stream",
       "stream": "stdout",
       "text": [
        "\n",
        "{'url': 'http://sfbay.craigslist.org/eby/apa/4709907522.html', 'app': 1000, '_id': ObjectId('543b6bb656ddae01724551fd'), 'id': '4709907522', 'desc': u'$2051 / 1br - 735ft\\xb2 - Amazing ground level unit with hardwood floors and HUGE patio!! (fremont / union city / newark)'}"
       ]
      },
      {
       "output_type": "stream",
       "stream": "stdout",
       "text": [
        "\n",
        "{'url': 'http://sfbay.craigslist.org/eby/apa/4709907522.html', 'app': 1000, '_id': ObjectId('543b6bb656ddae01724551fd'), 'id': '4709907522', 'desc': u'$2051 / 1br - 735ft\\xb2 - Amazing ground level unit with hardwood floors and HUGE patio!! (fremont / union city / newark)'}"
       ]
      },
      {
       "output_type": "stream",
       "stream": "stdout",
       "text": [
        "\n",
        "{'url': 'http://sfbay.craigslist.org/eby/apa/4709907522.html', 'app': 1000, '_id': ObjectId('543b6bb656ddae01724551fd'), 'id': '4709907522', 'desc': u'$2051 / 1br - 735ft\\xb2 - Amazing ground level unit with hardwood floors and HUGE patio!! (fremont / union city / newark)'}"
       ]
      },
      {
       "output_type": "stream",
       "stream": "stdout",
       "text": [
        "\n",
        "{'url': 'http://sfbay.craigslist.org/eby/apa/4709907522.html', 'app': 1000, '_id': ObjectId('543b6bb656ddae01724551fd'), 'id': '4709907522', 'desc': u'$2051 / 1br - 735ft\\xb2 - Amazing ground level unit with hardwood floors and HUGE patio!! (fremont / union city / newark)'}"
       ]
      },
      {
       "output_type": "stream",
       "stream": "stdout",
       "text": [
        "\n",
        "{'url': 'http://sfbay.craigslist.org/eby/apa/4709907522.html', 'app': 1000, '_id': ObjectId('543b6bb656ddae01724551fd'), 'id': '4709907522', 'desc': u'$2051 / 1br - 735ft\\xb2 - Amazing ground level unit with hardwood floors and HUGE patio!! (fremont / union city / newark)'}"
       ]
      },
      {
       "output_type": "stream",
       "stream": "stdout",
       "text": [
        "\n",
        "{'url': 'http://sfbay.craigslist.org/eby/apa/4709907522.html', 'app': 1000, '_id': ObjectId('543b6bb656ddae01724551fd'), 'id': '4709907522', 'desc': u'$2051 / 1br - 735ft\\xb2 - Amazing ground level unit with hardwood floors and HUGE patio!! (fremont / union city / newark)'}"
       ]
      },
      {
       "output_type": "stream",
       "stream": "stdout",
       "text": [
        "\n",
        "{'url': 'http://sfbay.craigslist.org/eby/apa/4709907522.html', 'app': 1000, '_id': ObjectId('543b6bb656ddae01724551fd'), 'id': '4709907522', 'desc': u'$2051 / 1br - 735ft\\xb2 - Amazing ground level unit with hardwood floors and HUGE patio!! (fremont / union city / newark)'}"
       ]
      },
      {
       "output_type": "stream",
       "stream": "stdout",
       "text": [
        "\n",
        "{'url': 'http://sfbay.craigslist.org/eby/apa/4709907522.html', 'app': 1000, '_id': ObjectId('543b6bb656ddae01724551fd'), 'id': '4709907522', 'desc': u'$2051 / 1br - 735ft\\xb2 - Amazing ground level unit with hardwood floors and HUGE patio!! (fremont / union city / newark)'}"
       ]
      },
      {
       "output_type": "stream",
       "stream": "stdout",
       "text": [
        "\n",
        "{'url': 'http://sfbay.craigslist.org/eby/apa/4709907522.html', 'app': 1000, '_id': ObjectId('543b6bb656ddae01724551fd'), 'id': '4709907522', 'desc': u'$2051 / 1br - 735ft\\xb2 - Amazing ground level unit with hardwood floors and HUGE patio!! (fremont / union city / newark)'}"
       ]
      },
      {
       "output_type": "stream",
       "stream": "stdout",
       "text": [
        "\n",
        "{'url': 'http://sfbay.craigslist.org/eby/apa/4709907522.html', 'app': 1000, '_id': ObjectId('543b6bb656ddae01724551fd'), 'id': '4709907522', 'desc': u'$2051 / 1br - 735ft\\xb2 - Amazing ground level unit with hardwood floors and HUGE patio!! (fremont / union city / newark)'}"
       ]
      },
      {
       "output_type": "stream",
       "stream": "stdout",
       "text": [
        "\n",
        "{'url': 'http://sfbay.craigslist.org/eby/apa/4709907522.html', 'app': 1000, '_id': ObjectId('543b6bb656ddae01724551fd'), 'id': '4709907522', 'desc': u'$2051 / 1br - 735ft\\xb2 - Amazing ground level unit with hardwood floors and HUGE patio!! (fremont / union city / newark)'}"
       ]
      },
      {
       "output_type": "stream",
       "stream": "stdout",
       "text": [
        "\n",
        "{'url': 'http://sfbay.craigslist.org/eby/apa/4709907522.html', 'app': 1000, '_id': ObjectId('543b6bb656ddae01724551fd'), 'id': '4709907522', 'desc': u'$2051 / 1br - 735ft\\xb2 - Amazing ground level unit with hardwood floors and HUGE patio!! (fremont / union city / newark)'}"
       ]
      },
      {
       "output_type": "stream",
       "stream": "stdout",
       "text": [
        "\n",
        "{'url': 'http://sfbay.craigslist.org/eby/apa/4709907522.html', 'app': 1000, '_id': ObjectId('543b6bb656ddae01724551fd'), 'id': '4709907522', 'desc': u'$2051 / 1br - 735ft\\xb2 - Amazing ground level unit with hardwood floors and HUGE patio!! (fremont / union city / newark)'}"
       ]
      },
      {
       "output_type": "stream",
       "stream": "stdout",
       "text": [
        "\n",
        "{'url': 'http://sfbay.craigslist.org/eby/apa/4709907522.html', 'app': 1000, '_id': ObjectId('543b6bb656ddae01724551fd'), 'id': '4709907522', 'desc': u'$2051 / 1br - 735ft\\xb2 - Amazing ground level unit with hardwood floors and HUGE patio!! (fremont / union city / newark)'}"
       ]
      },
      {
       "output_type": "stream",
       "stream": "stdout",
       "text": [
        "\n",
        "{'url': 'http://sfbay.craigslist.org/eby/apa/4709907522.html', 'app': 1000, '_id': ObjectId('543b6bb656ddae01724551fd'), 'id': '4709907522', 'desc': u'$2051 / 1br - 735ft\\xb2 - Amazing ground level unit with hardwood floors and HUGE patio!! (fremont / union city / newark)'}"
       ]
      },
      {
       "output_type": "stream",
       "stream": "stdout",
       "text": [
        "\n",
        "{'url': 'http://sfbay.craigslist.org/eby/apa/4709907522.html', 'app': 1000, '_id': ObjectId('543b6bb656ddae01724551fd'), 'id': '4709907522', 'desc': u'$2051 / 1br - 735ft\\xb2 - Amazing ground level unit with hardwood floors and HUGE patio!! (fremont / union city / newark)'}"
       ]
      },
      {
       "output_type": "stream",
       "stream": "stdout",
       "text": [
        "\n",
        "{'url': 'http://sfbay.craigslist.org/eby/apa/4709907522.html', 'app': 1000, '_id': ObjectId('543b6bb656ddae01724551fd'), 'id': '4709907522', 'desc': u'$2051 / 1br - 735ft\\xb2 - Amazing ground level unit with hardwood floors and HUGE patio!! (fremont / union city / newark)'}"
       ]
      },
      {
       "output_type": "stream",
       "stream": "stdout",
       "text": [
        "\n",
        "{'url': 'http://sfbay.craigslist.org/eby/apa/4709907522.html', 'app': 1000, '_id': ObjectId('543b6bb656ddae01724551fd'), 'id': '4709907522', 'desc': u'$2051 / 1br - 735ft\\xb2 - Amazing ground level unit with hardwood floors and HUGE patio!! (fremont / union city / newark)'}"
       ]
      },
      {
       "output_type": "stream",
       "stream": "stdout",
       "text": [
        "\n",
        "{'url': 'http://sfbay.craigslist.org/eby/apa/4709907522.html', 'app': 1000, '_id': ObjectId('543b6bb656ddae01724551fd'), 'id': '4709907522', 'desc': u'$2051 / 1br - 735ft\\xb2 - Amazing ground level unit with hardwood floors and HUGE patio!! (fremont / union city / newark)'}"
       ]
      },
      {
       "output_type": "stream",
       "stream": "stdout",
       "text": [
        "\n",
        "{'url': 'http://sfbay.craigslist.org/eby/apa/4709907522.html', 'app': 1000, '_id': ObjectId('543b6bb656ddae01724551fd'), 'id': '4709907522', 'desc': u'$2051 / 1br - 735ft\\xb2 - Amazing ground level unit with hardwood floors and HUGE patio!! (fremont / union city / newark)'}"
       ]
      },
      {
       "output_type": "stream",
       "stream": "stdout",
       "text": [
        "\n",
        "{'url': 'http://sfbay.craigslist.org/eby/apa/4709907522.html', 'app': 1000, '_id': ObjectId('543b6bb656ddae01724551fd'), 'id': '4709907522', 'desc': u'$2051 / 1br - 735ft\\xb2 - Amazing ground level unit with hardwood floors and HUGE patio!! (fremont / union city / newark)'}"
       ]
      },
      {
       "output_type": "stream",
       "stream": "stdout",
       "text": [
        "\n",
        "{'url': 'http://sfbay.craigslist.org/eby/apa/4709907522.html', 'app': 1000, '_id': ObjectId('543b6bb656ddae01724551fd'), 'id': '4709907522', 'desc': u'$2051 / 1br - 735ft\\xb2 - Amazing ground level unit with hardwood floors and HUGE patio!! (fremont / union city / newark)'}"
       ]
      },
      {
       "output_type": "stream",
       "stream": "stdout",
       "text": [
        "\n",
        "{'url': 'http://sfbay.craigslist.org/eby/apa/4709907522.html', 'app': 1000, '_id': ObjectId('543b6bb656ddae01724551fd'), 'id': '4709907522', 'desc': u'$2051 / 1br - 735ft\\xb2 - Amazing ground level unit with hardwood floors and HUGE patio!! (fremont / union city / newark)'}"
       ]
      },
      {
       "output_type": "stream",
       "stream": "stdout",
       "text": [
        "\n",
        "{'url': 'http://sfbay.craigslist.org/eby/apa/4709907522.html', 'app': 1000, '_id': ObjectId('543b6bb656ddae01724551fd'), 'id': '4709907522', 'desc': u'$2051 / 1br - 735ft\\xb2 - Amazing ground level unit with hardwood floors and HUGE patio!! (fremont / union city / newark)'}"
       ]
      },
      {
       "output_type": "stream",
       "stream": "stdout",
       "text": [
        "\n",
        "{'url': 'http://sfbay.craigslist.org/eby/apa/4709907522.html', 'app': 1000, '_id': ObjectId('543b6bb656ddae01724551fd'), 'id': '4709907522', 'desc': u'$2051 / 1br - 735ft\\xb2 - Amazing ground level unit with hardwood floors and HUGE patio!! (fremont / union city / newark)'}"
       ]
      },
      {
       "output_type": "stream",
       "stream": "stdout",
       "text": [
        "\n",
        "{'url': 'http://sfbay.craigslist.org/eby/apa/4709907522.html', 'app': 1000, '_id': ObjectId('543b6bb656ddae01724551fd'), 'id': '4709907522', 'desc': u'$2051 / 1br - 735ft\\xb2 - Amazing ground level unit with hardwood floors and HUGE patio!! (fremont / union city / newark)'}"
       ]
      },
      {
       "output_type": "stream",
       "stream": "stdout",
       "text": [
        "\n",
        "{'url': 'http://sfbay.craigslist.org/eby/apa/4709907522.html', 'app': 1000, '_id': ObjectId('543b6bb656ddae01724551fd'), 'id': '4709907522', 'desc': u'$2051 / 1br - 735ft\\xb2 - Amazing ground level unit with hardwood floors and HUGE patio!! (fremont / union city / newark)'}"
       ]
      },
      {
       "output_type": "stream",
       "stream": "stdout",
       "text": [
        "\n",
        "{'url': 'http://sfbay.craigslist.org/eby/apa/4709907522.html', 'app': 1000, '_id': ObjectId('543b6bb656ddae01724551fd'), 'id': '4709907522', 'desc': u'$2051 / 1br - 735ft\\xb2 - Amazing ground level unit with hardwood floors and HUGE patio!! (fremont / union city / newark)'}"
       ]
      },
      {
       "output_type": "stream",
       "stream": "stdout",
       "text": [
        "\n",
        "{'url': 'http://sfbay.craigslist.org/eby/apa/4709907522.html', 'app': 1000, '_id': ObjectId('543b6bb656ddae01724551fd'), 'id': '4709907522', 'desc': u'$2051 / 1br - 735ft\\xb2 - Amazing ground level unit with hardwood floors and HUGE patio!! (fremont / union city / newark)'}"
       ]
      },
      {
       "output_type": "stream",
       "stream": "stdout",
       "text": [
        "\n",
        "{'url': 'http://sfbay.craigslist.org/eby/apa/4709907522.html', 'app': 1000, '_id': ObjectId('543b6bb656ddae01724551fd'), 'id': '4709907522', 'desc': u'$2051 / 1br - 735ft\\xb2 - Amazing ground level unit with hardwood floors and HUGE patio!! (fremont / union city / newark)'}"
       ]
      },
      {
       "output_type": "stream",
       "stream": "stdout",
       "text": [
        "\n",
        "{'url': 'http://sfbay.craigslist.org/eby/apa/4709907522.html', 'app': 1000, '_id': ObjectId('543b6bb656ddae01724551fd'), 'id': '4709907522', 'desc': u'$2051 / 1br - 735ft\\xb2 - Amazing ground level unit with hardwood floors and HUGE patio!! (fremont / union city / newark)'}"
       ]
      },
      {
       "output_type": "stream",
       "stream": "stdout",
       "text": [
        "\n",
        "{'url': 'http://sfbay.craigslist.org/eby/apa/4709907522.html', 'app': 1000, '_id': ObjectId('543b6bb656ddae01724551fd'), 'id': '4709907522', 'desc': u'$2051 / 1br - 735ft\\xb2 - Amazing ground level unit with hardwood floors and HUGE patio!! (fremont / union city / newark)'}"
       ]
      },
      {
       "output_type": "stream",
       "stream": "stdout",
       "text": [
        "\n",
        "{'url': 'http://sfbay.craigslist.org/eby/apa/4709907522.html', 'app': 1000, '_id': ObjectId('543b6bb656ddae01724551fd'), 'id': '4709907522', 'desc': u'$2051 / 1br - 735ft\\xb2 - Amazing ground level unit with hardwood floors and HUGE patio!! (fremont / union city / newark)'}"
       ]
      },
      {
       "output_type": "stream",
       "stream": "stdout",
       "text": [
        "\n",
        "{'url': 'http://sfbay.craigslist.org/eby/apa/4709907522.html', 'app': 1000, '_id': ObjectId('543b6bb656ddae01724551fd'), 'id': '4709907522', 'desc': u'$2051 / 1br - 735ft\\xb2 - Amazing ground level unit with hardwood floors and HUGE patio!! (fremont / union city / newark)'}"
       ]
      },
      {
       "output_type": "stream",
       "stream": "stdout",
       "text": [
        "\n",
        "{'url': 'http://sfbay.craigslist.org/eby/apa/4709907522.html', 'app': 1000, '_id': ObjectId('543b6bb656ddae01724551fd'), 'id': '4709907522', 'desc': u'$2051 / 1br - 735ft\\xb2 - Amazing ground level unit with hardwood floors and HUGE patio!! (fremont / union city / newark)'}"
       ]
      },
      {
       "output_type": "stream",
       "stream": "stdout",
       "text": [
        "\n",
        "{'url': 'http://sfbay.craigslist.org/eby/apa/4709907522.html', 'app': 1000, '_id': ObjectId('543b6bb656ddae01724551fd'), 'id': '4709907522', 'desc': u'$2051 / 1br - 735ft\\xb2 - Amazing ground level unit with hardwood floors and HUGE patio!! (fremont / union city / newark)'}"
       ]
      },
      {
       "output_type": "stream",
       "stream": "stdout",
       "text": [
        "\n",
        "{'url': 'http://sfbay.craigslist.org/eby/apa/4709907522.html', 'app': 1000, '_id': ObjectId('543b6bb656ddae01724551fd'), 'id': '4709907522', 'desc': u'$2051 / 1br - 735ft\\xb2 - Amazing ground level unit with hardwood floors and HUGE patio!! (fremont / union city / newark)'}"
       ]
      },
      {
       "output_type": "stream",
       "stream": "stdout",
       "text": [
        "\n",
        "{'url': 'http://sfbay.craigslist.org/eby/apa/4709907522.html', 'app': 1000, '_id': ObjectId('543b6bb656ddae01724551fd'), 'id': '4709907522', 'desc': u'$2051 / 1br - 735ft\\xb2 - Amazing ground level unit with hardwood floors and HUGE patio!! (fremont / union city / newark)'}"
       ]
      },
      {
       "output_type": "stream",
       "stream": "stdout",
       "text": [
        "\n",
        "{'url': 'http://sfbay.craigslist.org/eby/apa/4709907522.html', 'app': 1000, '_id': ObjectId('543b6bb656ddae01724551fd'), 'id': '4709907522', 'desc': u'$2051 / 1br - 735ft\\xb2 - Amazing ground level unit with hardwood floors and HUGE patio!! (fremont / union city / newark)'}"
       ]
      },
      {
       "output_type": "stream",
       "stream": "stdout",
       "text": [
        "\n",
        "{'url': 'http://sfbay.craigslist.org/eby/apa/4709907522.html', 'app': 1000, '_id': ObjectId('543b6bb656ddae01724551fd'), 'id': '4709907522', 'desc': u'$2051 / 1br - 735ft\\xb2 - Amazing ground level unit with hardwood floors and HUGE patio!! (fremont / union city / newark)'}"
       ]
      },
      {
       "output_type": "stream",
       "stream": "stdout",
       "text": [
        "\n",
        "{'url': 'http://sfbay.craigslist.org/eby/apa/4709907522.html', 'app': 1000, '_id': ObjectId('543b6bb656ddae01724551fd'), 'id': '4709907522', 'desc': u'$2051 / 1br - 735ft\\xb2 - Amazing ground level unit with hardwood floors and HUGE patio!! (fremont / union city / newark)'}"
       ]
      },
      {
       "output_type": "stream",
       "stream": "stdout",
       "text": [
        "\n",
        "{'url': 'http://sfbay.craigslist.org/eby/apa/4709907522.html', 'app': 1000, '_id': ObjectId('543b6bb656ddae01724551fd'), 'id': '4709907522', 'desc': u'$2051 / 1br - 735ft\\xb2 - Amazing ground level unit with hardwood floors and HUGE patio!! (fremont / union city / newark)'}"
       ]
      },
      {
       "output_type": "stream",
       "stream": "stdout",
       "text": [
        "\n",
        "{'url': 'http://sfbay.craigslist.org/eby/apa/4709907522.html', 'app': 1000, '_id': ObjectId('543b6bb656ddae01724551fd'), 'id': '4709907522', 'desc': u'$2051 / 1br - 735ft\\xb2 - Amazing ground level unit with hardwood floors and HUGE patio!! (fremont / union city / newark)'}"
       ]
      },
      {
       "output_type": "stream",
       "stream": "stdout",
       "text": [
        "\n",
        "{'url': 'http://sfbay.craigslist.org/eby/apa/4709907522.html', 'app': 1000, '_id': ObjectId('543b6bb656ddae01724551fd'), 'id': '4709907522', 'desc': u'$2051 / 1br - 735ft\\xb2 - Amazing ground level unit with hardwood floors and HUGE patio!! (fremont / union city / newark)'}"
       ]
      },
      {
       "output_type": "stream",
       "stream": "stdout",
       "text": [
        "\n",
        "{'url': 'http://sfbay.craigslist.org/eby/apa/4709907522.html', 'app': 1000, '_id': ObjectId('543b6bb656ddae01724551fd'), 'id': '4709907522', 'desc': u'$2051 / 1br - 735ft\\xb2 - Amazing ground level unit with hardwood floors and HUGE patio!! (fremont / union city / newark)'}"
       ]
      },
      {
       "output_type": "stream",
       "stream": "stdout",
       "text": [
        "\n",
        "{'url': 'http://sfbay.craigslist.org/eby/apa/4709907522.html', 'app': 1000, '_id': ObjectId('543b6bb656ddae01724551fd'), 'id': '4709907522', 'desc': u'$2051 / 1br - 735ft\\xb2 - Amazing ground level unit with hardwood floors and HUGE patio!! (fremont / union city / newark)'}"
       ]
      },
      {
       "output_type": "stream",
       "stream": "stdout",
       "text": [
        "\n",
        "{'url': 'http://sfbay.craigslist.org/eby/apa/4709907522.html', 'app': 1000, '_id': ObjectId('543b6bb656ddae01724551fd'), 'id': '4709907522', 'desc': u'$2051 / 1br - 735ft\\xb2 - Amazing ground level unit with hardwood floors and HUGE patio!! (fremont / union city / newark)'}"
       ]
      },
      {
       "output_type": "stream",
       "stream": "stdout",
       "text": [
        "\n",
        "{'url': 'http://sfbay.craigslist.org/eby/apa/4709907522.html', 'app': 1000, '_id': ObjectId('543b6bb656ddae01724551fd'), 'id': '4709907522', 'desc': u'$2051 / 1br - 735ft\\xb2 - Amazing ground level unit with hardwood floors and HUGE patio!! (fremont / union city / newark)'}"
       ]
      },
      {
       "output_type": "stream",
       "stream": "stdout",
       "text": [
        "\n",
        "{'url': 'http://sfbay.craigslist.org/eby/apa/4709907522.html', 'app': 1000, '_id': ObjectId('543b6bb656ddae01724551fd'), 'id': '4709907522', 'desc': u'$2051 / 1br - 735ft\\xb2 - Amazing ground level unit with hardwood floors and HUGE patio!! (fremont / union city / newark)'}"
       ]
      },
      {
       "output_type": "stream",
       "stream": "stdout",
       "text": [
        "\n",
        "{'url': 'http://sfbay.craigslist.org/eby/apa/4709907522.html', 'app': 1000, '_id': ObjectId('543b6bb656ddae01724551fd'), 'id': '4709907522', 'desc': u'$2051 / 1br - 735ft\\xb2 - Amazing ground level unit with hardwood floors and HUGE patio!! (fremont / union city / newark)'}"
       ]
      },
      {
       "output_type": "stream",
       "stream": "stdout",
       "text": [
        "\n",
        "{'url': 'http://sfbay.craigslist.org/eby/apa/4709907522.html', 'app': 1000, '_id': ObjectId('543b6bb656ddae01724551fd'), 'id': '4709907522', 'desc': u'$2051 / 1br - 735ft\\xb2 - Amazing ground level unit with hardwood floors and HUGE patio!! (fremont / union city / newark)'}"
       ]
      },
      {
       "output_type": "stream",
       "stream": "stdout",
       "text": [
        "\n",
        "{'url': 'http://sfbay.craigslist.org/eby/apa/4709907522.html', 'app': 1000, '_id': ObjectId('543b6bb656ddae01724551fd'), 'id': '4709907522', 'desc': u'$2051 / 1br - 735ft\\xb2 - Amazing ground level unit with hardwood floors and HUGE patio!! (fremont / union city / newark)'}"
       ]
      },
      {
       "output_type": "stream",
       "stream": "stdout",
       "text": [
        "\n",
        "{'url': 'http://sfbay.craigslist.org/eby/apa/4709907522.html', 'app': 1000, '_id': ObjectId('543b6bb656ddae01724551fd'), 'id': '4709907522', 'desc': u'$2051 / 1br - 735ft\\xb2 - Amazing ground level unit with hardwood floors and HUGE patio!! (fremont / union city / newark)'}"
       ]
      },
      {
       "output_type": "stream",
       "stream": "stdout",
       "text": [
        "\n",
        "{'url': 'http://sfbay.craigslist.org/eby/apa/4709907522.html', 'app': 1000, '_id': ObjectId('543b6bb656ddae01724551fd'), 'id': '4709907522', 'desc': u'$2051 / 1br - 735ft\\xb2 - Amazing ground level unit with hardwood floors and HUGE patio!! (fremont / union city / newark)'}"
       ]
      },
      {
       "output_type": "stream",
       "stream": "stdout",
       "text": [
        "\n",
        "{'url': 'http://sfbay.craigslist.org/eby/apa/4709907522.html', 'app': 1000, '_id': ObjectId('543b6bb656ddae01724551fd'), 'id': '4709907522', 'desc': u'$2051 / 1br - 735ft\\xb2 - Amazing ground level unit with hardwood floors and HUGE patio!! (fremont / union city / newark)'}"
       ]
      },
      {
       "output_type": "stream",
       "stream": "stdout",
       "text": [
        "\n",
        "{'url': 'http://sfbay.craigslist.org/eby/apa/4709907522.html', 'app': 1000, '_id': ObjectId('543b6bb656ddae01724551fd'), 'id': '4709907522', 'desc': u'$2051 / 1br - 735ft\\xb2 - Amazing ground level unit with hardwood floors and HUGE patio!! (fremont / union city / newark)'}"
       ]
      },
      {
       "output_type": "stream",
       "stream": "stdout",
       "text": [
        "\n",
        "{'url': 'http://sfbay.craigslist.org/eby/apa/4709907522.html', 'app': 1000, '_id': ObjectId('543b6bb656ddae01724551fd'), 'id': '4709907522', 'desc': u'$2051 / 1br - 735ft\\xb2 - Amazing ground level unit with hardwood floors and HUGE patio!! (fremont / union city / newark)'}"
       ]
      },
      {
       "output_type": "stream",
       "stream": "stdout",
       "text": [
        "\n",
        "{'url': 'http://sfbay.craigslist.org/eby/apa/4709907522.html', 'app': 1000, '_id': ObjectId('543b6bb656ddae01724551fd'), 'id': '4709907522', 'desc': u'$2051 / 1br - 735ft\\xb2 - Amazing ground level unit with hardwood floors and HUGE patio!! (fremont / union city / newark)'}"
       ]
      },
      {
       "output_type": "stream",
       "stream": "stdout",
       "text": [
        "\n",
        "{'url': 'http://sfbay.craigslist.org/eby/apa/4709907522.html', 'app': 1000, '_id': ObjectId('543b6bb656ddae01724551fd'), 'id': '4709907522', 'desc': u'$2051 / 1br - 735ft\\xb2 - Amazing ground level unit with hardwood floors and HUGE patio!! (fremont / union city / newark)'}"
       ]
      },
      {
       "output_type": "stream",
       "stream": "stdout",
       "text": [
        "\n",
        "{'url': 'http://sfbay.craigslist.org/eby/apa/4709907522.html', 'app': 1000, '_id': ObjectId('543b6bb656ddae01724551fd'), 'id': '4709907522', 'desc': u'$2051 / 1br - 735ft\\xb2 - Amazing ground level unit with hardwood floors and HUGE patio!! (fremont / union city / newark)'}"
       ]
      },
      {
       "output_type": "stream",
       "stream": "stdout",
       "text": [
        "\n",
        "{'url': 'http://sfbay.craigslist.org/eby/apa/4709907522.html', 'app': 1000, '_id': ObjectId('543b6bb656ddae01724551fd'), 'id': '4709907522', 'desc': u'$2051 / 1br - 735ft\\xb2 - Amazing ground level unit with hardwood floors and HUGE patio!! (fremont / union city / newark)'}"
       ]
      },
      {
       "output_type": "stream",
       "stream": "stdout",
       "text": [
        "\n",
        "{'url': 'http://sfbay.craigslist.org/eby/apa/4709907522.html', 'app': 1000, '_id': ObjectId('543b6bb656ddae01724551fd'), 'id': '4709907522', 'desc': u'$2051 / 1br - 735ft\\xb2 - Amazing ground level unit with hardwood floors and HUGE patio!! (fremont / union city / newark)'}"
       ]
      },
      {
       "output_type": "stream",
       "stream": "stdout",
       "text": [
        "\n",
        "{'url': 'http://sfbay.craigslist.org/eby/apa/4709907522.html', 'app': 1000, '_id': ObjectId('543b6bb656ddae01724551fd'), 'id': '4709907522', 'desc': u'$2051 / 1br - 735ft\\xb2 - Amazing ground level unit with hardwood floors and HUGE patio!! (fremont / union city / newark)'}"
       ]
      },
      {
       "output_type": "stream",
       "stream": "stdout",
       "text": [
        "\n",
        "{'url': 'http://sfbay.craigslist.org/eby/apa/4709907522.html', 'app': 1000, '_id': ObjectId('543b6bb656ddae01724551fd'), 'id': '4709907522', 'desc': u'$2051 / 1br - 735ft\\xb2 - Amazing ground level unit with hardwood floors and HUGE patio!! (fremont / union city / newark)'}"
       ]
      },
      {
       "output_type": "stream",
       "stream": "stdout",
       "text": [
        "\n",
        "{'url': 'http://sfbay.craigslist.org/eby/apa/4709907522.html', 'app': 1000, '_id': ObjectId('543b6bb656ddae01724551fd'), 'id': '4709907522', 'desc': u'$2051 / 1br - 735ft\\xb2 - Amazing ground level unit with hardwood floors and HUGE patio!! (fremont / union city / newark)'}"
       ]
      },
      {
       "output_type": "stream",
       "stream": "stdout",
       "text": [
        "\n",
        "{'url': 'http://sfbay.craigslist.org/eby/apa/4709907522.html', 'app': 1000, '_id': ObjectId('543b6bb656ddae01724551fd'), 'id': '4709907522', 'desc': u'$2051 / 1br - 735ft\\xb2 - Amazing ground level unit with hardwood floors and HUGE patio!! (fremont / union city / newark)'}"
       ]
      },
      {
       "output_type": "stream",
       "stream": "stdout",
       "text": [
        "\n",
        "{'url': 'http://sfbay.craigslist.org/eby/apa/4709907522.html', 'app': 1000, '_id': ObjectId('543b6bb656ddae01724551fd'), 'id': '4709907522', 'desc': u'$2051 / 1br - 735ft\\xb2 - Amazing ground level unit with hardwood floors and HUGE patio!! (fremont / union city / newark)'}"
       ]
      },
      {
       "output_type": "stream",
       "stream": "stdout",
       "text": [
        "\n",
        "{'url': 'http://sfbay.craigslist.org/eby/apa/4709907522.html', 'app': 1000, '_id': ObjectId('543b6bb656ddae01724551fd'), 'id': '4709907522', 'desc': u'$2051 / 1br - 735ft\\xb2 - Amazing ground level unit with hardwood floors and HUGE patio!! (fremont / union city / newark)'}"
       ]
      },
      {
       "output_type": "stream",
       "stream": "stdout",
       "text": [
        "\n",
        "{'url': 'http://sfbay.craigslist.org/eby/apa/4709907522.html', 'app': 1000, '_id': ObjectId('543b6bb656ddae01724551fd'), 'id': '4709907522', 'desc': u'$2051 / 1br - 735ft\\xb2 - Amazing ground level unit with hardwood floors and HUGE patio!! (fremont / union city / newark)'}"
       ]
      },
      {
       "output_type": "stream",
       "stream": "stdout",
       "text": [
        "\n",
        "{'url': 'http://sfbay.craigslist.org/eby/apa/4709907522.html', 'app': 1000, '_id': ObjectId('543b6bb656ddae01724551fd'), 'id': '4709907522', 'desc': u'$2051 / 1br - 735ft\\xb2 - Amazing ground level unit with hardwood floors and HUGE patio!! (fremont / union city / newark)'}"
       ]
      },
      {
       "output_type": "stream",
       "stream": "stdout",
       "text": [
        "\n",
        "{'url': 'http://sfbay.craigslist.org/eby/apa/4709907522.html', 'app': 1000, '_id': ObjectId('543b6bb656ddae01724551fd'), 'id': '4709907522', 'desc': u'$2051 / 1br - 735ft\\xb2 - Amazing ground level unit with hardwood floors and HUGE patio!! (fremont / union city / newark)'}"
       ]
      },
      {
       "output_type": "stream",
       "stream": "stdout",
       "text": [
        "\n",
        "{'url': 'http://sfbay.craigslist.org/eby/apa/4709907522.html', 'app': 1000, '_id': ObjectId('543b6bb656ddae01724551fd'), 'id': '4709907522', 'desc': u'$2051 / 1br - 735ft\\xb2 - Amazing ground level unit with hardwood floors and HUGE patio!! (fremont / union city / newark)'}"
       ]
      },
      {
       "output_type": "stream",
       "stream": "stdout",
       "text": [
        "\n",
        "{'url': 'http://sfbay.craigslist.org/eby/apa/4709907522.html', 'app': 1000, '_id': ObjectId('543b6bb656ddae01724551fd'), 'id': '4709907522', 'desc': u'$2051 / 1br - 735ft\\xb2 - Amazing ground level unit with hardwood floors and HUGE patio!! (fremont / union city / newark)'}"
       ]
      },
      {
       "output_type": "stream",
       "stream": "stdout",
       "text": [
        "\n",
        "{'url': 'http://sfbay.craigslist.org/eby/apa/4709907522.html', 'app': 1000, '_id': ObjectId('543b6bb656ddae01724551fd'), 'id': '4709907522', 'desc': u'$2051 / 1br - 735ft\\xb2 - Amazing ground level unit with hardwood floors and HUGE patio!! (fremont / union city / newark)'}"
       ]
      },
      {
       "output_type": "stream",
       "stream": "stdout",
       "text": [
        "\n",
        "{'url': 'http://sfbay.craigslist.org/eby/apa/4709907522.html', 'app': 1000, '_id': ObjectId('543b6bb656ddae01724551fd'), 'id': '4709907522', 'desc': u'$2051 / 1br - 735ft\\xb2 - Amazing ground level unit with hardwood floors and HUGE patio!! (fremont / union city / newark)'}"
       ]
      },
      {
       "output_type": "stream",
       "stream": "stdout",
       "text": [
        "\n",
        "{'url': 'http://sfbay.craigslist.org/eby/apa/4709907522.html', 'app': 1000, '_id': ObjectId('543b6bb656ddae01724551fd'), 'id': '4709907522', 'desc': u'$2051 / 1br - 735ft\\xb2 - Amazing ground level unit with hardwood floors and HUGE patio!! (fremont / union city / newark)'}"
       ]
      },
      {
       "output_type": "stream",
       "stream": "stdout",
       "text": [
        "\n",
        "{'url': 'http://sfbay.craigslist.org/eby/apa/4709907522.html', 'app': 1000, '_id': ObjectId('543b6bb656ddae01724551fd'), 'id': '4709907522', 'desc': u'$2051 / 1br - 735ft\\xb2 - Amazing ground level unit with hardwood floors and HUGE patio!! (fremont / union city / newark)'}"
       ]
      },
      {
       "output_type": "stream",
       "stream": "stdout",
       "text": [
        "\n",
        "{'url': 'http://sfbay.craigslist.org/eby/apa/4709907522.html', 'app': 1000, '_id': ObjectId('543b6bb656ddae01724551fd'), 'id': '4709907522', 'desc': u'$2051 / 1br - 735ft\\xb2 - Amazing ground level unit with hardwood floors and HUGE patio!! (fremont / union city / newark)'}"
       ]
      },
      {
       "output_type": "stream",
       "stream": "stdout",
       "text": [
        "\n",
        "{'url': 'http://sfbay.craigslist.org/eby/apa/4709907522.html', 'app': 1000, '_id': ObjectId('543b6bb656ddae01724551fd'), 'id': '4709907522', 'desc': u'$2051 / 1br - 735ft\\xb2 - Amazing ground level unit with hardwood floors and HUGE patio!! (fremont / union city / newark)'}"
       ]
      },
      {
       "output_type": "stream",
       "stream": "stdout",
       "text": [
        "\n",
        "{'url': 'http://sfbay.craigslist.org/eby/apa/4709907522.html', 'app': 1000, '_id': ObjectId('543b6bb656ddae01724551fd'), 'id': '4709907522', 'desc': u'$2051 / 1br - 735ft\\xb2 - Amazing ground level unit with hardwood floors and HUGE patio!! (fremont / union city / newark)'}"
       ]
      },
      {
       "output_type": "stream",
       "stream": "stdout",
       "text": [
        "\n",
        "{'url': 'http://sfbay.craigslist.org/eby/apa/4709907522.html', 'app': 1000, '_id': ObjectId('543b6bb656ddae01724551fd'), 'id': '4709907522', 'desc': u'$2051 / 1br - 735ft\\xb2 - Amazing ground level unit with hardwood floors and HUGE patio!! (fremont / union city / newark)'}"
       ]
      },
      {
       "output_type": "stream",
       "stream": "stdout",
       "text": [
        "\n",
        "{'url': 'http://sfbay.craigslist.org/eby/apa/4709907522.html', 'app': 1000, '_id': ObjectId('543b6bb656ddae01724551fd'), 'id': '4709907522', 'desc': u'$2051 / 1br - 735ft\\xb2 - Amazing ground level unit with hardwood floors and HUGE patio!! (fremont / union city / newark)'}"
       ]
      },
      {
       "output_type": "stream",
       "stream": "stdout",
       "text": [
        "\n",
        "{'url': 'http://sfbay.craigslist.org/eby/apa/4709907522.html', 'app': 1000, '_id': ObjectId('543b6bb656ddae01724551fd'), 'id': '4709907522', 'desc': u'$2051 / 1br - 735ft\\xb2 - Amazing ground level unit with hardwood floors and HUGE patio!! (fremont / union city / newark)'}"
       ]
      },
      {
       "output_type": "stream",
       "stream": "stdout",
       "text": [
        "\n",
        "{'url': 'http://sfbay.craigslist.org/eby/apa/4709907522.html', 'app': 1000, '_id': ObjectId('543b6bb656ddae01724551fd'), 'id': '4709907522', 'desc': u'$2051 / 1br - 735ft\\xb2 - Amazing ground level unit with hardwood floors and HUGE patio!! (fremont / union city / newark)'}"
       ]
      },
      {
       "output_type": "stream",
       "stream": "stdout",
       "text": [
        "\n",
        "{'url': 'http://sfbay.craigslist.org/eby/apa/4709907522.html', 'app': 1000, '_id': ObjectId('543b6bb656ddae01724551fd'), 'id': '4709907522', 'desc': u'$2051 / 1br - 735ft\\xb2 - Amazing ground level unit with hardwood floors and HUGE patio!! (fremont / union city / newark)'}"
       ]
      },
      {
       "output_type": "stream",
       "stream": "stdout",
       "text": [
        "\n",
        "{'url': 'http://sfbay.craigslist.org/eby/apa/4709907522.html', 'app': 1000, '_id': ObjectId('543b6bb656ddae01724551fd'), 'id': '4709907522', 'desc': u'$2051 / 1br - 735ft\\xb2 - Amazing ground level unit with hardwood floors and HUGE patio!! (fremont / union city / newark)'}"
       ]
      },
      {
       "output_type": "stream",
       "stream": "stdout",
       "text": [
        "\n",
        "{'url': 'http://sfbay.craigslist.org/eby/apa/4709907522.html', 'app': 1000, '_id': ObjectId('543b6bb656ddae01724551fd'), 'id': '4709907522', 'desc': u'$2051 / 1br - 735ft\\xb2 - Amazing ground level unit with hardwood floors and HUGE patio!! (fremont / union city / newark)'}"
       ]
      },
      {
       "output_type": "stream",
       "stream": "stdout",
       "text": [
        "\n",
        "{'url': 'http://sfbay.craigslist.org/eby/apa/4709907522.html', 'app': 1000, '_id': ObjectId('543b6bb656ddae01724551fd'), 'id': '4709907522', 'desc': u'$2051 / 1br - 735ft\\xb2 - Amazing ground level unit with hardwood floors and HUGE patio!! (fremont / union city / newark)'}"
       ]
      },
      {
       "output_type": "stream",
       "stream": "stdout",
       "text": [
        "\n",
        "{'url': 'http://sfbay.craigslist.org/eby/apa/4709907522.html', 'app': 1000, '_id': ObjectId('543b6bb656ddae01724551fd'), 'id': '4709907522', 'desc': u'$2051 / 1br - 735ft\\xb2 - Amazing ground level unit with hardwood floors and HUGE patio!! (fremont / union city / newark)'}"
       ]
      },
      {
       "output_type": "stream",
       "stream": "stdout",
       "text": [
        "\n",
        "{'url': 'http://sfbay.craigslist.org/eby/apa/4709907522.html', 'app': 1000, '_id': ObjectId('543b6bb656ddae01724551fd'), 'id': '4709907522', 'desc': u'$2051 / 1br - 735ft\\xb2 - Amazing ground level unit with hardwood floors and HUGE patio!! (fremont / union city / newark)'}"
       ]
      },
      {
       "output_type": "stream",
       "stream": "stdout",
       "text": [
        "\n",
        "{'url': 'http://sfbay.craigslist.org/eby/apa/4709907522.html', 'app': 1000, '_id': ObjectId('543b6bb656ddae01724551fd'), 'id': '4709907522', 'desc': u'$2051 / 1br - 735ft\\xb2 - Amazing ground level unit with hardwood floors and HUGE patio!! (fremont / union city / newark)'}"
       ]
      },
      {
       "output_type": "stream",
       "stream": "stdout",
       "text": [
        "\n",
        "{'url': 'http://sfbay.craigslist.org/eby/apa/4709907522.html', 'app': 1000, '_id': ObjectId('543b6bb656ddae01724551fd'), 'id': '4709907522', 'desc': u'$2051 / 1br - 735ft\\xb2 - Amazing ground level unit with hardwood floors and HUGE patio!! (fremont / union city / newark)'}"
       ]
      },
      {
       "output_type": "stream",
       "stream": "stdout",
       "text": [
        "\n",
        "{'url': 'http://sfbay.craigslist.org/eby/apa/4709907522.html', 'app': 1000, '_id': ObjectId('543b6bb656ddae01724551fd'), 'id': '4709907522', 'desc': u'$2051 / 1br - 735ft\\xb2 - Amazing ground level unit with hardwood floors and HUGE patio!! (fremont / union city / newark)'}"
       ]
      },
      {
       "output_type": "stream",
       "stream": "stdout",
       "text": [
        "\n",
        "{'url': 'http://sfbay.craigslist.org/eby/apa/4709907522.html', 'app': 1000, '_id': ObjectId('543b6bb656ddae01724551fd'), 'id': '4709907522', 'desc': u'$2051 / 1br - 735ft\\xb2 - Amazing ground level unit with hardwood floors and HUGE patio!! (fremont / union city / newark)'}"
       ]
      },
      {
       "output_type": "stream",
       "stream": "stdout",
       "text": [
        "\n",
        "{'url': 'http://sfbay.craigslist.org/eby/apa/4709907522.html', 'app': 1000, '_id': ObjectId('543b6bb656ddae01724551fd'), 'id': '4709907522', 'desc': u'$2051 / 1br - 735ft\\xb2 - Amazing ground level unit with hardwood floors and HUGE patio!! (fremont / union city / newark)'}"
       ]
      },
      {
       "output_type": "stream",
       "stream": "stdout",
       "text": [
        "\n",
        "{'url': 'http://sfbay.craigslist.org/eby/apa/4709907522.html', 'app': 1000, '_id': ObjectId('543b6bb656ddae01724551fd'), 'id': '4709907522', 'desc': u'$2051 / 1br - 735ft\\xb2 - Amazing ground level unit with hardwood floors and HUGE patio!! (fremont / union city / newark)'}"
       ]
      },
      {
       "output_type": "stream",
       "stream": "stdout",
       "text": [
        "\n",
        "{'url': 'http://sfbay.craigslist.org/eby/apa/4709907522.html', 'app': 1000, '_id': ObjectId('543b6bb656ddae01724551fd'), 'id': '4709907522', 'desc': u'$2051 / 1br - 735ft\\xb2 - Amazing ground level unit with hardwood floors and HUGE patio!! (fremont / union city / newark)'}"
       ]
      },
      {
       "output_type": "stream",
       "stream": "stdout",
       "text": [
        "\n",
        "{'url': 'http://sfbay.craigslist.org/eby/apa/4709907522.html', 'app': 1000, '_id': ObjectId('543b6bb656ddae01724551fd'), 'id': '4709907522', 'desc': u'$2051 / 1br - 735ft\\xb2 - Amazing ground level unit with hardwood floors and HUGE patio!! (fremont / union city / newark)'}"
       ]
      },
      {
       "output_type": "stream",
       "stream": "stdout",
       "text": [
        "\n",
        "{'url': 'http://sfbay.craigslist.org/eby/apa/4709907522.html', 'app': 1000, '_id': ObjectId('543b6bb656ddae01724551fd'), 'id': '4709907522', 'desc': u'$2051 / 1br - 735ft\\xb2 - Amazing ground level unit with hardwood floors and HUGE patio!! (fremont / union city / newark)'}"
       ]
      },
      {
       "output_type": "stream",
       "stream": "stdout",
       "text": [
        "\n",
        "{'url': 'http://sfbay.craigslist.org/eby/apa/4709907522.html', 'app': 1000, '_id': ObjectId('543b6bb656ddae01724551fd'), 'id': '4709907522', 'desc': u'$2051 / 1br - 735ft\\xb2 - Amazing ground level unit with hardwood floors and HUGE patio!! (fremont / union city / newark)'}"
       ]
      },
      {
       "output_type": "stream",
       "stream": "stdout",
       "text": [
        "\n",
        "{'url': 'http://sfbay.craigslist.org/eby/apa/4709907522.html', 'app': 1000, '_id': ObjectId('543b6bb656ddae01724551fd'), 'id': '4709907522', 'desc': u'$2051 / 1br - 735ft\\xb2 - Amazing ground level unit with hardwood floors and HUGE patio!! (fremont / union city / newark)'}"
       ]
      },
      {
       "output_type": "stream",
       "stream": "stdout",
       "text": [
        "\n",
        "{'url': 'http://sfbay.craigslist.org/eby/apa/4709907522.html', 'app': 1000, '_id': ObjectId('543b6bb656ddae01724551fd'), 'id': '4709907522', 'desc': u'$2051 / 1br - 735ft\\xb2 - Amazing ground level unit with hardwood floors and HUGE patio!! (fremont / union city / newark)'}"
       ]
      },
      {
       "output_type": "stream",
       "stream": "stdout",
       "text": [
        "\n",
        "{'url': 'http://sfbay.craigslist.org/eby/apa/4709907522.html', 'app': 1000, '_id': ObjectId('543b6bb656ddae01724551fd'), 'id': '4709907522', 'desc': u'$2051 / 1br - 735ft\\xb2 - Amazing ground level unit with hardwood floors and HUGE patio!! (fremont / union city / newark)'}"
       ]
      },
      {
       "output_type": "stream",
       "stream": "stdout",
       "text": [
        "\n",
        "{'url': 'http://sfbay.craigslist.org/eby/apa/4709907522.html', 'app': 1000, '_id': ObjectId('543b6bb656ddae01724551fd'), 'id': '4709907522', 'desc': u'$2051 / 1br - 735ft\\xb2 - Amazing ground level unit with hardwood floors and HUGE patio!! (fremont / union city / newark)'}"
       ]
      },
      {
       "output_type": "stream",
       "stream": "stdout",
       "text": [
        "\n",
        "{'url': 'http://sfbay.craigslist.org/eby/apa/4709907522.html', 'app': 1000, '_id': ObjectId('543b6bb656ddae01724551fd'), 'id': '4709907522', 'desc': u'$2051 / 1br - 735ft\\xb2 - Amazing ground level unit with hardwood floors and HUGE patio!! (fremont / union city / newark)'}"
       ]
      },
      {
       "output_type": "stream",
       "stream": "stdout",
       "text": [
        "\n",
        "{'url': 'http://sfbay.craigslist.org/eby/apa/4709907522.html', 'app': 1000, '_id': ObjectId('543b6bb656ddae01724551fd'), 'id': '4709907522', 'desc': u'$2051 / 1br - 735ft\\xb2 - Amazing ground level unit with hardwood floors and HUGE patio!! (fremont / union city / newark)'}"
       ]
      },
      {
       "output_type": "stream",
       "stream": "stdout",
       "text": [
        "\n",
        "{'url': 'http://sfbay.craigslist.org/eby/apa/4709907522.html', 'app': 1000, '_id': ObjectId('543b6bb656ddae01724551fd'), 'id': '4709907522', 'desc': u'$2051 / 1br - 735ft\\xb2 - Amazing ground level unit with hardwood floors and HUGE patio!! (fremont / union city / newark)'}"
       ]
      },
      {
       "output_type": "stream",
       "stream": "stdout",
       "text": [
        "\n",
        "{'url': 'http://sfbay.craigslist.org/eby/apa/4709907522.html', 'app': 1000, '_id': ObjectId('543b6bb656ddae01724551fd'), 'id': '4709907522', 'desc': u'$2051 / 1br - 735ft\\xb2 - Amazing ground level unit with hardwood floors and HUGE patio!! (fremont / union city / newark)'}"
       ]
      },
      {
       "output_type": "stream",
       "stream": "stdout",
       "text": [
        "\n",
        "{'url': 'http://sfbay.craigslist.org/eby/apa/4709907522.html', 'app': 1000, '_id': ObjectId('543b6bb656ddae01724551fd'), 'id': '4709907522', 'desc': u'$2051 / 1br - 735ft\\xb2 - Amazing ground level unit with hardwood floors and HUGE patio!! (fremont / union city / newark)'}"
       ]
      },
      {
       "output_type": "stream",
       "stream": "stdout",
       "text": [
        "\n",
        "{'url': 'http://sfbay.craigslist.org/eby/apa/4709907522.html', 'app': 1000, '_id': ObjectId('543b6bb656ddae01724551fd'), 'id': '4709907522', 'desc': u'$2051 / 1br - 735ft\\xb2 - Amazing ground level unit with hardwood floors and HUGE patio!! (fremont / union city / newark)'}"
       ]
      },
      {
       "output_type": "stream",
       "stream": "stdout",
       "text": [
        "\n",
        "{'url': 'http://sfbay.craigslist.org/eby/apa/4709907522.html', 'app': 1000, '_id': ObjectId('543b6bb656ddae01724551fd'), 'id': '4709907522', 'desc': u'$2051 / 1br - 735ft\\xb2 - Amazing ground level unit with hardwood floors and HUGE patio!! (fremont / union city / newark)'}"
       ]
      },
      {
       "output_type": "stream",
       "stream": "stdout",
       "text": [
        "\n",
        "{'url': 'http://sfbay.craigslist.org/eby/apa/4709907522.html', 'app': 1000, '_id': ObjectId('543b6bb656ddae01724551fd'), 'id': '4709907522', 'desc': u'$2051 / 1br - 735ft\\xb2 - Amazing ground level unit with hardwood floors and HUGE patio!! (fremont / union city / newark)'}"
       ]
      },
      {
       "output_type": "stream",
       "stream": "stdout",
       "text": [
        "\n",
        "{'url': 'http://sfbay.craigslist.org/eby/apa/4709907522.html', 'app': 1000, '_id': ObjectId('543b6bb656ddae01724551fd'), 'id': '4709907522', 'desc': u'$2051 / 1br - 735ft\\xb2 - Amazing ground level unit with hardwood floors and HUGE patio!! (fremont / union city / newark)'}"
       ]
      },
      {
       "output_type": "stream",
       "stream": "stdout",
       "text": [
        "\n",
        "{'url': 'http://sfbay.craigslist.org/eby/apa/4709907522.html', 'app': 1000, '_id': ObjectId('543b6bb656ddae01724551fd'), 'id': '4709907522', 'desc': u'$2051 / 1br - 735ft\\xb2 - Amazing ground level unit with hardwood floors and HUGE patio!! (fremont / union city / newark)'}"
       ]
      },
      {
       "output_type": "stream",
       "stream": "stdout",
       "text": [
        "\n",
        "{'url': 'http://sfbay.craigslist.org/eby/apa/4709907522.html', 'app': 1000, '_id': ObjectId('543b6bb656ddae01724551fd'), 'id': '4709907522', 'desc': u'$2051 / 1br - 735ft\\xb2 - Amazing ground level unit with hardwood floors and HUGE patio!! (fremont / union city / newark)'}"
       ]
      },
      {
       "output_type": "stream",
       "stream": "stdout",
       "text": [
        "\n",
        "{'url': 'http://sfbay.craigslist.org/eby/apa/4709907522.html', 'app': 1000, '_id': ObjectId('543b6bb656ddae01724551fd'), 'id': '4709907522', 'desc': u'$2051 / 1br - 735ft\\xb2 - Amazing ground level unit with hardwood floors and HUGE patio!! (fremont / union city / newark)'}"
       ]
      },
      {
       "output_type": "stream",
       "stream": "stdout",
       "text": [
        "\n",
        "{'url': 'http://sfbay.craigslist.org/eby/apa/4709907522.html', 'app': 1000, '_id': ObjectId('543b6bb656ddae01724551fd'), 'id': '4709907522', 'desc': u'$2051 / 1br - 735ft\\xb2 - Amazing ground level unit with hardwood floors and HUGE patio!! (fremont / union city / newark)'}"
       ]
      },
      {
       "output_type": "stream",
       "stream": "stdout",
       "text": [
        "\n",
        "{'url': 'http://sfbay.craigslist.org/eby/apa/4709907522.html', 'app': 1000, '_id': ObjectId('543b6bb656ddae01724551fd'), 'id': '4709907522', 'desc': u'$2051 / 1br - 735ft\\xb2 - Amazing ground level unit with hardwood floors and HUGE patio!! (fremont / union city / newark)'}"
       ]
      },
      {
       "output_type": "stream",
       "stream": "stdout",
       "text": [
        "\n",
        "{'url': 'http://sfbay.craigslist.org/eby/apa/4709907522.html', 'app': 1000, '_id': ObjectId('543b6bb656ddae01724551fd'), 'id': '4709907522', 'desc': u'$2051 / 1br - 735ft\\xb2 - Amazing ground level unit with hardwood floors and HUGE patio!! (fremont / union city / newark)'}"
       ]
      },
      {
       "output_type": "stream",
       "stream": "stdout",
       "text": [
        "\n",
        "{'url': 'http://sfbay.craigslist.org/eby/apa/4709907522.html', 'app': 1000, '_id': ObjectId('543b6bb656ddae01724551fd'), 'id': '4709907522', 'desc': u'$2051 / 1br - 735ft\\xb2 - Amazing ground level unit with hardwood floors and HUGE patio!! (fremont / union city / newark)'}"
       ]
      },
      {
       "output_type": "stream",
       "stream": "stdout",
       "text": [
        "\n",
        "{'url': 'http://sfbay.craigslist.org/eby/apa/4709907522.html', 'app': 1000, '_id': ObjectId('543b6bb656ddae01724551fd'), 'id': '4709907522', 'desc': u'$2051 / 1br - 735ft\\xb2 - Amazing ground level unit with hardwood floors and HUGE patio!! (fremont / union city / newark)'}"
       ]
      },
      {
       "output_type": "stream",
       "stream": "stdout",
       "text": [
        "\n",
        "{'url': 'http://sfbay.craigslist.org/eby/apa/4709907522.html', 'app': 1000, '_id': ObjectId('543b6bb656ddae01724551fd'), 'id': '4709907522', 'desc': u'$2051 / 1br - 735ft\\xb2 - Amazing ground level unit with hardwood floors and HUGE patio!! (fremont / union city / newark)'}"
       ]
      },
      {
       "output_type": "stream",
       "stream": "stdout",
       "text": [
        "\n",
        "{'url': 'http://sfbay.craigslist.org/eby/apa/4709907522.html', 'app': 1000, '_id': ObjectId('543b6bb656ddae01724551fd'), 'id': '4709907522', 'desc': u'$2051 / 1br - 735ft\\xb2 - Amazing ground level unit with hardwood floors and HUGE patio!! (fremont / union city / newark)'}"
       ]
      },
      {
       "output_type": "stream",
       "stream": "stdout",
       "text": [
        "\n",
        "{'url': 'http://sfbay.craigslist.org/eby/apa/4709907522.html', 'app': 1000, '_id': ObjectId('543b6bb656ddae01724551fd'), 'id': '4709907522', 'desc': u'$2051 / 1br - 735ft\\xb2 - Amazing ground level unit with hardwood floors and HUGE patio!! (fremont / union city / newark)'}"
       ]
      },
      {
       "output_type": "stream",
       "stream": "stdout",
       "text": [
        "\n",
        "{'url': 'http://sfbay.craigslist.org/eby/apa/4709907522.html', 'app': 1000, '_id': ObjectId('543b6bb656ddae01724551fd'), 'id': '4709907522', 'desc': u'$2051 / 1br - 735ft\\xb2 - Amazing ground level unit with hardwood floors and HUGE patio!! (fremont / union city / newark)'}"
       ]
      },
      {
       "output_type": "stream",
       "stream": "stdout",
       "text": [
        "\n",
        "{'url': 'http://sfbay.craigslist.org/eby/apa/4709907522.html', 'app': 1000, '_id': ObjectId('543b6bb656ddae01724551fd'), 'id': '4709907522', 'desc': u'$2051 / 1br - 735ft\\xb2 - Amazing ground level unit with hardwood floors and HUGE patio!! (fremont / union city / newark)'}"
       ]
      },
      {
       "output_type": "stream",
       "stream": "stdout",
       "text": [
        "\n",
        "{'url': 'http://sfbay.craigslist.org/eby/apa/4709907522.html', 'app': 1000, '_id': ObjectId('543b6bb656ddae01724551fd'), 'id': '4709907522', 'desc': u'$2051 / 1br - 735ft\\xb2 - Amazing ground level unit with hardwood floors and HUGE patio!! (fremont / union city / newark)'}"
       ]
      },
      {
       "output_type": "stream",
       "stream": "stdout",
       "text": [
        "\n",
        "{'url': 'http://sfbay.craigslist.org/eby/apa/4709907522.html', 'app': 1000, '_id': ObjectId('543b6bb656ddae01724551fd'), 'id': '4709907522', 'desc': u'$2051 / 1br - 735ft\\xb2 - Amazing ground level unit with hardwood floors and HUGE patio!! (fremont / union city / newark)'}"
       ]
      },
      {
       "output_type": "stream",
       "stream": "stdout",
       "text": [
        "\n",
        "{'url': 'http://sfbay.craigslist.org/eby/apa/4709907522.html', 'app': 1000, '_id': ObjectId('543b6bb656ddae01724551fd'), 'id': '4709907522', 'desc': u'$2051 / 1br - 735ft\\xb2 - Amazing ground level unit with hardwood floors and HUGE patio!! (fremont / union city / newark)'}"
       ]
      },
      {
       "output_type": "stream",
       "stream": "stdout",
       "text": [
        "\n",
        "{'url': 'http://sfbay.craigslist.org/eby/apa/4709907522.html', 'app': 1000, '_id': ObjectId('543b6bb656ddae01724551fd'), 'id': '4709907522', 'desc': u'$2051 / 1br - 735ft\\xb2 - Amazing ground level unit with hardwood floors and HUGE patio!! (fremont / union city / newark)'}"
       ]
      },
      {
       "output_type": "stream",
       "stream": "stdout",
       "text": [
        "\n",
        "{'url': 'http://sfbay.craigslist.org/eby/apa/4709907522.html', 'app': 1000, '_id': ObjectId('543b6bb656ddae01724551fd'), 'id': '4709907522', 'desc': u'$2051 / 1br - 735ft\\xb2 - Amazing ground level unit with hardwood floors and HUGE patio!! (fremont / union city / newark)'}"
       ]
      },
      {
       "output_type": "stream",
       "stream": "stdout",
       "text": [
        "\n",
        "{'url': 'http://sfbay.craigslist.org/eby/apa/4709907522.html', 'app': 1000, '_id': ObjectId('543b6bb656ddae01724551fd'), 'id': '4709907522', 'desc': u'$2051 / 1br - 735ft\\xb2 - Amazing ground level unit with hardwood floors and HUGE patio!! (fremont / union city / newark)'}"
       ]
      },
      {
       "output_type": "stream",
       "stream": "stdout",
       "text": [
        "\n",
        "{'url': 'http://sfbay.craigslist.org/eby/apa/4709907522.html', 'app': 1000, '_id': ObjectId('543b6bb656ddae01724551fd'), 'id': '4709907522', 'desc': u'$2051 / 1br - 735ft\\xb2 - Amazing ground level unit with hardwood floors and HUGE patio!! (fremont / union city / newark)'}"
       ]
      },
      {
       "output_type": "stream",
       "stream": "stdout",
       "text": [
        "\n",
        "{'url': 'http://sfbay.craigslist.org/eby/apa/4709907522.html', 'app': 1000, '_id': ObjectId('543b6bb656ddae01724551fd'), 'id': '4709907522', 'desc': u'$2051 / 1br - 735ft\\xb2 - Amazing ground level unit with hardwood floors and HUGE patio!! (fremont / union city / newark)'}"
       ]
      },
      {
       "output_type": "stream",
       "stream": "stdout",
       "text": [
        "\n",
        "{'url': 'http://sfbay.craigslist.org/eby/apa/4709907522.html', 'app': 1000, '_id': ObjectId('543b6bb656ddae01724551fd'), 'id': '4709907522', 'desc': u'$2051 / 1br - 735ft\\xb2 - Amazing ground level unit with hardwood floors and HUGE patio!! (fremont / union city / newark)'}"
       ]
      },
      {
       "output_type": "stream",
       "stream": "stdout",
       "text": [
        "\n",
        "{'url': 'http://sfbay.craigslist.org/eby/apa/4709907522.html', 'app': 1000, '_id': ObjectId('543b6bb656ddae01724551fd'), 'id': '4709907522', 'desc': u'$2051 / 1br - 735ft\\xb2 - Amazing ground level unit with hardwood floors and HUGE patio!! (fremont / union city / newark)'}"
       ]
      },
      {
       "output_type": "stream",
       "stream": "stdout",
       "text": [
        "\n",
        "{'url': 'http://sfbay.craigslist.org/eby/apa/4709907522.html', 'app': 1000, '_id': ObjectId('543b6bb656ddae01724551fd'), 'id': '4709907522', 'desc': u'$2051 / 1br - 735ft\\xb2 - Amazing ground level unit with hardwood floors and HUGE patio!! (fremont / union city / newark)'}"
       ]
      },
      {
       "output_type": "stream",
       "stream": "stdout",
       "text": [
        "\n",
        "{'url': 'http://sfbay.craigslist.org/eby/apa/4709907522.html', 'app': 1000, '_id': ObjectId('543b6bb656ddae01724551fd'), 'id': '4709907522', 'desc': u'$2051 / 1br - 735ft\\xb2 - Amazing ground level unit with hardwood floors and HUGE patio!! (fremont / union city / newark)'}"
       ]
      },
      {
       "output_type": "stream",
       "stream": "stdout",
       "text": [
        "\n",
        "{'url': 'http://sfbay.craigslist.org/eby/apa/4709907522.html', 'app': 1000, '_id': ObjectId('543b6bb656ddae01724551fd'), 'id': '4709907522', 'desc': u'$2051 / 1br - 735ft\\xb2 - Amazing ground level unit with hardwood floors and HUGE patio!! (fremont / union city / newark)'}"
       ]
      },
      {
       "output_type": "stream",
       "stream": "stdout",
       "text": [
        "\n",
        "{'url': 'http://sfbay.craigslist.org/eby/apa/4709907522.html', 'app': 1000, '_id': ObjectId('543b6bb656ddae01724551fd'), 'id': '4709907522', 'desc': u'$2051 / 1br - 735ft\\xb2 - Amazing ground level unit with hardwood floors and HUGE patio!! (fremont / union city / newark)'}"
       ]
      },
      {
       "output_type": "stream",
       "stream": "stdout",
       "text": [
        "\n",
        "{'url': 'http://sfbay.craigslist.org/eby/apa/4709907522.html', 'app': 1000, '_id': ObjectId('543b6bb656ddae01724551fd'), 'id': '4709907522', 'desc': u'$2051 / 1br - 735ft\\xb2 - Amazing ground level unit with hardwood floors and HUGE patio!! (fremont / union city / newark)'}"
       ]
      },
      {
       "output_type": "stream",
       "stream": "stdout",
       "text": [
        "\n",
        "{'url': 'http://sfbay.craigslist.org/eby/apa/4709907522.html', 'app': 1000, '_id': ObjectId('543b6bb656ddae01724551fd'), 'id': '4709907522', 'desc': u'$2051 / 1br - 735ft\\xb2 - Amazing ground level unit with hardwood floors and HUGE patio!! (fremont / union city / newark)'}"
       ]
      },
      {
       "output_type": "stream",
       "stream": "stdout",
       "text": [
        "\n",
        "{'url': 'http://sfbay.craigslist.org/eby/apa/4709907522.html', 'app': 1000, '_id': ObjectId('543b6bb656ddae01724551fd'), 'id': '4709907522', 'desc': u'$2051 / 1br - 735ft\\xb2 - Amazing ground level unit with hardwood floors and HUGE patio!! (fremont / union city / newark)'}"
       ]
      },
      {
       "output_type": "stream",
       "stream": "stdout",
       "text": [
        "\n",
        "{'url': 'http://sfbay.craigslist.org/eby/apa/4709907522.html', 'app': 1000, '_id': ObjectId('543b6bb656ddae01724551fd'), 'id': '4709907522', 'desc': u'$2051 / 1br - 735ft\\xb2 - Amazing ground level unit with hardwood floors and HUGE patio!! (fremont / union city / newark)'}"
       ]
      },
      {
       "output_type": "stream",
       "stream": "stdout",
       "text": [
        "\n",
        "{'url': 'http://sfbay.craigslist.org/eby/apa/4709907522.html', 'app': 1000, '_id': ObjectId('543b6bb656ddae01724551fd'), 'id': '4709907522', 'desc': u'$2051 / 1br - 735ft\\xb2 - Amazing ground level unit with hardwood floors and HUGE patio!! (fremont / union city / newark)'}"
       ]
      },
      {
       "output_type": "stream",
       "stream": "stdout",
       "text": [
        "\n",
        "{'url': 'http://sfbay.craigslist.org/eby/apa/4709907522.html', 'app': 1000, '_id': ObjectId('543b6bb656ddae01724551fd'), 'id': '4709907522', 'desc': u'$2051 / 1br - 735ft\\xb2 - Amazing ground level unit with hardwood floors and HUGE patio!! (fremont / union city / newark)'}"
       ]
      },
      {
       "output_type": "stream",
       "stream": "stdout",
       "text": [
        "\n",
        "{'url': 'http://sfbay.craigslist.org/eby/apa/4709907522.html', 'app': 1000, '_id': ObjectId('543b6bb656ddae01724551fd'), 'id': '4709907522', 'desc': u'$2051 / 1br - 735ft\\xb2 - Amazing ground level unit with hardwood floors and HUGE patio!! (fremont / union city / newark)'}"
       ]
      },
      {
       "output_type": "stream",
       "stream": "stdout",
       "text": [
        "\n",
        "{'url': 'http://sfbay.craigslist.org/eby/apa/4709907522.html', 'app': 1000, '_id': ObjectId('543b6bb656ddae01724551fd'), 'id': '4709907522', 'desc': u'$2051 / 1br - 735ft\\xb2 - Amazing ground level unit with hardwood floors and HUGE patio!! (fremont / union city / newark)'}"
       ]
      },
      {
       "output_type": "stream",
       "stream": "stdout",
       "text": [
        "\n",
        "{'url': 'http://sfbay.craigslist.org/eby/apa/4709907522.html', 'app': 1000, '_id': ObjectId('543b6bb656ddae01724551fd'), 'id': '4709907522', 'desc': u'$2051 / 1br - 735ft\\xb2 - Amazing ground level unit with hardwood floors and HUGE patio!! (fremont / union city / newark)'}"
       ]
      },
      {
       "output_type": "stream",
       "stream": "stdout",
       "text": [
        "\n",
        "{'url': 'http://sfbay.craigslist.org/eby/apa/4709907522.html', 'app': 1000, '_id': ObjectId('543b6bb656ddae01724551fd'), 'id': '4709907522', 'desc': u'$2051 / 1br - 735ft\\xb2 - Amazing ground level unit with hardwood floors and HUGE patio!! (fremont / union city / newark)'}"
       ]
      },
      {
       "output_type": "stream",
       "stream": "stdout",
       "text": [
        "\n",
        "{'url': 'http://sfbay.craigslist.org/eby/apa/4709907522.html', 'app': 1000, '_id': ObjectId('543b6bb656ddae01724551fd'), 'id': '4709907522', 'desc': u'$2051 / 1br - 735ft\\xb2 - Amazing ground level unit with hardwood floors and HUGE patio!! (fremont / union city / newark)'}"
       ]
      },
      {
       "output_type": "stream",
       "stream": "stdout",
       "text": [
        "\n",
        "{'url': 'http://sfbay.craigslist.org/eby/apa/4709907522.html', 'app': 1000, '_id': ObjectId('543b6bb656ddae01724551fd'), 'id': '4709907522', 'desc': u'$2051 / 1br - 735ft\\xb2 - Amazing ground level unit with hardwood floors and HUGE patio!! (fremont / union city / newark)'}"
       ]
      },
      {
       "output_type": "stream",
       "stream": "stdout",
       "text": [
        "\n",
        "{'url': 'http://sfbay.craigslist.org/eby/apa/4709907522.html', 'app': 1000, '_id': ObjectId('543b6bb656ddae01724551fd'), 'id': '4709907522', 'desc': u'$2051 / 1br - 735ft\\xb2 - Amazing ground level unit with hardwood floors and HUGE patio!! (fremont / union city / newark)'}"
       ]
      },
      {
       "output_type": "stream",
       "stream": "stdout",
       "text": [
        "\n",
        "{'url': 'http://sfbay.craigslist.org/eby/apa/4709907522.html', 'app': 1000, '_id': ObjectId('543b6bb656ddae01724551fd'), 'id': '4709907522', 'desc': u'$2051 / 1br - 735ft\\xb2 - Amazing ground level unit with hardwood floors and HUGE patio!! (fremont / union city / newark)'}"
       ]
      },
      {
       "output_type": "stream",
       "stream": "stdout",
       "text": [
        "\n",
        "{'url': 'http://sfbay.craigslist.org/eby/apa/4709907522.html', 'app': 1000, '_id': ObjectId('543b6bb656ddae01724551fd'), 'id': '4709907522', 'desc': u'$2051 / 1br - 735ft\\xb2 - Amazing ground level unit with hardwood floors and HUGE patio!! (fremont / union city / newark)'}"
       ]
      },
      {
       "output_type": "stream",
       "stream": "stdout",
       "text": [
        "\n",
        "{'url': 'http://sfbay.craigslist.org/eby/apa/4709907522.html', 'app': 1000, '_id': ObjectId('543b6bb656ddae01724551fd'), 'id': '4709907522', 'desc': u'$2051 / 1br - 735ft\\xb2 - Amazing ground level unit with hardwood floors and HUGE patio!! (fremont / union city / newark)'}"
       ]
      },
      {
       "output_type": "stream",
       "stream": "stdout",
       "text": [
        "\n",
        "{'url': 'http://sfbay.craigslist.org/eby/apa/4709907522.html', 'app': 1000, '_id': ObjectId('543b6bb656ddae01724551fd'), 'id': '4709907522', 'desc': u'$2051 / 1br - 735ft\\xb2 - Amazing ground level unit with hardwood floors and HUGE patio!! (fremont / union city / newark)'}"
       ]
      },
      {
       "output_type": "stream",
       "stream": "stdout",
       "text": [
        "\n",
        "{'url': 'http://sfbay.craigslist.org/eby/apa/4709907522.html', 'app': 1000, '_id': ObjectId('543b6bb656ddae01724551fd'), 'id': '4709907522', 'desc': u'$2051 / 1br - 735ft\\xb2 - Amazing ground level unit with hardwood floors and HUGE patio!! (fremont / union city / newark)'}"
       ]
      },
      {
       "output_type": "stream",
       "stream": "stdout",
       "text": [
        "\n",
        "{'url': 'http://sfbay.craigslist.org/eby/apa/4709907522.html', 'app': 1000, '_id': ObjectId('543b6bb656ddae01724551fd'), 'id': '4709907522', 'desc': u'$2051 / 1br - 735ft\\xb2 - Amazing ground level unit with hardwood floors and HUGE patio!! (fremont / union city / newark)'}"
       ]
      },
      {
       "output_type": "stream",
       "stream": "stdout",
       "text": [
        "\n",
        "{'url': 'http://sfbay.craigslist.org/eby/apa/4709907522.html', 'app': 1000, '_id': ObjectId('543b6bb656ddae01724551fd'), 'id': '4709907522', 'desc': u'$2051 / 1br - 735ft\\xb2 - Amazing ground level unit with hardwood floors and HUGE patio!! (fremont / union city / newark)'}"
       ]
      },
      {
       "output_type": "stream",
       "stream": "stdout",
       "text": [
        "\n",
        "{'url': 'http://sfbay.craigslist.org/eby/apa/4709907522.html', 'app': 1000, '_id': ObjectId('543b6bb656ddae01724551fd'), 'id': '4709907522', 'desc': u'$2051 / 1br - 735ft\\xb2 - Amazing ground level unit with hardwood floors and HUGE patio!! (fremont / union city / newark)'}"
       ]
      },
      {
       "output_type": "stream",
       "stream": "stdout",
       "text": [
        "\n",
        "{'url': 'http://sfbay.craigslist.org/eby/apa/4709907522.html', 'app': 1000, '_id': ObjectId('543b6bb656ddae01724551fd'), 'id': '4709907522', 'desc': u'$2051 / 1br - 735ft\\xb2 - Amazing ground level unit with hardwood floors and HUGE patio!! (fremont / union city / newark)'}"
       ]
      },
      {
       "output_type": "stream",
       "stream": "stdout",
       "text": [
        "\n",
        "{'url': 'http://sfbay.craigslist.org/eby/apa/4709907522.html', 'app': 1000, '_id': ObjectId('543b6bb656ddae01724551fd'), 'id': '4709907522', 'desc': u'$2051 / 1br - 735ft\\xb2 - Amazing ground level unit with hardwood floors and HUGE patio!! (fremont / union city / newark)'}"
       ]
      },
      {
       "output_type": "stream",
       "stream": "stdout",
       "text": [
        "\n",
        "{'url': 'http://sfbay.craigslist.org/eby/apa/4709907522.html', 'app': 1000, '_id': ObjectId('543b6bb656ddae01724551fd'), 'id': '4709907522', 'desc': u'$2051 / 1br - 735ft\\xb2 - Amazing ground level unit with hardwood floors and HUGE patio!! (fremont / union city / newark)'}"
       ]
      },
      {
       "output_type": "stream",
       "stream": "stdout",
       "text": [
        "\n",
        "{'url': 'http://sfbay.craigslist.org/eby/apa/4709907522.html', 'app': 1000, '_id': ObjectId('543b6bb656ddae01724551fd'), 'id': '4709907522', 'desc': u'$2051 / 1br - 735ft\\xb2 - Amazing ground level unit with hardwood floors and HUGE patio!! (fremont / union city / newark)'}"
       ]
      },
      {
       "output_type": "stream",
       "stream": "stdout",
       "text": [
        "\n",
        "{'url': 'http://sfbay.craigslist.org/eby/apa/4709907522.html', 'app': 1000, '_id': ObjectId('543b6bb656ddae01724551fd'), 'id': '4709907522', 'desc': u'$2051 / 1br - 735ft\\xb2 - Amazing ground level unit with hardwood floors and HUGE patio!! (fremont / union city / newark)'}"
       ]
      },
      {
       "output_type": "stream",
       "stream": "stdout",
       "text": [
        "\n",
        "{'url': 'http://sfbay.craigslist.org/eby/apa/4709907522.html', 'app': 1000, '_id': ObjectId('543b6bb656ddae01724551fd'), 'id': '4709907522', 'desc': u'$2051 / 1br - 735ft\\xb2 - Amazing ground level unit with hardwood floors and HUGE patio!! (fremont / union city / newark)'}"
       ]
      },
      {
       "output_type": "stream",
       "stream": "stdout",
       "text": [
        "\n",
        "{'url': 'http://sfbay.craigslist.org/eby/apa/4709907522.html', 'app': 1000, '_id': ObjectId('543b6bb656ddae01724551fd'), 'id': '4709907522', 'desc': u'$2051 / 1br - 735ft\\xb2 - Amazing ground level unit with hardwood floors and HUGE patio!! (fremont / union city / newark)'}"
       ]
      },
      {
       "output_type": "stream",
       "stream": "stdout",
       "text": [
        "\n",
        "{'url': 'http://sfbay.craigslist.org/eby/apa/4709907522.html', 'app': 1000, '_id': ObjectId('543b6bb656ddae01724551fd'), 'id': '4709907522', 'desc': u'$2051 / 1br - 735ft\\xb2 - Amazing ground level unit with hardwood floors and HUGE patio!! (fremont / union city / newark)'}"
       ]
      },
      {
       "output_type": "stream",
       "stream": "stdout",
       "text": [
        "\n",
        "{'url': 'http://sfbay.craigslist.org/eby/apa/4709907522.html', 'app': 1000, '_id': ObjectId('543b6bb656ddae01724551fd'), 'id': '4709907522', 'desc': u'$2051 / 1br - 735ft\\xb2 - Amazing ground level unit with hardwood floors and HUGE patio!! (fremont / union city / newark)'}"
       ]
      },
      {
       "output_type": "stream",
       "stream": "stdout",
       "text": [
        "\n",
        "{'url': 'http://sfbay.craigslist.org/eby/apa/4709907522.html', 'app': 1000, '_id': ObjectId('543b6bb656ddae01724551fd'), 'id': '4709907522', 'desc': u'$2051 / 1br - 735ft\\xb2 - Amazing ground level unit with hardwood floors and HUGE patio!! (fremont / union city / newark)'}"
       ]
      },
      {
       "output_type": "stream",
       "stream": "stdout",
       "text": [
        "\n",
        "{'url': 'http://sfbay.craigslist.org/eby/apa/4709907522.html', 'app': 1000, '_id': ObjectId('543b6bb656ddae01724551fd'), 'id': '4709907522', 'desc': u'$2051 / 1br - 735ft\\xb2 - Amazing ground level unit with hardwood floors and HUGE patio!! (fremont / union city / newark)'}"
       ]
      },
      {
       "output_type": "stream",
       "stream": "stdout",
       "text": [
        "\n",
        "{'url': 'http://sfbay.craigslist.org/eby/apa/4709907522.html', 'app': 1000, '_id': ObjectId('543b6bb656ddae01724551fd'), 'id': '4709907522', 'desc': u'$2051 / 1br - 735ft\\xb2 - Amazing ground level unit with hardwood floors and HUGE patio!! (fremont / union city / newark)'}"
       ]
      },
      {
       "output_type": "stream",
       "stream": "stdout",
       "text": [
        "\n",
        "{'url': 'http://sfbay.craigslist.org/eby/apa/4709907522.html', 'app': 1000, '_id': ObjectId('543b6bb656ddae01724551fd'), 'id': '4709907522', 'desc': u'$2051 / 1br - 735ft\\xb2 - Amazing ground level unit with hardwood floors and HUGE patio!! (fremont / union city / newark)'}"
       ]
      },
      {
       "output_type": "stream",
       "stream": "stdout",
       "text": [
        "\n",
        "{'url': 'http://sfbay.craigslist.org/eby/apa/4709907522.html', 'app': 1000, '_id': ObjectId('543b6bb656ddae01724551fd'), 'id': '4709907522', 'desc': u'$2051 / 1br - 735ft\\xb2 - Amazing ground level unit with hardwood floors and HUGE patio!! (fremont / union city / newark)'}"
       ]
      },
      {
       "output_type": "stream",
       "stream": "stdout",
       "text": [
        "\n",
        "{'url': 'http://sfbay.craigslist.org/eby/apa/4709907522.html', 'app': 1000, '_id': ObjectId('543b6bb656ddae01724551fd'), 'id': '4709907522', 'desc': u'$2051 / 1br - 735ft\\xb2 - Amazing ground level unit with hardwood floors and HUGE patio!! (fremont / union city / newark)'}"
       ]
      },
      {
       "output_type": "stream",
       "stream": "stdout",
       "text": [
        "\n",
        "{'url': 'http://sfbay.craigslist.org/eby/apa/4709907522.html', 'app': 1000, '_id': ObjectId('543b6bb656ddae01724551fd'), 'id': '4709907522', 'desc': u'$2051 / 1br - 735ft\\xb2 - Amazing ground level unit with hardwood floors and HUGE patio!! (fremont / union city / newark)'}"
       ]
      },
      {
       "output_type": "stream",
       "stream": "stdout",
       "text": [
        "\n",
        "{'url': 'http://sfbay.craigslist.org/eby/apa/4709907522.html', 'app': 1000, '_id': ObjectId('543b6bb656ddae01724551fd'), 'id': '4709907522', 'desc': u'$2051 / 1br - 735ft\\xb2 - Amazing ground level unit with hardwood floors and HUGE patio!! (fremont / union city / newark)'}"
       ]
      },
      {
       "output_type": "stream",
       "stream": "stdout",
       "text": [
        "\n",
        "{'url': 'http://sfbay.craigslist.org/eby/apa/4709907522.html', 'app': 1000, '_id': ObjectId('543b6bb656ddae01724551fd'), 'id': '4709907522', 'desc': u'$2051 / 1br - 735ft\\xb2 - Amazing ground level unit with hardwood floors and HUGE patio!! (fremont / union city / newark)'}"
       ]
      },
      {
       "output_type": "stream",
       "stream": "stdout",
       "text": [
        "\n",
        "{'url': 'http://sfbay.craigslist.org/eby/apa/4709907522.html', 'app': 1000, '_id': ObjectId('543b6bb656ddae01724551fd'), 'id': '4709907522', 'desc': u'$2051 / 1br - 735ft\\xb2 - Amazing ground level unit with hardwood floors and HUGE patio!! (fremont / union city / newark)'}"
       ]
      },
      {
       "output_type": "stream",
       "stream": "stdout",
       "text": [
        "\n",
        "{'url': 'http://sfbay.craigslist.org/eby/apa/4709907522.html', 'app': 1000, '_id': ObjectId('543b6bb656ddae01724551fd'), 'id': '4709907522', 'desc': u'$2051 / 1br - 735ft\\xb2 - Amazing ground level unit with hardwood floors and HUGE patio!! (fremont / union city / newark)'}"
       ]
      },
      {
       "output_type": "stream",
       "stream": "stdout",
       "text": [
        "\n",
        "{'url': 'http://sfbay.craigslist.org/eby/apa/4709907522.html', 'app': 1000, '_id': ObjectId('543b6bb656ddae01724551fd'), 'id': '4709907522', 'desc': u'$2051 / 1br - 735ft\\xb2 - Amazing ground level unit with hardwood floors and HUGE patio!! (fremont / union city / newark)'}"
       ]
      },
      {
       "output_type": "stream",
       "stream": "stdout",
       "text": [
        "\n",
        "{'url': 'http://sfbay.craigslist.org/eby/apa/4709907522.html', 'app': 1000, '_id': ObjectId('543b6bb656ddae01724551fd'), 'id': '4709907522', 'desc': u'$2051 / 1br - 735ft\\xb2 - Amazing ground level unit with hardwood floors and HUGE patio!! (fremont / union city / newark)'}"
       ]
      },
      {
       "output_type": "stream",
       "stream": "stdout",
       "text": [
        "\n",
        "{'url': 'http://sfbay.craigslist.org/eby/apa/4709907522.html', 'app': 1000, '_id': ObjectId('543b6bb656ddae01724551fd'), 'id': '4709907522', 'desc': u'$2051 / 1br - 735ft\\xb2 - Amazing ground level unit with hardwood floors and HUGE patio!! (fremont / union city / newark)'}"
       ]
      },
      {
       "output_type": "stream",
       "stream": "stdout",
       "text": [
        "\n",
        "{'url': 'http://sfbay.craigslist.org/eby/apa/4709907522.html', 'app': 1000, '_id': ObjectId('543b6bb656ddae01724551fd'), 'id': '4709907522', 'desc': u'$2051 / 1br - 735ft\\xb2 - Amazing ground level unit with hardwood floors and HUGE patio!! (fremont / union city / newark)'}"
       ]
      },
      {
       "output_type": "stream",
       "stream": "stdout",
       "text": [
        "\n",
        "{'url': 'http://sfbay.craigslist.org/eby/apa/4709907522.html', 'app': 1000, '_id': ObjectId('543b6bb656ddae01724551fd'), 'id': '4709907522', 'desc': u'$2051 / 1br - 735ft\\xb2 - Amazing ground level unit with hardwood floors and HUGE patio!! (fremont / union city / newark)'}"
       ]
      },
      {
       "output_type": "stream",
       "stream": "stdout",
       "text": [
        "\n",
        "{'url': 'http://sfbay.craigslist.org/eby/apa/4709907522.html', 'app': 1000, '_id': ObjectId('543b6bb656ddae01724551fd'), 'id': '4709907522', 'desc': u'$2051 / 1br - 735ft\\xb2 - Amazing ground level unit with hardwood floors and HUGE patio!! (fremont / union city / newark)'}"
       ]
      },
      {
       "output_type": "stream",
       "stream": "stdout",
       "text": [
        "\n",
        "{'url': 'http://sfbay.craigslist.org/eby/apa/4709907522.html', 'app': 1000, '_id': ObjectId('543b6bb656ddae01724551fd'), 'id': '4709907522', 'desc': u'$2051 / 1br - 735ft\\xb2 - Amazing ground level unit with hardwood floors and HUGE patio!! (fremont / union city / newark)'}"
       ]
      },
      {
       "output_type": "stream",
       "stream": "stdout",
       "text": [
        "\n",
        "{'url': 'http://sfbay.craigslist.org/eby/apa/4709907522.html', 'app': 1000, '_id': ObjectId('543b6bb656ddae01724551fd'), 'id': '4709907522', 'desc': u'$2051 / 1br - 735ft\\xb2 - Amazing ground level unit with hardwood floors and HUGE patio!! (fremont / union city / newark)'}"
       ]
      },
      {
       "output_type": "stream",
       "stream": "stdout",
       "text": [
        "\n",
        "{'url': 'http://sfbay.craigslist.org/eby/apa/4709907522.html', 'app': 1000, '_id': ObjectId('543b6bb656ddae01724551fd'), 'id': '4709907522', 'desc': u'$2051 / 1br - 735ft\\xb2 - Amazing ground level unit with hardwood floors and HUGE patio!! (fremont / union city / newark)'}"
       ]
      },
      {
       "output_type": "stream",
       "stream": "stdout",
       "text": [
        "\n",
        "{'url': 'http://sfbay.craigslist.org/eby/apa/4709907522.html', 'app': 1000, '_id': ObjectId('543b6bb656ddae01724551fd'), 'id': '4709907522', 'desc': u'$2051 / 1br - 735ft\\xb2 - Amazing ground level unit with hardwood floors and HUGE patio!! (fremont / union city / newark)'}"
       ]
      },
      {
       "output_type": "stream",
       "stream": "stdout",
       "text": [
        "\n",
        "{'url': 'http://sfbay.craigslist.org/eby/apa/4709907522.html', 'app': 1000, '_id': ObjectId('543b6bb656ddae01724551fd'), 'id': '4709907522', 'desc': u'$2051 / 1br - 735ft\\xb2 - Amazing ground level unit with hardwood floors and HUGE patio!! (fremont / union city / newark)'}"
       ]
      },
      {
       "output_type": "stream",
       "stream": "stdout",
       "text": [
        "\n",
        "{'url': 'http://sfbay.craigslist.org/eby/apa/4709907522.html', 'app': 1000, '_id': ObjectId('543b6bb656ddae01724551fd'), 'id': '4709907522', 'desc': u'$2051 / 1br - 735ft\\xb2 - Amazing ground level unit with hardwood floors and HUGE patio!! (fremont / union city / newark)'}"
       ]
      },
      {
       "output_type": "stream",
       "stream": "stdout",
       "text": [
        "\n",
        "{'url': 'http://sfbay.craigslist.org/eby/apa/4709907522.html', 'app': 1000, '_id': ObjectId('543b6bb656ddae01724551fd'), 'id': '4709907522', 'desc': u'$2051 / 1br - 735ft\\xb2 - Amazing ground level unit with hardwood floors and HUGE patio!! (fremont / union city / newark)'}"
       ]
      },
      {
       "output_type": "stream",
       "stream": "stdout",
       "text": [
        "\n",
        "{'url': 'http://sfbay.craigslist.org/eby/apa/4709907522.html', 'app': 1000, '_id': ObjectId('543b6bb656ddae01724551fd'), 'id': '4709907522', 'desc': u'$2051 / 1br - 735ft\\xb2 - Amazing ground level unit with hardwood floors and HUGE patio!! (fremont / union city / newark)'}"
       ]
      },
      {
       "output_type": "stream",
       "stream": "stdout",
       "text": [
        "\n",
        "{'url': 'http://sfbay.craigslist.org/eby/apa/4709907522.html', 'app': 1000, '_id': ObjectId('543b6bb656ddae01724551fd'), 'id': '4709907522', 'desc': u'$2051 / 1br - 735ft\\xb2 - Amazing ground level unit with hardwood floors and HUGE patio!! (fremont / union city / newark)'}"
       ]
      },
      {
       "output_type": "stream",
       "stream": "stdout",
       "text": [
        "\n",
        "{'url': 'http://sfbay.craigslist.org/eby/apa/4709907522.html', 'app': 1000, '_id': ObjectId('543b6bb656ddae01724551fd'), 'id': '4709907522', 'desc': u'$2051 / 1br - 735ft\\xb2 - Amazing ground level unit with hardwood floors and HUGE patio!! (fremont / union city / newark)'}"
       ]
      },
      {
       "output_type": "stream",
       "stream": "stdout",
       "text": [
        "\n",
        "{'url': 'http://sfbay.craigslist.org/eby/apa/4709907522.html', 'app': 1000, '_id': ObjectId('543b6bb656ddae01724551fd'), 'id': '4709907522', 'desc': u'$2051 / 1br - 735ft\\xb2 - Amazing ground level unit with hardwood floors and HUGE patio!! (fremont / union city / newark)'}"
       ]
      },
      {
       "output_type": "stream",
       "stream": "stdout",
       "text": [
        "\n",
        "{'url': 'http://sfbay.craigslist.org/eby/apa/4709907522.html', 'app': 1000, '_id': ObjectId('543b6bb656ddae01724551fd'), 'id': '4709907522', 'desc': u'$2051 / 1br - 735ft\\xb2 - Amazing ground level unit with hardwood floors and HUGE patio!! (fremont / union city / newark)'}"
       ]
      },
      {
       "output_type": "stream",
       "stream": "stdout",
       "text": [
        "\n",
        "{'url': 'http://sfbay.craigslist.org/eby/apa/4709907522.html', 'app': 1000, '_id': ObjectId('543b6bb656ddae01724551fd'), 'id': '4709907522', 'desc': u'$2051 / 1br - 735ft\\xb2 - Amazing ground level unit with hardwood floors and HUGE patio!! (fremont / union city / newark)'}"
       ]
      },
      {
       "output_type": "stream",
       "stream": "stdout",
       "text": [
        "\n",
        "{'url': 'http://sfbay.craigslist.org/eby/apa/4709907522.html', 'app': 1000, '_id': ObjectId('543b6bb656ddae01724551fd'), 'id': '4709907522', 'desc': u'$2051 / 1br - 735ft\\xb2 - Amazing ground level unit with hardwood floors and HUGE patio!! (fremont / union city / newark)'}"
       ]
      },
      {
       "output_type": "stream",
       "stream": "stdout",
       "text": [
        "\n",
        "{'url': 'http://sfbay.craigslist.org/eby/apa/4709907522.html', 'app': 1000, '_id': ObjectId('543b6bb656ddae01724551fd'), 'id': '4709907522', 'desc': u'$2051 / 1br - 735ft\\xb2 - Amazing ground level unit with hardwood floors and HUGE patio!! (fremont / union city / newark)'}"
       ]
      },
      {
       "output_type": "stream",
       "stream": "stdout",
       "text": [
        "\n",
        "{'url': 'http://sfbay.craigslist.org/eby/apa/4709907522.html', 'app': 1000, '_id': ObjectId('543b6bb656ddae01724551fd'), 'id': '4709907522', 'desc': u'$2051 / 1br - 735ft\\xb2 - Amazing ground level unit with hardwood floors and HUGE patio!! (fremont / union city / newark)'}"
       ]
      },
      {
       "output_type": "stream",
       "stream": "stdout",
       "text": [
        "\n",
        "{'url': 'http://sfbay.craigslist.org/eby/apa/4709907522.html', 'app': 1000, '_id': ObjectId('543b6bb656ddae01724551fd'), 'id': '4709907522', 'desc': u'$2051 / 1br - 735ft\\xb2 - Amazing ground level unit with hardwood floors and HUGE patio!! (fremont / union city / newark)'}"
       ]
      },
      {
       "output_type": "stream",
       "stream": "stdout",
       "text": [
        "\n",
        "{'url': 'http://sfbay.craigslist.org/eby/apa/4709907522.html', 'app': 1000, '_id': ObjectId('543b6bb656ddae01724551fd'), 'id': '4709907522', 'desc': u'$2051 / 1br - 735ft\\xb2 - Amazing ground level unit with hardwood floors and HUGE patio!! (fremont / union city / newark)'}"
       ]
      },
      {
       "output_type": "stream",
       "stream": "stdout",
       "text": [
        "\n",
        "{'url': 'http://sfbay.craigslist.org/eby/apa/4709907522.html', 'app': 1000, '_id': ObjectId('543b6bb656ddae01724551fd'), 'id': '4709907522', 'desc': u'$2051 / 1br - 735ft\\xb2 - Amazing ground level unit with hardwood floors and HUGE patio!! (fremont / union city / newark)'}"
       ]
      },
      {
       "output_type": "stream",
       "stream": "stdout",
       "text": [
        "\n",
        "{'url': 'http://sfbay.craigslist.org/eby/apa/4709907522.html', 'app': 1000, '_id': ObjectId('543b6bb656ddae01724551fd'), 'id': '4709907522', 'desc': u'$2051 / 1br - 735ft\\xb2 - Amazing ground level unit with hardwood floors and HUGE patio!! (fremont / union city / newark)'}"
       ]
      },
      {
       "output_type": "stream",
       "stream": "stdout",
       "text": [
        "\n",
        "{'url': 'http://sfbay.craigslist.org/eby/apa/4709907522.html', 'app': 1000, '_id': ObjectId('543b6bb656ddae01724551fd'), 'id': '4709907522', 'desc': u'$2051 / 1br - 735ft\\xb2 - Amazing ground level unit with hardwood floors and HUGE patio!! (fremont / union city / newark)'}"
       ]
      },
      {
       "output_type": "stream",
       "stream": "stdout",
       "text": [
        "\n",
        "{'url': 'http://sfbay.craigslist.org/eby/apa/4709907522.html', 'app': 1000, '_id': ObjectId('543b6bb656ddae01724551fd'), 'id': '4709907522', 'desc': u'$2051 / 1br - 735ft\\xb2 - Amazing ground level unit with hardwood floors and HUGE patio!! (fremont / union city / newark)'}"
       ]
      },
      {
       "output_type": "stream",
       "stream": "stdout",
       "text": [
        "\n",
        "{'url': 'http://sfbay.craigslist.org/eby/apa/4709907522.html', 'app': 1000, '_id': ObjectId('543b6bb656ddae01724551fd'), 'id': '4709907522', 'desc': u'$2051 / 1br - 735ft\\xb2 - Amazing ground level unit with hardwood floors and HUGE patio!! (fremont / union city / newark)'}"
       ]
      },
      {
       "output_type": "stream",
       "stream": "stdout",
       "text": [
        "\n",
        "{'url': 'http://sfbay.craigslist.org/eby/apa/4709907522.html', 'app': 1000, '_id': ObjectId('543b6bb656ddae01724551fd'), 'id': '4709907522', 'desc': u'$2051 / 1br - 735ft\\xb2 - Amazing ground level unit with hardwood floors and HUGE patio!! (fremont / union city / newark)'}"
       ]
      },
      {
       "output_type": "stream",
       "stream": "stdout",
       "text": [
        "\n",
        "{'url': 'http://sfbay.craigslist.org/eby/apa/4709907522.html', 'app': 1000, '_id': ObjectId('543b6bb656ddae01724551fd'), 'id': '4709907522', 'desc': u'$2051 / 1br - 735ft\\xb2 - Amazing ground level unit with hardwood floors and HUGE patio!! (fremont / union city / newark)'}"
       ]
      },
      {
       "output_type": "stream",
       "stream": "stdout",
       "text": [
        "\n",
        "{'url': 'http://sfbay.craigslist.org/eby/apa/4709907522.html', 'app': 1000, '_id': ObjectId('543b6bb656ddae01724551fd'), 'id': '4709907522', 'desc': u'$2051 / 1br - 735ft\\xb2 - Amazing ground level unit with hardwood floors and HUGE patio!! (fremont / union city / newark)'}"
       ]
      },
      {
       "output_type": "stream",
       "stream": "stdout",
       "text": [
        "\n",
        "{'url': 'http://sfbay.craigslist.org/eby/apa/4709907522.html', 'app': 1000, '_id': ObjectId('543b6bb656ddae01724551fd'), 'id': '4709907522', 'desc': u'$2051 / 1br - 735ft\\xb2 - Amazing ground level unit with hardwood floors and HUGE patio!! (fremont / union city / newark)'}"
       ]
      },
      {
       "output_type": "stream",
       "stream": "stdout",
       "text": [
        "\n",
        "{'url': 'http://sfbay.craigslist.org/eby/apa/4709907522.html', 'app': 1000, '_id': ObjectId('543b6bb656ddae01724551fd'), 'id': '4709907522', 'desc': u'$2051 / 1br - 735ft\\xb2 - Amazing ground level unit with hardwood floors and HUGE patio!! (fremont / union city / newark)'}"
       ]
      },
      {
       "output_type": "stream",
       "stream": "stdout",
       "text": [
        "\n",
        "{'url': 'http://sfbay.craigslist.org/eby/apa/4709907522.html', 'app': 1000, '_id': ObjectId('543b6bb656ddae01724551fd'), 'id': '4709907522', 'desc': u'$2051 / 1br - 735ft\\xb2 - Amazing ground level unit with hardwood floors and HUGE patio!! (fremont / union city / newark)'}"
       ]
      },
      {
       "output_type": "stream",
       "stream": "stdout",
       "text": [
        "\n",
        "{'url': 'http://sfbay.craigslist.org/eby/apa/4709907522.html', 'app': 1000, '_id': ObjectId('543b6bb656ddae01724551fd'), 'id': '4709907522', 'desc': u'$2051 / 1br - 735ft\\xb2 - Amazing ground level unit with hardwood floors and HUGE patio!! (fremont / union city / newark)'}"
       ]
      },
      {
       "output_type": "stream",
       "stream": "stdout",
       "text": [
        "\n",
        "{'url': 'http://sfbay.craigslist.org/eby/apa/4709907522.html', 'app': 1000, '_id': ObjectId('543b6bb656ddae01724551fd'), 'id': '4709907522', 'desc': u'$2051 / 1br - 735ft\\xb2 - Amazing ground level unit with hardwood floors and HUGE patio!! (fremont / union city / newark)'}"
       ]
      },
      {
       "output_type": "stream",
       "stream": "stdout",
       "text": [
        "\n",
        "{'url': 'http://sfbay.craigslist.org/eby/apa/4709907522.html', 'app': 1000, '_id': ObjectId('543b6bb656ddae01724551fd'), 'id': '4709907522', 'desc': u'$2051 / 1br - 735ft\\xb2 - Amazing ground level unit with hardwood floors and HUGE patio!! (fremont / union city / newark)'}"
       ]
      },
      {
       "output_type": "stream",
       "stream": "stdout",
       "text": [
        "\n",
        "{'url': 'http://sfbay.craigslist.org/eby/apa/4709907522.html', 'app': 1000, '_id': ObjectId('543b6bb656ddae01724551fd'), 'id': '4709907522', 'desc': u'$2051 / 1br - 735ft\\xb2 - Amazing ground level unit with hardwood floors and HUGE patio!! (fremont / union city / newark)'}"
       ]
      },
      {
       "output_type": "stream",
       "stream": "stdout",
       "text": [
        "\n",
        "{'url': 'http://sfbay.craigslist.org/eby/apa/4709907522.html', 'app': 1000, '_id': ObjectId('543b6bb656ddae01724551fd'), 'id': '4709907522', 'desc': u'$2051 / 1br - 735ft\\xb2 - Amazing ground level unit with hardwood floors and HUGE patio!! (fremont / union city / newark)'}"
       ]
      },
      {
       "output_type": "stream",
       "stream": "stdout",
       "text": [
        "\n",
        "{'url': 'http://sfbay.craigslist.org/eby/apa/4709907522.html', 'app': 1000, '_id': ObjectId('543b6bb656ddae01724551fd'), 'id': '4709907522', 'desc': u'$2051 / 1br - 735ft\\xb2 - Amazing ground level unit with hardwood floors and HUGE patio!! (fremont / union city / newark)'}"
       ]
      },
      {
       "output_type": "stream",
       "stream": "stdout",
       "text": [
        "\n",
        "{'url': 'http://sfbay.craigslist.org/eby/apa/4709907522.html', 'app': 1000, '_id': ObjectId('543b6bb656ddae01724551fd'), 'id': '4709907522', 'desc': u'$2051 / 1br - 735ft\\xb2 - Amazing ground level unit with hardwood floors and HUGE patio!! (fremont / union city / newark)'}"
       ]
      },
      {
       "output_type": "stream",
       "stream": "stdout",
       "text": [
        "\n",
        "{'url': 'http://sfbay.craigslist.org/eby/apa/4709907522.html', 'app': 1000, '_id': ObjectId('543b6bb656ddae01724551fd'), 'id': '4709907522', 'desc': u'$2051 / 1br - 735ft\\xb2 - Amazing ground level unit with hardwood floors and HUGE patio!! (fremont / union city / newark)'}"
       ]
      },
      {
       "output_type": "stream",
       "stream": "stdout",
       "text": [
        "\n",
        "{'url': 'http://sfbay.craigslist.org/eby/apa/4709907522.html', 'app': 1000, '_id': ObjectId('543b6bb656ddae01724551fd'), 'id': '4709907522', 'desc': u'$2051 / 1br - 735ft\\xb2 - Amazing ground level unit with hardwood floors and HUGE patio!! (fremont / union city / newark)'}"
       ]
      },
      {
       "output_type": "stream",
       "stream": "stdout",
       "text": [
        "\n",
        "{'url': 'http://sfbay.craigslist.org/eby/apa/4709907522.html', 'app': 1000, '_id': ObjectId('543b6bb656ddae01724551fd'), 'id': '4709907522', 'desc': u'$2051 / 1br - 735ft\\xb2 - Amazing ground level unit with hardwood floors and HUGE patio!! (fremont / union city / newark)'}"
       ]
      },
      {
       "output_type": "stream",
       "stream": "stdout",
       "text": [
        "\n",
        "{'url': 'http://sfbay.craigslist.org/eby/apa/4709907522.html', 'app': 1000, '_id': ObjectId('543b6bb656ddae01724551fd'), 'id': '4709907522', 'desc': u'$2051 / 1br - 735ft\\xb2 - Amazing ground level unit with hardwood floors and HUGE patio!! (fremont / union city / newark)'}"
       ]
      },
      {
       "output_type": "stream",
       "stream": "stdout",
       "text": [
        "\n",
        "{'url': 'http://sfbay.craigslist.org/eby/apa/4709907522.html', 'app': 1000, '_id': ObjectId('543b6bb656ddae01724551fd'), 'id': '4709907522', 'desc': u'$2051 / 1br - 735ft\\xb2 - Amazing ground level unit with hardwood floors and HUGE patio!! (fremont / union city / newark)'}"
       ]
      },
      {
       "output_type": "stream",
       "stream": "stdout",
       "text": [
        "\n",
        "{'url': 'http://sfbay.craigslist.org/eby/apa/4709907522.html', 'app': 1000, '_id': ObjectId('543b6bb656ddae01724551fd'), 'id': '4709907522', 'desc': u'$2051 / 1br - 735ft\\xb2 - Amazing ground level unit with hardwood floors and HUGE patio!! (fremont / union city / newark)'}"
       ]
      },
      {
       "output_type": "stream",
       "stream": "stdout",
       "text": [
        "\n",
        "{'url': 'http://sfbay.craigslist.org/eby/apa/4709907522.html', 'app': 1000, '_id': ObjectId('543b6bb656ddae01724551fd'), 'id': '4709907522', 'desc': u'$2051 / 1br - 735ft\\xb2 - Amazing ground level unit with hardwood floors and HUGE patio!! (fremont / union city / newark)'}"
       ]
      },
      {
       "output_type": "stream",
       "stream": "stdout",
       "text": [
        "\n",
        "{'url': 'http://sfbay.craigslist.org/eby/apa/4709907522.html', 'app': 1000, '_id': ObjectId('543b6bb656ddae01724551fd'), 'id': '4709907522', 'desc': u'$2051 / 1br - 735ft\\xb2 - Amazing ground level unit with hardwood floors and HUGE patio!! (fremont / union city / newark)'}"
       ]
      },
      {
       "output_type": "stream",
       "stream": "stdout",
       "text": [
        "\n",
        "{'url': 'http://sfbay.craigslist.org/eby/apa/4709907522.html', 'app': 1000, '_id': ObjectId('543b6bb656ddae01724551fd'), 'id': '4709907522', 'desc': u'$2051 / 1br - 735ft\\xb2 - Amazing ground level unit with hardwood floors and HUGE patio!! (fremont / union city / newark)'}"
       ]
      },
      {
       "output_type": "stream",
       "stream": "stdout",
       "text": [
        "\n",
        "{'url': 'http://sfbay.craigslist.org/eby/apa/4709907522.html', 'app': 1000, '_id': ObjectId('543b6bb656ddae01724551fd'), 'id': '4709907522', 'desc': u'$2051 / 1br - 735ft\\xb2 - Amazing ground level unit with hardwood floors and HUGE patio!! (fremont / union city / newark)'}"
       ]
      },
      {
       "output_type": "stream",
       "stream": "stdout",
       "text": [
        "\n",
        "{'url': 'http://sfbay.craigslist.org/eby/apa/4709907522.html', 'app': 1000, '_id': ObjectId('543b6bb656ddae01724551fd'), 'id': '4709907522', 'desc': u'$2051 / 1br - 735ft\\xb2 - Amazing ground level unit with hardwood floors and HUGE patio!! (fremont / union city / newark)'}"
       ]
      },
      {
       "output_type": "stream",
       "stream": "stdout",
       "text": [
        "\n",
        "{'url': 'http://sfbay.craigslist.org/eby/apa/4709907522.html', 'app': 1000, '_id': ObjectId('543b6bb656ddae01724551fd'), 'id': '4709907522', 'desc': u'$2051 / 1br - 735ft\\xb2 - Amazing ground level unit with hardwood floors and HUGE patio!! (fremont / union city / newark)'}"
       ]
      },
      {
       "output_type": "stream",
       "stream": "stdout",
       "text": [
        "\n",
        "{'url': 'http://sfbay.craigslist.org/eby/apa/4709907522.html', 'app': 1000, '_id': ObjectId('543b6bb656ddae01724551fd'), 'id': '4709907522', 'desc': u'$2051 / 1br - 735ft\\xb2 - Amazing ground level unit with hardwood floors and HUGE patio!! (fremont / union city / newark)'}"
       ]
      },
      {
       "output_type": "stream",
       "stream": "stdout",
       "text": [
        "\n",
        "{'url': 'http://sfbay.craigslist.org/eby/apa/4709907522.html', 'app': 1000, '_id': ObjectId('543b6bb656ddae01724551fd'), 'id': '4709907522', 'desc': u'$2051 / 1br - 735ft\\xb2 - Amazing ground level unit with hardwood floors and HUGE patio!! (fremont / union city / newark)'}"
       ]
      },
      {
       "output_type": "stream",
       "stream": "stdout",
       "text": [
        "\n",
        "{'url': 'http://sfbay.craigslist.org/eby/apa/4709907522.html', 'app': 1000, '_id': ObjectId('543b6bb656ddae01724551fd'), 'id': '4709907522', 'desc': u'$2051 / 1br - 735ft\\xb2 - Amazing ground level unit with hardwood floors and HUGE patio!! (fremont / union city / newark)'}"
       ]
      },
      {
       "output_type": "stream",
       "stream": "stdout",
       "text": [
        "\n",
        "{'url': 'http://sfbay.craigslist.org/eby/apa/4709907522.html', 'app': 1000, '_id': ObjectId('543b6bb656ddae01724551fd'), 'id': '4709907522', 'desc': u'$2051 / 1br - 735ft\\xb2 - Amazing ground level unit with hardwood floors and HUGE patio!! (fremont / union city / newark)'}"
       ]
      },
      {
       "output_type": "stream",
       "stream": "stdout",
       "text": [
        "\n",
        "{'url': 'http://sfbay.craigslist.org/eby/apa/4709907522.html', 'app': 1000, '_id': ObjectId('543b6bb656ddae01724551fd'), 'id': '4709907522', 'desc': u'$2051 / 1br - 735ft\\xb2 - Amazing ground level unit with hardwood floors and HUGE patio!! (fremont / union city / newark)'}"
       ]
      },
      {
       "output_type": "stream",
       "stream": "stdout",
       "text": [
        "\n",
        "{'url': 'http://sfbay.craigslist.org/eby/apa/4709907522.html', 'app': 1000, '_id': ObjectId('543b6bb656ddae01724551fd'), 'id': '4709907522', 'desc': u'$2051 / 1br - 735ft\\xb2 - Amazing ground level unit with hardwood floors and HUGE patio!! (fremont / union city / newark)'}"
       ]
      },
      {
       "output_type": "stream",
       "stream": "stdout",
       "text": [
        "\n",
        "{'url': 'http://sfbay.craigslist.org/eby/apa/4709907522.html', 'app': 1000, '_id': ObjectId('543b6bb656ddae01724551fd'), 'id': '4709907522', 'desc': u'$2051 / 1br - 735ft\\xb2 - Amazing ground level unit with hardwood floors and HUGE patio!! (fremont / union city / newark)'}"
       ]
      },
      {
       "output_type": "stream",
       "stream": "stdout",
       "text": [
        "\n",
        "{'url': 'http://sfbay.craigslist.org/eby/apa/4709907522.html', 'app': 1000, '_id': ObjectId('543b6bb656ddae01724551fd'), 'id': '4709907522', 'desc': u'$2051 / 1br - 735ft\\xb2 - Amazing ground level unit with hardwood floors and HUGE patio!! (fremont / union city / newark)'}"
       ]
      },
      {
       "output_type": "stream",
       "stream": "stdout",
       "text": [
        "\n",
        "{'url': 'http://sfbay.craigslist.org/eby/apa/4709907522.html', 'app': 1000, '_id': ObjectId('543b6bb656ddae01724551fd'), 'id': '4709907522', 'desc': u'$2051 / 1br - 735ft\\xb2 - Amazing ground level unit with hardwood floors and HUGE patio!! (fremont / union city / newark)'}"
       ]
      },
      {
       "output_type": "stream",
       "stream": "stdout",
       "text": [
        "\n",
        "{'url': 'http://sfbay.craigslist.org/eby/apa/4709907522.html', 'app': 1000, '_id': ObjectId('543b6bb656ddae01724551fd'), 'id': '4709907522', 'desc': u'$2051 / 1br - 735ft\\xb2 - Amazing ground level unit with hardwood floors and HUGE patio!! (fremont / union city / newark)'}"
       ]
      },
      {
       "output_type": "stream",
       "stream": "stdout",
       "text": [
        "\n",
        "{'url': 'http://sfbay.craigslist.org/eby/apa/4709907522.html', 'app': 1000, '_id': ObjectId('543b6bb656ddae01724551fd'), 'id': '4709907522', 'desc': u'$2051 / 1br - 735ft\\xb2 - Amazing ground level unit with hardwood floors and HUGE patio!! (fremont / union city / newark)'}"
       ]
      },
      {
       "output_type": "stream",
       "stream": "stdout",
       "text": [
        "\n",
        "{'url': 'http://sfbay.craigslist.org/eby/apa/4709907522.html', 'app': 1000, '_id': ObjectId('543b6bb656ddae01724551fd'), 'id': '4709907522', 'desc': u'$2051 / 1br - 735ft\\xb2 - Amazing ground level unit with hardwood floors and HUGE patio!! (fremont / union city / newark)'}"
       ]
      },
      {
       "output_type": "stream",
       "stream": "stdout",
       "text": [
        "\n",
        "{'url': 'http://sfbay.craigslist.org/eby/apa/4709907522.html', 'app': 1000, '_id': ObjectId('543b6bb656ddae01724551fd'), 'id': '4709907522', 'desc': u'$2051 / 1br - 735ft\\xb2 - Amazing ground level unit with hardwood floors and HUGE patio!! (fremont / union city / newark)'}"
       ]
      },
      {
       "output_type": "stream",
       "stream": "stdout",
       "text": [
        "\n",
        "{'url': 'http://sfbay.craigslist.org/eby/apa/4709907522.html', 'app': 1000, '_id': ObjectId('543b6bb656ddae01724551fd'), 'id': '4709907522', 'desc': u'$2051 / 1br - 735ft\\xb2 - Amazing ground level unit with hardwood floors and HUGE patio!! (fremont / union city / newark)'}"
       ]
      },
      {
       "output_type": "stream",
       "stream": "stdout",
       "text": [
        "\n",
        "{'url': 'http://sfbay.craigslist.org/eby/apa/4709907522.html', 'app': 1000, '_id': ObjectId('543b6bb656ddae01724551fd'), 'id': '4709907522', 'desc': u'$2051 / 1br - 735ft\\xb2 - Amazing ground level unit with hardwood floors and HUGE patio!! (fremont / union city / newark)'}"
       ]
      },
      {
       "output_type": "stream",
       "stream": "stdout",
       "text": [
        "\n",
        "{'url': 'http://sfbay.craigslist.org/eby/apa/4709907522.html', 'app': 1000, '_id': ObjectId('543b6bb656ddae01724551fd'), 'id': '4709907522', 'desc': u'$2051 / 1br - 735ft\\xb2 - Amazing ground level unit with hardwood floors and HUGE patio!! (fremont / union city / newark)'}"
       ]
      },
      {
       "output_type": "stream",
       "stream": "stdout",
       "text": [
        "\n",
        "{'url': 'http://sfbay.craigslist.org/eby/apa/4709907522.html', 'app': 1000, '_id': ObjectId('543b6bb656ddae01724551fd'), 'id': '4709907522', 'desc': u'$2051 / 1br - 735ft\\xb2 - Amazing ground level unit with hardwood floors and HUGE patio!! (fremont / union city / newark)'}"
       ]
      },
      {
       "output_type": "stream",
       "stream": "stdout",
       "text": [
        "\n",
        "{'url': 'http://sfbay.craigslist.org/eby/apa/4709907522.html', 'app': 1000, '_id': ObjectId('543b6bb656ddae01724551fd'), 'id': '4709907522', 'desc': u'$2051 / 1br - 735ft\\xb2 - Amazing ground level unit with hardwood floors and HUGE patio!! (fremont / union city / newark)'}"
       ]
      },
      {
       "output_type": "stream",
       "stream": "stdout",
       "text": [
        "\n",
        "{'url': 'http://sfbay.craigslist.org/eby/apa/4709907522.html', 'app': 1000, '_id': ObjectId('543b6bb656ddae01724551fd'), 'id': '4709907522', 'desc': u'$2051 / 1br - 735ft\\xb2 - Amazing ground level unit with hardwood floors and HUGE patio!! (fremont / union city / newark)'}"
       ]
      },
      {
       "output_type": "stream",
       "stream": "stdout",
       "text": [
        "\n",
        "{'url': 'http://sfbay.craigslist.org/eby/apa/4709907522.html', 'app': 1000, '_id': ObjectId('543b6bb656ddae01724551fd'), 'id': '4709907522', 'desc': u'$2051 / 1br - 735ft\\xb2 - Amazing ground level unit with hardwood floors and HUGE patio!! (fremont / union city / newark)'}"
       ]
      },
      {
       "output_type": "stream",
       "stream": "stdout",
       "text": [
        "\n",
        "{'url': 'http://sfbay.craigslist.org/eby/apa/4709907522.html', 'app': 1000, '_id': ObjectId('543b6bb656ddae01724551fd'), 'id': '4709907522', 'desc': u'$2051 / 1br - 735ft\\xb2 - Amazing ground level unit with hardwood floors and HUGE patio!! (fremont / union city / newark)'}"
       ]
      },
      {
       "output_type": "stream",
       "stream": "stdout",
       "text": [
        "\n",
        "{'url': 'http://sfbay.craigslist.org/eby/apa/4709907522.html', 'app': 1000, '_id': ObjectId('543b6bb656ddae01724551fd'), 'id': '4709907522', 'desc': u'$2051 / 1br - 735ft\\xb2 - Amazing ground level unit with hardwood floors and HUGE patio!! (fremont / union city / newark)'}"
       ]
      },
      {
       "output_type": "stream",
       "stream": "stdout",
       "text": [
        "\n",
        "{'url': 'http://sfbay.craigslist.org/eby/apa/4709907522.html', 'app': 1000, '_id': ObjectId('543b6bb656ddae01724551fd'), 'id': '4709907522', 'desc': u'$2051 / 1br - 735ft\\xb2 - Amazing ground level unit with hardwood floors and HUGE patio!! (fremont / union city / newark)'}"
       ]
      },
      {
       "output_type": "stream",
       "stream": "stdout",
       "text": [
        "\n",
        "{'url': 'http://sfbay.craigslist.org/eby/apa/4709907522.html', 'app': 1000, '_id': ObjectId('543b6bb656ddae01724551fd'), 'id': '4709907522', 'desc': u'$2051 / 1br - 735ft\\xb2 - Amazing ground level unit with hardwood floors and HUGE patio!! (fremont / union city / newark)'}"
       ]
      },
      {
       "output_type": "stream",
       "stream": "stdout",
       "text": [
        "\n",
        "{'url': 'http://sfbay.craigslist.org/eby/apa/4709907522.html', 'app': 1000, '_id': ObjectId('543b6bb656ddae01724551fd'), 'id': '4709907522', 'desc': u'$2051 / 1br - 735ft\\xb2 - Amazing ground level unit with hardwood floors and HUGE patio!! (fremont / union city / newark)'}"
       ]
      },
      {
       "output_type": "stream",
       "stream": "stdout",
       "text": [
        "\n",
        "{'url': 'http://sfbay.craigslist.org/eby/apa/4709907522.html', 'app': 1000, '_id': ObjectId('543b6bb656ddae01724551fd'), 'id': '4709907522', 'desc': u'$2051 / 1br - 735ft\\xb2 - Amazing ground level unit with hardwood floors and HUGE patio!! (fremont / union city / newark)'}"
       ]
      },
      {
       "output_type": "stream",
       "stream": "stdout",
       "text": [
        "\n",
        "{'url': 'http://sfbay.craigslist.org/eby/apa/4709907522.html', 'app': 1000, '_id': ObjectId('543b6bb656ddae01724551fd'), 'id': '4709907522', 'desc': u'$2051 / 1br - 735ft\\xb2 - Amazing ground level unit with hardwood floors and HUGE patio!! (fremont / union city / newark)'}"
       ]
      },
      {
       "output_type": "stream",
       "stream": "stdout",
       "text": [
        "\n",
        "{'url': 'http://sfbay.craigslist.org/eby/apa/4709907522.html', 'app': 1000, '_id': ObjectId('543b6bb656ddae01724551fd'), 'id': '4709907522', 'desc': u'$2051 / 1br - 735ft\\xb2 - Amazing ground level unit with hardwood floors and HUGE patio!! (fremont / union city / newark)'}"
       ]
      },
      {
       "output_type": "stream",
       "stream": "stdout",
       "text": [
        "\n",
        "{'url': 'http://sfbay.craigslist.org/eby/apa/4709907522.html', 'app': 1000, '_id': ObjectId('543b6bb656ddae01724551fd'), 'id': '4709907522', 'desc': u'$2051 / 1br - 735ft\\xb2 - Amazing ground level unit with hardwood floors and HUGE patio!! (fremont / union city / newark)'}"
       ]
      },
      {
       "output_type": "stream",
       "stream": "stdout",
       "text": [
        "\n",
        "{'url': 'http://sfbay.craigslist.org/eby/apa/4709907522.html', 'app': 1000, '_id': ObjectId('543b6bb656ddae01724551fd'), 'id': '4709907522', 'desc': u'$2051 / 1br - 735ft\\xb2 - Amazing ground level unit with hardwood floors and HUGE patio!! (fremont / union city / newark)'}"
       ]
      },
      {
       "output_type": "stream",
       "stream": "stdout",
       "text": [
        "\n",
        "{'url': 'http://sfbay.craigslist.org/eby/apa/4709907522.html', 'app': 1000, '_id': ObjectId('543b6bb656ddae01724551fd'), 'id': '4709907522', 'desc': u'$2051 / 1br - 735ft\\xb2 - Amazing ground level unit with hardwood floors and HUGE patio!! (fremont / union city / newark)'}"
       ]
      },
      {
       "output_type": "stream",
       "stream": "stdout",
       "text": [
        "\n",
        "{'url': 'http://sfbay.craigslist.org/eby/apa/4709907522.html', 'app': 1000, '_id': ObjectId('543b6bb656ddae01724551fd'), 'id': '4709907522', 'desc': u'$2051 / 1br - 735ft\\xb2 - Amazing ground level unit with hardwood floors and HUGE patio!! (fremont / union city / newark)'}"
       ]
      },
      {
       "output_type": "stream",
       "stream": "stdout",
       "text": [
        "\n",
        "{'url': 'http://sfbay.craigslist.org/eby/apa/4709907522.html', 'app': 1000, '_id': ObjectId('543b6bb656ddae01724551fd'), 'id': '4709907522', 'desc': u'$2051 / 1br - 735ft\\xb2 - Amazing ground level unit with hardwood floors and HUGE patio!! (fremont / union city / newark)'}"
       ]
      },
      {
       "output_type": "stream",
       "stream": "stdout",
       "text": [
        "\n",
        "{'url': 'http://sfbay.craigslist.org/eby/apa/4709907522.html', 'app': 1000, '_id': ObjectId('543b6bb656ddae01724551fd'), 'id': '4709907522', 'desc': u'$2051 / 1br - 735ft\\xb2 - Amazing ground level unit with hardwood floors and HUGE patio!! (fremont / union city / newark)'}"
       ]
      },
      {
       "output_type": "stream",
       "stream": "stdout",
       "text": [
        "\n",
        "{'url': 'http://sfbay.craigslist.org/eby/apa/4709907522.html', 'app': 1000, '_id': ObjectId('543b6bb656ddae01724551fd'), 'id': '4709907522', 'desc': u'$2051 / 1br - 735ft\\xb2 - Amazing ground level unit with hardwood floors and HUGE patio!! (fremont / union city / newark)'}"
       ]
      },
      {
       "output_type": "stream",
       "stream": "stdout",
       "text": [
        "\n",
        "{'url': 'http://sfbay.craigslist.org/eby/apa/4709907522.html', 'app': 1000, '_id': ObjectId('543b6bb656ddae01724551fd'), 'id': '4709907522', 'desc': u'$2051 / 1br - 735ft\\xb2 - Amazing ground level unit with hardwood floors and HUGE patio!! (fremont / union city / newark)'}"
       ]
      },
      {
       "output_type": "stream",
       "stream": "stdout",
       "text": [
        "\n",
        "{'url': 'http://sfbay.craigslist.org/eby/apa/4709907522.html', 'app': 1000, '_id': ObjectId('543b6bb656ddae01724551fd'), 'id': '4709907522', 'desc': u'$2051 / 1br - 735ft\\xb2 - Amazing ground level unit with hardwood floors and HUGE patio!! (fremont / union city / newark)'}"
       ]
      },
      {
       "output_type": "stream",
       "stream": "stdout",
       "text": [
        "\n",
        "{'url': 'http://sfbay.craigslist.org/eby/apa/4709907522.html', 'app': 1000, '_id': ObjectId('543b6bb656ddae01724551fd'), 'id': '4709907522', 'desc': u'$2051 / 1br - 735ft\\xb2 - Amazing ground level unit with hardwood floors and HUGE patio!! (fremont / union city / newark)'}"
       ]
      },
      {
       "output_type": "stream",
       "stream": "stdout",
       "text": [
        "\n",
        "{'url': 'http://sfbay.craigslist.org/eby/apa/4709907522.html', 'app': 1000, '_id': ObjectId('543b6bb656ddae01724551fd'), 'id': '4709907522', 'desc': u'$2051 / 1br - 735ft\\xb2 - Amazing ground level unit with hardwood floors and HUGE patio!! (fremont / union city / newark)'}"
       ]
      },
      {
       "output_type": "stream",
       "stream": "stdout",
       "text": [
        "\n",
        "{'url': 'http://sfbay.craigslist.org/eby/apa/4709907522.html', 'app': 1000, '_id': ObjectId('543b6bb656ddae01724551fd'), 'id': '4709907522', 'desc': u'$2051 / 1br - 735ft\\xb2 - Amazing ground level unit with hardwood floors and HUGE patio!! (fremont / union city / newark)'}"
       ]
      },
      {
       "output_type": "stream",
       "stream": "stdout",
       "text": [
        "\n",
        "{'url': 'http://sfbay.craigslist.org/eby/apa/4709907522.html', 'app': 1000, '_id': ObjectId('543b6bb656ddae01724551fd'), 'id': '4709907522', 'desc': u'$2051 / 1br - 735ft\\xb2 - Amazing ground level unit with hardwood floors and HUGE patio!! (fremont / union city / newark)'}"
       ]
      },
      {
       "output_type": "stream",
       "stream": "stdout",
       "text": [
        "\n",
        "{'url': 'http://sfbay.craigslist.org/eby/apa/4709907522.html', 'app': 1000, '_id': ObjectId('543b6bb656ddae01724551fd'), 'id': '4709907522', 'desc': u'$2051 / 1br - 735ft\\xb2 - Amazing ground level unit with hardwood floors and HUGE patio!! (fremont / union city / newark)'}"
       ]
      },
      {
       "output_type": "stream",
       "stream": "stdout",
       "text": [
        "\n",
        "{'url': 'http://sfbay.craigslist.org/eby/apa/4709907522.html', 'app': 1000, '_id': ObjectId('543b6bb656ddae01724551fd'), 'id': '4709907522', 'desc': u'$2051 / 1br - 735ft\\xb2 - Amazing ground level unit with hardwood floors and HUGE patio!! (fremont / union city / newark)'}"
       ]
      },
      {
       "output_type": "stream",
       "stream": "stdout",
       "text": [
        "\n",
        "{'url': 'http://sfbay.craigslist.org/eby/apa/4709907522.html', 'app': 1000, '_id': ObjectId('543b6bb656ddae01724551fd'), 'id': '4709907522', 'desc': u'$2051 / 1br - 735ft\\xb2 - Amazing ground level unit with hardwood floors and HUGE patio!! (fremont / union city / newark)'}"
       ]
      },
      {
       "output_type": "stream",
       "stream": "stdout",
       "text": [
        "\n",
        "{'url': 'http://sfbay.craigslist.org/eby/apa/4709907522.html', 'app': 1000, '_id': ObjectId('543b6bb656ddae01724551fd'), 'id': '4709907522', 'desc': u'$2051 / 1br - 735ft\\xb2 - Amazing ground level unit with hardwood floors and HUGE patio!! (fremont / union city / newark)'}"
       ]
      },
      {
       "output_type": "stream",
       "stream": "stdout",
       "text": [
        "\n",
        "{'url': 'http://sfbay.craigslist.org/eby/apa/4709907522.html', 'app': 1000, '_id': ObjectId('543b6bb656ddae01724551fd'), 'id': '4709907522', 'desc': u'$2051 / 1br - 735ft\\xb2 - Amazing ground level unit with hardwood floors and HUGE patio!! (fremont / union city / newark)'}"
       ]
      },
      {
       "output_type": "stream",
       "stream": "stdout",
       "text": [
        "\n",
        "{'url': 'http://sfbay.craigslist.org/eby/apa/4709907522.html', 'app': 1000, '_id': ObjectId('543b6bb656ddae01724551fd'), 'id': '4709907522', 'desc': u'$2051 / 1br - 735ft\\xb2 - Amazing ground level unit with hardwood floors and HUGE patio!! (fremont / union city / newark)'}"
       ]
      },
      {
       "output_type": "stream",
       "stream": "stdout",
       "text": [
        "\n",
        "{'url': 'http://sfbay.craigslist.org/eby/apa/4709907522.html', 'app': 1000, '_id': ObjectId('543b6bb656ddae01724551fd'), 'id': '4709907522', 'desc': u'$2051 / 1br - 735ft\\xb2 - Amazing ground level unit with hardwood floors and HUGE patio!! (fremont / union city / newark)'}"
       ]
      },
      {
       "output_type": "stream",
       "stream": "stdout",
       "text": [
        "\n",
        "{'url': 'http://sfbay.craigslist.org/eby/apa/4709907522.html', 'app': 1000, '_id': ObjectId('543b6bb656ddae01724551fd'), 'id': '4709907522', 'desc': u'$2051 / 1br - 735ft\\xb2 - Amazing ground level unit with hardwood floors and HUGE patio!! (fremont / union city / newark)'}"
       ]
      },
      {
       "output_type": "stream",
       "stream": "stdout",
       "text": [
        "\n",
        "{'url': 'http://sfbay.craigslist.org/eby/apa/4709907522.html', 'app': 1000, '_id': ObjectId('543b6bb656ddae01724551fd'), 'id': '4709907522', 'desc': u'$2051 / 1br - 735ft\\xb2 - Amazing ground level unit with hardwood floors and HUGE patio!! (fremont / union city / newark)'}"
       ]
      },
      {
       "output_type": "stream",
       "stream": "stdout",
       "text": [
        "\n",
        "{'url': 'http://sfbay.craigslist.org/eby/apa/4709907522.html', 'app': 1000, '_id': ObjectId('543b6bb656ddae01724551fd'), 'id': '4709907522', 'desc': u'$2051 / 1br - 735ft\\xb2 - Amazing ground level unit with hardwood floors and HUGE patio!! (fremont / union city / newark)'}"
       ]
      },
      {
       "output_type": "stream",
       "stream": "stdout",
       "text": [
        "\n",
        "{'url': 'http://sfbay.craigslist.org/eby/apa/4709907522.html', 'app': 1000, '_id': ObjectId('543b6bb656ddae01724551fd'), 'id': '4709907522', 'desc': u'$2051 / 1br - 735ft\\xb2 - Amazing ground level unit with hardwood floors and HUGE patio!! (fremont / union city / newark)'}"
       ]
      },
      {
       "output_type": "stream",
       "stream": "stdout",
       "text": [
        "\n",
        "{'url': 'http://sfbay.craigslist.org/eby/apa/4709907522.html', 'app': 1000, '_id': ObjectId('543b6bb656ddae01724551fd'), 'id': '4709907522', 'desc': u'$2051 / 1br - 735ft\\xb2 - Amazing ground level unit with hardwood floors and HUGE patio!! (fremont / union city / newark)'}"
       ]
      },
      {
       "output_type": "stream",
       "stream": "stdout",
       "text": [
        "\n",
        "{'url': 'http://sfbay.craigslist.org/eby/apa/4709907522.html', 'app': 1000, '_id': ObjectId('543b6bb656ddae01724551fd'), 'id': '4709907522', 'desc': u'$2051 / 1br - 735ft\\xb2 - Amazing ground level unit with hardwood floors and HUGE patio!! (fremont / union city / newark)'}"
       ]
      },
      {
       "output_type": "stream",
       "stream": "stdout",
       "text": [
        "\n",
        "{'url': 'http://sfbay.craigslist.org/eby/apa/4709907522.html', 'app': 1000, '_id': ObjectId('543b6bb656ddae01724551fd'), 'id': '4709907522', 'desc': u'$2051 / 1br - 735ft\\xb2 - Amazing ground level unit with hardwood floors and HUGE patio!! (fremont / union city / newark)'}"
       ]
      },
      {
       "output_type": "stream",
       "stream": "stdout",
       "text": [
        "\n",
        "{'url': 'http://sfbay.craigslist.org/eby/apa/4709907522.html', 'app': 1000, '_id': ObjectId('543b6bb656ddae01724551fd'), 'id': '4709907522', 'desc': u'$2051 / 1br - 735ft\\xb2 - Amazing ground level unit with hardwood floors and HUGE patio!! (fremont / union city / newark)'}"
       ]
      },
      {
       "output_type": "stream",
       "stream": "stdout",
       "text": [
        "\n",
        "{'url': 'http://sfbay.craigslist.org/eby/apa/4709907522.html', 'app': 1000, '_id': ObjectId('543b6bb656ddae01724551fd'), 'id': '4709907522', 'desc': u'$2051 / 1br - 735ft\\xb2 - Amazing ground level unit with hardwood floors and HUGE patio!! (fremont / union city / newark)'}"
       ]
      },
      {
       "output_type": "stream",
       "stream": "stdout",
       "text": [
        "\n",
        "{'url': 'http://sfbay.craigslist.org/eby/apa/4709907522.html', 'app': 1000, '_id': ObjectId('543b6bb656ddae01724551fd'), 'id': '4709907522', 'desc': u'$2051 / 1br - 735ft\\xb2 - Amazing ground level unit with hardwood floors and HUGE patio!! (fremont / union city / newark)'}"
       ]
      },
      {
       "output_type": "stream",
       "stream": "stdout",
       "text": [
        "\n",
        "{'url': 'http://sfbay.craigslist.org/eby/apa/4709907522.html', 'app': 1000, '_id': ObjectId('543b6bb656ddae01724551fd'), 'id': '4709907522', 'desc': u'$2051 / 1br - 735ft\\xb2 - Amazing ground level unit with hardwood floors and HUGE patio!! (fremont / union city / newark)'}"
       ]
      },
      {
       "output_type": "stream",
       "stream": "stdout",
       "text": [
        "\n",
        "{'url': 'http://sfbay.craigslist.org/eby/apa/4709907522.html', 'app': 1000, '_id': ObjectId('543b6bb656ddae01724551fd'), 'id': '4709907522', 'desc': u'$2051 / 1br - 735ft\\xb2 - Amazing ground level unit with hardwood floors and HUGE patio!! (fremont / union city / newark)'}"
       ]
      },
      {
       "output_type": "stream",
       "stream": "stdout",
       "text": [
        "\n",
        "{'url': 'http://sfbay.craigslist.org/eby/apa/4709907522.html', 'app': 1000, '_id': ObjectId('543b6bb656ddae01724551fd'), 'id': '4709907522', 'desc': u'$2051 / 1br - 735ft\\xb2 - Amazing ground level unit with hardwood floors and HUGE patio!! (fremont / union city / newark)'}"
       ]
      },
      {
       "output_type": "stream",
       "stream": "stdout",
       "text": [
        "\n",
        "{'url': 'http://sfbay.craigslist.org/eby/apa/4709907522.html', 'app': 1000, '_id': ObjectId('543b6bb656ddae01724551fd'), 'id': '4709907522', 'desc': u'$2051 / 1br - 735ft\\xb2 - Amazing ground level unit with hardwood floors and HUGE patio!! (fremont / union city / newark)'}"
       ]
      },
      {
       "output_type": "stream",
       "stream": "stdout",
       "text": [
        "\n",
        "{'url': 'http://sfbay.craigslist.org/eby/apa/4709907522.html', 'app': 1000, '_id': ObjectId('543b6bb656ddae01724551fd'), 'id': '4709907522', 'desc': u'$2051 / 1br - 735ft\\xb2 - Amazing ground level unit with hardwood floors and HUGE patio!! (fremont / union city / newark)'}"
       ]
      },
      {
       "output_type": "stream",
       "stream": "stdout",
       "text": [
        "\n",
        "{'url': 'http://sfbay.craigslist.org/eby/apa/4709907522.html', 'app': 1000, '_id': ObjectId('543b6bb656ddae01724551fd'), 'id': '4709907522', 'desc': u'$2051 / 1br - 735ft\\xb2 - Amazing ground level unit with hardwood floors and HUGE patio!! (fremont / union city / newark)'}"
       ]
      },
      {
       "output_type": "stream",
       "stream": "stdout",
       "text": [
        "\n",
        "{'url': 'http://sfbay.craigslist.org/eby/apa/4709907522.html', 'app': 1000, '_id': ObjectId('543b6bb656ddae01724551fd'), 'id': '4709907522', 'desc': u'$2051 / 1br - 735ft\\xb2 - Amazing ground level unit with hardwood floors and HUGE patio!! (fremont / union city / newark)'}"
       ]
      },
      {
       "output_type": "stream",
       "stream": "stdout",
       "text": [
        "\n",
        "{'url': 'http://sfbay.craigslist.org/eby/apa/4709907522.html', 'app': 1000, '_id': ObjectId('543b6bb656ddae01724551fd'), 'id': '4709907522', 'desc': u'$2051 / 1br - 735ft\\xb2 - Amazing ground level unit with hardwood floors and HUGE patio!! (fremont / union city / newark)'}"
       ]
      },
      {
       "output_type": "stream",
       "stream": "stdout",
       "text": [
        "\n",
        "{'url': 'http://sfbay.craigslist.org/eby/apa/4709907522.html', 'app': 1000, '_id': ObjectId('543b6bb656ddae01724551fd'), 'id': '4709907522', 'desc': u'$2051 / 1br - 735ft\\xb2 - Amazing ground level unit with hardwood floors and HUGE patio!! (fremont / union city / newark)'}"
       ]
      },
      {
       "output_type": "stream",
       "stream": "stdout",
       "text": [
        "\n",
        "{'url': 'http://sfbay.craigslist.org/eby/apa/4709907522.html', 'app': 1000, '_id': ObjectId('543b6bb656ddae01724551fd'), 'id': '4709907522', 'desc': u'$2051 / 1br - 735ft\\xb2 - Amazing ground level unit with hardwood floors and HUGE patio!! (fremont / union city / newark)'}"
       ]
      },
      {
       "output_type": "stream",
       "stream": "stdout",
       "text": [
        "\n",
        "{'url': 'http://sfbay.craigslist.org/eby/apa/4709907522.html', 'app': 1000, '_id': ObjectId('543b6bb656ddae01724551fd'), 'id': '4709907522', 'desc': u'$2051 / 1br - 735ft\\xb2 - Amazing ground level unit with hardwood floors and HUGE patio!! (fremont / union city / newark)'}"
       ]
      },
      {
       "output_type": "stream",
       "stream": "stdout",
       "text": [
        "\n",
        "{'url': 'http://sfbay.craigslist.org/eby/apa/4709907522.html', 'app': 1000, '_id': ObjectId('543b6bb656ddae01724551fd'), 'id': '4709907522', 'desc': u'$2051 / 1br - 735ft\\xb2 - Amazing ground level unit with hardwood floors and HUGE patio!! (fremont / union city / newark)'}"
       ]
      },
      {
       "output_type": "stream",
       "stream": "stdout",
       "text": [
        "\n",
        "{'url': 'http://sfbay.craigslist.org/eby/apa/4709907522.html', 'app': 1000, '_id': ObjectId('543b6bb656ddae01724551fd'), 'id': '4709907522', 'desc': u'$2051 / 1br - 735ft\\xb2 - Amazing ground level unit with hardwood floors and HUGE patio!! (fremont / union city / newark)'}"
       ]
      },
      {
       "output_type": "stream",
       "stream": "stdout",
       "text": [
        "\n",
        "{'url': 'http://sfbay.craigslist.org/eby/apa/4709907522.html', 'app': 1000, '_id': ObjectId('543b6bb656ddae01724551fd'), 'id': '4709907522', 'desc': u'$2051 / 1br - 735ft\\xb2 - Amazing ground level unit with hardwood floors and HUGE patio!! (fremont / union city / newark)'}"
       ]
      },
      {
       "output_type": "stream",
       "stream": "stdout",
       "text": [
        "\n",
        "{'url': 'http://sfbay.craigslist.org/eby/apa/4709907522.html', 'app': 1000, '_id': ObjectId('543b6bb656ddae01724551fd'), 'id': '4709907522', 'desc': u'$2051 / 1br - 735ft\\xb2 - Amazing ground level unit with hardwood floors and HUGE patio!! (fremont / union city / newark)'}"
       ]
      },
      {
       "output_type": "stream",
       "stream": "stdout",
       "text": [
        "\n",
        "{'url': 'http://sfbay.craigslist.org/eby/apa/4709907522.html', 'app': 1000, '_id': ObjectId('543b6bb656ddae01724551fd'), 'id': '4709907522', 'desc': u'$2051 / 1br - 735ft\\xb2 - Amazing ground level unit with hardwood floors and HUGE patio!! (fremont / union city / newark)'}"
       ]
      },
      {
       "output_type": "stream",
       "stream": "stdout",
       "text": [
        "\n",
        "{'url': 'http://sfbay.craigslist.org/eby/apa/4709907522.html', 'app': 1000, '_id': ObjectId('543b6bb656ddae01724551fd'), 'id': '4709907522', 'desc': u'$2051 / 1br - 735ft\\xb2 - Amazing ground level unit with hardwood floors and HUGE patio!! (fremont / union city / newark)'}"
       ]
      },
      {
       "output_type": "stream",
       "stream": "stdout",
       "text": [
        "\n",
        "{'url': 'http://sfbay.craigslist.org/eby/apa/4709907522.html', 'app': 1000, '_id': ObjectId('543b6bb656ddae01724551fd'), 'id': '4709907522', 'desc': u'$2051 / 1br - 735ft\\xb2 - Amazing ground level unit with hardwood floors and HUGE patio!! (fremont / union city / newark)'}"
       ]
      },
      {
       "output_type": "stream",
       "stream": "stdout",
       "text": [
        "\n",
        "{'url': 'http://sfbay.craigslist.org/eby/apa/4709907522.html', 'app': 1000, '_id': ObjectId('543b6bb656ddae01724551fd'), 'id': '4709907522', 'desc': u'$2051 / 1br - 735ft\\xb2 - Amazing ground level unit with hardwood floors and HUGE patio!! (fremont / union city / newark)'}"
       ]
      },
      {
       "output_type": "stream",
       "stream": "stdout",
       "text": [
        "\n",
        "{'url': 'http://sfbay.craigslist.org/eby/apa/4709907522.html', 'app': 1000, '_id': ObjectId('543b6bb656ddae01724551fd'), 'id': '4709907522', 'desc': u'$2051 / 1br - 735ft\\xb2 - Amazing ground level unit with hardwood floors and HUGE patio!! (fremont / union city / newark)'}"
       ]
      },
      {
       "output_type": "stream",
       "stream": "stdout",
       "text": [
        "\n",
        "{'url': 'http://sfbay.craigslist.org/eby/apa/4709907522.html', 'app': 1000, '_id': ObjectId('543b6bb656ddae01724551fd'), 'id': '4709907522', 'desc': u'$2051 / 1br - 735ft\\xb2 - Amazing ground level unit with hardwood floors and HUGE patio!! (fremont / union city / newark)'}"
       ]
      },
      {
       "output_type": "stream",
       "stream": "stdout",
       "text": [
        "\n",
        "{'url': 'http://sfbay.craigslist.org/eby/apa/4709907522.html', 'app': 1000, '_id': ObjectId('543b6bb656ddae01724551fd'), 'id': '4709907522', 'desc': u'$2051 / 1br - 735ft\\xb2 - Amazing ground level unit with hardwood floors and HUGE patio!! (fremont / union city / newark)'}"
       ]
      },
      {
       "output_type": "stream",
       "stream": "stdout",
       "text": [
        "\n",
        "{'url': 'http://sfbay.craigslist.org/eby/apa/4709907522.html', 'app': 1000, '_id': ObjectId('543b6bb656ddae01724551fd'), 'id': '4709907522', 'desc': u'$2051 / 1br - 735ft\\xb2 - Amazing ground level unit with hardwood floors and HUGE patio!! (fremont / union city / newark)'}"
       ]
      },
      {
       "output_type": "stream",
       "stream": "stdout",
       "text": [
        "\n",
        "{'url': 'http://sfbay.craigslist.org/eby/apa/4709907522.html', 'app': 1000, '_id': ObjectId('543b6bb656ddae01724551fd'), 'id': '4709907522', 'desc': u'$2051 / 1br - 735ft\\xb2 - Amazing ground level unit with hardwood floors and HUGE patio!! (fremont / union city / newark)'}"
       ]
      },
      {
       "output_type": "stream",
       "stream": "stdout",
       "text": [
        "\n",
        "{'url': 'http://sfbay.craigslist.org/eby/apa/4709907522.html', 'app': 1000, '_id': ObjectId('543b6bb656ddae01724551fd'), 'id': '4709907522', 'desc': u'$2051 / 1br - 735ft\\xb2 - Amazing ground level unit with hardwood floors and HUGE patio!! (fremont / union city / newark)'}"
       ]
      },
      {
       "output_type": "stream",
       "stream": "stdout",
       "text": [
        "\n",
        "{'url': 'http://sfbay.craigslist.org/eby/apa/4709907522.html', 'app': 1000, '_id': ObjectId('543b6bb656ddae01724551fd'), 'id': '4709907522', 'desc': u'$2051 / 1br - 735ft\\xb2 - Amazing ground level unit with hardwood floors and HUGE patio!! (fremont / union city / newark)'}"
       ]
      },
      {
       "output_type": "stream",
       "stream": "stdout",
       "text": [
        "\n",
        "{'url': 'http://sfbay.craigslist.org/eby/apa/4709907522.html', 'app': 1000, '_id': ObjectId('543b6bb656ddae01724551fd'), 'id': '4709907522', 'desc': u'$2051 / 1br - 735ft\\xb2 - Amazing ground level unit with hardwood floors and HUGE patio!! (fremont / union city / newark)'}"
       ]
      },
      {
       "output_type": "stream",
       "stream": "stdout",
       "text": [
        "\n",
        "{'url': 'http://sfbay.craigslist.org/eby/apa/4709907522.html', 'app': 1000, '_id': ObjectId('543b6bb656ddae01724551fd'), 'id': '4709907522', 'desc': u'$2051 / 1br - 735ft\\xb2 - Amazing ground level unit with hardwood floors and HUGE patio!! (fremont / union city / newark)'}"
       ]
      },
      {
       "output_type": "stream",
       "stream": "stdout",
       "text": [
        "\n",
        "{'url': 'http://sfbay.craigslist.org/eby/apa/4709907522.html', 'app': 1000, '_id': ObjectId('543b6bb656ddae01724551fd'), 'id': '4709907522', 'desc': u'$2051 / 1br - 735ft\\xb2 - Amazing ground level unit with hardwood floors and HUGE patio!! (fremont / union city / newark)'}"
       ]
      },
      {
       "output_type": "stream",
       "stream": "stdout",
       "text": [
        "\n",
        "{'url': 'http://sfbay.craigslist.org/eby/apa/4709907522.html', 'app': 1000, '_id': ObjectId('543b6bb656ddae01724551fd'), 'id': '4709907522', 'desc': u'$2051 / 1br - 735ft\\xb2 - Amazing ground level unit with hardwood floors and HUGE patio!! (fremont / union city / newark)'}"
       ]
      },
      {
       "output_type": "stream",
       "stream": "stdout",
       "text": [
        "\n",
        "{'url': 'http://sfbay.craigslist.org/eby/apa/4709907522.html', 'app': 1000, '_id': ObjectId('543b6bb656ddae01724551fd'), 'id': '4709907522', 'desc': u'$2051 / 1br - 735ft\\xb2 - Amazing ground level unit with hardwood floors and HUGE patio!! (fremont / union city / newark)'}"
       ]
      },
      {
       "output_type": "stream",
       "stream": "stdout",
       "text": [
        "\n",
        "{'url': 'http://sfbay.craigslist.org/eby/apa/4709907522.html', 'app': 1000, '_id': ObjectId('543b6bb656ddae01724551fd'), 'id': '4709907522', 'desc': u'$2051 / 1br - 735ft\\xb2 - Amazing ground level unit with hardwood floors and HUGE patio!! (fremont / union city / newark)'}"
       ]
      },
      {
       "output_type": "stream",
       "stream": "stdout",
       "text": [
        "\n",
        "{'url': 'http://sfbay.craigslist.org/eby/apa/4709907522.html', 'app': 1000, '_id': ObjectId('543b6bb656ddae01724551fd'), 'id': '4709907522', 'desc': u'$2051 / 1br - 735ft\\xb2 - Amazing ground level unit with hardwood floors and HUGE patio!! (fremont / union city / newark)'}"
       ]
      },
      {
       "output_type": "stream",
       "stream": "stdout",
       "text": [
        "\n",
        "{'url': 'http://sfbay.craigslist.org/eby/apa/4709907522.html', 'app': 1000, '_id': ObjectId('543b6bb656ddae01724551fd'), 'id': '4709907522', 'desc': u'$2051 / 1br - 735ft\\xb2 - Amazing ground level unit with hardwood floors and HUGE patio!! (fremont / union city / newark)'}"
       ]
      },
      {
       "output_type": "stream",
       "stream": "stdout",
       "text": [
        "\n",
        "{'url': 'http://sfbay.craigslist.org/eby/apa/4709907522.html', 'app': 1000, '_id': ObjectId('543b6bb656ddae01724551fd'), 'id': '4709907522', 'desc': u'$2051 / 1br - 735ft\\xb2 - Amazing ground level unit with hardwood floors and HUGE patio!! (fremont / union city / newark)'}"
       ]
      },
      {
       "output_type": "stream",
       "stream": "stdout",
       "text": [
        "\n",
        "{'url': 'http://sfbay.craigslist.org/eby/apa/4709907522.html', 'app': 1000, '_id': ObjectId('543b6bb656ddae01724551fd'), 'id': '4709907522', 'desc': u'$2051 / 1br - 735ft\\xb2 - Amazing ground level unit with hardwood floors and HUGE patio!! (fremont / union city / newark)'}"
       ]
      },
      {
       "output_type": "stream",
       "stream": "stdout",
       "text": [
        "\n",
        "{'url': 'http://sfbay.craigslist.org/eby/apa/4709907522.html', 'app': 1000, '_id': ObjectId('543b6bb656ddae01724551fd'), 'id': '4709907522', 'desc': u'$2051 / 1br - 735ft\\xb2 - Amazing ground level unit with hardwood floors and HUGE patio!! (fremont / union city / newark)'}"
       ]
      },
      {
       "output_type": "stream",
       "stream": "stdout",
       "text": [
        "\n",
        "{'url': 'http://sfbay.craigslist.org/eby/apa/4709907522.html', 'app': 1000, '_id': ObjectId('543b6bb656ddae01724551fd'), 'id': '4709907522', 'desc': u'$2051 / 1br - 735ft\\xb2 - Amazing ground level unit with hardwood floors and HUGE patio!! (fremont / union city / newark)'}"
       ]
      },
      {
       "output_type": "stream",
       "stream": "stdout",
       "text": [
        "\n",
        "{'url': 'http://sfbay.craigslist.org/eby/apa/4709907522.html', 'app': 1000, '_id': ObjectId('543b6bb656ddae01724551fd'), 'id': '4709907522', 'desc': u'$2051 / 1br - 735ft\\xb2 - Amazing ground level unit with hardwood floors and HUGE patio!! (fremont / union city / newark)'}"
       ]
      },
      {
       "output_type": "stream",
       "stream": "stdout",
       "text": [
        "\n",
        "{'url': 'http://sfbay.craigslist.org/eby/apa/4709907522.html', 'app': 1000, '_id': ObjectId('543b6bb656ddae01724551fd'), 'id': '4709907522', 'desc': u'$2051 / 1br - 735ft\\xb2 - Amazing ground level unit with hardwood floors and HUGE patio!! (fremont / union city / newark)'}"
       ]
      },
      {
       "output_type": "stream",
       "stream": "stdout",
       "text": [
        "\n",
        "{'url': 'http://sfbay.craigslist.org/eby/apa/4709907522.html', 'app': 1000, '_id': ObjectId('543b6bb656ddae01724551fd'), 'id': '4709907522', 'desc': u'$2051 / 1br - 735ft\\xb2 - Amazing ground level unit with hardwood floors and HUGE patio!! (fremont / union city / newark)'}"
       ]
      },
      {
       "output_type": "stream",
       "stream": "stdout",
       "text": [
        "\n",
        "{'url': 'http://sfbay.craigslist.org/eby/apa/4709907522.html', 'app': 1000, '_id': ObjectId('543b6bb656ddae01724551fd'), 'id': '4709907522', 'desc': u'$2051 / 1br - 735ft\\xb2 - Amazing ground level unit with hardwood floors and HUGE patio!! (fremont / union city / newark)'}"
       ]
      },
      {
       "output_type": "stream",
       "stream": "stdout",
       "text": [
        "\n",
        "{'url': 'http://sfbay.craigslist.org/eby/apa/4709907522.html', 'app': 1000, '_id': ObjectId('543b6bb656ddae01724551fd'), 'id': '4709907522', 'desc': u'$2051 / 1br - 735ft\\xb2 - Amazing ground level unit with hardwood floors and HUGE patio!! (fremont / union city / newark)'}"
       ]
      },
      {
       "output_type": "stream",
       "stream": "stdout",
       "text": [
        "\n",
        "{'url': 'http://sfbay.craigslist.org/eby/apa/4709907522.html', 'app': 1000, '_id': ObjectId('543b6bb656ddae01724551fd'), 'id': '4709907522', 'desc': u'$2051 / 1br - 735ft\\xb2 - Amazing ground level unit with hardwood floors and HUGE patio!! (fremont / union city / newark)'}"
       ]
      },
      {
       "output_type": "stream",
       "stream": "stdout",
       "text": [
        "\n",
        "{'url': 'http://sfbay.craigslist.org/eby/apa/4709907522.html', 'app': 1000, '_id': ObjectId('543b6bb656ddae01724551fd'), 'id': '4709907522', 'desc': u'$2051 / 1br - 735ft\\xb2 - Amazing ground level unit with hardwood floors and HUGE patio!! (fremont / union city / newark)'}"
       ]
      },
      {
       "output_type": "stream",
       "stream": "stdout",
       "text": [
        "\n",
        "{'url': 'http://sfbay.craigslist.org/eby/apa/4709907522.html', 'app': 1000, '_id': ObjectId('543b6bb656ddae01724551fd'), 'id': '4709907522', 'desc': u'$2051 / 1br - 735ft\\xb2 - Amazing ground level unit with hardwood floors and HUGE patio!! (fremont / union city / newark)'}"
       ]
      },
      {
       "output_type": "stream",
       "stream": "stdout",
       "text": [
        "\n",
        "{'url': 'http://sfbay.craigslist.org/eby/apa/4709907522.html', 'app': 1000, '_id': ObjectId('543b6bb656ddae01724551fd'), 'id': '4709907522', 'desc': u'$2051 / 1br - 735ft\\xb2 - Amazing ground level unit with hardwood floors and HUGE patio!! (fremont / union city / newark)'}"
       ]
      },
      {
       "output_type": "stream",
       "stream": "stdout",
       "text": [
        "\n",
        "{'url': 'http://sfbay.craigslist.org/eby/apa/4709907522.html', 'app': 1000, '_id': ObjectId('543b6bb656ddae01724551fd'), 'id': '4709907522', 'desc': u'$2051 / 1br - 735ft\\xb2 - Amazing ground level unit with hardwood floors and HUGE patio!! (fremont / union city / newark)'}"
       ]
      },
      {
       "output_type": "stream",
       "stream": "stdout",
       "text": [
        "\n",
        "{'url': 'http://sfbay.craigslist.org/eby/apa/4709907522.html', 'app': 1000, '_id': ObjectId('543b6bb656ddae01724551fd'), 'id': '4709907522', 'desc': u'$2051 / 1br - 735ft\\xb2 - Amazing ground level unit with hardwood floors and HUGE patio!! (fremont / union city / newark)'}"
       ]
      },
      {
       "output_type": "stream",
       "stream": "stdout",
       "text": [
        "\n",
        "{'url': 'http://sfbay.craigslist.org/eby/apa/4709907522.html', 'app': 1000, '_id': ObjectId('543b6bb656ddae01724551fd'), 'id': '4709907522', 'desc': u'$2051 / 1br - 735ft\\xb2 - Amazing ground level unit with hardwood floors and HUGE patio!! (fremont / union city / newark)'}"
       ]
      },
      {
       "output_type": "stream",
       "stream": "stdout",
       "text": [
        "\n",
        "{'url': 'http://sfbay.craigslist.org/eby/apa/4709907522.html', 'app': 1000, '_id': ObjectId('543b6bb656ddae01724551fd'), 'id': '4709907522', 'desc': u'$2051 / 1br - 735ft\\xb2 - Amazing ground level unit with hardwood floors and HUGE patio!! (fremont / union city / newark)'}"
       ]
      },
      {
       "output_type": "stream",
       "stream": "stdout",
       "text": [
        "\n",
        "{'url': 'http://sfbay.craigslist.org/eby/apa/4709907522.html', 'app': 1000, '_id': ObjectId('543b6bb656ddae01724551fd'), 'id': '4709907522', 'desc': u'$2051 / 1br - 735ft\\xb2 - Amazing ground level unit with hardwood floors and HUGE patio!! (fremont / union city / newark)'}"
       ]
      },
      {
       "output_type": "stream",
       "stream": "stdout",
       "text": [
        "\n",
        "{'url': 'http://sfbay.craigslist.org/eby/apa/4709907522.html', 'app': 1000, '_id': ObjectId('543b6bb656ddae01724551fd'), 'id': '4709907522', 'desc': u'$2051 / 1br - 735ft\\xb2 - Amazing ground level unit with hardwood floors and HUGE patio!! (fremont / union city / newark)'}"
       ]
      },
      {
       "output_type": "stream",
       "stream": "stdout",
       "text": [
        "\n",
        "{'url': 'http://sfbay.craigslist.org/eby/apa/4709907522.html', 'app': 1000, '_id': ObjectId('543b6bb656ddae01724551fd'), 'id': '4709907522', 'desc': u'$2051 / 1br - 735ft\\xb2 - Amazing ground level unit with hardwood floors and HUGE patio!! (fremont / union city / newark)'}"
       ]
      },
      {
       "output_type": "stream",
       "stream": "stdout",
       "text": [
        "\n",
        "{'url': 'http://sfbay.craigslist.org/eby/apa/4709907522.html', 'app': 1000, '_id': ObjectId('543b6bb656ddae01724551fd'), 'id': '4709907522', 'desc': u'$2051 / 1br - 735ft\\xb2 - Amazing ground level unit with hardwood floors and HUGE patio!! (fremont / union city / newark)'}"
       ]
      },
      {
       "output_type": "stream",
       "stream": "stdout",
       "text": [
        "\n",
        "{'url': 'http://sfbay.craigslist.org/eby/apa/4709907522.html', 'app': 1000, '_id': ObjectId('543b6bb656ddae01724551fd'), 'id': '4709907522', 'desc': u'$2051 / 1br - 735ft\\xb2 - Amazing ground level unit with hardwood floors and HUGE patio!! (fremont / union city / newark)'}"
       ]
      },
      {
       "output_type": "stream",
       "stream": "stdout",
       "text": [
        "\n",
        "{'url': 'http://sfbay.craigslist.org/eby/apa/4709907522.html', 'app': 1000, '_id': ObjectId('543b6bb656ddae01724551fd'), 'id': '4709907522', 'desc': u'$2051 / 1br - 735ft\\xb2 - Amazing ground level unit with hardwood floors and HUGE patio!! (fremont / union city / newark)'}"
       ]
      },
      {
       "output_type": "stream",
       "stream": "stdout",
       "text": [
        "\n",
        "{'url': 'http://sfbay.craigslist.org/eby/apa/4709907522.html', 'app': 1000, '_id': ObjectId('543b6bb656ddae01724551fd'), 'id': '4709907522', 'desc': u'$2051 / 1br - 735ft\\xb2 - Amazing ground level unit with hardwood floors and HUGE patio!! (fremont / union city / newark)'}"
       ]
      },
      {
       "output_type": "stream",
       "stream": "stdout",
       "text": [
        "\n",
        "{'url': 'http://sfbay.craigslist.org/eby/apa/4709907522.html', 'app': 1000, '_id': ObjectId('543b6bb656ddae01724551fd'), 'id': '4709907522', 'desc': u'$2051 / 1br - 735ft\\xb2 - Amazing ground level unit with hardwood floors and HUGE patio!! (fremont / union city / newark)'}"
       ]
      },
      {
       "output_type": "stream",
       "stream": "stdout",
       "text": [
        "\n",
        "{'url': 'http://sfbay.craigslist.org/eby/apa/4709907522.html', 'app': 1000, '_id': ObjectId('543b6bb656ddae01724551fd'), 'id': '4709907522', 'desc': u'$2051 / 1br - 735ft\\xb2 - Amazing ground level unit with hardwood floors and HUGE patio!! (fremont / union city / newark)'}"
       ]
      },
      {
       "output_type": "stream",
       "stream": "stdout",
       "text": [
        "\n",
        "{'url': 'http://sfbay.craigslist.org/eby/apa/4709907522.html', 'app': 1000, '_id': ObjectId('543b6bb656ddae01724551fd'), 'id': '4709907522', 'desc': u'$2051 / 1br - 735ft\\xb2 - Amazing ground level unit with hardwood floors and HUGE patio!! (fremont / union city / newark)'}"
       ]
      },
      {
       "output_type": "stream",
       "stream": "stdout",
       "text": [
        "\n",
        "{'url': 'http://sfbay.craigslist.org/eby/apa/4709907522.html', 'app': 1000, '_id': ObjectId('543b6bb656ddae01724551fd'), 'id': '4709907522', 'desc': u'$2051 / 1br - 735ft\\xb2 - Amazing ground level unit with hardwood floors and HUGE patio!! (fremont / union city / newark)'}"
       ]
      },
      {
       "output_type": "stream",
       "stream": "stdout",
       "text": [
        "\n",
        "{'url': 'http://sfbay.craigslist.org/eby/apa/4709907522.html', 'app': 1000, '_id': ObjectId('543b6bb656ddae01724551fd'), 'id': '4709907522', 'desc': u'$2051 / 1br - 735ft\\xb2 - Amazing ground level unit with hardwood floors and HUGE patio!! (fremont / union city / newark)'}"
       ]
      },
      {
       "output_type": "stream",
       "stream": "stdout",
       "text": [
        "\n",
        "{'url': 'http://sfbay.craigslist.org/eby/apa/4709907522.html', 'app': 1000, '_id': ObjectId('543b6bb656ddae01724551fd'), 'id': '4709907522', 'desc': u'$2051 / 1br - 735ft\\xb2 - Amazing ground level unit with hardwood floors and HUGE patio!! (fremont / union city / newark)'}"
       ]
      },
      {
       "output_type": "stream",
       "stream": "stdout",
       "text": [
        "\n",
        "{'url': 'http://sfbay.craigslist.org/eby/apa/4709907522.html', 'app': 1000, '_id': ObjectId('543b6bb656ddae01724551fd'), 'id': '4709907522', 'desc': u'$2051 / 1br - 735ft\\xb2 - Amazing ground level unit with hardwood floors and HUGE patio!! (fremont / union city / newark)'}"
       ]
      },
      {
       "output_type": "stream",
       "stream": "stdout",
       "text": [
        "\n",
        "{'url': 'http://sfbay.craigslist.org/eby/apa/4709907522.html', 'app': 1000, '_id': ObjectId('543b6bb656ddae01724551fd'), 'id': '4709907522', 'desc': u'$2051 / 1br - 735ft\\xb2 - Amazing ground level unit with hardwood floors and HUGE patio!! (fremont / union city / newark)'}"
       ]
      },
      {
       "output_type": "stream",
       "stream": "stdout",
       "text": [
        "\n",
        "{'url': 'http://sfbay.craigslist.org/eby/apa/4709907522.html', 'app': 1000, '_id': ObjectId('543b6bb656ddae01724551fd'), 'id': '4709907522', 'desc': u'$2051 / 1br - 735ft\\xb2 - Amazing ground level unit with hardwood floors and HUGE patio!! (fremont / union city / newark)'}"
       ]
      },
      {
       "output_type": "stream",
       "stream": "stdout",
       "text": [
        "\n",
        "{'url': 'http://sfbay.craigslist.org/eby/apa/4709907522.html', 'app': 1000, '_id': ObjectId('543b6bb656ddae01724551fd'), 'id': '4709907522', 'desc': u'$2051 / 1br - 735ft\\xb2 - Amazing ground level unit with hardwood floors and HUGE patio!! (fremont / union city / newark)'}"
       ]
      },
      {
       "output_type": "stream",
       "stream": "stdout",
       "text": [
        "\n"
       ]
      }
     ],
     "prompt_number": 65
    },
    {
     "cell_type": "code",
     "collapsed": false,
     "input": [
      "#df = pd.DataFrame(columns=columns) \n",
      "df = pd.DataFrame(index=np.arange(0, len(final_content)), columns =('rent','beds','sft'))\n",
      "#df = df.T\n",
      "print len(final_content)"
     ],
     "language": "python",
     "metadata": {},
     "outputs": [
      {
       "output_type": "stream",
       "stream": "stdout",
       "text": [
        "501\n"
       ]
      }
     ],
     "prompt_number": 64
    },
    {
     "cell_type": "code",
     "collapsed": false,
     "input": [
      "count = 0\n",
      "for content in final_content:\n",
      "    print count\n",
      "    x = content.split(\"-\")\n",
      "    if (len(x) >= 2):\n",
      "        print x[0], x[1]\n",
      "        rt, bd = x[0].split(\"/\")\n",
      "        rent =  map(int, re.findall('\\d+', rt))\n",
      "        beds = map(int, re.findall('\\d+',bd))\n",
      "        sft =  map(int, re.findall('\\d+',x[1]))\n",
      "        print rent\n",
      "        print beds\n",
      "        rent_beds = [rent, beds]\n",
      "        print sft\n",
      "        if (len(sft) ==0):\n",
      "            sft = [0]\n",
      "        all_data = rent_beds + sft\n",
      "        print count, all_data\n",
      "        df.loc[count] = all_data\n",
      "        count =count +1\n",
      "print count"
     ],
     "language": "python",
     "metadata": {},
     "outputs": [
      {
       "ename": "ValueError",
       "evalue": "cannot copy sequence with size 4 to array axis with dimension 3",
       "output_type": "pyerr",
       "traceback": [
        "\u001b[0;31m---------------------------------------------------------------------------\u001b[0m\n\u001b[0;31mValueError\u001b[0m                                Traceback (most recent call last)",
        "\u001b[0;32m<ipython-input-52-2df3686b4f3b>\u001b[0m in \u001b[0;36m<module>\u001b[0;34m()\u001b[0m\n\u001b[1;32m     17\u001b[0m         \u001b[0mall_data\u001b[0m \u001b[0;34m=\u001b[0m \u001b[0mrent_beds\u001b[0m \u001b[0;34m+\u001b[0m \u001b[0msft\u001b[0m\u001b[0;34m\u001b[0m\u001b[0m\n\u001b[1;32m     18\u001b[0m         \u001b[0;32mprint\u001b[0m \u001b[0mcount\u001b[0m\u001b[0;34m,\u001b[0m \u001b[0mall_data\u001b[0m\u001b[0;34m\u001b[0m\u001b[0m\n\u001b[0;32m---> 19\u001b[0;31m         \u001b[0mdf\u001b[0m\u001b[0;34m.\u001b[0m\u001b[0mloc\u001b[0m\u001b[0;34m[\u001b[0m\u001b[0mcount\u001b[0m\u001b[0;34m]\u001b[0m \u001b[0;34m=\u001b[0m \u001b[0mall_data\u001b[0m\u001b[0;34m\u001b[0m\u001b[0m\n\u001b[0m\u001b[1;32m     20\u001b[0m         \u001b[0mcount\u001b[0m \u001b[0;34m=\u001b[0m\u001b[0mcount\u001b[0m \u001b[0;34m+\u001b[0m\u001b[0;36m1\u001b[0m\u001b[0;34m\u001b[0m\u001b[0m\n\u001b[1;32m     21\u001b[0m \u001b[0;32mprint\u001b[0m \u001b[0mcount\u001b[0m\u001b[0;34m\u001b[0m\u001b[0m\n",
        "\u001b[0;32m/Users/Prasad/anaconda/lib/python2.7/site-packages/pandas/core/indexing.pyc\u001b[0m in \u001b[0;36m__setitem__\u001b[0;34m(self, key, value)\u001b[0m\n\u001b[1;32m     96\u001b[0m             \u001b[0mindexer\u001b[0m \u001b[0;34m=\u001b[0m \u001b[0mself\u001b[0m\u001b[0;34m.\u001b[0m\u001b[0m_convert_to_indexer\u001b[0m\u001b[0;34m(\u001b[0m\u001b[0mkey\u001b[0m\u001b[0;34m,\u001b[0m \u001b[0mis_setter\u001b[0m\u001b[0;34m=\u001b[0m\u001b[0mTrue\u001b[0m\u001b[0;34m)\u001b[0m\u001b[0;34m\u001b[0m\u001b[0m\n\u001b[1;32m     97\u001b[0m \u001b[0;34m\u001b[0m\u001b[0m\n\u001b[0;32m---> 98\u001b[0;31m         \u001b[0mself\u001b[0m\u001b[0;34m.\u001b[0m\u001b[0m_setitem_with_indexer\u001b[0m\u001b[0;34m(\u001b[0m\u001b[0mindexer\u001b[0m\u001b[0;34m,\u001b[0m \u001b[0mvalue\u001b[0m\u001b[0;34m)\u001b[0m\u001b[0;34m\u001b[0m\u001b[0m\n\u001b[0m\u001b[1;32m     99\u001b[0m \u001b[0;34m\u001b[0m\u001b[0m\n\u001b[1;32m    100\u001b[0m     \u001b[0;32mdef\u001b[0m \u001b[0m_has_valid_type\u001b[0m\u001b[0;34m(\u001b[0m\u001b[0mself\u001b[0m\u001b[0;34m,\u001b[0m \u001b[0mk\u001b[0m\u001b[0;34m,\u001b[0m \u001b[0maxis\u001b[0m\u001b[0;34m)\u001b[0m\u001b[0;34m:\u001b[0m\u001b[0;34m\u001b[0m\u001b[0m\n",
        "\u001b[0;32m/Users/Prasad/anaconda/lib/python2.7/site-packages/pandas/core/indexing.pyc\u001b[0m in \u001b[0;36m_setitem_with_indexer\u001b[0;34m(self, indexer, value)\u001b[0m\n\u001b[1;32m    420\u001b[0m \u001b[0;34m\u001b[0m\u001b[0m\n\u001b[1;32m    421\u001b[0m             \u001b[0;31m# actually do the set\u001b[0m\u001b[0;34m\u001b[0m\u001b[0;34m\u001b[0m\u001b[0m\n\u001b[0;32m--> 422\u001b[0;31m             \u001b[0mself\u001b[0m\u001b[0;34m.\u001b[0m\u001b[0mobj\u001b[0m\u001b[0;34m.\u001b[0m\u001b[0m_data\u001b[0m \u001b[0;34m=\u001b[0m \u001b[0mself\u001b[0m\u001b[0;34m.\u001b[0m\u001b[0mobj\u001b[0m\u001b[0;34m.\u001b[0m\u001b[0m_data\u001b[0m\u001b[0;34m.\u001b[0m\u001b[0msetitem\u001b[0m\u001b[0;34m(\u001b[0m\u001b[0mindexer\u001b[0m\u001b[0;34m,\u001b[0m \u001b[0mvalue\u001b[0m\u001b[0;34m)\u001b[0m\u001b[0;34m\u001b[0m\u001b[0m\n\u001b[0m\u001b[1;32m    423\u001b[0m             \u001b[0mself\u001b[0m\u001b[0;34m.\u001b[0m\u001b[0mobj\u001b[0m\u001b[0;34m.\u001b[0m\u001b[0m_maybe_update_cacher\u001b[0m\u001b[0;34m(\u001b[0m\u001b[0mclear\u001b[0m\u001b[0;34m=\u001b[0m\u001b[0mTrue\u001b[0m\u001b[0;34m)\u001b[0m\u001b[0;34m\u001b[0m\u001b[0m\n\u001b[1;32m    424\u001b[0m \u001b[0;34m\u001b[0m\u001b[0m\n",
        "\u001b[0;32m/Users/Prasad/anaconda/lib/python2.7/site-packages/pandas/core/internals.pyc\u001b[0m in \u001b[0;36msetitem\u001b[0;34m(self, *args, **kwargs)\u001b[0m\n\u001b[1;32m   2393\u001b[0m \u001b[0;34m\u001b[0m\u001b[0m\n\u001b[1;32m   2394\u001b[0m     \u001b[0;32mdef\u001b[0m \u001b[0msetitem\u001b[0m\u001b[0;34m(\u001b[0m\u001b[0mself\u001b[0m\u001b[0;34m,\u001b[0m \u001b[0;34m*\u001b[0m\u001b[0margs\u001b[0m\u001b[0;34m,\u001b[0m \u001b[0;34m**\u001b[0m\u001b[0mkwargs\u001b[0m\u001b[0;34m)\u001b[0m\u001b[0;34m:\u001b[0m\u001b[0;34m\u001b[0m\u001b[0m\n\u001b[0;32m-> 2395\u001b[0;31m         \u001b[0;32mreturn\u001b[0m \u001b[0mself\u001b[0m\u001b[0;34m.\u001b[0m\u001b[0mapply\u001b[0m\u001b[0;34m(\u001b[0m\u001b[0;34m'setitem'\u001b[0m\u001b[0;34m,\u001b[0m \u001b[0;34m*\u001b[0m\u001b[0margs\u001b[0m\u001b[0;34m,\u001b[0m \u001b[0;34m**\u001b[0m\u001b[0mkwargs\u001b[0m\u001b[0;34m)\u001b[0m\u001b[0;34m\u001b[0m\u001b[0m\n\u001b[0m\u001b[1;32m   2396\u001b[0m \u001b[0;34m\u001b[0m\u001b[0m\n\u001b[1;32m   2397\u001b[0m     \u001b[0;32mdef\u001b[0m \u001b[0mputmask\u001b[0m\u001b[0;34m(\u001b[0m\u001b[0mself\u001b[0m\u001b[0;34m,\u001b[0m \u001b[0;34m*\u001b[0m\u001b[0margs\u001b[0m\u001b[0;34m,\u001b[0m \u001b[0;34m**\u001b[0m\u001b[0mkwargs\u001b[0m\u001b[0;34m)\u001b[0m\u001b[0;34m:\u001b[0m\u001b[0;34m\u001b[0m\u001b[0m\n",
        "\u001b[0;32m/Users/Prasad/anaconda/lib/python2.7/site-packages/pandas/core/internals.pyc\u001b[0m in \u001b[0;36mapply\u001b[0;34m(self, f, *args, **kwargs)\u001b[0m\n\u001b[1;32m   2373\u001b[0m \u001b[0;34m\u001b[0m\u001b[0m\n\u001b[1;32m   2374\u001b[0m             \u001b[0;32melse\u001b[0m\u001b[0;34m:\u001b[0m\u001b[0;34m\u001b[0m\u001b[0m\n\u001b[0;32m-> 2375\u001b[0;31m                 \u001b[0mapplied\u001b[0m \u001b[0;34m=\u001b[0m \u001b[0mgetattr\u001b[0m\u001b[0;34m(\u001b[0m\u001b[0mblk\u001b[0m\u001b[0;34m,\u001b[0m \u001b[0mf\u001b[0m\u001b[0;34m)\u001b[0m\u001b[0;34m(\u001b[0m\u001b[0;34m*\u001b[0m\u001b[0margs\u001b[0m\u001b[0;34m,\u001b[0m \u001b[0;34m**\u001b[0m\u001b[0mkwargs\u001b[0m\u001b[0;34m)\u001b[0m\u001b[0;34m\u001b[0m\u001b[0m\n\u001b[0m\u001b[1;32m   2376\u001b[0m \u001b[0;34m\u001b[0m\u001b[0m\n\u001b[1;32m   2377\u001b[0m             \u001b[0;32mif\u001b[0m \u001b[0misinstance\u001b[0m\u001b[0;34m(\u001b[0m\u001b[0mapplied\u001b[0m\u001b[0;34m,\u001b[0m \u001b[0mlist\u001b[0m\u001b[0;34m)\u001b[0m\u001b[0;34m:\u001b[0m\u001b[0;34m\u001b[0m\u001b[0m\n",
        "\u001b[0;32m/Users/Prasad/anaconda/lib/python2.7/site-packages/pandas/core/internals.pyc\u001b[0m in \u001b[0;36msetitem\u001b[0;34m(self, indexer, value)\u001b[0m\n\u001b[1;32m    646\u001b[0m                 \u001b[0mdtype\u001b[0m \u001b[0;34m=\u001b[0m \u001b[0;34m'infer'\u001b[0m\u001b[0;34m\u001b[0m\u001b[0m\n\u001b[1;32m    647\u001b[0m             \u001b[0mvalues\u001b[0m \u001b[0;34m=\u001b[0m \u001b[0mself\u001b[0m\u001b[0;34m.\u001b[0m\u001b[0m_try_coerce_result\u001b[0m\u001b[0;34m(\u001b[0m\u001b[0mvalues\u001b[0m\u001b[0;34m)\u001b[0m\u001b[0;34m\u001b[0m\u001b[0m\n\u001b[0;32m--> 648\u001b[0;31m             \u001b[0mvalues\u001b[0m \u001b[0;34m=\u001b[0m \u001b[0mself\u001b[0m\u001b[0;34m.\u001b[0m\u001b[0m_try_cast_result\u001b[0m\u001b[0;34m(\u001b[0m\u001b[0mvalues\u001b[0m\u001b[0;34m,\u001b[0m \u001b[0mdtype\u001b[0m\u001b[0;34m)\u001b[0m\u001b[0;34m\u001b[0m\u001b[0m\n\u001b[0m\u001b[1;32m    649\u001b[0m             return [make_block(transf(values), self.items, self.ref_items,\n\u001b[1;32m    650\u001b[0m                                ndim=self.ndim, fastpath=True)]\n",
        "\u001b[0;32m/Users/Prasad/anaconda/lib/python2.7/site-packages/pandas/core/internals.pyc\u001b[0m in \u001b[0;36m_try_cast_result\u001b[0;34m(self, result, dtype)\u001b[0m\n\u001b[1;32m    528\u001b[0m \u001b[0;34m\u001b[0m\u001b[0m\n\u001b[1;32m    529\u001b[0m         \u001b[0;31m# may need to change the dtype here\u001b[0m\u001b[0;34m\u001b[0m\u001b[0;34m\u001b[0m\u001b[0m\n\u001b[0;32m--> 530\u001b[0;31m         \u001b[0;32mreturn\u001b[0m \u001b[0m_possibly_downcast_to_dtype\u001b[0m\u001b[0;34m(\u001b[0m\u001b[0mresult\u001b[0m\u001b[0;34m,\u001b[0m \u001b[0mdtype\u001b[0m\u001b[0;34m)\u001b[0m\u001b[0;34m\u001b[0m\u001b[0m\n\u001b[0m\u001b[1;32m    531\u001b[0m \u001b[0;34m\u001b[0m\u001b[0m\n\u001b[1;32m    532\u001b[0m     \u001b[0;32mdef\u001b[0m \u001b[0m_try_operate\u001b[0m\u001b[0;34m(\u001b[0m\u001b[0mself\u001b[0m\u001b[0;34m,\u001b[0m \u001b[0mvalues\u001b[0m\u001b[0;34m)\u001b[0m\u001b[0;34m:\u001b[0m\u001b[0;34m\u001b[0m\u001b[0m\n",
        "\u001b[0;32m/Users/Prasad/anaconda/lib/python2.7/site-packages/pandas/core/common.pyc\u001b[0m in \u001b[0;36m_possibly_downcast_to_dtype\u001b[0;34m(result, dtype)\u001b[0m\n\u001b[1;32m   1083\u001b[0m     \u001b[0;32mif\u001b[0m \u001b[0misinstance\u001b[0m\u001b[0;34m(\u001b[0m\u001b[0mdtype\u001b[0m\u001b[0;34m,\u001b[0m \u001b[0mcompat\u001b[0m\u001b[0;34m.\u001b[0m\u001b[0mstring_types\u001b[0m\u001b[0;34m)\u001b[0m\u001b[0;34m:\u001b[0m\u001b[0;34m\u001b[0m\u001b[0m\n\u001b[1;32m   1084\u001b[0m         \u001b[0;32mif\u001b[0m \u001b[0mdtype\u001b[0m \u001b[0;34m==\u001b[0m \u001b[0;34m'infer'\u001b[0m\u001b[0;34m:\u001b[0m\u001b[0;34m\u001b[0m\u001b[0m\n\u001b[0;32m-> 1085\u001b[0;31m             \u001b[0minferred_type\u001b[0m \u001b[0;34m=\u001b[0m \u001b[0mlib\u001b[0m\u001b[0;34m.\u001b[0m\u001b[0minfer_dtype\u001b[0m\u001b[0;34m(\u001b[0m\u001b[0m_ensure_object\u001b[0m\u001b[0;34m(\u001b[0m\u001b[0mresult\u001b[0m\u001b[0;34m.\u001b[0m\u001b[0mravel\u001b[0m\u001b[0;34m(\u001b[0m\u001b[0;34m)\u001b[0m\u001b[0;34m)\u001b[0m\u001b[0;34m)\u001b[0m\u001b[0;34m\u001b[0m\u001b[0m\n\u001b[0m\u001b[1;32m   1086\u001b[0m             \u001b[0;32mif\u001b[0m \u001b[0minferred_type\u001b[0m \u001b[0;34m==\u001b[0m \u001b[0;34m'boolean'\u001b[0m\u001b[0;34m:\u001b[0m\u001b[0;34m\u001b[0m\u001b[0m\n\u001b[1;32m   1087\u001b[0m                 \u001b[0mdtype\u001b[0m \u001b[0;34m=\u001b[0m \u001b[0;34m'bool'\u001b[0m\u001b[0;34m\u001b[0m\u001b[0m\n",
        "\u001b[0;31mValueError\u001b[0m: cannot copy sequence with size 4 to array axis with dimension 3"
       ]
      },
      {
       "output_type": "stream",
       "stream": "stdout",
       "text": [
        "0\n",
        "$2600 / 2br   2 bedroom unit for lease (fremont / union city / newark)\n",
        "[2600]\n",
        "[2]\n",
        "[2]\n",
        "0 [[2600], [2], 2]\n",
        "1\n",
        "$2084 / 2br   750ft\u00b2 \n",
        "[2084]\n",
        "[2]\n",
        "[750]\n",
        "1 [[2084], [2], 750]\n",
        "2\n",
        "$1900 / 1br   737ft\u00b2 \n",
        "[1900]\n",
        "[1]\n",
        "[737]\n",
        "2 [[1900], [1], 737]\n",
        "3\n",
        "$1775 / 1br   RESORT LIVING IN A SERENE PARK SETTING  (fremont / union city / newark)\n",
        "[1775]\n",
        "[1]\n",
        "[]\n",
        "3 [[1775], [1], 0]\n",
        "4\n",
        "$1760 / 1br   PARK\n",
        "[1760]\n",
        "[1]\n",
        "[]\n",
        "4 [[1760], [1], 0]\n",
        "5\n",
        "$2495 / 2br   1106ft\u00b2 \n",
        "[2495]\n",
        "[2]\n",
        "[1106]\n",
        "5 [[2495], [2], 1106]\n",
        "6\n",
        "6\n",
        "$2600 / 4br   1321ft\u00b2 \n",
        "[2600]\n",
        "[4]\n",
        "[1321]\n",
        "6 [[2600], [4], 1321]\n",
        "7\n",
        "$4700 / 5br   3200ft\u00b2 \n",
        "[4700]\n",
        "[5]\n",
        "[3200]\n",
        "7 [[4700], [5], 3200]\n",
        "8\n",
        "$2000 / 2br   900ft\u00b2 \n",
        "[2000]\n",
        "[2]\n",
        "[900]\n",
        "8 [[2000], [2], 900]\n",
        "9\n",
        "$1875 / 1br   565ft\u00b2 \n",
        "[1875]\n",
        "[1]\n",
        "[565]\n",
        "9 [[1875], [1], 565]\n",
        "10\n",
        "$2000 / 1br   750ft\u00b2 \n",
        "[2000]\n",
        "[1]\n",
        "[750]\n",
        "10 [[2000], [1], 750]\n",
        "11\n",
        "$2595 / 2br   1081ft\u00b2 \n",
        "[2595]\n",
        "[2]\n",
        "[1081]\n",
        "11 [[2595], [2], 1081]\n",
        "12\n",
        "$1895 / 1br   650ft\u00b2 \n",
        "[1895]\n",
        "[1]\n",
        "[650]\n",
        "12 [[1895], [1], 650]\n",
        "13\n",
        "$2500 / 4br   1820ft\u00b2 \n",
        "[2500]\n",
        "[4]\n",
        "[1820]\n",
        "13 [[2500], [4], 1820]\n",
        "14\n",
        "$1795 / 1br   527ft\u00b2 \n",
        "[1795]\n",
        "[1]\n",
        "[527]\n",
        "14 [[1795], [1], 527]\n",
        "15\n",
        "$3100 / 3br   1500ft\u00b2 \n",
        "[3100]\n",
        "[3]\n",
        "[1500]\n",
        "15 [[3100], [3], 1500]\n",
        "16\n",
        "16\n",
        "$2800 / 5br   1600ft\u00b2 \n",
        "[2800]\n",
        "[5]\n",
        "[1600]\n",
        "16 [[2800], [5], 1600]\n",
        "17\n",
        "$1950 / 1br   710ft\u00b2 \n",
        "[1950]\n",
        "[1]\n",
        "[710]\n",
        "17 [[1950], [1], 710]\n",
        "18\n",
        "$2800 / 3br   1752ft\u00b2 \n",
        "[2800]\n",
        "[3]\n",
        "[1752]\n",
        "18 [[2800], [3], 1752]\n",
        "19\n",
        "$2900 / 3br   1422ft\u00b2 \n",
        "[2900]\n",
        "[3]\n",
        "[1422]\n",
        "19 [[2900], [3], 1422]\n",
        "20\n",
        "$1795 / 1br   527ft\u00b2 \n",
        "[1795]\n",
        "[1]\n",
        "[527]\n",
        "20 [[1795], [1], 527]\n",
        "21\n",
        "$2425 / 2br   1010ft\u00b2 \n",
        "[2425]\n",
        "[2]\n",
        "[1010]\n",
        "21 [[2425], [2], 1010]\n",
        "22\n",
        "$2394 / 1br   854ft\u00b2 \n",
        "[2394]\n",
        "[1]\n",
        "[854]\n",
        "22 [[2394], [1], 854]\n",
        "23\n",
        "$1625 / 2br   750ft\u00b2 \n",
        "[1625]\n",
        "[2]\n",
        "[750]\n",
        "23 [[1625], [2], 750]\n",
        "24\n",
        "$2400 / 3br   1576ft\u00b2 \n",
        "[2400]\n",
        "[3]\n",
        "[1576]\n",
        "24 [[2400], [3], 1576]\n",
        "25\n",
        "$2600 / 3br   Fremont 3Bed\n",
        "[2600]\n",
        "[3]\n",
        "[3]\n",
        "25 [[2600], [3], 3]\n",
        "26\n",
        "$2200 / 3br   1100ft\u00b2 \n",
        "[2200]\n",
        "[3]\n",
        "[1100]\n",
        "26 [[2200], [3], 1100]\n",
        "27\n",
        "$3000 / 4br   2184ft\u00b2 \n",
        "[3000]\n",
        "[4]\n",
        "[2184]\n",
        "27 [[3000], [4], 2184]\n",
        "28\n",
        "$1820 / 1br   650ft\u00b2 \n",
        "[1820]\n",
        "[1]\n",
        "[650]\n",
        "28 [[1820], [1], 650]\n",
        "29\n",
        "29\n",
        "$2295 / 2br   980ft\u00b2 \n",
        "[2295]\n",
        "[2]\n",
        "[980]\n",
        "29 [[2295], [2], 980]\n",
        "30\n",
        "$1926 / 1br   704ft\u00b2 \n",
        "[1926]\n",
        "[1]\n",
        "[704]\n",
        "30 [[1926], [1], 704]\n",
        "31\n",
        "$1995 / 2br   1008ft\u00b2 \n",
        "[1995]\n",
        "[2]\n",
        "[1008]\n",
        "31 [[1995], [2], 1008]\n",
        "32\n",
        "32\n",
        "$2095 / 2br   980ft\u00b2 \n",
        "[2095]\n",
        "[2]\n",
        "[980]\n",
        "32 [[2095], [2], 980]\n",
        "33\n",
        "$2278 / 2br   985ft\u00b2 \n",
        "[2278]\n",
        "[2]\n",
        "[985]\n",
        "33 [[2278], [2], 985]\n",
        "34\n",
        "$2600 / 3br   1442ft\u00b2 \n",
        "[2600]\n",
        "[3]\n",
        "[1442]\n",
        "34 [[2600], [3], 1442]\n",
        "35\n",
        "$2988 / 4br   1617ft\u00b2 \n",
        "[2988]\n",
        "[4]\n",
        "[1617]\n",
        "35 [[2988], [4], 1617]\n",
        "36\n",
        "$2700 / 4br   1500ft\u00b2 \n",
        "[2700]\n",
        "[4]\n",
        "[1500]\n",
        "36 [[2700], [4], 1500]\n",
        "37\n",
        "$2410 / 2br   901ft\u00b2 \n",
        "[2410]\n",
        "[2]\n",
        "[901]\n",
        "37 [[2410], [2], 901]\n",
        "38\n",
        "$1547 / 1br   660ft\u00b2 \n",
        "[1547]\n",
        "[1]\n",
        "[660]\n",
        "38 [[1547], [1], 660]\n",
        "39\n",
        "39\n",
        "$1845 / 1br   650ft\u00b2 \n",
        "[1845]\n",
        "[1]\n",
        "[650]\n",
        "39 [[1845], [1], 650]\n",
        "40\n",
        "$1760 / 1br   AMAZING AMENITIES IN PARK\n",
        "[1760]\n",
        "[1]\n",
        "[]\n",
        "40 [[1760], [1], 0]\n",
        "41\n",
        "$650 / 1br   Looking for roommates right across fremont bart station (fremont / union city / newark)\n",
        "[650]\n",
        "[1]\n",
        "[]\n",
        "41 [[650], [1], 0]\n",
        "42\n",
        "$2095 / 1br   734ft\u00b2 \n",
        "[2095]\n",
        "[1]\n",
        "[734]\n",
        "42 [[2095], [1], 734]\n",
        "43\n",
        "$1950 / 1br   710ft\u00b2 \n",
        "[1950]\n",
        "[1]\n",
        "[710]\n",
        "43 [[1950], [1], 710]\n",
        "44\n",
        "$3200 / 4br   2100ft\u00b2 \n",
        "[3200]\n",
        "[4]\n",
        "[2100]\n",
        "44 [[3200], [4], 2100]\n",
        "45\n",
        "$2249 / 2br   ~LUSH GARDENS, POOL, SAUNA, FITNESS CENTER AND BRIGHT 2 BEDROOM~ (fremont / union city / newark)\n",
        "[2249]\n",
        "[2]\n",
        "[2]\n",
        "45 [[2249], [2], 2]\n",
        "46\n",
        "$3250 / 4br   1866ft\u00b2 \n",
        "[3250]\n",
        "[4]\n",
        "[1866]\n",
        "46 [[3250], [4], 1866]\n",
        "47\n",
        "$1760 / 1br   LUSH GARDENS, POOL, SPA, FITNESS CENTER AND BRIGHT ONE BR (fremont / union city / newark)\n",
        "[1760]\n",
        "[1]\n",
        "[]\n",
        "47 [[1760], [1], 0]\n",
        "48\n",
        "$1795 / 1br   527ft\u00b2 \n",
        "[1795]\n",
        "[1]\n",
        "[527]\n",
        "48 [[1795], [1], 527]\n",
        "49\n",
        "$1848 / 1br   680ft\u00b2 \n",
        "[1848]\n",
        "[1]\n",
        "[680]\n",
        "49 [[1848], [1], 680]\n",
        "50\n",
        "$2384 / 1br   877ft\u00b2 \n",
        "[2384]\n",
        "[1]\n",
        "[877]\n",
        "50 [[2384], [1], 877]\n",
        "51\n",
        "$2800 / 4br   A beautiful house for rent $2,800 (fremont / union city / newark)\n",
        "[2800]\n",
        "[4]\n",
        "[2, 800]\n",
        "51 [[2800], [4], 2, 800]\n"
       ]
      }
     ],
     "prompt_number": 52
    },
    {
     "cell_type": "code",
     "collapsed": false,
     "input": [
      "df"
     ],
     "language": "python",
     "metadata": {},
     "outputs": [
      {
       "html": [
        "<div style=\"max-height:1000px;max-width:1500px;overflow:auto;\">\n",
        "<table border=\"1\" class=\"dataframe\">\n",
        "  <thead>\n",
        "    <tr style=\"text-align: right;\">\n",
        "      <th></th>\n",
        "      <th>rent</th>\n",
        "      <th>beds</th>\n",
        "      <th>sft</th>\n",
        "    </tr>\n",
        "  </thead>\n",
        "  <tbody>\n",
        "    <tr>\n",
        "      <th>0 </th>\n",
        "      <td> [2600]</td>\n",
        "      <td> [2]</td>\n",
        "      <td>    2</td>\n",
        "    </tr>\n",
        "    <tr>\n",
        "      <th>1 </th>\n",
        "      <td> [2084]</td>\n",
        "      <td> [2]</td>\n",
        "      <td>  750</td>\n",
        "    </tr>\n",
        "    <tr>\n",
        "      <th>2 </th>\n",
        "      <td> [1900]</td>\n",
        "      <td> [1]</td>\n",
        "      <td>  737</td>\n",
        "    </tr>\n",
        "    <tr>\n",
        "      <th>3 </th>\n",
        "      <td> [1775]</td>\n",
        "      <td> [1]</td>\n",
        "      <td>    0</td>\n",
        "    </tr>\n",
        "    <tr>\n",
        "      <th>4 </th>\n",
        "      <td> [1760]</td>\n",
        "      <td> [1]</td>\n",
        "      <td>    0</td>\n",
        "    </tr>\n",
        "    <tr>\n",
        "      <th>5 </th>\n",
        "      <td> [2495]</td>\n",
        "      <td> [2]</td>\n",
        "      <td> 1106</td>\n",
        "    </tr>\n",
        "    <tr>\n",
        "      <th>6 </th>\n",
        "      <td> [2600]</td>\n",
        "      <td> [4]</td>\n",
        "      <td> 1321</td>\n",
        "    </tr>\n",
        "    <tr>\n",
        "      <th>7 </th>\n",
        "      <td> [4700]</td>\n",
        "      <td> [5]</td>\n",
        "      <td> 3200</td>\n",
        "    </tr>\n",
        "    <tr>\n",
        "      <th>8 </th>\n",
        "      <td> [2000]</td>\n",
        "      <td> [2]</td>\n",
        "      <td>  900</td>\n",
        "    </tr>\n",
        "    <tr>\n",
        "      <th>9 </th>\n",
        "      <td> [1875]</td>\n",
        "      <td> [1]</td>\n",
        "      <td>  565</td>\n",
        "    </tr>\n",
        "    <tr>\n",
        "      <th>10</th>\n",
        "      <td> [2000]</td>\n",
        "      <td> [1]</td>\n",
        "      <td>  750</td>\n",
        "    </tr>\n",
        "    <tr>\n",
        "      <th>11</th>\n",
        "      <td> [2595]</td>\n",
        "      <td> [2]</td>\n",
        "      <td> 1081</td>\n",
        "    </tr>\n",
        "    <tr>\n",
        "      <th>12</th>\n",
        "      <td> [1895]</td>\n",
        "      <td> [1]</td>\n",
        "      <td>  650</td>\n",
        "    </tr>\n",
        "    <tr>\n",
        "      <th>13</th>\n",
        "      <td> [2500]</td>\n",
        "      <td> [4]</td>\n",
        "      <td> 1820</td>\n",
        "    </tr>\n",
        "    <tr>\n",
        "      <th>14</th>\n",
        "      <td> [1795]</td>\n",
        "      <td> [1]</td>\n",
        "      <td>  527</td>\n",
        "    </tr>\n",
        "    <tr>\n",
        "      <th>15</th>\n",
        "      <td> [3100]</td>\n",
        "      <td> [3]</td>\n",
        "      <td> 1500</td>\n",
        "    </tr>\n",
        "    <tr>\n",
        "      <th>16</th>\n",
        "      <td> [2800]</td>\n",
        "      <td> [5]</td>\n",
        "      <td> 1600</td>\n",
        "    </tr>\n",
        "    <tr>\n",
        "      <th>17</th>\n",
        "      <td> [1950]</td>\n",
        "      <td> [1]</td>\n",
        "      <td>  710</td>\n",
        "    </tr>\n",
        "    <tr>\n",
        "      <th>18</th>\n",
        "      <td> [2800]</td>\n",
        "      <td> [3]</td>\n",
        "      <td> 1752</td>\n",
        "    </tr>\n",
        "    <tr>\n",
        "      <th>19</th>\n",
        "      <td> [2900]</td>\n",
        "      <td> [3]</td>\n",
        "      <td> 1422</td>\n",
        "    </tr>\n",
        "    <tr>\n",
        "      <th>20</th>\n",
        "      <td> [1795]</td>\n",
        "      <td> [1]</td>\n",
        "      <td>  527</td>\n",
        "    </tr>\n",
        "    <tr>\n",
        "      <th>21</th>\n",
        "      <td> [2425]</td>\n",
        "      <td> [2]</td>\n",
        "      <td> 1010</td>\n",
        "    </tr>\n",
        "    <tr>\n",
        "      <th>22</th>\n",
        "      <td> [2394]</td>\n",
        "      <td> [1]</td>\n",
        "      <td>  854</td>\n",
        "    </tr>\n",
        "    <tr>\n",
        "      <th>23</th>\n",
        "      <td> [1625]</td>\n",
        "      <td> [2]</td>\n",
        "      <td>  750</td>\n",
        "    </tr>\n",
        "    <tr>\n",
        "      <th>24</th>\n",
        "      <td> [2400]</td>\n",
        "      <td> [3]</td>\n",
        "      <td> 1576</td>\n",
        "    </tr>\n",
        "    <tr>\n",
        "      <th>25</th>\n",
        "      <td> [2600]</td>\n",
        "      <td> [3]</td>\n",
        "      <td>    3</td>\n",
        "    </tr>\n",
        "    <tr>\n",
        "      <th>26</th>\n",
        "      <td> [2200]</td>\n",
        "      <td> [3]</td>\n",
        "      <td> 1100</td>\n",
        "    </tr>\n",
        "    <tr>\n",
        "      <th>27</th>\n",
        "      <td> [3000]</td>\n",
        "      <td> [4]</td>\n",
        "      <td> 2184</td>\n",
        "    </tr>\n",
        "    <tr>\n",
        "      <th>28</th>\n",
        "      <td> [1820]</td>\n",
        "      <td> [1]</td>\n",
        "      <td>  650</td>\n",
        "    </tr>\n",
        "    <tr>\n",
        "      <th>29</th>\n",
        "      <td> [2295]</td>\n",
        "      <td> [2]</td>\n",
        "      <td>  980</td>\n",
        "    </tr>\n",
        "    <tr>\n",
        "      <th>30</th>\n",
        "      <td> [1926]</td>\n",
        "      <td> [1]</td>\n",
        "      <td>  704</td>\n",
        "    </tr>\n",
        "    <tr>\n",
        "      <th>31</th>\n",
        "      <td> [1995]</td>\n",
        "      <td> [2]</td>\n",
        "      <td> 1008</td>\n",
        "    </tr>\n",
        "    <tr>\n",
        "      <th>32</th>\n",
        "      <td> [2095]</td>\n",
        "      <td> [2]</td>\n",
        "      <td>  980</td>\n",
        "    </tr>\n",
        "    <tr>\n",
        "      <th>33</th>\n",
        "      <td> [2278]</td>\n",
        "      <td> [2]</td>\n",
        "      <td>  985</td>\n",
        "    </tr>\n",
        "    <tr>\n",
        "      <th>34</th>\n",
        "      <td> [2600]</td>\n",
        "      <td> [3]</td>\n",
        "      <td> 1442</td>\n",
        "    </tr>\n",
        "    <tr>\n",
        "      <th>35</th>\n",
        "      <td> [2988]</td>\n",
        "      <td> [4]</td>\n",
        "      <td> 1617</td>\n",
        "    </tr>\n",
        "    <tr>\n",
        "      <th>36</th>\n",
        "      <td> [2700]</td>\n",
        "      <td> [4]</td>\n",
        "      <td> 1500</td>\n",
        "    </tr>\n",
        "    <tr>\n",
        "      <th>37</th>\n",
        "      <td> [2410]</td>\n",
        "      <td> [2]</td>\n",
        "      <td>  901</td>\n",
        "    </tr>\n",
        "    <tr>\n",
        "      <th>38</th>\n",
        "      <td> [1547]</td>\n",
        "      <td> [1]</td>\n",
        "      <td>  660</td>\n",
        "    </tr>\n",
        "    <tr>\n",
        "      <th>39</th>\n",
        "      <td> [1845]</td>\n",
        "      <td> [1]</td>\n",
        "      <td>  650</td>\n",
        "    </tr>\n",
        "    <tr>\n",
        "      <th>40</th>\n",
        "      <td> [1760]</td>\n",
        "      <td> [1]</td>\n",
        "      <td>    0</td>\n",
        "    </tr>\n",
        "    <tr>\n",
        "      <th>41</th>\n",
        "      <td>  [650]</td>\n",
        "      <td> [1]</td>\n",
        "      <td>    0</td>\n",
        "    </tr>\n",
        "    <tr>\n",
        "      <th>42</th>\n",
        "      <td> [2095]</td>\n",
        "      <td> [1]</td>\n",
        "      <td>  734</td>\n",
        "    </tr>\n",
        "    <tr>\n",
        "      <th>43</th>\n",
        "      <td> [1950]</td>\n",
        "      <td> [1]</td>\n",
        "      <td>  710</td>\n",
        "    </tr>\n",
        "    <tr>\n",
        "      <th>44</th>\n",
        "      <td> [3200]</td>\n",
        "      <td> [4]</td>\n",
        "      <td> 2100</td>\n",
        "    </tr>\n",
        "    <tr>\n",
        "      <th>45</th>\n",
        "      <td> [2249]</td>\n",
        "      <td> [2]</td>\n",
        "      <td>    2</td>\n",
        "    </tr>\n",
        "    <tr>\n",
        "      <th>46</th>\n",
        "      <td> [3250]</td>\n",
        "      <td> [4]</td>\n",
        "      <td> 1866</td>\n",
        "    </tr>\n",
        "    <tr>\n",
        "      <th>47</th>\n",
        "      <td> [1760]</td>\n",
        "      <td> [1]</td>\n",
        "      <td>    0</td>\n",
        "    </tr>\n",
        "    <tr>\n",
        "      <th>48</th>\n",
        "      <td> [1795]</td>\n",
        "      <td> [1]</td>\n",
        "      <td>  527</td>\n",
        "    </tr>\n",
        "    <tr>\n",
        "      <th>49</th>\n",
        "      <td> [1848]</td>\n",
        "      <td> [1]</td>\n",
        "      <td>  680</td>\n",
        "    </tr>\n",
        "    <tr>\n",
        "      <th>50</th>\n",
        "      <td> [2384]</td>\n",
        "      <td> [1]</td>\n",
        "      <td>  877</td>\n",
        "    </tr>\n",
        "    <tr>\n",
        "      <th>51</th>\n",
        "      <td>    NaN</td>\n",
        "      <td> NaN</td>\n",
        "      <td>  NaN</td>\n",
        "    </tr>\n",
        "    <tr>\n",
        "      <th>52</th>\n",
        "      <td>    NaN</td>\n",
        "      <td> NaN</td>\n",
        "      <td>  NaN</td>\n",
        "    </tr>\n",
        "    <tr>\n",
        "      <th>53</th>\n",
        "      <td>    NaN</td>\n",
        "      <td> NaN</td>\n",
        "      <td>  NaN</td>\n",
        "    </tr>\n",
        "    <tr>\n",
        "      <th>54</th>\n",
        "      <td>    NaN</td>\n",
        "      <td> NaN</td>\n",
        "      <td>  NaN</td>\n",
        "    </tr>\n",
        "    <tr>\n",
        "      <th>55</th>\n",
        "      <td>    NaN</td>\n",
        "      <td> NaN</td>\n",
        "      <td>  NaN</td>\n",
        "    </tr>\n",
        "    <tr>\n",
        "      <th>56</th>\n",
        "      <td>    NaN</td>\n",
        "      <td> NaN</td>\n",
        "      <td>  NaN</td>\n",
        "    </tr>\n",
        "    <tr>\n",
        "      <th>57</th>\n",
        "      <td>    NaN</td>\n",
        "      <td> NaN</td>\n",
        "      <td>  NaN</td>\n",
        "    </tr>\n",
        "    <tr>\n",
        "      <th>58</th>\n",
        "      <td>    NaN</td>\n",
        "      <td> NaN</td>\n",
        "      <td>  NaN</td>\n",
        "    </tr>\n",
        "    <tr>\n",
        "      <th>59</th>\n",
        "      <td>    NaN</td>\n",
        "      <td> NaN</td>\n",
        "      <td>  NaN</td>\n",
        "    </tr>\n",
        "    <tr>\n",
        "      <th></th>\n",
        "      <td>...</td>\n",
        "      <td>...</td>\n",
        "      <td>...</td>\n",
        "    </tr>\n",
        "  </tbody>\n",
        "</table>\n",
        "<p>501 rows \u00d7 3 columns</p>\n",
        "</div>"
       ],
       "metadata": {},
       "output_type": "pyout",
       "prompt_number": 53,
       "text": [
        "      rent beds   sft\n",
        "0   [2600]  [2]     2\n",
        "1   [2084]  [2]   750\n",
        "2   [1900]  [1]   737\n",
        "3   [1775]  [1]     0\n",
        "4   [1760]  [1]     0\n",
        "5   [2495]  [2]  1106\n",
        "6   [2600]  [4]  1321\n",
        "7   [4700]  [5]  3200\n",
        "8   [2000]  [2]   900\n",
        "9   [1875]  [1]   565\n",
        "10  [2000]  [1]   750\n",
        "11  [2595]  [2]  1081\n",
        "12  [1895]  [1]   650\n",
        "13  [2500]  [4]  1820\n",
        "14  [1795]  [1]   527\n",
        "15  [3100]  [3]  1500\n",
        "16  [2800]  [5]  1600\n",
        "17  [1950]  [1]   710\n",
        "18  [2800]  [3]  1752\n",
        "19  [2900]  [3]  1422\n",
        "20  [1795]  [1]   527\n",
        "21  [2425]  [2]  1010\n",
        "22  [2394]  [1]   854\n",
        "23  [1625]  [2]   750\n",
        "24  [2400]  [3]  1576\n",
        "25  [2600]  [3]     3\n",
        "26  [2200]  [3]  1100\n",
        "27  [3000]  [4]  2184\n",
        "28  [1820]  [1]   650\n",
        "29  [2295]  [2]   980\n",
        "30  [1926]  [1]   704\n",
        "31  [1995]  [2]  1008\n",
        "32  [2095]  [2]   980\n",
        "33  [2278]  [2]   985\n",
        "34  [2600]  [3]  1442\n",
        "35  [2988]  [4]  1617\n",
        "36  [2700]  [4]  1500\n",
        "37  [2410]  [2]   901\n",
        "38  [1547]  [1]   660\n",
        "39  [1845]  [1]   650\n",
        "40  [1760]  [1]     0\n",
        "41   [650]  [1]     0\n",
        "42  [2095]  [1]   734\n",
        "43  [1950]  [1]   710\n",
        "44  [3200]  [4]  2100\n",
        "45  [2249]  [2]     2\n",
        "46  [3250]  [4]  1866\n",
        "47  [1760]  [1]     0\n",
        "48  [1795]  [1]   527\n",
        "49  [1848]  [1]   680\n",
        "50  [2384]  [1]   877\n",
        "51     NaN  NaN   NaN\n",
        "52     NaN  NaN   NaN\n",
        "53     NaN  NaN   NaN\n",
        "54     NaN  NaN   NaN\n",
        "55     NaN  NaN   NaN\n",
        "56     NaN  NaN   NaN\n",
        "57     NaN  NaN   NaN\n",
        "58     NaN  NaN   NaN\n",
        "59     NaN  NaN   NaN\n",
        "       ...  ...   ...\n",
        "\n",
        "[501 rows x 3 columns]"
       ]
      }
     ],
     "prompt_number": 53
    }
   ],
   "metadata": {}
  }
 ]
}